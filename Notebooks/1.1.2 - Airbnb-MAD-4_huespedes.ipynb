{
 "cells": [
  {
   "cell_type": "code",
   "execution_count": 1,
   "id": "1b66949b",
   "metadata": {},
   "outputs": [],
   "source": [
    "from selenium import webdriver\n",
    "from selenium.webdriver.chrome.options import Options\n",
    "import time\n",
    "import pandas as pd\n",
    "from selenium.webdriver.support.ui import Select\n",
    "from webdriver_manager.chrome import ChromeDriverManager"
   ]
  },
  {
   "cell_type": "code",
   "execution_count": 2,
   "id": "2aaf5403",
   "metadata": {},
   "outputs": [],
   "source": [
    "opciones=Options()\n",
    "\n",
    "opciones.add_experimental_option('excludeSwitches', ['enable-automation'])\n",
    "opciones.add_experimental_option('useAutomationExtension', False)\n",
    "\n",
    "opciones.headless=False    # si True, no aperece la ventana (headless=no visible)\n",
    "\n",
    "opciones.add_argument('--start-maximized')         # comienza maximizado\n",
    "\n",
    "opciones.add_argument('user-data-dir=selenium')    # mantiene las cookies\n",
    "\n",
    "#opciones.add_extension('driver_folder/adblock.crx')       # adblocker\n",
    "\n",
    "opciones.add_argument('--incognito')              # incognito"
   ]
  },
  {
   "cell_type": "markdown",
   "id": "c4ead57f",
   "metadata": {},
   "source": [
    "# URLS"
   ]
  },
  {
   "cell_type": "markdown",
   "id": "dafb2021",
   "metadata": {},
   "source": [
    "# Madrid"
   ]
  },
  {
   "cell_type": "code",
   "execution_count": 10,
   "id": "0b6305da",
   "metadata": {},
   "outputs": [],
   "source": [
    "driver.quit()"
   ]
  },
  {
   "cell_type": "code",
   "execution_count": 11,
   "id": "43444a90",
   "metadata": {},
   "outputs": [
    {
     "name": "stderr",
     "output_type": "stream",
     "text": [
      "\n",
      "\n",
      "====== WebDriver manager ======\n",
      "Current google-chrome version is 96.0.4664\n",
      "Get LATEST chromedriver version for 96.0.4664 google-chrome\n",
      "Driver [/Users/franciscovispo/.wdm/drivers/chromedriver/mac64/96.0.4664.45/chromedriver] found in cache\n",
      "<ipython-input-11-e9c03cb3c869>:5: DeprecationWarning: executable_path has been deprecated, please pass in a Service object\n",
      "  driver = webdriver.Chrome(ChromeDriverManager().install(), options = opciones)\n",
      "<ipython-input-11-e9c03cb3c869>:11: DeprecationWarning: find_element_by_* commands are deprecated. Please use find_element() instead\n",
      "  driver.find_element_by_css_selector(\"body > div:nth-child(7) > div > div > div:nth-child(1) > div > div._1cgcei8 > section > div._gsw2t0 > div._160gnkxa > button\").click()\n",
      "<ipython-input-11-e9c03cb3c869>:15: DeprecationWarning: find_element_by_* commands are deprecated. Please use find_element() instead\n",
      "  urls_mad_1_1.append(driver.find_element_by_css_selector(f\"#site-content > div:nth-child(4) > div > div > div > div > div > div > div._1gw6tte > div > div > div > div > div > div:nth-child({i}) > div > div > div.c1tbui0o.ltlgcp.dir.dir-ltr > div > div > div > div._8s3ctt > div._1nz9l7j > div > div._e296pg > div._1mx6kqf > div > span > div > a\").get_attribute(\"href\"))\n"
     ]
    }
   ],
   "source": [
    "urls_mad_1_1 = []\n",
    "\n",
    "# set the url\n",
    "url = \"https://www.airbnb.es/s/Madrid/homes?tab_id=home_tab&refinement_paths%5B%5D=%2Fhomes&flexible_trip_dates%5B%5D=april&flexible_trip_dates%5B%5D=august&flexible_trip_dates%5B%5D=december&flexible_trip_dates%5B%5D=february&flexible_trip_dates%5B%5D=january&flexible_trip_dates%5B%5D=july&flexible_trip_dates%5B%5D=june&flexible_trip_dates%5B%5D=march&flexible_trip_dates%5B%5D=may&flexible_trip_dates%5B%5D=november&flexible_trip_dates%5B%5D=october&flexible_trip_dates%5B%5D=september&flexible_trip_lengths%5B%5D=weekend_trip&date_picker_type=flexible_dates&query=Madrid&place_id=ChIJgTwKgJcpQg0RaSKMYcHeNsQ&adults=5&source=structured_search_input_header&search_type=filter_change&federated_search_session_id=fadcee9b-7d03-4784-a177-6c4e2dd4b724&pagination_search=truedriver = webdriver.Chrome(ChromeDriverManager().install(), options = opciones)\"\n",
    "driver = webdriver.Chrome(ChromeDriverManager().install(), options = opciones)\n",
    "\n",
    "#cookies 1\n",
    "driver.implicitly_wait(2)\n",
    "driver.get(url)\n",
    "driver.implicitly_wait(6)\n",
    "driver.find_element_by_css_selector(\"body > div:nth-child(7) > div > div > div:nth-child(1) > div > div._1cgcei8 > section > div._gsw2t0 > div._160gnkxa > button\").click()\n",
    "\n",
    "for i in range (1,21):\n",
    "        time.sleep(2)\n",
    "        urls_mad_1_1.append(driver.find_element_by_css_selector(f\"#site-content > div:nth-child(3) > div > div > div > div > div > div > div._1gw6tte > div > div > div > div > div > div:nth-child({i}) > div > div > div.c1tbui0o.ltlgcp.dir.dir-ltr > div > div > div > div._8s3ctt > div._1nz9l7j > div > div._e296pg > div._1mx6kqf > div > span > div > a\").get_attribute(\"href\"))\n",
    "\n",
    "driver.quit()\n",
    "    "
   ]
  },
  {
   "cell_type": "code",
   "execution_count": 12,
   "id": "51b32d94",
   "metadata": {},
   "outputs": [
    {
     "data": {
      "text/plain": [
       "20"
      ]
     },
     "execution_count": 12,
     "metadata": {},
     "output_type": "execute_result"
    }
   ],
   "source": [
    "len(urls_mad_1_1)"
   ]
  },
  {
   "cell_type": "code",
   "execution_count": 15,
   "id": "b29026c5",
   "metadata": {},
   "outputs": [
    {
     "name": "stderr",
     "output_type": "stream",
     "text": [
      "\n",
      "\n",
      "====== WebDriver manager ======\n",
      "Current google-chrome version is 96.0.4664\n",
      "Get LATEST chromedriver version for 96.0.4664 google-chrome\n",
      "Driver [/Users/franciscovispo/.wdm/drivers/chromedriver/mac64/96.0.4664.45/chromedriver] found in cache\n",
      "<ipython-input-15-5c30adf16131>:5: DeprecationWarning: executable_path has been deprecated, please pass in a Service object\n",
      "  driver = webdriver.Chrome(ChromeDriverManager().install(), options = opciones)\n",
      "<ipython-input-15-5c30adf16131>:12: DeprecationWarning: find_element_by_* commands are deprecated. Please use find_element() instead\n",
      "  driver.find_element_by_css_selector(\"body > div:nth-child(7) > div > div > div:nth-child(1) > div > div._1cgcei8 > section > div._gsw2t0 > div._160gnkxa > button\").click()\n",
      "<ipython-input-15-5c30adf16131>:17: DeprecationWarning: find_element_by_* commands are deprecated. Please use find_element() instead\n",
      "  urls_mad_1_2.append(driver.find_element_by_css_selector(f\"#site-content > div:nth-child(3) > div > div > div > div > div > div > div._1gw6tte > div > div > div > div > div > div:nth-child({i}) > div > div > div.c1tbui0o.ltlgcp.dir.dir-ltr > div > div > div > div._8s3ctt > div._1nz9l7j > div > div._e296pg > div._1mx6kqf > div > span > div > a\").get_attribute(\"href\"))\n"
     ]
    }
   ],
   "source": [
    "urls_mad_1_2 = []\n",
    "\n",
    "# set the url\n",
    "url = \"https://www.airbnb.es/s/Madrid/homes?tab_id=home_tab&refinement_paths%5B%5D=%2Fhomes&flexible_trip_dates%5B%5D=april&flexible_trip_dates%5B%5D=august&flexible_trip_dates%5B%5D=december&flexible_trip_dates%5B%5D=february&flexible_trip_dates%5B%5D=january&flexible_trip_dates%5B%5D=july&flexible_trip_dates%5B%5D=june&flexible_trip_dates%5B%5D=march&flexible_trip_dates%5B%5D=may&flexible_trip_dates%5B%5D=november&flexible_trip_dates%5B%5D=october&flexible_trip_dates%5B%5D=september&flexible_trip_lengths%5B%5D=weekend_trip&date_picker_type=flexible_dates&query=Madrid&place_id=ChIJgTwKgJcpQg0RaSKMYcHeNsQ&adults=5&source=structured_search_input_header&search_type=filter_change&federated_search_session_id=fadcee9b-7d03-4784-a177-6c4e2dd4b724&pagination_search=true&items_offset=20&section_offset=2\"\n",
    "driver = webdriver.Chrome(ChromeDriverManager().install(), options = opciones)\n",
    "\n",
    "#cookies 1\n",
    "driver.implicitly_wait(2)\n",
    "driver.get(url)\n",
    "driver.implicitly_wait(2)\n",
    "time.sleep(2)\n",
    "driver.find_element_by_css_selector(\"body > div:nth-child(7) > div > div > div:nth-child(1) > div > div._1cgcei8 > section > div._gsw2t0 > div._160gnkxa > button\").click()\n",
    "\n",
    "for i in range (1,21):\n",
    "        driver.implicitly_wait(2)\n",
    "        time.sleep(2)\n",
    "        urls_mad_1_2.append(driver.find_element_by_css_selector(f\"#site-content > div:nth-child(3) > div > div > div > div > div > div > div._1gw6tte > div > div > div > div > div > div:nth-child({i}) > div > div > div.c1tbui0o.ltlgcp.dir.dir-ltr > div > div > div > div._8s3ctt > div._1nz9l7j > div > div._e296pg > div._1mx6kqf > div > span > div > a\").get_attribute(\"href\"))\n",
    "\n",
    "driver.quit()\n",
    "        "
   ]
  },
  {
   "cell_type": "code",
   "execution_count": 16,
   "id": "1a274900",
   "metadata": {},
   "outputs": [
    {
     "data": {
      "text/plain": [
       "20"
      ]
     },
     "execution_count": 16,
     "metadata": {},
     "output_type": "execute_result"
    }
   ],
   "source": [
    "len(urls_mad_1_2)"
   ]
  },
  {
   "cell_type": "code",
   "execution_count": 18,
   "id": "e7f03c37",
   "metadata": {},
   "outputs": [
    {
     "name": "stderr",
     "output_type": "stream",
     "text": [
      "\n",
      "\n",
      "====== WebDriver manager ======\n",
      "Current google-chrome version is 96.0.4664\n",
      "Get LATEST chromedriver version for 96.0.4664 google-chrome\n",
      "Driver [/Users/franciscovispo/.wdm/drivers/chromedriver/mac64/96.0.4664.45/chromedriver] found in cache\n",
      "<ipython-input-18-58b38410b0d2>:5: DeprecationWarning: executable_path has been deprecated, please pass in a Service object\n",
      "  driver = webdriver.Chrome(ChromeDriverManager().install(), options = opciones)\n",
      "<ipython-input-18-58b38410b0d2>:12: DeprecationWarning: find_element_by_* commands are deprecated. Please use find_element() instead\n",
      "  driver.find_element_by_css_selector(\"body > div:nth-child(7) > div > div > div:nth-child(1) > div > div._1cgcei8 > section > div._gsw2t0 > div._160gnkxa > button\").click()\n",
      "<ipython-input-18-58b38410b0d2>:17: DeprecationWarning: find_element_by_* commands are deprecated. Please use find_element() instead\n",
      "  urls_mad_1_3.append(driver.find_element_by_css_selector(f\"#site-content > div:nth-child(3) > div > div > div > div > div > div > div._1gw6tte > div > div > div > div > div > div:nth-child({i}) > div > div > div.c1tbui0o.ltlgcp.dir.dir-ltr > div > div > div > div._8s3ctt > div._1nz9l7j > div > div._e296pg > div._1mx6kqf > div > span > div > a\").get_attribute(\"href\"))\n"
     ]
    }
   ],
   "source": [
    "urls_mad_1_3 = []\n",
    "\n",
    "# set the url\n",
    "url = \"https://www.airbnb.es/s/Madrid/homes?tab_id=home_tab&refinement_paths%5B%5D=%2Fhomes&flexible_trip_dates%5B%5D=april&flexible_trip_dates%5B%5D=august&flexible_trip_dates%5B%5D=december&flexible_trip_dates%5B%5D=february&flexible_trip_dates%5B%5D=january&flexible_trip_dates%5B%5D=july&flexible_trip_dates%5B%5D=june&flexible_trip_dates%5B%5D=march&flexible_trip_dates%5B%5D=may&flexible_trip_dates%5B%5D=november&flexible_trip_dates%5B%5D=october&flexible_trip_dates%5B%5D=september&flexible_trip_lengths%5B%5D=weekend_trip&date_picker_type=flexible_dates&query=Madrid&place_id=ChIJgTwKgJcpQg0RaSKMYcHeNsQ&adults=5&source=structured_search_input_header&search_type=filter_change&federated_search_session_id=fadcee9b-7d03-4784-a177-6c4e2dd4b724&pagination_search=true&items_offset=40&section_offset=2\"\n",
    "driver = webdriver.Chrome(ChromeDriverManager().install(), options = opciones)\n",
    "\n",
    "#cookies 1\n",
    "driver.implicitly_wait(2)\n",
    "driver.get(url)\n",
    "driver.implicitly_wait(2)\n",
    "time.sleep(2)\n",
    "driver.find_element_by_css_selector(\"body > div:nth-child(7) > div > div > div:nth-child(1) > div > div._1cgcei8 > section > div._gsw2t0 > div._160gnkxa > button\").click()\n",
    "\n",
    "for i in range (1,21):\n",
    "        driver.implicitly_wait(2)\n",
    "        time.sleep(2)\n",
    "        urls_mad_1_3.append(driver.find_element_by_css_selector(f\"#site-content > div:nth-child(3) > div > div > div > div > div > div > div._1gw6tte > div > div > div > div > div > div:nth-child({i}) > div > div > div.c1tbui0o.ltlgcp.dir.dir-ltr > div > div > div > div._8s3ctt > div._1nz9l7j > div > div._e296pg > div._1mx6kqf > div > span > div > a\").get_attribute(\"href\"))\n",
    "\n",
    "driver.quit()"
   ]
  },
  {
   "cell_type": "code",
   "execution_count": 19,
   "id": "fb535940",
   "metadata": {},
   "outputs": [
    {
     "data": {
      "text/plain": [
       "20"
      ]
     },
     "execution_count": 19,
     "metadata": {},
     "output_type": "execute_result"
    }
   ],
   "source": [
    "len(urls_mad_1_3)"
   ]
  },
  {
   "cell_type": "code",
   "execution_count": 21,
   "id": "793236aa",
   "metadata": {},
   "outputs": [
    {
     "name": "stderr",
     "output_type": "stream",
     "text": [
      "\n",
      "\n",
      "====== WebDriver manager ======\n",
      "Current google-chrome version is 96.0.4664\n",
      "Get LATEST chromedriver version for 96.0.4664 google-chrome\n",
      "Driver [/Users/franciscovispo/.wdm/drivers/chromedriver/mac64/96.0.4664.45/chromedriver] found in cache\n",
      "<ipython-input-21-3518dc4a06b0>:5: DeprecationWarning: executable_path has been deprecated, please pass in a Service object\n",
      "  driver = webdriver.Chrome(ChromeDriverManager().install(), options = opciones)\n",
      "<ipython-input-21-3518dc4a06b0>:12: DeprecationWarning: find_element_by_* commands are deprecated. Please use find_element() instead\n",
      "  driver.find_element_by_css_selector(\"body > div:nth-child(7) > div > div > div:nth-child(1) > div > div._1cgcei8 > section > div._gsw2t0 > div._160gnkxa > button\").click()\n",
      "<ipython-input-21-3518dc4a06b0>:17: DeprecationWarning: find_element_by_* commands are deprecated. Please use find_element() instead\n",
      "  urls_mad_1_4.append(driver.find_element_by_css_selector(f\"#site-content > div:nth-child(3) > div > div > div > div > div > div > div._1gw6tte > div > div > div > div > div > div:nth-child({i}) > div > div > div.c1tbui0o.ltlgcp.dir.dir-ltr > div > div > div > div._8s3ctt > div._1nz9l7j > div > div._e296pg > div._1mx6kqf > div > span > div > a\").get_attribute(\"href\"))\n"
     ]
    }
   ],
   "source": [
    "urls_mad_1_4 = []\n",
    "\n",
    "# set the url\n",
    "url = \"https://www.airbnb.es/s/Madrid/homes?tab_id=home_tab&refinement_paths%5B%5D=%2Fhomes&flexible_trip_dates%5B%5D=april&flexible_trip_dates%5B%5D=august&flexible_trip_dates%5B%5D=december&flexible_trip_dates%5B%5D=february&flexible_trip_dates%5B%5D=january&flexible_trip_dates%5B%5D=july&flexible_trip_dates%5B%5D=june&flexible_trip_dates%5B%5D=march&flexible_trip_dates%5B%5D=may&flexible_trip_dates%5B%5D=november&flexible_trip_dates%5B%5D=october&flexible_trip_dates%5B%5D=september&flexible_trip_lengths%5B%5D=weekend_trip&date_picker_type=flexible_dates&query=Madrid&place_id=ChIJgTwKgJcpQg0RaSKMYcHeNsQ&adults=5&source=structured_search_input_header&search_type=filter_change&federated_search_session_id=fadcee9b-7d03-4784-a177-6c4e2dd4b724&pagination_search=true&items_offset=60&section_offset=2\"\n",
    "driver = webdriver.Chrome(ChromeDriverManager().install(), options = opciones)\n",
    "\n",
    "#cookies 1\n",
    "driver.implicitly_wait(2)\n",
    "driver.get(url)\n",
    "driver.implicitly_wait(2)\n",
    "time.sleep(2)\n",
    "driver.find_element_by_css_selector(\"body > div:nth-child(7) > div > div > div:nth-child(1) > div > div._1cgcei8 > section > div._gsw2t0 > div._160gnkxa > button\").click()\n",
    "\n",
    "for i in range (1,21):\n",
    "        driver.implicitly_wait(2)\n",
    "        time.sleep(1)\n",
    "        urls_mad_1_4.append(driver.find_element_by_css_selector(f\"#site-content > div:nth-child(3) > div > div > div > div > div > div > div._1gw6tte > div > div > div > div > div > div:nth-child({i}) > div > div > div.c1tbui0o.ltlgcp.dir.dir-ltr > div > div > div > div._8s3ctt > div._1nz9l7j > div > div._e296pg > div._1mx6kqf > div > span > div > a\").get_attribute(\"href\"))\n",
    "\n",
    "driver.quit()"
   ]
  },
  {
   "cell_type": "code",
   "execution_count": 22,
   "id": "1a0f28f0",
   "metadata": {},
   "outputs": [
    {
     "data": {
      "text/plain": [
       "20"
      ]
     },
     "execution_count": 22,
     "metadata": {},
     "output_type": "execute_result"
    }
   ],
   "source": [
    "len(urls_mad_1_4)"
   ]
  },
  {
   "cell_type": "code",
   "execution_count": 24,
   "id": "61679a88",
   "metadata": {},
   "outputs": [
    {
     "name": "stderr",
     "output_type": "stream",
     "text": [
      "\n",
      "\n",
      "====== WebDriver manager ======\n",
      "Current google-chrome version is 96.0.4664\n",
      "Get LATEST chromedriver version for 96.0.4664 google-chrome\n",
      "Driver [/Users/franciscovispo/.wdm/drivers/chromedriver/mac64/96.0.4664.45/chromedriver] found in cache\n",
      "<ipython-input-24-e0d781a17590>:5: DeprecationWarning: executable_path has been deprecated, please pass in a Service object\n",
      "  driver = webdriver.Chrome(ChromeDriverManager().install(), options = opciones)\n",
      "<ipython-input-24-e0d781a17590>:12: DeprecationWarning: find_element_by_* commands are deprecated. Please use find_element() instead\n",
      "  driver.find_element_by_css_selector(\"body > div:nth-child(7) > div > div > div:nth-child(1) > div > div._1cgcei8 > section > div._gsw2t0 > div._160gnkxa > button\").click()\n",
      "<ipython-input-24-e0d781a17590>:17: DeprecationWarning: find_element_by_* commands are deprecated. Please use find_element() instead\n",
      "  urls_mad_1_5.append(driver.find_element_by_css_selector(f\"#site-content > div:nth-child(3) > div > div > div > div > div > div > div._1gw6tte > div > div > div > div > div > div:nth-child({i}) > div > div > div.c1tbui0o.ltlgcp.dir.dir-ltr > div > div > div > div._8s3ctt > div._1nz9l7j > div > div._e296pg > div._1mx6kqf > div > span > div > a\").get_attribute(\"href\"))\n"
     ]
    }
   ],
   "source": [
    "urls_mad_1_5 = []\n",
    "\n",
    "# set the url\n",
    "url = \"https://www.airbnb.es/s/Madrid/homes?tab_id=home_tab&refinement_paths%5B%5D=%2Fhomes&flexible_trip_dates%5B%5D=april&flexible_trip_dates%5B%5D=august&flexible_trip_dates%5B%5D=december&flexible_trip_dates%5B%5D=february&flexible_trip_dates%5B%5D=january&flexible_trip_dates%5B%5D=july&flexible_trip_dates%5B%5D=june&flexible_trip_dates%5B%5D=march&flexible_trip_dates%5B%5D=may&flexible_trip_dates%5B%5D=november&flexible_trip_dates%5B%5D=october&flexible_trip_dates%5B%5D=september&flexible_trip_lengths%5B%5D=weekend_trip&date_picker_type=flexible_dates&query=Madrid&place_id=ChIJgTwKgJcpQg0RaSKMYcHeNsQ&adults=5&source=structured_search_input_header&search_type=filter_change&federated_search_session_id=fadcee9b-7d03-4784-a177-6c4e2dd4b724&pagination_search=true&items_offset=80&section_offset=2\"\n",
    "driver = webdriver.Chrome(ChromeDriverManager().install(), options = opciones)\n",
    "\n",
    "#cookies 1\n",
    "driver.implicitly_wait(2)\n",
    "driver.get(url)\n",
    "driver.implicitly_wait(2)\n",
    "time.sleep(2)\n",
    "driver.find_element_by_css_selector(\"body > div:nth-child(7) > div > div > div:nth-child(1) > div > div._1cgcei8 > section > div._gsw2t0 > div._160gnkxa > button\").click()\n",
    "\n",
    "for i in range (1,21):\n",
    "        driver.implicitly_wait(2)\n",
    "        time.sleep(1)\n",
    "        urls_mad_1_5.append(driver.find_element_by_css_selector(f\"#site-content > div:nth-child(3) > div > div > div > div > div > div > div._1gw6tte > div > div > div > div > div > div:nth-child({i}) > div > div > div.c1tbui0o.ltlgcp.dir.dir-ltr > div > div > div > div._8s3ctt > div._1nz9l7j > div > div._e296pg > div._1mx6kqf > div > span > div > a\").get_attribute(\"href\"))\n",
    "\n",
    "driver.quit()"
   ]
  },
  {
   "cell_type": "code",
   "execution_count": 25,
   "id": "59b94446",
   "metadata": {},
   "outputs": [
    {
     "data": {
      "text/plain": [
       "20"
      ]
     },
     "execution_count": 25,
     "metadata": {},
     "output_type": "execute_result"
    }
   ],
   "source": [
    "len(urls_mad_1_5)"
   ]
  },
  {
   "cell_type": "code",
   "execution_count": 27,
   "id": "21c7bc85",
   "metadata": {},
   "outputs": [
    {
     "name": "stderr",
     "output_type": "stream",
     "text": [
      "\n",
      "\n",
      "====== WebDriver manager ======\n",
      "Current google-chrome version is 96.0.4664\n",
      "Get LATEST chromedriver version for 96.0.4664 google-chrome\n",
      "Driver [/Users/franciscovispo/.wdm/drivers/chromedriver/mac64/96.0.4664.45/chromedriver] found in cache\n",
      "<ipython-input-27-a7f5c231c0ff>:5: DeprecationWarning: executable_path has been deprecated, please pass in a Service object\n",
      "  driver = webdriver.Chrome(ChromeDriverManager().install(), options = opciones)\n",
      "<ipython-input-27-a7f5c231c0ff>:12: DeprecationWarning: find_element_by_* commands are deprecated. Please use find_element() instead\n",
      "  driver.find_element_by_css_selector(\"body > div:nth-child(7) > div > div > div:nth-child(1) > div > div._1cgcei8 > section > div._gsw2t0 > div._160gnkxa > button\").click()\n",
      "<ipython-input-27-a7f5c231c0ff>:17: DeprecationWarning: find_element_by_* commands are deprecated. Please use find_element() instead\n",
      "  urls_mad_1_6.append(driver.find_element_by_css_selector(f\"#site-content > div:nth-child(3) > div > div > div > div > div > div > div._1gw6tte > div > div > div > div > div > div:nth-child({i}) > div > div > div.c1tbui0o.ltlgcp.dir.dir-ltr > div > div > div > div._8s3ctt > div._1nz9l7j > div > div._e296pg > div._1mx6kqf > div > span > div > a\").get_attribute(\"href\"))\n"
     ]
    }
   ],
   "source": [
    "urls_mad_1_6 = []\n",
    "\n",
    "# set the url\n",
    "url = \"https://www.airbnb.es/s/Madrid/homes?tab_id=home_tab&refinement_paths%5B%5D=%2Fhomes&flexible_trip_dates%5B%5D=april&flexible_trip_dates%5B%5D=august&flexible_trip_dates%5B%5D=december&flexible_trip_dates%5B%5D=february&flexible_trip_dates%5B%5D=january&flexible_trip_dates%5B%5D=july&flexible_trip_dates%5B%5D=june&flexible_trip_dates%5B%5D=march&flexible_trip_dates%5B%5D=may&flexible_trip_dates%5B%5D=november&flexible_trip_dates%5B%5D=october&flexible_trip_dates%5B%5D=september&flexible_trip_lengths%5B%5D=weekend_trip&date_picker_type=flexible_dates&query=Madrid&place_id=ChIJgTwKgJcpQg0RaSKMYcHeNsQ&adults=5&source=structured_search_input_header&search_type=filter_change&federated_search_session_id=fadcee9b-7d03-4784-a177-6c4e2dd4b724&pagination_search=true&items_offset=100&section_offset=2\"\n",
    "driver = webdriver.Chrome(ChromeDriverManager().install(), options = opciones)\n",
    "\n",
    "#cookies 1\n",
    "driver.implicitly_wait(2)\n",
    "driver.get(url)\n",
    "driver.implicitly_wait(2)\n",
    "time.sleep(2)\n",
    "driver.find_element_by_css_selector(\"body > div:nth-child(7) > div > div > div:nth-child(1) > div > div._1cgcei8 > section > div._gsw2t0 > div._160gnkxa > button\").click()\n",
    "\n",
    "for i in range (1,21):\n",
    "        driver.implicitly_wait(2)\n",
    "        time.sleep(1)\n",
    "        urls_mad_1_6.append(driver.find_element_by_css_selector(f\"#site-content > div:nth-child(3) > div > div > div > div > div > div > div._1gw6tte > div > div > div > div > div > div:nth-child({i}) > div > div > div.c1tbui0o.ltlgcp.dir.dir-ltr > div > div > div > div._8s3ctt > div._1nz9l7j > div > div._e296pg > div._1mx6kqf > div > span > div > a\").get_attribute(\"href\"))\n",
    "\n",
    "driver.quit()"
   ]
  },
  {
   "cell_type": "code",
   "execution_count": 28,
   "id": "1cce9fd7",
   "metadata": {},
   "outputs": [
    {
     "data": {
      "text/plain": [
       "20"
      ]
     },
     "execution_count": 28,
     "metadata": {},
     "output_type": "execute_result"
    }
   ],
   "source": [
    "len(urls_mad_1_6)"
   ]
  },
  {
   "cell_type": "code",
   "execution_count": 30,
   "id": "ad8b6e69",
   "metadata": {},
   "outputs": [
    {
     "name": "stderr",
     "output_type": "stream",
     "text": [
      "\n",
      "\n",
      "====== WebDriver manager ======\n",
      "Current google-chrome version is 96.0.4664\n",
      "Get LATEST chromedriver version for 96.0.4664 google-chrome\n",
      "Driver [/Users/franciscovispo/.wdm/drivers/chromedriver/mac64/96.0.4664.45/chromedriver] found in cache\n",
      "<ipython-input-30-627a02860f32>:5: DeprecationWarning: executable_path has been deprecated, please pass in a Service object\n",
      "  driver = webdriver.Chrome(ChromeDriverManager().install(), options = opciones)\n",
      "<ipython-input-30-627a02860f32>:12: DeprecationWarning: find_element_by_* commands are deprecated. Please use find_element() instead\n",
      "  driver.find_element_by_css_selector(\"body > div:nth-child(7) > div > div > div:nth-child(1) > div > div._1cgcei8 > section > div._gsw2t0 > div._160gnkxa > button\").click()\n",
      "<ipython-input-30-627a02860f32>:17: DeprecationWarning: find_element_by_* commands are deprecated. Please use find_element() instead\n",
      "  urls_mad_1_7.append(driver.find_element_by_css_selector(f\"#site-content > div:nth-child(3) > div > div > div > div > div > div > div._1gw6tte > div > div > div > div > div > div:nth-child({i}) > div > div > div.c1tbui0o.ltlgcp.dir.dir-ltr > div > div > div > div._8s3ctt > div._1nz9l7j > div > div._e296pg > div._1mx6kqf > div > span > div > a\").get_attribute(\"href\"))\n"
     ]
    }
   ],
   "source": [
    "urls_mad_1_7 = []\n",
    "\n",
    "# set the url\n",
    "url = \"https://www.airbnb.es/s/Madrid/homes?tab_id=home_tab&refinement_paths%5B%5D=%2Fhomes&flexible_trip_dates%5B%5D=april&flexible_trip_dates%5B%5D=august&flexible_trip_dates%5B%5D=december&flexible_trip_dates%5B%5D=february&flexible_trip_dates%5B%5D=january&flexible_trip_dates%5B%5D=july&flexible_trip_dates%5B%5D=june&flexible_trip_dates%5B%5D=march&flexible_trip_dates%5B%5D=may&flexible_trip_dates%5B%5D=november&flexible_trip_dates%5B%5D=october&flexible_trip_dates%5B%5D=september&flexible_trip_lengths%5B%5D=weekend_trip&date_picker_type=flexible_dates&query=Madrid&place_id=ChIJgTwKgJcpQg0RaSKMYcHeNsQ&adults=5&source=structured_search_input_header&search_type=filter_change&federated_search_session_id=fadcee9b-7d03-4784-a177-6c4e2dd4b724&pagination_search=true&items_offset=120&section_offset=2\"\n",
    "driver = webdriver.Chrome(ChromeDriverManager().install(), options = opciones)\n",
    "\n",
    "#cookies 1\n",
    "driver.implicitly_wait(2)\n",
    "driver.get(url)\n",
    "driver.implicitly_wait(2)\n",
    "time.sleep(2)\n",
    "driver.find_element_by_css_selector(\"body > div:nth-child(7) > div > div > div:nth-child(1) > div > div._1cgcei8 > section > div._gsw2t0 > div._160gnkxa > button\").click()\n",
    "\n",
    "for i in range (1,21):\n",
    "        driver.implicitly_wait(2)\n",
    "        time.sleep(1)\n",
    "        urls_mad_1_7.append(driver.find_element_by_css_selector(f\"#site-content > div:nth-child(3) > div > div > div > div > div > div > div._1gw6tte > div > div > div > div > div > div:nth-child({i}) > div > div > div.c1tbui0o.ltlgcp.dir.dir-ltr > div > div > div > div._8s3ctt > div._1nz9l7j > div > div._e296pg > div._1mx6kqf > div > span > div > a\").get_attribute(\"href\"))\n",
    "\n",
    "driver.quit()"
   ]
  },
  {
   "cell_type": "code",
   "execution_count": 31,
   "id": "5f8196ee",
   "metadata": {},
   "outputs": [
    {
     "data": {
      "text/plain": [
       "20"
      ]
     },
     "execution_count": 31,
     "metadata": {},
     "output_type": "execute_result"
    }
   ],
   "source": [
    "len(urls_mad_1_7)"
   ]
  },
  {
   "cell_type": "code",
   "execution_count": 33,
   "id": "f5f18da3",
   "metadata": {},
   "outputs": [
    {
     "name": "stderr",
     "output_type": "stream",
     "text": [
      "\n",
      "\n",
      "====== WebDriver manager ======\n",
      "Current google-chrome version is 96.0.4664\n",
      "Get LATEST chromedriver version for 96.0.4664 google-chrome\n",
      "Driver [/Users/franciscovispo/.wdm/drivers/chromedriver/mac64/96.0.4664.45/chromedriver] found in cache\n",
      "<ipython-input-33-61141639d16f>:5: DeprecationWarning: executable_path has been deprecated, please pass in a Service object\n",
      "  driver = webdriver.Chrome(ChromeDriverManager().install(), options = opciones)\n",
      "<ipython-input-33-61141639d16f>:12: DeprecationWarning: find_element_by_* commands are deprecated. Please use find_element() instead\n",
      "  driver.find_element_by_css_selector(\"body > div:nth-child(7) > div > div > div:nth-child(1) > div > div._1cgcei8 > section > div._gsw2t0 > div._160gnkxa > button\").click()\n",
      "<ipython-input-33-61141639d16f>:17: DeprecationWarning: find_element_by_* commands are deprecated. Please use find_element() instead\n",
      "  urls_mad_1_8.append(driver.find_element_by_css_selector(f\"#site-content > div:nth-child(3) > div > div > div > div > div > div > div._1gw6tte > div > div > div > div > div > div:nth-child({i}) > div > div > div.c1tbui0o.ltlgcp.dir.dir-ltr > div > div > div > div._8s3ctt > div._1nz9l7j > div > div._e296pg > div._1mx6kqf > div > span > div > a\").get_attribute(\"href\"))\n"
     ]
    }
   ],
   "source": [
    "urls_mad_1_8 = []\n",
    "\n",
    "# set the url\n",
    "url = \"https://www.airbnb.es/s/Madrid/homes?tab_id=home_tab&refinement_paths%5B%5D=%2Fhomes&flexible_trip_dates%5B%5D=april&flexible_trip_dates%5B%5D=august&flexible_trip_dates%5B%5D=december&flexible_trip_dates%5B%5D=february&flexible_trip_dates%5B%5D=january&flexible_trip_dates%5B%5D=july&flexible_trip_dates%5B%5D=june&flexible_trip_dates%5B%5D=march&flexible_trip_dates%5B%5D=may&flexible_trip_dates%5B%5D=november&flexible_trip_dates%5B%5D=october&flexible_trip_dates%5B%5D=september&flexible_trip_lengths%5B%5D=weekend_trip&date_picker_type=flexible_dates&query=Madrid&place_id=ChIJgTwKgJcpQg0RaSKMYcHeNsQ&adults=5&source=structured_search_input_header&search_type=filter_change&federated_search_session_id=fadcee9b-7d03-4784-a177-6c4e2dd4b724&pagination_search=true&items_offset=140&section_offset=2\"\n",
    "driver = webdriver.Chrome(ChromeDriverManager().install(), options = opciones)\n",
    "\n",
    "#cookies 1\n",
    "driver.implicitly_wait(2)\n",
    "driver.get(url)\n",
    "driver.implicitly_wait(2)\n",
    "time.sleep(2)\n",
    "driver.find_element_by_css_selector(\"body > div:nth-child(7) > div > div > div:nth-child(1) > div > div._1cgcei8 > section > div._gsw2t0 > div._160gnkxa > button\").click()\n",
    "\n",
    "for i in range (1,21):\n",
    "        driver.implicitly_wait(2)\n",
    "        time.sleep(1)\n",
    "        urls_mad_1_8.append(driver.find_element_by_css_selector(f\"#site-content > div:nth-child(3) > div > div > div > div > div > div > div._1gw6tte > div > div > div > div > div > div:nth-child({i}) > div > div > div.c1tbui0o.ltlgcp.dir.dir-ltr > div > div > div > div._8s3ctt > div._1nz9l7j > div > div._e296pg > div._1mx6kqf > div > span > div > a\").get_attribute(\"href\"))\n",
    "\n",
    "driver.quit()"
   ]
  },
  {
   "cell_type": "code",
   "execution_count": 34,
   "id": "558efede",
   "metadata": {},
   "outputs": [
    {
     "data": {
      "text/plain": [
       "20"
      ]
     },
     "execution_count": 34,
     "metadata": {},
     "output_type": "execute_result"
    }
   ],
   "source": [
    "len(urls_mad_1_8)"
   ]
  },
  {
   "cell_type": "code",
   "execution_count": 36,
   "id": "08dda8d4",
   "metadata": {},
   "outputs": [
    {
     "name": "stderr",
     "output_type": "stream",
     "text": [
      "\n",
      "\n",
      "====== WebDriver manager ======\n",
      "Current google-chrome version is 96.0.4664\n",
      "Get LATEST chromedriver version for 96.0.4664 google-chrome\n",
      "Driver [/Users/franciscovispo/.wdm/drivers/chromedriver/mac64/96.0.4664.45/chromedriver] found in cache\n",
      "<ipython-input-36-344f6d6b944d>:5: DeprecationWarning: executable_path has been deprecated, please pass in a Service object\n",
      "  driver = webdriver.Chrome(ChromeDriverManager().install(), options = opciones)\n",
      "<ipython-input-36-344f6d6b944d>:12: DeprecationWarning: find_element_by_* commands are deprecated. Please use find_element() instead\n",
      "  driver.find_element_by_css_selector(\"body > div:nth-child(7) > div > div > div:nth-child(1) > div > div._1cgcei8 > section > div._gsw2t0 > div._160gnkxa > button\").click()\n",
      "<ipython-input-36-344f6d6b944d>:17: DeprecationWarning: find_element_by_* commands are deprecated. Please use find_element() instead\n",
      "  urls_mad_1_9.append(driver.find_element_by_css_selector(f\"#site-content > div:nth-child(3) > div > div > div > div > div > div > div._1gw6tte > div > div > div > div > div > div:nth-child({i}) > div > div > div.c1tbui0o.ltlgcp.dir.dir-ltr > div > div > div > div._8s3ctt > div._1nz9l7j > div > div._e296pg > div._1mx6kqf > div > span > div > a\").get_attribute(\"href\"))\n"
     ]
    }
   ],
   "source": [
    "urls_mad_1_9 = []\n",
    "\n",
    "# set the url\n",
    "url = \"https://www.airbnb.es/s/Madrid/homes?tab_id=home_tab&refinement_paths%5B%5D=%2Fhomes&flexible_trip_dates%5B%5D=april&flexible_trip_dates%5B%5D=august&flexible_trip_dates%5B%5D=december&flexible_trip_dates%5B%5D=february&flexible_trip_dates%5B%5D=january&flexible_trip_dates%5B%5D=july&flexible_trip_dates%5B%5D=june&flexible_trip_dates%5B%5D=march&flexible_trip_dates%5B%5D=may&flexible_trip_dates%5B%5D=november&flexible_trip_dates%5B%5D=october&flexible_trip_dates%5B%5D=september&flexible_trip_lengths%5B%5D=weekend_trip&date_picker_type=flexible_dates&query=Madrid&place_id=ChIJgTwKgJcpQg0RaSKMYcHeNsQ&adults=5&source=structured_search_input_header&search_type=filter_change&federated_search_session_id=fadcee9b-7d03-4784-a177-6c4e2dd4b724&pagination_search=true&items_offset=160&section_offset=2\"\n",
    "driver = webdriver.Chrome(ChromeDriverManager().install(), options = opciones)\n",
    "\n",
    "#cookies 1\n",
    "driver.implicitly_wait(2)\n",
    "driver.get(url)\n",
    "driver.implicitly_wait(2)\n",
    "time.sleep(2)\n",
    "driver.find_element_by_css_selector(\"body > div:nth-child(7) > div > div > div:nth-child(1) > div > div._1cgcei8 > section > div._gsw2t0 > div._160gnkxa > button\").click()\n",
    "\n",
    "for i in range (1,21):\n",
    "        driver.implicitly_wait(2)\n",
    "        time.sleep(1)\n",
    "        urls_mad_1_9.append(driver.find_element_by_css_selector(f\"#site-content > div:nth-child(3) > div > div > div > div > div > div > div._1gw6tte > div > div > div > div > div > div:nth-child({i}) > div > div > div.c1tbui0o.ltlgcp.dir.dir-ltr > div > div > div > div._8s3ctt > div._1nz9l7j > div > div._e296pg > div._1mx6kqf > div > span > div > a\").get_attribute(\"href\"))\n",
    "\n",
    "driver.quit()"
   ]
  },
  {
   "cell_type": "code",
   "execution_count": 37,
   "id": "d3661785",
   "metadata": {},
   "outputs": [
    {
     "data": {
      "text/plain": [
       "20"
      ]
     },
     "execution_count": 37,
     "metadata": {},
     "output_type": "execute_result"
    }
   ],
   "source": [
    "len(urls_mad_1_9)"
   ]
  },
  {
   "cell_type": "code",
   "execution_count": 38,
   "id": "ffa3657f",
   "metadata": {},
   "outputs": [
    {
     "name": "stderr",
     "output_type": "stream",
     "text": [
      "\n",
      "\n",
      "====== WebDriver manager ======\n",
      "Current google-chrome version is 96.0.4664\n",
      "Get LATEST chromedriver version for 96.0.4664 google-chrome\n",
      "Driver [/Users/franciscovispo/.wdm/drivers/chromedriver/mac64/96.0.4664.45/chromedriver] found in cache\n",
      "<ipython-input-38-ea7495274d95>:5: DeprecationWarning: executable_path has been deprecated, please pass in a Service object\n",
      "  driver = webdriver.Chrome(ChromeDriverManager().install(), options = opciones)\n",
      "<ipython-input-38-ea7495274d95>:12: DeprecationWarning: find_element_by_* commands are deprecated. Please use find_element() instead\n",
      "  driver.find_element_by_css_selector(\"body > div:nth-child(7) > div > div > div:nth-child(1) > div > div._1cgcei8 > section > div._gsw2t0 > div._160gnkxa > button\").click()\n",
      "<ipython-input-38-ea7495274d95>:17: DeprecationWarning: find_element_by_* commands are deprecated. Please use find_element() instead\n",
      "  urls_mad_1_10.append(driver.find_element_by_css_selector(f\"#site-content > div:nth-child(3) > div > div > div > div > div > div > div._1gw6tte > div > div > div > div > div > div:nth-child({i}) > div > div > div.c1tbui0o.ltlgcp.dir.dir-ltr > div > div > div > div._8s3ctt > div._1nz9l7j > div > div._e296pg > div._1mx6kqf > div > span > div > a\").get_attribute(\"href\"))\n"
     ]
    }
   ],
   "source": [
    "urls_mad_1_10 = []\n",
    "\n",
    "# set the url\n",
    "url = \"https://www.airbnb.es/s/Madrid/homes?tab_id=home_tab&refinement_paths%5B%5D=%2Fhomes&flexible_trip_dates%5B%5D=april&flexible_trip_dates%5B%5D=august&flexible_trip_dates%5B%5D=december&flexible_trip_dates%5B%5D=february&flexible_trip_dates%5B%5D=january&flexible_trip_dates%5B%5D=july&flexible_trip_dates%5B%5D=june&flexible_trip_dates%5B%5D=march&flexible_trip_dates%5B%5D=may&flexible_trip_dates%5B%5D=november&flexible_trip_dates%5B%5D=october&flexible_trip_dates%5B%5D=september&flexible_trip_lengths%5B%5D=weekend_trip&date_picker_type=flexible_dates&query=Madrid&place_id=ChIJgTwKgJcpQg0RaSKMYcHeNsQ&adults=5&source=structured_search_input_header&search_type=filter_change&federated_search_session_id=fadcee9b-7d03-4784-a177-6c4e2dd4b724&pagination_search=true&items_offset=180&section_offset=2\"\n",
    "driver = webdriver.Chrome(ChromeDriverManager().install(), options = opciones)\n",
    "\n",
    "#cookies 1\n",
    "driver.implicitly_wait(2)\n",
    "driver.get(url)\n",
    "driver.implicitly_wait(2)\n",
    "time.sleep(2)\n",
    "driver.find_element_by_css_selector(\"body > div:nth-child(7) > div > div > div:nth-child(1) > div > div._1cgcei8 > section > div._gsw2t0 > div._160gnkxa > button\").click()\n",
    "\n",
    "for i in range (1,21):\n",
    "        driver.implicitly_wait(2)\n",
    "        time.sleep(1)\n",
    "        urls_mad_1_10.append(driver.find_element_by_css_selector(f\"#site-content > div:nth-child(3) > div > div > div > div > div > div > div._1gw6tte > div > div > div > div > div > div:nth-child({i}) > div > div > div.c1tbui0o.ltlgcp.dir.dir-ltr > div > div > div > div._8s3ctt > div._1nz9l7j > div > div._e296pg > div._1mx6kqf > div > span > div > a\").get_attribute(\"href\"))\n",
    "\n",
    "driver.quit()"
   ]
  },
  {
   "cell_type": "code",
   "execution_count": 39,
   "id": "21776c66",
   "metadata": {},
   "outputs": [
    {
     "data": {
      "text/plain": [
       "20"
      ]
     },
     "execution_count": 39,
     "metadata": {},
     "output_type": "execute_result"
    }
   ],
   "source": [
    "len(urls_mad_1_10)"
   ]
  },
  {
   "cell_type": "code",
   "execution_count": 40,
   "id": "b2ed7a7c",
   "metadata": {},
   "outputs": [
    {
     "name": "stderr",
     "output_type": "stream",
     "text": [
      "\n",
      "\n",
      "====== WebDriver manager ======\n",
      "Current google-chrome version is 96.0.4664\n",
      "Get LATEST chromedriver version for 96.0.4664 google-chrome\n",
      "Driver [/Users/franciscovispo/.wdm/drivers/chromedriver/mac64/96.0.4664.45/chromedriver] found in cache\n",
      "<ipython-input-40-a7417be38283>:5: DeprecationWarning: executable_path has been deprecated, please pass in a Service object\n",
      "  driver = webdriver.Chrome(ChromeDriverManager().install(), options = opciones)\n",
      "<ipython-input-40-a7417be38283>:12: DeprecationWarning: find_element_by_* commands are deprecated. Please use find_element() instead\n",
      "  driver.find_element_by_css_selector(\"body > div:nth-child(7) > div > div > div:nth-child(1) > div > div._1cgcei8 > section > div._gsw2t0 > div._160gnkxa > button\").click()\n",
      "<ipython-input-40-a7417be38283>:17: DeprecationWarning: find_element_by_* commands are deprecated. Please use find_element() instead\n",
      "  urls_mad_1_11.append(driver.find_element_by_css_selector(f\"#site-content > div:nth-child(3) > div > div > div > div > div > div > div._1gw6tte > div > div > div > div > div > div:nth-child({i}) > div > div > div.c1tbui0o.ltlgcp.dir.dir-ltr > div > div > div > div._8s3ctt > div._1nz9l7j > div > div._e296pg > div._1mx6kqf > div > span > div > a\").get_attribute(\"href\"))\n"
     ]
    }
   ],
   "source": [
    "urls_mad_1_11 = []\n",
    "\n",
    "# set the url\n",
    "url = \"https://www.airbnb.es/s/Madrid/homes?tab_id=home_tab&refinement_paths%5B%5D=%2Fhomes&flexible_trip_dates%5B%5D=april&flexible_trip_dates%5B%5D=august&flexible_trip_dates%5B%5D=december&flexible_trip_dates%5B%5D=february&flexible_trip_dates%5B%5D=january&flexible_trip_dates%5B%5D=july&flexible_trip_dates%5B%5D=june&flexible_trip_dates%5B%5D=march&flexible_trip_dates%5B%5D=may&flexible_trip_dates%5B%5D=november&flexible_trip_dates%5B%5D=october&flexible_trip_dates%5B%5D=september&flexible_trip_lengths%5B%5D=weekend_trip&date_picker_type=flexible_dates&query=Madrid&place_id=ChIJgTwKgJcpQg0RaSKMYcHeNsQ&adults=5&source=structured_search_input_header&search_type=filter_change&federated_search_session_id=fadcee9b-7d03-4784-a177-6c4e2dd4b724&pagination_search=true&items_offset=200&section_offset=2\"\n",
    "driver = webdriver.Chrome(ChromeDriverManager().install(), options = opciones)\n",
    "\n",
    "#cookies 1\n",
    "driver.implicitly_wait(2)\n",
    "driver.get(url)\n",
    "driver.implicitly_wait(2)\n",
    "time.sleep(2)\n",
    "driver.find_element_by_css_selector(\"body > div:nth-child(7) > div > div > div:nth-child(1) > div > div._1cgcei8 > section > div._gsw2t0 > div._160gnkxa > button\").click()\n",
    "\n",
    "for i in range (1,21):\n",
    "        driver.implicitly_wait(2)\n",
    "        time.sleep(1)\n",
    "        urls_mad_1_11.append(driver.find_element_by_css_selector(f\"#site-content > div:nth-child(3) > div > div > div > div > div > div > div._1gw6tte > div > div > div > div > div > div:nth-child({i}) > div > div > div.c1tbui0o.ltlgcp.dir.dir-ltr > div > div > div > div._8s3ctt > div._1nz9l7j > div > div._e296pg > div._1mx6kqf > div > span > div > a\").get_attribute(\"href\"))\n",
    "\n",
    "driver.quit()"
   ]
  },
  {
   "cell_type": "code",
   "execution_count": 41,
   "id": "6f03c5d9",
   "metadata": {},
   "outputs": [
    {
     "data": {
      "text/plain": [
       "20"
      ]
     },
     "execution_count": 41,
     "metadata": {},
     "output_type": "execute_result"
    }
   ],
   "source": [
    "len(urls_mad_1_11)"
   ]
  },
  {
   "cell_type": "code",
   "execution_count": 42,
   "id": "90214439",
   "metadata": {},
   "outputs": [
    {
     "name": "stderr",
     "output_type": "stream",
     "text": [
      "\n",
      "\n",
      "====== WebDriver manager ======\n",
      "Current google-chrome version is 96.0.4664\n",
      "Get LATEST chromedriver version for 96.0.4664 google-chrome\n",
      "Driver [/Users/franciscovispo/.wdm/drivers/chromedriver/mac64/96.0.4664.45/chromedriver] found in cache\n",
      "<ipython-input-42-f160739c24e9>:5: DeprecationWarning: executable_path has been deprecated, please pass in a Service object\n",
      "  driver = webdriver.Chrome(ChromeDriverManager().install(), options = opciones)\n",
      "<ipython-input-42-f160739c24e9>:12: DeprecationWarning: find_element_by_* commands are deprecated. Please use find_element() instead\n",
      "  driver.find_element_by_css_selector(\"body > div:nth-child(7) > div > div > div:nth-child(1) > div > div._1cgcei8 > section > div._gsw2t0 > div._160gnkxa > button\").click()\n",
      "<ipython-input-42-f160739c24e9>:17: DeprecationWarning: find_element_by_* commands are deprecated. Please use find_element() instead\n",
      "  urls_mad_1_12.append(driver.find_element_by_css_selector(f\"#site-content > div:nth-child(3) > div > div > div > div > div > div > div._1gw6tte > div > div > div > div > div > div:nth-child({i}) > div > div > div.c1tbui0o.ltlgcp.dir.dir-ltr > div > div > div > div._8s3ctt > div._1nz9l7j > div > div._e296pg > div._1mx6kqf > div > span > div > a\").get_attribute(\"href\"))\n"
     ]
    }
   ],
   "source": [
    "urls_mad_1_12 = []\n",
    "\n",
    "# set the url\n",
    "url = \"https://www.airbnb.es/s/Madrid/homes?tab_id=home_tab&refinement_paths%5B%5D=%2Fhomes&flexible_trip_dates%5B%5D=april&flexible_trip_dates%5B%5D=august&flexible_trip_dates%5B%5D=december&flexible_trip_dates%5B%5D=february&flexible_trip_dates%5B%5D=january&flexible_trip_dates%5B%5D=july&flexible_trip_dates%5B%5D=june&flexible_trip_dates%5B%5D=march&flexible_trip_dates%5B%5D=may&flexible_trip_dates%5B%5D=november&flexible_trip_dates%5B%5D=october&flexible_trip_dates%5B%5D=september&flexible_trip_lengths%5B%5D=weekend_trip&date_picker_type=flexible_dates&query=Madrid&place_id=ChIJgTwKgJcpQg0RaSKMYcHeNsQ&adults=5&source=structured_search_input_header&search_type=filter_change&federated_search_session_id=fadcee9b-7d03-4784-a177-6c4e2dd4b724&pagination_search=true&items_offset=220&section_offset=2\"\n",
    "driver = webdriver.Chrome(ChromeDriverManager().install(), options = opciones)\n",
    "\n",
    "#cookies 1\n",
    "driver.implicitly_wait(2)\n",
    "driver.get(url)\n",
    "driver.implicitly_wait(2)\n",
    "time.sleep(2)\n",
    "driver.find_element_by_css_selector(\"body > div:nth-child(7) > div > div > div:nth-child(1) > div > div._1cgcei8 > section > div._gsw2t0 > div._160gnkxa > button\").click()\n",
    "\n",
    "for i in range (1,21):\n",
    "        driver.implicitly_wait(2)\n",
    "        time.sleep(1)\n",
    "        urls_mad_1_12.append(driver.find_element_by_css_selector(f\"#site-content > div:nth-child(3) > div > div > div > div > div > div > div._1gw6tte > div > div > div > div > div > div:nth-child({i}) > div > div > div.c1tbui0o.ltlgcp.dir.dir-ltr > div > div > div > div._8s3ctt > div._1nz9l7j > div > div._e296pg > div._1mx6kqf > div > span > div > a\").get_attribute(\"href\"))\n",
    "\n",
    "driver.quit()"
   ]
  },
  {
   "cell_type": "code",
   "execution_count": 43,
   "id": "91ae2045",
   "metadata": {},
   "outputs": [
    {
     "data": {
      "text/plain": [
       "20"
      ]
     },
     "execution_count": 43,
     "metadata": {},
     "output_type": "execute_result"
    }
   ],
   "source": [
    "len(urls_mad_1_12)"
   ]
  },
  {
   "cell_type": "code",
   "execution_count": 44,
   "id": "0f209dbf",
   "metadata": {},
   "outputs": [
    {
     "name": "stderr",
     "output_type": "stream",
     "text": [
      "\n",
      "\n",
      "====== WebDriver manager ======\n",
      "Current google-chrome version is 96.0.4664\n",
      "Get LATEST chromedriver version for 96.0.4664 google-chrome\n",
      "Driver [/Users/franciscovispo/.wdm/drivers/chromedriver/mac64/96.0.4664.45/chromedriver] found in cache\n",
      "<ipython-input-44-60d93570919e>:5: DeprecationWarning: executable_path has been deprecated, please pass in a Service object\n",
      "  driver = webdriver.Chrome(ChromeDriverManager().install(), options = opciones)\n",
      "<ipython-input-44-60d93570919e>:11: DeprecationWarning: find_element_by_* commands are deprecated. Please use find_element() instead\n",
      "  driver.find_element_by_css_selector(\"body > div:nth-child(7) > div > div > div:nth-child(1) > div > div._1cgcei8 > section > div._gsw2t0 > div._160gnkxa > button\").click()\n",
      "<ipython-input-44-60d93570919e>:16: DeprecationWarning: find_element_by_* commands are deprecated. Please use find_element() instead\n",
      "  urls_mad_1_13.append(driver.find_element_by_css_selector(f\"#site-content > div:nth-child(3) > div > div > div > div > div > div > div._1gw6tte > div > div > div > div > div > div:nth-child({i}) > div > div > div.c1tbui0o.ltlgcp.dir.dir-ltr > div > div > div > div._8s3ctt > div._1nz9l7j > div > div._e296pg > div._1mx6kqf > div > span > div > a\").get_attribute(\"href\"))\n"
     ]
    }
   ],
   "source": [
    "urls_mad_1_13 = []\n",
    "\n",
    "# set the url\n",
    "url = \"https://www.airbnb.es/s/Madrid/homes?tab_id=home_tab&refinement_paths%5B%5D=%2Fhomes&flexible_trip_dates%5B%5D=april&flexible_trip_dates%5B%5D=august&flexible_trip_dates%5B%5D=december&flexible_trip_dates%5B%5D=february&flexible_trip_dates%5B%5D=january&flexible_trip_dates%5B%5D=july&flexible_trip_dates%5B%5D=june&flexible_trip_dates%5B%5D=march&flexible_trip_dates%5B%5D=may&flexible_trip_dates%5B%5D=november&flexible_trip_dates%5B%5D=october&flexible_trip_dates%5B%5D=september&flexible_trip_lengths%5B%5D=weekend_trip&date_picker_type=flexible_dates&query=Madrid&place_id=ChIJgTwKgJcpQg0RaSKMYcHeNsQ&adults=5&source=structured_search_input_header&search_type=filter_change&federated_search_session_id=fadcee9b-7d03-4784-a177-6c4e2dd4b724&pagination_search=true&items_offset=240&section_offset=2\"\n",
    "driver = webdriver.Chrome(ChromeDriverManager().install(), options = opciones)\n",
    "\n",
    "#cookies 1\n",
    "driver.implicitly_wait(2)\n",
    "driver.get(url)\n",
    "driver.implicitly_wait(2)\n",
    "driver.find_element_by_css_selector(\"body > div:nth-child(7) > div > div > div:nth-child(1) > div > div._1cgcei8 > section > div._gsw2t0 > div._160gnkxa > button\").click()\n",
    "\n",
    "for i in range (1,21):\n",
    "        driver.implicitly_wait(2)\n",
    "        time.sleep(1)\n",
    "        urls_mad_1_13.append(driver.find_element_by_css_selector(f\"#site-content > div:nth-child(3) > div > div > div > div > div > div > div._1gw6tte > div > div > div > div > div > div:nth-child({i}) > div > div > div.c1tbui0o.ltlgcp.dir.dir-ltr > div > div > div > div._8s3ctt > div._1nz9l7j > div > div._e296pg > div._1mx6kqf > div > span > div > a\").get_attribute(\"href\"))\n",
    "\n",
    "driver.quit()"
   ]
  },
  {
   "cell_type": "code",
   "execution_count": 45,
   "id": "c6ec7ce1",
   "metadata": {},
   "outputs": [
    {
     "data": {
      "text/plain": [
       "20"
      ]
     },
     "execution_count": 45,
     "metadata": {},
     "output_type": "execute_result"
    }
   ],
   "source": [
    "len(urls_mad_1_13)"
   ]
  },
  {
   "cell_type": "code",
   "execution_count": 46,
   "id": "3c2b02a8",
   "metadata": {},
   "outputs": [
    {
     "name": "stderr",
     "output_type": "stream",
     "text": [
      "\n",
      "\n",
      "====== WebDriver manager ======\n",
      "Current google-chrome version is 96.0.4664\n",
      "Get LATEST chromedriver version for 96.0.4664 google-chrome\n",
      "Driver [/Users/franciscovispo/.wdm/drivers/chromedriver/mac64/96.0.4664.45/chromedriver] found in cache\n",
      "<ipython-input-46-d8c160843c39>:5: DeprecationWarning: executable_path has been deprecated, please pass in a Service object\n",
      "  driver = webdriver.Chrome(ChromeDriverManager().install(), options = opciones)\n",
      "<ipython-input-46-d8c160843c39>:11: DeprecationWarning: find_element_by_* commands are deprecated. Please use find_element() instead\n",
      "  driver.find_element_by_css_selector(\"body > div:nth-child(7) > div > div > div:nth-child(1) > div > div._1cgcei8 > section > div._gsw2t0 > div._160gnkxa > button\").click()\n",
      "<ipython-input-46-d8c160843c39>:16: DeprecationWarning: find_element_by_* commands are deprecated. Please use find_element() instead\n",
      "  urls_mad_1_14.append(driver.find_element_by_css_selector(f\"#site-content > div:nth-child(3) > div > div > div > div > div > div > div._1gw6tte > div > div > div > div > div > div:nth-child({i}) > div > div > div.c1tbui0o.ltlgcp.dir.dir-ltr > div > div > div > div._8s3ctt > div._1nz9l7j > div > div._e296pg > div._1mx6kqf > div > span > div > a\").get_attribute(\"href\"))\n"
     ]
    }
   ],
   "source": [
    "urls_mad_1_14 = []\n",
    "\n",
    "# set the url\n",
    "url = \"https://www.airbnb.es/s/Madrid/homes?tab_id=home_tab&refinement_paths%5B%5D=%2Fhomes&flexible_trip_dates%5B%5D=april&flexible_trip_dates%5B%5D=august&flexible_trip_dates%5B%5D=december&flexible_trip_dates%5B%5D=february&flexible_trip_dates%5B%5D=january&flexible_trip_dates%5B%5D=july&flexible_trip_dates%5B%5D=june&flexible_trip_dates%5B%5D=march&flexible_trip_dates%5B%5D=may&flexible_trip_dates%5B%5D=november&flexible_trip_dates%5B%5D=october&flexible_trip_dates%5B%5D=september&flexible_trip_lengths%5B%5D=weekend_trip&date_picker_type=flexible_dates&query=Madrid&place_id=ChIJgTwKgJcpQg0RaSKMYcHeNsQ&adults=5&source=structured_search_input_header&search_type=filter_change&federated_search_session_id=fadcee9b-7d03-4784-a177-6c4e2dd4b724&pagination_search=true&items_offset=260&section_offset=2\"\n",
    "driver = webdriver.Chrome(ChromeDriverManager().install(), options = opciones)\n",
    "\n",
    "#cookies 1\n",
    "driver.implicitly_wait(2)\n",
    "driver.get(url)\n",
    "driver.implicitly_wait(2)\n",
    "driver.find_element_by_css_selector(\"body > div:nth-child(7) > div > div > div:nth-child(1) > div > div._1cgcei8 > section > div._gsw2t0 > div._160gnkxa > button\").click()\n",
    "\n",
    "for i in range (1,21):\n",
    "        driver.implicitly_wait(2)\n",
    "        time.sleep(1)\n",
    "        urls_mad_1_14.append(driver.find_element_by_css_selector(f\"#site-content > div:nth-child(3) > div > div > div > div > div > div > div._1gw6tte > div > div > div > div > div > div:nth-child({i}) > div > div > div.c1tbui0o.ltlgcp.dir.dir-ltr > div > div > div > div._8s3ctt > div._1nz9l7j > div > div._e296pg > div._1mx6kqf > div > span > div > a\").get_attribute(\"href\"))\n",
    "\n",
    "driver.quit()"
   ]
  },
  {
   "cell_type": "code",
   "execution_count": 47,
   "id": "f0d3c56c",
   "metadata": {},
   "outputs": [
    {
     "data": {
      "text/plain": [
       "20"
      ]
     },
     "execution_count": 47,
     "metadata": {},
     "output_type": "execute_result"
    }
   ],
   "source": [
    "len(urls_mad_1_14)"
   ]
  },
  {
   "cell_type": "code",
   "execution_count": 48,
   "id": "2f375925",
   "metadata": {},
   "outputs": [
    {
     "name": "stderr",
     "output_type": "stream",
     "text": [
      "\n",
      "\n",
      "====== WebDriver manager ======\n",
      "Current google-chrome version is 96.0.4664\n",
      "Get LATEST chromedriver version for 96.0.4664 google-chrome\n",
      "Driver [/Users/franciscovispo/.wdm/drivers/chromedriver/mac64/96.0.4664.45/chromedriver] found in cache\n",
      "<ipython-input-48-1e3c4967928b>:5: DeprecationWarning: executable_path has been deprecated, please pass in a Service object\n",
      "  driver = webdriver.Chrome(ChromeDriverManager().install(), options = opciones)\n",
      "<ipython-input-48-1e3c4967928b>:11: DeprecationWarning: find_element_by_* commands are deprecated. Please use find_element() instead\n",
      "  driver.find_element_by_css_selector(\"body > div:nth-child(7) > div > div > div:nth-child(1) > div > div._1cgcei8 > section > div._gsw2t0 > div._160gnkxa > button\").click()\n",
      "<ipython-input-48-1e3c4967928b>:16: DeprecationWarning: find_element_by_* commands are deprecated. Please use find_element() instead\n",
      "  urls_mad_1_15.append(driver.find_element_by_css_selector(f\"#site-content > div:nth-child(3) > div > div > div > div > div > div > div._1gw6tte > div > div > div > div > div > div:nth-child({i}) > div > div > div.c1tbui0o.ltlgcp.dir.dir-ltr > div > div > div > div._8s3ctt > div._1nz9l7j > div > div._e296pg > div._1mx6kqf > div > span > div > a\").get_attribute(\"href\"))\n"
     ]
    }
   ],
   "source": [
    "urls_mad_1_15 = []\n",
    "\n",
    "# set the url\n",
    "url = \"https://www.airbnb.es/s/Madrid/homes?tab_id=home_tab&refinement_paths%5B%5D=%2Fhomes&flexible_trip_dates%5B%5D=april&flexible_trip_dates%5B%5D=august&flexible_trip_dates%5B%5D=december&flexible_trip_dates%5B%5D=february&flexible_trip_dates%5B%5D=january&flexible_trip_dates%5B%5D=july&flexible_trip_dates%5B%5D=june&flexible_trip_dates%5B%5D=march&flexible_trip_dates%5B%5D=may&flexible_trip_dates%5B%5D=november&flexible_trip_dates%5B%5D=october&flexible_trip_dates%5B%5D=september&flexible_trip_lengths%5B%5D=weekend_trip&date_picker_type=flexible_dates&query=Madrid&place_id=ChIJgTwKgJcpQg0RaSKMYcHeNsQ&adults=5&source=structured_search_input_header&search_type=filter_change&federated_search_session_id=fadcee9b-7d03-4784-a177-6c4e2dd4b724&pagination_search=true&items_offset=280&section_offset=2\"\n",
    "driver = webdriver.Chrome(ChromeDriverManager().install(), options = opciones)\n",
    "\n",
    "#cookies 1\n",
    "driver.implicitly_wait(2)\n",
    "driver.get(url)\n",
    "driver.implicitly_wait(2)\n",
    "driver.find_element_by_css_selector(\"body > div:nth-child(7) > div > div > div:nth-child(1) > div > div._1cgcei8 > section > div._gsw2t0 > div._160gnkxa > button\").click()\n",
    "\n",
    "for i in range (1,21):\n",
    "        driver.implicitly_wait(2)\n",
    "        time.sleep(1)\n",
    "        urls_mad_1_15.append(driver.find_element_by_css_selector(f\"#site-content > div:nth-child(3) > div > div > div > div > div > div > div._1gw6tte > div > div > div > div > div > div:nth-child({i}) > div > div > div.c1tbui0o.ltlgcp.dir.dir-ltr > div > div > div > div._8s3ctt > div._1nz9l7j > div > div._e296pg > div._1mx6kqf > div > span > div > a\").get_attribute(\"href\"))\n",
    "\n",
    "driver.quit()"
   ]
  },
  {
   "cell_type": "code",
   "execution_count": 49,
   "id": "9f42098f",
   "metadata": {},
   "outputs": [
    {
     "data": {
      "text/plain": [
       "20"
      ]
     },
     "execution_count": 49,
     "metadata": {},
     "output_type": "execute_result"
    }
   ],
   "source": [
    "len(urls_mad_1_15)"
   ]
  },
  {
   "cell_type": "code",
   "execution_count": 58,
   "id": "c4cc64b5",
   "metadata": {},
   "outputs": [],
   "source": [
    "urls_mad_1 = urls_mad_1_1 + urls_mad_1_2 + urls_mad_1_3 + urls_mad_1_4 +urls_mad_1_5 +urls_mad_1_6 + urls_mad_1_7 + urls_mad_1_8 + urls_mad_1_9 + urls_mad_1_10 + urls_mad_1_11 +urls_mad_1_12 + urls_mad_1_13 + urls_mad_1_14 + urls_mad_1_15 \n"
   ]
  },
  {
   "cell_type": "code",
   "execution_count": 61,
   "id": "effa2d9b",
   "metadata": {},
   "outputs": [],
   "source": [
    "#print(urls_mad_1)"
   ]
  },
  {
   "cell_type": "code",
   "execution_count": 51,
   "id": "6ced2393",
   "metadata": {},
   "outputs": [
    {
     "data": {
      "text/plain": [
       "300"
      ]
     },
     "execution_count": 51,
     "metadata": {},
     "output_type": "execute_result"
    }
   ],
   "source": [
    "len(urls_mad_1)"
   ]
  },
  {
   "cell_type": "code",
   "execution_count": 52,
   "id": "72dc0d6a",
   "metadata": {},
   "outputs": [],
   "source": [
    "urls_mad_1 = pd.DataFrame(urls_mad_1)"
   ]
  },
  {
   "cell_type": "code",
   "execution_count": 53,
   "id": "902b8af4",
   "metadata": {},
   "outputs": [
    {
     "data": {
      "text/plain": [
       "0"
      ]
     },
     "execution_count": 53,
     "metadata": {},
     "output_type": "execute_result"
    }
   ],
   "source": [
    "urls_mad_1.duplicated().sum()"
   ]
  },
  {
   "cell_type": "code",
   "execution_count": 54,
   "id": "e4429302",
   "metadata": {},
   "outputs": [],
   "source": [
    "urls_mad_1.to_csv(\"../data/urls_madrid_2_bueno.csv\", index=False)"
   ]
  }
 ],
 "metadata": {
  "kernelspec": {
   "display_name": "ironhack",
   "language": "python",
   "name": "ironhack"
  },
  "language_info": {
   "codemirror_mode": {
    "name": "ipython",
    "version": 3
   },
   "file_extension": ".py",
   "mimetype": "text/x-python",
   "name": "python",
   "nbconvert_exporter": "python",
   "pygments_lexer": "ipython3",
   "version": "3.8.5"
  }
 },
 "nbformat": 4,
 "nbformat_minor": 5
}
