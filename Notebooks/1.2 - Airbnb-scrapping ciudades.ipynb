{
 "cells": [
  {
   "cell_type": "code",
   "execution_count": 2,
   "id": "b86eb4be",
   "metadata": {},
   "outputs": [],
   "source": [
    "from selenium import webdriver\n",
    "from selenium.webdriver.chrome.options import Options\n",
    "import time\n",
    "import pandas as pd\n",
    "from selenium.webdriver.support.ui import Select\n",
    "from webdriver_manager.chrome import ChromeDriverManager"
   ]
  },
  {
   "cell_type": "code",
   "execution_count": 3,
   "id": "6d77486a",
   "metadata": {},
   "outputs": [],
   "source": [
    "opciones=Options()\n",
    "\n",
    "opciones.add_experimental_option('excludeSwitches', ['enable-automation'])\n",
    "opciones.add_experimental_option('useAutomationExtension', False)\n",
    "\n",
    "opciones.headless=False    # si True, no aperece la ventana (headless=no visible)\n",
    "\n",
    "opciones.add_argument('--start-maximized')         # comienza maximizado\n",
    "\n",
    "opciones.add_argument('user-data-dir=selenium')    # mantiene las cookies\n",
    "\n",
    "#opciones.add_extension('driver_folder/adblock.crx')       # adblocker\n",
    "\n",
    "opciones.add_argument('--incognito')              # incognito"
   ]
  },
  {
   "cell_type": "markdown",
   "id": "e081aabd",
   "metadata": {},
   "source": [
    "### 2. BCN"
   ]
  },
  {
   "cell_type": "code",
   "execution_count": 39,
   "id": "ff55cf22",
   "metadata": {},
   "outputs": [],
   "source": [
    "paginas_bcn = []\n",
    "for i in range(0, 281, 20):\n",
    "    paginas_bcn.append(f\"https://www.airbnb.es/s/Barcelona/homes?tab_id=home_tab&refinement_paths%5B%5D=%2Fhomes&flexible_trip_dates%5B%5D=april&flexible_trip_dates%5B%5D=december&flexible_trip_dates%5B%5D=february&flexible_trip_dates%5B%5D=january&flexible_trip_dates%5B%5D=march&flexible_trip_dates%5B%5D=may&date_picker_type=flexible_dates&query=Barcelona&place_id=ChIJ5TCOcRaYpBIRCmZHTz37sEQ&flexible_trip_lengths%5B%5D=weekend_trip&source=structured_search_input_header&search_type=autocomplete_click&federated_search_session_id=d8bf100f-73ca-403a-a20f-7e82065cd278&pagination_search=true&items_offset={i}&section_offset=2\")\n",
    "    "
   ]
  },
  {
   "cell_type": "code",
   "execution_count": 12,
   "id": "72dbe066",
   "metadata": {},
   "outputs": [],
   "source": [
    "#paginas_bcn"
   ]
  },
  {
   "cell_type": "code",
   "execution_count": 27,
   "id": "e84c95a8",
   "metadata": {},
   "outputs": [],
   "source": [
    "driver.quit()"
   ]
  },
  {
   "cell_type": "code",
   "execution_count": 28,
   "id": "23712006",
   "metadata": {},
   "outputs": [
    {
     "name": "stderr",
     "output_type": "stream",
     "text": [
      "\n",
      "\n",
      "====== WebDriver manager ======\n",
      "Current google-chrome version is 96.0.4664\n",
      "Get LATEST chromedriver version for 96.0.4664 google-chrome\n",
      "Driver [/Users/franciscovispo/.wdm/drivers/chromedriver/mac64/96.0.4664.45/chromedriver] found in cache\n",
      "<ipython-input-28-f844d8d5576d>:5: DeprecationWarning: executable_path has been deprecated, please pass in a Service object\n",
      "  driver = webdriver.Chrome(ChromeDriverManager().install(), options = opciones)\n",
      "<ipython-input-28-f844d8d5576d>:12: DeprecationWarning: find_element_by_* commands are deprecated. Please use find_element() instead\n",
      "  driver.find_element_by_css_selector(\"body > div:nth-child(7) > div > div > div:nth-child(1) > div > div._1cgcei8 > section > div._gsw2t0 > div._160gnkxa > button\").click()\n",
      "<ipython-input-28-f844d8d5576d>:20: DeprecationWarning: find_element_by_* commands are deprecated. Please use find_element() instead\n",
      "  urls.append(driver.find_element_by_css_selector(f\"#site-content > div:nth-child(4) > div > div > div > div > div > div > div._1gw6tte > div > div > div > div > div > div > div:nth-child({i}) > div > div > div._1e541ba5 > div > div > div > div._8s3ctt > div._1nz9l7j > div > div._e296pg > div._1mx6kqf > div > span > div > a\").get_attribute(\"href\"))\n"
     ]
    }
   ],
   "source": [
    "# LISTA DE URLS\n",
    "urls_bcn = []\n",
    "\n",
    "# download the driver \n",
    "driver = webdriver.Chrome(ChromeDriverManager().install(), options = opciones)\n",
    "# set the url\n",
    "url = \"https://www.airbnb.es/s/Barcelona/homes?tab_id=home_tab&refinement_paths%5B%5D=%2Fhomes&flexible_trip_dates%5B%5D=april&flexible_trip_dates%5B%5D=december&flexible_trip_dates%5B%5D=february&flexible_trip_dates%5B%5D=january&flexible_trip_dates%5B%5D=march&flexible_trip_dates%5B%5D=may&date_picker_type=flexible_dates&query=Barcelona&place_id=ChIJ5TCOcRaYpBIRCmZHTz37sEQ&flexible_trip_lengths%5B%5D=weekend_trip&source=structured_search_input_header&search_type=autocomplete_click\"\n",
    "\n",
    "driver.get(url)\n",
    "driver.implicitly_wait(2) # is like a time.sleep but specific of selenium\n",
    "#cookies 1\n",
    "driver.find_element_by_css_selector(\"body > div:nth-child(7) > div > div > div:nth-child(1) > div > div._1cgcei8 > section > div._gsw2t0 > div._160gnkxa > button\").click()\n",
    "driver.implicitly_wait(10) # is like a time.sleep but specific of selenium\n",
    "\n",
    "\n",
    "for i in paginas_bcn:\n",
    "    for i in range (1,21):\n",
    "        driver.implicitly_wait(6)\n",
    "        #driver.find_element_by_css_selector(\"body > div:nth-child(44) > div > div > section > div._1kfl0pr > button\").click()\n",
    "        urls_bcn.append(driver.find_element_by_css_selector(f\"#site-content > div:nth-child(4) > div > div > div > div > div > div > div._1gw6tte > div > div > div > div > div > div > div:nth-child({i}) > div > div > div._1e541ba5 > div > div > div > div._8s3ctt > div._1nz9l7j > div > div._e296pg > div._1mx6kqf > div > span > div > a\").get_attribute(\"href\"))\n",
    "        driver.implicitly_wait(2)\n",
    "\n",
    "#hasta aquí funciona. En lista están las 20 primeras URLs."
   ]
  },
  {
   "cell_type": "code",
   "execution_count": 30,
   "id": "f225e2e7",
   "metadata": {},
   "outputs": [
    {
     "data": {
      "text/plain": [
       "300"
      ]
     },
     "execution_count": 30,
     "metadata": {},
     "output_type": "execute_result"
    }
   ],
   "source": [
    "len(urls_bcn)"
   ]
  },
  {
   "cell_type": "code",
   "execution_count": 32,
   "id": "d1cd46ce",
   "metadata": {},
   "outputs": [],
   "source": [
    "#urls"
   ]
  },
  {
   "cell_type": "markdown",
   "id": "ff7787d3",
   "metadata": {},
   "source": [
    "### 3. SEVILLA"
   ]
  },
  {
   "cell_type": "code",
   "execution_count": 37,
   "id": "b3db1861",
   "metadata": {},
   "outputs": [],
   "source": [
    "paginas_sev = []\n",
    "for i in range(0, 281, 20):\n",
    "    paginas_sev.append(f\"https://www.airbnb.es/s/Sevilla/homes?tab_id=home_tab&refinement_paths%5B%5D=%2Fhomes&flexible_trip_dates%5B%5D=april&flexible_trip_dates%5B%5D=december&flexible_trip_dates%5B%5D=february&flexible_trip_dates%5B%5D=january&flexible_trip_dates%5B%5D=march&flexible_trip_dates%5B%5D=may&date_picker_type=flexible_dates&query=Sevilla&place_id=ChIJkWK-FBFsEg0RSFb-HGIY8DQ&flexible_trip_lengths%5B%5D=weekend_trip&source=structured_search_input_header&search_type=autocomplete_click&federated_search_session_id=b26647a2-83f2-4af4-8971-96154d914e1c&pagination_search=true&items_offset={i}&section_offset=2\")\n",
    "    "
   ]
  },
  {
   "cell_type": "code",
   "execution_count": 43,
   "id": "e76dc184",
   "metadata": {},
   "outputs": [],
   "source": [
    "driver.quit()"
   ]
  },
  {
   "cell_type": "code",
   "execution_count": 44,
   "id": "7785ab4e",
   "metadata": {},
   "outputs": [
    {
     "name": "stderr",
     "output_type": "stream",
     "text": [
      "\n",
      "\n",
      "====== WebDriver manager ======\n",
      "Current google-chrome version is 96.0.4664\n",
      "Get LATEST chromedriver version for 96.0.4664 google-chrome\n",
      "Driver [/Users/franciscovispo/.wdm/drivers/chromedriver/mac64/96.0.4664.45/chromedriver] found in cache\n",
      "<ipython-input-44-9204fd78afcf>:5: DeprecationWarning: executable_path has been deprecated, please pass in a Service object\n",
      "  driver = webdriver.Chrome(ChromeDriverManager().install(), options = opciones)\n",
      "<ipython-input-44-9204fd78afcf>:12: DeprecationWarning: find_element_by_* commands are deprecated. Please use find_element() instead\n",
      "  driver.find_element_by_css_selector(\"body > div:nth-child(7) > div > div > div:nth-child(1) > div > div._1cgcei8 > section > div._gsw2t0 > div._160gnkxa > button\").click()\n",
      "<ipython-input-44-9204fd78afcf>:20: DeprecationWarning: find_element_by_* commands are deprecated. Please use find_element() instead\n",
      "  urls_sev.append(driver.find_element_by_css_selector(f\"#site-content > div:nth-child(4) > div > div > div > div > div > div > div._1gw6tte > div > div > div > div > div > div > div:nth-child({i}) > div > div > div._1e541ba5 > div > div > div > div._8s3ctt > div._1nz9l7j > div > div._e296pg > div._1mx6kqf > div > span > div > a\").get_attribute(\"href\"))\n"
     ]
    }
   ],
   "source": [
    "# LISTA DE URLS\n",
    "urls_sev = []\n",
    "\n",
    "# download the driver \n",
    "driver = webdriver.Chrome(ChromeDriverManager().install(), options = opciones)\n",
    "# set the url\n",
    "url = \"https://www.airbnb.es/s/Sevilla/homes?tab_id=home_tab&refinement_paths%5B%5D=%2Fhomes&flexible_trip_dates%5B%5D=april&flexible_trip_dates%5B%5D=december&flexible_trip_dates%5B%5D=february&flexible_trip_dates%5B%5D=january&flexible_trip_dates%5B%5D=march&flexible_trip_dates%5B%5D=may&date_picker_type=flexible_dates&query=Sevilla&place_id=ChIJkWK-FBFsEg0RSFb-HGIY8DQ&flexible_trip_lengths%5B%5D=weekend_trip&source=structured_search_input_header&search_type=autocomplete_click&federated_search_session_id=b26647a2-83f2-4af4-8971-96154d914e1c&pagination_search=true\"\n",
    "\n",
    "driver.get(url)\n",
    "driver.implicitly_wait(2) # is like a time.sleep but specific of selenium\n",
    "#cookies 1\n",
    "driver.find_element_by_css_selector(\"body > div:nth-child(7) > div > div > div:nth-child(1) > div > div._1cgcei8 > section > div._gsw2t0 > div._160gnkxa > button\").click()\n",
    "driver.implicitly_wait(10) # is like a time.sleep but specific of selenium\n",
    "\n",
    "\n",
    "for i in paginas_sev:\n",
    "    for i in range (1,21):\n",
    "        driver.implicitly_wait(6)\n",
    "        #driver.find_element_by_css_selector(\"body > div:nth-child(44) > div > div > section > div._1kfl0pr > button\").click()\n",
    "        urls_sev.append(driver.find_element_by_css_selector(f\"#site-content > div:nth-child(4) > div > div > div > div > div > div > div._1gw6tte > div > div > div > div > div > div > div:nth-child({i}) > div > div > div._1e541ba5 > div > div > div > div._8s3ctt > div._1nz9l7j > div > div._e296pg > div._1mx6kqf > div > span > div > a\").get_attribute(\"href\"))\n",
    "        driver.implicitly_wait(2)\n",
    "\n",
    "#hasta aquí funciona. En lista están las 20 primeras URLs."
   ]
  },
  {
   "cell_type": "code",
   "execution_count": 45,
   "id": "7f2fd222",
   "metadata": {},
   "outputs": [
    {
     "data": {
      "text/plain": [
       "300"
      ]
     },
     "execution_count": 45,
     "metadata": {},
     "output_type": "execute_result"
    }
   ],
   "source": [
    "len(urls_sev)"
   ]
  },
  {
   "cell_type": "markdown",
   "id": "780da73d",
   "metadata": {},
   "source": [
    "### 4. GRANADA"
   ]
  },
  {
   "cell_type": "code",
   "execution_count": 48,
   "id": "d12afb98",
   "metadata": {},
   "outputs": [],
   "source": [
    "paginas_gran = []\n",
    "for i in range(0, 281, 20):\n",
    "    paginas_gran.append(f\"https://www.airbnb.es/s/granada/homes?tab_id=home_tab&refinement_paths%5B%5D=%2Fhomes&flexible_trip_dates%5B%5D=april&flexible_trip_dates%5B%5D=december&flexible_trip_dates%5B%5D=february&flexible_trip_dates%5B%5D=january&flexible_trip_dates%5B%5D=march&flexible_trip_dates%5B%5D=may&date_picker_type=flexible_dates&flexible_trip_lengths%5B%5D=weekend_trip&source=structured_search_input_header&search_type=search_query&query=Granada&federated_search_session_id=e536f853-b867-4a61-becc-be16156defc6&pagination_search=true&items_offset={i}&section_offset=2\")"
   ]
  },
  {
   "cell_type": "code",
   "execution_count": 50,
   "id": "82fcef7c",
   "metadata": {},
   "outputs": [],
   "source": [
    "#paginas_gran"
   ]
  },
  {
   "cell_type": "code",
   "execution_count": 51,
   "id": "70386c36",
   "metadata": {},
   "outputs": [],
   "source": [
    "driver.quit()"
   ]
  },
  {
   "cell_type": "code",
   "execution_count": 52,
   "id": "40db5c53",
   "metadata": {},
   "outputs": [
    {
     "name": "stderr",
     "output_type": "stream",
     "text": [
      "\n",
      "\n",
      "====== WebDriver manager ======\n",
      "Current google-chrome version is 96.0.4664\n",
      "Get LATEST chromedriver version for 96.0.4664 google-chrome\n",
      "Driver [/Users/franciscovispo/.wdm/drivers/chromedriver/mac64/96.0.4664.45/chromedriver] found in cache\n",
      "<ipython-input-52-bad74f46b406>:5: DeprecationWarning: executable_path has been deprecated, please pass in a Service object\n",
      "  driver = webdriver.Chrome(ChromeDriverManager().install(), options = opciones)\n",
      "<ipython-input-52-bad74f46b406>:12: DeprecationWarning: find_element_by_* commands are deprecated. Please use find_element() instead\n",
      "  driver.find_element_by_css_selector(\"body > div:nth-child(7) > div > div > div:nth-child(1) > div > div._1cgcei8 > section > div._gsw2t0 > div._160gnkxa > button\").click()\n",
      "<ipython-input-52-bad74f46b406>:20: DeprecationWarning: find_element_by_* commands are deprecated. Please use find_element() instead\n",
      "  urls_gran.append(driver.find_element_by_css_selector(f\"#site-content > div:nth-child(4) > div > div > div > div > div > div > div._1gw6tte > div > div > div > div > div > div > div:nth-child({i}) > div > div > div._1e541ba5 > div > div > div > div._8s3ctt > div._1nz9l7j > div > div._e296pg > div._1mx6kqf > div > span > div > a\").get_attribute(\"href\"))\n"
     ]
    }
   ],
   "source": [
    "# LISTA DE URLS\n",
    "urls_gran = []\n",
    "\n",
    "# download the driver \n",
    "driver = webdriver.Chrome(ChromeDriverManager().install(), options = opciones)\n",
    "# set the url\n",
    "url = \"https://www.airbnb.es/s/granada/homes?tab_id=home_tab&refinement_paths%5B%5D=%2Fhomes&flexible_trip_dates%5B%5D=april&flexible_trip_dates%5B%5D=december&flexible_trip_dates%5B%5D=february&flexible_trip_dates%5B%5D=january&flexible_trip_dates%5B%5D=march&flexible_trip_dates%5B%5D=may&date_picker_type=flexible_dates&flexible_trip_lengths%5B%5D=weekend_trip&source=structured_search_input_header&search_type=search_query&query=Granada&federated_search_session_id=e536f853-b867-4a61-becc-be16156defc6&pagination_search=true\"\n",
    "\n",
    "driver.get(url)\n",
    "driver.implicitly_wait(2) # is like a time.sleep but specific of selenium\n",
    "#cookies 1\n",
    "driver.find_element_by_css_selector(\"body > div:nth-child(7) > div > div > div:nth-child(1) > div > div._1cgcei8 > section > div._gsw2t0 > div._160gnkxa > button\").click()\n",
    "driver.implicitly_wait(10) # is like a time.sleep but specific of selenium\n",
    "\n",
    "\n",
    "for i in paginas_gran:\n",
    "    for i in range (1,21):\n",
    "        driver.implicitly_wait(6)\n",
    "        #driver.find_element_by_css_selector(\"body > div:nth-child(44) > div > div > section > div._1kfl0pr > button\").click()\n",
    "        urls_gran.append(driver.find_element_by_css_selector(f\"#site-content > div:nth-child(4) > div > div > div > div > div > div > div._1gw6tte > div > div > div > div > div > div > div:nth-child({i}) > div > div > div._1e541ba5 > div > div > div > div._8s3ctt > div._1nz9l7j > div > div._e296pg > div._1mx6kqf > div > span > div > a\").get_attribute(\"href\"))\n",
    "        driver.implicitly_wait(2)\n"
   ]
  },
  {
   "cell_type": "code",
   "execution_count": 53,
   "id": "3f995313",
   "metadata": {},
   "outputs": [
    {
     "data": {
      "text/plain": [
       "300"
      ]
     },
     "execution_count": 53,
     "metadata": {},
     "output_type": "execute_result"
    }
   ],
   "source": [
    "len(urls_gran)"
   ]
  },
  {
   "cell_type": "markdown",
   "id": "94b0e658",
   "metadata": {},
   "source": [
    "### MÁLAGA"
   ]
  },
  {
   "cell_type": "code",
   "execution_count": 54,
   "id": "5145d360",
   "metadata": {},
   "outputs": [],
   "source": [
    "paginas_malaga = []\n",
    "for i in range(0, 281, 20):\n",
    "    paginas_malaga.append(f\"https://www.airbnb.es/s/Malaga--Spain/homes?tab_id=home_tab&refinement_paths%5B%5D=%2Fhomes&flexible_trip_dates%5B%5D=april&flexible_trip_dates%5B%5D=december&flexible_trip_dates%5B%5D=february&flexible_trip_dates%5B%5D=january&flexible_trip_dates%5B%5D=march&flexible_trip_dates%5B%5D=may&date_picker_type=flexible_dates&flexible_trip_lengths%5B%5D=weekend_trip&source=structured_search_input_header&search_type=autocomplete_click&query=Malaga%2C%20Spain&place_id=ChIJUdEwjWn2cg0RgOZ2pXjSAwQ&federated_search_session_id=db73f165-a7d8-4140-98b3-5ec77b69ea4a&pagination_search=true&items_offset={i}&section_offset=2\")\n",
    "    "
   ]
  },
  {
   "cell_type": "code",
   "execution_count": 63,
   "id": "a831f6af",
   "metadata": {},
   "outputs": [],
   "source": [
    "#paginas_malaga"
   ]
  },
  {
   "cell_type": "code",
   "execution_count": 64,
   "id": "b65253f9",
   "metadata": {},
   "outputs": [],
   "source": [
    "driver.quit()"
   ]
  },
  {
   "cell_type": "code",
   "execution_count": 65,
   "id": "3cc9efa1",
   "metadata": {},
   "outputs": [
    {
     "name": "stderr",
     "output_type": "stream",
     "text": [
      "\n",
      "\n",
      "====== WebDriver manager ======\n",
      "Current google-chrome version is 96.0.4664\n",
      "Get LATEST chromedriver version for 96.0.4664 google-chrome\n",
      "Driver [/Users/franciscovispo/.wdm/drivers/chromedriver/mac64/96.0.4664.45/chromedriver] found in cache\n",
      "<ipython-input-65-e0fc90c73cc8>:5: DeprecationWarning: executable_path has been deprecated, please pass in a Service object\n",
      "  driver = webdriver.Chrome(ChromeDriverManager().install(), options = opciones)\n",
      "<ipython-input-65-e0fc90c73cc8>:12: DeprecationWarning: find_element_by_* commands are deprecated. Please use find_element() instead\n",
      "  driver.find_element_by_css_selector(\"body > div:nth-child(7) > div > div > div:nth-child(1) > div > div._1cgcei8 > section > div._gsw2t0 > div._160gnkxa > button\").click()\n",
      "<ipython-input-65-e0fc90c73cc8>:20: DeprecationWarning: find_element_by_* commands are deprecated. Please use find_element() instead\n",
      "  urls_malaga.append(driver.find_element_by_css_selector(f\"#site-content > div:nth-child(4) > div > div > div > div > div > div > div._1gw6tte > div > div > div > div > div > div > div:nth-child({i}) > div > div > div._1e541ba5 > div > div > div > div._8s3ctt > div._1nz9l7j > div > div._e296pg > div._1mx6kqf > div > span > div > a\").get_attribute(\"href\"))\n"
     ]
    },
    {
     "ename": "NoSuchElementException",
     "evalue": "Message: no such element: Unable to locate element: {\"method\":\"css selector\",\"selector\":\"#site-content > div:nth-child(4) > div > div > div > div > div > div > div._1gw6tte > div > div > div > div > div > div > div:nth-child(1) > div > div > div._1e541ba5 > div > div > div > div._8s3ctt > div._1nz9l7j > div > div._e296pg > div._1mx6kqf > div > span > div > a\"}\n  (Session info: chrome=96.0.4664.55)\nStacktrace:\n0   chromedriver                        0x0000000100ee9269 __gxx_personality_v0 + 582729\n1   chromedriver                        0x0000000100e74c33 __gxx_personality_v0 + 106003\n2   chromedriver                        0x0000000100a31e28 chromedriver + 171560\n3   chromedriver                        0x0000000100a673d2 chromedriver + 390098\n4   chromedriver                        0x0000000100a67591 chromedriver + 390545\n5   chromedriver                        0x0000000100a996b4 chromedriver + 595636\n6   chromedriver                        0x0000000100a849fd chromedriver + 510461\n7   chromedriver                        0x0000000100a97462 chromedriver + 586850\n8   chromedriver                        0x0000000100a84c23 chromedriver + 511011\n9   chromedriver                        0x0000000100a5a75e chromedriver + 337758\n10  chromedriver                        0x0000000100a5ba95 chromedriver + 342677\n11  chromedriver                        0x0000000100ea58ab __gxx_personality_v0 + 305803\n12  chromedriver                        0x0000000100ebc863 __gxx_personality_v0 + 399939\n13  chromedriver                        0x0000000100ec1c7f __gxx_personality_v0 + 421471\n14  chromedriver                        0x0000000100ebdbba __gxx_personality_v0 + 404890\n15  chromedriver                        0x0000000100e99e51 __gxx_personality_v0 + 258097\n16  chromedriver                        0x0000000100ed9158 __gxx_personality_v0 + 516920\n17  chromedriver                        0x0000000100ed92e1 __gxx_personality_v0 + 517313\n18  chromedriver                        0x0000000100ef06f8 __gxx_personality_v0 + 612568\n19  libsystem_pthread.dylib             0x00007fff2049c8fc _pthread_start + 224\n20  libsystem_pthread.dylib             0x00007fff20498443 thread_start + 15\n",
     "output_type": "error",
     "traceback": [
      "\u001b[0;31m---------------------------------------------------------------------------\u001b[0m",
      "\u001b[0;31mNoSuchElementException\u001b[0m                    Traceback (most recent call last)",
      "\u001b[0;32m<ipython-input-65-e0fc90c73cc8>\u001b[0m in \u001b[0;36m<module>\u001b[0;34m\u001b[0m\n\u001b[1;32m     18\u001b[0m         \u001b[0mdriver\u001b[0m\u001b[0;34m.\u001b[0m\u001b[0mimplicitly_wait\u001b[0m\u001b[0;34m(\u001b[0m\u001b[0;36m6\u001b[0m\u001b[0;34m)\u001b[0m\u001b[0;34m\u001b[0m\u001b[0;34m\u001b[0m\u001b[0m\n\u001b[1;32m     19\u001b[0m         \u001b[0;31m#driver.find_element_by_css_selector(\"body > div:nth-child(44) > div > div > section > div._1kfl0pr > button\").click()\u001b[0m\u001b[0;34m\u001b[0m\u001b[0;34m\u001b[0m\u001b[0;34m\u001b[0m\u001b[0m\n\u001b[0;32m---> 20\u001b[0;31m         \u001b[0murls_malaga\u001b[0m\u001b[0;34m.\u001b[0m\u001b[0mappend\u001b[0m\u001b[0;34m(\u001b[0m\u001b[0mdriver\u001b[0m\u001b[0;34m.\u001b[0m\u001b[0mfind_element_by_css_selector\u001b[0m\u001b[0;34m(\u001b[0m\u001b[0;34mf\"#site-content > div:nth-child(4) > div > div > div > div > div > div > div._1gw6tte > div > div > div > div > div > div > div:nth-child({i}) > div > div > div._1e541ba5 > div > div > div > div._8s3ctt > div._1nz9l7j > div > div._e296pg > div._1mx6kqf > div > span > div > a\"\u001b[0m\u001b[0;34m)\u001b[0m\u001b[0;34m.\u001b[0m\u001b[0mget_attribute\u001b[0m\u001b[0;34m(\u001b[0m\u001b[0;34m\"href\"\u001b[0m\u001b[0;34m)\u001b[0m\u001b[0;34m)\u001b[0m\u001b[0;34m\u001b[0m\u001b[0;34m\u001b[0m\u001b[0m\n\u001b[0m\u001b[1;32m     21\u001b[0m         \u001b[0mdriver\u001b[0m\u001b[0;34m.\u001b[0m\u001b[0mimplicitly_wait\u001b[0m\u001b[0;34m(\u001b[0m\u001b[0;36m2\u001b[0m\u001b[0;34m)\u001b[0m\u001b[0;34m\u001b[0m\u001b[0;34m\u001b[0m\u001b[0m\n",
      "\u001b[0;32m~/opt/anaconda3/envs/ironhack/lib/python3.8/site-packages/selenium/webdriver/remote/webdriver.py\u001b[0m in \u001b[0;36mfind_element_by_css_selector\u001b[0;34m(self, css_selector)\u001b[0m\n\u001b[1;32m    800\u001b[0m             \u001b[0mstacklevel\u001b[0m\u001b[0;34m=\u001b[0m\u001b[0;36m2\u001b[0m\u001b[0;34m,\u001b[0m\u001b[0;34m\u001b[0m\u001b[0;34m\u001b[0m\u001b[0m\n\u001b[1;32m    801\u001b[0m         )\n\u001b[0;32m--> 802\u001b[0;31m         \u001b[0;32mreturn\u001b[0m \u001b[0mself\u001b[0m\u001b[0;34m.\u001b[0m\u001b[0mfind_element\u001b[0m\u001b[0;34m(\u001b[0m\u001b[0mby\u001b[0m\u001b[0;34m=\u001b[0m\u001b[0mBy\u001b[0m\u001b[0;34m.\u001b[0m\u001b[0mCSS_SELECTOR\u001b[0m\u001b[0;34m,\u001b[0m \u001b[0mvalue\u001b[0m\u001b[0;34m=\u001b[0m\u001b[0mcss_selector\u001b[0m\u001b[0;34m)\u001b[0m\u001b[0;34m\u001b[0m\u001b[0;34m\u001b[0m\u001b[0m\n\u001b[0m\u001b[1;32m    803\u001b[0m \u001b[0;34m\u001b[0m\u001b[0m\n\u001b[1;32m    804\u001b[0m     \u001b[0;32mdef\u001b[0m \u001b[0mfind_elements_by_css_selector\u001b[0m\u001b[0;34m(\u001b[0m\u001b[0mself\u001b[0m\u001b[0;34m,\u001b[0m \u001b[0mcss_selector\u001b[0m\u001b[0;34m)\u001b[0m \u001b[0;34m->\u001b[0m \u001b[0mWebElement\u001b[0m\u001b[0;34m:\u001b[0m\u001b[0;34m\u001b[0m\u001b[0;34m\u001b[0m\u001b[0m\n",
      "\u001b[0;32m~/opt/anaconda3/envs/ironhack/lib/python3.8/site-packages/selenium/webdriver/remote/webdriver.py\u001b[0m in \u001b[0;36mfind_element\u001b[0;34m(self, by, value)\u001b[0m\n\u001b[1;32m   1236\u001b[0m             \u001b[0mvalue\u001b[0m \u001b[0;34m=\u001b[0m \u001b[0;34m'[name=\"%s\"]'\u001b[0m \u001b[0;34m%\u001b[0m \u001b[0mvalue\u001b[0m\u001b[0;34m\u001b[0m\u001b[0;34m\u001b[0m\u001b[0m\n\u001b[1;32m   1237\u001b[0m \u001b[0;34m\u001b[0m\u001b[0m\n\u001b[0;32m-> 1238\u001b[0;31m         return self.execute(Command.FIND_ELEMENT, {\n\u001b[0m\u001b[1;32m   1239\u001b[0m             \u001b[0;34m'using'\u001b[0m\u001b[0;34m:\u001b[0m \u001b[0mby\u001b[0m\u001b[0;34m,\u001b[0m\u001b[0;34m\u001b[0m\u001b[0;34m\u001b[0m\u001b[0m\n\u001b[1;32m   1240\u001b[0m             'value': value})['value']\n",
      "\u001b[0;32m~/opt/anaconda3/envs/ironhack/lib/python3.8/site-packages/selenium/webdriver/remote/webdriver.py\u001b[0m in \u001b[0;36mexecute\u001b[0;34m(self, driver_command, params)\u001b[0m\n\u001b[1;32m    416\u001b[0m         \u001b[0mresponse\u001b[0m \u001b[0;34m=\u001b[0m \u001b[0mself\u001b[0m\u001b[0;34m.\u001b[0m\u001b[0mcommand_executor\u001b[0m\u001b[0;34m.\u001b[0m\u001b[0mexecute\u001b[0m\u001b[0;34m(\u001b[0m\u001b[0mdriver_command\u001b[0m\u001b[0;34m,\u001b[0m \u001b[0mparams\u001b[0m\u001b[0;34m)\u001b[0m\u001b[0;34m\u001b[0m\u001b[0;34m\u001b[0m\u001b[0m\n\u001b[1;32m    417\u001b[0m         \u001b[0;32mif\u001b[0m \u001b[0mresponse\u001b[0m\u001b[0;34m:\u001b[0m\u001b[0;34m\u001b[0m\u001b[0;34m\u001b[0m\u001b[0m\n\u001b[0;32m--> 418\u001b[0;31m             \u001b[0mself\u001b[0m\u001b[0;34m.\u001b[0m\u001b[0merror_handler\u001b[0m\u001b[0;34m.\u001b[0m\u001b[0mcheck_response\u001b[0m\u001b[0;34m(\u001b[0m\u001b[0mresponse\u001b[0m\u001b[0;34m)\u001b[0m\u001b[0;34m\u001b[0m\u001b[0;34m\u001b[0m\u001b[0m\n\u001b[0m\u001b[1;32m    419\u001b[0m             response['value'] = self._unwrap_value(\n\u001b[1;32m    420\u001b[0m                 response.get('value', None))\n",
      "\u001b[0;32m~/opt/anaconda3/envs/ironhack/lib/python3.8/site-packages/selenium/webdriver/remote/errorhandler.py\u001b[0m in \u001b[0;36mcheck_response\u001b[0;34m(self, response)\u001b[0m\n\u001b[1;32m    241\u001b[0m                 \u001b[0malert_text\u001b[0m \u001b[0;34m=\u001b[0m \u001b[0mvalue\u001b[0m\u001b[0;34m[\u001b[0m\u001b[0;34m'alert'\u001b[0m\u001b[0;34m]\u001b[0m\u001b[0;34m.\u001b[0m\u001b[0mget\u001b[0m\u001b[0;34m(\u001b[0m\u001b[0;34m'text'\u001b[0m\u001b[0;34m)\u001b[0m\u001b[0;34m\u001b[0m\u001b[0;34m\u001b[0m\u001b[0m\n\u001b[1;32m    242\u001b[0m             \u001b[0;32mraise\u001b[0m \u001b[0mexception_class\u001b[0m\u001b[0;34m(\u001b[0m\u001b[0mmessage\u001b[0m\u001b[0;34m,\u001b[0m \u001b[0mscreen\u001b[0m\u001b[0;34m,\u001b[0m \u001b[0mstacktrace\u001b[0m\u001b[0;34m,\u001b[0m \u001b[0malert_text\u001b[0m\u001b[0;34m)\u001b[0m  \u001b[0;31m# type: ignore[call-arg]  # mypy is not smart enough here\u001b[0m\u001b[0;34m\u001b[0m\u001b[0;34m\u001b[0m\u001b[0m\n\u001b[0;32m--> 243\u001b[0;31m         \u001b[0;32mraise\u001b[0m \u001b[0mexception_class\u001b[0m\u001b[0;34m(\u001b[0m\u001b[0mmessage\u001b[0m\u001b[0;34m,\u001b[0m \u001b[0mscreen\u001b[0m\u001b[0;34m,\u001b[0m \u001b[0mstacktrace\u001b[0m\u001b[0;34m)\u001b[0m\u001b[0;34m\u001b[0m\u001b[0;34m\u001b[0m\u001b[0m\n\u001b[0m\u001b[1;32m    244\u001b[0m \u001b[0;34m\u001b[0m\u001b[0m\n\u001b[1;32m    245\u001b[0m     \u001b[0;32mdef\u001b[0m \u001b[0m_value_or_default\u001b[0m\u001b[0;34m(\u001b[0m\u001b[0mself\u001b[0m\u001b[0;34m,\u001b[0m \u001b[0mobj\u001b[0m\u001b[0;34m:\u001b[0m \u001b[0mMapping\u001b[0m\u001b[0;34m[\u001b[0m\u001b[0m_KT\u001b[0m\u001b[0;34m,\u001b[0m \u001b[0m_VT\u001b[0m\u001b[0;34m]\u001b[0m\u001b[0;34m,\u001b[0m \u001b[0mkey\u001b[0m\u001b[0;34m:\u001b[0m \u001b[0m_KT\u001b[0m\u001b[0;34m,\u001b[0m \u001b[0mdefault\u001b[0m\u001b[0;34m:\u001b[0m \u001b[0m_VT\u001b[0m\u001b[0;34m)\u001b[0m \u001b[0;34m->\u001b[0m \u001b[0m_VT\u001b[0m\u001b[0;34m:\u001b[0m\u001b[0;34m\u001b[0m\u001b[0;34m\u001b[0m\u001b[0m\n",
      "\u001b[0;31mNoSuchElementException\u001b[0m: Message: no such element: Unable to locate element: {\"method\":\"css selector\",\"selector\":\"#site-content > div:nth-child(4) > div > div > div > div > div > div > div._1gw6tte > div > div > div > div > div > div > div:nth-child(1) > div > div > div._1e541ba5 > div > div > div > div._8s3ctt > div._1nz9l7j > div > div._e296pg > div._1mx6kqf > div > span > div > a\"}\n  (Session info: chrome=96.0.4664.55)\nStacktrace:\n0   chromedriver                        0x0000000100ee9269 __gxx_personality_v0 + 582729\n1   chromedriver                        0x0000000100e74c33 __gxx_personality_v0 + 106003\n2   chromedriver                        0x0000000100a31e28 chromedriver + 171560\n3   chromedriver                        0x0000000100a673d2 chromedriver + 390098\n4   chromedriver                        0x0000000100a67591 chromedriver + 390545\n5   chromedriver                        0x0000000100a996b4 chromedriver + 595636\n6   chromedriver                        0x0000000100a849fd chromedriver + 510461\n7   chromedriver                        0x0000000100a97462 chromedriver + 586850\n8   chromedriver                        0x0000000100a84c23 chromedriver + 511011\n9   chromedriver                        0x0000000100a5a75e chromedriver + 337758\n10  chromedriver                        0x0000000100a5ba95 chromedriver + 342677\n11  chromedriver                        0x0000000100ea58ab __gxx_personality_v0 + 305803\n12  chromedriver                        0x0000000100ebc863 __gxx_personality_v0 + 399939\n13  chromedriver                        0x0000000100ec1c7f __gxx_personality_v0 + 421471\n14  chromedriver                        0x0000000100ebdbba __gxx_personality_v0 + 404890\n15  chromedriver                        0x0000000100e99e51 __gxx_personality_v0 + 258097\n16  chromedriver                        0x0000000100ed9158 __gxx_personality_v0 + 516920\n17  chromedriver                        0x0000000100ed92e1 __gxx_personality_v0 + 517313\n18  chromedriver                        0x0000000100ef06f8 __gxx_personality_v0 + 612568\n19  libsystem_pthread.dylib             0x00007fff2049c8fc _pthread_start + 224\n20  libsystem_pthread.dylib             0x00007fff20498443 thread_start + 15\n"
     ]
    }
   ],
   "source": [
    "# LISTA DE URLS\n",
    "urls_malaga = []\n",
    "\n",
    "# download the driver \n",
    "driver = webdriver.Chrome(ChromeDriverManager().install(), options = opciones)\n",
    "# set the url\n",
    "url = \"https://www.airbnb.es/s/Malaga--Spain/homes?tab_id=home_tab&refinement_paths%5B%5D=%2Fhomes&flexible_trip_dates%5B%5D=april&flexible_trip_dates%5B%5D=december&flexible_trip_dates%5B%5D=february&flexible_trip_dates%5B%5D=january&flexible_trip_dates%5B%5D=march&flexible_trip_dates%5B%5D=may&date_picker_type=flexible_dates&flexible_trip_lengths%5B%5D=weekend_trip&source=structured_search_input_header&search_type=autocomplete_click&query=Malaga%2C%20Spain&place_id=ChIJUdEwjWn2cg0RgOZ2pXjSAwQ&federated_search_session_id=db73f165-a7d8-4140-98b3-5ec77b69ea4a&pagination_search=true\"\n",
    "\n",
    "driver.get(url)\n",
    "driver.implicitly_wait(2) # is like a time.sleep but specific of selenium\n",
    "#cookies 1\n",
    "driver.find_element_by_css_selector(\"body > div:nth-child(7) > div > div > div:nth-child(1) > div > div._1cgcei8 > section > div._gsw2t0 > div._160gnkxa > button\").click()\n",
    "driver.implicitly_wait(10) # is like a time.sleep but specific of selenium\n",
    "\n",
    "\n",
    "for i in paginas_malaga:\n",
    "    for i in range (1,21):\n",
    "        driver.implicitly_wait(6)\n",
    "        #driver.find_element_by_css_selector(\"body > div:nth-child(44) > div > div > section > div._1kfl0pr > button\").click()\n",
    "        urls_malaga.append(driver.find_element_by_css_selector(f\"#site-content > div:nth-child(4) > div > div > div > div > div > div > div._1gw6tte > div > div > div > div > div > div > div:nth-child({i}) > div > div > div._1e541ba5 > div > div > div > div._8s3ctt > div._1nz9l7j > div > div._e296pg > div._1mx6kqf > div > span > div > a\").get_attribute(\"href\"))\n",
    "        driver.implicitly_wait(2)\n"
   ]
  },
  {
   "cell_type": "code",
   "execution_count": 66,
   "id": "53da0d6b",
   "metadata": {},
   "outputs": [
    {
     "data": {
      "text/plain": [
       "15"
      ]
     },
     "execution_count": 66,
     "metadata": {},
     "output_type": "execute_result"
    }
   ],
   "source": [
    "len(paginas_malaga)"
   ]
  },
  {
   "cell_type": "markdown",
   "id": "26679878",
   "metadata": {},
   "source": [
    "### 5. SALAMANCA"
   ]
  },
  {
   "cell_type": "code",
   "execution_count": 71,
   "id": "2cd691a1",
   "metadata": {},
   "outputs": [],
   "source": [
    "paginas_salamanca = []\n",
    "for i in range(0, 281, 20):\n",
    "    paginas_salamanca.append(f\"https://www.airbnb.es/s/salamanca/homes?tab_id=home_tab&refinement_paths%5B%5D=%2Fhomes&flexible_trip_dates%5B%5D=april&flexible_trip_dates%5B%5D=december&flexible_trip_dates%5B%5D=february&flexible_trip_dates%5B%5D=january&flexible_trip_dates%5B%5D=march&flexible_trip_dates%5B%5D=may&date_picker_type=flexible_dates&flexible_trip_lengths%5B%5D=weekend_trip&source=structured_search_input_header&search_type=search_query&query=Salamanca&federated_search_session_id=60b1399b-b2ef-4754-a43c-ec91ab9db97f&pagination_search=true&items_offset={i}&section_offset=2\")\n",
    "    "
   ]
  },
  {
   "cell_type": "code",
   "execution_count": 73,
   "id": "d833cc85",
   "metadata": {},
   "outputs": [],
   "source": [
    "#paginas_salamanca"
   ]
  },
  {
   "cell_type": "code",
   "execution_count": 75,
   "id": "505c66fa",
   "metadata": {},
   "outputs": [],
   "source": [
    "driver.quit()"
   ]
  },
  {
   "cell_type": "code",
   "execution_count": 76,
   "id": "0abb6b94",
   "metadata": {},
   "outputs": [
    {
     "name": "stderr",
     "output_type": "stream",
     "text": [
      "\n",
      "\n",
      "====== WebDriver manager ======\n",
      "Current google-chrome version is 96.0.4664\n",
      "Get LATEST chromedriver version for 96.0.4664 google-chrome\n",
      "Driver [/Users/franciscovispo/.wdm/drivers/chromedriver/mac64/96.0.4664.45/chromedriver] found in cache\n",
      "<ipython-input-76-7eb0296bd34e>:5: DeprecationWarning: executable_path has been deprecated, please pass in a Service object\n",
      "  driver = webdriver.Chrome(ChromeDriverManager().install(), options = opciones)\n",
      "<ipython-input-76-7eb0296bd34e>:12: DeprecationWarning: find_element_by_* commands are deprecated. Please use find_element() instead\n",
      "  driver.find_element_by_css_selector(\"body > div:nth-child(7) > div > div > div:nth-child(1) > div > div._1cgcei8 > section > div._gsw2t0 > div._160gnkxa > button\").click()\n",
      "<ipython-input-76-7eb0296bd34e>:20: DeprecationWarning: find_element_by_* commands are deprecated. Please use find_element() instead\n",
      "  urls_salamanca.append(driver.find_element_by_css_selector(f\"#site-content > div:nth-child(4) > div > div > div > div > div > div > div._1gw6tte > div > div > div > div > div > div > div:nth-child({i}) > div > div > div._1e541ba5 > div > div > div > div._8s3ctt > div._1nz9l7j > div > div._e296pg > div._1mx6kqf > div > span > div > a\").get_attribute(\"href\"))\n"
     ]
    }
   ],
   "source": [
    "# LISTA DE URLS\n",
    "urls_salamanca = []\n",
    "\n",
    "# download the driver \n",
    "driver = webdriver.Chrome(ChromeDriverManager().install(), options = opciones)\n",
    "# set the url\n",
    "url = \"https://www.airbnb.es/s/salamanca/homes?tab_id=home_tab&refinement_paths%5B%5D=%2Fhomes&flexible_trip_dates%5B%5D=april&flexible_trip_dates%5B%5D=december&flexible_trip_dates%5B%5D=february&flexible_trip_dates%5B%5D=january&flexible_trip_dates%5B%5D=march&flexible_trip_dates%5B%5D=may&date_picker_type=flexible_dates&flexible_trip_lengths%5B%5D=weekend_trip&source=structured_search_input_header&search_type=search_query&query=Salamanca&federated_search_session_id=60b1399b-b2ef-4754-a43c-ec91ab9db97f&pagination_search=true\"\n",
    "\n",
    "driver.get(url)\n",
    "driver.implicitly_wait(2) # is like a time.sleep but specific of selenium\n",
    "#cookies 1\n",
    "driver.find_element_by_css_selector(\"body > div:nth-child(7) > div > div > div:nth-child(1) > div > div._1cgcei8 > section > div._gsw2t0 > div._160gnkxa > button\").click()\n",
    "driver.implicitly_wait(10) # is like a time.sleep but specific of selenium\n",
    "\n",
    "\n",
    "for i in paginas_salamanca:\n",
    "    for i in range (1,21):\n",
    "        driver.implicitly_wait(6)\n",
    "        #driver.find_element_by_css_selector(\"body > div:nth-child(44) > div > div > section > div._1kfl0pr > button\").click()\n",
    "        urls_salamanca.append(driver.find_element_by_css_selector(f\"#site-content > div:nth-child(4) > div > div > div > div > div > div > div._1gw6tte > div > div > div > div > div > div > div:nth-child({i}) > div > div > div._1e541ba5 > div > div > div > div._8s3ctt > div._1nz9l7j > div > div._e296pg > div._1mx6kqf > div > span > div > a\").get_attribute(\"href\"))\n",
    "        driver.implicitly_wait(2)\n"
   ]
  },
  {
   "cell_type": "code",
   "execution_count": 77,
   "id": "9a6f7588",
   "metadata": {},
   "outputs": [
    {
     "data": {
      "text/plain": [
       "300"
      ]
     },
     "execution_count": 77,
     "metadata": {},
     "output_type": "execute_result"
    }
   ],
   "source": [
    "len(urls_salamanca)"
   ]
  },
  {
   "cell_type": "markdown",
   "id": "b187d979",
   "metadata": {},
   "source": [
    "### 6. VALLADOLID"
   ]
  },
  {
   "cell_type": "code",
   "execution_count": 79,
   "id": "3ea2ec55",
   "metadata": {},
   "outputs": [],
   "source": [
    "paginas_valladolid = []\n",
    "for i in range(0, 241, 20):\n",
    "    paginas_valladolid.append(f\"https://www.airbnb.es/s/Valladolid/homes?tab_id=home_tab&refinement_paths%5B%5D=%2Fhomes&flexible_trip_dates%5B%5D=april&flexible_trip_dates%5B%5D=december&flexible_trip_dates%5B%5D=february&flexible_trip_dates%5B%5D=january&flexible_trip_dates%5B%5D=march&flexible_trip_dates%5B%5D=may&date_picker_type=flexible_dates&flexible_trip_lengths%5B%5D=weekend_trip&source=structured_search_input_header&search_type=autocomplete_click&query=Valladolid&place_id=ChIJk27GCIxyRw0R72uiHNSS_7M&federated_search_session_id=e51a6d15-6fc5-4df5-bc80-0c16f13a44fd&pagination_search=true&items_offset={i}&section_offset=2\")"
   ]
  },
  {
   "cell_type": "code",
   "execution_count": 81,
   "id": "28b8f676",
   "metadata": {},
   "outputs": [],
   "source": [
    "driver.quit()"
   ]
  },
  {
   "cell_type": "code",
   "execution_count": 82,
   "id": "9153e6c3",
   "metadata": {},
   "outputs": [
    {
     "name": "stderr",
     "output_type": "stream",
     "text": [
      "\n",
      "\n",
      "====== WebDriver manager ======\n",
      "Current google-chrome version is 96.0.4664\n",
      "Get LATEST chromedriver version for 96.0.4664 google-chrome\n",
      "Driver [/Users/franciscovispo/.wdm/drivers/chromedriver/mac64/96.0.4664.45/chromedriver] found in cache\n",
      "<ipython-input-82-3e8bbb056d15>:5: DeprecationWarning: executable_path has been deprecated, please pass in a Service object\n",
      "  driver = webdriver.Chrome(ChromeDriverManager().install(), options = opciones)\n",
      "<ipython-input-82-3e8bbb056d15>:12: DeprecationWarning: find_element_by_* commands are deprecated. Please use find_element() instead\n",
      "  driver.find_element_by_css_selector(\"body > div:nth-child(7) > div > div > div:nth-child(1) > div > div._1cgcei8 > section > div._gsw2t0 > div._160gnkxa > button\").click()\n",
      "<ipython-input-82-3e8bbb056d15>:20: DeprecationWarning: find_element_by_* commands are deprecated. Please use find_element() instead\n",
      "  urls_valladolid.append(driver.find_element_by_css_selector(f\"#site-content > div:nth-child(4) > div > div > div > div > div > div > div._1gw6tte > div > div > div > div > div > div > div:nth-child({i}) > div > div > div._1e541ba5 > div > div > div > div._8s3ctt > div._1nz9l7j > div > div._e296pg > div._1mx6kqf > div > span > div > a\").get_attribute(\"href\"))\n"
     ]
    }
   ],
   "source": [
    "# LISTA DE URLS\n",
    "urls_valladolid = []\n",
    "\n",
    "# download the driver \n",
    "driver = webdriver.Chrome(ChromeDriverManager().install(), options = opciones)\n",
    "# set the url\n",
    "url = \"https://www.airbnb.es/s/Valladolid/homes?tab_id=home_tab&refinement_paths%5B%5D=%2Fhomes&flexible_trip_dates%5B%5D=april&flexible_trip_dates%5B%5D=december&flexible_trip_dates%5B%5D=february&flexible_trip_dates%5B%5D=january&flexible_trip_dates%5B%5D=march&flexible_trip_dates%5B%5D=may&date_picker_type=flexible_dates&flexible_trip_lengths%5B%5D=weekend_trip&source=structured_search_input_header&search_type=autocomplete_click&query=Valladolid&place_id=ChIJk27GCIxyRw0R72uiHNSS_7M&federated_search_session_id=e51a6d15-6fc5-4df5-bc80-0c16f13a44fd&pagination_search=true\"\n",
    "\n",
    "driver.get(url)\n",
    "driver.implicitly_wait(2) # is like a time.sleep but specific of selenium\n",
    "#cookies 1\n",
    "driver.find_element_by_css_selector(\"body > div:nth-child(7) > div > div > div:nth-child(1) > div > div._1cgcei8 > section > div._gsw2t0 > div._160gnkxa > button\").click()\n",
    "driver.implicitly_wait(10) # is like a time.sleep but specific of selenium\n",
    "\n",
    "\n",
    "for i in paginas_valladolid:\n",
    "    for i in range (1,21):\n",
    "        driver.implicitly_wait(6)\n",
    "        #driver.find_element_by_css_selector(\"body > div:nth-child(44) > div > div > section > div._1kfl0pr > button\").click()\n",
    "        urls_valladolid.append(driver.find_element_by_css_selector(f\"#site-content > div:nth-child(4) > div > div > div > div > div > div > div._1gw6tte > div > div > div > div > div > div > div:nth-child({i}) > div > div > div._1e541ba5 > div > div > div > div._8s3ctt > div._1nz9l7j > div > div._e296pg > div._1mx6kqf > div > span > div > a\").get_attribute(\"href\"))\n",
    "        driver.implicitly_wait(2)\n"
   ]
  },
  {
   "cell_type": "code",
   "execution_count": 83,
   "id": "6a53ca7a",
   "metadata": {},
   "outputs": [
    {
     "data": {
      "text/plain": [
       "260"
      ]
     },
     "execution_count": 83,
     "metadata": {},
     "output_type": "execute_result"
    }
   ],
   "source": [
    "len(urls_valladolid)"
   ]
  },
  {
   "cell_type": "markdown",
   "id": "1cb472f9",
   "metadata": {},
   "source": [
    "### OVIEDO"
   ]
  },
  {
   "cell_type": "code",
   "execution_count": 131,
   "id": "0eb86ac7",
   "metadata": {},
   "outputs": [],
   "source": [
    "paginas_oviedo = []\n",
    "for i in range(0, 241, 20):\n",
    "    paginas_oviedo.append(f\"https://www.airbnb.es/s/Oviedo--Asturias/homes?tab_id=home_tab&refinement_paths%5B%5D=%2Fhomes&flexible_trip_dates%5B%5D=april&flexible_trip_dates%5B%5D=december&flexible_trip_dates%5B%5D=february&flexible_trip_dates%5B%5D=january&flexible_trip_dates%5B%5D=march&flexible_trip_dates%5B%5D=may&date_picker_type=flexible_dates&flexible_trip_lengths%5B%5D=weekend_trip&source=structured_search_input_header&search_type=autocomplete_click&query=Oviedo%2C%20Asturias&place_id=ChIJnbCeYPqMNg0Rphj7yjmL2Rc&federated_search_session_id=f2d5784b-a8e5-4fc3-9c5f-2898f3fb438a&pagination_search=true&items_offset={i}&section_offset=2\")\n",
    "    "
   ]
  },
  {
   "cell_type": "code",
   "execution_count": 132,
   "id": "2a2f2361",
   "metadata": {},
   "outputs": [],
   "source": [
    "driver.quit()"
   ]
  },
  {
   "cell_type": "code",
   "execution_count": 133,
   "id": "2d65f938",
   "metadata": {},
   "outputs": [
    {
     "name": "stderr",
     "output_type": "stream",
     "text": [
      "\n",
      "\n",
      "====== WebDriver manager ======\n",
      "Current google-chrome version is 96.0.4664\n",
      "Get LATEST chromedriver version for 96.0.4664 google-chrome\n",
      "Driver [/Users/franciscovispo/.wdm/drivers/chromedriver/mac64/96.0.4664.45/chromedriver] found in cache\n",
      "<ipython-input-133-4e5a5f5c7094>:5: DeprecationWarning: executable_path has been deprecated, please pass in a Service object\n",
      "  driver = webdriver.Chrome(ChromeDriverManager().install(), options = opciones)\n",
      "<ipython-input-133-4e5a5f5c7094>:12: DeprecationWarning: find_element_by_* commands are deprecated. Please use find_element() instead\n",
      "  driver.find_element_by_css_selector(\"body > div:nth-child(7) > div > div > div:nth-child(1) > div > div._1cgcei8 > section > div._gsw2t0 > div._160gnkxa > button\").click()\n",
      "<ipython-input-133-4e5a5f5c7094>:20: DeprecationWarning: find_element_by_* commands are deprecated. Please use find_element() instead\n",
      "  urls_oviedo.append(driver.find_element_by_css_selector(f\"#site-content > div:nth-child(4) > div > div > div > div > div > div > div._1gw6tte > div > div > div > div > div > div > div:nth-child({i}) > div > div > div._1e541ba5 > div > div > div > div._8s3ctt > div._1nz9l7j > div > div._e296pg > div._1mx6kqf > div > span > div > a\").get_attribute(\"href\"))\n"
     ]
    },
    {
     "ename": "NoSuchElementException",
     "evalue": "Message: no such element: Unable to locate element: {\"method\":\"css selector\",\"selector\":\"#site-content > div:nth-child(4) > div > div > div > div > div > div > div._1gw6tte > div > div > div > div > div > div > div:nth-child(1) > div > div > div._1e541ba5 > div > div > div > div._8s3ctt > div._1nz9l7j > div > div._e296pg > div._1mx6kqf > div > span > div > a\"}\n  (Session info: chrome=96.0.4664.55)\nStacktrace:\n0   chromedriver                        0x000000010daac269 __gxx_personality_v0 + 582729\n1   chromedriver                        0x000000010da37c33 __gxx_personality_v0 + 106003\n2   chromedriver                        0x000000010d5f4e28 chromedriver + 171560\n3   chromedriver                        0x000000010d62a3d2 chromedriver + 390098\n4   chromedriver                        0x000000010d62a591 chromedriver + 390545\n5   chromedriver                        0x000000010d65c6b4 chromedriver + 595636\n6   chromedriver                        0x000000010d6479fd chromedriver + 510461\n7   chromedriver                        0x000000010d65a462 chromedriver + 586850\n8   chromedriver                        0x000000010d647c23 chromedriver + 511011\n9   chromedriver                        0x000000010d61d75e chromedriver + 337758\n10  chromedriver                        0x000000010d61ea95 chromedriver + 342677\n11  chromedriver                        0x000000010da688ab __gxx_personality_v0 + 305803\n12  chromedriver                        0x000000010da7f863 __gxx_personality_v0 + 399939\n13  chromedriver                        0x000000010da84c7f __gxx_personality_v0 + 421471\n14  chromedriver                        0x000000010da80bba __gxx_personality_v0 + 404890\n15  chromedriver                        0x000000010da5ce51 __gxx_personality_v0 + 258097\n16  chromedriver                        0x000000010da9c158 __gxx_personality_v0 + 516920\n17  chromedriver                        0x000000010da9c2e1 __gxx_personality_v0 + 517313\n18  chromedriver                        0x000000010dab36f8 __gxx_personality_v0 + 612568\n19  libsystem_pthread.dylib             0x00007fff2049c8fc _pthread_start + 224\n20  libsystem_pthread.dylib             0x00007fff20498443 thread_start + 15\n",
     "output_type": "error",
     "traceback": [
      "\u001b[0;31m---------------------------------------------------------------------------\u001b[0m",
      "\u001b[0;31mNoSuchElementException\u001b[0m                    Traceback (most recent call last)",
      "\u001b[0;32m<ipython-input-133-4e5a5f5c7094>\u001b[0m in \u001b[0;36m<module>\u001b[0;34m\u001b[0m\n\u001b[1;32m     18\u001b[0m         \u001b[0mdriver\u001b[0m\u001b[0;34m.\u001b[0m\u001b[0mimplicitly_wait\u001b[0m\u001b[0;34m(\u001b[0m\u001b[0;36m6\u001b[0m\u001b[0;34m)\u001b[0m\u001b[0;34m\u001b[0m\u001b[0;34m\u001b[0m\u001b[0m\n\u001b[1;32m     19\u001b[0m         \u001b[0;31m#driver.find_element_by_css_selector(\"body > div:nth-child(44) > div > div > section > div._1kfl0pr > button\").click()\u001b[0m\u001b[0;34m\u001b[0m\u001b[0;34m\u001b[0m\u001b[0;34m\u001b[0m\u001b[0m\n\u001b[0;32m---> 20\u001b[0;31m         \u001b[0murls_oviedo\u001b[0m\u001b[0;34m.\u001b[0m\u001b[0mappend\u001b[0m\u001b[0;34m(\u001b[0m\u001b[0mdriver\u001b[0m\u001b[0;34m.\u001b[0m\u001b[0mfind_element_by_css_selector\u001b[0m\u001b[0;34m(\u001b[0m\u001b[0;34mf\"#site-content > div:nth-child(4) > div > div > div > div > div > div > div._1gw6tte > div > div > div > div > div > div > div:nth-child({i}) > div > div > div._1e541ba5 > div > div > div > div._8s3ctt > div._1nz9l7j > div > div._e296pg > div._1mx6kqf > div > span > div > a\"\u001b[0m\u001b[0;34m)\u001b[0m\u001b[0;34m.\u001b[0m\u001b[0mget_attribute\u001b[0m\u001b[0;34m(\u001b[0m\u001b[0;34m\"href\"\u001b[0m\u001b[0;34m)\u001b[0m\u001b[0;34m)\u001b[0m\u001b[0;34m\u001b[0m\u001b[0;34m\u001b[0m\u001b[0m\n\u001b[0m\u001b[1;32m     21\u001b[0m         \u001b[0mdriver\u001b[0m\u001b[0;34m.\u001b[0m\u001b[0mimplicitly_wait\u001b[0m\u001b[0;34m(\u001b[0m\u001b[0;36m2\u001b[0m\u001b[0;34m)\u001b[0m\u001b[0;34m\u001b[0m\u001b[0;34m\u001b[0m\u001b[0m\n",
      "\u001b[0;32m~/opt/anaconda3/envs/ironhack/lib/python3.8/site-packages/selenium/webdriver/remote/webdriver.py\u001b[0m in \u001b[0;36mfind_element_by_css_selector\u001b[0;34m(self, css_selector)\u001b[0m\n\u001b[1;32m    800\u001b[0m             \u001b[0mstacklevel\u001b[0m\u001b[0;34m=\u001b[0m\u001b[0;36m2\u001b[0m\u001b[0;34m,\u001b[0m\u001b[0;34m\u001b[0m\u001b[0;34m\u001b[0m\u001b[0m\n\u001b[1;32m    801\u001b[0m         )\n\u001b[0;32m--> 802\u001b[0;31m         \u001b[0;32mreturn\u001b[0m \u001b[0mself\u001b[0m\u001b[0;34m.\u001b[0m\u001b[0mfind_element\u001b[0m\u001b[0;34m(\u001b[0m\u001b[0mby\u001b[0m\u001b[0;34m=\u001b[0m\u001b[0mBy\u001b[0m\u001b[0;34m.\u001b[0m\u001b[0mCSS_SELECTOR\u001b[0m\u001b[0;34m,\u001b[0m \u001b[0mvalue\u001b[0m\u001b[0;34m=\u001b[0m\u001b[0mcss_selector\u001b[0m\u001b[0;34m)\u001b[0m\u001b[0;34m\u001b[0m\u001b[0;34m\u001b[0m\u001b[0m\n\u001b[0m\u001b[1;32m    803\u001b[0m \u001b[0;34m\u001b[0m\u001b[0m\n\u001b[1;32m    804\u001b[0m     \u001b[0;32mdef\u001b[0m \u001b[0mfind_elements_by_css_selector\u001b[0m\u001b[0;34m(\u001b[0m\u001b[0mself\u001b[0m\u001b[0;34m,\u001b[0m \u001b[0mcss_selector\u001b[0m\u001b[0;34m)\u001b[0m \u001b[0;34m->\u001b[0m \u001b[0mWebElement\u001b[0m\u001b[0;34m:\u001b[0m\u001b[0;34m\u001b[0m\u001b[0;34m\u001b[0m\u001b[0m\n",
      "\u001b[0;32m~/opt/anaconda3/envs/ironhack/lib/python3.8/site-packages/selenium/webdriver/remote/webdriver.py\u001b[0m in \u001b[0;36mfind_element\u001b[0;34m(self, by, value)\u001b[0m\n\u001b[1;32m   1236\u001b[0m             \u001b[0mvalue\u001b[0m \u001b[0;34m=\u001b[0m \u001b[0;34m'[name=\"%s\"]'\u001b[0m \u001b[0;34m%\u001b[0m \u001b[0mvalue\u001b[0m\u001b[0;34m\u001b[0m\u001b[0;34m\u001b[0m\u001b[0m\n\u001b[1;32m   1237\u001b[0m \u001b[0;34m\u001b[0m\u001b[0m\n\u001b[0;32m-> 1238\u001b[0;31m         return self.execute(Command.FIND_ELEMENT, {\n\u001b[0m\u001b[1;32m   1239\u001b[0m             \u001b[0;34m'using'\u001b[0m\u001b[0;34m:\u001b[0m \u001b[0mby\u001b[0m\u001b[0;34m,\u001b[0m\u001b[0;34m\u001b[0m\u001b[0;34m\u001b[0m\u001b[0m\n\u001b[1;32m   1240\u001b[0m             'value': value})['value']\n",
      "\u001b[0;32m~/opt/anaconda3/envs/ironhack/lib/python3.8/site-packages/selenium/webdriver/remote/webdriver.py\u001b[0m in \u001b[0;36mexecute\u001b[0;34m(self, driver_command, params)\u001b[0m\n\u001b[1;32m    416\u001b[0m         \u001b[0mresponse\u001b[0m \u001b[0;34m=\u001b[0m \u001b[0mself\u001b[0m\u001b[0;34m.\u001b[0m\u001b[0mcommand_executor\u001b[0m\u001b[0;34m.\u001b[0m\u001b[0mexecute\u001b[0m\u001b[0;34m(\u001b[0m\u001b[0mdriver_command\u001b[0m\u001b[0;34m,\u001b[0m \u001b[0mparams\u001b[0m\u001b[0;34m)\u001b[0m\u001b[0;34m\u001b[0m\u001b[0;34m\u001b[0m\u001b[0m\n\u001b[1;32m    417\u001b[0m         \u001b[0;32mif\u001b[0m \u001b[0mresponse\u001b[0m\u001b[0;34m:\u001b[0m\u001b[0;34m\u001b[0m\u001b[0;34m\u001b[0m\u001b[0m\n\u001b[0;32m--> 418\u001b[0;31m             \u001b[0mself\u001b[0m\u001b[0;34m.\u001b[0m\u001b[0merror_handler\u001b[0m\u001b[0;34m.\u001b[0m\u001b[0mcheck_response\u001b[0m\u001b[0;34m(\u001b[0m\u001b[0mresponse\u001b[0m\u001b[0;34m)\u001b[0m\u001b[0;34m\u001b[0m\u001b[0;34m\u001b[0m\u001b[0m\n\u001b[0m\u001b[1;32m    419\u001b[0m             response['value'] = self._unwrap_value(\n\u001b[1;32m    420\u001b[0m                 response.get('value', None))\n",
      "\u001b[0;32m~/opt/anaconda3/envs/ironhack/lib/python3.8/site-packages/selenium/webdriver/remote/errorhandler.py\u001b[0m in \u001b[0;36mcheck_response\u001b[0;34m(self, response)\u001b[0m\n\u001b[1;32m    241\u001b[0m                 \u001b[0malert_text\u001b[0m \u001b[0;34m=\u001b[0m \u001b[0mvalue\u001b[0m\u001b[0;34m[\u001b[0m\u001b[0;34m'alert'\u001b[0m\u001b[0;34m]\u001b[0m\u001b[0;34m.\u001b[0m\u001b[0mget\u001b[0m\u001b[0;34m(\u001b[0m\u001b[0;34m'text'\u001b[0m\u001b[0;34m)\u001b[0m\u001b[0;34m\u001b[0m\u001b[0;34m\u001b[0m\u001b[0m\n\u001b[1;32m    242\u001b[0m             \u001b[0;32mraise\u001b[0m \u001b[0mexception_class\u001b[0m\u001b[0;34m(\u001b[0m\u001b[0mmessage\u001b[0m\u001b[0;34m,\u001b[0m \u001b[0mscreen\u001b[0m\u001b[0;34m,\u001b[0m \u001b[0mstacktrace\u001b[0m\u001b[0;34m,\u001b[0m \u001b[0malert_text\u001b[0m\u001b[0;34m)\u001b[0m  \u001b[0;31m# type: ignore[call-arg]  # mypy is not smart enough here\u001b[0m\u001b[0;34m\u001b[0m\u001b[0;34m\u001b[0m\u001b[0m\n\u001b[0;32m--> 243\u001b[0;31m         \u001b[0;32mraise\u001b[0m \u001b[0mexception_class\u001b[0m\u001b[0;34m(\u001b[0m\u001b[0mmessage\u001b[0m\u001b[0;34m,\u001b[0m \u001b[0mscreen\u001b[0m\u001b[0;34m,\u001b[0m \u001b[0mstacktrace\u001b[0m\u001b[0;34m)\u001b[0m\u001b[0;34m\u001b[0m\u001b[0;34m\u001b[0m\u001b[0m\n\u001b[0m\u001b[1;32m    244\u001b[0m \u001b[0;34m\u001b[0m\u001b[0m\n\u001b[1;32m    245\u001b[0m     \u001b[0;32mdef\u001b[0m \u001b[0m_value_or_default\u001b[0m\u001b[0;34m(\u001b[0m\u001b[0mself\u001b[0m\u001b[0;34m,\u001b[0m \u001b[0mobj\u001b[0m\u001b[0;34m:\u001b[0m \u001b[0mMapping\u001b[0m\u001b[0;34m[\u001b[0m\u001b[0m_KT\u001b[0m\u001b[0;34m,\u001b[0m \u001b[0m_VT\u001b[0m\u001b[0;34m]\u001b[0m\u001b[0;34m,\u001b[0m \u001b[0mkey\u001b[0m\u001b[0;34m:\u001b[0m \u001b[0m_KT\u001b[0m\u001b[0;34m,\u001b[0m \u001b[0mdefault\u001b[0m\u001b[0;34m:\u001b[0m \u001b[0m_VT\u001b[0m\u001b[0;34m)\u001b[0m \u001b[0;34m->\u001b[0m \u001b[0m_VT\u001b[0m\u001b[0;34m:\u001b[0m\u001b[0;34m\u001b[0m\u001b[0;34m\u001b[0m\u001b[0m\n",
      "\u001b[0;31mNoSuchElementException\u001b[0m: Message: no such element: Unable to locate element: {\"method\":\"css selector\",\"selector\":\"#site-content > div:nth-child(4) > div > div > div > div > div > div > div._1gw6tte > div > div > div > div > div > div > div:nth-child(1) > div > div > div._1e541ba5 > div > div > div > div._8s3ctt > div._1nz9l7j > div > div._e296pg > div._1mx6kqf > div > span > div > a\"}\n  (Session info: chrome=96.0.4664.55)\nStacktrace:\n0   chromedriver                        0x000000010daac269 __gxx_personality_v0 + 582729\n1   chromedriver                        0x000000010da37c33 __gxx_personality_v0 + 106003\n2   chromedriver                        0x000000010d5f4e28 chromedriver + 171560\n3   chromedriver                        0x000000010d62a3d2 chromedriver + 390098\n4   chromedriver                        0x000000010d62a591 chromedriver + 390545\n5   chromedriver                        0x000000010d65c6b4 chromedriver + 595636\n6   chromedriver                        0x000000010d6479fd chromedriver + 510461\n7   chromedriver                        0x000000010d65a462 chromedriver + 586850\n8   chromedriver                        0x000000010d647c23 chromedriver + 511011\n9   chromedriver                        0x000000010d61d75e chromedriver + 337758\n10  chromedriver                        0x000000010d61ea95 chromedriver + 342677\n11  chromedriver                        0x000000010da688ab __gxx_personality_v0 + 305803\n12  chromedriver                        0x000000010da7f863 __gxx_personality_v0 + 399939\n13  chromedriver                        0x000000010da84c7f __gxx_personality_v0 + 421471\n14  chromedriver                        0x000000010da80bba __gxx_personality_v0 + 404890\n15  chromedriver                        0x000000010da5ce51 __gxx_personality_v0 + 258097\n16  chromedriver                        0x000000010da9c158 __gxx_personality_v0 + 516920\n17  chromedriver                        0x000000010da9c2e1 __gxx_personality_v0 + 517313\n18  chromedriver                        0x000000010dab36f8 __gxx_personality_v0 + 612568\n19  libsystem_pthread.dylib             0x00007fff2049c8fc _pthread_start + 224\n20  libsystem_pthread.dylib             0x00007fff20498443 thread_start + 15\n"
     ]
    }
   ],
   "source": [
    "# LISTA DE URLS\n",
    "urls_oviedo = []\n",
    "\n",
    "# download the driver \n",
    "driver = webdriver.Chrome(ChromeDriverManager().install(), options = opciones)\n",
    "# set the url\n",
    "url = \"https://www.airbnb.es/s/Oviedo--Asturias/homes?tab_id=home_tab&refinement_paths%5B%5D=%2Fhomes&flexible_trip_dates%5B%5D=april&flexible_trip_dates%5B%5D=december&flexible_trip_dates%5B%5D=february&flexible_trip_dates%5B%5D=january&flexible_trip_dates%5B%5D=march&flexible_trip_dates%5B%5D=may&date_picker_type=flexible_dates&flexible_trip_lengths%5B%5D=weekend_trip&source=structured_search_input_header&search_type=autocomplete_click&query=Oviedo%2C%20Asturias&place_id=ChIJnbCeYPqMNg0Rphj7yjmL2Rc&federated_search_session_id=f2d5784b-a8e5-4fc3-9c5f-2898f3fb438a&pagination_search=true\"\n",
    "\n",
    "driver.get(url)\n",
    "driver.implicitly_wait(2) # is like a time.sleep but specific of selenium\n",
    "#cookies 1\n",
    "driver.find_element_by_css_selector(\"body > div:nth-child(7) > div > div > div:nth-child(1) > div > div._1cgcei8 > section > div._gsw2t0 > div._160gnkxa > button\").click()\n",
    "driver.implicitly_wait(10) # is like a time.sleep but specific of selenium\n",
    "\n",
    "\n",
    "for i in paginas_oviedo:\n",
    "    for i in range (1,21):\n",
    "        driver.implicitly_wait(6)\n",
    "        #driver.find_element_by_css_selector(\"body > div:nth-child(44) > div > div > section > div._1kfl0pr > button\").click()\n",
    "        urls_oviedo.append(driver.find_element_by_css_selector(f\"#site-content > div:nth-child(4) > div > div > div > div > div > div > div._1gw6tte > div > div > div > div > div > div > div:nth-child({i}) > div > div > div._1e541ba5 > div > div > div > div._8s3ctt > div._1nz9l7j > div > div._e296pg > div._1mx6kqf > div > span > div > a\").get_attribute(\"href\"))\n",
    "        driver.implicitly_wait(2)\n"
   ]
  },
  {
   "cell_type": "code",
   "execution_count": 134,
   "id": "aeb8fc37",
   "metadata": {},
   "outputs": [
    {
     "data": {
      "text/plain": [
       "0"
      ]
     },
     "execution_count": 134,
     "metadata": {},
     "output_type": "execute_result"
    }
   ],
   "source": [
    "len(urls_oviedo)"
   ]
  },
  {
   "cell_type": "markdown",
   "id": "b5baa186",
   "metadata": {},
   "source": [
    "### 7. BILBAO"
   ]
  },
  {
   "cell_type": "code",
   "execution_count": 97,
   "id": "9ed53fe3",
   "metadata": {},
   "outputs": [],
   "source": [
    "paginas_bilbao = []\n",
    "for i in range(0, 281, 20):\n",
    "    paginas_bilbao.append(f\"https://www.airbnb.es/s/Bilbao/homes?tab_id=home_tab&refinement_paths%5B%5D=%2Fhomes&flexible_trip_dates%5B%5D=april&flexible_trip_dates%5B%5D=december&flexible_trip_dates%5B%5D=february&flexible_trip_dates%5B%5D=january&flexible_trip_dates%5B%5D=march&flexible_trip_dates%5B%5D=may&date_picker_type=flexible_dates&flexible_trip_lengths%5B%5D=weekend_trip&source=structured_search_input_header&search_type=autocomplete_click&query=Bilbao&place_id=ChIJuYlLZidOTg0RRaaVHsSsNGU&federated_search_session_id=ca54bcb7-4d62-4583-bd8d-6691514fe5fa&pagination_search=true&items_offset={i}&section_offset=2\")\n",
    "    "
   ]
  },
  {
   "cell_type": "code",
   "execution_count": 98,
   "id": "8759fa26",
   "metadata": {},
   "outputs": [],
   "source": [
    "driver.quit()"
   ]
  },
  {
   "cell_type": "code",
   "execution_count": 99,
   "id": "ba025d96",
   "metadata": {},
   "outputs": [
    {
     "name": "stderr",
     "output_type": "stream",
     "text": [
      "\n",
      "\n",
      "====== WebDriver manager ======\n",
      "Current google-chrome version is 96.0.4664\n",
      "Get LATEST chromedriver version for 96.0.4664 google-chrome\n",
      "Driver [/Users/franciscovispo/.wdm/drivers/chromedriver/mac64/96.0.4664.45/chromedriver] found in cache\n",
      "<ipython-input-99-1576e856af69>:5: DeprecationWarning: executable_path has been deprecated, please pass in a Service object\n",
      "  driver = webdriver.Chrome(ChromeDriverManager().install(), options = opciones)\n",
      "<ipython-input-99-1576e856af69>:12: DeprecationWarning: find_element_by_* commands are deprecated. Please use find_element() instead\n",
      "  driver.find_element_by_css_selector(\"body > div:nth-child(7) > div > div > div:nth-child(1) > div > div._1cgcei8 > section > div._gsw2t0 > div._160gnkxa > button\").click()\n",
      "<ipython-input-99-1576e856af69>:20: DeprecationWarning: find_element_by_* commands are deprecated. Please use find_element() instead\n",
      "  urls_bilbao.append(driver.find_element_by_css_selector(f\"#site-content > div:nth-child(4) > div > div > div > div > div > div > div._1gw6tte > div > div > div > div > div > div > div:nth-child({i}) > div > div > div._1e541ba5 > div > div > div > div._8s3ctt > div._1nz9l7j > div > div._e296pg > div._1mx6kqf > div > span > div > a\").get_attribute(\"href\"))\n"
     ]
    }
   ],
   "source": [
    "# LISTA DE URLS\n",
    "urls_bilbao = []\n",
    "\n",
    "# download the driver \n",
    "driver = webdriver.Chrome(ChromeDriverManager().install(), options = opciones)\n",
    "# set the url\n",
    "url = \"https://www.airbnb.es/s/Bilbao/homes?tab_id=home_tab&refinement_paths%5B%5D=%2Fhomes&flexible_trip_dates%5B%5D=april&flexible_trip_dates%5B%5D=december&flexible_trip_dates%5B%5D=february&flexible_trip_dates%5B%5D=january&flexible_trip_dates%5B%5D=march&flexible_trip_dates%5B%5D=may&date_picker_type=flexible_dates&flexible_trip_lengths%5B%5D=weekend_trip&source=structured_search_input_header&search_type=autocomplete_click&query=Bilbao&place_id=ChIJuYlLZidOTg0RRaaVHsSsNGU&federated_search_session_id=ca54bcb7-4d62-4583-bd8d-6691514fe5fa&pagination_search=true\"\n",
    "\n",
    "driver.get(url)\n",
    "driver.implicitly_wait(2) # is like a time.sleep but specific of selenium\n",
    "#cookies 1\n",
    "driver.find_element_by_css_selector(\"body > div:nth-child(7) > div > div > div:nth-child(1) > div > div._1cgcei8 > section > div._gsw2t0 > div._160gnkxa > button\").click()\n",
    "driver.implicitly_wait(10) # is like a time.sleep but specific of selenium\n",
    "\n",
    "\n",
    "for i in paginas_bilbao:\n",
    "    for i in range (1,21):\n",
    "        driver.implicitly_wait(6)\n",
    "        #driver.find_element_by_css_selector(\"body > div:nth-child(44) > div > div > section > div._1kfl0pr > button\").click()\n",
    "        urls_bilbao.append(driver.find_element_by_css_selector(f\"#site-content > div:nth-child(4) > div > div > div > div > div > div > div._1gw6tte > div > div > div > div > div > div > div:nth-child({i}) > div > div > div._1e541ba5 > div > div > div > div._8s3ctt > div._1nz9l7j > div > div._e296pg > div._1mx6kqf > div > span > div > a\").get_attribute(\"href\"))\n",
    "        driver.implicitly_wait(2)\n"
   ]
  },
  {
   "cell_type": "code",
   "execution_count": 100,
   "id": "d45fb4e8",
   "metadata": {},
   "outputs": [
    {
     "data": {
      "text/plain": [
       "300"
      ]
     },
     "execution_count": 100,
     "metadata": {},
     "output_type": "execute_result"
    }
   ],
   "source": [
    "len(urls_bilbao)"
   ]
  },
  {
   "cell_type": "markdown",
   "id": "57fabf16",
   "metadata": {},
   "source": [
    "### SANTANDER"
   ]
  },
  {
   "cell_type": "code",
   "execution_count": 101,
   "id": "e5274cd1",
   "metadata": {},
   "outputs": [],
   "source": [
    "paginas_santander = []\n",
    "for i in range(0, 281, 20):\n",
    "    paginas_santander.append(f\"https://www.airbnb.es/s/Santander--Cantabria/homes?tab_id=home_tab&refinement_paths%5B%5D=%2Fhomes&flexible_trip_dates%5B%5D=april&flexible_trip_dates%5B%5D=december&flexible_trip_dates%5B%5D=february&flexible_trip_dates%5B%5D=january&flexible_trip_dates%5B%5D=march&flexible_trip_dates%5B%5D=may&date_picker_type=flexible_dates&flexible_trip_lengths%5B%5D=weekend_trip&source=structured_search_input_header&search_type=autocomplete_click&query=Santander%2C%20Cantabria&place_id=ChIJQ1sWvn1JSQ0RcDfLc4L1BAQ&federated_search_session_id=dd60bc65-2801-4696-b6b9-33019ab80b4e&pagination_search=true&items_offset={i}&section_offset=2\")\n",
    "    "
   ]
  },
  {
   "cell_type": "code",
   "execution_count": 102,
   "id": "b8d363db",
   "metadata": {},
   "outputs": [],
   "source": [
    "driver.quit()"
   ]
  },
  {
   "cell_type": "code",
   "execution_count": 103,
   "id": "2fa5680f",
   "metadata": {},
   "outputs": [
    {
     "name": "stderr",
     "output_type": "stream",
     "text": [
      "\n",
      "\n",
      "====== WebDriver manager ======\n",
      "Current google-chrome version is 96.0.4664\n",
      "Get LATEST chromedriver version for 96.0.4664 google-chrome\n",
      "Driver [/Users/franciscovispo/.wdm/drivers/chromedriver/mac64/96.0.4664.45/chromedriver] found in cache\n",
      "<ipython-input-103-135b8cb92780>:5: DeprecationWarning: executable_path has been deprecated, please pass in a Service object\n",
      "  driver = webdriver.Chrome(ChromeDriverManager().install(), options = opciones)\n",
      "<ipython-input-103-135b8cb92780>:12: DeprecationWarning: find_element_by_* commands are deprecated. Please use find_element() instead\n",
      "  driver.find_element_by_css_selector(\"body > div:nth-child(7) > div > div > div:nth-child(1) > div > div._1cgcei8 > section > div._gsw2t0 > div._160gnkxa > button\").click()\n",
      "<ipython-input-103-135b8cb92780>:20: DeprecationWarning: find_element_by_* commands are deprecated. Please use find_element() instead\n",
      "  urls_santander.append(driver.find_element_by_css_selector(f\"#site-content > div:nth-child(4) > div > div > div > div > div > div > div._1gw6tte > div > div > div > div > div > div > div:nth-child({i}) > div > div > div._1e541ba5 > div > div > div > div._8s3ctt > div._1nz9l7j > div > div._e296pg > div._1mx6kqf > div > span > div > a\").get_attribute(\"href\"))\n"
     ]
    },
    {
     "ename": "NoSuchElementException",
     "evalue": "Message: no such element: Unable to locate element: {\"method\":\"css selector\",\"selector\":\"#site-content > div:nth-child(4) > div > div > div > div > div > div > div._1gw6tte > div > div > div > div > div > div > div:nth-child(1) > div > div > div._1e541ba5 > div > div > div > div._8s3ctt > div._1nz9l7j > div > div._e296pg > div._1mx6kqf > div > span > div > a\"}\n  (Session info: chrome=96.0.4664.55)\nStacktrace:\n0   chromedriver                        0x0000000104a5e269 __gxx_personality_v0 + 582729\n1   chromedriver                        0x00000001049e9c33 __gxx_personality_v0 + 106003\n2   chromedriver                        0x00000001045a6e28 chromedriver + 171560\n3   chromedriver                        0x00000001045dc3d2 chromedriver + 390098\n4   chromedriver                        0x00000001045dc591 chromedriver + 390545\n5   chromedriver                        0x000000010460e6b4 chromedriver + 595636\n6   chromedriver                        0x00000001045f99fd chromedriver + 510461\n7   chromedriver                        0x000000010460c462 chromedriver + 586850\n8   chromedriver                        0x00000001045f9c23 chromedriver + 511011\n9   chromedriver                        0x00000001045cf75e chromedriver + 337758\n10  chromedriver                        0x00000001045d0a95 chromedriver + 342677\n11  chromedriver                        0x0000000104a1a8ab __gxx_personality_v0 + 305803\n12  chromedriver                        0x0000000104a31863 __gxx_personality_v0 + 399939\n13  chromedriver                        0x0000000104a36c7f __gxx_personality_v0 + 421471\n14  chromedriver                        0x0000000104a32bba __gxx_personality_v0 + 404890\n15  chromedriver                        0x0000000104a0ee51 __gxx_personality_v0 + 258097\n16  chromedriver                        0x0000000104a4e158 __gxx_personality_v0 + 516920\n17  chromedriver                        0x0000000104a4e2e1 __gxx_personality_v0 + 517313\n18  chromedriver                        0x0000000104a656f8 __gxx_personality_v0 + 612568\n19  libsystem_pthread.dylib             0x00007fff2049c8fc _pthread_start + 224\n20  libsystem_pthread.dylib             0x00007fff20498443 thread_start + 15\n",
     "output_type": "error",
     "traceback": [
      "\u001b[0;31m---------------------------------------------------------------------------\u001b[0m",
      "\u001b[0;31mNoSuchElementException\u001b[0m                    Traceback (most recent call last)",
      "\u001b[0;32m<ipython-input-103-135b8cb92780>\u001b[0m in \u001b[0;36m<module>\u001b[0;34m\u001b[0m\n\u001b[1;32m     18\u001b[0m         \u001b[0mdriver\u001b[0m\u001b[0;34m.\u001b[0m\u001b[0mimplicitly_wait\u001b[0m\u001b[0;34m(\u001b[0m\u001b[0;36m6\u001b[0m\u001b[0;34m)\u001b[0m\u001b[0;34m\u001b[0m\u001b[0;34m\u001b[0m\u001b[0m\n\u001b[1;32m     19\u001b[0m         \u001b[0;31m#driver.find_element_by_css_selector(\"body > div:nth-child(44) > div > div > section > div._1kfl0pr > button\").click()\u001b[0m\u001b[0;34m\u001b[0m\u001b[0;34m\u001b[0m\u001b[0;34m\u001b[0m\u001b[0m\n\u001b[0;32m---> 20\u001b[0;31m         \u001b[0murls_santander\u001b[0m\u001b[0;34m.\u001b[0m\u001b[0mappend\u001b[0m\u001b[0;34m(\u001b[0m\u001b[0mdriver\u001b[0m\u001b[0;34m.\u001b[0m\u001b[0mfind_element_by_css_selector\u001b[0m\u001b[0;34m(\u001b[0m\u001b[0;34mf\"#site-content > div:nth-child(4) > div > div > div > div > div > div > div._1gw6tte > div > div > div > div > div > div > div:nth-child({i}) > div > div > div._1e541ba5 > div > div > div > div._8s3ctt > div._1nz9l7j > div > div._e296pg > div._1mx6kqf > div > span > div > a\"\u001b[0m\u001b[0;34m)\u001b[0m\u001b[0;34m.\u001b[0m\u001b[0mget_attribute\u001b[0m\u001b[0;34m(\u001b[0m\u001b[0;34m\"href\"\u001b[0m\u001b[0;34m)\u001b[0m\u001b[0;34m)\u001b[0m\u001b[0;34m\u001b[0m\u001b[0;34m\u001b[0m\u001b[0m\n\u001b[0m\u001b[1;32m     21\u001b[0m         \u001b[0mdriver\u001b[0m\u001b[0;34m.\u001b[0m\u001b[0mimplicitly_wait\u001b[0m\u001b[0;34m(\u001b[0m\u001b[0;36m2\u001b[0m\u001b[0;34m)\u001b[0m\u001b[0;34m\u001b[0m\u001b[0;34m\u001b[0m\u001b[0m\n",
      "\u001b[0;32m~/opt/anaconda3/envs/ironhack/lib/python3.8/site-packages/selenium/webdriver/remote/webdriver.py\u001b[0m in \u001b[0;36mfind_element_by_css_selector\u001b[0;34m(self, css_selector)\u001b[0m\n\u001b[1;32m    800\u001b[0m             \u001b[0mstacklevel\u001b[0m\u001b[0;34m=\u001b[0m\u001b[0;36m2\u001b[0m\u001b[0;34m,\u001b[0m\u001b[0;34m\u001b[0m\u001b[0;34m\u001b[0m\u001b[0m\n\u001b[1;32m    801\u001b[0m         )\n\u001b[0;32m--> 802\u001b[0;31m         \u001b[0;32mreturn\u001b[0m \u001b[0mself\u001b[0m\u001b[0;34m.\u001b[0m\u001b[0mfind_element\u001b[0m\u001b[0;34m(\u001b[0m\u001b[0mby\u001b[0m\u001b[0;34m=\u001b[0m\u001b[0mBy\u001b[0m\u001b[0;34m.\u001b[0m\u001b[0mCSS_SELECTOR\u001b[0m\u001b[0;34m,\u001b[0m \u001b[0mvalue\u001b[0m\u001b[0;34m=\u001b[0m\u001b[0mcss_selector\u001b[0m\u001b[0;34m)\u001b[0m\u001b[0;34m\u001b[0m\u001b[0;34m\u001b[0m\u001b[0m\n\u001b[0m\u001b[1;32m    803\u001b[0m \u001b[0;34m\u001b[0m\u001b[0m\n\u001b[1;32m    804\u001b[0m     \u001b[0;32mdef\u001b[0m \u001b[0mfind_elements_by_css_selector\u001b[0m\u001b[0;34m(\u001b[0m\u001b[0mself\u001b[0m\u001b[0;34m,\u001b[0m \u001b[0mcss_selector\u001b[0m\u001b[0;34m)\u001b[0m \u001b[0;34m->\u001b[0m \u001b[0mWebElement\u001b[0m\u001b[0;34m:\u001b[0m\u001b[0;34m\u001b[0m\u001b[0;34m\u001b[0m\u001b[0m\n",
      "\u001b[0;32m~/opt/anaconda3/envs/ironhack/lib/python3.8/site-packages/selenium/webdriver/remote/webdriver.py\u001b[0m in \u001b[0;36mfind_element\u001b[0;34m(self, by, value)\u001b[0m\n\u001b[1;32m   1236\u001b[0m             \u001b[0mvalue\u001b[0m \u001b[0;34m=\u001b[0m \u001b[0;34m'[name=\"%s\"]'\u001b[0m \u001b[0;34m%\u001b[0m \u001b[0mvalue\u001b[0m\u001b[0;34m\u001b[0m\u001b[0;34m\u001b[0m\u001b[0m\n\u001b[1;32m   1237\u001b[0m \u001b[0;34m\u001b[0m\u001b[0m\n\u001b[0;32m-> 1238\u001b[0;31m         return self.execute(Command.FIND_ELEMENT, {\n\u001b[0m\u001b[1;32m   1239\u001b[0m             \u001b[0;34m'using'\u001b[0m\u001b[0;34m:\u001b[0m \u001b[0mby\u001b[0m\u001b[0;34m,\u001b[0m\u001b[0;34m\u001b[0m\u001b[0;34m\u001b[0m\u001b[0m\n\u001b[1;32m   1240\u001b[0m             'value': value})['value']\n",
      "\u001b[0;32m~/opt/anaconda3/envs/ironhack/lib/python3.8/site-packages/selenium/webdriver/remote/webdriver.py\u001b[0m in \u001b[0;36mexecute\u001b[0;34m(self, driver_command, params)\u001b[0m\n\u001b[1;32m    416\u001b[0m         \u001b[0mresponse\u001b[0m \u001b[0;34m=\u001b[0m \u001b[0mself\u001b[0m\u001b[0;34m.\u001b[0m\u001b[0mcommand_executor\u001b[0m\u001b[0;34m.\u001b[0m\u001b[0mexecute\u001b[0m\u001b[0;34m(\u001b[0m\u001b[0mdriver_command\u001b[0m\u001b[0;34m,\u001b[0m \u001b[0mparams\u001b[0m\u001b[0;34m)\u001b[0m\u001b[0;34m\u001b[0m\u001b[0;34m\u001b[0m\u001b[0m\n\u001b[1;32m    417\u001b[0m         \u001b[0;32mif\u001b[0m \u001b[0mresponse\u001b[0m\u001b[0;34m:\u001b[0m\u001b[0;34m\u001b[0m\u001b[0;34m\u001b[0m\u001b[0m\n\u001b[0;32m--> 418\u001b[0;31m             \u001b[0mself\u001b[0m\u001b[0;34m.\u001b[0m\u001b[0merror_handler\u001b[0m\u001b[0;34m.\u001b[0m\u001b[0mcheck_response\u001b[0m\u001b[0;34m(\u001b[0m\u001b[0mresponse\u001b[0m\u001b[0;34m)\u001b[0m\u001b[0;34m\u001b[0m\u001b[0;34m\u001b[0m\u001b[0m\n\u001b[0m\u001b[1;32m    419\u001b[0m             response['value'] = self._unwrap_value(\n\u001b[1;32m    420\u001b[0m                 response.get('value', None))\n",
      "\u001b[0;32m~/opt/anaconda3/envs/ironhack/lib/python3.8/site-packages/selenium/webdriver/remote/errorhandler.py\u001b[0m in \u001b[0;36mcheck_response\u001b[0;34m(self, response)\u001b[0m\n\u001b[1;32m    241\u001b[0m                 \u001b[0malert_text\u001b[0m \u001b[0;34m=\u001b[0m \u001b[0mvalue\u001b[0m\u001b[0;34m[\u001b[0m\u001b[0;34m'alert'\u001b[0m\u001b[0;34m]\u001b[0m\u001b[0;34m.\u001b[0m\u001b[0mget\u001b[0m\u001b[0;34m(\u001b[0m\u001b[0;34m'text'\u001b[0m\u001b[0;34m)\u001b[0m\u001b[0;34m\u001b[0m\u001b[0;34m\u001b[0m\u001b[0m\n\u001b[1;32m    242\u001b[0m             \u001b[0;32mraise\u001b[0m \u001b[0mexception_class\u001b[0m\u001b[0;34m(\u001b[0m\u001b[0mmessage\u001b[0m\u001b[0;34m,\u001b[0m \u001b[0mscreen\u001b[0m\u001b[0;34m,\u001b[0m \u001b[0mstacktrace\u001b[0m\u001b[0;34m,\u001b[0m \u001b[0malert_text\u001b[0m\u001b[0;34m)\u001b[0m  \u001b[0;31m# type: ignore[call-arg]  # mypy is not smart enough here\u001b[0m\u001b[0;34m\u001b[0m\u001b[0;34m\u001b[0m\u001b[0m\n\u001b[0;32m--> 243\u001b[0;31m         \u001b[0;32mraise\u001b[0m \u001b[0mexception_class\u001b[0m\u001b[0;34m(\u001b[0m\u001b[0mmessage\u001b[0m\u001b[0;34m,\u001b[0m \u001b[0mscreen\u001b[0m\u001b[0;34m,\u001b[0m \u001b[0mstacktrace\u001b[0m\u001b[0;34m)\u001b[0m\u001b[0;34m\u001b[0m\u001b[0;34m\u001b[0m\u001b[0m\n\u001b[0m\u001b[1;32m    244\u001b[0m \u001b[0;34m\u001b[0m\u001b[0m\n\u001b[1;32m    245\u001b[0m     \u001b[0;32mdef\u001b[0m \u001b[0m_value_or_default\u001b[0m\u001b[0;34m(\u001b[0m\u001b[0mself\u001b[0m\u001b[0;34m,\u001b[0m \u001b[0mobj\u001b[0m\u001b[0;34m:\u001b[0m \u001b[0mMapping\u001b[0m\u001b[0;34m[\u001b[0m\u001b[0m_KT\u001b[0m\u001b[0;34m,\u001b[0m \u001b[0m_VT\u001b[0m\u001b[0;34m]\u001b[0m\u001b[0;34m,\u001b[0m \u001b[0mkey\u001b[0m\u001b[0;34m:\u001b[0m \u001b[0m_KT\u001b[0m\u001b[0;34m,\u001b[0m \u001b[0mdefault\u001b[0m\u001b[0;34m:\u001b[0m \u001b[0m_VT\u001b[0m\u001b[0;34m)\u001b[0m \u001b[0;34m->\u001b[0m \u001b[0m_VT\u001b[0m\u001b[0;34m:\u001b[0m\u001b[0;34m\u001b[0m\u001b[0;34m\u001b[0m\u001b[0m\n",
      "\u001b[0;31mNoSuchElementException\u001b[0m: Message: no such element: Unable to locate element: {\"method\":\"css selector\",\"selector\":\"#site-content > div:nth-child(4) > div > div > div > div > div > div > div._1gw6tte > div > div > div > div > div > div > div:nth-child(1) > div > div > div._1e541ba5 > div > div > div > div._8s3ctt > div._1nz9l7j > div > div._e296pg > div._1mx6kqf > div > span > div > a\"}\n  (Session info: chrome=96.0.4664.55)\nStacktrace:\n0   chromedriver                        0x0000000104a5e269 __gxx_personality_v0 + 582729\n1   chromedriver                        0x00000001049e9c33 __gxx_personality_v0 + 106003\n2   chromedriver                        0x00000001045a6e28 chromedriver + 171560\n3   chromedriver                        0x00000001045dc3d2 chromedriver + 390098\n4   chromedriver                        0x00000001045dc591 chromedriver + 390545\n5   chromedriver                        0x000000010460e6b4 chromedriver + 595636\n6   chromedriver                        0x00000001045f99fd chromedriver + 510461\n7   chromedriver                        0x000000010460c462 chromedriver + 586850\n8   chromedriver                        0x00000001045f9c23 chromedriver + 511011\n9   chromedriver                        0x00000001045cf75e chromedriver + 337758\n10  chromedriver                        0x00000001045d0a95 chromedriver + 342677\n11  chromedriver                        0x0000000104a1a8ab __gxx_personality_v0 + 305803\n12  chromedriver                        0x0000000104a31863 __gxx_personality_v0 + 399939\n13  chromedriver                        0x0000000104a36c7f __gxx_personality_v0 + 421471\n14  chromedriver                        0x0000000104a32bba __gxx_personality_v0 + 404890\n15  chromedriver                        0x0000000104a0ee51 __gxx_personality_v0 + 258097\n16  chromedriver                        0x0000000104a4e158 __gxx_personality_v0 + 516920\n17  chromedriver                        0x0000000104a4e2e1 __gxx_personality_v0 + 517313\n18  chromedriver                        0x0000000104a656f8 __gxx_personality_v0 + 612568\n19  libsystem_pthread.dylib             0x00007fff2049c8fc _pthread_start + 224\n20  libsystem_pthread.dylib             0x00007fff20498443 thread_start + 15\n"
     ]
    }
   ],
   "source": [
    "# LISTA DE URLS\n",
    "urls_santander = []\n",
    "\n",
    "# download the driver \n",
    "driver = webdriver.Chrome(ChromeDriverManager().install(), options = opciones)\n",
    "# set the url\n",
    "url = \"https://www.airbnb.es/s/Santander--Cantabria/homes?tab_id=home_tab&refinement_paths%5B%5D=%2Fhomes&flexible_trip_dates%5B%5D=april&flexible_trip_dates%5B%5D=december&flexible_trip_dates%5B%5D=february&flexible_trip_dates%5B%5D=january&flexible_trip_dates%5B%5D=march&flexible_trip_dates%5B%5D=may&date_picker_type=flexible_dates&flexible_trip_lengths%5B%5D=weekend_trip&source=structured_search_input_header&search_type=autocomplete_click&query=Santander%2C%20Cantabria&place_id=ChIJQ1sWvn1JSQ0RcDfLc4L1BAQ&federated_search_session_id=dd60bc65-2801-4696-b6b9-33019ab80b4e&pagination_search=true\"\n",
    "\n",
    "driver.get(url)\n",
    "driver.implicitly_wait(2) # is like a time.sleep but specific of selenium\n",
    "#cookies 1\n",
    "driver.find_element_by_css_selector(\"body > div:nth-child(7) > div > div > div:nth-child(1) > div > div._1cgcei8 > section > div._gsw2t0 > div._160gnkxa > button\").click()\n",
    "driver.implicitly_wait(10) # is like a time.sleep but specific of selenium\n",
    "\n",
    "\n",
    "for i in paginas_santander:\n",
    "    for i in range (1,21):\n",
    "        driver.implicitly_wait(6)\n",
    "        #driver.find_element_by_css_selector(\"body > div:nth-child(44) > div > div > section > div._1kfl0pr > button\").click()\n",
    "        urls_santander.append(driver.find_element_by_css_selector(f\"#site-content > div:nth-child(4) > div > div > div > div > div > div > div._1gw6tte > div > div > div > div > div > div > div:nth-child({i}) > div > div > div._1e541ba5 > div > div > div > div._8s3ctt > div._1nz9l7j > div > div._e296pg > div._1mx6kqf > div > span > div > a\").get_attribute(\"href\"))\n",
    "        driver.implicitly_wait(2)"
   ]
  },
  {
   "cell_type": "code",
   "execution_count": null,
   "id": "2d9fe449",
   "metadata": {},
   "outputs": [],
   "source": []
  },
  {
   "cell_type": "markdown",
   "id": "e4725629",
   "metadata": {},
   "source": [
    "### SANTIAGO DE COMPOSTELA"
   ]
  },
  {
   "cell_type": "code",
   "execution_count": 105,
   "id": "fc21b1cd",
   "metadata": {},
   "outputs": [],
   "source": [
    "paginas_sdc = []\n",
    "for i in range(0, 281, 20):\n",
    "    paginas_sdc.append(f\"https://www.airbnb.es/s/Santiago-de-Compostela/homes?tab_id=home_tab&refinement_paths%5B%5D=%2Fhomes&flexible_trip_dates%5B%5D=april&flexible_trip_dates%5B%5D=december&flexible_trip_dates%5B%5D=february&flexible_trip_dates%5B%5D=january&flexible_trip_dates%5B%5D=march&flexible_trip_dates%5B%5D=may&date_picker_type=flexible_dates&flexible_trip_lengths%5B%5D=weekend_trip&source=structured_search_input_header&search_type=autocomplete_click&query=Santiago%20de%20Compostela&place_id=ChIJp3Hd4kT-Lg0REeOHwIhoFOA&federated_search_session_id=321c5d67-a4fc-4386-bf6d-ba10f0b91ffd&pagination_search=true&items_offset={i}&section_offset=2\")\n",
    "    "
   ]
  },
  {
   "cell_type": "code",
   "execution_count": 106,
   "id": "b56a2622",
   "metadata": {},
   "outputs": [],
   "source": [
    "driver.quit()"
   ]
  },
  {
   "cell_type": "code",
   "execution_count": 107,
   "id": "26122921",
   "metadata": {},
   "outputs": [
    {
     "name": "stderr",
     "output_type": "stream",
     "text": [
      "\n",
      "\n",
      "====== WebDriver manager ======\n",
      "Current google-chrome version is 96.0.4664\n",
      "Get LATEST chromedriver version for 96.0.4664 google-chrome\n",
      "Driver [/Users/franciscovispo/.wdm/drivers/chromedriver/mac64/96.0.4664.45/chromedriver] found in cache\n",
      "<ipython-input-107-b5f0bd69e44f>:5: DeprecationWarning: executable_path has been deprecated, please pass in a Service object\n",
      "  driver = webdriver.Chrome(ChromeDriverManager().install(), options = opciones)\n",
      "<ipython-input-107-b5f0bd69e44f>:12: DeprecationWarning: find_element_by_* commands are deprecated. Please use find_element() instead\n",
      "  driver.find_element_by_css_selector(\"body > div:nth-child(7) > div > div > div:nth-child(1) > div > div._1cgcei8 > section > div._gsw2t0 > div._160gnkxa > button\").click()\n",
      "<ipython-input-107-b5f0bd69e44f>:20: DeprecationWarning: find_element_by_* commands are deprecated. Please use find_element() instead\n",
      "  urls_sdc.append(driver.find_element_by_css_selector(f\"#site-content > div:nth-child(4) > div > div > div > div > div > div > div._1gw6tte > div > div > div > div > div > div > div:nth-child({i}) > div > div > div._1e541ba5 > div > div > div > div._8s3ctt > div._1nz9l7j > div > div._e296pg > div._1mx6kqf > div > span > div > a\").get_attribute(\"href\"))\n"
     ]
    },
    {
     "ename": "NoSuchElementException",
     "evalue": "Message: no such element: Unable to locate element: {\"method\":\"css selector\",\"selector\":\"#site-content > div:nth-child(4) > div > div > div > div > div > div > div._1gw6tte > div > div > div > div > div > div > div:nth-child(16) > div > div > div._1e541ba5 > div > div > div > div._8s3ctt > div._1nz9l7j > div > div._e296pg > div._1mx6kqf > div > span > div > a\"}\n  (Session info: chrome=96.0.4664.55)\nStacktrace:\n0   chromedriver                        0x000000010bd39269 __gxx_personality_v0 + 582729\n1   chromedriver                        0x000000010bcc4c33 __gxx_personality_v0 + 106003\n2   chromedriver                        0x000000010b881e28 chromedriver + 171560\n3   chromedriver                        0x000000010b8b73d2 chromedriver + 390098\n4   chromedriver                        0x000000010b8b7591 chromedriver + 390545\n5   chromedriver                        0x000000010b8e96b4 chromedriver + 595636\n6   chromedriver                        0x000000010b8d49fd chromedriver + 510461\n7   chromedriver                        0x000000010b8e7462 chromedriver + 586850\n8   chromedriver                        0x000000010b8d4c23 chromedriver + 511011\n9   chromedriver                        0x000000010b8aa75e chromedriver + 337758\n10  chromedriver                        0x000000010b8aba95 chromedriver + 342677\n11  chromedriver                        0x000000010bcf58ab __gxx_personality_v0 + 305803\n12  chromedriver                        0x000000010bd0c863 __gxx_personality_v0 + 399939\n13  chromedriver                        0x000000010bd11c7f __gxx_personality_v0 + 421471\n14  chromedriver                        0x000000010bd0dbba __gxx_personality_v0 + 404890\n15  chromedriver                        0x000000010bce9e51 __gxx_personality_v0 + 258097\n16  chromedriver                        0x000000010bd29158 __gxx_personality_v0 + 516920\n17  chromedriver                        0x000000010bd292e1 __gxx_personality_v0 + 517313\n18  chromedriver                        0x000000010bd406f8 __gxx_personality_v0 + 612568\n19  libsystem_pthread.dylib             0x00007fff2049c8fc _pthread_start + 224\n20  libsystem_pthread.dylib             0x00007fff20498443 thread_start + 15\n",
     "output_type": "error",
     "traceback": [
      "\u001b[0;31m---------------------------------------------------------------------------\u001b[0m",
      "\u001b[0;31mNoSuchElementException\u001b[0m                    Traceback (most recent call last)",
      "\u001b[0;32m<ipython-input-107-b5f0bd69e44f>\u001b[0m in \u001b[0;36m<module>\u001b[0;34m\u001b[0m\n\u001b[1;32m     18\u001b[0m         \u001b[0mdriver\u001b[0m\u001b[0;34m.\u001b[0m\u001b[0mimplicitly_wait\u001b[0m\u001b[0;34m(\u001b[0m\u001b[0;36m6\u001b[0m\u001b[0;34m)\u001b[0m\u001b[0;34m\u001b[0m\u001b[0;34m\u001b[0m\u001b[0m\n\u001b[1;32m     19\u001b[0m         \u001b[0;31m#driver.find_element_by_css_selector(\"body > div:nth-child(44) > div > div > section > div._1kfl0pr > button\").click()\u001b[0m\u001b[0;34m\u001b[0m\u001b[0;34m\u001b[0m\u001b[0;34m\u001b[0m\u001b[0m\n\u001b[0;32m---> 20\u001b[0;31m         \u001b[0murls_sdc\u001b[0m\u001b[0;34m.\u001b[0m\u001b[0mappend\u001b[0m\u001b[0;34m(\u001b[0m\u001b[0mdriver\u001b[0m\u001b[0;34m.\u001b[0m\u001b[0mfind_element_by_css_selector\u001b[0m\u001b[0;34m(\u001b[0m\u001b[0;34mf\"#site-content > div:nth-child(4) > div > div > div > div > div > div > div._1gw6tte > div > div > div > div > div > div > div:nth-child({i}) > div > div > div._1e541ba5 > div > div > div > div._8s3ctt > div._1nz9l7j > div > div._e296pg > div._1mx6kqf > div > span > div > a\"\u001b[0m\u001b[0;34m)\u001b[0m\u001b[0;34m.\u001b[0m\u001b[0mget_attribute\u001b[0m\u001b[0;34m(\u001b[0m\u001b[0;34m\"href\"\u001b[0m\u001b[0;34m)\u001b[0m\u001b[0;34m)\u001b[0m\u001b[0;34m\u001b[0m\u001b[0;34m\u001b[0m\u001b[0m\n\u001b[0m\u001b[1;32m     21\u001b[0m         \u001b[0mdriver\u001b[0m\u001b[0;34m.\u001b[0m\u001b[0mimplicitly_wait\u001b[0m\u001b[0;34m(\u001b[0m\u001b[0;36m2\u001b[0m\u001b[0;34m)\u001b[0m\u001b[0;34m\u001b[0m\u001b[0;34m\u001b[0m\u001b[0m\n",
      "\u001b[0;32m~/opt/anaconda3/envs/ironhack/lib/python3.8/site-packages/selenium/webdriver/remote/webdriver.py\u001b[0m in \u001b[0;36mfind_element_by_css_selector\u001b[0;34m(self, css_selector)\u001b[0m\n\u001b[1;32m    800\u001b[0m             \u001b[0mstacklevel\u001b[0m\u001b[0;34m=\u001b[0m\u001b[0;36m2\u001b[0m\u001b[0;34m,\u001b[0m\u001b[0;34m\u001b[0m\u001b[0;34m\u001b[0m\u001b[0m\n\u001b[1;32m    801\u001b[0m         )\n\u001b[0;32m--> 802\u001b[0;31m         \u001b[0;32mreturn\u001b[0m \u001b[0mself\u001b[0m\u001b[0;34m.\u001b[0m\u001b[0mfind_element\u001b[0m\u001b[0;34m(\u001b[0m\u001b[0mby\u001b[0m\u001b[0;34m=\u001b[0m\u001b[0mBy\u001b[0m\u001b[0;34m.\u001b[0m\u001b[0mCSS_SELECTOR\u001b[0m\u001b[0;34m,\u001b[0m \u001b[0mvalue\u001b[0m\u001b[0;34m=\u001b[0m\u001b[0mcss_selector\u001b[0m\u001b[0;34m)\u001b[0m\u001b[0;34m\u001b[0m\u001b[0;34m\u001b[0m\u001b[0m\n\u001b[0m\u001b[1;32m    803\u001b[0m \u001b[0;34m\u001b[0m\u001b[0m\n\u001b[1;32m    804\u001b[0m     \u001b[0;32mdef\u001b[0m \u001b[0mfind_elements_by_css_selector\u001b[0m\u001b[0;34m(\u001b[0m\u001b[0mself\u001b[0m\u001b[0;34m,\u001b[0m \u001b[0mcss_selector\u001b[0m\u001b[0;34m)\u001b[0m \u001b[0;34m->\u001b[0m \u001b[0mWebElement\u001b[0m\u001b[0;34m:\u001b[0m\u001b[0;34m\u001b[0m\u001b[0;34m\u001b[0m\u001b[0m\n",
      "\u001b[0;32m~/opt/anaconda3/envs/ironhack/lib/python3.8/site-packages/selenium/webdriver/remote/webdriver.py\u001b[0m in \u001b[0;36mfind_element\u001b[0;34m(self, by, value)\u001b[0m\n\u001b[1;32m   1236\u001b[0m             \u001b[0mvalue\u001b[0m \u001b[0;34m=\u001b[0m \u001b[0;34m'[name=\"%s\"]'\u001b[0m \u001b[0;34m%\u001b[0m \u001b[0mvalue\u001b[0m\u001b[0;34m\u001b[0m\u001b[0;34m\u001b[0m\u001b[0m\n\u001b[1;32m   1237\u001b[0m \u001b[0;34m\u001b[0m\u001b[0m\n\u001b[0;32m-> 1238\u001b[0;31m         return self.execute(Command.FIND_ELEMENT, {\n\u001b[0m\u001b[1;32m   1239\u001b[0m             \u001b[0;34m'using'\u001b[0m\u001b[0;34m:\u001b[0m \u001b[0mby\u001b[0m\u001b[0;34m,\u001b[0m\u001b[0;34m\u001b[0m\u001b[0;34m\u001b[0m\u001b[0m\n\u001b[1;32m   1240\u001b[0m             'value': value})['value']\n",
      "\u001b[0;32m~/opt/anaconda3/envs/ironhack/lib/python3.8/site-packages/selenium/webdriver/remote/webdriver.py\u001b[0m in \u001b[0;36mexecute\u001b[0;34m(self, driver_command, params)\u001b[0m\n\u001b[1;32m    416\u001b[0m         \u001b[0mresponse\u001b[0m \u001b[0;34m=\u001b[0m \u001b[0mself\u001b[0m\u001b[0;34m.\u001b[0m\u001b[0mcommand_executor\u001b[0m\u001b[0;34m.\u001b[0m\u001b[0mexecute\u001b[0m\u001b[0;34m(\u001b[0m\u001b[0mdriver_command\u001b[0m\u001b[0;34m,\u001b[0m \u001b[0mparams\u001b[0m\u001b[0;34m)\u001b[0m\u001b[0;34m\u001b[0m\u001b[0;34m\u001b[0m\u001b[0m\n\u001b[1;32m    417\u001b[0m         \u001b[0;32mif\u001b[0m \u001b[0mresponse\u001b[0m\u001b[0;34m:\u001b[0m\u001b[0;34m\u001b[0m\u001b[0;34m\u001b[0m\u001b[0m\n\u001b[0;32m--> 418\u001b[0;31m             \u001b[0mself\u001b[0m\u001b[0;34m.\u001b[0m\u001b[0merror_handler\u001b[0m\u001b[0;34m.\u001b[0m\u001b[0mcheck_response\u001b[0m\u001b[0;34m(\u001b[0m\u001b[0mresponse\u001b[0m\u001b[0;34m)\u001b[0m\u001b[0;34m\u001b[0m\u001b[0;34m\u001b[0m\u001b[0m\n\u001b[0m\u001b[1;32m    419\u001b[0m             response['value'] = self._unwrap_value(\n\u001b[1;32m    420\u001b[0m                 response.get('value', None))\n",
      "\u001b[0;32m~/opt/anaconda3/envs/ironhack/lib/python3.8/site-packages/selenium/webdriver/remote/errorhandler.py\u001b[0m in \u001b[0;36mcheck_response\u001b[0;34m(self, response)\u001b[0m\n\u001b[1;32m    241\u001b[0m                 \u001b[0malert_text\u001b[0m \u001b[0;34m=\u001b[0m \u001b[0mvalue\u001b[0m\u001b[0;34m[\u001b[0m\u001b[0;34m'alert'\u001b[0m\u001b[0;34m]\u001b[0m\u001b[0;34m.\u001b[0m\u001b[0mget\u001b[0m\u001b[0;34m(\u001b[0m\u001b[0;34m'text'\u001b[0m\u001b[0;34m)\u001b[0m\u001b[0;34m\u001b[0m\u001b[0;34m\u001b[0m\u001b[0m\n\u001b[1;32m    242\u001b[0m             \u001b[0;32mraise\u001b[0m \u001b[0mexception_class\u001b[0m\u001b[0;34m(\u001b[0m\u001b[0mmessage\u001b[0m\u001b[0;34m,\u001b[0m \u001b[0mscreen\u001b[0m\u001b[0;34m,\u001b[0m \u001b[0mstacktrace\u001b[0m\u001b[0;34m,\u001b[0m \u001b[0malert_text\u001b[0m\u001b[0;34m)\u001b[0m  \u001b[0;31m# type: ignore[call-arg]  # mypy is not smart enough here\u001b[0m\u001b[0;34m\u001b[0m\u001b[0;34m\u001b[0m\u001b[0m\n\u001b[0;32m--> 243\u001b[0;31m         \u001b[0;32mraise\u001b[0m \u001b[0mexception_class\u001b[0m\u001b[0;34m(\u001b[0m\u001b[0mmessage\u001b[0m\u001b[0;34m,\u001b[0m \u001b[0mscreen\u001b[0m\u001b[0;34m,\u001b[0m \u001b[0mstacktrace\u001b[0m\u001b[0;34m)\u001b[0m\u001b[0;34m\u001b[0m\u001b[0;34m\u001b[0m\u001b[0m\n\u001b[0m\u001b[1;32m    244\u001b[0m \u001b[0;34m\u001b[0m\u001b[0m\n\u001b[1;32m    245\u001b[0m     \u001b[0;32mdef\u001b[0m \u001b[0m_value_or_default\u001b[0m\u001b[0;34m(\u001b[0m\u001b[0mself\u001b[0m\u001b[0;34m,\u001b[0m \u001b[0mobj\u001b[0m\u001b[0;34m:\u001b[0m \u001b[0mMapping\u001b[0m\u001b[0;34m[\u001b[0m\u001b[0m_KT\u001b[0m\u001b[0;34m,\u001b[0m \u001b[0m_VT\u001b[0m\u001b[0;34m]\u001b[0m\u001b[0;34m,\u001b[0m \u001b[0mkey\u001b[0m\u001b[0;34m:\u001b[0m \u001b[0m_KT\u001b[0m\u001b[0;34m,\u001b[0m \u001b[0mdefault\u001b[0m\u001b[0;34m:\u001b[0m \u001b[0m_VT\u001b[0m\u001b[0;34m)\u001b[0m \u001b[0;34m->\u001b[0m \u001b[0m_VT\u001b[0m\u001b[0;34m:\u001b[0m\u001b[0;34m\u001b[0m\u001b[0;34m\u001b[0m\u001b[0m\n",
      "\u001b[0;31mNoSuchElementException\u001b[0m: Message: no such element: Unable to locate element: {\"method\":\"css selector\",\"selector\":\"#site-content > div:nth-child(4) > div > div > div > div > div > div > div._1gw6tte > div > div > div > div > div > div > div:nth-child(16) > div > div > div._1e541ba5 > div > div > div > div._8s3ctt > div._1nz9l7j > div > div._e296pg > div._1mx6kqf > div > span > div > a\"}\n  (Session info: chrome=96.0.4664.55)\nStacktrace:\n0   chromedriver                        0x000000010bd39269 __gxx_personality_v0 + 582729\n1   chromedriver                        0x000000010bcc4c33 __gxx_personality_v0 + 106003\n2   chromedriver                        0x000000010b881e28 chromedriver + 171560\n3   chromedriver                        0x000000010b8b73d2 chromedriver + 390098\n4   chromedriver                        0x000000010b8b7591 chromedriver + 390545\n5   chromedriver                        0x000000010b8e96b4 chromedriver + 595636\n6   chromedriver                        0x000000010b8d49fd chromedriver + 510461\n7   chromedriver                        0x000000010b8e7462 chromedriver + 586850\n8   chromedriver                        0x000000010b8d4c23 chromedriver + 511011\n9   chromedriver                        0x000000010b8aa75e chromedriver + 337758\n10  chromedriver                        0x000000010b8aba95 chromedriver + 342677\n11  chromedriver                        0x000000010bcf58ab __gxx_personality_v0 + 305803\n12  chromedriver                        0x000000010bd0c863 __gxx_personality_v0 + 399939\n13  chromedriver                        0x000000010bd11c7f __gxx_personality_v0 + 421471\n14  chromedriver                        0x000000010bd0dbba __gxx_personality_v0 + 404890\n15  chromedriver                        0x000000010bce9e51 __gxx_personality_v0 + 258097\n16  chromedriver                        0x000000010bd29158 __gxx_personality_v0 + 516920\n17  chromedriver                        0x000000010bd292e1 __gxx_personality_v0 + 517313\n18  chromedriver                        0x000000010bd406f8 __gxx_personality_v0 + 612568\n19  libsystem_pthread.dylib             0x00007fff2049c8fc _pthread_start + 224\n20  libsystem_pthread.dylib             0x00007fff20498443 thread_start + 15\n"
     ]
    }
   ],
   "source": [
    "# LISTA DE URLS\n",
    "urls_sdc = []\n",
    "\n",
    "# download the driver \n",
    "driver = webdriver.Chrome(ChromeDriverManager().install(), options = opciones)\n",
    "# set the url\n",
    "url = \"https://www.airbnb.es/s/Santiago-de-Compostela/homes?tab_id=home_tab&refinement_paths%5B%5D=%2Fhomes&flexible_trip_dates%5B%5D=april&flexible_trip_dates%5B%5D=december&flexible_trip_dates%5B%5D=february&flexible_trip_dates%5B%5D=january&flexible_trip_dates%5B%5D=march&flexible_trip_dates%5B%5D=may&date_picker_type=flexible_dates&flexible_trip_lengths%5B%5D=weekend_trip&source=structured_search_input_header&search_type=autocomplete_click&query=Santiago%20de%20Compostela&place_id=ChIJp3Hd4kT-Lg0REeOHwIhoFOA&federated_search_session_id=321c5d67-a4fc-4386-bf6d-ba10f0b91ffd&pagination_search=true\"\n",
    "\n",
    "driver.get(url)\n",
    "driver.implicitly_wait(2) # is like a time.sleep but specific of selenium\n",
    "#cookies 1\n",
    "driver.find_element_by_css_selector(\"body > div:nth-child(7) > div > div > div:nth-child(1) > div > div._1cgcei8 > section > div._gsw2t0 > div._160gnkxa > button\").click()\n",
    "driver.implicitly_wait(10) # is like a time.sleep but specific of selenium\n",
    "\n",
    "\n",
    "for i in paginas_sdc:\n",
    "    for i in range (1,21):\n",
    "        driver.implicitly_wait(6)\n",
    "        #driver.find_element_by_css_selector(\"body > div:nth-child(44) > div > div > section > div._1kfl0pr > button\").click()\n",
    "        urls_sdc.append(driver.find_element_by_css_selector(f\"#site-content > div:nth-child(4) > div > div > div > div > div > div > div._1gw6tte > div > div > div > div > div > div > div:nth-child({i}) > div > div > div._1e541ba5 > div > div > div > div._8s3ctt > div._1nz9l7j > div > div._e296pg > div._1mx6kqf > div > span > div > a\").get_attribute(\"href\"))\n",
    "        driver.implicitly_wait(2)"
   ]
  },
  {
   "cell_type": "code",
   "execution_count": null,
   "id": "83740d56",
   "metadata": {},
   "outputs": [],
   "source": [
    "len(urls_sdc)"
   ]
  },
  {
   "cell_type": "markdown",
   "id": "db7898c7",
   "metadata": {},
   "source": [
    "### LA CORUÑA"
   ]
  },
  {
   "cell_type": "code",
   "execution_count": 121,
   "id": "5978fd8f",
   "metadata": {},
   "outputs": [],
   "source": [
    "paginas_coruna = []\n",
    "for i in range(0, 281, 20):\n",
    "    paginas_coruna.append(f\"https://www.airbnb.es/s/A-Coru%C3%B1a--La-Coru%C3%B1a/homes?tab_id=home_tab&refinement_paths%5B%5D=%2Fhomes&flexible_trip_dates%5B%5D=april&flexible_trip_dates%5B%5D=december&flexible_trip_dates%5B%5D=february&flexible_trip_dates%5B%5D=january&flexible_trip_dates%5B%5D=march&flexible_trip_dates%5B%5D=may&date_picker_type=flexible_dates&flexible_trip_lengths%5B%5D=weekend_trip&source=structured_search_input_header&search_type=autocomplete_click&query=A%20Coru%C3%B1a%2C%20La%20Coru%C3%B1a&place_id=ChIJaxUIiYZ8Lg0RtN8XKCdRuuU&federated_search_session_id=5189bb4b-ac61-4daf-bd86-c84da7d1065e&pagination_search=true&items_offset={i}&section_offset=2\")\n",
    " "
   ]
  },
  {
   "cell_type": "code",
   "execution_count": 122,
   "id": "00e4b79c",
   "metadata": {},
   "outputs": [
    {
     "data": {
      "text/plain": [
       "15"
      ]
     },
     "execution_count": 122,
     "metadata": {},
     "output_type": "execute_result"
    }
   ],
   "source": [
    "len(paginas_coruna)"
   ]
  },
  {
   "cell_type": "code",
   "execution_count": 123,
   "id": "b3dec7d6",
   "metadata": {},
   "outputs": [],
   "source": [
    "driver.quit()"
   ]
  },
  {
   "cell_type": "code",
   "execution_count": 124,
   "id": "8370e2ea",
   "metadata": {},
   "outputs": [
    {
     "name": "stderr",
     "output_type": "stream",
     "text": [
      "\n",
      "\n",
      "====== WebDriver manager ======\n",
      "Current google-chrome version is 96.0.4664\n",
      "Get LATEST chromedriver version for 96.0.4664 google-chrome\n",
      "Driver [/Users/franciscovispo/.wdm/drivers/chromedriver/mac64/96.0.4664.45/chromedriver] found in cache\n",
      "<ipython-input-124-8599fb34971b>:5: DeprecationWarning: executable_path has been deprecated, please pass in a Service object\n",
      "  driver = webdriver.Chrome(ChromeDriverManager().install(), options = opciones)\n",
      "<ipython-input-124-8599fb34971b>:12: DeprecationWarning: find_element_by_* commands are deprecated. Please use find_element() instead\n",
      "  driver.find_element_by_css_selector(\"body > div:nth-child(7) > div > div > div:nth-child(1) > div > div._1cgcei8 > section > div._gsw2t0 > div._160gnkxa > button\").click()\n",
      "<ipython-input-124-8599fb34971b>:20: DeprecationWarning: find_element_by_* commands are deprecated. Please use find_element() instead\n",
      "  urls_coruna.append(driver.find_element_by_css_selector(f\"#site-content > div:nth-child(4) > div > div > div > div > div > div > div._1gw6tte > div > div > div > div > div > div > div:nth-child({i}) > div > div > div._1e541ba5 > div > div > div > div._8s3ctt > div._1nz9l7j > div > div._e296pg > div._1mx6kqf > div > span > div > a\").get_attribute(\"href\"))\n"
     ]
    },
    {
     "ename": "NoSuchElementException",
     "evalue": "Message: no such element: Unable to locate element: {\"method\":\"css selector\",\"selector\":\"#site-content > div:nth-child(4) > div > div > div > div > div > div > div._1gw6tte > div > div > div > div > div > div > div:nth-child(1) > div > div > div._1e541ba5 > div > div > div > div._8s3ctt > div._1nz9l7j > div > div._e296pg > div._1mx6kqf > div > span > div > a\"}\n  (Session info: chrome=96.0.4664.55)\nStacktrace:\n0   chromedriver                        0x0000000101314269 __gxx_personality_v0 + 582729\n1   chromedriver                        0x000000010129fc33 __gxx_personality_v0 + 106003\n2   chromedriver                        0x0000000100e5ce28 chromedriver + 171560\n3   chromedriver                        0x0000000100e923d2 chromedriver + 390098\n4   chromedriver                        0x0000000100e92591 chromedriver + 390545\n5   chromedriver                        0x0000000100ec46b4 chromedriver + 595636\n6   chromedriver                        0x0000000100eaf9fd chromedriver + 510461\n7   chromedriver                        0x0000000100ec2462 chromedriver + 586850\n8   chromedriver                        0x0000000100eafc23 chromedriver + 511011\n9   chromedriver                        0x0000000100e8575e chromedriver + 337758\n10  chromedriver                        0x0000000100e86a95 chromedriver + 342677\n11  chromedriver                        0x00000001012d08ab __gxx_personality_v0 + 305803\n12  chromedriver                        0x00000001012e7863 __gxx_personality_v0 + 399939\n13  chromedriver                        0x00000001012ecc7f __gxx_personality_v0 + 421471\n14  chromedriver                        0x00000001012e8bba __gxx_personality_v0 + 404890\n15  chromedriver                        0x00000001012c4e51 __gxx_personality_v0 + 258097\n16  chromedriver                        0x0000000101304158 __gxx_personality_v0 + 516920\n17  chromedriver                        0x00000001013042e1 __gxx_personality_v0 + 517313\n18  chromedriver                        0x000000010131b6f8 __gxx_personality_v0 + 612568\n19  libsystem_pthread.dylib             0x00007fff2049c8fc _pthread_start + 224\n20  libsystem_pthread.dylib             0x00007fff20498443 thread_start + 15\n",
     "output_type": "error",
     "traceback": [
      "\u001b[0;31m---------------------------------------------------------------------------\u001b[0m",
      "\u001b[0;31mNoSuchElementException\u001b[0m                    Traceback (most recent call last)",
      "\u001b[0;32m<ipython-input-124-8599fb34971b>\u001b[0m in \u001b[0;36m<module>\u001b[0;34m\u001b[0m\n\u001b[1;32m     18\u001b[0m         \u001b[0mdriver\u001b[0m\u001b[0;34m.\u001b[0m\u001b[0mimplicitly_wait\u001b[0m\u001b[0;34m(\u001b[0m\u001b[0;36m6\u001b[0m\u001b[0;34m)\u001b[0m\u001b[0;34m\u001b[0m\u001b[0;34m\u001b[0m\u001b[0m\n\u001b[1;32m     19\u001b[0m         \u001b[0;31m#driver.find_element_by_css_selector(\"body > div:nth-child(44) > div > div > section > div._1kfl0pr > button\").click()\u001b[0m\u001b[0;34m\u001b[0m\u001b[0;34m\u001b[0m\u001b[0;34m\u001b[0m\u001b[0m\n\u001b[0;32m---> 20\u001b[0;31m         \u001b[0murls_coruna\u001b[0m\u001b[0;34m.\u001b[0m\u001b[0mappend\u001b[0m\u001b[0;34m(\u001b[0m\u001b[0mdriver\u001b[0m\u001b[0;34m.\u001b[0m\u001b[0mfind_element_by_css_selector\u001b[0m\u001b[0;34m(\u001b[0m\u001b[0;34mf\"#site-content > div:nth-child(4) > div > div > div > div > div > div > div._1gw6tte > div > div > div > div > div > div > div:nth-child({i}) > div > div > div._1e541ba5 > div > div > div > div._8s3ctt > div._1nz9l7j > div > div._e296pg > div._1mx6kqf > div > span > div > a\"\u001b[0m\u001b[0;34m)\u001b[0m\u001b[0;34m.\u001b[0m\u001b[0mget_attribute\u001b[0m\u001b[0;34m(\u001b[0m\u001b[0;34m\"href\"\u001b[0m\u001b[0;34m)\u001b[0m\u001b[0;34m)\u001b[0m\u001b[0;34m\u001b[0m\u001b[0;34m\u001b[0m\u001b[0m\n\u001b[0m\u001b[1;32m     21\u001b[0m         \u001b[0mdriver\u001b[0m\u001b[0;34m.\u001b[0m\u001b[0mimplicitly_wait\u001b[0m\u001b[0;34m(\u001b[0m\u001b[0;36m2\u001b[0m\u001b[0;34m)\u001b[0m\u001b[0;34m\u001b[0m\u001b[0;34m\u001b[0m\u001b[0m\n\u001b[1;32m     22\u001b[0m \u001b[0;34m\u001b[0m\u001b[0m\n",
      "\u001b[0;32m~/opt/anaconda3/envs/ironhack/lib/python3.8/site-packages/selenium/webdriver/remote/webdriver.py\u001b[0m in \u001b[0;36mfind_element_by_css_selector\u001b[0;34m(self, css_selector)\u001b[0m\n\u001b[1;32m    800\u001b[0m             \u001b[0mstacklevel\u001b[0m\u001b[0;34m=\u001b[0m\u001b[0;36m2\u001b[0m\u001b[0;34m,\u001b[0m\u001b[0;34m\u001b[0m\u001b[0;34m\u001b[0m\u001b[0m\n\u001b[1;32m    801\u001b[0m         )\n\u001b[0;32m--> 802\u001b[0;31m         \u001b[0;32mreturn\u001b[0m \u001b[0mself\u001b[0m\u001b[0;34m.\u001b[0m\u001b[0mfind_element\u001b[0m\u001b[0;34m(\u001b[0m\u001b[0mby\u001b[0m\u001b[0;34m=\u001b[0m\u001b[0mBy\u001b[0m\u001b[0;34m.\u001b[0m\u001b[0mCSS_SELECTOR\u001b[0m\u001b[0;34m,\u001b[0m \u001b[0mvalue\u001b[0m\u001b[0;34m=\u001b[0m\u001b[0mcss_selector\u001b[0m\u001b[0;34m)\u001b[0m\u001b[0;34m\u001b[0m\u001b[0;34m\u001b[0m\u001b[0m\n\u001b[0m\u001b[1;32m    803\u001b[0m \u001b[0;34m\u001b[0m\u001b[0m\n\u001b[1;32m    804\u001b[0m     \u001b[0;32mdef\u001b[0m \u001b[0mfind_elements_by_css_selector\u001b[0m\u001b[0;34m(\u001b[0m\u001b[0mself\u001b[0m\u001b[0;34m,\u001b[0m \u001b[0mcss_selector\u001b[0m\u001b[0;34m)\u001b[0m \u001b[0;34m->\u001b[0m \u001b[0mWebElement\u001b[0m\u001b[0;34m:\u001b[0m\u001b[0;34m\u001b[0m\u001b[0;34m\u001b[0m\u001b[0m\n",
      "\u001b[0;32m~/opt/anaconda3/envs/ironhack/lib/python3.8/site-packages/selenium/webdriver/remote/webdriver.py\u001b[0m in \u001b[0;36mfind_element\u001b[0;34m(self, by, value)\u001b[0m\n\u001b[1;32m   1236\u001b[0m             \u001b[0mvalue\u001b[0m \u001b[0;34m=\u001b[0m \u001b[0;34m'[name=\"%s\"]'\u001b[0m \u001b[0;34m%\u001b[0m \u001b[0mvalue\u001b[0m\u001b[0;34m\u001b[0m\u001b[0;34m\u001b[0m\u001b[0m\n\u001b[1;32m   1237\u001b[0m \u001b[0;34m\u001b[0m\u001b[0m\n\u001b[0;32m-> 1238\u001b[0;31m         return self.execute(Command.FIND_ELEMENT, {\n\u001b[0m\u001b[1;32m   1239\u001b[0m             \u001b[0;34m'using'\u001b[0m\u001b[0;34m:\u001b[0m \u001b[0mby\u001b[0m\u001b[0;34m,\u001b[0m\u001b[0;34m\u001b[0m\u001b[0;34m\u001b[0m\u001b[0m\n\u001b[1;32m   1240\u001b[0m             'value': value})['value']\n",
      "\u001b[0;32m~/opt/anaconda3/envs/ironhack/lib/python3.8/site-packages/selenium/webdriver/remote/webdriver.py\u001b[0m in \u001b[0;36mexecute\u001b[0;34m(self, driver_command, params)\u001b[0m\n\u001b[1;32m    416\u001b[0m         \u001b[0mresponse\u001b[0m \u001b[0;34m=\u001b[0m \u001b[0mself\u001b[0m\u001b[0;34m.\u001b[0m\u001b[0mcommand_executor\u001b[0m\u001b[0;34m.\u001b[0m\u001b[0mexecute\u001b[0m\u001b[0;34m(\u001b[0m\u001b[0mdriver_command\u001b[0m\u001b[0;34m,\u001b[0m \u001b[0mparams\u001b[0m\u001b[0;34m)\u001b[0m\u001b[0;34m\u001b[0m\u001b[0;34m\u001b[0m\u001b[0m\n\u001b[1;32m    417\u001b[0m         \u001b[0;32mif\u001b[0m \u001b[0mresponse\u001b[0m\u001b[0;34m:\u001b[0m\u001b[0;34m\u001b[0m\u001b[0;34m\u001b[0m\u001b[0m\n\u001b[0;32m--> 418\u001b[0;31m             \u001b[0mself\u001b[0m\u001b[0;34m.\u001b[0m\u001b[0merror_handler\u001b[0m\u001b[0;34m.\u001b[0m\u001b[0mcheck_response\u001b[0m\u001b[0;34m(\u001b[0m\u001b[0mresponse\u001b[0m\u001b[0;34m)\u001b[0m\u001b[0;34m\u001b[0m\u001b[0;34m\u001b[0m\u001b[0m\n\u001b[0m\u001b[1;32m    419\u001b[0m             response['value'] = self._unwrap_value(\n\u001b[1;32m    420\u001b[0m                 response.get('value', None))\n",
      "\u001b[0;32m~/opt/anaconda3/envs/ironhack/lib/python3.8/site-packages/selenium/webdriver/remote/errorhandler.py\u001b[0m in \u001b[0;36mcheck_response\u001b[0;34m(self, response)\u001b[0m\n\u001b[1;32m    241\u001b[0m                 \u001b[0malert_text\u001b[0m \u001b[0;34m=\u001b[0m \u001b[0mvalue\u001b[0m\u001b[0;34m[\u001b[0m\u001b[0;34m'alert'\u001b[0m\u001b[0;34m]\u001b[0m\u001b[0;34m.\u001b[0m\u001b[0mget\u001b[0m\u001b[0;34m(\u001b[0m\u001b[0;34m'text'\u001b[0m\u001b[0;34m)\u001b[0m\u001b[0;34m\u001b[0m\u001b[0;34m\u001b[0m\u001b[0m\n\u001b[1;32m    242\u001b[0m             \u001b[0;32mraise\u001b[0m \u001b[0mexception_class\u001b[0m\u001b[0;34m(\u001b[0m\u001b[0mmessage\u001b[0m\u001b[0;34m,\u001b[0m \u001b[0mscreen\u001b[0m\u001b[0;34m,\u001b[0m \u001b[0mstacktrace\u001b[0m\u001b[0;34m,\u001b[0m \u001b[0malert_text\u001b[0m\u001b[0;34m)\u001b[0m  \u001b[0;31m# type: ignore[call-arg]  # mypy is not smart enough here\u001b[0m\u001b[0;34m\u001b[0m\u001b[0;34m\u001b[0m\u001b[0m\n\u001b[0;32m--> 243\u001b[0;31m         \u001b[0;32mraise\u001b[0m \u001b[0mexception_class\u001b[0m\u001b[0;34m(\u001b[0m\u001b[0mmessage\u001b[0m\u001b[0;34m,\u001b[0m \u001b[0mscreen\u001b[0m\u001b[0;34m,\u001b[0m \u001b[0mstacktrace\u001b[0m\u001b[0;34m)\u001b[0m\u001b[0;34m\u001b[0m\u001b[0;34m\u001b[0m\u001b[0m\n\u001b[0m\u001b[1;32m    244\u001b[0m \u001b[0;34m\u001b[0m\u001b[0m\n\u001b[1;32m    245\u001b[0m     \u001b[0;32mdef\u001b[0m \u001b[0m_value_or_default\u001b[0m\u001b[0;34m(\u001b[0m\u001b[0mself\u001b[0m\u001b[0;34m,\u001b[0m \u001b[0mobj\u001b[0m\u001b[0;34m:\u001b[0m \u001b[0mMapping\u001b[0m\u001b[0;34m[\u001b[0m\u001b[0m_KT\u001b[0m\u001b[0;34m,\u001b[0m \u001b[0m_VT\u001b[0m\u001b[0;34m]\u001b[0m\u001b[0;34m,\u001b[0m \u001b[0mkey\u001b[0m\u001b[0;34m:\u001b[0m \u001b[0m_KT\u001b[0m\u001b[0;34m,\u001b[0m \u001b[0mdefault\u001b[0m\u001b[0;34m:\u001b[0m \u001b[0m_VT\u001b[0m\u001b[0;34m)\u001b[0m \u001b[0;34m->\u001b[0m \u001b[0m_VT\u001b[0m\u001b[0;34m:\u001b[0m\u001b[0;34m\u001b[0m\u001b[0;34m\u001b[0m\u001b[0m\n",
      "\u001b[0;31mNoSuchElementException\u001b[0m: Message: no such element: Unable to locate element: {\"method\":\"css selector\",\"selector\":\"#site-content > div:nth-child(4) > div > div > div > div > div > div > div._1gw6tte > div > div > div > div > div > div > div:nth-child(1) > div > div > div._1e541ba5 > div > div > div > div._8s3ctt > div._1nz9l7j > div > div._e296pg > div._1mx6kqf > div > span > div > a\"}\n  (Session info: chrome=96.0.4664.55)\nStacktrace:\n0   chromedriver                        0x0000000101314269 __gxx_personality_v0 + 582729\n1   chromedriver                        0x000000010129fc33 __gxx_personality_v0 + 106003\n2   chromedriver                        0x0000000100e5ce28 chromedriver + 171560\n3   chromedriver                        0x0000000100e923d2 chromedriver + 390098\n4   chromedriver                        0x0000000100e92591 chromedriver + 390545\n5   chromedriver                        0x0000000100ec46b4 chromedriver + 595636\n6   chromedriver                        0x0000000100eaf9fd chromedriver + 510461\n7   chromedriver                        0x0000000100ec2462 chromedriver + 586850\n8   chromedriver                        0x0000000100eafc23 chromedriver + 511011\n9   chromedriver                        0x0000000100e8575e chromedriver + 337758\n10  chromedriver                        0x0000000100e86a95 chromedriver + 342677\n11  chromedriver                        0x00000001012d08ab __gxx_personality_v0 + 305803\n12  chromedriver                        0x00000001012e7863 __gxx_personality_v0 + 399939\n13  chromedriver                        0x00000001012ecc7f __gxx_personality_v0 + 421471\n14  chromedriver                        0x00000001012e8bba __gxx_personality_v0 + 404890\n15  chromedriver                        0x00000001012c4e51 __gxx_personality_v0 + 258097\n16  chromedriver                        0x0000000101304158 __gxx_personality_v0 + 516920\n17  chromedriver                        0x00000001013042e1 __gxx_personality_v0 + 517313\n18  chromedriver                        0x000000010131b6f8 __gxx_personality_v0 + 612568\n19  libsystem_pthread.dylib             0x00007fff2049c8fc _pthread_start + 224\n20  libsystem_pthread.dylib             0x00007fff20498443 thread_start + 15\n"
     ]
    }
   ],
   "source": [
    "# LISTA DE URLS\n",
    "urls_coruna = []\n",
    "\n",
    "# download the driver \n",
    "driver = webdriver.Chrome(ChromeDriverManager().install(), options = opciones)\n",
    "# set the url\n",
    "url = \"https://www.airbnb.es/s/A-Coru%C3%B1a--La-Coru%C3%B1a/homes?tab_id=home_tab&refinement_paths%5B%5D=%2Fhomes&flexible_trip_dates%5B%5D=april&flexible_trip_dates%5B%5D=december&flexible_trip_dates%5B%5D=february&flexible_trip_dates%5B%5D=january&flexible_trip_dates%5B%5D=march&flexible_trip_dates%5B%5D=may&date_picker_type=flexible_dates&flexible_trip_lengths%5B%5D=weekend_trip&source=structured_search_input_header&search_type=autocomplete_click&query=A%20Coru%C3%B1a%2C%20La%20Coru%C3%B1a&place_id=ChIJaxUIiYZ8Lg0RtN8XKCdRuuU&federated_search_session_id=5189bb4b-ac61-4daf-bd86-c84da7d1065e&pagination_search=true\"\n",
    "\n",
    "driver.get(url)\n",
    "driver.implicitly_wait(2) # is like a time.sleep but specific of selenium\n",
    "#cookies 1\n",
    "driver.find_element_by_css_selector(\"body > div:nth-child(7) > div > div > div:nth-child(1) > div > div._1cgcei8 > section > div._gsw2t0 > div._160gnkxa > button\").click()\n",
    "driver.implicitly_wait(10) # is like a time.sleep but specific of selenium\n",
    "\n",
    "\n",
    "for i in paginas_coruna:\n",
    "    for i in range (1,21):\n",
    "        driver.implicitly_wait(6)\n",
    "        #driver.find_element_by_css_selector(\"body > div:nth-child(44) > div > div > section > div._1kfl0pr > button\").click()\n",
    "        urls_coruna.append(driver.find_element_by_css_selector(f\"#site-content > div:nth-child(4) > div > div > div > div > div > div > div._1gw6tte > div > div > div > div > div > div > div:nth-child({i}) > div > div > div._1e541ba5 > div > div > div > div._8s3ctt > div._1nz9l7j > div > div._e296pg > div._1mx6kqf > div > span > div > a\").get_attribute(\"href\"))\n",
    "        driver.implicitly_wait(2)\n",
    "        "
   ]
  },
  {
   "cell_type": "code",
   "execution_count": 135,
   "id": "52c80519",
   "metadata": {},
   "outputs": [
    {
     "data": {
      "text/plain": [
       "0"
      ]
     },
     "execution_count": 135,
     "metadata": {},
     "output_type": "execute_result"
    }
   ],
   "source": [
    "len(urls_coruna)"
   ]
  },
  {
   "cell_type": "markdown",
   "id": "ae893e6e",
   "metadata": {},
   "source": [
    "### VALENCIA"
   ]
  },
  {
   "cell_type": "code",
   "execution_count": 109,
   "id": "d6c2d549",
   "metadata": {},
   "outputs": [],
   "source": [
    "paginas_valencia = []\n",
    "for i in range(0, 281, 20):\n",
    "    paginas_valencia.append(f\"https://www.airbnb.es/s/Valencia/homes?tab_id=home_tab&refinement_paths%5B%5D=%2Fhomes&flexible_trip_dates%5B%5D=april&flexible_trip_dates%5B%5D=december&flexible_trip_dates%5B%5D=february&flexible_trip_dates%5B%5D=january&flexible_trip_dates%5B%5D=march&flexible_trip_dates%5B%5D=may&date_picker_type=flexible_dates&flexible_trip_lengths%5B%5D=weekend_trip&source=structured_search_input_header&search_type=autocomplete_click&query=Valencia&place_id=ChIJb7Dv8ExPYA0ROR1_HwFRo7Q&federated_search_session_id=4b594eb0-6660-4b76-8ac6-d6ac7beadeeb&pagination_search=true&items_offset={i}&section_offset=2\")\n",
    "   "
   ]
  },
  {
   "cell_type": "code",
   "execution_count": 110,
   "id": "a53e69cd",
   "metadata": {},
   "outputs": [],
   "source": [
    "driver.quit()"
   ]
  },
  {
   "cell_type": "code",
   "execution_count": 111,
   "id": "c163d31c",
   "metadata": {},
   "outputs": [
    {
     "name": "stderr",
     "output_type": "stream",
     "text": [
      "\n",
      "\n",
      "====== WebDriver manager ======\n",
      "Current google-chrome version is 96.0.4664\n",
      "Get LATEST chromedriver version for 96.0.4664 google-chrome\n",
      "Driver [/Users/franciscovispo/.wdm/drivers/chromedriver/mac64/96.0.4664.45/chromedriver] found in cache\n",
      "<ipython-input-111-0d8a30f39370>:5: DeprecationWarning: executable_path has been deprecated, please pass in a Service object\n",
      "  driver = webdriver.Chrome(ChromeDriverManager().install(), options = opciones)\n",
      "<ipython-input-111-0d8a30f39370>:12: DeprecationWarning: find_element_by_* commands are deprecated. Please use find_element() instead\n",
      "  driver.find_element_by_css_selector(\"body > div:nth-child(7) > div > div > div:nth-child(1) > div > div._1cgcei8 > section > div._gsw2t0 > div._160gnkxa > button\").click()\n",
      "<ipython-input-111-0d8a30f39370>:20: DeprecationWarning: find_element_by_* commands are deprecated. Please use find_element() instead\n",
      "  urls_valencia.append(driver.find_element_by_css_selector(f\"#site-content > div:nth-child(4) > div > div > div > div > div > div > div._1gw6tte > div > div > div > div > div > div > div:nth-child({i}) > div > div > div._1e541ba5 > div > div > div > div._8s3ctt > div._1nz9l7j > div > div._e296pg > div._1mx6kqf > div > span > div > a\").get_attribute(\"href\"))\n"
     ]
    }
   ],
   "source": [
    "# LISTA DE URLS\n",
    "urls_valencia = []\n",
    "\n",
    "# download the driver \n",
    "driver = webdriver.Chrome(ChromeDriverManager().install(), options = opciones)\n",
    "# set the url\n",
    "url = \"https://www.airbnb.es/s/Valencia/homes?tab_id=home_tab&refinement_paths%5B%5D=%2Fhomes&flexible_trip_dates%5B%5D=april&flexible_trip_dates%5B%5D=december&flexible_trip_dates%5B%5D=february&flexible_trip_dates%5B%5D=january&flexible_trip_dates%5B%5D=march&flexible_trip_dates%5B%5D=may&date_picker_type=flexible_dates&flexible_trip_lengths%5B%5D=weekend_trip&source=structured_search_input_header&search_type=autocomplete_click&query=Valencia&place_id=ChIJb7Dv8ExPYA0ROR1_HwFRo7Q&federated_search_session_id=4b594eb0-6660-4b76-8ac6-d6ac7beadeeb&pagination_search=true\"\n",
    "\n",
    "driver.get(url)\n",
    "driver.implicitly_wait(2) # is like a time.sleep but specific of selenium\n",
    "#cookies 1\n",
    "driver.find_element_by_css_selector(\"body > div:nth-child(7) > div > div > div:nth-child(1) > div > div._1cgcei8 > section > div._gsw2t0 > div._160gnkxa > button\").click()\n",
    "driver.implicitly_wait(10) # is like a time.sleep but specific of selenium\n",
    "\n",
    "\n",
    "for i in paginas_valencia:\n",
    "    for i in range (1,21):\n",
    "        driver.implicitly_wait(6)\n",
    "        #driver.find_element_by_css_selector(\"body > div:nth-child(44) > div > div > section > div._1kfl0pr > button\").click()\n",
    "        urls_valencia.append(driver.find_element_by_css_selector(f\"#site-content > div:nth-child(4) > div > div > div > div > div > div > div._1gw6tte > div > div > div > div > div > div > div:nth-child({i}) > div > div > div._1e541ba5 > div > div > div > div._8s3ctt > div._1nz9l7j > div > div._e296pg > div._1mx6kqf > div > span > div > a\").get_attribute(\"href\"))\n",
    "        driver.implicitly_wait(2)"
   ]
  },
  {
   "cell_type": "code",
   "execution_count": 112,
   "id": "e443ce47",
   "metadata": {},
   "outputs": [
    {
     "data": {
      "text/plain": [
       "300"
      ]
     },
     "execution_count": 112,
     "metadata": {},
     "output_type": "execute_result"
    }
   ],
   "source": [
    "len(urls_valencia)"
   ]
  },
  {
   "cell_type": "markdown",
   "id": "58c34919",
   "metadata": {},
   "source": [
    "### MALLORCA"
   ]
  },
  {
   "cell_type": "code",
   "execution_count": 113,
   "id": "c3e660c3",
   "metadata": {},
   "outputs": [],
   "source": [
    "paginas_mallorca = []\n",
    "for i in range(0, 281, 20):\n",
    "    paginas_mallorca.append(f\"https://www.airbnb.es/s/mallorca/homes?tab_id=home_tab&refinement_paths%5B%5D=%2Fhomes&flexible_trip_dates%5B%5D=april&flexible_trip_dates%5B%5D=december&flexible_trip_dates%5B%5D=february&flexible_trip_dates%5B%5D=january&flexible_trip_dates%5B%5D=march&flexible_trip_dates%5B%5D=may&date_picker_type=flexible_dates&flexible_trip_lengths%5B%5D=weekend_trip&source=structured_search_input_header&search_type=search_query&query=Majorca%2C%20Balearic%20Islands%2C%20Spain&federated_search_session_id=e92986c5-6d7c-4d06-9a72-400284a3628c&pagination_search=true&items_offset={i}&section_offset=2\")\n",
    "   "
   ]
  },
  {
   "cell_type": "code",
   "execution_count": 114,
   "id": "fb457cf6",
   "metadata": {},
   "outputs": [],
   "source": [
    "driver.quit()"
   ]
  },
  {
   "cell_type": "code",
   "execution_count": 115,
   "id": "6d6d6274",
   "metadata": {},
   "outputs": [
    {
     "name": "stderr",
     "output_type": "stream",
     "text": [
      "\n",
      "\n",
      "====== WebDriver manager ======\n",
      "Current google-chrome version is 96.0.4664\n",
      "Get LATEST chromedriver version for 96.0.4664 google-chrome\n",
      "Driver [/Users/franciscovispo/.wdm/drivers/chromedriver/mac64/96.0.4664.45/chromedriver] found in cache\n",
      "<ipython-input-115-e34f8e8eed0a>:5: DeprecationWarning: executable_path has been deprecated, please pass in a Service object\n",
      "  driver = webdriver.Chrome(ChromeDriverManager().install(), options = opciones)\n",
      "<ipython-input-115-e34f8e8eed0a>:12: DeprecationWarning: find_element_by_* commands are deprecated. Please use find_element() instead\n",
      "  driver.find_element_by_css_selector(\"body > div:nth-child(7) > div > div > div:nth-child(1) > div > div._1cgcei8 > section > div._gsw2t0 > div._160gnkxa > button\").click()\n",
      "<ipython-input-115-e34f8e8eed0a>:20: DeprecationWarning: find_element_by_* commands are deprecated. Please use find_element() instead\n",
      "  urls_mallorca.append(driver.find_element_by_css_selector(f\"#site-content > div:nth-child(4) > div > div > div > div > div > div > div._1gw6tte > div > div > div > div > div > div > div:nth-child({i}) > div > div > div._1e541ba5 > div > div > div > div._8s3ctt > div._1nz9l7j > div > div._e296pg > div._1mx6kqf > div > span > div > a\").get_attribute(\"href\"))\n"
     ]
    },
    {
     "ename": "NoSuchElementException",
     "evalue": "Message: no such element: Unable to locate element: {\"method\":\"css selector\",\"selector\":\"#site-content > div:nth-child(4) > div > div > div > div > div > div > div._1gw6tte > div > div > div > div > div > div > div:nth-child(1) > div > div > div._1e541ba5 > div > div > div > div._8s3ctt > div._1nz9l7j > div > div._e296pg > div._1mx6kqf > div > span > div > a\"}\n  (Session info: chrome=96.0.4664.55)\nStacktrace:\n0   chromedriver                        0x0000000101e46269 __gxx_personality_v0 + 582729\n1   chromedriver                        0x0000000101dd1c33 __gxx_personality_v0 + 106003\n2   chromedriver                        0x000000010198ee28 chromedriver + 171560\n3   chromedriver                        0x00000001019c43d2 chromedriver + 390098\n4   chromedriver                        0x00000001019c4591 chromedriver + 390545\n5   chromedriver                        0x00000001019f66b4 chromedriver + 595636\n6   chromedriver                        0x00000001019e19fd chromedriver + 510461\n7   chromedriver                        0x00000001019f4462 chromedriver + 586850\n8   chromedriver                        0x00000001019e1c23 chromedriver + 511011\n9   chromedriver                        0x00000001019b775e chromedriver + 337758\n10  chromedriver                        0x00000001019b8a95 chromedriver + 342677\n11  chromedriver                        0x0000000101e028ab __gxx_personality_v0 + 305803\n12  chromedriver                        0x0000000101e19863 __gxx_personality_v0 + 399939\n13  chromedriver                        0x0000000101e1ec7f __gxx_personality_v0 + 421471\n14  chromedriver                        0x0000000101e1abba __gxx_personality_v0 + 404890\n15  chromedriver                        0x0000000101df6e51 __gxx_personality_v0 + 258097\n16  chromedriver                        0x0000000101e36158 __gxx_personality_v0 + 516920\n17  chromedriver                        0x0000000101e362e1 __gxx_personality_v0 + 517313\n18  chromedriver                        0x0000000101e4d6f8 __gxx_personality_v0 + 612568\n19  libsystem_pthread.dylib             0x00007fff2049c8fc _pthread_start + 224\n20  libsystem_pthread.dylib             0x00007fff20498443 thread_start + 15\n",
     "output_type": "error",
     "traceback": [
      "\u001b[0;31m---------------------------------------------------------------------------\u001b[0m",
      "\u001b[0;31mNoSuchElementException\u001b[0m                    Traceback (most recent call last)",
      "\u001b[0;32m<ipython-input-115-e34f8e8eed0a>\u001b[0m in \u001b[0;36m<module>\u001b[0;34m\u001b[0m\n\u001b[1;32m     18\u001b[0m         \u001b[0mdriver\u001b[0m\u001b[0;34m.\u001b[0m\u001b[0mimplicitly_wait\u001b[0m\u001b[0;34m(\u001b[0m\u001b[0;36m6\u001b[0m\u001b[0;34m)\u001b[0m\u001b[0;34m\u001b[0m\u001b[0;34m\u001b[0m\u001b[0m\n\u001b[1;32m     19\u001b[0m         \u001b[0;31m#driver.find_element_by_css_selector(\"body > div:nth-child(44) > div > div > section > div._1kfl0pr > button\").click()\u001b[0m\u001b[0;34m\u001b[0m\u001b[0;34m\u001b[0m\u001b[0;34m\u001b[0m\u001b[0m\n\u001b[0;32m---> 20\u001b[0;31m         \u001b[0murls_mallorca\u001b[0m\u001b[0;34m.\u001b[0m\u001b[0mappend\u001b[0m\u001b[0;34m(\u001b[0m\u001b[0mdriver\u001b[0m\u001b[0;34m.\u001b[0m\u001b[0mfind_element_by_css_selector\u001b[0m\u001b[0;34m(\u001b[0m\u001b[0;34mf\"#site-content > div:nth-child(4) > div > div > div > div > div > div > div._1gw6tte > div > div > div > div > div > div > div:nth-child({i}) > div > div > div._1e541ba5 > div > div > div > div._8s3ctt > div._1nz9l7j > div > div._e296pg > div._1mx6kqf > div > span > div > a\"\u001b[0m\u001b[0;34m)\u001b[0m\u001b[0;34m.\u001b[0m\u001b[0mget_attribute\u001b[0m\u001b[0;34m(\u001b[0m\u001b[0;34m\"href\"\u001b[0m\u001b[0;34m)\u001b[0m\u001b[0;34m)\u001b[0m\u001b[0;34m\u001b[0m\u001b[0;34m\u001b[0m\u001b[0m\n\u001b[0m\u001b[1;32m     21\u001b[0m         \u001b[0mdriver\u001b[0m\u001b[0;34m.\u001b[0m\u001b[0mimplicitly_wait\u001b[0m\u001b[0;34m(\u001b[0m\u001b[0;36m2\u001b[0m\u001b[0;34m)\u001b[0m\u001b[0;34m\u001b[0m\u001b[0;34m\u001b[0m\u001b[0m\n",
      "\u001b[0;32m~/opt/anaconda3/envs/ironhack/lib/python3.8/site-packages/selenium/webdriver/remote/webdriver.py\u001b[0m in \u001b[0;36mfind_element_by_css_selector\u001b[0;34m(self, css_selector)\u001b[0m\n\u001b[1;32m    800\u001b[0m             \u001b[0mstacklevel\u001b[0m\u001b[0;34m=\u001b[0m\u001b[0;36m2\u001b[0m\u001b[0;34m,\u001b[0m\u001b[0;34m\u001b[0m\u001b[0;34m\u001b[0m\u001b[0m\n\u001b[1;32m    801\u001b[0m         )\n\u001b[0;32m--> 802\u001b[0;31m         \u001b[0;32mreturn\u001b[0m \u001b[0mself\u001b[0m\u001b[0;34m.\u001b[0m\u001b[0mfind_element\u001b[0m\u001b[0;34m(\u001b[0m\u001b[0mby\u001b[0m\u001b[0;34m=\u001b[0m\u001b[0mBy\u001b[0m\u001b[0;34m.\u001b[0m\u001b[0mCSS_SELECTOR\u001b[0m\u001b[0;34m,\u001b[0m \u001b[0mvalue\u001b[0m\u001b[0;34m=\u001b[0m\u001b[0mcss_selector\u001b[0m\u001b[0;34m)\u001b[0m\u001b[0;34m\u001b[0m\u001b[0;34m\u001b[0m\u001b[0m\n\u001b[0m\u001b[1;32m    803\u001b[0m \u001b[0;34m\u001b[0m\u001b[0m\n\u001b[1;32m    804\u001b[0m     \u001b[0;32mdef\u001b[0m \u001b[0mfind_elements_by_css_selector\u001b[0m\u001b[0;34m(\u001b[0m\u001b[0mself\u001b[0m\u001b[0;34m,\u001b[0m \u001b[0mcss_selector\u001b[0m\u001b[0;34m)\u001b[0m \u001b[0;34m->\u001b[0m \u001b[0mWebElement\u001b[0m\u001b[0;34m:\u001b[0m\u001b[0;34m\u001b[0m\u001b[0;34m\u001b[0m\u001b[0m\n",
      "\u001b[0;32m~/opt/anaconda3/envs/ironhack/lib/python3.8/site-packages/selenium/webdriver/remote/webdriver.py\u001b[0m in \u001b[0;36mfind_element\u001b[0;34m(self, by, value)\u001b[0m\n\u001b[1;32m   1236\u001b[0m             \u001b[0mvalue\u001b[0m \u001b[0;34m=\u001b[0m \u001b[0;34m'[name=\"%s\"]'\u001b[0m \u001b[0;34m%\u001b[0m \u001b[0mvalue\u001b[0m\u001b[0;34m\u001b[0m\u001b[0;34m\u001b[0m\u001b[0m\n\u001b[1;32m   1237\u001b[0m \u001b[0;34m\u001b[0m\u001b[0m\n\u001b[0;32m-> 1238\u001b[0;31m         return self.execute(Command.FIND_ELEMENT, {\n\u001b[0m\u001b[1;32m   1239\u001b[0m             \u001b[0;34m'using'\u001b[0m\u001b[0;34m:\u001b[0m \u001b[0mby\u001b[0m\u001b[0;34m,\u001b[0m\u001b[0;34m\u001b[0m\u001b[0;34m\u001b[0m\u001b[0m\n\u001b[1;32m   1240\u001b[0m             'value': value})['value']\n",
      "\u001b[0;32m~/opt/anaconda3/envs/ironhack/lib/python3.8/site-packages/selenium/webdriver/remote/webdriver.py\u001b[0m in \u001b[0;36mexecute\u001b[0;34m(self, driver_command, params)\u001b[0m\n\u001b[1;32m    416\u001b[0m         \u001b[0mresponse\u001b[0m \u001b[0;34m=\u001b[0m \u001b[0mself\u001b[0m\u001b[0;34m.\u001b[0m\u001b[0mcommand_executor\u001b[0m\u001b[0;34m.\u001b[0m\u001b[0mexecute\u001b[0m\u001b[0;34m(\u001b[0m\u001b[0mdriver_command\u001b[0m\u001b[0;34m,\u001b[0m \u001b[0mparams\u001b[0m\u001b[0;34m)\u001b[0m\u001b[0;34m\u001b[0m\u001b[0;34m\u001b[0m\u001b[0m\n\u001b[1;32m    417\u001b[0m         \u001b[0;32mif\u001b[0m \u001b[0mresponse\u001b[0m\u001b[0;34m:\u001b[0m\u001b[0;34m\u001b[0m\u001b[0;34m\u001b[0m\u001b[0m\n\u001b[0;32m--> 418\u001b[0;31m             \u001b[0mself\u001b[0m\u001b[0;34m.\u001b[0m\u001b[0merror_handler\u001b[0m\u001b[0;34m.\u001b[0m\u001b[0mcheck_response\u001b[0m\u001b[0;34m(\u001b[0m\u001b[0mresponse\u001b[0m\u001b[0;34m)\u001b[0m\u001b[0;34m\u001b[0m\u001b[0;34m\u001b[0m\u001b[0m\n\u001b[0m\u001b[1;32m    419\u001b[0m             response['value'] = self._unwrap_value(\n\u001b[1;32m    420\u001b[0m                 response.get('value', None))\n",
      "\u001b[0;32m~/opt/anaconda3/envs/ironhack/lib/python3.8/site-packages/selenium/webdriver/remote/errorhandler.py\u001b[0m in \u001b[0;36mcheck_response\u001b[0;34m(self, response)\u001b[0m\n\u001b[1;32m    241\u001b[0m                 \u001b[0malert_text\u001b[0m \u001b[0;34m=\u001b[0m \u001b[0mvalue\u001b[0m\u001b[0;34m[\u001b[0m\u001b[0;34m'alert'\u001b[0m\u001b[0;34m]\u001b[0m\u001b[0;34m.\u001b[0m\u001b[0mget\u001b[0m\u001b[0;34m(\u001b[0m\u001b[0;34m'text'\u001b[0m\u001b[0;34m)\u001b[0m\u001b[0;34m\u001b[0m\u001b[0;34m\u001b[0m\u001b[0m\n\u001b[1;32m    242\u001b[0m             \u001b[0;32mraise\u001b[0m \u001b[0mexception_class\u001b[0m\u001b[0;34m(\u001b[0m\u001b[0mmessage\u001b[0m\u001b[0;34m,\u001b[0m \u001b[0mscreen\u001b[0m\u001b[0;34m,\u001b[0m \u001b[0mstacktrace\u001b[0m\u001b[0;34m,\u001b[0m \u001b[0malert_text\u001b[0m\u001b[0;34m)\u001b[0m  \u001b[0;31m# type: ignore[call-arg]  # mypy is not smart enough here\u001b[0m\u001b[0;34m\u001b[0m\u001b[0;34m\u001b[0m\u001b[0m\n\u001b[0;32m--> 243\u001b[0;31m         \u001b[0;32mraise\u001b[0m \u001b[0mexception_class\u001b[0m\u001b[0;34m(\u001b[0m\u001b[0mmessage\u001b[0m\u001b[0;34m,\u001b[0m \u001b[0mscreen\u001b[0m\u001b[0;34m,\u001b[0m \u001b[0mstacktrace\u001b[0m\u001b[0;34m)\u001b[0m\u001b[0;34m\u001b[0m\u001b[0;34m\u001b[0m\u001b[0m\n\u001b[0m\u001b[1;32m    244\u001b[0m \u001b[0;34m\u001b[0m\u001b[0m\n\u001b[1;32m    245\u001b[0m     \u001b[0;32mdef\u001b[0m \u001b[0m_value_or_default\u001b[0m\u001b[0;34m(\u001b[0m\u001b[0mself\u001b[0m\u001b[0;34m,\u001b[0m \u001b[0mobj\u001b[0m\u001b[0;34m:\u001b[0m \u001b[0mMapping\u001b[0m\u001b[0;34m[\u001b[0m\u001b[0m_KT\u001b[0m\u001b[0;34m,\u001b[0m \u001b[0m_VT\u001b[0m\u001b[0;34m]\u001b[0m\u001b[0;34m,\u001b[0m \u001b[0mkey\u001b[0m\u001b[0;34m:\u001b[0m \u001b[0m_KT\u001b[0m\u001b[0;34m,\u001b[0m \u001b[0mdefault\u001b[0m\u001b[0;34m:\u001b[0m \u001b[0m_VT\u001b[0m\u001b[0;34m)\u001b[0m \u001b[0;34m->\u001b[0m \u001b[0m_VT\u001b[0m\u001b[0;34m:\u001b[0m\u001b[0;34m\u001b[0m\u001b[0;34m\u001b[0m\u001b[0m\n",
      "\u001b[0;31mNoSuchElementException\u001b[0m: Message: no such element: Unable to locate element: {\"method\":\"css selector\",\"selector\":\"#site-content > div:nth-child(4) > div > div > div > div > div > div > div._1gw6tte > div > div > div > div > div > div > div:nth-child(1) > div > div > div._1e541ba5 > div > div > div > div._8s3ctt > div._1nz9l7j > div > div._e296pg > div._1mx6kqf > div > span > div > a\"}\n  (Session info: chrome=96.0.4664.55)\nStacktrace:\n0   chromedriver                        0x0000000101e46269 __gxx_personality_v0 + 582729\n1   chromedriver                        0x0000000101dd1c33 __gxx_personality_v0 + 106003\n2   chromedriver                        0x000000010198ee28 chromedriver + 171560\n3   chromedriver                        0x00000001019c43d2 chromedriver + 390098\n4   chromedriver                        0x00000001019c4591 chromedriver + 390545\n5   chromedriver                        0x00000001019f66b4 chromedriver + 595636\n6   chromedriver                        0x00000001019e19fd chromedriver + 510461\n7   chromedriver                        0x00000001019f4462 chromedriver + 586850\n8   chromedriver                        0x00000001019e1c23 chromedriver + 511011\n9   chromedriver                        0x00000001019b775e chromedriver + 337758\n10  chromedriver                        0x00000001019b8a95 chromedriver + 342677\n11  chromedriver                        0x0000000101e028ab __gxx_personality_v0 + 305803\n12  chromedriver                        0x0000000101e19863 __gxx_personality_v0 + 399939\n13  chromedriver                        0x0000000101e1ec7f __gxx_personality_v0 + 421471\n14  chromedriver                        0x0000000101e1abba __gxx_personality_v0 + 404890\n15  chromedriver                        0x0000000101df6e51 __gxx_personality_v0 + 258097\n16  chromedriver                        0x0000000101e36158 __gxx_personality_v0 + 516920\n17  chromedriver                        0x0000000101e362e1 __gxx_personality_v0 + 517313\n18  chromedriver                        0x0000000101e4d6f8 __gxx_personality_v0 + 612568\n19  libsystem_pthread.dylib             0x00007fff2049c8fc _pthread_start + 224\n20  libsystem_pthread.dylib             0x00007fff20498443 thread_start + 15\n"
     ]
    }
   ],
   "source": [
    "#LISTA DE URLS\n",
    "urls_mallorca = []\n",
    "\n",
    "# download the driver \n",
    "driver = webdriver.Chrome(ChromeDriverManager().install(), options = opciones)\n",
    "# set the url\n",
    "url = \"https://www.airbnb.es/s/mallorca/homes?tab_id=home_tab&refinement_paths%5B%5D=%2Fhomes&flexible_trip_dates%5B%5D=april&flexible_trip_dates%5B%5D=december&flexible_trip_dates%5B%5D=february&flexible_trip_dates%5B%5D=january&flexible_trip_dates%5B%5D=march&flexible_trip_dates%5B%5D=may&date_picker_type=flexible_dates&flexible_trip_lengths%5B%5D=weekend_trip&source=structured_search_input_header&search_type=search_query&query=Majorca%2C%20Balearic%20Islands%2C%20Spain&federated_search_session_id=e92986c5-6d7c-4d06-9a72-400284a3628c&pagination_search=true\"\n",
    "\n",
    "driver.get(url)\n",
    "driver.implicitly_wait(2) # is like a time.sleep but specific of selenium\n",
    "#cookies 1\n",
    "driver.find_element_by_css_selector(\"body > div:nth-child(7) > div > div > div:nth-child(1) > div > div._1cgcei8 > section > div._gsw2t0 > div._160gnkxa > button\").click()\n",
    "driver.implicitly_wait(10) # is like a time.sleep but specific of selenium\n",
    "\n",
    "\n",
    "for i in paginas_mallorca:\n",
    "    for i in range (1,21):\n",
    "        driver.implicitly_wait(6)\n",
    "        #driver.find_element_by_css_selector(\"body > div:nth-child(44) > div > div > section > div._1kfl0pr > button\").click()\n",
    "        urls_mallorca.append(driver.find_element_by_css_selector(f\"#site-content > div:nth-child(4) > div > div > div > div > div > div > div._1gw6tte > div > div > div > div > div > div > div:nth-child({i}) > div > div > div._1e541ba5 > div > div > div > div._8s3ctt > div._1nz9l7j > div > div._e296pg > div._1mx6kqf > div > span > div > a\").get_attribute(\"href\"))\n",
    "        driver.implicitly_wait(2)"
   ]
  },
  {
   "cell_type": "code",
   "execution_count": null,
   "id": "7821805b",
   "metadata": {},
   "outputs": [],
   "source": [
    "len(urls_mallorca)"
   ]
  },
  {
   "cell_type": "markdown",
   "id": "b4730a49",
   "metadata": {},
   "source": [
    "### SANTA CRUZ DE TENERIFE"
   ]
  },
  {
   "cell_type": "code",
   "execution_count": 125,
   "id": "ae33686a",
   "metadata": {},
   "outputs": [],
   "source": [
    "paginas_tenerife = []\n",
    "for i in range(0, 281, 20):\n",
    "    paginas_tenerife.append(f\"https://www.airbnb.es/s/Tenerife--Santa-Cruz-de-Tenerife/homes?tab_id=home_tab&refinement_paths%5B%5D=%2Fhomes&flexible_trip_dates%5B%5D=april&flexible_trip_dates%5B%5D=december&flexible_trip_dates%5B%5D=february&flexible_trip_dates%5B%5D=january&flexible_trip_dates%5B%5D=march&flexible_trip_dates%5B%5D=may&date_picker_type=flexible_dates&flexible_trip_lengths%5B%5D=weekend_trip&source=structured_search_input_header&search_type=autocomplete_click&query=Tenerife%2C%20Santa%20Cruz%20de%20Tenerife&place_id=ChIJ7YKG_u8pQAwRPK9LyPFLGrA&federated_search_session_id=72ed8aa5-5637-46d5-b207-3c0a30e469c4&pagination_search=true&items_offset={i}&section_offset=2\")\n",
    "  "
   ]
  },
  {
   "cell_type": "code",
   "execution_count": 126,
   "id": "abd83f7e",
   "metadata": {},
   "outputs": [
    {
     "data": {
      "text/plain": [
       "15"
      ]
     },
     "execution_count": 126,
     "metadata": {},
     "output_type": "execute_result"
    }
   ],
   "source": [
    "len(paginas_tenerife)"
   ]
  },
  {
   "cell_type": "code",
   "execution_count": 128,
   "id": "54717a7d",
   "metadata": {},
   "outputs": [],
   "source": [
    "driver.quit()"
   ]
  },
  {
   "cell_type": "code",
   "execution_count": 129,
   "id": "c7970e7a",
   "metadata": {},
   "outputs": [
    {
     "name": "stderr",
     "output_type": "stream",
     "text": [
      "\n",
      "\n",
      "====== WebDriver manager ======\n",
      "Current google-chrome version is 96.0.4664\n",
      "Get LATEST chromedriver version for 96.0.4664 google-chrome\n",
      "Driver [/Users/franciscovispo/.wdm/drivers/chromedriver/mac64/96.0.4664.45/chromedriver] found in cache\n",
      "<ipython-input-129-f31e45b1b41b>:5: DeprecationWarning: executable_path has been deprecated, please pass in a Service object\n",
      "  driver = webdriver.Chrome(ChromeDriverManager().install(), options = opciones)\n",
      "<ipython-input-129-f31e45b1b41b>:12: DeprecationWarning: find_element_by_* commands are deprecated. Please use find_element() instead\n",
      "  driver.find_element_by_css_selector(\"body > div:nth-child(7) > div > div > div:nth-child(1) > div > div._1cgcei8 > section > div._gsw2t0 > div._160gnkxa > button\").click()\n",
      "<ipython-input-129-f31e45b1b41b>:20: DeprecationWarning: find_element_by_* commands are deprecated. Please use find_element() instead\n",
      "  urls_tenerife.append(driver.find_element_by_css_selector(f\"#site-content > div:nth-child(4) > div > div > div > div > div > div > div._1gw6tte > div > div > div > div > div > div > div:nth-child({i}) > div > div > div._1e541ba5 > div > div > div > div._8s3ctt > div._1nz9l7j > div > div._e296pg > div._1mx6kqf > div > span > div > a\").get_attribute(\"href\"))\n"
     ]
    },
    {
     "ename": "NoSuchElementException",
     "evalue": "Message: no such element: Unable to locate element: {\"method\":\"css selector\",\"selector\":\"#site-content > div:nth-child(4) > div > div > div > div > div > div > div._1gw6tte > div > div > div > div > div > div > div:nth-child(1) > div > div > div._1e541ba5 > div > div > div > div._8s3ctt > div._1nz9l7j > div > div._e296pg > div._1mx6kqf > div > span > div > a\"}\n  (Session info: chrome=96.0.4664.55)\nStacktrace:\n0   chromedriver                        0x0000000106927269 __gxx_personality_v0 + 582729\n1   chromedriver                        0x00000001068b2c33 __gxx_personality_v0 + 106003\n2   chromedriver                        0x000000010646fe28 chromedriver + 171560\n3   chromedriver                        0x00000001064a53d2 chromedriver + 390098\n4   chromedriver                        0x00000001064a5591 chromedriver + 390545\n5   chromedriver                        0x00000001064d76b4 chromedriver + 595636\n6   chromedriver                        0x00000001064c29fd chromedriver + 510461\n7   chromedriver                        0x00000001064d5462 chromedriver + 586850\n8   chromedriver                        0x00000001064c2c23 chromedriver + 511011\n9   chromedriver                        0x000000010649875e chromedriver + 337758\n10  chromedriver                        0x0000000106499a95 chromedriver + 342677\n11  chromedriver                        0x00000001068e38ab __gxx_personality_v0 + 305803\n12  chromedriver                        0x00000001068fa863 __gxx_personality_v0 + 399939\n13  chromedriver                        0x00000001068ffc7f __gxx_personality_v0 + 421471\n14  chromedriver                        0x00000001068fbbba __gxx_personality_v0 + 404890\n15  chromedriver                        0x00000001068d7e51 __gxx_personality_v0 + 258097\n16  chromedriver                        0x0000000106917158 __gxx_personality_v0 + 516920\n17  chromedriver                        0x00000001069172e1 __gxx_personality_v0 + 517313\n18  chromedriver                        0x000000010692e6f8 __gxx_personality_v0 + 612568\n19  libsystem_pthread.dylib             0x00007fff2049c8fc _pthread_start + 224\n20  libsystem_pthread.dylib             0x00007fff20498443 thread_start + 15\n",
     "output_type": "error",
     "traceback": [
      "\u001b[0;31m---------------------------------------------------------------------------\u001b[0m",
      "\u001b[0;31mNoSuchElementException\u001b[0m                    Traceback (most recent call last)",
      "\u001b[0;32m<ipython-input-129-f31e45b1b41b>\u001b[0m in \u001b[0;36m<module>\u001b[0;34m\u001b[0m\n\u001b[1;32m     18\u001b[0m         \u001b[0mdriver\u001b[0m\u001b[0;34m.\u001b[0m\u001b[0mimplicitly_wait\u001b[0m\u001b[0;34m(\u001b[0m\u001b[0;36m6\u001b[0m\u001b[0;34m)\u001b[0m\u001b[0;34m\u001b[0m\u001b[0;34m\u001b[0m\u001b[0m\n\u001b[1;32m     19\u001b[0m         \u001b[0;31m#driver.find_element_by_css_selector(\"body > div:nth-child(44) > div > div > section > div._1kfl0pr > button\").click()\u001b[0m\u001b[0;34m\u001b[0m\u001b[0;34m\u001b[0m\u001b[0;34m\u001b[0m\u001b[0m\n\u001b[0;32m---> 20\u001b[0;31m         \u001b[0murls_tenerife\u001b[0m\u001b[0;34m.\u001b[0m\u001b[0mappend\u001b[0m\u001b[0;34m(\u001b[0m\u001b[0mdriver\u001b[0m\u001b[0;34m.\u001b[0m\u001b[0mfind_element_by_css_selector\u001b[0m\u001b[0;34m(\u001b[0m\u001b[0;34mf\"#site-content > div:nth-child(4) > div > div > div > div > div > div > div._1gw6tte > div > div > div > div > div > div > div:nth-child({i}) > div > div > div._1e541ba5 > div > div > div > div._8s3ctt > div._1nz9l7j > div > div._e296pg > div._1mx6kqf > div > span > div > a\"\u001b[0m\u001b[0;34m)\u001b[0m\u001b[0;34m.\u001b[0m\u001b[0mget_attribute\u001b[0m\u001b[0;34m(\u001b[0m\u001b[0;34m\"href\"\u001b[0m\u001b[0;34m)\u001b[0m\u001b[0;34m)\u001b[0m\u001b[0;34m\u001b[0m\u001b[0;34m\u001b[0m\u001b[0m\n\u001b[0m\u001b[1;32m     21\u001b[0m         \u001b[0mdriver\u001b[0m\u001b[0;34m.\u001b[0m\u001b[0mimplicitly_wait\u001b[0m\u001b[0;34m(\u001b[0m\u001b[0;36m2\u001b[0m\u001b[0;34m)\u001b[0m\u001b[0;34m\u001b[0m\u001b[0;34m\u001b[0m\u001b[0m\n",
      "\u001b[0;32m~/opt/anaconda3/envs/ironhack/lib/python3.8/site-packages/selenium/webdriver/remote/webdriver.py\u001b[0m in \u001b[0;36mfind_element_by_css_selector\u001b[0;34m(self, css_selector)\u001b[0m\n\u001b[1;32m    800\u001b[0m             \u001b[0mstacklevel\u001b[0m\u001b[0;34m=\u001b[0m\u001b[0;36m2\u001b[0m\u001b[0;34m,\u001b[0m\u001b[0;34m\u001b[0m\u001b[0;34m\u001b[0m\u001b[0m\n\u001b[1;32m    801\u001b[0m         )\n\u001b[0;32m--> 802\u001b[0;31m         \u001b[0;32mreturn\u001b[0m \u001b[0mself\u001b[0m\u001b[0;34m.\u001b[0m\u001b[0mfind_element\u001b[0m\u001b[0;34m(\u001b[0m\u001b[0mby\u001b[0m\u001b[0;34m=\u001b[0m\u001b[0mBy\u001b[0m\u001b[0;34m.\u001b[0m\u001b[0mCSS_SELECTOR\u001b[0m\u001b[0;34m,\u001b[0m \u001b[0mvalue\u001b[0m\u001b[0;34m=\u001b[0m\u001b[0mcss_selector\u001b[0m\u001b[0;34m)\u001b[0m\u001b[0;34m\u001b[0m\u001b[0;34m\u001b[0m\u001b[0m\n\u001b[0m\u001b[1;32m    803\u001b[0m \u001b[0;34m\u001b[0m\u001b[0m\n\u001b[1;32m    804\u001b[0m     \u001b[0;32mdef\u001b[0m \u001b[0mfind_elements_by_css_selector\u001b[0m\u001b[0;34m(\u001b[0m\u001b[0mself\u001b[0m\u001b[0;34m,\u001b[0m \u001b[0mcss_selector\u001b[0m\u001b[0;34m)\u001b[0m \u001b[0;34m->\u001b[0m \u001b[0mWebElement\u001b[0m\u001b[0;34m:\u001b[0m\u001b[0;34m\u001b[0m\u001b[0;34m\u001b[0m\u001b[0m\n",
      "\u001b[0;32m~/opt/anaconda3/envs/ironhack/lib/python3.8/site-packages/selenium/webdriver/remote/webdriver.py\u001b[0m in \u001b[0;36mfind_element\u001b[0;34m(self, by, value)\u001b[0m\n\u001b[1;32m   1236\u001b[0m             \u001b[0mvalue\u001b[0m \u001b[0;34m=\u001b[0m \u001b[0;34m'[name=\"%s\"]'\u001b[0m \u001b[0;34m%\u001b[0m \u001b[0mvalue\u001b[0m\u001b[0;34m\u001b[0m\u001b[0;34m\u001b[0m\u001b[0m\n\u001b[1;32m   1237\u001b[0m \u001b[0;34m\u001b[0m\u001b[0m\n\u001b[0;32m-> 1238\u001b[0;31m         return self.execute(Command.FIND_ELEMENT, {\n\u001b[0m\u001b[1;32m   1239\u001b[0m             \u001b[0;34m'using'\u001b[0m\u001b[0;34m:\u001b[0m \u001b[0mby\u001b[0m\u001b[0;34m,\u001b[0m\u001b[0;34m\u001b[0m\u001b[0;34m\u001b[0m\u001b[0m\n\u001b[1;32m   1240\u001b[0m             'value': value})['value']\n",
      "\u001b[0;32m~/opt/anaconda3/envs/ironhack/lib/python3.8/site-packages/selenium/webdriver/remote/webdriver.py\u001b[0m in \u001b[0;36mexecute\u001b[0;34m(self, driver_command, params)\u001b[0m\n\u001b[1;32m    416\u001b[0m         \u001b[0mresponse\u001b[0m \u001b[0;34m=\u001b[0m \u001b[0mself\u001b[0m\u001b[0;34m.\u001b[0m\u001b[0mcommand_executor\u001b[0m\u001b[0;34m.\u001b[0m\u001b[0mexecute\u001b[0m\u001b[0;34m(\u001b[0m\u001b[0mdriver_command\u001b[0m\u001b[0;34m,\u001b[0m \u001b[0mparams\u001b[0m\u001b[0;34m)\u001b[0m\u001b[0;34m\u001b[0m\u001b[0;34m\u001b[0m\u001b[0m\n\u001b[1;32m    417\u001b[0m         \u001b[0;32mif\u001b[0m \u001b[0mresponse\u001b[0m\u001b[0;34m:\u001b[0m\u001b[0;34m\u001b[0m\u001b[0;34m\u001b[0m\u001b[0m\n\u001b[0;32m--> 418\u001b[0;31m             \u001b[0mself\u001b[0m\u001b[0;34m.\u001b[0m\u001b[0merror_handler\u001b[0m\u001b[0;34m.\u001b[0m\u001b[0mcheck_response\u001b[0m\u001b[0;34m(\u001b[0m\u001b[0mresponse\u001b[0m\u001b[0;34m)\u001b[0m\u001b[0;34m\u001b[0m\u001b[0;34m\u001b[0m\u001b[0m\n\u001b[0m\u001b[1;32m    419\u001b[0m             response['value'] = self._unwrap_value(\n\u001b[1;32m    420\u001b[0m                 response.get('value', None))\n",
      "\u001b[0;32m~/opt/anaconda3/envs/ironhack/lib/python3.8/site-packages/selenium/webdriver/remote/errorhandler.py\u001b[0m in \u001b[0;36mcheck_response\u001b[0;34m(self, response)\u001b[0m\n\u001b[1;32m    241\u001b[0m                 \u001b[0malert_text\u001b[0m \u001b[0;34m=\u001b[0m \u001b[0mvalue\u001b[0m\u001b[0;34m[\u001b[0m\u001b[0;34m'alert'\u001b[0m\u001b[0;34m]\u001b[0m\u001b[0;34m.\u001b[0m\u001b[0mget\u001b[0m\u001b[0;34m(\u001b[0m\u001b[0;34m'text'\u001b[0m\u001b[0;34m)\u001b[0m\u001b[0;34m\u001b[0m\u001b[0;34m\u001b[0m\u001b[0m\n\u001b[1;32m    242\u001b[0m             \u001b[0;32mraise\u001b[0m \u001b[0mexception_class\u001b[0m\u001b[0;34m(\u001b[0m\u001b[0mmessage\u001b[0m\u001b[0;34m,\u001b[0m \u001b[0mscreen\u001b[0m\u001b[0;34m,\u001b[0m \u001b[0mstacktrace\u001b[0m\u001b[0;34m,\u001b[0m \u001b[0malert_text\u001b[0m\u001b[0;34m)\u001b[0m  \u001b[0;31m# type: ignore[call-arg]  # mypy is not smart enough here\u001b[0m\u001b[0;34m\u001b[0m\u001b[0;34m\u001b[0m\u001b[0m\n\u001b[0;32m--> 243\u001b[0;31m         \u001b[0;32mraise\u001b[0m \u001b[0mexception_class\u001b[0m\u001b[0;34m(\u001b[0m\u001b[0mmessage\u001b[0m\u001b[0;34m,\u001b[0m \u001b[0mscreen\u001b[0m\u001b[0;34m,\u001b[0m \u001b[0mstacktrace\u001b[0m\u001b[0;34m)\u001b[0m\u001b[0;34m\u001b[0m\u001b[0;34m\u001b[0m\u001b[0m\n\u001b[0m\u001b[1;32m    244\u001b[0m \u001b[0;34m\u001b[0m\u001b[0m\n\u001b[1;32m    245\u001b[0m     \u001b[0;32mdef\u001b[0m \u001b[0m_value_or_default\u001b[0m\u001b[0;34m(\u001b[0m\u001b[0mself\u001b[0m\u001b[0;34m,\u001b[0m \u001b[0mobj\u001b[0m\u001b[0;34m:\u001b[0m \u001b[0mMapping\u001b[0m\u001b[0;34m[\u001b[0m\u001b[0m_KT\u001b[0m\u001b[0;34m,\u001b[0m \u001b[0m_VT\u001b[0m\u001b[0;34m]\u001b[0m\u001b[0;34m,\u001b[0m \u001b[0mkey\u001b[0m\u001b[0;34m:\u001b[0m \u001b[0m_KT\u001b[0m\u001b[0;34m,\u001b[0m \u001b[0mdefault\u001b[0m\u001b[0;34m:\u001b[0m \u001b[0m_VT\u001b[0m\u001b[0;34m)\u001b[0m \u001b[0;34m->\u001b[0m \u001b[0m_VT\u001b[0m\u001b[0;34m:\u001b[0m\u001b[0;34m\u001b[0m\u001b[0;34m\u001b[0m\u001b[0m\n",
      "\u001b[0;31mNoSuchElementException\u001b[0m: Message: no such element: Unable to locate element: {\"method\":\"css selector\",\"selector\":\"#site-content > div:nth-child(4) > div > div > div > div > div > div > div._1gw6tte > div > div > div > div > div > div > div:nth-child(1) > div > div > div._1e541ba5 > div > div > div > div._8s3ctt > div._1nz9l7j > div > div._e296pg > div._1mx6kqf > div > span > div > a\"}\n  (Session info: chrome=96.0.4664.55)\nStacktrace:\n0   chromedriver                        0x0000000106927269 __gxx_personality_v0 + 582729\n1   chromedriver                        0x00000001068b2c33 __gxx_personality_v0 + 106003\n2   chromedriver                        0x000000010646fe28 chromedriver + 171560\n3   chromedriver                        0x00000001064a53d2 chromedriver + 390098\n4   chromedriver                        0x00000001064a5591 chromedriver + 390545\n5   chromedriver                        0x00000001064d76b4 chromedriver + 595636\n6   chromedriver                        0x00000001064c29fd chromedriver + 510461\n7   chromedriver                        0x00000001064d5462 chromedriver + 586850\n8   chromedriver                        0x00000001064c2c23 chromedriver + 511011\n9   chromedriver                        0x000000010649875e chromedriver + 337758\n10  chromedriver                        0x0000000106499a95 chromedriver + 342677\n11  chromedriver                        0x00000001068e38ab __gxx_personality_v0 + 305803\n12  chromedriver                        0x00000001068fa863 __gxx_personality_v0 + 399939\n13  chromedriver                        0x00000001068ffc7f __gxx_personality_v0 + 421471\n14  chromedriver                        0x00000001068fbbba __gxx_personality_v0 + 404890\n15  chromedriver                        0x00000001068d7e51 __gxx_personality_v0 + 258097\n16  chromedriver                        0x0000000106917158 __gxx_personality_v0 + 516920\n17  chromedriver                        0x00000001069172e1 __gxx_personality_v0 + 517313\n18  chromedriver                        0x000000010692e6f8 __gxx_personality_v0 + 612568\n19  libsystem_pthread.dylib             0x00007fff2049c8fc _pthread_start + 224\n20  libsystem_pthread.dylib             0x00007fff20498443 thread_start + 15\n"
     ]
    }
   ],
   "source": [
    "#LISTA DE URLS\n",
    "urls_tenerife = []\n",
    "\n",
    "# download the driver \n",
    "driver = webdriver.Chrome(ChromeDriverManager().install(), options = opciones)\n",
    "# set the url\n",
    "url = \"https://www.airbnb.es/s/Tenerife--Santa-Cruz-de-Tenerife/homes?tab_id=home_tab&refinement_paths%5B%5D=%2Fhomes&flexible_trip_dates%5B%5D=april&flexible_trip_dates%5B%5D=december&flexible_trip_dates%5B%5D=february&flexible_trip_dates%5B%5D=january&flexible_trip_dates%5B%5D=march&flexible_trip_dates%5B%5D=may&date_picker_type=flexible_dates&flexible_trip_lengths%5B%5D=weekend_trip&source=structured_search_input_header&search_type=autocomplete_click&query=Tenerife%2C%20Santa%20Cruz%20de%20Tenerife&place_id=ChIJ7YKG_u8pQAwRPK9LyPFLGrA&federated_search_session_id=72ed8aa5-5637-46d5-b207-3c0a30e469c4&pagination_search=true\"\n",
    "\n",
    "driver.get(url)\n",
    "driver.implicitly_wait(2) # is like a time.sleep but specific of selenium\n",
    "#cookies 1\n",
    "driver.find_element_by_css_selector(\"body > div:nth-child(7) > div > div > div:nth-child(1) > div > div._1cgcei8 > section > div._gsw2t0 > div._160gnkxa > button\").click()\n",
    "driver.implicitly_wait(10) # is like a time.sleep but specific of selenium\n",
    "\n",
    "\n",
    "for i in paginas_tenerife:\n",
    "    for i in range (1,21):\n",
    "        driver.implicitly_wait(6)\n",
    "        #driver.find_element_by_css_selector(\"body > div:nth-child(44) > div > div > section > div._1kfl0pr > button\").click()\n",
    "        urls_tenerife.append(driver.find_element_by_css_selector(f\"#site-content > div:nth-child(4) > div > div > div > div > div > div > div._1gw6tte > div > div > div > div > div > div > div:nth-child({i}) > div > div > div._1e541ba5 > div > div > div > div._8s3ctt > div._1nz9l7j > div > div._e296pg > div._1mx6kqf > div > span > div > a\").get_attribute(\"href\"))\n",
    "        driver.implicitly_wait(2)"
   ]
  },
  {
   "cell_type": "code",
   "execution_count": 136,
   "id": "7819302d",
   "metadata": {},
   "outputs": [
    {
     "data": {
      "text/plain": [
       "0"
      ]
     },
     "execution_count": 136,
     "metadata": {},
     "output_type": "execute_result"
    }
   ],
   "source": [
    "len(urls_tenerife)"
   ]
  }
 ],
 "metadata": {
  "kernelspec": {
   "display_name": "ironhack",
   "language": "python",
   "name": "ironhack"
  },
  "language_info": {
   "codemirror_mode": {
    "name": "ipython",
    "version": 3
   },
   "file_extension": ".py",
   "mimetype": "text/x-python",
   "name": "python",
   "nbconvert_exporter": "python",
   "pygments_lexer": "ipython3",
   "version": "3.8.5"
  }
 },
 "nbformat": 4,
 "nbformat_minor": 5
}
