{
 "cells": [
  {
   "cell_type": "code",
   "execution_count": 1,
   "id": "1b66949b",
   "metadata": {},
   "outputs": [],
   "source": [
    "from selenium import webdriver\n",
    "from selenium.webdriver.chrome.options import Options\n",
    "import time\n",
    "import pandas as pd\n",
    "from selenium.webdriver.support.ui import Select\n",
    "from webdriver_manager.chrome import ChromeDriverManager"
   ]
  },
  {
   "cell_type": "code",
   "execution_count": 2,
   "id": "2aaf5403",
   "metadata": {},
   "outputs": [],
   "source": [
    "opciones=Options()\n",
    "\n",
    "opciones.add_experimental_option('excludeSwitches', ['enable-automation'])\n",
    "opciones.add_experimental_option('useAutomationExtension', False)\n",
    "\n",
    "opciones.headless=False    # si True, no aperece la ventana (headless=no visible)\n",
    "\n",
    "opciones.add_argument('--start-maximized')         # comienza maximizado\n",
    "\n",
    "opciones.add_argument('user-data-dir=selenium')    # mantiene las cookies\n",
    "\n",
    "#opciones.add_extension('driver_folder/adblock.crx')       # adblocker\n",
    "\n",
    "opciones.add_argument('--incognito')              # incognito"
   ]
  },
  {
   "cell_type": "markdown",
   "id": "c4ead57f",
   "metadata": {},
   "source": [
    "# URLS"
   ]
  },
  {
   "cell_type": "markdown",
   "id": "d95e87a0",
   "metadata": {},
   "source": [
    "# Barcelona"
   ]
  },
  {
   "cell_type": "code",
   "execution_count": 3,
   "id": "0b6305da",
   "metadata": {},
   "outputs": [],
   "source": [
    "#driver.quit()"
   ]
  },
  {
   "cell_type": "code",
   "execution_count": 8,
   "id": "43444a90",
   "metadata": {},
   "outputs": [
    {
     "name": "stderr",
     "output_type": "stream",
     "text": [
      "\n",
      "\n",
      "====== WebDriver manager ======\n",
      "Current google-chrome version is 96.0.4664\n",
      "Get LATEST chromedriver version for 96.0.4664 google-chrome\n",
      "Driver [/Users/franciscovispo/.wdm/drivers/chromedriver/mac64/96.0.4664.45/chromedriver] found in cache\n",
      "<ipython-input-8-29c162d937fa>:5: DeprecationWarning: executable_path has been deprecated, please pass in a Service object\n",
      "  driver = webdriver.Chrome(ChromeDriverManager().install(), options = opciones)\n",
      "<ipython-input-8-29c162d937fa>:11: DeprecationWarning: find_element_by_* commands are deprecated. Please use find_element() instead\n",
      "  driver.find_element_by_css_selector(\"body > div:nth-child(7) > div > div > div:nth-child(1) > div > div._1cgcei8 > section > div._gsw2t0 > div._160gnkxa > button\").click()\n",
      "<ipython-input-8-29c162d937fa>:15: DeprecationWarning: find_element_by_* commands are deprecated. Please use find_element() instead\n",
      "  urls_bcn_1_1.append(driver.find_element_by_css_selector(f\"#site-content > div:nth-child(4) > div > div > div > div > div > div > div._1gw6tte > div > div > div > div > div > div:nth-child({i}) > div > div > div.c1tbui0o.ltlgcp.dir.dir-ltr > div > div > div > div._8s3ctt > div._1nz9l7j > div > div._e296pg > div._1mx6kqf > div > span > div > a\").get_attribute(\"href\"))\n"
     ]
    }
   ],
   "source": [
    "urls_bcn_1_1 = []\n",
    "\n",
    "# set the url\n",
    "url = \"https://www.airbnb.es/s/Barcelona/homes?tab_id=home_tab&refinement_paths%5B%5D=%2Fhomes&flexible_trip_dates%5B%5D=april&flexible_trip_dates%5B%5D=august&flexible_trip_dates%5B%5D=december&flexible_trip_dates%5B%5D=february&flexible_trip_dates%5B%5D=january&flexible_trip_dates%5B%5D=july&flexible_trip_dates%5B%5D=june&flexible_trip_dates%5B%5D=march&flexible_trip_dates%5B%5D=may&flexible_trip_dates%5B%5D=november&flexible_trip_dates%5B%5D=october&flexible_trip_dates%5B%5D=september&flexible_trip_lengths%5B%5D=weekend_trip&date_picker_type=flexible_dates&query=Barcelona&place_id=ChIJ5TCOcRaYpBIRCmZHTz37sEQ&adults=5&source=structured_search_input_header&search_type=autocomplete_click\"\n",
    "driver = webdriver.Chrome(ChromeDriverManager().install(), options = opciones)\n",
    "\n",
    "#cookies 1\n",
    "driver.implicitly_wait(2)\n",
    "driver.get(url)\n",
    "driver.implicitly_wait(2)\n",
    "driver.find_element_by_css_selector(\"body > div:nth-child(7) > div > div > div:nth-child(1) > div > div._1cgcei8 > section > div._gsw2t0 > div._160gnkxa > button\").click()\n",
    "\n",
    "for i in range (1,21):\n",
    "        driver.implicitly_wait(1)\n",
    "        urls_bcn_1_1.append(driver.find_element_by_css_selector(f\"#site-content > div:nth-child(4) > div > div > div > div > div > div > div._1gw6tte > div > div > div > div > div > div:nth-child({i}) > div > div > div.c1tbui0o.ltlgcp.dir.dir-ltr > div > div > div > div._8s3ctt > div._1nz9l7j > div > div._e296pg > div._1mx6kqf > div > span > div > a\").get_attribute(\"href\"))\n",
    "        \n",
    "driver.quit()\n"
   ]
  },
  {
   "cell_type": "code",
   "execution_count": 9,
   "id": "51b32d94",
   "metadata": {},
   "outputs": [
    {
     "data": {
      "text/plain": [
       "20"
      ]
     },
     "execution_count": 9,
     "metadata": {},
     "output_type": "execute_result"
    }
   ],
   "source": [
    "len(urls_bcn_1_1)"
   ]
  },
  {
   "cell_type": "code",
   "execution_count": 11,
   "id": "b29026c5",
   "metadata": {},
   "outputs": [
    {
     "name": "stderr",
     "output_type": "stream",
     "text": [
      "\n",
      "\n",
      "====== WebDriver manager ======\n",
      "Current google-chrome version is 96.0.4664\n",
      "Get LATEST chromedriver version for 96.0.4664 google-chrome\n",
      "Driver [/Users/franciscovispo/.wdm/drivers/chromedriver/mac64/96.0.4664.45/chromedriver] found in cache\n",
      "<ipython-input-11-068647d30558>:5: DeprecationWarning: executable_path has been deprecated, please pass in a Service object\n",
      "  driver = webdriver.Chrome(ChromeDriverManager().install(), options = opciones)\n",
      "<ipython-input-11-068647d30558>:12: DeprecationWarning: find_element_by_* commands are deprecated. Please use find_element() instead\n",
      "  driver.find_element_by_css_selector(\"body > div:nth-child(7) > div > div > div:nth-child(1) > div > div._1cgcei8 > section > div._gsw2t0 > div._160gnkxa > button\").click()\n",
      "<ipython-input-11-068647d30558>:17: DeprecationWarning: find_element_by_* commands are deprecated. Please use find_element() instead\n",
      "  urls_bcn_1_2.append(driver.find_element_by_css_selector(f\"#site-content > div:nth-child(3) > div > div > div > div > div > div > div._1gw6tte > div > div > div > div > div > div:nth-child({i}) > div > div > div.c1tbui0o.ltlgcp.dir.dir-ltr > div > div > div > div._8s3ctt > div._1nz9l7j > div > div._e296pg > div._1mx6kqf > div > span > div > a\").get_attribute(\"href\"))\n"
     ]
    }
   ],
   "source": [
    "urls_bcn_1_2 = []\n",
    "\n",
    "# set the url\n",
    "url = \"https://www.airbnb.es/s/Barcelona/homes?tab_id=home_tab&refinement_paths%5B%5D=%2Fhomes&flexible_trip_dates%5B%5D=april&flexible_trip_dates%5B%5D=august&flexible_trip_dates%5B%5D=december&flexible_trip_dates%5B%5D=february&flexible_trip_dates%5B%5D=january&flexible_trip_dates%5B%5D=july&flexible_trip_dates%5B%5D=june&flexible_trip_dates%5B%5D=march&flexible_trip_dates%5B%5D=may&flexible_trip_dates%5B%5D=november&flexible_trip_dates%5B%5D=october&flexible_trip_dates%5B%5D=september&flexible_trip_lengths%5B%5D=weekend_trip&date_picker_type=flexible_dates&query=Barcelona&place_id=ChIJ5TCOcRaYpBIRCmZHTz37sEQ&adults=5&source=structured_search_input_header&search_type=autocomplete_click&federated_search_session_id=52d4e61c-26b3-45c1-bf14-137064dfdfc8&pagination_search=true&items_offset=20&section_offset=2\"\n",
    "driver = webdriver.Chrome(ChromeDriverManager().install(), options = opciones)\n",
    "\n",
    "#cookies 1\n",
    "driver.implicitly_wait(2)\n",
    "driver.get(url)\n",
    "driver.implicitly_wait(2)\n",
    "time.sleep(2)\n",
    "driver.find_element_by_css_selector(\"body > div:nth-child(7) > div > div > div:nth-child(1) > div > div._1cgcei8 > section > div._gsw2t0 > div._160gnkxa > button\").click()\n",
    "\n",
    "for i in range (1,21):\n",
    "        driver.implicitly_wait(2)\n",
    "        time.sleep(1)\n",
    "        urls_bcn_1_2.append(driver.find_element_by_css_selector(f\"#site-content > div:nth-child(3) > div > div > div > div > div > div > div._1gw6tte > div > div > div > div > div > div:nth-child({i}) > div > div > div.c1tbui0o.ltlgcp.dir.dir-ltr > div > div > div > div._8s3ctt > div._1nz9l7j > div > div._e296pg > div._1mx6kqf > div > span > div > a\").get_attribute(\"href\"))\n",
    "\n",
    "driver.quit()\n",
    "        "
   ]
  },
  {
   "cell_type": "code",
   "execution_count": 12,
   "id": "1a274900",
   "metadata": {},
   "outputs": [
    {
     "data": {
      "text/plain": [
       "20"
      ]
     },
     "execution_count": 12,
     "metadata": {},
     "output_type": "execute_result"
    }
   ],
   "source": [
    "len(urls_bcn_1_2)"
   ]
  },
  {
   "cell_type": "code",
   "execution_count": 13,
   "id": "e7f03c37",
   "metadata": {},
   "outputs": [
    {
     "name": "stderr",
     "output_type": "stream",
     "text": [
      "\n",
      "\n",
      "====== WebDriver manager ======\n",
      "Current google-chrome version is 96.0.4664\n",
      "Get LATEST chromedriver version for 96.0.4664 google-chrome\n",
      "Driver [/Users/franciscovispo/.wdm/drivers/chromedriver/mac64/96.0.4664.45/chromedriver] found in cache\n",
      "<ipython-input-13-7a422c006234>:5: DeprecationWarning: executable_path has been deprecated, please pass in a Service object\n",
      "  driver = webdriver.Chrome(ChromeDriverManager().install(), options = opciones)\n",
      "<ipython-input-13-7a422c006234>:12: DeprecationWarning: find_element_by_* commands are deprecated. Please use find_element() instead\n",
      "  driver.find_element_by_css_selector(\"body > div:nth-child(7) > div > div > div:nth-child(1) > div > div._1cgcei8 > section > div._gsw2t0 > div._160gnkxa > button\").click()\n",
      "<ipython-input-13-7a422c006234>:17: DeprecationWarning: find_element_by_* commands are deprecated. Please use find_element() instead\n",
      "  urls_bcn_1_3.append(driver.find_element_by_css_selector(f\"#site-content > div:nth-child(3) > div > div > div > div > div > div > div._1gw6tte > div > div > div > div > div > div:nth-child({i}) > div > div > div.c1tbui0o.ltlgcp.dir.dir-ltr > div > div > div > div._8s3ctt > div._1nz9l7j > div > div._e296pg > div._1mx6kqf > div > span > div > a\").get_attribute(\"href\"))\n"
     ]
    }
   ],
   "source": [
    "urls_bcn_1_3 = []\n",
    "\n",
    "# set the url\n",
    "url = \"https://www.airbnb.es/s/Barcelona/homes?tab_id=home_tab&refinement_paths%5B%5D=%2Fhomes&flexible_trip_dates%5B%5D=april&flexible_trip_dates%5B%5D=august&flexible_trip_dates%5B%5D=december&flexible_trip_dates%5B%5D=february&flexible_trip_dates%5B%5D=january&flexible_trip_dates%5B%5D=july&flexible_trip_dates%5B%5D=june&flexible_trip_dates%5B%5D=march&flexible_trip_dates%5B%5D=may&flexible_trip_dates%5B%5D=november&flexible_trip_dates%5B%5D=october&flexible_trip_dates%5B%5D=september&flexible_trip_lengths%5B%5D=weekend_trip&date_picker_type=flexible_dates&query=Barcelona&place_id=ChIJ5TCOcRaYpBIRCmZHTz37sEQ&adults=5&source=structured_search_input_header&search_type=autocomplete_click&federated_search_session_id=52d4e61c-26b3-45c1-bf14-137064dfdfc8&pagination_search=true&items_offset=40&section_offset=2\"\n",
    "driver = webdriver.Chrome(ChromeDriverManager().install(), options = opciones)\n",
    "\n",
    "#cookies 1\n",
    "driver.implicitly_wait(2)\n",
    "driver.get(url)\n",
    "driver.implicitly_wait(2)\n",
    "time.sleep(2)\n",
    "driver.find_element_by_css_selector(\"body > div:nth-child(7) > div > div > div:nth-child(1) > div > div._1cgcei8 > section > div._gsw2t0 > div._160gnkxa > button\").click()\n",
    "\n",
    "for i in range (1,21):\n",
    "        driver.implicitly_wait(2)\n",
    "        time.sleep(1)\n",
    "        urls_bcn_1_3.append(driver.find_element_by_css_selector(f\"#site-content > div:nth-child(3) > div > div > div > div > div > div > div._1gw6tte > div > div > div > div > div > div:nth-child({i}) > div > div > div.c1tbui0o.ltlgcp.dir.dir-ltr > div > div > div > div._8s3ctt > div._1nz9l7j > div > div._e296pg > div._1mx6kqf > div > span > div > a\").get_attribute(\"href\"))\n",
    "\n",
    "driver.quit()"
   ]
  },
  {
   "cell_type": "code",
   "execution_count": 14,
   "id": "fb535940",
   "metadata": {},
   "outputs": [
    {
     "data": {
      "text/plain": [
       "20"
      ]
     },
     "execution_count": 14,
     "metadata": {},
     "output_type": "execute_result"
    }
   ],
   "source": [
    "len(urls_bcn_1_3)"
   ]
  },
  {
   "cell_type": "code",
   "execution_count": 15,
   "id": "793236aa",
   "metadata": {},
   "outputs": [
    {
     "name": "stderr",
     "output_type": "stream",
     "text": [
      "\n",
      "\n",
      "====== WebDriver manager ======\n",
      "Current google-chrome version is 96.0.4664\n",
      "Get LATEST chromedriver version for 96.0.4664 google-chrome\n",
      "Driver [/Users/franciscovispo/.wdm/drivers/chromedriver/mac64/96.0.4664.45/chromedriver] found in cache\n",
      "<ipython-input-15-139db8a31f16>:5: DeprecationWarning: executable_path has been deprecated, please pass in a Service object\n",
      "  driver = webdriver.Chrome(ChromeDriverManager().install(), options = opciones)\n",
      "<ipython-input-15-139db8a31f16>:12: DeprecationWarning: find_element_by_* commands are deprecated. Please use find_element() instead\n",
      "  driver.find_element_by_css_selector(\"body > div:nth-child(7) > div > div > div:nth-child(1) > div > div._1cgcei8 > section > div._gsw2t0 > div._160gnkxa > button\").click()\n",
      "<ipython-input-15-139db8a31f16>:17: DeprecationWarning: find_element_by_* commands are deprecated. Please use find_element() instead\n",
      "  urls_bcn_1_4.append(driver.find_element_by_css_selector(f\"#site-content > div:nth-child(3) > div > div > div > div > div > div > div._1gw6tte > div > div > div > div > div > div:nth-child({i}) > div > div > div.c1tbui0o.ltlgcp.dir.dir-ltr > div > div > div > div._8s3ctt > div._1nz9l7j > div > div._e296pg > div._1mx6kqf > div > span > div > a\").get_attribute(\"href\"))\n"
     ]
    }
   ],
   "source": [
    "urls_bcn_1_4 = []\n",
    "\n",
    "# set the url\n",
    "url = \"https://www.airbnb.es/s/Barcelona/homes?tab_id=home_tab&refinement_paths%5B%5D=%2Fhomes&flexible_trip_dates%5B%5D=april&flexible_trip_dates%5B%5D=august&flexible_trip_dates%5B%5D=december&flexible_trip_dates%5B%5D=february&flexible_trip_dates%5B%5D=january&flexible_trip_dates%5B%5D=july&flexible_trip_dates%5B%5D=june&flexible_trip_dates%5B%5D=march&flexible_trip_dates%5B%5D=may&flexible_trip_dates%5B%5D=november&flexible_trip_dates%5B%5D=october&flexible_trip_dates%5B%5D=september&flexible_trip_lengths%5B%5D=weekend_trip&date_picker_type=flexible_dates&query=Barcelona&place_id=ChIJ5TCOcRaYpBIRCmZHTz37sEQ&adults=5&source=structured_search_input_header&search_type=autocomplete_click&federated_search_session_id=52d4e61c-26b3-45c1-bf14-137064dfdfc8&pagination_search=true&items_offset=60&section_offset=2\"\n",
    "driver = webdriver.Chrome(ChromeDriverManager().install(), options = opciones)\n",
    "\n",
    "#cookies 1\n",
    "driver.implicitly_wait(2)\n",
    "driver.get(url)\n",
    "driver.implicitly_wait(2)\n",
    "time.sleep(2)\n",
    "driver.find_element_by_css_selector(\"body > div:nth-child(7) > div > div > div:nth-child(1) > div > div._1cgcei8 > section > div._gsw2t0 > div._160gnkxa > button\").click()\n",
    "\n",
    "for i in range (1,21):\n",
    "        driver.implicitly_wait(2)\n",
    "        time.sleep(1)\n",
    "        urls_bcn_1_4.append(driver.find_element_by_css_selector(f\"#site-content > div:nth-child(3) > div > div > div > div > div > div > div._1gw6tte > div > div > div > div > div > div:nth-child({i}) > div > div > div.c1tbui0o.ltlgcp.dir.dir-ltr > div > div > div > div._8s3ctt > div._1nz9l7j > div > div._e296pg > div._1mx6kqf > div > span > div > a\").get_attribute(\"href\"))\n",
    "\n",
    "driver.quit()"
   ]
  },
  {
   "cell_type": "code",
   "execution_count": 16,
   "id": "1a0f28f0",
   "metadata": {},
   "outputs": [
    {
     "data": {
      "text/plain": [
       "20"
      ]
     },
     "execution_count": 16,
     "metadata": {},
     "output_type": "execute_result"
    }
   ],
   "source": [
    "len(urls_bcn_1_4)"
   ]
  },
  {
   "cell_type": "code",
   "execution_count": 17,
   "id": "61679a88",
   "metadata": {},
   "outputs": [
    {
     "name": "stderr",
     "output_type": "stream",
     "text": [
      "\n",
      "\n",
      "====== WebDriver manager ======\n",
      "Current google-chrome version is 96.0.4664\n",
      "Get LATEST chromedriver version for 96.0.4664 google-chrome\n",
      "Driver [/Users/franciscovispo/.wdm/drivers/chromedriver/mac64/96.0.4664.45/chromedriver] found in cache\n",
      "<ipython-input-17-eac671b7122e>:5: DeprecationWarning: executable_path has been deprecated, please pass in a Service object\n",
      "  driver = webdriver.Chrome(ChromeDriverManager().install(), options = opciones)\n",
      "<ipython-input-17-eac671b7122e>:12: DeprecationWarning: find_element_by_* commands are deprecated. Please use find_element() instead\n",
      "  driver.find_element_by_css_selector(\"body > div:nth-child(7) > div > div > div:nth-child(1) > div > div._1cgcei8 > section > div._gsw2t0 > div._160gnkxa > button\").click()\n",
      "<ipython-input-17-eac671b7122e>:17: DeprecationWarning: find_element_by_* commands are deprecated. Please use find_element() instead\n",
      "  urls_bcn_1_5.append(driver.find_element_by_css_selector(f\"#site-content > div:nth-child(3) > div > div > div > div > div > div > div._1gw6tte > div > div > div > div > div > div:nth-child({i}) > div > div > div.c1tbui0o.ltlgcp.dir.dir-ltr > div > div > div > div._8s3ctt > div._1nz9l7j > div > div._e296pg > div._1mx6kqf > div > span > div > a\").get_attribute(\"href\"))\n"
     ]
    }
   ],
   "source": [
    "urls_bcn_1_5 = []\n",
    "\n",
    "# set the url\n",
    "url = \"https://www.airbnb.es/s/Barcelona/homes?tab_id=home_tab&refinement_paths%5B%5D=%2Fhomes&flexible_trip_dates%5B%5D=april&flexible_trip_dates%5B%5D=august&flexible_trip_dates%5B%5D=december&flexible_trip_dates%5B%5D=february&flexible_trip_dates%5B%5D=january&flexible_trip_dates%5B%5D=july&flexible_trip_dates%5B%5D=june&flexible_trip_dates%5B%5D=march&flexible_trip_dates%5B%5D=may&flexible_trip_dates%5B%5D=november&flexible_trip_dates%5B%5D=october&flexible_trip_dates%5B%5D=september&flexible_trip_lengths%5B%5D=weekend_trip&date_picker_type=flexible_dates&query=Barcelona&place_id=ChIJ5TCOcRaYpBIRCmZHTz37sEQ&adults=5&source=structured_search_input_header&search_type=autocomplete_click&federated_search_session_id=52d4e61c-26b3-45c1-bf14-137064dfdfc8&pagination_search=true&items_offset=80&section_offset=2\"\n",
    "driver = webdriver.Chrome(ChromeDriverManager().install(), options = opciones)\n",
    "\n",
    "#cookies 1\n",
    "driver.implicitly_wait(2)\n",
    "driver.get(url)\n",
    "driver.implicitly_wait(2)\n",
    "time.sleep(2)\n",
    "driver.find_element_by_css_selector(\"body > div:nth-child(7) > div > div > div:nth-child(1) > div > div._1cgcei8 > section > div._gsw2t0 > div._160gnkxa > button\").click()\n",
    "\n",
    "for i in range (1,21):\n",
    "        driver.implicitly_wait(2)\n",
    "        time.sleep(1)\n",
    "        urls_bcn_1_5.append(driver.find_element_by_css_selector(f\"#site-content > div:nth-child(3) > div > div > div > div > div > div > div._1gw6tte > div > div > div > div > div > div:nth-child({i}) > div > div > div.c1tbui0o.ltlgcp.dir.dir-ltr > div > div > div > div._8s3ctt > div._1nz9l7j > div > div._e296pg > div._1mx6kqf > div > span > div > a\").get_attribute(\"href\"))\n",
    "\n",
    "driver.quit()"
   ]
  },
  {
   "cell_type": "code",
   "execution_count": 18,
   "id": "59b94446",
   "metadata": {},
   "outputs": [
    {
     "data": {
      "text/plain": [
       "20"
      ]
     },
     "execution_count": 18,
     "metadata": {},
     "output_type": "execute_result"
    }
   ],
   "source": [
    "len(urls_bcn_1_5)"
   ]
  },
  {
   "cell_type": "code",
   "execution_count": 19,
   "id": "21c7bc85",
   "metadata": {},
   "outputs": [
    {
     "name": "stderr",
     "output_type": "stream",
     "text": [
      "\n",
      "\n",
      "====== WebDriver manager ======\n",
      "Current google-chrome version is 96.0.4664\n",
      "Get LATEST chromedriver version for 96.0.4664 google-chrome\n",
      "Driver [/Users/franciscovispo/.wdm/drivers/chromedriver/mac64/96.0.4664.45/chromedriver] found in cache\n",
      "<ipython-input-19-ccb1b24c7a5b>:5: DeprecationWarning: executable_path has been deprecated, please pass in a Service object\n",
      "  driver = webdriver.Chrome(ChromeDriverManager().install(), options = opciones)\n",
      "<ipython-input-19-ccb1b24c7a5b>:12: DeprecationWarning: find_element_by_* commands are deprecated. Please use find_element() instead\n",
      "  driver.find_element_by_css_selector(\"body > div:nth-child(7) > div > div > div:nth-child(1) > div > div._1cgcei8 > section > div._gsw2t0 > div._160gnkxa > button\").click()\n",
      "<ipython-input-19-ccb1b24c7a5b>:17: DeprecationWarning: find_element_by_* commands are deprecated. Please use find_element() instead\n",
      "  urls_bcn_1_6.append(driver.find_element_by_css_selector(f\"#site-content > div:nth-child(3) > div > div > div > div > div > div > div._1gw6tte > div > div > div > div > div > div:nth-child({i}) > div > div > div.c1tbui0o.ltlgcp.dir.dir-ltr > div > div > div > div._8s3ctt > div._1nz9l7j > div > div._e296pg > div._1mx6kqf > div > span > div > a\").get_attribute(\"href\"))\n"
     ]
    }
   ],
   "source": [
    "urls_bcn_1_6 = []\n",
    "\n",
    "# set the url\n",
    "url = \"https://www.airbnb.es/s/Barcelona/homes?tab_id=home_tab&refinement_paths%5B%5D=%2Fhomes&flexible_trip_dates%5B%5D=april&flexible_trip_dates%5B%5D=august&flexible_trip_dates%5B%5D=december&flexible_trip_dates%5B%5D=february&flexible_trip_dates%5B%5D=january&flexible_trip_dates%5B%5D=july&flexible_trip_dates%5B%5D=june&flexible_trip_dates%5B%5D=march&flexible_trip_dates%5B%5D=may&flexible_trip_dates%5B%5D=november&flexible_trip_dates%5B%5D=october&flexible_trip_dates%5B%5D=september&flexible_trip_lengths%5B%5D=weekend_trip&date_picker_type=flexible_dates&query=Barcelona&place_id=ChIJ5TCOcRaYpBIRCmZHTz37sEQ&adults=5&source=structured_search_input_header&search_type=autocomplete_click&federated_search_session_id=52d4e61c-26b3-45c1-bf14-137064dfdfc8&pagination_search=true&items_offset=100&section_offset=2\"\n",
    "driver = webdriver.Chrome(ChromeDriverManager().install(), options = opciones)\n",
    "\n",
    "#cookies 1\n",
    "driver.implicitly_wait(2)\n",
    "driver.get(url)\n",
    "driver.implicitly_wait(2)\n",
    "time.sleep(2)\n",
    "driver.find_element_by_css_selector(\"body > div:nth-child(7) > div > div > div:nth-child(1) > div > div._1cgcei8 > section > div._gsw2t0 > div._160gnkxa > button\").click()\n",
    "\n",
    "for i in range (1,21):\n",
    "        driver.implicitly_wait(2)\n",
    "        time.sleep(1)\n",
    "        urls_bcn_1_6.append(driver.find_element_by_css_selector(f\"#site-content > div:nth-child(3) > div > div > div > div > div > div > div._1gw6tte > div > div > div > div > div > div:nth-child({i}) > div > div > div.c1tbui0o.ltlgcp.dir.dir-ltr > div > div > div > div._8s3ctt > div._1nz9l7j > div > div._e296pg > div._1mx6kqf > div > span > div > a\").get_attribute(\"href\"))\n",
    "\n",
    "driver.quit()"
   ]
  },
  {
   "cell_type": "code",
   "execution_count": 20,
   "id": "1cce9fd7",
   "metadata": {},
   "outputs": [
    {
     "data": {
      "text/plain": [
       "20"
      ]
     },
     "execution_count": 20,
     "metadata": {},
     "output_type": "execute_result"
    }
   ],
   "source": [
    "len(urls_bcn_1_6)"
   ]
  },
  {
   "cell_type": "code",
   "execution_count": 21,
   "id": "ad8b6e69",
   "metadata": {},
   "outputs": [
    {
     "name": "stderr",
     "output_type": "stream",
     "text": [
      "\n",
      "\n",
      "====== WebDriver manager ======\n",
      "Current google-chrome version is 96.0.4664\n",
      "Get LATEST chromedriver version for 96.0.4664 google-chrome\n",
      "Driver [/Users/franciscovispo/.wdm/drivers/chromedriver/mac64/96.0.4664.45/chromedriver] found in cache\n",
      "<ipython-input-21-cd2b959382a1>:5: DeprecationWarning: executable_path has been deprecated, please pass in a Service object\n",
      "  driver = webdriver.Chrome(ChromeDriverManager().install(), options = opciones)\n",
      "<ipython-input-21-cd2b959382a1>:12: DeprecationWarning: find_element_by_* commands are deprecated. Please use find_element() instead\n",
      "  driver.find_element_by_css_selector(\"body > div:nth-child(7) > div > div > div:nth-child(1) > div > div._1cgcei8 > section > div._gsw2t0 > div._160gnkxa > button\").click()\n",
      "<ipython-input-21-cd2b959382a1>:17: DeprecationWarning: find_element_by_* commands are deprecated. Please use find_element() instead\n",
      "  urls_bcn_1_7.append(driver.find_element_by_css_selector(f\"#site-content > div:nth-child(3) > div > div > div > div > div > div > div._1gw6tte > div > div > div > div > div > div:nth-child({i}) > div > div > div.c1tbui0o.ltlgcp.dir.dir-ltr > div > div > div > div._8s3ctt > div._1nz9l7j > div > div._e296pg > div._1mx6kqf > div > span > div > a\").get_attribute(\"href\"))\n"
     ]
    }
   ],
   "source": [
    "urls_bcn_1_7 = []\n",
    "\n",
    "# set the url\n",
    "url = \"https://www.airbnb.es/s/Barcelona/homes?tab_id=home_tab&refinement_paths%5B%5D=%2Fhomes&flexible_trip_dates%5B%5D=april&flexible_trip_dates%5B%5D=august&flexible_trip_dates%5B%5D=december&flexible_trip_dates%5B%5D=february&flexible_trip_dates%5B%5D=january&flexible_trip_dates%5B%5D=july&flexible_trip_dates%5B%5D=june&flexible_trip_dates%5B%5D=march&flexible_trip_dates%5B%5D=may&flexible_trip_dates%5B%5D=november&flexible_trip_dates%5B%5D=october&flexible_trip_dates%5B%5D=september&flexible_trip_lengths%5B%5D=weekend_trip&date_picker_type=flexible_dates&query=Barcelona&place_id=ChIJ5TCOcRaYpBIRCmZHTz37sEQ&adults=5&source=structured_search_input_header&search_type=autocomplete_click&federated_search_session_id=52d4e61c-26b3-45c1-bf14-137064dfdfc8&pagination_search=true&items_offset=120&section_offset=2\"\n",
    "driver = webdriver.Chrome(ChromeDriverManager().install(), options = opciones)\n",
    "\n",
    "#cookies 1\n",
    "driver.implicitly_wait(2)\n",
    "driver.get(url)\n",
    "driver.implicitly_wait(2)\n",
    "time.sleep(2)\n",
    "driver.find_element_by_css_selector(\"body > div:nth-child(7) > div > div > div:nth-child(1) > div > div._1cgcei8 > section > div._gsw2t0 > div._160gnkxa > button\").click()\n",
    "\n",
    "for i in range (1,21):\n",
    "        driver.implicitly_wait(2)\n",
    "        time.sleep(1)\n",
    "        urls_bcn_1_7.append(driver.find_element_by_css_selector(f\"#site-content > div:nth-child(3) > div > div > div > div > div > div > div._1gw6tte > div > div > div > div > div > div:nth-child({i}) > div > div > div.c1tbui0o.ltlgcp.dir.dir-ltr > div > div > div > div._8s3ctt > div._1nz9l7j > div > div._e296pg > div._1mx6kqf > div > span > div > a\").get_attribute(\"href\"))\n",
    "\n",
    "driver.quit()"
   ]
  },
  {
   "cell_type": "code",
   "execution_count": 22,
   "id": "5f8196ee",
   "metadata": {},
   "outputs": [
    {
     "data": {
      "text/plain": [
       "20"
      ]
     },
     "execution_count": 22,
     "metadata": {},
     "output_type": "execute_result"
    }
   ],
   "source": [
    "len(urls_bcn_1_7)"
   ]
  },
  {
   "cell_type": "code",
   "execution_count": 25,
   "id": "f5f18da3",
   "metadata": {},
   "outputs": [
    {
     "name": "stderr",
     "output_type": "stream",
     "text": [
      "\n",
      "\n",
      "====== WebDriver manager ======\n",
      "Current google-chrome version is 96.0.4664\n",
      "Get LATEST chromedriver version for 96.0.4664 google-chrome\n",
      "Driver [/Users/franciscovispo/.wdm/drivers/chromedriver/mac64/96.0.4664.45/chromedriver] found in cache\n",
      "<ipython-input-25-3b9865fd37b3>:5: DeprecationWarning: executable_path has been deprecated, please pass in a Service object\n",
      "  driver = webdriver.Chrome(ChromeDriverManager().install(), options = opciones)\n",
      "<ipython-input-25-3b9865fd37b3>:12: DeprecationWarning: find_element_by_* commands are deprecated. Please use find_element() instead\n",
      "  driver.find_element_by_css_selector(\"body > div:nth-child(7) > div > div > div:nth-child(1) > div > div._1cgcei8 > section > div._gsw2t0 > div._160gnkxa > button\").click()\n",
      "<ipython-input-25-3b9865fd37b3>:17: DeprecationWarning: find_element_by_* commands are deprecated. Please use find_element() instead\n",
      "  urls_bcn_1_8.append(driver.find_element_by_css_selector(f\"#site-content > div:nth-child(3) > div > div > div > div > div > div > div._1gw6tte > div > div > div > div > div > div:nth-child({i}) > div > div > div.c1tbui0o.ltlgcp.dir.dir-ltr > div > div > div > div._8s3ctt > div._1nz9l7j > div > div._e296pg > div._1mx6kqf > div > span > div > a\").get_attribute(\"href\"))\n"
     ]
    }
   ],
   "source": [
    "urls_bcn_1_8 = []\n",
    "\n",
    "# set the url\n",
    "url = \"https://www.airbnb.es/s/Barcelona/homes?tab_id=home_tab&refinement_paths%5B%5D=%2Fhomes&flexible_trip_dates%5B%5D=april&flexible_trip_dates%5B%5D=august&flexible_trip_dates%5B%5D=december&flexible_trip_dates%5B%5D=february&flexible_trip_dates%5B%5D=january&flexible_trip_dates%5B%5D=july&flexible_trip_dates%5B%5D=june&flexible_trip_dates%5B%5D=march&flexible_trip_dates%5B%5D=may&flexible_trip_dates%5B%5D=november&flexible_trip_dates%5B%5D=october&flexible_trip_dates%5B%5D=september&flexible_trip_lengths%5B%5D=weekend_trip&date_picker_type=flexible_dates&query=Barcelona&place_id=ChIJ5TCOcRaYpBIRCmZHTz37sEQ&adults=5&source=structured_search_input_header&search_type=autocomplete_click&federated_search_session_id=52d4e61c-26b3-45c1-bf14-137064dfdfc8&pagination_search=true&items_offset=140&section_offset=2\"\n",
    "driver = webdriver.Chrome(ChromeDriverManager().install(), options = opciones)\n",
    "\n",
    "#cookies 1\n",
    "driver.implicitly_wait(2)\n",
    "driver.get(url)\n",
    "driver.implicitly_wait(2)\n",
    "time.sleep(2)\n",
    "driver.find_element_by_css_selector(\"body > div:nth-child(7) > div > div > div:nth-child(1) > div > div._1cgcei8 > section > div._gsw2t0 > div._160gnkxa > button\").click()\n",
    "\n",
    "for i in range (1,21):\n",
    "        driver.implicitly_wait(2)\n",
    "        time.sleep(1)\n",
    "        urls_bcn_1_8.append(driver.find_element_by_css_selector(f\"#site-content > div:nth-child(3) > div > div > div > div > div > div > div._1gw6tte > div > div > div > div > div > div:nth-child({i}) > div > div > div.c1tbui0o.ltlgcp.dir.dir-ltr > div > div > div > div._8s3ctt > div._1nz9l7j > div > div._e296pg > div._1mx6kqf > div > span > div > a\").get_attribute(\"href\"))\n",
    "\n",
    "driver.quit()"
   ]
  },
  {
   "cell_type": "code",
   "execution_count": 26,
   "id": "558efede",
   "metadata": {},
   "outputs": [
    {
     "data": {
      "text/plain": [
       "20"
      ]
     },
     "execution_count": 26,
     "metadata": {},
     "output_type": "execute_result"
    }
   ],
   "source": [
    "len(urls_bcn_1_8)"
   ]
  },
  {
   "cell_type": "code",
   "execution_count": 27,
   "id": "08dda8d4",
   "metadata": {},
   "outputs": [
    {
     "name": "stderr",
     "output_type": "stream",
     "text": [
      "\n",
      "\n",
      "====== WebDriver manager ======\n",
      "Current google-chrome version is 96.0.4664\n",
      "Get LATEST chromedriver version for 96.0.4664 google-chrome\n",
      "Driver [/Users/franciscovispo/.wdm/drivers/chromedriver/mac64/96.0.4664.45/chromedriver] found in cache\n",
      "<ipython-input-27-a66fa2e7d635>:5: DeprecationWarning: executable_path has been deprecated, please pass in a Service object\n",
      "  driver = webdriver.Chrome(ChromeDriverManager().install(), options = opciones)\n",
      "<ipython-input-27-a66fa2e7d635>:12: DeprecationWarning: find_element_by_* commands are deprecated. Please use find_element() instead\n",
      "  driver.find_element_by_css_selector(\"body > div:nth-child(7) > div > div > div:nth-child(1) > div > div._1cgcei8 > section > div._gsw2t0 > div._160gnkxa > button\").click()\n",
      "<ipython-input-27-a66fa2e7d635>:17: DeprecationWarning: find_element_by_* commands are deprecated. Please use find_element() instead\n",
      "  urls_bcn_1_9.append(driver.find_element_by_css_selector(f\"#site-content > div:nth-child(3) > div > div > div > div > div > div > div._1gw6tte > div > div > div > div > div > div:nth-child({i}) > div > div > div.c1tbui0o.ltlgcp.dir.dir-ltr > div > div > div > div._8s3ctt > div._1nz9l7j > div > div._e296pg > div._1mx6kqf > div > span > div > a\").get_attribute(\"href\"))\n"
     ]
    }
   ],
   "source": [
    "urls_bcn_1_9 = []\n",
    "\n",
    "# set the url\n",
    "url = \"https://www.airbnb.es/s/Barcelona/homes?tab_id=home_tab&refinement_paths%5B%5D=%2Fhomes&flexible_trip_dates%5B%5D=april&flexible_trip_dates%5B%5D=august&flexible_trip_dates%5B%5D=december&flexible_trip_dates%5B%5D=february&flexible_trip_dates%5B%5D=january&flexible_trip_dates%5B%5D=july&flexible_trip_dates%5B%5D=june&flexible_trip_dates%5B%5D=march&flexible_trip_dates%5B%5D=may&flexible_trip_dates%5B%5D=november&flexible_trip_dates%5B%5D=october&flexible_trip_dates%5B%5D=september&flexible_trip_lengths%5B%5D=weekend_trip&date_picker_type=flexible_dates&query=Barcelona&place_id=ChIJ5TCOcRaYpBIRCmZHTz37sEQ&adults=5&source=structured_search_input_header&search_type=autocomplete_click&federated_search_session_id=52d4e61c-26b3-45c1-bf14-137064dfdfc8&pagination_search=true&items_offset=160&section_offset=2\"\n",
    "driver = webdriver.Chrome(ChromeDriverManager().install(), options = opciones)\n",
    "\n",
    "#cookies 1\n",
    "driver.implicitly_wait(2)\n",
    "driver.get(url)\n",
    "driver.implicitly_wait(2)\n",
    "time.sleep(2)\n",
    "driver.find_element_by_css_selector(\"body > div:nth-child(7) > div > div > div:nth-child(1) > div > div._1cgcei8 > section > div._gsw2t0 > div._160gnkxa > button\").click()\n",
    "\n",
    "for i in range (1,21):\n",
    "        driver.implicitly_wait(2)\n",
    "        time.sleep(1)\n",
    "        urls_bcn_1_9.append(driver.find_element_by_css_selector(f\"#site-content > div:nth-child(3) > div > div > div > div > div > div > div._1gw6tte > div > div > div > div > div > div:nth-child({i}) > div > div > div.c1tbui0o.ltlgcp.dir.dir-ltr > div > div > div > div._8s3ctt > div._1nz9l7j > div > div._e296pg > div._1mx6kqf > div > span > div > a\").get_attribute(\"href\"))\n",
    "\n",
    "driver.quit()"
   ]
  },
  {
   "cell_type": "code",
   "execution_count": 28,
   "id": "d3661785",
   "metadata": {},
   "outputs": [
    {
     "data": {
      "text/plain": [
       "20"
      ]
     },
     "execution_count": 28,
     "metadata": {},
     "output_type": "execute_result"
    }
   ],
   "source": [
    "len(urls_bcn_1_9)"
   ]
  },
  {
   "cell_type": "code",
   "execution_count": 29,
   "id": "ffa3657f",
   "metadata": {},
   "outputs": [
    {
     "name": "stderr",
     "output_type": "stream",
     "text": [
      "\n",
      "\n",
      "====== WebDriver manager ======\n",
      "Current google-chrome version is 96.0.4664\n",
      "Get LATEST chromedriver version for 96.0.4664 google-chrome\n",
      "Driver [/Users/franciscovispo/.wdm/drivers/chromedriver/mac64/96.0.4664.45/chromedriver] found in cache\n",
      "<ipython-input-29-2bce91bd427c>:5: DeprecationWarning: executable_path has been deprecated, please pass in a Service object\n",
      "  driver = webdriver.Chrome(ChromeDriverManager().install(), options = opciones)\n",
      "<ipython-input-29-2bce91bd427c>:12: DeprecationWarning: find_element_by_* commands are deprecated. Please use find_element() instead\n",
      "  driver.find_element_by_css_selector(\"body > div:nth-child(7) > div > div > div:nth-child(1) > div > div._1cgcei8 > section > div._gsw2t0 > div._160gnkxa > button\").click()\n",
      "<ipython-input-29-2bce91bd427c>:17: DeprecationWarning: find_element_by_* commands are deprecated. Please use find_element() instead\n",
      "  urls_bcn_1_10.append(driver.find_element_by_css_selector(f\"#site-content > div:nth-child(3) > div > div > div > div > div > div > div._1gw6tte > div > div > div > div > div > div:nth-child({i}) > div > div > div.c1tbui0o.ltlgcp.dir.dir-ltr > div > div > div > div._8s3ctt > div._1nz9l7j > div > div._e296pg > div._1mx6kqf > div > span > div > a\").get_attribute(\"href\"))\n"
     ]
    }
   ],
   "source": [
    "urls_bcn_1_10 = []\n",
    "\n",
    "# set the url\n",
    "url = \"https://www.airbnb.es/s/Barcelona/homes?tab_id=home_tab&refinement_paths%5B%5D=%2Fhomes&flexible_trip_dates%5B%5D=april&flexible_trip_dates%5B%5D=august&flexible_trip_dates%5B%5D=december&flexible_trip_dates%5B%5D=february&flexible_trip_dates%5B%5D=january&flexible_trip_dates%5B%5D=july&flexible_trip_dates%5B%5D=june&flexible_trip_dates%5B%5D=march&flexible_trip_dates%5B%5D=may&flexible_trip_dates%5B%5D=november&flexible_trip_dates%5B%5D=october&flexible_trip_dates%5B%5D=september&flexible_trip_lengths%5B%5D=weekend_trip&date_picker_type=flexible_dates&query=Barcelona&place_id=ChIJ5TCOcRaYpBIRCmZHTz37sEQ&adults=5&source=structured_search_input_header&search_type=autocomplete_click&federated_search_session_id=52d4e61c-26b3-45c1-bf14-137064dfdfc8&pagination_search=true&items_offset=180&section_offset=2\"\n",
    "driver = webdriver.Chrome(ChromeDriverManager().install(), options = opciones)\n",
    "\n",
    "#cookies 1\n",
    "driver.implicitly_wait(2)\n",
    "driver.get(url)\n",
    "driver.implicitly_wait(2)\n",
    "time.sleep(2)\n",
    "driver.find_element_by_css_selector(\"body > div:nth-child(7) > div > div > div:nth-child(1) > div > div._1cgcei8 > section > div._gsw2t0 > div._160gnkxa > button\").click()\n",
    "\n",
    "for i in range (1,21):\n",
    "        driver.implicitly_wait(2)\n",
    "        time.sleep(1)\n",
    "        urls_bcn_1_10.append(driver.find_element_by_css_selector(f\"#site-content > div:nth-child(3) > div > div > div > div > div > div > div._1gw6tte > div > div > div > div > div > div:nth-child({i}) > div > div > div.c1tbui0o.ltlgcp.dir.dir-ltr > div > div > div > div._8s3ctt > div._1nz9l7j > div > div._e296pg > div._1mx6kqf > div > span > div > a\").get_attribute(\"href\"))\n",
    "\n",
    "driver.quit()"
   ]
  },
  {
   "cell_type": "code",
   "execution_count": 30,
   "id": "21776c66",
   "metadata": {},
   "outputs": [
    {
     "data": {
      "text/plain": [
       "20"
      ]
     },
     "execution_count": 30,
     "metadata": {},
     "output_type": "execute_result"
    }
   ],
   "source": [
    "len(urls_bcn_1_10)"
   ]
  },
  {
   "cell_type": "code",
   "execution_count": 31,
   "id": "b2ed7a7c",
   "metadata": {},
   "outputs": [
    {
     "name": "stderr",
     "output_type": "stream",
     "text": [
      "\n",
      "\n",
      "====== WebDriver manager ======\n",
      "Current google-chrome version is 96.0.4664\n",
      "Get LATEST chromedriver version for 96.0.4664 google-chrome\n",
      "Driver [/Users/franciscovispo/.wdm/drivers/chromedriver/mac64/96.0.4664.45/chromedriver] found in cache\n",
      "<ipython-input-31-9d83b2c5004b>:5: DeprecationWarning: executable_path has been deprecated, please pass in a Service object\n",
      "  driver = webdriver.Chrome(ChromeDriverManager().install(), options = opciones)\n",
      "<ipython-input-31-9d83b2c5004b>:12: DeprecationWarning: find_element_by_* commands are deprecated. Please use find_element() instead\n",
      "  driver.find_element_by_css_selector(\"body > div:nth-child(7) > div > div > div:nth-child(1) > div > div._1cgcei8 > section > div._gsw2t0 > div._160gnkxa > button\").click()\n",
      "<ipython-input-31-9d83b2c5004b>:17: DeprecationWarning: find_element_by_* commands are deprecated. Please use find_element() instead\n",
      "  urls_bcn_1_11.append(driver.find_element_by_css_selector(f\"#site-content > div:nth-child(3) > div > div > div > div > div > div > div._1gw6tte > div > div > div > div > div > div:nth-child({i}) > div > div > div.c1tbui0o.ltlgcp.dir.dir-ltr > div > div > div > div._8s3ctt > div._1nz9l7j > div > div._e296pg > div._1mx6kqf > div > span > div > a\").get_attribute(\"href\"))\n"
     ]
    }
   ],
   "source": [
    "urls_bcn_1_11 = []\n",
    "\n",
    "# set the url\n",
    "url = \"https://www.airbnb.es/s/Barcelona/homes?tab_id=home_tab&refinement_paths%5B%5D=%2Fhomes&flexible_trip_dates%5B%5D=april&flexible_trip_dates%5B%5D=august&flexible_trip_dates%5B%5D=december&flexible_trip_dates%5B%5D=february&flexible_trip_dates%5B%5D=january&flexible_trip_dates%5B%5D=july&flexible_trip_dates%5B%5D=june&flexible_trip_dates%5B%5D=march&flexible_trip_dates%5B%5D=may&flexible_trip_dates%5B%5D=november&flexible_trip_dates%5B%5D=october&flexible_trip_dates%5B%5D=september&flexible_trip_lengths%5B%5D=weekend_trip&date_picker_type=flexible_dates&query=Barcelona&place_id=ChIJ5TCOcRaYpBIRCmZHTz37sEQ&adults=5&source=structured_search_input_header&search_type=autocomplete_click&federated_search_session_id=52d4e61c-26b3-45c1-bf14-137064dfdfc8&pagination_search=true&items_offset=200&section_offset=2\"\n",
    "driver = webdriver.Chrome(ChromeDriverManager().install(), options = opciones)\n",
    "\n",
    "#cookies 1\n",
    "driver.implicitly_wait(2)\n",
    "driver.get(url)\n",
    "driver.implicitly_wait(2)\n",
    "time.sleep(2)\n",
    "driver.find_element_by_css_selector(\"body > div:nth-child(7) > div > div > div:nth-child(1) > div > div._1cgcei8 > section > div._gsw2t0 > div._160gnkxa > button\").click()\n",
    "\n",
    "for i in range (1,21):\n",
    "        driver.implicitly_wait(2)\n",
    "        time.sleep(1)\n",
    "        urls_bcn_1_11.append(driver.find_element_by_css_selector(f\"#site-content > div:nth-child(3) > div > div > div > div > div > div > div._1gw6tte > div > div > div > div > div > div:nth-child({i}) > div > div > div.c1tbui0o.ltlgcp.dir.dir-ltr > div > div > div > div._8s3ctt > div._1nz9l7j > div > div._e296pg > div._1mx6kqf > div > span > div > a\").get_attribute(\"href\"))\n",
    "\n",
    "driver.quit()"
   ]
  },
  {
   "cell_type": "code",
   "execution_count": 32,
   "id": "6f03c5d9",
   "metadata": {},
   "outputs": [
    {
     "data": {
      "text/plain": [
       "20"
      ]
     },
     "execution_count": 32,
     "metadata": {},
     "output_type": "execute_result"
    }
   ],
   "source": [
    "len(urls_bcn_1_11)"
   ]
  },
  {
   "cell_type": "code",
   "execution_count": 33,
   "id": "90214439",
   "metadata": {},
   "outputs": [
    {
     "name": "stderr",
     "output_type": "stream",
     "text": [
      "\n",
      "\n",
      "====== WebDriver manager ======\n",
      "Current google-chrome version is 96.0.4664\n",
      "Get LATEST chromedriver version for 96.0.4664 google-chrome\n",
      "Driver [/Users/franciscovispo/.wdm/drivers/chromedriver/mac64/96.0.4664.45/chromedriver] found in cache\n",
      "<ipython-input-33-258369cddad6>:5: DeprecationWarning: executable_path has been deprecated, please pass in a Service object\n",
      "  driver = webdriver.Chrome(ChromeDriverManager().install(), options = opciones)\n",
      "<ipython-input-33-258369cddad6>:12: DeprecationWarning: find_element_by_* commands are deprecated. Please use find_element() instead\n",
      "  driver.find_element_by_css_selector(\"body > div:nth-child(7) > div > div > div:nth-child(1) > div > div._1cgcei8 > section > div._gsw2t0 > div._160gnkxa > button\").click()\n",
      "<ipython-input-33-258369cddad6>:17: DeprecationWarning: find_element_by_* commands are deprecated. Please use find_element() instead\n",
      "  urls_bcn_1_12.append(driver.find_element_by_css_selector(f\"#site-content > div:nth-child(3) > div > div > div > div > div > div > div._1gw6tte > div > div > div > div > div > div:nth-child({i}) > div > div > div.c1tbui0o.ltlgcp.dir.dir-ltr > div > div > div > div._8s3ctt > div._1nz9l7j > div > div._e296pg > div._1mx6kqf > div > span > div > a\").get_attribute(\"href\"))\n"
     ]
    }
   ],
   "source": [
    "urls_bcn_1_12 = []\n",
    "\n",
    "# set the url\n",
    "url = \"https://www.airbnb.es/s/Barcelona/homes?tab_id=home_tab&refinement_paths%5B%5D=%2Fhomes&flexible_trip_dates%5B%5D=april&flexible_trip_dates%5B%5D=august&flexible_trip_dates%5B%5D=december&flexible_trip_dates%5B%5D=february&flexible_trip_dates%5B%5D=january&flexible_trip_dates%5B%5D=july&flexible_trip_dates%5B%5D=june&flexible_trip_dates%5B%5D=march&flexible_trip_dates%5B%5D=may&flexible_trip_dates%5B%5D=november&flexible_trip_dates%5B%5D=october&flexible_trip_dates%5B%5D=september&flexible_trip_lengths%5B%5D=weekend_trip&date_picker_type=flexible_dates&query=Barcelona&place_id=ChIJ5TCOcRaYpBIRCmZHTz37sEQ&adults=5&source=structured_search_input_header&search_type=autocomplete_click&federated_search_session_id=52d4e61c-26b3-45c1-bf14-137064dfdfc8&pagination_search=true&items_offset=220&section_offset=2\"\n",
    "driver = webdriver.Chrome(ChromeDriverManager().install(), options = opciones)\n",
    "\n",
    "#cookies 1\n",
    "driver.implicitly_wait(2)\n",
    "driver.get(url)\n",
    "driver.implicitly_wait(2)\n",
    "time.sleep(2)\n",
    "driver.find_element_by_css_selector(\"body > div:nth-child(7) > div > div > div:nth-child(1) > div > div._1cgcei8 > section > div._gsw2t0 > div._160gnkxa > button\").click()\n",
    "\n",
    "for i in range (1,21):\n",
    "        driver.implicitly_wait(2)\n",
    "        time.sleep(1)\n",
    "        urls_bcn_1_12.append(driver.find_element_by_css_selector(f\"#site-content > div:nth-child(3) > div > div > div > div > div > div > div._1gw6tte > div > div > div > div > div > div:nth-child({i}) > div > div > div.c1tbui0o.ltlgcp.dir.dir-ltr > div > div > div > div._8s3ctt > div._1nz9l7j > div > div._e296pg > div._1mx6kqf > div > span > div > a\").get_attribute(\"href\"))\n",
    "\n",
    "driver.quit()"
   ]
  },
  {
   "cell_type": "code",
   "execution_count": 34,
   "id": "91ae2045",
   "metadata": {},
   "outputs": [
    {
     "data": {
      "text/plain": [
       "20"
      ]
     },
     "execution_count": 34,
     "metadata": {},
     "output_type": "execute_result"
    }
   ],
   "source": [
    "len(urls_bcn_1_12)"
   ]
  },
  {
   "cell_type": "code",
   "execution_count": 35,
   "id": "0f209dbf",
   "metadata": {},
   "outputs": [
    {
     "name": "stderr",
     "output_type": "stream",
     "text": [
      "\n",
      "\n",
      "====== WebDriver manager ======\n",
      "Current google-chrome version is 96.0.4664\n",
      "Get LATEST chromedriver version for 96.0.4664 google-chrome\n",
      "Driver [/Users/franciscovispo/.wdm/drivers/chromedriver/mac64/96.0.4664.45/chromedriver] found in cache\n",
      "<ipython-input-35-39431a4871ef>:5: DeprecationWarning: executable_path has been deprecated, please pass in a Service object\n",
      "  driver = webdriver.Chrome(ChromeDriverManager().install(), options = opciones)\n",
      "<ipython-input-35-39431a4871ef>:12: DeprecationWarning: find_element_by_* commands are deprecated. Please use find_element() instead\n",
      "  driver.find_element_by_css_selector(\"body > div:nth-child(7) > div > div > div:nth-child(1) > div > div._1cgcei8 > section > div._gsw2t0 > div._160gnkxa > button\").click()\n",
      "<ipython-input-35-39431a4871ef>:17: DeprecationWarning: find_element_by_* commands are deprecated. Please use find_element() instead\n",
      "  urls_bcn_1_13.append(driver.find_element_by_css_selector(f\"#site-content > div:nth-child(3) > div > div > div > div > div > div > div._1gw6tte > div > div > div > div > div > div:nth-child({i}) > div > div > div.c1tbui0o.ltlgcp.dir.dir-ltr > div > div > div > div._8s3ctt > div._1nz9l7j > div > div._e296pg > div._1mx6kqf > div > span > div > a\").get_attribute(\"href\"))\n"
     ]
    }
   ],
   "source": [
    "urls_bcn_1_13 = []\n",
    "\n",
    "# set the url\n",
    "url = \"https://www.airbnb.es/s/Barcelona/homes?tab_id=home_tab&refinement_paths%5B%5D=%2Fhomes&flexible_trip_dates%5B%5D=april&flexible_trip_dates%5B%5D=august&flexible_trip_dates%5B%5D=december&flexible_trip_dates%5B%5D=february&flexible_trip_dates%5B%5D=january&flexible_trip_dates%5B%5D=july&flexible_trip_dates%5B%5D=june&flexible_trip_dates%5B%5D=march&flexible_trip_dates%5B%5D=may&flexible_trip_dates%5B%5D=november&flexible_trip_dates%5B%5D=october&flexible_trip_dates%5B%5D=september&flexible_trip_lengths%5B%5D=weekend_trip&date_picker_type=flexible_dates&query=Barcelona&place_id=ChIJ5TCOcRaYpBIRCmZHTz37sEQ&adults=5&source=structured_search_input_header&search_type=autocomplete_click&federated_search_session_id=52d4e61c-26b3-45c1-bf14-137064dfdfc8&pagination_search=true&items_offset=240&section_offset=2\"\n",
    "driver = webdriver.Chrome(ChromeDriverManager().install(), options = opciones)\n",
    "\n",
    "#cookies 1\n",
    "driver.implicitly_wait(2)\n",
    "driver.get(url)\n",
    "driver.implicitly_wait(2)\n",
    "time.sleep(2)\n",
    "driver.find_element_by_css_selector(\"body > div:nth-child(7) > div > div > div:nth-child(1) > div > div._1cgcei8 > section > div._gsw2t0 > div._160gnkxa > button\").click()\n",
    "\n",
    "for i in range (1,21):\n",
    "        driver.implicitly_wait(2)\n",
    "        time.sleep(1)\n",
    "        urls_bcn_1_13.append(driver.find_element_by_css_selector(f\"#site-content > div:nth-child(3) > div > div > div > div > div > div > div._1gw6tte > div > div > div > div > div > div:nth-child({i}) > div > div > div.c1tbui0o.ltlgcp.dir.dir-ltr > div > div > div > div._8s3ctt > div._1nz9l7j > div > div._e296pg > div._1mx6kqf > div > span > div > a\").get_attribute(\"href\"))\n",
    "\n",
    "driver.quit()"
   ]
  },
  {
   "cell_type": "code",
   "execution_count": 36,
   "id": "c6ec7ce1",
   "metadata": {},
   "outputs": [
    {
     "data": {
      "text/plain": [
       "20"
      ]
     },
     "execution_count": 36,
     "metadata": {},
     "output_type": "execute_result"
    }
   ],
   "source": [
    "len(urls_bcn_1_13)"
   ]
  },
  {
   "cell_type": "code",
   "execution_count": 37,
   "id": "3c2b02a8",
   "metadata": {},
   "outputs": [
    {
     "name": "stderr",
     "output_type": "stream",
     "text": [
      "\n",
      "\n",
      "====== WebDriver manager ======\n",
      "Current google-chrome version is 96.0.4664\n",
      "Get LATEST chromedriver version for 96.0.4664 google-chrome\n",
      "Driver [/Users/franciscovispo/.wdm/drivers/chromedriver/mac64/96.0.4664.45/chromedriver] found in cache\n",
      "<ipython-input-37-ceafc906bcc0>:5: DeprecationWarning: executable_path has been deprecated, please pass in a Service object\n",
      "  driver = webdriver.Chrome(ChromeDriverManager().install(), options = opciones)\n",
      "<ipython-input-37-ceafc906bcc0>:12: DeprecationWarning: find_element_by_* commands are deprecated. Please use find_element() instead\n",
      "  driver.find_element_by_css_selector(\"body > div:nth-child(7) > div > div > div:nth-child(1) > div > div._1cgcei8 > section > div._gsw2t0 > div._160gnkxa > button\").click()\n",
      "<ipython-input-37-ceafc906bcc0>:17: DeprecationWarning: find_element_by_* commands are deprecated. Please use find_element() instead\n",
      "  urls_bcn_1_14.append(driver.find_element_by_css_selector(f\"#site-content > div:nth-child(3) > div > div > div > div > div > div > div._1gw6tte > div > div > div > div > div > div:nth-child({i}) > div > div > div.c1tbui0o.ltlgcp.dir.dir-ltr > div > div > div > div._8s3ctt > div._1nz9l7j > div > div._e296pg > div._1mx6kqf > div > span > div > a\").get_attribute(\"href\"))\n"
     ]
    }
   ],
   "source": [
    "urls_bcn_1_14 = []\n",
    "\n",
    "# set the url\n",
    "url = \"https://www.airbnb.es/s/Barcelona/homes?tab_id=home_tab&refinement_paths%5B%5D=%2Fhomes&flexible_trip_dates%5B%5D=april&flexible_trip_dates%5B%5D=august&flexible_trip_dates%5B%5D=december&flexible_trip_dates%5B%5D=february&flexible_trip_dates%5B%5D=january&flexible_trip_dates%5B%5D=july&flexible_trip_dates%5B%5D=june&flexible_trip_dates%5B%5D=march&flexible_trip_dates%5B%5D=may&flexible_trip_dates%5B%5D=november&flexible_trip_dates%5B%5D=october&flexible_trip_dates%5B%5D=september&flexible_trip_lengths%5B%5D=weekend_trip&date_picker_type=flexible_dates&query=Barcelona&place_id=ChIJ5TCOcRaYpBIRCmZHTz37sEQ&adults=5&source=structured_search_input_header&search_type=autocomplete_click&federated_search_session_id=52d4e61c-26b3-45c1-bf14-137064dfdfc8&pagination_search=true&items_offset=260&section_offset=2\"\n",
    "driver = webdriver.Chrome(ChromeDriverManager().install(), options = opciones)\n",
    "\n",
    "#cookies 1\n",
    "driver.implicitly_wait(2)\n",
    "driver.get(url)\n",
    "driver.implicitly_wait(2)\n",
    "time.sleep(2)\n",
    "driver.find_element_by_css_selector(\"body > div:nth-child(7) > div > div > div:nth-child(1) > div > div._1cgcei8 > section > div._gsw2t0 > div._160gnkxa > button\").click()\n",
    "\n",
    "for i in range (1,21):\n",
    "        driver.implicitly_wait(2)\n",
    "        time.sleep(1)\n",
    "        urls_bcn_1_14.append(driver.find_element_by_css_selector(f\"#site-content > div:nth-child(3) > div > div > div > div > div > div > div._1gw6tte > div > div > div > div > div > div:nth-child({i}) > div > div > div.c1tbui0o.ltlgcp.dir.dir-ltr > div > div > div > div._8s3ctt > div._1nz9l7j > div > div._e296pg > div._1mx6kqf > div > span > div > a\").get_attribute(\"href\"))\n",
    "\n",
    "driver.quit()"
   ]
  },
  {
   "cell_type": "code",
   "execution_count": 38,
   "id": "f0d3c56c",
   "metadata": {},
   "outputs": [
    {
     "data": {
      "text/plain": [
       "20"
      ]
     },
     "execution_count": 38,
     "metadata": {},
     "output_type": "execute_result"
    }
   ],
   "source": [
    "len(urls_bcn_1_14)"
   ]
  },
  {
   "cell_type": "code",
   "execution_count": 39,
   "id": "2f375925",
   "metadata": {},
   "outputs": [
    {
     "name": "stderr",
     "output_type": "stream",
     "text": [
      "\n",
      "\n",
      "====== WebDriver manager ======\n",
      "Current google-chrome version is 96.0.4664\n",
      "Get LATEST chromedriver version for 96.0.4664 google-chrome\n",
      "Driver [/Users/franciscovispo/.wdm/drivers/chromedriver/mac64/96.0.4664.45/chromedriver] found in cache\n",
      "<ipython-input-39-d8aed9af1c7c>:5: DeprecationWarning: executable_path has been deprecated, please pass in a Service object\n",
      "  driver = webdriver.Chrome(ChromeDriverManager().install(), options = opciones)\n",
      "<ipython-input-39-d8aed9af1c7c>:12: DeprecationWarning: find_element_by_* commands are deprecated. Please use find_element() instead\n",
      "  driver.find_element_by_css_selector(\"body > div:nth-child(7) > div > div > div:nth-child(1) > div > div._1cgcei8 > section > div._gsw2t0 > div._160gnkxa > button\").click()\n",
      "<ipython-input-39-d8aed9af1c7c>:17: DeprecationWarning: find_element_by_* commands are deprecated. Please use find_element() instead\n",
      "  urls_bcn_1_15.append(driver.find_element_by_css_selector(f\"#site-content > div:nth-child(3) > div > div > div > div > div > div > div._1gw6tte > div > div > div > div > div > div:nth-child({i}) > div > div > div.c1tbui0o.ltlgcp.dir.dir-ltr > div > div > div > div._8s3ctt > div._1nz9l7j > div > div._e296pg > div._1mx6kqf > div > span > div > a\").get_attribute(\"href\"))\n"
     ]
    }
   ],
   "source": [
    "urls_bcn_1_15 = []\n",
    "\n",
    "# set the url\n",
    "url = \"https://www.airbnb.es/s/Barcelona/homes?tab_id=home_tab&refinement_paths%5B%5D=%2Fhomes&flexible_trip_dates%5B%5D=april&flexible_trip_dates%5B%5D=august&flexible_trip_dates%5B%5D=december&flexible_trip_dates%5B%5D=february&flexible_trip_dates%5B%5D=january&flexible_trip_dates%5B%5D=july&flexible_trip_dates%5B%5D=june&flexible_trip_dates%5B%5D=march&flexible_trip_dates%5B%5D=may&flexible_trip_dates%5B%5D=november&flexible_trip_dates%5B%5D=october&flexible_trip_dates%5B%5D=september&flexible_trip_lengths%5B%5D=weekend_trip&date_picker_type=flexible_dates&query=Barcelona&place_id=ChIJ5TCOcRaYpBIRCmZHTz37sEQ&adults=5&source=structured_search_input_header&search_type=autocomplete_click&federated_search_session_id=52d4e61c-26b3-45c1-bf14-137064dfdfc8&pagination_search=true&items_offset=280&section_offset=2\"\n",
    "driver = webdriver.Chrome(ChromeDriverManager().install(), options = opciones)\n",
    "\n",
    "#cookies 1\n",
    "driver.implicitly_wait(2)\n",
    "driver.get(url)\n",
    "driver.implicitly_wait(2)\n",
    "time.sleep(2)\n",
    "driver.find_element_by_css_selector(\"body > div:nth-child(7) > div > div > div:nth-child(1) > div > div._1cgcei8 > section > div._gsw2t0 > div._160gnkxa > button\").click()\n",
    "\n",
    "for i in range (1,21):\n",
    "        driver.implicitly_wait(2)\n",
    "        time.sleep(1)\n",
    "        urls_bcn_1_15.append(driver.find_element_by_css_selector(f\"#site-content > div:nth-child(3) > div > div > div > div > div > div > div._1gw6tte > div > div > div > div > div > div:nth-child({i}) > div > div > div.c1tbui0o.ltlgcp.dir.dir-ltr > div > div > div > div._8s3ctt > div._1nz9l7j > div > div._e296pg > div._1mx6kqf > div > span > div > a\").get_attribute(\"href\"))\n",
    "\n",
    "driver.quit()"
   ]
  },
  {
   "cell_type": "code",
   "execution_count": 40,
   "id": "9f42098f",
   "metadata": {},
   "outputs": [
    {
     "data": {
      "text/plain": [
       "20"
      ]
     },
     "execution_count": 40,
     "metadata": {},
     "output_type": "execute_result"
    }
   ],
   "source": [
    "len(urls_bcn_1_15)"
   ]
  },
  {
   "cell_type": "code",
   "execution_count": 46,
   "id": "c4cc64b5",
   "metadata": {},
   "outputs": [],
   "source": [
    "urls_bcn_1 = urls_bcn_1_1 + urls_bcn_1_2 + urls_bcn_1_3 + urls_bcn_1_4 +urls_bcn_1_5 +urls_bcn_1_6 + urls_bcn_1_7 + urls_bcn_1_8 + urls_bcn_1_9 + urls_bcn_1_10 + urls_bcn_1_11 +urls_bcn_1_12 + urls_bcn_1_13 + urls_bcn_1_14 + urls_bcn_1_15 \n"
   ]
  },
  {
   "cell_type": "code",
   "execution_count": 48,
   "id": "717d2ad7",
   "metadata": {},
   "outputs": [],
   "source": [
    "#print(urls_bcn_1)"
   ]
  },
  {
   "cell_type": "code",
   "execution_count": 42,
   "id": "6ced2393",
   "metadata": {},
   "outputs": [
    {
     "data": {
      "text/plain": [
       "300"
      ]
     },
     "execution_count": 42,
     "metadata": {},
     "output_type": "execute_result"
    }
   ],
   "source": [
    "len(urls_bcn_1)"
   ]
  },
  {
   "cell_type": "code",
   "execution_count": 43,
   "id": "72dc0d6a",
   "metadata": {},
   "outputs": [],
   "source": [
    "urls_bcn_1 = pd.DataFrame(urls_bcn_1)"
   ]
  },
  {
   "cell_type": "code",
   "execution_count": 44,
   "id": "902b8af4",
   "metadata": {},
   "outputs": [
    {
     "data": {
      "text/plain": [
       "0"
      ]
     },
     "execution_count": 44,
     "metadata": {},
     "output_type": "execute_result"
    }
   ],
   "source": [
    "urls_bcn_1.duplicated().sum()"
   ]
  },
  {
   "cell_type": "code",
   "execution_count": 45,
   "id": "e4429302",
   "metadata": {},
   "outputs": [],
   "source": [
    "urls_bcn_1.to_csv(\"../data/urls_bcn_2_bueno.csv\", index=False)"
   ]
  }
 ],
 "metadata": {
  "kernelspec": {
   "display_name": "ironhack",
   "language": "python",
   "name": "ironhack"
  },
  "language_info": {
   "codemirror_mode": {
    "name": "ipython",
    "version": 3
   },
   "file_extension": ".py",
   "mimetype": "text/x-python",
   "name": "python",
   "nbconvert_exporter": "python",
   "pygments_lexer": "ipython3",
   "version": "3.8.5"
  }
 },
 "nbformat": 4,
 "nbformat_minor": 5
}
