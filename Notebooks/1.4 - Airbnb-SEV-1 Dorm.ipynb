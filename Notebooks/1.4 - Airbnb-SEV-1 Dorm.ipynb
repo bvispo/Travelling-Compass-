{
 "cells": [
  {
   "cell_type": "code",
   "execution_count": 1,
   "id": "1b66949b",
   "metadata": {},
   "outputs": [],
   "source": [
    "from selenium import webdriver\n",
    "from selenium.webdriver.chrome.options import Options\n",
    "import time\n",
    "import pandas as pd\n",
    "from selenium.webdriver.support.ui import Select\n",
    "from webdriver_manager.chrome import ChromeDriverManager"
   ]
  },
  {
   "cell_type": "code",
   "execution_count": 2,
   "id": "2aaf5403",
   "metadata": {},
   "outputs": [],
   "source": [
    "opciones=Options()\n",
    "\n",
    "opciones.add_experimental_option('excludeSwitches', ['enable-automation'])\n",
    "opciones.add_experimental_option('useAutomationExtension', False)\n",
    "\n",
    "opciones.headless=False    # si True, no aperece la ventana (headless=no visible)\n",
    "\n",
    "opciones.add_argument('--start-maximized')         # comienza maximizado\n",
    "\n",
    "opciones.add_argument('user-data-dir=selenium')    # mantiene las cookies\n",
    "\n",
    "#opciones.add_extension('driver_folder/adblock.crx')       # adblocker\n",
    "\n",
    "opciones.add_argument('--incognito')              # incognito"
   ]
  },
  {
   "cell_type": "markdown",
   "id": "c4ead57f",
   "metadata": {},
   "source": [
    "# URLS"
   ]
  },
  {
   "cell_type": "markdown",
   "id": "d95e87a0",
   "metadata": {},
   "source": [
    "# Sevilla"
   ]
  },
  {
   "cell_type": "code",
   "execution_count": null,
   "id": "0b6305da",
   "metadata": {},
   "outputs": [],
   "source": [
    "#driver.quit()"
   ]
  },
  {
   "cell_type": "code",
   "execution_count": null,
   "id": "43444a90",
   "metadata": {},
   "outputs": [],
   "source": [
    "urls_sev_1_1 = []\n",
    "\n",
    "# set the url\n",
    "url = \"https://www.airbnb.es/s/Sevilla/homes?tab_id=home_tab&refinement_paths%5B%5D=%2Fhomes&flexible_trip_dates%5B%5D=december&flexible_trip_dates%5B%5D=january&flexible_trip_dates%5B%5D=february&flexible_trip_dates%5B%5D=march&flexible_trip_dates%5B%5D=april&flexible_trip_dates%5B%5D=may&flexible_trip_dates%5B%5D=june&flexible_trip_dates%5B%5D=july&flexible_trip_dates%5B%5D=august&flexible_trip_dates%5B%5D=september&flexible_trip_dates%5B%5D=october&flexible_trip_dates%5B%5D=november&flexible_trip_lengths%5B%5D=weekend_trip&date_picker_type=flexible_dates&query=Sevilla&place_id=ChIJgTwKgJcpQg0RaSKMYcHeNsQ&source=structured_search_input_header&search_type=autocomplete_click\"\n",
    "driver = webdriver.Chrome(ChromeDriverManager().install(), options = opciones)\n",
    "\n",
    "#cookies 1\n",
    "driver.implicitly_wait(2)\n",
    "driver.get(url)\n",
    "driver.implicitly_wait(2)\n",
    "driver.find_element_by_css_selector(\"body > div:nth-child(7) > div > div > div:nth-child(1) > div > div._1cgcei8 > section > div._gsw2t0 > div._160gnkxa > button\").click()\n",
    "\n",
    "for i in range (1,21):\n",
    "        driver.implicitly_wait(1)\n",
    "        urls_sev_1_1.append(driver.find_element_by_css_selector(f\"#site-content > div:nth-child(4) > div > div > div > div > div > div > div._1gw6tte > div > div > div > div > div > div:nth-child({i}) > div > div > div._1e541ba5 > div > div > div > div._8s3ctt > div._1nz9l7j > div > div._e296pg > div._1mx6kqf > div > span > div > a\").get_attribute(\"href\"))\n",
    "        \n",
    "driver.quit()\n"
   ]
  },
  {
   "cell_type": "code",
   "execution_count": null,
   "id": "51b32d94",
   "metadata": {},
   "outputs": [],
   "source": [
    "len(urls_sev_1_1)"
   ]
  },
  {
   "cell_type": "code",
   "execution_count": null,
   "id": "b29026c5",
   "metadata": {},
   "outputs": [],
   "source": [
    "urls_sev_1_2 = []\n",
    "\n",
    "# set the url\n",
    "url = \"https://www.airbnb.es/s/Sevilla/homes?tab_id=home_tab&refinement_paths%5B%5D=%2Fhomes&flexible_trip_dates%5B%5D=april&flexible_trip_dates%5B%5D=august&flexible_trip_dates%5B%5D=december&flexible_trip_dates%5B%5D=february&flexible_trip_dates%5B%5D=january&flexible_trip_dates%5B%5D=july&flexible_trip_dates%5B%5D=june&flexible_trip_dates%5B%5D=march&flexible_trip_dates%5B%5D=may&flexible_trip_dates%5B%5D=november&flexible_trip_dates%5B%5D=october&flexible_trip_dates%5B%5D=september&flexible_trip_lengths%5B%5D=weekend_trip&date_picker_type=flexible_dates&query=Sevilla&place_id=ChIJgTwKgJcpQg0RaSKMYcHeNsQ&source=structured_search_input_header&search_type=autocomplete_click&federated_search_session_id=26317fe7-5578-4163-bd49-0b26fb9256f7&pagination_search=true&items_offset=20&section_offset=2\"\n",
    "driver = webdriver.Chrome(ChromeDriverManager().install(), options = opciones)\n",
    "\n",
    "#cookies 1\n",
    "driver.implicitly_wait(2)\n",
    "driver.get(url)\n",
    "driver.implicitly_wait(2)\n",
    "time.sleep(2)\n",
    "driver.find_element_by_css_selector(\"body > div:nth-child(7) > div > div > div:nth-child(1) > div > div._1cgcei8 > section > div._gsw2t0 > div._160gnkxa > button\").click()\n",
    "\n",
    "for i in range (1,21):\n",
    "        driver.implicitly_wait(2)\n",
    "        time.sleep(1)\n",
    "        urls_sev_1_2.append(driver.find_element_by_css_selector(f\"#site-content > div:nth-child(3) > div > div > div > div > div > div > div._1gw6tte > div > div > div > div > div > div:nth-child({i}) > div > div > div._1e541ba5 > div > div > div > div._8s3ctt > div._1nz9l7j > div > div._e296pg > div._1mx6kqf > div > span > div > a\").get_attribute(\"href\"))\n",
    "\n",
    "driver.quit()\n",
    "        "
   ]
  },
  {
   "cell_type": "code",
   "execution_count": null,
   "id": "1a274900",
   "metadata": {},
   "outputs": [],
   "source": [
    "len(urls_sev_1_2)"
   ]
  },
  {
   "cell_type": "code",
   "execution_count": null,
   "id": "e7f03c37",
   "metadata": {},
   "outputs": [],
   "source": [
    "urls_sev_1_3 = []\n",
    "\n",
    "# set the url\n",
    "url = \"https://www.airbnb.es/s/Sevilla/homes?tab_id=home_tab&refinement_paths%5B%5D=%2Fhomes&flexible_trip_dates%5B%5D=april&flexible_trip_dates%5B%5D=august&flexible_trip_dates%5B%5D=december&flexible_trip_dates%5B%5D=february&flexible_trip_dates%5B%5D=january&flexible_trip_dates%5B%5D=july&flexible_trip_dates%5B%5D=june&flexible_trip_dates%5B%5D=march&flexible_trip_dates%5B%5D=may&flexible_trip_dates%5B%5D=november&flexible_trip_dates%5B%5D=october&flexible_trip_dates%5B%5D=september&flexible_trip_lengths%5B%5D=weekend_trip&date_picker_type=flexible_dates&query=Sevilla&place_id=ChIJgTwKgJcpQg0RaSKMYcHeNsQ&source=structured_search_input_header&search_type=autocomplete_click&federated_search_session_id=26317fe7-5578-4163-bd49-0b26fb9256f7&pagination_search=true&items_offset=40&section_offset=2\"\n",
    "driver = webdriver.Chrome(ChromeDriverManager().install(), options = opciones)\n",
    "\n",
    "#cookies 1\n",
    "driver.implicitly_wait(2)\n",
    "driver.get(url)\n",
    "driver.implicitly_wait(2)\n",
    "time.sleep(2)\n",
    "driver.find_element_by_css_selector(\"body > div:nth-child(7) > div > div > div:nth-child(1) > div > div._1cgcei8 > section > div._gsw2t0 > div._160gnkxa > button\").click()\n",
    "\n",
    "for i in range (1,21):\n",
    "        driver.implicitly_wait(2)\n",
    "        time.sleep(1)\n",
    "        urls_sev_1_3.append(driver.find_element_by_css_selector(f\"#site-content > div:nth-child(3) > div > div > div > div > div > div > div._1gw6tte > div > div > div > div > div > div:nth-child({i}) > div > div > div._1e541ba5 > div > div > div > div._8s3ctt > div._1nz9l7j > div > div._e296pg > div._1mx6kqf > div > span > div > a\").get_attribute(\"href\"))\n",
    "\n",
    "driver.quit()"
   ]
  },
  {
   "cell_type": "code",
   "execution_count": null,
   "id": "fb535940",
   "metadata": {},
   "outputs": [],
   "source": [
    "len(urls_sev_1_3)"
   ]
  },
  {
   "cell_type": "code",
   "execution_count": null,
   "id": "793236aa",
   "metadata": {},
   "outputs": [],
   "source": [
    "urls_sev_1_4 = []\n",
    "\n",
    "# set the url\n",
    "url = \"https://www.airbnb.es/s/Sevilla/homes?tab_id=home_tab&refinement_paths%5B%5D=%2Fhomes&flexible_trip_dates%5B%5D=april&flexible_trip_dates%5B%5D=august&flexible_trip_dates%5B%5D=december&flexible_trip_dates%5B%5D=february&flexible_trip_dates%5B%5D=january&flexible_trip_dates%5B%5D=july&flexible_trip_dates%5B%5D=june&flexible_trip_dates%5B%5D=march&flexible_trip_dates%5B%5D=may&flexible_trip_dates%5B%5D=november&flexible_trip_dates%5B%5D=october&flexible_trip_dates%5B%5D=september&flexible_trip_lengths%5B%5D=weekend_trip&date_picker_type=flexible_dates&query=Sevilla&place_id=ChIJgTwKgJcpQg0RaSKMYcHeNsQ&source=structured_search_input_header&search_type=autocomplete_click&federated_search_session_id=26317fe7-5578-4163-bd49-0b26fb9256f7&pagination_search=true&items_offset=60&section_offset=2\"\n",
    "driver = webdriver.Chrome(ChromeDriverManager().install(), options = opciones)\n",
    "\n",
    "#cookies 1\n",
    "driver.implicitly_wait(2)\n",
    "driver.get(url)\n",
    "driver.implicitly_wait(2)\n",
    "time.sleep(2)\n",
    "driver.find_element_by_css_selector(\"body > div:nth-child(7) > div > div > div:nth-child(1) > div > div._1cgcei8 > section > div._gsw2t0 > div._160gnkxa > button\").click()\n",
    "\n",
    "for i in range (1,21):\n",
    "        driver.implicitly_wait(2)\n",
    "        time.sleep(1)\n",
    "        urls_sev_1_4.append(driver.find_element_by_css_selector(f\"#site-content > div:nth-child(3) > div > div > div > div > div > div > div._1gw6tte > div > div > div > div > div > div:nth-child({i}) > div > div > div._1e541ba5 > div > div > div > div._8s3ctt > div._1nz9l7j > div > div._e296pg > div._1mx6kqf > div > span > div > a\").get_attribute(\"href\"))\n",
    "\n",
    "driver.quit()"
   ]
  },
  {
   "cell_type": "code",
   "execution_count": null,
   "id": "1a0f28f0",
   "metadata": {},
   "outputs": [],
   "source": [
    "len(urls_sev_1_4)"
   ]
  },
  {
   "cell_type": "code",
   "execution_count": null,
   "id": "61679a88",
   "metadata": {},
   "outputs": [],
   "source": [
    "urls_sev_1_5 = []\n",
    "\n",
    "# set the url\n",
    "url = \"https://www.airbnb.es/s/Sevilla/homes?tab_id=home_tab&refinement_paths%5B%5D=%2Fhomes&flexible_trip_dates%5B%5D=april&flexible_trip_dates%5B%5D=august&flexible_trip_dates%5B%5D=december&flexible_trip_dates%5B%5D=february&flexible_trip_dates%5B%5D=january&flexible_trip_dates%5B%5D=july&flexible_trip_dates%5B%5D=june&flexible_trip_dates%5B%5D=march&flexible_trip_dates%5B%5D=may&flexible_trip_dates%5B%5D=november&flexible_trip_dates%5B%5D=october&flexible_trip_dates%5B%5D=september&flexible_trip_lengths%5B%5D=weekend_trip&date_picker_type=flexible_dates&query=Sevilla&place_id=ChIJgTwKgJcpQg0RaSKMYcHeNsQ&source=structured_search_input_header&search_type=autocomplete_click&federated_search_session_id=26317fe7-5578-4163-bd49-0b26fb9256f7&pagination_search=true&items_offset=80&section_offset=2\"\n",
    "driver = webdriver.Chrome(ChromeDriverManager().install(), options = opciones)\n",
    "\n",
    "#cookies 1\n",
    "driver.implicitly_wait(2)\n",
    "driver.get(url)\n",
    "driver.implicitly_wait(2)\n",
    "time.sleep(2)\n",
    "driver.find_element_by_css_selector(\"body > div:nth-child(7) > div > div > div:nth-child(1) > div > div._1cgcei8 > section > div._gsw2t0 > div._160gnkxa > button\").click()\n",
    "\n",
    "for i in range (1,21):\n",
    "        driver.implicitly_wait(2)\n",
    "        time.sleep(1)\n",
    "        urls_sev_1_5.append(driver.find_element_by_css_selector(f\"#site-content > div:nth-child(3) > div > div > div > div > div > div > div._1gw6tte > div > div > div > div > div > div:nth-child({i}) > div > div > div._1e541ba5 > div > div > div > div._8s3ctt > div._1nz9l7j > div > div._e296pg > div._1mx6kqf > div > span > div > a\").get_attribute(\"href\"))\n",
    "\n",
    "driver.quit()"
   ]
  },
  {
   "cell_type": "code",
   "execution_count": null,
   "id": "59b94446",
   "metadata": {},
   "outputs": [],
   "source": [
    "len(urls_sev_1_5)"
   ]
  },
  {
   "cell_type": "code",
   "execution_count": null,
   "id": "21c7bc85",
   "metadata": {},
   "outputs": [],
   "source": [
    "urls_sev_1_6 = []\n",
    "\n",
    "# set the url\n",
    "url = \"https://www.airbnb.es/s/Sevilla/homes?tab_id=home_tab&refinement_paths%5B%5D=%2Fhomes&flexible_trip_dates%5B%5D=april&flexible_trip_dates%5B%5D=august&flexible_trip_dates%5B%5D=december&flexible_trip_dates%5B%5D=february&flexible_trip_dates%5B%5D=january&flexible_trip_dates%5B%5D=july&flexible_trip_dates%5B%5D=june&flexible_trip_dates%5B%5D=march&flexible_trip_dates%5B%5D=may&flexible_trip_dates%5B%5D=november&flexible_trip_dates%5B%5D=october&flexible_trip_dates%5B%5D=september&flexible_trip_lengths%5B%5D=weekend_trip&date_picker_type=flexible_dates&query=Sevilla&place_id=ChIJgTwKgJcpQg0RaSKMYcHeNsQ&source=structured_search_input_header&search_type=autocomplete_click&federated_search_session_id=26317fe7-5578-4163-bd49-0b26fb9256f7&pagination_search=true&items_offset=100&section_offset=2\"\n",
    "driver = webdriver.Chrome(ChromeDriverManager().install(), options = opciones)\n",
    "\n",
    "#cookies 1\n",
    "driver.implicitly_wait(2)\n",
    "driver.get(url)\n",
    "driver.implicitly_wait(2)\n",
    "time.sleep(2)\n",
    "driver.find_element_by_css_selector(\"body > div:nth-child(7) > div > div > div:nth-child(1) > div > div._1cgcei8 > section > div._gsw2t0 > div._160gnkxa > button\").click()\n",
    "\n",
    "for i in range (1,21):\n",
    "        driver.implicitly_wait(2)\n",
    "        time.sleep(1)\n",
    "        urls_sev_1_6.append(driver.find_element_by_css_selector(f\"#site-content > div:nth-child(3) > div > div > div > div > div > div > div._1gw6tte > div > div > div > div > div > div:nth-child({i}) > div > div > div._1e541ba5 > div > div > div > div._8s3ctt > div._1nz9l7j > div > div._e296pg > div._1mx6kqf > div > span > div > a\").get_attribute(\"href\"))\n",
    "\n",
    "driver.quit()"
   ]
  },
  {
   "cell_type": "code",
   "execution_count": null,
   "id": "1cce9fd7",
   "metadata": {},
   "outputs": [],
   "source": [
    "len(urls_sev_1_6)"
   ]
  },
  {
   "cell_type": "code",
   "execution_count": null,
   "id": "ad8b6e69",
   "metadata": {},
   "outputs": [],
   "source": [
    "urls_sev_1_7 = []\n",
    "\n",
    "# set the url\n",
    "url = \"https://www.airbnb.es/s/Sevilla/homes?tab_id=home_tab&refinement_paths%5B%5D=%2Fhomes&flexible_trip_dates%5B%5D=april&flexible_trip_dates%5B%5D=august&flexible_trip_dates%5B%5D=december&flexible_trip_dates%5B%5D=february&flexible_trip_dates%5B%5D=january&flexible_trip_dates%5B%5D=july&flexible_trip_dates%5B%5D=june&flexible_trip_dates%5B%5D=march&flexible_trip_dates%5B%5D=may&flexible_trip_dates%5B%5D=november&flexible_trip_dates%5B%5D=october&flexible_trip_dates%5B%5D=september&flexible_trip_lengths%5B%5D=weekend_trip&date_picker_type=flexible_dates&query=Sevilla&place_id=ChIJgTwKgJcpQg0RaSKMYcHeNsQ&source=structured_search_input_header&search_type=autocomplete_click&federated_search_session_id=26317fe7-5578-4163-bd49-0b26fb9256f7&pagination_search=true&items_offset=120&section_offset=2\"\n",
    "driver = webdriver.Chrome(ChromeDriverManager().install(), options = opciones)\n",
    "\n",
    "#cookies 1\n",
    "driver.implicitly_wait(2)\n",
    "driver.get(url)\n",
    "driver.implicitly_wait(2)\n",
    "time.sleep(2)\n",
    "driver.find_element_by_css_selector(\"body > div:nth-child(7) > div > div > div:nth-child(1) > div > div._1cgcei8 > section > div._gsw2t0 > div._160gnkxa > button\").click()\n",
    "\n",
    "for i in range (1,21):\n",
    "        driver.implicitly_wait(2)\n",
    "        time.sleep(1)\n",
    "        urls_sev_1_7.append(driver.find_element_by_css_selector(f\"#site-content > div:nth-child(3) > div > div > div > div > div > div > div._1gw6tte > div > div > div > div > div > div:nth-child({i}) > div > div > div._1e541ba5 > div > div > div > div._8s3ctt > div._1nz9l7j > div > div._e296pg > div._1mx6kqf > div > span > div > a\").get_attribute(\"href\"))\n",
    "\n",
    "driver.quit()"
   ]
  },
  {
   "cell_type": "code",
   "execution_count": null,
   "id": "5f8196ee",
   "metadata": {},
   "outputs": [],
   "source": [
    "len(urls_sev_1_7)"
   ]
  },
  {
   "cell_type": "code",
   "execution_count": null,
   "id": "f5f18da3",
   "metadata": {},
   "outputs": [],
   "source": [
    "urls_sev_1_8 = []\n",
    "\n",
    "# set the url\n",
    "url = \"https://www.airbnb.es/s/Sevilla/homes?tab_id=home_tab&refinement_paths%5B%5D=%2Fhomes&flexible_trip_dates%5B%5D=april&flexible_trip_dates%5B%5D=august&flexible_trip_dates%5B%5D=december&flexible_trip_dates%5B%5D=february&flexible_trip_dates%5B%5D=january&flexible_trip_dates%5B%5D=july&flexible_trip_dates%5B%5D=june&flexible_trip_dates%5B%5D=march&flexible_trip_dates%5B%5D=may&flexible_trip_dates%5B%5D=november&flexible_trip_dates%5B%5D=october&flexible_trip_dates%5B%5D=september&flexible_trip_lengths%5B%5D=weekend_trip&date_picker_type=flexible_dates&query=Sevilla&place_id=ChIJgTwKgJcpQg0RaSKMYcHeNsQ&source=structured_search_input_header&search_type=autocomplete_click&federated_search_session_id=26317fe7-5578-4163-bd49-0b26fb9256f7&pagination_search=true&items_offset=140&section_offset=2\"\n",
    "driver = webdriver.Chrome(ChromeDriverManager().install(), options = opciones)\n",
    "\n",
    "#cookies 1\n",
    "driver.implicitly_wait(2)\n",
    "driver.get(url)\n",
    "driver.implicitly_wait(2)\n",
    "time.sleep(2)\n",
    "driver.find_element_by_css_selector(\"body > div:nth-child(7) > div > div > div:nth-child(1) > div > div._1cgcei8 > section > div._gsw2t0 > div._160gnkxa > button\").click()\n",
    "\n",
    "for i in range (1,21):\n",
    "        driver.implicitly_wait(2)\n",
    "        time.sleep(1)\n",
    "        urls_sev_1_8.append(driver.find_element_by_css_selector(f\"#site-content > div:nth-child(3) > div > div > div > div > div > div > div._1gw6tte > div > div > div > div > div > div:nth-child({i}) > div > div > div._1e541ba5 > div > div > div > div._8s3ctt > div._1nz9l7j > div > div._e296pg > div._1mx6kqf > div > span > div > a\").get_attribute(\"href\"))\n",
    "\n",
    "driver.quit()"
   ]
  },
  {
   "cell_type": "code",
   "execution_count": null,
   "id": "558efede",
   "metadata": {},
   "outputs": [],
   "source": [
    "len(urls_sev_1_8)"
   ]
  },
  {
   "cell_type": "code",
   "execution_count": null,
   "id": "08dda8d4",
   "metadata": {},
   "outputs": [],
   "source": [
    "urls_sev_1_9 = []\n",
    "\n",
    "# set the url\n",
    "url = \"https://www.airbnb.es/s/Sevilla/homes?tab_id=home_tab&refinement_paths%5B%5D=%2Fhomes&flexible_trip_dates%5B%5D=april&flexible_trip_dates%5B%5D=august&flexible_trip_dates%5B%5D=december&flexible_trip_dates%5B%5D=february&flexible_trip_dates%5B%5D=january&flexible_trip_dates%5B%5D=july&flexible_trip_dates%5B%5D=june&flexible_trip_dates%5B%5D=march&flexible_trip_dates%5B%5D=may&flexible_trip_dates%5B%5D=november&flexible_trip_dates%5B%5D=october&flexible_trip_dates%5B%5D=september&flexible_trip_lengths%5B%5D=weekend_trip&date_picker_type=flexible_dates&query=Sevilla&place_id=ChIJgTwKgJcpQg0RaSKMYcHeNsQ&source=structured_search_input_header&search_type=autocomplete_click&federated_search_session_id=26317fe7-5578-4163-bd49-0b26fb9256f7&pagination_search=true&items_offset=160&section_offset=2\"\n",
    "driver = webdriver.Chrome(ChromeDriverManager().install(), options = opciones)\n",
    "\n",
    "#cookies 1\n",
    "driver.implicitly_wait(2)\n",
    "driver.get(url)\n",
    "driver.implicitly_wait(2)\n",
    "time.sleep(2)\n",
    "driver.find_element_by_css_selector(\"body > div:nth-child(7) > div > div > div:nth-child(1) > div > div._1cgcei8 > section > div._gsw2t0 > div._160gnkxa > button\").click()\n",
    "\n",
    "for i in range (1,21):\n",
    "        driver.implicitly_wait(2)\n",
    "        time.sleep(1)\n",
    "        urls_sev_1_9.append(driver.find_element_by_css_selector(f\"#site-content > div:nth-child(3) > div > div > div > div > div > div > div._1gw6tte > div > div > div > div > div > div:nth-child({i}) > div > div > div._1e541ba5 > div > div > div > div._8s3ctt > div._1nz9l7j > div > div._e296pg > div._1mx6kqf > div > span > div > a\").get_attribute(\"href\"))\n",
    "\n",
    "driver.quit()"
   ]
  },
  {
   "cell_type": "code",
   "execution_count": null,
   "id": "d3661785",
   "metadata": {},
   "outputs": [],
   "source": [
    "len(urls_sev_1_9)"
   ]
  },
  {
   "cell_type": "code",
   "execution_count": null,
   "id": "ffa3657f",
   "metadata": {},
   "outputs": [],
   "source": [
    "urls_sev_1_10 = []\n",
    "\n",
    "# set the url\n",
    "url = \"https://www.airbnb.es/s/Sevilla/homes?tab_id=home_tab&refinement_paths%5B%5D=%2Fhomes&flexible_trip_dates%5B%5D=april&flexible_trip_dates%5B%5D=august&flexible_trip_dates%5B%5D=december&flexible_trip_dates%5B%5D=february&flexible_trip_dates%5B%5D=january&flexible_trip_dates%5B%5D=july&flexible_trip_dates%5B%5D=june&flexible_trip_dates%5B%5D=march&flexible_trip_dates%5B%5D=may&flexible_trip_dates%5B%5D=november&flexible_trip_dates%5B%5D=october&flexible_trip_dates%5B%5D=september&flexible_trip_lengths%5B%5D=weekend_trip&date_picker_type=flexible_dates&query=Sevilla&place_id=ChIJgTwKgJcpQg0RaSKMYcHeNsQ&source=structured_search_input_header&search_type=autocomplete_click&federated_search_session_id=26317fe7-5578-4163-bd49-0b26fb9256f7&pagination_search=true&items_offset=180&section_offset=2\"\n",
    "driver = webdriver.Chrome(ChromeDriverManager().install(), options = opciones)\n",
    "\n",
    "#cookies 1\n",
    "driver.implicitly_wait(2)\n",
    "driver.get(url)\n",
    "driver.implicitly_wait(2)\n",
    "time.sleep(2)\n",
    "driver.find_element_by_css_selector(\"body > div:nth-child(7) > div > div > div:nth-child(1) > div > div._1cgcei8 > section > div._gsw2t0 > div._160gnkxa > button\").click()\n",
    "\n",
    "for i in range (1,21):\n",
    "        driver.implicitly_wait(2)\n",
    "        time.sleep(1)\n",
    "        urls_sev_1_10.append(driver.find_element_by_css_selector(f\"#site-content > div:nth-child(3) > div > div > div > div > div > div > div._1gw6tte > div > div > div > div > div > div:nth-child({i}) > div > div > div._1e541ba5 > div > div > div > div._8s3ctt > div._1nz9l7j > div > div._e296pg > div._1mx6kqf > div > span > div > a\").get_attribute(\"href\"))\n",
    "\n",
    "driver.quit()"
   ]
  },
  {
   "cell_type": "code",
   "execution_count": null,
   "id": "21776c66",
   "metadata": {},
   "outputs": [],
   "source": [
    "len(urls_sev_1_10)"
   ]
  },
  {
   "cell_type": "code",
   "execution_count": null,
   "id": "b2ed7a7c",
   "metadata": {},
   "outputs": [],
   "source": [
    "urls_sev_1_11 = []\n",
    "\n",
    "# set the url\n",
    "url = \"https://www.airbnb.es/s/Sevilla/homes?tab_id=home_tab&refinement_paths%5B%5D=%2Fhomes&flexible_trip_dates%5B%5D=april&flexible_trip_dates%5B%5D=august&flexible_trip_dates%5B%5D=december&flexible_trip_dates%5B%5D=february&flexible_trip_dates%5B%5D=january&flexible_trip_dates%5B%5D=july&flexible_trip_dates%5B%5D=june&flexible_trip_dates%5B%5D=march&flexible_trip_dates%5B%5D=may&flexible_trip_dates%5B%5D=november&flexible_trip_dates%5B%5D=october&flexible_trip_dates%5B%5D=september&flexible_trip_lengths%5B%5D=weekend_trip&date_picker_type=flexible_dates&query=Sevilla&place_id=ChIJgTwKgJcpQg0RaSKMYcHeNsQ&source=structured_search_input_header&search_type=autocomplete_click&federated_search_session_id=26317fe7-5578-4163-bd49-0b26fb9256f7&pagination_search=true&items_offset=200&section_offset=2\"\n",
    "driver = webdriver.Chrome(ChromeDriverManager().install(), options = opciones)\n",
    "\n",
    "#cookies 1\n",
    "driver.implicitly_wait(2)\n",
    "driver.get(url)\n",
    "driver.implicitly_wait(2)\n",
    "time.sleep(2)\n",
    "driver.find_element_by_css_selector(\"body > div:nth-child(7) > div > div > div:nth-child(1) > div > div._1cgcei8 > section > div._gsw2t0 > div._160gnkxa > button\").click()\n",
    "\n",
    "for i in range (1,21):\n",
    "        driver.implicitly_wait(2)\n",
    "        time.sleep(1)\n",
    "        urls_sev_1_11.append(driver.find_element_by_css_selector(f\"#site-content > div:nth-child(3) > div > div > div > div > div > div > div._1gw6tte > div > div > div > div > div > div:nth-child({i}) > div > div > div._1e541ba5 > div > div > div > div._8s3ctt > div._1nz9l7j > div > div._e296pg > div._1mx6kqf > div > span > div > a\").get_attribute(\"href\"))\n",
    "\n",
    "driver.quit()"
   ]
  },
  {
   "cell_type": "code",
   "execution_count": null,
   "id": "6f03c5d9",
   "metadata": {},
   "outputs": [],
   "source": [
    "len(urls_sev_1_11)"
   ]
  },
  {
   "cell_type": "code",
   "execution_count": null,
   "id": "90214439",
   "metadata": {},
   "outputs": [],
   "source": [
    "urls_sev_1_12 = []\n",
    "\n",
    "# set the url\n",
    "url = \"https://www.airbnb.es/s/Sevilla/homes?tab_id=home_tab&refinement_paths%5B%5D=%2Fhomes&flexible_trip_dates%5B%5D=april&flexible_trip_dates%5B%5D=august&flexible_trip_dates%5B%5D=december&flexible_trip_dates%5B%5D=february&flexible_trip_dates%5B%5D=january&flexible_trip_dates%5B%5D=july&flexible_trip_dates%5B%5D=june&flexible_trip_dates%5B%5D=march&flexible_trip_dates%5B%5D=may&flexible_trip_dates%5B%5D=november&flexible_trip_dates%5B%5D=october&flexible_trip_dates%5B%5D=september&flexible_trip_lengths%5B%5D=weekend_trip&date_picker_type=flexible_dates&query=Sevilla&place_id=ChIJgTwKgJcpQg0RaSKMYcHeNsQ&source=structured_search_input_header&search_type=autocomplete_click&federated_search_session_id=26317fe7-5578-4163-bd49-0b26fb9256f7&pagination_search=true&items_offset=220&section_offset=2\"\n",
    "driver = webdriver.Chrome(ChromeDriverManager().install(), options = opciones)\n",
    "\n",
    "#cookies 1\n",
    "driver.implicitly_wait(2)\n",
    "driver.get(url)\n",
    "driver.implicitly_wait(2)\n",
    "time.sleep(2)\n",
    "driver.find_element_by_css_selector(\"body > div:nth-child(7) > div > div > div:nth-child(1) > div > div._1cgcei8 > section > div._gsw2t0 > div._160gnkxa > button\").click()\n",
    "\n",
    "for i in range (1,21):\n",
    "        driver.implicitly_wait(2)\n",
    "        time.sleep(1)\n",
    "        urls_sev_1_12.append(driver.find_element_by_css_selector(f\"#site-content > div:nth-child(3) > div > div > div > div > div > div > div._1gw6tte > div > div > div > div > div > div:nth-child({i}) > div > div > div._1e541ba5 > div > div > div > div._8s3ctt > div._1nz9l7j > div > div._e296pg > div._1mx6kqf > div > span > div > a\").get_attribute(\"href\"))\n",
    "\n",
    "driver.quit()"
   ]
  },
  {
   "cell_type": "code",
   "execution_count": null,
   "id": "91ae2045",
   "metadata": {},
   "outputs": [],
   "source": [
    "len(urls_sev_1_12)"
   ]
  },
  {
   "cell_type": "code",
   "execution_count": null,
   "id": "0f209dbf",
   "metadata": {},
   "outputs": [],
   "source": [
    "urls_sev_1_13 = []\n",
    "\n",
    "# set the url\n",
    "url = \"https://www.airbnb.es/s/Sevilla/homes?tab_id=home_tab&refinement_paths%5B%5D=%2Fhomes&flexible_trip_dates%5B%5D=april&flexible_trip_dates%5B%5D=august&flexible_trip_dates%5B%5D=december&flexible_trip_dates%5B%5D=february&flexible_trip_dates%5B%5D=january&flexible_trip_dates%5B%5D=july&flexible_trip_dates%5B%5D=june&flexible_trip_dates%5B%5D=march&flexible_trip_dates%5B%5D=may&flexible_trip_dates%5B%5D=november&flexible_trip_dates%5B%5D=october&flexible_trip_dates%5B%5D=september&flexible_trip_lengths%5B%5D=weekend_trip&date_picker_type=flexible_dates&query=Sevilla&place_id=ChIJgTwKgJcpQg0RaSKMYcHeNsQ&source=structured_search_input_header&search_type=autocomplete_click&federated_search_session_id=26317fe7-5578-4163-bd49-0b26fb9256f7&pagination_search=true&items_offset=240&section_offset=2\"\n",
    "driver = webdriver.Chrome(ChromeDriverManager().install(), options = opciones)\n",
    "\n",
    "#cookies 1\n",
    "driver.implicitly_wait(2)\n",
    "driver.get(url)\n",
    "driver.implicitly_wait(2)\n",
    "time.sleep(2)\n",
    "driver.find_element_by_css_selector(\"body > div:nth-child(7) > div > div > div:nth-child(1) > div > div._1cgcei8 > section > div._gsw2t0 > div._160gnkxa > button\").click()\n",
    "\n",
    "for i in range (1,21):\n",
    "        driver.implicitly_wait(2)\n",
    "        time.sleep(1)\n",
    "        urls_sev_1_13.append(driver.find_element_by_css_selector(f\"#site-content > div:nth-child(3) > div > div > div > div > div > div > div._1gw6tte > div > div > div > div > div > div:nth-child({i}) > div > div > div._1e541ba5 > div > div > div > div._8s3ctt > div._1nz9l7j > div > div._e296pg > div._1mx6kqf > div > span > div > a\").get_attribute(\"href\"))\n",
    "\n",
    "driver.quit()"
   ]
  },
  {
   "cell_type": "code",
   "execution_count": null,
   "id": "c6ec7ce1",
   "metadata": {},
   "outputs": [],
   "source": [
    "len(urls_sev_1_13)"
   ]
  },
  {
   "cell_type": "code",
   "execution_count": null,
   "id": "3c2b02a8",
   "metadata": {},
   "outputs": [],
   "source": [
    "urls_sev_1_14 = []\n",
    "\n",
    "# set the url\n",
    "url = \"https://www.airbnb.es/s/Sevilla/homes?tab_id=home_tab&refinement_paths%5B%5D=%2Fhomes&flexible_trip_dates%5B%5D=april&flexible_trip_dates%5B%5D=august&flexible_trip_dates%5B%5D=december&flexible_trip_dates%5B%5D=february&flexible_trip_dates%5B%5D=january&flexible_trip_dates%5B%5D=july&flexible_trip_dates%5B%5D=june&flexible_trip_dates%5B%5D=march&flexible_trip_dates%5B%5D=may&flexible_trip_dates%5B%5D=november&flexible_trip_dates%5B%5D=october&flexible_trip_dates%5B%5D=september&flexible_trip_lengths%5B%5D=weekend_trip&date_picker_type=flexible_dates&query=Sevilla&place_id=ChIJgTwKgJcpQg0RaSKMYcHeNsQ&source=structured_search_input_header&search_type=autocomplete_click&federated_search_session_id=26317fe7-5578-4163-bd49-0b26fb9256f7&pagination_search=true&items_offset=260&section_offset=2\"\n",
    "driver = webdriver.Chrome(ChromeDriverManager().install(), options = opciones)\n",
    "\n",
    "#cookies 1\n",
    "driver.implicitly_wait(2)\n",
    "driver.get(url)\n",
    "driver.implicitly_wait(2)\n",
    "time.sleep(2)\n",
    "driver.find_element_by_css_selector(\"body > div:nth-child(7) > div > div > div:nth-child(1) > div > div._1cgcei8 > section > div._gsw2t0 > div._160gnkxa > button\").click()\n",
    "\n",
    "for i in range (1,21):\n",
    "        driver.implicitly_wait(2)\n",
    "        time.sleep(1)\n",
    "        urls_sev_1_14.append(driver.find_element_by_css_selector(f\"#site-content > div:nth-child(3) > div > div > div > div > div > div > div._1gw6tte > div > div > div > div > div > div:nth-child({i}) > div > div > div._1e541ba5 > div > div > div > div._8s3ctt > div._1nz9l7j > div > div._e296pg > div._1mx6kqf > div > span > div > a\").get_attribute(\"href\"))\n",
    "\n",
    "driver.quit()"
   ]
  },
  {
   "cell_type": "code",
   "execution_count": null,
   "id": "f0d3c56c",
   "metadata": {},
   "outputs": [],
   "source": [
    "len(urls_sev_1_14)"
   ]
  },
  {
   "cell_type": "code",
   "execution_count": null,
   "id": "2f375925",
   "metadata": {},
   "outputs": [],
   "source": [
    "urls_sev_1_15 = []\n",
    "\n",
    "# set the url\n",
    "url = \"https://www.airbnb.es/s/Sevilla/homes?tab_id=home_tab&refinement_paths%5B%5D=%2Fhomes&flexible_trip_dates%5B%5D=april&flexible_trip_dates%5B%5D=august&flexible_trip_dates%5B%5D=december&flexible_trip_dates%5B%5D=february&flexible_trip_dates%5B%5D=january&flexible_trip_dates%5B%5D=july&flexible_trip_dates%5B%5D=june&flexible_trip_dates%5B%5D=march&flexible_trip_dates%5B%5D=may&flexible_trip_dates%5B%5D=november&flexible_trip_dates%5B%5D=october&flexible_trip_dates%5B%5D=september&flexible_trip_lengths%5B%5D=weekend_trip&date_picker_type=flexible_dates&query=Sevilla&place_id=ChIJgTwKgJcpQg0RaSKMYcHeNsQ&source=structured_search_input_header&search_type=autocomplete_click&federated_search_session_id=26317fe7-5578-4163-bd49-0b26fb9256f7&pagination_search=true&items_offset=280&section_offset=2\"\n",
    "driver = webdriver.Chrome(ChromeDriverManager().install(), options = opciones)\n",
    "\n",
    "#cookies 1\n",
    "driver.implicitly_wait(2)\n",
    "driver.get(url)\n",
    "driver.implicitly_wait(2)\n",
    "time.sleep(2)\n",
    "driver.find_element_by_css_selector(\"body > div:nth-child(7) > div > div > div:nth-child(1) > div > div._1cgcei8 > section > div._gsw2t0 > div._160gnkxa > button\").click()\n",
    "\n",
    "for i in range (1,21):\n",
    "        driver.implicitly_wait(2)\n",
    "        time.sleep(1)\n",
    "        urls_sev_1_15.append(driver.find_element_by_css_selector(f\"#site-content > div:nth-child(3) > div > div > div > div > div > div > div._1gw6tte > div > div > div > div > div > div:nth-child({i}) > div > div > div._1e541ba5 > div > div > div > div._8s3ctt > div._1nz9l7j > div > div._e296pg > div._1mx6kqf > div > span > div > a\").get_attribute(\"href\"))\n",
    "\n",
    "driver.quit()"
   ]
  },
  {
   "cell_type": "code",
   "execution_count": null,
   "id": "9f42098f",
   "metadata": {},
   "outputs": [],
   "source": [
    "len(urls_sev_1_15)"
   ]
  },
  {
   "cell_type": "code",
   "execution_count": null,
   "id": "c4cc64b5",
   "metadata": {},
   "outputs": [],
   "source": [
    "urls_sev_1 = urls_sev_1_1 + urls_sev_1_2 + urls_sev_1_3 + urls_sev_1_4 +urls_sev_1_5 + urls_sev_1_6 + urls_sev_1_7 + urls_sev_1_8 + urls_sev_1_9 + urls_sev_1_10 + urls_sev_1_11 +urls_sev_1_12 + urls_sev_1_13 + urls_sev_1_14 + urls_sev_1_15 \n"
   ]
  },
  {
   "cell_type": "code",
   "execution_count": null,
   "id": "d329d2d8",
   "metadata": {},
   "outputs": [],
   "source": [
    "#print(urls_sev_1)"
   ]
  },
  {
   "cell_type": "code",
   "execution_count": null,
   "id": "6ced2393",
   "metadata": {},
   "outputs": [],
   "source": [
    "len(urls_sev_1)"
   ]
  },
  {
   "cell_type": "code",
   "execution_count": null,
   "id": "72dc0d6a",
   "metadata": {},
   "outputs": [],
   "source": [
    "urls_sev_1 = pd.DataFrame(urls_sev_1)"
   ]
  },
  {
   "cell_type": "code",
   "execution_count": null,
   "id": "902b8af4",
   "metadata": {},
   "outputs": [],
   "source": [
    "urls_sev_1.duplicated().sum()"
   ]
  },
  {
   "cell_type": "code",
   "execution_count": null,
   "id": "e4429302",
   "metadata": {},
   "outputs": [],
   "source": [
    "urls_sev_1.to_csv(\"../data/urls_sev_1_bueno.csv\", index=False)"
   ]
  }
 ],
 "metadata": {
  "kernelspec": {
   "display_name": "ironhack",
   "language": "python",
   "name": "ironhack"
  },
  "language_info": {
   "codemirror_mode": {
    "name": "ipython",
    "version": 3
   },
   "file_extension": ".py",
   "mimetype": "text/x-python",
   "name": "python",
   "nbconvert_exporter": "python",
   "pygments_lexer": "ipython3",
   "version": "3.8.5"
  }
 },
 "nbformat": 4,
 "nbformat_minor": 5
}
