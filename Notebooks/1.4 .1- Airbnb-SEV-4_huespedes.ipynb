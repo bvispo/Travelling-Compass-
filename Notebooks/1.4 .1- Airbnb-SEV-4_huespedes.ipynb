{
 "cells": [
  {
   "cell_type": "code",
   "execution_count": 1,
   "id": "1b66949b",
   "metadata": {},
   "outputs": [],
   "source": [
    "from selenium import webdriver\n",
    "from selenium.webdriver.chrome.options import Options\n",
    "import time\n",
    "import pandas as pd\n",
    "from selenium.webdriver.support.ui import Select\n",
    "from webdriver_manager.chrome import ChromeDriverManager"
   ]
  },
  {
   "cell_type": "code",
   "execution_count": 2,
   "id": "2aaf5403",
   "metadata": {},
   "outputs": [],
   "source": [
    "opciones=Options()\n",
    "\n",
    "opciones.add_experimental_option('excludeSwitches', ['enable-automation'])\n",
    "opciones.add_experimental_option('useAutomationExtension', False)\n",
    "\n",
    "opciones.headless=False    # si True, no aperece la ventana (headless=no visible)\n",
    "\n",
    "opciones.add_argument('--start-maximized')         # comienza maximizado\n",
    "\n",
    "opciones.add_argument('user-data-dir=selenium')    # mantiene las cookies\n",
    "\n",
    "#opciones.add_extension('driver_folder/adblock.crx')       # adblocker\n",
    "\n",
    "opciones.add_argument('--incognito')              # incognito"
   ]
  },
  {
   "cell_type": "markdown",
   "id": "c4ead57f",
   "metadata": {},
   "source": [
    "# URLS"
   ]
  },
  {
   "cell_type": "markdown",
   "id": "d95e87a0",
   "metadata": {},
   "source": [
    "# Sevilla"
   ]
  },
  {
   "cell_type": "code",
   "execution_count": 3,
   "id": "0b6305da",
   "metadata": {},
   "outputs": [],
   "source": [
    "#driver.quit()"
   ]
  },
  {
   "cell_type": "code",
   "execution_count": 17,
   "id": "43444a90",
   "metadata": {},
   "outputs": [
    {
     "name": "stderr",
     "output_type": "stream",
     "text": [
      "\n",
      "\n",
      "====== WebDriver manager ======\n",
      "Current google-chrome version is 96.0.4664\n",
      "Get LATEST chromedriver version for 96.0.4664 google-chrome\n",
      "Driver [/Users/franciscovispo/.wdm/drivers/chromedriver/mac64/96.0.4664.45/chromedriver] found in cache\n",
      "<ipython-input-17-5e9a64507cfa>:5: DeprecationWarning: executable_path has been deprecated, please pass in a Service object\n",
      "  driver = webdriver.Chrome(ChromeDriverManager().install(), options = opciones)\n",
      "<ipython-input-17-5e9a64507cfa>:11: DeprecationWarning: find_element_by_* commands are deprecated. Please use find_element() instead\n",
      "  driver.find_element_by_css_selector(\"body > div:nth-child(7) > div > div > div:nth-child(1) > div > div._1cgcei8 > section > div._gsw2t0 > div._160gnkxa > button\").click()\n",
      "<ipython-input-17-5e9a64507cfa>:15: DeprecationWarning: find_element_by_* commands are deprecated. Please use find_element() instead\n",
      "  urls_sev_1_1.append(driver.find_element_by_css_selector(f\"#site-content > div:nth-child(4) > div > div > div > div > div > div > div._1gw6tte > div > div > div > div > div > div:nth-child({i}) > div > div > div.c1tbui0o.ltlgcp.dir.dir-ltr > div > div > div > div._8s3ctt > div._1nz9l7j > div > div._e296pg > div._1mx6kqf > div > span > div > a\").get_attribute(\"href\"))\n"
     ]
    }
   ],
   "source": [
    "urls_sev_1_1 = []\n",
    "\n",
    "# set the url\n",
    "url = \"https://www.airbnb.es/s/Sevilla/homes?tab_id=home_tab&refinement_paths%5B%5D=%2Fhomes&flexible_trip_dates%5B%5D=april&flexible_trip_dates%5B%5D=august&flexible_trip_dates%5B%5D=december&flexible_trip_dates%5B%5D=february&flexible_trip_dates%5B%5D=january&flexible_trip_dates%5B%5D=july&flexible_trip_dates%5B%5D=june&flexible_trip_dates%5B%5D=march&flexible_trip_dates%5B%5D=may&flexible_trip_dates%5B%5D=november&flexible_trip_dates%5B%5D=october&flexible_trip_dates%5B%5D=september&flexible_trip_lengths%5B%5D=weekend_trip&date_picker_type=flexible_dates&query=Sevilla&place_id=ChIJkWK-FBFsEg0RSFb-HGIY8DQ&adults=5&source=structured_search_input_header&search_type=autocomplete_click\"\n",
    "driver = webdriver.Chrome(ChromeDriverManager().install(), options = opciones)\n",
    "\n",
    "#cookies 1\n",
    "driver.implicitly_wait(2)\n",
    "driver.get(url)\n",
    "time.sleep(1)\n",
    "driver.find_element_by_css_selector(\"body > div:nth-child(7) > div > div > div:nth-child(1) > div > div._1cgcei8 > section > div._gsw2t0 > div._160gnkxa > button\").click()\n",
    "\n",
    "for i in range (1,21):\n",
    "        time.sleep(1)\n",
    "        urls_sev_1_1.append(driver.find_element_by_css_selector(f\"#site-content > div:nth-child(4) > div > div > div > div > div > div > div._1gw6tte > div > div > div > div > div > div:nth-child({i}) > div > div > div.c1tbui0o.ltlgcp.dir.dir-ltr > div > div > div > div._8s3ctt > div._1nz9l7j > div > div._e296pg > div._1mx6kqf > div > span > div > a\").get_attribute(\"href\"))\n",
    "        \n",
    "driver.quit()\n"
   ]
  },
  {
   "cell_type": "code",
   "execution_count": 18,
   "id": "51b32d94",
   "metadata": {},
   "outputs": [
    {
     "data": {
      "text/plain": [
       "20"
      ]
     },
     "execution_count": 18,
     "metadata": {},
     "output_type": "execute_result"
    }
   ],
   "source": [
    "len(urls_sev_1_1)"
   ]
  },
  {
   "cell_type": "code",
   "execution_count": 20,
   "id": "b29026c5",
   "metadata": {},
   "outputs": [
    {
     "name": "stderr",
     "output_type": "stream",
     "text": [
      "\n",
      "\n",
      "====== WebDriver manager ======\n",
      "Current google-chrome version is 96.0.4664\n",
      "Get LATEST chromedriver version for 96.0.4664 google-chrome\n",
      "Driver [/Users/franciscovispo/.wdm/drivers/chromedriver/mac64/96.0.4664.45/chromedriver] found in cache\n",
      "<ipython-input-20-4854653c65bc>:5: DeprecationWarning: executable_path has been deprecated, please pass in a Service object\n",
      "  driver = webdriver.Chrome(ChromeDriverManager().install(), options = opciones)\n",
      "<ipython-input-20-4854653c65bc>:12: DeprecationWarning: find_element_by_* commands are deprecated. Please use find_element() instead\n",
      "  driver.find_element_by_css_selector(\"body > div:nth-child(7) > div > div > div:nth-child(1) > div > div._1cgcei8 > section > div._gsw2t0 > div._160gnkxa > button\").click()\n",
      "<ipython-input-20-4854653c65bc>:17: DeprecationWarning: find_element_by_* commands are deprecated. Please use find_element() instead\n",
      "  urls_sev_1_2.append(driver.find_element_by_css_selector(f\"#site-content > div:nth-child(3) > div > div > div > div > div > div > div._1gw6tte > div > div > div > div > div > div:nth-child({i}) > div > div > div.c1tbui0o.ltlgcp.dir.dir-ltr > div > div > div > div._8s3ctt > div._1nz9l7j > div > div._e296pg > div._1mx6kqf > div > span > div > a\").get_attribute(\"href\"))\n"
     ]
    }
   ],
   "source": [
    "urls_sev_1_2 = []\n",
    "\n",
    "# set the url\n",
    "url = \"https://www.airbnb.es/s/Sevilla/homes?tab_id=home_tab&refinement_paths%5B%5D=%2Fhomes&flexible_trip_dates%5B%5D=april&flexible_trip_dates%5B%5D=august&flexible_trip_dates%5B%5D=december&flexible_trip_dates%5B%5D=february&flexible_trip_dates%5B%5D=january&flexible_trip_dates%5B%5D=july&flexible_trip_dates%5B%5D=june&flexible_trip_dates%5B%5D=march&flexible_trip_dates%5B%5D=may&flexible_trip_dates%5B%5D=november&flexible_trip_dates%5B%5D=october&flexible_trip_dates%5B%5D=september&flexible_trip_lengths%5B%5D=weekend_trip&date_picker_type=flexible_dates&query=Sevilla&place_id=ChIJkWK-FBFsEg0RSFb-HGIY8DQ&adults=5&source=structured_search_input_header&search_type=autocomplete_click&federated_search_session_id=39060955-b7b4-4adb-81ad-3cf086507cc6&pagination_search=true&items_offset=20&section_offset=2\"\n",
    "driver = webdriver.Chrome(ChromeDriverManager().install(), options = opciones)\n",
    "\n",
    "#cookies 1\n",
    "driver.implicitly_wait(2)\n",
    "driver.get(url)\n",
    "driver.implicitly_wait(2)\n",
    "time.sleep(2)\n",
    "driver.find_element_by_css_selector(\"body > div:nth-child(7) > div > div > div:nth-child(1) > div > div._1cgcei8 > section > div._gsw2t0 > div._160gnkxa > button\").click()\n",
    "\n",
    "for i in range (1,21):\n",
    "        driver.implicitly_wait(2)\n",
    "        time.sleep(1)\n",
    "        urls_sev_1_2.append(driver.find_element_by_css_selector(f\"#site-content > div:nth-child(3) > div > div > div > div > div > div > div._1gw6tte > div > div > div > div > div > div:nth-child({i}) > div > div > div.c1tbui0o.ltlgcp.dir.dir-ltr > div > div > div > div._8s3ctt > div._1nz9l7j > div > div._e296pg > div._1mx6kqf > div > span > div > a\").get_attribute(\"href\"))\n",
    "\n",
    "driver.quit()\n",
    "        "
   ]
  },
  {
   "cell_type": "code",
   "execution_count": 21,
   "id": "1a274900",
   "metadata": {},
   "outputs": [
    {
     "data": {
      "text/plain": [
       "20"
      ]
     },
     "execution_count": 21,
     "metadata": {},
     "output_type": "execute_result"
    }
   ],
   "source": [
    "len(urls_sev_1_2)"
   ]
  },
  {
   "cell_type": "code",
   "execution_count": 79,
   "id": "e7f03c37",
   "metadata": {},
   "outputs": [
    {
     "name": "stderr",
     "output_type": "stream",
     "text": [
      "\n",
      "\n",
      "====== WebDriver manager ======\n",
      "Current google-chrome version is 96.0.4664\n",
      "Get LATEST chromedriver version for 96.0.4664 google-chrome\n",
      "Driver [/Users/franciscovispo/.wdm/drivers/chromedriver/mac64/96.0.4664.45/chromedriver] found in cache\n",
      "<ipython-input-79-17a0e1a1b505>:5: DeprecationWarning: executable_path has been deprecated, please pass in a Service object\n",
      "  driver = webdriver.Chrome(ChromeDriverManager().install(), options = opciones)\n",
      "<ipython-input-79-17a0e1a1b505>:12: DeprecationWarning: find_element_by_* commands are deprecated. Please use find_element() instead\n",
      "  driver.find_element_by_css_selector(\"body > div:nth-child(7) > div > div > div:nth-child(1) > div > div._1cgcei8 > section > div._gsw2t0 > div._160gnkxa > button\").click()\n",
      "<ipython-input-79-17a0e1a1b505>:17: DeprecationWarning: find_element_by_* commands are deprecated. Please use find_element() instead\n",
      "  urls_sev_1_3.append(driver.find_element_by_css_selector(f\"#site-content > div:nth-child(3) > div > div > div > div > div > div > div._1gw6tte > div > div > div > div > div > div:nth-child({i}) > div > div > div.c1tbui0o.ltlgcp.dir.dir-ltr > div > div > div > div._8s3ctt > div._1nz9l7j > div > div._e296pg > div._1mx6kqf > div > span > div > a\").get_attribute(\"href\"))\n"
     ]
    }
   ],
   "source": [
    "urls_sev_1_3 = []\n",
    "\n",
    "# set the url\n",
    "url = \"https://www.airbnb.es/s/Sevilla/homes?tab_id=home_tab&refinement_paths%5B%5D=%2Fhomes&flexible_trip_dates%5B%5D=april&flexible_trip_dates%5B%5D=august&flexible_trip_dates%5B%5D=december&flexible_trip_dates%5B%5D=february&flexible_trip_dates%5B%5D=january&flexible_trip_dates%5B%5D=july&flexible_trip_dates%5B%5D=june&flexible_trip_dates%5B%5D=march&flexible_trip_dates%5B%5D=may&flexible_trip_dates%5B%5D=november&flexible_trip_dates%5B%5D=october&flexible_trip_dates%5B%5D=september&flexible_trip_lengths%5B%5D=weekend_trip&date_picker_type=flexible_dates&query=Sevilla&place_id=ChIJkWK-FBFsEg0RSFb-HGIY8DQ&adults=5&source=structured_search_input_header&search_type=autocomplete_click&federated_search_session_id=39060955-b7b4-4adb-81ad-3cf086507cc6&pagination_search=true&items_offset=40&section_offset=2\"\n",
    "driver = webdriver.Chrome(ChromeDriverManager().install(), options = opciones)\n",
    "\n",
    "#cookies 1\n",
    "driver.implicitly_wait(2)\n",
    "driver.get(url)\n",
    "driver.implicitly_wait(2)\n",
    "time.sleep(2)\n",
    "driver.find_element_by_css_selector(\"body > div:nth-child(7) > div > div > div:nth-child(1) > div > div._1cgcei8 > section > div._gsw2t0 > div._160gnkxa > button\").click()\n",
    "\n",
    "for i in range (1,21):\n",
    "        driver.implicitly_wait(2)\n",
    "        time.sleep(1)\n",
    "        urls_sev_1_3.append(driver.find_element_by_css_selector(f\"#site-content > div:nth-child(3) > div > div > div > div > div > div > div._1gw6tte > div > div > div > div > div > div:nth-child({i}) > div > div > div.c1tbui0o.ltlgcp.dir.dir-ltr > div > div > div > div._8s3ctt > div._1nz9l7j > div > div._e296pg > div._1mx6kqf > div > span > div > a\").get_attribute(\"href\"))\n",
    "\n",
    "driver.quit()"
   ]
  },
  {
   "cell_type": "code",
   "execution_count": 80,
   "id": "fb535940",
   "metadata": {},
   "outputs": [
    {
     "data": {
      "text/plain": [
       "20"
      ]
     },
     "execution_count": 80,
     "metadata": {},
     "output_type": "execute_result"
    }
   ],
   "source": [
    "len(urls_sev_1_3)"
   ]
  },
  {
   "cell_type": "code",
   "execution_count": 77,
   "id": "793236aa",
   "metadata": {},
   "outputs": [
    {
     "name": "stderr",
     "output_type": "stream",
     "text": [
      "\n",
      "\n",
      "====== WebDriver manager ======\n",
      "Current google-chrome version is 96.0.4664\n",
      "Get LATEST chromedriver version for 96.0.4664 google-chrome\n",
      "Driver [/Users/franciscovispo/.wdm/drivers/chromedriver/mac64/96.0.4664.45/chromedriver] found in cache\n",
      "<ipython-input-77-645bb489fd4f>:5: DeprecationWarning: executable_path has been deprecated, please pass in a Service object\n",
      "  driver = webdriver.Chrome(ChromeDriverManager().install(), options = opciones)\n",
      "<ipython-input-77-645bb489fd4f>:12: DeprecationWarning: find_element_by_* commands are deprecated. Please use find_element() instead\n",
      "  driver.find_element_by_css_selector(\"body > div:nth-child(7) > div > div > div:nth-child(1) > div > div._1cgcei8 > section > div._gsw2t0 > div._160gnkxa > button\").click()\n",
      "<ipython-input-77-645bb489fd4f>:17: DeprecationWarning: find_element_by_* commands are deprecated. Please use find_element() instead\n",
      "  urls_sev_1_4.append(driver.find_element_by_css_selector(f\"#site-content > div:nth-child(3) > div > div > div > div > div > div > div._1gw6tte > div > div > div > div > div > div:nth-child({i}) > div > div > div.c1tbui0o.ltlgcp.dir.dir-ltr > div > div > div > div._8s3ctt > div._1nz9l7j > div > div._e296pg > div._1mx6kqf > div > span > div > a\").get_attribute(\"href\"))\n"
     ]
    }
   ],
   "source": [
    "urls_sev_1_4 = []\n",
    "\n",
    "# set the url\n",
    "url = \"https://www.airbnb.es/s/Sevilla/homes?tab_id=home_tab&refinement_paths%5B%5D=%2Fhomes&flexible_trip_dates%5B%5D=april&flexible_trip_dates%5B%5D=august&flexible_trip_dates%5B%5D=december&flexible_trip_dates%5B%5D=february&flexible_trip_dates%5B%5D=january&flexible_trip_dates%5B%5D=july&flexible_trip_dates%5B%5D=june&flexible_trip_dates%5B%5D=march&flexible_trip_dates%5B%5D=may&flexible_trip_dates%5B%5D=november&flexible_trip_dates%5B%5D=october&flexible_trip_dates%5B%5D=september&flexible_trip_lengths%5B%5D=weekend_trip&date_picker_type=flexible_dates&query=Sevilla&place_id=ChIJkWK-FBFsEg0RSFb-HGIY8DQ&adults=5&source=structured_search_input_header&search_type=autocomplete_click&federated_search_session_id=39060955-b7b4-4adb-81ad-3cf086507cc6&pagination_search=true&items_offset=60&section_offset=2\"\n",
    "driver = webdriver.Chrome(ChromeDriverManager().install(), options = opciones)\n",
    "\n",
    "#cookies 1\n",
    "driver.implicitly_wait(2)\n",
    "driver.get(url)\n",
    "driver.implicitly_wait(2)\n",
    "time.sleep(2)\n",
    "driver.find_element_by_css_selector(\"body > div:nth-child(7) > div > div > div:nth-child(1) > div > div._1cgcei8 > section > div._gsw2t0 > div._160gnkxa > button\").click()\n",
    "\n",
    "for i in range (1,21):\n",
    "        driver.implicitly_wait(2)\n",
    "        time.sleep(1)\n",
    "        urls_sev_1_4.append(driver.find_element_by_css_selector(f\"#site-content > div:nth-child(3) > div > div > div > div > div > div > div._1gw6tte > div > div > div > div > div > div:nth-child({i}) > div > div > div.c1tbui0o.ltlgcp.dir.dir-ltr > div > div > div > div._8s3ctt > div._1nz9l7j > div > div._e296pg > div._1mx6kqf > div > span > div > a\").get_attribute(\"href\"))\n",
    "\n",
    "driver.quit()"
   ]
  },
  {
   "cell_type": "code",
   "execution_count": 78,
   "id": "1a0f28f0",
   "metadata": {},
   "outputs": [
    {
     "data": {
      "text/plain": [
       "20"
      ]
     },
     "execution_count": 78,
     "metadata": {},
     "output_type": "execute_result"
    }
   ],
   "source": [
    "len(urls_sev_1_4)"
   ]
  },
  {
   "cell_type": "code",
   "execution_count": 75,
   "id": "61679a88",
   "metadata": {},
   "outputs": [
    {
     "name": "stderr",
     "output_type": "stream",
     "text": [
      "\n",
      "\n",
      "====== WebDriver manager ======\n",
      "Current google-chrome version is 96.0.4664\n",
      "Get LATEST chromedriver version for 96.0.4664 google-chrome\n",
      "Driver [/Users/franciscovispo/.wdm/drivers/chromedriver/mac64/96.0.4664.45/chromedriver] found in cache\n",
      "<ipython-input-75-b8e3a8c24445>:5: DeprecationWarning: executable_path has been deprecated, please pass in a Service object\n",
      "  driver = webdriver.Chrome(ChromeDriverManager().install(), options = opciones)\n",
      "<ipython-input-75-b8e3a8c24445>:12: DeprecationWarning: find_element_by_* commands are deprecated. Please use find_element() instead\n",
      "  driver.find_element_by_css_selector(\"body > div:nth-child(7) > div > div > div:nth-child(1) > div > div._1cgcei8 > section > div._gsw2t0 > div._160gnkxa > button\").click()\n",
      "<ipython-input-75-b8e3a8c24445>:17: DeprecationWarning: find_element_by_* commands are deprecated. Please use find_element() instead\n",
      "  urls_sev_1_5.append(driver.find_element_by_css_selector(f\"#site-content > div:nth-child(3) > div > div > div > div > div > div > div._1gw6tte > div > div > div > div > div > div:nth-child({i}) > div > div > div.c1tbui0o.ltlgcp.dir.dir-ltr > div > div > div > div._8s3ctt > div._1nz9l7j > div > div._e296pg > div._1mx6kqf > div > span > div > a\").get_attribute(\"href\"))\n"
     ]
    }
   ],
   "source": [
    "urls_sev_1_5 = []\n",
    "\n",
    "# set the url\n",
    "url = \"https://www.airbnb.es/s/Sevilla/homes?tab_id=home_tab&refinement_paths%5B%5D=%2Fhomes&flexible_trip_dates%5B%5D=april&flexible_trip_dates%5B%5D=august&flexible_trip_dates%5B%5D=december&flexible_trip_dates%5B%5D=february&flexible_trip_dates%5B%5D=january&flexible_trip_dates%5B%5D=july&flexible_trip_dates%5B%5D=june&flexible_trip_dates%5B%5D=march&flexible_trip_dates%5B%5D=may&flexible_trip_dates%5B%5D=november&flexible_trip_dates%5B%5D=october&flexible_trip_dates%5B%5D=september&flexible_trip_lengths%5B%5D=weekend_trip&date_picker_type=flexible_dates&query=Sevilla&place_id=ChIJkWK-FBFsEg0RSFb-HGIY8DQ&adults=5&source=structured_search_input_header&search_type=autocomplete_click&federated_search_session_id=39060955-b7b4-4adb-81ad-3cf086507cc6&pagination_search=true&items_offset=80&section_offset=2\"\n",
    "driver = webdriver.Chrome(ChromeDriverManager().install(), options = opciones)\n",
    "\n",
    "#cookies 1\n",
    "driver.implicitly_wait(2)\n",
    "driver.get(url)\n",
    "driver.implicitly_wait(2)\n",
    "time.sleep(2)\n",
    "driver.find_element_by_css_selector(\"body > div:nth-child(7) > div > div > div:nth-child(1) > div > div._1cgcei8 > section > div._gsw2t0 > div._160gnkxa > button\").click()\n",
    "\n",
    "for i in range (1,21):\n",
    "        driver.implicitly_wait(2)\n",
    "        time.sleep(1)\n",
    "        urls_sev_1_5.append(driver.find_element_by_css_selector(f\"#site-content > div:nth-child(3) > div > div > div > div > div > div > div._1gw6tte > div > div > div > div > div > div:nth-child({i}) > div > div > div.c1tbui0o.ltlgcp.dir.dir-ltr > div > div > div > div._8s3ctt > div._1nz9l7j > div > div._e296pg > div._1mx6kqf > div > span > div > a\").get_attribute(\"href\"))\n",
    "\n",
    "driver.quit()"
   ]
  },
  {
   "cell_type": "code",
   "execution_count": 76,
   "id": "59b94446",
   "metadata": {},
   "outputs": [
    {
     "data": {
      "text/plain": [
       "20"
      ]
     },
     "execution_count": 76,
     "metadata": {},
     "output_type": "execute_result"
    }
   ],
   "source": [
    "len(urls_sev_1_5)"
   ]
  },
  {
   "cell_type": "code",
   "execution_count": 73,
   "id": "21c7bc85",
   "metadata": {},
   "outputs": [
    {
     "name": "stderr",
     "output_type": "stream",
     "text": [
      "\n",
      "\n",
      "====== WebDriver manager ======\n",
      "Current google-chrome version is 96.0.4664\n",
      "Get LATEST chromedriver version for 96.0.4664 google-chrome\n",
      "Driver [/Users/franciscovispo/.wdm/drivers/chromedriver/mac64/96.0.4664.45/chromedriver] found in cache\n",
      "<ipython-input-73-eabdfb2f15f8>:5: DeprecationWarning: executable_path has been deprecated, please pass in a Service object\n",
      "  driver = webdriver.Chrome(ChromeDriverManager().install(), options = opciones)\n",
      "<ipython-input-73-eabdfb2f15f8>:12: DeprecationWarning: find_element_by_* commands are deprecated. Please use find_element() instead\n",
      "  driver.find_element_by_css_selector(\"body > div:nth-child(7) > div > div > div:nth-child(1) > div > div._1cgcei8 > section > div._gsw2t0 > div._160gnkxa > button\").click()\n",
      "<ipython-input-73-eabdfb2f15f8>:17: DeprecationWarning: find_element_by_* commands are deprecated. Please use find_element() instead\n",
      "  urls_sev_1_6.append(driver.find_element_by_css_selector(f\"#site-content > div:nth-child(3) > div > div > div > div > div > div > div._1gw6tte > div > div > div > div > div > div:nth-child({i}) > div > div > div.c1tbui0o.ltlgcp.dir.dir-ltr > div > div > div > div._8s3ctt > div._1nz9l7j > div > div._e296pg > div._1mx6kqf > div > span > div > a\").get_attribute(\"href\"))\n"
     ]
    }
   ],
   "source": [
    "urls_sev_1_6 = []\n",
    "\n",
    "# set the url\n",
    "url = \"https://www.airbnb.es/s/Sevilla/homes?tab_id=home_tab&refinement_paths%5B%5D=%2Fhomes&flexible_trip_dates%5B%5D=april&flexible_trip_dates%5B%5D=august&flexible_trip_dates%5B%5D=december&flexible_trip_dates%5B%5D=february&flexible_trip_dates%5B%5D=january&flexible_trip_dates%5B%5D=july&flexible_trip_dates%5B%5D=june&flexible_trip_dates%5B%5D=march&flexible_trip_dates%5B%5D=may&flexible_trip_dates%5B%5D=november&flexible_trip_dates%5B%5D=october&flexible_trip_dates%5B%5D=september&flexible_trip_lengths%5B%5D=weekend_trip&date_picker_type=flexible_dates&query=Sevilla&place_id=ChIJkWK-FBFsEg0RSFb-HGIY8DQ&adults=5&source=structured_search_input_header&search_type=autocomplete_click&federated_search_session_id=39060955-b7b4-4adb-81ad-3cf086507cc6&pagination_search=true&items_offset=100&section_offset=2\"\n",
    "driver = webdriver.Chrome(ChromeDriverManager().install(), options = opciones)\n",
    "\n",
    "#cookies 1\n",
    "driver.implicitly_wait(2)\n",
    "driver.get(url)\n",
    "driver.implicitly_wait(2)\n",
    "time.sleep(2)\n",
    "driver.find_element_by_css_selector(\"body > div:nth-child(7) > div > div > div:nth-child(1) > div > div._1cgcei8 > section > div._gsw2t0 > div._160gnkxa > button\").click()\n",
    "\n",
    "for i in range (1,21):\n",
    "        driver.implicitly_wait(2)\n",
    "        time.sleep(1)\n",
    "        urls_sev_1_6.append(driver.find_element_by_css_selector(f\"#site-content > div:nth-child(3) > div > div > div > div > div > div > div._1gw6tte > div > div > div > div > div > div:nth-child({i}) > div > div > div.c1tbui0o.ltlgcp.dir.dir-ltr > div > div > div > div._8s3ctt > div._1nz9l7j > div > div._e296pg > div._1mx6kqf > div > span > div > a\").get_attribute(\"href\"))\n",
    "\n",
    "driver.quit()"
   ]
  },
  {
   "cell_type": "code",
   "execution_count": 74,
   "id": "1cce9fd7",
   "metadata": {},
   "outputs": [
    {
     "data": {
      "text/plain": [
       "20"
      ]
     },
     "execution_count": 74,
     "metadata": {},
     "output_type": "execute_result"
    }
   ],
   "source": [
    "len(urls_sev_1_6)"
   ]
  },
  {
   "cell_type": "code",
   "execution_count": 71,
   "id": "ad8b6e69",
   "metadata": {},
   "outputs": [
    {
     "name": "stderr",
     "output_type": "stream",
     "text": [
      "\n",
      "\n",
      "====== WebDriver manager ======\n",
      "Current google-chrome version is 96.0.4664\n",
      "Get LATEST chromedriver version for 96.0.4664 google-chrome\n",
      "Driver [/Users/franciscovispo/.wdm/drivers/chromedriver/mac64/96.0.4664.45/chromedriver] found in cache\n",
      "<ipython-input-71-8fd9bf219390>:5: DeprecationWarning: executable_path has been deprecated, please pass in a Service object\n",
      "  driver = webdriver.Chrome(ChromeDriverManager().install(), options = opciones)\n",
      "<ipython-input-71-8fd9bf219390>:12: DeprecationWarning: find_element_by_* commands are deprecated. Please use find_element() instead\n",
      "  driver.find_element_by_css_selector(\"body > div:nth-child(7) > div > div > div:nth-child(1) > div > div._1cgcei8 > section > div._gsw2t0 > div._160gnkxa > button\").click()\n",
      "<ipython-input-71-8fd9bf219390>:17: DeprecationWarning: find_element_by_* commands are deprecated. Please use find_element() instead\n",
      "  urls_sev_1_7.append(driver.find_element_by_css_selector(f\"#site-content > div:nth-child(3) > div > div > div > div > div > div > div._1gw6tte > div > div > div > div > div > div:nth-child({i}) > div > div > div.c1tbui0o.ltlgcp.dir.dir-ltr > div > div > div > div._8s3ctt > div._1nz9l7j > div > div._e296pg > div._1mx6kqf > div > span > div > a\").get_attribute(\"href\"))\n"
     ]
    }
   ],
   "source": [
    "urls_sev_1_7 = []\n",
    "\n",
    "# set the url\n",
    "url = \"https://www.airbnb.es/s/Sevilla/homes?tab_id=home_tab&refinement_paths%5B%5D=%2Fhomes&flexible_trip_dates%5B%5D=april&flexible_trip_dates%5B%5D=august&flexible_trip_dates%5B%5D=december&flexible_trip_dates%5B%5D=february&flexible_trip_dates%5B%5D=january&flexible_trip_dates%5B%5D=july&flexible_trip_dates%5B%5D=june&flexible_trip_dates%5B%5D=march&flexible_trip_dates%5B%5D=may&flexible_trip_dates%5B%5D=november&flexible_trip_dates%5B%5D=october&flexible_trip_dates%5B%5D=september&flexible_trip_lengths%5B%5D=weekend_trip&date_picker_type=flexible_dates&query=Sevilla&place_id=ChIJkWK-FBFsEg0RSFb-HGIY8DQ&adults=5&source=structured_search_input_header&search_type=autocomplete_click&federated_search_session_id=39060955-b7b4-4adb-81ad-3cf086507cc6&pagination_search=true&items_offset=120&section_offset=2\"\n",
    "driver = webdriver.Chrome(ChromeDriverManager().install(), options = opciones)\n",
    "\n",
    "#cookies 1\n",
    "driver.implicitly_wait(2)\n",
    "driver.get(url)\n",
    "driver.implicitly_wait(2)\n",
    "time.sleep(2)\n",
    "driver.find_element_by_css_selector(\"body > div:nth-child(7) > div > div > div:nth-child(1) > div > div._1cgcei8 > section > div._gsw2t0 > div._160gnkxa > button\").click()\n",
    "\n",
    "for i in range (1,21):\n",
    "        driver.implicitly_wait(2)\n",
    "        time.sleep(1)\n",
    "        urls_sev_1_7.append(driver.find_element_by_css_selector(f\"#site-content > div:nth-child(3) > div > div > div > div > div > div > div._1gw6tte > div > div > div > div > div > div:nth-child({i}) > div > div > div.c1tbui0o.ltlgcp.dir.dir-ltr > div > div > div > div._8s3ctt > div._1nz9l7j > div > div._e296pg > div._1mx6kqf > div > span > div > a\").get_attribute(\"href\"))\n",
    "\n",
    "driver.quit()"
   ]
  },
  {
   "cell_type": "code",
   "execution_count": 72,
   "id": "5f8196ee",
   "metadata": {},
   "outputs": [
    {
     "data": {
      "text/plain": [
       "20"
      ]
     },
     "execution_count": 72,
     "metadata": {},
     "output_type": "execute_result"
    }
   ],
   "source": [
    "len(urls_sev_1_7)"
   ]
  },
  {
   "cell_type": "code",
   "execution_count": 69,
   "id": "f5f18da3",
   "metadata": {},
   "outputs": [
    {
     "name": "stderr",
     "output_type": "stream",
     "text": [
      "\n",
      "\n",
      "====== WebDriver manager ======\n",
      "Current google-chrome version is 96.0.4664\n",
      "Get LATEST chromedriver version for 96.0.4664 google-chrome\n",
      "Driver [/Users/franciscovispo/.wdm/drivers/chromedriver/mac64/96.0.4664.45/chromedriver] found in cache\n",
      "<ipython-input-69-0c1a1de1efd1>:5: DeprecationWarning: executable_path has been deprecated, please pass in a Service object\n",
      "  driver = webdriver.Chrome(ChromeDriverManager().install(), options = opciones)\n",
      "<ipython-input-69-0c1a1de1efd1>:12: DeprecationWarning: find_element_by_* commands are deprecated. Please use find_element() instead\n",
      "  driver.find_element_by_css_selector(\"body > div:nth-child(7) > div > div > div:nth-child(1) > div > div._1cgcei8 > section > div._gsw2t0 > div._160gnkxa > button\").click()\n",
      "<ipython-input-69-0c1a1de1efd1>:17: DeprecationWarning: find_element_by_* commands are deprecated. Please use find_element() instead\n",
      "  urls_sev_1_8.append(driver.find_element_by_css_selector(f\"#site-content > div:nth-child(3) > div > div > div > div > div > div > div._1gw6tte > div > div > div > div > div > div:nth-child({i}) > div > div > div.c1tbui0o.ltlgcp.dir.dir-ltr > div > div > div > div._8s3ctt > div._1nz9l7j > div > div._e296pg > div._1mx6kqf > div > span > div > a\").get_attribute(\"href\"))\n"
     ]
    }
   ],
   "source": [
    "urls_sev_1_8 = []\n",
    "\n",
    "# set the url\n",
    "url = \"https://www.airbnb.es/s/Sevilla/homes?tab_id=home_tab&refinement_paths%5B%5D=%2Fhomes&flexible_trip_dates%5B%5D=april&flexible_trip_dates%5B%5D=august&flexible_trip_dates%5B%5D=december&flexible_trip_dates%5B%5D=february&flexible_trip_dates%5B%5D=january&flexible_trip_dates%5B%5D=july&flexible_trip_dates%5B%5D=june&flexible_trip_dates%5B%5D=march&flexible_trip_dates%5B%5D=may&flexible_trip_dates%5B%5D=november&flexible_trip_dates%5B%5D=october&flexible_trip_dates%5B%5D=september&flexible_trip_lengths%5B%5D=weekend_trip&date_picker_type=flexible_dates&query=Sevilla&place_id=ChIJkWK-FBFsEg0RSFb-HGIY8DQ&adults=5&source=structured_search_input_header&search_type=autocomplete_click&federated_search_session_id=39060955-b7b4-4adb-81ad-3cf086507cc6&pagination_search=true&items_offset=140&section_offset=2\"\n",
    "driver = webdriver.Chrome(ChromeDriverManager().install(), options = opciones)\n",
    "\n",
    "#cookies 1\n",
    "driver.implicitly_wait(2)\n",
    "driver.get(url)\n",
    "driver.implicitly_wait(2)\n",
    "time.sleep(2)\n",
    "driver.find_element_by_css_selector(\"body > div:nth-child(7) > div > div > div:nth-child(1) > div > div._1cgcei8 > section > div._gsw2t0 > div._160gnkxa > button\").click()\n",
    "\n",
    "for i in range (1,21):\n",
    "        driver.implicitly_wait(2)\n",
    "        time.sleep(1)\n",
    "        urls_sev_1_8.append(driver.find_element_by_css_selector(f\"#site-content > div:nth-child(3) > div > div > div > div > div > div > div._1gw6tte > div > div > div > div > div > div:nth-child({i}) > div > div > div.c1tbui0o.ltlgcp.dir.dir-ltr > div > div > div > div._8s3ctt > div._1nz9l7j > div > div._e296pg > div._1mx6kqf > div > span > div > a\").get_attribute(\"href\"))\n",
    "\n",
    "driver.quit()"
   ]
  },
  {
   "cell_type": "code",
   "execution_count": 70,
   "id": "558efede",
   "metadata": {},
   "outputs": [
    {
     "data": {
      "text/plain": [
       "20"
      ]
     },
     "execution_count": 70,
     "metadata": {},
     "output_type": "execute_result"
    }
   ],
   "source": [
    "len(urls_sev_1_8)"
   ]
  },
  {
   "cell_type": "code",
   "execution_count": 67,
   "id": "08dda8d4",
   "metadata": {},
   "outputs": [
    {
     "name": "stderr",
     "output_type": "stream",
     "text": [
      "\n",
      "\n",
      "====== WebDriver manager ======\n",
      "Current google-chrome version is 96.0.4664\n",
      "Get LATEST chromedriver version for 96.0.4664 google-chrome\n",
      "Driver [/Users/franciscovispo/.wdm/drivers/chromedriver/mac64/96.0.4664.45/chromedriver] found in cache\n",
      "<ipython-input-67-b3f0683384ab>:5: DeprecationWarning: executable_path has been deprecated, please pass in a Service object\n",
      "  driver = webdriver.Chrome(ChromeDriverManager().install(), options = opciones)\n",
      "<ipython-input-67-b3f0683384ab>:12: DeprecationWarning: find_element_by_* commands are deprecated. Please use find_element() instead\n",
      "  driver.find_element_by_css_selector(\"body > div:nth-child(7) > div > div > div:nth-child(1) > div > div._1cgcei8 > section > div._gsw2t0 > div._160gnkxa > button\").click()\n",
      "<ipython-input-67-b3f0683384ab>:17: DeprecationWarning: find_element_by_* commands are deprecated. Please use find_element() instead\n",
      "  urls_sev_1_9.append(driver.find_element_by_css_selector(f\"#site-content > div:nth-child(3) > div > div > div > div > div > div > div._1gw6tte > div > div > div > div > div > div:nth-child({i}) > div > div > div.c1tbui0o.ltlgcp.dir.dir-ltr > div > div > div > div._8s3ctt > div._1nz9l7j > div > div._e296pg > div._1mx6kqf > div > span > div > a\").get_attribute(\"href\"))\n"
     ]
    }
   ],
   "source": [
    "urls_sev_1_9 = []\n",
    "\n",
    "# set the url\n",
    "url = \"https://www.airbnb.es/s/Sevilla/homes?tab_id=home_tab&refinement_paths%5B%5D=%2Fhomes&flexible_trip_dates%5B%5D=april&flexible_trip_dates%5B%5D=august&flexible_trip_dates%5B%5D=december&flexible_trip_dates%5B%5D=february&flexible_trip_dates%5B%5D=january&flexible_trip_dates%5B%5D=july&flexible_trip_dates%5B%5D=june&flexible_trip_dates%5B%5D=march&flexible_trip_dates%5B%5D=may&flexible_trip_dates%5B%5D=november&flexible_trip_dates%5B%5D=october&flexible_trip_dates%5B%5D=september&flexible_trip_lengths%5B%5D=weekend_trip&date_picker_type=flexible_dates&query=Sevilla&place_id=ChIJkWK-FBFsEg0RSFb-HGIY8DQ&adults=5&source=structured_search_input_header&search_type=autocomplete_click&federated_search_session_id=39060955-b7b4-4adb-81ad-3cf086507cc6&pagination_search=true&items_offset=160&section_offset=2\"\n",
    "driver = webdriver.Chrome(ChromeDriverManager().install(), options = opciones)\n",
    "\n",
    "#cookies 1\n",
    "driver.implicitly_wait(2)\n",
    "driver.get(url)\n",
    "driver.implicitly_wait(2)\n",
    "time.sleep(2)\n",
    "driver.find_element_by_css_selector(\"body > div:nth-child(7) > div > div > div:nth-child(1) > div > div._1cgcei8 > section > div._gsw2t0 > div._160gnkxa > button\").click()\n",
    "\n",
    "for i in range (1,21):\n",
    "        driver.implicitly_wait(2)\n",
    "        time.sleep(1)\n",
    "        urls_sev_1_9.append(driver.find_element_by_css_selector(f\"#site-content > div:nth-child(3) > div > div > div > div > div > div > div._1gw6tte > div > div > div > div > div > div:nth-child({i}) > div > div > div.c1tbui0o.ltlgcp.dir.dir-ltr > div > div > div > div._8s3ctt > div._1nz9l7j > div > div._e296pg > div._1mx6kqf > div > span > div > a\").get_attribute(\"href\"))\n",
    "\n",
    "driver.quit()"
   ]
  },
  {
   "cell_type": "code",
   "execution_count": 68,
   "id": "d3661785",
   "metadata": {},
   "outputs": [
    {
     "data": {
      "text/plain": [
       "20"
      ]
     },
     "execution_count": 68,
     "metadata": {},
     "output_type": "execute_result"
    }
   ],
   "source": [
    "len(urls_sev_1_9)"
   ]
  },
  {
   "cell_type": "code",
   "execution_count": 65,
   "id": "ffa3657f",
   "metadata": {},
   "outputs": [
    {
     "name": "stderr",
     "output_type": "stream",
     "text": [
      "\n",
      "\n",
      "====== WebDriver manager ======\n",
      "Current google-chrome version is 96.0.4664\n",
      "Get LATEST chromedriver version for 96.0.4664 google-chrome\n",
      "Driver [/Users/franciscovispo/.wdm/drivers/chromedriver/mac64/96.0.4664.45/chromedriver] found in cache\n",
      "<ipython-input-65-616b40fd3b5a>:5: DeprecationWarning: executable_path has been deprecated, please pass in a Service object\n",
      "  driver = webdriver.Chrome(ChromeDriverManager().install(), options = opciones)\n",
      "<ipython-input-65-616b40fd3b5a>:12: DeprecationWarning: find_element_by_* commands are deprecated. Please use find_element() instead\n",
      "  driver.find_element_by_css_selector(\"body > div:nth-child(7) > div > div > div:nth-child(1) > div > div._1cgcei8 > section > div._gsw2t0 > div._160gnkxa > button\").click()\n",
      "<ipython-input-65-616b40fd3b5a>:17: DeprecationWarning: find_element_by_* commands are deprecated. Please use find_element() instead\n",
      "  urls_sev_1_10.append(driver.find_element_by_css_selector(f\"#site-content > div:nth-child(3) > div > div > div > div > div > div > div._1gw6tte > div > div > div > div > div > div:nth-child({i}) > div > div > div.c1tbui0o.ltlgcp.dir.dir-ltr > div > div > div > div._8s3ctt > div._1nz9l7j > div > div._e296pg > div._1mx6kqf > div > span > div > a\").get_attribute(\"href\"))\n"
     ]
    }
   ],
   "source": [
    "urls_sev_1_10 = []\n",
    "\n",
    "# set the url\n",
    "url = \"https://www.airbnb.es/s/Sevilla/homes?tab_id=home_tab&refinement_paths%5B%5D=%2Fhomes&flexible_trip_dates%5B%5D=april&flexible_trip_dates%5B%5D=august&flexible_trip_dates%5B%5D=december&flexible_trip_dates%5B%5D=february&flexible_trip_dates%5B%5D=january&flexible_trip_dates%5B%5D=july&flexible_trip_dates%5B%5D=june&flexible_trip_dates%5B%5D=march&flexible_trip_dates%5B%5D=may&flexible_trip_dates%5B%5D=november&flexible_trip_dates%5B%5D=october&flexible_trip_dates%5B%5D=september&flexible_trip_lengths%5B%5D=weekend_trip&date_picker_type=flexible_dates&query=Sevilla&place_id=ChIJkWK-FBFsEg0RSFb-HGIY8DQ&adults=5&source=structured_search_input_header&search_type=autocomplete_click&federated_search_session_id=39060955-b7b4-4adb-81ad-3cf086507cc6&pagination_search=true&items_offset=180&section_offset=2\"\n",
    "driver = webdriver.Chrome(ChromeDriverManager().install(), options = opciones)\n",
    "\n",
    "#cookies 1\n",
    "driver.implicitly_wait(2)\n",
    "driver.get(url)\n",
    "driver.implicitly_wait(2)\n",
    "time.sleep(2)\n",
    "driver.find_element_by_css_selector(\"body > div:nth-child(7) > div > div > div:nth-child(1) > div > div._1cgcei8 > section > div._gsw2t0 > div._160gnkxa > button\").click()\n",
    "\n",
    "for i in range (1,21):\n",
    "        driver.implicitly_wait(2)\n",
    "        time.sleep(1)\n",
    "        urls_sev_1_10.append(driver.find_element_by_css_selector(f\"#site-content > div:nth-child(3) > div > div > div > div > div > div > div._1gw6tte > div > div > div > div > div > div:nth-child({i}) > div > div > div.c1tbui0o.ltlgcp.dir.dir-ltr > div > div > div > div._8s3ctt > div._1nz9l7j > div > div._e296pg > div._1mx6kqf > div > span > div > a\").get_attribute(\"href\"))\n",
    "\n",
    "driver.quit()"
   ]
  },
  {
   "cell_type": "code",
   "execution_count": 66,
   "id": "21776c66",
   "metadata": {},
   "outputs": [
    {
     "data": {
      "text/plain": [
       "20"
      ]
     },
     "execution_count": 66,
     "metadata": {},
     "output_type": "execute_result"
    }
   ],
   "source": [
    "len(urls_sev_1_10)"
   ]
  },
  {
   "cell_type": "code",
   "execution_count": 63,
   "id": "b2ed7a7c",
   "metadata": {},
   "outputs": [
    {
     "name": "stderr",
     "output_type": "stream",
     "text": [
      "\n",
      "\n",
      "====== WebDriver manager ======\n",
      "Current google-chrome version is 96.0.4664\n",
      "Get LATEST chromedriver version for 96.0.4664 google-chrome\n",
      "Driver [/Users/franciscovispo/.wdm/drivers/chromedriver/mac64/96.0.4664.45/chromedriver] found in cache\n",
      "<ipython-input-63-73ae69361b39>:5: DeprecationWarning: executable_path has been deprecated, please pass in a Service object\n",
      "  driver = webdriver.Chrome(ChromeDriverManager().install(), options = opciones)\n",
      "<ipython-input-63-73ae69361b39>:12: DeprecationWarning: find_element_by_* commands are deprecated. Please use find_element() instead\n",
      "  driver.find_element_by_css_selector(\"body > div:nth-child(7) > div > div > div:nth-child(1) > div > div._1cgcei8 > section > div._gsw2t0 > div._160gnkxa > button\").click()\n",
      "<ipython-input-63-73ae69361b39>:17: DeprecationWarning: find_element_by_* commands are deprecated. Please use find_element() instead\n",
      "  urls_sev_1_11.append(driver.find_element_by_css_selector(f\"#site-content > div:nth-child(3) > div > div > div > div > div > div > div._1gw6tte > div > div > div > div > div > div:nth-child({i}) > div > div > div.c1tbui0o.ltlgcp.dir.dir-ltr > div > div > div > div._8s3ctt > div._1nz9l7j > div > div._e296pg > div._1mx6kqf > div > span > div > a\").get_attribute(\"href\"))\n"
     ]
    }
   ],
   "source": [
    "urls_sev_1_11 = []\n",
    "\n",
    "# set the url\n",
    "url = \"https://www.airbnb.es/s/Sevilla/homes?tab_id=home_tab&refinement_paths%5B%5D=%2Fhomes&flexible_trip_dates%5B%5D=april&flexible_trip_dates%5B%5D=august&flexible_trip_dates%5B%5D=december&flexible_trip_dates%5B%5D=february&flexible_trip_dates%5B%5D=january&flexible_trip_dates%5B%5D=july&flexible_trip_dates%5B%5D=june&flexible_trip_dates%5B%5D=march&flexible_trip_dates%5B%5D=may&flexible_trip_dates%5B%5D=november&flexible_trip_dates%5B%5D=october&flexible_trip_dates%5B%5D=september&flexible_trip_lengths%5B%5D=weekend_trip&date_picker_type=flexible_dates&query=Sevilla&place_id=ChIJkWK-FBFsEg0RSFb-HGIY8DQ&adults=5&source=structured_search_input_header&search_type=autocomplete_click&federated_search_session_id=39060955-b7b4-4adb-81ad-3cf086507cc6&pagination_search=true&items_offset=200&section_offset=2\"\n",
    "driver = webdriver.Chrome(ChromeDriverManager().install(), options = opciones)\n",
    "\n",
    "#cookies 1\n",
    "driver.implicitly_wait(2)\n",
    "driver.get(url)\n",
    "driver.implicitly_wait(2)\n",
    "time.sleep(2)\n",
    "driver.find_element_by_css_selector(\"body > div:nth-child(7) > div > div > div:nth-child(1) > div > div._1cgcei8 > section > div._gsw2t0 > div._160gnkxa > button\").click()\n",
    "\n",
    "for i in range (1,21):\n",
    "        driver.implicitly_wait(2)\n",
    "        time.sleep(1)\n",
    "        urls_sev_1_11.append(driver.find_element_by_css_selector(f\"#site-content > div:nth-child(3) > div > div > div > div > div > div > div._1gw6tte > div > div > div > div > div > div:nth-child({i}) > div > div > div.c1tbui0o.ltlgcp.dir.dir-ltr > div > div > div > div._8s3ctt > div._1nz9l7j > div > div._e296pg > div._1mx6kqf > div > span > div > a\").get_attribute(\"href\"))\n",
    "\n",
    "driver.quit()"
   ]
  },
  {
   "cell_type": "code",
   "execution_count": 64,
   "id": "6f03c5d9",
   "metadata": {},
   "outputs": [
    {
     "data": {
      "text/plain": [
       "20"
      ]
     },
     "execution_count": 64,
     "metadata": {},
     "output_type": "execute_result"
    }
   ],
   "source": [
    "len(urls_sev_1_11)"
   ]
  },
  {
   "cell_type": "code",
   "execution_count": 61,
   "id": "90214439",
   "metadata": {},
   "outputs": [
    {
     "name": "stderr",
     "output_type": "stream",
     "text": [
      "\n",
      "\n",
      "====== WebDriver manager ======\n",
      "Current google-chrome version is 96.0.4664\n",
      "Get LATEST chromedriver version for 96.0.4664 google-chrome\n",
      "Driver [/Users/franciscovispo/.wdm/drivers/chromedriver/mac64/96.0.4664.45/chromedriver] found in cache\n",
      "<ipython-input-61-abf1553d8117>:5: DeprecationWarning: executable_path has been deprecated, please pass in a Service object\n",
      "  driver = webdriver.Chrome(ChromeDriverManager().install(), options = opciones)\n",
      "<ipython-input-61-abf1553d8117>:12: DeprecationWarning: find_element_by_* commands are deprecated. Please use find_element() instead\n",
      "  driver.find_element_by_css_selector(\"body > div:nth-child(7) > div > div > div:nth-child(1) > div > div._1cgcei8 > section > div._gsw2t0 > div._160gnkxa > button\").click()\n",
      "<ipython-input-61-abf1553d8117>:17: DeprecationWarning: find_element_by_* commands are deprecated. Please use find_element() instead\n",
      "  urls_sev_1_12.append(driver.find_element_by_css_selector(f\"#site-content > div:nth-child(3) > div > div > div > div > div > div > div._1gw6tte > div > div > div > div > div > div:nth-child({i}) > div > div > div.c1tbui0o.ltlgcp.dir.dir-ltr > div > div > div > div._8s3ctt > div._1nz9l7j > div > div._e296pg > div._1mx6kqf > div > span > div > a\").get_attribute(\"href\"))\n"
     ]
    }
   ],
   "source": [
    "urls_sev_1_12 = []\n",
    "\n",
    "# set the url\n",
    "url = \"https://www.airbnb.es/s/Sevilla/homes?tab_id=home_tab&refinement_paths%5B%5D=%2Fhomes&flexible_trip_dates%5B%5D=april&flexible_trip_dates%5B%5D=august&flexible_trip_dates%5B%5D=december&flexible_trip_dates%5B%5D=february&flexible_trip_dates%5B%5D=january&flexible_trip_dates%5B%5D=july&flexible_trip_dates%5B%5D=june&flexible_trip_dates%5B%5D=march&flexible_trip_dates%5B%5D=may&flexible_trip_dates%5B%5D=november&flexible_trip_dates%5B%5D=october&flexible_trip_dates%5B%5D=september&flexible_trip_lengths%5B%5D=weekend_trip&date_picker_type=flexible_dates&query=Sevilla&place_id=ChIJkWK-FBFsEg0RSFb-HGIY8DQ&adults=5&source=structured_search_input_header&search_type=autocomplete_click&federated_search_session_id=39060955-b7b4-4adb-81ad-3cf086507cc6&pagination_search=true&items_offset=220&section_offset=2\"\n",
    "driver = webdriver.Chrome(ChromeDriverManager().install(), options = opciones)\n",
    "\n",
    "#cookies 1\n",
    "driver.implicitly_wait(2)\n",
    "driver.get(url)\n",
    "driver.implicitly_wait(2)\n",
    "time.sleep(2)\n",
    "driver.find_element_by_css_selector(\"body > div:nth-child(7) > div > div > div:nth-child(1) > div > div._1cgcei8 > section > div._gsw2t0 > div._160gnkxa > button\").click()\n",
    "\n",
    "for i in range (1,21):\n",
    "        driver.implicitly_wait(2)\n",
    "        time.sleep(1)\n",
    "        urls_sev_1_12.append(driver.find_element_by_css_selector(f\"#site-content > div:nth-child(3) > div > div > div > div > div > div > div._1gw6tte > div > div > div > div > div > div:nth-child({i}) > div > div > div.c1tbui0o.ltlgcp.dir.dir-ltr > div > div > div > div._8s3ctt > div._1nz9l7j > div > div._e296pg > div._1mx6kqf > div > span > div > a\").get_attribute(\"href\"))\n",
    "\n",
    "driver.quit()"
   ]
  },
  {
   "cell_type": "code",
   "execution_count": 62,
   "id": "91ae2045",
   "metadata": {},
   "outputs": [
    {
     "data": {
      "text/plain": [
       "20"
      ]
     },
     "execution_count": 62,
     "metadata": {},
     "output_type": "execute_result"
    }
   ],
   "source": [
    "len(urls_sev_1_12)"
   ]
  },
  {
   "cell_type": "code",
   "execution_count": 59,
   "id": "0f209dbf",
   "metadata": {},
   "outputs": [
    {
     "name": "stderr",
     "output_type": "stream",
     "text": [
      "\n",
      "\n",
      "====== WebDriver manager ======\n",
      "Current google-chrome version is 96.0.4664\n",
      "Get LATEST chromedriver version for 96.0.4664 google-chrome\n",
      "Driver [/Users/franciscovispo/.wdm/drivers/chromedriver/mac64/96.0.4664.45/chromedriver] found in cache\n",
      "<ipython-input-59-f970b899996c>:5: DeprecationWarning: executable_path has been deprecated, please pass in a Service object\n",
      "  driver = webdriver.Chrome(ChromeDriverManager().install(), options = opciones)\n",
      "<ipython-input-59-f970b899996c>:12: DeprecationWarning: find_element_by_* commands are deprecated. Please use find_element() instead\n",
      "  driver.find_element_by_css_selector(\"body > div:nth-child(7) > div > div > div:nth-child(1) > div > div._1cgcei8 > section > div._gsw2t0 > div._160gnkxa > button\").click()\n",
      "<ipython-input-59-f970b899996c>:17: DeprecationWarning: find_element_by_* commands are deprecated. Please use find_element() instead\n",
      "  urls_sev_1_13.append(driver.find_element_by_css_selector(f\"#site-content > div:nth-child(3) > div > div > div > div > div > div > div._1gw6tte > div > div > div > div > div > div:nth-child({i}) > div > div > div.c1tbui0o.ltlgcp.dir.dir-ltr > div > div > div > div._8s3ctt > div._1nz9l7j > div > div._e296pg > div._1mx6kqf > div > span > div > a\").get_attribute(\"href\"))\n"
     ]
    }
   ],
   "source": [
    "urls_sev_1_13 = []\n",
    "\n",
    "# set the url\n",
    "url = \"https://www.airbnb.es/s/Sevilla/homes?tab_id=home_tab&refinement_paths%5B%5D=%2Fhomes&flexible_trip_dates%5B%5D=april&flexible_trip_dates%5B%5D=august&flexible_trip_dates%5B%5D=december&flexible_trip_dates%5B%5D=february&flexible_trip_dates%5B%5D=january&flexible_trip_dates%5B%5D=july&flexible_trip_dates%5B%5D=june&flexible_trip_dates%5B%5D=march&flexible_trip_dates%5B%5D=may&flexible_trip_dates%5B%5D=november&flexible_trip_dates%5B%5D=october&flexible_trip_dates%5B%5D=september&flexible_trip_lengths%5B%5D=weekend_trip&date_picker_type=flexible_dates&query=Sevilla&place_id=ChIJkWK-FBFsEg0RSFb-HGIY8DQ&adults=5&source=structured_search_input_header&search_type=autocomplete_click&federated_search_session_id=39060955-b7b4-4adb-81ad-3cf086507cc6&pagination_search=true&items_offset=240&section_offset=2\"\n",
    "driver = webdriver.Chrome(ChromeDriverManager().install(), options = opciones)\n",
    "\n",
    "#cookies 1\n",
    "driver.implicitly_wait(2)\n",
    "driver.get(url)\n",
    "driver.implicitly_wait(2)\n",
    "time.sleep(2)\n",
    "driver.find_element_by_css_selector(\"body > div:nth-child(7) > div > div > div:nth-child(1) > div > div._1cgcei8 > section > div._gsw2t0 > div._160gnkxa > button\").click()\n",
    "\n",
    "for i in range (1,21):\n",
    "        driver.implicitly_wait(2)\n",
    "        time.sleep(1)\n",
    "        urls_sev_1_13.append(driver.find_element_by_css_selector(f\"#site-content > div:nth-child(3) > div > div > div > div > div > div > div._1gw6tte > div > div > div > div > div > div:nth-child({i}) > div > div > div.c1tbui0o.ltlgcp.dir.dir-ltr > div > div > div > div._8s3ctt > div._1nz9l7j > div > div._e296pg > div._1mx6kqf > div > span > div > a\").get_attribute(\"href\"))\n",
    "\n",
    "driver.quit()"
   ]
  },
  {
   "cell_type": "code",
   "execution_count": 60,
   "id": "c6ec7ce1",
   "metadata": {},
   "outputs": [
    {
     "data": {
      "text/plain": [
       "20"
      ]
     },
     "execution_count": 60,
     "metadata": {},
     "output_type": "execute_result"
    }
   ],
   "source": [
    "len(urls_sev_1_13)"
   ]
  },
  {
   "cell_type": "code",
   "execution_count": 57,
   "id": "3c2b02a8",
   "metadata": {},
   "outputs": [
    {
     "name": "stderr",
     "output_type": "stream",
     "text": [
      "\n",
      "\n",
      "====== WebDriver manager ======\n",
      "Current google-chrome version is 96.0.4664\n",
      "Get LATEST chromedriver version for 96.0.4664 google-chrome\n",
      "Driver [/Users/franciscovispo/.wdm/drivers/chromedriver/mac64/96.0.4664.45/chromedriver] found in cache\n",
      "<ipython-input-57-ce5f5e9c5266>:5: DeprecationWarning: executable_path has been deprecated, please pass in a Service object\n",
      "  driver = webdriver.Chrome(ChromeDriverManager().install(), options = opciones)\n",
      "<ipython-input-57-ce5f5e9c5266>:12: DeprecationWarning: find_element_by_* commands are deprecated. Please use find_element() instead\n",
      "  driver.find_element_by_css_selector(\"body > div:nth-child(7) > div > div > div:nth-child(1) > div > div._1cgcei8 > section > div._gsw2t0 > div._160gnkxa > button\").click()\n",
      "<ipython-input-57-ce5f5e9c5266>:17: DeprecationWarning: find_element_by_* commands are deprecated. Please use find_element() instead\n",
      "  urls_sev_1_14.append(driver.find_element_by_css_selector(f\"#site-content > div:nth-child(3) > div > div > div > div > div > div > div._1gw6tte > div > div > div > div > div > div:nth-child({i}) > div > div > div.c1tbui0o.ltlgcp.dir.dir-ltr > div > div > div > div._8s3ctt > div._1nz9l7j > div > div._e296pg > div._1mx6kqf > div > span > div > a\").get_attribute(\"href\"))\n"
     ]
    }
   ],
   "source": [
    "urls_sev_1_14 = []\n",
    "\n",
    "# set the url\n",
    "url = \"https://www.airbnb.es/s/Sevilla/homes?tab_id=home_tab&refinement_paths%5B%5D=%2Fhomes&flexible_trip_dates%5B%5D=april&flexible_trip_dates%5B%5D=august&flexible_trip_dates%5B%5D=december&flexible_trip_dates%5B%5D=february&flexible_trip_dates%5B%5D=january&flexible_trip_dates%5B%5D=july&flexible_trip_dates%5B%5D=june&flexible_trip_dates%5B%5D=march&flexible_trip_dates%5B%5D=may&flexible_trip_dates%5B%5D=november&flexible_trip_dates%5B%5D=october&flexible_trip_dates%5B%5D=september&flexible_trip_lengths%5B%5D=weekend_trip&date_picker_type=flexible_dates&query=Sevilla&place_id=ChIJkWK-FBFsEg0RSFb-HGIY8DQ&adults=5&source=structured_search_input_header&search_type=autocomplete_click&federated_search_session_id=39060955-b7b4-4adb-81ad-3cf086507cc6&pagination_search=true&items_offset=260&section_offset=2\"\n",
    "driver = webdriver.Chrome(ChromeDriverManager().install(), options = opciones)\n",
    "\n",
    "#cookies 1\n",
    "driver.implicitly_wait(2)\n",
    "driver.get(url)\n",
    "driver.implicitly_wait(2)\n",
    "time.sleep(2)\n",
    "driver.find_element_by_css_selector(\"body > div:nth-child(7) > div > div > div:nth-child(1) > div > div._1cgcei8 > section > div._gsw2t0 > div._160gnkxa > button\").click()\n",
    "\n",
    "for i in range (1,21):\n",
    "        driver.implicitly_wait(2)\n",
    "        time.sleep(1)\n",
    "        urls_sev_1_14.append(driver.find_element_by_css_selector(f\"#site-content > div:nth-child(3) > div > div > div > div > div > div > div._1gw6tte > div > div > div > div > div > div:nth-child({i}) > div > div > div.c1tbui0o.ltlgcp.dir.dir-ltr > div > div > div > div._8s3ctt > div._1nz9l7j > div > div._e296pg > div._1mx6kqf > div > span > div > a\").get_attribute(\"href\"))\n",
    "\n",
    "driver.quit()"
   ]
  },
  {
   "cell_type": "code",
   "execution_count": 58,
   "id": "f0d3c56c",
   "metadata": {},
   "outputs": [
    {
     "data": {
      "text/plain": [
       "20"
      ]
     },
     "execution_count": 58,
     "metadata": {},
     "output_type": "execute_result"
    }
   ],
   "source": [
    "len(urls_sev_1_14)"
   ]
  },
  {
   "cell_type": "code",
   "execution_count": 55,
   "id": "2f375925",
   "metadata": {},
   "outputs": [
    {
     "name": "stderr",
     "output_type": "stream",
     "text": [
      "\n",
      "\n",
      "====== WebDriver manager ======\n",
      "Current google-chrome version is 96.0.4664\n",
      "Get LATEST chromedriver version for 96.0.4664 google-chrome\n",
      "Driver [/Users/franciscovispo/.wdm/drivers/chromedriver/mac64/96.0.4664.45/chromedriver] found in cache\n",
      "<ipython-input-55-37f22a8787a6>:5: DeprecationWarning: executable_path has been deprecated, please pass in a Service object\n",
      "  driver = webdriver.Chrome(ChromeDriverManager().install(), options = opciones)\n",
      "<ipython-input-55-37f22a8787a6>:12: DeprecationWarning: find_element_by_* commands are deprecated. Please use find_element() instead\n",
      "  driver.find_element_by_css_selector(\"body > div:nth-child(7) > div > div > div:nth-child(1) > div > div._1cgcei8 > section > div._gsw2t0 > div._160gnkxa > button\").click()\n",
      "<ipython-input-55-37f22a8787a6>:17: DeprecationWarning: find_element_by_* commands are deprecated. Please use find_element() instead\n",
      "  urls_sev_1_15.append(driver.find_element_by_css_selector(f\"#site-content > div:nth-child(3) > div > div > div > div > div > div > div._1gw6tte > div > div > div > div > div > div:nth-child({i}) > div > div > div.c1tbui0o.ltlgcp.dir.dir-ltr > div > div > div > div._8s3ctt > div._1nz9l7j > div > div._e296pg > div._1mx6kqf > div > span > div > a\").get_attribute(\"href\"))\n"
     ]
    }
   ],
   "source": [
    "urls_sev_1_15 = []\n",
    "\n",
    "# set the url\n",
    "url = \"https://www.airbnb.es/s/Sevilla/homes?tab_id=home_tab&refinement_paths%5B%5D=%2Fhomes&flexible_trip_dates%5B%5D=april&flexible_trip_dates%5B%5D=august&flexible_trip_dates%5B%5D=december&flexible_trip_dates%5B%5D=february&flexible_trip_dates%5B%5D=january&flexible_trip_dates%5B%5D=july&flexible_trip_dates%5B%5D=june&flexible_trip_dates%5B%5D=march&flexible_trip_dates%5B%5D=may&flexible_trip_dates%5B%5D=november&flexible_trip_dates%5B%5D=october&flexible_trip_dates%5B%5D=september&flexible_trip_lengths%5B%5D=weekend_trip&date_picker_type=flexible_dates&query=Sevilla&place_id=ChIJkWK-FBFsEg0RSFb-HGIY8DQ&adults=5&source=structured_search_input_header&search_type=autocomplete_click&federated_search_session_id=39060955-b7b4-4adb-81ad-3cf086507cc6&pagination_search=true&items_offset=280&section_offset=2\"\n",
    "driver = webdriver.Chrome(ChromeDriverManager().install(), options = opciones)\n",
    "\n",
    "#cookies 1\n",
    "driver.implicitly_wait(2)\n",
    "driver.get(url)\n",
    "driver.implicitly_wait(2)\n",
    "time.sleep(2)\n",
    "driver.find_element_by_css_selector(\"body > div:nth-child(7) > div > div > div:nth-child(1) > div > div._1cgcei8 > section > div._gsw2t0 > div._160gnkxa > button\").click()\n",
    "\n",
    "for i in range (1,21):\n",
    "        driver.implicitly_wait(2)\n",
    "        time.sleep(1)\n",
    "        urls_sev_1_15.append(driver.find_element_by_css_selector(f\"#site-content > div:nth-child(3) > div > div > div > div > div > div > div._1gw6tte > div > div > div > div > div > div:nth-child({i}) > div > div > div.c1tbui0o.ltlgcp.dir.dir-ltr > div > div > div > div._8s3ctt > div._1nz9l7j > div > div._e296pg > div._1mx6kqf > div > span > div > a\").get_attribute(\"href\"))\n",
    "\n",
    "driver.quit()"
   ]
  },
  {
   "cell_type": "code",
   "execution_count": 56,
   "id": "9f42098f",
   "metadata": {},
   "outputs": [
    {
     "data": {
      "text/plain": [
       "20"
      ]
     },
     "execution_count": 56,
     "metadata": {},
     "output_type": "execute_result"
    }
   ],
   "source": [
    "len(urls_sev_1_15)"
   ]
  },
  {
   "cell_type": "code",
   "execution_count": 87,
   "id": "c4cc64b5",
   "metadata": {},
   "outputs": [],
   "source": [
    "urls_sev_1 = urls_sev_1_1 + urls_sev_1_2 + urls_sev_1_3 + urls_sev_1_4 +urls_sev_1_5 + urls_sev_1_6 + urls_sev_1_7 + urls_sev_1_8 + urls_sev_1_9 + urls_sev_1_10 + urls_sev_1_11 +urls_sev_1_12 + urls_sev_1_13 + urls_sev_1_14 + urls_sev_1_15 \n"
   ]
  },
  {
   "cell_type": "code",
   "execution_count": 89,
   "id": "d329d2d8",
   "metadata": {},
   "outputs": [],
   "source": [
    "#print(urls_sev_1)"
   ]
  },
  {
   "cell_type": "code",
   "execution_count": 82,
   "id": "6ced2393",
   "metadata": {},
   "outputs": [
    {
     "data": {
      "text/plain": [
       "300"
      ]
     },
     "execution_count": 82,
     "metadata": {},
     "output_type": "execute_result"
    }
   ],
   "source": [
    "len(urls_sev_1)"
   ]
  },
  {
   "cell_type": "code",
   "execution_count": 83,
   "id": "72dc0d6a",
   "metadata": {},
   "outputs": [],
   "source": [
    "urls_sev_1 = pd.DataFrame(urls_sev_1)"
   ]
  },
  {
   "cell_type": "code",
   "execution_count": 84,
   "id": "902b8af4",
   "metadata": {},
   "outputs": [
    {
     "data": {
      "text/plain": [
       "0"
      ]
     },
     "execution_count": 84,
     "metadata": {},
     "output_type": "execute_result"
    }
   ],
   "source": [
    "urls_sev_1.duplicated().sum()"
   ]
  },
  {
   "cell_type": "code",
   "execution_count": 85,
   "id": "e4429302",
   "metadata": {},
   "outputs": [],
   "source": [
    "urls_sev_1.to_csv(\"../data/urls_sev_2_bueno.csv\", index=False)"
   ]
  }
 ],
 "metadata": {
  "kernelspec": {
   "display_name": "ironhack",
   "language": "python",
   "name": "ironhack"
  },
  "language_info": {
   "codemirror_mode": {
    "name": "ipython",
    "version": 3
   },
   "file_extension": ".py",
   "mimetype": "text/x-python",
   "name": "python",
   "nbconvert_exporter": "python",
   "pygments_lexer": "ipython3",
   "version": "3.8.5"
  }
 },
 "nbformat": 4,
 "nbformat_minor": 5
}
