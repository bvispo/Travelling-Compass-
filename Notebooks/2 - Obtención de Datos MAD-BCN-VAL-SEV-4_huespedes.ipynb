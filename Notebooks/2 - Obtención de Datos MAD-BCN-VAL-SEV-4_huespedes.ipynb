{
 "cells": [
  {
   "cell_type": "markdown",
   "id": "07a56832",
   "metadata": {},
   "source": [
    "1. Importo librerías"
   ]
  },
  {
   "cell_type": "code",
   "execution_count": 1,
   "id": "12d6f6c5",
   "metadata": {},
   "outputs": [],
   "source": [
    "from selenium import webdriver\n",
    "from selenium.webdriver.chrome.options import Options\n",
    "import time\n",
    "import pandas as pd\n",
    "from selenium.webdriver.support.ui import Select\n",
    "from webdriver_manager.chrome import ChromeDriverManager"
   ]
  },
  {
   "cell_type": "markdown",
   "id": "45859b25",
   "metadata": {},
   "source": [
    "2. Configuración Selenium"
   ]
  },
  {
   "cell_type": "code",
   "execution_count": 2,
   "id": "cf1dc82a",
   "metadata": {},
   "outputs": [],
   "source": [
    "opciones=Options()\n",
    "\n",
    "opciones.add_experimental_option('excludeSwitches', ['enable-automation'])\n",
    "opciones.add_experimental_option('useAutomationExtension', False)\n",
    "\n",
    "opciones.headless=False    # si True, no aperece la ventana (headless=no visible)\n",
    "\n",
    "opciones.add_argument('--start-maximized')         # comienza maximizado\n",
    "\n",
    "opciones.add_argument('user-data-dir=selenium')    # mantiene las cookies\n",
    "\n",
    "#opciones.add_extension('driver_folder/adblock.crx')       # adblocker\n",
    "\n",
    "opciones.add_argument('--incognito')              # incognito"
   ]
  },
  {
   "cell_type": "markdown",
   "id": "4dc9b96e",
   "metadata": {},
   "source": [
    "3. Importo lista de URLS"
   ]
  },
  {
   "cell_type": "code",
   "execution_count": null,
   "id": "eea0e869",
   "metadata": {},
   "outputs": [],
   "source": [
    "urls_m = ['ttps://www.airbnb.es/rooms/47064030?adults=5&children=0&infants=0&check_in=2022-10-21&check_out=2022-10-23&previous_page_section_name=1000&federated_search_id=e5fd26a4-b86f-44cc-a613-6027884c8480', 'https://www.airbnb.es/rooms/49464305?adults=5&children=0&infants=0&check_in=2022-06-10&check_out=2022-06-12&previous_page_section_name=1000&federated_search_id=e5fd26a4-b86f-44cc-a613-6027884c8480', 'https://www.airbnb.es/rooms/26951188?adults=5&children=0&infants=0&check_in=2022-06-03&check_out=2022-06-05&previous_page_section_name=1000&federated_search_id=e5fd26a4-b86f-44cc-a613-6027884c8480', 'https://www.airbnb.es/rooms/18093383?adults=5&children=0&infants=0&check_in=2022-05-27&check_out=2022-05-29&previous_page_section_name=1000&federated_search_id=e5fd26a4-b86f-44cc-a613-6027884c8480', 'https://www.airbnb.es/rooms/16909270?adults=5&children=0&infants=0&check_in=2022-09-02&check_out=2022-09-04&previous_page_section_name=1000&federated_search_id=e5fd26a4-b86f-44cc-a613-6027884c8480', 'https://www.airbnb.es/rooms/12350278?adults=5&children=0&infants=0&check_in=2022-11-04&check_out=2022-11-06&previous_page_section_name=1000&federated_search_id=e5fd26a4-b86f-44cc-a613-6027884c8480', 'https://www.airbnb.es/rooms/36075069?adults=5&children=0&infants=0&check_in=2022-03-11&check_out=2022-03-13&previous_page_section_name=1000&federated_search_id=e5fd26a4-b86f-44cc-a613-6027884c8480', 'https://www.airbnb.es/rooms/13722593?adults=5&children=0&infants=0&check_in=2022-09-16&check_out=2022-09-18&previous_page_section_name=1000&federated_search_id=e5fd26a4-b86f-44cc-a613-6027884c8480', 'https://www.airbnb.es/rooms/53473598?adults=5&children=0&infants=0&check_in=2022-08-19&check_out=2022-08-21&previous_page_section_name=1000&federated_search_id=e5fd26a4-b86f-44cc-a613-6027884c8480', 'https://www.airbnb.es/rooms/49935836?adults=5&children=0&infants=0&check_in=2022-01-21&check_out=2022-01-23&previous_page_section_name=1000&federated_search_id=e5fd26a4-b86f-44cc-a613-6027884c8480', 'https://www.airbnb.es/rooms/28809812?adults=5&children=0&infants=0&check_in=2022-03-11&check_out=2022-03-13&previous_page_section_name=1000&federated_search_id=e5fd26a4-b86f-44cc-a613-6027884c8480', 'https://www.airbnb.es/rooms/49130064?adults=5&children=0&infants=0&check_in=2022-11-25&check_out=2022-11-27&previous_page_section_name=1000&federated_search_id=e5fd26a4-b86f-44cc-a613-6027884c8480', 'https://www.airbnb.es/rooms/19311782?adults=5&children=0&infants=0&check_in=2022-05-13&check_out=2022-05-15&previous_page_section_name=1000&federated_search_id=e5fd26a4-b86f-44cc-a613-6027884c8480', 'https://www.airbnb.es/rooms/51637434?adults=5&children=0&infants=0&check_in=2022-08-26&check_out=2022-08-28&previous_page_section_name=1000&federated_search_id=e5fd26a4-b86f-44cc-a613-6027884c8480', 'https://www.airbnb.es/rooms/53303477?adults=5&children=0&infants=0&check_in=2022-01-07&check_out=2022-01-09&previous_page_section_name=1000&federated_search_id=e5fd26a4-b86f-44cc-a613-6027884c8480', 'https://www.airbnb.es/rooms/9940226?adults=5&children=0&infants=0&check_in=2022-01-21&check_out=2022-01-23&previous_page_section_name=1000&federated_search_id=e5fd26a4-b86f-44cc-a613-6027884c8480', 'https://www.airbnb.es/rooms/49503860?adults=5&children=0&infants=0&check_in=2022-07-22&check_out=2022-07-24&previous_page_section_name=1000&federated_search_id=e5fd26a4-b86f-44cc-a613-6027884c8480', 'https://www.airbnb.es/rooms/18087363?adults=5&children=0&infants=0&check_in=2022-01-28&check_out=2022-01-30&previous_page_section_name=1000&federated_search_id=e5fd26a4-b86f-44cc-a613-6027884c8480', 'https://www.airbnb.es/rooms/49847451?adults=5&children=0&infants=0&check_in=2022-03-04&check_out=2022-03-06&previous_page_section_name=1000&federated_search_id=e5fd26a4-b86f-44cc-a613-6027884c8480', 'https://www.airbnb.es/rooms/21737766?adults=5&children=0&infants=0&check_in=2022-09-30&check_out=2022-10-02&previous_page_section_name=1000&federated_search_id=e5fd26a4-b86f-44cc-a613-6027884c8480', 'https://www.airbnb.es/rooms/336672?adults=5&children=0&infants=0&check_in=2022-02-04&check_out=2022-02-06&previous_page_section_name=1000&federated_search_id=c4ebe082-aba9-4bfd-958a-837f6d3a5e04', 'https://www.airbnb.es/rooms/21737766?adults=5&children=0&infants=0&check_in=2022-08-12&check_out=2022-08-14&previous_page_section_name=1000&federated_search_id=c4ebe082-aba9-4bfd-958a-837f6d3a5e04', 'https://www.airbnb.es/rooms/35786576?adults=5&children=0&infants=0&check_in=2022-09-23&check_out=2022-09-25&previous_page_section_name=1000&federated_search_id=c4ebe082-aba9-4bfd-958a-837f6d3a5e04', 'https://www.airbnb.es/rooms/19376892?adults=5&children=0&infants=0&check_in=2022-09-09&check_out=2022-09-11&previous_page_section_name=1000&federated_search_id=c4ebe082-aba9-4bfd-958a-837f6d3a5e04', 'https://www.airbnb.es/rooms/12400956?adults=5&children=0&infants=0&check_in=2022-09-30&check_out=2022-10-02&previous_page_section_name=1000&federated_search_id=c4ebe082-aba9-4bfd-958a-837f6d3a5e04', 'https://www.airbnb.es/rooms/50278554?adults=5&children=0&infants=0&check_in=2022-03-04&check_out=2022-03-06&previous_page_section_name=1000&federated_search_id=c4ebe082-aba9-4bfd-958a-837f6d3a5e04', 'https://www.airbnb.es/rooms/53666333?adults=5&children=0&infants=0&check_in=2022-01-28&check_out=2022-01-30&previous_page_section_name=1000&federated_search_id=c4ebe082-aba9-4bfd-958a-837f6d3a5e04', 'https://www.airbnb.es/rooms/30361510?adults=5&children=0&infants=0&check_in=2022-10-21&check_out=2022-10-23&previous_page_section_name=1000&federated_search_id=c4ebe082-aba9-4bfd-958a-837f6d3a5e04', 'https://www.airbnb.es/rooms/9940226?adults=5&children=0&infants=0&check_in=2022-01-21&check_out=2022-01-23&previous_page_section_name=1000&federated_search_id=c4ebe082-aba9-4bfd-958a-837f6d3a5e04', 'https://www.airbnb.es/rooms/19386068?adults=5&children=0&infants=0&check_in=2022-01-07&check_out=2022-01-09&previous_page_section_name=1000&federated_search_id=c4ebe082-aba9-4bfd-958a-837f6d3a5e04', 'https://www.airbnb.es/rooms/47883549?adults=5&children=0&infants=0&check_in=2021-12-24&check_out=2021-12-26&previous_page_section_name=1000&federated_search_id=c4ebe082-aba9-4bfd-958a-837f6d3a5e04', 'https://www.airbnb.es/rooms/19544331?adults=5&children=0&infants=0&check_in=2022-05-20&check_out=2022-05-22&previous_page_section_name=1000&federated_search_id=c4ebe082-aba9-4bfd-958a-837f6d3a5e04', 'https://www.airbnb.es/rooms/24730867?adults=5&children=0&infants=0&check_in=2022-03-11&check_out=2022-03-13&previous_page_section_name=1000&federated_search_id=c4ebe082-aba9-4bfd-958a-837f6d3a5e04', 'https://www.airbnb.es/rooms/730347?adults=5&children=0&infants=0&check_in=2022-04-22&check_out=2022-04-24&previous_page_section_name=1000&federated_search_id=c4ebe082-aba9-4bfd-958a-837f6d3a5e04', 'https://www.airbnb.es/rooms/39443120?adults=5&children=0&infants=0&check_in=2022-01-28&check_out=2022-01-30&previous_page_section_name=1000&federated_search_id=c4ebe082-aba9-4bfd-958a-837f6d3a5e04', 'https://www.airbnb.es/rooms/36381578?adults=5&children=0&infants=0&check_in=2021-12-24&check_out=2021-12-26&previous_page_section_name=1000&federated_search_id=c4ebe082-aba9-4bfd-958a-837f6d3a5e04', 'https://www.airbnb.es/rooms/43338526?adults=5&children=0&infants=0&check_in=2022-08-26&check_out=2022-08-28&previous_page_section_name=1000&federated_search_id=c4ebe082-aba9-4bfd-958a-837f6d3a5e04', 'https://www.airbnb.es/rooms/53322142?adults=5&children=0&infants=0&check_in=2022-01-28&check_out=2022-01-30&previous_page_section_name=1000&federated_search_id=c4ebe082-aba9-4bfd-958a-837f6d3a5e04', 'https://www.airbnb.es/rooms/24274586?adults=5&children=0&infants=0&check_in=2022-08-12&check_out=2022-08-14&previous_page_section_name=1000&federated_search_id=c4ebe082-aba9-4bfd-958a-837f6d3a5e04', 'https://www.airbnb.es/rooms/50830205?adults=5&children=0&infants=0&check_in=2022-07-08&check_out=2022-07-10&previous_page_section_name=1000&federated_search_id=c4ebe082-aba9-4bfd-958a-837f6d3a5e04', 'https://www.airbnb.es/rooms/50471757?adults=5&children=0&infants=0&check_in=2022-04-08&check_out=2022-04-10&previous_page_section_name=1000&federated_search_id=5de6be15-77d0-46c6-8a3c-f08058671f98', 'https://www.airbnb.es/rooms/34276488?adults=5&children=0&infants=0&check_in=2022-10-07&check_out=2022-10-09&previous_page_section_name=1000&federated_search_id=5de6be15-77d0-46c6-8a3c-f08058671f98', 'https://www.airbnb.es/rooms/47437084?adults=5&children=0&infants=0&check_in=2022-09-16&check_out=2022-09-18&previous_page_section_name=1000&federated_search_id=5de6be15-77d0-46c6-8a3c-f08058671f98', 'https://www.airbnb.es/rooms/52891194?adults=5&children=0&infants=0&check_in=2022-11-04&check_out=2022-11-06&previous_page_section_name=1000&federated_search_id=5de6be15-77d0-46c6-8a3c-f08058671f98', 'https://www.airbnb.es/rooms/49464305?adults=5&children=0&infants=0&check_in=2022-06-10&check_out=2022-06-12&previous_page_section_name=1000&federated_search_id=5de6be15-77d0-46c6-8a3c-f08058671f98', 'https://www.airbnb.es/rooms/12350278?adults=5&children=0&infants=0&check_in=2022-11-04&check_out=2022-11-06&previous_page_section_name=1000&federated_search_id=5de6be15-77d0-46c6-8a3c-f08058671f98', 'https://www.airbnb.es/rooms/41022326?adults=5&children=0&infants=0&check_in=2022-02-18&check_out=2022-02-20&previous_page_section_name=1000&federated_search_id=5de6be15-77d0-46c6-8a3c-f08058671f98', 'https://www.airbnb.es/rooms/14485245?adults=5&children=0&infants=0&check_in=2022-02-18&check_out=2022-02-20&previous_page_section_name=1000&federated_search_id=5de6be15-77d0-46c6-8a3c-f08058671f98', 'https://www.airbnb.es/rooms/34889952?adults=5&children=0&infants=0&check_in=2022-02-04&check_out=2022-02-06&previous_page_section_name=1000&federated_search_id=5de6be15-77d0-46c6-8a3c-f08058671f98', 'https://www.airbnb.es/rooms/9182042?adults=5&children=0&infants=0&check_in=2022-01-28&check_out=2022-01-30&previous_page_section_name=1000&federated_search_id=5de6be15-77d0-46c6-8a3c-f08058671f98', 'https://www.airbnb.es/rooms/1053180?adults=5&children=0&infants=0&check_in=2022-06-24&check_out=2022-06-26&previous_page_section_name=1000&federated_search_id=5de6be15-77d0-46c6-8a3c-f08058671f98', 'https://www.airbnb.es/rooms/16909270?adults=5&children=0&infants=0&check_in=2022-07-01&check_out=2022-07-03&previous_page_section_name=1000&federated_search_id=5de6be15-77d0-46c6-8a3c-f08058671f98', 'https://www.airbnb.es/rooms/9959387?adults=5&children=0&infants=0&check_in=2022-03-11&check_out=2022-03-13&previous_page_section_name=1000&federated_search_id=5de6be15-77d0-46c6-8a3c-f08058671f98', 'https://www.airbnb.es/rooms/45342011?adults=5&children=0&infants=0&check_in=2022-05-27&check_out=2022-05-29&previous_page_section_name=1000&federated_search_id=5de6be15-77d0-46c6-8a3c-f08058671f98', 'https://www.airbnb.es/rooms/13190733?adults=5&children=0&infants=0&check_in=2022-01-14&check_out=2022-01-16&previous_page_section_name=1000&federated_search_id=5de6be15-77d0-46c6-8a3c-f08058671f98', 'https://www.airbnb.es/rooms/16376241?adults=5&children=0&infants=0&check_in=2022-01-14&check_out=2022-01-16&previous_page_section_name=1000&federated_search_id=5de6be15-77d0-46c6-8a3c-f08058671f98', 'https://www.airbnb.es/rooms/49503860?adults=5&children=0&infants=0&check_in=2022-07-22&check_out=2022-07-24&previous_page_section_name=1000&federated_search_id=5de6be15-77d0-46c6-8a3c-f08058671f98', 'https://www.airbnb.es/rooms/50445789?adults=5&children=0&infants=0&check_in=2022-03-11&check_out=2022-03-13&previous_page_section_name=1000&federated_search_id=5de6be15-77d0-46c6-8a3c-f08058671f98', 'https://www.airbnb.es/rooms/40024546?adults=5&children=0&infants=0&check_in=2022-02-04&check_out=2022-02-06&previous_page_section_name=1000&federated_search_id=5de6be15-77d0-46c6-8a3c-f08058671f98', 'https://www.airbnb.es/rooms/42056078?adults=5&children=0&infants=0&check_in=2022-09-23&check_out=2022-09-25&previous_page_section_name=1000&federated_search_id=5de6be15-77d0-46c6-8a3c-f08058671f98', 'https://www.airbnb.es/rooms/20285377?adults=5&children=0&infants=0&check_in=2022-04-08&check_out=2022-04-10&previous_page_section_name=1000&federated_search_id=60b771ab-a9fe-4b4f-8fd6-455e1e66f646', 'https://www.airbnb.es/rooms/49464305?adults=5&children=0&infants=0&check_in=2022-04-01&check_out=2022-04-03&previous_page_section_name=1000&federated_search_id=60b771ab-a9fe-4b4f-8fd6-455e1e66f646', 'https://www.airbnb.es/rooms/42056078?adults=5&children=0&infants=0&check_in=2022-02-11&check_out=2022-02-13&previous_page_section_name=1000&federated_search_id=60b771ab-a9fe-4b4f-8fd6-455e1e66f646', 'https://www.airbnb.es/rooms/48099714?adults=5&children=0&infants=0&check_in=2022-11-11&check_out=2022-11-13&previous_page_section_name=1000&federated_search_id=60b771ab-a9fe-4b4f-8fd6-455e1e66f646', 'https://www.airbnb.es/rooms/50838040?adults=5&children=0&infants=0&check_in=2022-07-15&check_out=2022-07-17&previous_page_section_name=1000&federated_search_id=60b771ab-a9fe-4b4f-8fd6-455e1e66f646', 'https://www.airbnb.es/rooms/34807229?adults=5&children=0&infants=0&check_in=2022-06-10&check_out=2022-06-12&previous_page_section_name=1000&federated_search_id=60b771ab-a9fe-4b4f-8fd6-455e1e66f646', 'https://www.airbnb.es/rooms/52544691?adults=5&children=0&infants=0&check_in=2022-02-04&check_out=2022-02-06&previous_page_section_name=1000&federated_search_id=60b771ab-a9fe-4b4f-8fd6-455e1e66f646', 'https://www.airbnb.es/rooms/16376241?adults=5&children=0&infants=0&check_in=2022-01-14&check_out=2022-01-16&previous_page_section_name=1000&federated_search_id=60b771ab-a9fe-4b4f-8fd6-455e1e66f646', 'https://www.airbnb.es/rooms/31983597?adults=5&children=0&infants=0&check_in=2022-08-19&check_out=2022-08-21&previous_page_section_name=1000&federated_search_id=60b771ab-a9fe-4b4f-8fd6-455e1e66f646', 'https://www.airbnb.es/rooms/44160477?adults=5&children=0&infants=0&check_in=2022-09-30&check_out=2022-10-02&previous_page_section_name=1000&federated_search_id=60b771ab-a9fe-4b4f-8fd6-455e1e66f646', 'https://www.airbnb.es/rooms/50444806?adults=5&children=0&infants=0&check_in=2022-03-11&check_out=2022-03-13&previous_page_section_name=1000&federated_search_id=60b771ab-a9fe-4b4f-8fd6-455e1e66f646', 'https://www.airbnb.es/rooms/31116159?adults=5&children=0&infants=0&check_in=2022-03-11&check_out=2022-03-13&previous_page_section_name=1000&federated_search_id=60b771ab-a9fe-4b4f-8fd6-455e1e66f646', 'https://www.airbnb.es/rooms/41391219?adults=5&children=0&infants=0&check_in=2022-01-21&check_out=2022-01-23&previous_page_section_name=1000&federated_search_id=60b771ab-a9fe-4b4f-8fd6-455e1e66f646', 'https://www.airbnb.es/rooms/904775?adults=5&children=0&infants=0&check_in=2022-06-03&check_out=2022-06-05&previous_page_section_name=1000&federated_search_id=60b771ab-a9fe-4b4f-8fd6-455e1e66f646', 'https://www.airbnb.es/rooms/31876209?adults=5&children=0&infants=0&check_in=2022-03-25&check_out=2022-03-27&previous_page_section_name=1000&federated_search_id=60b771ab-a9fe-4b4f-8fd6-455e1e66f646', 'https://www.airbnb.es/rooms/52938116?adults=5&children=0&infants=0&check_in=2022-06-03&check_out=2022-06-05&previous_page_section_name=1000&federated_search_id=60b771ab-a9fe-4b4f-8fd6-455e1e66f646', 'https://www.airbnb.es/rooms/17281972?adults=5&children=0&infants=0&check_in=2022-02-04&check_out=2022-02-06&previous_page_section_name=1000&federated_search_id=60b771ab-a9fe-4b4f-8fd6-455e1e66f646', 'https://www.airbnb.es/rooms/47883560?adults=5&children=0&infants=0&check_in=2021-12-24&check_out=2021-12-26&previous_page_section_name=1000&federated_search_id=60b771ab-a9fe-4b4f-8fd6-455e1e66f646', 'https://www.airbnb.es/rooms/53202120?adults=5&children=0&infants=0&check_in=2022-08-26&check_out=2022-08-28&previous_page_section_name=1000&federated_search_id=60b771ab-a9fe-4b4f-8fd6-455e1e66f646', 'https://www.airbnb.es/rooms/42752490?adults=5&children=0&infants=0&check_in=2022-03-04&check_out=2022-03-06&previous_page_section_name=1000&federated_search_id=60b771ab-a9fe-4b4f-8fd6-455e1e66f646', 'https://www.airbnb.es/rooms/53202120?adults=5&children=0&infants=0&check_in=2022-07-08&check_out=2022-07-10&previous_page_section_name=1000&federated_search_id=d76b7f6a-e597-419c-b57b-198f04449ed6', 'https://www.airbnb.es/rooms/42752490?adults=5&children=0&infants=0&check_in=2022-03-04&check_out=2022-03-06&previous_page_section_name=1000&federated_search_id=d76b7f6a-e597-419c-b57b-198f04449ed6', 'https://www.airbnb.es/rooms/40373833?adults=5&children=0&infants=0&check_in=2021-12-24&check_out=2021-12-26&previous_page_section_name=1000&federated_search_id=d76b7f6a-e597-419c-b57b-198f04449ed6', 'https://www.airbnb.es/rooms/21191658?adults=5&children=0&infants=0&check_in=2022-06-03&check_out=2022-06-05&previous_page_section_name=1000&federated_search_id=d76b7f6a-e597-419c-b57b-198f04449ed6', 'https://www.airbnb.es/rooms/43574090?adults=5&children=0&infants=0&check_in=2022-11-11&check_out=2022-11-13&previous_page_section_name=1000&federated_search_id=d76b7f6a-e597-419c-b57b-198f04449ed6', 'https://www.airbnb.es/rooms/39514922?adults=5&children=0&infants=0&check_in=2022-01-14&check_out=2022-01-16&previous_page_section_name=1000&federated_search_id=d76b7f6a-e597-419c-b57b-198f04449ed6', 'https://www.airbnb.es/rooms/49848304?adults=5&children=0&infants=0&check_in=2022-01-28&check_out=2022-01-30&previous_page_section_name=1000&federated_search_id=d76b7f6a-e597-419c-b57b-198f04449ed6', 'https://www.airbnb.es/rooms/18326493?adults=5&children=0&infants=0&check_in=2022-09-30&check_out=2022-10-02&previous_page_section_name=1000&federated_search_id=d76b7f6a-e597-419c-b57b-198f04449ed6', 'https://www.airbnb.es/rooms/52256215?adults=5&children=0&infants=0&check_in=2022-03-11&check_out=2022-03-13&previous_page_section_name=1000&federated_search_id=d76b7f6a-e597-419c-b57b-198f04449ed6', 'https://www.airbnb.es/rooms/23210760?adults=5&children=0&infants=0&check_in=2022-11-25&check_out=2022-11-27&previous_page_section_name=1000&federated_search_id=d76b7f6a-e597-419c-b57b-198f04449ed6', 'https://www.airbnb.es/rooms/48421435?adults=5&children=0&infants=0&check_in=2022-06-03&check_out=2022-06-05&previous_page_section_name=1000&federated_search_id=d76b7f6a-e597-419c-b57b-198f04449ed6', 'https://www.airbnb.es/rooms/28809812?adults=5&children=0&infants=0&check_in=2022-03-04&check_out=2022-03-06&previous_page_section_name=1000&federated_search_id=d76b7f6a-e597-419c-b57b-198f04449ed6', 'https://www.airbnb.es/rooms/40085524?adults=5&children=0&infants=0&check_in=2022-03-25&check_out=2022-03-27&previous_page_section_name=1000&federated_search_id=d76b7f6a-e597-419c-b57b-198f04449ed6', 'https://www.airbnb.es/rooms/50809113?adults=5&children=0&infants=0&check_in=2022-10-28&check_out=2022-10-30&previous_page_section_name=1000&federated_search_id=d76b7f6a-e597-419c-b57b-198f04449ed6', 'https://www.airbnb.es/rooms/44349389?adults=5&children=0&infants=0&check_in=2022-11-25&check_out=2022-11-27&previous_page_section_name=1000&federated_search_id=d76b7f6a-e597-419c-b57b-198f04449ed6', 'https://www.airbnb.es/rooms/32949914?adults=5&children=0&infants=0&check_in=2022-05-20&check_out=2022-05-22&previous_page_section_name=1000&federated_search_id=d76b7f6a-e597-419c-b57b-198f04449ed6', 'https://www.airbnb.es/rooms/44047671?adults=5&children=0&infants=0&check_in=2022-06-03&check_out=2022-06-05&previous_page_section_name=1000&federated_search_id=d76b7f6a-e597-419c-b57b-198f04449ed6', 'https://www.airbnb.es/rooms/9182042?adults=5&children=0&infants=0&check_in=2022-02-18&check_out=2022-02-20&previous_page_section_name=1000&federated_search_id=d76b7f6a-e597-419c-b57b-198f04449ed6', 'https://www.airbnb.es/rooms/15229880?adults=5&children=0&infants=0&check_in=2022-02-18&check_out=2022-02-20&previous_page_section_name=1000&federated_search_id=d76b7f6a-e597-419c-b57b-198f04449ed6', 'https://www.airbnb.es/rooms/37317946?adults=5&children=0&infants=0&check_in=2022-02-04&check_out=2022-02-06&previous_page_section_name=1000&federated_search_id=d76b7f6a-e597-419c-b57b-198f04449ed6', 'https://www.airbnb.es/rooms/14485245?adults=5&children=0&infants=0&check_in=2022-03-11&check_out=2022-03-13&previous_page_section_name=1000&federated_search_id=cd4e8672-dd4e-49e7-a1af-0f94c080582c', 'https://www.airbnb.es/rooms/6507502?adults=5&children=0&infants=0&check_in=2022-03-25&check_out=2022-03-27&previous_page_section_name=1000&federated_search_id=cd4e8672-dd4e-49e7-a1af-0f94c080582c', 'https://www.airbnb.es/rooms/31116159?adults=5&children=0&infants=0&check_in=2022-03-04&check_out=2022-03-06&previous_page_section_name=1000&federated_search_id=cd4e8672-dd4e-49e7-a1af-0f94c080582c', 'https://www.airbnb.es/rooms/52123716?adults=5&children=0&infants=0&check_in=2022-03-11&check_out=2022-03-13&previous_page_section_name=1000&federated_search_id=cd4e8672-dd4e-49e7-a1af-0f94c080582c', 'https://www.airbnb.es/rooms/49603092?adults=5&children=0&infants=0&check_in=2022-07-29&check_out=2022-07-31&previous_page_section_name=1000&federated_search_id=cd4e8672-dd4e-49e7-a1af-0f94c080582c', 'https://www.airbnb.es/rooms/47438408?adults=5&children=0&infants=0&check_in=2022-11-11&check_out=2022-11-13&previous_page_section_name=1000&federated_search_id=cd4e8672-dd4e-49e7-a1af-0f94c080582c', 'https://www.airbnb.es/rooms/50025775?adults=5&children=0&infants=0&check_in=2022-01-21&check_out=2022-01-23&previous_page_section_name=1000&federated_search_id=cd4e8672-dd4e-49e7-a1af-0f94c080582c', 'https://www.airbnb.es/rooms/36785557?adults=5&children=0&infants=0&check_in=2022-01-21&check_out=2022-01-23&previous_page_section_name=1000&federated_search_id=cd4e8672-dd4e-49e7-a1af-0f94c080582c', 'https://www.airbnb.es/rooms/49848304?adults=5&children=0&infants=0&check_in=2022-02-04&check_out=2022-02-06&previous_page_section_name=1000&federated_search_id=cd4e8672-dd4e-49e7-a1af-0f94c080582c', 'https://www.airbnb.es/rooms/29840861?adults=5&children=0&infants=0&check_in=2022-02-11&check_out=2022-02-13&previous_page_section_name=1000&federated_search_id=cd4e8672-dd4e-49e7-a1af-0f94c080582c', 'https://www.airbnb.es/rooms/31558756?adults=5&children=0&infants=0&check_in=2022-04-08&check_out=2022-04-10&previous_page_section_name=1000&federated_search_id=cd4e8672-dd4e-49e7-a1af-0f94c080582c', 'https://www.airbnb.es/rooms/plus/21732036?adults=5&children=0&infants=0&check_in=2022-04-08&check_out=2022-04-10&previous_page_section_name=1000&federated_search_id=cd4e8672-dd4e-49e7-a1af-0f94c080582c', 'https://www.airbnb.es/rooms/29447368?adults=5&children=0&infants=0&check_in=2022-03-25&check_out=2022-03-27&previous_page_section_name=1000&federated_search_id=cd4e8672-dd4e-49e7-a1af-0f94c080582c', 'https://www.airbnb.es/rooms/7432987?adults=5&children=0&infants=0&check_in=2022-02-11&check_out=2022-02-13&previous_page_section_name=1000&federated_search_id=cd4e8672-dd4e-49e7-a1af-0f94c080582c', 'https://www.airbnb.es/rooms/28809812?adults=5&children=0&infants=0&check_in=2022-03-11&check_out=2022-03-13&previous_page_section_name=1000&federated_search_id=cd4e8672-dd4e-49e7-a1af-0f94c080582c', 'https://www.airbnb.es/rooms/26820244?adults=5&children=0&infants=0&check_in=2022-06-03&check_out=2022-06-05&previous_page_section_name=1000&federated_search_id=cd4e8672-dd4e-49e7-a1af-0f94c080582c', 'https://www.airbnb.es/rooms/22942266?adults=5&children=0&infants=0&check_in=2022-05-13&check_out=2022-05-15&previous_page_section_name=1000&federated_search_id=cd4e8672-dd4e-49e7-a1af-0f94c080582c', 'https://www.airbnb.es/rooms/53544389?adults=5&children=0&infants=0&check_in=2022-01-21&check_out=2022-01-23&previous_page_section_name=1000&federated_search_id=cd4e8672-dd4e-49e7-a1af-0f94c080582c', 'https://www.airbnb.es/rooms/29409648?adults=5&children=0&infants=0&check_in=2022-02-11&check_out=2022-02-13&previous_page_section_name=1000&federated_search_id=cd4e8672-dd4e-49e7-a1af-0f94c080582c', 'https://www.airbnb.es/rooms/33788629?adults=5&children=0&infants=0&check_in=2022-02-11&check_out=2022-02-13&previous_page_section_name=1000&federated_search_id=cd4e8672-dd4e-49e7-a1af-0f94c080582c', 'https://www.airbnb.es/rooms/53544389?adults=5&children=0&infants=0&check_in=2022-03-04&check_out=2022-03-06&previous_page_section_name=1000&federated_search_id=e1f00717-0673-4ff4-a6a3-d6c827b2f432', 'https://www.airbnb.es/rooms/15229880?adults=5&children=0&infants=0&check_in=2022-02-18&check_out=2022-02-20&previous_page_section_name=1000&federated_search_id=e1f00717-0673-4ff4-a6a3-d6c827b2f432', 'https://www.airbnb.es/rooms/18939260?adults=5&children=0&infants=0&check_in=2022-04-01&check_out=2022-04-03&previous_page_section_name=1000&federated_search_id=e1f00717-0673-4ff4-a6a3-d6c827b2f432', 'https://www.airbnb.es/rooms/37317946?adults=5&children=0&infants=0&check_in=2022-01-07&check_out=2022-01-09&previous_page_section_name=1000&federated_search_id=e1f00717-0673-4ff4-a6a3-d6c827b2f432', 'https://www.airbnb.es/rooms/31558756?adults=5&children=0&infants=0&check_in=2022-10-21&check_out=2022-10-23&previous_page_section_name=1000&federated_search_id=e1f00717-0673-4ff4-a6a3-d6c827b2f432', 'https://www.airbnb.es/rooms/50183031?adults=5&children=0&infants=0&check_in=2021-12-24&check_out=2021-12-26&previous_page_section_name=1000&federated_search_id=e1f00717-0673-4ff4-a6a3-d6c827b2f432', 'https://www.airbnb.es/rooms/47438408?adults=5&children=0&infants=0&check_in=2022-11-18&check_out=2022-11-20&previous_page_section_name=1000&federated_search_id=e1f00717-0673-4ff4-a6a3-d6c827b2f432', 'https://www.airbnb.es/rooms/13751298?adults=5&children=0&infants=0&check_in=2022-02-04&check_out=2022-02-06&previous_page_section_name=1000&federated_search_id=e1f00717-0673-4ff4-a6a3-d6c827b2f432', 'https://www.airbnb.es/rooms/53188720?adults=5&children=0&infants=0&check_in=2022-01-07&check_out=2022-01-09&previous_page_section_name=1000&federated_search_id=e1f00717-0673-4ff4-a6a3-d6c827b2f432', 'https://www.airbnb.es/rooms/22416848?adults=5&children=0&infants=0&check_in=2022-01-28&check_out=2022-01-30&previous_page_section_name=1000&federated_search_id=e1f00717-0673-4ff4-a6a3-d6c827b2f432', 'https://www.airbnb.es/rooms/47048317?adults=5&children=0&infants=0&check_in=2022-03-04&check_out=2022-03-06&previous_page_section_name=1000&federated_search_id=e1f00717-0673-4ff4-a6a3-d6c827b2f432', 'https://www.airbnb.es/rooms/47132846?adults=5&children=0&infants=0&check_in=2022-05-06&check_out=2022-05-08&previous_page_section_name=1000&federated_search_id=e1f00717-0673-4ff4-a6a3-d6c827b2f432', 'https://www.airbnb.es/rooms/24300626?adults=5&children=0&infants=0&check_in=2022-02-25&check_out=2022-02-27&previous_page_section_name=1000&federated_search_id=e1f00717-0673-4ff4-a6a3-d6c827b2f432', 'https://www.airbnb.es/rooms/18326493?adults=5&children=0&infants=0&check_in=2022-08-26&check_out=2022-08-28&previous_page_section_name=1000&federated_search_id=e1f00717-0673-4ff4-a6a3-d6c827b2f432', 'https://www.airbnb.es/rooms/10146593?adults=5&children=0&infants=0&check_in=2022-06-03&check_out=2022-06-05&previous_page_section_name=1000&federated_search_id=e1f00717-0673-4ff4-a6a3-d6c827b2f432', 'https://www.airbnb.es/rooms/29587386?adults=5&children=0&infants=0&check_in=2022-02-04&check_out=2022-02-06&previous_page_section_name=1000&federated_search_id=e1f00717-0673-4ff4-a6a3-d6c827b2f432', 'https://www.airbnb.es/rooms/53599008?adults=5&children=0&infants=0&check_in=2022-05-06&check_out=2022-05-08&previous_page_section_name=1000&federated_search_id=e1f00717-0673-4ff4-a6a3-d6c827b2f432', 'https://www.airbnb.es/rooms/51279985?adults=5&children=0&infants=0&check_in=2022-01-28&check_out=2022-01-30&previous_page_section_name=1000&federated_search_id=e1f00717-0673-4ff4-a6a3-d6c827b2f432', 'https://www.airbnb.es/rooms/52123764?adults=5&children=0&infants=0&check_in=2022-05-20&check_out=2022-05-22&previous_page_section_name=1000&federated_search_id=e1f00717-0673-4ff4-a6a3-d6c827b2f432', 'https://www.airbnb.es/rooms/2943575?adults=5&children=0&infants=0&check_in=2022-06-17&check_out=2022-06-19&previous_page_section_name=1000&federated_search_id=e1f00717-0673-4ff4-a6a3-d6c827b2f432', 'https://www.airbnb.es/rooms/52902155?adults=5&children=0&infants=0&check_in=2022-04-08&check_out=2022-04-10&previous_page_section_name=1000&federated_search_id=a1739056-037d-440f-898b-49f4579c290d', 'https://www.airbnb.es/rooms/36785557?adults=5&children=0&infants=0&check_in=2022-02-04&check_out=2022-02-06&previous_page_section_name=1000&federated_search_id=a1739056-037d-440f-898b-49f4579c290d', 'https://www.airbnb.es/rooms/48127640?adults=5&children=0&infants=0&check_in=2022-03-18&check_out=2022-03-20&previous_page_section_name=1000&federated_search_id=a1739056-037d-440f-898b-49f4579c290d', 'https://www.airbnb.es/rooms/29840861?adults=5&children=0&infants=0&check_in=2022-02-25&check_out=2022-02-27&previous_page_section_name=1000&federated_search_id=a1739056-037d-440f-898b-49f4579c290d', 'https://www.airbnb.es/rooms/50415586?adults=5&children=0&infants=0&check_in=2022-05-27&check_out=2022-05-29&previous_page_section_name=1000&federated_search_id=a1739056-037d-440f-898b-49f4579c290d', 'https://www.airbnb.es/rooms/7432987?adults=5&children=0&infants=0&check_in=2022-10-14&check_out=2022-10-16&previous_page_section_name=1000&federated_search_id=a1739056-037d-440f-898b-49f4579c290d', 'https://www.airbnb.es/rooms/37469803?adults=5&children=0&infants=0&check_in=2022-03-18&check_out=2022-03-20&previous_page_section_name=1000&federated_search_id=a1739056-037d-440f-898b-49f4579c290d', 'https://www.airbnb.es/rooms/47438408?adults=5&children=0&infants=0&check_in=2022-11-18&check_out=2022-11-20&previous_page_section_name=1000&federated_search_id=a1739056-037d-440f-898b-49f4579c290d', 'https://www.airbnb.es/rooms/47883560?adults=5&children=0&infants=0&check_in=2022-03-04&check_out=2022-03-06&previous_page_section_name=1000&federated_search_id=a1739056-037d-440f-898b-49f4579c290d', 'https://www.airbnb.es/rooms/7540141?adults=5&children=0&infants=0&check_in=2022-07-15&check_out=2022-07-17&previous_page_section_name=1000&federated_search_id=a1739056-037d-440f-898b-49f4579c290d', 'https://www.airbnb.es/rooms/50025775?adults=5&children=0&infants=0&check_in=2022-01-21&check_out=2022-01-23&previous_page_section_name=1000&federated_search_id=a1739056-037d-440f-898b-49f4579c290d', 'https://www.airbnb.es/rooms/50298217?adults=5&children=0&infants=0&check_in=2022-01-14&check_out=2022-01-16&previous_page_section_name=1000&federated_search_id=a1739056-037d-440f-898b-49f4579c290d', 'https://www.airbnb.es/rooms/42219101?adults=5&children=0&infants=0&check_in=2022-01-21&check_out=2022-01-23&previous_page_section_name=1000&federated_search_id=a1739056-037d-440f-898b-49f4579c290d', 'https://www.airbnb.es/rooms/41550981?adults=5&children=0&infants=0&check_in=2022-01-14&check_out=2022-01-16&previous_page_section_name=1000&federated_search_id=a1739056-037d-440f-898b-49f4579c290d', 'https://www.airbnb.es/rooms/36765304?adults=5&children=0&infants=0&check_in=2022-02-18&check_out=2022-02-20&previous_page_section_name=1000&federated_search_id=a1739056-037d-440f-898b-49f4579c290d', 'https://www.airbnb.es/rooms/49130064?adults=5&children=0&infants=0&check_in=2022-02-11&check_out=2022-02-13&previous_page_section_name=1000&federated_search_id=a1739056-037d-440f-898b-49f4579c290d', 'https://www.airbnb.es/rooms/18939260?adults=5&children=0&infants=0&check_in=2022-03-04&check_out=2022-03-06&previous_page_section_name=1000&federated_search_id=a1739056-037d-440f-898b-49f4579c290d', 'https://www.airbnb.es/rooms/32623714?adults=5&children=0&infants=0&check_in=2022-02-04&check_out=2022-02-06&previous_page_section_name=1000&federated_search_id=a1739056-037d-440f-898b-49f4579c290d', 'https://www.airbnb.es/rooms/31662916?adults=5&children=0&infants=0&check_in=2022-09-23&check_out=2022-09-25&previous_page_section_name=1000&federated_search_id=a1739056-037d-440f-898b-49f4579c290d', 'https://www.airbnb.es/rooms/37832727?adults=5&children=0&infants=0&check_in=2022-05-20&check_out=2022-05-22&previous_page_section_name=1000&federated_search_id=a1739056-037d-440f-898b-49f4579c290d', 'https://www.airbnb.es/rooms/37469756?adults=5&children=0&infants=0&check_in=2022-01-07&check_out=2022-01-09&previous_page_section_name=1000&federated_search_id=831dc9b0-0ab7-4126-ab6b-4fbb3293f3bd', 'https://www.airbnb.es/rooms/39766700?adults=5&children=0&infants=0&check_in=2022-04-01&check_out=2022-04-03&previous_page_section_name=1000&federated_search_id=831dc9b0-0ab7-4126-ab6b-4fbb3293f3bd', 'https://www.airbnb.es/rooms/26118072?adults=5&children=0&infants=0&check_in=2022-02-04&check_out=2022-02-06&previous_page_section_name=1000&federated_search_id=831dc9b0-0ab7-4126-ab6b-4fbb3293f3bd', 'https://www.airbnb.es/rooms/53106911?adults=5&children=0&infants=0&check_in=2022-06-10&check_out=2022-06-12&previous_page_section_name=1000&federated_search_id=831dc9b0-0ab7-4126-ab6b-4fbb3293f3bd', 'https://www.airbnb.es/rooms/11620130?adults=5&children=0&infants=0&check_in=2022-09-16&check_out=2022-09-18&previous_page_section_name=1000&federated_search_id=831dc9b0-0ab7-4126-ab6b-4fbb3293f3bd', 'https://www.airbnb.es/rooms/50025775?adults=5&children=0&infants=0&check_in=2022-01-28&check_out=2022-01-30&previous_page_section_name=1000&federated_search_id=831dc9b0-0ab7-4126-ab6b-4fbb3293f3bd', 'https://www.airbnb.es/rooms/42752490?adults=5&children=0&infants=0&check_in=2022-03-11&check_out=2022-03-13&previous_page_section_name=1000&federated_search_id=831dc9b0-0ab7-4126-ab6b-4fbb3293f3bd', 'https://www.airbnb.es/rooms/50298217?adults=5&children=0&infants=0&check_in=2022-08-05&check_out=2022-08-07&previous_page_section_name=1000&federated_search_id=831dc9b0-0ab7-4126-ab6b-4fbb3293f3bd', 'https://www.airbnb.es/rooms/49461161?adults=5&children=0&infants=0&check_in=2022-02-04&check_out=2022-02-06&previous_page_section_name=1000&federated_search_id=831dc9b0-0ab7-4126-ab6b-4fbb3293f3bd', 'https://www.airbnb.es/rooms/52065219?adults=5&children=0&infants=0&check_in=2022-09-02&check_out=2022-09-04&previous_page_section_name=1000&federated_search_id=831dc9b0-0ab7-4126-ab6b-4fbb3293f3bd', 'https://www.airbnb.es/rooms/10146593?adults=5&children=0&infants=0&check_in=2022-08-19&check_out=2022-08-21&previous_page_section_name=1000&federated_search_id=831dc9b0-0ab7-4126-ab6b-4fbb3293f3bd', 'https://www.airbnb.es/rooms/9182042?adults=5&children=0&infants=0&check_in=2022-02-25&check_out=2022-02-27&previous_page_section_name=1000&federated_search_id=831dc9b0-0ab7-4126-ab6b-4fbb3293f3bd', 'https://www.airbnb.es/rooms/36229069?adults=5&children=0&infants=0&check_in=2022-03-11&check_out=2022-03-13&previous_page_section_name=1000&federated_search_id=831dc9b0-0ab7-4126-ab6b-4fbb3293f3bd', 'https://www.airbnb.es/rooms/24567485?adults=5&children=0&infants=0&check_in=2022-08-26&check_out=2022-08-28&previous_page_section_name=1000&federated_search_id=831dc9b0-0ab7-4126-ab6b-4fbb3293f3bd', 'https://www.airbnb.es/rooms/31558756?adults=5&children=0&infants=0&check_in=2022-08-12&check_out=2022-08-14&previous_page_section_name=1000&federated_search_id=831dc9b0-0ab7-4126-ab6b-4fbb3293f3bd', 'https://www.airbnb.es/rooms/40705179?adults=5&children=0&infants=0&check_in=2022-07-29&check_out=2022-07-31&previous_page_section_name=1000&federated_search_id=831dc9b0-0ab7-4126-ab6b-4fbb3293f3bd', 'https://www.airbnb.es/rooms/50348515?adults=5&children=0&infants=0&check_in=2022-07-29&check_out=2022-07-31&previous_page_section_name=1000&federated_search_id=831dc9b0-0ab7-4126-ab6b-4fbb3293f3bd', 'https://www.airbnb.es/rooms/29840861?adults=5&children=0&infants=0&check_in=2022-02-25&check_out=2022-02-27&previous_page_section_name=1000&federated_search_id=831dc9b0-0ab7-4126-ab6b-4fbb3293f3bd', 'https://www.airbnb.es/rooms/49868166?adults=5&children=0&infants=0&check_in=2022-02-18&check_out=2022-02-20&previous_page_section_name=1000&federated_search_id=831dc9b0-0ab7-4126-ab6b-4fbb3293f3bd', 'https://www.airbnb.es/rooms/44349389?adults=5&children=0&infants=0&check_in=2022-05-27&check_out=2022-05-29&previous_page_section_name=1000&federated_search_id=831dc9b0-0ab7-4126-ab6b-4fbb3293f3bd', 'https://www.airbnb.es/rooms/31659925?adults=5&children=0&infants=0&check_in=2022-11-04&check_out=2022-11-06&previous_page_section_name=1000&federated_search_id=d41b2667-7824-4f67-9a83-88a7c1fa744c', 'https://www.airbnb.es/rooms/39981319?adults=5&children=0&infants=0&check_in=2022-04-15&check_out=2022-04-17&previous_page_section_name=1000&federated_search_id=d41b2667-7824-4f67-9a83-88a7c1fa744c', 'https://www.airbnb.es/rooms/36438750?adults=5&children=0&infants=0&check_in=2022-02-04&check_out=2022-02-06&previous_page_section_name=1000&federated_search_id=d41b2667-7824-4f67-9a83-88a7c1fa744c', 'https://www.airbnb.es/rooms/39766700?adults=5&children=0&infants=0&check_in=2022-03-11&check_out=2022-03-13&previous_page_section_name=1000&federated_search_id=d41b2667-7824-4f67-9a83-88a7c1fa744c', 'https://www.airbnb.es/rooms/21550729?adults=5&children=0&infants=0&check_in=2022-03-11&check_out=2022-03-13&previous_page_section_name=1000&federated_search_id=d41b2667-7824-4f67-9a83-88a7c1fa744c', 'https://www.airbnb.es/rooms/24125532?adults=5&children=0&infants=0&check_in=2022-01-14&check_out=2022-01-16&previous_page_section_name=1000&federated_search_id=d41b2667-7824-4f67-9a83-88a7c1fa744c', 'https://www.airbnb.es/rooms/28249073?adults=5&children=0&infants=0&check_in=2022-08-26&check_out=2022-08-28&previous_page_section_name=1000&federated_search_id=d41b2667-7824-4f67-9a83-88a7c1fa744c', 'https://www.airbnb.es/rooms/41321642?adults=5&children=0&infants=0&check_in=2022-05-20&check_out=2022-05-22&previous_page_section_name=1000&federated_search_id=d41b2667-7824-4f67-9a83-88a7c1fa744c', 'https://www.airbnb.es/rooms/32623714?adults=5&children=0&infants=0&check_in=2022-01-07&check_out=2022-01-09&previous_page_section_name=1000&federated_search_id=d41b2667-7824-4f67-9a83-88a7c1fa744c', 'https://www.airbnb.es/rooms/21508987?adults=5&children=0&infants=0&check_in=2022-01-28&check_out=2022-01-30&previous_page_section_name=1000&federated_search_id=d41b2667-7824-4f67-9a83-88a7c1fa744c', 'https://www.airbnb.es/rooms/52891194?adults=5&children=0&infants=0&check_in=2022-11-25&check_out=2022-11-27&previous_page_section_name=1000&federated_search_id=d41b2667-7824-4f67-9a83-88a7c1fa744c', 'https://www.airbnb.es/rooms/50934828?adults=5&children=0&infants=0&check_in=2022-03-11&check_out=2022-03-13&previous_page_section_name=1000&federated_search_id=d41b2667-7824-4f67-9a83-88a7c1fa744c', 'https://www.airbnb.es/rooms/38324425?adults=5&children=0&infants=0&check_in=2022-08-05&check_out=2022-08-07&previous_page_section_name=1000&federated_search_id=d41b2667-7824-4f67-9a83-88a7c1fa744c', 'https://www.airbnb.es/rooms/50278560?adults=5&children=0&infants=0&check_in=2022-03-11&check_out=2022-03-13&previous_page_section_name=1000&federated_search_id=d41b2667-7824-4f67-9a83-88a7c1fa744c', 'https://www.airbnb.es/rooms/39514922?adults=5&children=0&infants=0&check_in=2022-06-10&check_out=2022-06-12&previous_page_section_name=1000&federated_search_id=d41b2667-7824-4f67-9a83-88a7c1fa744c', 'https://www.airbnb.es/rooms/33413666?adults=5&children=0&infants=0&check_in=2022-05-20&check_out=2022-05-22&previous_page_section_name=1000&federated_search_id=d41b2667-7824-4f67-9a83-88a7c1fa744c', 'https://www.airbnb.es/rooms/43338526?adults=5&children=0&infants=0&check_in=2022-05-27&check_out=2022-05-29&previous_page_section_name=1000&federated_search_id=d41b2667-7824-4f67-9a83-88a7c1fa744c', 'https://www.airbnb.es/rooms/51268386?adults=5&children=0&infants=0&check_in=2022-05-20&check_out=2022-05-22&previous_page_section_name=1000&federated_search_id=d41b2667-7824-4f67-9a83-88a7c1fa744c', 'https://www.airbnb.es/rooms/21408141?adults=5&children=0&infants=0&check_in=2022-02-18&check_out=2022-02-20&previous_page_section_name=1000&federated_search_id=d41b2667-7824-4f67-9a83-88a7c1fa744c', 'https://www.airbnb.es/rooms/47883549?adults=5&children=0&infants=0&check_in=2021-12-24&check_out=2021-12-26&previous_page_section_name=1000&federated_search_id=d41b2667-7824-4f67-9a83-88a7c1fa744c', 'https://www.airbnb.es/rooms/10676283?adults=5&children=0&infants=0&check_in=2022-07-29&check_out=2022-07-31&previous_page_section_name=1000&federated_search_id=7eb5342b-d44d-41b8-b8b1-9492121901e5', 'https://www.airbnb.es/rooms/33264121?adults=5&children=0&infants=0&check_in=2022-06-10&check_out=2022-06-12&previous_page_section_name=1000&federated_search_id=7eb5342b-d44d-41b8-b8b1-9492121901e5', 'https://www.airbnb.es/rooms/47883549?adults=5&children=0&infants=0&check_in=2021-12-24&check_out=2021-12-26&previous_page_section_name=1000&federated_search_id=7eb5342b-d44d-41b8-b8b1-9492121901e5', 'https://www.airbnb.es/rooms/19950304?adults=5&children=0&infants=0&check_in=2022-05-06&check_out=2022-05-08&previous_page_section_name=1000&federated_search_id=7eb5342b-d44d-41b8-b8b1-9492121901e5', 'https://www.airbnb.es/rooms/6446880?adults=5&children=0&infants=0&check_in=2022-10-14&check_out=2022-10-16&previous_page_section_name=1000&federated_search_id=7eb5342b-d44d-41b8-b8b1-9492121901e5', 'https://www.airbnb.es/rooms/50838040?adults=5&children=0&infants=0&check_in=2022-10-14&check_out=2022-10-16&previous_page_section_name=1000&federated_search_id=7eb5342b-d44d-41b8-b8b1-9492121901e5', 'https://www.airbnb.es/rooms/19584525?adults=5&children=0&infants=0&check_in=2022-02-11&check_out=2022-02-13&previous_page_section_name=1000&federated_search_id=7eb5342b-d44d-41b8-b8b1-9492121901e5', 'https://www.airbnb.es/rooms/47308216?adults=5&children=0&infants=0&check_in=2022-02-11&check_out=2022-02-13&previous_page_section_name=1000&federated_search_id=7eb5342b-d44d-41b8-b8b1-9492121901e5', 'https://www.airbnb.es/rooms/2943575?adults=5&children=0&infants=0&check_in=2022-11-18&check_out=2022-11-20&previous_page_section_name=1000&federated_search_id=7eb5342b-d44d-41b8-b8b1-9492121901e5', 'https://www.airbnb.es/rooms/10677284?adults=5&children=0&infants=0&check_in=2022-07-22&check_out=2022-07-24&previous_page_section_name=1000&federated_search_id=7eb5342b-d44d-41b8-b8b1-9492121901e5', 'https://www.airbnb.es/rooms/41706068?adults=5&children=0&infants=0&check_in=2022-09-16&check_out=2022-09-18&previous_page_section_name=1000&federated_search_id=7eb5342b-d44d-41b8-b8b1-9492121901e5', 'https://www.airbnb.es/rooms/47883561?adults=5&children=0&infants=0&check_in=2022-01-07&check_out=2022-01-09&previous_page_section_name=1000&federated_search_id=7eb5342b-d44d-41b8-b8b1-9492121901e5', 'https://www.airbnb.es/rooms/50278554?adults=5&children=0&infants=0&check_in=2022-03-04&check_out=2022-03-06&previous_page_section_name=1000&federated_search_id=7eb5342b-d44d-41b8-b8b1-9492121901e5', 'https://www.airbnb.es/rooms/13611914?adults=5&children=0&infants=0&check_in=2022-04-15&check_out=2022-04-17&previous_page_section_name=1000&federated_search_id=7eb5342b-d44d-41b8-b8b1-9492121901e5', 'https://www.airbnb.es/rooms/26857807?adults=5&children=0&infants=0&check_in=2022-09-02&check_out=2022-09-04&previous_page_section_name=1000&federated_search_id=7eb5342b-d44d-41b8-b8b1-9492121901e5', 'https://www.airbnb.es/rooms/45981294?adults=5&children=0&infants=0&check_in=2022-03-11&check_out=2022-03-13&previous_page_section_name=1000&federated_search_id=7eb5342b-d44d-41b8-b8b1-9492121901e5', 'https://www.airbnb.es/rooms/50255671?adults=5&children=0&infants=0&check_in=2022-03-25&check_out=2022-03-27&previous_page_section_name=1000&federated_search_id=7eb5342b-d44d-41b8-b8b1-9492121901e5', 'https://www.airbnb.es/rooms/53666333?adults=5&children=0&infants=0&check_in=2022-03-18&check_out=2022-03-20&previous_page_section_name=1000&federated_search_id=7eb5342b-d44d-41b8-b8b1-9492121901e5', 'https://www.airbnb.es/rooms/53322142?adults=5&children=0&infants=0&check_in=2022-01-28&check_out=2022-01-30&previous_page_section_name=1000&federated_search_id=7eb5342b-d44d-41b8-b8b1-9492121901e5', 'https://www.airbnb.es/rooms/plus/21732036?adults=5&children=0&infants=0&check_in=2022-04-08&check_out=2022-04-10&previous_page_section_name=1000&federated_search_id=7eb5342b-d44d-41b8-b8b1-9492121901e5', 'https://www.airbnb.es/rooms/30783905?adults=5&children=0&infants=0&check_in=2022-05-13&check_out=2022-05-15&previous_page_section_name=1000&federated_search_id=57188e38-6c54-4275-97c0-7d52dac45b6c', 'https://www.airbnb.es/rooms/33264121?adults=5&children=0&infants=0&check_in=2022-05-13&check_out=2022-05-15&previous_page_section_name=1000&federated_search_id=57188e38-6c54-4275-97c0-7d52dac45b6c', 'https://www.airbnb.es/rooms/47883508?adults=5&children=0&infants=0&check_in=2021-12-24&check_out=2021-12-26&previous_page_section_name=1000&federated_search_id=57188e38-6c54-4275-97c0-7d52dac45b6c', 'https://www.airbnb.es/rooms/41706068?adults=5&children=0&infants=0&check_in=2022-03-25&check_out=2022-03-27&previous_page_section_name=1000&federated_search_id=57188e38-6c54-4275-97c0-7d52dac45b6c', 'https://www.airbnb.es/rooms/53391377?adults=5&children=0&infants=0&check_in=2022-02-04&check_out=2022-02-06&previous_page_section_name=1000&federated_search_id=57188e38-6c54-4275-97c0-7d52dac45b6c', 'https://www.airbnb.es/rooms/39551407?adults=5&children=0&infants=0&check_in=2022-06-10&check_out=2022-06-12&previous_page_section_name=1000&federated_search_id=57188e38-6c54-4275-97c0-7d52dac45b6c', 'https://www.airbnb.es/rooms/48602198?adults=5&children=0&infants=0&check_in=2022-07-29&check_out=2022-07-31&previous_page_section_name=1000&federated_search_id=57188e38-6c54-4275-97c0-7d52dac45b6c', 'https://www.airbnb.es/rooms/10913078?adults=5&children=0&infants=0&check_in=2022-02-25&check_out=2022-02-27&previous_page_section_name=1000&federated_search_id=57188e38-6c54-4275-97c0-7d52dac45b6c', 'https://www.airbnb.es/rooms/6216745?adults=5&children=0&infants=0&check_in=2022-02-18&check_out=2022-02-20&previous_page_section_name=1000&federated_search_id=57188e38-6c54-4275-97c0-7d52dac45b6c', 'https://www.airbnb.es/rooms/45612845?adults=5&children=0&infants=0&check_in=2022-05-20&check_out=2022-05-22&previous_page_section_name=1000&federated_search_id=57188e38-6c54-4275-97c0-7d52dac45b6c', 'https://www.airbnb.es/rooms/50415586?adults=5&children=0&infants=0&check_in=2022-03-18&check_out=2022-03-20&previous_page_section_name=1000&federated_search_id=57188e38-6c54-4275-97c0-7d52dac45b6c', 'https://www.airbnb.es/rooms/37469803?adults=5&children=0&infants=0&check_in=2022-11-11&check_out=2022-11-13&previous_page_section_name=1000&federated_search_id=57188e38-6c54-4275-97c0-7d52dac45b6c', 'https://www.airbnb.es/rooms/3534696?adults=5&children=0&infants=0&check_in=2022-06-10&check_out=2022-06-12&previous_page_section_name=1000&federated_search_id=57188e38-6c54-4275-97c0-7d52dac45b6c', 'https://www.airbnb.es/rooms/38403388?adults=5&children=0&infants=0&check_in=2022-04-01&check_out=2022-04-03&previous_page_section_name=1000&federated_search_id=57188e38-6c54-4275-97c0-7d52dac45b6c', 'https://www.airbnb.es/rooms/24567485?adults=5&children=0&infants=0&check_in=2022-09-02&check_out=2022-09-04&previous_page_section_name=1000&federated_search_id=57188e38-6c54-4275-97c0-7d52dac45b6c', 'https://www.airbnb.es/rooms/50348515?adults=5&children=0&infants=0&check_in=2022-11-25&check_out=2022-11-27&previous_page_section_name=1000&federated_search_id=57188e38-6c54-4275-97c0-7d52dac45b6c', 'https://www.airbnb.es/rooms/28595057?adults=5&children=0&infants=0&check_in=2022-01-14&check_out=2022-01-16&previous_page_section_name=1000&federated_search_id=57188e38-6c54-4275-97c0-7d52dac45b6c', 'https://www.airbnb.es/rooms/21035366?adults=5&children=0&infants=0&check_in=2022-05-06&check_out=2022-05-08&previous_page_section_name=1000&federated_search_id=57188e38-6c54-4275-97c0-7d52dac45b6c', 'https://www.airbnb.es/rooms/44257148?adults=5&children=0&infants=0&check_in=2022-03-11&check_out=2022-03-13&previous_page_section_name=1000&federated_search_id=57188e38-6c54-4275-97c0-7d52dac45b6c', 'https://www.airbnb.es/rooms/730347?adults=5&children=0&infants=0&check_in=2022-07-01&check_out=2022-07-03&previous_page_section_name=1000&federated_search_id=57188e38-6c54-4275-97c0-7d52dac45b6c', 'https://www.airbnb.es/rooms/22979863?adults=5&children=0&infants=0&check_in=2022-03-11&check_out=2022-03-13&previous_page_section_name=1000&federated_search_id=cddb8ef2-8c61-41f3-b5f6-328563d0250b', 'https://www.airbnb.es/rooms/37598111?adults=5&children=0&infants=0&check_in=2022-08-12&check_out=2022-08-14&previous_page_section_name=1000&federated_search_id=cddb8ef2-8c61-41f3-b5f6-328563d0250b', 'https://www.airbnb.es/rooms/22942266?adults=5&children=0&infants=0&check_in=2022-04-15&check_out=2022-04-17&previous_page_section_name=1000&federated_search_id=cddb8ef2-8c61-41f3-b5f6-328563d0250b', 'https://www.airbnb.es/rooms/51079860?adults=5&children=0&infants=0&check_in=2022-01-28&check_out=2022-01-30&previous_page_section_name=1000&federated_search_id=cddb8ef2-8c61-41f3-b5f6-328563d0250b', 'https://www.airbnb.es/rooms/17839999?adults=5&children=0&infants=0&check_in=2022-02-11&check_out=2022-02-13&previous_page_section_name=1000&federated_search_id=cddb8ef2-8c61-41f3-b5f6-328563d0250b', 'https://www.airbnb.es/rooms/21007373?adults=5&children=0&infants=0&check_in=2022-03-25&check_out=2022-03-27&previous_page_section_name=1000&federated_search_id=cddb8ef2-8c61-41f3-b5f6-328563d0250b', 'https://www.airbnb.es/rooms/50278563?adults=5&children=0&infants=0&check_in=2022-01-07&check_out=2022-01-09&previous_page_section_name=1000&federated_search_id=cddb8ef2-8c61-41f3-b5f6-328563d0250b', 'https://www.airbnb.es/rooms/43652408?adults=5&children=0&infants=0&check_in=2022-05-13&check_out=2022-05-15&previous_page_section_name=1000&federated_search_id=cddb8ef2-8c61-41f3-b5f6-328563d0250b', 'https://www.airbnb.es/rooms/49107204?adults=5&children=0&infants=0&check_in=2022-01-21&check_out=2022-01-23&previous_page_section_name=1000&federated_search_id=cddb8ef2-8c61-41f3-b5f6-328563d0250b', 'https://www.airbnb.es/rooms/44240881?adults=5&children=0&infants=0&check_in=2022-02-11&check_out=2022-02-13&previous_page_section_name=1000&federated_search_id=cddb8ef2-8c61-41f3-b5f6-328563d0250b', 'https://www.airbnb.es/rooms/52685010?adults=5&children=0&infants=0&check_in=2022-05-06&check_out=2022-05-08&previous_page_section_name=1000&federated_search_id=cddb8ef2-8c61-41f3-b5f6-328563d0250b', 'https://www.airbnb.es/rooms/38119377?adults=5&children=0&infants=0&check_in=2022-06-10&check_out=2022-06-12&previous_page_section_name=1000&federated_search_id=cddb8ef2-8c61-41f3-b5f6-328563d0250b', 'https://www.airbnb.es/rooms/7214366?adults=5&children=0&infants=0&check_in=2022-05-06&check_out=2022-05-08&previous_page_section_name=1000&federated_search_id=cddb8ef2-8c61-41f3-b5f6-328563d0250b', 'https://www.airbnb.es/rooms/20434663?adults=5&children=0&infants=0&check_in=2022-05-27&check_out=2022-05-29&previous_page_section_name=1000&federated_search_id=cddb8ef2-8c61-41f3-b5f6-328563d0250b', 'https://www.airbnb.es/rooms/361053?adults=5&children=0&infants=0&check_in=2022-04-22&check_out=2022-04-24&previous_page_section_name=1000&federated_search_id=cddb8ef2-8c61-41f3-b5f6-328563d0250b', 'https://www.airbnb.es/rooms/53217798?adults=5&children=0&infants=0&check_in=2022-04-22&check_out=2022-04-24&previous_page_section_name=1000&federated_search_id=cddb8ef2-8c61-41f3-b5f6-328563d0250b', 'https://www.airbnb.es/rooms/52627012?adults=5&children=0&infants=0&check_in=2022-09-02&check_out=2022-09-04&previous_page_section_name=1000&federated_search_id=cddb8ef2-8c61-41f3-b5f6-328563d0250b', 'https://www.airbnb.es/rooms/36765304?adults=5&children=0&infants=0&check_in=2022-01-14&check_out=2022-01-16&previous_page_section_name=1000&federated_search_id=cddb8ef2-8c61-41f3-b5f6-328563d0250b', 'https://www.airbnb.es/rooms/49687493?adults=5&children=0&infants=0&check_in=2022-09-16&check_out=2022-09-18&previous_page_section_name=1000&federated_search_id=cddb8ef2-8c61-41f3-b5f6-328563d0250b', 'https://www.airbnb.es/rooms/40823385?adults=5&children=0&infants=0&check_in=2022-06-10&check_out=2022-06-12&previous_page_section_name=1000&federated_search_id=cddb8ef2-8c61-41f3-b5f6-328563d0250b', 'https://www.airbnb.es/rooms/48866727?adults=5&children=0&infants=0&check_in=2022-03-18&check_out=2022-03-20&previous_page_section_name=1000&federated_search_id=1c8a388c-fcc1-40a3-a075-3e4a6cc4cc8b', 'https://www.airbnb.es/rooms/22317943?adults=5&children=0&infants=0&check_in=2022-09-09&check_out=2022-09-11&previous_page_section_name=1000&federated_search_id=1c8a388c-fcc1-40a3-a075-3e4a6cc4cc8b', 'https://www.airbnb.es/rooms/20345305?adults=5&children=0&infants=0&check_in=2022-03-11&check_out=2022-03-13&previous_page_section_name=1000&federated_search_id=1c8a388c-fcc1-40a3-a075-3e4a6cc4cc8b', 'https://www.airbnb.es/rooms/53188720?adults=5&children=0&infants=0&check_in=2022-03-18&check_out=2022-03-20&previous_page_section_name=1000&federated_search_id=1c8a388c-fcc1-40a3-a075-3e4a6cc4cc8b', 'https://www.airbnb.es/rooms/16924691?adults=5&children=0&infants=0&check_in=2022-04-15&check_out=2022-04-17&previous_page_section_name=1000&federated_search_id=1c8a388c-fcc1-40a3-a075-3e4a6cc4cc8b', 'https://www.airbnb.es/rooms/21035366?adults=5&children=0&infants=0&check_in=2022-04-08&check_out=2022-04-10&previous_page_section_name=1000&federated_search_id=1c8a388c-fcc1-40a3-a075-3e4a6cc4cc8b', 'https://www.airbnb.es/rooms/10913078?adults=5&children=0&infants=0&check_in=2022-01-28&check_out=2022-01-30&previous_page_section_name=1000&federated_search_id=1c8a388c-fcc1-40a3-a075-3e4a6cc4cc8b', 'https://www.airbnb.es/rooms/35160022?adults=5&children=0&infants=0&check_in=2022-01-28&check_out=2022-01-30&previous_page_section_name=1000&federated_search_id=1c8a388c-fcc1-40a3-a075-3e4a6cc4cc8b', 'https://www.airbnb.es/rooms/51359482?adults=5&children=0&infants=0&check_in=2022-05-13&check_out=2022-05-15&previous_page_section_name=1000&federated_search_id=1c8a388c-fcc1-40a3-a075-3e4a6cc4cc8b', 'https://www.airbnb.es/rooms/19353757?adults=5&children=0&infants=0&check_in=2022-05-20&check_out=2022-05-22&previous_page_section_name=1000&federated_search_id=1c8a388c-fcc1-40a3-a075-3e4a6cc4cc8b', 'https://www.airbnb.es/rooms/47883460?adults=5&children=0&infants=0&check_in=2021-12-24&check_out=2021-12-26&previous_page_section_name=1000&federated_search_id=1c8a388c-fcc1-40a3-a075-3e4a6cc4cc8b', 'https://www.airbnb.es/rooms/462072?adults=5&children=0&infants=0&check_in=2022-10-28&check_out=2022-10-30&previous_page_section_name=1000&federated_search_id=1c8a388c-fcc1-40a3-a075-3e4a6cc4cc8b', 'https://www.airbnb.es/rooms/plus/22305603?adults=5&children=0&infants=0&check_in=2022-02-04&check_out=2022-02-06&previous_page_section_name=1000&federated_search_id=1c8a388c-fcc1-40a3-a075-3e4a6cc4cc8b', 'https://www.airbnb.es/rooms/26002454?adults=5&children=0&infants=0&check_in=2022-05-13&check_out=2022-05-15&previous_page_section_name=1000&federated_search_id=1c8a388c-fcc1-40a3-a075-3e4a6cc4cc8b', 'https://www.airbnb.es/rooms/49953983?adults=5&children=0&infants=0&check_in=2022-02-04&check_out=2022-02-06&previous_page_section_name=1000&federated_search_id=1c8a388c-fcc1-40a3-a075-3e4a6cc4cc8b', 'https://www.airbnb.es/rooms/6216745?adults=5&children=0&infants=0&check_in=2022-06-10&check_out=2022-06-12&previous_page_section_name=1000&federated_search_id=1c8a388c-fcc1-40a3-a075-3e4a6cc4cc8b', 'https://www.airbnb.es/rooms/19984000?adults=5&children=0&infants=0&check_in=2022-04-08&check_out=2022-04-10&previous_page_section_name=1000&federated_search_id=1c8a388c-fcc1-40a3-a075-3e4a6cc4cc8b', 'https://www.airbnb.es/rooms/44075734?adults=5&children=0&infants=0&check_in=2022-10-07&check_out=2022-10-09&previous_page_section_name=1000&federated_search_id=1c8a388c-fcc1-40a3-a075-3e4a6cc4cc8b', 'https://www.airbnb.es/rooms/52123764?adults=5&children=0&infants=0&check_in=2022-05-27&check_out=2022-05-29&previous_page_section_name=1000&federated_search_id=1c8a388c-fcc1-40a3-a075-3e4a6cc4cc8b', 'https://www.airbnb.es/rooms/53764457?adults=5&children=0&infants=0&check_in=2022-03-11&check_out=2022-03-13&previous_page_section_name=1000&federated_search_id=1c8a388c-fcc1-40a3-a075-3e4a6cc4cc8b', 'https://www.airbnb.es/rooms/49396783?adults=5&children=0&infants=0&check_in=2022-09-30&check_out=2022-10-02&previous_page_section_name=1000&federated_search_id=76193a94-420f-43cd-a190-1b9d06e1ed91', 'https://www.airbnb.es/rooms/36266089?adults=5&children=0&infants=0&check_in=2022-05-20&check_out=2022-05-22&previous_page_section_name=1000&federated_search_id=76193a94-420f-43cd-a190-1b9d06e1ed91', 'https://www.airbnb.es/rooms/13509563?adults=5&children=0&infants=0&check_in=2022-05-06&check_out=2022-05-08&previous_page_section_name=1000&federated_search_id=76193a94-420f-43cd-a190-1b9d06e1ed91', 'https://www.airbnb.es/rooms/45612845?adults=5&children=0&infants=0&check_in=2022-05-27&check_out=2022-05-29&previous_page_section_name=1000&federated_search_id=76193a94-420f-43cd-a190-1b9d06e1ed91', 'https://www.airbnb.es/rooms/53504179?adults=5&children=0&infants=0&check_in=2022-10-14&check_out=2022-10-16&previous_page_section_name=1000&federated_search_id=76193a94-420f-43cd-a190-1b9d06e1ed91', 'https://www.airbnb.es/rooms/43889292?adults=5&children=0&infants=0&check_in=2022-10-14&check_out=2022-10-16&previous_page_section_name=1000&federated_search_id=76193a94-420f-43cd-a190-1b9d06e1ed91', 'https://www.airbnb.es/rooms/41632405?adults=5&children=0&infants=0&check_in=2022-06-17&check_out=2022-06-19&previous_page_section_name=1000&federated_search_id=76193a94-420f-43cd-a190-1b9d06e1ed91', 'https://www.airbnb.es/rooms/53618209?adults=5&children=0&infants=0&check_in=2022-01-28&check_out=2022-01-30&previous_page_section_name=1000&federated_search_id=76193a94-420f-43cd-a190-1b9d06e1ed91', 'https://www.airbnb.es/rooms/49723807?adults=5&children=0&infants=0&check_in=2022-01-14&check_out=2022-01-16&previous_page_section_name=1000&federated_search_id=76193a94-420f-43cd-a190-1b9d06e1ed91', 'https://www.airbnb.es/rooms/45701437?adults=5&children=0&infants=0&check_in=2022-03-11&check_out=2022-03-13&previous_page_section_name=1000&federated_search_id=76193a94-420f-43cd-a190-1b9d06e1ed91', 'https://www.airbnb.es/rooms/18399333?adults=5&children=0&infants=0&check_in=2022-03-25&check_out=2022-03-27&previous_page_section_name=1000&federated_search_id=76193a94-420f-43cd-a190-1b9d06e1ed91', 'https://www.airbnb.es/rooms/45947254?adults=5&children=0&infants=0&check_in=2022-01-21&check_out=2022-01-23&previous_page_section_name=1000&federated_search_id=76193a94-420f-43cd-a190-1b9d06e1ed91', 'https://www.airbnb.es/rooms/13592776?adults=5&children=0&infants=0&check_in=2022-01-21&check_out=2022-01-23&previous_page_section_name=1000&federated_search_id=76193a94-420f-43cd-a190-1b9d06e1ed91', 'https://www.airbnb.es/rooms/44075734?adults=5&children=0&infants=0&check_in=2022-09-16&check_out=2022-09-18&previous_page_section_name=1000&federated_search_id=76193a94-420f-43cd-a190-1b9d06e1ed91', 'https://www.airbnb.es/rooms/36438750?adults=5&children=0&infants=0&check_in=2022-04-29&check_out=2022-05-01&previous_page_section_name=1000&federated_search_id=76193a94-420f-43cd-a190-1b9d06e1ed91', 'https://www.airbnb.es/rooms/15435655?adults=5&children=0&infants=0&check_in=2022-06-17&check_out=2022-06-19&previous_page_section_name=1000&federated_search_id=76193a94-420f-43cd-a190-1b9d06e1ed91', 'https://www.airbnb.es/rooms/plus/24178248?adults=5&children=0&infants=0&check_in=2022-07-01&check_out=2022-07-03&previous_page_section_name=1000&federated_search_id=76193a94-420f-43cd-a190-1b9d06e1ed91', 'https://www.airbnb.es/rooms/plus/30228986?adults=5&children=0&infants=0&check_in=2022-07-29&check_out=2022-07-31&previous_page_section_name=1000&federated_search_id=76193a94-420f-43cd-a190-1b9d06e1ed91', 'https://www.airbnb.es/rooms/53180435?adults=5&children=0&infants=0&check_in=2022-02-04&check_out=2022-02-06&previous_page_section_name=1000&federated_search_id=76193a94-420f-43cd-a190-1b9d06e1ed91', 'https://www.airbnb.es/rooms/6446880?adults=5&children=0&infants=0&check_in=2022-11-04&check_out=2022-11-06&previous_page_section_name=1000&federated_search_id=76193a94-420f-43cd-a190-1b9d06e1ed91']\n"
   ]
  },
  {
   "cell_type": "code",
   "execution_count": 3,
   "id": "fa54dad3",
   "metadata": {},
   "outputs": [],
   "source": [
    "urls_m_b_s = ['https://www.airbnb.es/rooms/47064030?adults=5&children=0&infants=0&check_in=2022-10-21&check_out=2022-10-23&previous_page_section_name=1000&federated_search_id=e5fd26a4-b86f-44cc-a613-6027884c8480', 'https://www.airbnb.es/rooms/49464305?adults=5&children=0&infants=0&check_in=2022-06-10&check_out=2022-06-12&previous_page_section_name=1000&federated_search_id=e5fd26a4-b86f-44cc-a613-6027884c8480', 'https://www.airbnb.es/rooms/26951188?adults=5&children=0&infants=0&check_in=2022-06-03&check_out=2022-06-05&previous_page_section_name=1000&federated_search_id=e5fd26a4-b86f-44cc-a613-6027884c8480', 'https://www.airbnb.es/rooms/18093383?adults=5&children=0&infants=0&check_in=2022-05-27&check_out=2022-05-29&previous_page_section_name=1000&federated_search_id=e5fd26a4-b86f-44cc-a613-6027884c8480', 'https://www.airbnb.es/rooms/16909270?adults=5&children=0&infants=0&check_in=2022-09-02&check_out=2022-09-04&previous_page_section_name=1000&federated_search_id=e5fd26a4-b86f-44cc-a613-6027884c8480', 'https://www.airbnb.es/rooms/12350278?adults=5&children=0&infants=0&check_in=2022-11-04&check_out=2022-11-06&previous_page_section_name=1000&federated_search_id=e5fd26a4-b86f-44cc-a613-6027884c8480', 'https://www.airbnb.es/rooms/36075069?adults=5&children=0&infants=0&check_in=2022-03-11&check_out=2022-03-13&previous_page_section_name=1000&federated_search_id=e5fd26a4-b86f-44cc-a613-6027884c8480', 'https://www.airbnb.es/rooms/13722593?adults=5&children=0&infants=0&check_in=2022-09-16&check_out=2022-09-18&previous_page_section_name=1000&federated_search_id=e5fd26a4-b86f-44cc-a613-6027884c8480', 'https://www.airbnb.es/rooms/53473598?adults=5&children=0&infants=0&check_in=2022-08-19&check_out=2022-08-21&previous_page_section_name=1000&federated_search_id=e5fd26a4-b86f-44cc-a613-6027884c8480', 'https://www.airbnb.es/rooms/49935836?adults=5&children=0&infants=0&check_in=2022-01-21&check_out=2022-01-23&previous_page_section_name=1000&federated_search_id=e5fd26a4-b86f-44cc-a613-6027884c8480', 'https://www.airbnb.es/rooms/28809812?adults=5&children=0&infants=0&check_in=2022-03-11&check_out=2022-03-13&previous_page_section_name=1000&federated_search_id=e5fd26a4-b86f-44cc-a613-6027884c8480', 'https://www.airbnb.es/rooms/49130064?adults=5&children=0&infants=0&check_in=2022-11-25&check_out=2022-11-27&previous_page_section_name=1000&federated_search_id=e5fd26a4-b86f-44cc-a613-6027884c8480', 'https://www.airbnb.es/rooms/19311782?adults=5&children=0&infants=0&check_in=2022-05-13&check_out=2022-05-15&previous_page_section_name=1000&federated_search_id=e5fd26a4-b86f-44cc-a613-6027884c8480', 'https://www.airbnb.es/rooms/51637434?adults=5&children=0&infants=0&check_in=2022-08-26&check_out=2022-08-28&previous_page_section_name=1000&federated_search_id=e5fd26a4-b86f-44cc-a613-6027884c8480', 'https://www.airbnb.es/rooms/53303477?adults=5&children=0&infants=0&check_in=2022-01-07&check_out=2022-01-09&previous_page_section_name=1000&federated_search_id=e5fd26a4-b86f-44cc-a613-6027884c8480', 'https://www.airbnb.es/rooms/9940226?adults=5&children=0&infants=0&check_in=2022-01-21&check_out=2022-01-23&previous_page_section_name=1000&federated_search_id=e5fd26a4-b86f-44cc-a613-6027884c8480', 'https://www.airbnb.es/rooms/49503860?adults=5&children=0&infants=0&check_in=2022-07-22&check_out=2022-07-24&previous_page_section_name=1000&federated_search_id=e5fd26a4-b86f-44cc-a613-6027884c8480', 'https://www.airbnb.es/rooms/18087363?adults=5&children=0&infants=0&check_in=2022-01-28&check_out=2022-01-30&previous_page_section_name=1000&federated_search_id=e5fd26a4-b86f-44cc-a613-6027884c8480', 'https://www.airbnb.es/rooms/49847451?adults=5&children=0&infants=0&check_in=2022-03-04&check_out=2022-03-06&previous_page_section_name=1000&federated_search_id=e5fd26a4-b86f-44cc-a613-6027884c8480', 'https://www.airbnb.es/rooms/21737766?adults=5&children=0&infants=0&check_in=2022-09-30&check_out=2022-10-02&previous_page_section_name=1000&federated_search_id=e5fd26a4-b86f-44cc-a613-6027884c8480', 'https://www.airbnb.es/rooms/336672?adults=5&children=0&infants=0&check_in=2022-02-04&check_out=2022-02-06&previous_page_section_name=1000&federated_search_id=c4ebe082-aba9-4bfd-958a-837f6d3a5e04', 'https://www.airbnb.es/rooms/21737766?adults=5&children=0&infants=0&check_in=2022-08-12&check_out=2022-08-14&previous_page_section_name=1000&federated_search_id=c4ebe082-aba9-4bfd-958a-837f6d3a5e04', 'https://www.airbnb.es/rooms/35786576?adults=5&children=0&infants=0&check_in=2022-09-23&check_out=2022-09-25&previous_page_section_name=1000&federated_search_id=c4ebe082-aba9-4bfd-958a-837f6d3a5e04', 'https://www.airbnb.es/rooms/19376892?adults=5&children=0&infants=0&check_in=2022-09-09&check_out=2022-09-11&previous_page_section_name=1000&federated_search_id=c4ebe082-aba9-4bfd-958a-837f6d3a5e04', 'https://www.airbnb.es/rooms/12400956?adults=5&children=0&infants=0&check_in=2022-09-30&check_out=2022-10-02&previous_page_section_name=1000&federated_search_id=c4ebe082-aba9-4bfd-958a-837f6d3a5e04', 'https://www.airbnb.es/rooms/50278554?adults=5&children=0&infants=0&check_in=2022-03-04&check_out=2022-03-06&previous_page_section_name=1000&federated_search_id=c4ebe082-aba9-4bfd-958a-837f6d3a5e04', 'https://www.airbnb.es/rooms/53666333?adults=5&children=0&infants=0&check_in=2022-01-28&check_out=2022-01-30&previous_page_section_name=1000&federated_search_id=c4ebe082-aba9-4bfd-958a-837f6d3a5e04', 'https://www.airbnb.es/rooms/30361510?adults=5&children=0&infants=0&check_in=2022-10-21&check_out=2022-10-23&previous_page_section_name=1000&federated_search_id=c4ebe082-aba9-4bfd-958a-837f6d3a5e04', 'https://www.airbnb.es/rooms/9940226?adults=5&children=0&infants=0&check_in=2022-01-21&check_out=2022-01-23&previous_page_section_name=1000&federated_search_id=c4ebe082-aba9-4bfd-958a-837f6d3a5e04', 'https://www.airbnb.es/rooms/19386068?adults=5&children=0&infants=0&check_in=2022-01-07&check_out=2022-01-09&previous_page_section_name=1000&federated_search_id=c4ebe082-aba9-4bfd-958a-837f6d3a5e04', 'https://www.airbnb.es/rooms/47883549?adults=5&children=0&infants=0&check_in=2021-12-24&check_out=2021-12-26&previous_page_section_name=1000&federated_search_id=c4ebe082-aba9-4bfd-958a-837f6d3a5e04', 'https://www.airbnb.es/rooms/19544331?adults=5&children=0&infants=0&check_in=2022-05-20&check_out=2022-05-22&previous_page_section_name=1000&federated_search_id=c4ebe082-aba9-4bfd-958a-837f6d3a5e04', 'https://www.airbnb.es/rooms/24730867?adults=5&children=0&infants=0&check_in=2022-03-11&check_out=2022-03-13&previous_page_section_name=1000&federated_search_id=c4ebe082-aba9-4bfd-958a-837f6d3a5e04', 'https://www.airbnb.es/rooms/730347?adults=5&children=0&infants=0&check_in=2022-04-22&check_out=2022-04-24&previous_page_section_name=1000&federated_search_id=c4ebe082-aba9-4bfd-958a-837f6d3a5e04', 'https://www.airbnb.es/rooms/39443120?adults=5&children=0&infants=0&check_in=2022-01-28&check_out=2022-01-30&previous_page_section_name=1000&federated_search_id=c4ebe082-aba9-4bfd-958a-837f6d3a5e04', 'https://www.airbnb.es/rooms/36381578?adults=5&children=0&infants=0&check_in=2021-12-24&check_out=2021-12-26&previous_page_section_name=1000&federated_search_id=c4ebe082-aba9-4bfd-958a-837f6d3a5e04', 'https://www.airbnb.es/rooms/43338526?adults=5&children=0&infants=0&check_in=2022-08-26&check_out=2022-08-28&previous_page_section_name=1000&federated_search_id=c4ebe082-aba9-4bfd-958a-837f6d3a5e04', 'https://www.airbnb.es/rooms/53322142?adults=5&children=0&infants=0&check_in=2022-01-28&check_out=2022-01-30&previous_page_section_name=1000&federated_search_id=c4ebe082-aba9-4bfd-958a-837f6d3a5e04', 'https://www.airbnb.es/rooms/24274586?adults=5&children=0&infants=0&check_in=2022-08-12&check_out=2022-08-14&previous_page_section_name=1000&federated_search_id=c4ebe082-aba9-4bfd-958a-837f6d3a5e04', 'https://www.airbnb.es/rooms/50830205?adults=5&children=0&infants=0&check_in=2022-07-08&check_out=2022-07-10&previous_page_section_name=1000&federated_search_id=c4ebe082-aba9-4bfd-958a-837f6d3a5e04', 'https://www.airbnb.es/rooms/50471757?adults=5&children=0&infants=0&check_in=2022-04-08&check_out=2022-04-10&previous_page_section_name=1000&federated_search_id=5de6be15-77d0-46c6-8a3c-f08058671f98', 'https://www.airbnb.es/rooms/34276488?adults=5&children=0&infants=0&check_in=2022-10-07&check_out=2022-10-09&previous_page_section_name=1000&federated_search_id=5de6be15-77d0-46c6-8a3c-f08058671f98', 'https://www.airbnb.es/rooms/47437084?adults=5&children=0&infants=0&check_in=2022-09-16&check_out=2022-09-18&previous_page_section_name=1000&federated_search_id=5de6be15-77d0-46c6-8a3c-f08058671f98', 'https://www.airbnb.es/rooms/52891194?adults=5&children=0&infants=0&check_in=2022-11-04&check_out=2022-11-06&previous_page_section_name=1000&federated_search_id=5de6be15-77d0-46c6-8a3c-f08058671f98', 'https://www.airbnb.es/rooms/49464305?adults=5&children=0&infants=0&check_in=2022-06-10&check_out=2022-06-12&previous_page_section_name=1000&federated_search_id=5de6be15-77d0-46c6-8a3c-f08058671f98', 'https://www.airbnb.es/rooms/12350278?adults=5&children=0&infants=0&check_in=2022-11-04&check_out=2022-11-06&previous_page_section_name=1000&federated_search_id=5de6be15-77d0-46c6-8a3c-f08058671f98', 'https://www.airbnb.es/rooms/41022326?adults=5&children=0&infants=0&check_in=2022-02-18&check_out=2022-02-20&previous_page_section_name=1000&federated_search_id=5de6be15-77d0-46c6-8a3c-f08058671f98', 'https://www.airbnb.es/rooms/14485245?adults=5&children=0&infants=0&check_in=2022-02-18&check_out=2022-02-20&previous_page_section_name=1000&federated_search_id=5de6be15-77d0-46c6-8a3c-f08058671f98', 'https://www.airbnb.es/rooms/34889952?adults=5&children=0&infants=0&check_in=2022-02-04&check_out=2022-02-06&previous_page_section_name=1000&federated_search_id=5de6be15-77d0-46c6-8a3c-f08058671f98', 'https://www.airbnb.es/rooms/9182042?adults=5&children=0&infants=0&check_in=2022-01-28&check_out=2022-01-30&previous_page_section_name=1000&federated_search_id=5de6be15-77d0-46c6-8a3c-f08058671f98', 'https://www.airbnb.es/rooms/1053180?adults=5&children=0&infants=0&check_in=2022-06-24&check_out=2022-06-26&previous_page_section_name=1000&federated_search_id=5de6be15-77d0-46c6-8a3c-f08058671f98', 'https://www.airbnb.es/rooms/16909270?adults=5&children=0&infants=0&check_in=2022-07-01&check_out=2022-07-03&previous_page_section_name=1000&federated_search_id=5de6be15-77d0-46c6-8a3c-f08058671f98', 'https://www.airbnb.es/rooms/9959387?adults=5&children=0&infants=0&check_in=2022-03-11&check_out=2022-03-13&previous_page_section_name=1000&federated_search_id=5de6be15-77d0-46c6-8a3c-f08058671f98', 'https://www.airbnb.es/rooms/45342011?adults=5&children=0&infants=0&check_in=2022-05-27&check_out=2022-05-29&previous_page_section_name=1000&federated_search_id=5de6be15-77d0-46c6-8a3c-f08058671f98', 'https://www.airbnb.es/rooms/13190733?adults=5&children=0&infants=0&check_in=2022-01-14&check_out=2022-01-16&previous_page_section_name=1000&federated_search_id=5de6be15-77d0-46c6-8a3c-f08058671f98', 'https://www.airbnb.es/rooms/16376241?adults=5&children=0&infants=0&check_in=2022-01-14&check_out=2022-01-16&previous_page_section_name=1000&federated_search_id=5de6be15-77d0-46c6-8a3c-f08058671f98', 'https://www.airbnb.es/rooms/49503860?adults=5&children=0&infants=0&check_in=2022-07-22&check_out=2022-07-24&previous_page_section_name=1000&federated_search_id=5de6be15-77d0-46c6-8a3c-f08058671f98', 'https://www.airbnb.es/rooms/50445789?adults=5&children=0&infants=0&check_in=2022-03-11&check_out=2022-03-13&previous_page_section_name=1000&federated_search_id=5de6be15-77d0-46c6-8a3c-f08058671f98', 'https://www.airbnb.es/rooms/40024546?adults=5&children=0&infants=0&check_in=2022-02-04&check_out=2022-02-06&previous_page_section_name=1000&federated_search_id=5de6be15-77d0-46c6-8a3c-f08058671f98', 'https://www.airbnb.es/rooms/42056078?adults=5&children=0&infants=0&check_in=2022-09-23&check_out=2022-09-25&previous_page_section_name=1000&federated_search_id=5de6be15-77d0-46c6-8a3c-f08058671f98', 'https://www.airbnb.es/rooms/20285377?adults=5&children=0&infants=0&check_in=2022-04-08&check_out=2022-04-10&previous_page_section_name=1000&federated_search_id=60b771ab-a9fe-4b4f-8fd6-455e1e66f646', 'https://www.airbnb.es/rooms/49464305?adults=5&children=0&infants=0&check_in=2022-04-01&check_out=2022-04-03&previous_page_section_name=1000&federated_search_id=60b771ab-a9fe-4b4f-8fd6-455e1e66f646', 'https://www.airbnb.es/rooms/42056078?adults=5&children=0&infants=0&check_in=2022-02-11&check_out=2022-02-13&previous_page_section_name=1000&federated_search_id=60b771ab-a9fe-4b4f-8fd6-455e1e66f646', 'https://www.airbnb.es/rooms/48099714?adults=5&children=0&infants=0&check_in=2022-11-11&check_out=2022-11-13&previous_page_section_name=1000&federated_search_id=60b771ab-a9fe-4b4f-8fd6-455e1e66f646', 'https://www.airbnb.es/rooms/50838040?adults=5&children=0&infants=0&check_in=2022-07-15&check_out=2022-07-17&previous_page_section_name=1000&federated_search_id=60b771ab-a9fe-4b4f-8fd6-455e1e66f646', 'https://www.airbnb.es/rooms/34807229?adults=5&children=0&infants=0&check_in=2022-06-10&check_out=2022-06-12&previous_page_section_name=1000&federated_search_id=60b771ab-a9fe-4b4f-8fd6-455e1e66f646', 'https://www.airbnb.es/rooms/52544691?adults=5&children=0&infants=0&check_in=2022-02-04&check_out=2022-02-06&previous_page_section_name=1000&federated_search_id=60b771ab-a9fe-4b4f-8fd6-455e1e66f646', 'https://www.airbnb.es/rooms/16376241?adults=5&children=0&infants=0&check_in=2022-01-14&check_out=2022-01-16&previous_page_section_name=1000&federated_search_id=60b771ab-a9fe-4b4f-8fd6-455e1e66f646', 'https://www.airbnb.es/rooms/31983597?adults=5&children=0&infants=0&check_in=2022-08-19&check_out=2022-08-21&previous_page_section_name=1000&federated_search_id=60b771ab-a9fe-4b4f-8fd6-455e1e66f646', 'https://www.airbnb.es/rooms/44160477?adults=5&children=0&infants=0&check_in=2022-09-30&check_out=2022-10-02&previous_page_section_name=1000&federated_search_id=60b771ab-a9fe-4b4f-8fd6-455e1e66f646', 'https://www.airbnb.es/rooms/50444806?adults=5&children=0&infants=0&check_in=2022-03-11&check_out=2022-03-13&previous_page_section_name=1000&federated_search_id=60b771ab-a9fe-4b4f-8fd6-455e1e66f646', 'https://www.airbnb.es/rooms/31116159?adults=5&children=0&infants=0&check_in=2022-03-11&check_out=2022-03-13&previous_page_section_name=1000&federated_search_id=60b771ab-a9fe-4b4f-8fd6-455e1e66f646', 'https://www.airbnb.es/rooms/41391219?adults=5&children=0&infants=0&check_in=2022-01-21&check_out=2022-01-23&previous_page_section_name=1000&federated_search_id=60b771ab-a9fe-4b4f-8fd6-455e1e66f646', 'https://www.airbnb.es/rooms/904775?adults=5&children=0&infants=0&check_in=2022-06-03&check_out=2022-06-05&previous_page_section_name=1000&federated_search_id=60b771ab-a9fe-4b4f-8fd6-455e1e66f646', 'https://www.airbnb.es/rooms/31876209?adults=5&children=0&infants=0&check_in=2022-03-25&check_out=2022-03-27&previous_page_section_name=1000&federated_search_id=60b771ab-a9fe-4b4f-8fd6-455e1e66f646', 'https://www.airbnb.es/rooms/52938116?adults=5&children=0&infants=0&check_in=2022-06-03&check_out=2022-06-05&previous_page_section_name=1000&federated_search_id=60b771ab-a9fe-4b4f-8fd6-455e1e66f646', 'https://www.airbnb.es/rooms/17281972?adults=5&children=0&infants=0&check_in=2022-02-04&check_out=2022-02-06&previous_page_section_name=1000&federated_search_id=60b771ab-a9fe-4b4f-8fd6-455e1e66f646', 'https://www.airbnb.es/rooms/47883560?adults=5&children=0&infants=0&check_in=2021-12-24&check_out=2021-12-26&previous_page_section_name=1000&federated_search_id=60b771ab-a9fe-4b4f-8fd6-455e1e66f646', 'https://www.airbnb.es/rooms/53202120?adults=5&children=0&infants=0&check_in=2022-08-26&check_out=2022-08-28&previous_page_section_name=1000&federated_search_id=60b771ab-a9fe-4b4f-8fd6-455e1e66f646', 'https://www.airbnb.es/rooms/42752490?adults=5&children=0&infants=0&check_in=2022-03-04&check_out=2022-03-06&previous_page_section_name=1000&federated_search_id=60b771ab-a9fe-4b4f-8fd6-455e1e66f646', 'https://www.airbnb.es/rooms/53202120?adults=5&children=0&infants=0&check_in=2022-07-08&check_out=2022-07-10&previous_page_section_name=1000&federated_search_id=d76b7f6a-e597-419c-b57b-198f04449ed6', 'https://www.airbnb.es/rooms/42752490?adults=5&children=0&infants=0&check_in=2022-03-04&check_out=2022-03-06&previous_page_section_name=1000&federated_search_id=d76b7f6a-e597-419c-b57b-198f04449ed6', 'https://www.airbnb.es/rooms/40373833?adults=5&children=0&infants=0&check_in=2021-12-24&check_out=2021-12-26&previous_page_section_name=1000&federated_search_id=d76b7f6a-e597-419c-b57b-198f04449ed6', 'https://www.airbnb.es/rooms/21191658?adults=5&children=0&infants=0&check_in=2022-06-03&check_out=2022-06-05&previous_page_section_name=1000&federated_search_id=d76b7f6a-e597-419c-b57b-198f04449ed6', 'https://www.airbnb.es/rooms/43574090?adults=5&children=0&infants=0&check_in=2022-11-11&check_out=2022-11-13&previous_page_section_name=1000&federated_search_id=d76b7f6a-e597-419c-b57b-198f04449ed6', 'https://www.airbnb.es/rooms/39514922?adults=5&children=0&infants=0&check_in=2022-01-14&check_out=2022-01-16&previous_page_section_name=1000&federated_search_id=d76b7f6a-e597-419c-b57b-198f04449ed6', 'https://www.airbnb.es/rooms/49848304?adults=5&children=0&infants=0&check_in=2022-01-28&check_out=2022-01-30&previous_page_section_name=1000&federated_search_id=d76b7f6a-e597-419c-b57b-198f04449ed6', 'https://www.airbnb.es/rooms/18326493?adults=5&children=0&infants=0&check_in=2022-09-30&check_out=2022-10-02&previous_page_section_name=1000&federated_search_id=d76b7f6a-e597-419c-b57b-198f04449ed6', 'https://www.airbnb.es/rooms/52256215?adults=5&children=0&infants=0&check_in=2022-03-11&check_out=2022-03-13&previous_page_section_name=1000&federated_search_id=d76b7f6a-e597-419c-b57b-198f04449ed6', 'https://www.airbnb.es/rooms/23210760?adults=5&children=0&infants=0&check_in=2022-11-25&check_out=2022-11-27&previous_page_section_name=1000&federated_search_id=d76b7f6a-e597-419c-b57b-198f04449ed6', 'https://www.airbnb.es/rooms/48421435?adults=5&children=0&infants=0&check_in=2022-06-03&check_out=2022-06-05&previous_page_section_name=1000&federated_search_id=d76b7f6a-e597-419c-b57b-198f04449ed6', 'https://www.airbnb.es/rooms/28809812?adults=5&children=0&infants=0&check_in=2022-03-04&check_out=2022-03-06&previous_page_section_name=1000&federated_search_id=d76b7f6a-e597-419c-b57b-198f04449ed6', 'https://www.airbnb.es/rooms/40085524?adults=5&children=0&infants=0&check_in=2022-03-25&check_out=2022-03-27&previous_page_section_name=1000&federated_search_id=d76b7f6a-e597-419c-b57b-198f04449ed6', 'https://www.airbnb.es/rooms/50809113?adults=5&children=0&infants=0&check_in=2022-10-28&check_out=2022-10-30&previous_page_section_name=1000&federated_search_id=d76b7f6a-e597-419c-b57b-198f04449ed6', 'https://www.airbnb.es/rooms/44349389?adults=5&children=0&infants=0&check_in=2022-11-25&check_out=2022-11-27&previous_page_section_name=1000&federated_search_id=d76b7f6a-e597-419c-b57b-198f04449ed6', 'https://www.airbnb.es/rooms/32949914?adults=5&children=0&infants=0&check_in=2022-05-20&check_out=2022-05-22&previous_page_section_name=1000&federated_search_id=d76b7f6a-e597-419c-b57b-198f04449ed6', 'https://www.airbnb.es/rooms/44047671?adults=5&children=0&infants=0&check_in=2022-06-03&check_out=2022-06-05&previous_page_section_name=1000&federated_search_id=d76b7f6a-e597-419c-b57b-198f04449ed6', 'https://www.airbnb.es/rooms/9182042?adults=5&children=0&infants=0&check_in=2022-02-18&check_out=2022-02-20&previous_page_section_name=1000&federated_search_id=d76b7f6a-e597-419c-b57b-198f04449ed6', 'https://www.airbnb.es/rooms/15229880?adults=5&children=0&infants=0&check_in=2022-02-18&check_out=2022-02-20&previous_page_section_name=1000&federated_search_id=d76b7f6a-e597-419c-b57b-198f04449ed6', 'https://www.airbnb.es/rooms/37317946?adults=5&children=0&infants=0&check_in=2022-02-04&check_out=2022-02-06&previous_page_section_name=1000&federated_search_id=d76b7f6a-e597-419c-b57b-198f04449ed6', 'https://www.airbnb.es/rooms/14485245?adults=5&children=0&infants=0&check_in=2022-03-11&check_out=2022-03-13&previous_page_section_name=1000&federated_search_id=cd4e8672-dd4e-49e7-a1af-0f94c080582c', 'https://www.airbnb.es/rooms/6507502?adults=5&children=0&infants=0&check_in=2022-03-25&check_out=2022-03-27&previous_page_section_name=1000&federated_search_id=cd4e8672-dd4e-49e7-a1af-0f94c080582c', 'https://www.airbnb.es/rooms/31116159?adults=5&children=0&infants=0&check_in=2022-03-04&check_out=2022-03-06&previous_page_section_name=1000&federated_search_id=cd4e8672-dd4e-49e7-a1af-0f94c080582c', 'https://www.airbnb.es/rooms/52123716?adults=5&children=0&infants=0&check_in=2022-03-11&check_out=2022-03-13&previous_page_section_name=1000&federated_search_id=cd4e8672-dd4e-49e7-a1af-0f94c080582c', 'https://www.airbnb.es/rooms/49603092?adults=5&children=0&infants=0&check_in=2022-07-29&check_out=2022-07-31&previous_page_section_name=1000&federated_search_id=cd4e8672-dd4e-49e7-a1af-0f94c080582c', 'https://www.airbnb.es/rooms/47438408?adults=5&children=0&infants=0&check_in=2022-11-11&check_out=2022-11-13&previous_page_section_name=1000&federated_search_id=cd4e8672-dd4e-49e7-a1af-0f94c080582c', 'https://www.airbnb.es/rooms/50025775?adults=5&children=0&infants=0&check_in=2022-01-21&check_out=2022-01-23&previous_page_section_name=1000&federated_search_id=cd4e8672-dd4e-49e7-a1af-0f94c080582c', 'https://www.airbnb.es/rooms/36785557?adults=5&children=0&infants=0&check_in=2022-01-21&check_out=2022-01-23&previous_page_section_name=1000&federated_search_id=cd4e8672-dd4e-49e7-a1af-0f94c080582c', 'https://www.airbnb.es/rooms/49848304?adults=5&children=0&infants=0&check_in=2022-02-04&check_out=2022-02-06&previous_page_section_name=1000&federated_search_id=cd4e8672-dd4e-49e7-a1af-0f94c080582c', 'https://www.airbnb.es/rooms/29840861?adults=5&children=0&infants=0&check_in=2022-02-11&check_out=2022-02-13&previous_page_section_name=1000&federated_search_id=cd4e8672-dd4e-49e7-a1af-0f94c080582c', 'https://www.airbnb.es/rooms/31558756?adults=5&children=0&infants=0&check_in=2022-04-08&check_out=2022-04-10&previous_page_section_name=1000&federated_search_id=cd4e8672-dd4e-49e7-a1af-0f94c080582c', 'https://www.airbnb.es/rooms/plus/21732036?adults=5&children=0&infants=0&check_in=2022-04-08&check_out=2022-04-10&previous_page_section_name=1000&federated_search_id=cd4e8672-dd4e-49e7-a1af-0f94c080582c', 'https://www.airbnb.es/rooms/29447368?adults=5&children=0&infants=0&check_in=2022-03-25&check_out=2022-03-27&previous_page_section_name=1000&federated_search_id=cd4e8672-dd4e-49e7-a1af-0f94c080582c', 'https://www.airbnb.es/rooms/7432987?adults=5&children=0&infants=0&check_in=2022-02-11&check_out=2022-02-13&previous_page_section_name=1000&federated_search_id=cd4e8672-dd4e-49e7-a1af-0f94c080582c', 'https://www.airbnb.es/rooms/28809812?adults=5&children=0&infants=0&check_in=2022-03-11&check_out=2022-03-13&previous_page_section_name=1000&federated_search_id=cd4e8672-dd4e-49e7-a1af-0f94c080582c', 'https://www.airbnb.es/rooms/26820244?adults=5&children=0&infants=0&check_in=2022-06-03&check_out=2022-06-05&previous_page_section_name=1000&federated_search_id=cd4e8672-dd4e-49e7-a1af-0f94c080582c', 'https://www.airbnb.es/rooms/22942266?adults=5&children=0&infants=0&check_in=2022-05-13&check_out=2022-05-15&previous_page_section_name=1000&federated_search_id=cd4e8672-dd4e-49e7-a1af-0f94c080582c', 'https://www.airbnb.es/rooms/53544389?adults=5&children=0&infants=0&check_in=2022-01-21&check_out=2022-01-23&previous_page_section_name=1000&federated_search_id=cd4e8672-dd4e-49e7-a1af-0f94c080582c', 'https://www.airbnb.es/rooms/29409648?adults=5&children=0&infants=0&check_in=2022-02-11&check_out=2022-02-13&previous_page_section_name=1000&federated_search_id=cd4e8672-dd4e-49e7-a1af-0f94c080582c', 'https://www.airbnb.es/rooms/33788629?adults=5&children=0&infants=0&check_in=2022-02-11&check_out=2022-02-13&previous_page_section_name=1000&federated_search_id=cd4e8672-dd4e-49e7-a1af-0f94c080582c', 'https://www.airbnb.es/rooms/53544389?adults=5&children=0&infants=0&check_in=2022-03-04&check_out=2022-03-06&previous_page_section_name=1000&federated_search_id=e1f00717-0673-4ff4-a6a3-d6c827b2f432', 'https://www.airbnb.es/rooms/15229880?adults=5&children=0&infants=0&check_in=2022-02-18&check_out=2022-02-20&previous_page_section_name=1000&federated_search_id=e1f00717-0673-4ff4-a6a3-d6c827b2f432', 'https://www.airbnb.es/rooms/18939260?adults=5&children=0&infants=0&check_in=2022-04-01&check_out=2022-04-03&previous_page_section_name=1000&federated_search_id=e1f00717-0673-4ff4-a6a3-d6c827b2f432', 'https://www.airbnb.es/rooms/37317946?adults=5&children=0&infants=0&check_in=2022-01-07&check_out=2022-01-09&previous_page_section_name=1000&federated_search_id=e1f00717-0673-4ff4-a6a3-d6c827b2f432', 'https://www.airbnb.es/rooms/31558756?adults=5&children=0&infants=0&check_in=2022-10-21&check_out=2022-10-23&previous_page_section_name=1000&federated_search_id=e1f00717-0673-4ff4-a6a3-d6c827b2f432', 'https://www.airbnb.es/rooms/50183031?adults=5&children=0&infants=0&check_in=2021-12-24&check_out=2021-12-26&previous_page_section_name=1000&federated_search_id=e1f00717-0673-4ff4-a6a3-d6c827b2f432', 'https://www.airbnb.es/rooms/47438408?adults=5&children=0&infants=0&check_in=2022-11-18&check_out=2022-11-20&previous_page_section_name=1000&federated_search_id=e1f00717-0673-4ff4-a6a3-d6c827b2f432', 'https://www.airbnb.es/rooms/13751298?adults=5&children=0&infants=0&check_in=2022-02-04&check_out=2022-02-06&previous_page_section_name=1000&federated_search_id=e1f00717-0673-4ff4-a6a3-d6c827b2f432', 'https://www.airbnb.es/rooms/53188720?adults=5&children=0&infants=0&check_in=2022-01-07&check_out=2022-01-09&previous_page_section_name=1000&federated_search_id=e1f00717-0673-4ff4-a6a3-d6c827b2f432', 'https://www.airbnb.es/rooms/22416848?adults=5&children=0&infants=0&check_in=2022-01-28&check_out=2022-01-30&previous_page_section_name=1000&federated_search_id=e1f00717-0673-4ff4-a6a3-d6c827b2f432', 'https://www.airbnb.es/rooms/47048317?adults=5&children=0&infants=0&check_in=2022-03-04&check_out=2022-03-06&previous_page_section_name=1000&federated_search_id=e1f00717-0673-4ff4-a6a3-d6c827b2f432', 'https://www.airbnb.es/rooms/47132846?adults=5&children=0&infants=0&check_in=2022-05-06&check_out=2022-05-08&previous_page_section_name=1000&federated_search_id=e1f00717-0673-4ff4-a6a3-d6c827b2f432', 'https://www.airbnb.es/rooms/24300626?adults=5&children=0&infants=0&check_in=2022-02-25&check_out=2022-02-27&previous_page_section_name=1000&federated_search_id=e1f00717-0673-4ff4-a6a3-d6c827b2f432', 'https://www.airbnb.es/rooms/18326493?adults=5&children=0&infants=0&check_in=2022-08-26&check_out=2022-08-28&previous_page_section_name=1000&federated_search_id=e1f00717-0673-4ff4-a6a3-d6c827b2f432', 'https://www.airbnb.es/rooms/10146593?adults=5&children=0&infants=0&check_in=2022-06-03&check_out=2022-06-05&previous_page_section_name=1000&federated_search_id=e1f00717-0673-4ff4-a6a3-d6c827b2f432', 'https://www.airbnb.es/rooms/29587386?adults=5&children=0&infants=0&check_in=2022-02-04&check_out=2022-02-06&previous_page_section_name=1000&federated_search_id=e1f00717-0673-4ff4-a6a3-d6c827b2f432', 'https://www.airbnb.es/rooms/53599008?adults=5&children=0&infants=0&check_in=2022-05-06&check_out=2022-05-08&previous_page_section_name=1000&federated_search_id=e1f00717-0673-4ff4-a6a3-d6c827b2f432', 'https://www.airbnb.es/rooms/51279985?adults=5&children=0&infants=0&check_in=2022-01-28&check_out=2022-01-30&previous_page_section_name=1000&federated_search_id=e1f00717-0673-4ff4-a6a3-d6c827b2f432', 'https://www.airbnb.es/rooms/52123764?adults=5&children=0&infants=0&check_in=2022-05-20&check_out=2022-05-22&previous_page_section_name=1000&federated_search_id=e1f00717-0673-4ff4-a6a3-d6c827b2f432', 'https://www.airbnb.es/rooms/2943575?adults=5&children=0&infants=0&check_in=2022-06-17&check_out=2022-06-19&previous_page_section_name=1000&federated_search_id=e1f00717-0673-4ff4-a6a3-d6c827b2f432', 'https://www.airbnb.es/rooms/52902155?adults=5&children=0&infants=0&check_in=2022-04-08&check_out=2022-04-10&previous_page_section_name=1000&federated_search_id=a1739056-037d-440f-898b-49f4579c290d', 'https://www.airbnb.es/rooms/36785557?adults=5&children=0&infants=0&check_in=2022-02-04&check_out=2022-02-06&previous_page_section_name=1000&federated_search_id=a1739056-037d-440f-898b-49f4579c290d', 'https://www.airbnb.es/rooms/48127640?adults=5&children=0&infants=0&check_in=2022-03-18&check_out=2022-03-20&previous_page_section_name=1000&federated_search_id=a1739056-037d-440f-898b-49f4579c290d', 'https://www.airbnb.es/rooms/29840861?adults=5&children=0&infants=0&check_in=2022-02-25&check_out=2022-02-27&previous_page_section_name=1000&federated_search_id=a1739056-037d-440f-898b-49f4579c290d', 'https://www.airbnb.es/rooms/50415586?adults=5&children=0&infants=0&check_in=2022-05-27&check_out=2022-05-29&previous_page_section_name=1000&federated_search_id=a1739056-037d-440f-898b-49f4579c290d', 'https://www.airbnb.es/rooms/7432987?adults=5&children=0&infants=0&check_in=2022-10-14&check_out=2022-10-16&previous_page_section_name=1000&federated_search_id=a1739056-037d-440f-898b-49f4579c290d', 'https://www.airbnb.es/rooms/37469803?adults=5&children=0&infants=0&check_in=2022-03-18&check_out=2022-03-20&previous_page_section_name=1000&federated_search_id=a1739056-037d-440f-898b-49f4579c290d', 'https://www.airbnb.es/rooms/47438408?adults=5&children=0&infants=0&check_in=2022-11-18&check_out=2022-11-20&previous_page_section_name=1000&federated_search_id=a1739056-037d-440f-898b-49f4579c290d', 'https://www.airbnb.es/rooms/47883560?adults=5&children=0&infants=0&check_in=2022-03-04&check_out=2022-03-06&previous_page_section_name=1000&federated_search_id=a1739056-037d-440f-898b-49f4579c290d', 'https://www.airbnb.es/rooms/7540141?adults=5&children=0&infants=0&check_in=2022-07-15&check_out=2022-07-17&previous_page_section_name=1000&federated_search_id=a1739056-037d-440f-898b-49f4579c290d', 'https://www.airbnb.es/rooms/50025775?adults=5&children=0&infants=0&check_in=2022-01-21&check_out=2022-01-23&previous_page_section_name=1000&federated_search_id=a1739056-037d-440f-898b-49f4579c290d', 'https://www.airbnb.es/rooms/50298217?adults=5&children=0&infants=0&check_in=2022-01-14&check_out=2022-01-16&previous_page_section_name=1000&federated_search_id=a1739056-037d-440f-898b-49f4579c290d', 'https://www.airbnb.es/rooms/42219101?adults=5&children=0&infants=0&check_in=2022-01-21&check_out=2022-01-23&previous_page_section_name=1000&federated_search_id=a1739056-037d-440f-898b-49f4579c290d', 'https://www.airbnb.es/rooms/41550981?adults=5&children=0&infants=0&check_in=2022-01-14&check_out=2022-01-16&previous_page_section_name=1000&federated_search_id=a1739056-037d-440f-898b-49f4579c290d', 'https://www.airbnb.es/rooms/36765304?adults=5&children=0&infants=0&check_in=2022-02-18&check_out=2022-02-20&previous_page_section_name=1000&federated_search_id=a1739056-037d-440f-898b-49f4579c290d', 'https://www.airbnb.es/rooms/49130064?adults=5&children=0&infants=0&check_in=2022-02-11&check_out=2022-02-13&previous_page_section_name=1000&federated_search_id=a1739056-037d-440f-898b-49f4579c290d', 'https://www.airbnb.es/rooms/18939260?adults=5&children=0&infants=0&check_in=2022-03-04&check_out=2022-03-06&previous_page_section_name=1000&federated_search_id=a1739056-037d-440f-898b-49f4579c290d', 'https://www.airbnb.es/rooms/32623714?adults=5&children=0&infants=0&check_in=2022-02-04&check_out=2022-02-06&previous_page_section_name=1000&federated_search_id=a1739056-037d-440f-898b-49f4579c290d', 'https://www.airbnb.es/rooms/31662916?adults=5&children=0&infants=0&check_in=2022-09-23&check_out=2022-09-25&previous_page_section_name=1000&federated_search_id=a1739056-037d-440f-898b-49f4579c290d', 'https://www.airbnb.es/rooms/37832727?adults=5&children=0&infants=0&check_in=2022-05-20&check_out=2022-05-22&previous_page_section_name=1000&federated_search_id=a1739056-037d-440f-898b-49f4579c290d', 'https://www.airbnb.es/rooms/37469756?adults=5&children=0&infants=0&check_in=2022-01-07&check_out=2022-01-09&previous_page_section_name=1000&federated_search_id=831dc9b0-0ab7-4126-ab6b-4fbb3293f3bd', 'https://www.airbnb.es/rooms/39766700?adults=5&children=0&infants=0&check_in=2022-04-01&check_out=2022-04-03&previous_page_section_name=1000&federated_search_id=831dc9b0-0ab7-4126-ab6b-4fbb3293f3bd', 'https://www.airbnb.es/rooms/26118072?adults=5&children=0&infants=0&check_in=2022-02-04&check_out=2022-02-06&previous_page_section_name=1000&federated_search_id=831dc9b0-0ab7-4126-ab6b-4fbb3293f3bd', 'https://www.airbnb.es/rooms/53106911?adults=5&children=0&infants=0&check_in=2022-06-10&check_out=2022-06-12&previous_page_section_name=1000&federated_search_id=831dc9b0-0ab7-4126-ab6b-4fbb3293f3bd', 'https://www.airbnb.es/rooms/11620130?adults=5&children=0&infants=0&check_in=2022-09-16&check_out=2022-09-18&previous_page_section_name=1000&federated_search_id=831dc9b0-0ab7-4126-ab6b-4fbb3293f3bd', 'https://www.airbnb.es/rooms/50025775?adults=5&children=0&infants=0&check_in=2022-01-28&check_out=2022-01-30&previous_page_section_name=1000&federated_search_id=831dc9b0-0ab7-4126-ab6b-4fbb3293f3bd', 'https://www.airbnb.es/rooms/42752490?adults=5&children=0&infants=0&check_in=2022-03-11&check_out=2022-03-13&previous_page_section_name=1000&federated_search_id=831dc9b0-0ab7-4126-ab6b-4fbb3293f3bd', 'https://www.airbnb.es/rooms/50298217?adults=5&children=0&infants=0&check_in=2022-08-05&check_out=2022-08-07&previous_page_section_name=1000&federated_search_id=831dc9b0-0ab7-4126-ab6b-4fbb3293f3bd', 'https://www.airbnb.es/rooms/49461161?adults=5&children=0&infants=0&check_in=2022-02-04&check_out=2022-02-06&previous_page_section_name=1000&federated_search_id=831dc9b0-0ab7-4126-ab6b-4fbb3293f3bd', 'https://www.airbnb.es/rooms/52065219?adults=5&children=0&infants=0&check_in=2022-09-02&check_out=2022-09-04&previous_page_section_name=1000&federated_search_id=831dc9b0-0ab7-4126-ab6b-4fbb3293f3bd', 'https://www.airbnb.es/rooms/10146593?adults=5&children=0&infants=0&check_in=2022-08-19&check_out=2022-08-21&previous_page_section_name=1000&federated_search_id=831dc9b0-0ab7-4126-ab6b-4fbb3293f3bd', 'https://www.airbnb.es/rooms/9182042?adults=5&children=0&infants=0&check_in=2022-02-25&check_out=2022-02-27&previous_page_section_name=1000&federated_search_id=831dc9b0-0ab7-4126-ab6b-4fbb3293f3bd', 'https://www.airbnb.es/rooms/36229069?adults=5&children=0&infants=0&check_in=2022-03-11&check_out=2022-03-13&previous_page_section_name=1000&federated_search_id=831dc9b0-0ab7-4126-ab6b-4fbb3293f3bd', 'https://www.airbnb.es/rooms/24567485?adults=5&children=0&infants=0&check_in=2022-08-26&check_out=2022-08-28&previous_page_section_name=1000&federated_search_id=831dc9b0-0ab7-4126-ab6b-4fbb3293f3bd', 'https://www.airbnb.es/rooms/31558756?adults=5&children=0&infants=0&check_in=2022-08-12&check_out=2022-08-14&previous_page_section_name=1000&federated_search_id=831dc9b0-0ab7-4126-ab6b-4fbb3293f3bd', 'https://www.airbnb.es/rooms/40705179?adults=5&children=0&infants=0&check_in=2022-07-29&check_out=2022-07-31&previous_page_section_name=1000&federated_search_id=831dc9b0-0ab7-4126-ab6b-4fbb3293f3bd', 'https://www.airbnb.es/rooms/50348515?adults=5&children=0&infants=0&check_in=2022-07-29&check_out=2022-07-31&previous_page_section_name=1000&federated_search_id=831dc9b0-0ab7-4126-ab6b-4fbb3293f3bd', 'https://www.airbnb.es/rooms/29840861?adults=5&children=0&infants=0&check_in=2022-02-25&check_out=2022-02-27&previous_page_section_name=1000&federated_search_id=831dc9b0-0ab7-4126-ab6b-4fbb3293f3bd', 'https://www.airbnb.es/rooms/49868166?adults=5&children=0&infants=0&check_in=2022-02-18&check_out=2022-02-20&previous_page_section_name=1000&federated_search_id=831dc9b0-0ab7-4126-ab6b-4fbb3293f3bd', 'https://www.airbnb.es/rooms/44349389?adults=5&children=0&infants=0&check_in=2022-05-27&check_out=2022-05-29&previous_page_section_name=1000&federated_search_id=831dc9b0-0ab7-4126-ab6b-4fbb3293f3bd', 'https://www.airbnb.es/rooms/31659925?adults=5&children=0&infants=0&check_in=2022-11-04&check_out=2022-11-06&previous_page_section_name=1000&federated_search_id=d41b2667-7824-4f67-9a83-88a7c1fa744c', 'https://www.airbnb.es/rooms/39981319?adults=5&children=0&infants=0&check_in=2022-04-15&check_out=2022-04-17&previous_page_section_name=1000&federated_search_id=d41b2667-7824-4f67-9a83-88a7c1fa744c', 'https://www.airbnb.es/rooms/36438750?adults=5&children=0&infants=0&check_in=2022-02-04&check_out=2022-02-06&previous_page_section_name=1000&federated_search_id=d41b2667-7824-4f67-9a83-88a7c1fa744c', 'https://www.airbnb.es/rooms/39766700?adults=5&children=0&infants=0&check_in=2022-03-11&check_out=2022-03-13&previous_page_section_name=1000&federated_search_id=d41b2667-7824-4f67-9a83-88a7c1fa744c', 'https://www.airbnb.es/rooms/21550729?adults=5&children=0&infants=0&check_in=2022-03-11&check_out=2022-03-13&previous_page_section_name=1000&federated_search_id=d41b2667-7824-4f67-9a83-88a7c1fa744c', 'https://www.airbnb.es/rooms/24125532?adults=5&children=0&infants=0&check_in=2022-01-14&check_out=2022-01-16&previous_page_section_name=1000&federated_search_id=d41b2667-7824-4f67-9a83-88a7c1fa744c', 'https://www.airbnb.es/rooms/28249073?adults=5&children=0&infants=0&check_in=2022-08-26&check_out=2022-08-28&previous_page_section_name=1000&federated_search_id=d41b2667-7824-4f67-9a83-88a7c1fa744c', 'https://www.airbnb.es/rooms/41321642?adults=5&children=0&infants=0&check_in=2022-05-20&check_out=2022-05-22&previous_page_section_name=1000&federated_search_id=d41b2667-7824-4f67-9a83-88a7c1fa744c', 'https://www.airbnb.es/rooms/32623714?adults=5&children=0&infants=0&check_in=2022-01-07&check_out=2022-01-09&previous_page_section_name=1000&federated_search_id=d41b2667-7824-4f67-9a83-88a7c1fa744c', 'https://www.airbnb.es/rooms/21508987?adults=5&children=0&infants=0&check_in=2022-01-28&check_out=2022-01-30&previous_page_section_name=1000&federated_search_id=d41b2667-7824-4f67-9a83-88a7c1fa744c', 'https://www.airbnb.es/rooms/52891194?adults=5&children=0&infants=0&check_in=2022-11-25&check_out=2022-11-27&previous_page_section_name=1000&federated_search_id=d41b2667-7824-4f67-9a83-88a7c1fa744c', 'https://www.airbnb.es/rooms/50934828?adults=5&children=0&infants=0&check_in=2022-03-11&check_out=2022-03-13&previous_page_section_name=1000&federated_search_id=d41b2667-7824-4f67-9a83-88a7c1fa744c', 'https://www.airbnb.es/rooms/38324425?adults=5&children=0&infants=0&check_in=2022-08-05&check_out=2022-08-07&previous_page_section_name=1000&federated_search_id=d41b2667-7824-4f67-9a83-88a7c1fa744c', 'https://www.airbnb.es/rooms/50278560?adults=5&children=0&infants=0&check_in=2022-03-11&check_out=2022-03-13&previous_page_section_name=1000&federated_search_id=d41b2667-7824-4f67-9a83-88a7c1fa744c', 'https://www.airbnb.es/rooms/39514922?adults=5&children=0&infants=0&check_in=2022-06-10&check_out=2022-06-12&previous_page_section_name=1000&federated_search_id=d41b2667-7824-4f67-9a83-88a7c1fa744c', 'https://www.airbnb.es/rooms/33413666?adults=5&children=0&infants=0&check_in=2022-05-20&check_out=2022-05-22&previous_page_section_name=1000&federated_search_id=d41b2667-7824-4f67-9a83-88a7c1fa744c', 'https://www.airbnb.es/rooms/43338526?adults=5&children=0&infants=0&check_in=2022-05-27&check_out=2022-05-29&previous_page_section_name=1000&federated_search_id=d41b2667-7824-4f67-9a83-88a7c1fa744c', 'https://www.airbnb.es/rooms/51268386?adults=5&children=0&infants=0&check_in=2022-05-20&check_out=2022-05-22&previous_page_section_name=1000&federated_search_id=d41b2667-7824-4f67-9a83-88a7c1fa744c', 'https://www.airbnb.es/rooms/21408141?adults=5&children=0&infants=0&check_in=2022-02-18&check_out=2022-02-20&previous_page_section_name=1000&federated_search_id=d41b2667-7824-4f67-9a83-88a7c1fa744c', 'https://www.airbnb.es/rooms/47883549?adults=5&children=0&infants=0&check_in=2021-12-24&check_out=2021-12-26&previous_page_section_name=1000&federated_search_id=d41b2667-7824-4f67-9a83-88a7c1fa744c', 'https://www.airbnb.es/rooms/10676283?adults=5&children=0&infants=0&check_in=2022-07-29&check_out=2022-07-31&previous_page_section_name=1000&federated_search_id=7eb5342b-d44d-41b8-b8b1-9492121901e5', 'https://www.airbnb.es/rooms/33264121?adults=5&children=0&infants=0&check_in=2022-06-10&check_out=2022-06-12&previous_page_section_name=1000&federated_search_id=7eb5342b-d44d-41b8-b8b1-9492121901e5', 'https://www.airbnb.es/rooms/47883549?adults=5&children=0&infants=0&check_in=2021-12-24&check_out=2021-12-26&previous_page_section_name=1000&federated_search_id=7eb5342b-d44d-41b8-b8b1-9492121901e5', 'https://www.airbnb.es/rooms/19950304?adults=5&children=0&infants=0&check_in=2022-05-06&check_out=2022-05-08&previous_page_section_name=1000&federated_search_id=7eb5342b-d44d-41b8-b8b1-9492121901e5', 'https://www.airbnb.es/rooms/6446880?adults=5&children=0&infants=0&check_in=2022-10-14&check_out=2022-10-16&previous_page_section_name=1000&federated_search_id=7eb5342b-d44d-41b8-b8b1-9492121901e5', 'https://www.airbnb.es/rooms/50838040?adults=5&children=0&infants=0&check_in=2022-10-14&check_out=2022-10-16&previous_page_section_name=1000&federated_search_id=7eb5342b-d44d-41b8-b8b1-9492121901e5', 'https://www.airbnb.es/rooms/19584525?adults=5&children=0&infants=0&check_in=2022-02-11&check_out=2022-02-13&previous_page_section_name=1000&federated_search_id=7eb5342b-d44d-41b8-b8b1-9492121901e5', 'https://www.airbnb.es/rooms/47308216?adults=5&children=0&infants=0&check_in=2022-02-11&check_out=2022-02-13&previous_page_section_name=1000&federated_search_id=7eb5342b-d44d-41b8-b8b1-9492121901e5', 'https://www.airbnb.es/rooms/2943575?adults=5&children=0&infants=0&check_in=2022-11-18&check_out=2022-11-20&previous_page_section_name=1000&federated_search_id=7eb5342b-d44d-41b8-b8b1-9492121901e5', 'https://www.airbnb.es/rooms/10677284?adults=5&children=0&infants=0&check_in=2022-07-22&check_out=2022-07-24&previous_page_section_name=1000&federated_search_id=7eb5342b-d44d-41b8-b8b1-9492121901e5', 'https://www.airbnb.es/rooms/41706068?adults=5&children=0&infants=0&check_in=2022-09-16&check_out=2022-09-18&previous_page_section_name=1000&federated_search_id=7eb5342b-d44d-41b8-b8b1-9492121901e5', 'https://www.airbnb.es/rooms/47883561?adults=5&children=0&infants=0&check_in=2022-01-07&check_out=2022-01-09&previous_page_section_name=1000&federated_search_id=7eb5342b-d44d-41b8-b8b1-9492121901e5', 'https://www.airbnb.es/rooms/50278554?adults=5&children=0&infants=0&check_in=2022-03-04&check_out=2022-03-06&previous_page_section_name=1000&federated_search_id=7eb5342b-d44d-41b8-b8b1-9492121901e5', 'https://www.airbnb.es/rooms/13611914?adults=5&children=0&infants=0&check_in=2022-04-15&check_out=2022-04-17&previous_page_section_name=1000&federated_search_id=7eb5342b-d44d-41b8-b8b1-9492121901e5', 'https://www.airbnb.es/rooms/26857807?adults=5&children=0&infants=0&check_in=2022-09-02&check_out=2022-09-04&previous_page_section_name=1000&federated_search_id=7eb5342b-d44d-41b8-b8b1-9492121901e5', 'https://www.airbnb.es/rooms/45981294?adults=5&children=0&infants=0&check_in=2022-03-11&check_out=2022-03-13&previous_page_section_name=1000&federated_search_id=7eb5342b-d44d-41b8-b8b1-9492121901e5', 'https://www.airbnb.es/rooms/50255671?adults=5&children=0&infants=0&check_in=2022-03-25&check_out=2022-03-27&previous_page_section_name=1000&federated_search_id=7eb5342b-d44d-41b8-b8b1-9492121901e5', 'https://www.airbnb.es/rooms/53666333?adults=5&children=0&infants=0&check_in=2022-03-18&check_out=2022-03-20&previous_page_section_name=1000&federated_search_id=7eb5342b-d44d-41b8-b8b1-9492121901e5', 'https://www.airbnb.es/rooms/53322142?adults=5&children=0&infants=0&check_in=2022-01-28&check_out=2022-01-30&previous_page_section_name=1000&federated_search_id=7eb5342b-d44d-41b8-b8b1-9492121901e5', 'https://www.airbnb.es/rooms/plus/21732036?adults=5&children=0&infants=0&check_in=2022-04-08&check_out=2022-04-10&previous_page_section_name=1000&federated_search_id=7eb5342b-d44d-41b8-b8b1-9492121901e5', 'https://www.airbnb.es/rooms/30783905?adults=5&children=0&infants=0&check_in=2022-05-13&check_out=2022-05-15&previous_page_section_name=1000&federated_search_id=57188e38-6c54-4275-97c0-7d52dac45b6c', 'https://www.airbnb.es/rooms/33264121?adults=5&children=0&infants=0&check_in=2022-05-13&check_out=2022-05-15&previous_page_section_name=1000&federated_search_id=57188e38-6c54-4275-97c0-7d52dac45b6c', 'https://www.airbnb.es/rooms/47883508?adults=5&children=0&infants=0&check_in=2021-12-24&check_out=2021-12-26&previous_page_section_name=1000&federated_search_id=57188e38-6c54-4275-97c0-7d52dac45b6c', 'https://www.airbnb.es/rooms/41706068?adults=5&children=0&infants=0&check_in=2022-03-25&check_out=2022-03-27&previous_page_section_name=1000&federated_search_id=57188e38-6c54-4275-97c0-7d52dac45b6c', 'https://www.airbnb.es/rooms/53391377?adults=5&children=0&infants=0&check_in=2022-02-04&check_out=2022-02-06&previous_page_section_name=1000&federated_search_id=57188e38-6c54-4275-97c0-7d52dac45b6c', 'https://www.airbnb.es/rooms/39551407?adults=5&children=0&infants=0&check_in=2022-06-10&check_out=2022-06-12&previous_page_section_name=1000&federated_search_id=57188e38-6c54-4275-97c0-7d52dac45b6c', 'https://www.airbnb.es/rooms/48602198?adults=5&children=0&infants=0&check_in=2022-07-29&check_out=2022-07-31&previous_page_section_name=1000&federated_search_id=57188e38-6c54-4275-97c0-7d52dac45b6c', 'https://www.airbnb.es/rooms/10913078?adults=5&children=0&infants=0&check_in=2022-02-25&check_out=2022-02-27&previous_page_section_name=1000&federated_search_id=57188e38-6c54-4275-97c0-7d52dac45b6c', 'https://www.airbnb.es/rooms/6216745?adults=5&children=0&infants=0&check_in=2022-02-18&check_out=2022-02-20&previous_page_section_name=1000&federated_search_id=57188e38-6c54-4275-97c0-7d52dac45b6c', 'https://www.airbnb.es/rooms/45612845?adults=5&children=0&infants=0&check_in=2022-05-20&check_out=2022-05-22&previous_page_section_name=1000&federated_search_id=57188e38-6c54-4275-97c0-7d52dac45b6c', 'https://www.airbnb.es/rooms/50415586?adults=5&children=0&infants=0&check_in=2022-03-18&check_out=2022-03-20&previous_page_section_name=1000&federated_search_id=57188e38-6c54-4275-97c0-7d52dac45b6c', 'https://www.airbnb.es/rooms/37469803?adults=5&children=0&infants=0&check_in=2022-11-11&check_out=2022-11-13&previous_page_section_name=1000&federated_search_id=57188e38-6c54-4275-97c0-7d52dac45b6c', 'https://www.airbnb.es/rooms/3534696?adults=5&children=0&infants=0&check_in=2022-06-10&check_out=2022-06-12&previous_page_section_name=1000&federated_search_id=57188e38-6c54-4275-97c0-7d52dac45b6c', 'https://www.airbnb.es/rooms/38403388?adults=5&children=0&infants=0&check_in=2022-04-01&check_out=2022-04-03&previous_page_section_name=1000&federated_search_id=57188e38-6c54-4275-97c0-7d52dac45b6c', 'https://www.airbnb.es/rooms/24567485?adults=5&children=0&infants=0&check_in=2022-09-02&check_out=2022-09-04&previous_page_section_name=1000&federated_search_id=57188e38-6c54-4275-97c0-7d52dac45b6c', 'https://www.airbnb.es/rooms/50348515?adults=5&children=0&infants=0&check_in=2022-11-25&check_out=2022-11-27&previous_page_section_name=1000&federated_search_id=57188e38-6c54-4275-97c0-7d52dac45b6c', 'https://www.airbnb.es/rooms/28595057?adults=5&children=0&infants=0&check_in=2022-01-14&check_out=2022-01-16&previous_page_section_name=1000&federated_search_id=57188e38-6c54-4275-97c0-7d52dac45b6c', 'https://www.airbnb.es/rooms/21035366?adults=5&children=0&infants=0&check_in=2022-05-06&check_out=2022-05-08&previous_page_section_name=1000&federated_search_id=57188e38-6c54-4275-97c0-7d52dac45b6c', 'https://www.airbnb.es/rooms/44257148?adults=5&children=0&infants=0&check_in=2022-03-11&check_out=2022-03-13&previous_page_section_name=1000&federated_search_id=57188e38-6c54-4275-97c0-7d52dac45b6c', 'https://www.airbnb.es/rooms/730347?adults=5&children=0&infants=0&check_in=2022-07-01&check_out=2022-07-03&previous_page_section_name=1000&federated_search_id=57188e38-6c54-4275-97c0-7d52dac45b6c', 'https://www.airbnb.es/rooms/22979863?adults=5&children=0&infants=0&check_in=2022-03-11&check_out=2022-03-13&previous_page_section_name=1000&federated_search_id=cddb8ef2-8c61-41f3-b5f6-328563d0250b', 'https://www.airbnb.es/rooms/37598111?adults=5&children=0&infants=0&check_in=2022-08-12&check_out=2022-08-14&previous_page_section_name=1000&federated_search_id=cddb8ef2-8c61-41f3-b5f6-328563d0250b', 'https://www.airbnb.es/rooms/22942266?adults=5&children=0&infants=0&check_in=2022-04-15&check_out=2022-04-17&previous_page_section_name=1000&federated_search_id=cddb8ef2-8c61-41f3-b5f6-328563d0250b', 'https://www.airbnb.es/rooms/51079860?adults=5&children=0&infants=0&check_in=2022-01-28&check_out=2022-01-30&previous_page_section_name=1000&federated_search_id=cddb8ef2-8c61-41f3-b5f6-328563d0250b', 'https://www.airbnb.es/rooms/17839999?adults=5&children=0&infants=0&check_in=2022-02-11&check_out=2022-02-13&previous_page_section_name=1000&federated_search_id=cddb8ef2-8c61-41f3-b5f6-328563d0250b', 'https://www.airbnb.es/rooms/21007373?adults=5&children=0&infants=0&check_in=2022-03-25&check_out=2022-03-27&previous_page_section_name=1000&federated_search_id=cddb8ef2-8c61-41f3-b5f6-328563d0250b', 'https://www.airbnb.es/rooms/50278563?adults=5&children=0&infants=0&check_in=2022-01-07&check_out=2022-01-09&previous_page_section_name=1000&federated_search_id=cddb8ef2-8c61-41f3-b5f6-328563d0250b', 'https://www.airbnb.es/rooms/43652408?adults=5&children=0&infants=0&check_in=2022-05-13&check_out=2022-05-15&previous_page_section_name=1000&federated_search_id=cddb8ef2-8c61-41f3-b5f6-328563d0250b', 'https://www.airbnb.es/rooms/49107204?adults=5&children=0&infants=0&check_in=2022-01-21&check_out=2022-01-23&previous_page_section_name=1000&federated_search_id=cddb8ef2-8c61-41f3-b5f6-328563d0250b', 'https://www.airbnb.es/rooms/44240881?adults=5&children=0&infants=0&check_in=2022-02-11&check_out=2022-02-13&previous_page_section_name=1000&federated_search_id=cddb8ef2-8c61-41f3-b5f6-328563d0250b', 'https://www.airbnb.es/rooms/52685010?adults=5&children=0&infants=0&check_in=2022-05-06&check_out=2022-05-08&previous_page_section_name=1000&federated_search_id=cddb8ef2-8c61-41f3-b5f6-328563d0250b', 'https://www.airbnb.es/rooms/38119377?adults=5&children=0&infants=0&check_in=2022-06-10&check_out=2022-06-12&previous_page_section_name=1000&federated_search_id=cddb8ef2-8c61-41f3-b5f6-328563d0250b', 'https://www.airbnb.es/rooms/7214366?adults=5&children=0&infants=0&check_in=2022-05-06&check_out=2022-05-08&previous_page_section_name=1000&federated_search_id=cddb8ef2-8c61-41f3-b5f6-328563d0250b', 'https://www.airbnb.es/rooms/20434663?adults=5&children=0&infants=0&check_in=2022-05-27&check_out=2022-05-29&previous_page_section_name=1000&federated_search_id=cddb8ef2-8c61-41f3-b5f6-328563d0250b', 'https://www.airbnb.es/rooms/361053?adults=5&children=0&infants=0&check_in=2022-04-22&check_out=2022-04-24&previous_page_section_name=1000&federated_search_id=cddb8ef2-8c61-41f3-b5f6-328563d0250b', 'https://www.airbnb.es/rooms/53217798?adults=5&children=0&infants=0&check_in=2022-04-22&check_out=2022-04-24&previous_page_section_name=1000&federated_search_id=cddb8ef2-8c61-41f3-b5f6-328563d0250b', 'https://www.airbnb.es/rooms/52627012?adults=5&children=0&infants=0&check_in=2022-09-02&check_out=2022-09-04&previous_page_section_name=1000&federated_search_id=cddb8ef2-8c61-41f3-b5f6-328563d0250b', 'https://www.airbnb.es/rooms/36765304?adults=5&children=0&infants=0&check_in=2022-01-14&check_out=2022-01-16&previous_page_section_name=1000&federated_search_id=cddb8ef2-8c61-41f3-b5f6-328563d0250b', 'https://www.airbnb.es/rooms/49687493?adults=5&children=0&infants=0&check_in=2022-09-16&check_out=2022-09-18&previous_page_section_name=1000&federated_search_id=cddb8ef2-8c61-41f3-b5f6-328563d0250b', 'https://www.airbnb.es/rooms/40823385?adults=5&children=0&infants=0&check_in=2022-06-10&check_out=2022-06-12&previous_page_section_name=1000&federated_search_id=cddb8ef2-8c61-41f3-b5f6-328563d0250b', 'https://www.airbnb.es/rooms/48866727?adults=5&children=0&infants=0&check_in=2022-03-18&check_out=2022-03-20&previous_page_section_name=1000&federated_search_id=1c8a388c-fcc1-40a3-a075-3e4a6cc4cc8b', 'https://www.airbnb.es/rooms/22317943?adults=5&children=0&infants=0&check_in=2022-09-09&check_out=2022-09-11&previous_page_section_name=1000&federated_search_id=1c8a388c-fcc1-40a3-a075-3e4a6cc4cc8b', 'https://www.airbnb.es/rooms/20345305?adults=5&children=0&infants=0&check_in=2022-03-11&check_out=2022-03-13&previous_page_section_name=1000&federated_search_id=1c8a388c-fcc1-40a3-a075-3e4a6cc4cc8b', 'https://www.airbnb.es/rooms/53188720?adults=5&children=0&infants=0&check_in=2022-03-18&check_out=2022-03-20&previous_page_section_name=1000&federated_search_id=1c8a388c-fcc1-40a3-a075-3e4a6cc4cc8b', 'https://www.airbnb.es/rooms/16924691?adults=5&children=0&infants=0&check_in=2022-04-15&check_out=2022-04-17&previous_page_section_name=1000&federated_search_id=1c8a388c-fcc1-40a3-a075-3e4a6cc4cc8b', 'https://www.airbnb.es/rooms/21035366?adults=5&children=0&infants=0&check_in=2022-04-08&check_out=2022-04-10&previous_page_section_name=1000&federated_search_id=1c8a388c-fcc1-40a3-a075-3e4a6cc4cc8b', 'https://www.airbnb.es/rooms/10913078?adults=5&children=0&infants=0&check_in=2022-01-28&check_out=2022-01-30&previous_page_section_name=1000&federated_search_id=1c8a388c-fcc1-40a3-a075-3e4a6cc4cc8b', 'https://www.airbnb.es/rooms/35160022?adults=5&children=0&infants=0&check_in=2022-01-28&check_out=2022-01-30&previous_page_section_name=1000&federated_search_id=1c8a388c-fcc1-40a3-a075-3e4a6cc4cc8b', 'https://www.airbnb.es/rooms/51359482?adults=5&children=0&infants=0&check_in=2022-05-13&check_out=2022-05-15&previous_page_section_name=1000&federated_search_id=1c8a388c-fcc1-40a3-a075-3e4a6cc4cc8b', 'https://www.airbnb.es/rooms/19353757?adults=5&children=0&infants=0&check_in=2022-05-20&check_out=2022-05-22&previous_page_section_name=1000&federated_search_id=1c8a388c-fcc1-40a3-a075-3e4a6cc4cc8b', 'https://www.airbnb.es/rooms/47883460?adults=5&children=0&infants=0&check_in=2021-12-24&check_out=2021-12-26&previous_page_section_name=1000&federated_search_id=1c8a388c-fcc1-40a3-a075-3e4a6cc4cc8b', 'https://www.airbnb.es/rooms/462072?adults=5&children=0&infants=0&check_in=2022-10-28&check_out=2022-10-30&previous_page_section_name=1000&federated_search_id=1c8a388c-fcc1-40a3-a075-3e4a6cc4cc8b', 'https://www.airbnb.es/rooms/plus/22305603?adults=5&children=0&infants=0&check_in=2022-02-04&check_out=2022-02-06&previous_page_section_name=1000&federated_search_id=1c8a388c-fcc1-40a3-a075-3e4a6cc4cc8b', 'https://www.airbnb.es/rooms/26002454?adults=5&children=0&infants=0&check_in=2022-05-13&check_out=2022-05-15&previous_page_section_name=1000&federated_search_id=1c8a388c-fcc1-40a3-a075-3e4a6cc4cc8b', 'https://www.airbnb.es/rooms/49953983?adults=5&children=0&infants=0&check_in=2022-02-04&check_out=2022-02-06&previous_page_section_name=1000&federated_search_id=1c8a388c-fcc1-40a3-a075-3e4a6cc4cc8b', 'https://www.airbnb.es/rooms/6216745?adults=5&children=0&infants=0&check_in=2022-06-10&check_out=2022-06-12&previous_page_section_name=1000&federated_search_id=1c8a388c-fcc1-40a3-a075-3e4a6cc4cc8b', 'https://www.airbnb.es/rooms/19984000?adults=5&children=0&infants=0&check_in=2022-04-08&check_out=2022-04-10&previous_page_section_name=1000&federated_search_id=1c8a388c-fcc1-40a3-a075-3e4a6cc4cc8b', 'https://www.airbnb.es/rooms/44075734?adults=5&children=0&infants=0&check_in=2022-10-07&check_out=2022-10-09&previous_page_section_name=1000&federated_search_id=1c8a388c-fcc1-40a3-a075-3e4a6cc4cc8b', 'https://www.airbnb.es/rooms/52123764?adults=5&children=0&infants=0&check_in=2022-05-27&check_out=2022-05-29&previous_page_section_name=1000&federated_search_id=1c8a388c-fcc1-40a3-a075-3e4a6cc4cc8b', 'https://www.airbnb.es/rooms/53764457?adults=5&children=0&infants=0&check_in=2022-03-11&check_out=2022-03-13&previous_page_section_name=1000&federated_search_id=1c8a388c-fcc1-40a3-a075-3e4a6cc4cc8b', 'https://www.airbnb.es/rooms/49396783?adults=5&children=0&infants=0&check_in=2022-09-30&check_out=2022-10-02&previous_page_section_name=1000&federated_search_id=76193a94-420f-43cd-a190-1b9d06e1ed91', 'https://www.airbnb.es/rooms/36266089?adults=5&children=0&infants=0&check_in=2022-05-20&check_out=2022-05-22&previous_page_section_name=1000&federated_search_id=76193a94-420f-43cd-a190-1b9d06e1ed91', 'https://www.airbnb.es/rooms/13509563?adults=5&children=0&infants=0&check_in=2022-05-06&check_out=2022-05-08&previous_page_section_name=1000&federated_search_id=76193a94-420f-43cd-a190-1b9d06e1ed91', 'https://www.airbnb.es/rooms/45612845?adults=5&children=0&infants=0&check_in=2022-05-27&check_out=2022-05-29&previous_page_section_name=1000&federated_search_id=76193a94-420f-43cd-a190-1b9d06e1ed91', 'https://www.airbnb.es/rooms/53504179?adults=5&children=0&infants=0&check_in=2022-10-14&check_out=2022-10-16&previous_page_section_name=1000&federated_search_id=76193a94-420f-43cd-a190-1b9d06e1ed91', 'https://www.airbnb.es/rooms/43889292?adults=5&children=0&infants=0&check_in=2022-10-14&check_out=2022-10-16&previous_page_section_name=1000&federated_search_id=76193a94-420f-43cd-a190-1b9d06e1ed91', 'https://www.airbnb.es/rooms/41632405?adults=5&children=0&infants=0&check_in=2022-06-17&check_out=2022-06-19&previous_page_section_name=1000&federated_search_id=76193a94-420f-43cd-a190-1b9d06e1ed91', 'https://www.airbnb.es/rooms/53618209?adults=5&children=0&infants=0&check_in=2022-01-28&check_out=2022-01-30&previous_page_section_name=1000&federated_search_id=76193a94-420f-43cd-a190-1b9d06e1ed91', 'https://www.airbnb.es/rooms/49723807?adults=5&children=0&infants=0&check_in=2022-01-14&check_out=2022-01-16&previous_page_section_name=1000&federated_search_id=76193a94-420f-43cd-a190-1b9d06e1ed91', 'https://www.airbnb.es/rooms/45701437?adults=5&children=0&infants=0&check_in=2022-03-11&check_out=2022-03-13&previous_page_section_name=1000&federated_search_id=76193a94-420f-43cd-a190-1b9d06e1ed91', 'https://www.airbnb.es/rooms/18399333?adults=5&children=0&infants=0&check_in=2022-03-25&check_out=2022-03-27&previous_page_section_name=1000&federated_search_id=76193a94-420f-43cd-a190-1b9d06e1ed91', 'https://www.airbnb.es/rooms/45947254?adults=5&children=0&infants=0&check_in=2022-01-21&check_out=2022-01-23&previous_page_section_name=1000&federated_search_id=76193a94-420f-43cd-a190-1b9d06e1ed91', 'https://www.airbnb.es/rooms/13592776?adults=5&children=0&infants=0&check_in=2022-01-21&check_out=2022-01-23&previous_page_section_name=1000&federated_search_id=76193a94-420f-43cd-a190-1b9d06e1ed91', 'https://www.airbnb.es/rooms/44075734?adults=5&children=0&infants=0&check_in=2022-09-16&check_out=2022-09-18&previous_page_section_name=1000&federated_search_id=76193a94-420f-43cd-a190-1b9d06e1ed91', 'https://www.airbnb.es/rooms/36438750?adults=5&children=0&infants=0&check_in=2022-04-29&check_out=2022-05-01&previous_page_section_name=1000&federated_search_id=76193a94-420f-43cd-a190-1b9d06e1ed91', 'https://www.airbnb.es/rooms/15435655?adults=5&children=0&infants=0&check_in=2022-06-17&check_out=2022-06-19&previous_page_section_name=1000&federated_search_id=76193a94-420f-43cd-a190-1b9d06e1ed91', 'https://www.airbnb.es/rooms/plus/24178248?adults=5&children=0&infants=0&check_in=2022-07-01&check_out=2022-07-03&previous_page_section_name=1000&federated_search_id=76193a94-420f-43cd-a190-1b9d06e1ed91', 'https://www.airbnb.es/rooms/plus/30228986?adults=5&children=0&infants=0&check_in=2022-07-29&check_out=2022-07-31&previous_page_section_name=1000&federated_search_id=76193a94-420f-43cd-a190-1b9d06e1ed91', 'https://www.airbnb.es/rooms/53180435?adults=5&children=0&infants=0&check_in=2022-02-04&check_out=2022-02-06&previous_page_section_name=1000&federated_search_id=76193a94-420f-43cd-a190-1b9d06e1ed91', 'https://www.airbnb.es/rooms/6446880?adults=5&children=0&infants=0&check_in=2022-11-04&check_out=2022-11-06&previous_page_section_name=1000&federated_search_id=76193a94-420f-43cd-a190-1b9d06e1ed91', 'https://www.airbnb.es/rooms/48220182?adults=5&children=0&infants=0&check_in=2021-12-17&check_out=2021-12-19&previous_page_section_name=1000&federated_search_id=b78e044f-03bd-4138-884c-cd38ccb834f1', 'https://www.airbnb.es/rooms/27193598?adults=5&children=0&infants=0&check_in=2022-11-25&check_out=2022-11-27&previous_page_section_name=1000&federated_search_id=b78e044f-03bd-4138-884c-cd38ccb834f1', 'https://www.airbnb.es/rooms/1899692?adults=5&children=0&infants=0&check_in=2021-12-17&check_out=2021-12-19&previous_page_section_name=1000&federated_search_id=b78e044f-03bd-4138-884c-cd38ccb834f1', 'https://www.airbnb.es/rooms/15066805?adults=5&children=0&infants=0&check_in=2021-12-17&check_out=2021-12-19&previous_page_section_name=1000&federated_search_id=b78e044f-03bd-4138-884c-cd38ccb834f1', 'https://www.airbnb.es/rooms/50254850?adults=5&children=0&infants=0&check_in=2022-02-04&check_out=2022-02-06&previous_page_section_name=1000&federated_search_id=b78e044f-03bd-4138-884c-cd38ccb834f1', 'https://www.airbnb.es/rooms/1530586?adults=5&children=0&infants=0&check_in=2022-10-28&check_out=2022-10-30&previous_page_section_name=1000&federated_search_id=b78e044f-03bd-4138-884c-cd38ccb834f1', 'https://www.airbnb.es/rooms/34879643?adults=5&children=0&infants=0&check_in=2022-01-21&check_out=2022-01-23&previous_page_section_name=1000&federated_search_id=b78e044f-03bd-4138-884c-cd38ccb834f1', 'https://www.airbnb.es/rooms/23964555?adults=5&children=0&infants=0&check_in=2021-12-17&check_out=2021-12-19&previous_page_section_name=1000&federated_search_id=b78e044f-03bd-4138-884c-cd38ccb834f1', 'https://www.airbnb.es/rooms/35213745?adults=5&children=0&infants=0&check_in=2021-12-17&check_out=2021-12-19&previous_page_section_name=1000&federated_search_id=b78e044f-03bd-4138-884c-cd38ccb834f1', 'https://www.airbnb.es/rooms/37826566?adults=5&children=0&infants=0&check_in=2021-12-17&check_out=2021-12-19&previous_page_section_name=1000&federated_search_id=b78e044f-03bd-4138-884c-cd38ccb834f1', 'https://www.airbnb.es/rooms/43888886?adults=5&children=0&infants=0&check_in=2021-12-17&check_out=2021-12-19&previous_page_section_name=1000&federated_search_id=b78e044f-03bd-4138-884c-cd38ccb834f1', 'https://www.airbnb.es/rooms/19866204?adults=5&children=0&infants=0&check_in=2021-12-17&check_out=2021-12-19&previous_page_section_name=1000&federated_search_id=b78e044f-03bd-4138-884c-cd38ccb834f1', 'https://www.airbnb.es/rooms/43762036?adults=5&children=0&infants=0&check_in=2021-12-17&check_out=2021-12-19&previous_page_section_name=1000&federated_search_id=b78e044f-03bd-4138-884c-cd38ccb834f1', 'https://www.airbnb.es/rooms/32457358?adults=5&children=0&infants=0&check_in=2021-12-17&check_out=2021-12-19&previous_page_section_name=1000&federated_search_id=b78e044f-03bd-4138-884c-cd38ccb834f1', 'https://www.airbnb.es/rooms/41083997?adults=5&children=0&infants=0&check_in=2022-11-25&check_out=2022-11-27&previous_page_section_name=1000&federated_search_id=b78e044f-03bd-4138-884c-cd38ccb834f1', 'https://www.airbnb.es/rooms/42303294?adults=5&children=0&infants=0&check_in=2021-12-24&check_out=2021-12-26&previous_page_section_name=1000&federated_search_id=b78e044f-03bd-4138-884c-cd38ccb834f1', 'https://www.airbnb.es/rooms/50631459?adults=5&children=0&infants=0&check_in=2022-01-07&check_out=2022-01-09&previous_page_section_name=1000&federated_search_id=b78e044f-03bd-4138-884c-cd38ccb834f1', 'https://www.airbnb.es/rooms/5256656?adults=5&children=0&infants=0&check_in=2021-12-17&check_out=2021-12-19&previous_page_section_name=1000&federated_search_id=b78e044f-03bd-4138-884c-cd38ccb834f1', 'https://www.airbnb.es/rooms/35450813?adults=5&children=0&infants=0&check_in=2021-12-17&check_out=2021-12-19&previous_page_section_name=1000&federated_search_id=b78e044f-03bd-4138-884c-cd38ccb834f1', 'https://www.airbnb.es/rooms/43169539?adults=5&children=0&infants=0&check_in=2022-02-04&check_out=2022-02-06&previous_page_section_name=1000&federated_search_id=b78e044f-03bd-4138-884c-cd38ccb834f1', 'https://www.airbnb.es/rooms/638579?adults=5&children=0&infants=0&check_in=2022-11-25&check_out=2022-11-27&previous_page_section_name=1000&federated_search_id=94285d36-1899-46db-9ad9-d1dc96a79015', 'https://www.airbnb.es/rooms/52562850?adults=5&children=0&infants=0&check_in=2021-12-17&check_out=2021-12-19&previous_page_section_name=1000&federated_search_id=94285d36-1899-46db-9ad9-d1dc96a79015', 'https://www.airbnb.es/rooms/17915459?adults=5&children=0&infants=0&check_in=2022-01-21&check_out=2022-01-23&previous_page_section_name=1000&federated_search_id=94285d36-1899-46db-9ad9-d1dc96a79015', 'https://www.airbnb.es/rooms/36630673?adults=5&children=0&infants=0&check_in=2022-02-18&check_out=2022-02-20&previous_page_section_name=1000&federated_search_id=94285d36-1899-46db-9ad9-d1dc96a79015', 'https://www.airbnb.es/rooms/34879643?adults=5&children=0&infants=0&check_in=2022-01-21&check_out=2022-01-23&previous_page_section_name=1000&federated_search_id=94285d36-1899-46db-9ad9-d1dc96a79015', 'https://www.airbnb.es/rooms/31817976?adults=5&children=0&infants=0&check_in=2022-01-14&check_out=2022-01-16&previous_page_section_name=1000&federated_search_id=94285d36-1899-46db-9ad9-d1dc96a79015', 'https://www.airbnb.es/rooms/43762036?adults=5&children=0&infants=0&check_in=2021-12-17&check_out=2021-12-19&previous_page_section_name=1000&federated_search_id=94285d36-1899-46db-9ad9-d1dc96a79015', 'https://www.airbnb.es/rooms/19153532?adults=5&children=0&infants=0&check_in=2021-12-17&check_out=2021-12-19&previous_page_section_name=1000&federated_search_id=94285d36-1899-46db-9ad9-d1dc96a79015', 'https://www.airbnb.es/rooms/50562098?adults=5&children=0&infants=0&check_in=2021-12-17&check_out=2021-12-19&previous_page_section_name=1000&federated_search_id=94285d36-1899-46db-9ad9-d1dc96a79015', 'https://www.airbnb.es/rooms/276527?adults=5&children=0&infants=0&check_in=2022-03-18&check_out=2022-03-20&previous_page_section_name=1000&federated_search_id=94285d36-1899-46db-9ad9-d1dc96a79015', 'https://www.airbnb.es/rooms/40573479?adults=5&children=0&infants=0&check_in=2022-01-28&check_out=2022-01-30&previous_page_section_name=1000&federated_search_id=94285d36-1899-46db-9ad9-d1dc96a79015', 'https://www.airbnb.es/rooms/6760482?adults=5&children=0&infants=0&check_in=2022-01-07&check_out=2022-01-09&previous_page_section_name=1000&federated_search_id=94285d36-1899-46db-9ad9-d1dc96a79015', 'https://www.airbnb.es/rooms/35213745?adults=5&children=0&infants=0&check_in=2021-12-17&check_out=2021-12-19&previous_page_section_name=1000&federated_search_id=94285d36-1899-46db-9ad9-d1dc96a79015', 'https://www.airbnb.es/rooms/33185850?adults=5&children=0&infants=0&check_in=2021-12-17&check_out=2021-12-19&previous_page_section_name=1000&federated_search_id=94285d36-1899-46db-9ad9-d1dc96a79015', 'https://www.airbnb.es/rooms/50941096?adults=5&children=0&infants=0&check_in=2021-12-17&check_out=2021-12-19&previous_page_section_name=1000&federated_search_id=94285d36-1899-46db-9ad9-d1dc96a79015', 'https://www.airbnb.es/rooms/746086?adults=5&children=0&infants=0&check_in=2021-12-17&check_out=2021-12-19&previous_page_section_name=1000&federated_search_id=94285d36-1899-46db-9ad9-d1dc96a79015', 'https://www.airbnb.es/rooms/27193598?adults=5&children=0&infants=0&check_in=2022-07-22&check_out=2022-07-24&previous_page_section_name=1000&federated_search_id=94285d36-1899-46db-9ad9-d1dc96a79015', 'https://www.airbnb.es/rooms/440427?adults=5&children=0&infants=0&check_in=2022-11-25&check_out=2022-11-27&previous_page_section_name=1000&federated_search_id=94285d36-1899-46db-9ad9-d1dc96a79015', 'https://www.airbnb.es/rooms/28171753?adults=5&children=0&infants=0&check_in=2022-01-07&check_out=2022-01-09&previous_page_section_name=1000&federated_search_id=94285d36-1899-46db-9ad9-d1dc96a79015', 'https://www.airbnb.es/rooms/53251759?adults=5&children=0&infants=0&check_in=2021-12-17&check_out=2021-12-19&previous_page_section_name=1000&federated_search_id=94285d36-1899-46db-9ad9-d1dc96a79015', 'https://www.airbnb.es/rooms/1530586?adults=5&children=0&infants=0&check_in=2022-08-12&check_out=2022-08-14&previous_page_section_name=1000&federated_search_id=97e789a9-4872-4742-83cd-84c8835ef8a5', 'https://www.airbnb.es/rooms/6442522?adults=5&children=0&infants=0&check_in=2022-01-28&check_out=2022-01-30&previous_page_section_name=1000&federated_search_id=97e789a9-4872-4742-83cd-84c8835ef8a5', 'https://www.airbnb.es/rooms/51298243?adults=5&children=0&infants=0&check_in=2021-12-17&check_out=2021-12-19&previous_page_section_name=1000&federated_search_id=97e789a9-4872-4742-83cd-84c8835ef8a5', 'https://www.airbnb.es/rooms/6581639?adults=5&children=0&infants=0&check_in=2021-12-17&check_out=2021-12-19&previous_page_section_name=1000&federated_search_id=97e789a9-4872-4742-83cd-84c8835ef8a5', 'https://www.airbnb.es/rooms/50041307?adults=5&children=0&infants=0&check_in=2021-12-17&check_out=2021-12-19&previous_page_section_name=1000&federated_search_id=97e789a9-4872-4742-83cd-84c8835ef8a5', 'https://www.airbnb.es/rooms/29582545?adults=5&children=0&infants=0&check_in=2022-01-14&check_out=2022-01-16&previous_page_section_name=1000&federated_search_id=97e789a9-4872-4742-83cd-84c8835ef8a5', 'https://www.airbnb.es/rooms/8905236?adults=5&children=0&infants=0&check_in=2022-01-14&check_out=2022-01-16&previous_page_section_name=1000&federated_search_id=97e789a9-4872-4742-83cd-84c8835ef8a5', 'https://www.airbnb.es/rooms/18424324?adults=5&children=0&infants=0&check_in=2022-01-07&check_out=2022-01-09&previous_page_section_name=1000&federated_search_id=97e789a9-4872-4742-83cd-84c8835ef8a5', 'https://www.airbnb.es/rooms/17839592?adults=5&children=0&infants=0&check_in=2022-11-18&check_out=2022-11-20&previous_page_section_name=1000&federated_search_id=97e789a9-4872-4742-83cd-84c8835ef8a5', 'https://www.airbnb.es/rooms/24797878?adults=5&children=0&infants=0&check_in=2022-01-14&check_out=2022-01-16&previous_page_section_name=1000&federated_search_id=97e789a9-4872-4742-83cd-84c8835ef8a5', 'https://www.airbnb.es/rooms/50405013?adults=5&children=0&infants=0&check_in=2022-01-28&check_out=2022-01-30&previous_page_section_name=1000&federated_search_id=97e789a9-4872-4742-83cd-84c8835ef8a5', 'https://www.airbnb.es/rooms/746086?adults=5&children=0&infants=0&check_in=2021-12-17&check_out=2021-12-19&previous_page_section_name=1000&federated_search_id=97e789a9-4872-4742-83cd-84c8835ef8a5', 'https://www.airbnb.es/rooms/40573479?adults=5&children=0&infants=0&check_in=2022-01-07&check_out=2022-01-09&previous_page_section_name=1000&federated_search_id=97e789a9-4872-4742-83cd-84c8835ef8a5', 'https://www.airbnb.es/rooms/38742466?adults=5&children=0&infants=0&check_in=2021-12-17&check_out=2021-12-19&previous_page_section_name=1000&federated_search_id=97e789a9-4872-4742-83cd-84c8835ef8a5', 'https://www.airbnb.es/rooms/1455788?adults=5&children=0&infants=0&check_in=2022-11-18&check_out=2022-11-20&previous_page_section_name=1000&federated_search_id=97e789a9-4872-4742-83cd-84c8835ef8a5', 'https://www.airbnb.es/rooms/30759793?adults=5&children=0&infants=0&check_in=2022-01-14&check_out=2022-01-16&previous_page_section_name=1000&federated_search_id=97e789a9-4872-4742-83cd-84c8835ef8a5', 'https://www.airbnb.es/rooms/6724391?adults=5&children=0&infants=0&check_in=2022-01-28&check_out=2022-01-30&previous_page_section_name=1000&federated_search_id=97e789a9-4872-4742-83cd-84c8835ef8a5', 'https://www.airbnb.es/rooms/19820634?adults=5&children=0&infants=0&check_in=2021-12-17&check_out=2021-12-19&previous_page_section_name=1000&federated_search_id=97e789a9-4872-4742-83cd-84c8835ef8a5', 'https://www.airbnb.es/rooms/3376885?adults=5&children=0&infants=0&check_in=2022-01-07&check_out=2022-01-09&previous_page_section_name=1000&federated_search_id=97e789a9-4872-4742-83cd-84c8835ef8a5', 'https://www.airbnb.es/rooms/19866204?adults=5&children=0&infants=0&check_in=2022-01-14&check_out=2022-01-16&previous_page_section_name=1000&federated_search_id=97e789a9-4872-4742-83cd-84c8835ef8a5', 'https://www.airbnb.es/rooms/50941096?adults=5&children=0&infants=0&check_in=2021-12-17&check_out=2021-12-19&previous_page_section_name=1000&federated_search_id=d89985ad-1690-4d4b-8be7-854fd08c7aed', 'https://www.airbnb.es/rooms/43888886?adults=5&children=0&infants=0&check_in=2021-12-17&check_out=2021-12-19&previous_page_section_name=1000&federated_search_id=d89985ad-1690-4d4b-8be7-854fd08c7aed', 'https://www.airbnb.es/rooms/43675006?adults=5&children=0&infants=0&check_in=2022-01-07&check_out=2022-01-09&previous_page_section_name=1000&federated_search_id=d89985ad-1690-4d4b-8be7-854fd08c7aed', 'https://www.airbnb.es/rooms/8998165?adults=5&children=0&infants=0&check_in=2022-01-28&check_out=2022-01-30&previous_page_section_name=1000&federated_search_id=d89985ad-1690-4d4b-8be7-854fd08c7aed', 'https://www.airbnb.es/rooms/23447978?adults=5&children=0&infants=0&check_in=2022-03-18&check_out=2022-03-20&previous_page_section_name=1000&federated_search_id=d89985ad-1690-4d4b-8be7-854fd08c7aed', 'https://www.airbnb.es/rooms/47948253?adults=5&children=0&infants=0&check_in=2022-04-08&check_out=2022-04-10&previous_page_section_name=1000&federated_search_id=d89985ad-1690-4d4b-8be7-854fd08c7aed', 'https://www.airbnb.es/rooms/35450813?adults=5&children=0&infants=0&check_in=2021-12-17&check_out=2021-12-19&previous_page_section_name=1000&federated_search_id=d89985ad-1690-4d4b-8be7-854fd08c7aed', 'https://www.airbnb.es/rooms/1523790?adults=5&children=0&infants=0&check_in=2022-01-07&check_out=2022-01-09&previous_page_section_name=1000&federated_search_id=d89985ad-1690-4d4b-8be7-854fd08c7aed', 'https://www.airbnb.es/rooms/43675001?adults=5&children=0&infants=0&check_in=2022-01-21&check_out=2022-01-23&previous_page_section_name=1000&federated_search_id=d89985ad-1690-4d4b-8be7-854fd08c7aed', 'https://www.airbnb.es/rooms/50786688?adults=5&children=0&infants=0&check_in=2022-01-14&check_out=2022-01-16&previous_page_section_name=1000&federated_search_id=d89985ad-1690-4d4b-8be7-854fd08c7aed', 'https://www.airbnb.es/rooms/31046927?adults=5&children=0&infants=0&check_in=2022-01-07&check_out=2022-01-09&previous_page_section_name=1000&federated_search_id=d89985ad-1690-4d4b-8be7-854fd08c7aed', 'https://www.airbnb.es/rooms/47330886?adults=5&children=0&infants=0&check_in=2021-12-24&check_out=2021-12-26&previous_page_section_name=1000&federated_search_id=d89985ad-1690-4d4b-8be7-854fd08c7aed', 'https://www.airbnb.es/rooms/38837488?adults=5&children=0&infants=0&check_in=2022-02-04&check_out=2022-02-06&previous_page_section_name=1000&federated_search_id=d89985ad-1690-4d4b-8be7-854fd08c7aed', 'https://www.airbnb.es/rooms/5130426?adults=5&children=0&infants=0&check_in=2021-12-17&check_out=2021-12-19&previous_page_section_name=1000&federated_search_id=d89985ad-1690-4d4b-8be7-854fd08c7aed', 'https://www.airbnb.es/rooms/18458853?adults=5&children=0&infants=0&check_in=2022-01-07&check_out=2022-01-09&previous_page_section_name=1000&federated_search_id=d89985ad-1690-4d4b-8be7-854fd08c7aed', 'https://www.airbnb.es/rooms/43762036?adults=5&children=0&infants=0&check_in=2021-12-17&check_out=2021-12-19&previous_page_section_name=1000&federated_search_id=d89985ad-1690-4d4b-8be7-854fd08c7aed', 'https://www.airbnb.es/rooms/35213745?adults=5&children=0&infants=0&check_in=2021-12-17&check_out=2021-12-19&previous_page_section_name=1000&federated_search_id=d89985ad-1690-4d4b-8be7-854fd08c7aed', 'https://www.airbnb.es/rooms/51298243?adults=5&children=0&infants=0&check_in=2021-12-17&check_out=2021-12-19&previous_page_section_name=1000&federated_search_id=d89985ad-1690-4d4b-8be7-854fd08c7aed', 'https://www.airbnb.es/rooms/19153532?adults=5&children=0&infants=0&check_in=2021-12-17&check_out=2021-12-19&previous_page_section_name=1000&federated_search_id=d89985ad-1690-4d4b-8be7-854fd08c7aed', 'https://www.airbnb.es/rooms/38036781?adults=5&children=0&infants=0&check_in=2022-06-10&check_out=2022-06-12&previous_page_section_name=1000&federated_search_id=d89985ad-1690-4d4b-8be7-854fd08c7aed', 'https://www.airbnb.es/rooms/42969219?adults=5&children=0&infants=0&check_in=2021-12-17&check_out=2021-12-19&previous_page_section_name=1000&federated_search_id=2661d56c-8d20-4c9c-886d-c3069847b1da', 'https://www.airbnb.es/rooms/41016723?adults=5&children=0&infants=0&check_in=2022-01-21&check_out=2022-01-23&previous_page_section_name=1000&federated_search_id=2661d56c-8d20-4c9c-886d-c3069847b1da', 'https://www.airbnb.es/rooms/44219705?adults=5&children=0&infants=0&check_in=2022-01-21&check_out=2022-01-23&previous_page_section_name=1000&federated_search_id=2661d56c-8d20-4c9c-886d-c3069847b1da', 'https://www.airbnb.es/rooms/50983940?adults=5&children=0&infants=0&check_in=2022-10-07&check_out=2022-10-09&previous_page_section_name=1000&federated_search_id=2661d56c-8d20-4c9c-886d-c3069847b1da', 'https://www.airbnb.es/rooms/18424082?adults=5&children=0&infants=0&check_in=2022-01-07&check_out=2022-01-09&previous_page_section_name=1000&federated_search_id=2661d56c-8d20-4c9c-886d-c3069847b1da', 'https://www.airbnb.es/rooms/50631459?adults=5&children=0&infants=0&check_in=2022-01-07&check_out=2022-01-09&previous_page_section_name=1000&federated_search_id=2661d56c-8d20-4c9c-886d-c3069847b1da', 'https://www.airbnb.es/rooms/16994256?adults=5&children=0&infants=0&check_in=2022-09-30&check_out=2022-10-02&previous_page_section_name=1000&federated_search_id=2661d56c-8d20-4c9c-886d-c3069847b1da', 'https://www.airbnb.es/rooms/31490551?adults=5&children=0&infants=0&check_in=2022-02-18&check_out=2022-02-20&previous_page_section_name=1000&federated_search_id=2661d56c-8d20-4c9c-886d-c3069847b1da', 'https://www.airbnb.es/rooms/40573479?adults=5&children=0&infants=0&check_in=2022-01-07&check_out=2022-01-09&previous_page_section_name=1000&federated_search_id=2661d56c-8d20-4c9c-886d-c3069847b1da', 'https://www.airbnb.es/rooms/15045446?adults=5&children=0&infants=0&check_in=2022-01-07&check_out=2022-01-09&previous_page_section_name=1000&federated_search_id=2661d56c-8d20-4c9c-886d-c3069847b1da', 'https://www.airbnb.es/rooms/31046919?adults=5&children=0&infants=0&check_in=2022-01-07&check_out=2022-01-09&previous_page_section_name=1000&federated_search_id=2661d56c-8d20-4c9c-886d-c3069847b1da', 'https://www.airbnb.es/rooms/5130426?adults=5&children=0&infants=0&check_in=2021-12-17&check_out=2021-12-19&previous_page_section_name=1000&federated_search_id=2661d56c-8d20-4c9c-886d-c3069847b1da', 'https://www.airbnb.es/rooms/43675003?adults=5&children=0&infants=0&check_in=2022-01-28&check_out=2022-01-30&previous_page_section_name=1000&federated_search_id=2661d56c-8d20-4c9c-886d-c3069847b1da', 'https://www.airbnb.es/rooms/41016729?adults=5&children=0&infants=0&check_in=2022-01-28&check_out=2022-01-30&previous_page_section_name=1000&federated_search_id=2661d56c-8d20-4c9c-886d-c3069847b1da', 'https://www.airbnb.es/rooms/39753264?adults=5&children=0&infants=0&check_in=2022-11-11&check_out=2022-11-13&previous_page_section_name=1000&federated_search_id=2661d56c-8d20-4c9c-886d-c3069847b1da', 'https://www.airbnb.es/rooms/6733070?adults=5&children=0&infants=0&check_in=2022-01-21&check_out=2022-01-23&previous_page_section_name=1000&federated_search_id=2661d56c-8d20-4c9c-886d-c3069847b1da', 'https://www.airbnb.es/rooms/25095438?adults=5&children=0&infants=0&check_in=2022-05-13&check_out=2022-05-15&previous_page_section_name=1000&federated_search_id=2661d56c-8d20-4c9c-886d-c3069847b1da', 'https://www.airbnb.es/rooms/38837488?adults=5&children=0&infants=0&check_in=2022-03-04&check_out=2022-03-06&previous_page_section_name=1000&federated_search_id=2661d56c-8d20-4c9c-886d-c3069847b1da', 'https://www.airbnb.es/rooms/22666588?adults=5&children=0&infants=0&check_in=2022-11-04&check_out=2022-11-06&previous_page_section_name=1000&federated_search_id=2661d56c-8d20-4c9c-886d-c3069847b1da', 'https://www.airbnb.es/rooms/1455788?adults=5&children=0&infants=0&check_in=2022-11-25&check_out=2022-11-27&previous_page_section_name=1000&federated_search_id=2661d56c-8d20-4c9c-886d-c3069847b1da', 'https://www.airbnb.es/rooms/40791476?adults=5&children=0&infants=0&check_in=2022-01-14&check_out=2022-01-16&previous_page_section_name=1000&federated_search_id=277bda67-821d-4b3c-8d10-49f7b648c9b7', 'https://www.airbnb.es/rooms/19639159?adults=5&children=0&infants=0&check_in=2022-01-07&check_out=2022-01-09&previous_page_section_name=1000&federated_search_id=277bda67-821d-4b3c-8d10-49f7b648c9b7', 'https://www.airbnb.es/rooms/50405013?adults=5&children=0&infants=0&check_in=2022-01-28&check_out=2022-01-30&previous_page_section_name=1000&federated_search_id=277bda67-821d-4b3c-8d10-49f7b648c9b7', 'https://www.airbnb.es/rooms/47948253?adults=5&children=0&infants=0&check_in=2022-07-15&check_out=2022-07-17&previous_page_section_name=1000&federated_search_id=277bda67-821d-4b3c-8d10-49f7b648c9b7', 'https://www.airbnb.es/rooms/47330886?adults=5&children=0&infants=0&check_in=2021-12-24&check_out=2021-12-26&previous_page_section_name=1000&federated_search_id=277bda67-821d-4b3c-8d10-49f7b648c9b7', 'https://www.airbnb.es/rooms/22952251?adults=5&children=0&infants=0&check_in=2021-12-17&check_out=2021-12-19&previous_page_section_name=1000&federated_search_id=277bda67-821d-4b3c-8d10-49f7b648c9b7', 'https://www.airbnb.es/rooms/43675001?adults=5&children=0&infants=0&check_in=2022-01-07&check_out=2022-01-09&previous_page_section_name=1000&federated_search_id=277bda67-821d-4b3c-8d10-49f7b648c9b7', 'https://www.airbnb.es/rooms/50141374?adults=5&children=0&infants=0&check_in=2021-12-17&check_out=2021-12-19&previous_page_section_name=1000&federated_search_id=277bda67-821d-4b3c-8d10-49f7b648c9b7', 'https://www.airbnb.es/rooms/41016718?adults=5&children=0&infants=0&check_in=2022-01-21&check_out=2022-01-23&previous_page_section_name=1000&federated_search_id=277bda67-821d-4b3c-8d10-49f7b648c9b7', 'https://www.airbnb.es/rooms/2082868?adults=5&children=0&infants=0&check_in=2022-04-22&check_out=2022-04-24&previous_page_section_name=1000&federated_search_id=277bda67-821d-4b3c-8d10-49f7b648c9b7', 'https://www.airbnb.es/rooms/31022924?adults=5&children=0&infants=0&check_in=2022-01-21&check_out=2022-01-23&previous_page_section_name=1000&federated_search_id=277bda67-821d-4b3c-8d10-49f7b648c9b7', 'https://www.airbnb.es/rooms/50041307?adults=5&children=0&infants=0&check_in=2021-12-17&check_out=2021-12-19&previous_page_section_name=1000&federated_search_id=277bda67-821d-4b3c-8d10-49f7b648c9b7', 'https://www.airbnb.es/rooms/1455788?adults=5&children=0&infants=0&check_in=2022-11-25&check_out=2022-11-27&previous_page_section_name=1000&federated_search_id=277bda67-821d-4b3c-8d10-49f7b648c9b7', 'https://www.airbnb.es/rooms/18424324?adults=5&children=0&infants=0&check_in=2022-01-07&check_out=2022-01-09&previous_page_section_name=1000&federated_search_id=277bda67-821d-4b3c-8d10-49f7b648c9b7', 'https://www.airbnb.es/rooms/31490551?adults=5&children=0&infants=0&check_in=2022-11-11&check_out=2022-11-13&previous_page_section_name=1000&federated_search_id=277bda67-821d-4b3c-8d10-49f7b648c9b7', 'https://www.airbnb.es/rooms/40280595?adults=5&children=0&infants=0&check_in=2022-01-21&check_out=2022-01-23&previous_page_section_name=1000&federated_search_id=277bda67-821d-4b3c-8d10-49f7b648c9b7', 'https://www.airbnb.es/rooms/25562552?adults=5&children=0&infants=0&check_in=2022-11-04&check_out=2022-11-06&previous_page_section_name=1000&federated_search_id=277bda67-821d-4b3c-8d10-49f7b648c9b7', 'https://www.airbnb.es/rooms/30517887?adults=5&children=0&infants=0&check_in=2022-01-21&check_out=2022-01-23&previous_page_section_name=1000&federated_search_id=277bda67-821d-4b3c-8d10-49f7b648c9b7', 'https://www.airbnb.es/rooms/16994256?adults=5&children=0&infants=0&check_in=2022-01-21&check_out=2022-01-23&previous_page_section_name=1000&federated_search_id=277bda67-821d-4b3c-8d10-49f7b648c9b7', 'https://www.airbnb.es/rooms/41603068?adults=5&children=0&infants=0&check_in=2022-01-28&check_out=2022-01-30&previous_page_section_name=1000&federated_search_id=277bda67-821d-4b3c-8d10-49f7b648c9b7', 'https://www.airbnb.es/rooms/19686032?adults=5&children=0&infants=0&check_in=2022-01-07&check_out=2022-01-09&previous_page_section_name=1000&federated_search_id=65459e62-6bdb-4ae6-bb1e-539b1eb7f81e', 'https://www.airbnb.es/rooms/17915459?adults=5&children=0&infants=0&check_in=2022-01-28&check_out=2022-01-30&previous_page_section_name=1000&federated_search_id=65459e62-6bdb-4ae6-bb1e-539b1eb7f81e', 'https://www.airbnb.es/rooms/18424324?adults=5&children=0&infants=0&check_in=2022-01-07&check_out=2022-01-09&previous_page_section_name=1000&federated_search_id=65459e62-6bdb-4ae6-bb1e-539b1eb7f81e', 'https://www.airbnb.es/rooms/17672694?adults=5&children=0&infants=0&check_in=2022-01-14&check_out=2022-01-16&previous_page_section_name=1000&federated_search_id=65459e62-6bdb-4ae6-bb1e-539b1eb7f81e', 'https://www.airbnb.es/rooms/39753264?adults=5&children=0&infants=0&check_in=2022-11-18&check_out=2022-11-20&previous_page_section_name=1000&federated_search_id=65459e62-6bdb-4ae6-bb1e-539b1eb7f81e', 'https://www.airbnb.es/rooms/6724391?adults=5&children=0&infants=0&check_in=2022-01-14&check_out=2022-01-16&previous_page_section_name=1000&federated_search_id=65459e62-6bdb-4ae6-bb1e-539b1eb7f81e', 'https://www.airbnb.es/rooms/50562098?adults=5&children=0&infants=0&check_in=2021-12-17&check_out=2021-12-19&previous_page_section_name=1000&federated_search_id=65459e62-6bdb-4ae6-bb1e-539b1eb7f81e', 'https://www.airbnb.es/rooms/43675064?adults=5&children=0&infants=0&check_in=2022-01-21&check_out=2022-01-23&previous_page_section_name=1000&federated_search_id=65459e62-6bdb-4ae6-bb1e-539b1eb7f81e', 'https://www.airbnb.es/rooms/50409061?adults=5&children=0&infants=0&check_in=2022-01-28&check_out=2022-01-30&previous_page_section_name=1000&federated_search_id=65459e62-6bdb-4ae6-bb1e-539b1eb7f81e', 'https://www.airbnb.es/rooms/1034771?adults=5&children=0&infants=0&check_in=2022-01-28&check_out=2022-01-30&previous_page_section_name=1000&federated_search_id=65459e62-6bdb-4ae6-bb1e-539b1eb7f81e', 'https://www.airbnb.es/rooms/19849434?adults=5&children=0&infants=0&check_in=2022-01-28&check_out=2022-01-30&previous_page_section_name=1000&federated_search_id=65459e62-6bdb-4ae6-bb1e-539b1eb7f81e', 'https://www.airbnb.es/rooms/50787932?adults=5&children=0&infants=0&check_in=2022-04-01&check_out=2022-04-03&previous_page_section_name=1000&federated_search_id=65459e62-6bdb-4ae6-bb1e-539b1eb7f81e', 'https://www.airbnb.es/rooms/22453174?adults=5&children=0&infants=0&check_in=2021-12-17&check_out=2021-12-19&previous_page_section_name=1000&federated_search_id=65459e62-6bdb-4ae6-bb1e-539b1eb7f81e', 'https://www.airbnb.es/rooms/50836540?adults=5&children=0&infants=0&check_in=2022-02-18&check_out=2022-02-20&previous_page_section_name=1000&federated_search_id=65459e62-6bdb-4ae6-bb1e-539b1eb7f81e', 'https://www.airbnb.es/rooms/51629841?adults=5&children=0&infants=0&check_in=2021-12-17&check_out=2021-12-19&previous_page_section_name=1000&federated_search_id=65459e62-6bdb-4ae6-bb1e-539b1eb7f81e', 'https://www.airbnb.es/rooms/41016718?adults=5&children=0&infants=0&check_in=2021-12-17&check_out=2021-12-19&previous_page_section_name=1000&federated_search_id=65459e62-6bdb-4ae6-bb1e-539b1eb7f81e', 'https://www.airbnb.es/rooms/31604605?adults=5&children=0&infants=0&check_in=2022-01-21&check_out=2022-01-23&previous_page_section_name=1000&federated_search_id=65459e62-6bdb-4ae6-bb1e-539b1eb7f81e', 'https://www.airbnb.es/rooms/41016723?adults=5&children=0&infants=0&check_in=2022-01-21&check_out=2022-01-23&previous_page_section_name=1000&federated_search_id=65459e62-6bdb-4ae6-bb1e-539b1eb7f81e', 'https://www.airbnb.es/rooms/2991893?adults=5&children=0&infants=0&check_in=2022-08-19&check_out=2022-08-21&previous_page_section_name=1000&federated_search_id=65459e62-6bdb-4ae6-bb1e-539b1eb7f81e', 'https://www.airbnb.es/rooms/16994256?adults=5&children=0&infants=0&check_in=2022-09-09&check_out=2022-09-11&previous_page_section_name=1000&federated_search_id=65459e62-6bdb-4ae6-bb1e-539b1eb7f81e', 'https://www.airbnb.es/rooms/934979?adults=5&children=0&infants=0&check_in=2022-03-04&check_out=2022-03-06&previous_page_section_name=1000&federated_search_id=98bd1ee9-3135-48ae-8ceb-9d9f2fa34e5a', 'https://www.airbnb.es/rooms/52399445?adults=5&children=0&infants=0&check_in=2021-12-17&check_out=2021-12-19&previous_page_section_name=1000&federated_search_id=98bd1ee9-3135-48ae-8ceb-9d9f2fa34e5a', 'https://www.airbnb.es/rooms/10961519?adults=5&children=0&infants=0&check_in=2022-05-13&check_out=2022-05-15&previous_page_section_name=1000&federated_search_id=98bd1ee9-3135-48ae-8ceb-9d9f2fa34e5a', 'https://www.airbnb.es/rooms/3496888?adults=5&children=0&infants=0&check_in=2021-12-17&check_out=2021-12-19&previous_page_section_name=1000&federated_search_id=98bd1ee9-3135-48ae-8ceb-9d9f2fa34e5a', 'https://www.airbnb.es/rooms/25095438?adults=5&children=0&infants=0&check_in=2022-02-25&check_out=2022-02-27&previous_page_section_name=1000&federated_search_id=98bd1ee9-3135-48ae-8ceb-9d9f2fa34e5a', 'https://www.airbnb.es/rooms/52164358?adults=5&children=0&infants=0&check_in=2021-12-17&check_out=2021-12-19&previous_page_section_name=1000&federated_search_id=98bd1ee9-3135-48ae-8ceb-9d9f2fa34e5a', 'https://www.airbnb.es/rooms/9716844?adults=5&children=0&infants=0&check_in=2021-12-24&check_out=2021-12-26&previous_page_section_name=1000&federated_search_id=98bd1ee9-3135-48ae-8ceb-9d9f2fa34e5a', 'https://www.airbnb.es/rooms/18454771?adults=5&children=0&infants=0&check_in=2021-12-24&check_out=2021-12-26&previous_page_section_name=1000&federated_search_id=98bd1ee9-3135-48ae-8ceb-9d9f2fa34e5a', 'https://www.airbnb.es/rooms/50786523?adults=5&children=0&infants=0&check_in=2022-05-13&check_out=2022-05-15&previous_page_section_name=1000&federated_search_id=98bd1ee9-3135-48ae-8ceb-9d9f2fa34e5a', 'https://www.airbnb.es/rooms/41016718?adults=5&children=0&infants=0&check_in=2022-01-14&check_out=2022-01-16&previous_page_section_name=1000&federated_search_id=98bd1ee9-3135-48ae-8ceb-9d9f2fa34e5a', 'https://www.airbnb.es/rooms/20595369?adults=5&children=0&infants=0&check_in=2022-04-29&check_out=2022-05-01&previous_page_section_name=1000&federated_search_id=98bd1ee9-3135-48ae-8ceb-9d9f2fa34e5a', 'https://www.airbnb.es/rooms/plus/2624310?adults=5&children=0&infants=0&check_in=2021-12-17&check_out=2021-12-19&previous_page_section_name=1000&federated_search_id=98bd1ee9-3135-48ae-8ceb-9d9f2fa34e5a', 'https://www.airbnb.es/rooms/31817976?adults=5&children=0&infants=0&check_in=2022-01-07&check_out=2022-01-09&previous_page_section_name=1000&federated_search_id=98bd1ee9-3135-48ae-8ceb-9d9f2fa34e5a', 'https://www.airbnb.es/rooms/868198?adults=5&children=0&infants=0&check_in=2022-08-19&check_out=2022-08-21&previous_page_section_name=1000&federated_search_id=98bd1ee9-3135-48ae-8ceb-9d9f2fa34e5a', 'https://www.airbnb.es/rooms/31274357?adults=5&children=0&infants=0&check_in=2021-12-17&check_out=2021-12-19&previous_page_section_name=1000&federated_search_id=98bd1ee9-3135-48ae-8ceb-9d9f2fa34e5a', 'https://www.airbnb.es/rooms/8998165?adults=5&children=0&infants=0&check_in=2022-02-04&check_out=2022-02-06&previous_page_section_name=1000&federated_search_id=98bd1ee9-3135-48ae-8ceb-9d9f2fa34e5a', 'https://www.airbnb.es/rooms/50787932?adults=5&children=0&infants=0&check_in=2022-08-26&check_out=2022-08-28&previous_page_section_name=1000&federated_search_id=98bd1ee9-3135-48ae-8ceb-9d9f2fa34e5a', 'https://www.airbnb.es/rooms/22475121?adults=5&children=0&infants=0&check_in=2021-12-17&check_out=2021-12-19&previous_page_section_name=1000&federated_search_id=98bd1ee9-3135-48ae-8ceb-9d9f2fa34e5a', 'https://www.airbnb.es/rooms/46344513?adults=5&children=0&infants=0&check_in=2022-02-18&check_out=2022-02-20&previous_page_section_name=1000&federated_search_id=98bd1ee9-3135-48ae-8ceb-9d9f2fa34e5a', 'https://www.airbnb.es/rooms/20486545?adults=5&children=0&infants=0&check_in=2022-01-14&check_out=2022-01-16&previous_page_section_name=1000&federated_search_id=98bd1ee9-3135-48ae-8ceb-9d9f2fa34e5a', 'https://www.airbnb.es/rooms/43675066?adults=5&children=0&infants=0&check_in=2022-01-28&check_out=2022-01-30&previous_page_section_name=1000&federated_search_id=4b53abbb-6d6e-4f7c-9445-c90d88a73d1b', 'https://www.airbnb.es/rooms/40573371?adults=5&children=0&infants=0&check_in=2022-01-28&check_out=2022-01-30&previous_page_section_name=1000&federated_search_id=4b53abbb-6d6e-4f7c-9445-c90d88a73d1b', 'https://www.airbnb.es/rooms/17521506?adults=5&children=0&infants=0&check_in=2021-12-17&check_out=2021-12-19&previous_page_section_name=1000&federated_search_id=4b53abbb-6d6e-4f7c-9445-c90d88a73d1b', 'https://www.airbnb.es/rooms/8998165?adults=5&children=0&infants=0&check_in=2022-01-21&check_out=2022-01-23&previous_page_section_name=1000&federated_search_id=4b53abbb-6d6e-4f7c-9445-c90d88a73d1b', 'https://www.airbnb.es/rooms/45083134?adults=5&children=0&infants=0&check_in=2021-12-24&check_out=2021-12-26&previous_page_section_name=1000&federated_search_id=4b53abbb-6d6e-4f7c-9445-c90d88a73d1b', 'https://www.airbnb.es/rooms/44678604?adults=5&children=0&infants=0&check_in=2022-01-07&check_out=2022-01-09&previous_page_section_name=1000&federated_search_id=4b53abbb-6d6e-4f7c-9445-c90d88a73d1b', 'https://www.airbnb.es/rooms/37473885?adults=5&children=0&infants=0&check_in=2022-01-07&check_out=2022-01-09&previous_page_section_name=1000&federated_search_id=4b53abbb-6d6e-4f7c-9445-c90d88a73d1b', 'https://www.airbnb.es/rooms/43975264?adults=5&children=0&infants=0&check_in=2021-12-17&check_out=2021-12-19&previous_page_section_name=1000&federated_search_id=4b53abbb-6d6e-4f7c-9445-c90d88a73d1b', 'https://www.airbnb.es/rooms/18458853?adults=5&children=0&infants=0&check_in=2022-01-07&check_out=2022-01-09&previous_page_section_name=1000&federated_search_id=4b53abbb-6d6e-4f7c-9445-c90d88a73d1b', 'https://www.airbnb.es/rooms/33062383?adults=5&children=0&infants=0&check_in=2021-12-17&check_out=2021-12-19&previous_page_section_name=1000&federated_search_id=4b53abbb-6d6e-4f7c-9445-c90d88a73d1b', 'https://www.airbnb.es/rooms/2469678?adults=5&children=0&infants=0&check_in=2022-04-08&check_out=2022-04-10&previous_page_section_name=1000&federated_search_id=4b53abbb-6d6e-4f7c-9445-c90d88a73d1b', 'https://www.airbnb.es/rooms/6442069?adults=5&children=0&infants=0&check_in=2022-01-21&check_out=2022-01-23&previous_page_section_name=1000&federated_search_id=4b53abbb-6d6e-4f7c-9445-c90d88a73d1b', 'https://www.airbnb.es/rooms/9600132?adults=5&children=0&infants=0&check_in=2022-11-25&check_out=2022-11-27&previous_page_section_name=1000&federated_search_id=4b53abbb-6d6e-4f7c-9445-c90d88a73d1b', 'https://www.airbnb.es/rooms/3744593?adults=5&children=0&infants=0&check_in=2022-01-28&check_out=2022-01-30&previous_page_section_name=1000&federated_search_id=4b53abbb-6d6e-4f7c-9445-c90d88a73d1b', 'https://www.airbnb.es/rooms/50540644?adults=5&children=0&infants=0&check_in=2022-11-25&check_out=2022-11-27&previous_page_section_name=1000&federated_search_id=4b53abbb-6d6e-4f7c-9445-c90d88a73d1b', 'https://www.airbnb.es/rooms/18459019?adults=5&children=0&infants=0&check_in=2022-01-07&check_out=2022-01-09&previous_page_section_name=1000&federated_search_id=4b53abbb-6d6e-4f7c-9445-c90d88a73d1b', 'https://www.airbnb.es/rooms/44697710?adults=5&children=0&infants=0&check_in=2022-01-14&check_out=2022-01-16&previous_page_section_name=1000&federated_search_id=4b53abbb-6d6e-4f7c-9445-c90d88a73d1b', 'https://www.airbnb.es/rooms/19865607?adults=5&children=0&infants=0&check_in=2022-01-28&check_out=2022-01-30&previous_page_section_name=1000&federated_search_id=4b53abbb-6d6e-4f7c-9445-c90d88a73d1b', 'https://www.airbnb.es/rooms/16994256?adults=5&children=0&infants=0&check_in=2022-10-14&check_out=2022-10-16&previous_page_section_name=1000&federated_search_id=4b53abbb-6d6e-4f7c-9445-c90d88a73d1b', 'https://www.airbnb.es/rooms/3110443?adults=5&children=0&infants=0&check_in=2022-01-14&check_out=2022-01-16&previous_page_section_name=1000&federated_search_id=4b53abbb-6d6e-4f7c-9445-c90d88a73d1b', 'https://www.airbnb.es/rooms/17672694?adults=5&children=0&infants=0&check_in=2022-02-04&check_out=2022-02-06&previous_page_section_name=1000&federated_search_id=fb2f7000-0ac1-4865-83fc-1cf1fe307901', 'https://www.airbnb.es/rooms/45108851?adults=5&children=0&infants=0&check_in=2022-03-18&check_out=2022-03-20&previous_page_section_name=1000&federated_search_id=fb2f7000-0ac1-4865-83fc-1cf1fe307901', 'https://www.airbnb.es/rooms/19865607?adults=5&children=0&infants=0&check_in=2022-01-07&check_out=2022-01-09&previous_page_section_name=1000&federated_search_id=fb2f7000-0ac1-4865-83fc-1cf1fe307901', 'https://www.airbnb.es/rooms/40573371?adults=5&children=0&infants=0&check_in=2022-01-28&check_out=2022-01-30&previous_page_section_name=1000&federated_search_id=fb2f7000-0ac1-4865-83fc-1cf1fe307901', 'https://www.airbnb.es/rooms/42597833?adults=5&children=0&infants=0&check_in=2021-12-17&check_out=2021-12-19&previous_page_section_name=1000&federated_search_id=fb2f7000-0ac1-4865-83fc-1cf1fe307901', 'https://www.airbnb.es/rooms/18459019?adults=5&children=0&infants=0&check_in=2022-01-07&check_out=2022-01-09&previous_page_section_name=1000&federated_search_id=fb2f7000-0ac1-4865-83fc-1cf1fe307901', 'https://www.airbnb.es/rooms/22170061?adults=5&children=0&infants=0&check_in=2022-01-14&check_out=2022-01-16&previous_page_section_name=1000&federated_search_id=fb2f7000-0ac1-4865-83fc-1cf1fe307901', 'https://www.airbnb.es/rooms/42575841?adults=5&children=0&infants=0&check_in=2021-12-17&check_out=2021-12-19&previous_page_section_name=1000&federated_search_id=fb2f7000-0ac1-4865-83fc-1cf1fe307901', 'https://www.airbnb.es/rooms/41895465?adults=5&children=0&infants=0&check_in=2022-09-09&check_out=2022-09-11&previous_page_section_name=1000&federated_search_id=fb2f7000-0ac1-4865-83fc-1cf1fe307901', 'https://www.airbnb.es/rooms/18442226?adults=5&children=0&infants=0&check_in=2021-12-17&check_out=2021-12-19&previous_page_section_name=1000&federated_search_id=fb2f7000-0ac1-4865-83fc-1cf1fe307901', 'https://www.airbnb.es/rooms/44678604?adults=5&children=0&infants=0&check_in=2022-01-07&check_out=2022-01-09&previous_page_section_name=1000&federated_search_id=fb2f7000-0ac1-4865-83fc-1cf1fe307901', 'https://www.airbnb.es/rooms/51298241?adults=5&children=0&infants=0&check_in=2022-01-07&check_out=2022-01-09&previous_page_section_name=1000&federated_search_id=fb2f7000-0ac1-4865-83fc-1cf1fe307901', 'https://www.airbnb.es/rooms/24903404?adults=5&children=0&infants=0&check_in=2022-02-11&check_out=2022-02-13&previous_page_section_name=1000&federated_search_id=fb2f7000-0ac1-4865-83fc-1cf1fe307901', 'https://www.airbnb.es/rooms/29474234?adults=5&children=0&infants=0&check_in=2022-09-23&check_out=2022-09-25&previous_page_section_name=1000&federated_search_id=fb2f7000-0ac1-4865-83fc-1cf1fe307901', 'https://www.airbnb.es/rooms/1047089?adults=5&children=0&infants=0&check_in=2022-08-19&check_out=2022-08-21&previous_page_section_name=1000&federated_search_id=fb2f7000-0ac1-4865-83fc-1cf1fe307901', 'https://www.airbnb.es/rooms/53178975?adults=5&children=0&infants=0&check_in=2022-01-14&check_out=2022-01-16&previous_page_section_name=1000&federated_search_id=fb2f7000-0ac1-4865-83fc-1cf1fe307901', 'https://www.airbnb.es/rooms/3996089?adults=5&children=0&infants=0&check_in=2022-11-04&check_out=2022-11-06&previous_page_section_name=1000&federated_search_id=fb2f7000-0ac1-4865-83fc-1cf1fe307901', 'https://www.airbnb.es/rooms/4208455?adults=5&children=0&infants=0&check_in=2022-11-18&check_out=2022-11-20&previous_page_section_name=1000&federated_search_id=fb2f7000-0ac1-4865-83fc-1cf1fe307901', 'https://www.airbnb.es/rooms/36090145?adults=5&children=0&infants=0&check_in=2021-12-17&check_out=2021-12-19&previous_page_section_name=1000&federated_search_id=fb2f7000-0ac1-4865-83fc-1cf1fe307901', 'https://www.airbnb.es/rooms/6760482?adults=5&children=0&infants=0&check_in=2022-01-07&check_out=2022-01-09&previous_page_section_name=1000&federated_search_id=fb2f7000-0ac1-4865-83fc-1cf1fe307901', 'https://www.airbnb.es/rooms/638579?adults=5&children=0&infants=0&check_in=2022-10-07&check_out=2022-10-09&previous_page_section_name=1000&federated_search_id=7eddac9f-e8e0-415f-9084-439ea6a852f2', 'https://www.airbnb.es/rooms/28171812?adults=5&children=0&infants=0&check_in=2022-03-25&check_out=2022-03-27&previous_page_section_name=1000&federated_search_id=7eddac9f-e8e0-415f-9084-439ea6a852f2', 'https://www.airbnb.es/rooms/22763595?adults=5&children=0&infants=0&check_in=2022-02-18&check_out=2022-02-20&previous_page_section_name=1000&federated_search_id=7eddac9f-e8e0-415f-9084-439ea6a852f2', 'https://www.airbnb.es/rooms/3744593?adults=5&children=0&infants=0&check_in=2022-02-11&check_out=2022-02-13&previous_page_section_name=1000&federated_search_id=7eddac9f-e8e0-415f-9084-439ea6a852f2', 'https://www.airbnb.es/rooms/31046919?adults=5&children=0&infants=0&check_in=2022-01-07&check_out=2022-01-09&previous_page_section_name=1000&federated_search_id=7eddac9f-e8e0-415f-9084-439ea6a852f2', 'https://www.airbnb.es/rooms/10170589?adults=5&children=0&infants=0&check_in=2022-04-08&check_out=2022-04-10&previous_page_section_name=1000&federated_search_id=7eddac9f-e8e0-415f-9084-439ea6a852f2', 'https://www.airbnb.es/rooms/3567993?adults=5&children=0&infants=0&check_in=2022-01-07&check_out=2022-01-09&previous_page_section_name=1000&federated_search_id=7eddac9f-e8e0-415f-9084-439ea6a852f2', 'https://www.airbnb.es/rooms/36630673?adults=5&children=0&infants=0&check_in=2022-05-27&check_out=2022-05-29&previous_page_section_name=1000&federated_search_id=7eddac9f-e8e0-415f-9084-439ea6a852f2', 'https://www.airbnb.es/rooms/585762?adults=5&children=0&infants=0&check_in=2022-01-28&check_out=2022-01-30&previous_page_section_name=1000&federated_search_id=7eddac9f-e8e0-415f-9084-439ea6a852f2', 'https://www.airbnb.es/rooms/20626518?adults=5&children=0&infants=0&check_in=2022-06-24&check_out=2022-06-26&previous_page_section_name=1000&federated_search_id=7eddac9f-e8e0-415f-9084-439ea6a852f2', 'https://www.airbnb.es/rooms/50836426?adults=5&children=0&infants=0&check_in=2022-10-07&check_out=2022-10-09&previous_page_section_name=1000&federated_search_id=7eddac9f-e8e0-415f-9084-439ea6a852f2', 'https://www.airbnb.es/rooms/118228?adults=5&children=0&infants=0&check_in=2021-12-17&check_out=2021-12-19&previous_page_section_name=1000&federated_search_id=7eddac9f-e8e0-415f-9084-439ea6a852f2', 'https://www.airbnb.es/rooms/19849859?adults=5&children=0&infants=0&check_in=2022-01-21&check_out=2022-01-23&previous_page_section_name=1000&federated_search_id=7eddac9f-e8e0-415f-9084-439ea6a852f2', 'https://www.airbnb.es/rooms/41222670?adults=5&children=0&infants=0&check_in=2022-01-07&check_out=2022-01-09&previous_page_section_name=1000&federated_search_id=7eddac9f-e8e0-415f-9084-439ea6a852f2', 'https://www.airbnb.es/rooms/25204415?adults=5&children=0&infants=0&check_in=2022-02-18&check_out=2022-02-20&previous_page_section_name=1000&federated_search_id=7eddac9f-e8e0-415f-9084-439ea6a852f2', 'https://www.airbnb.es/rooms/7126261?adults=5&children=0&infants=0&check_in=2021-12-17&check_out=2021-12-19&previous_page_section_name=1000&federated_search_id=7eddac9f-e8e0-415f-9084-439ea6a852f2', 'https://www.airbnb.es/rooms/75003?adults=5&children=0&infants=0&check_in=2022-11-04&check_out=2022-11-06&previous_page_section_name=1000&federated_search_id=7eddac9f-e8e0-415f-9084-439ea6a852f2', 'https://www.airbnb.es/rooms/3773767?adults=5&children=0&infants=0&check_in=2022-09-09&check_out=2022-09-11&previous_page_section_name=1000&federated_search_id=7eddac9f-e8e0-415f-9084-439ea6a852f2', 'https://www.airbnb.es/rooms/13180523?adults=5&children=0&infants=0&check_in=2022-11-18&check_out=2022-11-20&previous_page_section_name=1000&federated_search_id=7eddac9f-e8e0-415f-9084-439ea6a852f2', 'https://www.airbnb.es/rooms/53677932?adults=5&children=0&infants=0&check_in=2021-12-17&check_out=2021-12-19&previous_page_section_name=1000&federated_search_id=7eddac9f-e8e0-415f-9084-439ea6a852f2', 'https://www.airbnb.es/rooms/32028479?adults=5&children=0&infants=0&check_in=2022-01-14&check_out=2022-01-16&previous_page_section_name=1000&federated_search_id=6b31e83f-6b7a-427e-88af-fa311474c230', 'https://www.airbnb.es/rooms/26212168?adults=5&children=0&infants=0&check_in=2022-02-18&check_out=2022-02-20&previous_page_section_name=1000&federated_search_id=6b31e83f-6b7a-427e-88af-fa311474c230', 'https://www.airbnb.es/rooms/29324336?adults=5&children=0&infants=0&check_in=2022-08-26&check_out=2022-08-28&previous_page_section_name=1000&federated_search_id=6b31e83f-6b7a-427e-88af-fa311474c230', 'https://www.airbnb.es/rooms/19380085?adults=5&children=0&infants=0&check_in=2022-01-21&check_out=2022-01-23&previous_page_section_name=1000&federated_search_id=6b31e83f-6b7a-427e-88af-fa311474c230', 'https://www.airbnb.es/rooms/36090145?adults=5&children=0&infants=0&check_in=2021-12-17&check_out=2021-12-19&previous_page_section_name=1000&federated_search_id=6b31e83f-6b7a-427e-88af-fa311474c230', 'https://www.airbnb.es/rooms/15756495?adults=5&children=0&infants=0&check_in=2022-01-21&check_out=2022-01-23&previous_page_section_name=1000&federated_search_id=6b31e83f-6b7a-427e-88af-fa311474c230', 'https://www.airbnb.es/rooms/21390929?adults=5&children=0&infants=0&check_in=2022-02-04&check_out=2022-02-06&previous_page_section_name=1000&federated_search_id=6b31e83f-6b7a-427e-88af-fa311474c230', 'https://www.airbnb.es/rooms/53341730?adults=5&children=0&infants=0&check_in=2022-03-25&check_out=2022-03-27&previous_page_section_name=1000&federated_search_id=6b31e83f-6b7a-427e-88af-fa311474c230', 'https://www.airbnb.es/rooms/30192254?adults=5&children=0&infants=0&check_in=2022-10-07&check_out=2022-10-09&previous_page_section_name=1000&federated_search_id=6b31e83f-6b7a-427e-88af-fa311474c230', 'https://www.airbnb.es/rooms/2991893?adults=5&children=0&infants=0&check_in=2022-07-29&check_out=2022-07-31&previous_page_section_name=1000&federated_search_id=6b31e83f-6b7a-427e-88af-fa311474c230', 'https://www.airbnb.es/rooms/32203753?adults=5&children=0&infants=0&check_in=2022-01-28&check_out=2022-01-30&previous_page_section_name=1000&federated_search_id=6b31e83f-6b7a-427e-88af-fa311474c230', 'https://www.airbnb.es/rooms/29303498?adults=5&children=0&infants=0&check_in=2022-09-09&check_out=2022-09-11&previous_page_section_name=1000&federated_search_id=6b31e83f-6b7a-427e-88af-fa311474c230', 'https://www.airbnb.es/rooms/45108367?adults=5&children=0&infants=0&check_in=2022-03-18&check_out=2022-03-20&previous_page_section_name=1000&federated_search_id=6b31e83f-6b7a-427e-88af-fa311474c230', 'https://www.airbnb.es/rooms/40573467?adults=5&children=0&infants=0&check_in=2022-01-28&check_out=2022-01-30&previous_page_section_name=1000&federated_search_id=6b31e83f-6b7a-427e-88af-fa311474c230', 'https://www.airbnb.es/rooms/36630673?adults=5&children=0&infants=0&check_in=2022-04-29&check_out=2022-05-01&previous_page_section_name=1000&federated_search_id=6b31e83f-6b7a-427e-88af-fa311474c230', 'https://www.airbnb.es/rooms/25284158?adults=5&children=0&infants=0&check_in=2022-01-07&check_out=2022-01-09&previous_page_section_name=1000&federated_search_id=6b31e83f-6b7a-427e-88af-fa311474c230', 'https://www.airbnb.es/rooms/9891945?adults=5&children=0&infants=0&check_in=2022-09-09&check_out=2022-09-11&previous_page_section_name=1000&federated_search_id=6b31e83f-6b7a-427e-88af-fa311474c230', 'https://www.airbnb.es/rooms/22199947?adults=5&children=0&infants=0&check_in=2021-12-17&check_out=2021-12-19&previous_page_section_name=1000&federated_search_id=6b31e83f-6b7a-427e-88af-fa311474c230', 'https://www.airbnb.es/rooms/19686032?adults=5&children=0&infants=0&check_in=2022-01-07&check_out=2022-01-09&previous_page_section_name=1000&federated_search_id=6b31e83f-6b7a-427e-88af-fa311474c230', 'https://www.airbnb.es/rooms/6733070?adults=5&children=0&infants=0&check_in=2022-02-04&check_out=2022-02-06&previous_page_section_name=1000&federated_search_id=6b31e83f-6b7a-427e-88af-fa311474c230', 'https://www.airbnb.es/rooms/19511931?adults=5&children=0&infants=0&check_in=2022-01-14&check_out=2022-01-16&previous_page_section_name=1000&federated_search_id=9790c5f9-8d78-427d-be1e-9842840eb30f', 'https://www.airbnb.es/rooms/19175006?adults=5&children=0&infants=0&check_in=2022-11-18&check_out=2022-11-20&previous_page_section_name=1000&federated_search_id=9790c5f9-8d78-427d-be1e-9842840eb30f', 'https://www.airbnb.es/rooms/33062383?adults=5&children=0&infants=0&check_in=2021-12-17&check_out=2021-12-19&previous_page_section_name=1000&federated_search_id=9790c5f9-8d78-427d-be1e-9842840eb30f', 'https://www.airbnb.es/rooms/52596894?adults=5&children=0&infants=0&check_in=2022-01-21&check_out=2022-01-23&previous_page_section_name=1000&federated_search_id=9790c5f9-8d78-427d-be1e-9842840eb30f', 'https://www.airbnb.es/rooms/50172969?adults=5&children=0&infants=0&check_in=2022-11-04&check_out=2022-11-06&previous_page_section_name=1000&federated_search_id=9790c5f9-8d78-427d-be1e-9842840eb30f', 'https://www.airbnb.es/rooms/17384433?adults=5&children=0&infants=0&check_in=2022-03-25&check_out=2022-03-27&previous_page_section_name=1000&federated_search_id=9790c5f9-8d78-427d-be1e-9842840eb30f', 'https://www.airbnb.es/rooms/17628666?adults=5&children=0&infants=0&check_in=2021-12-17&check_out=2021-12-19&previous_page_section_name=1000&federated_search_id=9790c5f9-8d78-427d-be1e-9842840eb30f', 'https://www.airbnb.es/rooms/50711460?adults=5&children=0&infants=0&check_in=2021-12-24&check_out=2021-12-26&previous_page_section_name=1000&federated_search_id=9790c5f9-8d78-427d-be1e-9842840eb30f', 'https://www.airbnb.es/rooms/2349369?adults=5&children=0&infants=0&check_in=2022-04-29&check_out=2022-05-01&previous_page_section_name=1000&federated_search_id=9790c5f9-8d78-427d-be1e-9842840eb30f', 'https://www.airbnb.es/rooms/23050270?adults=5&children=0&infants=0&check_in=2022-09-23&check_out=2022-09-25&previous_page_section_name=1000&federated_search_id=9790c5f9-8d78-427d-be1e-9842840eb30f', 'https://www.airbnb.es/rooms/42572810?adults=5&children=0&infants=0&check_in=2022-03-18&check_out=2022-03-20&previous_page_section_name=1000&federated_search_id=9790c5f9-8d78-427d-be1e-9842840eb30f', 'https://www.airbnb.es/rooms/50230242?adults=5&children=0&infants=0&check_in=2022-01-21&check_out=2022-01-23&previous_page_section_name=1000&federated_search_id=9790c5f9-8d78-427d-be1e-9842840eb30f', 'https://www.airbnb.es/rooms/51765432?adults=5&children=0&infants=0&check_in=2022-02-18&check_out=2022-02-20&previous_page_section_name=1000&federated_search_id=9790c5f9-8d78-427d-be1e-9842840eb30f', 'https://www.airbnb.es/rooms/42630632?adults=5&children=0&infants=0&check_in=2021-12-24&check_out=2021-12-26&previous_page_section_name=1000&federated_search_id=9790c5f9-8d78-427d-be1e-9842840eb30f', 'https://www.airbnb.es/rooms/5986105?adults=5&children=0&infants=0&check_in=2022-02-18&check_out=2022-02-20&previous_page_section_name=1000&federated_search_id=9790c5f9-8d78-427d-be1e-9842840eb30f', 'https://www.airbnb.es/rooms/43675004?adults=5&children=0&infants=0&check_in=2022-01-28&check_out=2022-01-30&previous_page_section_name=1000&federated_search_id=9790c5f9-8d78-427d-be1e-9842840eb30f', 'https://www.airbnb.es/rooms/44015386?adults=5&children=0&infants=0&check_in=2022-03-18&check_out=2022-03-20&previous_page_section_name=1000&federated_search_id=9790c5f9-8d78-427d-be1e-9842840eb30f', 'https://www.airbnb.es/rooms/18678273?adults=5&children=0&infants=0&check_in=2022-02-04&check_out=2022-02-06&previous_page_section_name=1000&federated_search_id=9790c5f9-8d78-427d-be1e-9842840eb30f', 'https://www.airbnb.es/rooms/19639159?adults=5&children=0&infants=0&check_in=2022-05-27&check_out=2022-05-29&previous_page_section_name=1000&federated_search_id=9790c5f9-8d78-427d-be1e-9842840eb30f', 'https://www.airbnb.es/rooms/1523790?adults=5&children=0&infants=0&check_in=2022-01-07&check_out=2022-01-09&previous_page_section_name=1000&federated_search_id=9790c5f9-8d78-427d-be1e-9842840eb30f', 'https://www.airbnb.es/rooms/19978181?adults=5&children=0&infants=0&check_in=2021-12-17&check_out=2021-12-19&previous_page_section_name=1000&federated_search_id=a17ecb64-2fa7-4130-a691-7f4ffb3097d6', 'https://www.airbnb.es/rooms/38837488?adults=5&children=0&infants=0&check_in=2022-02-18&check_out=2022-02-20&previous_page_section_name=1000&federated_search_id=a17ecb64-2fa7-4130-a691-7f4ffb3097d6', 'https://www.airbnb.es/rooms/42200277?adults=5&children=0&infants=0&check_in=2022-04-08&check_out=2022-04-10&previous_page_section_name=1000&federated_search_id=a17ecb64-2fa7-4130-a691-7f4ffb3097d6', 'https://www.airbnb.es/rooms/47948253?adults=5&children=0&infants=0&check_in=2022-03-11&check_out=2022-03-13&previous_page_section_name=1000&federated_search_id=a17ecb64-2fa7-4130-a691-7f4ffb3097d6', 'https://www.airbnb.es/rooms/53341730?adults=5&children=0&infants=0&check_in=2022-02-18&check_out=2022-02-20&previous_page_section_name=1000&federated_search_id=a17ecb64-2fa7-4130-a691-7f4ffb3097d6', 'https://www.airbnb.es/rooms/51765432?adults=5&children=0&infants=0&check_in=2022-02-11&check_out=2022-02-13&previous_page_section_name=1000&federated_search_id=a17ecb64-2fa7-4130-a691-7f4ffb3097d6', 'https://www.airbnb.es/rooms/20842519?adults=5&children=0&infants=0&check_in=2022-01-07&check_out=2022-01-09&previous_page_section_name=1000&federated_search_id=a17ecb64-2fa7-4130-a691-7f4ffb3097d6', 'https://www.airbnb.es/rooms/10663752?adults=5&children=0&infants=0&check_in=2022-05-13&check_out=2022-05-15&previous_page_section_name=1000&federated_search_id=a17ecb64-2fa7-4130-a691-7f4ffb3097d6', 'https://www.airbnb.es/rooms/52121349?adults=5&children=0&infants=0&check_in=2022-03-25&check_out=2022-03-27&previous_page_section_name=1000&federated_search_id=a17ecb64-2fa7-4130-a691-7f4ffb3097d6', 'https://www.airbnb.es/rooms/19864974?adults=5&children=0&infants=0&check_in=2022-01-28&check_out=2022-01-30&previous_page_section_name=1000&federated_search_id=a17ecb64-2fa7-4130-a691-7f4ffb3097d6', 'https://www.airbnb.es/rooms/9716844?adults=5&children=0&infants=0&check_in=2021-12-24&check_out=2021-12-26&previous_page_section_name=1000&federated_search_id=a17ecb64-2fa7-4130-a691-7f4ffb3097d6', 'https://www.airbnb.es/rooms/19849434?adults=5&children=0&infants=0&check_in=2022-01-28&check_out=2022-01-30&previous_page_section_name=1000&federated_search_id=a17ecb64-2fa7-4130-a691-7f4ffb3097d6', 'https://www.airbnb.es/rooms/21719737?adults=5&children=0&infants=0&check_in=2021-12-17&check_out=2021-12-19&previous_page_section_name=1000&federated_search_id=a17ecb64-2fa7-4130-a691-7f4ffb3097d6', 'https://www.airbnb.es/rooms/615381?adults=5&children=0&infants=0&check_in=2022-02-18&check_out=2022-02-20&previous_page_section_name=1000&federated_search_id=a17ecb64-2fa7-4130-a691-7f4ffb3097d6', 'https://www.airbnb.es/rooms/50983940?adults=5&children=0&infants=0&check_in=2022-09-30&check_out=2022-10-02&previous_page_section_name=1000&federated_search_id=a17ecb64-2fa7-4130-a691-7f4ffb3097d6', 'https://www.airbnb.es/rooms/50045587?adults=5&children=0&infants=0&check_in=2022-05-13&check_out=2022-05-15&previous_page_section_name=1000&federated_search_id=a17ecb64-2fa7-4130-a691-7f4ffb3097d6', 'https://www.airbnb.es/rooms/46524148?adults=5&children=0&infants=0&check_in=2022-11-04&check_out=2022-11-06&previous_page_section_name=1000&federated_search_id=a17ecb64-2fa7-4130-a691-7f4ffb3097d6', 'https://www.airbnb.es/rooms/32178388?adults=5&children=0&infants=0&check_in=2022-01-21&check_out=2022-01-23&previous_page_section_name=1000&federated_search_id=a17ecb64-2fa7-4130-a691-7f4ffb3097d6', 'https://www.airbnb.es/rooms/19686032?adults=5&children=0&infants=0&check_in=2022-01-07&check_out=2022-01-09&previous_page_section_name=1000&federated_search_id=a17ecb64-2fa7-4130-a691-7f4ffb3097d6', 'https://www.airbnb.es/rooms/8099797?adults=5&children=0&infants=0&check_in=2022-02-11&check_out=2022-02-13&previous_page_section_name=1000&federated_search_id=a17ecb64-2fa7-4130-a691-7f4ffb3097d6', 'https://www.airbnb.es/rooms/32028479?adults=5&children=0&infants=0&check_in=2022-03-18&check_out=2022-03-20&previous_page_section_name=1000&federated_search_id=50bfe029-244f-4eae-81f4-7e9eabdd3681', 'https://www.airbnb.es/rooms/18580777?adults=5&children=0&infants=0&check_in=2021-12-17&check_out=2021-12-19&previous_page_section_name=1000&federated_search_id=50bfe029-244f-4eae-81f4-7e9eabdd3681', 'https://www.airbnb.es/rooms/34013422?adults=5&children=0&infants=0&check_in=2022-07-15&check_out=2022-07-17&previous_page_section_name=1000&federated_search_id=50bfe029-244f-4eae-81f4-7e9eabdd3681', 'https://www.airbnb.es/rooms/22024291?adults=5&children=0&infants=0&check_in=2022-01-07&check_out=2022-01-09&previous_page_section_name=1000&federated_search_id=50bfe029-244f-4eae-81f4-7e9eabdd3681', 'https://www.airbnb.es/rooms/3496888?adults=5&children=0&infants=0&check_in=2022-01-07&check_out=2022-01-09&previous_page_section_name=1000&federated_search_id=50bfe029-244f-4eae-81f4-7e9eabdd3681', 'https://www.airbnb.es/rooms/50789736?adults=5&children=0&infants=0&check_in=2022-11-11&check_out=2022-11-13&previous_page_section_name=1000&federated_search_id=50bfe029-244f-4eae-81f4-7e9eabdd3681', 'https://www.airbnb.es/rooms/21721062?adults=5&children=0&infants=0&check_in=2021-12-24&check_out=2021-12-26&previous_page_section_name=1000&federated_search_id=50bfe029-244f-4eae-81f4-7e9eabdd3681', 'https://www.airbnb.es/rooms/44607859?adults=5&children=0&infants=0&check_in=2022-03-11&check_out=2022-03-13&previous_page_section_name=1000&federated_search_id=50bfe029-244f-4eae-81f4-7e9eabdd3681', 'https://www.airbnb.es/rooms/1049897?adults=5&children=0&infants=0&check_in=2021-12-17&check_out=2021-12-19&previous_page_section_name=1000&federated_search_id=50bfe029-244f-4eae-81f4-7e9eabdd3681', 'https://www.airbnb.es/rooms/1106222?adults=5&children=0&infants=0&check_in=2022-01-28&check_out=2022-01-30&previous_page_section_name=1000&federated_search_id=50bfe029-244f-4eae-81f4-7e9eabdd3681', 'https://www.airbnb.es/rooms/5856211?adults=5&children=0&infants=0&check_in=2022-08-05&check_out=2022-08-07&previous_page_section_name=1000&federated_search_id=50bfe029-244f-4eae-81f4-7e9eabdd3681', 'https://www.airbnb.es/rooms/50688336?adults=5&children=0&infants=0&check_in=2022-03-04&check_out=2022-03-06&previous_page_section_name=1000&federated_search_id=50bfe029-244f-4eae-81f4-7e9eabdd3681', 'https://www.airbnb.es/rooms/18442226?adults=5&children=0&infants=0&check_in=2022-01-07&check_out=2022-01-09&previous_page_section_name=1000&federated_search_id=50bfe029-244f-4eae-81f4-7e9eabdd3681', 'https://www.airbnb.es/rooms/51298236?adults=5&children=0&infants=0&check_in=2022-01-14&check_out=2022-01-16&previous_page_section_name=1000&federated_search_id=50bfe029-244f-4eae-81f4-7e9eabdd3681', 'https://www.airbnb.es/rooms/5936979?adults=5&children=0&infants=0&check_in=2021-12-24&check_out=2021-12-26&previous_page_section_name=1000&federated_search_id=50bfe029-244f-4eae-81f4-7e9eabdd3681', 'https://www.airbnb.es/rooms/582364?adults=5&children=0&infants=0&check_in=2022-04-08&check_out=2022-04-10&previous_page_section_name=1000&federated_search_id=50bfe029-244f-4eae-81f4-7e9eabdd3681', 'https://www.airbnb.es/rooms/52596894?adults=5&children=0&infants=0&check_in=2022-09-16&check_out=2022-09-18&previous_page_section_name=1000&federated_search_id=50bfe029-244f-4eae-81f4-7e9eabdd3681', 'https://www.airbnb.es/rooms/3738979?adults=5&children=0&infants=0&check_in=2022-04-22&check_out=2022-04-24&previous_page_section_name=1000&federated_search_id=50bfe029-244f-4eae-81f4-7e9eabdd3681', 'https://www.airbnb.es/rooms/53376509?adults=5&children=0&infants=0&check_in=2022-01-21&check_out=2022-01-23&previous_page_section_name=1000&federated_search_id=50bfe029-244f-4eae-81f4-7e9eabdd3681', 'https://www.airbnb.es/rooms/33062383?adults=5&children=0&infants=0&check_in=2021-12-17&check_out=2021-12-19&previous_page_section_name=1000&federated_search_id=50bfe029-244f-4eae-81f4-7e9eabdd3681', 'https://www.airbnb.es/rooms/43764492?adults=5&children=0&infants=0&check_in=2022-05-13&check_out=2022-05-15&previous_page_section_name=1000&federated_search_id=76093397-da5b-4fa2-bc67-df5108f52ae2', 'https://www.airbnb.es/rooms/39689435?adults=5&children=0&infants=0&check_in=2022-08-26&check_out=2022-08-28&previous_page_section_name=1000&federated_search_id=76093397-da5b-4fa2-bc67-df5108f52ae2', 'https://www.airbnb.es/rooms/34117784?adults=5&children=0&infants=0&check_in=2022-05-27&check_out=2022-05-29&previous_page_section_name=1000&federated_search_id=76093397-da5b-4fa2-bc67-df5108f52ae2', 'https://www.airbnb.es/rooms/1838091?adults=5&children=0&infants=0&check_in=2022-08-12&check_out=2022-08-14&previous_page_section_name=1000&federated_search_id=76093397-da5b-4fa2-bc67-df5108f52ae2', 'https://www.airbnb.es/rooms/52512087?adults=5&children=0&infants=0&check_in=2022-08-05&check_out=2022-08-07&previous_page_section_name=1000&federated_search_id=76093397-da5b-4fa2-bc67-df5108f52ae2', 'https://www.airbnb.es/rooms/19842844?adults=5&children=0&infants=0&check_in=2022-06-17&check_out=2022-06-19&previous_page_section_name=1000&federated_search_id=76093397-da5b-4fa2-bc67-df5108f52ae2', 'https://www.airbnb.es/rooms/16172109?adults=5&children=0&infants=0&check_in=2022-01-14&check_out=2022-01-16&previous_page_section_name=1000&federated_search_id=76093397-da5b-4fa2-bc67-df5108f52ae2', 'https://www.airbnb.es/rooms/49813996?adults=5&children=0&infants=0&check_in=2022-01-07&check_out=2022-01-09&previous_page_section_name=1000&federated_search_id=76093397-da5b-4fa2-bc67-df5108f52ae2', 'https://www.airbnb.es/rooms/19383150?adults=5&children=0&infants=0&check_in=2022-07-22&check_out=2022-07-24&previous_page_section_name=1000&federated_search_id=76093397-da5b-4fa2-bc67-df5108f52ae2', 'https://www.airbnb.es/rooms/24072879?adults=5&children=0&infants=0&check_in=2022-02-25&check_out=2022-02-27&previous_page_section_name=1000&federated_search_id=76093397-da5b-4fa2-bc67-df5108f52ae2', 'https://www.airbnb.es/rooms/27862272?adults=5&children=0&infants=0&check_in=2022-05-27&check_out=2022-05-29&previous_page_section_name=1000&federated_search_id=76093397-da5b-4fa2-bc67-df5108f52ae2', 'https://www.airbnb.es/rooms/17041460?adults=5&children=0&infants=0&check_in=2022-08-19&check_out=2022-08-21&previous_page_section_name=1000&federated_search_id=76093397-da5b-4fa2-bc67-df5108f52ae2', 'https://www.airbnb.es/rooms/27654962?adults=5&children=0&infants=0&check_in=2022-01-14&check_out=2022-01-16&previous_page_section_name=1000&federated_search_id=76093397-da5b-4fa2-bc67-df5108f52ae2', 'https://www.airbnb.es/rooms/938631?adults=5&children=0&infants=0&check_in=2022-01-07&check_out=2022-01-09&previous_page_section_name=1000&federated_search_id=76093397-da5b-4fa2-bc67-df5108f52ae2', 'https://www.airbnb.es/rooms/38662896?adults=5&children=0&infants=0&check_in=2022-08-19&check_out=2022-08-21&previous_page_section_name=1000&federated_search_id=76093397-da5b-4fa2-bc67-df5108f52ae2', 'https://www.airbnb.es/rooms/15755154?adults=5&children=0&infants=0&check_in=2022-05-20&check_out=2022-05-22&previous_page_section_name=1000&federated_search_id=76093397-da5b-4fa2-bc67-df5108f52ae2', 'https://www.airbnb.es/rooms/49846844?adults=5&children=0&infants=0&check_in=2021-12-17&check_out=2021-12-19&previous_page_section_name=1000&federated_search_id=76093397-da5b-4fa2-bc67-df5108f52ae2', 'https://www.airbnb.es/rooms/44015147?adults=5&children=0&infants=0&check_in=2022-01-14&check_out=2022-01-16&previous_page_section_name=1000&federated_search_id=76093397-da5b-4fa2-bc67-df5108f52ae2', 'https://www.airbnb.es/rooms/27863392?adults=5&children=0&infants=0&check_in=2022-06-10&check_out=2022-06-12&previous_page_section_name=1000&federated_search_id=76093397-da5b-4fa2-bc67-df5108f52ae2', 'https://www.airbnb.es/rooms/10981333?adults=5&children=0&infants=0&check_in=2022-01-14&check_out=2022-01-16&previous_page_section_name=1000&federated_search_id=76093397-da5b-4fa2-bc67-df5108f52ae2', 'https://www.airbnb.es/rooms/44015147?adults=5&children=0&infants=0&check_in=2022-03-04&check_out=2022-03-06&previous_page_section_name=1000&federated_search_id=3593a09a-d265-49c7-bc47-7dad8b688b3e', 'https://www.airbnb.es/rooms/16497124?adults=5&children=0&infants=0&check_in=2022-06-17&check_out=2022-06-19&previous_page_section_name=1000&federated_search_id=3593a09a-d265-49c7-bc47-7dad8b688b3e', 'https://www.airbnb.es/rooms/2620127?adults=5&children=0&infants=0&check_in=2022-10-28&check_out=2022-10-30&previous_page_section_name=1000&federated_search_id=3593a09a-d265-49c7-bc47-7dad8b688b3e', 'https://www.airbnb.es/rooms/37625951?adults=5&children=0&infants=0&check_in=2022-01-21&check_out=2022-01-23&previous_page_section_name=1000&federated_search_id=3593a09a-d265-49c7-bc47-7dad8b688b3e', 'https://www.airbnb.es/rooms/42067893?adults=5&children=0&infants=0&check_in=2022-01-14&check_out=2022-01-16&previous_page_section_name=1000&federated_search_id=3593a09a-d265-49c7-bc47-7dad8b688b3e', 'https://www.airbnb.es/rooms/4801074?adults=5&children=0&infants=0&check_in=2022-08-19&check_out=2022-08-21&previous_page_section_name=1000&federated_search_id=3593a09a-d265-49c7-bc47-7dad8b688b3e', 'https://www.airbnb.es/rooms/23275049?adults=5&children=0&infants=0&check_in=2022-10-07&check_out=2022-10-09&previous_page_section_name=1000&federated_search_id=3593a09a-d265-49c7-bc47-7dad8b688b3e', 'https://www.airbnb.es/rooms/53355374?adults=5&children=0&infants=0&check_in=2022-01-21&check_out=2022-01-23&previous_page_section_name=1000&federated_search_id=3593a09a-d265-49c7-bc47-7dad8b688b3e', 'https://www.airbnb.es/rooms/10981333?adults=5&children=0&infants=0&check_in=2022-01-21&check_out=2022-01-23&previous_page_section_name=1000&federated_search_id=3593a09a-d265-49c7-bc47-7dad8b688b3e', 'https://www.airbnb.es/rooms/19174443?adults=5&children=0&infants=0&check_in=2022-07-15&check_out=2022-07-17&previous_page_section_name=1000&federated_search_id=3593a09a-d265-49c7-bc47-7dad8b688b3e', 'https://www.airbnb.es/rooms/13421211?adults=5&children=0&infants=0&check_in=2022-02-04&check_out=2022-02-06&previous_page_section_name=1000&federated_search_id=3593a09a-d265-49c7-bc47-7dad8b688b3e', 'https://www.airbnb.es/rooms/plus/8928663?adults=5&children=0&infants=0&check_in=2022-08-12&check_out=2022-08-14&previous_page_section_name=1000&federated_search_id=3593a09a-d265-49c7-bc47-7dad8b688b3e', 'https://www.airbnb.es/rooms/2352699?adults=5&children=0&infants=0&check_in=2022-01-14&check_out=2022-01-16&previous_page_section_name=1000&federated_search_id=3593a09a-d265-49c7-bc47-7dad8b688b3e', 'https://www.airbnb.es/rooms/28980569?adults=5&children=0&infants=0&check_in=2022-02-11&check_out=2022-02-13&previous_page_section_name=1000&federated_search_id=3593a09a-d265-49c7-bc47-7dad8b688b3e', 'https://www.airbnb.es/rooms/45525275?adults=5&children=0&infants=0&check_in=2022-11-11&check_out=2022-11-13&previous_page_section_name=1000&federated_search_id=3593a09a-d265-49c7-bc47-7dad8b688b3e', 'https://www.airbnb.es/rooms/17950881?adults=5&children=0&infants=0&check_in=2022-02-11&check_out=2022-02-13&previous_page_section_name=1000&federated_search_id=3593a09a-d265-49c7-bc47-7dad8b688b3e', 'https://www.airbnb.es/rooms/53055806?adults=5&children=0&infants=0&check_in=2022-02-04&check_out=2022-02-06&previous_page_section_name=1000&federated_search_id=3593a09a-d265-49c7-bc47-7dad8b688b3e', 'https://www.airbnb.es/rooms/44032323?adults=5&children=0&infants=0&check_in=2022-02-04&check_out=2022-02-06&previous_page_section_name=1000&federated_search_id=3593a09a-d265-49c7-bc47-7dad8b688b3e', 'https://www.airbnb.es/rooms/17102256?adults=5&children=0&infants=0&check_in=2022-07-08&check_out=2022-07-10&previous_page_section_name=1000&federated_search_id=3593a09a-d265-49c7-bc47-7dad8b688b3e', 'https://www.airbnb.es/rooms/19259144?adults=5&children=0&infants=0&check_in=2022-01-21&check_out=2022-01-23&previous_page_section_name=1000&federated_search_id=3593a09a-d265-49c7-bc47-7dad8b688b3e', 'https://www.airbnb.es/rooms/39143776?adults=5&children=0&infants=0&check_in=2022-03-11&check_out=2022-03-13&previous_page_section_name=1000&federated_search_id=32be6b0c-fd9d-4790-8e75-65e1bd2ee185', 'https://www.airbnb.es/rooms/33800810?adults=5&children=0&infants=0&check_in=2022-01-07&check_out=2022-01-09&previous_page_section_name=1000&federated_search_id=32be6b0c-fd9d-4790-8e75-65e1bd2ee185', 'https://www.airbnb.es/rooms/10601066?adults=5&children=0&infants=0&check_in=2022-01-28&check_out=2022-01-30&previous_page_section_name=1000&federated_search_id=32be6b0c-fd9d-4790-8e75-65e1bd2ee185', 'https://www.airbnb.es/rooms/23675425?adults=5&children=0&infants=0&check_in=2022-06-10&check_out=2022-06-12&previous_page_section_name=1000&federated_search_id=32be6b0c-fd9d-4790-8e75-65e1bd2ee185', 'https://www.airbnb.es/rooms/28951637?adults=5&children=0&infants=0&check_in=2022-01-21&check_out=2022-01-23&previous_page_section_name=1000&federated_search_id=32be6b0c-fd9d-4790-8e75-65e1bd2ee185', 'https://www.airbnb.es/rooms/26581352?adults=5&children=0&infants=0&check_in=2022-03-25&check_out=2022-03-27&previous_page_section_name=1000&federated_search_id=32be6b0c-fd9d-4790-8e75-65e1bd2ee185', 'https://www.airbnb.es/rooms/37991835?adults=5&children=0&infants=0&check_in=2022-01-14&check_out=2022-01-16&previous_page_section_name=1000&federated_search_id=32be6b0c-fd9d-4790-8e75-65e1bd2ee185', 'https://www.airbnb.es/rooms/48693124?adults=5&children=0&infants=0&check_in=2021-12-17&check_out=2021-12-19&previous_page_section_name=1000&federated_search_id=32be6b0c-fd9d-4790-8e75-65e1bd2ee185', 'https://www.airbnb.es/rooms/33503897?adults=5&children=0&infants=0&check_in=2022-03-18&check_out=2022-03-20&previous_page_section_name=1000&federated_search_id=32be6b0c-fd9d-4790-8e75-65e1bd2ee185', 'https://www.airbnb.es/rooms/33738511?adults=5&children=0&infants=0&check_in=2022-01-14&check_out=2022-01-16&previous_page_section_name=1000&federated_search_id=32be6b0c-fd9d-4790-8e75-65e1bd2ee185', 'https://www.airbnb.es/rooms/28283155?adults=5&children=0&infants=0&check_in=2022-02-11&check_out=2022-02-13&previous_page_section_name=1000&federated_search_id=32be6b0c-fd9d-4790-8e75-65e1bd2ee185', 'https://www.airbnb.es/rooms/44729221?adults=5&children=0&infants=0&check_in=2022-01-28&check_out=2022-01-30&previous_page_section_name=1000&federated_search_id=32be6b0c-fd9d-4790-8e75-65e1bd2ee185', 'https://www.airbnb.es/rooms/52141832?adults=5&children=0&infants=0&check_in=2022-11-11&check_out=2022-11-13&previous_page_section_name=1000&federated_search_id=32be6b0c-fd9d-4790-8e75-65e1bd2ee185', 'https://www.airbnb.es/rooms/5188954?adults=5&children=0&infants=0&check_in=2022-01-14&check_out=2022-01-16&previous_page_section_name=1000&federated_search_id=32be6b0c-fd9d-4790-8e75-65e1bd2ee185', 'https://www.airbnb.es/rooms/37616467?adults=5&children=0&infants=0&check_in=2022-01-14&check_out=2022-01-16&previous_page_section_name=1000&federated_search_id=32be6b0c-fd9d-4790-8e75-65e1bd2ee185', 'https://www.airbnb.es/rooms/43764492?adults=5&children=0&infants=0&check_in=2022-02-04&check_out=2022-02-06&previous_page_section_name=1000&federated_search_id=32be6b0c-fd9d-4790-8e75-65e1bd2ee185', 'https://www.airbnb.es/rooms/51439518?adults=5&children=0&infants=0&check_in=2021-12-17&check_out=2021-12-19&previous_page_section_name=1000&federated_search_id=32be6b0c-fd9d-4790-8e75-65e1bd2ee185', 'https://www.airbnb.es/rooms/51263093?adults=5&children=0&infants=0&check_in=2022-08-26&check_out=2022-08-28&previous_page_section_name=1000&federated_search_id=32be6b0c-fd9d-4790-8e75-65e1bd2ee185', 'https://www.airbnb.es/rooms/33703539?adults=5&children=0&infants=0&check_in=2022-01-14&check_out=2022-01-16&previous_page_section_name=1000&federated_search_id=32be6b0c-fd9d-4790-8e75-65e1bd2ee185', 'https://www.airbnb.es/rooms/52914227?adults=5&children=0&infants=0&check_in=2022-08-05&check_out=2022-08-07&previous_page_section_name=1000&federated_search_id=32be6b0c-fd9d-4790-8e75-65e1bd2ee185', 'https://www.airbnb.es/rooms/24158883?adults=5&children=0&infants=0&check_in=2022-02-11&check_out=2022-02-13&previous_page_section_name=1000&federated_search_id=e69f8f14-fcbb-493f-8632-bd10942ffe1e', 'https://www.airbnb.es/rooms/39672717?adults=5&children=0&infants=0&check_in=2022-03-18&check_out=2022-03-20&previous_page_section_name=1000&federated_search_id=e69f8f14-fcbb-493f-8632-bd10942ffe1e', 'https://www.airbnb.es/rooms/4993932?adults=5&children=0&infants=0&check_in=2022-08-05&check_out=2022-08-07&previous_page_section_name=1000&federated_search_id=e69f8f14-fcbb-493f-8632-bd10942ffe1e', 'https://www.airbnb.es/rooms/43903060?adults=5&children=0&infants=0&check_in=2022-11-04&check_out=2022-11-06&previous_page_section_name=1000&federated_search_id=e69f8f14-fcbb-493f-8632-bd10942ffe1e', 'https://www.airbnb.es/rooms/32001931?adults=5&children=0&infants=0&check_in=2022-01-28&check_out=2022-01-30&previous_page_section_name=1000&federated_search_id=e69f8f14-fcbb-493f-8632-bd10942ffe1e', 'https://www.airbnb.es/rooms/17426689?adults=5&children=0&infants=0&check_in=2022-03-04&check_out=2022-03-06&previous_page_section_name=1000&federated_search_id=e69f8f14-fcbb-493f-8632-bd10942ffe1e', 'https://www.airbnb.es/rooms/31357647?adults=5&children=0&infants=0&check_in=2022-04-01&check_out=2022-04-03&previous_page_section_name=1000&federated_search_id=e69f8f14-fcbb-493f-8632-bd10942ffe1e', 'https://www.airbnb.es/rooms/47169083?adults=5&children=0&infants=0&check_in=2022-09-09&check_out=2022-09-11&previous_page_section_name=1000&federated_search_id=e69f8f14-fcbb-493f-8632-bd10942ffe1e', 'https://www.airbnb.es/rooms/39532302?adults=5&children=0&infants=0&check_in=2022-11-18&check_out=2022-11-20&previous_page_section_name=1000&federated_search_id=e69f8f14-fcbb-493f-8632-bd10942ffe1e', 'https://www.airbnb.es/rooms/51590167?adults=5&children=0&infants=0&check_in=2022-01-21&check_out=2022-01-23&previous_page_section_name=1000&federated_search_id=e69f8f14-fcbb-493f-8632-bd10942ffe1e', 'https://www.airbnb.es/rooms/19168499?adults=5&children=0&infants=0&check_in=2022-01-21&check_out=2022-01-23&previous_page_section_name=1000&federated_search_id=e69f8f14-fcbb-493f-8632-bd10942ffe1e', 'https://www.airbnb.es/rooms/17598233?adults=5&children=0&infants=0&check_in=2022-01-21&check_out=2022-01-23&previous_page_section_name=1000&federated_search_id=e69f8f14-fcbb-493f-8632-bd10942ffe1e', 'https://www.airbnb.es/rooms/17904051?adults=5&children=0&infants=0&check_in=2022-05-27&check_out=2022-05-29&previous_page_section_name=1000&federated_search_id=e69f8f14-fcbb-493f-8632-bd10942ffe1e', 'https://www.airbnb.es/rooms/50367258?adults=5&children=0&infants=0&check_in=2022-06-10&check_out=2022-06-12&previous_page_section_name=1000&federated_search_id=e69f8f14-fcbb-493f-8632-bd10942ffe1e', 'https://www.airbnb.es/rooms/951283?adults=5&children=0&infants=0&check_in=2022-10-21&check_out=2022-10-23&previous_page_section_name=1000&federated_search_id=e69f8f14-fcbb-493f-8632-bd10942ffe1e', 'https://www.airbnb.es/rooms/21076756?adults=5&children=0&infants=0&check_in=2022-08-12&check_out=2022-08-14&previous_page_section_name=1000&federated_search_id=e69f8f14-fcbb-493f-8632-bd10942ffe1e', 'https://www.airbnb.es/rooms/39725546?adults=5&children=0&infants=0&check_in=2022-08-05&check_out=2022-08-07&previous_page_section_name=1000&federated_search_id=e69f8f14-fcbb-493f-8632-bd10942ffe1e', 'https://www.airbnb.es/rooms/1126962?adults=5&children=0&infants=0&check_in=2022-02-04&check_out=2022-02-06&previous_page_section_name=1000&federated_search_id=e69f8f14-fcbb-493f-8632-bd10942ffe1e', 'https://www.airbnb.es/rooms/21324363?adults=5&children=0&infants=0&check_in=2022-10-28&check_out=2022-10-30&previous_page_section_name=1000&federated_search_id=e69f8f14-fcbb-493f-8632-bd10942ffe1e', 'https://www.airbnb.es/rooms/27161127?adults=5&children=0&infants=0&check_in=2022-01-21&check_out=2022-01-23&previous_page_section_name=1000&federated_search_id=e69f8f14-fcbb-493f-8632-bd10942ffe1e', 'https://www.airbnb.es/rooms/17251604?adults=5&children=0&infants=0&check_in=2022-05-27&check_out=2022-05-29&previous_page_section_name=1000&federated_search_id=7414e993-ca02-4cbf-812f-bd24c411e8ff', 'https://www.airbnb.es/rooms/19259144?adults=5&children=0&infants=0&check_in=2022-03-11&check_out=2022-03-13&previous_page_section_name=1000&federated_search_id=7414e993-ca02-4cbf-812f-bd24c411e8ff', 'https://www.airbnb.es/rooms/10601066?adults=5&children=0&infants=0&check_in=2022-03-04&check_out=2022-03-06&previous_page_section_name=1000&federated_search_id=7414e993-ca02-4cbf-812f-bd24c411e8ff', 'https://www.airbnb.es/rooms/48874237?adults=5&children=0&infants=0&check_in=2022-05-27&check_out=2022-05-29&previous_page_section_name=1000&federated_search_id=7414e993-ca02-4cbf-812f-bd24c411e8ff', 'https://www.airbnb.es/rooms/43903060?adults=5&children=0&infants=0&check_in=2022-03-11&check_out=2022-03-13&previous_page_section_name=1000&federated_search_id=7414e993-ca02-4cbf-812f-bd24c411e8ff', 'https://www.airbnb.es/rooms/plus/31135768?adults=5&children=0&infants=0&check_in=2022-11-18&check_out=2022-11-20&previous_page_section_name=1000&federated_search_id=7414e993-ca02-4cbf-812f-bd24c411e8ff', 'https://www.airbnb.es/rooms/47710581?adults=5&children=0&infants=0&check_in=2022-01-14&check_out=2022-01-16&previous_page_section_name=1000&federated_search_id=7414e993-ca02-4cbf-812f-bd24c411e8ff', 'https://www.airbnb.es/rooms/53055806?adults=5&children=0&infants=0&check_in=2022-02-11&check_out=2022-02-13&previous_page_section_name=1000&federated_search_id=7414e993-ca02-4cbf-812f-bd24c411e8ff', 'https://www.airbnb.es/rooms/33796990?adults=5&children=0&infants=0&check_in=2022-07-01&check_out=2022-07-03&previous_page_section_name=1000&federated_search_id=7414e993-ca02-4cbf-812f-bd24c411e8ff', 'https://www.airbnb.es/rooms/49661337?adults=5&children=0&infants=0&check_in=2022-07-15&check_out=2022-07-17&previous_page_section_name=1000&federated_search_id=7414e993-ca02-4cbf-812f-bd24c411e8ff', 'https://www.airbnb.es/rooms/38488321?adults=5&children=0&infants=0&check_in=2022-02-04&check_out=2022-02-06&previous_page_section_name=1000&federated_search_id=7414e993-ca02-4cbf-812f-bd24c411e8ff', 'https://www.airbnb.es/rooms/17603560?adults=5&children=0&infants=0&check_in=2022-02-18&check_out=2022-02-20&previous_page_section_name=1000&federated_search_id=7414e993-ca02-4cbf-812f-bd24c411e8ff', 'https://www.airbnb.es/rooms/49670534?adults=5&children=0&infants=0&check_in=2022-06-10&check_out=2022-06-12&previous_page_section_name=1000&federated_search_id=7414e993-ca02-4cbf-812f-bd24c411e8ff', 'https://www.airbnb.es/rooms/31197914?adults=5&children=0&infants=0&check_in=2022-01-07&check_out=2022-01-09&previous_page_section_name=1000&federated_search_id=7414e993-ca02-4cbf-812f-bd24c411e8ff', 'https://www.airbnb.es/rooms/48693124?adults=5&children=0&infants=0&check_in=2021-12-17&check_out=2021-12-19&previous_page_section_name=1000&federated_search_id=7414e993-ca02-4cbf-812f-bd24c411e8ff', 'https://www.airbnb.es/rooms/52583702?adults=5&children=0&infants=0&check_in=2022-08-19&check_out=2022-08-21&previous_page_section_name=1000&federated_search_id=7414e993-ca02-4cbf-812f-bd24c411e8ff', 'https://www.airbnb.es/rooms/52543519?adults=5&children=0&infants=0&check_in=2022-09-02&check_out=2022-09-04&previous_page_section_name=1000&federated_search_id=7414e993-ca02-4cbf-812f-bd24c411e8ff', 'https://www.airbnb.es/rooms/14818806?adults=5&children=0&infants=0&check_in=2022-01-28&check_out=2022-01-30&previous_page_section_name=1000&federated_search_id=7414e993-ca02-4cbf-812f-bd24c411e8ff', 'https://www.airbnb.es/rooms/41730922?adults=5&children=0&infants=0&check_in=2022-01-14&check_out=2022-01-16&previous_page_section_name=1000&federated_search_id=7414e993-ca02-4cbf-812f-bd24c411e8ff', 'https://www.airbnb.es/rooms/42253974?adults=5&children=0&infants=0&check_in=2022-01-28&check_out=2022-01-30&previous_page_section_name=1000&federated_search_id=7414e993-ca02-4cbf-812f-bd24c411e8ff', 'https://www.airbnb.es/rooms/24957949?adults=5&children=0&infants=0&check_in=2022-06-10&check_out=2022-06-12&previous_page_section_name=1000&federated_search_id=c4994dec-89c4-4e3e-9640-57bbc87f1ed7', 'https://www.airbnb.es/rooms/51796670?adults=5&children=0&infants=0&check_in=2022-02-11&check_out=2022-02-13&previous_page_section_name=1000&federated_search_id=c4994dec-89c4-4e3e-9640-57bbc87f1ed7', 'https://www.airbnb.es/rooms/24158883?adults=5&children=0&infants=0&check_in=2022-05-13&check_out=2022-05-15&previous_page_section_name=1000&federated_search_id=c4994dec-89c4-4e3e-9640-57bbc87f1ed7', 'https://www.airbnb.es/rooms/16008341?adults=5&children=0&infants=0&check_in=2022-10-21&check_out=2022-10-23&previous_page_section_name=1000&federated_search_id=c4994dec-89c4-4e3e-9640-57bbc87f1ed7', 'https://www.airbnb.es/rooms/44202928?adults=5&children=0&infants=0&check_in=2022-01-07&check_out=2022-01-09&previous_page_section_name=1000&federated_search_id=c4994dec-89c4-4e3e-9640-57bbc87f1ed7', 'https://www.airbnb.es/rooms/53324893?adults=5&children=0&infants=0&check_in=2022-06-10&check_out=2022-06-12&previous_page_section_name=1000&federated_search_id=c4994dec-89c4-4e3e-9640-57bbc87f1ed7', 'https://www.airbnb.es/rooms/48874237?adults=5&children=0&infants=0&check_in=2022-11-25&check_out=2022-11-27&previous_page_section_name=1000&federated_search_id=c4994dec-89c4-4e3e-9640-57bbc87f1ed7', 'https://www.airbnb.es/rooms/26581352?adults=5&children=0&infants=0&check_in=2022-01-14&check_out=2022-01-16&previous_page_section_name=1000&federated_search_id=c4994dec-89c4-4e3e-9640-57bbc87f1ed7', 'https://www.airbnb.es/rooms/16197635?adults=5&children=0&infants=0&check_in=2022-03-04&check_out=2022-03-06&previous_page_section_name=1000&federated_search_id=c4994dec-89c4-4e3e-9640-57bbc87f1ed7', 'https://www.airbnb.es/rooms/52988443?adults=5&children=0&infants=0&check_in=2022-02-04&check_out=2022-02-06&previous_page_section_name=1000&federated_search_id=c4994dec-89c4-4e3e-9640-57bbc87f1ed7', 'https://www.airbnb.es/rooms/plus/31135768?adults=5&children=0&infants=0&check_in=2022-07-29&check_out=2022-07-31&previous_page_section_name=1000&federated_search_id=c4994dec-89c4-4e3e-9640-57bbc87f1ed7', 'https://www.airbnb.es/rooms/37033649?adults=5&children=0&infants=0&check_in=2022-01-21&check_out=2022-01-23&previous_page_section_name=1000&federated_search_id=c4994dec-89c4-4e3e-9640-57bbc87f1ed7', 'https://www.airbnb.es/rooms/33210965?adults=5&children=0&infants=0&check_in=2022-03-11&check_out=2022-03-13&previous_page_section_name=1000&federated_search_id=c4994dec-89c4-4e3e-9640-57bbc87f1ed7', 'https://www.airbnb.es/rooms/32160830?adults=5&children=0&infants=0&check_in=2022-01-07&check_out=2022-01-09&previous_page_section_name=1000&federated_search_id=c4994dec-89c4-4e3e-9640-57bbc87f1ed7', 'https://www.airbnb.es/rooms/52543519?adults=5&children=0&infants=0&check_in=2022-09-16&check_out=2022-09-18&previous_page_section_name=1000&federated_search_id=c4994dec-89c4-4e3e-9640-57bbc87f1ed7', 'https://www.airbnb.es/rooms/17588272?adults=5&children=0&infants=0&check_in=2022-11-25&check_out=2022-11-27&previous_page_section_name=1000&federated_search_id=c4994dec-89c4-4e3e-9640-57bbc87f1ed7', 'https://www.airbnb.es/rooms/28951637?adults=5&children=0&infants=0&check_in=2022-02-04&check_out=2022-02-06&previous_page_section_name=1000&federated_search_id=c4994dec-89c4-4e3e-9640-57bbc87f1ed7', 'https://www.airbnb.es/rooms/10601066?adults=5&children=0&infants=0&check_in=2022-04-08&check_out=2022-04-10&previous_page_section_name=1000&federated_search_id=c4994dec-89c4-4e3e-9640-57bbc87f1ed7', 'https://www.airbnb.es/rooms/34036744?adults=5&children=0&infants=0&check_in=2022-09-02&check_out=2022-09-04&previous_page_section_name=1000&federated_search_id=c4994dec-89c4-4e3e-9640-57bbc87f1ed7', 'https://www.airbnb.es/rooms/33660982?adults=5&children=0&infants=0&check_in=2021-12-17&check_out=2021-12-19&previous_page_section_name=1000&federated_search_id=c4994dec-89c4-4e3e-9640-57bbc87f1ed7', 'https://www.airbnb.es/rooms/24674277?adults=5&children=0&infants=0&check_in=2022-09-16&check_out=2022-09-18&previous_page_section_name=1000&federated_search_id=737fa1bb-f9bf-4458-9f92-03b4eb874a65', 'https://www.airbnb.es/rooms/29951904?adults=5&children=0&infants=0&check_in=2022-03-04&check_out=2022-03-06&previous_page_section_name=1000&federated_search_id=737fa1bb-f9bf-4458-9f92-03b4eb874a65', 'https://www.airbnb.es/rooms/53599373?adults=5&children=0&infants=0&check_in=2021-12-17&check_out=2021-12-19&previous_page_section_name=1000&federated_search_id=737fa1bb-f9bf-4458-9f92-03b4eb874a65', 'https://www.airbnb.es/rooms/27806474?adults=5&children=0&infants=0&check_in=2022-02-11&check_out=2022-02-13&previous_page_section_name=1000&federated_search_id=737fa1bb-f9bf-4458-9f92-03b4eb874a65', 'https://www.airbnb.es/rooms/531891?adults=5&children=0&infants=0&check_in=2022-03-25&check_out=2022-03-27&previous_page_section_name=1000&federated_search_id=737fa1bb-f9bf-4458-9f92-03b4eb874a65', 'https://www.airbnb.es/rooms/27862272?adults=5&children=0&infants=0&check_in=2022-02-04&check_out=2022-02-06&previous_page_section_name=1000&federated_search_id=737fa1bb-f9bf-4458-9f92-03b4eb874a65', 'https://www.airbnb.es/rooms/53339516?adults=5&children=0&infants=0&check_in=2022-02-25&check_out=2022-02-27&previous_page_section_name=1000&federated_search_id=737fa1bb-f9bf-4458-9f92-03b4eb874a65', 'https://www.airbnb.es/rooms/32543257?adults=5&children=0&infants=0&check_in=2022-11-25&check_out=2022-11-27&previous_page_section_name=1000&federated_search_id=737fa1bb-f9bf-4458-9f92-03b4eb874a65', 'https://www.airbnb.es/rooms/27746883?adults=5&children=0&infants=0&check_in=2022-01-14&check_out=2022-01-16&previous_page_section_name=1000&federated_search_id=737fa1bb-f9bf-4458-9f92-03b4eb874a65', 'https://www.airbnb.es/rooms/50769945?adults=5&children=0&infants=0&check_in=2022-03-04&check_out=2022-03-06&previous_page_section_name=1000&federated_search_id=737fa1bb-f9bf-4458-9f92-03b4eb874a65', 'https://www.airbnb.es/rooms/40081498?adults=5&children=0&infants=0&check_in=2022-02-25&check_out=2022-02-27&previous_page_section_name=1000&federated_search_id=737fa1bb-f9bf-4458-9f92-03b4eb874a65', 'https://www.airbnb.es/rooms/17904051?adults=5&children=0&infants=0&check_in=2022-02-04&check_out=2022-02-06&previous_page_section_name=1000&federated_search_id=737fa1bb-f9bf-4458-9f92-03b4eb874a65', 'https://www.airbnb.es/rooms/50458929?adults=5&children=0&infants=0&check_in=2022-09-30&check_out=2022-10-02&previous_page_section_name=1000&federated_search_id=737fa1bb-f9bf-4458-9f92-03b4eb874a65', 'https://www.airbnb.es/rooms/32167372?adults=5&children=0&infants=0&check_in=2022-06-10&check_out=2022-06-12&previous_page_section_name=1000&federated_search_id=737fa1bb-f9bf-4458-9f92-03b4eb874a65', 'https://www.airbnb.es/rooms/14443987?adults=5&children=0&infants=0&check_in=2021-12-17&check_out=2021-12-19&previous_page_section_name=1000&federated_search_id=737fa1bb-f9bf-4458-9f92-03b4eb874a65', 'https://www.airbnb.es/rooms/22807923?adults=5&children=0&infants=0&check_in=2022-04-22&check_out=2022-04-24&previous_page_section_name=1000&federated_search_id=737fa1bb-f9bf-4458-9f92-03b4eb874a65', 'https://www.airbnb.es/rooms/50325947?adults=5&children=0&infants=0&check_in=2022-07-22&check_out=2022-07-24&previous_page_section_name=1000&federated_search_id=737fa1bb-f9bf-4458-9f92-03b4eb874a65', 'https://www.airbnb.es/rooms/38662896?adults=5&children=0&infants=0&check_in=2022-07-22&check_out=2022-07-24&previous_page_section_name=1000&federated_search_id=737fa1bb-f9bf-4458-9f92-03b4eb874a65', 'https://www.airbnb.es/rooms/46192936?adults=5&children=0&infants=0&check_in=2022-06-10&check_out=2022-06-12&previous_page_section_name=1000&federated_search_id=737fa1bb-f9bf-4458-9f92-03b4eb874a65', 'https://www.airbnb.es/rooms/42067893?adults=5&children=0&infants=0&check_in=2022-03-11&check_out=2022-03-13&previous_page_section_name=1000&federated_search_id=737fa1bb-f9bf-4458-9f92-03b4eb874a65', 'https://www.airbnb.es/rooms/37449643?adults=5&children=0&infants=0&check_in=2022-03-25&check_out=2022-03-27&previous_page_section_name=1000&federated_search_id=a7ac2a17-96e8-4027-b64e-45d95c45529a', 'https://www.airbnb.es/rooms/39740506?adults=5&children=0&infants=0&check_in=2022-08-19&check_out=2022-08-21&previous_page_section_name=1000&federated_search_id=a7ac2a17-96e8-4027-b64e-45d95c45529a', 'https://www.airbnb.es/rooms/17792518?adults=5&children=0&infants=0&check_in=2022-01-14&check_out=2022-01-16&previous_page_section_name=1000&federated_search_id=a7ac2a17-96e8-4027-b64e-45d95c45529a', 'https://www.airbnb.es/rooms/34036744?adults=5&children=0&infants=0&check_in=2022-08-19&check_out=2022-08-21&previous_page_section_name=1000&federated_search_id=a7ac2a17-96e8-4027-b64e-45d95c45529a', 'https://www.airbnb.es/rooms/39143776?adults=5&children=0&infants=0&check_in=2022-03-11&check_out=2022-03-13&previous_page_section_name=1000&federated_search_id=a7ac2a17-96e8-4027-b64e-45d95c45529a', 'https://www.airbnb.es/rooms/40587048?adults=5&children=0&infants=0&check_in=2022-01-14&check_out=2022-01-16&previous_page_section_name=1000&federated_search_id=a7ac2a17-96e8-4027-b64e-45d95c45529a', 'https://www.airbnb.es/rooms/23216207?adults=5&children=0&infants=0&check_in=2022-02-04&check_out=2022-02-06&previous_page_section_name=1000&federated_search_id=a7ac2a17-96e8-4027-b64e-45d95c45529a', 'https://www.airbnb.es/rooms/18129210?adults=5&children=0&infants=0&check_in=2022-08-19&check_out=2022-08-21&previous_page_section_name=1000&federated_search_id=a7ac2a17-96e8-4027-b64e-45d95c45529a', 'https://www.airbnb.es/rooms/33072207?adults=5&children=0&infants=0&check_in=2022-08-26&check_out=2022-08-28&previous_page_section_name=1000&federated_search_id=a7ac2a17-96e8-4027-b64e-45d95c45529a', 'https://www.airbnb.es/rooms/34192280?adults=5&children=0&infants=0&check_in=2021-12-17&check_out=2021-12-19&previous_page_section_name=1000&federated_search_id=a7ac2a17-96e8-4027-b64e-45d95c45529a', 'https://www.airbnb.es/rooms/51284187?adults=5&children=0&infants=0&check_in=2022-01-07&check_out=2022-01-09&previous_page_section_name=1000&federated_search_id=a7ac2a17-96e8-4027-b64e-45d95c45529a', 'https://www.airbnb.es/rooms/17951292?adults=5&children=0&infants=0&check_in=2022-02-25&check_out=2022-02-27&previous_page_section_name=1000&federated_search_id=a7ac2a17-96e8-4027-b64e-45d95c45529a', 'https://www.airbnb.es/rooms/23621991?adults=5&children=0&infants=0&check_in=2022-07-01&check_out=2022-07-03&previous_page_section_name=1000&federated_search_id=a7ac2a17-96e8-4027-b64e-45d95c45529a', 'https://www.airbnb.es/rooms/23696748?adults=5&children=0&infants=0&check_in=2022-03-11&check_out=2022-03-13&previous_page_section_name=1000&federated_search_id=a7ac2a17-96e8-4027-b64e-45d95c45529a', 'https://www.airbnb.es/rooms/24335943?adults=5&children=0&infants=0&check_in=2022-11-18&check_out=2022-11-20&previous_page_section_name=1000&federated_search_id=a7ac2a17-96e8-4027-b64e-45d95c45529a', 'https://www.airbnb.es/rooms/44043861?adults=5&children=0&infants=0&check_in=2022-01-21&check_out=2022-01-23&previous_page_section_name=1000&federated_search_id=a7ac2a17-96e8-4027-b64e-45d95c45529a', 'https://www.airbnb.es/rooms/10672070?adults=5&children=0&infants=0&check_in=2022-03-11&check_out=2022-03-13&previous_page_section_name=1000&federated_search_id=a7ac2a17-96e8-4027-b64e-45d95c45529a', 'https://www.airbnb.es/rooms/26433770?adults=5&children=0&infants=0&check_in=2022-01-07&check_out=2022-01-09&previous_page_section_name=1000&federated_search_id=a7ac2a17-96e8-4027-b64e-45d95c45529a', 'https://www.airbnb.es/rooms/33738511?adults=5&children=0&infants=0&check_in=2022-02-11&check_out=2022-02-13&previous_page_section_name=1000&federated_search_id=a7ac2a17-96e8-4027-b64e-45d95c45529a', 'https://www.airbnb.es/rooms/23608161?adults=5&children=0&infants=0&check_in=2022-01-21&check_out=2022-01-23&previous_page_section_name=1000&federated_search_id=a7ac2a17-96e8-4027-b64e-45d95c45529a', 'https://www.airbnb.es/rooms/48514887?adults=5&children=0&infants=0&check_in=2022-01-28&check_out=2022-01-30&previous_page_section_name=1000&federated_search_id=6ff26c8b-bfdf-49f8-b1b9-d2602094339e', 'https://www.airbnb.es/rooms/25107574?adults=5&children=0&infants=0&check_in=2022-11-18&check_out=2022-11-20&previous_page_section_name=1000&federated_search_id=6ff26c8b-bfdf-49f8-b1b9-d2602094339e', 'https://www.airbnb.es/rooms/51262595?adults=5&children=0&infants=0&check_in=2022-09-23&check_out=2022-09-25&previous_page_section_name=1000&federated_search_id=6ff26c8b-bfdf-49f8-b1b9-d2602094339e', 'https://www.airbnb.es/rooms/52988443?adults=5&children=0&infants=0&check_in=2022-06-17&check_out=2022-06-19&previous_page_section_name=1000&federated_search_id=6ff26c8b-bfdf-49f8-b1b9-d2602094339e', 'https://www.airbnb.es/rooms/24335943?adults=5&children=0&infants=0&check_in=2022-07-29&check_out=2022-07-31&previous_page_section_name=1000&federated_search_id=6ff26c8b-bfdf-49f8-b1b9-d2602094339e', 'https://www.airbnb.es/rooms/985433?adults=5&children=0&infants=0&check_in=2021-12-24&check_out=2021-12-26&previous_page_section_name=1000&federated_search_id=6ff26c8b-bfdf-49f8-b1b9-d2602094339e', 'https://www.airbnb.es/rooms/53324893?adults=5&children=0&infants=0&check_in=2022-03-11&check_out=2022-03-13&previous_page_section_name=1000&federated_search_id=6ff26c8b-bfdf-49f8-b1b9-d2602094339e', 'https://www.airbnb.es/rooms/40506112?adults=5&children=0&infants=0&check_in=2022-06-10&check_out=2022-06-12&previous_page_section_name=1000&federated_search_id=6ff26c8b-bfdf-49f8-b1b9-d2602094339e', 'https://www.airbnb.es/rooms/42803146?adults=5&children=0&infants=0&check_in=2022-09-02&check_out=2022-09-04&previous_page_section_name=1000&federated_search_id=6ff26c8b-bfdf-49f8-b1b9-d2602094339e', 'https://www.airbnb.es/rooms/6781368?adults=5&children=0&infants=0&check_in=2022-02-18&check_out=2022-02-20&previous_page_section_name=1000&federated_search_id=6ff26c8b-bfdf-49f8-b1b9-d2602094339e', 'https://www.airbnb.es/rooms/17588272?adults=5&children=0&infants=0&check_in=2022-11-25&check_out=2022-11-27&previous_page_section_name=1000&federated_search_id=6ff26c8b-bfdf-49f8-b1b9-d2602094339e', 'https://www.airbnb.es/rooms/53627229?adults=5&children=0&infants=0&check_in=2021-12-17&check_out=2021-12-19&previous_page_section_name=1000&federated_search_id=6ff26c8b-bfdf-49f8-b1b9-d2602094339e', 'https://www.airbnb.es/rooms/49472680?adults=5&children=0&infants=0&check_in=2022-02-04&check_out=2022-02-06&previous_page_section_name=1000&federated_search_id=6ff26c8b-bfdf-49f8-b1b9-d2602094339e', 'https://www.airbnb.es/rooms/893928?adults=5&children=0&infants=0&check_in=2022-06-24&check_out=2022-06-26&previous_page_section_name=1000&federated_search_id=6ff26c8b-bfdf-49f8-b1b9-d2602094339e', 'https://www.airbnb.es/rooms/43607321?adults=5&children=0&infants=0&check_in=2022-11-04&check_out=2022-11-06&previous_page_section_name=1000&federated_search_id=6ff26c8b-bfdf-49f8-b1b9-d2602094339e', 'https://www.airbnb.es/rooms/42673436?adults=5&children=0&infants=0&check_in=2022-01-28&check_out=2022-01-30&previous_page_section_name=1000&federated_search_id=6ff26c8b-bfdf-49f8-b1b9-d2602094339e', 'https://www.airbnb.es/rooms/38178217?adults=5&children=0&infants=0&check_in=2022-01-28&check_out=2022-01-30&previous_page_section_name=1000&federated_search_id=6ff26c8b-bfdf-49f8-b1b9-d2602094339e', 'https://www.airbnb.es/rooms/31197914?adults=5&children=0&infants=0&check_in=2022-01-28&check_out=2022-01-30&previous_page_section_name=1000&federated_search_id=6ff26c8b-bfdf-49f8-b1b9-d2602094339e', 'https://www.airbnb.es/rooms/plus/20150866?adults=5&children=0&infants=0&check_in=2022-01-28&check_out=2022-01-30&previous_page_section_name=1000&federated_search_id=6ff26c8b-bfdf-49f8-b1b9-d2602094339e', 'https://www.airbnb.es/rooms/14818806?adults=5&children=0&infants=0&check_in=2022-08-05&check_out=2022-08-07&previous_page_section_name=1000&federated_search_id=6ff26c8b-bfdf-49f8-b1b9-d2602094339e', 'https://www.airbnb.es/rooms/50426573?adults=5&children=0&infants=0&check_in=2021-12-17&check_out=2021-12-19&previous_page_section_name=1000&federated_search_id=ecfd5579-8504-45fc-ad30-cba001cff469', 'https://www.airbnb.es/rooms/27450090?adults=5&children=0&infants=0&check_in=2022-08-19&check_out=2022-08-21&previous_page_section_name=1000&federated_search_id=ecfd5579-8504-45fc-ad30-cba001cff469', 'https://www.airbnb.es/rooms/266016?adults=5&children=0&infants=0&check_in=2022-02-11&check_out=2022-02-13&previous_page_section_name=1000&federated_search_id=ecfd5579-8504-45fc-ad30-cba001cff469', 'https://www.airbnb.es/rooms/49299246?adults=5&children=0&infants=0&check_in=2022-03-11&check_out=2022-03-13&previous_page_section_name=1000&federated_search_id=ecfd5579-8504-45fc-ad30-cba001cff469', 'https://www.airbnb.es/rooms/23921441?adults=5&children=0&infants=0&check_in=2022-01-14&check_out=2022-01-16&previous_page_section_name=1000&federated_search_id=ecfd5579-8504-45fc-ad30-cba001cff469', 'https://www.airbnb.es/rooms/23976470?adults=5&children=0&infants=0&check_in=2022-08-12&check_out=2022-08-14&previous_page_section_name=1000&federated_search_id=ecfd5579-8504-45fc-ad30-cba001cff469', 'https://www.airbnb.es/rooms/42253974?adults=5&children=0&infants=0&check_in=2022-01-21&check_out=2022-01-23&previous_page_section_name=1000&federated_search_id=ecfd5579-8504-45fc-ad30-cba001cff469', 'https://www.airbnb.es/rooms/29951904?adults=5&children=0&infants=0&check_in=2022-01-28&check_out=2022-01-30&previous_page_section_name=1000&federated_search_id=ecfd5579-8504-45fc-ad30-cba001cff469', 'https://www.airbnb.es/rooms/23535544?adults=5&children=0&infants=0&check_in=2022-10-21&check_out=2022-10-23&previous_page_section_name=1000&federated_search_id=ecfd5579-8504-45fc-ad30-cba001cff469', 'https://www.airbnb.es/rooms/53643081?adults=5&children=0&infants=0&check_in=2022-02-11&check_out=2022-02-13&previous_page_section_name=1000&federated_search_id=ecfd5579-8504-45fc-ad30-cba001cff469', 'https://www.airbnb.es/rooms/22923326?adults=5&children=0&infants=0&check_in=2022-02-11&check_out=2022-02-13&previous_page_section_name=1000&federated_search_id=ecfd5579-8504-45fc-ad30-cba001cff469', 'https://www.airbnb.es/rooms/31197914?adults=5&children=0&infants=0&check_in=2022-01-21&check_out=2022-01-23&previous_page_section_name=1000&federated_search_id=ecfd5579-8504-45fc-ad30-cba001cff469', 'https://www.airbnb.es/rooms/52687671?adults=5&children=0&infants=0&check_in=2022-06-24&check_out=2022-06-26&previous_page_section_name=1000&federated_search_id=ecfd5579-8504-45fc-ad30-cba001cff469', 'https://www.airbnb.es/rooms/16998168?adults=5&children=0&infants=0&check_in=2022-03-11&check_out=2022-03-13&previous_page_section_name=1000&federated_search_id=ecfd5579-8504-45fc-ad30-cba001cff469', 'https://www.airbnb.es/rooms/22362623?adults=5&children=0&infants=0&check_in=2022-02-25&check_out=2022-02-27&previous_page_section_name=1000&federated_search_id=ecfd5579-8504-45fc-ad30-cba001cff469', 'https://www.airbnb.es/rooms/18460581?adults=5&children=0&infants=0&check_in=2021-12-17&check_out=2021-12-19&previous_page_section_name=1000&federated_search_id=ecfd5579-8504-45fc-ad30-cba001cff469', 'https://www.airbnb.es/rooms/53454028?adults=5&children=0&infants=0&check_in=2022-01-21&check_out=2022-01-23&previous_page_section_name=1000&federated_search_id=ecfd5579-8504-45fc-ad30-cba001cff469', 'https://www.airbnb.es/rooms/531891?adults=5&children=0&infants=0&check_in=2022-06-17&check_out=2022-06-19&previous_page_section_name=1000&federated_search_id=ecfd5579-8504-45fc-ad30-cba001cff469', 'https://www.airbnb.es/rooms/15235209?adults=5&children=0&infants=0&check_in=2022-06-10&check_out=2022-06-12&previous_page_section_name=1000&federated_search_id=ecfd5579-8504-45fc-ad30-cba001cff469', 'https://www.airbnb.es/rooms/21076756?adults=5&children=0&infants=0&check_in=2022-07-08&check_out=2022-07-10&previous_page_section_name=1000&federated_search_id=ecfd5579-8504-45fc-ad30-cba001cff469', 'https://www.airbnb.es/rooms/51245922?adults=5&children=0&infants=0&check_in=2022-01-28&check_out=2022-01-30&previous_page_section_name=1000&federated_search_id=55361637-7c35-4e56-a1b8-1fe53dfb6928', 'https://www.airbnb.es/rooms/5260861?adults=5&children=0&infants=0&check_in=2022-10-28&check_out=2022-10-30&previous_page_section_name=1000&federated_search_id=55361637-7c35-4e56-a1b8-1fe53dfb6928', 'https://www.airbnb.es/rooms/27161127?adults=5&children=0&infants=0&check_in=2022-05-27&check_out=2022-05-29&previous_page_section_name=1000&federated_search_id=55361637-7c35-4e56-a1b8-1fe53dfb6928', 'https://www.airbnb.es/rooms/47169083?adults=5&children=0&infants=0&check_in=2022-11-04&check_out=2022-11-06&previous_page_section_name=1000&federated_search_id=55361637-7c35-4e56-a1b8-1fe53dfb6928', 'https://www.airbnb.es/rooms/16127718?adults=5&children=0&infants=0&check_in=2021-12-24&check_out=2021-12-26&previous_page_section_name=1000&federated_search_id=55361637-7c35-4e56-a1b8-1fe53dfb6928', 'https://www.airbnb.es/rooms/13054801?adults=5&children=0&infants=0&check_in=2022-01-28&check_out=2022-01-30&previous_page_section_name=1000&federated_search_id=55361637-7c35-4e56-a1b8-1fe53dfb6928', 'https://www.airbnb.es/rooms/33210965?adults=5&children=0&infants=0&check_in=2022-01-07&check_out=2022-01-09&previous_page_section_name=1000&federated_search_id=55361637-7c35-4e56-a1b8-1fe53dfb6928', 'https://www.airbnb.es/rooms/40547982?adults=5&children=0&infants=0&check_in=2022-02-04&check_out=2022-02-06&previous_page_section_name=1000&federated_search_id=55361637-7c35-4e56-a1b8-1fe53dfb6928', 'https://www.airbnb.es/rooms/31357647?adults=5&children=0&infants=0&check_in=2022-03-04&check_out=2022-03-06&previous_page_section_name=1000&federated_search_id=55361637-7c35-4e56-a1b8-1fe53dfb6928', 'https://www.airbnb.es/rooms/37616467?adults=5&children=0&infants=0&check_in=2022-02-11&check_out=2022-02-13&previous_page_section_name=1000&federated_search_id=55361637-7c35-4e56-a1b8-1fe53dfb6928', 'https://www.airbnb.es/rooms/26321274?adults=5&children=0&infants=0&check_in=2022-04-08&check_out=2022-04-10&previous_page_section_name=1000&federated_search_id=55361637-7c35-4e56-a1b8-1fe53dfb6928', 'https://www.airbnb.es/rooms/52232316?adults=5&children=0&infants=0&check_in=2022-01-21&check_out=2022-01-23&previous_page_section_name=1000&federated_search_id=55361637-7c35-4e56-a1b8-1fe53dfb6928', 'https://www.airbnb.es/rooms/16197635?adults=5&children=0&infants=0&check_in=2022-02-25&check_out=2022-02-27&previous_page_section_name=1000&federated_search_id=55361637-7c35-4e56-a1b8-1fe53dfb6928', 'https://www.airbnb.es/rooms/17970701?adults=5&children=0&infants=0&check_in=2022-07-29&check_out=2022-07-31&previous_page_section_name=1000&federated_search_id=55361637-7c35-4e56-a1b8-1fe53dfb6928', 'https://www.airbnb.es/rooms/49670534?adults=5&children=0&infants=0&check_in=2022-05-13&check_out=2022-05-15&previous_page_section_name=1000&federated_search_id=55361637-7c35-4e56-a1b8-1fe53dfb6928', 'https://www.airbnb.es/rooms/50458929?adults=5&children=0&infants=0&check_in=2022-05-20&check_out=2022-05-22&previous_page_section_name=1000&federated_search_id=55361637-7c35-4e56-a1b8-1fe53dfb6928', 'https://www.airbnb.es/rooms/51961505?adults=5&children=0&infants=0&check_in=2022-06-17&check_out=2022-06-19&previous_page_section_name=1000&federated_search_id=55361637-7c35-4e56-a1b8-1fe53dfb6928', 'https://www.airbnb.es/rooms/51796670?adults=5&children=0&infants=0&check_in=2022-02-04&check_out=2022-02-06&previous_page_section_name=1000&federated_search_id=55361637-7c35-4e56-a1b8-1fe53dfb6928', 'https://www.airbnb.es/rooms/23675425?adults=5&children=0&infants=0&check_in=2022-03-18&check_out=2022-03-20&previous_page_section_name=1000&federated_search_id=55361637-7c35-4e56-a1b8-1fe53dfb6928', 'https://www.airbnb.es/rooms/32982530?adults=5&children=0&infants=0&check_in=2022-02-25&check_out=2022-02-27&previous_page_section_name=1000&federated_search_id=55361637-7c35-4e56-a1b8-1fe53dfb6928', 'https://www.airbnb.es/rooms/16172109?adults=5&children=0&infants=0&check_in=2022-03-04&check_out=2022-03-06&previous_page_section_name=1000&federated_search_id=051a39f3-d27c-4e75-a41a-ae8ce2dca6e0', 'https://www.airbnb.es/rooms/4801074?adults=5&children=0&infants=0&check_in=2022-07-29&check_out=2022-07-31&previous_page_section_name=1000&federated_search_id=051a39f3-d27c-4e75-a41a-ae8ce2dca6e0', 'https://www.airbnb.es/rooms/19714231?adults=5&children=0&infants=0&check_in=2022-05-20&check_out=2022-05-22&previous_page_section_name=1000&federated_search_id=051a39f3-d27c-4e75-a41a-ae8ce2dca6e0', 'https://www.airbnb.es/rooms/32161182?adults=5&children=0&infants=0&check_in=2022-01-21&check_out=2022-01-23&previous_page_section_name=1000&federated_search_id=051a39f3-d27c-4e75-a41a-ae8ce2dca6e0', 'https://www.airbnb.es/rooms/53163628?adults=5&children=0&infants=0&check_in=2022-05-13&check_out=2022-05-15&previous_page_section_name=1000&federated_search_id=051a39f3-d27c-4e75-a41a-ae8ce2dca6e0', 'https://www.airbnb.es/rooms/41730922?adults=5&children=0&infants=0&check_in=2022-01-14&check_out=2022-01-16&previous_page_section_name=1000&federated_search_id=051a39f3-d27c-4e75-a41a-ae8ce2dca6e0', 'https://www.airbnb.es/rooms/23365692?adults=5&children=0&infants=0&check_in=2022-07-15&check_out=2022-07-17&previous_page_section_name=1000&federated_search_id=051a39f3-d27c-4e75-a41a-ae8ce2dca6e0', 'https://www.airbnb.es/rooms/49919596?adults=5&children=0&infants=0&check_in=2021-12-17&check_out=2021-12-19&previous_page_section_name=1000&federated_search_id=051a39f3-d27c-4e75-a41a-ae8ce2dca6e0', 'https://www.airbnb.es/rooms/43543647?adults=5&children=0&infants=0&check_in=2022-01-28&check_out=2022-01-30&previous_page_section_name=1000&federated_search_id=051a39f3-d27c-4e75-a41a-ae8ce2dca6e0', 'https://www.airbnb.es/rooms/plus/23448652?adults=5&children=0&infants=0&check_in=2022-01-28&check_out=2022-01-30&previous_page_section_name=1000&federated_search_id=051a39f3-d27c-4e75-a41a-ae8ce2dca6e0', 'https://www.airbnb.es/rooms/41956876?adults=5&children=0&infants=0&check_in=2022-10-28&check_out=2022-10-30&previous_page_section_name=1000&federated_search_id=051a39f3-d27c-4e75-a41a-ae8ce2dca6e0', 'https://www.airbnb.es/rooms/52163683?adults=5&children=0&infants=0&check_in=2021-12-17&check_out=2021-12-19&previous_page_section_name=1000&federated_search_id=051a39f3-d27c-4e75-a41a-ae8ce2dca6e0', 'https://www.airbnb.es/rooms/20130596?adults=5&children=0&infants=0&check_in=2022-10-07&check_out=2022-10-09&previous_page_section_name=1000&federated_search_id=051a39f3-d27c-4e75-a41a-ae8ce2dca6e0', 'https://www.airbnb.es/rooms/8433932?adults=5&children=0&infants=0&check_in=2022-01-07&check_out=2022-01-09&previous_page_section_name=1000&federated_search_id=051a39f3-d27c-4e75-a41a-ae8ce2dca6e0', 'https://www.airbnb.es/rooms/2791372?adults=5&children=0&infants=0&check_in=2022-03-18&check_out=2022-03-20&previous_page_section_name=1000&federated_search_id=051a39f3-d27c-4e75-a41a-ae8ce2dca6e0', 'https://www.airbnb.es/rooms/22524779?adults=5&children=0&infants=0&check_in=2022-06-03&check_out=2022-06-05&previous_page_section_name=1000&federated_search_id=051a39f3-d27c-4e75-a41a-ae8ce2dca6e0', 'https://www.airbnb.es/rooms/23272687?adults=5&children=0&infants=0&check_in=2022-02-18&check_out=2022-02-20&previous_page_section_name=1000&federated_search_id=051a39f3-d27c-4e75-a41a-ae8ce2dca6e0', 'https://www.airbnb.es/rooms/39725546?adults=5&children=0&infants=0&check_in=2022-06-10&check_out=2022-06-12&previous_page_section_name=1000&federated_search_id=051a39f3-d27c-4e75-a41a-ae8ce2dca6e0', 'https://www.airbnb.es/rooms/32954275?adults=5&children=0&infants=0&check_in=2022-05-27&check_out=2022-05-29&previous_page_section_name=1000&federated_search_id=051a39f3-d27c-4e75-a41a-ae8ce2dca6e0', 'https://www.airbnb.es/rooms/51284411?adults=5&children=0&infants=0&check_in=2022-10-21&check_out=2022-10-23&previous_page_section_name=1000&federated_search_id=051a39f3-d27c-4e75-a41a-ae8ce2dca6e0', 'https://www.airbnb.es/rooms/53765906?adults=5&children=0&infants=0&check_in=2022-01-21&check_out=2022-01-23&previous_page_section_name=1000&federated_search_id=b2a6702b-532e-4eba-942e-d285627ea1ce', 'https://www.airbnb.es/rooms/53244895?adults=5&children=0&infants=0&check_in=2022-01-21&check_out=2022-01-23&previous_page_section_name=1000&federated_search_id=b2a6702b-532e-4eba-942e-d285627ea1ce', 'https://www.airbnb.es/rooms/31197914?adults=5&children=0&infants=0&check_in=2022-01-07&check_out=2022-01-09&previous_page_section_name=1000&federated_search_id=b2a6702b-532e-4eba-942e-d285627ea1ce', 'https://www.airbnb.es/rooms/51296515?adults=5&children=0&infants=0&check_in=2022-06-10&check_out=2022-06-12&previous_page_section_name=1000&federated_search_id=b2a6702b-532e-4eba-942e-d285627ea1ce', 'https://www.airbnb.es/rooms/17921432?adults=5&children=0&infants=0&check_in=2022-07-29&check_out=2022-07-31&previous_page_section_name=1000&federated_search_id=b2a6702b-532e-4eba-942e-d285627ea1ce', 'https://www.airbnb.es/rooms/51284411?adults=5&children=0&infants=0&check_in=2022-06-17&check_out=2022-06-19&previous_page_section_name=1000&federated_search_id=b2a6702b-532e-4eba-942e-d285627ea1ce', 'https://www.airbnb.es/rooms/24072879?adults=5&children=0&infants=0&check_in=2022-04-08&check_out=2022-04-10&previous_page_section_name=1000&federated_search_id=b2a6702b-532e-4eba-942e-d285627ea1ce', 'https://www.airbnb.es/rooms/53362895?adults=5&children=0&infants=0&check_in=2022-01-14&check_out=2022-01-16&previous_page_section_name=1000&federated_search_id=b2a6702b-532e-4eba-942e-d285627ea1ce', 'https://www.airbnb.es/rooms/50326908?adults=5&children=0&infants=0&check_in=2022-09-30&check_out=2022-10-02&previous_page_section_name=1000&federated_search_id=b2a6702b-532e-4eba-942e-d285627ea1ce', 'https://www.airbnb.es/rooms/53683124?adults=5&children=0&infants=0&check_in=2022-10-14&check_out=2022-10-16&previous_page_section_name=1000&federated_search_id=b2a6702b-532e-4eba-942e-d285627ea1ce', 'https://www.airbnb.es/rooms/42060332?adults=5&children=0&infants=0&check_in=2022-02-04&check_out=2022-02-06&previous_page_section_name=1000&federated_search_id=b2a6702b-532e-4eba-942e-d285627ea1ce', 'https://www.airbnb.es/rooms/6123853?adults=5&children=0&infants=0&check_in=2022-06-17&check_out=2022-06-19&previous_page_section_name=1000&federated_search_id=b2a6702b-532e-4eba-942e-d285627ea1ce', 'https://www.airbnb.es/rooms/33550242?adults=5&children=0&infants=0&check_in=2022-04-01&check_out=2022-04-03&previous_page_section_name=1000&federated_search_id=b2a6702b-532e-4eba-942e-d285627ea1ce', 'https://www.airbnb.es/rooms/17598233?adults=5&children=0&infants=0&check_in=2022-01-14&check_out=2022-01-16&previous_page_section_name=1000&federated_search_id=b2a6702b-532e-4eba-942e-d285627ea1ce', 'https://www.airbnb.es/rooms/4814366?adults=5&children=0&infants=0&check_in=2022-07-15&check_out=2022-07-17&previous_page_section_name=1000&federated_search_id=b2a6702b-532e-4eba-942e-d285627ea1ce', 'https://www.airbnb.es/rooms/32106498?adults=5&children=0&infants=0&check_in=2022-03-04&check_out=2022-03-06&previous_page_section_name=1000&federated_search_id=b2a6702b-532e-4eba-942e-d285627ea1ce', 'https://www.airbnb.es/rooms/23357596?adults=5&children=0&infants=0&check_in=2022-08-19&check_out=2022-08-21&previous_page_section_name=1000&federated_search_id=b2a6702b-532e-4eba-942e-d285627ea1ce', 'https://www.airbnb.es/rooms/11910435?adults=5&children=0&infants=0&check_in=2022-01-28&check_out=2022-01-30&previous_page_section_name=1000&federated_search_id=b2a6702b-532e-4eba-942e-d285627ea1ce', 'https://www.airbnb.es/rooms/24335943?adults=5&children=0&infants=0&check_in=2022-10-07&check_out=2022-10-09&previous_page_section_name=1000&federated_search_id=b2a6702b-532e-4eba-942e-d285627ea1ce', 'https://www.airbnb.es/rooms/53031763?adults=5&children=0&infants=0&check_in=2022-03-25&check_out=2022-03-27&previous_page_section_name=1000&federated_search_id=b2a6702b-532e-4eba-942e-d285627ea1ce', 'https://www.airbnb.es/rooms/17951292?adults=5&children=0&infants=0&check_in=2022-03-18&check_out=2022-03-20&previous_page_section_name=1000&federated_search_id=e1456c84-4b6f-491d-9a65-6997fb2d5937', 'https://www.airbnb.es/rooms/16295854?adults=5&children=0&infants=0&check_in=2022-01-14&check_out=2022-01-16&previous_page_section_name=1000&federated_search_id=e1456c84-4b6f-491d-9a65-6997fb2d5937', 'https://www.airbnb.es/rooms/44729221?adults=5&children=0&infants=0&check_in=2022-03-18&check_out=2022-03-20&previous_page_section_name=1000&federated_search_id=e1456c84-4b6f-491d-9a65-6997fb2d5937', 'https://www.airbnb.es/rooms/38379567?adults=5&children=0&infants=0&check_in=2021-12-24&check_out=2021-12-26&previous_page_section_name=1000&federated_search_id=e1456c84-4b6f-491d-9a65-6997fb2d5937', 'https://www.airbnb.es/rooms/38533715?adults=5&children=0&infants=0&check_in=2022-07-29&check_out=2022-07-31&previous_page_section_name=1000&federated_search_id=e1456c84-4b6f-491d-9a65-6997fb2d5937', 'https://www.airbnb.es/rooms/16998168?adults=5&children=0&infants=0&check_in=2022-03-18&check_out=2022-03-20&previous_page_section_name=1000&federated_search_id=e1456c84-4b6f-491d-9a65-6997fb2d5937', 'https://www.airbnb.es/rooms/42463372?adults=5&children=0&infants=0&check_in=2021-12-17&check_out=2021-12-19&previous_page_section_name=1000&federated_search_id=e1456c84-4b6f-491d-9a65-6997fb2d5937', 'https://www.airbnb.es/rooms/30279439?adults=5&children=0&infants=0&check_in=2022-07-15&check_out=2022-07-17&previous_page_section_name=1000&federated_search_id=e1456c84-4b6f-491d-9a65-6997fb2d5937', 'https://www.airbnb.es/rooms/22324779?adults=5&children=0&infants=0&check_in=2022-05-27&check_out=2022-05-29&previous_page_section_name=1000&federated_search_id=e1456c84-4b6f-491d-9a65-6997fb2d5937', 'https://www.airbnb.es/rooms/48708163?adults=5&children=0&infants=0&check_in=2022-02-04&check_out=2022-02-06&previous_page_section_name=1000&federated_search_id=e1456c84-4b6f-491d-9a65-6997fb2d5937', 'https://www.airbnb.es/rooms/48693124?adults=5&children=0&infants=0&check_in=2021-12-24&check_out=2021-12-26&previous_page_section_name=1000&federated_search_id=e1456c84-4b6f-491d-9a65-6997fb2d5937', 'https://www.airbnb.es/rooms/40227696?adults=5&children=0&infants=0&check_in=2022-01-28&check_out=2022-01-30&previous_page_section_name=1000&federated_search_id=e1456c84-4b6f-491d-9a65-6997fb2d5937', 'https://www.airbnb.es/rooms/33072207?adults=5&children=0&infants=0&check_in=2022-05-13&check_out=2022-05-15&previous_page_section_name=1000&federated_search_id=e1456c84-4b6f-491d-9a65-6997fb2d5937', 'https://www.airbnb.es/rooms/23675425?adults=5&children=0&infants=0&check_in=2022-01-14&check_out=2022-01-16&previous_page_section_name=1000&federated_search_id=e1456c84-4b6f-491d-9a65-6997fb2d5937', 'https://www.airbnb.es/rooms/50840507?adults=5&children=0&infants=0&check_in=2022-01-07&check_out=2022-01-09&previous_page_section_name=1000&federated_search_id=e1456c84-4b6f-491d-9a65-6997fb2d5937', 'https://www.airbnb.es/rooms/42060332?adults=5&children=0&infants=0&check_in=2022-02-04&check_out=2022-02-06&previous_page_section_name=1000&federated_search_id=e1456c84-4b6f-491d-9a65-6997fb2d5937', 'https://www.airbnb.es/rooms/33503897?adults=5&children=0&infants=0&check_in=2022-04-22&check_out=2022-04-24&previous_page_section_name=1000&federated_search_id=e1456c84-4b6f-491d-9a65-6997fb2d5937', 'https://www.airbnb.es/rooms/53643081?adults=5&children=0&infants=0&check_in=2022-02-04&check_out=2022-02-06&previous_page_section_name=1000&federated_search_id=e1456c84-4b6f-491d-9a65-6997fb2d5937', 'https://www.airbnb.es/rooms/52574788?adults=5&children=0&infants=0&check_in=2022-07-22&check_out=2022-07-24&previous_page_section_name=1000&federated_search_id=e1456c84-4b6f-491d-9a65-6997fb2d5937', 'https://www.airbnb.es/rooms/21652437?adults=5&children=0&infants=0&check_in=2022-01-14&check_out=2022-01-16&previous_page_section_name=1000&federated_search_id=e1456c84-4b6f-491d-9a65-6997fb2d5937', 'https://www.airbnb.es/rooms/33440398?adults=5&children=0&infants=0&check_in=2022-10-28&check_out=2022-10-30&previous_page_section_name=1000&federated_search_id=0b18605b-c7ee-4e9b-bc2b-f544726c3e3e', 'https://www.airbnb.es/rooms/42803148?adults=5&children=0&infants=0&check_in=2022-07-29&check_out=2022-07-31&previous_page_section_name=1000&federated_search_id=0b18605b-c7ee-4e9b-bc2b-f544726c3e3e', 'https://www.airbnb.es/rooms/49661337?adults=5&children=0&infants=0&check_in=2022-08-12&check_out=2022-08-14&previous_page_section_name=1000&federated_search_id=0b18605b-c7ee-4e9b-bc2b-f544726c3e3e', 'https://www.airbnb.es/rooms/17251604?adults=5&children=0&infants=0&check_in=2022-02-25&check_out=2022-02-27&previous_page_section_name=1000&federated_search_id=0b18605b-c7ee-4e9b-bc2b-f544726c3e3e', 'https://www.airbnb.es/rooms/33703539?adults=5&children=0&infants=0&check_in=2022-02-11&check_out=2022-02-13&previous_page_section_name=1000&federated_search_id=0b18605b-c7ee-4e9b-bc2b-f544726c3e3e', 'https://www.airbnb.es/rooms/52800476?adults=5&children=0&infants=0&check_in=2022-09-02&check_out=2022-09-04&previous_page_section_name=1000&federated_search_id=0b18605b-c7ee-4e9b-bc2b-f544726c3e3e', 'https://www.airbnb.es/rooms/32754830?adults=5&children=0&infants=0&check_in=2021-12-24&check_out=2021-12-26&previous_page_section_name=1000&federated_search_id=0b18605b-c7ee-4e9b-bc2b-f544726c3e3e', 'https://www.airbnb.es/rooms/22292896?adults=5&children=0&infants=0&check_in=2022-06-10&check_out=2022-06-12&previous_page_section_name=1000&federated_search_id=0b18605b-c7ee-4e9b-bc2b-f544726c3e3e', 'https://www.airbnb.es/rooms/plus/19684051?adults=5&children=0&infants=0&check_in=2022-09-16&check_out=2022-09-18&previous_page_section_name=1000&federated_search_id=0b18605b-c7ee-4e9b-bc2b-f544726c3e3e', 'https://www.airbnb.es/rooms/17857671?adults=5&children=0&infants=0&check_in=2022-02-18&check_out=2022-02-20&previous_page_section_name=1000&federated_search_id=0b18605b-c7ee-4e9b-bc2b-f544726c3e3e', 'https://www.airbnb.es/rooms/45819117?adults=5&children=0&infants=0&check_in=2022-03-11&check_out=2022-03-13&previous_page_section_name=1000&federated_search_id=0b18605b-c7ee-4e9b-bc2b-f544726c3e3e', 'https://www.airbnb.es/rooms/21876361?adults=5&children=0&infants=0&check_in=2022-11-25&check_out=2022-11-27&previous_page_section_name=1000&federated_search_id=0b18605b-c7ee-4e9b-bc2b-f544726c3e3e', 'https://www.airbnb.es/rooms/plus/31135768?adults=5&children=0&infants=0&check_in=2022-11-25&check_out=2022-11-27&previous_page_section_name=1000&federated_search_id=0b18605b-c7ee-4e9b-bc2b-f544726c3e3e', 'https://www.airbnb.es/rooms/42028149?adults=5&children=0&infants=0&check_in=2022-03-11&check_out=2022-03-13&previous_page_section_name=1000&federated_search_id=0b18605b-c7ee-4e9b-bc2b-f544726c3e3e', 'https://www.airbnb.es/rooms/33210965?adults=5&children=0&infants=0&check_in=2022-01-07&check_out=2022-01-09&previous_page_section_name=1000&federated_search_id=0b18605b-c7ee-4e9b-bc2b-f544726c3e3e', 'https://www.airbnb.es/rooms/52757650?adults=5&children=0&infants=0&check_in=2021-12-17&check_out=2021-12-19&previous_page_section_name=1000&federated_search_id=0b18605b-c7ee-4e9b-bc2b-f544726c3e3e', 'https://www.airbnb.es/rooms/951283?adults=5&children=0&infants=0&check_in=2022-11-18&check_out=2022-11-20&previous_page_section_name=1000&federated_search_id=0b18605b-c7ee-4e9b-bc2b-f544726c3e3e', 'https://www.airbnb.es/rooms/25936497?adults=5&children=0&infants=0&check_in=2022-02-18&check_out=2022-02-20&previous_page_section_name=1000&federated_search_id=0b18605b-c7ee-4e9b-bc2b-f544726c3e3e', 'https://www.airbnb.es/rooms/23780661?adults=5&children=0&infants=0&check_in=2021-12-17&check_out=2021-12-19&previous_page_section_name=1000&federated_search_id=0b18605b-c7ee-4e9b-bc2b-f544726c3e3e', 'https://www.airbnb.es/rooms/39502055?adults=5&children=0&infants=0&check_in=2022-06-03&check_out=2022-06-05&previous_page_section_name=1000&federated_search_id=0b18605b-c7ee-4e9b-bc2b-f544726c3e3e']\n"
   ]
  },
  {
   "cell_type": "code",
   "execution_count": 4,
   "id": "b62d416f",
   "metadata": {},
   "outputs": [
    {
     "data": {
      "text/plain": [
       "900"
      ]
     },
     "execution_count": 4,
     "metadata": {},
     "output_type": "execute_result"
    }
   ],
   "source": [
    "len(urls_m_b_s)"
   ]
  },
  {
   "cell_type": "markdown",
   "id": "bb03acfa",
   "metadata": {},
   "source": [
    "## Extracción de Datos:"
   ]
  },
  {
   "cell_type": "code",
   "execution_count": 8,
   "id": "53ff51b4",
   "metadata": {},
   "outputs": [
    {
     "name": "stderr",
     "output_type": "stream",
     "text": [
      "\n",
      "\n",
      "====== WebDriver manager ======\n",
      "Current google-chrome version is 96.0.4664\n",
      "Get LATEST chromedriver version for 96.0.4664 google-chrome\n"
     ]
    },
    {
     "name": "stdout",
     "output_type": "stream",
     "text": [
      "0\n"
     ]
    },
    {
     "name": "stderr",
     "output_type": "stream",
     "text": [
      "Driver [/Users/franciscovispo/.wdm/drivers/chromedriver/mac64/96.0.4664.45/chromedriver] found in cache\n",
      "<ipython-input-8-66ffa0392565>:6: DeprecationWarning: executable_path has been deprecated, please pass in a Service object\n",
      "  driver = webdriver.Chrome(ChromeDriverManager().install(), options = opciones)\n",
      "<ipython-input-8-66ffa0392565>:11: DeprecationWarning: find_element_by_* commands are deprecated. Please use find_element() instead\n",
      "  driver.find_element_by_css_selector(\"body > div:nth-child(7) > div > div > div:nth-child(1) > div > div._1cgcei8 > section > div._gsw2t0 > div._160gnkxa > button\").click()\n",
      "<ipython-input-8-66ffa0392565>:18: DeprecationWarning: find_element_by_* commands are deprecated. Please use find_element() instead\n",
      "  dicc_m[\"all_info\"].append(driver.find_element_by_xpath(\"/html/body/div[5]/div/div/div[1]/div/div/div/div/div/div[1]/main/div/div[1]/div[3]/div/div[1]/div/div/main/div[1]/div/div/section/div/div/div/div[1]/ol\").text)\n",
      "<ipython-input-8-66ffa0392565>:26: DeprecationWarning: find_element_by_* commands are deprecated. Please use find_element() instead\n",
      "  dicc_m[\"características\"].append(driver.find_element_by_xpath(\"/html/body/div[5]/div/div/div[1]/div/div/div/div/div/div[1]/main/div/div[1]/div[3]/div/div[1]/div/div/main/div[2]/div/div[2]\").text)\n"
     ]
    },
    {
     "name": "stdout",
     "output_type": "stream",
     "text": [
      "llego a los huespedes\n",
      "llego a las características\n"
     ]
    },
    {
     "name": "stderr",
     "output_type": "stream",
     "text": [
      "<ipython-input-8-66ffa0392565>:34: DeprecationWarning: find_element_by_* commands are deprecated. Please use find_element() instead\n",
      "  dicc_m[\"precio\"].append(driver.find_element_by_xpath(\"/html/body/div[5]/div/div/div[1]/div/div/div/div/div/div[1]/main/div/div[1]/div[3]/div/div[2]/div/div/div[1]/div/div/div/div/div/div/div[1]/div[1]\").text)\n"
     ]
    },
    {
     "name": "stdout",
     "output_type": "stream",
     "text": [
      "llego a los precios\n"
     ]
    },
    {
     "name": "stderr",
     "output_type": "stream",
     "text": [
      "<ipython-input-8-66ffa0392565>:42: DeprecationWarning: find_element_by_* commands are deprecated. Please use find_element() instead\n",
      "  dicc_m[\"usos\"].append(driver.find_element_by_xpath(\"/html/body/div[5]/div/div/div[1]/div/div/div/div/div/div[1]/main/div/div[1]/div[3]/div/div[1]/div/div/main/div[5]/div/div[2]\").text)\n"
     ]
    },
    {
     "name": "stdout",
     "output_type": "stream",
     "text": [
      "llego a los usos\n"
     ]
    },
    {
     "name": "stderr",
     "output_type": "stream",
     "text": [
      "\n",
      "\n",
      "====== WebDriver manager ======\n"
     ]
    },
    {
     "name": "stdout",
     "output_type": "stream",
     "text": [
      "1\n"
     ]
    },
    {
     "name": "stderr",
     "output_type": "stream",
     "text": [
      "Current google-chrome version is 96.0.4664\n",
      "Get LATEST chromedriver version for 96.0.4664 google-chrome\n",
      "Driver [/Users/franciscovispo/.wdm/drivers/chromedriver/mac64/96.0.4664.45/chromedriver] found in cache\n"
     ]
    },
    {
     "name": "stdout",
     "output_type": "stream",
     "text": [
      "llego a los huespedes\n",
      "llego a las características\n",
      "llego a los precios\n",
      "llego a los usos\n"
     ]
    },
    {
     "name": "stderr",
     "output_type": "stream",
     "text": [
      "\n",
      "\n",
      "====== WebDriver manager ======\n"
     ]
    },
    {
     "name": "stdout",
     "output_type": "stream",
     "text": [
      "2\n"
     ]
    },
    {
     "name": "stderr",
     "output_type": "stream",
     "text": [
      "Current google-chrome version is 96.0.4664\n",
      "Get LATEST chromedriver version for 96.0.4664 google-chrome\n",
      "Driver [/Users/franciscovispo/.wdm/drivers/chromedriver/mac64/96.0.4664.45/chromedriver] found in cache\n"
     ]
    },
    {
     "name": "stdout",
     "output_type": "stream",
     "text": [
      "llego a los huespedes\n",
      "llego a las características\n",
      "llego a los precios\n",
      "llego a los usos\n"
     ]
    },
    {
     "name": "stderr",
     "output_type": "stream",
     "text": [
      "\n",
      "\n",
      "====== WebDriver manager ======\n",
      "Current google-chrome version is 96.0.4664\n"
     ]
    },
    {
     "name": "stdout",
     "output_type": "stream",
     "text": [
      "3\n"
     ]
    },
    {
     "name": "stderr",
     "output_type": "stream",
     "text": [
      "Get LATEST chromedriver version for 96.0.4664 google-chrome\n",
      "Driver [/Users/franciscovispo/.wdm/drivers/chromedriver/mac64/96.0.4664.45/chromedriver] found in cache\n"
     ]
    },
    {
     "name": "stdout",
     "output_type": "stream",
     "text": [
      "llego a los huespedes\n",
      "llego a las características\n",
      "llego a los precios\n",
      "llego a los usos\n"
     ]
    },
    {
     "name": "stderr",
     "output_type": "stream",
     "text": [
      "\n",
      "\n",
      "====== WebDriver manager ======\n"
     ]
    },
    {
     "name": "stdout",
     "output_type": "stream",
     "text": [
      "4\n"
     ]
    },
    {
     "name": "stderr",
     "output_type": "stream",
     "text": [
      "Current google-chrome version is 96.0.4664\n",
      "Get LATEST chromedriver version for 96.0.4664 google-chrome\n",
      "Driver [/Users/franciscovispo/.wdm/drivers/chromedriver/mac64/96.0.4664.45/chromedriver] found in cache\n"
     ]
    },
    {
     "name": "stdout",
     "output_type": "stream",
     "text": [
      "llego a los huespedes\n",
      "llego a las características\n",
      "llego a los precios\n",
      "llego a los usos\n"
     ]
    },
    {
     "name": "stderr",
     "output_type": "stream",
     "text": [
      "\n",
      "\n",
      "====== WebDriver manager ======\n",
      "Current google-chrome version is 96.0.4664\n",
      "Get LATEST chromedriver version for 96.0.4664 google-chrome\n"
     ]
    },
    {
     "name": "stdout",
     "output_type": "stream",
     "text": [
      "5\n"
     ]
    },
    {
     "name": "stderr",
     "output_type": "stream",
     "text": [
      "Driver [/Users/franciscovispo/.wdm/drivers/chromedriver/mac64/96.0.4664.45/chromedriver] found in cache\n"
     ]
    },
    {
     "name": "stdout",
     "output_type": "stream",
     "text": [
      "llego a los huespedes\n",
      "llego a las características\n",
      "llego a los precios\n",
      "llego a los usos\n"
     ]
    },
    {
     "name": "stderr",
     "output_type": "stream",
     "text": [
      "\n",
      "\n",
      "====== WebDriver manager ======\n"
     ]
    },
    {
     "name": "stdout",
     "output_type": "stream",
     "text": [
      "6\n"
     ]
    },
    {
     "name": "stderr",
     "output_type": "stream",
     "text": [
      "Current google-chrome version is 96.0.4664\n",
      "Get LATEST chromedriver version for 96.0.4664 google-chrome\n",
      "Driver [/Users/franciscovispo/.wdm/drivers/chromedriver/mac64/96.0.4664.45/chromedriver] found in cache\n"
     ]
    },
    {
     "name": "stdout",
     "output_type": "stream",
     "text": [
      "llego a los huespedes\n",
      "llego a las características\n",
      "llego a los precios\n",
      "llego a los usos\n"
     ]
    },
    {
     "name": "stderr",
     "output_type": "stream",
     "text": [
      "\n",
      "\n",
      "====== WebDriver manager ======\n",
      "Current google-chrome version is 96.0.4664\n",
      "Get LATEST chromedriver version for 96.0.4664 google-chrome\n"
     ]
    },
    {
     "name": "stdout",
     "output_type": "stream",
     "text": [
      "7\n"
     ]
    },
    {
     "name": "stderr",
     "output_type": "stream",
     "text": [
      "Driver [/Users/franciscovispo/.wdm/drivers/chromedriver/mac64/96.0.4664.45/chromedriver] found in cache\n"
     ]
    },
    {
     "name": "stdout",
     "output_type": "stream",
     "text": [
      "llego a los huespedes\n",
      "llego a las características\n",
      "llego a los precios\n",
      "llego a los usos\n"
     ]
    },
    {
     "name": "stderr",
     "output_type": "stream",
     "text": [
      "\n",
      "\n",
      "====== WebDriver manager ======\n",
      "Current google-chrome version is 96.0.4664\n",
      "Get LATEST chromedriver version for 96.0.4664 google-chrome\n"
     ]
    },
    {
     "name": "stdout",
     "output_type": "stream",
     "text": [
      "8\n"
     ]
    },
    {
     "name": "stderr",
     "output_type": "stream",
     "text": [
      "Driver [/Users/franciscovispo/.wdm/drivers/chromedriver/mac64/96.0.4664.45/chromedriver] found in cache\n"
     ]
    },
    {
     "name": "stdout",
     "output_type": "stream",
     "text": [
      "llego a los huespedes\n",
      "llego a las características\n",
      "llego a los precios\n",
      "llego a los usos\n"
     ]
    },
    {
     "name": "stderr",
     "output_type": "stream",
     "text": [
      "\n",
      "\n",
      "====== WebDriver manager ======\n",
      "Current google-chrome version is 96.0.4664\n",
      "Get LATEST chromedriver version for 96.0.4664 google-chrome\n"
     ]
    },
    {
     "name": "stdout",
     "output_type": "stream",
     "text": [
      "9\n"
     ]
    },
    {
     "name": "stderr",
     "output_type": "stream",
     "text": [
      "Driver [/Users/franciscovispo/.wdm/drivers/chromedriver/mac64/96.0.4664.45/chromedriver] found in cache\n"
     ]
    },
    {
     "name": "stdout",
     "output_type": "stream",
     "text": [
      "llego a los huespedes\n",
      "llego a las características\n",
      "llego a los precios\n",
      "llego a los usos\n"
     ]
    },
    {
     "name": "stderr",
     "output_type": "stream",
     "text": [
      "\n",
      "\n",
      "====== WebDriver manager ======\n",
      "Current google-chrome version is 96.0.4664\n",
      "Get LATEST chromedriver version for 96.0.4664 google-chrome\n"
     ]
    },
    {
     "name": "stdout",
     "output_type": "stream",
     "text": [
      "10\n"
     ]
    },
    {
     "name": "stderr",
     "output_type": "stream",
     "text": [
      "Driver [/Users/franciscovispo/.wdm/drivers/chromedriver/mac64/96.0.4664.45/chromedriver] found in cache\n"
     ]
    },
    {
     "name": "stdout",
     "output_type": "stream",
     "text": [
      "llego a los huespedes\n",
      "llego a las características\n",
      "llego a los precios\n",
      "llego a los usos\n"
     ]
    },
    {
     "name": "stderr",
     "output_type": "stream",
     "text": [
      "\n",
      "\n",
      "====== WebDriver manager ======\n"
     ]
    },
    {
     "name": "stdout",
     "output_type": "stream",
     "text": [
      "11\n"
     ]
    },
    {
     "name": "stderr",
     "output_type": "stream",
     "text": [
      "Current google-chrome version is 96.0.4664\n",
      "Get LATEST chromedriver version for 96.0.4664 google-chrome\n",
      "Driver [/Users/franciscovispo/.wdm/drivers/chromedriver/mac64/96.0.4664.45/chromedriver] found in cache\n"
     ]
    },
    {
     "name": "stdout",
     "output_type": "stream",
     "text": [
      "llego a los huespedes\n",
      "llego a las características\n",
      "llego a los precios\n",
      "llego a los usos\n"
     ]
    },
    {
     "name": "stderr",
     "output_type": "stream",
     "text": [
      "\n",
      "\n",
      "====== WebDriver manager ======\n",
      "Current google-chrome version is 96.0.4664\n",
      "Get LATEST chromedriver version for 96.0.4664 google-chrome\n"
     ]
    },
    {
     "name": "stdout",
     "output_type": "stream",
     "text": [
      "12\n"
     ]
    },
    {
     "name": "stderr",
     "output_type": "stream",
     "text": [
      "Driver [/Users/franciscovispo/.wdm/drivers/chromedriver/mac64/96.0.4664.45/chromedriver] found in cache\n"
     ]
    },
    {
     "name": "stdout",
     "output_type": "stream",
     "text": [
      "llego a los huespedes\n",
      "llego a las características\n",
      "llego a los precios\n",
      "llego a los usos\n"
     ]
    },
    {
     "name": "stderr",
     "output_type": "stream",
     "text": [
      "\n",
      "\n",
      "====== WebDriver manager ======\n",
      "Current google-chrome version is 96.0.4664\n",
      "Get LATEST chromedriver version for 96.0.4664 google-chrome\n"
     ]
    },
    {
     "name": "stdout",
     "output_type": "stream",
     "text": [
      "13\n"
     ]
    },
    {
     "name": "stderr",
     "output_type": "stream",
     "text": [
      "Driver [/Users/franciscovispo/.wdm/drivers/chromedriver/mac64/96.0.4664.45/chromedriver] found in cache\n"
     ]
    },
    {
     "name": "stdout",
     "output_type": "stream",
     "text": [
      "llego a los huespedes\n",
      "llego a las características\n",
      "llego a los precios\n",
      "llego a los usos\n"
     ]
    },
    {
     "name": "stderr",
     "output_type": "stream",
     "text": [
      "\n",
      "\n",
      "====== WebDriver manager ======\n"
     ]
    },
    {
     "name": "stdout",
     "output_type": "stream",
     "text": [
      "14\n"
     ]
    },
    {
     "name": "stderr",
     "output_type": "stream",
     "text": [
      "Current google-chrome version is 96.0.4664\n",
      "Get LATEST chromedriver version for 96.0.4664 google-chrome\n",
      "Driver [/Users/franciscovispo/.wdm/drivers/chromedriver/mac64/96.0.4664.45/chromedriver] found in cache\n"
     ]
    },
    {
     "name": "stdout",
     "output_type": "stream",
     "text": [
      "llego a los huespedes\n",
      "llego a las características\n",
      "llego a los precios\n",
      "llego a los usos\n"
     ]
    },
    {
     "name": "stderr",
     "output_type": "stream",
     "text": [
      "\n",
      "\n",
      "====== WebDriver manager ======\n",
      "Current google-chrome version is 96.0.4664\n",
      "Get LATEST chromedriver version for 96.0.4664 google-chrome\n"
     ]
    },
    {
     "name": "stdout",
     "output_type": "stream",
     "text": [
      "15\n"
     ]
    },
    {
     "name": "stderr",
     "output_type": "stream",
     "text": [
      "Driver [/Users/franciscovispo/.wdm/drivers/chromedriver/mac64/96.0.4664.45/chromedriver] found in cache\n"
     ]
    },
    {
     "name": "stdout",
     "output_type": "stream",
     "text": [
      "llego a los huespedes\n",
      "llego a las características\n",
      "llego a los precios\n",
      "llego a los usos\n"
     ]
    },
    {
     "name": "stderr",
     "output_type": "stream",
     "text": [
      "\n",
      "\n",
      "====== WebDriver manager ======\n",
      "Current google-chrome version is 96.0.4664\n",
      "Get LATEST chromedriver version for 96.0.4664 google-chrome\n"
     ]
    },
    {
     "name": "stdout",
     "output_type": "stream",
     "text": [
      "16\n"
     ]
    },
    {
     "name": "stderr",
     "output_type": "stream",
     "text": [
      "Driver [/Users/franciscovispo/.wdm/drivers/chromedriver/mac64/96.0.4664.45/chromedriver] found in cache\n"
     ]
    },
    {
     "name": "stdout",
     "output_type": "stream",
     "text": [
      "llego a los huespedes\n",
      "llego a las características\n",
      "llego a los precios\n",
      "llego a los usos\n"
     ]
    },
    {
     "name": "stderr",
     "output_type": "stream",
     "text": [
      "\n",
      "\n",
      "====== WebDriver manager ======\n"
     ]
    },
    {
     "name": "stdout",
     "output_type": "stream",
     "text": [
      "17\n"
     ]
    },
    {
     "name": "stderr",
     "output_type": "stream",
     "text": [
      "Current google-chrome version is 96.0.4664\n",
      "Get LATEST chromedriver version for 96.0.4664 google-chrome\n",
      "Driver [/Users/franciscovispo/.wdm/drivers/chromedriver/mac64/96.0.4664.45/chromedriver] found in cache\n"
     ]
    },
    {
     "name": "stdout",
     "output_type": "stream",
     "text": [
      "llego a los huespedes\n",
      "llego a las características\n",
      "llego a los precios\n",
      "llego a los usos\n"
     ]
    },
    {
     "name": "stderr",
     "output_type": "stream",
     "text": [
      "\n",
      "\n",
      "====== WebDriver manager ======\n",
      "Current google-chrome version is 96.0.4664\n",
      "Get LATEST chromedriver version for 96.0.4664 google-chrome\n"
     ]
    },
    {
     "name": "stdout",
     "output_type": "stream",
     "text": [
      "18\n"
     ]
    },
    {
     "name": "stderr",
     "output_type": "stream",
     "text": [
      "Driver [/Users/franciscovispo/.wdm/drivers/chromedriver/mac64/96.0.4664.45/chromedriver] found in cache\n"
     ]
    },
    {
     "name": "stdout",
     "output_type": "stream",
     "text": [
      "llego a los huespedes\n",
      "llego a las características\n",
      "llego a los precios\n",
      "llego a los usos\n"
     ]
    },
    {
     "name": "stderr",
     "output_type": "stream",
     "text": [
      "\n",
      "\n",
      "====== WebDriver manager ======\n",
      "Current google-chrome version is 96.0.4664\n",
      "Get LATEST chromedriver version for 96.0.4664 google-chrome\n"
     ]
    },
    {
     "name": "stdout",
     "output_type": "stream",
     "text": [
      "19\n"
     ]
    },
    {
     "name": "stderr",
     "output_type": "stream",
     "text": [
      "Driver [/Users/franciscovispo/.wdm/drivers/chromedriver/mac64/96.0.4664.45/chromedriver] found in cache\n"
     ]
    },
    {
     "name": "stdout",
     "output_type": "stream",
     "text": [
      "llego a los huespedes\n",
      "llego a las características\n",
      "llego a los precios\n",
      "llego a los usos\n"
     ]
    },
    {
     "name": "stderr",
     "output_type": "stream",
     "text": [
      "\n",
      "\n",
      "====== WebDriver manager ======\n"
     ]
    },
    {
     "name": "stdout",
     "output_type": "stream",
     "text": [
      "20\n"
     ]
    },
    {
     "name": "stderr",
     "output_type": "stream",
     "text": [
      "Current google-chrome version is 96.0.4664\n",
      "Get LATEST chromedriver version for 96.0.4664 google-chrome\n",
      "Driver [/Users/franciscovispo/.wdm/drivers/chromedriver/mac64/96.0.4664.45/chromedriver] found in cache\n"
     ]
    },
    {
     "name": "stdout",
     "output_type": "stream",
     "text": [
      "llego a los huespedes\n",
      "llego a las características\n",
      "llego a los precios\n",
      "llego a los usos\n"
     ]
    },
    {
     "name": "stderr",
     "output_type": "stream",
     "text": [
      "\n",
      "\n",
      "====== WebDriver manager ======\n",
      "Current google-chrome version is 96.0.4664\n",
      "Get LATEST chromedriver version for 96.0.4664 google-chrome\n"
     ]
    },
    {
     "name": "stdout",
     "output_type": "stream",
     "text": [
      "21\n"
     ]
    },
    {
     "name": "stderr",
     "output_type": "stream",
     "text": [
      "Driver [/Users/franciscovispo/.wdm/drivers/chromedriver/mac64/96.0.4664.45/chromedriver] found in cache\n"
     ]
    },
    {
     "name": "stdout",
     "output_type": "stream",
     "text": [
      "llego a los huespedes\n",
      "llego a las características\n",
      "llego a los precios\n",
      "llego a los usos\n"
     ]
    },
    {
     "name": "stderr",
     "output_type": "stream",
     "text": [
      "\n",
      "\n",
      "====== WebDriver manager ======\n",
      "Current google-chrome version is 96.0.4664\n",
      "Get LATEST chromedriver version for 96.0.4664 google-chrome\n"
     ]
    },
    {
     "name": "stdout",
     "output_type": "stream",
     "text": [
      "22\n"
     ]
    },
    {
     "name": "stderr",
     "output_type": "stream",
     "text": [
      "Driver [/Users/franciscovispo/.wdm/drivers/chromedriver/mac64/96.0.4664.45/chromedriver] found in cache\n"
     ]
    },
    {
     "name": "stdout",
     "output_type": "stream",
     "text": [
      "llego a los huespedes\n",
      "llego a las características\n",
      "llego a los precios\n",
      "llego a los usos\n"
     ]
    },
    {
     "name": "stderr",
     "output_type": "stream",
     "text": [
      "\n",
      "\n",
      "====== WebDriver manager ======\n",
      "Current google-chrome version is 96.0.4664\n",
      "Get LATEST chromedriver version for 96.0.4664 google-chrome\n"
     ]
    },
    {
     "name": "stdout",
     "output_type": "stream",
     "text": [
      "23\n"
     ]
    },
    {
     "name": "stderr",
     "output_type": "stream",
     "text": [
      "Driver [/Users/franciscovispo/.wdm/drivers/chromedriver/mac64/96.0.4664.45/chromedriver] found in cache\n"
     ]
    },
    {
     "name": "stdout",
     "output_type": "stream",
     "text": [
      "llego a los huespedes\n",
      "llego a las características\n",
      "llego a los precios\n",
      "llego a los usos\n"
     ]
    },
    {
     "name": "stderr",
     "output_type": "stream",
     "text": [
      "\n",
      "\n",
      "====== WebDriver manager ======\n"
     ]
    },
    {
     "name": "stdout",
     "output_type": "stream",
     "text": [
      "24\n"
     ]
    },
    {
     "name": "stderr",
     "output_type": "stream",
     "text": [
      "Current google-chrome version is 96.0.4664\n",
      "Get LATEST chromedriver version for 96.0.4664 google-chrome\n",
      "Driver [/Users/franciscovispo/.wdm/drivers/chromedriver/mac64/96.0.4664.45/chromedriver] found in cache\n"
     ]
    },
    {
     "name": "stdout",
     "output_type": "stream",
     "text": [
      "llego a los huespedes\n",
      "llego a las características\n",
      "llego a los precios\n",
      "llego a los usos\n"
     ]
    },
    {
     "name": "stderr",
     "output_type": "stream",
     "text": [
      "\n",
      "\n",
      "====== WebDriver manager ======\n",
      "Current google-chrome version is 96.0.4664\n",
      "Get LATEST chromedriver version for 96.0.4664 google-chrome\n"
     ]
    },
    {
     "name": "stdout",
     "output_type": "stream",
     "text": [
      "25\n"
     ]
    },
    {
     "name": "stderr",
     "output_type": "stream",
     "text": [
      "Driver [/Users/franciscovispo/.wdm/drivers/chromedriver/mac64/96.0.4664.45/chromedriver] found in cache\n"
     ]
    },
    {
     "name": "stdout",
     "output_type": "stream",
     "text": [
      "llego a los huespedes\n",
      "llego a las características\n",
      "llego a los precios\n",
      "llego a los usos\n"
     ]
    },
    {
     "name": "stderr",
     "output_type": "stream",
     "text": [
      "\n",
      "\n",
      "====== WebDriver manager ======\n",
      "Current google-chrome version is 96.0.4664\n",
      "Get LATEST chromedriver version for 96.0.4664 google-chrome\n"
     ]
    },
    {
     "name": "stdout",
     "output_type": "stream",
     "text": [
      "26\n"
     ]
    },
    {
     "name": "stderr",
     "output_type": "stream",
     "text": [
      "Driver [/Users/franciscovispo/.wdm/drivers/chromedriver/mac64/96.0.4664.45/chromedriver] found in cache\n"
     ]
    },
    {
     "name": "stdout",
     "output_type": "stream",
     "text": [
      "llego a los huespedes\n",
      "llego a las características\n",
      "llego a los precios\n",
      "llego a los usos\n"
     ]
    },
    {
     "name": "stderr",
     "output_type": "stream",
     "text": [
      "\n",
      "\n",
      "====== WebDriver manager ======\n"
     ]
    },
    {
     "name": "stdout",
     "output_type": "stream",
     "text": [
      "27\n"
     ]
    },
    {
     "name": "stderr",
     "output_type": "stream",
     "text": [
      "Current google-chrome version is 96.0.4664\n",
      "Get LATEST chromedriver version for 96.0.4664 google-chrome\n",
      "Driver [/Users/franciscovispo/.wdm/drivers/chromedriver/mac64/96.0.4664.45/chromedriver] found in cache\n"
     ]
    },
    {
     "name": "stdout",
     "output_type": "stream",
     "text": [
      "llego a los huespedes\n",
      "llego a las características\n",
      "llego a los precios\n",
      "llego a los usos\n"
     ]
    },
    {
     "name": "stderr",
     "output_type": "stream",
     "text": [
      "\n",
      "\n",
      "====== WebDriver manager ======\n"
     ]
    },
    {
     "name": "stdout",
     "output_type": "stream",
     "text": [
      "28\n"
     ]
    },
    {
     "name": "stderr",
     "output_type": "stream",
     "text": [
      "Current google-chrome version is 96.0.4664\n",
      "Get LATEST chromedriver version for 96.0.4664 google-chrome\n",
      "Driver [/Users/franciscovispo/.wdm/drivers/chromedriver/mac64/96.0.4664.45/chromedriver] found in cache\n"
     ]
    },
    {
     "name": "stdout",
     "output_type": "stream",
     "text": [
      "llego a los huespedes\n",
      "llego a las características\n",
      "llego a los precios\n",
      "llego a los usos\n"
     ]
    },
    {
     "name": "stderr",
     "output_type": "stream",
     "text": [
      "\n",
      "\n",
      "====== WebDriver manager ======\n",
      "Current google-chrome version is 96.0.4664\n",
      "Get LATEST chromedriver version for 96.0.4664 google-chrome\n"
     ]
    },
    {
     "name": "stdout",
     "output_type": "stream",
     "text": [
      "29\n"
     ]
    },
    {
     "name": "stderr",
     "output_type": "stream",
     "text": [
      "Driver [/Users/franciscovispo/.wdm/drivers/chromedriver/mac64/96.0.4664.45/chromedriver] found in cache\n"
     ]
    },
    {
     "name": "stdout",
     "output_type": "stream",
     "text": [
      "llego a los huespedes\n",
      "llego a las características\n",
      "llego a los precios\n",
      "llego a los usos\n"
     ]
    },
    {
     "name": "stderr",
     "output_type": "stream",
     "text": [
      "\n",
      "\n",
      "====== WebDriver manager ======\n",
      "Current google-chrome version is 96.0.4664\n",
      "Get LATEST chromedriver version for 96.0.4664 google-chrome\n"
     ]
    },
    {
     "name": "stdout",
     "output_type": "stream",
     "text": [
      "30\n"
     ]
    },
    {
     "name": "stderr",
     "output_type": "stream",
     "text": [
      "Driver [/Users/franciscovispo/.wdm/drivers/chromedriver/mac64/96.0.4664.45/chromedriver] found in cache\n"
     ]
    },
    {
     "name": "stdout",
     "output_type": "stream",
     "text": [
      "llego a los huespedes\n",
      "llego a las características\n",
      "llego a los precios\n",
      "llego a los usos\n"
     ]
    },
    {
     "name": "stderr",
     "output_type": "stream",
     "text": [
      "\n",
      "\n",
      "====== WebDriver manager ======\n",
      "Current google-chrome version is 96.0.4664\n",
      "Get LATEST chromedriver version for 96.0.4664 google-chrome\n"
     ]
    },
    {
     "name": "stdout",
     "output_type": "stream",
     "text": [
      "31\n"
     ]
    },
    {
     "name": "stderr",
     "output_type": "stream",
     "text": [
      "Driver [/Users/franciscovispo/.wdm/drivers/chromedriver/mac64/96.0.4664.45/chromedriver] found in cache\n"
     ]
    },
    {
     "name": "stdout",
     "output_type": "stream",
     "text": [
      "llego a los huespedes\n",
      "llego a las características\n",
      "llego a los precios\n",
      "llego a los usos\n"
     ]
    },
    {
     "name": "stderr",
     "output_type": "stream",
     "text": [
      "\n",
      "\n",
      "====== WebDriver manager ======\n",
      "Current google-chrome version is 96.0.4664\n",
      "Get LATEST chromedriver version for 96.0.4664 google-chrome\n"
     ]
    },
    {
     "name": "stdout",
     "output_type": "stream",
     "text": [
      "32\n"
     ]
    },
    {
     "name": "stderr",
     "output_type": "stream",
     "text": [
      "Driver [/Users/franciscovispo/.wdm/drivers/chromedriver/mac64/96.0.4664.45/chromedriver] found in cache\n"
     ]
    },
    {
     "name": "stdout",
     "output_type": "stream",
     "text": [
      "llego a los huespedes\n",
      "llego a las características\n",
      "llego a los precios\n",
      "llego a los usos\n"
     ]
    },
    {
     "name": "stderr",
     "output_type": "stream",
     "text": [
      "\n",
      "\n",
      "====== WebDriver manager ======\n",
      "Current google-chrome version is 96.0.4664\n"
     ]
    },
    {
     "name": "stdout",
     "output_type": "stream",
     "text": [
      "33\n"
     ]
    },
    {
     "name": "stderr",
     "output_type": "stream",
     "text": [
      "Get LATEST chromedriver version for 96.0.4664 google-chrome\n",
      "Driver [/Users/franciscovispo/.wdm/drivers/chromedriver/mac64/96.0.4664.45/chromedriver] found in cache\n"
     ]
    },
    {
     "name": "stdout",
     "output_type": "stream",
     "text": [
      "llego a los huespedes\n",
      "llego a las características\n",
      "llego a los precios\n",
      "llego a los usos\n"
     ]
    },
    {
     "name": "stderr",
     "output_type": "stream",
     "text": [
      "\n",
      "\n",
      "====== WebDriver manager ======\n",
      "Current google-chrome version is 96.0.4664\n",
      "Get LATEST chromedriver version for 96.0.4664 google-chrome\n"
     ]
    },
    {
     "name": "stdout",
     "output_type": "stream",
     "text": [
      "34\n"
     ]
    },
    {
     "name": "stderr",
     "output_type": "stream",
     "text": [
      "Driver [/Users/franciscovispo/.wdm/drivers/chromedriver/mac64/96.0.4664.45/chromedriver] found in cache\n"
     ]
    },
    {
     "name": "stdout",
     "output_type": "stream",
     "text": [
      "llego a los huespedes\n",
      "llego a las características\n",
      "llego a los precios\n",
      "llego a los usos\n"
     ]
    },
    {
     "name": "stderr",
     "output_type": "stream",
     "text": [
      "\n",
      "\n",
      "====== WebDriver manager ======\n"
     ]
    },
    {
     "name": "stdout",
     "output_type": "stream",
     "text": [
      "35\n"
     ]
    },
    {
     "name": "stderr",
     "output_type": "stream",
     "text": [
      "Current google-chrome version is 96.0.4664\n",
      "Get LATEST chromedriver version for 96.0.4664 google-chrome\n",
      "Driver [/Users/franciscovispo/.wdm/drivers/chromedriver/mac64/96.0.4664.45/chromedriver] found in cache\n"
     ]
    },
    {
     "name": "stdout",
     "output_type": "stream",
     "text": [
      "llego a los huespedes\n",
      "llego a las características\n",
      "llego a los precios\n",
      "llego a los usos\n"
     ]
    },
    {
     "name": "stderr",
     "output_type": "stream",
     "text": [
      "\n",
      "\n",
      "====== WebDriver manager ======\n",
      "Current google-chrome version is 96.0.4664\n"
     ]
    },
    {
     "name": "stdout",
     "output_type": "stream",
     "text": [
      "36\n"
     ]
    },
    {
     "name": "stderr",
     "output_type": "stream",
     "text": [
      "Get LATEST chromedriver version for 96.0.4664 google-chrome\n",
      "Driver [/Users/franciscovispo/.wdm/drivers/chromedriver/mac64/96.0.4664.45/chromedriver] found in cache\n"
     ]
    },
    {
     "name": "stdout",
     "output_type": "stream",
     "text": [
      "llego a los huespedes\n",
      "llego a las características\n",
      "llego a los precios\n",
      "llego a los usos\n"
     ]
    },
    {
     "name": "stderr",
     "output_type": "stream",
     "text": [
      "\n",
      "\n",
      "====== WebDriver manager ======\n"
     ]
    },
    {
     "name": "stdout",
     "output_type": "stream",
     "text": [
      "37\n"
     ]
    },
    {
     "name": "stderr",
     "output_type": "stream",
     "text": [
      "Current google-chrome version is 96.0.4664\n",
      "Get LATEST chromedriver version for 96.0.4664 google-chrome\n",
      "Driver [/Users/franciscovispo/.wdm/drivers/chromedriver/mac64/96.0.4664.45/chromedriver] found in cache\n"
     ]
    },
    {
     "name": "stdout",
     "output_type": "stream",
     "text": [
      "llego a los huespedes\n",
      "llego a las características\n",
      "llego a los precios\n",
      "llego a los usos\n"
     ]
    },
    {
     "name": "stderr",
     "output_type": "stream",
     "text": [
      "\n",
      "\n",
      "====== WebDriver manager ======\n"
     ]
    },
    {
     "name": "stdout",
     "output_type": "stream",
     "text": [
      "38\n"
     ]
    },
    {
     "name": "stderr",
     "output_type": "stream",
     "text": [
      "Current google-chrome version is 96.0.4664\n",
      "Get LATEST chromedriver version for 96.0.4664 google-chrome\n",
      "Driver [/Users/franciscovispo/.wdm/drivers/chromedriver/mac64/96.0.4664.45/chromedriver] found in cache\n"
     ]
    },
    {
     "name": "stdout",
     "output_type": "stream",
     "text": [
      "llego a los huespedes\n",
      "llego a las características\n",
      "llego a los precios\n",
      "llego a los usos\n"
     ]
    },
    {
     "name": "stderr",
     "output_type": "stream",
     "text": [
      "\n",
      "\n",
      "====== WebDriver manager ======\n",
      "Current google-chrome version is 96.0.4664\n",
      "Get LATEST chromedriver version for 96.0.4664 google-chrome\n"
     ]
    },
    {
     "name": "stdout",
     "output_type": "stream",
     "text": [
      "39\n"
     ]
    },
    {
     "name": "stderr",
     "output_type": "stream",
     "text": [
      "Driver [/Users/franciscovispo/.wdm/drivers/chromedriver/mac64/96.0.4664.45/chromedriver] found in cache\n"
     ]
    },
    {
     "name": "stdout",
     "output_type": "stream",
     "text": [
      "llego a los huespedes\n",
      "llego a las características\n",
      "llego a los precios\n",
      "llego a los usos\n"
     ]
    },
    {
     "name": "stderr",
     "output_type": "stream",
     "text": [
      "\n",
      "\n",
      "====== WebDriver manager ======\n",
      "Current google-chrome version is 96.0.4664\n",
      "Get LATEST chromedriver version for 96.0.4664 google-chrome\n",
      "Driver [/Users/franciscovispo/.wdm/drivers/chromedriver/mac64/96.0.4664.45/chromedriver] found in cache\n"
     ]
    },
    {
     "name": "stdout",
     "output_type": "stream",
     "text": [
      "40\n",
      "llego a los huespedes\n",
      "llego a las características\n",
      "llego a los precios\n",
      "llego a los usos\n"
     ]
    },
    {
     "name": "stderr",
     "output_type": "stream",
     "text": [
      "\n",
      "\n",
      "====== WebDriver manager ======\n",
      "Current google-chrome version is 96.0.4664\n"
     ]
    },
    {
     "name": "stdout",
     "output_type": "stream",
     "text": [
      "41\n"
     ]
    },
    {
     "name": "stderr",
     "output_type": "stream",
     "text": [
      "Get LATEST chromedriver version for 96.0.4664 google-chrome\n",
      "Driver [/Users/franciscovispo/.wdm/drivers/chromedriver/mac64/96.0.4664.45/chromedriver] found in cache\n"
     ]
    },
    {
     "name": "stdout",
     "output_type": "stream",
     "text": [
      "llego a los huespedes\n",
      "llego a las características\n",
      "llego a los precios\n",
      "llego a los usos\n"
     ]
    },
    {
     "name": "stderr",
     "output_type": "stream",
     "text": [
      "\n",
      "\n",
      "====== WebDriver manager ======\n",
      "Current google-chrome version is 96.0.4664\n",
      "Get LATEST chromedriver version for 96.0.4664 google-chrome\n"
     ]
    },
    {
     "name": "stdout",
     "output_type": "stream",
     "text": [
      "42\n"
     ]
    },
    {
     "name": "stderr",
     "output_type": "stream",
     "text": [
      "Driver [/Users/franciscovispo/.wdm/drivers/chromedriver/mac64/96.0.4664.45/chromedriver] found in cache\n"
     ]
    },
    {
     "name": "stdout",
     "output_type": "stream",
     "text": [
      "llego a los huespedes\n",
      "llego a las características\n",
      "llego a los precios\n",
      "llego a los usos\n"
     ]
    },
    {
     "name": "stderr",
     "output_type": "stream",
     "text": [
      "\n",
      "\n",
      "====== WebDriver manager ======\n"
     ]
    },
    {
     "name": "stdout",
     "output_type": "stream",
     "text": [
      "43\n"
     ]
    },
    {
     "name": "stderr",
     "output_type": "stream",
     "text": [
      "Current google-chrome version is 96.0.4664\n",
      "Get LATEST chromedriver version for 96.0.4664 google-chrome\n",
      "Driver [/Users/franciscovispo/.wdm/drivers/chromedriver/mac64/96.0.4664.45/chromedriver] found in cache\n"
     ]
    },
    {
     "name": "stdout",
     "output_type": "stream",
     "text": [
      "llego a los huespedes\n",
      "llego a las características\n",
      "llego a los precios\n",
      "llego a los usos\n"
     ]
    },
    {
     "name": "stderr",
     "output_type": "stream",
     "text": [
      "\n",
      "\n",
      "====== WebDriver manager ======\n"
     ]
    },
    {
     "name": "stdout",
     "output_type": "stream",
     "text": [
      "44\n"
     ]
    },
    {
     "name": "stderr",
     "output_type": "stream",
     "text": [
      "Current google-chrome version is 96.0.4664\n",
      "Get LATEST chromedriver version for 96.0.4664 google-chrome\n",
      "Driver [/Users/franciscovispo/.wdm/drivers/chromedriver/mac64/96.0.4664.45/chromedriver] found in cache\n"
     ]
    },
    {
     "name": "stdout",
     "output_type": "stream",
     "text": [
      "llego a los huespedes\n",
      "llego a las características\n",
      "llego a los precios\n",
      "llego a los usos\n"
     ]
    },
    {
     "name": "stderr",
     "output_type": "stream",
     "text": [
      "\n",
      "\n",
      "====== WebDriver manager ======\n"
     ]
    },
    {
     "name": "stdout",
     "output_type": "stream",
     "text": [
      "45\n"
     ]
    },
    {
     "name": "stderr",
     "output_type": "stream",
     "text": [
      "Current google-chrome version is 96.0.4664\n",
      "Get LATEST chromedriver version for 96.0.4664 google-chrome\n",
      "Driver [/Users/franciscovispo/.wdm/drivers/chromedriver/mac64/96.0.4664.45/chromedriver] found in cache\n"
     ]
    },
    {
     "name": "stdout",
     "output_type": "stream",
     "text": [
      "llego a los huespedes\n",
      "llego a las características\n",
      "llego a los precios\n",
      "llego a los usos\n"
     ]
    },
    {
     "name": "stderr",
     "output_type": "stream",
     "text": [
      "\n",
      "\n",
      "====== WebDriver manager ======\n"
     ]
    },
    {
     "name": "stdout",
     "output_type": "stream",
     "text": [
      "46\n"
     ]
    },
    {
     "name": "stderr",
     "output_type": "stream",
     "text": [
      "Current google-chrome version is 96.0.4664\n",
      "Get LATEST chromedriver version for 96.0.4664 google-chrome\n",
      "Driver [/Users/franciscovispo/.wdm/drivers/chromedriver/mac64/96.0.4664.45/chromedriver] found in cache\n"
     ]
    },
    {
     "name": "stdout",
     "output_type": "stream",
     "text": [
      "llego a los huespedes\n",
      "llego a las características\n",
      "llego a los precios\n",
      "llego a los usos\n"
     ]
    },
    {
     "name": "stderr",
     "output_type": "stream",
     "text": [
      "\n",
      "\n",
      "====== WebDriver manager ======\n",
      "Current google-chrome version is 96.0.4664\n",
      "Get LATEST chromedriver version for 96.0.4664 google-chrome\n"
     ]
    },
    {
     "name": "stdout",
     "output_type": "stream",
     "text": [
      "47\n"
     ]
    },
    {
     "name": "stderr",
     "output_type": "stream",
     "text": [
      "Driver [/Users/franciscovispo/.wdm/drivers/chromedriver/mac64/96.0.4664.45/chromedriver] found in cache\n"
     ]
    },
    {
     "name": "stdout",
     "output_type": "stream",
     "text": [
      "llego a los huespedes\n",
      "llego a las características\n",
      "llego a los precios\n",
      "llego a los usos\n"
     ]
    },
    {
     "name": "stderr",
     "output_type": "stream",
     "text": [
      "\n",
      "\n",
      "====== WebDriver manager ======\n"
     ]
    },
    {
     "name": "stdout",
     "output_type": "stream",
     "text": [
      "48\n"
     ]
    },
    {
     "name": "stderr",
     "output_type": "stream",
     "text": [
      "Current google-chrome version is 96.0.4664\n",
      "Get LATEST chromedriver version for 96.0.4664 google-chrome\n",
      "Driver [/Users/franciscovispo/.wdm/drivers/chromedriver/mac64/96.0.4664.45/chromedriver] found in cache\n"
     ]
    },
    {
     "name": "stdout",
     "output_type": "stream",
     "text": [
      "llego a los huespedes\n",
      "llego a las características\n",
      "llego a los precios\n",
      "llego a los usos\n"
     ]
    },
    {
     "name": "stderr",
     "output_type": "stream",
     "text": [
      "\n",
      "\n",
      "====== WebDriver manager ======\n"
     ]
    },
    {
     "name": "stdout",
     "output_type": "stream",
     "text": [
      "49\n"
     ]
    },
    {
     "name": "stderr",
     "output_type": "stream",
     "text": [
      "Current google-chrome version is 96.0.4664\n",
      "Get LATEST chromedriver version for 96.0.4664 google-chrome\n",
      "Driver [/Users/franciscovispo/.wdm/drivers/chromedriver/mac64/96.0.4664.45/chromedriver] found in cache\n"
     ]
    },
    {
     "name": "stdout",
     "output_type": "stream",
     "text": [
      "llego a los huespedes\n",
      "llego a las características\n",
      "llego a los precios\n",
      "llego a los usos\n"
     ]
    },
    {
     "name": "stderr",
     "output_type": "stream",
     "text": [
      "\n",
      "\n",
      "====== WebDriver manager ======\n",
      "Current google-chrome version is 96.0.4664\n",
      "Get LATEST chromedriver version for 96.0.4664 google-chrome\n"
     ]
    },
    {
     "name": "stdout",
     "output_type": "stream",
     "text": [
      "50\n"
     ]
    },
    {
     "name": "stderr",
     "output_type": "stream",
     "text": [
      "Driver [/Users/franciscovispo/.wdm/drivers/chromedriver/mac64/96.0.4664.45/chromedriver] found in cache\n"
     ]
    },
    {
     "name": "stdout",
     "output_type": "stream",
     "text": [
      "llego a los huespedes\n",
      "llego a las características\n",
      "llego a los precios\n",
      "llego a los usos\n"
     ]
    },
    {
     "name": "stderr",
     "output_type": "stream",
     "text": [
      "\n",
      "\n",
      "====== WebDriver manager ======\n",
      "Current google-chrome version is 96.0.4664\n"
     ]
    },
    {
     "name": "stdout",
     "output_type": "stream",
     "text": [
      "51\n"
     ]
    },
    {
     "name": "stderr",
     "output_type": "stream",
     "text": [
      "Get LATEST chromedriver version for 96.0.4664 google-chrome\n",
      "Driver [/Users/franciscovispo/.wdm/drivers/chromedriver/mac64/96.0.4664.45/chromedriver] found in cache\n"
     ]
    },
    {
     "name": "stdout",
     "output_type": "stream",
     "text": [
      "llego a los huespedes\n",
      "llego a las características\n",
      "llego a los precios\n",
      "llego a los usos\n"
     ]
    },
    {
     "name": "stderr",
     "output_type": "stream",
     "text": [
      "\n",
      "\n",
      "====== WebDriver manager ======\n"
     ]
    },
    {
     "name": "stdout",
     "output_type": "stream",
     "text": [
      "52\n"
     ]
    },
    {
     "name": "stderr",
     "output_type": "stream",
     "text": [
      "Current google-chrome version is 96.0.4664\n",
      "Get LATEST chromedriver version for 96.0.4664 google-chrome\n",
      "Driver [/Users/franciscovispo/.wdm/drivers/chromedriver/mac64/96.0.4664.45/chromedriver] found in cache\n"
     ]
    },
    {
     "name": "stdout",
     "output_type": "stream",
     "text": [
      "llego a los huespedes\n",
      "llego a las características\n",
      "llego a los precios\n",
      "llego a los usos\n"
     ]
    },
    {
     "name": "stderr",
     "output_type": "stream",
     "text": [
      "\n",
      "\n",
      "====== WebDriver manager ======\n"
     ]
    },
    {
     "name": "stdout",
     "output_type": "stream",
     "text": [
      "53\n"
     ]
    },
    {
     "name": "stderr",
     "output_type": "stream",
     "text": [
      "Current google-chrome version is 96.0.4664\n",
      "Get LATEST chromedriver version for 96.0.4664 google-chrome\n",
      "Driver [/Users/franciscovispo/.wdm/drivers/chromedriver/mac64/96.0.4664.45/chromedriver] found in cache\n"
     ]
    },
    {
     "name": "stdout",
     "output_type": "stream",
     "text": [
      "llego a los huespedes\n",
      "llego a las características\n",
      "llego a los precios\n",
      "llego a los usos\n"
     ]
    },
    {
     "name": "stderr",
     "output_type": "stream",
     "text": [
      "\n",
      "\n",
      "====== WebDriver manager ======\n",
      "Current google-chrome version is 96.0.4664\n",
      "Get LATEST chromedriver version for 96.0.4664 google-chrome\n"
     ]
    },
    {
     "name": "stdout",
     "output_type": "stream",
     "text": [
      "54\n"
     ]
    },
    {
     "name": "stderr",
     "output_type": "stream",
     "text": [
      "Driver [/Users/franciscovispo/.wdm/drivers/chromedriver/mac64/96.0.4664.45/chromedriver] found in cache\n"
     ]
    },
    {
     "name": "stdout",
     "output_type": "stream",
     "text": [
      "llego a los huespedes\n",
      "llego a las características\n",
      "llego a los precios\n",
      "llego a los usos\n"
     ]
    },
    {
     "name": "stderr",
     "output_type": "stream",
     "text": [
      "\n",
      "\n",
      "====== WebDriver manager ======\n",
      "Current google-chrome version is 96.0.4664\n",
      "Get LATEST chromedriver version for 96.0.4664 google-chrome\n"
     ]
    },
    {
     "name": "stdout",
     "output_type": "stream",
     "text": [
      "55\n"
     ]
    },
    {
     "name": "stderr",
     "output_type": "stream",
     "text": [
      "Driver [/Users/franciscovispo/.wdm/drivers/chromedriver/mac64/96.0.4664.45/chromedriver] found in cache\n"
     ]
    },
    {
     "name": "stdout",
     "output_type": "stream",
     "text": [
      "llego a los huespedes\n",
      "llego a las características\n",
      "llego a los precios\n",
      "llego a los usos\n"
     ]
    },
    {
     "name": "stderr",
     "output_type": "stream",
     "text": [
      "\n",
      "\n",
      "====== WebDriver manager ======\n",
      "Current google-chrome version is 96.0.4664\n",
      "Get LATEST chromedriver version for 96.0.4664 google-chrome\n"
     ]
    },
    {
     "name": "stdout",
     "output_type": "stream",
     "text": [
      "56\n"
     ]
    },
    {
     "name": "stderr",
     "output_type": "stream",
     "text": [
      "Driver [/Users/franciscovispo/.wdm/drivers/chromedriver/mac64/96.0.4664.45/chromedriver] found in cache\n"
     ]
    },
    {
     "name": "stdout",
     "output_type": "stream",
     "text": [
      "llego a los huespedes\n",
      "llego a las características\n",
      "llego a los precios\n",
      "llego a los usos\n"
     ]
    },
    {
     "name": "stderr",
     "output_type": "stream",
     "text": [
      "\n",
      "\n",
      "====== WebDriver manager ======\n",
      "Current google-chrome version is 96.0.4664\n",
      "Get LATEST chromedriver version for 96.0.4664 google-chrome\n"
     ]
    },
    {
     "name": "stdout",
     "output_type": "stream",
     "text": [
      "57\n"
     ]
    },
    {
     "name": "stderr",
     "output_type": "stream",
     "text": [
      "Driver [/Users/franciscovispo/.wdm/drivers/chromedriver/mac64/96.0.4664.45/chromedriver] found in cache\n"
     ]
    },
    {
     "name": "stdout",
     "output_type": "stream",
     "text": [
      "llego a los huespedes\n",
      "llego a las características\n",
      "llego a los precios\n",
      "llego a los usos\n"
     ]
    },
    {
     "name": "stderr",
     "output_type": "stream",
     "text": [
      "\n",
      "\n",
      "====== WebDriver manager ======\n"
     ]
    },
    {
     "name": "stdout",
     "output_type": "stream",
     "text": [
      "58\n"
     ]
    },
    {
     "name": "stderr",
     "output_type": "stream",
     "text": [
      "Current google-chrome version is 96.0.4664\n",
      "Get LATEST chromedriver version for 96.0.4664 google-chrome\n",
      "Driver [/Users/franciscovispo/.wdm/drivers/chromedriver/mac64/96.0.4664.45/chromedriver] found in cache\n"
     ]
    },
    {
     "name": "stdout",
     "output_type": "stream",
     "text": [
      "llego a los huespedes\n",
      "llego a las características\n",
      "llego a los precios\n",
      "llego a los usos\n"
     ]
    },
    {
     "name": "stderr",
     "output_type": "stream",
     "text": [
      "\n",
      "\n",
      "====== WebDriver manager ======\n"
     ]
    },
    {
     "name": "stdout",
     "output_type": "stream",
     "text": [
      "59\n"
     ]
    },
    {
     "name": "stderr",
     "output_type": "stream",
     "text": [
      "Current google-chrome version is 96.0.4664\n",
      "Get LATEST chromedriver version for 96.0.4664 google-chrome\n",
      "Driver [/Users/franciscovispo/.wdm/drivers/chromedriver/mac64/96.0.4664.45/chromedriver] found in cache\n"
     ]
    },
    {
     "name": "stdout",
     "output_type": "stream",
     "text": [
      "llego a los huespedes\n",
      "llego a las características\n",
      "llego a los precios\n",
      "llego a los usos\n"
     ]
    },
    {
     "name": "stderr",
     "output_type": "stream",
     "text": [
      "\n",
      "\n",
      "====== WebDriver manager ======\n",
      "Current google-chrome version is 96.0.4664\n",
      "Get LATEST chromedriver version for 96.0.4664 google-chrome\n"
     ]
    },
    {
     "name": "stdout",
     "output_type": "stream",
     "text": [
      "60\n"
     ]
    },
    {
     "name": "stderr",
     "output_type": "stream",
     "text": [
      "Driver [/Users/franciscovispo/.wdm/drivers/chromedriver/mac64/96.0.4664.45/chromedriver] found in cache\n"
     ]
    },
    {
     "name": "stdout",
     "output_type": "stream",
     "text": [
      "llego a los huespedes\n",
      "llego a las características\n",
      "llego a los precios\n",
      "llego a los usos\n"
     ]
    },
    {
     "name": "stderr",
     "output_type": "stream",
     "text": [
      "\n",
      "\n",
      "====== WebDriver manager ======\n",
      "Current google-chrome version is 96.0.4664\n",
      "Get LATEST chromedriver version for 96.0.4664 google-chrome\n"
     ]
    },
    {
     "name": "stdout",
     "output_type": "stream",
     "text": [
      "61\n"
     ]
    },
    {
     "name": "stderr",
     "output_type": "stream",
     "text": [
      "Driver [/Users/franciscovispo/.wdm/drivers/chromedriver/mac64/96.0.4664.45/chromedriver] found in cache\n"
     ]
    },
    {
     "name": "stdout",
     "output_type": "stream",
     "text": [
      "llego a los huespedes\n",
      "llego a las características\n",
      "llego a los precios\n",
      "llego a los usos\n"
     ]
    },
    {
     "name": "stderr",
     "output_type": "stream",
     "text": [
      "\n",
      "\n",
      "====== WebDriver manager ======\n"
     ]
    },
    {
     "name": "stdout",
     "output_type": "stream",
     "text": [
      "62\n"
     ]
    },
    {
     "name": "stderr",
     "output_type": "stream",
     "text": [
      "Current google-chrome version is 96.0.4664\n",
      "Get LATEST chromedriver version for 96.0.4664 google-chrome\n",
      "Driver [/Users/franciscovispo/.wdm/drivers/chromedriver/mac64/96.0.4664.45/chromedriver] found in cache\n"
     ]
    },
    {
     "name": "stdout",
     "output_type": "stream",
     "text": [
      "llego a los huespedes\n",
      "llego a las características\n",
      "llego a los precios\n",
      "llego a los usos\n"
     ]
    },
    {
     "name": "stderr",
     "output_type": "stream",
     "text": [
      "\n",
      "\n",
      "====== WebDriver manager ======\n"
     ]
    },
    {
     "name": "stdout",
     "output_type": "stream",
     "text": [
      "63\n"
     ]
    },
    {
     "name": "stderr",
     "output_type": "stream",
     "text": [
      "Current google-chrome version is 96.0.4664\n",
      "Get LATEST chromedriver version for 96.0.4664 google-chrome\n",
      "Driver [/Users/franciscovispo/.wdm/drivers/chromedriver/mac64/96.0.4664.45/chromedriver] found in cache\n"
     ]
    },
    {
     "name": "stdout",
     "output_type": "stream",
     "text": [
      "llego a los huespedes\n",
      "llego a las características\n",
      "llego a los precios\n",
      "llego a los usos\n"
     ]
    },
    {
     "name": "stderr",
     "output_type": "stream",
     "text": [
      "\n",
      "\n",
      "====== WebDriver manager ======\n",
      "Current google-chrome version is 96.0.4664\n",
      "Get LATEST chromedriver version for 96.0.4664 google-chrome\n"
     ]
    },
    {
     "name": "stdout",
     "output_type": "stream",
     "text": [
      "64\n"
     ]
    },
    {
     "name": "stderr",
     "output_type": "stream",
     "text": [
      "Driver [/Users/franciscovispo/.wdm/drivers/chromedriver/mac64/96.0.4664.45/chromedriver] found in cache\n"
     ]
    },
    {
     "name": "stdout",
     "output_type": "stream",
     "text": [
      "llego a los huespedes\n",
      "llego a las características\n",
      "llego a los precios\n",
      "llego a los usos\n"
     ]
    },
    {
     "name": "stderr",
     "output_type": "stream",
     "text": [
      "\n",
      "\n",
      "====== WebDriver manager ======\n"
     ]
    },
    {
     "name": "stdout",
     "output_type": "stream",
     "text": [
      "65\n"
     ]
    },
    {
     "name": "stderr",
     "output_type": "stream",
     "text": [
      "Current google-chrome version is 96.0.4664\n",
      "Get LATEST chromedriver version for 96.0.4664 google-chrome\n",
      "Driver [/Users/franciscovispo/.wdm/drivers/chromedriver/mac64/96.0.4664.45/chromedriver] found in cache\n"
     ]
    },
    {
     "name": "stdout",
     "output_type": "stream",
     "text": [
      "llego a los huespedes\n",
      "llego a las características\n",
      "llego a los precios\n",
      "llego a los usos\n"
     ]
    },
    {
     "name": "stderr",
     "output_type": "stream",
     "text": [
      "\n",
      "\n",
      "====== WebDriver manager ======\n"
     ]
    },
    {
     "name": "stdout",
     "output_type": "stream",
     "text": [
      "66\n"
     ]
    },
    {
     "name": "stderr",
     "output_type": "stream",
     "text": [
      "Current google-chrome version is 96.0.4664\n",
      "Get LATEST chromedriver version for 96.0.4664 google-chrome\n",
      "Driver [/Users/franciscovispo/.wdm/drivers/chromedriver/mac64/96.0.4664.45/chromedriver] found in cache\n"
     ]
    },
    {
     "name": "stdout",
     "output_type": "stream",
     "text": [
      "llego a los huespedes\n",
      "llego a las características\n",
      "llego a los precios\n",
      "llego a los usos\n"
     ]
    },
    {
     "name": "stderr",
     "output_type": "stream",
     "text": [
      "\n",
      "\n",
      "====== WebDriver manager ======\n"
     ]
    },
    {
     "name": "stdout",
     "output_type": "stream",
     "text": [
      "67\n"
     ]
    },
    {
     "name": "stderr",
     "output_type": "stream",
     "text": [
      "Current google-chrome version is 96.0.4664\n",
      "Get LATEST chromedriver version for 96.0.4664 google-chrome\n",
      "Driver [/Users/franciscovispo/.wdm/drivers/chromedriver/mac64/96.0.4664.45/chromedriver] found in cache\n"
     ]
    },
    {
     "name": "stdout",
     "output_type": "stream",
     "text": [
      "llego a los huespedes\n",
      "llego a las características\n",
      "llego a los precios\n",
      "llego a los usos\n"
     ]
    },
    {
     "name": "stderr",
     "output_type": "stream",
     "text": [
      "\n",
      "\n",
      "====== WebDriver manager ======\n",
      "Current google-chrome version is 96.0.4664\n",
      "Get LATEST chromedriver version for 96.0.4664 google-chrome\n"
     ]
    },
    {
     "name": "stdout",
     "output_type": "stream",
     "text": [
      "68\n"
     ]
    },
    {
     "name": "stderr",
     "output_type": "stream",
     "text": [
      "Driver [/Users/franciscovispo/.wdm/drivers/chromedriver/mac64/96.0.4664.45/chromedriver] found in cache\n"
     ]
    },
    {
     "name": "stdout",
     "output_type": "stream",
     "text": [
      "llego a los huespedes\n",
      "llego a las características\n",
      "llego a los precios\n",
      "llego a los usos\n"
     ]
    },
    {
     "name": "stderr",
     "output_type": "stream",
     "text": [
      "\n",
      "\n",
      "====== WebDriver manager ======\n"
     ]
    },
    {
     "name": "stdout",
     "output_type": "stream",
     "text": [
      "69\n"
     ]
    },
    {
     "name": "stderr",
     "output_type": "stream",
     "text": [
      "Current google-chrome version is 96.0.4664\n",
      "Get LATEST chromedriver version for 96.0.4664 google-chrome\n",
      "Driver [/Users/franciscovispo/.wdm/drivers/chromedriver/mac64/96.0.4664.45/chromedriver] found in cache\n"
     ]
    },
    {
     "name": "stdout",
     "output_type": "stream",
     "text": [
      "llego a los huespedes\n",
      "llego a las características\n",
      "llego a los precios\n",
      "llego a los usos\n"
     ]
    },
    {
     "name": "stderr",
     "output_type": "stream",
     "text": [
      "\n",
      "\n",
      "====== WebDriver manager ======\n"
     ]
    },
    {
     "name": "stdout",
     "output_type": "stream",
     "text": [
      "70\n"
     ]
    },
    {
     "name": "stderr",
     "output_type": "stream",
     "text": [
      "Current google-chrome version is 96.0.4664\n",
      "Get LATEST chromedriver version for 96.0.4664 google-chrome\n",
      "Driver [/Users/franciscovispo/.wdm/drivers/chromedriver/mac64/96.0.4664.45/chromedriver] found in cache\n"
     ]
    },
    {
     "name": "stdout",
     "output_type": "stream",
     "text": [
      "llego a los huespedes\n",
      "llego a las características\n",
      "llego a los precios\n",
      "llego a los usos\n"
     ]
    },
    {
     "name": "stderr",
     "output_type": "stream",
     "text": [
      "\n",
      "\n",
      "====== WebDriver manager ======\n"
     ]
    },
    {
     "name": "stdout",
     "output_type": "stream",
     "text": [
      "71\n"
     ]
    },
    {
     "name": "stderr",
     "output_type": "stream",
     "text": [
      "Current google-chrome version is 96.0.4664\n",
      "Get LATEST chromedriver version for 96.0.4664 google-chrome\n",
      "Driver [/Users/franciscovispo/.wdm/drivers/chromedriver/mac64/96.0.4664.45/chromedriver] found in cache\n"
     ]
    },
    {
     "name": "stdout",
     "output_type": "stream",
     "text": [
      "llego a los huespedes\n",
      "llego a las características\n",
      "llego a los precios\n",
      "llego a los usos\n"
     ]
    },
    {
     "name": "stderr",
     "output_type": "stream",
     "text": [
      "\n",
      "\n",
      "====== WebDriver manager ======\n",
      "Current google-chrome version is 96.0.4664\n",
      "Get LATEST chromedriver version for 96.0.4664 google-chrome\n"
     ]
    },
    {
     "name": "stdout",
     "output_type": "stream",
     "text": [
      "72\n"
     ]
    },
    {
     "name": "stderr",
     "output_type": "stream",
     "text": [
      "Driver [/Users/franciscovispo/.wdm/drivers/chromedriver/mac64/96.0.4664.45/chromedriver] found in cache\n"
     ]
    },
    {
     "name": "stdout",
     "output_type": "stream",
     "text": [
      "llego a los huespedes\n",
      "llego a las características\n",
      "llego a los precios\n",
      "llego a los usos\n"
     ]
    },
    {
     "name": "stderr",
     "output_type": "stream",
     "text": [
      "\n",
      "\n",
      "====== WebDriver manager ======\n",
      "Current google-chrome version is 96.0.4664\n",
      "Get LATEST chromedriver version for 96.0.4664 google-chrome\n"
     ]
    },
    {
     "name": "stdout",
     "output_type": "stream",
     "text": [
      "73\n"
     ]
    },
    {
     "name": "stderr",
     "output_type": "stream",
     "text": [
      "Driver [/Users/franciscovispo/.wdm/drivers/chromedriver/mac64/96.0.4664.45/chromedriver] found in cache\n"
     ]
    },
    {
     "name": "stdout",
     "output_type": "stream",
     "text": [
      "llego a los huespedes\n",
      "llego a las características\n",
      "llego a los precios\n",
      "llego a los usos\n"
     ]
    },
    {
     "name": "stderr",
     "output_type": "stream",
     "text": [
      "\n",
      "\n",
      "====== WebDriver manager ======\n"
     ]
    },
    {
     "name": "stdout",
     "output_type": "stream",
     "text": [
      "74\n"
     ]
    },
    {
     "name": "stderr",
     "output_type": "stream",
     "text": [
      "Current google-chrome version is 96.0.4664\n",
      "Get LATEST chromedriver version for 96.0.4664 google-chrome\n",
      "Driver [/Users/franciscovispo/.wdm/drivers/chromedriver/mac64/96.0.4664.45/chromedriver] found in cache\n"
     ]
    },
    {
     "name": "stdout",
     "output_type": "stream",
     "text": [
      "llego a los huespedes\n",
      "llego a las características\n",
      "llego a los precios\n",
      "llego a los usos\n"
     ]
    },
    {
     "name": "stderr",
     "output_type": "stream",
     "text": [
      "\n",
      "\n",
      "====== WebDriver manager ======\n"
     ]
    },
    {
     "name": "stdout",
     "output_type": "stream",
     "text": [
      "75\n"
     ]
    },
    {
     "name": "stderr",
     "output_type": "stream",
     "text": [
      "Current google-chrome version is 96.0.4664\n",
      "Get LATEST chromedriver version for 96.0.4664 google-chrome\n",
      "Driver [/Users/franciscovispo/.wdm/drivers/chromedriver/mac64/96.0.4664.45/chromedriver] found in cache\n"
     ]
    },
    {
     "name": "stdout",
     "output_type": "stream",
     "text": [
      "llego a los huespedes\n",
      "llego a las características\n",
      "llego a los precios\n",
      "llego a los usos\n"
     ]
    },
    {
     "name": "stderr",
     "output_type": "stream",
     "text": [
      "\n",
      "\n",
      "====== WebDriver manager ======\n"
     ]
    },
    {
     "name": "stdout",
     "output_type": "stream",
     "text": [
      "76\n"
     ]
    },
    {
     "name": "stderr",
     "output_type": "stream",
     "text": [
      "Current google-chrome version is 96.0.4664\n",
      "Get LATEST chromedriver version for 96.0.4664 google-chrome\n",
      "Driver [/Users/franciscovispo/.wdm/drivers/chromedriver/mac64/96.0.4664.45/chromedriver] found in cache\n"
     ]
    },
    {
     "name": "stdout",
     "output_type": "stream",
     "text": [
      "llego a los huespedes\n",
      "llego a las características\n",
      "llego a los precios\n",
      "llego a los usos\n"
     ]
    },
    {
     "name": "stderr",
     "output_type": "stream",
     "text": [
      "\n",
      "\n",
      "====== WebDriver manager ======\n",
      "Current google-chrome version is 96.0.4664\n",
      "Get LATEST chromedriver version for 96.0.4664 google-chrome\n"
     ]
    },
    {
     "name": "stdout",
     "output_type": "stream",
     "text": [
      "77\n"
     ]
    },
    {
     "name": "stderr",
     "output_type": "stream",
     "text": [
      "Driver [/Users/franciscovispo/.wdm/drivers/chromedriver/mac64/96.0.4664.45/chromedriver] found in cache\n"
     ]
    },
    {
     "name": "stdout",
     "output_type": "stream",
     "text": [
      "llego a los huespedes\n",
      "llego a las características\n",
      "llego a los precios\n",
      "llego a los usos\n"
     ]
    },
    {
     "name": "stderr",
     "output_type": "stream",
     "text": [
      "\n",
      "\n",
      "====== WebDriver manager ======\n",
      "Current google-chrome version is 96.0.4664\n",
      "Get LATEST chromedriver version for 96.0.4664 google-chrome\n",
      "Driver [/Users/franciscovispo/.wdm/drivers/chromedriver/mac64/96.0.4664.45/chromedriver] found in cache\n"
     ]
    },
    {
     "name": "stdout",
     "output_type": "stream",
     "text": [
      "78\n",
      "llego a los huespedes\n",
      "llego a las características\n",
      "llego a los precios\n",
      "llego a los usos\n"
     ]
    },
    {
     "name": "stderr",
     "output_type": "stream",
     "text": [
      "\n",
      "\n",
      "====== WebDriver manager ======\n"
     ]
    },
    {
     "name": "stdout",
     "output_type": "stream",
     "text": [
      "79\n"
     ]
    },
    {
     "name": "stderr",
     "output_type": "stream",
     "text": [
      "Current google-chrome version is 96.0.4664\n",
      "Get LATEST chromedriver version for 96.0.4664 google-chrome\n",
      "Driver [/Users/franciscovispo/.wdm/drivers/chromedriver/mac64/96.0.4664.45/chromedriver] found in cache\n"
     ]
    },
    {
     "name": "stdout",
     "output_type": "stream",
     "text": [
      "llego a los huespedes\n",
      "llego a las características\n",
      "llego a los precios\n",
      "llego a los usos\n"
     ]
    },
    {
     "name": "stderr",
     "output_type": "stream",
     "text": [
      "\n",
      "\n",
      "====== WebDriver manager ======\n",
      "Current google-chrome version is 96.0.4664\n",
      "Get LATEST chromedriver version for 96.0.4664 google-chrome\n"
     ]
    },
    {
     "name": "stdout",
     "output_type": "stream",
     "text": [
      "80\n"
     ]
    },
    {
     "name": "stderr",
     "output_type": "stream",
     "text": [
      "Driver [/Users/franciscovispo/.wdm/drivers/chromedriver/mac64/96.0.4664.45/chromedriver] found in cache\n"
     ]
    },
    {
     "name": "stdout",
     "output_type": "stream",
     "text": [
      "llego a los huespedes\n",
      "llego a las características\n",
      "llego a los precios\n",
      "llego a los usos\n"
     ]
    },
    {
     "name": "stderr",
     "output_type": "stream",
     "text": [
      "\n",
      "\n",
      "====== WebDriver manager ======\n"
     ]
    },
    {
     "name": "stdout",
     "output_type": "stream",
     "text": [
      "81\n"
     ]
    },
    {
     "name": "stderr",
     "output_type": "stream",
     "text": [
      "Current google-chrome version is 96.0.4664\n",
      "Get LATEST chromedriver version for 96.0.4664 google-chrome\n",
      "Driver [/Users/franciscovispo/.wdm/drivers/chromedriver/mac64/96.0.4664.45/chromedriver] found in cache\n"
     ]
    },
    {
     "name": "stdout",
     "output_type": "stream",
     "text": [
      "llego a los huespedes\n",
      "llego a las características\n",
      "llego a los precios\n",
      "llego a los usos\n"
     ]
    },
    {
     "name": "stderr",
     "output_type": "stream",
     "text": [
      "\n",
      "\n",
      "====== WebDriver manager ======\n",
      "Current google-chrome version is 96.0.4664\n",
      "Get LATEST chromedriver version for 96.0.4664 google-chrome\n"
     ]
    },
    {
     "name": "stdout",
     "output_type": "stream",
     "text": [
      "82\n"
     ]
    },
    {
     "name": "stderr",
     "output_type": "stream",
     "text": [
      "Driver [/Users/franciscovispo/.wdm/drivers/chromedriver/mac64/96.0.4664.45/chromedriver] found in cache\n"
     ]
    },
    {
     "name": "stdout",
     "output_type": "stream",
     "text": [
      "llego a los huespedes\n",
      "llego a las características\n",
      "llego a los precios\n",
      "llego a los usos\n"
     ]
    },
    {
     "name": "stderr",
     "output_type": "stream",
     "text": [
      "\n",
      "\n",
      "====== WebDriver manager ======\n",
      "Current google-chrome version is 96.0.4664\n",
      "Get LATEST chromedriver version for 96.0.4664 google-chrome\n"
     ]
    },
    {
     "name": "stdout",
     "output_type": "stream",
     "text": [
      "83\n"
     ]
    },
    {
     "name": "stderr",
     "output_type": "stream",
     "text": [
      "Driver [/Users/franciscovispo/.wdm/drivers/chromedriver/mac64/96.0.4664.45/chromedriver] found in cache\n"
     ]
    },
    {
     "name": "stdout",
     "output_type": "stream",
     "text": [
      "llego a los huespedes\n",
      "llego a las características\n",
      "llego a los precios\n",
      "llego a los usos\n"
     ]
    },
    {
     "name": "stderr",
     "output_type": "stream",
     "text": [
      "\n",
      "\n",
      "====== WebDriver manager ======\n",
      "Current google-chrome version is 96.0.4664\n",
      "Get LATEST chromedriver version for 96.0.4664 google-chrome\n"
     ]
    },
    {
     "name": "stdout",
     "output_type": "stream",
     "text": [
      "84\n"
     ]
    },
    {
     "name": "stderr",
     "output_type": "stream",
     "text": [
      "Driver [/Users/franciscovispo/.wdm/drivers/chromedriver/mac64/96.0.4664.45/chromedriver] found in cache\n"
     ]
    },
    {
     "name": "stdout",
     "output_type": "stream",
     "text": [
      "llego a los huespedes\n",
      "llego a las características\n",
      "llego a los precios\n",
      "llego a los usos\n"
     ]
    },
    {
     "name": "stderr",
     "output_type": "stream",
     "text": [
      "\n",
      "\n",
      "====== WebDriver manager ======\n",
      "Current google-chrome version is 96.0.4664\n",
      "Get LATEST chromedriver version for 96.0.4664 google-chrome\n"
     ]
    },
    {
     "name": "stdout",
     "output_type": "stream",
     "text": [
      "85\n"
     ]
    },
    {
     "name": "stderr",
     "output_type": "stream",
     "text": [
      "Driver [/Users/franciscovispo/.wdm/drivers/chromedriver/mac64/96.0.4664.45/chromedriver] found in cache\n"
     ]
    },
    {
     "name": "stdout",
     "output_type": "stream",
     "text": [
      "llego a los huespedes\n",
      "llego a las características\n",
      "llego a los precios\n",
      "llego a los usos\n"
     ]
    },
    {
     "name": "stderr",
     "output_type": "stream",
     "text": [
      "\n",
      "\n",
      "====== WebDriver manager ======\n"
     ]
    },
    {
     "name": "stdout",
     "output_type": "stream",
     "text": [
      "86\n"
     ]
    },
    {
     "name": "stderr",
     "output_type": "stream",
     "text": [
      "Current google-chrome version is 96.0.4664\n",
      "Get LATEST chromedriver version for 96.0.4664 google-chrome\n",
      "Driver [/Users/franciscovispo/.wdm/drivers/chromedriver/mac64/96.0.4664.45/chromedriver] found in cache\n"
     ]
    },
    {
     "name": "stdout",
     "output_type": "stream",
     "text": [
      "llego a los huespedes\n",
      "llego a las características\n",
      "llego a los precios\n",
      "llego a los usos\n"
     ]
    },
    {
     "name": "stderr",
     "output_type": "stream",
     "text": [
      "\n",
      "\n",
      "====== WebDriver manager ======\n",
      "Current google-chrome version is 96.0.4664\n",
      "Get LATEST chromedriver version for 96.0.4664 google-chrome\n"
     ]
    },
    {
     "name": "stdout",
     "output_type": "stream",
     "text": [
      "87\n"
     ]
    },
    {
     "name": "stderr",
     "output_type": "stream",
     "text": [
      "Driver [/Users/franciscovispo/.wdm/drivers/chromedriver/mac64/96.0.4664.45/chromedriver] found in cache\n"
     ]
    },
    {
     "name": "stdout",
     "output_type": "stream",
     "text": [
      "llego a los huespedes\n",
      "llego a las características\n",
      "llego a los precios\n",
      "llego a los usos\n"
     ]
    },
    {
     "name": "stderr",
     "output_type": "stream",
     "text": [
      "\n",
      "\n",
      "====== WebDriver manager ======\n",
      "Current google-chrome version is 96.0.4664\n",
      "Get LATEST chromedriver version for 96.0.4664 google-chrome\n"
     ]
    },
    {
     "name": "stdout",
     "output_type": "stream",
     "text": [
      "88\n"
     ]
    },
    {
     "name": "stderr",
     "output_type": "stream",
     "text": [
      "Driver [/Users/franciscovispo/.wdm/drivers/chromedriver/mac64/96.0.4664.45/chromedriver] found in cache\n"
     ]
    },
    {
     "name": "stdout",
     "output_type": "stream",
     "text": [
      "llego a los huespedes\n",
      "llego a las características\n",
      "llego a los precios\n",
      "llego a los usos\n"
     ]
    },
    {
     "name": "stderr",
     "output_type": "stream",
     "text": [
      "\n",
      "\n",
      "====== WebDriver manager ======\n",
      "Current google-chrome version is 96.0.4664\n",
      "Get LATEST chromedriver version for 96.0.4664 google-chrome\n"
     ]
    },
    {
     "name": "stdout",
     "output_type": "stream",
     "text": [
      "89\n"
     ]
    },
    {
     "name": "stderr",
     "output_type": "stream",
     "text": [
      "Driver [/Users/franciscovispo/.wdm/drivers/chromedriver/mac64/96.0.4664.45/chromedriver] found in cache\n"
     ]
    },
    {
     "name": "stdout",
     "output_type": "stream",
     "text": [
      "llego a los huespedes\n",
      "llego a las características\n",
      "llego a los precios\n",
      "llego a los usos\n"
     ]
    },
    {
     "name": "stderr",
     "output_type": "stream",
     "text": [
      "\n",
      "\n",
      "====== WebDriver manager ======\n"
     ]
    },
    {
     "name": "stdout",
     "output_type": "stream",
     "text": [
      "90\n"
     ]
    },
    {
     "name": "stderr",
     "output_type": "stream",
     "text": [
      "Current google-chrome version is 96.0.4664\n",
      "Get LATEST chromedriver version for 96.0.4664 google-chrome\n",
      "Driver [/Users/franciscovispo/.wdm/drivers/chromedriver/mac64/96.0.4664.45/chromedriver] found in cache\n"
     ]
    },
    {
     "name": "stdout",
     "output_type": "stream",
     "text": [
      "llego a los huespedes\n",
      "llego a las características\n",
      "llego a los precios\n",
      "llego a los usos\n"
     ]
    },
    {
     "name": "stderr",
     "output_type": "stream",
     "text": [
      "\n",
      "\n",
      "====== WebDriver manager ======\n",
      "Current google-chrome version is 96.0.4664\n",
      "Get LATEST chromedriver version for 96.0.4664 google-chrome\n"
     ]
    },
    {
     "name": "stdout",
     "output_type": "stream",
     "text": [
      "91\n"
     ]
    },
    {
     "name": "stderr",
     "output_type": "stream",
     "text": [
      "Driver [/Users/franciscovispo/.wdm/drivers/chromedriver/mac64/96.0.4664.45/chromedriver] found in cache\n"
     ]
    },
    {
     "name": "stdout",
     "output_type": "stream",
     "text": [
      "llego a los huespedes\n",
      "llego a las características\n",
      "llego a los precios\n",
      "llego a los usos\n"
     ]
    },
    {
     "name": "stderr",
     "output_type": "stream",
     "text": [
      "\n",
      "\n",
      "====== WebDriver manager ======\n",
      "Current google-chrome version is 96.0.4664\n"
     ]
    },
    {
     "name": "stdout",
     "output_type": "stream",
     "text": [
      "92\n"
     ]
    },
    {
     "name": "stderr",
     "output_type": "stream",
     "text": [
      "Get LATEST chromedriver version for 96.0.4664 google-chrome\n",
      "Driver [/Users/franciscovispo/.wdm/drivers/chromedriver/mac64/96.0.4664.45/chromedriver] found in cache\n"
     ]
    },
    {
     "name": "stdout",
     "output_type": "stream",
     "text": [
      "llego a los huespedes\n",
      "llego a las características\n",
      "llego a los precios\n",
      "llego a los usos\n"
     ]
    },
    {
     "name": "stderr",
     "output_type": "stream",
     "text": [
      "\n",
      "\n",
      "====== WebDriver manager ======\n"
     ]
    },
    {
     "name": "stdout",
     "output_type": "stream",
     "text": [
      "93\n"
     ]
    },
    {
     "name": "stderr",
     "output_type": "stream",
     "text": [
      "Current google-chrome version is 96.0.4664\n",
      "Get LATEST chromedriver version for 96.0.4664 google-chrome\n",
      "Driver [/Users/franciscovispo/.wdm/drivers/chromedriver/mac64/96.0.4664.45/chromedriver] found in cache\n"
     ]
    },
    {
     "name": "stdout",
     "output_type": "stream",
     "text": [
      "llego a los huespedes\n",
      "llego a las características\n",
      "llego a los precios\n",
      "llego a los usos\n"
     ]
    },
    {
     "name": "stderr",
     "output_type": "stream",
     "text": [
      "\n",
      "\n",
      "====== WebDriver manager ======\n",
      "Current google-chrome version is 96.0.4664\n",
      "Get LATEST chromedriver version for 96.0.4664 google-chrome\n"
     ]
    },
    {
     "name": "stdout",
     "output_type": "stream",
     "text": [
      "94\n"
     ]
    },
    {
     "name": "stderr",
     "output_type": "stream",
     "text": [
      "Driver [/Users/franciscovispo/.wdm/drivers/chromedriver/mac64/96.0.4664.45/chromedriver] found in cache\n"
     ]
    },
    {
     "name": "stdout",
     "output_type": "stream",
     "text": [
      "llego a los huespedes\n",
      "llego a las características\n",
      "llego a los precios\n",
      "llego a los usos\n"
     ]
    },
    {
     "name": "stderr",
     "output_type": "stream",
     "text": [
      "\n",
      "\n",
      "====== WebDriver manager ======\n",
      "Current google-chrome version is 96.0.4664\n",
      "Get LATEST chromedriver version for 96.0.4664 google-chrome\n"
     ]
    },
    {
     "name": "stdout",
     "output_type": "stream",
     "text": [
      "95\n"
     ]
    },
    {
     "name": "stderr",
     "output_type": "stream",
     "text": [
      "Driver [/Users/franciscovispo/.wdm/drivers/chromedriver/mac64/96.0.4664.45/chromedriver] found in cache\n"
     ]
    },
    {
     "name": "stdout",
     "output_type": "stream",
     "text": [
      "llego a los huespedes\n",
      "llego a las características\n",
      "llego a los precios\n",
      "llego a los usos\n"
     ]
    },
    {
     "name": "stderr",
     "output_type": "stream",
     "text": [
      "\n",
      "\n",
      "====== WebDriver manager ======\n"
     ]
    },
    {
     "name": "stdout",
     "output_type": "stream",
     "text": [
      "96\n"
     ]
    },
    {
     "name": "stderr",
     "output_type": "stream",
     "text": [
      "Current google-chrome version is 96.0.4664\n",
      "Get LATEST chromedriver version for 96.0.4664 google-chrome\n",
      "Driver [/Users/franciscovispo/.wdm/drivers/chromedriver/mac64/96.0.4664.45/chromedriver] found in cache\n"
     ]
    },
    {
     "name": "stdout",
     "output_type": "stream",
     "text": [
      "llego a los huespedes\n",
      "llego a las características\n",
      "llego a los precios\n",
      "llego a los usos\n"
     ]
    },
    {
     "name": "stderr",
     "output_type": "stream",
     "text": [
      "\n",
      "\n",
      "====== WebDriver manager ======\n"
     ]
    },
    {
     "name": "stdout",
     "output_type": "stream",
     "text": [
      "97\n"
     ]
    },
    {
     "name": "stderr",
     "output_type": "stream",
     "text": [
      "Current google-chrome version is 96.0.4664\n",
      "Get LATEST chromedriver version for 96.0.4664 google-chrome\n",
      "Driver [/Users/franciscovispo/.wdm/drivers/chromedriver/mac64/96.0.4664.45/chromedriver] found in cache\n"
     ]
    },
    {
     "name": "stdout",
     "output_type": "stream",
     "text": [
      "llego a los huespedes\n",
      "llego a las características\n",
      "llego a los precios\n",
      "llego a los usos\n"
     ]
    },
    {
     "name": "stderr",
     "output_type": "stream",
     "text": [
      "\n",
      "\n",
      "====== WebDriver manager ======\n",
      "Current google-chrome version is 96.0.4664\n",
      "Get LATEST chromedriver version for 96.0.4664 google-chrome\n"
     ]
    },
    {
     "name": "stdout",
     "output_type": "stream",
     "text": [
      "98\n"
     ]
    },
    {
     "name": "stderr",
     "output_type": "stream",
     "text": [
      "Driver [/Users/franciscovispo/.wdm/drivers/chromedriver/mac64/96.0.4664.45/chromedriver] found in cache\n"
     ]
    },
    {
     "name": "stdout",
     "output_type": "stream",
     "text": [
      "llego a los huespedes\n",
      "llego a las características\n",
      "llego a los precios\n",
      "llego a los usos\n"
     ]
    },
    {
     "name": "stderr",
     "output_type": "stream",
     "text": [
      "\n",
      "\n",
      "====== WebDriver manager ======\n",
      "Current google-chrome version is 96.0.4664\n",
      "Get LATEST chromedriver version for 96.0.4664 google-chrome\n"
     ]
    },
    {
     "name": "stdout",
     "output_type": "stream",
     "text": [
      "99\n"
     ]
    },
    {
     "name": "stderr",
     "output_type": "stream",
     "text": [
      "Driver [/Users/franciscovispo/.wdm/drivers/chromedriver/mac64/96.0.4664.45/chromedriver] found in cache\n"
     ]
    },
    {
     "name": "stdout",
     "output_type": "stream",
     "text": [
      "llego a los huespedes\n",
      "llego a las características\n",
      "llego a los precios\n",
      "llego a los usos\n"
     ]
    },
    {
     "name": "stderr",
     "output_type": "stream",
     "text": [
      "\n",
      "\n",
      "====== WebDriver manager ======\n",
      "Current google-chrome version is 96.0.4664\n",
      "Get LATEST chromedriver version for 96.0.4664 google-chrome\n"
     ]
    },
    {
     "name": "stdout",
     "output_type": "stream",
     "text": [
      "100\n"
     ]
    },
    {
     "name": "stderr",
     "output_type": "stream",
     "text": [
      "Driver [/Users/franciscovispo/.wdm/drivers/chromedriver/mac64/96.0.4664.45/chromedriver] found in cache\n"
     ]
    },
    {
     "name": "stdout",
     "output_type": "stream",
     "text": [
      "llego a los huespedes\n",
      "llego a las características\n",
      "llego a los precios\n",
      "llego a los usos\n"
     ]
    },
    {
     "name": "stderr",
     "output_type": "stream",
     "text": [
      "\n",
      "\n",
      "====== WebDriver manager ======\n",
      "Current google-chrome version is 96.0.4664\n",
      "Get LATEST chromedriver version for 96.0.4664 google-chrome\n"
     ]
    },
    {
     "name": "stdout",
     "output_type": "stream",
     "text": [
      "101\n"
     ]
    },
    {
     "name": "stderr",
     "output_type": "stream",
     "text": [
      "Driver [/Users/franciscovispo/.wdm/drivers/chromedriver/mac64/96.0.4664.45/chromedriver] found in cache\n"
     ]
    },
    {
     "name": "stdout",
     "output_type": "stream",
     "text": [
      "llego a los huespedes\n",
      "llego a las características\n",
      "llego a los precios\n",
      "llego a los usos\n"
     ]
    },
    {
     "name": "stderr",
     "output_type": "stream",
     "text": [
      "\n",
      "\n",
      "====== WebDriver manager ======\n"
     ]
    },
    {
     "name": "stdout",
     "output_type": "stream",
     "text": [
      "102\n"
     ]
    },
    {
     "name": "stderr",
     "output_type": "stream",
     "text": [
      "Current google-chrome version is 96.0.4664\n",
      "Get LATEST chromedriver version for 96.0.4664 google-chrome\n",
      "Driver [/Users/franciscovispo/.wdm/drivers/chromedriver/mac64/96.0.4664.45/chromedriver] found in cache\n"
     ]
    },
    {
     "name": "stdout",
     "output_type": "stream",
     "text": [
      "llego a los huespedes\n",
      "llego a las características\n",
      "llego a los precios\n",
      "llego a los usos\n"
     ]
    },
    {
     "name": "stderr",
     "output_type": "stream",
     "text": [
      "\n",
      "\n",
      "====== WebDriver manager ======\n"
     ]
    },
    {
     "name": "stdout",
     "output_type": "stream",
     "text": [
      "103\n"
     ]
    },
    {
     "name": "stderr",
     "output_type": "stream",
     "text": [
      "Current google-chrome version is 96.0.4664\n",
      "Get LATEST chromedriver version for 96.0.4664 google-chrome\n",
      "Driver [/Users/franciscovispo/.wdm/drivers/chromedriver/mac64/96.0.4664.45/chromedriver] found in cache\n"
     ]
    },
    {
     "name": "stdout",
     "output_type": "stream",
     "text": [
      "llego a los huespedes\n",
      "llego a las características\n",
      "llego a los precios\n",
      "llego a los usos\n"
     ]
    },
    {
     "name": "stderr",
     "output_type": "stream",
     "text": [
      "\n",
      "\n",
      "====== WebDriver manager ======\n",
      "Current google-chrome version is 96.0.4664\n",
      "Get LATEST chromedriver version for 96.0.4664 google-chrome\n",
      "Driver [/Users/franciscovispo/.wdm/drivers/chromedriver/mac64/96.0.4664.45/chromedriver] found in cache\n"
     ]
    },
    {
     "name": "stdout",
     "output_type": "stream",
     "text": [
      "104\n",
      "llego a los huespedes\n",
      "llego a las características\n",
      "llego a los precios\n",
      "llego a los usos\n"
     ]
    },
    {
     "name": "stderr",
     "output_type": "stream",
     "text": [
      "\n",
      "\n",
      "====== WebDriver manager ======\n"
     ]
    },
    {
     "name": "stdout",
     "output_type": "stream",
     "text": [
      "105\n"
     ]
    },
    {
     "name": "stderr",
     "output_type": "stream",
     "text": [
      "Current google-chrome version is 96.0.4664\n",
      "Get LATEST chromedriver version for 96.0.4664 google-chrome\n",
      "Driver [/Users/franciscovispo/.wdm/drivers/chromedriver/mac64/96.0.4664.45/chromedriver] found in cache\n"
     ]
    },
    {
     "name": "stdout",
     "output_type": "stream",
     "text": [
      "llego a los huespedes\n",
      "llego a las características\n",
      "llego a los precios\n",
      "llego a los usos\n"
     ]
    },
    {
     "name": "stderr",
     "output_type": "stream",
     "text": [
      "\n",
      "\n",
      "====== WebDriver manager ======\n"
     ]
    },
    {
     "name": "stdout",
     "output_type": "stream",
     "text": [
      "106\n"
     ]
    },
    {
     "name": "stderr",
     "output_type": "stream",
     "text": [
      "Current google-chrome version is 96.0.4664\n",
      "Get LATEST chromedriver version for 96.0.4664 google-chrome\n",
      "Driver [/Users/franciscovispo/.wdm/drivers/chromedriver/mac64/96.0.4664.45/chromedriver] found in cache\n"
     ]
    },
    {
     "name": "stdout",
     "output_type": "stream",
     "text": [
      "llego a los huespedes\n",
      "llego a las características\n",
      "llego a los precios\n",
      "llego a los usos\n"
     ]
    },
    {
     "name": "stderr",
     "output_type": "stream",
     "text": [
      "\n",
      "\n",
      "====== WebDriver manager ======\n"
     ]
    },
    {
     "name": "stdout",
     "output_type": "stream",
     "text": [
      "107\n"
     ]
    },
    {
     "name": "stderr",
     "output_type": "stream",
     "text": [
      "Current google-chrome version is 96.0.4664\n",
      "Get LATEST chromedriver version for 96.0.4664 google-chrome\n",
      "Driver [/Users/franciscovispo/.wdm/drivers/chromedriver/mac64/96.0.4664.45/chromedriver] found in cache\n"
     ]
    },
    {
     "name": "stdout",
     "output_type": "stream",
     "text": [
      "llego a los huespedes\n",
      "llego a las características\n",
      "llego a los precios\n",
      "llego a los usos\n"
     ]
    },
    {
     "name": "stderr",
     "output_type": "stream",
     "text": [
      "\n",
      "\n",
      "====== WebDriver manager ======\n"
     ]
    },
    {
     "name": "stdout",
     "output_type": "stream",
     "text": [
      "108\n"
     ]
    },
    {
     "name": "stderr",
     "output_type": "stream",
     "text": [
      "Current google-chrome version is 96.0.4664\n",
      "Get LATEST chromedriver version for 96.0.4664 google-chrome\n",
      "Driver [/Users/franciscovispo/.wdm/drivers/chromedriver/mac64/96.0.4664.45/chromedriver] found in cache\n"
     ]
    },
    {
     "name": "stdout",
     "output_type": "stream",
     "text": [
      "llego a los huespedes\n",
      "llego a las características\n",
      "llego a los precios\n",
      "llego a los usos\n"
     ]
    },
    {
     "name": "stderr",
     "output_type": "stream",
     "text": [
      "\n",
      "\n",
      "====== WebDriver manager ======\n",
      "Current google-chrome version is 96.0.4664\n",
      "Get LATEST chromedriver version for 96.0.4664 google-chrome\n"
     ]
    },
    {
     "name": "stdout",
     "output_type": "stream",
     "text": [
      "109\n"
     ]
    },
    {
     "name": "stderr",
     "output_type": "stream",
     "text": [
      "Driver [/Users/franciscovispo/.wdm/drivers/chromedriver/mac64/96.0.4664.45/chromedriver] found in cache\n"
     ]
    },
    {
     "name": "stdout",
     "output_type": "stream",
     "text": [
      "llego a los huespedes\n",
      "llego a las características\n",
      "llego a los precios\n",
      "llego a los usos\n"
     ]
    },
    {
     "name": "stderr",
     "output_type": "stream",
     "text": [
      "\n",
      "\n",
      "====== WebDriver manager ======\n",
      "Current google-chrome version is 96.0.4664\n",
      "Get LATEST chromedriver version for 96.0.4664 google-chrome\n"
     ]
    },
    {
     "name": "stdout",
     "output_type": "stream",
     "text": [
      "110\n"
     ]
    },
    {
     "name": "stderr",
     "output_type": "stream",
     "text": [
      "Driver [/Users/franciscovispo/.wdm/drivers/chromedriver/mac64/96.0.4664.45/chromedriver] found in cache\n"
     ]
    },
    {
     "name": "stdout",
     "output_type": "stream",
     "text": [
      "llego a los huespedes\n",
      "llego a las características\n",
      "llego a los precios\n",
      "llego a los usos\n"
     ]
    },
    {
     "name": "stderr",
     "output_type": "stream",
     "text": [
      "\n",
      "\n",
      "====== WebDriver manager ======\n",
      "Current google-chrome version is 96.0.4664\n",
      "Get LATEST chromedriver version for 96.0.4664 google-chrome\n"
     ]
    },
    {
     "name": "stdout",
     "output_type": "stream",
     "text": [
      "111\n"
     ]
    },
    {
     "name": "stderr",
     "output_type": "stream",
     "text": [
      "Driver [/Users/franciscovispo/.wdm/drivers/chromedriver/mac64/96.0.4664.45/chromedriver] found in cache\n"
     ]
    },
    {
     "name": "stdout",
     "output_type": "stream",
     "text": [
      "llego a los huespedes\n",
      "llego a las características\n",
      "llego a los precios\n",
      "llego a los usos\n"
     ]
    },
    {
     "name": "stderr",
     "output_type": "stream",
     "text": [
      "\n",
      "\n",
      "====== WebDriver manager ======\n",
      "Current google-chrome version is 96.0.4664\n",
      "Get LATEST chromedriver version for 96.0.4664 google-chrome\n"
     ]
    },
    {
     "name": "stdout",
     "output_type": "stream",
     "text": [
      "112\n"
     ]
    },
    {
     "name": "stderr",
     "output_type": "stream",
     "text": [
      "Driver [/Users/franciscovispo/.wdm/drivers/chromedriver/mac64/96.0.4664.45/chromedriver] found in cache\n"
     ]
    },
    {
     "name": "stdout",
     "output_type": "stream",
     "text": [
      "llego a los huespedes\n",
      "llego a las características\n",
      "llego a los precios\n",
      "llego a los usos\n"
     ]
    },
    {
     "name": "stderr",
     "output_type": "stream",
     "text": [
      "\n",
      "\n",
      "====== WebDriver manager ======\n"
     ]
    },
    {
     "name": "stdout",
     "output_type": "stream",
     "text": [
      "113\n"
     ]
    },
    {
     "name": "stderr",
     "output_type": "stream",
     "text": [
      "Current google-chrome version is 96.0.4664\n",
      "Get LATEST chromedriver version for 96.0.4664 google-chrome\n",
      "Driver [/Users/franciscovispo/.wdm/drivers/chromedriver/mac64/96.0.4664.45/chromedriver] found in cache\n"
     ]
    },
    {
     "name": "stdout",
     "output_type": "stream",
     "text": [
      "llego a los huespedes\n",
      "llego a las características\n",
      "llego a los precios\n",
      "llego a los usos\n"
     ]
    },
    {
     "name": "stderr",
     "output_type": "stream",
     "text": [
      "\n",
      "\n",
      "====== WebDriver manager ======\n",
      "Current google-chrome version is 96.0.4664\n",
      "Get LATEST chromedriver version for 96.0.4664 google-chrome\n"
     ]
    },
    {
     "name": "stdout",
     "output_type": "stream",
     "text": [
      "114\n"
     ]
    },
    {
     "name": "stderr",
     "output_type": "stream",
     "text": [
      "Driver [/Users/franciscovispo/.wdm/drivers/chromedriver/mac64/96.0.4664.45/chromedriver] found in cache\n"
     ]
    },
    {
     "name": "stdout",
     "output_type": "stream",
     "text": [
      "llego a los huespedes\n",
      "llego a las características\n",
      "llego a los precios\n",
      "llego a los usos\n"
     ]
    },
    {
     "name": "stderr",
     "output_type": "stream",
     "text": [
      "\n",
      "\n",
      "====== WebDriver manager ======\n",
      "Current google-chrome version is 96.0.4664\n"
     ]
    },
    {
     "name": "stdout",
     "output_type": "stream",
     "text": [
      "115\n"
     ]
    },
    {
     "name": "stderr",
     "output_type": "stream",
     "text": [
      "Get LATEST chromedriver version for 96.0.4664 google-chrome\n",
      "Driver [/Users/franciscovispo/.wdm/drivers/chromedriver/mac64/96.0.4664.45/chromedriver] found in cache\n"
     ]
    },
    {
     "name": "stdout",
     "output_type": "stream",
     "text": [
      "llego a los huespedes\n",
      "llego a las características\n",
      "llego a los precios\n",
      "llego a los usos\n"
     ]
    },
    {
     "name": "stderr",
     "output_type": "stream",
     "text": [
      "\n",
      "\n",
      "====== WebDriver manager ======\n",
      "Current google-chrome version is 96.0.4664\n",
      "Get LATEST chromedriver version for 96.0.4664 google-chrome\n"
     ]
    },
    {
     "name": "stdout",
     "output_type": "stream",
     "text": [
      "116\n"
     ]
    },
    {
     "name": "stderr",
     "output_type": "stream",
     "text": [
      "Driver [/Users/franciscovispo/.wdm/drivers/chromedriver/mac64/96.0.4664.45/chromedriver] found in cache\n"
     ]
    },
    {
     "name": "stdout",
     "output_type": "stream",
     "text": [
      "llego a los huespedes\n",
      "llego a las características\n",
      "llego a los precios\n",
      "llego a los usos\n"
     ]
    },
    {
     "name": "stderr",
     "output_type": "stream",
     "text": [
      "\n",
      "\n",
      "====== WebDriver manager ======\n"
     ]
    },
    {
     "name": "stdout",
     "output_type": "stream",
     "text": [
      "117\n"
     ]
    },
    {
     "name": "stderr",
     "output_type": "stream",
     "text": [
      "Current google-chrome version is 96.0.4664\n",
      "Get LATEST chromedriver version for 96.0.4664 google-chrome\n",
      "Driver [/Users/franciscovispo/.wdm/drivers/chromedriver/mac64/96.0.4664.45/chromedriver] found in cache\n"
     ]
    },
    {
     "name": "stdout",
     "output_type": "stream",
     "text": [
      "llego a los huespedes\n",
      "llego a las características\n",
      "llego a los precios\n",
      "llego a los usos\n"
     ]
    },
    {
     "name": "stderr",
     "output_type": "stream",
     "text": [
      "\n",
      "\n",
      "====== WebDriver manager ======\n",
      "Current google-chrome version is 96.0.4664\n",
      "Get LATEST chromedriver version for 96.0.4664 google-chrome\n"
     ]
    },
    {
     "name": "stdout",
     "output_type": "stream",
     "text": [
      "118\n"
     ]
    },
    {
     "name": "stderr",
     "output_type": "stream",
     "text": [
      "Driver [/Users/franciscovispo/.wdm/drivers/chromedriver/mac64/96.0.4664.45/chromedriver] found in cache\n"
     ]
    },
    {
     "name": "stdout",
     "output_type": "stream",
     "text": [
      "llego a los huespedes\n",
      "llego a las características\n",
      "llego a los precios\n",
      "llego a los usos\n"
     ]
    },
    {
     "name": "stderr",
     "output_type": "stream",
     "text": [
      "\n",
      "\n",
      "====== WebDriver manager ======\n",
      "Current google-chrome version is 96.0.4664\n",
      "Get LATEST chromedriver version for 96.0.4664 google-chrome\n"
     ]
    },
    {
     "name": "stdout",
     "output_type": "stream",
     "text": [
      "119\n"
     ]
    },
    {
     "name": "stderr",
     "output_type": "stream",
     "text": [
      "Driver [/Users/franciscovispo/.wdm/drivers/chromedriver/mac64/96.0.4664.45/chromedriver] found in cache\n"
     ]
    },
    {
     "name": "stdout",
     "output_type": "stream",
     "text": [
      "llego a los huespedes\n",
      "llego a las características\n",
      "llego a los precios\n",
      "llego a los usos\n"
     ]
    },
    {
     "name": "stderr",
     "output_type": "stream",
     "text": [
      "\n",
      "\n",
      "====== WebDriver manager ======\n",
      "Current google-chrome version is 96.0.4664\n",
      "Get LATEST chromedriver version for 96.0.4664 google-chrome\n"
     ]
    },
    {
     "name": "stdout",
     "output_type": "stream",
     "text": [
      "120\n"
     ]
    },
    {
     "name": "stderr",
     "output_type": "stream",
     "text": [
      "Driver [/Users/franciscovispo/.wdm/drivers/chromedriver/mac64/96.0.4664.45/chromedriver] found in cache\n"
     ]
    },
    {
     "name": "stdout",
     "output_type": "stream",
     "text": [
      "llego a los huespedes\n",
      "llego a las características\n",
      "llego a los precios\n",
      "llego a los usos\n"
     ]
    },
    {
     "name": "stderr",
     "output_type": "stream",
     "text": [
      "\n",
      "\n",
      "====== WebDriver manager ======\n",
      "Current google-chrome version is 96.0.4664\n",
      "Get LATEST chromedriver version for 96.0.4664 google-chrome\n"
     ]
    },
    {
     "name": "stdout",
     "output_type": "stream",
     "text": [
      "121\n"
     ]
    },
    {
     "name": "stderr",
     "output_type": "stream",
     "text": [
      "Driver [/Users/franciscovispo/.wdm/drivers/chromedriver/mac64/96.0.4664.45/chromedriver] found in cache\n"
     ]
    },
    {
     "name": "stdout",
     "output_type": "stream",
     "text": [
      "llego a los huespedes\n",
      "llego a las características\n",
      "llego a los precios\n",
      "llego a los usos\n"
     ]
    },
    {
     "name": "stderr",
     "output_type": "stream",
     "text": [
      "\n",
      "\n",
      "====== WebDriver manager ======\n",
      "Current google-chrome version is 96.0.4664\n",
      "Get LATEST chromedriver version for 96.0.4664 google-chrome\n"
     ]
    },
    {
     "name": "stdout",
     "output_type": "stream",
     "text": [
      "122\n"
     ]
    },
    {
     "name": "stderr",
     "output_type": "stream",
     "text": [
      "Driver [/Users/franciscovispo/.wdm/drivers/chromedriver/mac64/96.0.4664.45/chromedriver] found in cache\n"
     ]
    },
    {
     "name": "stdout",
     "output_type": "stream",
     "text": [
      "llego a los huespedes\n",
      "llego a las características\n",
      "llego a los precios\n",
      "llego a los usos\n"
     ]
    },
    {
     "name": "stderr",
     "output_type": "stream",
     "text": [
      "\n",
      "\n",
      "====== WebDriver manager ======\n"
     ]
    },
    {
     "name": "stdout",
     "output_type": "stream",
     "text": [
      "123\n"
     ]
    },
    {
     "name": "stderr",
     "output_type": "stream",
     "text": [
      "Current google-chrome version is 96.0.4664\n",
      "Get LATEST chromedriver version for 96.0.4664 google-chrome\n",
      "Driver [/Users/franciscovispo/.wdm/drivers/chromedriver/mac64/96.0.4664.45/chromedriver] found in cache\n"
     ]
    },
    {
     "name": "stdout",
     "output_type": "stream",
     "text": [
      "llego a los huespedes\n",
      "llego a las características\n",
      "llego a los precios\n",
      "llego a los usos\n"
     ]
    },
    {
     "name": "stderr",
     "output_type": "stream",
     "text": [
      "\n",
      "\n",
      "====== WebDriver manager ======\n",
      "Current google-chrome version is 96.0.4664\n",
      "Get LATEST chromedriver version for 96.0.4664 google-chrome\n"
     ]
    },
    {
     "name": "stdout",
     "output_type": "stream",
     "text": [
      "124\n"
     ]
    },
    {
     "name": "stderr",
     "output_type": "stream",
     "text": [
      "Driver [/Users/franciscovispo/.wdm/drivers/chromedriver/mac64/96.0.4664.45/chromedriver] found in cache\n"
     ]
    },
    {
     "name": "stdout",
     "output_type": "stream",
     "text": [
      "llego a los huespedes\n",
      "llego a las características\n",
      "llego a los precios\n",
      "llego a los usos\n"
     ]
    },
    {
     "name": "stderr",
     "output_type": "stream",
     "text": [
      "\n",
      "\n",
      "====== WebDriver manager ======\n",
      "Current google-chrome version is 96.0.4664\n",
      "Get LATEST chromedriver version for 96.0.4664 google-chrome\n"
     ]
    },
    {
     "name": "stdout",
     "output_type": "stream",
     "text": [
      "125\n"
     ]
    },
    {
     "name": "stderr",
     "output_type": "stream",
     "text": [
      "Driver [/Users/franciscovispo/.wdm/drivers/chromedriver/mac64/96.0.4664.45/chromedriver] found in cache\n"
     ]
    },
    {
     "name": "stdout",
     "output_type": "stream",
     "text": [
      "llego a los huespedes\n",
      "llego a las características\n",
      "llego a los precios\n",
      "llego a los usos\n"
     ]
    },
    {
     "name": "stderr",
     "output_type": "stream",
     "text": [
      "\n",
      "\n",
      "====== WebDriver manager ======\n",
      "Current google-chrome version is 96.0.4664\n",
      "Get LATEST chromedriver version for 96.0.4664 google-chrome\n"
     ]
    },
    {
     "name": "stdout",
     "output_type": "stream",
     "text": [
      "126\n"
     ]
    },
    {
     "name": "stderr",
     "output_type": "stream",
     "text": [
      "Driver [/Users/franciscovispo/.wdm/drivers/chromedriver/mac64/96.0.4664.45/chromedriver] found in cache\n"
     ]
    },
    {
     "name": "stdout",
     "output_type": "stream",
     "text": [
      "llego a los huespedes\n",
      "llego a las características\n",
      "llego a los precios\n",
      "llego a los usos\n"
     ]
    },
    {
     "name": "stderr",
     "output_type": "stream",
     "text": [
      "\n",
      "\n",
      "====== WebDriver manager ======\n"
     ]
    },
    {
     "name": "stdout",
     "output_type": "stream",
     "text": [
      "127\n"
     ]
    },
    {
     "name": "stderr",
     "output_type": "stream",
     "text": [
      "Current google-chrome version is 96.0.4664\n",
      "Get LATEST chromedriver version for 96.0.4664 google-chrome\n",
      "Driver [/Users/franciscovispo/.wdm/drivers/chromedriver/mac64/96.0.4664.45/chromedriver] found in cache\n"
     ]
    },
    {
     "name": "stdout",
     "output_type": "stream",
     "text": [
      "llego a los huespedes\n",
      "llego a las características\n",
      "llego a los precios\n",
      "llego a los usos\n"
     ]
    },
    {
     "name": "stderr",
     "output_type": "stream",
     "text": [
      "\n",
      "\n",
      "====== WebDriver manager ======\n"
     ]
    },
    {
     "name": "stdout",
     "output_type": "stream",
     "text": [
      "128\n"
     ]
    },
    {
     "name": "stderr",
     "output_type": "stream",
     "text": [
      "Current google-chrome version is 96.0.4664\n",
      "Get LATEST chromedriver version for 96.0.4664 google-chrome\n",
      "Driver [/Users/franciscovispo/.wdm/drivers/chromedriver/mac64/96.0.4664.45/chromedriver] found in cache\n"
     ]
    },
    {
     "name": "stdout",
     "output_type": "stream",
     "text": [
      "llego a los huespedes\n",
      "llego a las características\n",
      "llego a los precios\n",
      "llego a los usos\n"
     ]
    },
    {
     "name": "stderr",
     "output_type": "stream",
     "text": [
      "\n",
      "\n",
      "====== WebDriver manager ======\n",
      "Current google-chrome version is 96.0.4664\n"
     ]
    },
    {
     "name": "stdout",
     "output_type": "stream",
     "text": [
      "129\n"
     ]
    },
    {
     "name": "stderr",
     "output_type": "stream",
     "text": [
      "Get LATEST chromedriver version for 96.0.4664 google-chrome\n",
      "Driver [/Users/franciscovispo/.wdm/drivers/chromedriver/mac64/96.0.4664.45/chromedriver] found in cache\n"
     ]
    },
    {
     "name": "stdout",
     "output_type": "stream",
     "text": [
      "llego a los huespedes\n",
      "llego a las características\n",
      "llego a los precios\n",
      "llego a los usos\n"
     ]
    },
    {
     "name": "stderr",
     "output_type": "stream",
     "text": [
      "\n",
      "\n",
      "====== WebDriver manager ======\n",
      "Current google-chrome version is 96.0.4664\n",
      "Get LATEST chromedriver version for 96.0.4664 google-chrome\n"
     ]
    },
    {
     "name": "stdout",
     "output_type": "stream",
     "text": [
      "130\n"
     ]
    },
    {
     "name": "stderr",
     "output_type": "stream",
     "text": [
      "Driver [/Users/franciscovispo/.wdm/drivers/chromedriver/mac64/96.0.4664.45/chromedriver] found in cache\n"
     ]
    },
    {
     "name": "stdout",
     "output_type": "stream",
     "text": [
      "llego a los huespedes\n",
      "llego a las características\n",
      "llego a los precios\n",
      "llego a los usos\n"
     ]
    },
    {
     "name": "stderr",
     "output_type": "stream",
     "text": [
      "\n",
      "\n",
      "====== WebDriver manager ======\n",
      "Current google-chrome version is 96.0.4664\n",
      "Get LATEST chromedriver version for 96.0.4664 google-chrome\n"
     ]
    },
    {
     "name": "stdout",
     "output_type": "stream",
     "text": [
      "131\n"
     ]
    },
    {
     "name": "stderr",
     "output_type": "stream",
     "text": [
      "Driver [/Users/franciscovispo/.wdm/drivers/chromedriver/mac64/96.0.4664.45/chromedriver] found in cache\n"
     ]
    },
    {
     "name": "stdout",
     "output_type": "stream",
     "text": [
      "llego a los huespedes\n",
      "llego a las características\n",
      "llego a los precios\n",
      "llego a los usos\n"
     ]
    },
    {
     "name": "stderr",
     "output_type": "stream",
     "text": [
      "\n",
      "\n",
      "====== WebDriver manager ======\n",
      "Current google-chrome version is 96.0.4664\n"
     ]
    },
    {
     "name": "stdout",
     "output_type": "stream",
     "text": [
      "132\n"
     ]
    },
    {
     "name": "stderr",
     "output_type": "stream",
     "text": [
      "Get LATEST chromedriver version for 96.0.4664 google-chrome\n",
      "Driver [/Users/franciscovispo/.wdm/drivers/chromedriver/mac64/96.0.4664.45/chromedriver] found in cache\n"
     ]
    },
    {
     "name": "stdout",
     "output_type": "stream",
     "text": [
      "llego a los huespedes\n",
      "llego a las características\n",
      "llego a los precios\n",
      "llego a los usos\n"
     ]
    },
    {
     "name": "stderr",
     "output_type": "stream",
     "text": [
      "\n",
      "\n",
      "====== WebDriver manager ======\n",
      "Current google-chrome version is 96.0.4664\n"
     ]
    },
    {
     "name": "stdout",
     "output_type": "stream",
     "text": [
      "133\n"
     ]
    },
    {
     "name": "stderr",
     "output_type": "stream",
     "text": [
      "Get LATEST chromedriver version for 96.0.4664 google-chrome\n",
      "Driver [/Users/franciscovispo/.wdm/drivers/chromedriver/mac64/96.0.4664.45/chromedriver] found in cache\n"
     ]
    },
    {
     "name": "stdout",
     "output_type": "stream",
     "text": [
      "llego a los huespedes\n",
      "llego a las características\n",
      "llego a los precios\n",
      "llego a los usos\n"
     ]
    },
    {
     "name": "stderr",
     "output_type": "stream",
     "text": [
      "\n",
      "\n",
      "====== WebDriver manager ======\n"
     ]
    },
    {
     "name": "stdout",
     "output_type": "stream",
     "text": [
      "134\n"
     ]
    },
    {
     "name": "stderr",
     "output_type": "stream",
     "text": [
      "Current google-chrome version is 96.0.4664\n",
      "Get LATEST chromedriver version for 96.0.4664 google-chrome\n",
      "Driver [/Users/franciscovispo/.wdm/drivers/chromedriver/mac64/96.0.4664.45/chromedriver] found in cache\n"
     ]
    },
    {
     "name": "stdout",
     "output_type": "stream",
     "text": [
      "llego a los huespedes\n",
      "llego a las características\n",
      "llego a los precios\n",
      "llego a los usos\n"
     ]
    },
    {
     "name": "stderr",
     "output_type": "stream",
     "text": [
      "\n",
      "\n",
      "====== WebDriver manager ======\n",
      "Current google-chrome version is 96.0.4664\n",
      "Get LATEST chromedriver version for 96.0.4664 google-chrome\n"
     ]
    },
    {
     "name": "stdout",
     "output_type": "stream",
     "text": [
      "135\n"
     ]
    },
    {
     "name": "stderr",
     "output_type": "stream",
     "text": [
      "Driver [/Users/franciscovispo/.wdm/drivers/chromedriver/mac64/96.0.4664.45/chromedriver] found in cache\n"
     ]
    },
    {
     "name": "stdout",
     "output_type": "stream",
     "text": [
      "llego a los huespedes\n",
      "llego a las características\n",
      "llego a los precios\n",
      "llego a los usos\n"
     ]
    },
    {
     "name": "stderr",
     "output_type": "stream",
     "text": [
      "\n",
      "\n",
      "====== WebDriver manager ======\n"
     ]
    },
    {
     "name": "stdout",
     "output_type": "stream",
     "text": [
      "136\n"
     ]
    },
    {
     "name": "stderr",
     "output_type": "stream",
     "text": [
      "Current google-chrome version is 96.0.4664\n",
      "Get LATEST chromedriver version for 96.0.4664 google-chrome\n",
      "Driver [/Users/franciscovispo/.wdm/drivers/chromedriver/mac64/96.0.4664.45/chromedriver] found in cache\n"
     ]
    },
    {
     "name": "stdout",
     "output_type": "stream",
     "text": [
      "llego a los huespedes\n",
      "llego a las características\n",
      "llego a los precios\n",
      "llego a los usos\n"
     ]
    },
    {
     "name": "stderr",
     "output_type": "stream",
     "text": [
      "\n",
      "\n",
      "====== WebDriver manager ======\n",
      "Current google-chrome version is 96.0.4664\n",
      "Get LATEST chromedriver version for 96.0.4664 google-chrome\n"
     ]
    },
    {
     "name": "stdout",
     "output_type": "stream",
     "text": [
      "137\n"
     ]
    },
    {
     "name": "stderr",
     "output_type": "stream",
     "text": [
      "Driver [/Users/franciscovispo/.wdm/drivers/chromedriver/mac64/96.0.4664.45/chromedriver] found in cache\n"
     ]
    },
    {
     "name": "stdout",
     "output_type": "stream",
     "text": [
      "llego a los huespedes\n",
      "llego a las características\n",
      "llego a los precios\n",
      "llego a los usos\n"
     ]
    },
    {
     "name": "stderr",
     "output_type": "stream",
     "text": [
      "\n",
      "\n",
      "====== WebDriver manager ======\n"
     ]
    },
    {
     "name": "stdout",
     "output_type": "stream",
     "text": [
      "138\n"
     ]
    },
    {
     "name": "stderr",
     "output_type": "stream",
     "text": [
      "Current google-chrome version is 96.0.4664\n",
      "Get LATEST chromedriver version for 96.0.4664 google-chrome\n",
      "Driver [/Users/franciscovispo/.wdm/drivers/chromedriver/mac64/96.0.4664.45/chromedriver] found in cache\n"
     ]
    },
    {
     "name": "stdout",
     "output_type": "stream",
     "text": [
      "llego a los huespedes\n",
      "llego a las características\n",
      "llego a los precios\n",
      "llego a los usos\n"
     ]
    },
    {
     "name": "stderr",
     "output_type": "stream",
     "text": [
      "\n",
      "\n",
      "====== WebDriver manager ======\n",
      "Current google-chrome version is 96.0.4664\n",
      "Get LATEST chromedriver version for 96.0.4664 google-chrome\n"
     ]
    },
    {
     "name": "stdout",
     "output_type": "stream",
     "text": [
      "139\n"
     ]
    },
    {
     "name": "stderr",
     "output_type": "stream",
     "text": [
      "Driver [/Users/franciscovispo/.wdm/drivers/chromedriver/mac64/96.0.4664.45/chromedriver] found in cache\n"
     ]
    },
    {
     "name": "stdout",
     "output_type": "stream",
     "text": [
      "llego a los huespedes\n",
      "llego a las características\n",
      "llego a los precios\n",
      "llego a los usos\n"
     ]
    },
    {
     "name": "stderr",
     "output_type": "stream",
     "text": [
      "\n",
      "\n",
      "====== WebDriver manager ======\n",
      "Current google-chrome version is 96.0.4664\n",
      "Get LATEST chromedriver version for 96.0.4664 google-chrome\n"
     ]
    },
    {
     "name": "stdout",
     "output_type": "stream",
     "text": [
      "140\n"
     ]
    },
    {
     "name": "stderr",
     "output_type": "stream",
     "text": [
      "Driver [/Users/franciscovispo/.wdm/drivers/chromedriver/mac64/96.0.4664.45/chromedriver] found in cache\n"
     ]
    },
    {
     "name": "stdout",
     "output_type": "stream",
     "text": [
      "llego a los huespedes\n",
      "llego a las características\n",
      "llego a los precios\n",
      "llego a los usos\n"
     ]
    },
    {
     "name": "stderr",
     "output_type": "stream",
     "text": [
      "\n",
      "\n",
      "====== WebDriver manager ======\n",
      "Current google-chrome version is 96.0.4664\n",
      "Get LATEST chromedriver version for 96.0.4664 google-chrome\n"
     ]
    },
    {
     "name": "stdout",
     "output_type": "stream",
     "text": [
      "141\n"
     ]
    },
    {
     "name": "stderr",
     "output_type": "stream",
     "text": [
      "Driver [/Users/franciscovispo/.wdm/drivers/chromedriver/mac64/96.0.4664.45/chromedriver] found in cache\n"
     ]
    },
    {
     "name": "stdout",
     "output_type": "stream",
     "text": [
      "llego a los huespedes\n",
      "llego a las características\n",
      "llego a los precios\n",
      "llego a los usos\n"
     ]
    },
    {
     "name": "stderr",
     "output_type": "stream",
     "text": [
      "\n",
      "\n",
      "====== WebDriver manager ======\n",
      "Current google-chrome version is 96.0.4664\n",
      "Get LATEST chromedriver version for 96.0.4664 google-chrome\n"
     ]
    },
    {
     "name": "stdout",
     "output_type": "stream",
     "text": [
      "142\n"
     ]
    },
    {
     "name": "stderr",
     "output_type": "stream",
     "text": [
      "Driver [/Users/franciscovispo/.wdm/drivers/chromedriver/mac64/96.0.4664.45/chromedriver] found in cache\n"
     ]
    },
    {
     "name": "stdout",
     "output_type": "stream",
     "text": [
      "llego a los huespedes\n",
      "llego a las características\n",
      "llego a los precios\n",
      "llego a los usos\n"
     ]
    },
    {
     "name": "stderr",
     "output_type": "stream",
     "text": [
      "\n",
      "\n",
      "====== WebDriver manager ======\n",
      "Current google-chrome version is 96.0.4664\n",
      "Get LATEST chromedriver version for 96.0.4664 google-chrome\n"
     ]
    },
    {
     "name": "stdout",
     "output_type": "stream",
     "text": [
      "143\n"
     ]
    },
    {
     "name": "stderr",
     "output_type": "stream",
     "text": [
      "Driver [/Users/franciscovispo/.wdm/drivers/chromedriver/mac64/96.0.4664.45/chromedriver] found in cache\n"
     ]
    },
    {
     "name": "stdout",
     "output_type": "stream",
     "text": [
      "llego a los huespedes\n",
      "llego a las características\n",
      "llego a los precios\n",
      "llego a los usos\n"
     ]
    },
    {
     "name": "stderr",
     "output_type": "stream",
     "text": [
      "\n",
      "\n",
      "====== WebDriver manager ======\n",
      "Current google-chrome version is 96.0.4664\n",
      "Get LATEST chromedriver version for 96.0.4664 google-chrome\n"
     ]
    },
    {
     "name": "stdout",
     "output_type": "stream",
     "text": [
      "144\n"
     ]
    },
    {
     "name": "stderr",
     "output_type": "stream",
     "text": [
      "Driver [/Users/franciscovispo/.wdm/drivers/chromedriver/mac64/96.0.4664.45/chromedriver] found in cache\n"
     ]
    },
    {
     "name": "stdout",
     "output_type": "stream",
     "text": [
      "llego a los huespedes\n",
      "llego a las características\n",
      "llego a los precios\n",
      "llego a los usos\n"
     ]
    },
    {
     "name": "stderr",
     "output_type": "stream",
     "text": [
      "\n",
      "\n",
      "====== WebDriver manager ======\n",
      "Current google-chrome version is 96.0.4664\n",
      "Get LATEST chromedriver version for 96.0.4664 google-chrome\n"
     ]
    },
    {
     "name": "stdout",
     "output_type": "stream",
     "text": [
      "145\n"
     ]
    },
    {
     "name": "stderr",
     "output_type": "stream",
     "text": [
      "Driver [/Users/franciscovispo/.wdm/drivers/chromedriver/mac64/96.0.4664.45/chromedriver] found in cache\n"
     ]
    },
    {
     "name": "stdout",
     "output_type": "stream",
     "text": [
      "llego a los huespedes\n",
      "llego a las características\n",
      "llego a los precios\n",
      "llego a los usos\n"
     ]
    },
    {
     "name": "stderr",
     "output_type": "stream",
     "text": [
      "\n",
      "\n",
      "====== WebDriver manager ======\n"
     ]
    },
    {
     "name": "stdout",
     "output_type": "stream",
     "text": [
      "146\n"
     ]
    },
    {
     "name": "stderr",
     "output_type": "stream",
     "text": [
      "Current google-chrome version is 96.0.4664\n",
      "Get LATEST chromedriver version for 96.0.4664 google-chrome\n",
      "Driver [/Users/franciscovispo/.wdm/drivers/chromedriver/mac64/96.0.4664.45/chromedriver] found in cache\n"
     ]
    },
    {
     "name": "stdout",
     "output_type": "stream",
     "text": [
      "llego a los huespedes\n",
      "llego a las características\n",
      "llego a los precios\n",
      "llego a los usos\n"
     ]
    },
    {
     "name": "stderr",
     "output_type": "stream",
     "text": [
      "\n",
      "\n",
      "====== WebDriver manager ======\n",
      "Current google-chrome version is 96.0.4664\n",
      "Get LATEST chromedriver version for 96.0.4664 google-chrome\n"
     ]
    },
    {
     "name": "stdout",
     "output_type": "stream",
     "text": [
      "147\n"
     ]
    },
    {
     "name": "stderr",
     "output_type": "stream",
     "text": [
      "Driver [/Users/franciscovispo/.wdm/drivers/chromedriver/mac64/96.0.4664.45/chromedriver] found in cache\n"
     ]
    },
    {
     "name": "stdout",
     "output_type": "stream",
     "text": [
      "llego a los huespedes\n",
      "llego a las características\n",
      "llego a los precios\n",
      "llego a los usos\n"
     ]
    },
    {
     "name": "stderr",
     "output_type": "stream",
     "text": [
      "\n",
      "\n",
      "====== WebDriver manager ======\n",
      "Current google-chrome version is 96.0.4664\n",
      "Get LATEST chromedriver version for 96.0.4664 google-chrome\n"
     ]
    },
    {
     "name": "stdout",
     "output_type": "stream",
     "text": [
      "148\n"
     ]
    },
    {
     "name": "stderr",
     "output_type": "stream",
     "text": [
      "Driver [/Users/franciscovispo/.wdm/drivers/chromedriver/mac64/96.0.4664.45/chromedriver] found in cache\n"
     ]
    },
    {
     "name": "stdout",
     "output_type": "stream",
     "text": [
      "llego a los huespedes\n",
      "llego a las características\n",
      "llego a los precios\n",
      "llego a los usos\n"
     ]
    },
    {
     "name": "stderr",
     "output_type": "stream",
     "text": [
      "\n",
      "\n",
      "====== WebDriver manager ======\n",
      "Current google-chrome version is 96.0.4664\n",
      "Get LATEST chromedriver version for 96.0.4664 google-chrome\n"
     ]
    },
    {
     "name": "stdout",
     "output_type": "stream",
     "text": [
      "149\n"
     ]
    },
    {
     "name": "stderr",
     "output_type": "stream",
     "text": [
      "Driver [/Users/franciscovispo/.wdm/drivers/chromedriver/mac64/96.0.4664.45/chromedriver] found in cache\n"
     ]
    },
    {
     "name": "stdout",
     "output_type": "stream",
     "text": [
      "llego a los huespedes\n",
      "llego a las características\n",
      "llego a los precios\n",
      "llego a los usos\n"
     ]
    },
    {
     "name": "stderr",
     "output_type": "stream",
     "text": [
      "\n",
      "\n",
      "====== WebDriver manager ======\n",
      "Current google-chrome version is 96.0.4664\n",
      "Get LATEST chromedriver version for 96.0.4664 google-chrome\n"
     ]
    },
    {
     "name": "stdout",
     "output_type": "stream",
     "text": [
      "150\n"
     ]
    },
    {
     "name": "stderr",
     "output_type": "stream",
     "text": [
      "Driver [/Users/franciscovispo/.wdm/drivers/chromedriver/mac64/96.0.4664.45/chromedriver] found in cache\n"
     ]
    },
    {
     "name": "stdout",
     "output_type": "stream",
     "text": [
      "llego a los huespedes\n",
      "llego a las características\n",
      "llego a los precios\n",
      "llego a los usos\n"
     ]
    },
    {
     "name": "stderr",
     "output_type": "stream",
     "text": [
      "\n",
      "\n",
      "====== WebDriver manager ======\n",
      "Current google-chrome version is 96.0.4664\n",
      "Get LATEST chromedriver version for 96.0.4664 google-chrome\n"
     ]
    },
    {
     "name": "stdout",
     "output_type": "stream",
     "text": [
      "151\n"
     ]
    },
    {
     "name": "stderr",
     "output_type": "stream",
     "text": [
      "Driver [/Users/franciscovispo/.wdm/drivers/chromedriver/mac64/96.0.4664.45/chromedriver] found in cache\n"
     ]
    },
    {
     "name": "stdout",
     "output_type": "stream",
     "text": [
      "llego a los huespedes\n",
      "llego a las características\n",
      "llego a los precios\n",
      "llego a los usos\n"
     ]
    },
    {
     "name": "stderr",
     "output_type": "stream",
     "text": [
      "\n",
      "\n",
      "====== WebDriver manager ======\n",
      "Current google-chrome version is 96.0.4664\n",
      "Get LATEST chromedriver version for 96.0.4664 google-chrome\n"
     ]
    },
    {
     "name": "stdout",
     "output_type": "stream",
     "text": [
      "152\n"
     ]
    },
    {
     "name": "stderr",
     "output_type": "stream",
     "text": [
      "Driver [/Users/franciscovispo/.wdm/drivers/chromedriver/mac64/96.0.4664.45/chromedriver] found in cache\n"
     ]
    },
    {
     "name": "stdout",
     "output_type": "stream",
     "text": [
      "llego a los huespedes\n",
      "llego a las características\n",
      "llego a los precios\n",
      "llego a los usos\n"
     ]
    },
    {
     "name": "stderr",
     "output_type": "stream",
     "text": [
      "\n",
      "\n",
      "====== WebDriver manager ======\n",
      "Current google-chrome version is 96.0.4664\n",
      "Get LATEST chromedriver version for 96.0.4664 google-chrome\n"
     ]
    },
    {
     "name": "stdout",
     "output_type": "stream",
     "text": [
      "153\n"
     ]
    },
    {
     "name": "stderr",
     "output_type": "stream",
     "text": [
      "Driver [/Users/franciscovispo/.wdm/drivers/chromedriver/mac64/96.0.4664.45/chromedriver] found in cache\n"
     ]
    },
    {
     "name": "stdout",
     "output_type": "stream",
     "text": [
      "llego a los huespedes\n",
      "llego a las características\n",
      "llego a los precios\n",
      "llego a los usos\n"
     ]
    },
    {
     "name": "stderr",
     "output_type": "stream",
     "text": [
      "\n",
      "\n",
      "====== WebDriver manager ======\n"
     ]
    },
    {
     "name": "stdout",
     "output_type": "stream",
     "text": [
      "154\n"
     ]
    },
    {
     "name": "stderr",
     "output_type": "stream",
     "text": [
      "Current google-chrome version is 96.0.4664\n",
      "Get LATEST chromedriver version for 96.0.4664 google-chrome\n",
      "Driver [/Users/franciscovispo/.wdm/drivers/chromedriver/mac64/96.0.4664.45/chromedriver] found in cache\n"
     ]
    },
    {
     "name": "stdout",
     "output_type": "stream",
     "text": [
      "llego a los huespedes\n",
      "llego a las características\n",
      "llego a los precios\n",
      "llego a los usos\n"
     ]
    },
    {
     "name": "stderr",
     "output_type": "stream",
     "text": [
      "\n",
      "\n",
      "====== WebDriver manager ======\n",
      "Current google-chrome version is 96.0.4664\n",
      "Get LATEST chromedriver version for 96.0.4664 google-chrome\n"
     ]
    },
    {
     "name": "stdout",
     "output_type": "stream",
     "text": [
      "155\n"
     ]
    },
    {
     "name": "stderr",
     "output_type": "stream",
     "text": [
      "Driver [/Users/franciscovispo/.wdm/drivers/chromedriver/mac64/96.0.4664.45/chromedriver] found in cache\n"
     ]
    },
    {
     "name": "stdout",
     "output_type": "stream",
     "text": [
      "llego a los huespedes\n",
      "llego a las características\n",
      "llego a los precios\n",
      "llego a los usos\n"
     ]
    },
    {
     "name": "stderr",
     "output_type": "stream",
     "text": [
      "\n",
      "\n",
      "====== WebDriver manager ======\n"
     ]
    },
    {
     "name": "stdout",
     "output_type": "stream",
     "text": [
      "156\n"
     ]
    },
    {
     "name": "stderr",
     "output_type": "stream",
     "text": [
      "Current google-chrome version is 96.0.4664\n",
      "Get LATEST chromedriver version for 96.0.4664 google-chrome\n",
      "Driver [/Users/franciscovispo/.wdm/drivers/chromedriver/mac64/96.0.4664.45/chromedriver] found in cache\n"
     ]
    },
    {
     "name": "stdout",
     "output_type": "stream",
     "text": [
      "llego a los huespedes\n",
      "llego a las características\n",
      "llego a los precios\n",
      "llego a los usos\n"
     ]
    },
    {
     "name": "stderr",
     "output_type": "stream",
     "text": [
      "\n",
      "\n",
      "====== WebDriver manager ======\n"
     ]
    },
    {
     "name": "stdout",
     "output_type": "stream",
     "text": [
      "157\n"
     ]
    },
    {
     "name": "stderr",
     "output_type": "stream",
     "text": [
      "Current google-chrome version is 96.0.4664\n",
      "Get LATEST chromedriver version for 96.0.4664 google-chrome\n",
      "Driver [/Users/franciscovispo/.wdm/drivers/chromedriver/mac64/96.0.4664.45/chromedriver] found in cache\n"
     ]
    },
    {
     "name": "stdout",
     "output_type": "stream",
     "text": [
      "llego a los huespedes\n",
      "llego a las características\n",
      "llego a los precios\n",
      "llego a los usos\n"
     ]
    },
    {
     "name": "stderr",
     "output_type": "stream",
     "text": [
      "\n",
      "\n",
      "====== WebDriver manager ======\n",
      "Current google-chrome version is 96.0.4664\n",
      "Get LATEST chromedriver version for 96.0.4664 google-chrome\n"
     ]
    },
    {
     "name": "stdout",
     "output_type": "stream",
     "text": [
      "158\n"
     ]
    },
    {
     "name": "stderr",
     "output_type": "stream",
     "text": [
      "Driver [/Users/franciscovispo/.wdm/drivers/chromedriver/mac64/96.0.4664.45/chromedriver] found in cache\n"
     ]
    },
    {
     "name": "stdout",
     "output_type": "stream",
     "text": [
      "llego a los huespedes\n",
      "llego a las características\n",
      "llego a los precios\n",
      "llego a los usos\n"
     ]
    },
    {
     "name": "stderr",
     "output_type": "stream",
     "text": [
      "\n",
      "\n",
      "====== WebDriver manager ======\n"
     ]
    },
    {
     "name": "stdout",
     "output_type": "stream",
     "text": [
      "159\n"
     ]
    },
    {
     "name": "stderr",
     "output_type": "stream",
     "text": [
      "Current google-chrome version is 96.0.4664\n",
      "Get LATEST chromedriver version for 96.0.4664 google-chrome\n",
      "Driver [/Users/franciscovispo/.wdm/drivers/chromedriver/mac64/96.0.4664.45/chromedriver] found in cache\n"
     ]
    },
    {
     "name": "stdout",
     "output_type": "stream",
     "text": [
      "llego a los huespedes\n",
      "llego a las características\n",
      "llego a los precios\n",
      "llego a los usos\n"
     ]
    },
    {
     "name": "stderr",
     "output_type": "stream",
     "text": [
      "\n",
      "\n",
      "====== WebDriver manager ======\n"
     ]
    },
    {
     "name": "stdout",
     "output_type": "stream",
     "text": [
      "160\n"
     ]
    },
    {
     "name": "stderr",
     "output_type": "stream",
     "text": [
      "Current google-chrome version is 96.0.4664\n",
      "Get LATEST chromedriver version for 96.0.4664 google-chrome\n",
      "Driver [/Users/franciscovispo/.wdm/drivers/chromedriver/mac64/96.0.4664.45/chromedriver] found in cache\n"
     ]
    },
    {
     "name": "stdout",
     "output_type": "stream",
     "text": [
      "llego a los huespedes\n",
      "llego a las características\n",
      "llego a los precios\n",
      "llego a los usos\n"
     ]
    },
    {
     "name": "stderr",
     "output_type": "stream",
     "text": [
      "\n",
      "\n",
      "====== WebDriver manager ======\n",
      "Current google-chrome version is 96.0.4664\n",
      "Get LATEST chromedriver version for 96.0.4664 google-chrome\n"
     ]
    },
    {
     "name": "stdout",
     "output_type": "stream",
     "text": [
      "161\n"
     ]
    },
    {
     "name": "stderr",
     "output_type": "stream",
     "text": [
      "Driver [/Users/franciscovispo/.wdm/drivers/chromedriver/mac64/96.0.4664.45/chromedriver] found in cache\n"
     ]
    },
    {
     "name": "stdout",
     "output_type": "stream",
     "text": [
      "llego a los huespedes\n",
      "llego a las características\n",
      "llego a los precios\n",
      "llego a los usos\n"
     ]
    },
    {
     "name": "stderr",
     "output_type": "stream",
     "text": [
      "\n",
      "\n",
      "====== WebDriver manager ======\n",
      "Current google-chrome version is 96.0.4664\n",
      "Get LATEST chromedriver version for 96.0.4664 google-chrome\n"
     ]
    },
    {
     "name": "stdout",
     "output_type": "stream",
     "text": [
      "162\n"
     ]
    },
    {
     "name": "stderr",
     "output_type": "stream",
     "text": [
      "Driver [/Users/franciscovispo/.wdm/drivers/chromedriver/mac64/96.0.4664.45/chromedriver] found in cache\n"
     ]
    },
    {
     "name": "stdout",
     "output_type": "stream",
     "text": [
      "llego a los huespedes\n",
      "llego a las características\n",
      "llego a los precios\n",
      "llego a los usos\n"
     ]
    },
    {
     "name": "stderr",
     "output_type": "stream",
     "text": [
      "\n",
      "\n",
      "====== WebDriver manager ======\n",
      "Current google-chrome version is 96.0.4664\n",
      "Get LATEST chromedriver version for 96.0.4664 google-chrome\n"
     ]
    },
    {
     "name": "stdout",
     "output_type": "stream",
     "text": [
      "163\n"
     ]
    },
    {
     "name": "stderr",
     "output_type": "stream",
     "text": [
      "Driver [/Users/franciscovispo/.wdm/drivers/chromedriver/mac64/96.0.4664.45/chromedriver] found in cache\n"
     ]
    },
    {
     "name": "stdout",
     "output_type": "stream",
     "text": [
      "llego a los huespedes\n",
      "llego a las características\n",
      "llego a los precios\n",
      "llego a los usos\n"
     ]
    },
    {
     "name": "stderr",
     "output_type": "stream",
     "text": [
      "\n",
      "\n",
      "====== WebDriver manager ======\n",
      "Current google-chrome version is 96.0.4664\n",
      "Get LATEST chromedriver version for 96.0.4664 google-chrome\n"
     ]
    },
    {
     "name": "stdout",
     "output_type": "stream",
     "text": [
      "164\n"
     ]
    },
    {
     "name": "stderr",
     "output_type": "stream",
     "text": [
      "Driver [/Users/franciscovispo/.wdm/drivers/chromedriver/mac64/96.0.4664.45/chromedriver] found in cache\n"
     ]
    },
    {
     "name": "stdout",
     "output_type": "stream",
     "text": [
      "llego a los huespedes\n",
      "llego a las características\n",
      "llego a los precios\n",
      "llego a los usos\n"
     ]
    },
    {
     "name": "stderr",
     "output_type": "stream",
     "text": [
      "\n",
      "\n",
      "====== WebDriver manager ======\n",
      "Current google-chrome version is 96.0.4664\n",
      "Get LATEST chromedriver version for 96.0.4664 google-chrome\n"
     ]
    },
    {
     "name": "stdout",
     "output_type": "stream",
     "text": [
      "165\n"
     ]
    },
    {
     "name": "stderr",
     "output_type": "stream",
     "text": [
      "Driver [/Users/franciscovispo/.wdm/drivers/chromedriver/mac64/96.0.4664.45/chromedriver] found in cache\n"
     ]
    },
    {
     "name": "stdout",
     "output_type": "stream",
     "text": [
      "llego a los huespedes\n",
      "llego a las características\n",
      "llego a los precios\n",
      "llego a los usos\n"
     ]
    },
    {
     "name": "stderr",
     "output_type": "stream",
     "text": [
      "\n",
      "\n",
      "====== WebDriver manager ======\n"
     ]
    },
    {
     "name": "stdout",
     "output_type": "stream",
     "text": [
      "166\n"
     ]
    },
    {
     "name": "stderr",
     "output_type": "stream",
     "text": [
      "Current google-chrome version is 96.0.4664\n",
      "Get LATEST chromedriver version for 96.0.4664 google-chrome\n",
      "Driver [/Users/franciscovispo/.wdm/drivers/chromedriver/mac64/96.0.4664.45/chromedriver] found in cache\n"
     ]
    },
    {
     "name": "stdout",
     "output_type": "stream",
     "text": [
      "llego a los huespedes\n",
      "llego a las características\n",
      "llego a los precios\n",
      "llego a los usos\n"
     ]
    },
    {
     "name": "stderr",
     "output_type": "stream",
     "text": [
      "\n",
      "\n",
      "====== WebDriver manager ======\n"
     ]
    },
    {
     "name": "stdout",
     "output_type": "stream",
     "text": [
      "167\n"
     ]
    },
    {
     "name": "stderr",
     "output_type": "stream",
     "text": [
      "Current google-chrome version is 96.0.4664\n",
      "Get LATEST chromedriver version for 96.0.4664 google-chrome\n",
      "Driver [/Users/franciscovispo/.wdm/drivers/chromedriver/mac64/96.0.4664.45/chromedriver] found in cache\n"
     ]
    },
    {
     "name": "stdout",
     "output_type": "stream",
     "text": [
      "llego a los huespedes\n",
      "llego a las características\n",
      "llego a los precios\n",
      "llego a los usos\n"
     ]
    },
    {
     "name": "stderr",
     "output_type": "stream",
     "text": [
      "\n",
      "\n",
      "====== WebDriver manager ======\n"
     ]
    },
    {
     "name": "stdout",
     "output_type": "stream",
     "text": [
      "168\n"
     ]
    },
    {
     "name": "stderr",
     "output_type": "stream",
     "text": [
      "Current google-chrome version is 96.0.4664\n",
      "Get LATEST chromedriver version for 96.0.4664 google-chrome\n",
      "Driver [/Users/franciscovispo/.wdm/drivers/chromedriver/mac64/96.0.4664.45/chromedriver] found in cache\n"
     ]
    },
    {
     "name": "stdout",
     "output_type": "stream",
     "text": [
      "llego a los huespedes\n",
      "llego a las características\n",
      "llego a los precios\n",
      "llego a los usos\n"
     ]
    },
    {
     "name": "stderr",
     "output_type": "stream",
     "text": [
      "\n",
      "\n",
      "====== WebDriver manager ======\n",
      "Current google-chrome version is 96.0.4664\n",
      "Get LATEST chromedriver version for 96.0.4664 google-chrome\n"
     ]
    },
    {
     "name": "stdout",
     "output_type": "stream",
     "text": [
      "169\n"
     ]
    },
    {
     "name": "stderr",
     "output_type": "stream",
     "text": [
      "Driver [/Users/franciscovispo/.wdm/drivers/chromedriver/mac64/96.0.4664.45/chromedriver] found in cache\n"
     ]
    },
    {
     "name": "stdout",
     "output_type": "stream",
     "text": [
      "llego a los huespedes\n",
      "llego a las características\n",
      "llego a los precios\n",
      "llego a los usos\n"
     ]
    },
    {
     "name": "stderr",
     "output_type": "stream",
     "text": [
      "\n",
      "\n",
      "====== WebDriver manager ======\n"
     ]
    },
    {
     "name": "stdout",
     "output_type": "stream",
     "text": [
      "170\n"
     ]
    },
    {
     "name": "stderr",
     "output_type": "stream",
     "text": [
      "Current google-chrome version is 96.0.4664\n",
      "Get LATEST chromedriver version for 96.0.4664 google-chrome\n",
      "Driver [/Users/franciscovispo/.wdm/drivers/chromedriver/mac64/96.0.4664.45/chromedriver] found in cache\n"
     ]
    },
    {
     "name": "stdout",
     "output_type": "stream",
     "text": [
      "llego a los huespedes\n",
      "llego a las características\n",
      "llego a los precios\n",
      "llego a los usos\n"
     ]
    },
    {
     "name": "stderr",
     "output_type": "stream",
     "text": [
      "\n",
      "\n",
      "====== WebDriver manager ======\n"
     ]
    },
    {
     "name": "stdout",
     "output_type": "stream",
     "text": [
      "171\n"
     ]
    },
    {
     "name": "stderr",
     "output_type": "stream",
     "text": [
      "Current google-chrome version is 96.0.4664\n",
      "Get LATEST chromedriver version for 96.0.4664 google-chrome\n",
      "Driver [/Users/franciscovispo/.wdm/drivers/chromedriver/mac64/96.0.4664.45/chromedriver] found in cache\n"
     ]
    },
    {
     "name": "stdout",
     "output_type": "stream",
     "text": [
      "llego a los huespedes\n",
      "llego a las características\n",
      "llego a los precios\n",
      "llego a los usos\n"
     ]
    },
    {
     "name": "stderr",
     "output_type": "stream",
     "text": [
      "\n",
      "\n",
      "====== WebDriver manager ======\n"
     ]
    },
    {
     "name": "stdout",
     "output_type": "stream",
     "text": [
      "172\n"
     ]
    },
    {
     "name": "stderr",
     "output_type": "stream",
     "text": [
      "Current google-chrome version is 96.0.4664\n",
      "Get LATEST chromedriver version for 96.0.4664 google-chrome\n",
      "Driver [/Users/franciscovispo/.wdm/drivers/chromedriver/mac64/96.0.4664.45/chromedriver] found in cache\n"
     ]
    },
    {
     "name": "stdout",
     "output_type": "stream",
     "text": [
      "llego a los huespedes\n",
      "llego a las características\n",
      "llego a los precios\n",
      "llego a los usos\n"
     ]
    },
    {
     "name": "stderr",
     "output_type": "stream",
     "text": [
      "\n",
      "\n",
      "====== WebDriver manager ======\n",
      "Current google-chrome version is 96.0.4664\n",
      "Get LATEST chromedriver version for 96.0.4664 google-chrome\n"
     ]
    },
    {
     "name": "stdout",
     "output_type": "stream",
     "text": [
      "173\n"
     ]
    },
    {
     "name": "stderr",
     "output_type": "stream",
     "text": [
      "Driver [/Users/franciscovispo/.wdm/drivers/chromedriver/mac64/96.0.4664.45/chromedriver] found in cache\n"
     ]
    },
    {
     "name": "stdout",
     "output_type": "stream",
     "text": [
      "llego a los huespedes\n",
      "llego a las características\n",
      "llego a los precios\n",
      "llego a los usos\n"
     ]
    },
    {
     "name": "stderr",
     "output_type": "stream",
     "text": [
      "\n",
      "\n",
      "====== WebDriver manager ======\n",
      "Current google-chrome version is 96.0.4664\n",
      "Get LATEST chromedriver version for 96.0.4664 google-chrome\n"
     ]
    },
    {
     "name": "stdout",
     "output_type": "stream",
     "text": [
      "174\n"
     ]
    },
    {
     "name": "stderr",
     "output_type": "stream",
     "text": [
      "Driver [/Users/franciscovispo/.wdm/drivers/chromedriver/mac64/96.0.4664.45/chromedriver] found in cache\n"
     ]
    },
    {
     "name": "stdout",
     "output_type": "stream",
     "text": [
      "llego a los huespedes\n",
      "llego a las características\n",
      "llego a los precios\n",
      "llego a los usos\n"
     ]
    },
    {
     "name": "stderr",
     "output_type": "stream",
     "text": [
      "\n",
      "\n",
      "====== WebDriver manager ======\n"
     ]
    },
    {
     "name": "stdout",
     "output_type": "stream",
     "text": [
      "175\n"
     ]
    },
    {
     "name": "stderr",
     "output_type": "stream",
     "text": [
      "Current google-chrome version is 96.0.4664\n",
      "Get LATEST chromedriver version for 96.0.4664 google-chrome\n",
      "Driver [/Users/franciscovispo/.wdm/drivers/chromedriver/mac64/96.0.4664.45/chromedriver] found in cache\n"
     ]
    },
    {
     "name": "stdout",
     "output_type": "stream",
     "text": [
      "llego a los huespedes\n",
      "llego a las características\n",
      "llego a los precios\n",
      "llego a los usos\n"
     ]
    },
    {
     "name": "stderr",
     "output_type": "stream",
     "text": [
      "\n",
      "\n",
      "====== WebDriver manager ======\n",
      "Current google-chrome version is 96.0.4664\n",
      "Get LATEST chromedriver version for 96.0.4664 google-chrome\n"
     ]
    },
    {
     "name": "stdout",
     "output_type": "stream",
     "text": [
      "176\n"
     ]
    },
    {
     "name": "stderr",
     "output_type": "stream",
     "text": [
      "Driver [/Users/franciscovispo/.wdm/drivers/chromedriver/mac64/96.0.4664.45/chromedriver] found in cache\n"
     ]
    },
    {
     "name": "stdout",
     "output_type": "stream",
     "text": [
      "llego a los huespedes\n",
      "llego a las características\n",
      "llego a los precios\n",
      "llego a los usos\n"
     ]
    },
    {
     "name": "stderr",
     "output_type": "stream",
     "text": [
      "\n",
      "\n",
      "====== WebDriver manager ======\n",
      "Current google-chrome version is 96.0.4664\n",
      "Get LATEST chromedriver version for 96.0.4664 google-chrome\n"
     ]
    },
    {
     "name": "stdout",
     "output_type": "stream",
     "text": [
      "177\n"
     ]
    },
    {
     "name": "stderr",
     "output_type": "stream",
     "text": [
      "Driver [/Users/franciscovispo/.wdm/drivers/chromedriver/mac64/96.0.4664.45/chromedriver] found in cache\n"
     ]
    },
    {
     "name": "stdout",
     "output_type": "stream",
     "text": [
      "llego a los huespedes\n",
      "llego a las características\n",
      "llego a los precios\n",
      "llego a los usos\n"
     ]
    },
    {
     "name": "stderr",
     "output_type": "stream",
     "text": [
      "\n",
      "\n",
      "====== WebDriver manager ======\n",
      "Current google-chrome version is 96.0.4664\n",
      "Get LATEST chromedriver version for 96.0.4664 google-chrome\n"
     ]
    },
    {
     "name": "stdout",
     "output_type": "stream",
     "text": [
      "178\n"
     ]
    },
    {
     "name": "stderr",
     "output_type": "stream",
     "text": [
      "Driver [/Users/franciscovispo/.wdm/drivers/chromedriver/mac64/96.0.4664.45/chromedriver] found in cache\n"
     ]
    },
    {
     "name": "stdout",
     "output_type": "stream",
     "text": [
      "llego a los huespedes\n",
      "llego a las características\n",
      "llego a los precios\n",
      "llego a los usos\n"
     ]
    },
    {
     "name": "stderr",
     "output_type": "stream",
     "text": [
      "\n",
      "\n",
      "====== WebDriver manager ======\n"
     ]
    },
    {
     "name": "stdout",
     "output_type": "stream",
     "text": [
      "179\n"
     ]
    },
    {
     "name": "stderr",
     "output_type": "stream",
     "text": [
      "Current google-chrome version is 96.0.4664\n",
      "Get LATEST chromedriver version for 96.0.4664 google-chrome\n",
      "Driver [/Users/franciscovispo/.wdm/drivers/chromedriver/mac64/96.0.4664.45/chromedriver] found in cache\n"
     ]
    },
    {
     "name": "stdout",
     "output_type": "stream",
     "text": [
      "llego a los huespedes\n",
      "llego a las características\n",
      "llego a los precios\n",
      "llego a los usos\n"
     ]
    },
    {
     "name": "stderr",
     "output_type": "stream",
     "text": [
      "\n",
      "\n",
      "====== WebDriver manager ======\n",
      "Current google-chrome version is 96.0.4664\n",
      "Get LATEST chromedriver version for 96.0.4664 google-chrome\n"
     ]
    },
    {
     "name": "stdout",
     "output_type": "stream",
     "text": [
      "180\n"
     ]
    },
    {
     "name": "stderr",
     "output_type": "stream",
     "text": [
      "Driver [/Users/franciscovispo/.wdm/drivers/chromedriver/mac64/96.0.4664.45/chromedriver] found in cache\n"
     ]
    },
    {
     "name": "stdout",
     "output_type": "stream",
     "text": [
      "llego a los huespedes\n",
      "llego a las características\n",
      "llego a los precios\n",
      "llego a los usos\n"
     ]
    },
    {
     "name": "stderr",
     "output_type": "stream",
     "text": [
      "\n",
      "\n",
      "====== WebDriver manager ======\n",
      "Current google-chrome version is 96.0.4664\n",
      "Get LATEST chromedriver version for 96.0.4664 google-chrome\n"
     ]
    },
    {
     "name": "stdout",
     "output_type": "stream",
     "text": [
      "181\n"
     ]
    },
    {
     "name": "stderr",
     "output_type": "stream",
     "text": [
      "Driver [/Users/franciscovispo/.wdm/drivers/chromedriver/mac64/96.0.4664.45/chromedriver] found in cache\n"
     ]
    },
    {
     "name": "stdout",
     "output_type": "stream",
     "text": [
      "llego a los huespedes\n",
      "llego a las características\n",
      "llego a los precios\n",
      "llego a los usos\n"
     ]
    },
    {
     "name": "stderr",
     "output_type": "stream",
     "text": [
      "\n",
      "\n",
      "====== WebDriver manager ======\n",
      "Current google-chrome version is 96.0.4664\n",
      "Get LATEST chromedriver version for 96.0.4664 google-chrome\n"
     ]
    },
    {
     "name": "stdout",
     "output_type": "stream",
     "text": [
      "182\n"
     ]
    },
    {
     "name": "stderr",
     "output_type": "stream",
     "text": [
      "Driver [/Users/franciscovispo/.wdm/drivers/chromedriver/mac64/96.0.4664.45/chromedriver] found in cache\n"
     ]
    },
    {
     "name": "stdout",
     "output_type": "stream",
     "text": [
      "llego a los huespedes\n",
      "llego a las características\n",
      "llego a los precios\n",
      "llego a los usos\n"
     ]
    },
    {
     "name": "stderr",
     "output_type": "stream",
     "text": [
      "\n",
      "\n",
      "====== WebDriver manager ======\n",
      "Current google-chrome version is 96.0.4664\n",
      "Get LATEST chromedriver version for 96.0.4664 google-chrome\n"
     ]
    },
    {
     "name": "stdout",
     "output_type": "stream",
     "text": [
      "183\n"
     ]
    },
    {
     "name": "stderr",
     "output_type": "stream",
     "text": [
      "Driver [/Users/franciscovispo/.wdm/drivers/chromedriver/mac64/96.0.4664.45/chromedriver] found in cache\n"
     ]
    },
    {
     "name": "stdout",
     "output_type": "stream",
     "text": [
      "llego a los huespedes\n",
      "llego a las características\n",
      "llego a los precios\n",
      "llego a los usos\n"
     ]
    },
    {
     "name": "stderr",
     "output_type": "stream",
     "text": [
      "\n",
      "\n",
      "====== WebDriver manager ======\n"
     ]
    },
    {
     "name": "stdout",
     "output_type": "stream",
     "text": [
      "184\n"
     ]
    },
    {
     "name": "stderr",
     "output_type": "stream",
     "text": [
      "Current google-chrome version is 96.0.4664\n",
      "Get LATEST chromedriver version for 96.0.4664 google-chrome\n",
      "Driver [/Users/franciscovispo/.wdm/drivers/chromedriver/mac64/96.0.4664.45/chromedriver] found in cache\n"
     ]
    },
    {
     "name": "stdout",
     "output_type": "stream",
     "text": [
      "llego a los huespedes\n",
      "llego a las características\n",
      "llego a los precios\n",
      "llego a los usos\n"
     ]
    },
    {
     "name": "stderr",
     "output_type": "stream",
     "text": [
      "\n",
      "\n",
      "====== WebDriver manager ======\n",
      "Current google-chrome version is 96.0.4664\n",
      "Get LATEST chromedriver version for 96.0.4664 google-chrome\n"
     ]
    },
    {
     "name": "stdout",
     "output_type": "stream",
     "text": [
      "185\n"
     ]
    },
    {
     "name": "stderr",
     "output_type": "stream",
     "text": [
      "Driver [/Users/franciscovispo/.wdm/drivers/chromedriver/mac64/96.0.4664.45/chromedriver] found in cache\n"
     ]
    },
    {
     "name": "stdout",
     "output_type": "stream",
     "text": [
      "llego a los huespedes\n",
      "llego a las características\n",
      "llego a los precios\n",
      "llego a los usos\n"
     ]
    },
    {
     "name": "stderr",
     "output_type": "stream",
     "text": [
      "\n",
      "\n",
      "====== WebDriver manager ======\n",
      "Current google-chrome version is 96.0.4664\n",
      "Get LATEST chromedriver version for 96.0.4664 google-chrome\n"
     ]
    },
    {
     "name": "stdout",
     "output_type": "stream",
     "text": [
      "186\n"
     ]
    },
    {
     "name": "stderr",
     "output_type": "stream",
     "text": [
      "Driver [/Users/franciscovispo/.wdm/drivers/chromedriver/mac64/96.0.4664.45/chromedriver] found in cache\n"
     ]
    },
    {
     "name": "stdout",
     "output_type": "stream",
     "text": [
      "llego a los huespedes\n",
      "llego a las características\n",
      "llego a los precios\n",
      "llego a los usos\n"
     ]
    },
    {
     "name": "stderr",
     "output_type": "stream",
     "text": [
      "\n",
      "\n",
      "====== WebDriver manager ======\n"
     ]
    },
    {
     "name": "stdout",
     "output_type": "stream",
     "text": [
      "187\n"
     ]
    },
    {
     "name": "stderr",
     "output_type": "stream",
     "text": [
      "Current google-chrome version is 96.0.4664\n",
      "Get LATEST chromedriver version for 96.0.4664 google-chrome\n",
      "Driver [/Users/franciscovispo/.wdm/drivers/chromedriver/mac64/96.0.4664.45/chromedriver] found in cache\n"
     ]
    },
    {
     "name": "stdout",
     "output_type": "stream",
     "text": [
      "llego a los huespedes\n",
      "llego a las características\n",
      "llego a los precios\n",
      "llego a los usos\n"
     ]
    },
    {
     "name": "stderr",
     "output_type": "stream",
     "text": [
      "\n",
      "\n",
      "====== WebDriver manager ======\n",
      "Current google-chrome version is 96.0.4664\n",
      "Get LATEST chromedriver version for 96.0.4664 google-chrome\n"
     ]
    },
    {
     "name": "stdout",
     "output_type": "stream",
     "text": [
      "188\n"
     ]
    },
    {
     "name": "stderr",
     "output_type": "stream",
     "text": [
      "Driver [/Users/franciscovispo/.wdm/drivers/chromedriver/mac64/96.0.4664.45/chromedriver] found in cache\n"
     ]
    },
    {
     "name": "stdout",
     "output_type": "stream",
     "text": [
      "llego a los huespedes\n",
      "llego a las características\n",
      "llego a los precios\n",
      "llego a los usos\n"
     ]
    },
    {
     "name": "stderr",
     "output_type": "stream",
     "text": [
      "\n",
      "\n",
      "====== WebDriver manager ======\n",
      "Current google-chrome version is 96.0.4664\n",
      "Get LATEST chromedriver version for 96.0.4664 google-chrome\n"
     ]
    },
    {
     "name": "stdout",
     "output_type": "stream",
     "text": [
      "189\n"
     ]
    },
    {
     "name": "stderr",
     "output_type": "stream",
     "text": [
      "Driver [/Users/franciscovispo/.wdm/drivers/chromedriver/mac64/96.0.4664.45/chromedriver] found in cache\n"
     ]
    },
    {
     "name": "stdout",
     "output_type": "stream",
     "text": [
      "llego a los huespedes\n",
      "llego a las características\n",
      "llego a los precios\n",
      "llego a los usos\n"
     ]
    },
    {
     "name": "stderr",
     "output_type": "stream",
     "text": [
      "\n",
      "\n",
      "====== WebDriver manager ======\n",
      "Current google-chrome version is 96.0.4664\n",
      "Get LATEST chromedriver version for 96.0.4664 google-chrome\n"
     ]
    },
    {
     "name": "stdout",
     "output_type": "stream",
     "text": [
      "190\n"
     ]
    },
    {
     "name": "stderr",
     "output_type": "stream",
     "text": [
      "Driver [/Users/franciscovispo/.wdm/drivers/chromedriver/mac64/96.0.4664.45/chromedriver] found in cache\n"
     ]
    },
    {
     "name": "stdout",
     "output_type": "stream",
     "text": [
      "llego a los huespedes\n",
      "llego a las características\n",
      "llego a los precios\n",
      "llego a los usos\n"
     ]
    },
    {
     "name": "stderr",
     "output_type": "stream",
     "text": [
      "\n",
      "\n",
      "====== WebDriver manager ======\n"
     ]
    },
    {
     "name": "stdout",
     "output_type": "stream",
     "text": [
      "191\n"
     ]
    },
    {
     "name": "stderr",
     "output_type": "stream",
     "text": [
      "Current google-chrome version is 96.0.4664\n",
      "Get LATEST chromedriver version for 96.0.4664 google-chrome\n",
      "Driver [/Users/franciscovispo/.wdm/drivers/chromedriver/mac64/96.0.4664.45/chromedriver] found in cache\n"
     ]
    },
    {
     "name": "stdout",
     "output_type": "stream",
     "text": [
      "llego a los huespedes\n",
      "llego a las características\n",
      "llego a los precios\n",
      "llego a los usos\n"
     ]
    },
    {
     "name": "stderr",
     "output_type": "stream",
     "text": [
      "\n",
      "\n",
      "====== WebDriver manager ======\n"
     ]
    },
    {
     "name": "stdout",
     "output_type": "stream",
     "text": [
      "192\n"
     ]
    },
    {
     "name": "stderr",
     "output_type": "stream",
     "text": [
      "Current google-chrome version is 96.0.4664\n",
      "Get LATEST chromedriver version for 96.0.4664 google-chrome\n",
      "Driver [/Users/franciscovispo/.wdm/drivers/chromedriver/mac64/96.0.4664.45/chromedriver] found in cache\n"
     ]
    },
    {
     "name": "stdout",
     "output_type": "stream",
     "text": [
      "llego a los huespedes\n",
      "llego a las características\n",
      "llego a los precios\n",
      "llego a los usos\n"
     ]
    },
    {
     "name": "stderr",
     "output_type": "stream",
     "text": [
      "\n",
      "\n",
      "====== WebDriver manager ======\n"
     ]
    },
    {
     "name": "stdout",
     "output_type": "stream",
     "text": [
      "193\n"
     ]
    },
    {
     "name": "stderr",
     "output_type": "stream",
     "text": [
      "Current google-chrome version is 96.0.4664\n",
      "Get LATEST chromedriver version for 96.0.4664 google-chrome\n",
      "Driver [/Users/franciscovispo/.wdm/drivers/chromedriver/mac64/96.0.4664.45/chromedriver] found in cache\n"
     ]
    },
    {
     "name": "stdout",
     "output_type": "stream",
     "text": [
      "llego a los huespedes\n",
      "llego a las características\n",
      "llego a los precios\n",
      "llego a los usos\n"
     ]
    },
    {
     "name": "stderr",
     "output_type": "stream",
     "text": [
      "\n",
      "\n",
      "====== WebDriver manager ======\n"
     ]
    },
    {
     "name": "stdout",
     "output_type": "stream",
     "text": [
      "194\n"
     ]
    },
    {
     "name": "stderr",
     "output_type": "stream",
     "text": [
      "Current google-chrome version is 96.0.4664\n",
      "Get LATEST chromedriver version for 96.0.4664 google-chrome\n",
      "Driver [/Users/franciscovispo/.wdm/drivers/chromedriver/mac64/96.0.4664.45/chromedriver] found in cache\n"
     ]
    },
    {
     "name": "stdout",
     "output_type": "stream",
     "text": [
      "llego a los huespedes\n",
      "llego a las características\n",
      "llego a los precios\n",
      "llego a los usos\n"
     ]
    },
    {
     "name": "stderr",
     "output_type": "stream",
     "text": [
      "\n",
      "\n",
      "====== WebDriver manager ======\n",
      "Current google-chrome version is 96.0.4664\n"
     ]
    },
    {
     "name": "stdout",
     "output_type": "stream",
     "text": [
      "195\n"
     ]
    },
    {
     "name": "stderr",
     "output_type": "stream",
     "text": [
      "Get LATEST chromedriver version for 96.0.4664 google-chrome\n",
      "Driver [/Users/franciscovispo/.wdm/drivers/chromedriver/mac64/96.0.4664.45/chromedriver] found in cache\n"
     ]
    },
    {
     "name": "stdout",
     "output_type": "stream",
     "text": [
      "llego a los huespedes\n",
      "llego a las características\n",
      "llego a los precios\n",
      "llego a los usos\n"
     ]
    },
    {
     "name": "stderr",
     "output_type": "stream",
     "text": [
      "\n",
      "\n",
      "====== WebDriver manager ======\n"
     ]
    },
    {
     "name": "stdout",
     "output_type": "stream",
     "text": [
      "196\n"
     ]
    },
    {
     "name": "stderr",
     "output_type": "stream",
     "text": [
      "Current google-chrome version is 96.0.4664\n",
      "Get LATEST chromedriver version for 96.0.4664 google-chrome\n",
      "Driver [/Users/franciscovispo/.wdm/drivers/chromedriver/mac64/96.0.4664.45/chromedriver] found in cache\n"
     ]
    },
    {
     "name": "stdout",
     "output_type": "stream",
     "text": [
      "llego a los huespedes\n",
      "llego a las características\n",
      "llego a los precios\n",
      "llego a los usos\n"
     ]
    },
    {
     "name": "stderr",
     "output_type": "stream",
     "text": [
      "\n",
      "\n",
      "====== WebDriver manager ======\n",
      "Current google-chrome version is 96.0.4664\n",
      "Get LATEST chromedriver version for 96.0.4664 google-chrome\n"
     ]
    },
    {
     "name": "stdout",
     "output_type": "stream",
     "text": [
      "197\n"
     ]
    },
    {
     "name": "stderr",
     "output_type": "stream",
     "text": [
      "Driver [/Users/franciscovispo/.wdm/drivers/chromedriver/mac64/96.0.4664.45/chromedriver] found in cache\n"
     ]
    },
    {
     "name": "stdout",
     "output_type": "stream",
     "text": [
      "llego a los huespedes\n",
      "llego a las características\n",
      "llego a los precios\n",
      "llego a los usos\n"
     ]
    },
    {
     "name": "stderr",
     "output_type": "stream",
     "text": [
      "\n",
      "\n",
      "====== WebDriver manager ======\n",
      "Current google-chrome version is 96.0.4664\n",
      "Get LATEST chromedriver version for 96.0.4664 google-chrome\n"
     ]
    },
    {
     "name": "stdout",
     "output_type": "stream",
     "text": [
      "198\n"
     ]
    },
    {
     "name": "stderr",
     "output_type": "stream",
     "text": [
      "Driver [/Users/franciscovispo/.wdm/drivers/chromedriver/mac64/96.0.4664.45/chromedriver] found in cache\n"
     ]
    },
    {
     "name": "stdout",
     "output_type": "stream",
     "text": [
      "llego a los huespedes\n",
      "llego a las características\n",
      "llego a los precios\n",
      "llego a los usos\n"
     ]
    },
    {
     "name": "stderr",
     "output_type": "stream",
     "text": [
      "\n",
      "\n",
      "====== WebDriver manager ======\n",
      "Current google-chrome version is 96.0.4664\n",
      "Get LATEST chromedriver version for 96.0.4664 google-chrome\n"
     ]
    },
    {
     "name": "stdout",
     "output_type": "stream",
     "text": [
      "199\n"
     ]
    },
    {
     "name": "stderr",
     "output_type": "stream",
     "text": [
      "Driver [/Users/franciscovispo/.wdm/drivers/chromedriver/mac64/96.0.4664.45/chromedriver] found in cache\n"
     ]
    },
    {
     "name": "stdout",
     "output_type": "stream",
     "text": [
      "llego a los huespedes\n",
      "llego a las características\n",
      "llego a los precios\n",
      "llego a los usos\n"
     ]
    },
    {
     "name": "stderr",
     "output_type": "stream",
     "text": [
      "\n",
      "\n",
      "====== WebDriver manager ======\n",
      "Current google-chrome version is 96.0.4664\n",
      "Get LATEST chromedriver version for 96.0.4664 google-chrome\n"
     ]
    },
    {
     "name": "stdout",
     "output_type": "stream",
     "text": [
      "200\n"
     ]
    },
    {
     "name": "stderr",
     "output_type": "stream",
     "text": [
      "Driver [/Users/franciscovispo/.wdm/drivers/chromedriver/mac64/96.0.4664.45/chromedriver] found in cache\n"
     ]
    },
    {
     "name": "stdout",
     "output_type": "stream",
     "text": [
      "llego a los huespedes\n",
      "llego a las características\n",
      "llego a los precios\n",
      "llego a los usos\n"
     ]
    },
    {
     "name": "stderr",
     "output_type": "stream",
     "text": [
      "\n",
      "\n",
      "====== WebDriver manager ======\n",
      "Current google-chrome version is 96.0.4664\n",
      "Get LATEST chromedriver version for 96.0.4664 google-chrome\n"
     ]
    },
    {
     "name": "stdout",
     "output_type": "stream",
     "text": [
      "201\n"
     ]
    },
    {
     "name": "stderr",
     "output_type": "stream",
     "text": [
      "Driver [/Users/franciscovispo/.wdm/drivers/chromedriver/mac64/96.0.4664.45/chromedriver] found in cache\n"
     ]
    },
    {
     "name": "stdout",
     "output_type": "stream",
     "text": [
      "llego a los huespedes\n",
      "llego a las características\n",
      "llego a los precios\n",
      "llego a los usos\n"
     ]
    },
    {
     "name": "stderr",
     "output_type": "stream",
     "text": [
      "\n",
      "\n",
      "====== WebDriver manager ======\n"
     ]
    },
    {
     "name": "stdout",
     "output_type": "stream",
     "text": [
      "202\n"
     ]
    },
    {
     "name": "stderr",
     "output_type": "stream",
     "text": [
      "Current google-chrome version is 96.0.4664\n",
      "Get LATEST chromedriver version for 96.0.4664 google-chrome\n",
      "Driver [/Users/franciscovispo/.wdm/drivers/chromedriver/mac64/96.0.4664.45/chromedriver] found in cache\n"
     ]
    },
    {
     "name": "stdout",
     "output_type": "stream",
     "text": [
      "llego a los huespedes\n",
      "llego a las características\n",
      "llego a los precios\n",
      "llego a los usos\n"
     ]
    },
    {
     "name": "stderr",
     "output_type": "stream",
     "text": [
      "\n",
      "\n",
      "====== WebDriver manager ======\n",
      "Current google-chrome version is 96.0.4664\n",
      "Get LATEST chromedriver version for 96.0.4664 google-chrome\n"
     ]
    },
    {
     "name": "stdout",
     "output_type": "stream",
     "text": [
      "203\n"
     ]
    },
    {
     "name": "stderr",
     "output_type": "stream",
     "text": [
      "Driver [/Users/franciscovispo/.wdm/drivers/chromedriver/mac64/96.0.4664.45/chromedriver] found in cache\n"
     ]
    },
    {
     "name": "stdout",
     "output_type": "stream",
     "text": [
      "llego a los huespedes\n",
      "llego a las características\n",
      "llego a los precios\n",
      "llego a los usos\n"
     ]
    },
    {
     "name": "stderr",
     "output_type": "stream",
     "text": [
      "\n",
      "\n",
      "====== WebDriver manager ======\n"
     ]
    },
    {
     "name": "stdout",
     "output_type": "stream",
     "text": [
      "204\n"
     ]
    },
    {
     "name": "stderr",
     "output_type": "stream",
     "text": [
      "Current google-chrome version is 96.0.4664\n",
      "Get LATEST chromedriver version for 96.0.4664 google-chrome\n",
      "Driver [/Users/franciscovispo/.wdm/drivers/chromedriver/mac64/96.0.4664.45/chromedriver] found in cache\n"
     ]
    },
    {
     "name": "stdout",
     "output_type": "stream",
     "text": [
      "llego a los huespedes\n",
      "llego a las características\n",
      "llego a los precios\n",
      "llego a los usos\n"
     ]
    },
    {
     "name": "stderr",
     "output_type": "stream",
     "text": [
      "\n",
      "\n",
      "====== WebDriver manager ======\n"
     ]
    },
    {
     "name": "stdout",
     "output_type": "stream",
     "text": [
      "205\n"
     ]
    },
    {
     "name": "stderr",
     "output_type": "stream",
     "text": [
      "Current google-chrome version is 96.0.4664\n",
      "Get LATEST chromedriver version for 96.0.4664 google-chrome\n",
      "Driver [/Users/franciscovispo/.wdm/drivers/chromedriver/mac64/96.0.4664.45/chromedriver] found in cache\n"
     ]
    },
    {
     "name": "stdout",
     "output_type": "stream",
     "text": [
      "llego a los huespedes\n",
      "llego a las características\n",
      "llego a los precios\n",
      "llego a los usos\n"
     ]
    },
    {
     "name": "stderr",
     "output_type": "stream",
     "text": [
      "\n",
      "\n",
      "====== WebDriver manager ======\n"
     ]
    },
    {
     "name": "stdout",
     "output_type": "stream",
     "text": [
      "206\n"
     ]
    },
    {
     "name": "stderr",
     "output_type": "stream",
     "text": [
      "Current google-chrome version is 96.0.4664\n",
      "Get LATEST chromedriver version for 96.0.4664 google-chrome\n",
      "Driver [/Users/franciscovispo/.wdm/drivers/chromedriver/mac64/96.0.4664.45/chromedriver] found in cache\n"
     ]
    },
    {
     "name": "stdout",
     "output_type": "stream",
     "text": [
      "llego a los huespedes\n",
      "llego a las características\n",
      "llego a los precios\n",
      "llego a los usos\n"
     ]
    },
    {
     "name": "stderr",
     "output_type": "stream",
     "text": [
      "\n",
      "\n",
      "====== WebDriver manager ======\n",
      "Current google-chrome version is 96.0.4664\n",
      "Get LATEST chromedriver version for 96.0.4664 google-chrome\n"
     ]
    },
    {
     "name": "stdout",
     "output_type": "stream",
     "text": [
      "207\n"
     ]
    },
    {
     "name": "stderr",
     "output_type": "stream",
     "text": [
      "Driver [/Users/franciscovispo/.wdm/drivers/chromedriver/mac64/96.0.4664.45/chromedriver] found in cache\n"
     ]
    },
    {
     "name": "stdout",
     "output_type": "stream",
     "text": [
      "llego a los huespedes\n",
      "llego a las características\n",
      "llego a los precios\n",
      "llego a los usos\n"
     ]
    },
    {
     "name": "stderr",
     "output_type": "stream",
     "text": [
      "\n",
      "\n",
      "====== WebDriver manager ======\n"
     ]
    },
    {
     "name": "stdout",
     "output_type": "stream",
     "text": [
      "208\n"
     ]
    },
    {
     "name": "stderr",
     "output_type": "stream",
     "text": [
      "Current google-chrome version is 96.0.4664\n",
      "Get LATEST chromedriver version for 96.0.4664 google-chrome\n",
      "Driver [/Users/franciscovispo/.wdm/drivers/chromedriver/mac64/96.0.4664.45/chromedriver] found in cache\n"
     ]
    },
    {
     "name": "stdout",
     "output_type": "stream",
     "text": [
      "llego a los huespedes\n",
      "llego a las características\n",
      "llego a los precios\n",
      "llego a los usos\n"
     ]
    },
    {
     "name": "stderr",
     "output_type": "stream",
     "text": [
      "\n",
      "\n",
      "====== WebDriver manager ======\n",
      "Current google-chrome version is 96.0.4664\n",
      "Get LATEST chromedriver version for 96.0.4664 google-chrome\n"
     ]
    },
    {
     "name": "stdout",
     "output_type": "stream",
     "text": [
      "209\n"
     ]
    },
    {
     "name": "stderr",
     "output_type": "stream",
     "text": [
      "Driver [/Users/franciscovispo/.wdm/drivers/chromedriver/mac64/96.0.4664.45/chromedriver] found in cache\n"
     ]
    },
    {
     "name": "stdout",
     "output_type": "stream",
     "text": [
      "llego a los huespedes\n",
      "llego a las características\n",
      "llego a los precios\n",
      "llego a los usos\n"
     ]
    },
    {
     "name": "stderr",
     "output_type": "stream",
     "text": [
      "\n",
      "\n",
      "====== WebDriver manager ======\n"
     ]
    },
    {
     "name": "stdout",
     "output_type": "stream",
     "text": [
      "210\n"
     ]
    },
    {
     "name": "stderr",
     "output_type": "stream",
     "text": [
      "Current google-chrome version is 96.0.4664\n",
      "Get LATEST chromedriver version for 96.0.4664 google-chrome\n",
      "Driver [/Users/franciscovispo/.wdm/drivers/chromedriver/mac64/96.0.4664.45/chromedriver] found in cache\n"
     ]
    },
    {
     "name": "stdout",
     "output_type": "stream",
     "text": [
      "llego a los huespedes\n",
      "llego a las características\n",
      "llego a los precios\n",
      "llego a los usos\n"
     ]
    },
    {
     "name": "stderr",
     "output_type": "stream",
     "text": [
      "\n",
      "\n",
      "====== WebDriver manager ======\n",
      "Current google-chrome version is 96.0.4664\n",
      "Get LATEST chromedriver version for 96.0.4664 google-chrome\n"
     ]
    },
    {
     "name": "stdout",
     "output_type": "stream",
     "text": [
      "211\n"
     ]
    },
    {
     "name": "stderr",
     "output_type": "stream",
     "text": [
      "Driver [/Users/franciscovispo/.wdm/drivers/chromedriver/mac64/96.0.4664.45/chromedriver] found in cache\n"
     ]
    },
    {
     "name": "stdout",
     "output_type": "stream",
     "text": [
      "llego a los huespedes\n",
      "llego a las características\n",
      "llego a los precios\n",
      "llego a los usos\n"
     ]
    },
    {
     "name": "stderr",
     "output_type": "stream",
     "text": [
      "\n",
      "\n",
      "====== WebDriver manager ======\n",
      "Current google-chrome version is 96.0.4664\n",
      "Get LATEST chromedriver version for 96.0.4664 google-chrome\n"
     ]
    },
    {
     "name": "stdout",
     "output_type": "stream",
     "text": [
      "212\n"
     ]
    },
    {
     "name": "stderr",
     "output_type": "stream",
     "text": [
      "Driver [/Users/franciscovispo/.wdm/drivers/chromedriver/mac64/96.0.4664.45/chromedriver] found in cache\n"
     ]
    },
    {
     "name": "stdout",
     "output_type": "stream",
     "text": [
      "llego a los huespedes\n",
      "llego a las características\n",
      "llego a los precios\n",
      "llego a los usos\n"
     ]
    },
    {
     "name": "stderr",
     "output_type": "stream",
     "text": [
      "\n",
      "\n",
      "====== WebDriver manager ======\n",
      "Current google-chrome version is 96.0.4664\n",
      "Get LATEST chromedriver version for 96.0.4664 google-chrome\n"
     ]
    },
    {
     "name": "stdout",
     "output_type": "stream",
     "text": [
      "213\n"
     ]
    },
    {
     "name": "stderr",
     "output_type": "stream",
     "text": [
      "Driver [/Users/franciscovispo/.wdm/drivers/chromedriver/mac64/96.0.4664.45/chromedriver] found in cache\n"
     ]
    },
    {
     "name": "stdout",
     "output_type": "stream",
     "text": [
      "llego a los huespedes\n",
      "llego a las características\n",
      "llego a los precios\n",
      "llego a los usos\n"
     ]
    },
    {
     "name": "stderr",
     "output_type": "stream",
     "text": [
      "\n",
      "\n",
      "====== WebDriver manager ======\n",
      "Current google-chrome version is 96.0.4664\n",
      "Get LATEST chromedriver version for 96.0.4664 google-chrome\n"
     ]
    },
    {
     "name": "stdout",
     "output_type": "stream",
     "text": [
      "214\n"
     ]
    },
    {
     "name": "stderr",
     "output_type": "stream",
     "text": [
      "Driver [/Users/franciscovispo/.wdm/drivers/chromedriver/mac64/96.0.4664.45/chromedriver] found in cache\n"
     ]
    },
    {
     "name": "stdout",
     "output_type": "stream",
     "text": [
      "llego a los huespedes\n",
      "llego a las características\n",
      "llego a los precios\n",
      "llego a los usos\n"
     ]
    },
    {
     "name": "stderr",
     "output_type": "stream",
     "text": [
      "\n",
      "\n",
      "====== WebDriver manager ======\n"
     ]
    },
    {
     "name": "stdout",
     "output_type": "stream",
     "text": [
      "215\n"
     ]
    },
    {
     "name": "stderr",
     "output_type": "stream",
     "text": [
      "Current google-chrome version is 96.0.4664\n",
      "Get LATEST chromedriver version for 96.0.4664 google-chrome\n",
      "Driver [/Users/franciscovispo/.wdm/drivers/chromedriver/mac64/96.0.4664.45/chromedriver] found in cache\n"
     ]
    },
    {
     "name": "stdout",
     "output_type": "stream",
     "text": [
      "llego a los huespedes\n",
      "llego a las características\n",
      "llego a los precios\n",
      "llego a los usos\n"
     ]
    },
    {
     "name": "stderr",
     "output_type": "stream",
     "text": [
      "\n",
      "\n",
      "====== WebDriver manager ======\n"
     ]
    },
    {
     "name": "stdout",
     "output_type": "stream",
     "text": [
      "216\n"
     ]
    },
    {
     "name": "stderr",
     "output_type": "stream",
     "text": [
      "Current google-chrome version is 96.0.4664\n",
      "Get LATEST chromedriver version for 96.0.4664 google-chrome\n",
      "Driver [/Users/franciscovispo/.wdm/drivers/chromedriver/mac64/96.0.4664.45/chromedriver] found in cache\n"
     ]
    },
    {
     "name": "stdout",
     "output_type": "stream",
     "text": [
      "llego a los huespedes\n",
      "llego a las características\n",
      "llego a los precios\n",
      "llego a los usos\n"
     ]
    },
    {
     "name": "stderr",
     "output_type": "stream",
     "text": [
      "\n",
      "\n",
      "====== WebDriver manager ======\n",
      "Current google-chrome version is 96.0.4664\n"
     ]
    },
    {
     "name": "stdout",
     "output_type": "stream",
     "text": [
      "217\n"
     ]
    },
    {
     "name": "stderr",
     "output_type": "stream",
     "text": [
      "Get LATEST chromedriver version for 96.0.4664 google-chrome\n",
      "Driver [/Users/franciscovispo/.wdm/drivers/chromedriver/mac64/96.0.4664.45/chromedriver] found in cache\n"
     ]
    },
    {
     "name": "stdout",
     "output_type": "stream",
     "text": [
      "llego a los huespedes\n",
      "llego a las características\n",
      "llego a los precios\n",
      "llego a los usos\n"
     ]
    },
    {
     "name": "stderr",
     "output_type": "stream",
     "text": [
      "\n",
      "\n",
      "====== WebDriver manager ======\n"
     ]
    },
    {
     "name": "stdout",
     "output_type": "stream",
     "text": [
      "218\n"
     ]
    },
    {
     "name": "stderr",
     "output_type": "stream",
     "text": [
      "Current google-chrome version is 96.0.4664\n",
      "Get LATEST chromedriver version for 96.0.4664 google-chrome\n",
      "Driver [/Users/franciscovispo/.wdm/drivers/chromedriver/mac64/96.0.4664.45/chromedriver] found in cache\n"
     ]
    },
    {
     "name": "stdout",
     "output_type": "stream",
     "text": [
      "llego a los huespedes\n",
      "llego a las características\n",
      "llego a los precios\n",
      "llego a los usos\n"
     ]
    },
    {
     "name": "stderr",
     "output_type": "stream",
     "text": [
      "\n",
      "\n",
      "====== WebDriver manager ======\n"
     ]
    },
    {
     "name": "stdout",
     "output_type": "stream",
     "text": [
      "219\n"
     ]
    },
    {
     "name": "stderr",
     "output_type": "stream",
     "text": [
      "Current google-chrome version is 96.0.4664\n",
      "Get LATEST chromedriver version for 96.0.4664 google-chrome\n",
      "Driver [/Users/franciscovispo/.wdm/drivers/chromedriver/mac64/96.0.4664.45/chromedriver] found in cache\n"
     ]
    },
    {
     "name": "stdout",
     "output_type": "stream",
     "text": [
      "llego a los huespedes\n",
      "llego a las características\n",
      "llego a los precios\n",
      "llego a los usos\n"
     ]
    },
    {
     "name": "stderr",
     "output_type": "stream",
     "text": [
      "\n",
      "\n",
      "====== WebDriver manager ======\n"
     ]
    },
    {
     "name": "stdout",
     "output_type": "stream",
     "text": [
      "220\n"
     ]
    },
    {
     "name": "stderr",
     "output_type": "stream",
     "text": [
      "Current google-chrome version is 96.0.4664\n",
      "Get LATEST chromedriver version for 96.0.4664 google-chrome\n",
      "Driver [/Users/franciscovispo/.wdm/drivers/chromedriver/mac64/96.0.4664.45/chromedriver] found in cache\n"
     ]
    },
    {
     "name": "stdout",
     "output_type": "stream",
     "text": [
      "llego a los huespedes\n",
      "llego a las características\n",
      "llego a los precios\n",
      "llego a los usos\n"
     ]
    },
    {
     "name": "stderr",
     "output_type": "stream",
     "text": [
      "\n",
      "\n",
      "====== WebDriver manager ======\n"
     ]
    },
    {
     "name": "stdout",
     "output_type": "stream",
     "text": [
      "221\n"
     ]
    },
    {
     "name": "stderr",
     "output_type": "stream",
     "text": [
      "Current google-chrome version is 96.0.4664\n",
      "Get LATEST chromedriver version for 96.0.4664 google-chrome\n",
      "Driver [/Users/franciscovispo/.wdm/drivers/chromedriver/mac64/96.0.4664.45/chromedriver] found in cache\n"
     ]
    },
    {
     "name": "stdout",
     "output_type": "stream",
     "text": [
      "llego a los huespedes\n",
      "llego a las características\n",
      "llego a los precios\n",
      "llego a los usos\n"
     ]
    },
    {
     "name": "stderr",
     "output_type": "stream",
     "text": [
      "\n",
      "\n",
      "====== WebDriver manager ======\n"
     ]
    },
    {
     "name": "stdout",
     "output_type": "stream",
     "text": [
      "222\n"
     ]
    },
    {
     "name": "stderr",
     "output_type": "stream",
     "text": [
      "Current google-chrome version is 96.0.4664\n",
      "Get LATEST chromedriver version for 96.0.4664 google-chrome\n",
      "Driver [/Users/franciscovispo/.wdm/drivers/chromedriver/mac64/96.0.4664.45/chromedriver] found in cache\n"
     ]
    },
    {
     "name": "stdout",
     "output_type": "stream",
     "text": [
      "llego a los huespedes\n",
      "llego a las características\n",
      "llego a los precios\n",
      "llego a los usos\n"
     ]
    },
    {
     "name": "stderr",
     "output_type": "stream",
     "text": [
      "\n",
      "\n",
      "====== WebDriver manager ======\n"
     ]
    },
    {
     "name": "stdout",
     "output_type": "stream",
     "text": [
      "223\n"
     ]
    },
    {
     "name": "stderr",
     "output_type": "stream",
     "text": [
      "Current google-chrome version is 96.0.4664\n",
      "Get LATEST chromedriver version for 96.0.4664 google-chrome\n",
      "Driver [/Users/franciscovispo/.wdm/drivers/chromedriver/mac64/96.0.4664.45/chromedriver] found in cache\n"
     ]
    },
    {
     "name": "stdout",
     "output_type": "stream",
     "text": [
      "llego a los huespedes\n",
      "llego a las características\n",
      "llego a los precios\n",
      "llego a los usos\n"
     ]
    },
    {
     "name": "stderr",
     "output_type": "stream",
     "text": [
      "\n",
      "\n",
      "====== WebDriver manager ======\n"
     ]
    },
    {
     "name": "stdout",
     "output_type": "stream",
     "text": [
      "224\n"
     ]
    },
    {
     "name": "stderr",
     "output_type": "stream",
     "text": [
      "Current google-chrome version is 96.0.4664\n",
      "Get LATEST chromedriver version for 96.0.4664 google-chrome\n",
      "Driver [/Users/franciscovispo/.wdm/drivers/chromedriver/mac64/96.0.4664.45/chromedriver] found in cache\n"
     ]
    },
    {
     "name": "stdout",
     "output_type": "stream",
     "text": [
      "llego a los huespedes\n",
      "llego a las características\n",
      "llego a los precios\n",
      "llego a los usos\n"
     ]
    },
    {
     "name": "stderr",
     "output_type": "stream",
     "text": [
      "\n",
      "\n",
      "====== WebDriver manager ======\n"
     ]
    },
    {
     "name": "stdout",
     "output_type": "stream",
     "text": [
      "225\n"
     ]
    },
    {
     "name": "stderr",
     "output_type": "stream",
     "text": [
      "Current google-chrome version is 96.0.4664\n",
      "Get LATEST chromedriver version for 96.0.4664 google-chrome\n",
      "Driver [/Users/franciscovispo/.wdm/drivers/chromedriver/mac64/96.0.4664.45/chromedriver] found in cache\n"
     ]
    },
    {
     "name": "stdout",
     "output_type": "stream",
     "text": [
      "llego a los huespedes\n",
      "llego a las características\n",
      "llego a los precios\n",
      "llego a los usos\n"
     ]
    },
    {
     "name": "stderr",
     "output_type": "stream",
     "text": [
      "\n",
      "\n",
      "====== WebDriver manager ======\n",
      "Current google-chrome version is 96.0.4664\n",
      "Get LATEST chromedriver version for 96.0.4664 google-chrome\n"
     ]
    },
    {
     "name": "stdout",
     "output_type": "stream",
     "text": [
      "226\n"
     ]
    },
    {
     "name": "stderr",
     "output_type": "stream",
     "text": [
      "Driver [/Users/franciscovispo/.wdm/drivers/chromedriver/mac64/96.0.4664.45/chromedriver] found in cache\n"
     ]
    },
    {
     "name": "stdout",
     "output_type": "stream",
     "text": [
      "llego a los huespedes\n",
      "llego a las características\n",
      "llego a los precios\n",
      "llego a los usos\n"
     ]
    },
    {
     "name": "stderr",
     "output_type": "stream",
     "text": [
      "\n",
      "\n",
      "====== WebDriver manager ======\n"
     ]
    },
    {
     "name": "stdout",
     "output_type": "stream",
     "text": [
      "227\n"
     ]
    },
    {
     "name": "stderr",
     "output_type": "stream",
     "text": [
      "Current google-chrome version is 96.0.4664\n",
      "Get LATEST chromedriver version for 96.0.4664 google-chrome\n",
      "Driver [/Users/franciscovispo/.wdm/drivers/chromedriver/mac64/96.0.4664.45/chromedriver] found in cache\n"
     ]
    },
    {
     "name": "stdout",
     "output_type": "stream",
     "text": [
      "llego a los huespedes\n",
      "llego a las características\n",
      "llego a los precios\n",
      "llego a los usos\n"
     ]
    },
    {
     "name": "stderr",
     "output_type": "stream",
     "text": [
      "\n",
      "\n",
      "====== WebDriver manager ======\n"
     ]
    },
    {
     "name": "stdout",
     "output_type": "stream",
     "text": [
      "228\n"
     ]
    },
    {
     "name": "stderr",
     "output_type": "stream",
     "text": [
      "Current google-chrome version is 96.0.4664\n",
      "Get LATEST chromedriver version for 96.0.4664 google-chrome\n",
      "Driver [/Users/franciscovispo/.wdm/drivers/chromedriver/mac64/96.0.4664.45/chromedriver] found in cache\n"
     ]
    },
    {
     "name": "stdout",
     "output_type": "stream",
     "text": [
      "llego a los huespedes\n",
      "llego a las características\n",
      "llego a los precios\n",
      "llego a los usos\n"
     ]
    },
    {
     "name": "stderr",
     "output_type": "stream",
     "text": [
      "\n",
      "\n",
      "====== WebDriver manager ======\n"
     ]
    },
    {
     "name": "stdout",
     "output_type": "stream",
     "text": [
      "229\n"
     ]
    },
    {
     "name": "stderr",
     "output_type": "stream",
     "text": [
      "Current google-chrome version is 96.0.4664\n",
      "Get LATEST chromedriver version for 96.0.4664 google-chrome\n",
      "Driver [/Users/franciscovispo/.wdm/drivers/chromedriver/mac64/96.0.4664.45/chromedriver] found in cache\n"
     ]
    },
    {
     "name": "stdout",
     "output_type": "stream",
     "text": [
      "llego a los huespedes\n",
      "llego a las características\n",
      "llego a los precios\n"
     ]
    },
    {
     "name": "stderr",
     "output_type": "stream",
     "text": [
      "\n",
      "\n",
      "====== WebDriver manager ======\n"
     ]
    },
    {
     "name": "stdout",
     "output_type": "stream",
     "text": [
      "230\n"
     ]
    },
    {
     "name": "stderr",
     "output_type": "stream",
     "text": [
      "Current google-chrome version is 96.0.4664\n",
      "Get LATEST chromedriver version for 96.0.4664 google-chrome\n",
      "Driver [/Users/franciscovispo/.wdm/drivers/chromedriver/mac64/96.0.4664.45/chromedriver] found in cache\n"
     ]
    },
    {
     "name": "stdout",
     "output_type": "stream",
     "text": [
      "llego a los huespedes\n",
      "llego a las características\n",
      "llego a los precios\n",
      "llego a los usos\n"
     ]
    },
    {
     "name": "stderr",
     "output_type": "stream",
     "text": [
      "\n",
      "\n",
      "====== WebDriver manager ======\n",
      "Current google-chrome version is 96.0.4664\n",
      "Get LATEST chromedriver version for 96.0.4664 google-chrome\n"
     ]
    },
    {
     "name": "stdout",
     "output_type": "stream",
     "text": [
      "231\n"
     ]
    },
    {
     "name": "stderr",
     "output_type": "stream",
     "text": [
      "Driver [/Users/franciscovispo/.wdm/drivers/chromedriver/mac64/96.0.4664.45/chromedriver] found in cache\n"
     ]
    },
    {
     "name": "stdout",
     "output_type": "stream",
     "text": [
      "llego a los huespedes\n",
      "llego a las características\n",
      "llego a los precios\n",
      "llego a los usos\n"
     ]
    },
    {
     "name": "stderr",
     "output_type": "stream",
     "text": [
      "\n",
      "\n",
      "====== WebDriver manager ======\n"
     ]
    },
    {
     "name": "stdout",
     "output_type": "stream",
     "text": [
      "232\n"
     ]
    },
    {
     "name": "stderr",
     "output_type": "stream",
     "text": [
      "Current google-chrome version is 96.0.4664\n",
      "Get LATEST chromedriver version for 96.0.4664 google-chrome\n",
      "Driver [/Users/franciscovispo/.wdm/drivers/chromedriver/mac64/96.0.4664.45/chromedriver] found in cache\n"
     ]
    },
    {
     "name": "stdout",
     "output_type": "stream",
     "text": [
      "llego a los huespedes\n",
      "llego a las características\n",
      "llego a los precios\n",
      "llego a los usos\n"
     ]
    },
    {
     "name": "stderr",
     "output_type": "stream",
     "text": [
      "\n",
      "\n",
      "====== WebDriver manager ======\n",
      "Current google-chrome version is 96.0.4664\n",
      "Get LATEST chromedriver version for 96.0.4664 google-chrome\n"
     ]
    },
    {
     "name": "stdout",
     "output_type": "stream",
     "text": [
      "233\n"
     ]
    },
    {
     "name": "stderr",
     "output_type": "stream",
     "text": [
      "Driver [/Users/franciscovispo/.wdm/drivers/chromedriver/mac64/96.0.4664.45/chromedriver] found in cache\n"
     ]
    },
    {
     "name": "stdout",
     "output_type": "stream",
     "text": [
      "llego a los huespedes\n",
      "llego a las características\n",
      "llego a los precios\n",
      "llego a los usos\n"
     ]
    },
    {
     "name": "stderr",
     "output_type": "stream",
     "text": [
      "\n",
      "\n",
      "====== WebDriver manager ======\n",
      "Current google-chrome version is 96.0.4664\n",
      "Get LATEST chromedriver version for 96.0.4664 google-chrome\n"
     ]
    },
    {
     "name": "stdout",
     "output_type": "stream",
     "text": [
      "234\n"
     ]
    },
    {
     "name": "stderr",
     "output_type": "stream",
     "text": [
      "Driver [/Users/franciscovispo/.wdm/drivers/chromedriver/mac64/96.0.4664.45/chromedriver] found in cache\n"
     ]
    },
    {
     "name": "stdout",
     "output_type": "stream",
     "text": [
      "llego a los huespedes\n",
      "llego a las características\n",
      "llego a los precios\n",
      "llego a los usos\n"
     ]
    },
    {
     "name": "stderr",
     "output_type": "stream",
     "text": [
      "\n",
      "\n",
      "====== WebDriver manager ======\n"
     ]
    },
    {
     "name": "stdout",
     "output_type": "stream",
     "text": [
      "235\n"
     ]
    },
    {
     "name": "stderr",
     "output_type": "stream",
     "text": [
      "Current google-chrome version is 96.0.4664\n",
      "Get LATEST chromedriver version for 96.0.4664 google-chrome\n",
      "Driver [/Users/franciscovispo/.wdm/drivers/chromedriver/mac64/96.0.4664.45/chromedriver] found in cache\n"
     ]
    },
    {
     "name": "stdout",
     "output_type": "stream",
     "text": [
      "llego a los huespedes\n",
      "llego a las características\n",
      "llego a los precios\n",
      "llego a los usos\n"
     ]
    },
    {
     "name": "stderr",
     "output_type": "stream",
     "text": [
      "\n",
      "\n",
      "====== WebDriver manager ======\n"
     ]
    },
    {
     "name": "stdout",
     "output_type": "stream",
     "text": [
      "236\n"
     ]
    },
    {
     "name": "stderr",
     "output_type": "stream",
     "text": [
      "Current google-chrome version is 96.0.4664\n",
      "Get LATEST chromedriver version for 96.0.4664 google-chrome\n",
      "Driver [/Users/franciscovispo/.wdm/drivers/chromedriver/mac64/96.0.4664.45/chromedriver] found in cache\n"
     ]
    },
    {
     "name": "stdout",
     "output_type": "stream",
     "text": [
      "llego a los huespedes\n",
      "llego a las características\n",
      "llego a los precios\n",
      "llego a los usos\n"
     ]
    },
    {
     "name": "stderr",
     "output_type": "stream",
     "text": [
      "\n",
      "\n",
      "====== WebDriver manager ======\n",
      "Current google-chrome version is 96.0.4664\n",
      "Get LATEST chromedriver version for 96.0.4664 google-chrome\n"
     ]
    },
    {
     "name": "stdout",
     "output_type": "stream",
     "text": [
      "237\n"
     ]
    },
    {
     "name": "stderr",
     "output_type": "stream",
     "text": [
      "Driver [/Users/franciscovispo/.wdm/drivers/chromedriver/mac64/96.0.4664.45/chromedriver] found in cache\n"
     ]
    },
    {
     "name": "stdout",
     "output_type": "stream",
     "text": [
      "llego a los huespedes\n",
      "llego a las características\n",
      "llego a los precios\n",
      "llego a los usos\n"
     ]
    },
    {
     "name": "stderr",
     "output_type": "stream",
     "text": [
      "\n",
      "\n",
      "====== WebDriver manager ======\n",
      "Current google-chrome version is 96.0.4664\n",
      "Get LATEST chromedriver version for 96.0.4664 google-chrome\n"
     ]
    },
    {
     "name": "stdout",
     "output_type": "stream",
     "text": [
      "238\n"
     ]
    },
    {
     "name": "stderr",
     "output_type": "stream",
     "text": [
      "Driver [/Users/franciscovispo/.wdm/drivers/chromedriver/mac64/96.0.4664.45/chromedriver] found in cache\n"
     ]
    },
    {
     "name": "stdout",
     "output_type": "stream",
     "text": [
      "llego a los huespedes\n",
      "llego a las características\n",
      "llego a los precios\n",
      "llego a los usos\n"
     ]
    },
    {
     "name": "stderr",
     "output_type": "stream",
     "text": [
      "\n",
      "\n",
      "====== WebDriver manager ======\n",
      "Current google-chrome version is 96.0.4664\n",
      "Get LATEST chromedriver version for 96.0.4664 google-chrome\n"
     ]
    },
    {
     "name": "stdout",
     "output_type": "stream",
     "text": [
      "239\n"
     ]
    },
    {
     "name": "stderr",
     "output_type": "stream",
     "text": [
      "Driver [/Users/franciscovispo/.wdm/drivers/chromedriver/mac64/96.0.4664.45/chromedriver] found in cache\n"
     ]
    },
    {
     "name": "stdout",
     "output_type": "stream",
     "text": [
      "llego a los huespedes\n",
      "llego a las características\n",
      "llego a los precios\n",
      "llego a los usos\n"
     ]
    },
    {
     "name": "stderr",
     "output_type": "stream",
     "text": [
      "\n",
      "\n",
      "====== WebDriver manager ======\n",
      "Current google-chrome version is 96.0.4664\n",
      "Get LATEST chromedriver version for 96.0.4664 google-chrome\n"
     ]
    },
    {
     "name": "stdout",
     "output_type": "stream",
     "text": [
      "240\n"
     ]
    },
    {
     "name": "stderr",
     "output_type": "stream",
     "text": [
      "Driver [/Users/franciscovispo/.wdm/drivers/chromedriver/mac64/96.0.4664.45/chromedriver] found in cache\n"
     ]
    },
    {
     "name": "stdout",
     "output_type": "stream",
     "text": [
      "llego a los huespedes\n",
      "llego a las características\n",
      "llego a los precios\n",
      "llego a los usos\n"
     ]
    },
    {
     "name": "stderr",
     "output_type": "stream",
     "text": [
      "\n",
      "\n",
      "====== WebDriver manager ======\n"
     ]
    },
    {
     "name": "stdout",
     "output_type": "stream",
     "text": [
      "241\n"
     ]
    },
    {
     "name": "stderr",
     "output_type": "stream",
     "text": [
      "Current google-chrome version is 96.0.4664\n",
      "Get LATEST chromedriver version for 96.0.4664 google-chrome\n",
      "Driver [/Users/franciscovispo/.wdm/drivers/chromedriver/mac64/96.0.4664.45/chromedriver] found in cache\n"
     ]
    },
    {
     "name": "stdout",
     "output_type": "stream",
     "text": [
      "llego a los huespedes\n",
      "llego a las características\n",
      "llego a los precios\n",
      "llego a los usos\n"
     ]
    },
    {
     "name": "stderr",
     "output_type": "stream",
     "text": [
      "\n",
      "\n",
      "====== WebDriver manager ======\n",
      "Current google-chrome version is 96.0.4664\n"
     ]
    },
    {
     "name": "stdout",
     "output_type": "stream",
     "text": [
      "242\n"
     ]
    },
    {
     "name": "stderr",
     "output_type": "stream",
     "text": [
      "Get LATEST chromedriver version for 96.0.4664 google-chrome\n",
      "Driver [/Users/franciscovispo/.wdm/drivers/chromedriver/mac64/96.0.4664.45/chromedriver] found in cache\n"
     ]
    },
    {
     "name": "stdout",
     "output_type": "stream",
     "text": [
      "llego a los huespedes\n",
      "llego a las características\n",
      "llego a los precios\n",
      "llego a los usos\n"
     ]
    },
    {
     "name": "stderr",
     "output_type": "stream",
     "text": [
      "\n",
      "\n",
      "====== WebDriver manager ======\n",
      "Current google-chrome version is 96.0.4664\n",
      "Get LATEST chromedriver version for 96.0.4664 google-chrome\n"
     ]
    },
    {
     "name": "stdout",
     "output_type": "stream",
     "text": [
      "243\n"
     ]
    },
    {
     "name": "stderr",
     "output_type": "stream",
     "text": [
      "Driver [/Users/franciscovispo/.wdm/drivers/chromedriver/mac64/96.0.4664.45/chromedriver] found in cache\n"
     ]
    },
    {
     "name": "stdout",
     "output_type": "stream",
     "text": [
      "llego a los huespedes\n",
      "llego a las características\n",
      "llego a los precios\n",
      "llego a los usos\n"
     ]
    },
    {
     "name": "stderr",
     "output_type": "stream",
     "text": [
      "\n",
      "\n",
      "====== WebDriver manager ======\n",
      "Current google-chrome version is 96.0.4664\n",
      "Get LATEST chromedriver version for 96.0.4664 google-chrome\n",
      "Driver [/Users/franciscovispo/.wdm/drivers/chromedriver/mac64/96.0.4664.45/chromedriver] found in cache\n"
     ]
    },
    {
     "name": "stdout",
     "output_type": "stream",
     "text": [
      "244\n",
      "llego a los huespedes\n",
      "llego a las características\n",
      "llego a los precios\n",
      "llego a los usos\n"
     ]
    },
    {
     "name": "stderr",
     "output_type": "stream",
     "text": [
      "\n",
      "\n",
      "====== WebDriver manager ======\n",
      "Current google-chrome version is 96.0.4664\n",
      "Get LATEST chromedriver version for 96.0.4664 google-chrome\n"
     ]
    },
    {
     "name": "stdout",
     "output_type": "stream",
     "text": [
      "245\n"
     ]
    },
    {
     "name": "stderr",
     "output_type": "stream",
     "text": [
      "Driver [/Users/franciscovispo/.wdm/drivers/chromedriver/mac64/96.0.4664.45/chromedriver] found in cache\n"
     ]
    },
    {
     "name": "stdout",
     "output_type": "stream",
     "text": [
      "llego a los huespedes\n",
      "llego a las características\n",
      "llego a los precios\n",
      "llego a los usos\n"
     ]
    },
    {
     "name": "stderr",
     "output_type": "stream",
     "text": [
      "\n",
      "\n",
      "====== WebDriver manager ======\n",
      "Current google-chrome version is 96.0.4664\n",
      "Get LATEST chromedriver version for 96.0.4664 google-chrome\n"
     ]
    },
    {
     "name": "stdout",
     "output_type": "stream",
     "text": [
      "246\n"
     ]
    },
    {
     "name": "stderr",
     "output_type": "stream",
     "text": [
      "Driver [/Users/franciscovispo/.wdm/drivers/chromedriver/mac64/96.0.4664.45/chromedriver] found in cache\n"
     ]
    },
    {
     "name": "stdout",
     "output_type": "stream",
     "text": [
      "llego a los huespedes\n",
      "llego a las características\n",
      "llego a los precios\n",
      "llego a los usos\n"
     ]
    },
    {
     "name": "stderr",
     "output_type": "stream",
     "text": [
      "\n",
      "\n",
      "====== WebDriver manager ======\n",
      "Current google-chrome version is 96.0.4664\n",
      "Get LATEST chromedriver version for 96.0.4664 google-chrome\n"
     ]
    },
    {
     "name": "stdout",
     "output_type": "stream",
     "text": [
      "247\n"
     ]
    },
    {
     "name": "stderr",
     "output_type": "stream",
     "text": [
      "Driver [/Users/franciscovispo/.wdm/drivers/chromedriver/mac64/96.0.4664.45/chromedriver] found in cache\n"
     ]
    },
    {
     "name": "stdout",
     "output_type": "stream",
     "text": [
      "llego a los huespedes\n",
      "llego a las características\n",
      "llego a los precios\n",
      "llego a los usos\n"
     ]
    },
    {
     "name": "stderr",
     "output_type": "stream",
     "text": [
      "\n",
      "\n",
      "====== WebDriver manager ======\n",
      "Current google-chrome version is 96.0.4664\n",
      "Get LATEST chromedriver version for 96.0.4664 google-chrome\n"
     ]
    },
    {
     "name": "stdout",
     "output_type": "stream",
     "text": [
      "248\n"
     ]
    },
    {
     "name": "stderr",
     "output_type": "stream",
     "text": [
      "Driver [/Users/franciscovispo/.wdm/drivers/chromedriver/mac64/96.0.4664.45/chromedriver] found in cache\n"
     ]
    },
    {
     "name": "stdout",
     "output_type": "stream",
     "text": [
      "llego a los huespedes\n",
      "llego a las características\n",
      "llego a los precios\n",
      "llego a los usos\n"
     ]
    },
    {
     "name": "stderr",
     "output_type": "stream",
     "text": [
      "\n",
      "\n",
      "====== WebDriver manager ======\n",
      "Current google-chrome version is 96.0.4664\n",
      "Get LATEST chromedriver version for 96.0.4664 google-chrome\n"
     ]
    },
    {
     "name": "stdout",
     "output_type": "stream",
     "text": [
      "249\n"
     ]
    },
    {
     "name": "stderr",
     "output_type": "stream",
     "text": [
      "Driver [/Users/franciscovispo/.wdm/drivers/chromedriver/mac64/96.0.4664.45/chromedriver] found in cache\n"
     ]
    },
    {
     "name": "stdout",
     "output_type": "stream",
     "text": [
      "llego a los huespedes\n",
      "llego a las características\n",
      "llego a los precios\n",
      "llego a los usos\n"
     ]
    },
    {
     "name": "stderr",
     "output_type": "stream",
     "text": [
      "\n",
      "\n",
      "====== WebDriver manager ======\n",
      "Current google-chrome version is 96.0.4664\n",
      "Get LATEST chromedriver version for 96.0.4664 google-chrome\n"
     ]
    },
    {
     "name": "stdout",
     "output_type": "stream",
     "text": [
      "250\n"
     ]
    },
    {
     "name": "stderr",
     "output_type": "stream",
     "text": [
      "Driver [/Users/franciscovispo/.wdm/drivers/chromedriver/mac64/96.0.4664.45/chromedriver] found in cache\n"
     ]
    },
    {
     "name": "stdout",
     "output_type": "stream",
     "text": [
      "llego a los huespedes\n",
      "llego a las características\n",
      "llego a los precios\n",
      "llego a los usos\n"
     ]
    },
    {
     "name": "stderr",
     "output_type": "stream",
     "text": [
      "\n",
      "\n",
      "====== WebDriver manager ======\n",
      "Current google-chrome version is 96.0.4664\n",
      "Get LATEST chromedriver version for 96.0.4664 google-chrome\n"
     ]
    },
    {
     "name": "stdout",
     "output_type": "stream",
     "text": [
      "251\n"
     ]
    },
    {
     "name": "stderr",
     "output_type": "stream",
     "text": [
      "Driver [/Users/franciscovispo/.wdm/drivers/chromedriver/mac64/96.0.4664.45/chromedriver] found in cache\n"
     ]
    },
    {
     "name": "stdout",
     "output_type": "stream",
     "text": [
      "llego a los huespedes\n",
      "llego a las características\n",
      "llego a los precios\n",
      "llego a los usos\n"
     ]
    },
    {
     "name": "stderr",
     "output_type": "stream",
     "text": [
      "\n",
      "\n",
      "====== WebDriver manager ======\n",
      "Current google-chrome version is 96.0.4664\n",
      "Get LATEST chromedriver version for 96.0.4664 google-chrome\n"
     ]
    },
    {
     "name": "stdout",
     "output_type": "stream",
     "text": [
      "252\n"
     ]
    },
    {
     "name": "stderr",
     "output_type": "stream",
     "text": [
      "Driver [/Users/franciscovispo/.wdm/drivers/chromedriver/mac64/96.0.4664.45/chromedriver] found in cache\n"
     ]
    },
    {
     "name": "stdout",
     "output_type": "stream",
     "text": [
      "llego a los huespedes\n",
      "llego a las características\n",
      "llego a los precios\n",
      "llego a los usos\n"
     ]
    },
    {
     "name": "stderr",
     "output_type": "stream",
     "text": [
      "\n",
      "\n",
      "====== WebDriver manager ======\n",
      "Current google-chrome version is 96.0.4664\n",
      "Get LATEST chromedriver version for 96.0.4664 google-chrome\n"
     ]
    },
    {
     "name": "stdout",
     "output_type": "stream",
     "text": [
      "253\n"
     ]
    },
    {
     "name": "stderr",
     "output_type": "stream",
     "text": [
      "Driver [/Users/franciscovispo/.wdm/drivers/chromedriver/mac64/96.0.4664.45/chromedriver] found in cache\n"
     ]
    },
    {
     "name": "stdout",
     "output_type": "stream",
     "text": [
      "llego a los huespedes\n",
      "llego a las características\n",
      "llego a los precios\n",
      "llego a los usos\n"
     ]
    },
    {
     "name": "stderr",
     "output_type": "stream",
     "text": [
      "\n",
      "\n",
      "====== WebDriver manager ======\n"
     ]
    },
    {
     "name": "stdout",
     "output_type": "stream",
     "text": [
      "254\n"
     ]
    },
    {
     "name": "stderr",
     "output_type": "stream",
     "text": [
      "Current google-chrome version is 96.0.4664\n",
      "Get LATEST chromedriver version for 96.0.4664 google-chrome\n",
      "Driver [/Users/franciscovispo/.wdm/drivers/chromedriver/mac64/96.0.4664.45/chromedriver] found in cache\n"
     ]
    },
    {
     "name": "stdout",
     "output_type": "stream",
     "text": [
      "llego a los huespedes\n",
      "llego a las características\n",
      "llego a los precios\n",
      "llego a los usos\n"
     ]
    },
    {
     "name": "stderr",
     "output_type": "stream",
     "text": [
      "\n",
      "\n",
      "====== WebDriver manager ======\n"
     ]
    },
    {
     "name": "stdout",
     "output_type": "stream",
     "text": [
      "255\n"
     ]
    },
    {
     "name": "stderr",
     "output_type": "stream",
     "text": [
      "Current google-chrome version is 96.0.4664\n",
      "Get LATEST chromedriver version for 96.0.4664 google-chrome\n",
      "Driver [/Users/franciscovispo/.wdm/drivers/chromedriver/mac64/96.0.4664.45/chromedriver] found in cache\n"
     ]
    },
    {
     "name": "stdout",
     "output_type": "stream",
     "text": [
      "llego a los huespedes\n",
      "llego a las características\n",
      "llego a los precios\n",
      "llego a los usos\n"
     ]
    },
    {
     "name": "stderr",
     "output_type": "stream",
     "text": [
      "\n",
      "\n",
      "====== WebDriver manager ======\n"
     ]
    },
    {
     "name": "stdout",
     "output_type": "stream",
     "text": [
      "256\n"
     ]
    },
    {
     "name": "stderr",
     "output_type": "stream",
     "text": [
      "Current google-chrome version is 96.0.4664\n",
      "Get LATEST chromedriver version for 96.0.4664 google-chrome\n",
      "Driver [/Users/franciscovispo/.wdm/drivers/chromedriver/mac64/96.0.4664.45/chromedriver] found in cache\n"
     ]
    },
    {
     "name": "stdout",
     "output_type": "stream",
     "text": [
      "llego a los huespedes\n",
      "llego a las características\n",
      "llego a los precios\n",
      "llego a los usos\n"
     ]
    },
    {
     "name": "stderr",
     "output_type": "stream",
     "text": [
      "\n",
      "\n",
      "====== WebDriver manager ======\n"
     ]
    },
    {
     "name": "stdout",
     "output_type": "stream",
     "text": [
      "257\n"
     ]
    },
    {
     "name": "stderr",
     "output_type": "stream",
     "text": [
      "Current google-chrome version is 96.0.4664\n",
      "Get LATEST chromedriver version for 96.0.4664 google-chrome\n",
      "Driver [/Users/franciscovispo/.wdm/drivers/chromedriver/mac64/96.0.4664.45/chromedriver] found in cache\n"
     ]
    },
    {
     "name": "stdout",
     "output_type": "stream",
     "text": [
      "llego a los huespedes\n",
      "llego a las características\n",
      "llego a los precios\n",
      "llego a los usos\n"
     ]
    },
    {
     "name": "stderr",
     "output_type": "stream",
     "text": [
      "\n",
      "\n",
      "====== WebDriver manager ======\n"
     ]
    },
    {
     "name": "stdout",
     "output_type": "stream",
     "text": [
      "258\n"
     ]
    },
    {
     "name": "stderr",
     "output_type": "stream",
     "text": [
      "Current google-chrome version is 96.0.4664\n",
      "Get LATEST chromedriver version for 96.0.4664 google-chrome\n",
      "Driver [/Users/franciscovispo/.wdm/drivers/chromedriver/mac64/96.0.4664.45/chromedriver] found in cache\n"
     ]
    },
    {
     "name": "stdout",
     "output_type": "stream",
     "text": [
      "llego a los huespedes\n",
      "llego a las características\n",
      "llego a los precios\n",
      "llego a los usos\n"
     ]
    },
    {
     "name": "stderr",
     "output_type": "stream",
     "text": [
      "\n",
      "\n",
      "====== WebDriver manager ======\n"
     ]
    },
    {
     "name": "stdout",
     "output_type": "stream",
     "text": [
      "259\n"
     ]
    },
    {
     "name": "stderr",
     "output_type": "stream",
     "text": [
      "Current google-chrome version is 96.0.4664\n",
      "Get LATEST chromedriver version for 96.0.4664 google-chrome\n",
      "Driver [/Users/franciscovispo/.wdm/drivers/chromedriver/mac64/96.0.4664.45/chromedriver] found in cache\n"
     ]
    },
    {
     "name": "stdout",
     "output_type": "stream",
     "text": [
      "llego a los huespedes\n",
      "llego a las características\n",
      "llego a los precios\n",
      "llego a los usos\n"
     ]
    },
    {
     "name": "stderr",
     "output_type": "stream",
     "text": [
      "\n",
      "\n",
      "====== WebDriver manager ======\n",
      "Current google-chrome version is 96.0.4664\n",
      "Get LATEST chromedriver version for 96.0.4664 google-chrome\n"
     ]
    },
    {
     "name": "stdout",
     "output_type": "stream",
     "text": [
      "260\n"
     ]
    },
    {
     "name": "stderr",
     "output_type": "stream",
     "text": [
      "Driver [/Users/franciscovispo/.wdm/drivers/chromedriver/mac64/96.0.4664.45/chromedriver] found in cache\n"
     ]
    },
    {
     "name": "stdout",
     "output_type": "stream",
     "text": [
      "llego a los huespedes\n",
      "llego a las características\n",
      "llego a los precios\n",
      "llego a los usos\n"
     ]
    },
    {
     "name": "stderr",
     "output_type": "stream",
     "text": [
      "\n",
      "\n",
      "====== WebDriver manager ======\n",
      "Current google-chrome version is 96.0.4664\n",
      "Get LATEST chromedriver version for 96.0.4664 google-chrome\n"
     ]
    },
    {
     "name": "stdout",
     "output_type": "stream",
     "text": [
      "261\n"
     ]
    },
    {
     "name": "stderr",
     "output_type": "stream",
     "text": [
      "Driver [/Users/franciscovispo/.wdm/drivers/chromedriver/mac64/96.0.4664.45/chromedriver] found in cache\n"
     ]
    },
    {
     "name": "stdout",
     "output_type": "stream",
     "text": [
      "llego a los huespedes\n",
      "llego a las características\n",
      "llego a los precios\n",
      "llego a los usos\n"
     ]
    },
    {
     "name": "stderr",
     "output_type": "stream",
     "text": [
      "\n",
      "\n",
      "====== WebDriver manager ======\n"
     ]
    },
    {
     "name": "stdout",
     "output_type": "stream",
     "text": [
      "262\n"
     ]
    },
    {
     "name": "stderr",
     "output_type": "stream",
     "text": [
      "Current google-chrome version is 96.0.4664\n",
      "Get LATEST chromedriver version for 96.0.4664 google-chrome\n",
      "Driver [/Users/franciscovispo/.wdm/drivers/chromedriver/mac64/96.0.4664.45/chromedriver] found in cache\n"
     ]
    },
    {
     "name": "stdout",
     "output_type": "stream",
     "text": [
      "llego a los huespedes\n",
      "llego a las características\n",
      "llego a los precios\n",
      "llego a los usos\n"
     ]
    },
    {
     "name": "stderr",
     "output_type": "stream",
     "text": [
      "\n",
      "\n",
      "====== WebDriver manager ======\n",
      "Current google-chrome version is 96.0.4664\n",
      "Get LATEST chromedriver version for 96.0.4664 google-chrome\n"
     ]
    },
    {
     "name": "stdout",
     "output_type": "stream",
     "text": [
      "263\n"
     ]
    },
    {
     "name": "stderr",
     "output_type": "stream",
     "text": [
      "Driver [/Users/franciscovispo/.wdm/drivers/chromedriver/mac64/96.0.4664.45/chromedriver] found in cache\n"
     ]
    },
    {
     "name": "stdout",
     "output_type": "stream",
     "text": [
      "llego a los huespedes\n",
      "llego a las características\n",
      "llego a los precios\n",
      "llego a los usos\n"
     ]
    },
    {
     "name": "stderr",
     "output_type": "stream",
     "text": [
      "\n",
      "\n",
      "====== WebDriver manager ======\n"
     ]
    },
    {
     "name": "stdout",
     "output_type": "stream",
     "text": [
      "264\n"
     ]
    },
    {
     "name": "stderr",
     "output_type": "stream",
     "text": [
      "Current google-chrome version is 96.0.4664\n",
      "Get LATEST chromedriver version for 96.0.4664 google-chrome\n",
      "Driver [/Users/franciscovispo/.wdm/drivers/chromedriver/mac64/96.0.4664.45/chromedriver] found in cache\n"
     ]
    },
    {
     "name": "stdout",
     "output_type": "stream",
     "text": [
      "llego a los huespedes\n",
      "llego a las características\n",
      "llego a los precios\n",
      "llego a los usos\n"
     ]
    },
    {
     "name": "stderr",
     "output_type": "stream",
     "text": [
      "\n",
      "\n",
      "====== WebDriver manager ======\n"
     ]
    },
    {
     "name": "stdout",
     "output_type": "stream",
     "text": [
      "265\n"
     ]
    },
    {
     "name": "stderr",
     "output_type": "stream",
     "text": [
      "Current google-chrome version is 96.0.4664\n",
      "Get LATEST chromedriver version for 96.0.4664 google-chrome\n",
      "Driver [/Users/franciscovispo/.wdm/drivers/chromedriver/mac64/96.0.4664.45/chromedriver] found in cache\n"
     ]
    },
    {
     "name": "stdout",
     "output_type": "stream",
     "text": [
      "llego a los huespedes\n",
      "llego a las características\n",
      "llego a los precios\n",
      "llego a los usos\n"
     ]
    },
    {
     "name": "stderr",
     "output_type": "stream",
     "text": [
      "\n",
      "\n",
      "====== WebDriver manager ======\n",
      "Current google-chrome version is 96.0.4664\n",
      "Get LATEST chromedriver version for 96.0.4664 google-chrome\n"
     ]
    },
    {
     "name": "stdout",
     "output_type": "stream",
     "text": [
      "266\n"
     ]
    },
    {
     "name": "stderr",
     "output_type": "stream",
     "text": [
      "Driver [/Users/franciscovispo/.wdm/drivers/chromedriver/mac64/96.0.4664.45/chromedriver] found in cache\n"
     ]
    },
    {
     "name": "stdout",
     "output_type": "stream",
     "text": [
      "llego a los huespedes\n",
      "llego a las características\n",
      "llego a los precios\n",
      "llego a los usos\n"
     ]
    },
    {
     "name": "stderr",
     "output_type": "stream",
     "text": [
      "\n",
      "\n",
      "====== WebDriver manager ======\n"
     ]
    },
    {
     "name": "stdout",
     "output_type": "stream",
     "text": [
      "267\n"
     ]
    },
    {
     "name": "stderr",
     "output_type": "stream",
     "text": [
      "Current google-chrome version is 96.0.4664\n",
      "Get LATEST chromedriver version for 96.0.4664 google-chrome\n",
      "Driver [/Users/franciscovispo/.wdm/drivers/chromedriver/mac64/96.0.4664.45/chromedriver] found in cache\n"
     ]
    },
    {
     "name": "stdout",
     "output_type": "stream",
     "text": [
      "llego a los huespedes\n",
      "llego a las características\n",
      "llego a los precios\n",
      "llego a los usos\n"
     ]
    },
    {
     "name": "stderr",
     "output_type": "stream",
     "text": [
      "\n",
      "\n",
      "====== WebDriver manager ======\n"
     ]
    },
    {
     "name": "stdout",
     "output_type": "stream",
     "text": [
      "268\n"
     ]
    },
    {
     "name": "stderr",
     "output_type": "stream",
     "text": [
      "Current google-chrome version is 96.0.4664\n",
      "Get LATEST chromedriver version for 96.0.4664 google-chrome\n",
      "Driver [/Users/franciscovispo/.wdm/drivers/chromedriver/mac64/96.0.4664.45/chromedriver] found in cache\n"
     ]
    },
    {
     "name": "stdout",
     "output_type": "stream",
     "text": [
      "llego a los huespedes\n",
      "llego a las características\n",
      "llego a los precios\n",
      "llego a los usos\n"
     ]
    },
    {
     "name": "stderr",
     "output_type": "stream",
     "text": [
      "\n",
      "\n",
      "====== WebDriver manager ======\n"
     ]
    },
    {
     "name": "stdout",
     "output_type": "stream",
     "text": [
      "269\n"
     ]
    },
    {
     "name": "stderr",
     "output_type": "stream",
     "text": [
      "Current google-chrome version is 96.0.4664\n",
      "Get LATEST chromedriver version for 96.0.4664 google-chrome\n",
      "Driver [/Users/franciscovispo/.wdm/drivers/chromedriver/mac64/96.0.4664.45/chromedriver] found in cache\n"
     ]
    },
    {
     "name": "stdout",
     "output_type": "stream",
     "text": [
      "llego a los huespedes\n",
      "llego a las características\n",
      "llego a los precios\n",
      "llego a los usos\n"
     ]
    },
    {
     "name": "stderr",
     "output_type": "stream",
     "text": [
      "\n",
      "\n",
      "====== WebDriver manager ======\n",
      "Current google-chrome version is 96.0.4664\n",
      "Get LATEST chromedriver version for 96.0.4664 google-chrome\n"
     ]
    },
    {
     "name": "stdout",
     "output_type": "stream",
     "text": [
      "270\n"
     ]
    },
    {
     "name": "stderr",
     "output_type": "stream",
     "text": [
      "Driver [/Users/franciscovispo/.wdm/drivers/chromedriver/mac64/96.0.4664.45/chromedriver] found in cache\n"
     ]
    },
    {
     "name": "stdout",
     "output_type": "stream",
     "text": [
      "llego a los huespedes\n",
      "llego a las características\n",
      "llego a los precios\n",
      "llego a los usos\n"
     ]
    },
    {
     "name": "stderr",
     "output_type": "stream",
     "text": [
      "\n",
      "\n",
      "====== WebDriver manager ======\n",
      "Current google-chrome version is 96.0.4664\n",
      "Get LATEST chromedriver version for 96.0.4664 google-chrome\n"
     ]
    },
    {
     "name": "stdout",
     "output_type": "stream",
     "text": [
      "271\n"
     ]
    },
    {
     "name": "stderr",
     "output_type": "stream",
     "text": [
      "Driver [/Users/franciscovispo/.wdm/drivers/chromedriver/mac64/96.0.4664.45/chromedriver] found in cache\n"
     ]
    },
    {
     "name": "stdout",
     "output_type": "stream",
     "text": [
      "llego a los huespedes\n",
      "llego a las características\n",
      "llego a los precios\n",
      "llego a los usos\n"
     ]
    },
    {
     "name": "stderr",
     "output_type": "stream",
     "text": [
      "\n",
      "\n",
      "====== WebDriver manager ======\n",
      "Current google-chrome version is 96.0.4664\n",
      "Get LATEST chromedriver version for 96.0.4664 google-chrome\n"
     ]
    },
    {
     "name": "stdout",
     "output_type": "stream",
     "text": [
      "272\n"
     ]
    },
    {
     "name": "stderr",
     "output_type": "stream",
     "text": [
      "Driver [/Users/franciscovispo/.wdm/drivers/chromedriver/mac64/96.0.4664.45/chromedriver] found in cache\n"
     ]
    },
    {
     "name": "stdout",
     "output_type": "stream",
     "text": [
      "llego a los huespedes\n",
      "llego a las características\n",
      "llego a los precios\n",
      "llego a los usos\n"
     ]
    },
    {
     "name": "stderr",
     "output_type": "stream",
     "text": [
      "\n",
      "\n",
      "====== WebDriver manager ======\n",
      "Current google-chrome version is 96.0.4664\n",
      "Get LATEST chromedriver version for 96.0.4664 google-chrome\n"
     ]
    },
    {
     "name": "stdout",
     "output_type": "stream",
     "text": [
      "273\n"
     ]
    },
    {
     "name": "stderr",
     "output_type": "stream",
     "text": [
      "Driver [/Users/franciscovispo/.wdm/drivers/chromedriver/mac64/96.0.4664.45/chromedriver] found in cache\n"
     ]
    },
    {
     "name": "stdout",
     "output_type": "stream",
     "text": [
      "llego a los huespedes\n",
      "llego a las características\n",
      "llego a los precios\n",
      "llego a los usos\n"
     ]
    },
    {
     "name": "stderr",
     "output_type": "stream",
     "text": [
      "\n",
      "\n",
      "====== WebDriver manager ======\n",
      "Current google-chrome version is 96.0.4664\n"
     ]
    },
    {
     "name": "stdout",
     "output_type": "stream",
     "text": [
      "274\n"
     ]
    },
    {
     "name": "stderr",
     "output_type": "stream",
     "text": [
      "Get LATEST chromedriver version for 96.0.4664 google-chrome\n",
      "Driver [/Users/franciscovispo/.wdm/drivers/chromedriver/mac64/96.0.4664.45/chromedriver] found in cache\n"
     ]
    },
    {
     "name": "stdout",
     "output_type": "stream",
     "text": [
      "llego a los huespedes\n",
      "llego a las características\n",
      "llego a los precios\n",
      "llego a los usos\n"
     ]
    },
    {
     "name": "stderr",
     "output_type": "stream",
     "text": [
      "\n",
      "\n",
      "====== WebDriver manager ======\n",
      "Current google-chrome version is 96.0.4664\n",
      "Get LATEST chromedriver version for 96.0.4664 google-chrome\n"
     ]
    },
    {
     "name": "stdout",
     "output_type": "stream",
     "text": [
      "275\n"
     ]
    },
    {
     "name": "stderr",
     "output_type": "stream",
     "text": [
      "Driver [/Users/franciscovispo/.wdm/drivers/chromedriver/mac64/96.0.4664.45/chromedriver] found in cache\n"
     ]
    },
    {
     "name": "stdout",
     "output_type": "stream",
     "text": [
      "llego a los huespedes\n",
      "llego a las características\n",
      "llego a los precios\n",
      "llego a los usos\n"
     ]
    },
    {
     "name": "stderr",
     "output_type": "stream",
     "text": [
      "\n",
      "\n",
      "====== WebDriver manager ======\n",
      "Current google-chrome version is 96.0.4664\n",
      "Get LATEST chromedriver version for 96.0.4664 google-chrome\n"
     ]
    },
    {
     "name": "stdout",
     "output_type": "stream",
     "text": [
      "276\n"
     ]
    },
    {
     "name": "stderr",
     "output_type": "stream",
     "text": [
      "Driver [/Users/franciscovispo/.wdm/drivers/chromedriver/mac64/96.0.4664.45/chromedriver] found in cache\n"
     ]
    },
    {
     "name": "stdout",
     "output_type": "stream",
     "text": [
      "llego a los huespedes\n",
      "llego a las características\n",
      "llego a los precios\n",
      "llego a los usos\n"
     ]
    },
    {
     "name": "stderr",
     "output_type": "stream",
     "text": [
      "\n",
      "\n",
      "====== WebDriver manager ======\n"
     ]
    },
    {
     "name": "stdout",
     "output_type": "stream",
     "text": [
      "277\n"
     ]
    },
    {
     "name": "stderr",
     "output_type": "stream",
     "text": [
      "Current google-chrome version is 96.0.4664\n",
      "Get LATEST chromedriver version for 96.0.4664 google-chrome\n",
      "Driver [/Users/franciscovispo/.wdm/drivers/chromedriver/mac64/96.0.4664.45/chromedriver] found in cache\n"
     ]
    },
    {
     "name": "stdout",
     "output_type": "stream",
     "text": [
      "llego a los huespedes\n",
      "llego a las características\n",
      "llego a los precios\n",
      "llego a los usos\n"
     ]
    },
    {
     "name": "stderr",
     "output_type": "stream",
     "text": [
      "\n",
      "\n",
      "====== WebDriver manager ======\n",
      "Current google-chrome version is 96.0.4664\n",
      "Get LATEST chromedriver version for 96.0.4664 google-chrome\n"
     ]
    },
    {
     "name": "stdout",
     "output_type": "stream",
     "text": [
      "278\n"
     ]
    },
    {
     "name": "stderr",
     "output_type": "stream",
     "text": [
      "Driver [/Users/franciscovispo/.wdm/drivers/chromedriver/mac64/96.0.4664.45/chromedriver] found in cache\n"
     ]
    },
    {
     "name": "stdout",
     "output_type": "stream",
     "text": [
      "llego a los huespedes\n",
      "llego a las características\n",
      "llego a los precios\n",
      "llego a los usos\n"
     ]
    },
    {
     "name": "stderr",
     "output_type": "stream",
     "text": [
      "\n",
      "\n",
      "====== WebDriver manager ======\n",
      "Current google-chrome version is 96.0.4664\n",
      "Get LATEST chromedriver version for 96.0.4664 google-chrome\n"
     ]
    },
    {
     "name": "stdout",
     "output_type": "stream",
     "text": [
      "279\n"
     ]
    },
    {
     "name": "stderr",
     "output_type": "stream",
     "text": [
      "Driver [/Users/franciscovispo/.wdm/drivers/chromedriver/mac64/96.0.4664.45/chromedriver] found in cache\n"
     ]
    },
    {
     "name": "stdout",
     "output_type": "stream",
     "text": [
      "llego a los huespedes\n",
      "llego a las características\n",
      "llego a los precios\n",
      "llego a los usos\n"
     ]
    },
    {
     "name": "stderr",
     "output_type": "stream",
     "text": [
      "\n",
      "\n",
      "====== WebDriver manager ======\n",
      "Current google-chrome version is 96.0.4664\n",
      "Get LATEST chromedriver version for 96.0.4664 google-chrome\n"
     ]
    },
    {
     "name": "stdout",
     "output_type": "stream",
     "text": [
      "280\n"
     ]
    },
    {
     "name": "stderr",
     "output_type": "stream",
     "text": [
      "Driver [/Users/franciscovispo/.wdm/drivers/chromedriver/mac64/96.0.4664.45/chromedriver] found in cache\n"
     ]
    },
    {
     "name": "stdout",
     "output_type": "stream",
     "text": [
      "llego a los huespedes\n",
      "llego a las características\n",
      "llego a los precios\n",
      "llego a los usos\n"
     ]
    },
    {
     "name": "stderr",
     "output_type": "stream",
     "text": [
      "\n",
      "\n",
      "====== WebDriver manager ======\n",
      "Current google-chrome version is 96.0.4664\n",
      "Get LATEST chromedriver version for 96.0.4664 google-chrome\n"
     ]
    },
    {
     "name": "stdout",
     "output_type": "stream",
     "text": [
      "281\n"
     ]
    },
    {
     "name": "stderr",
     "output_type": "stream",
     "text": [
      "Driver [/Users/franciscovispo/.wdm/drivers/chromedriver/mac64/96.0.4664.45/chromedriver] found in cache\n"
     ]
    },
    {
     "name": "stdout",
     "output_type": "stream",
     "text": [
      "llego a los huespedes\n",
      "llego a las características\n",
      "llego a los precios\n",
      "llego a los usos\n"
     ]
    },
    {
     "name": "stderr",
     "output_type": "stream",
     "text": [
      "\n",
      "\n",
      "====== WebDriver manager ======\n",
      "Current google-chrome version is 96.0.4664\n",
      "Get LATEST chromedriver version for 96.0.4664 google-chrome\n"
     ]
    },
    {
     "name": "stdout",
     "output_type": "stream",
     "text": [
      "282\n"
     ]
    },
    {
     "name": "stderr",
     "output_type": "stream",
     "text": [
      "Driver [/Users/franciscovispo/.wdm/drivers/chromedriver/mac64/96.0.4664.45/chromedriver] found in cache\n"
     ]
    },
    {
     "name": "stdout",
     "output_type": "stream",
     "text": [
      "llego a los huespedes\n",
      "llego a las características\n",
      "llego a los precios\n",
      "llego a los usos\n"
     ]
    },
    {
     "name": "stderr",
     "output_type": "stream",
     "text": [
      "\n",
      "\n",
      "====== WebDriver manager ======\n",
      "Current google-chrome version is 96.0.4664\n",
      "Get LATEST chromedriver version for 96.0.4664 google-chrome\n"
     ]
    },
    {
     "name": "stdout",
     "output_type": "stream",
     "text": [
      "283\n"
     ]
    },
    {
     "name": "stderr",
     "output_type": "stream",
     "text": [
      "Driver [/Users/franciscovispo/.wdm/drivers/chromedriver/mac64/96.0.4664.45/chromedriver] found in cache\n"
     ]
    },
    {
     "name": "stdout",
     "output_type": "stream",
     "text": [
      "llego a los huespedes\n",
      "llego a las características\n",
      "llego a los precios\n"
     ]
    },
    {
     "name": "stderr",
     "output_type": "stream",
     "text": [
      "\n",
      "\n",
      "====== WebDriver manager ======\n"
     ]
    },
    {
     "name": "stdout",
     "output_type": "stream",
     "text": [
      "284\n"
     ]
    },
    {
     "name": "stderr",
     "output_type": "stream",
     "text": [
      "Current google-chrome version is 96.0.4664\n",
      "Get LATEST chromedriver version for 96.0.4664 google-chrome\n",
      "Driver [/Users/franciscovispo/.wdm/drivers/chromedriver/mac64/96.0.4664.45/chromedriver] found in cache\n"
     ]
    },
    {
     "name": "stdout",
     "output_type": "stream",
     "text": [
      "llego a los huespedes\n",
      "llego a las características\n",
      "llego a los precios\n",
      "llego a los usos\n"
     ]
    },
    {
     "name": "stderr",
     "output_type": "stream",
     "text": [
      "\n",
      "\n",
      "====== WebDriver manager ======\n",
      "Current google-chrome version is 96.0.4664\n",
      "Get LATEST chromedriver version for 96.0.4664 google-chrome\n"
     ]
    },
    {
     "name": "stdout",
     "output_type": "stream",
     "text": [
      "285\n"
     ]
    },
    {
     "name": "stderr",
     "output_type": "stream",
     "text": [
      "Driver [/Users/franciscovispo/.wdm/drivers/chromedriver/mac64/96.0.4664.45/chromedriver] found in cache\n"
     ]
    },
    {
     "name": "stdout",
     "output_type": "stream",
     "text": [
      "llego a los huespedes\n",
      "llego a las características\n",
      "llego a los precios\n",
      "llego a los usos\n"
     ]
    },
    {
     "name": "stderr",
     "output_type": "stream",
     "text": [
      "\n",
      "\n",
      "====== WebDriver manager ======\n"
     ]
    },
    {
     "name": "stdout",
     "output_type": "stream",
     "text": [
      "286\n"
     ]
    },
    {
     "name": "stderr",
     "output_type": "stream",
     "text": [
      "Current google-chrome version is 96.0.4664\n",
      "Get LATEST chromedriver version for 96.0.4664 google-chrome\n",
      "Driver [/Users/franciscovispo/.wdm/drivers/chromedriver/mac64/96.0.4664.45/chromedriver] found in cache\n"
     ]
    },
    {
     "name": "stdout",
     "output_type": "stream",
     "text": [
      "llego a los huespedes\n",
      "llego a las características\n",
      "llego a los precios\n",
      "llego a los usos\n"
     ]
    },
    {
     "name": "stderr",
     "output_type": "stream",
     "text": [
      "\n",
      "\n",
      "====== WebDriver manager ======\n",
      "Current google-chrome version is 96.0.4664\n",
      "Get LATEST chromedriver version for 96.0.4664 google-chrome\n"
     ]
    },
    {
     "name": "stdout",
     "output_type": "stream",
     "text": [
      "287\n"
     ]
    },
    {
     "name": "stderr",
     "output_type": "stream",
     "text": [
      "Driver [/Users/franciscovispo/.wdm/drivers/chromedriver/mac64/96.0.4664.45/chromedriver] found in cache\n"
     ]
    },
    {
     "name": "stdout",
     "output_type": "stream",
     "text": [
      "llego a los huespedes\n",
      "llego a las características\n",
      "llego a los precios\n",
      "llego a los usos\n"
     ]
    },
    {
     "name": "stderr",
     "output_type": "stream",
     "text": [
      "\n",
      "\n",
      "====== WebDriver manager ======\n",
      "Current google-chrome version is 96.0.4664\n",
      "Get LATEST chromedriver version for 96.0.4664 google-chrome\n"
     ]
    },
    {
     "name": "stdout",
     "output_type": "stream",
     "text": [
      "288\n"
     ]
    },
    {
     "name": "stderr",
     "output_type": "stream",
     "text": [
      "Driver [/Users/franciscovispo/.wdm/drivers/chromedriver/mac64/96.0.4664.45/chromedriver] found in cache\n"
     ]
    },
    {
     "name": "stdout",
     "output_type": "stream",
     "text": [
      "llego a los huespedes\n",
      "llego a las características\n",
      "llego a los precios\n",
      "llego a los usos\n"
     ]
    },
    {
     "name": "stderr",
     "output_type": "stream",
     "text": [
      "\n",
      "\n",
      "====== WebDriver manager ======\n",
      "Current google-chrome version is 96.0.4664\n",
      "Get LATEST chromedriver version for 96.0.4664 google-chrome\n"
     ]
    },
    {
     "name": "stdout",
     "output_type": "stream",
     "text": [
      "289\n"
     ]
    },
    {
     "name": "stderr",
     "output_type": "stream",
     "text": [
      "Driver [/Users/franciscovispo/.wdm/drivers/chromedriver/mac64/96.0.4664.45/chromedriver] found in cache\n"
     ]
    },
    {
     "name": "stdout",
     "output_type": "stream",
     "text": [
      "llego a los huespedes\n",
      "llego a las características\n",
      "llego a los precios\n",
      "llego a los usos\n"
     ]
    },
    {
     "name": "stderr",
     "output_type": "stream",
     "text": [
      "\n",
      "\n",
      "====== WebDriver manager ======\n",
      "Current google-chrome version is 96.0.4664\n",
      "Get LATEST chromedriver version for 96.0.4664 google-chrome\n"
     ]
    },
    {
     "name": "stdout",
     "output_type": "stream",
     "text": [
      "290\n"
     ]
    },
    {
     "name": "stderr",
     "output_type": "stream",
     "text": [
      "Driver [/Users/franciscovispo/.wdm/drivers/chromedriver/mac64/96.0.4664.45/chromedriver] found in cache\n"
     ]
    },
    {
     "name": "stdout",
     "output_type": "stream",
     "text": [
      "llego a los huespedes\n",
      "llego a las características\n",
      "llego a los precios\n",
      "llego a los usos\n"
     ]
    },
    {
     "name": "stderr",
     "output_type": "stream",
     "text": [
      "\n",
      "\n",
      "====== WebDriver manager ======\n"
     ]
    },
    {
     "name": "stdout",
     "output_type": "stream",
     "text": [
      "291\n"
     ]
    },
    {
     "name": "stderr",
     "output_type": "stream",
     "text": [
      "Current google-chrome version is 96.0.4664\n",
      "Get LATEST chromedriver version for 96.0.4664 google-chrome\n",
      "Driver [/Users/franciscovispo/.wdm/drivers/chromedriver/mac64/96.0.4664.45/chromedriver] found in cache\n"
     ]
    },
    {
     "name": "stdout",
     "output_type": "stream",
     "text": [
      "llego a los huespedes\n",
      "llego a las características\n",
      "llego a los precios\n",
      "llego a los usos\n"
     ]
    },
    {
     "name": "stderr",
     "output_type": "stream",
     "text": [
      "\n",
      "\n",
      "====== WebDriver manager ======\n"
     ]
    },
    {
     "name": "stdout",
     "output_type": "stream",
     "text": [
      "292\n"
     ]
    },
    {
     "name": "stderr",
     "output_type": "stream",
     "text": [
      "Current google-chrome version is 96.0.4664\n",
      "Get LATEST chromedriver version for 96.0.4664 google-chrome\n",
      "Driver [/Users/franciscovispo/.wdm/drivers/chromedriver/mac64/96.0.4664.45/chromedriver] found in cache\n"
     ]
    },
    {
     "name": "stdout",
     "output_type": "stream",
     "text": [
      "llego a los huespedes\n",
      "llego a las características\n",
      "llego a los precios\n",
      "llego a los usos\n"
     ]
    },
    {
     "name": "stderr",
     "output_type": "stream",
     "text": [
      "\n",
      "\n",
      "====== WebDriver manager ======\n"
     ]
    },
    {
     "name": "stdout",
     "output_type": "stream",
     "text": [
      "293\n"
     ]
    },
    {
     "name": "stderr",
     "output_type": "stream",
     "text": [
      "Current google-chrome version is 96.0.4664\n",
      "Get LATEST chromedriver version for 96.0.4664 google-chrome\n",
      "Driver [/Users/franciscovispo/.wdm/drivers/chromedriver/mac64/96.0.4664.45/chromedriver] found in cache\n"
     ]
    },
    {
     "name": "stdout",
     "output_type": "stream",
     "text": [
      "llego a los huespedes\n",
      "llego a las características\n",
      "llego a los precios\n",
      "llego a los usos\n"
     ]
    },
    {
     "name": "stderr",
     "output_type": "stream",
     "text": [
      "\n",
      "\n",
      "====== WebDriver manager ======\n",
      "Current google-chrome version is 96.0.4664\n",
      "Get LATEST chromedriver version for 96.0.4664 google-chrome\n"
     ]
    },
    {
     "name": "stdout",
     "output_type": "stream",
     "text": [
      "294\n"
     ]
    },
    {
     "name": "stderr",
     "output_type": "stream",
     "text": [
      "Driver [/Users/franciscovispo/.wdm/drivers/chromedriver/mac64/96.0.4664.45/chromedriver] found in cache\n"
     ]
    },
    {
     "name": "stdout",
     "output_type": "stream",
     "text": [
      "llego a los huespedes\n",
      "llego a las características\n",
      "llego a los precios\n",
      "llego a los usos\n"
     ]
    },
    {
     "name": "stderr",
     "output_type": "stream",
     "text": [
      "\n",
      "\n",
      "====== WebDriver manager ======\n"
     ]
    },
    {
     "name": "stdout",
     "output_type": "stream",
     "text": [
      "295\n"
     ]
    },
    {
     "name": "stderr",
     "output_type": "stream",
     "text": [
      "Current google-chrome version is 96.0.4664\n",
      "Get LATEST chromedriver version for 96.0.4664 google-chrome\n",
      "Driver [/Users/franciscovispo/.wdm/drivers/chromedriver/mac64/96.0.4664.45/chromedriver] found in cache\n"
     ]
    },
    {
     "name": "stdout",
     "output_type": "stream",
     "text": [
      "llego a los huespedes\n",
      "llego a las características\n",
      "llego a los precios\n",
      "llego a los usos\n"
     ]
    },
    {
     "name": "stderr",
     "output_type": "stream",
     "text": [
      "\n",
      "\n",
      "====== WebDriver manager ======\n",
      "Current google-chrome version is 96.0.4664\n",
      "Get LATEST chromedriver version for 96.0.4664 google-chrome\n"
     ]
    },
    {
     "name": "stdout",
     "output_type": "stream",
     "text": [
      "296\n"
     ]
    },
    {
     "name": "stderr",
     "output_type": "stream",
     "text": [
      "Driver [/Users/franciscovispo/.wdm/drivers/chromedriver/mac64/96.0.4664.45/chromedriver] found in cache\n"
     ]
    },
    {
     "name": "stdout",
     "output_type": "stream",
     "text": [
      "llego a los huespedes\n",
      "llego a las características\n",
      "llego a los precios\n",
      "llego a los usos\n"
     ]
    },
    {
     "name": "stderr",
     "output_type": "stream",
     "text": [
      "\n",
      "\n",
      "====== WebDriver manager ======\n",
      "Current google-chrome version is 96.0.4664\n",
      "Get LATEST chromedriver version for 96.0.4664 google-chrome\n"
     ]
    },
    {
     "name": "stdout",
     "output_type": "stream",
     "text": [
      "297\n"
     ]
    },
    {
     "name": "stderr",
     "output_type": "stream",
     "text": [
      "Driver [/Users/franciscovispo/.wdm/drivers/chromedriver/mac64/96.0.4664.45/chromedriver] found in cache\n"
     ]
    },
    {
     "name": "stdout",
     "output_type": "stream",
     "text": [
      "llego a los huespedes\n",
      "llego a las características\n",
      "llego a los precios\n",
      "llego a los usos\n"
     ]
    },
    {
     "name": "stderr",
     "output_type": "stream",
     "text": [
      "\n",
      "\n",
      "====== WebDriver manager ======\n",
      "Current google-chrome version is 96.0.4664\n"
     ]
    },
    {
     "name": "stdout",
     "output_type": "stream",
     "text": [
      "298\n"
     ]
    },
    {
     "name": "stderr",
     "output_type": "stream",
     "text": [
      "Get LATEST chromedriver version for 96.0.4664 google-chrome\n",
      "Driver [/Users/franciscovispo/.wdm/drivers/chromedriver/mac64/96.0.4664.45/chromedriver] found in cache\n"
     ]
    },
    {
     "name": "stdout",
     "output_type": "stream",
     "text": [
      "llego a los huespedes\n",
      "llego a las características\n",
      "llego a los precios\n",
      "llego a los usos\n"
     ]
    },
    {
     "name": "stderr",
     "output_type": "stream",
     "text": [
      "\n",
      "\n",
      "====== WebDriver manager ======\n"
     ]
    },
    {
     "name": "stdout",
     "output_type": "stream",
     "text": [
      "299\n"
     ]
    },
    {
     "name": "stderr",
     "output_type": "stream",
     "text": [
      "Current google-chrome version is 96.0.4664\n",
      "Get LATEST chromedriver version for 96.0.4664 google-chrome\n",
      "Driver [/Users/franciscovispo/.wdm/drivers/chromedriver/mac64/96.0.4664.45/chromedriver] found in cache\n"
     ]
    },
    {
     "name": "stdout",
     "output_type": "stream",
     "text": [
      "llego a los huespedes\n",
      "llego a las características\n",
      "llego a los precios\n",
      "llego a los usos\n"
     ]
    },
    {
     "name": "stderr",
     "output_type": "stream",
     "text": [
      "\n",
      "\n",
      "====== WebDriver manager ======\n",
      "Current google-chrome version is 96.0.4664\n",
      "Get LATEST chromedriver version for 96.0.4664 google-chrome\n"
     ]
    },
    {
     "name": "stdout",
     "output_type": "stream",
     "text": [
      "300\n"
     ]
    },
    {
     "name": "stderr",
     "output_type": "stream",
     "text": [
      "Driver [/Users/franciscovispo/.wdm/drivers/chromedriver/mac64/96.0.4664.45/chromedriver] found in cache\n"
     ]
    },
    {
     "name": "stdout",
     "output_type": "stream",
     "text": [
      "llego a los huespedes\n",
      "llego a las características\n",
      "llego a los precios\n",
      "llego a los usos\n"
     ]
    },
    {
     "name": "stderr",
     "output_type": "stream",
     "text": [
      "\n",
      "\n",
      "====== WebDriver manager ======\n",
      "Current google-chrome version is 96.0.4664\n",
      "Get LATEST chromedriver version for 96.0.4664 google-chrome\n"
     ]
    },
    {
     "name": "stdout",
     "output_type": "stream",
     "text": [
      "301\n"
     ]
    },
    {
     "name": "stderr",
     "output_type": "stream",
     "text": [
      "Driver [/Users/franciscovispo/.wdm/drivers/chromedriver/mac64/96.0.4664.45/chromedriver] found in cache\n"
     ]
    },
    {
     "name": "stdout",
     "output_type": "stream",
     "text": [
      "llego a los huespedes\n",
      "llego a las características\n",
      "llego a los precios\n",
      "llego a los usos\n"
     ]
    },
    {
     "name": "stderr",
     "output_type": "stream",
     "text": [
      "\n",
      "\n",
      "====== WebDriver manager ======\n",
      "Current google-chrome version is 96.0.4664\n",
      "Get LATEST chromedriver version for 96.0.4664 google-chrome\n"
     ]
    },
    {
     "name": "stdout",
     "output_type": "stream",
     "text": [
      "302\n"
     ]
    },
    {
     "name": "stderr",
     "output_type": "stream",
     "text": [
      "Driver [/Users/franciscovispo/.wdm/drivers/chromedriver/mac64/96.0.4664.45/chromedriver] found in cache\n"
     ]
    },
    {
     "name": "stdout",
     "output_type": "stream",
     "text": [
      "llego a los huespedes\n",
      "llego a las características\n",
      "llego a los precios\n",
      "llego a los usos\n"
     ]
    },
    {
     "name": "stderr",
     "output_type": "stream",
     "text": [
      "\n",
      "\n",
      "====== WebDriver manager ======\n",
      "Current google-chrome version is 96.0.4664\n",
      "Get LATEST chromedriver version for 96.0.4664 google-chrome\n"
     ]
    },
    {
     "name": "stdout",
     "output_type": "stream",
     "text": [
      "303\n"
     ]
    },
    {
     "name": "stderr",
     "output_type": "stream",
     "text": [
      "Driver [/Users/franciscovispo/.wdm/drivers/chromedriver/mac64/96.0.4664.45/chromedriver] found in cache\n"
     ]
    },
    {
     "name": "stdout",
     "output_type": "stream",
     "text": [
      "llego a los huespedes\n",
      "llego a las características\n",
      "llego a los precios\n",
      "llego a los usos\n"
     ]
    },
    {
     "name": "stderr",
     "output_type": "stream",
     "text": [
      "\n",
      "\n",
      "====== WebDriver manager ======\n",
      "Current google-chrome version is 96.0.4664\n",
      "Get LATEST chromedriver version for 96.0.4664 google-chrome\n"
     ]
    },
    {
     "name": "stdout",
     "output_type": "stream",
     "text": [
      "304\n"
     ]
    },
    {
     "name": "stderr",
     "output_type": "stream",
     "text": [
      "Driver [/Users/franciscovispo/.wdm/drivers/chromedriver/mac64/96.0.4664.45/chromedriver] found in cache\n"
     ]
    },
    {
     "name": "stdout",
     "output_type": "stream",
     "text": [
      "llego a los huespedes\n",
      "llego a las características\n",
      "llego a los precios\n",
      "llego a los usos\n"
     ]
    },
    {
     "name": "stderr",
     "output_type": "stream",
     "text": [
      "\n",
      "\n",
      "====== WebDriver manager ======\n",
      "Current google-chrome version is 96.0.4664\n",
      "Get LATEST chromedriver version for 96.0.4664 google-chrome\n"
     ]
    },
    {
     "name": "stdout",
     "output_type": "stream",
     "text": [
      "305\n"
     ]
    },
    {
     "name": "stderr",
     "output_type": "stream",
     "text": [
      "Driver [/Users/franciscovispo/.wdm/drivers/chromedriver/mac64/96.0.4664.45/chromedriver] found in cache\n"
     ]
    },
    {
     "name": "stdout",
     "output_type": "stream",
     "text": [
      "llego a los huespedes\n",
      "llego a las características\n",
      "llego a los precios\n",
      "llego a los usos\n"
     ]
    },
    {
     "name": "stderr",
     "output_type": "stream",
     "text": [
      "\n",
      "\n",
      "====== WebDriver manager ======\n"
     ]
    },
    {
     "name": "stdout",
     "output_type": "stream",
     "text": [
      "306\n"
     ]
    },
    {
     "name": "stderr",
     "output_type": "stream",
     "text": [
      "Current google-chrome version is 96.0.4664\n",
      "Get LATEST chromedriver version for 96.0.4664 google-chrome\n",
      "Driver [/Users/franciscovispo/.wdm/drivers/chromedriver/mac64/96.0.4664.45/chromedriver] found in cache\n"
     ]
    },
    {
     "name": "stdout",
     "output_type": "stream",
     "text": [
      "llego a los huespedes\n",
      "llego a las características\n",
      "llego a los precios\n",
      "llego a los usos\n"
     ]
    },
    {
     "name": "stderr",
     "output_type": "stream",
     "text": [
      "\n",
      "\n",
      "====== WebDriver manager ======\n",
      "Current google-chrome version is 96.0.4664\n",
      "Get LATEST chromedriver version for 96.0.4664 google-chrome\n"
     ]
    },
    {
     "name": "stdout",
     "output_type": "stream",
     "text": [
      "307\n"
     ]
    },
    {
     "name": "stderr",
     "output_type": "stream",
     "text": [
      "Driver [/Users/franciscovispo/.wdm/drivers/chromedriver/mac64/96.0.4664.45/chromedriver] found in cache\n"
     ]
    },
    {
     "name": "stdout",
     "output_type": "stream",
     "text": [
      "llego a los huespedes\n",
      "llego a las características\n",
      "llego a los precios\n",
      "llego a los usos\n"
     ]
    },
    {
     "name": "stderr",
     "output_type": "stream",
     "text": [
      "\n",
      "\n",
      "====== WebDriver manager ======\n",
      "Current google-chrome version is 96.0.4664\n",
      "Get LATEST chromedriver version for 96.0.4664 google-chrome\n"
     ]
    },
    {
     "name": "stdout",
     "output_type": "stream",
     "text": [
      "308\n"
     ]
    },
    {
     "name": "stderr",
     "output_type": "stream",
     "text": [
      "Driver [/Users/franciscovispo/.wdm/drivers/chromedriver/mac64/96.0.4664.45/chromedriver] found in cache\n"
     ]
    },
    {
     "name": "stdout",
     "output_type": "stream",
     "text": [
      "llego a los huespedes\n",
      "llego a las características\n",
      "llego a los precios\n",
      "llego a los usos\n"
     ]
    },
    {
     "name": "stderr",
     "output_type": "stream",
     "text": [
      "\n",
      "\n",
      "====== WebDriver manager ======\n",
      "Current google-chrome version is 96.0.4664\n",
      "Get LATEST chromedriver version for 96.0.4664 google-chrome\n"
     ]
    },
    {
     "name": "stdout",
     "output_type": "stream",
     "text": [
      "309\n"
     ]
    },
    {
     "name": "stderr",
     "output_type": "stream",
     "text": [
      "Driver [/Users/franciscovispo/.wdm/drivers/chromedriver/mac64/96.0.4664.45/chromedriver] found in cache\n"
     ]
    },
    {
     "name": "stdout",
     "output_type": "stream",
     "text": [
      "llego a los huespedes\n",
      "llego a las características\n",
      "llego a los precios\n",
      "llego a los usos\n"
     ]
    },
    {
     "name": "stderr",
     "output_type": "stream",
     "text": [
      "\n",
      "\n",
      "====== WebDriver manager ======\n",
      "Current google-chrome version is 96.0.4664\n",
      "Get LATEST chromedriver version for 96.0.4664 google-chrome\n"
     ]
    },
    {
     "name": "stdout",
     "output_type": "stream",
     "text": [
      "310\n"
     ]
    },
    {
     "name": "stderr",
     "output_type": "stream",
     "text": [
      "Driver [/Users/franciscovispo/.wdm/drivers/chromedriver/mac64/96.0.4664.45/chromedriver] found in cache\n"
     ]
    },
    {
     "name": "stdout",
     "output_type": "stream",
     "text": [
      "llego a los huespedes\n",
      "llego a las características\n",
      "llego a los precios\n",
      "llego a los usos\n"
     ]
    },
    {
     "name": "stderr",
     "output_type": "stream",
     "text": [
      "\n",
      "\n",
      "====== WebDriver manager ======\n",
      "Current google-chrome version is 96.0.4664\n",
      "Get LATEST chromedriver version for 96.0.4664 google-chrome\n"
     ]
    },
    {
     "name": "stdout",
     "output_type": "stream",
     "text": [
      "311\n"
     ]
    },
    {
     "name": "stderr",
     "output_type": "stream",
     "text": [
      "Driver [/Users/franciscovispo/.wdm/drivers/chromedriver/mac64/96.0.4664.45/chromedriver] found in cache\n"
     ]
    },
    {
     "name": "stdout",
     "output_type": "stream",
     "text": [
      "llego a los huespedes\n",
      "llego a las características\n",
      "llego a los precios\n",
      "llego a los usos\n"
     ]
    },
    {
     "name": "stderr",
     "output_type": "stream",
     "text": [
      "\n",
      "\n",
      "====== WebDriver manager ======\n",
      "Current google-chrome version is 96.0.4664\n",
      "Get LATEST chromedriver version for 96.0.4664 google-chrome\n"
     ]
    },
    {
     "name": "stdout",
     "output_type": "stream",
     "text": [
      "312\n"
     ]
    },
    {
     "name": "stderr",
     "output_type": "stream",
     "text": [
      "Driver [/Users/franciscovispo/.wdm/drivers/chromedriver/mac64/96.0.4664.45/chromedriver] found in cache\n"
     ]
    },
    {
     "name": "stdout",
     "output_type": "stream",
     "text": [
      "llego a los huespedes\n",
      "llego a las características\n",
      "llego a los precios\n",
      "llego a los usos\n"
     ]
    },
    {
     "name": "stderr",
     "output_type": "stream",
     "text": [
      "\n",
      "\n",
      "====== WebDriver manager ======\n",
      "Current google-chrome version is 96.0.4664\n",
      "Get LATEST chromedriver version for 96.0.4664 google-chrome\n"
     ]
    },
    {
     "name": "stdout",
     "output_type": "stream",
     "text": [
      "313\n"
     ]
    },
    {
     "name": "stderr",
     "output_type": "stream",
     "text": [
      "Driver [/Users/franciscovispo/.wdm/drivers/chromedriver/mac64/96.0.4664.45/chromedriver] found in cache\n"
     ]
    },
    {
     "name": "stdout",
     "output_type": "stream",
     "text": [
      "llego a los huespedes\n",
      "llego a las características\n",
      "llego a los precios\n",
      "llego a los usos\n"
     ]
    },
    {
     "name": "stderr",
     "output_type": "stream",
     "text": [
      "\n",
      "\n",
      "====== WebDriver manager ======\n",
      "Current google-chrome version is 96.0.4664\n",
      "Get LATEST chromedriver version for 96.0.4664 google-chrome\n"
     ]
    },
    {
     "name": "stdout",
     "output_type": "stream",
     "text": [
      "314\n"
     ]
    },
    {
     "name": "stderr",
     "output_type": "stream",
     "text": [
      "Driver [/Users/franciscovispo/.wdm/drivers/chromedriver/mac64/96.0.4664.45/chromedriver] found in cache\n"
     ]
    },
    {
     "name": "stdout",
     "output_type": "stream",
     "text": [
      "llego a los huespedes\n",
      "llego a las características\n",
      "llego a los precios\n",
      "llego a los usos\n"
     ]
    },
    {
     "name": "stderr",
     "output_type": "stream",
     "text": [
      "\n",
      "\n",
      "====== WebDriver manager ======\n"
     ]
    },
    {
     "name": "stdout",
     "output_type": "stream",
     "text": [
      "315\n"
     ]
    },
    {
     "name": "stderr",
     "output_type": "stream",
     "text": [
      "Current google-chrome version is 96.0.4664\n",
      "Get LATEST chromedriver version for 96.0.4664 google-chrome\n",
      "Driver [/Users/franciscovispo/.wdm/drivers/chromedriver/mac64/96.0.4664.45/chromedriver] found in cache\n"
     ]
    },
    {
     "name": "stdout",
     "output_type": "stream",
     "text": [
      "llego a los huespedes\n",
      "llego a las características\n",
      "llego a los precios\n",
      "llego a los usos\n"
     ]
    },
    {
     "name": "stderr",
     "output_type": "stream",
     "text": [
      "\n",
      "\n",
      "====== WebDriver manager ======\n",
      "Current google-chrome version is 96.0.4664\n",
      "Get LATEST chromedriver version for 96.0.4664 google-chrome\n"
     ]
    },
    {
     "name": "stdout",
     "output_type": "stream",
     "text": [
      "316\n"
     ]
    },
    {
     "name": "stderr",
     "output_type": "stream",
     "text": [
      "Driver [/Users/franciscovispo/.wdm/drivers/chromedriver/mac64/96.0.4664.45/chromedriver] found in cache\n"
     ]
    },
    {
     "name": "stdout",
     "output_type": "stream",
     "text": [
      "llego a los huespedes\n",
      "llego a las características\n",
      "llego a los precios\n",
      "llego a los usos\n"
     ]
    },
    {
     "name": "stderr",
     "output_type": "stream",
     "text": [
      "\n",
      "\n",
      "====== WebDriver manager ======\n",
      "Current google-chrome version is 96.0.4664\n",
      "Get LATEST chromedriver version for 96.0.4664 google-chrome\n"
     ]
    },
    {
     "name": "stdout",
     "output_type": "stream",
     "text": [
      "317\n"
     ]
    },
    {
     "name": "stderr",
     "output_type": "stream",
     "text": [
      "Driver [/Users/franciscovispo/.wdm/drivers/chromedriver/mac64/96.0.4664.45/chromedriver] found in cache\n"
     ]
    },
    {
     "name": "stdout",
     "output_type": "stream",
     "text": [
      "llego a los huespedes\n",
      "llego a las características\n",
      "llego a los precios\n",
      "llego a los usos\n"
     ]
    },
    {
     "name": "stderr",
     "output_type": "stream",
     "text": [
      "\n",
      "\n",
      "====== WebDriver manager ======\n",
      "Current google-chrome version is 96.0.4664\n"
     ]
    },
    {
     "name": "stdout",
     "output_type": "stream",
     "text": [
      "318\n"
     ]
    },
    {
     "name": "stderr",
     "output_type": "stream",
     "text": [
      "Get LATEST chromedriver version for 96.0.4664 google-chrome\n",
      "Driver [/Users/franciscovispo/.wdm/drivers/chromedriver/mac64/96.0.4664.45/chromedriver] found in cache\n"
     ]
    },
    {
     "name": "stdout",
     "output_type": "stream",
     "text": [
      "llego a los huespedes\n",
      "llego a las características\n",
      "llego a los precios\n",
      "llego a los usos\n"
     ]
    },
    {
     "name": "stderr",
     "output_type": "stream",
     "text": [
      "\n",
      "\n",
      "====== WebDriver manager ======\n",
      "Current google-chrome version is 96.0.4664\n",
      "Get LATEST chromedriver version for 96.0.4664 google-chrome\n"
     ]
    },
    {
     "name": "stdout",
     "output_type": "stream",
     "text": [
      "319\n"
     ]
    },
    {
     "name": "stderr",
     "output_type": "stream",
     "text": [
      "Driver [/Users/franciscovispo/.wdm/drivers/chromedriver/mac64/96.0.4664.45/chromedriver] found in cache\n"
     ]
    },
    {
     "name": "stdout",
     "output_type": "stream",
     "text": [
      "llego a los huespedes\n",
      "llego a las características\n",
      "llego a los precios\n",
      "llego a los usos\n"
     ]
    },
    {
     "name": "stderr",
     "output_type": "stream",
     "text": [
      "\n",
      "\n",
      "====== WebDriver manager ======\n",
      "Current google-chrome version is 96.0.4664\n",
      "Get LATEST chromedriver version for 96.0.4664 google-chrome\n"
     ]
    },
    {
     "name": "stdout",
     "output_type": "stream",
     "text": [
      "320\n"
     ]
    },
    {
     "name": "stderr",
     "output_type": "stream",
     "text": [
      "Driver [/Users/franciscovispo/.wdm/drivers/chromedriver/mac64/96.0.4664.45/chromedriver] found in cache\n"
     ]
    },
    {
     "name": "stdout",
     "output_type": "stream",
     "text": [
      "llego a los huespedes\n",
      "llego a las características\n",
      "llego a los precios\n",
      "llego a los usos\n"
     ]
    },
    {
     "name": "stderr",
     "output_type": "stream",
     "text": [
      "\n",
      "\n",
      "====== WebDriver manager ======\n"
     ]
    },
    {
     "name": "stdout",
     "output_type": "stream",
     "text": [
      "321\n"
     ]
    },
    {
     "name": "stderr",
     "output_type": "stream",
     "text": [
      "Current google-chrome version is 96.0.4664\n",
      "Get LATEST chromedriver version for 96.0.4664 google-chrome\n",
      "Driver [/Users/franciscovispo/.wdm/drivers/chromedriver/mac64/96.0.4664.45/chromedriver] found in cache\n"
     ]
    },
    {
     "name": "stdout",
     "output_type": "stream",
     "text": [
      "llego a los huespedes\n",
      "llego a las características\n",
      "llego a los precios\n",
      "llego a los usos\n"
     ]
    },
    {
     "name": "stderr",
     "output_type": "stream",
     "text": [
      "\n",
      "\n",
      "====== WebDriver manager ======\n",
      "Current google-chrome version is 96.0.4664\n",
      "Get LATEST chromedriver version for 96.0.4664 google-chrome\n"
     ]
    },
    {
     "name": "stdout",
     "output_type": "stream",
     "text": [
      "322\n"
     ]
    },
    {
     "name": "stderr",
     "output_type": "stream",
     "text": [
      "Driver [/Users/franciscovispo/.wdm/drivers/chromedriver/mac64/96.0.4664.45/chromedriver] found in cache\n"
     ]
    },
    {
     "name": "stdout",
     "output_type": "stream",
     "text": [
      "llego a los huespedes\n",
      "llego a las características\n",
      "llego a los precios\n",
      "llego a los usos\n"
     ]
    },
    {
     "name": "stderr",
     "output_type": "stream",
     "text": [
      "\n",
      "\n",
      "====== WebDriver manager ======\n"
     ]
    },
    {
     "name": "stdout",
     "output_type": "stream",
     "text": [
      "323\n"
     ]
    },
    {
     "name": "stderr",
     "output_type": "stream",
     "text": [
      "Current google-chrome version is 96.0.4664\n",
      "Get LATEST chromedriver version for 96.0.4664 google-chrome\n",
      "Driver [/Users/franciscovispo/.wdm/drivers/chromedriver/mac64/96.0.4664.45/chromedriver] found in cache\n"
     ]
    },
    {
     "name": "stdout",
     "output_type": "stream",
     "text": [
      "llego a los huespedes\n",
      "llego a las características\n",
      "llego a los precios\n",
      "llego a los usos\n"
     ]
    },
    {
     "name": "stderr",
     "output_type": "stream",
     "text": [
      "\n",
      "\n",
      "====== WebDriver manager ======\n",
      "Current google-chrome version is 96.0.4664\n",
      "Get LATEST chromedriver version for 96.0.4664 google-chrome\n"
     ]
    },
    {
     "name": "stdout",
     "output_type": "stream",
     "text": [
      "324\n"
     ]
    },
    {
     "name": "stderr",
     "output_type": "stream",
     "text": [
      "Driver [/Users/franciscovispo/.wdm/drivers/chromedriver/mac64/96.0.4664.45/chromedriver] found in cache\n"
     ]
    },
    {
     "name": "stdout",
     "output_type": "stream",
     "text": [
      "llego a los huespedes\n",
      "llego a las características\n",
      "llego a los precios\n",
      "llego a los usos\n"
     ]
    },
    {
     "name": "stderr",
     "output_type": "stream",
     "text": [
      "\n",
      "\n",
      "====== WebDriver manager ======\n"
     ]
    },
    {
     "name": "stdout",
     "output_type": "stream",
     "text": [
      "325\n"
     ]
    },
    {
     "name": "stderr",
     "output_type": "stream",
     "text": [
      "Current google-chrome version is 96.0.4664\n",
      "Get LATEST chromedriver version for 96.0.4664 google-chrome\n",
      "Driver [/Users/franciscovispo/.wdm/drivers/chromedriver/mac64/96.0.4664.45/chromedriver] found in cache\n"
     ]
    },
    {
     "name": "stdout",
     "output_type": "stream",
     "text": [
      "llego a los huespedes\n",
      "llego a las características\n",
      "llego a los precios\n",
      "llego a los usos\n"
     ]
    },
    {
     "name": "stderr",
     "output_type": "stream",
     "text": [
      "\n",
      "\n",
      "====== WebDriver manager ======\n",
      "Current google-chrome version is 96.0.4664\n",
      "Get LATEST chromedriver version for 96.0.4664 google-chrome\n"
     ]
    },
    {
     "name": "stdout",
     "output_type": "stream",
     "text": [
      "326\n"
     ]
    },
    {
     "name": "stderr",
     "output_type": "stream",
     "text": [
      "Driver [/Users/franciscovispo/.wdm/drivers/chromedriver/mac64/96.0.4664.45/chromedriver] found in cache\n"
     ]
    },
    {
     "name": "stdout",
     "output_type": "stream",
     "text": [
      "llego a los huespedes\n",
      "llego a las características\n",
      "llego a los precios\n",
      "llego a los usos\n"
     ]
    },
    {
     "name": "stderr",
     "output_type": "stream",
     "text": [
      "\n",
      "\n",
      "====== WebDriver manager ======\n"
     ]
    },
    {
     "name": "stdout",
     "output_type": "stream",
     "text": [
      "327\n"
     ]
    },
    {
     "name": "stderr",
     "output_type": "stream",
     "text": [
      "Current google-chrome version is 96.0.4664\n",
      "Get LATEST chromedriver version for 96.0.4664 google-chrome\n",
      "Driver [/Users/franciscovispo/.wdm/drivers/chromedriver/mac64/96.0.4664.45/chromedriver] found in cache\n"
     ]
    },
    {
     "name": "stdout",
     "output_type": "stream",
     "text": [
      "llego a los huespedes\n",
      "llego a las características\n",
      "llego a los precios\n",
      "llego a los usos\n"
     ]
    },
    {
     "name": "stderr",
     "output_type": "stream",
     "text": [
      "\n",
      "\n",
      "====== WebDriver manager ======\n",
      "Current google-chrome version is 96.0.4664\n",
      "Get LATEST chromedriver version for 96.0.4664 google-chrome\n"
     ]
    },
    {
     "name": "stdout",
     "output_type": "stream",
     "text": [
      "328\n"
     ]
    },
    {
     "name": "stderr",
     "output_type": "stream",
     "text": [
      "Driver [/Users/franciscovispo/.wdm/drivers/chromedriver/mac64/96.0.4664.45/chromedriver] found in cache\n"
     ]
    },
    {
     "name": "stdout",
     "output_type": "stream",
     "text": [
      "llego a los huespedes\n",
      "llego a las características\n",
      "llego a los precios\n",
      "llego a los usos\n"
     ]
    },
    {
     "name": "stderr",
     "output_type": "stream",
     "text": [
      "\n",
      "\n",
      "====== WebDriver manager ======\n",
      "Current google-chrome version is 96.0.4664\n",
      "Get LATEST chromedriver version for 96.0.4664 google-chrome\n"
     ]
    },
    {
     "name": "stdout",
     "output_type": "stream",
     "text": [
      "329\n"
     ]
    },
    {
     "name": "stderr",
     "output_type": "stream",
     "text": [
      "Driver [/Users/franciscovispo/.wdm/drivers/chromedriver/mac64/96.0.4664.45/chromedriver] found in cache\n"
     ]
    },
    {
     "name": "stdout",
     "output_type": "stream",
     "text": [
      "llego a los huespedes\n",
      "llego a las características\n",
      "llego a los precios\n",
      "llego a los usos\n"
     ]
    },
    {
     "name": "stderr",
     "output_type": "stream",
     "text": [
      "\n",
      "\n",
      "====== WebDriver manager ======\n"
     ]
    },
    {
     "name": "stdout",
     "output_type": "stream",
     "text": [
      "330\n"
     ]
    },
    {
     "name": "stderr",
     "output_type": "stream",
     "text": [
      "Current google-chrome version is 96.0.4664\n",
      "Get LATEST chromedriver version for 96.0.4664 google-chrome\n",
      "Driver [/Users/franciscovispo/.wdm/drivers/chromedriver/mac64/96.0.4664.45/chromedriver] found in cache\n"
     ]
    },
    {
     "name": "stdout",
     "output_type": "stream",
     "text": [
      "llego a los huespedes\n",
      "llego a las características\n",
      "llego a los precios\n",
      "llego a los usos\n"
     ]
    },
    {
     "name": "stderr",
     "output_type": "stream",
     "text": [
      "\n",
      "\n",
      "====== WebDriver manager ======\n",
      "Current google-chrome version is 96.0.4664\n",
      "Get LATEST chromedriver version for 96.0.4664 google-chrome\n"
     ]
    },
    {
     "name": "stdout",
     "output_type": "stream",
     "text": [
      "331\n"
     ]
    },
    {
     "name": "stderr",
     "output_type": "stream",
     "text": [
      "Driver [/Users/franciscovispo/.wdm/drivers/chromedriver/mac64/96.0.4664.45/chromedriver] found in cache\n"
     ]
    },
    {
     "name": "stdout",
     "output_type": "stream",
     "text": [
      "llego a los huespedes\n",
      "llego a las características\n",
      "llego a los precios\n",
      "llego a los usos\n"
     ]
    },
    {
     "name": "stderr",
     "output_type": "stream",
     "text": [
      "\n",
      "\n",
      "====== WebDriver manager ======\n"
     ]
    },
    {
     "name": "stdout",
     "output_type": "stream",
     "text": [
      "332\n"
     ]
    },
    {
     "name": "stderr",
     "output_type": "stream",
     "text": [
      "Current google-chrome version is 96.0.4664\n",
      "Get LATEST chromedriver version for 96.0.4664 google-chrome\n",
      "Driver [/Users/franciscovispo/.wdm/drivers/chromedriver/mac64/96.0.4664.45/chromedriver] found in cache\n"
     ]
    },
    {
     "name": "stdout",
     "output_type": "stream",
     "text": [
      "llego a los huespedes\n",
      "llego a las características\n",
      "llego a los precios\n",
      "llego a los usos\n"
     ]
    },
    {
     "name": "stderr",
     "output_type": "stream",
     "text": [
      "\n",
      "\n",
      "====== WebDriver manager ======\n"
     ]
    },
    {
     "name": "stdout",
     "output_type": "stream",
     "text": [
      "333\n"
     ]
    },
    {
     "name": "stderr",
     "output_type": "stream",
     "text": [
      "Current google-chrome version is 96.0.4664\n",
      "Get LATEST chromedriver version for 96.0.4664 google-chrome\n",
      "Driver [/Users/franciscovispo/.wdm/drivers/chromedriver/mac64/96.0.4664.45/chromedriver] found in cache\n"
     ]
    },
    {
     "name": "stdout",
     "output_type": "stream",
     "text": [
      "llego a los huespedes\n",
      "llego a las características\n",
      "llego a los precios\n",
      "llego a los usos\n"
     ]
    },
    {
     "name": "stderr",
     "output_type": "stream",
     "text": [
      "\n",
      "\n",
      "====== WebDriver manager ======\n",
      "Current google-chrome version is 96.0.4664\n",
      "Get LATEST chromedriver version for 96.0.4664 google-chrome\n"
     ]
    },
    {
     "name": "stdout",
     "output_type": "stream",
     "text": [
      "334\n"
     ]
    },
    {
     "name": "stderr",
     "output_type": "stream",
     "text": [
      "Driver [/Users/franciscovispo/.wdm/drivers/chromedriver/mac64/96.0.4664.45/chromedriver] found in cache\n"
     ]
    },
    {
     "name": "stdout",
     "output_type": "stream",
     "text": [
      "llego a los huespedes\n",
      "llego a las características\n",
      "llego a los precios\n",
      "llego a los usos\n"
     ]
    },
    {
     "name": "stderr",
     "output_type": "stream",
     "text": [
      "\n",
      "\n",
      "====== WebDriver manager ======\n"
     ]
    },
    {
     "name": "stdout",
     "output_type": "stream",
     "text": [
      "335\n"
     ]
    },
    {
     "name": "stderr",
     "output_type": "stream",
     "text": [
      "Current google-chrome version is 96.0.4664\n",
      "Get LATEST chromedriver version for 96.0.4664 google-chrome\n",
      "Driver [/Users/franciscovispo/.wdm/drivers/chromedriver/mac64/96.0.4664.45/chromedriver] found in cache\n"
     ]
    },
    {
     "name": "stdout",
     "output_type": "stream",
     "text": [
      "llego a los huespedes\n",
      "llego a las características\n",
      "llego a los precios\n",
      "llego a los usos\n"
     ]
    },
    {
     "name": "stderr",
     "output_type": "stream",
     "text": [
      "\n",
      "\n",
      "====== WebDriver manager ======\n",
      "Current google-chrome version is 96.0.4664\n"
     ]
    },
    {
     "name": "stdout",
     "output_type": "stream",
     "text": [
      "336\n"
     ]
    },
    {
     "name": "stderr",
     "output_type": "stream",
     "text": [
      "Get LATEST chromedriver version for 96.0.4664 google-chrome\n",
      "Driver [/Users/franciscovispo/.wdm/drivers/chromedriver/mac64/96.0.4664.45/chromedriver] found in cache\n"
     ]
    },
    {
     "name": "stdout",
     "output_type": "stream",
     "text": [
      "llego a los huespedes\n",
      "llego a las características\n",
      "llego a los precios\n",
      "llego a los usos\n"
     ]
    },
    {
     "name": "stderr",
     "output_type": "stream",
     "text": [
      "\n",
      "\n",
      "====== WebDriver manager ======\n",
      "Current google-chrome version is 96.0.4664\n",
      "Get LATEST chromedriver version for 96.0.4664 google-chrome\n"
     ]
    },
    {
     "name": "stdout",
     "output_type": "stream",
     "text": [
      "337\n"
     ]
    },
    {
     "name": "stderr",
     "output_type": "stream",
     "text": [
      "Driver [/Users/franciscovispo/.wdm/drivers/chromedriver/mac64/96.0.4664.45/chromedriver] found in cache\n"
     ]
    },
    {
     "name": "stdout",
     "output_type": "stream",
     "text": [
      "llego a los huespedes\n",
      "llego a las características\n",
      "llego a los precios\n",
      "llego a los usos\n"
     ]
    },
    {
     "name": "stderr",
     "output_type": "stream",
     "text": [
      "\n",
      "\n",
      "====== WebDriver manager ======\n",
      "Current google-chrome version is 96.0.4664\n",
      "Get LATEST chromedriver version for 96.0.4664 google-chrome\n"
     ]
    },
    {
     "name": "stdout",
     "output_type": "stream",
     "text": [
      "338\n"
     ]
    },
    {
     "name": "stderr",
     "output_type": "stream",
     "text": [
      "Driver [/Users/franciscovispo/.wdm/drivers/chromedriver/mac64/96.0.4664.45/chromedriver] found in cache\n"
     ]
    },
    {
     "name": "stdout",
     "output_type": "stream",
     "text": [
      "llego a los huespedes\n",
      "llego a las características\n",
      "llego a los precios\n",
      "llego a los usos\n"
     ]
    },
    {
     "name": "stderr",
     "output_type": "stream",
     "text": [
      "\n",
      "\n",
      "====== WebDriver manager ======\n",
      "Current google-chrome version is 96.0.4664\n",
      "Get LATEST chromedriver version for 96.0.4664 google-chrome\n"
     ]
    },
    {
     "name": "stdout",
     "output_type": "stream",
     "text": [
      "339\n"
     ]
    },
    {
     "name": "stderr",
     "output_type": "stream",
     "text": [
      "Driver [/Users/franciscovispo/.wdm/drivers/chromedriver/mac64/96.0.4664.45/chromedriver] found in cache\n"
     ]
    },
    {
     "name": "stdout",
     "output_type": "stream",
     "text": [
      "llego a los huespedes\n",
      "llego a las características\n",
      "llego a los precios\n",
      "llego a los usos\n"
     ]
    },
    {
     "name": "stderr",
     "output_type": "stream",
     "text": [
      "\n",
      "\n",
      "====== WebDriver manager ======\n",
      "Current google-chrome version is 96.0.4664\n",
      "Get LATEST chromedriver version for 96.0.4664 google-chrome\n"
     ]
    },
    {
     "name": "stdout",
     "output_type": "stream",
     "text": [
      "340\n"
     ]
    },
    {
     "name": "stderr",
     "output_type": "stream",
     "text": [
      "Driver [/Users/franciscovispo/.wdm/drivers/chromedriver/mac64/96.0.4664.45/chromedriver] found in cache\n"
     ]
    },
    {
     "name": "stdout",
     "output_type": "stream",
     "text": [
      "llego a los huespedes\n",
      "llego a las características\n",
      "llego a los precios\n",
      "llego a los usos\n"
     ]
    },
    {
     "name": "stderr",
     "output_type": "stream",
     "text": [
      "\n",
      "\n",
      "====== WebDriver manager ======\n",
      "Current google-chrome version is 96.0.4664\n",
      "Get LATEST chromedriver version for 96.0.4664 google-chrome\n"
     ]
    },
    {
     "name": "stdout",
     "output_type": "stream",
     "text": [
      "341\n"
     ]
    },
    {
     "name": "stderr",
     "output_type": "stream",
     "text": [
      "Driver [/Users/franciscovispo/.wdm/drivers/chromedriver/mac64/96.0.4664.45/chromedriver] found in cache\n"
     ]
    },
    {
     "name": "stdout",
     "output_type": "stream",
     "text": [
      "llego a los huespedes\n",
      "llego a las características\n",
      "llego a los precios\n",
      "llego a los usos\n"
     ]
    },
    {
     "name": "stderr",
     "output_type": "stream",
     "text": [
      "\n",
      "\n",
      "====== WebDriver manager ======\n"
     ]
    },
    {
     "name": "stdout",
     "output_type": "stream",
     "text": [
      "342\n"
     ]
    },
    {
     "name": "stderr",
     "output_type": "stream",
     "text": [
      "Current google-chrome version is 96.0.4664\n",
      "Get LATEST chromedriver version for 96.0.4664 google-chrome\n",
      "Driver [/Users/franciscovispo/.wdm/drivers/chromedriver/mac64/96.0.4664.45/chromedriver] found in cache\n"
     ]
    },
    {
     "name": "stdout",
     "output_type": "stream",
     "text": [
      "llego a los huespedes\n",
      "llego a las características\n",
      "llego a los precios\n",
      "llego a los usos\n"
     ]
    },
    {
     "name": "stderr",
     "output_type": "stream",
     "text": [
      "\n",
      "\n",
      "====== WebDriver manager ======\n"
     ]
    },
    {
     "name": "stdout",
     "output_type": "stream",
     "text": [
      "343\n"
     ]
    },
    {
     "name": "stderr",
     "output_type": "stream",
     "text": [
      "Current google-chrome version is 96.0.4664\n",
      "Get LATEST chromedriver version for 96.0.4664 google-chrome\n",
      "Driver [/Users/franciscovispo/.wdm/drivers/chromedriver/mac64/96.0.4664.45/chromedriver] found in cache\n"
     ]
    },
    {
     "name": "stdout",
     "output_type": "stream",
     "text": [
      "llego a los huespedes\n",
      "llego a las características\n",
      "llego a los precios\n",
      "llego a los usos\n"
     ]
    },
    {
     "name": "stderr",
     "output_type": "stream",
     "text": [
      "\n",
      "\n",
      "====== WebDriver manager ======\n",
      "Current google-chrome version is 96.0.4664\n",
      "Get LATEST chromedriver version for 96.0.4664 google-chrome\n"
     ]
    },
    {
     "name": "stdout",
     "output_type": "stream",
     "text": [
      "344\n"
     ]
    },
    {
     "name": "stderr",
     "output_type": "stream",
     "text": [
      "Driver [/Users/franciscovispo/.wdm/drivers/chromedriver/mac64/96.0.4664.45/chromedriver] found in cache\n"
     ]
    },
    {
     "name": "stdout",
     "output_type": "stream",
     "text": [
      "llego a los huespedes\n",
      "llego a las características\n",
      "llego a los precios\n",
      "llego a los usos\n"
     ]
    },
    {
     "name": "stderr",
     "output_type": "stream",
     "text": [
      "\n",
      "\n",
      "====== WebDriver manager ======\n"
     ]
    },
    {
     "name": "stdout",
     "output_type": "stream",
     "text": [
      "345\n"
     ]
    },
    {
     "name": "stderr",
     "output_type": "stream",
     "text": [
      "Current google-chrome version is 96.0.4664\n",
      "Get LATEST chromedriver version for 96.0.4664 google-chrome\n",
      "Driver [/Users/franciscovispo/.wdm/drivers/chromedriver/mac64/96.0.4664.45/chromedriver] found in cache\n"
     ]
    },
    {
     "name": "stdout",
     "output_type": "stream",
     "text": [
      "llego a los huespedes\n",
      "llego a las características\n",
      "llego a los precios\n",
      "llego a los usos\n"
     ]
    },
    {
     "name": "stderr",
     "output_type": "stream",
     "text": [
      "\n",
      "\n",
      "====== WebDriver manager ======\n"
     ]
    },
    {
     "name": "stdout",
     "output_type": "stream",
     "text": [
      "346\n"
     ]
    },
    {
     "name": "stderr",
     "output_type": "stream",
     "text": [
      "Current google-chrome version is 96.0.4664\n",
      "Get LATEST chromedriver version for 96.0.4664 google-chrome\n",
      "Driver [/Users/franciscovispo/.wdm/drivers/chromedriver/mac64/96.0.4664.45/chromedriver] found in cache\n"
     ]
    },
    {
     "name": "stdout",
     "output_type": "stream",
     "text": [
      "llego a los huespedes\n",
      "llego a las características\n",
      "llego a los precios\n",
      "llego a los usos\n"
     ]
    },
    {
     "name": "stderr",
     "output_type": "stream",
     "text": [
      "\n",
      "\n",
      "====== WebDriver manager ======\n"
     ]
    },
    {
     "name": "stdout",
     "output_type": "stream",
     "text": [
      "347\n"
     ]
    },
    {
     "name": "stderr",
     "output_type": "stream",
     "text": [
      "Current google-chrome version is 96.0.4664\n",
      "Get LATEST chromedriver version for 96.0.4664 google-chrome\n",
      "Driver [/Users/franciscovispo/.wdm/drivers/chromedriver/mac64/96.0.4664.45/chromedriver] found in cache\n"
     ]
    },
    {
     "name": "stdout",
     "output_type": "stream",
     "text": [
      "llego a los huespedes\n",
      "llego a las características\n",
      "llego a los precios\n",
      "llego a los usos\n"
     ]
    },
    {
     "name": "stderr",
     "output_type": "stream",
     "text": [
      "\n",
      "\n",
      "====== WebDriver manager ======\n",
      "Current google-chrome version is 96.0.4664\n",
      "Get LATEST chromedriver version for 96.0.4664 google-chrome\n"
     ]
    },
    {
     "name": "stdout",
     "output_type": "stream",
     "text": [
      "348\n"
     ]
    },
    {
     "name": "stderr",
     "output_type": "stream",
     "text": [
      "Driver [/Users/franciscovispo/.wdm/drivers/chromedriver/mac64/96.0.4664.45/chromedriver] found in cache\n"
     ]
    },
    {
     "name": "stdout",
     "output_type": "stream",
     "text": [
      "llego a los huespedes\n",
      "llego a las características\n",
      "llego a los precios\n",
      "llego a los usos\n"
     ]
    },
    {
     "name": "stderr",
     "output_type": "stream",
     "text": [
      "\n",
      "\n",
      "====== WebDriver manager ======\n"
     ]
    },
    {
     "name": "stdout",
     "output_type": "stream",
     "text": [
      "349\n"
     ]
    },
    {
     "name": "stderr",
     "output_type": "stream",
     "text": [
      "Current google-chrome version is 96.0.4664\n",
      "Get LATEST chromedriver version for 96.0.4664 google-chrome\n",
      "Driver [/Users/franciscovispo/.wdm/drivers/chromedriver/mac64/96.0.4664.45/chromedriver] found in cache\n"
     ]
    },
    {
     "name": "stdout",
     "output_type": "stream",
     "text": [
      "llego a los huespedes\n",
      "llego a las características\n",
      "llego a los precios\n",
      "llego a los usos\n"
     ]
    },
    {
     "name": "stderr",
     "output_type": "stream",
     "text": [
      "\n",
      "\n",
      "====== WebDriver manager ======\n"
     ]
    },
    {
     "name": "stdout",
     "output_type": "stream",
     "text": [
      "350\n"
     ]
    },
    {
     "name": "stderr",
     "output_type": "stream",
     "text": [
      "Current google-chrome version is 96.0.4664\n",
      "Get LATEST chromedriver version for 96.0.4664 google-chrome\n",
      "Driver [/Users/franciscovispo/.wdm/drivers/chromedriver/mac64/96.0.4664.45/chromedriver] found in cache\n"
     ]
    },
    {
     "name": "stdout",
     "output_type": "stream",
     "text": [
      "llego a los huespedes\n",
      "llego a las características\n",
      "llego a los precios\n",
      "llego a los usos\n"
     ]
    },
    {
     "name": "stderr",
     "output_type": "stream",
     "text": [
      "\n",
      "\n",
      "====== WebDriver manager ======\n",
      "Current google-chrome version is 96.0.4664\n",
      "Get LATEST chromedriver version for 96.0.4664 google-chrome\n"
     ]
    },
    {
     "name": "stdout",
     "output_type": "stream",
     "text": [
      "351\n"
     ]
    },
    {
     "name": "stderr",
     "output_type": "stream",
     "text": [
      "Driver [/Users/franciscovispo/.wdm/drivers/chromedriver/mac64/96.0.4664.45/chromedriver] found in cache\n"
     ]
    },
    {
     "name": "stdout",
     "output_type": "stream",
     "text": [
      "llego a los huespedes\n",
      "llego a las características\n",
      "llego a los precios\n",
      "llego a los usos\n"
     ]
    },
    {
     "name": "stderr",
     "output_type": "stream",
     "text": [
      "\n",
      "\n",
      "====== WebDriver manager ======\n"
     ]
    },
    {
     "name": "stdout",
     "output_type": "stream",
     "text": [
      "352\n"
     ]
    },
    {
     "name": "stderr",
     "output_type": "stream",
     "text": [
      "Current google-chrome version is 96.0.4664\n",
      "Get LATEST chromedriver version for 96.0.4664 google-chrome\n",
      "Driver [/Users/franciscovispo/.wdm/drivers/chromedriver/mac64/96.0.4664.45/chromedriver] found in cache\n"
     ]
    },
    {
     "name": "stdout",
     "output_type": "stream",
     "text": [
      "llego a los huespedes\n",
      "llego a las características\n",
      "llego a los precios\n",
      "llego a los usos\n"
     ]
    },
    {
     "name": "stderr",
     "output_type": "stream",
     "text": [
      "\n",
      "\n",
      "====== WebDriver manager ======\n",
      "Current google-chrome version is 96.0.4664\n",
      "Get LATEST chromedriver version for 96.0.4664 google-chrome\n"
     ]
    },
    {
     "name": "stdout",
     "output_type": "stream",
     "text": [
      "353\n"
     ]
    },
    {
     "name": "stderr",
     "output_type": "stream",
     "text": [
      "Driver [/Users/franciscovispo/.wdm/drivers/chromedriver/mac64/96.0.4664.45/chromedriver] found in cache\n"
     ]
    },
    {
     "name": "stdout",
     "output_type": "stream",
     "text": [
      "llego a los huespedes\n",
      "llego a las características\n",
      "llego a los precios\n",
      "llego a los usos\n"
     ]
    },
    {
     "name": "stderr",
     "output_type": "stream",
     "text": [
      "\n",
      "\n",
      "====== WebDriver manager ======\n"
     ]
    },
    {
     "name": "stdout",
     "output_type": "stream",
     "text": [
      "354\n"
     ]
    },
    {
     "name": "stderr",
     "output_type": "stream",
     "text": [
      "Current google-chrome version is 96.0.4664\n",
      "Get LATEST chromedriver version for 96.0.4664 google-chrome\n",
      "Driver [/Users/franciscovispo/.wdm/drivers/chromedriver/mac64/96.0.4664.45/chromedriver] found in cache\n"
     ]
    },
    {
     "name": "stdout",
     "output_type": "stream",
     "text": [
      "llego a los huespedes\n",
      "llego a las características\n",
      "llego a los precios\n",
      "llego a los usos\n"
     ]
    },
    {
     "name": "stderr",
     "output_type": "stream",
     "text": [
      "\n",
      "\n",
      "====== WebDriver manager ======\n"
     ]
    },
    {
     "name": "stdout",
     "output_type": "stream",
     "text": [
      "355\n"
     ]
    },
    {
     "name": "stderr",
     "output_type": "stream",
     "text": [
      "Current google-chrome version is 96.0.4664\n",
      "Get LATEST chromedriver version for 96.0.4664 google-chrome\n",
      "Driver [/Users/franciscovispo/.wdm/drivers/chromedriver/mac64/96.0.4664.45/chromedriver] found in cache\n"
     ]
    },
    {
     "name": "stdout",
     "output_type": "stream",
     "text": [
      "llego a los huespedes\n",
      "llego a las características\n",
      "llego a los precios\n",
      "llego a los usos\n"
     ]
    },
    {
     "name": "stderr",
     "output_type": "stream",
     "text": [
      "\n",
      "\n",
      "====== WebDriver manager ======\n",
      "Current google-chrome version is 96.0.4664\n",
      "Get LATEST chromedriver version for 96.0.4664 google-chrome\n"
     ]
    },
    {
     "name": "stdout",
     "output_type": "stream",
     "text": [
      "356\n"
     ]
    },
    {
     "name": "stderr",
     "output_type": "stream",
     "text": [
      "Driver [/Users/franciscovispo/.wdm/drivers/chromedriver/mac64/96.0.4664.45/chromedriver] found in cache\n"
     ]
    },
    {
     "name": "stdout",
     "output_type": "stream",
     "text": [
      "llego a los huespedes\n",
      "llego a las características\n",
      "llego a los precios\n",
      "llego a los usos\n"
     ]
    },
    {
     "name": "stderr",
     "output_type": "stream",
     "text": [
      "\n",
      "\n",
      "====== WebDriver manager ======\n"
     ]
    },
    {
     "name": "stdout",
     "output_type": "stream",
     "text": [
      "357\n"
     ]
    },
    {
     "name": "stderr",
     "output_type": "stream",
     "text": [
      "Current google-chrome version is 96.0.4664\n",
      "Get LATEST chromedriver version for 96.0.4664 google-chrome\n",
      "Driver [/Users/franciscovispo/.wdm/drivers/chromedriver/mac64/96.0.4664.45/chromedriver] found in cache\n"
     ]
    },
    {
     "name": "stdout",
     "output_type": "stream",
     "text": [
      "llego a los huespedes\n",
      "llego a las características\n",
      "llego a los precios\n",
      "llego a los usos\n"
     ]
    },
    {
     "name": "stderr",
     "output_type": "stream",
     "text": [
      "\n",
      "\n",
      "====== WebDriver manager ======\n"
     ]
    },
    {
     "name": "stdout",
     "output_type": "stream",
     "text": [
      "358\n"
     ]
    },
    {
     "name": "stderr",
     "output_type": "stream",
     "text": [
      "Current google-chrome version is 96.0.4664\n",
      "Get LATEST chromedriver version for 96.0.4664 google-chrome\n",
      "Driver [/Users/franciscovispo/.wdm/drivers/chromedriver/mac64/96.0.4664.45/chromedriver] found in cache\n"
     ]
    },
    {
     "name": "stdout",
     "output_type": "stream",
     "text": [
      "llego a los huespedes\n",
      "llego a las características\n",
      "llego a los precios\n",
      "llego a los usos\n"
     ]
    },
    {
     "name": "stderr",
     "output_type": "stream",
     "text": [
      "\n",
      "\n",
      "====== WebDriver manager ======\n"
     ]
    },
    {
     "name": "stdout",
     "output_type": "stream",
     "text": [
      "359\n"
     ]
    },
    {
     "name": "stderr",
     "output_type": "stream",
     "text": [
      "Current google-chrome version is 96.0.4664\n",
      "Get LATEST chromedriver version for 96.0.4664 google-chrome\n",
      "Driver [/Users/franciscovispo/.wdm/drivers/chromedriver/mac64/96.0.4664.45/chromedriver] found in cache\n"
     ]
    },
    {
     "name": "stdout",
     "output_type": "stream",
     "text": [
      "llego a los huespedes\n",
      "llego a las características\n",
      "llego a los precios\n",
      "llego a los usos\n"
     ]
    },
    {
     "name": "stderr",
     "output_type": "stream",
     "text": [
      "\n",
      "\n",
      "====== WebDriver manager ======\n",
      "Current google-chrome version is 96.0.4664\n",
      "Get LATEST chromedriver version for 96.0.4664 google-chrome\n"
     ]
    },
    {
     "name": "stdout",
     "output_type": "stream",
     "text": [
      "360\n"
     ]
    },
    {
     "name": "stderr",
     "output_type": "stream",
     "text": [
      "Driver [/Users/franciscovispo/.wdm/drivers/chromedriver/mac64/96.0.4664.45/chromedriver] found in cache\n"
     ]
    },
    {
     "name": "stdout",
     "output_type": "stream",
     "text": [
      "llego a los huespedes\n",
      "llego a las características\n",
      "llego a los precios\n",
      "llego a los usos\n"
     ]
    },
    {
     "name": "stderr",
     "output_type": "stream",
     "text": [
      "\n",
      "\n",
      "====== WebDriver manager ======\n",
      "Current google-chrome version is 96.0.4664\n",
      "Get LATEST chromedriver version for 96.0.4664 google-chrome\n"
     ]
    },
    {
     "name": "stdout",
     "output_type": "stream",
     "text": [
      "361\n"
     ]
    },
    {
     "name": "stderr",
     "output_type": "stream",
     "text": [
      "Driver [/Users/franciscovispo/.wdm/drivers/chromedriver/mac64/96.0.4664.45/chromedriver] found in cache\n"
     ]
    },
    {
     "name": "stdout",
     "output_type": "stream",
     "text": [
      "llego a los huespedes\n",
      "llego a las características\n",
      "llego a los precios\n",
      "llego a los usos\n"
     ]
    },
    {
     "name": "stderr",
     "output_type": "stream",
     "text": [
      "\n",
      "\n",
      "====== WebDriver manager ======\n"
     ]
    },
    {
     "name": "stdout",
     "output_type": "stream",
     "text": [
      "362\n"
     ]
    },
    {
     "name": "stderr",
     "output_type": "stream",
     "text": [
      "Current google-chrome version is 96.0.4664\n",
      "Get LATEST chromedriver version for 96.0.4664 google-chrome\n",
      "Driver [/Users/franciscovispo/.wdm/drivers/chromedriver/mac64/96.0.4664.45/chromedriver] found in cache\n"
     ]
    },
    {
     "name": "stdout",
     "output_type": "stream",
     "text": [
      "llego a los huespedes\n",
      "llego a las características\n",
      "llego a los precios\n",
      "llego a los usos\n"
     ]
    },
    {
     "name": "stderr",
     "output_type": "stream",
     "text": [
      "\n",
      "\n",
      "====== WebDriver manager ======\n"
     ]
    },
    {
     "name": "stdout",
     "output_type": "stream",
     "text": [
      "363\n"
     ]
    },
    {
     "name": "stderr",
     "output_type": "stream",
     "text": [
      "Current google-chrome version is 96.0.4664\n",
      "Get LATEST chromedriver version for 96.0.4664 google-chrome\n",
      "Driver [/Users/franciscovispo/.wdm/drivers/chromedriver/mac64/96.0.4664.45/chromedriver] found in cache\n"
     ]
    },
    {
     "name": "stdout",
     "output_type": "stream",
     "text": [
      "llego a los huespedes\n",
      "llego a las características\n",
      "llego a los precios\n",
      "llego a los usos\n"
     ]
    },
    {
     "name": "stderr",
     "output_type": "stream",
     "text": [
      "\n",
      "\n",
      "====== WebDriver manager ======\n",
      "Current google-chrome version is 96.0.4664\n",
      "Get LATEST chromedriver version for 96.0.4664 google-chrome\n"
     ]
    },
    {
     "name": "stdout",
     "output_type": "stream",
     "text": [
      "364\n"
     ]
    },
    {
     "name": "stderr",
     "output_type": "stream",
     "text": [
      "Driver [/Users/franciscovispo/.wdm/drivers/chromedriver/mac64/96.0.4664.45/chromedriver] found in cache\n"
     ]
    },
    {
     "name": "stdout",
     "output_type": "stream",
     "text": [
      "llego a los huespedes\n",
      "llego a las características\n",
      "llego a los precios\n",
      "llego a los usos\n"
     ]
    },
    {
     "name": "stderr",
     "output_type": "stream",
     "text": [
      "\n",
      "\n",
      "====== WebDriver manager ======\n",
      "Current google-chrome version is 96.0.4664\n",
      "Get LATEST chromedriver version for 96.0.4664 google-chrome\n"
     ]
    },
    {
     "name": "stdout",
     "output_type": "stream",
     "text": [
      "365\n"
     ]
    },
    {
     "name": "stderr",
     "output_type": "stream",
     "text": [
      "Driver [/Users/franciscovispo/.wdm/drivers/chromedriver/mac64/96.0.4664.45/chromedriver] found in cache\n"
     ]
    },
    {
     "name": "stdout",
     "output_type": "stream",
     "text": [
      "llego a los huespedes\n",
      "llego a las características\n",
      "llego a los precios\n",
      "llego a los usos\n"
     ]
    },
    {
     "name": "stderr",
     "output_type": "stream",
     "text": [
      "\n",
      "\n",
      "====== WebDriver manager ======\n",
      "Current google-chrome version is 96.0.4664\n",
      "Get LATEST chromedriver version for 96.0.4664 google-chrome\n",
      "Driver [/Users/franciscovispo/.wdm/drivers/chromedriver/mac64/96.0.4664.45/chromedriver] found in cache\n"
     ]
    },
    {
     "name": "stdout",
     "output_type": "stream",
     "text": [
      "366\n",
      "llego a los huespedes\n",
      "llego a las características\n",
      "llego a los precios\n",
      "llego a los usos\n"
     ]
    },
    {
     "name": "stderr",
     "output_type": "stream",
     "text": [
      "\n",
      "\n",
      "====== WebDriver manager ======\n"
     ]
    },
    {
     "name": "stdout",
     "output_type": "stream",
     "text": [
      "367\n"
     ]
    },
    {
     "name": "stderr",
     "output_type": "stream",
     "text": [
      "Current google-chrome version is 96.0.4664\n",
      "Get LATEST chromedriver version for 96.0.4664 google-chrome\n",
      "Driver [/Users/franciscovispo/.wdm/drivers/chromedriver/mac64/96.0.4664.45/chromedriver] found in cache\n"
     ]
    },
    {
     "name": "stdout",
     "output_type": "stream",
     "text": [
      "llego a los huespedes\n",
      "llego a las características\n",
      "llego a los precios\n",
      "llego a los usos\n"
     ]
    },
    {
     "name": "stderr",
     "output_type": "stream",
     "text": [
      "\n",
      "\n",
      "====== WebDriver manager ======\n"
     ]
    },
    {
     "name": "stdout",
     "output_type": "stream",
     "text": [
      "368\n"
     ]
    },
    {
     "name": "stderr",
     "output_type": "stream",
     "text": [
      "Current google-chrome version is 96.0.4664\n",
      "Get LATEST chromedriver version for 96.0.4664 google-chrome\n",
      "Driver [/Users/franciscovispo/.wdm/drivers/chromedriver/mac64/96.0.4664.45/chromedriver] found in cache\n"
     ]
    },
    {
     "name": "stdout",
     "output_type": "stream",
     "text": [
      "llego a los huespedes\n",
      "llego a las características\n",
      "llego a los precios\n",
      "llego a los usos\n"
     ]
    },
    {
     "name": "stderr",
     "output_type": "stream",
     "text": [
      "\n",
      "\n",
      "====== WebDriver manager ======\n",
      "Current google-chrome version is 96.0.4664\n",
      "Get LATEST chromedriver version for 96.0.4664 google-chrome\n"
     ]
    },
    {
     "name": "stdout",
     "output_type": "stream",
     "text": [
      "369\n"
     ]
    },
    {
     "name": "stderr",
     "output_type": "stream",
     "text": [
      "Driver [/Users/franciscovispo/.wdm/drivers/chromedriver/mac64/96.0.4664.45/chromedriver] found in cache\n"
     ]
    },
    {
     "name": "stdout",
     "output_type": "stream",
     "text": [
      "llego a los huespedes\n",
      "llego a las características\n",
      "llego a los precios\n",
      "llego a los usos\n"
     ]
    },
    {
     "name": "stderr",
     "output_type": "stream",
     "text": [
      "\n",
      "\n",
      "====== WebDriver manager ======\n",
      "Current google-chrome version is 96.0.4664\n",
      "Get LATEST chromedriver version for 96.0.4664 google-chrome\n"
     ]
    },
    {
     "name": "stdout",
     "output_type": "stream",
     "text": [
      "370\n"
     ]
    },
    {
     "name": "stderr",
     "output_type": "stream",
     "text": [
      "Driver [/Users/franciscovispo/.wdm/drivers/chromedriver/mac64/96.0.4664.45/chromedriver] found in cache\n"
     ]
    },
    {
     "name": "stdout",
     "output_type": "stream",
     "text": [
      "llego a los huespedes\n",
      "llego a las características\n",
      "llego a los precios\n",
      "llego a los usos\n"
     ]
    },
    {
     "name": "stderr",
     "output_type": "stream",
     "text": [
      "\n",
      "\n",
      "====== WebDriver manager ======\n",
      "Current google-chrome version is 96.0.4664\n",
      "Get LATEST chromedriver version for 96.0.4664 google-chrome\n"
     ]
    },
    {
     "name": "stdout",
     "output_type": "stream",
     "text": [
      "371\n"
     ]
    },
    {
     "name": "stderr",
     "output_type": "stream",
     "text": [
      "Driver [/Users/franciscovispo/.wdm/drivers/chromedriver/mac64/96.0.4664.45/chromedriver] found in cache\n"
     ]
    },
    {
     "name": "stdout",
     "output_type": "stream",
     "text": [
      "llego a los huespedes\n",
      "llego a las características\n",
      "llego a los precios\n",
      "llego a los usos\n"
     ]
    },
    {
     "name": "stderr",
     "output_type": "stream",
     "text": [
      "\n",
      "\n",
      "====== WebDriver manager ======\n",
      "Current google-chrome version is 96.0.4664\n",
      "Get LATEST chromedriver version for 96.0.4664 google-chrome\n"
     ]
    },
    {
     "name": "stdout",
     "output_type": "stream",
     "text": [
      "372\n"
     ]
    },
    {
     "name": "stderr",
     "output_type": "stream",
     "text": [
      "Driver [/Users/franciscovispo/.wdm/drivers/chromedriver/mac64/96.0.4664.45/chromedriver] found in cache\n"
     ]
    },
    {
     "name": "stdout",
     "output_type": "stream",
     "text": [
      "llego a los huespedes\n",
      "llego a las características\n",
      "llego a los precios\n",
      "llego a los usos\n"
     ]
    },
    {
     "name": "stderr",
     "output_type": "stream",
     "text": [
      "\n",
      "\n",
      "====== WebDriver manager ======\n",
      "Current google-chrome version is 96.0.4664\n",
      "Get LATEST chromedriver version for 96.0.4664 google-chrome\n"
     ]
    },
    {
     "name": "stdout",
     "output_type": "stream",
     "text": [
      "373\n"
     ]
    },
    {
     "name": "stderr",
     "output_type": "stream",
     "text": [
      "Driver [/Users/franciscovispo/.wdm/drivers/chromedriver/mac64/96.0.4664.45/chromedriver] found in cache\n"
     ]
    },
    {
     "name": "stdout",
     "output_type": "stream",
     "text": [
      "llego a los huespedes\n",
      "llego a las características\n",
      "llego a los precios\n",
      "llego a los usos\n"
     ]
    },
    {
     "name": "stderr",
     "output_type": "stream",
     "text": [
      "\n",
      "\n",
      "====== WebDriver manager ======\n",
      "Current google-chrome version is 96.0.4664\n",
      "Get LATEST chromedriver version for 96.0.4664 google-chrome\n"
     ]
    },
    {
     "name": "stdout",
     "output_type": "stream",
     "text": [
      "374\n"
     ]
    },
    {
     "name": "stderr",
     "output_type": "stream",
     "text": [
      "Driver [/Users/franciscovispo/.wdm/drivers/chromedriver/mac64/96.0.4664.45/chromedriver] found in cache\n"
     ]
    },
    {
     "name": "stdout",
     "output_type": "stream",
     "text": [
      "llego a los huespedes\n",
      "llego a las características\n",
      "llego a los precios\n",
      "llego a los usos\n"
     ]
    },
    {
     "name": "stderr",
     "output_type": "stream",
     "text": [
      "\n",
      "\n",
      "====== WebDriver manager ======\n",
      "Current google-chrome version is 96.0.4664\n",
      "Get LATEST chromedriver version for 96.0.4664 google-chrome\n"
     ]
    },
    {
     "name": "stdout",
     "output_type": "stream",
     "text": [
      "375\n"
     ]
    },
    {
     "name": "stderr",
     "output_type": "stream",
     "text": [
      "Driver [/Users/franciscovispo/.wdm/drivers/chromedriver/mac64/96.0.4664.45/chromedriver] found in cache\n"
     ]
    },
    {
     "name": "stdout",
     "output_type": "stream",
     "text": [
      "llego a los huespedes\n",
      "llego a las características\n",
      "llego a los precios\n",
      "llego a los usos\n"
     ]
    },
    {
     "name": "stderr",
     "output_type": "stream",
     "text": [
      "\n",
      "\n",
      "====== WebDriver manager ======\n",
      "Current google-chrome version is 96.0.4664\n",
      "Get LATEST chromedriver version for 96.0.4664 google-chrome\n"
     ]
    },
    {
     "name": "stdout",
     "output_type": "stream",
     "text": [
      "376\n"
     ]
    },
    {
     "name": "stderr",
     "output_type": "stream",
     "text": [
      "Driver [/Users/franciscovispo/.wdm/drivers/chromedriver/mac64/96.0.4664.45/chromedriver] found in cache\n"
     ]
    },
    {
     "name": "stdout",
     "output_type": "stream",
     "text": [
      "llego a los huespedes\n",
      "llego a las características\n",
      "llego a los precios\n",
      "llego a los usos\n"
     ]
    },
    {
     "name": "stderr",
     "output_type": "stream",
     "text": [
      "\n",
      "\n",
      "====== WebDriver manager ======\n",
      "Current google-chrome version is 96.0.4664\n",
      "Get LATEST chromedriver version for 96.0.4664 google-chrome\n"
     ]
    },
    {
     "name": "stdout",
     "output_type": "stream",
     "text": [
      "377\n"
     ]
    },
    {
     "name": "stderr",
     "output_type": "stream",
     "text": [
      "Driver [/Users/franciscovispo/.wdm/drivers/chromedriver/mac64/96.0.4664.45/chromedriver] found in cache\n"
     ]
    },
    {
     "name": "stdout",
     "output_type": "stream",
     "text": [
      "llego a los huespedes\n",
      "llego a las características\n",
      "llego a los precios\n",
      "llego a los usos\n"
     ]
    },
    {
     "name": "stderr",
     "output_type": "stream",
     "text": [
      "\n",
      "\n",
      "====== WebDriver manager ======\n",
      "Current google-chrome version is 96.0.4664\n",
      "Get LATEST chromedriver version for 96.0.4664 google-chrome\n"
     ]
    },
    {
     "name": "stdout",
     "output_type": "stream",
     "text": [
      "378\n"
     ]
    },
    {
     "name": "stderr",
     "output_type": "stream",
     "text": [
      "Driver [/Users/franciscovispo/.wdm/drivers/chromedriver/mac64/96.0.4664.45/chromedriver] found in cache\n"
     ]
    },
    {
     "name": "stdout",
     "output_type": "stream",
     "text": [
      "llego a los huespedes\n",
      "llego a las características\n",
      "llego a los precios\n",
      "llego a los usos\n"
     ]
    },
    {
     "name": "stderr",
     "output_type": "stream",
     "text": [
      "\n",
      "\n",
      "====== WebDriver manager ======\n",
      "Current google-chrome version is 96.0.4664\n",
      "Get LATEST chromedriver version for 96.0.4664 google-chrome\n"
     ]
    },
    {
     "name": "stdout",
     "output_type": "stream",
     "text": [
      "379\n"
     ]
    },
    {
     "name": "stderr",
     "output_type": "stream",
     "text": [
      "Driver [/Users/franciscovispo/.wdm/drivers/chromedriver/mac64/96.0.4664.45/chromedriver] found in cache\n"
     ]
    },
    {
     "name": "stdout",
     "output_type": "stream",
     "text": [
      "llego a los huespedes\n",
      "llego a las características\n",
      "llego a los precios\n",
      "llego a los usos\n"
     ]
    },
    {
     "name": "stderr",
     "output_type": "stream",
     "text": [
      "\n",
      "\n",
      "====== WebDriver manager ======\n",
      "Current google-chrome version is 96.0.4664\n"
     ]
    },
    {
     "name": "stdout",
     "output_type": "stream",
     "text": [
      "380\n"
     ]
    },
    {
     "name": "stderr",
     "output_type": "stream",
     "text": [
      "Get LATEST chromedriver version for 96.0.4664 google-chrome\n",
      "Driver [/Users/franciscovispo/.wdm/drivers/chromedriver/mac64/96.0.4664.45/chromedriver] found in cache\n"
     ]
    },
    {
     "name": "stdout",
     "output_type": "stream",
     "text": [
      "llego a los huespedes\n",
      "llego a las características\n",
      "llego a los precios\n",
      "llego a los usos\n"
     ]
    },
    {
     "name": "stderr",
     "output_type": "stream",
     "text": [
      "\n",
      "\n",
      "====== WebDriver manager ======\n",
      "Current google-chrome version is 96.0.4664\n",
      "Get LATEST chromedriver version for 96.0.4664 google-chrome\n"
     ]
    },
    {
     "name": "stdout",
     "output_type": "stream",
     "text": [
      "381\n"
     ]
    },
    {
     "name": "stderr",
     "output_type": "stream",
     "text": [
      "Driver [/Users/franciscovispo/.wdm/drivers/chromedriver/mac64/96.0.4664.45/chromedriver] found in cache\n"
     ]
    },
    {
     "name": "stdout",
     "output_type": "stream",
     "text": [
      "llego a los huespedes\n",
      "llego a las características\n",
      "llego a los precios\n",
      "llego a los usos\n"
     ]
    },
    {
     "name": "stderr",
     "output_type": "stream",
     "text": [
      "\n",
      "\n",
      "====== WebDriver manager ======\n",
      "Current google-chrome version is 96.0.4664\n"
     ]
    },
    {
     "name": "stdout",
     "output_type": "stream",
     "text": [
      "382\n"
     ]
    },
    {
     "name": "stderr",
     "output_type": "stream",
     "text": [
      "Get LATEST chromedriver version for 96.0.4664 google-chrome\n",
      "Driver [/Users/franciscovispo/.wdm/drivers/chromedriver/mac64/96.0.4664.45/chromedriver] found in cache\n"
     ]
    },
    {
     "name": "stdout",
     "output_type": "stream",
     "text": [
      "llego a los huespedes\n",
      "llego a las características\n",
      "llego a los precios\n",
      "llego a los usos\n"
     ]
    },
    {
     "name": "stderr",
     "output_type": "stream",
     "text": [
      "\n",
      "\n",
      "====== WebDriver manager ======\n",
      "Current google-chrome version is 96.0.4664\n",
      "Get LATEST chromedriver version for 96.0.4664 google-chrome\n"
     ]
    },
    {
     "name": "stdout",
     "output_type": "stream",
     "text": [
      "383\n"
     ]
    },
    {
     "name": "stderr",
     "output_type": "stream",
     "text": [
      "Driver [/Users/franciscovispo/.wdm/drivers/chromedriver/mac64/96.0.4664.45/chromedriver] found in cache\n"
     ]
    },
    {
     "name": "stdout",
     "output_type": "stream",
     "text": [
      "llego a los huespedes\n",
      "llego a las características\n",
      "llego a los precios\n",
      "llego a los usos\n"
     ]
    },
    {
     "name": "stderr",
     "output_type": "stream",
     "text": [
      "\n",
      "\n",
      "====== WebDriver manager ======\n",
      "Current google-chrome version is 96.0.4664\n",
      "Get LATEST chromedriver version for 96.0.4664 google-chrome\n"
     ]
    },
    {
     "name": "stdout",
     "output_type": "stream",
     "text": [
      "384\n"
     ]
    },
    {
     "name": "stderr",
     "output_type": "stream",
     "text": [
      "Driver [/Users/franciscovispo/.wdm/drivers/chromedriver/mac64/96.0.4664.45/chromedriver] found in cache\n"
     ]
    },
    {
     "name": "stdout",
     "output_type": "stream",
     "text": [
      "llego a los huespedes\n",
      "llego a las características\n",
      "llego a los precios\n",
      "llego a los usos\n"
     ]
    },
    {
     "name": "stderr",
     "output_type": "stream",
     "text": [
      "\n",
      "\n",
      "====== WebDriver manager ======\n"
     ]
    },
    {
     "name": "stdout",
     "output_type": "stream",
     "text": [
      "385\n"
     ]
    },
    {
     "name": "stderr",
     "output_type": "stream",
     "text": [
      "Current google-chrome version is 96.0.4664\n",
      "Get LATEST chromedriver version for 96.0.4664 google-chrome\n",
      "Driver [/Users/franciscovispo/.wdm/drivers/chromedriver/mac64/96.0.4664.45/chromedriver] found in cache\n"
     ]
    },
    {
     "name": "stdout",
     "output_type": "stream",
     "text": [
      "llego a los huespedes\n",
      "llego a las características\n",
      "llego a los precios\n",
      "llego a los usos\n"
     ]
    },
    {
     "name": "stderr",
     "output_type": "stream",
     "text": [
      "\n",
      "\n",
      "====== WebDriver manager ======\n"
     ]
    },
    {
     "name": "stdout",
     "output_type": "stream",
     "text": [
      "386\n"
     ]
    },
    {
     "name": "stderr",
     "output_type": "stream",
     "text": [
      "Current google-chrome version is 96.0.4664\n",
      "Get LATEST chromedriver version for 96.0.4664 google-chrome\n",
      "Driver [/Users/franciscovispo/.wdm/drivers/chromedriver/mac64/96.0.4664.45/chromedriver] found in cache\n"
     ]
    },
    {
     "name": "stdout",
     "output_type": "stream",
     "text": [
      "llego a los huespedes\n",
      "llego a las características\n",
      "llego a los precios\n",
      "llego a los usos\n"
     ]
    },
    {
     "name": "stderr",
     "output_type": "stream",
     "text": [
      "\n",
      "\n",
      "====== WebDriver manager ======\n"
     ]
    },
    {
     "name": "stdout",
     "output_type": "stream",
     "text": [
      "387\n"
     ]
    },
    {
     "name": "stderr",
     "output_type": "stream",
     "text": [
      "Current google-chrome version is 96.0.4664\n",
      "Get LATEST chromedriver version for 96.0.4664 google-chrome\n",
      "Driver [/Users/franciscovispo/.wdm/drivers/chromedriver/mac64/96.0.4664.45/chromedriver] found in cache\n"
     ]
    },
    {
     "name": "stdout",
     "output_type": "stream",
     "text": [
      "llego a los huespedes\n",
      "llego a las características\n",
      "llego a los precios\n",
      "llego a los usos\n"
     ]
    },
    {
     "name": "stderr",
     "output_type": "stream",
     "text": [
      "\n",
      "\n",
      "====== WebDriver manager ======\n",
      "Current google-chrome version is 96.0.4664\n",
      "Get LATEST chromedriver version for 96.0.4664 google-chrome\n"
     ]
    },
    {
     "name": "stdout",
     "output_type": "stream",
     "text": [
      "388\n"
     ]
    },
    {
     "name": "stderr",
     "output_type": "stream",
     "text": [
      "Driver [/Users/franciscovispo/.wdm/drivers/chromedriver/mac64/96.0.4664.45/chromedriver] found in cache\n"
     ]
    },
    {
     "name": "stdout",
     "output_type": "stream",
     "text": [
      "llego a los huespedes\n",
      "llego a las características\n",
      "llego a los precios\n",
      "llego a los usos\n"
     ]
    },
    {
     "name": "stderr",
     "output_type": "stream",
     "text": [
      "\n",
      "\n",
      "====== WebDriver manager ======\n"
     ]
    },
    {
     "name": "stdout",
     "output_type": "stream",
     "text": [
      "389\n"
     ]
    },
    {
     "name": "stderr",
     "output_type": "stream",
     "text": [
      "Current google-chrome version is 96.0.4664\n",
      "Get LATEST chromedriver version for 96.0.4664 google-chrome\n",
      "Driver [/Users/franciscovispo/.wdm/drivers/chromedriver/mac64/96.0.4664.45/chromedriver] found in cache\n"
     ]
    },
    {
     "name": "stdout",
     "output_type": "stream",
     "text": [
      "llego a los huespedes\n",
      "llego a las características\n",
      "llego a los precios\n",
      "llego a los usos\n"
     ]
    },
    {
     "name": "stderr",
     "output_type": "stream",
     "text": [
      "\n",
      "\n",
      "====== WebDriver manager ======\n"
     ]
    },
    {
     "name": "stdout",
     "output_type": "stream",
     "text": [
      "390\n"
     ]
    },
    {
     "name": "stderr",
     "output_type": "stream",
     "text": [
      "Current google-chrome version is 96.0.4664\n",
      "Get LATEST chromedriver version for 96.0.4664 google-chrome\n",
      "Driver [/Users/franciscovispo/.wdm/drivers/chromedriver/mac64/96.0.4664.45/chromedriver] found in cache\n"
     ]
    },
    {
     "name": "stdout",
     "output_type": "stream",
     "text": [
      "llego a los huespedes\n",
      "llego a las características\n",
      "llego a los precios\n",
      "llego a los usos\n"
     ]
    },
    {
     "name": "stderr",
     "output_type": "stream",
     "text": [
      "\n",
      "\n",
      "====== WebDriver manager ======\n",
      "Current google-chrome version is 96.0.4664\n"
     ]
    },
    {
     "name": "stdout",
     "output_type": "stream",
     "text": [
      "391\n"
     ]
    },
    {
     "name": "stderr",
     "output_type": "stream",
     "text": [
      "Get LATEST chromedriver version for 96.0.4664 google-chrome\n",
      "Driver [/Users/franciscovispo/.wdm/drivers/chromedriver/mac64/96.0.4664.45/chromedriver] found in cache\n"
     ]
    },
    {
     "name": "stdout",
     "output_type": "stream",
     "text": [
      "llego a los huespedes\n",
      "llego a las características\n",
      "llego a los precios\n",
      "llego a los usos\n"
     ]
    },
    {
     "name": "stderr",
     "output_type": "stream",
     "text": [
      "\n",
      "\n",
      "====== WebDriver manager ======\n"
     ]
    },
    {
     "name": "stdout",
     "output_type": "stream",
     "text": [
      "392\n"
     ]
    },
    {
     "name": "stderr",
     "output_type": "stream",
     "text": [
      "Current google-chrome version is 96.0.4664\n",
      "Get LATEST chromedriver version for 96.0.4664 google-chrome\n",
      "Driver [/Users/franciscovispo/.wdm/drivers/chromedriver/mac64/96.0.4664.45/chromedriver] found in cache\n"
     ]
    },
    {
     "name": "stdout",
     "output_type": "stream",
     "text": [
      "llego a los huespedes\n",
      "llego a las características\n",
      "llego a los precios\n",
      "llego a los usos\n"
     ]
    },
    {
     "name": "stderr",
     "output_type": "stream",
     "text": [
      "\n",
      "\n",
      "====== WebDriver manager ======\n"
     ]
    },
    {
     "name": "stdout",
     "output_type": "stream",
     "text": [
      "393\n"
     ]
    },
    {
     "name": "stderr",
     "output_type": "stream",
     "text": [
      "Current google-chrome version is 96.0.4664\n",
      "Get LATEST chromedriver version for 96.0.4664 google-chrome\n",
      "Driver [/Users/franciscovispo/.wdm/drivers/chromedriver/mac64/96.0.4664.45/chromedriver] found in cache\n"
     ]
    },
    {
     "name": "stdout",
     "output_type": "stream",
     "text": [
      "llego a los huespedes\n",
      "llego a las características\n",
      "llego a los precios\n",
      "llego a los usos\n"
     ]
    },
    {
     "name": "stderr",
     "output_type": "stream",
     "text": [
      "\n",
      "\n",
      "====== WebDriver manager ======\n",
      "Current google-chrome version is 96.0.4664\n",
      "Get LATEST chromedriver version for 96.0.4664 google-chrome\n"
     ]
    },
    {
     "name": "stdout",
     "output_type": "stream",
     "text": [
      "394\n"
     ]
    },
    {
     "name": "stderr",
     "output_type": "stream",
     "text": [
      "Driver [/Users/franciscovispo/.wdm/drivers/chromedriver/mac64/96.0.4664.45/chromedriver] found in cache\n"
     ]
    },
    {
     "name": "stdout",
     "output_type": "stream",
     "text": [
      "llego a los huespedes\n",
      "llego a las características\n",
      "llego a los precios\n",
      "llego a los usos\n"
     ]
    },
    {
     "name": "stderr",
     "output_type": "stream",
     "text": [
      "\n",
      "\n",
      "====== WebDriver manager ======\n",
      "Current google-chrome version is 96.0.4664\n",
      "Get LATEST chromedriver version for 96.0.4664 google-chrome\n"
     ]
    },
    {
     "name": "stdout",
     "output_type": "stream",
     "text": [
      "395\n"
     ]
    },
    {
     "name": "stderr",
     "output_type": "stream",
     "text": [
      "Driver [/Users/franciscovispo/.wdm/drivers/chromedriver/mac64/96.0.4664.45/chromedriver] found in cache\n"
     ]
    },
    {
     "name": "stdout",
     "output_type": "stream",
     "text": [
      "llego a los huespedes\n",
      "llego a las características\n",
      "llego a los precios\n",
      "llego a los usos\n"
     ]
    },
    {
     "name": "stderr",
     "output_type": "stream",
     "text": [
      "\n",
      "\n",
      "====== WebDriver manager ======\n",
      "Current google-chrome version is 96.0.4664\n",
      "Get LATEST chromedriver version for 96.0.4664 google-chrome\n"
     ]
    },
    {
     "name": "stdout",
     "output_type": "stream",
     "text": [
      "396\n"
     ]
    },
    {
     "name": "stderr",
     "output_type": "stream",
     "text": [
      "Driver [/Users/franciscovispo/.wdm/drivers/chromedriver/mac64/96.0.4664.45/chromedriver] found in cache\n"
     ]
    },
    {
     "name": "stdout",
     "output_type": "stream",
     "text": [
      "llego a los huespedes\n",
      "llego a las características\n",
      "llego a los precios\n",
      "llego a los usos\n"
     ]
    },
    {
     "name": "stderr",
     "output_type": "stream",
     "text": [
      "\n",
      "\n",
      "====== WebDriver manager ======\n",
      "Current google-chrome version is 96.0.4664\n",
      "Get LATEST chromedriver version for 96.0.4664 google-chrome\n"
     ]
    },
    {
     "name": "stdout",
     "output_type": "stream",
     "text": [
      "397\n"
     ]
    },
    {
     "name": "stderr",
     "output_type": "stream",
     "text": [
      "Driver [/Users/franciscovispo/.wdm/drivers/chromedriver/mac64/96.0.4664.45/chromedriver] found in cache\n"
     ]
    },
    {
     "name": "stdout",
     "output_type": "stream",
     "text": [
      "llego a los huespedes\n",
      "llego a las características\n",
      "llego a los precios\n",
      "llego a los usos\n"
     ]
    },
    {
     "name": "stderr",
     "output_type": "stream",
     "text": [
      "\n",
      "\n",
      "====== WebDriver manager ======\n",
      "Current google-chrome version is 96.0.4664\n",
      "Get LATEST chromedriver version for 96.0.4664 google-chrome\n"
     ]
    },
    {
     "name": "stdout",
     "output_type": "stream",
     "text": [
      "398\n"
     ]
    },
    {
     "name": "stderr",
     "output_type": "stream",
     "text": [
      "Driver [/Users/franciscovispo/.wdm/drivers/chromedriver/mac64/96.0.4664.45/chromedriver] found in cache\n"
     ]
    },
    {
     "name": "stdout",
     "output_type": "stream",
     "text": [
      "llego a los huespedes\n",
      "llego a las características\n",
      "llego a los precios\n",
      "llego a los usos\n"
     ]
    },
    {
     "name": "stderr",
     "output_type": "stream",
     "text": [
      "\n",
      "\n",
      "====== WebDriver manager ======\n",
      "Current google-chrome version is 96.0.4664\n",
      "Get LATEST chromedriver version for 96.0.4664 google-chrome\n"
     ]
    },
    {
     "name": "stdout",
     "output_type": "stream",
     "text": [
      "399\n"
     ]
    },
    {
     "name": "stderr",
     "output_type": "stream",
     "text": [
      "Driver [/Users/franciscovispo/.wdm/drivers/chromedriver/mac64/96.0.4664.45/chromedriver] found in cache\n"
     ]
    },
    {
     "name": "stdout",
     "output_type": "stream",
     "text": [
      "llego a los huespedes\n",
      "llego a las características\n",
      "llego a los precios\n",
      "llego a los usos\n"
     ]
    },
    {
     "name": "stderr",
     "output_type": "stream",
     "text": [
      "\n",
      "\n",
      "====== WebDriver manager ======\n",
      "Current google-chrome version is 96.0.4664\n",
      "Get LATEST chromedriver version for 96.0.4664 google-chrome\n"
     ]
    },
    {
     "name": "stdout",
     "output_type": "stream",
     "text": [
      "400\n"
     ]
    },
    {
     "name": "stderr",
     "output_type": "stream",
     "text": [
      "Driver [/Users/franciscovispo/.wdm/drivers/chromedriver/mac64/96.0.4664.45/chromedriver] found in cache\n"
     ]
    },
    {
     "name": "stdout",
     "output_type": "stream",
     "text": [
      "llego a los huespedes\n",
      "llego a las características\n",
      "llego a los precios\n",
      "llego a los usos\n"
     ]
    },
    {
     "name": "stderr",
     "output_type": "stream",
     "text": [
      "\n",
      "\n",
      "====== WebDriver manager ======\n",
      "Current google-chrome version is 96.0.4664\n",
      "Get LATEST chromedriver version for 96.0.4664 google-chrome\n"
     ]
    },
    {
     "name": "stdout",
     "output_type": "stream",
     "text": [
      "401\n"
     ]
    },
    {
     "name": "stderr",
     "output_type": "stream",
     "text": [
      "Driver [/Users/franciscovispo/.wdm/drivers/chromedriver/mac64/96.0.4664.45/chromedriver] found in cache\n"
     ]
    },
    {
     "name": "stdout",
     "output_type": "stream",
     "text": [
      "llego a los huespedes\n",
      "llego a las características\n",
      "llego a los precios\n",
      "llego a los usos\n"
     ]
    },
    {
     "name": "stderr",
     "output_type": "stream",
     "text": [
      "\n",
      "\n",
      "====== WebDriver manager ======\n"
     ]
    },
    {
     "name": "stdout",
     "output_type": "stream",
     "text": [
      "402\n"
     ]
    },
    {
     "name": "stderr",
     "output_type": "stream",
     "text": [
      "Current google-chrome version is 96.0.4664\n",
      "Get LATEST chromedriver version for 96.0.4664 google-chrome\n",
      "Driver [/Users/franciscovispo/.wdm/drivers/chromedriver/mac64/96.0.4664.45/chromedriver] found in cache\n"
     ]
    },
    {
     "name": "stdout",
     "output_type": "stream",
     "text": [
      "llego a los huespedes\n",
      "llego a las características\n",
      "llego a los precios\n",
      "llego a los usos\n"
     ]
    },
    {
     "name": "stderr",
     "output_type": "stream",
     "text": [
      "\n",
      "\n",
      "====== WebDriver manager ======\n",
      "Current google-chrome version is 96.0.4664\n"
     ]
    },
    {
     "name": "stdout",
     "output_type": "stream",
     "text": [
      "403\n"
     ]
    },
    {
     "name": "stderr",
     "output_type": "stream",
     "text": [
      "Get LATEST chromedriver version for 96.0.4664 google-chrome\n",
      "Driver [/Users/franciscovispo/.wdm/drivers/chromedriver/mac64/96.0.4664.45/chromedriver] found in cache\n"
     ]
    },
    {
     "name": "stdout",
     "output_type": "stream",
     "text": [
      "llego a los huespedes\n",
      "llego a las características\n",
      "llego a los precios\n",
      "llego a los usos\n"
     ]
    },
    {
     "name": "stderr",
     "output_type": "stream",
     "text": [
      "\n",
      "\n",
      "====== WebDriver manager ======\n"
     ]
    },
    {
     "name": "stdout",
     "output_type": "stream",
     "text": [
      "404\n"
     ]
    },
    {
     "name": "stderr",
     "output_type": "stream",
     "text": [
      "Current google-chrome version is 96.0.4664\n",
      "Get LATEST chromedriver version for 96.0.4664 google-chrome\n",
      "Driver [/Users/franciscovispo/.wdm/drivers/chromedriver/mac64/96.0.4664.45/chromedriver] found in cache\n"
     ]
    },
    {
     "name": "stdout",
     "output_type": "stream",
     "text": [
      "llego a los huespedes\n",
      "llego a las características\n",
      "llego a los precios\n",
      "llego a los usos\n"
     ]
    },
    {
     "name": "stderr",
     "output_type": "stream",
     "text": [
      "\n",
      "\n",
      "====== WebDriver manager ======\n",
      "Current google-chrome version is 96.0.4664\n",
      "Get LATEST chromedriver version for 96.0.4664 google-chrome\n"
     ]
    },
    {
     "name": "stdout",
     "output_type": "stream",
     "text": [
      "405\n"
     ]
    },
    {
     "name": "stderr",
     "output_type": "stream",
     "text": [
      "Driver [/Users/franciscovispo/.wdm/drivers/chromedriver/mac64/96.0.4664.45/chromedriver] found in cache\n"
     ]
    },
    {
     "name": "stdout",
     "output_type": "stream",
     "text": [
      "llego a los huespedes\n",
      "llego a las características\n",
      "llego a los precios\n",
      "llego a los usos\n"
     ]
    },
    {
     "name": "stderr",
     "output_type": "stream",
     "text": [
      "\n",
      "\n",
      "====== WebDriver manager ======\n"
     ]
    },
    {
     "name": "stdout",
     "output_type": "stream",
     "text": [
      "406\n"
     ]
    },
    {
     "name": "stderr",
     "output_type": "stream",
     "text": [
      "Current google-chrome version is 96.0.4664\n",
      "Get LATEST chromedriver version for 96.0.4664 google-chrome\n",
      "Driver [/Users/franciscovispo/.wdm/drivers/chromedriver/mac64/96.0.4664.45/chromedriver] found in cache\n"
     ]
    },
    {
     "name": "stdout",
     "output_type": "stream",
     "text": [
      "llego a los huespedes\n",
      "llego a las características\n",
      "llego a los precios\n",
      "llego a los usos\n"
     ]
    },
    {
     "name": "stderr",
     "output_type": "stream",
     "text": [
      "\n",
      "\n",
      "====== WebDriver manager ======\n"
     ]
    },
    {
     "name": "stdout",
     "output_type": "stream",
     "text": [
      "407\n"
     ]
    },
    {
     "name": "stderr",
     "output_type": "stream",
     "text": [
      "Current google-chrome version is 96.0.4664\n",
      "Get LATEST chromedriver version for 96.0.4664 google-chrome\n",
      "Driver [/Users/franciscovispo/.wdm/drivers/chromedriver/mac64/96.0.4664.45/chromedriver] found in cache\n"
     ]
    },
    {
     "name": "stdout",
     "output_type": "stream",
     "text": [
      "llego a los huespedes\n",
      "llego a las características\n",
      "llego a los precios\n",
      "llego a los usos\n"
     ]
    },
    {
     "name": "stderr",
     "output_type": "stream",
     "text": [
      "\n",
      "\n",
      "====== WebDriver manager ======\n",
      "Current google-chrome version is 96.0.4664\n"
     ]
    },
    {
     "name": "stdout",
     "output_type": "stream",
     "text": [
      "408\n"
     ]
    },
    {
     "name": "stderr",
     "output_type": "stream",
     "text": [
      "Get LATEST chromedriver version for 96.0.4664 google-chrome\n",
      "Driver [/Users/franciscovispo/.wdm/drivers/chromedriver/mac64/96.0.4664.45/chromedriver] found in cache\n"
     ]
    },
    {
     "name": "stdout",
     "output_type": "stream",
     "text": [
      "llego a los huespedes\n",
      "llego a las características\n",
      "llego a los precios\n",
      "llego a los usos\n"
     ]
    },
    {
     "name": "stderr",
     "output_type": "stream",
     "text": [
      "\n",
      "\n",
      "====== WebDriver manager ======\n"
     ]
    },
    {
     "name": "stdout",
     "output_type": "stream",
     "text": [
      "409\n"
     ]
    },
    {
     "name": "stderr",
     "output_type": "stream",
     "text": [
      "Current google-chrome version is 96.0.4664\n",
      "Get LATEST chromedriver version for 96.0.4664 google-chrome\n",
      "Driver [/Users/franciscovispo/.wdm/drivers/chromedriver/mac64/96.0.4664.45/chromedriver] found in cache\n"
     ]
    },
    {
     "name": "stdout",
     "output_type": "stream",
     "text": [
      "llego a los huespedes\n",
      "llego a las características\n",
      "llego a los precios\n",
      "llego a los usos\n"
     ]
    },
    {
     "name": "stderr",
     "output_type": "stream",
     "text": [
      "\n",
      "\n",
      "====== WebDriver manager ======\n"
     ]
    },
    {
     "name": "stdout",
     "output_type": "stream",
     "text": [
      "410\n"
     ]
    },
    {
     "name": "stderr",
     "output_type": "stream",
     "text": [
      "Current google-chrome version is 96.0.4664\n",
      "Get LATEST chromedriver version for 96.0.4664 google-chrome\n",
      "Driver [/Users/franciscovispo/.wdm/drivers/chromedriver/mac64/96.0.4664.45/chromedriver] found in cache\n"
     ]
    },
    {
     "name": "stdout",
     "output_type": "stream",
     "text": [
      "llego a los huespedes\n",
      "llego a las características\n",
      "llego a los precios\n",
      "llego a los usos\n"
     ]
    },
    {
     "name": "stderr",
     "output_type": "stream",
     "text": [
      "\n",
      "\n",
      "====== WebDriver manager ======\n",
      "Current google-chrome version is 96.0.4664\n",
      "Get LATEST chromedriver version for 96.0.4664 google-chrome\n"
     ]
    },
    {
     "name": "stdout",
     "output_type": "stream",
     "text": [
      "411\n"
     ]
    },
    {
     "name": "stderr",
     "output_type": "stream",
     "text": [
      "Driver [/Users/franciscovispo/.wdm/drivers/chromedriver/mac64/96.0.4664.45/chromedriver] found in cache\n"
     ]
    },
    {
     "name": "stdout",
     "output_type": "stream",
     "text": [
      "llego a los huespedes\n",
      "llego a las características\n",
      "llego a los precios\n",
      "llego a los usos\n"
     ]
    },
    {
     "name": "stderr",
     "output_type": "stream",
     "text": [
      "\n",
      "\n",
      "====== WebDriver manager ======\n",
      "Current google-chrome version is 96.0.4664\n",
      "Get LATEST chromedriver version for 96.0.4664 google-chrome\n"
     ]
    },
    {
     "name": "stdout",
     "output_type": "stream",
     "text": [
      "412\n"
     ]
    },
    {
     "name": "stderr",
     "output_type": "stream",
     "text": [
      "Driver [/Users/franciscovispo/.wdm/drivers/chromedriver/mac64/96.0.4664.45/chromedriver] found in cache\n"
     ]
    },
    {
     "name": "stdout",
     "output_type": "stream",
     "text": [
      "llego a los huespedes\n",
      "llego a las características\n",
      "llego a los precios\n",
      "llego a los usos\n"
     ]
    },
    {
     "name": "stderr",
     "output_type": "stream",
     "text": [
      "\n",
      "\n",
      "====== WebDriver manager ======\n",
      "Current google-chrome version is 96.0.4664\n",
      "Get LATEST chromedriver version for 96.0.4664 google-chrome\n"
     ]
    },
    {
     "name": "stdout",
     "output_type": "stream",
     "text": [
      "413\n"
     ]
    },
    {
     "name": "stderr",
     "output_type": "stream",
     "text": [
      "Driver [/Users/franciscovispo/.wdm/drivers/chromedriver/mac64/96.0.4664.45/chromedriver] found in cache\n"
     ]
    },
    {
     "name": "stdout",
     "output_type": "stream",
     "text": [
      "llego a los huespedes\n",
      "llego a las características\n",
      "llego a los precios\n",
      "llego a los usos\n"
     ]
    },
    {
     "name": "stderr",
     "output_type": "stream",
     "text": [
      "\n",
      "\n",
      "====== WebDriver manager ======\n",
      "Current google-chrome version is 96.0.4664\n",
      "Get LATEST chromedriver version for 96.0.4664 google-chrome\n"
     ]
    },
    {
     "name": "stdout",
     "output_type": "stream",
     "text": [
      "414\n"
     ]
    },
    {
     "name": "stderr",
     "output_type": "stream",
     "text": [
      "Driver [/Users/franciscovispo/.wdm/drivers/chromedriver/mac64/96.0.4664.45/chromedriver] found in cache\n"
     ]
    },
    {
     "name": "stdout",
     "output_type": "stream",
     "text": [
      "llego a los huespedes\n",
      "llego a las características\n",
      "llego a los precios\n",
      "llego a los usos\n"
     ]
    },
    {
     "name": "stderr",
     "output_type": "stream",
     "text": [
      "\n",
      "\n",
      "====== WebDriver manager ======\n"
     ]
    },
    {
     "name": "stdout",
     "output_type": "stream",
     "text": [
      "415\n"
     ]
    },
    {
     "name": "stderr",
     "output_type": "stream",
     "text": [
      "Current google-chrome version is 96.0.4664\n",
      "Get LATEST chromedriver version for 96.0.4664 google-chrome\n",
      "Driver [/Users/franciscovispo/.wdm/drivers/chromedriver/mac64/96.0.4664.45/chromedriver] found in cache\n"
     ]
    },
    {
     "name": "stdout",
     "output_type": "stream",
     "text": [
      "llego a los huespedes\n",
      "llego a las características\n",
      "llego a los precios\n",
      "llego a los usos\n"
     ]
    },
    {
     "name": "stderr",
     "output_type": "stream",
     "text": [
      "\n",
      "\n",
      "====== WebDriver manager ======\n"
     ]
    },
    {
     "name": "stdout",
     "output_type": "stream",
     "text": [
      "416\n"
     ]
    },
    {
     "name": "stderr",
     "output_type": "stream",
     "text": [
      "Current google-chrome version is 96.0.4664\n",
      "Get LATEST chromedriver version for 96.0.4664 google-chrome\n",
      "Driver [/Users/franciscovispo/.wdm/drivers/chromedriver/mac64/96.0.4664.45/chromedriver] found in cache\n"
     ]
    },
    {
     "name": "stdout",
     "output_type": "stream",
     "text": [
      "llego a los huespedes\n",
      "llego a las características\n",
      "llego a los precios\n",
      "llego a los usos\n"
     ]
    },
    {
     "name": "stderr",
     "output_type": "stream",
     "text": [
      "\n",
      "\n",
      "====== WebDriver manager ======\n"
     ]
    },
    {
     "name": "stdout",
     "output_type": "stream",
     "text": [
      "417\n"
     ]
    },
    {
     "name": "stderr",
     "output_type": "stream",
     "text": [
      "Current google-chrome version is 96.0.4664\n",
      "Get LATEST chromedriver version for 96.0.4664 google-chrome\n",
      "Driver [/Users/franciscovispo/.wdm/drivers/chromedriver/mac64/96.0.4664.45/chromedriver] found in cache\n"
     ]
    },
    {
     "name": "stdout",
     "output_type": "stream",
     "text": [
      "llego a los huespedes\n",
      "llego a las características\n",
      "llego a los precios\n",
      "llego a los usos\n"
     ]
    },
    {
     "name": "stderr",
     "output_type": "stream",
     "text": [
      "\n",
      "\n",
      "====== WebDriver manager ======\n"
     ]
    },
    {
     "name": "stdout",
     "output_type": "stream",
     "text": [
      "418\n"
     ]
    },
    {
     "name": "stderr",
     "output_type": "stream",
     "text": [
      "Current google-chrome version is 96.0.4664\n",
      "Get LATEST chromedriver version for 96.0.4664 google-chrome\n",
      "Driver [/Users/franciscovispo/.wdm/drivers/chromedriver/mac64/96.0.4664.45/chromedriver] found in cache\n"
     ]
    },
    {
     "name": "stdout",
     "output_type": "stream",
     "text": [
      "llego a los huespedes\n",
      "llego a las características\n",
      "llego a los precios\n",
      "llego a los usos\n"
     ]
    },
    {
     "name": "stderr",
     "output_type": "stream",
     "text": [
      "\n",
      "\n",
      "====== WebDriver manager ======\n"
     ]
    },
    {
     "name": "stdout",
     "output_type": "stream",
     "text": [
      "419\n"
     ]
    },
    {
     "name": "stderr",
     "output_type": "stream",
     "text": [
      "Current google-chrome version is 96.0.4664\n",
      "Get LATEST chromedriver version for 96.0.4664 google-chrome\n",
      "Driver [/Users/franciscovispo/.wdm/drivers/chromedriver/mac64/96.0.4664.45/chromedriver] found in cache\n"
     ]
    },
    {
     "name": "stdout",
     "output_type": "stream",
     "text": [
      "llego a los huespedes\n",
      "llego a las características\n",
      "llego a los precios\n",
      "llego a los usos\n"
     ]
    },
    {
     "name": "stderr",
     "output_type": "stream",
     "text": [
      "\n",
      "\n",
      "====== WebDriver manager ======\n"
     ]
    },
    {
     "name": "stdout",
     "output_type": "stream",
     "text": [
      "420\n"
     ]
    },
    {
     "name": "stderr",
     "output_type": "stream",
     "text": [
      "Current google-chrome version is 96.0.4664\n",
      "Get LATEST chromedriver version for 96.0.4664 google-chrome\n",
      "Driver [/Users/franciscovispo/.wdm/drivers/chromedriver/mac64/96.0.4664.45/chromedriver] found in cache\n"
     ]
    },
    {
     "name": "stdout",
     "output_type": "stream",
     "text": [
      "llego a los huespedes\n",
      "llego a las características\n",
      "llego a los precios\n",
      "llego a los usos\n"
     ]
    },
    {
     "name": "stderr",
     "output_type": "stream",
     "text": [
      "\n",
      "\n",
      "====== WebDriver manager ======\n",
      "Current google-chrome version is 96.0.4664\n",
      "Get LATEST chromedriver version for 96.0.4664 google-chrome\n"
     ]
    },
    {
     "name": "stdout",
     "output_type": "stream",
     "text": [
      "421\n"
     ]
    },
    {
     "name": "stderr",
     "output_type": "stream",
     "text": [
      "Driver [/Users/franciscovispo/.wdm/drivers/chromedriver/mac64/96.0.4664.45/chromedriver] found in cache\n"
     ]
    },
    {
     "name": "stdout",
     "output_type": "stream",
     "text": [
      "llego a los huespedes\n",
      "llego a las características\n",
      "llego a los precios\n",
      "llego a los usos\n"
     ]
    },
    {
     "name": "stderr",
     "output_type": "stream",
     "text": [
      "\n",
      "\n",
      "====== WebDriver manager ======\n"
     ]
    },
    {
     "name": "stdout",
     "output_type": "stream",
     "text": [
      "422\n"
     ]
    },
    {
     "name": "stderr",
     "output_type": "stream",
     "text": [
      "Current google-chrome version is 96.0.4664\n",
      "Get LATEST chromedriver version for 96.0.4664 google-chrome\n",
      "Driver [/Users/franciscovispo/.wdm/drivers/chromedriver/mac64/96.0.4664.45/chromedriver] found in cache\n"
     ]
    },
    {
     "name": "stdout",
     "output_type": "stream",
     "text": [
      "llego a los huespedes\n",
      "llego a las características\n",
      "llego a los precios\n",
      "llego a los usos\n"
     ]
    },
    {
     "name": "stderr",
     "output_type": "stream",
     "text": [
      "\n",
      "\n",
      "====== WebDriver manager ======\n"
     ]
    },
    {
     "name": "stdout",
     "output_type": "stream",
     "text": [
      "423\n"
     ]
    },
    {
     "name": "stderr",
     "output_type": "stream",
     "text": [
      "Current google-chrome version is 96.0.4664\n",
      "Get LATEST chromedriver version for 96.0.4664 google-chrome\n",
      "Driver [/Users/franciscovispo/.wdm/drivers/chromedriver/mac64/96.0.4664.45/chromedriver] found in cache\n"
     ]
    },
    {
     "name": "stdout",
     "output_type": "stream",
     "text": [
      "llego a los huespedes\n",
      "llego a las características\n",
      "llego a los precios\n",
      "llego a los usos\n"
     ]
    },
    {
     "name": "stderr",
     "output_type": "stream",
     "text": [
      "\n",
      "\n",
      "====== WebDriver manager ======\n"
     ]
    },
    {
     "name": "stdout",
     "output_type": "stream",
     "text": [
      "424\n"
     ]
    },
    {
     "name": "stderr",
     "output_type": "stream",
     "text": [
      "Current google-chrome version is 96.0.4664\n",
      "Get LATEST chromedriver version for 96.0.4664 google-chrome\n",
      "Driver [/Users/franciscovispo/.wdm/drivers/chromedriver/mac64/96.0.4664.45/chromedriver] found in cache\n"
     ]
    },
    {
     "name": "stdout",
     "output_type": "stream",
     "text": [
      "llego a los huespedes\n",
      "llego a las características\n",
      "llego a los precios\n",
      "llego a los usos\n"
     ]
    },
    {
     "name": "stderr",
     "output_type": "stream",
     "text": [
      "\n",
      "\n",
      "====== WebDriver manager ======\n"
     ]
    },
    {
     "name": "stdout",
     "output_type": "stream",
     "text": [
      "425\n"
     ]
    },
    {
     "name": "stderr",
     "output_type": "stream",
     "text": [
      "Current google-chrome version is 96.0.4664\n",
      "Get LATEST chromedriver version for 96.0.4664 google-chrome\n",
      "Driver [/Users/franciscovispo/.wdm/drivers/chromedriver/mac64/96.0.4664.45/chromedriver] found in cache\n"
     ]
    },
    {
     "name": "stdout",
     "output_type": "stream",
     "text": [
      "llego a los huespedes\n",
      "llego a las características\n",
      "llego a los precios\n",
      "llego a los usos\n"
     ]
    },
    {
     "name": "stderr",
     "output_type": "stream",
     "text": [
      "\n",
      "\n",
      "====== WebDriver manager ======\n",
      "Current google-chrome version is 96.0.4664\n",
      "Get LATEST chromedriver version for 96.0.4664 google-chrome\n"
     ]
    },
    {
     "name": "stdout",
     "output_type": "stream",
     "text": [
      "426\n"
     ]
    },
    {
     "name": "stderr",
     "output_type": "stream",
     "text": [
      "Driver [/Users/franciscovispo/.wdm/drivers/chromedriver/mac64/96.0.4664.45/chromedriver] found in cache\n"
     ]
    },
    {
     "name": "stdout",
     "output_type": "stream",
     "text": [
      "llego a los huespedes\n",
      "llego a las características\n",
      "llego a los precios\n",
      "llego a los usos\n"
     ]
    },
    {
     "name": "stderr",
     "output_type": "stream",
     "text": [
      "\n",
      "\n",
      "====== WebDriver manager ======\n"
     ]
    },
    {
     "name": "stdout",
     "output_type": "stream",
     "text": [
      "427\n"
     ]
    },
    {
     "name": "stderr",
     "output_type": "stream",
     "text": [
      "Current google-chrome version is 96.0.4664\n",
      "Get LATEST chromedriver version for 96.0.4664 google-chrome\n",
      "Driver [/Users/franciscovispo/.wdm/drivers/chromedriver/mac64/96.0.4664.45/chromedriver] found in cache\n"
     ]
    },
    {
     "name": "stdout",
     "output_type": "stream",
     "text": [
      "llego a los huespedes\n",
      "llego a las características\n",
      "llego a los precios\n",
      "llego a los usos\n"
     ]
    },
    {
     "name": "stderr",
     "output_type": "stream",
     "text": [
      "\n",
      "\n",
      "====== WebDriver manager ======\n",
      "Current google-chrome version is 96.0.4664\n",
      "Get LATEST chromedriver version for 96.0.4664 google-chrome\n"
     ]
    },
    {
     "name": "stdout",
     "output_type": "stream",
     "text": [
      "428\n"
     ]
    },
    {
     "name": "stderr",
     "output_type": "stream",
     "text": [
      "Driver [/Users/franciscovispo/.wdm/drivers/chromedriver/mac64/96.0.4664.45/chromedriver] found in cache\n"
     ]
    },
    {
     "name": "stdout",
     "output_type": "stream",
     "text": [
      "llego a los huespedes\n",
      "llego a las características\n",
      "llego a los precios\n",
      "llego a los usos\n"
     ]
    },
    {
     "name": "stderr",
     "output_type": "stream",
     "text": [
      "\n",
      "\n",
      "====== WebDriver manager ======\n",
      "Current google-chrome version is 96.0.4664\n",
      "Get LATEST chromedriver version for 96.0.4664 google-chrome\n"
     ]
    },
    {
     "name": "stdout",
     "output_type": "stream",
     "text": [
      "429\n"
     ]
    },
    {
     "name": "stderr",
     "output_type": "stream",
     "text": [
      "Driver [/Users/franciscovispo/.wdm/drivers/chromedriver/mac64/96.0.4664.45/chromedriver] found in cache\n"
     ]
    },
    {
     "name": "stdout",
     "output_type": "stream",
     "text": [
      "llego a los huespedes\n",
      "llego a las características\n",
      "llego a los precios\n",
      "llego a los usos\n"
     ]
    },
    {
     "name": "stderr",
     "output_type": "stream",
     "text": [
      "\n",
      "\n",
      "====== WebDriver manager ======\n",
      "Current google-chrome version is 96.0.4664\n",
      "Get LATEST chromedriver version for 96.0.4664 google-chrome\n"
     ]
    },
    {
     "name": "stdout",
     "output_type": "stream",
     "text": [
      "430\n"
     ]
    },
    {
     "name": "stderr",
     "output_type": "stream",
     "text": [
      "Driver [/Users/franciscovispo/.wdm/drivers/chromedriver/mac64/96.0.4664.45/chromedriver] found in cache\n"
     ]
    },
    {
     "name": "stdout",
     "output_type": "stream",
     "text": [
      "llego a los huespedes\n",
      "llego a las características\n",
      "llego a los precios\n",
      "llego a los usos\n"
     ]
    },
    {
     "name": "stderr",
     "output_type": "stream",
     "text": [
      "\n",
      "\n",
      "====== WebDriver manager ======\n"
     ]
    },
    {
     "name": "stdout",
     "output_type": "stream",
     "text": [
      "431\n"
     ]
    },
    {
     "name": "stderr",
     "output_type": "stream",
     "text": [
      "Current google-chrome version is 96.0.4664\n",
      "Get LATEST chromedriver version for 96.0.4664 google-chrome\n",
      "Driver [/Users/franciscovispo/.wdm/drivers/chromedriver/mac64/96.0.4664.45/chromedriver] found in cache\n"
     ]
    },
    {
     "name": "stdout",
     "output_type": "stream",
     "text": [
      "llego a los huespedes\n",
      "llego a las características\n",
      "llego a los precios\n",
      "llego a los usos\n"
     ]
    },
    {
     "name": "stderr",
     "output_type": "stream",
     "text": [
      "\n",
      "\n",
      "====== WebDriver manager ======\n",
      "Current google-chrome version is 96.0.4664\n",
      "Get LATEST chromedriver version for 96.0.4664 google-chrome\n"
     ]
    },
    {
     "name": "stdout",
     "output_type": "stream",
     "text": [
      "432\n"
     ]
    },
    {
     "name": "stderr",
     "output_type": "stream",
     "text": [
      "Driver [/Users/franciscovispo/.wdm/drivers/chromedriver/mac64/96.0.4664.45/chromedriver] found in cache\n"
     ]
    },
    {
     "name": "stdout",
     "output_type": "stream",
     "text": [
      "llego a los huespedes\n",
      "llego a las características\n",
      "llego a los precios\n",
      "llego a los usos\n"
     ]
    },
    {
     "name": "stderr",
     "output_type": "stream",
     "text": [
      "\n",
      "\n",
      "====== WebDriver manager ======\n"
     ]
    },
    {
     "name": "stdout",
     "output_type": "stream",
     "text": [
      "433\n"
     ]
    },
    {
     "name": "stderr",
     "output_type": "stream",
     "text": [
      "Current google-chrome version is 96.0.4664\n",
      "Get LATEST chromedriver version for 96.0.4664 google-chrome\n",
      "Driver [/Users/franciscovispo/.wdm/drivers/chromedriver/mac64/96.0.4664.45/chromedriver] found in cache\n"
     ]
    },
    {
     "name": "stdout",
     "output_type": "stream",
     "text": [
      "llego a los huespedes\n",
      "llego a las características\n",
      "llego a los precios\n",
      "llego a los usos\n"
     ]
    },
    {
     "name": "stderr",
     "output_type": "stream",
     "text": [
      "\n",
      "\n",
      "====== WebDriver manager ======\n"
     ]
    },
    {
     "name": "stdout",
     "output_type": "stream",
     "text": [
      "434\n"
     ]
    },
    {
     "name": "stderr",
     "output_type": "stream",
     "text": [
      "Current google-chrome version is 96.0.4664\n",
      "Get LATEST chromedriver version for 96.0.4664 google-chrome\n",
      "Driver [/Users/franciscovispo/.wdm/drivers/chromedriver/mac64/96.0.4664.45/chromedriver] found in cache\n"
     ]
    },
    {
     "name": "stdout",
     "output_type": "stream",
     "text": [
      "llego a los huespedes\n",
      "llego a las características\n",
      "llego a los precios\n",
      "llego a los usos\n"
     ]
    },
    {
     "name": "stderr",
     "output_type": "stream",
     "text": [
      "\n",
      "\n",
      "====== WebDriver manager ======\n"
     ]
    },
    {
     "name": "stdout",
     "output_type": "stream",
     "text": [
      "435\n"
     ]
    },
    {
     "name": "stderr",
     "output_type": "stream",
     "text": [
      "Current google-chrome version is 96.0.4664\n",
      "Get LATEST chromedriver version for 96.0.4664 google-chrome\n",
      "Driver [/Users/franciscovispo/.wdm/drivers/chromedriver/mac64/96.0.4664.45/chromedriver] found in cache\n"
     ]
    },
    {
     "name": "stdout",
     "output_type": "stream",
     "text": [
      "llego a los huespedes\n",
      "llego a las características\n",
      "llego a los precios\n",
      "llego a los usos\n"
     ]
    },
    {
     "name": "stderr",
     "output_type": "stream",
     "text": [
      "\n",
      "\n",
      "====== WebDriver manager ======\n"
     ]
    },
    {
     "name": "stdout",
     "output_type": "stream",
     "text": [
      "436\n"
     ]
    },
    {
     "name": "stderr",
     "output_type": "stream",
     "text": [
      "Current google-chrome version is 96.0.4664\n",
      "Get LATEST chromedriver version for 96.0.4664 google-chrome\n",
      "Driver [/Users/franciscovispo/.wdm/drivers/chromedriver/mac64/96.0.4664.45/chromedriver] found in cache\n"
     ]
    },
    {
     "name": "stdout",
     "output_type": "stream",
     "text": [
      "llego a los huespedes\n",
      "llego a las características\n",
      "llego a los precios\n",
      "llego a los usos\n"
     ]
    },
    {
     "name": "stderr",
     "output_type": "stream",
     "text": [
      "\n",
      "\n",
      "====== WebDriver manager ======\n",
      "Current google-chrome version is 96.0.4664\n",
      "Get LATEST chromedriver version for 96.0.4664 google-chrome\n"
     ]
    },
    {
     "name": "stdout",
     "output_type": "stream",
     "text": [
      "437\n"
     ]
    },
    {
     "name": "stderr",
     "output_type": "stream",
     "text": [
      "Driver [/Users/franciscovispo/.wdm/drivers/chromedriver/mac64/96.0.4664.45/chromedriver] found in cache\n"
     ]
    },
    {
     "name": "stdout",
     "output_type": "stream",
     "text": [
      "llego a los huespedes\n",
      "llego a las características\n",
      "llego a los precios\n",
      "llego a los usos\n"
     ]
    },
    {
     "name": "stderr",
     "output_type": "stream",
     "text": [
      "\n",
      "\n",
      "====== WebDriver manager ======\n",
      "Current google-chrome version is 96.0.4664\n",
      "Get LATEST chromedriver version for 96.0.4664 google-chrome\n"
     ]
    },
    {
     "name": "stdout",
     "output_type": "stream",
     "text": [
      "438\n"
     ]
    },
    {
     "name": "stderr",
     "output_type": "stream",
     "text": [
      "Driver [/Users/franciscovispo/.wdm/drivers/chromedriver/mac64/96.0.4664.45/chromedriver] found in cache\n"
     ]
    },
    {
     "name": "stdout",
     "output_type": "stream",
     "text": [
      "llego a los huespedes\n",
      "llego a las características\n",
      "llego a los precios\n",
      "llego a los usos\n"
     ]
    },
    {
     "name": "stderr",
     "output_type": "stream",
     "text": [
      "\n",
      "\n",
      "====== WebDriver manager ======\n",
      "Current google-chrome version is 96.0.4664\n",
      "Get LATEST chromedriver version for 96.0.4664 google-chrome\n"
     ]
    },
    {
     "name": "stdout",
     "output_type": "stream",
     "text": [
      "439\n"
     ]
    },
    {
     "name": "stderr",
     "output_type": "stream",
     "text": [
      "Driver [/Users/franciscovispo/.wdm/drivers/chromedriver/mac64/96.0.4664.45/chromedriver] found in cache\n"
     ]
    },
    {
     "name": "stdout",
     "output_type": "stream",
     "text": [
      "llego a los huespedes\n",
      "llego a las características\n",
      "llego a los precios\n",
      "llego a los usos\n"
     ]
    },
    {
     "name": "stderr",
     "output_type": "stream",
     "text": [
      "\n",
      "\n",
      "====== WebDriver manager ======\n",
      "Current google-chrome version is 96.0.4664\n",
      "Get LATEST chromedriver version for 96.0.4664 google-chrome\n"
     ]
    },
    {
     "name": "stdout",
     "output_type": "stream",
     "text": [
      "440\n"
     ]
    },
    {
     "name": "stderr",
     "output_type": "stream",
     "text": [
      "Driver [/Users/franciscovispo/.wdm/drivers/chromedriver/mac64/96.0.4664.45/chromedriver] found in cache\n"
     ]
    },
    {
     "name": "stdout",
     "output_type": "stream",
     "text": [
      "llego a los huespedes\n",
      "llego a las características\n",
      "llego a los precios\n",
      "llego a los usos\n"
     ]
    },
    {
     "name": "stderr",
     "output_type": "stream",
     "text": [
      "\n",
      "\n",
      "====== WebDriver manager ======\n"
     ]
    },
    {
     "name": "stdout",
     "output_type": "stream",
     "text": [
      "441\n"
     ]
    },
    {
     "name": "stderr",
     "output_type": "stream",
     "text": [
      "Current google-chrome version is 96.0.4664\n",
      "Get LATEST chromedriver version for 96.0.4664 google-chrome\n",
      "Driver [/Users/franciscovispo/.wdm/drivers/chromedriver/mac64/96.0.4664.45/chromedriver] found in cache\n"
     ]
    },
    {
     "name": "stdout",
     "output_type": "stream",
     "text": [
      "llego a los huespedes\n",
      "llego a las características\n",
      "llego a los precios\n",
      "llego a los usos\n"
     ]
    },
    {
     "name": "stderr",
     "output_type": "stream",
     "text": [
      "\n",
      "\n",
      "====== WebDriver manager ======\n"
     ]
    },
    {
     "name": "stdout",
     "output_type": "stream",
     "text": [
      "442\n"
     ]
    },
    {
     "name": "stderr",
     "output_type": "stream",
     "text": [
      "Current google-chrome version is 96.0.4664\n",
      "Get LATEST chromedriver version for 96.0.4664 google-chrome\n",
      "Driver [/Users/franciscovispo/.wdm/drivers/chromedriver/mac64/96.0.4664.45/chromedriver] found in cache\n"
     ]
    },
    {
     "name": "stdout",
     "output_type": "stream",
     "text": [
      "llego a los huespedes\n",
      "llego a las características\n",
      "llego a los precios\n",
      "llego a los usos\n"
     ]
    },
    {
     "name": "stderr",
     "output_type": "stream",
     "text": [
      "\n",
      "\n",
      "====== WebDriver manager ======\n"
     ]
    },
    {
     "name": "stdout",
     "output_type": "stream",
     "text": [
      "443\n"
     ]
    },
    {
     "name": "stderr",
     "output_type": "stream",
     "text": [
      "Current google-chrome version is 96.0.4664\n",
      "Get LATEST chromedriver version for 96.0.4664 google-chrome\n",
      "Driver [/Users/franciscovispo/.wdm/drivers/chromedriver/mac64/96.0.4664.45/chromedriver] found in cache\n"
     ]
    },
    {
     "name": "stdout",
     "output_type": "stream",
     "text": [
      "llego a los huespedes\n",
      "llego a las características\n",
      "llego a los precios\n",
      "llego a los usos\n"
     ]
    },
    {
     "name": "stderr",
     "output_type": "stream",
     "text": [
      "\n",
      "\n",
      "====== WebDriver manager ======\n"
     ]
    },
    {
     "name": "stdout",
     "output_type": "stream",
     "text": [
      "444\n"
     ]
    },
    {
     "name": "stderr",
     "output_type": "stream",
     "text": [
      "Current google-chrome version is 96.0.4664\n",
      "Get LATEST chromedriver version for 96.0.4664 google-chrome\n",
      "Driver [/Users/franciscovispo/.wdm/drivers/chromedriver/mac64/96.0.4664.45/chromedriver] found in cache\n"
     ]
    },
    {
     "name": "stdout",
     "output_type": "stream",
     "text": [
      "llego a los huespedes\n",
      "llego a las características\n",
      "llego a los precios\n",
      "llego a los usos\n"
     ]
    },
    {
     "name": "stderr",
     "output_type": "stream",
     "text": [
      "\n",
      "\n",
      "====== WebDriver manager ======\n",
      "Current google-chrome version is 96.0.4664\n"
     ]
    },
    {
     "name": "stdout",
     "output_type": "stream",
     "text": [
      "445\n"
     ]
    },
    {
     "name": "stderr",
     "output_type": "stream",
     "text": [
      "Get LATEST chromedriver version for 96.0.4664 google-chrome\n",
      "Driver [/Users/franciscovispo/.wdm/drivers/chromedriver/mac64/96.0.4664.45/chromedriver] found in cache\n"
     ]
    },
    {
     "name": "stdout",
     "output_type": "stream",
     "text": [
      "llego a los huespedes\n",
      "llego a las características\n",
      "llego a los precios\n",
      "llego a los usos\n"
     ]
    },
    {
     "name": "stderr",
     "output_type": "stream",
     "text": [
      "\n",
      "\n",
      "====== WebDriver manager ======\n"
     ]
    },
    {
     "name": "stdout",
     "output_type": "stream",
     "text": [
      "446\n"
     ]
    },
    {
     "name": "stderr",
     "output_type": "stream",
     "text": [
      "Current google-chrome version is 96.0.4664\n",
      "Get LATEST chromedriver version for 96.0.4664 google-chrome\n",
      "Driver [/Users/franciscovispo/.wdm/drivers/chromedriver/mac64/96.0.4664.45/chromedriver] found in cache\n"
     ]
    },
    {
     "name": "stdout",
     "output_type": "stream",
     "text": [
      "llego a los huespedes\n",
      "llego a las características\n",
      "llego a los precios\n",
      "llego a los usos\n"
     ]
    },
    {
     "name": "stderr",
     "output_type": "stream",
     "text": [
      "\n",
      "\n",
      "====== WebDriver manager ======\n"
     ]
    },
    {
     "name": "stdout",
     "output_type": "stream",
     "text": [
      "447\n"
     ]
    },
    {
     "name": "stderr",
     "output_type": "stream",
     "text": [
      "Current google-chrome version is 96.0.4664\n",
      "Get LATEST chromedriver version for 96.0.4664 google-chrome\n",
      "Driver [/Users/franciscovispo/.wdm/drivers/chromedriver/mac64/96.0.4664.45/chromedriver] found in cache\n"
     ]
    },
    {
     "name": "stdout",
     "output_type": "stream",
     "text": [
      "llego a los huespedes\n",
      "llego a las características\n",
      "llego a los precios\n",
      "llego a los usos\n"
     ]
    },
    {
     "name": "stderr",
     "output_type": "stream",
     "text": [
      "\n",
      "\n",
      "====== WebDriver manager ======\n"
     ]
    },
    {
     "name": "stdout",
     "output_type": "stream",
     "text": [
      "448\n"
     ]
    },
    {
     "name": "stderr",
     "output_type": "stream",
     "text": [
      "Current google-chrome version is 96.0.4664\n",
      "Get LATEST chromedriver version for 96.0.4664 google-chrome\n",
      "Driver [/Users/franciscovispo/.wdm/drivers/chromedriver/mac64/96.0.4664.45/chromedriver] found in cache\n"
     ]
    },
    {
     "name": "stdout",
     "output_type": "stream",
     "text": [
      "llego a los huespedes\n",
      "llego a las características\n",
      "llego a los precios\n",
      "llego a los usos\n"
     ]
    },
    {
     "name": "stderr",
     "output_type": "stream",
     "text": [
      "\n",
      "\n",
      "====== WebDriver manager ======\n",
      "Current google-chrome version is 96.0.4664\n",
      "Get LATEST chromedriver version for 96.0.4664 google-chrome\n"
     ]
    },
    {
     "name": "stdout",
     "output_type": "stream",
     "text": [
      "449\n"
     ]
    },
    {
     "name": "stderr",
     "output_type": "stream",
     "text": [
      "Driver [/Users/franciscovispo/.wdm/drivers/chromedriver/mac64/96.0.4664.45/chromedriver] found in cache\n"
     ]
    },
    {
     "name": "stdout",
     "output_type": "stream",
     "text": [
      "llego a los huespedes\n",
      "llego a las características\n",
      "llego a los precios\n",
      "llego a los usos\n"
     ]
    },
    {
     "name": "stderr",
     "output_type": "stream",
     "text": [
      "\n",
      "\n",
      "====== WebDriver manager ======\n"
     ]
    },
    {
     "name": "stdout",
     "output_type": "stream",
     "text": [
      "450\n"
     ]
    },
    {
     "name": "stderr",
     "output_type": "stream",
     "text": [
      "Current google-chrome version is 96.0.4664\n",
      "Get LATEST chromedriver version for 96.0.4664 google-chrome\n",
      "Driver [/Users/franciscovispo/.wdm/drivers/chromedriver/mac64/96.0.4664.45/chromedriver] found in cache\n"
     ]
    },
    {
     "name": "stdout",
     "output_type": "stream",
     "text": [
      "llego a los huespedes\n",
      "llego a las características\n",
      "llego a los precios\n",
      "llego a los usos\n"
     ]
    },
    {
     "name": "stderr",
     "output_type": "stream",
     "text": [
      "\n",
      "\n",
      "====== WebDriver manager ======\n"
     ]
    },
    {
     "name": "stdout",
     "output_type": "stream",
     "text": [
      "451\n"
     ]
    },
    {
     "name": "stderr",
     "output_type": "stream",
     "text": [
      "Current google-chrome version is 96.0.4664\n",
      "Get LATEST chromedriver version for 96.0.4664 google-chrome\n",
      "Driver [/Users/franciscovispo/.wdm/drivers/chromedriver/mac64/96.0.4664.45/chromedriver] found in cache\n"
     ]
    },
    {
     "name": "stdout",
     "output_type": "stream",
     "text": [
      "llego a los huespedes\n",
      "llego a las características\n",
      "llego a los precios\n",
      "llego a los usos\n"
     ]
    },
    {
     "name": "stderr",
     "output_type": "stream",
     "text": [
      "\n",
      "\n",
      "====== WebDriver manager ======\n"
     ]
    },
    {
     "name": "stdout",
     "output_type": "stream",
     "text": [
      "452\n"
     ]
    },
    {
     "name": "stderr",
     "output_type": "stream",
     "text": [
      "Current google-chrome version is 96.0.4664\n",
      "Get LATEST chromedriver version for 96.0.4664 google-chrome\n",
      "Driver [/Users/franciscovispo/.wdm/drivers/chromedriver/mac64/96.0.4664.45/chromedriver] found in cache\n"
     ]
    },
    {
     "name": "stdout",
     "output_type": "stream",
     "text": [
      "llego a los huespedes\n",
      "llego a las características\n",
      "llego a los precios\n",
      "llego a los usos\n"
     ]
    },
    {
     "name": "stderr",
     "output_type": "stream",
     "text": [
      "\n",
      "\n",
      "====== WebDriver manager ======\n"
     ]
    },
    {
     "name": "stdout",
     "output_type": "stream",
     "text": [
      "453\n"
     ]
    },
    {
     "name": "stderr",
     "output_type": "stream",
     "text": [
      "Current google-chrome version is 96.0.4664\n",
      "Get LATEST chromedriver version for 96.0.4664 google-chrome\n",
      "Driver [/Users/franciscovispo/.wdm/drivers/chromedriver/mac64/96.0.4664.45/chromedriver] found in cache\n"
     ]
    },
    {
     "name": "stdout",
     "output_type": "stream",
     "text": [
      "llego a los huespedes\n",
      "llego a las características\n",
      "llego a los precios\n",
      "llego a los usos\n"
     ]
    },
    {
     "name": "stderr",
     "output_type": "stream",
     "text": [
      "\n",
      "\n",
      "====== WebDriver manager ======\n"
     ]
    },
    {
     "name": "stdout",
     "output_type": "stream",
     "text": [
      "454\n"
     ]
    },
    {
     "name": "stderr",
     "output_type": "stream",
     "text": [
      "Current google-chrome version is 96.0.4664\n",
      "Get LATEST chromedriver version for 96.0.4664 google-chrome\n",
      "Driver [/Users/franciscovispo/.wdm/drivers/chromedriver/mac64/96.0.4664.45/chromedriver] found in cache\n"
     ]
    },
    {
     "name": "stdout",
     "output_type": "stream",
     "text": [
      "llego a los huespedes\n",
      "llego a las características\n",
      "llego a los precios\n",
      "llego a los usos\n"
     ]
    },
    {
     "name": "stderr",
     "output_type": "stream",
     "text": [
      "\n",
      "\n",
      "====== WebDriver manager ======\n"
     ]
    },
    {
     "name": "stdout",
     "output_type": "stream",
     "text": [
      "455\n"
     ]
    },
    {
     "name": "stderr",
     "output_type": "stream",
     "text": [
      "Current google-chrome version is 96.0.4664\n",
      "Get LATEST chromedriver version for 96.0.4664 google-chrome\n",
      "Driver [/Users/franciscovispo/.wdm/drivers/chromedriver/mac64/96.0.4664.45/chromedriver] found in cache\n"
     ]
    },
    {
     "name": "stdout",
     "output_type": "stream",
     "text": [
      "llego a los huespedes\n",
      "llego a las características\n",
      "llego a los precios\n",
      "llego a los usos\n"
     ]
    },
    {
     "name": "stderr",
     "output_type": "stream",
     "text": [
      "\n",
      "\n",
      "====== WebDriver manager ======\n",
      "Current google-chrome version is 96.0.4664\n",
      "Get LATEST chromedriver version for 96.0.4664 google-chrome\n"
     ]
    },
    {
     "name": "stdout",
     "output_type": "stream",
     "text": [
      "456\n"
     ]
    },
    {
     "name": "stderr",
     "output_type": "stream",
     "text": [
      "Driver [/Users/franciscovispo/.wdm/drivers/chromedriver/mac64/96.0.4664.45/chromedriver] found in cache\n"
     ]
    },
    {
     "name": "stdout",
     "output_type": "stream",
     "text": [
      "llego a los huespedes\n",
      "llego a las características\n",
      "llego a los precios\n",
      "llego a los usos\n"
     ]
    },
    {
     "name": "stderr",
     "output_type": "stream",
     "text": [
      "\n",
      "\n",
      "====== WebDriver manager ======\n"
     ]
    },
    {
     "name": "stdout",
     "output_type": "stream",
     "text": [
      "457\n"
     ]
    },
    {
     "name": "stderr",
     "output_type": "stream",
     "text": [
      "Current google-chrome version is 96.0.4664\n",
      "Get LATEST chromedriver version for 96.0.4664 google-chrome\n",
      "Driver [/Users/franciscovispo/.wdm/drivers/chromedriver/mac64/96.0.4664.45/chromedriver] found in cache\n"
     ]
    },
    {
     "name": "stdout",
     "output_type": "stream",
     "text": [
      "llego a los huespedes\n",
      "llego a las características\n",
      "llego a los precios\n",
      "llego a los usos\n"
     ]
    },
    {
     "name": "stderr",
     "output_type": "stream",
     "text": [
      "\n",
      "\n",
      "====== WebDriver manager ======\n"
     ]
    },
    {
     "name": "stdout",
     "output_type": "stream",
     "text": [
      "458\n"
     ]
    },
    {
     "name": "stderr",
     "output_type": "stream",
     "text": [
      "Current google-chrome version is 96.0.4664\n",
      "Get LATEST chromedriver version for 96.0.4664 google-chrome\n",
      "Driver [/Users/franciscovispo/.wdm/drivers/chromedriver/mac64/96.0.4664.45/chromedriver] found in cache\n"
     ]
    },
    {
     "name": "stdout",
     "output_type": "stream",
     "text": [
      "llego a los huespedes\n",
      "llego a las características\n",
      "llego a los precios\n",
      "llego a los usos\n"
     ]
    },
    {
     "name": "stderr",
     "output_type": "stream",
     "text": [
      "\n",
      "\n",
      "====== WebDriver manager ======\n",
      "Current google-chrome version is 96.0.4664\n",
      "Get LATEST chromedriver version for 96.0.4664 google-chrome\n"
     ]
    },
    {
     "name": "stdout",
     "output_type": "stream",
     "text": [
      "459\n"
     ]
    },
    {
     "name": "stderr",
     "output_type": "stream",
     "text": [
      "Driver [/Users/franciscovispo/.wdm/drivers/chromedriver/mac64/96.0.4664.45/chromedriver] found in cache\n"
     ]
    },
    {
     "name": "stdout",
     "output_type": "stream",
     "text": [
      "llego a los huespedes\n",
      "llego a las características\n",
      "llego a los precios\n",
      "llego a los usos\n"
     ]
    },
    {
     "name": "stderr",
     "output_type": "stream",
     "text": [
      "\n",
      "\n",
      "====== WebDriver manager ======\n",
      "Current google-chrome version is 96.0.4664\n",
      "Get LATEST chromedriver version for 96.0.4664 google-chrome\n"
     ]
    },
    {
     "name": "stdout",
     "output_type": "stream",
     "text": [
      "460\n"
     ]
    },
    {
     "name": "stderr",
     "output_type": "stream",
     "text": [
      "Driver [/Users/franciscovispo/.wdm/drivers/chromedriver/mac64/96.0.4664.45/chromedriver] found in cache\n"
     ]
    },
    {
     "name": "stdout",
     "output_type": "stream",
     "text": [
      "llego a los huespedes\n",
      "llego a las características\n",
      "llego a los precios\n",
      "llego a los usos\n"
     ]
    },
    {
     "name": "stderr",
     "output_type": "stream",
     "text": [
      "\n",
      "\n",
      "====== WebDriver manager ======\n",
      "Current google-chrome version is 96.0.4664\n",
      "Get LATEST chromedriver version for 96.0.4664 google-chrome\n"
     ]
    },
    {
     "name": "stdout",
     "output_type": "stream",
     "text": [
      "461\n"
     ]
    },
    {
     "name": "stderr",
     "output_type": "stream",
     "text": [
      "Driver [/Users/franciscovispo/.wdm/drivers/chromedriver/mac64/96.0.4664.45/chromedriver] found in cache\n"
     ]
    },
    {
     "name": "stdout",
     "output_type": "stream",
     "text": [
      "llego a los huespedes\n",
      "llego a las características\n",
      "llego a los precios\n",
      "llego a los usos\n"
     ]
    },
    {
     "name": "stderr",
     "output_type": "stream",
     "text": [
      "\n",
      "\n",
      "====== WebDriver manager ======\n",
      "Current google-chrome version is 96.0.4664\n",
      "Get LATEST chromedriver version for 96.0.4664 google-chrome\n"
     ]
    },
    {
     "name": "stdout",
     "output_type": "stream",
     "text": [
      "462\n"
     ]
    },
    {
     "name": "stderr",
     "output_type": "stream",
     "text": [
      "Driver [/Users/franciscovispo/.wdm/drivers/chromedriver/mac64/96.0.4664.45/chromedriver] found in cache\n"
     ]
    },
    {
     "name": "stdout",
     "output_type": "stream",
     "text": [
      "llego a los huespedes\n",
      "llego a las características\n",
      "llego a los precios\n",
      "llego a los usos\n"
     ]
    },
    {
     "name": "stderr",
     "output_type": "stream",
     "text": [
      "\n",
      "\n",
      "====== WebDriver manager ======\n",
      "Current google-chrome version is 96.0.4664\n",
      "Get LATEST chromedriver version for 96.0.4664 google-chrome\n"
     ]
    },
    {
     "name": "stdout",
     "output_type": "stream",
     "text": [
      "463\n"
     ]
    },
    {
     "name": "stderr",
     "output_type": "stream",
     "text": [
      "Driver [/Users/franciscovispo/.wdm/drivers/chromedriver/mac64/96.0.4664.45/chromedriver] found in cache\n"
     ]
    },
    {
     "name": "stdout",
     "output_type": "stream",
     "text": [
      "llego a los huespedes\n",
      "llego a las características\n",
      "llego a los precios\n",
      "llego a los usos\n"
     ]
    },
    {
     "name": "stderr",
     "output_type": "stream",
     "text": [
      "\n",
      "\n",
      "====== WebDriver manager ======\n",
      "Current google-chrome version is 96.0.4664\n",
      "Get LATEST chromedriver version for 96.0.4664 google-chrome\n"
     ]
    },
    {
     "name": "stdout",
     "output_type": "stream",
     "text": [
      "464\n"
     ]
    },
    {
     "name": "stderr",
     "output_type": "stream",
     "text": [
      "Driver [/Users/franciscovispo/.wdm/drivers/chromedriver/mac64/96.0.4664.45/chromedriver] found in cache\n"
     ]
    },
    {
     "name": "stdout",
     "output_type": "stream",
     "text": [
      "llego a los huespedes\n",
      "llego a las características\n",
      "llego a los precios\n",
      "llego a los usos\n"
     ]
    },
    {
     "name": "stderr",
     "output_type": "stream",
     "text": [
      "\n",
      "\n",
      "====== WebDriver manager ======\n",
      "Current google-chrome version is 96.0.4664\n",
      "Get LATEST chromedriver version for 96.0.4664 google-chrome\n"
     ]
    },
    {
     "name": "stdout",
     "output_type": "stream",
     "text": [
      "465\n"
     ]
    },
    {
     "name": "stderr",
     "output_type": "stream",
     "text": [
      "Driver [/Users/franciscovispo/.wdm/drivers/chromedriver/mac64/96.0.4664.45/chromedriver] found in cache\n"
     ]
    },
    {
     "name": "stdout",
     "output_type": "stream",
     "text": [
      "llego a los huespedes\n",
      "llego a las características\n",
      "llego a los precios\n",
      "llego a los usos\n"
     ]
    },
    {
     "name": "stderr",
     "output_type": "stream",
     "text": [
      "\n",
      "\n",
      "====== WebDriver manager ======\n",
      "Current google-chrome version is 96.0.4664\n",
      "Get LATEST chromedriver version for 96.0.4664 google-chrome\n"
     ]
    },
    {
     "name": "stdout",
     "output_type": "stream",
     "text": [
      "466\n"
     ]
    },
    {
     "name": "stderr",
     "output_type": "stream",
     "text": [
      "Driver [/Users/franciscovispo/.wdm/drivers/chromedriver/mac64/96.0.4664.45/chromedriver] found in cache\n"
     ]
    },
    {
     "name": "stdout",
     "output_type": "stream",
     "text": [
      "llego a los huespedes\n",
      "llego a las características\n",
      "llego a los precios\n",
      "llego a los usos\n"
     ]
    },
    {
     "name": "stderr",
     "output_type": "stream",
     "text": [
      "\n",
      "\n",
      "====== WebDriver manager ======\n",
      "Current google-chrome version is 96.0.4664\n",
      "Get LATEST chromedriver version for 96.0.4664 google-chrome\n"
     ]
    },
    {
     "name": "stdout",
     "output_type": "stream",
     "text": [
      "467\n"
     ]
    },
    {
     "name": "stderr",
     "output_type": "stream",
     "text": [
      "Driver [/Users/franciscovispo/.wdm/drivers/chromedriver/mac64/96.0.4664.45/chromedriver] found in cache\n"
     ]
    },
    {
     "name": "stdout",
     "output_type": "stream",
     "text": [
      "llego a los huespedes\n",
      "llego a las características\n",
      "llego a los precios\n",
      "llego a los usos\n"
     ]
    },
    {
     "name": "stderr",
     "output_type": "stream",
     "text": [
      "\n",
      "\n",
      "====== WebDriver manager ======\n"
     ]
    },
    {
     "name": "stdout",
     "output_type": "stream",
     "text": [
      "468\n"
     ]
    },
    {
     "name": "stderr",
     "output_type": "stream",
     "text": [
      "Current google-chrome version is 96.0.4664\n",
      "Get LATEST chromedriver version for 96.0.4664 google-chrome\n",
      "Driver [/Users/franciscovispo/.wdm/drivers/chromedriver/mac64/96.0.4664.45/chromedriver] found in cache\n"
     ]
    },
    {
     "name": "stdout",
     "output_type": "stream",
     "text": [
      "llego a los huespedes\n",
      "llego a las características\n",
      "llego a los precios\n",
      "llego a los usos\n"
     ]
    },
    {
     "name": "stderr",
     "output_type": "stream",
     "text": [
      "\n",
      "\n",
      "====== WebDriver manager ======\n"
     ]
    },
    {
     "name": "stdout",
     "output_type": "stream",
     "text": [
      "469\n"
     ]
    },
    {
     "name": "stderr",
     "output_type": "stream",
     "text": [
      "Current google-chrome version is 96.0.4664\n",
      "Get LATEST chromedriver version for 96.0.4664 google-chrome\n",
      "Driver [/Users/franciscovispo/.wdm/drivers/chromedriver/mac64/96.0.4664.45/chromedriver] found in cache\n"
     ]
    },
    {
     "name": "stdout",
     "output_type": "stream",
     "text": [
      "llego a los huespedes\n",
      "llego a las características\n",
      "llego a los precios\n",
      "llego a los usos\n"
     ]
    },
    {
     "name": "stderr",
     "output_type": "stream",
     "text": [
      "\n",
      "\n",
      "====== WebDriver manager ======\n"
     ]
    },
    {
     "name": "stdout",
     "output_type": "stream",
     "text": [
      "470\n"
     ]
    },
    {
     "name": "stderr",
     "output_type": "stream",
     "text": [
      "Current google-chrome version is 96.0.4664\n",
      "Get LATEST chromedriver version for 96.0.4664 google-chrome\n",
      "Driver [/Users/franciscovispo/.wdm/drivers/chromedriver/mac64/96.0.4664.45/chromedriver] found in cache\n"
     ]
    },
    {
     "name": "stdout",
     "output_type": "stream",
     "text": [
      "llego a los huespedes\n",
      "llego a las características\n",
      "llego a los precios\n",
      "llego a los usos\n"
     ]
    },
    {
     "name": "stderr",
     "output_type": "stream",
     "text": [
      "\n",
      "\n",
      "====== WebDriver manager ======\n"
     ]
    },
    {
     "name": "stdout",
     "output_type": "stream",
     "text": [
      "471\n"
     ]
    },
    {
     "name": "stderr",
     "output_type": "stream",
     "text": [
      "Current google-chrome version is 96.0.4664\n",
      "Get LATEST chromedriver version for 96.0.4664 google-chrome\n",
      "Driver [/Users/franciscovispo/.wdm/drivers/chromedriver/mac64/96.0.4664.45/chromedriver] found in cache\n"
     ]
    },
    {
     "name": "stdout",
     "output_type": "stream",
     "text": [
      "llego a los huespedes\n",
      "llego a las características\n",
      "llego a los precios\n",
      "llego a los usos\n"
     ]
    },
    {
     "name": "stderr",
     "output_type": "stream",
     "text": [
      "\n",
      "\n",
      "====== WebDriver manager ======\n"
     ]
    },
    {
     "name": "stdout",
     "output_type": "stream",
     "text": [
      "472\n"
     ]
    },
    {
     "name": "stderr",
     "output_type": "stream",
     "text": [
      "Current google-chrome version is 96.0.4664\n",
      "Get LATEST chromedriver version for 96.0.4664 google-chrome\n",
      "Driver [/Users/franciscovispo/.wdm/drivers/chromedriver/mac64/96.0.4664.45/chromedriver] found in cache\n"
     ]
    },
    {
     "name": "stdout",
     "output_type": "stream",
     "text": [
      "llego a los huespedes\n",
      "llego a las características\n",
      "llego a los precios\n",
      "llego a los usos\n"
     ]
    },
    {
     "name": "stderr",
     "output_type": "stream",
     "text": [
      "\n",
      "\n",
      "====== WebDriver manager ======\n"
     ]
    },
    {
     "name": "stdout",
     "output_type": "stream",
     "text": [
      "473\n"
     ]
    },
    {
     "name": "stderr",
     "output_type": "stream",
     "text": [
      "Current google-chrome version is 96.0.4664\n",
      "Get LATEST chromedriver version for 96.0.4664 google-chrome\n",
      "Driver [/Users/franciscovispo/.wdm/drivers/chromedriver/mac64/96.0.4664.45/chromedriver] found in cache\n"
     ]
    },
    {
     "name": "stdout",
     "output_type": "stream",
     "text": [
      "llego a los huespedes\n",
      "llego a las características\n",
      "llego a los precios\n",
      "llego a los usos\n"
     ]
    },
    {
     "name": "stderr",
     "output_type": "stream",
     "text": [
      "\n",
      "\n",
      "====== WebDriver manager ======\n"
     ]
    },
    {
     "name": "stdout",
     "output_type": "stream",
     "text": [
      "474\n"
     ]
    },
    {
     "name": "stderr",
     "output_type": "stream",
     "text": [
      "Current google-chrome version is 96.0.4664\n",
      "Get LATEST chromedriver version for 96.0.4664 google-chrome\n",
      "Driver [/Users/franciscovispo/.wdm/drivers/chromedriver/mac64/96.0.4664.45/chromedriver] found in cache\n"
     ]
    },
    {
     "name": "stdout",
     "output_type": "stream",
     "text": [
      "llego a los huespedes\n",
      "llego a las características\n",
      "llego a los precios\n",
      "llego a los usos\n"
     ]
    },
    {
     "name": "stderr",
     "output_type": "stream",
     "text": [
      "\n",
      "\n",
      "====== WebDriver manager ======\n"
     ]
    },
    {
     "name": "stdout",
     "output_type": "stream",
     "text": [
      "475\n"
     ]
    },
    {
     "name": "stderr",
     "output_type": "stream",
     "text": [
      "Current google-chrome version is 96.0.4664\n",
      "Get LATEST chromedriver version for 96.0.4664 google-chrome\n",
      "Driver [/Users/franciscovispo/.wdm/drivers/chromedriver/mac64/96.0.4664.45/chromedriver] found in cache\n"
     ]
    },
    {
     "name": "stdout",
     "output_type": "stream",
     "text": [
      "llego a los huespedes\n",
      "llego a las características\n",
      "llego a los precios\n",
      "llego a los usos\n"
     ]
    },
    {
     "name": "stderr",
     "output_type": "stream",
     "text": [
      "\n",
      "\n",
      "====== WebDriver manager ======\n"
     ]
    },
    {
     "name": "stdout",
     "output_type": "stream",
     "text": [
      "476\n"
     ]
    },
    {
     "name": "stderr",
     "output_type": "stream",
     "text": [
      "Current google-chrome version is 96.0.4664\n",
      "Get LATEST chromedriver version for 96.0.4664 google-chrome\n",
      "Driver [/Users/franciscovispo/.wdm/drivers/chromedriver/mac64/96.0.4664.45/chromedriver] found in cache\n"
     ]
    },
    {
     "name": "stdout",
     "output_type": "stream",
     "text": [
      "llego a los huespedes\n",
      "llego a las características\n",
      "llego a los precios\n",
      "llego a los usos\n"
     ]
    },
    {
     "name": "stderr",
     "output_type": "stream",
     "text": [
      "\n",
      "\n",
      "====== WebDriver manager ======\n"
     ]
    },
    {
     "name": "stdout",
     "output_type": "stream",
     "text": [
      "477\n"
     ]
    },
    {
     "name": "stderr",
     "output_type": "stream",
     "text": [
      "Current google-chrome version is 96.0.4664\n",
      "Get LATEST chromedriver version for 96.0.4664 google-chrome\n",
      "Driver [/Users/franciscovispo/.wdm/drivers/chromedriver/mac64/96.0.4664.45/chromedriver] found in cache\n"
     ]
    },
    {
     "name": "stdout",
     "output_type": "stream",
     "text": [
      "llego a los huespedes\n",
      "llego a las características\n",
      "llego a los precios\n",
      "llego a los usos\n"
     ]
    },
    {
     "name": "stderr",
     "output_type": "stream",
     "text": [
      "\n",
      "\n",
      "====== WebDriver manager ======\n"
     ]
    },
    {
     "name": "stdout",
     "output_type": "stream",
     "text": [
      "478\n"
     ]
    },
    {
     "name": "stderr",
     "output_type": "stream",
     "text": [
      "Current google-chrome version is 96.0.4664\n",
      "Get LATEST chromedriver version for 96.0.4664 google-chrome\n",
      "Driver [/Users/franciscovispo/.wdm/drivers/chromedriver/mac64/96.0.4664.45/chromedriver] found in cache\n"
     ]
    },
    {
     "name": "stdout",
     "output_type": "stream",
     "text": [
      "llego a los huespedes\n",
      "llego a las características\n",
      "llego a los precios\n",
      "llego a los usos\n"
     ]
    },
    {
     "name": "stderr",
     "output_type": "stream",
     "text": [
      "\n",
      "\n",
      "====== WebDriver manager ======\n",
      "Current google-chrome version is 96.0.4664\n",
      "Get LATEST chromedriver version for 96.0.4664 google-chrome\n"
     ]
    },
    {
     "name": "stdout",
     "output_type": "stream",
     "text": [
      "479\n"
     ]
    },
    {
     "name": "stderr",
     "output_type": "stream",
     "text": [
      "Driver [/Users/franciscovispo/.wdm/drivers/chromedriver/mac64/96.0.4664.45/chromedriver] found in cache\n"
     ]
    },
    {
     "name": "stdout",
     "output_type": "stream",
     "text": [
      "llego a los huespedes\n",
      "llego a las características\n",
      "llego a los precios\n",
      "llego a los usos\n"
     ]
    },
    {
     "name": "stderr",
     "output_type": "stream",
     "text": [
      "\n",
      "\n",
      "====== WebDriver manager ======\n"
     ]
    },
    {
     "name": "stdout",
     "output_type": "stream",
     "text": [
      "480\n"
     ]
    },
    {
     "name": "stderr",
     "output_type": "stream",
     "text": [
      "Current google-chrome version is 96.0.4664\n",
      "Get LATEST chromedriver version for 96.0.4664 google-chrome\n",
      "Driver [/Users/franciscovispo/.wdm/drivers/chromedriver/mac64/96.0.4664.45/chromedriver] found in cache\n"
     ]
    },
    {
     "name": "stdout",
     "output_type": "stream",
     "text": [
      "llego a los huespedes\n",
      "llego a las características\n",
      "llego a los precios\n",
      "llego a los usos\n"
     ]
    },
    {
     "name": "stderr",
     "output_type": "stream",
     "text": [
      "\n",
      "\n",
      "====== WebDriver manager ======\n",
      "Current google-chrome version is 96.0.4664\n",
      "Get LATEST chromedriver version for 96.0.4664 google-chrome\n"
     ]
    },
    {
     "name": "stdout",
     "output_type": "stream",
     "text": [
      "481\n"
     ]
    },
    {
     "name": "stderr",
     "output_type": "stream",
     "text": [
      "Driver [/Users/franciscovispo/.wdm/drivers/chromedriver/mac64/96.0.4664.45/chromedriver] found in cache\n"
     ]
    },
    {
     "name": "stdout",
     "output_type": "stream",
     "text": [
      "llego a los huespedes\n",
      "llego a las características\n",
      "llego a los precios\n",
      "llego a los usos\n"
     ]
    },
    {
     "name": "stderr",
     "output_type": "stream",
     "text": [
      "\n",
      "\n",
      "====== WebDriver manager ======\n"
     ]
    },
    {
     "name": "stdout",
     "output_type": "stream",
     "text": [
      "482\n"
     ]
    },
    {
     "name": "stderr",
     "output_type": "stream",
     "text": [
      "Current google-chrome version is 96.0.4664\n",
      "Get LATEST chromedriver version for 96.0.4664 google-chrome\n",
      "Driver [/Users/franciscovispo/.wdm/drivers/chromedriver/mac64/96.0.4664.45/chromedriver] found in cache\n"
     ]
    },
    {
     "name": "stdout",
     "output_type": "stream",
     "text": [
      "llego a los huespedes\n",
      "llego a las características\n",
      "llego a los precios\n",
      "llego a los usos\n"
     ]
    },
    {
     "name": "stderr",
     "output_type": "stream",
     "text": [
      "\n",
      "\n",
      "====== WebDriver manager ======\n"
     ]
    },
    {
     "name": "stdout",
     "output_type": "stream",
     "text": [
      "483\n"
     ]
    },
    {
     "name": "stderr",
     "output_type": "stream",
     "text": [
      "Current google-chrome version is 96.0.4664\n",
      "Get LATEST chromedriver version for 96.0.4664 google-chrome\n",
      "Driver [/Users/franciscovispo/.wdm/drivers/chromedriver/mac64/96.0.4664.45/chromedriver] found in cache\n"
     ]
    },
    {
     "name": "stdout",
     "output_type": "stream",
     "text": [
      "llego a los huespedes\n",
      "llego a las características\n",
      "llego a los precios\n",
      "llego a los usos\n"
     ]
    },
    {
     "name": "stderr",
     "output_type": "stream",
     "text": [
      "\n",
      "\n",
      "====== WebDriver manager ======\n"
     ]
    },
    {
     "name": "stdout",
     "output_type": "stream",
     "text": [
      "484\n"
     ]
    },
    {
     "name": "stderr",
     "output_type": "stream",
     "text": [
      "Current google-chrome version is 96.0.4664\n",
      "Get LATEST chromedriver version for 96.0.4664 google-chrome\n",
      "Driver [/Users/franciscovispo/.wdm/drivers/chromedriver/mac64/96.0.4664.45/chromedriver] found in cache\n"
     ]
    },
    {
     "name": "stdout",
     "output_type": "stream",
     "text": [
      "llego a los huespedes\n",
      "llego a las características\n",
      "llego a los precios\n",
      "llego a los usos\n"
     ]
    },
    {
     "name": "stderr",
     "output_type": "stream",
     "text": [
      "\n",
      "\n",
      "====== WebDriver manager ======\n"
     ]
    },
    {
     "name": "stdout",
     "output_type": "stream",
     "text": [
      "485\n"
     ]
    },
    {
     "name": "stderr",
     "output_type": "stream",
     "text": [
      "Current google-chrome version is 96.0.4664\n",
      "Get LATEST chromedriver version for 96.0.4664 google-chrome\n",
      "Driver [/Users/franciscovispo/.wdm/drivers/chromedriver/mac64/96.0.4664.45/chromedriver] found in cache\n"
     ]
    },
    {
     "name": "stdout",
     "output_type": "stream",
     "text": [
      "llego a los huespedes\n",
      "llego a las características\n",
      "llego a los precios\n",
      "llego a los usos\n"
     ]
    },
    {
     "name": "stderr",
     "output_type": "stream",
     "text": [
      "\n",
      "\n",
      "====== WebDriver manager ======\n",
      "Current google-chrome version is 96.0.4664\n",
      "Get LATEST chromedriver version for 96.0.4664 google-chrome\n"
     ]
    },
    {
     "name": "stdout",
     "output_type": "stream",
     "text": [
      "486\n"
     ]
    },
    {
     "name": "stderr",
     "output_type": "stream",
     "text": [
      "Driver [/Users/franciscovispo/.wdm/drivers/chromedriver/mac64/96.0.4664.45/chromedriver] found in cache\n"
     ]
    },
    {
     "name": "stdout",
     "output_type": "stream",
     "text": [
      "llego a los huespedes\n",
      "llego a las características\n",
      "llego a los precios\n",
      "llego a los usos\n"
     ]
    },
    {
     "name": "stderr",
     "output_type": "stream",
     "text": [
      "\n",
      "\n",
      "====== WebDriver manager ======\n"
     ]
    },
    {
     "name": "stdout",
     "output_type": "stream",
     "text": [
      "487\n"
     ]
    },
    {
     "name": "stderr",
     "output_type": "stream",
     "text": [
      "Current google-chrome version is 96.0.4664\n",
      "Get LATEST chromedriver version for 96.0.4664 google-chrome\n",
      "Driver [/Users/franciscovispo/.wdm/drivers/chromedriver/mac64/96.0.4664.45/chromedriver] found in cache\n"
     ]
    },
    {
     "name": "stdout",
     "output_type": "stream",
     "text": [
      "llego a los huespedes\n",
      "llego a las características\n",
      "llego a los precios\n",
      "llego a los usos\n"
     ]
    },
    {
     "name": "stderr",
     "output_type": "stream",
     "text": [
      "\n",
      "\n",
      "====== WebDriver manager ======\n",
      "Current google-chrome version is 96.0.4664\n",
      "Get LATEST chromedriver version for 96.0.4664 google-chrome\n"
     ]
    },
    {
     "name": "stdout",
     "output_type": "stream",
     "text": [
      "488\n"
     ]
    },
    {
     "name": "stderr",
     "output_type": "stream",
     "text": [
      "Driver [/Users/franciscovispo/.wdm/drivers/chromedriver/mac64/96.0.4664.45/chromedriver] found in cache\n"
     ]
    },
    {
     "name": "stdout",
     "output_type": "stream",
     "text": [
      "llego a los huespedes\n",
      "llego a las características\n",
      "llego a los precios\n",
      "llego a los usos\n"
     ]
    },
    {
     "name": "stderr",
     "output_type": "stream",
     "text": [
      "\n",
      "\n",
      "====== WebDriver manager ======\n"
     ]
    },
    {
     "name": "stdout",
     "output_type": "stream",
     "text": [
      "489\n"
     ]
    },
    {
     "name": "stderr",
     "output_type": "stream",
     "text": [
      "Current google-chrome version is 96.0.4664\n",
      "Get LATEST chromedriver version for 96.0.4664 google-chrome\n",
      "Driver [/Users/franciscovispo/.wdm/drivers/chromedriver/mac64/96.0.4664.45/chromedriver] found in cache\n"
     ]
    },
    {
     "name": "stdout",
     "output_type": "stream",
     "text": [
      "llego a los huespedes\n",
      "llego a las características\n",
      "llego a los precios\n",
      "llego a los usos\n"
     ]
    },
    {
     "name": "stderr",
     "output_type": "stream",
     "text": [
      "\n",
      "\n",
      "====== WebDriver manager ======\n"
     ]
    },
    {
     "name": "stdout",
     "output_type": "stream",
     "text": [
      "490\n"
     ]
    },
    {
     "name": "stderr",
     "output_type": "stream",
     "text": [
      "Current google-chrome version is 96.0.4664\n",
      "Get LATEST chromedriver version for 96.0.4664 google-chrome\n",
      "Driver [/Users/franciscovispo/.wdm/drivers/chromedriver/mac64/96.0.4664.45/chromedriver] found in cache\n"
     ]
    },
    {
     "name": "stdout",
     "output_type": "stream",
     "text": [
      "llego a los huespedes\n",
      "llego a las características\n",
      "llego a los precios\n",
      "llego a los usos\n"
     ]
    },
    {
     "name": "stderr",
     "output_type": "stream",
     "text": [
      "\n",
      "\n",
      "====== WebDriver manager ======\n"
     ]
    },
    {
     "name": "stdout",
     "output_type": "stream",
     "text": [
      "491\n"
     ]
    },
    {
     "name": "stderr",
     "output_type": "stream",
     "text": [
      "Current google-chrome version is 96.0.4664\n",
      "Get LATEST chromedriver version for 96.0.4664 google-chrome\n",
      "Driver [/Users/franciscovispo/.wdm/drivers/chromedriver/mac64/96.0.4664.45/chromedriver] found in cache\n"
     ]
    },
    {
     "name": "stdout",
     "output_type": "stream",
     "text": [
      "llego a los huespedes\n",
      "llego a las características\n",
      "llego a los precios\n",
      "llego a los usos\n"
     ]
    },
    {
     "name": "stderr",
     "output_type": "stream",
     "text": [
      "\n",
      "\n",
      "====== WebDriver manager ======\n",
      "Current google-chrome version is 96.0.4664\n",
      "Get LATEST chromedriver version for 96.0.4664 google-chrome\n"
     ]
    },
    {
     "name": "stdout",
     "output_type": "stream",
     "text": [
      "492\n"
     ]
    },
    {
     "name": "stderr",
     "output_type": "stream",
     "text": [
      "Driver [/Users/franciscovispo/.wdm/drivers/chromedriver/mac64/96.0.4664.45/chromedriver] found in cache\n"
     ]
    },
    {
     "name": "stdout",
     "output_type": "stream",
     "text": [
      "llego a los huespedes\n",
      "llego a las características\n",
      "llego a los precios\n",
      "llego a los usos\n"
     ]
    },
    {
     "name": "stderr",
     "output_type": "stream",
     "text": [
      "\n",
      "\n",
      "====== WebDriver manager ======\n"
     ]
    },
    {
     "name": "stdout",
     "output_type": "stream",
     "text": [
      "493\n"
     ]
    },
    {
     "name": "stderr",
     "output_type": "stream",
     "text": [
      "Current google-chrome version is 96.0.4664\n",
      "Get LATEST chromedriver version for 96.0.4664 google-chrome\n",
      "Driver [/Users/franciscovispo/.wdm/drivers/chromedriver/mac64/96.0.4664.45/chromedriver] found in cache\n"
     ]
    },
    {
     "name": "stdout",
     "output_type": "stream",
     "text": [
      "llego a los huespedes\n",
      "llego a las características\n",
      "llego a los precios\n",
      "llego a los usos\n"
     ]
    },
    {
     "name": "stderr",
     "output_type": "stream",
     "text": [
      "\n",
      "\n",
      "====== WebDriver manager ======\n"
     ]
    },
    {
     "name": "stdout",
     "output_type": "stream",
     "text": [
      "494\n"
     ]
    },
    {
     "name": "stderr",
     "output_type": "stream",
     "text": [
      "Current google-chrome version is 96.0.4664\n",
      "Get LATEST chromedriver version for 96.0.4664 google-chrome\n",
      "Driver [/Users/franciscovispo/.wdm/drivers/chromedriver/mac64/96.0.4664.45/chromedriver] found in cache\n"
     ]
    },
    {
     "name": "stdout",
     "output_type": "stream",
     "text": [
      "llego a los huespedes\n",
      "llego a las características\n",
      "llego a los precios\n",
      "llego a los usos\n"
     ]
    },
    {
     "name": "stderr",
     "output_type": "stream",
     "text": [
      "\n",
      "\n",
      "====== WebDriver manager ======\n"
     ]
    },
    {
     "name": "stdout",
     "output_type": "stream",
     "text": [
      "495\n"
     ]
    },
    {
     "name": "stderr",
     "output_type": "stream",
     "text": [
      "Current google-chrome version is 96.0.4664\n",
      "Get LATEST chromedriver version for 96.0.4664 google-chrome\n",
      "Driver [/Users/franciscovispo/.wdm/drivers/chromedriver/mac64/96.0.4664.45/chromedriver] found in cache\n"
     ]
    },
    {
     "name": "stdout",
     "output_type": "stream",
     "text": [
      "llego a los huespedes\n",
      "llego a las características\n",
      "llego a los precios\n",
      "llego a los usos\n"
     ]
    },
    {
     "name": "stderr",
     "output_type": "stream",
     "text": [
      "\n",
      "\n",
      "====== WebDriver manager ======\n",
      "Current google-chrome version is 96.0.4664\n",
      "Get LATEST chromedriver version for 96.0.4664 google-chrome\n"
     ]
    },
    {
     "name": "stdout",
     "output_type": "stream",
     "text": [
      "496\n"
     ]
    },
    {
     "name": "stderr",
     "output_type": "stream",
     "text": [
      "Driver [/Users/franciscovispo/.wdm/drivers/chromedriver/mac64/96.0.4664.45/chromedriver] found in cache\n"
     ]
    },
    {
     "name": "stdout",
     "output_type": "stream",
     "text": [
      "llego a los huespedes\n",
      "llego a las características\n",
      "llego a los precios\n",
      "llego a los usos\n"
     ]
    },
    {
     "name": "stderr",
     "output_type": "stream",
     "text": [
      "\n",
      "\n",
      "====== WebDriver manager ======\n",
      "Current google-chrome version is 96.0.4664\n"
     ]
    },
    {
     "name": "stdout",
     "output_type": "stream",
     "text": [
      "497\n"
     ]
    },
    {
     "name": "stderr",
     "output_type": "stream",
     "text": [
      "Get LATEST chromedriver version for 96.0.4664 google-chrome\n",
      "Driver [/Users/franciscovispo/.wdm/drivers/chromedriver/mac64/96.0.4664.45/chromedriver] found in cache\n"
     ]
    },
    {
     "name": "stdout",
     "output_type": "stream",
     "text": [
      "llego a los huespedes\n",
      "llego a las características\n",
      "llego a los precios\n",
      "llego a los usos\n"
     ]
    },
    {
     "name": "stderr",
     "output_type": "stream",
     "text": [
      "\n",
      "\n",
      "====== WebDriver manager ======\n"
     ]
    },
    {
     "name": "stdout",
     "output_type": "stream",
     "text": [
      "498\n"
     ]
    },
    {
     "name": "stderr",
     "output_type": "stream",
     "text": [
      "Current google-chrome version is 96.0.4664\n",
      "Get LATEST chromedriver version for 96.0.4664 google-chrome\n",
      "Driver [/Users/franciscovispo/.wdm/drivers/chromedriver/mac64/96.0.4664.45/chromedriver] found in cache\n"
     ]
    },
    {
     "name": "stdout",
     "output_type": "stream",
     "text": [
      "llego a los huespedes\n",
      "llego a las características\n",
      "llego a los precios\n",
      "llego a los usos\n"
     ]
    },
    {
     "name": "stderr",
     "output_type": "stream",
     "text": [
      "\n",
      "\n",
      "====== WebDriver manager ======\n"
     ]
    },
    {
     "name": "stdout",
     "output_type": "stream",
     "text": [
      "499\n"
     ]
    },
    {
     "name": "stderr",
     "output_type": "stream",
     "text": [
      "Current google-chrome version is 96.0.4664\n",
      "Get LATEST chromedriver version for 96.0.4664 google-chrome\n",
      "Driver [/Users/franciscovispo/.wdm/drivers/chromedriver/mac64/96.0.4664.45/chromedriver] found in cache\n"
     ]
    },
    {
     "name": "stdout",
     "output_type": "stream",
     "text": [
      "llego a los huespedes\n",
      "llego a las características\n",
      "llego a los precios\n",
      "llego a los usos\n"
     ]
    },
    {
     "name": "stderr",
     "output_type": "stream",
     "text": [
      "\n",
      "\n",
      "====== WebDriver manager ======\n",
      "Current google-chrome version is 96.0.4664\n",
      "Get LATEST chromedriver version for 96.0.4664 google-chrome\n"
     ]
    },
    {
     "name": "stdout",
     "output_type": "stream",
     "text": [
      "500\n"
     ]
    },
    {
     "name": "stderr",
     "output_type": "stream",
     "text": [
      "Driver [/Users/franciscovispo/.wdm/drivers/chromedriver/mac64/96.0.4664.45/chromedriver] found in cache\n"
     ]
    },
    {
     "name": "stdout",
     "output_type": "stream",
     "text": [
      "llego a los huespedes\n",
      "llego a las características\n",
      "llego a los precios\n",
      "llego a los usos\n"
     ]
    },
    {
     "name": "stderr",
     "output_type": "stream",
     "text": [
      "\n",
      "\n",
      "====== WebDriver manager ======\n"
     ]
    },
    {
     "name": "stdout",
     "output_type": "stream",
     "text": [
      "501\n"
     ]
    },
    {
     "name": "stderr",
     "output_type": "stream",
     "text": [
      "Current google-chrome version is 96.0.4664\n",
      "Get LATEST chromedriver version for 96.0.4664 google-chrome\n",
      "Driver [/Users/franciscovispo/.wdm/drivers/chromedriver/mac64/96.0.4664.45/chromedriver] found in cache\n"
     ]
    },
    {
     "name": "stdout",
     "output_type": "stream",
     "text": [
      "llego a los huespedes\n",
      "llego a las características\n",
      "llego a los precios\n",
      "llego a los usos\n"
     ]
    },
    {
     "name": "stderr",
     "output_type": "stream",
     "text": [
      "\n",
      "\n",
      "====== WebDriver manager ======\n"
     ]
    },
    {
     "name": "stdout",
     "output_type": "stream",
     "text": [
      "502\n"
     ]
    },
    {
     "name": "stderr",
     "output_type": "stream",
     "text": [
      "Current google-chrome version is 96.0.4664\n",
      "Get LATEST chromedriver version for 96.0.4664 google-chrome\n",
      "Driver [/Users/franciscovispo/.wdm/drivers/chromedriver/mac64/96.0.4664.45/chromedriver] found in cache\n"
     ]
    },
    {
     "name": "stdout",
     "output_type": "stream",
     "text": [
      "llego a los huespedes\n",
      "llego a las características\n",
      "llego a los precios\n",
      "llego a los usos\n"
     ]
    },
    {
     "name": "stderr",
     "output_type": "stream",
     "text": [
      "\n",
      "\n",
      "====== WebDriver manager ======\n"
     ]
    },
    {
     "name": "stdout",
     "output_type": "stream",
     "text": [
      "503\n"
     ]
    },
    {
     "name": "stderr",
     "output_type": "stream",
     "text": [
      "Current google-chrome version is 96.0.4664\n",
      "Get LATEST chromedriver version for 96.0.4664 google-chrome\n",
      "Driver [/Users/franciscovispo/.wdm/drivers/chromedriver/mac64/96.0.4664.45/chromedriver] found in cache\n"
     ]
    },
    {
     "name": "stdout",
     "output_type": "stream",
     "text": [
      "llego a los huespedes\n",
      "llego a las características\n",
      "llego a los precios\n",
      "llego a los usos\n"
     ]
    },
    {
     "name": "stderr",
     "output_type": "stream",
     "text": [
      "\n",
      "\n",
      "====== WebDriver manager ======\n",
      "Current google-chrome version is 96.0.4664\n",
      "Get LATEST chromedriver version for 96.0.4664 google-chrome\n"
     ]
    },
    {
     "name": "stdout",
     "output_type": "stream",
     "text": [
      "504\n"
     ]
    },
    {
     "name": "stderr",
     "output_type": "stream",
     "text": [
      "Driver [/Users/franciscovispo/.wdm/drivers/chromedriver/mac64/96.0.4664.45/chromedriver] found in cache\n"
     ]
    },
    {
     "name": "stdout",
     "output_type": "stream",
     "text": [
      "llego a los huespedes\n",
      "llego a las características\n",
      "llego a los precios\n",
      "llego a los usos\n"
     ]
    },
    {
     "name": "stderr",
     "output_type": "stream",
     "text": [
      "\n",
      "\n",
      "====== WebDriver manager ======\n"
     ]
    },
    {
     "name": "stdout",
     "output_type": "stream",
     "text": [
      "505\n"
     ]
    },
    {
     "name": "stderr",
     "output_type": "stream",
     "text": [
      "Current google-chrome version is 96.0.4664\n",
      "Get LATEST chromedriver version for 96.0.4664 google-chrome\n",
      "Driver [/Users/franciscovispo/.wdm/drivers/chromedriver/mac64/96.0.4664.45/chromedriver] found in cache\n"
     ]
    },
    {
     "name": "stdout",
     "output_type": "stream",
     "text": [
      "llego a los huespedes\n",
      "llego a las características\n",
      "llego a los precios\n",
      "llego a los usos\n"
     ]
    },
    {
     "name": "stderr",
     "output_type": "stream",
     "text": [
      "\n",
      "\n",
      "====== WebDriver manager ======\n",
      "Current google-chrome version is 96.0.4664\n",
      "Get LATEST chromedriver version for 96.0.4664 google-chrome\n"
     ]
    },
    {
     "name": "stdout",
     "output_type": "stream",
     "text": [
      "506\n"
     ]
    },
    {
     "name": "stderr",
     "output_type": "stream",
     "text": [
      "Driver [/Users/franciscovispo/.wdm/drivers/chromedriver/mac64/96.0.4664.45/chromedriver] found in cache\n"
     ]
    },
    {
     "name": "stdout",
     "output_type": "stream",
     "text": [
      "llego a los huespedes\n",
      "llego a las características\n",
      "llego a los precios\n",
      "llego a los usos\n"
     ]
    },
    {
     "name": "stderr",
     "output_type": "stream",
     "text": [
      "\n",
      "\n",
      "====== WebDriver manager ======\n",
      "Current google-chrome version is 96.0.4664\n",
      "Get LATEST chromedriver version for 96.0.4664 google-chrome\n"
     ]
    },
    {
     "name": "stdout",
     "output_type": "stream",
     "text": [
      "507\n"
     ]
    },
    {
     "name": "stderr",
     "output_type": "stream",
     "text": [
      "Driver [/Users/franciscovispo/.wdm/drivers/chromedriver/mac64/96.0.4664.45/chromedriver] found in cache\n"
     ]
    },
    {
     "name": "stdout",
     "output_type": "stream",
     "text": [
      "llego a los huespedes\n",
      "llego a las características\n",
      "llego a los precios\n",
      "llego a los usos\n"
     ]
    },
    {
     "name": "stderr",
     "output_type": "stream",
     "text": [
      "\n",
      "\n",
      "====== WebDriver manager ======\n",
      "Current google-chrome version is 96.0.4664\n",
      "Get LATEST chromedriver version for 96.0.4664 google-chrome\n"
     ]
    },
    {
     "name": "stdout",
     "output_type": "stream",
     "text": [
      "508\n"
     ]
    },
    {
     "name": "stderr",
     "output_type": "stream",
     "text": [
      "Driver [/Users/franciscovispo/.wdm/drivers/chromedriver/mac64/96.0.4664.45/chromedriver] found in cache\n"
     ]
    },
    {
     "name": "stdout",
     "output_type": "stream",
     "text": [
      "llego a los huespedes\n",
      "llego a las características\n",
      "llego a los precios\n",
      "llego a los usos\n"
     ]
    },
    {
     "name": "stderr",
     "output_type": "stream",
     "text": [
      "\n",
      "\n",
      "====== WebDriver manager ======\n",
      "Current google-chrome version is 96.0.4664\n",
      "Get LATEST chromedriver version for 96.0.4664 google-chrome\n"
     ]
    },
    {
     "name": "stdout",
     "output_type": "stream",
     "text": [
      "509\n"
     ]
    },
    {
     "name": "stderr",
     "output_type": "stream",
     "text": [
      "Driver [/Users/franciscovispo/.wdm/drivers/chromedriver/mac64/96.0.4664.45/chromedriver] found in cache\n"
     ]
    },
    {
     "name": "stdout",
     "output_type": "stream",
     "text": [
      "llego a los huespedes\n",
      "llego a las características\n",
      "llego a los precios\n",
      "llego a los usos\n"
     ]
    },
    {
     "name": "stderr",
     "output_type": "stream",
     "text": [
      "\n",
      "\n",
      "====== WebDriver manager ======\n"
     ]
    },
    {
     "name": "stdout",
     "output_type": "stream",
     "text": [
      "510\n"
     ]
    },
    {
     "name": "stderr",
     "output_type": "stream",
     "text": [
      "Current google-chrome version is 96.0.4664\n",
      "Get LATEST chromedriver version for 96.0.4664 google-chrome\n",
      "Driver [/Users/franciscovispo/.wdm/drivers/chromedriver/mac64/96.0.4664.45/chromedriver] found in cache\n"
     ]
    },
    {
     "name": "stdout",
     "output_type": "stream",
     "text": [
      "llego a los huespedes\n",
      "llego a las características\n",
      "llego a los precios\n",
      "llego a los usos\n"
     ]
    },
    {
     "name": "stderr",
     "output_type": "stream",
     "text": [
      "\n",
      "\n",
      "====== WebDriver manager ======\n"
     ]
    },
    {
     "name": "stdout",
     "output_type": "stream",
     "text": [
      "511\n"
     ]
    },
    {
     "name": "stderr",
     "output_type": "stream",
     "text": [
      "Current google-chrome version is 96.0.4664\n",
      "Get LATEST chromedriver version for 96.0.4664 google-chrome\n",
      "Driver [/Users/franciscovispo/.wdm/drivers/chromedriver/mac64/96.0.4664.45/chromedriver] found in cache\n"
     ]
    },
    {
     "name": "stdout",
     "output_type": "stream",
     "text": [
      "llego a los huespedes\n",
      "llego a las características\n",
      "llego a los precios\n",
      "llego a los usos\n"
     ]
    },
    {
     "name": "stderr",
     "output_type": "stream",
     "text": [
      "\n",
      "\n",
      "====== WebDriver manager ======\n"
     ]
    },
    {
     "name": "stdout",
     "output_type": "stream",
     "text": [
      "512\n"
     ]
    },
    {
     "name": "stderr",
     "output_type": "stream",
     "text": [
      "Current google-chrome version is 96.0.4664\n",
      "Get LATEST chromedriver version for 96.0.4664 google-chrome\n",
      "Driver [/Users/franciscovispo/.wdm/drivers/chromedriver/mac64/96.0.4664.45/chromedriver] found in cache\n"
     ]
    },
    {
     "name": "stdout",
     "output_type": "stream",
     "text": [
      "llego a los huespedes\n",
      "llego a las características\n",
      "llego a los precios\n",
      "llego a los usos\n"
     ]
    },
    {
     "name": "stderr",
     "output_type": "stream",
     "text": [
      "\n",
      "\n",
      "====== WebDriver manager ======\n"
     ]
    },
    {
     "name": "stdout",
     "output_type": "stream",
     "text": [
      "513\n"
     ]
    },
    {
     "name": "stderr",
     "output_type": "stream",
     "text": [
      "Current google-chrome version is 96.0.4664\n",
      "Get LATEST chromedriver version for 96.0.4664 google-chrome\n",
      "Driver [/Users/franciscovispo/.wdm/drivers/chromedriver/mac64/96.0.4664.45/chromedriver] found in cache\n"
     ]
    },
    {
     "name": "stdout",
     "output_type": "stream",
     "text": [
      "llego a los huespedes\n",
      "llego a las características\n",
      "llego a los precios\n",
      "llego a los usos\n"
     ]
    },
    {
     "name": "stderr",
     "output_type": "stream",
     "text": [
      "\n",
      "\n",
      "====== WebDriver manager ======\n"
     ]
    },
    {
     "name": "stdout",
     "output_type": "stream",
     "text": [
      "514\n"
     ]
    },
    {
     "name": "stderr",
     "output_type": "stream",
     "text": [
      "Current google-chrome version is 96.0.4664\n",
      "Get LATEST chromedriver version for 96.0.4664 google-chrome\n",
      "Driver [/Users/franciscovispo/.wdm/drivers/chromedriver/mac64/96.0.4664.45/chromedriver] found in cache\n"
     ]
    },
    {
     "name": "stdout",
     "output_type": "stream",
     "text": [
      "llego a los huespedes\n",
      "llego a las características\n",
      "llego a los precios\n",
      "llego a los usos\n"
     ]
    },
    {
     "name": "stderr",
     "output_type": "stream",
     "text": [
      "\n",
      "\n",
      "====== WebDriver manager ======\n"
     ]
    },
    {
     "name": "stdout",
     "output_type": "stream",
     "text": [
      "515\n"
     ]
    },
    {
     "name": "stderr",
     "output_type": "stream",
     "text": [
      "Current google-chrome version is 96.0.4664\n",
      "Get LATEST chromedriver version for 96.0.4664 google-chrome\n",
      "Driver [/Users/franciscovispo/.wdm/drivers/chromedriver/mac64/96.0.4664.45/chromedriver] found in cache\n"
     ]
    },
    {
     "name": "stdout",
     "output_type": "stream",
     "text": [
      "llego a los huespedes\n",
      "llego a las características\n",
      "llego a los precios\n",
      "llego a los usos\n"
     ]
    },
    {
     "name": "stderr",
     "output_type": "stream",
     "text": [
      "\n",
      "\n",
      "====== WebDriver manager ======\n"
     ]
    },
    {
     "name": "stdout",
     "output_type": "stream",
     "text": [
      "516\n"
     ]
    },
    {
     "name": "stderr",
     "output_type": "stream",
     "text": [
      "Current google-chrome version is 96.0.4664\n",
      "Get LATEST chromedriver version for 96.0.4664 google-chrome\n",
      "Driver [/Users/franciscovispo/.wdm/drivers/chromedriver/mac64/96.0.4664.45/chromedriver] found in cache\n"
     ]
    },
    {
     "name": "stdout",
     "output_type": "stream",
     "text": [
      "llego a los huespedes\n",
      "llego a las características\n",
      "llego a los precios\n",
      "llego a los usos\n"
     ]
    },
    {
     "name": "stderr",
     "output_type": "stream",
     "text": [
      "\n",
      "\n",
      "====== WebDriver manager ======\n"
     ]
    },
    {
     "name": "stdout",
     "output_type": "stream",
     "text": [
      "517\n"
     ]
    },
    {
     "name": "stderr",
     "output_type": "stream",
     "text": [
      "Current google-chrome version is 96.0.4664\n",
      "Get LATEST chromedriver version for 96.0.4664 google-chrome\n",
      "Driver [/Users/franciscovispo/.wdm/drivers/chromedriver/mac64/96.0.4664.45/chromedriver] found in cache\n"
     ]
    },
    {
     "name": "stdout",
     "output_type": "stream",
     "text": [
      "llego a los huespedes\n",
      "llego a las características\n",
      "llego a los precios\n",
      "llego a los usos\n"
     ]
    },
    {
     "name": "stderr",
     "output_type": "stream",
     "text": [
      "\n",
      "\n",
      "====== WebDriver manager ======\n",
      "Current google-chrome version is 96.0.4664\n",
      "Get LATEST chromedriver version for 96.0.4664 google-chrome\n"
     ]
    },
    {
     "name": "stdout",
     "output_type": "stream",
     "text": [
      "518\n"
     ]
    },
    {
     "name": "stderr",
     "output_type": "stream",
     "text": [
      "Driver [/Users/franciscovispo/.wdm/drivers/chromedriver/mac64/96.0.4664.45/chromedriver] found in cache\n"
     ]
    },
    {
     "name": "stdout",
     "output_type": "stream",
     "text": [
      "llego a los huespedes\n",
      "llego a las características\n",
      "llego a los precios\n",
      "llego a los usos\n"
     ]
    },
    {
     "name": "stderr",
     "output_type": "stream",
     "text": [
      "\n",
      "\n",
      "====== WebDriver manager ======\n",
      "Current google-chrome version is 96.0.4664\n",
      "Get LATEST chromedriver version for 96.0.4664 google-chrome\n"
     ]
    },
    {
     "name": "stdout",
     "output_type": "stream",
     "text": [
      "519\n"
     ]
    },
    {
     "name": "stderr",
     "output_type": "stream",
     "text": [
      "Driver [/Users/franciscovispo/.wdm/drivers/chromedriver/mac64/96.0.4664.45/chromedriver] found in cache\n"
     ]
    },
    {
     "name": "stdout",
     "output_type": "stream",
     "text": [
      "llego a los huespedes\n",
      "llego a las características\n",
      "llego a los precios\n",
      "llego a los usos\n"
     ]
    },
    {
     "name": "stderr",
     "output_type": "stream",
     "text": [
      "\n",
      "\n",
      "====== WebDriver manager ======\n",
      "Current google-chrome version is 96.0.4664\n",
      "Get LATEST chromedriver version for 96.0.4664 google-chrome\n"
     ]
    },
    {
     "name": "stdout",
     "output_type": "stream",
     "text": [
      "520\n"
     ]
    },
    {
     "name": "stderr",
     "output_type": "stream",
     "text": [
      "Driver [/Users/franciscovispo/.wdm/drivers/chromedriver/mac64/96.0.4664.45/chromedriver] found in cache\n"
     ]
    },
    {
     "name": "stdout",
     "output_type": "stream",
     "text": [
      "llego a los huespedes\n",
      "llego a las características\n",
      "llego a los precios\n",
      "llego a los usos\n"
     ]
    },
    {
     "name": "stderr",
     "output_type": "stream",
     "text": [
      "\n",
      "\n",
      "====== WebDriver manager ======\n",
      "Current google-chrome version is 96.0.4664\n",
      "Get LATEST chromedriver version for 96.0.4664 google-chrome\n"
     ]
    },
    {
     "name": "stdout",
     "output_type": "stream",
     "text": [
      "521\n"
     ]
    },
    {
     "name": "stderr",
     "output_type": "stream",
     "text": [
      "Driver [/Users/franciscovispo/.wdm/drivers/chromedriver/mac64/96.0.4664.45/chromedriver] found in cache\n"
     ]
    },
    {
     "name": "stdout",
     "output_type": "stream",
     "text": [
      "llego a los huespedes\n",
      "llego a las características\n",
      "llego a los precios\n",
      "llego a los usos\n"
     ]
    },
    {
     "name": "stderr",
     "output_type": "stream",
     "text": [
      "\n",
      "\n",
      "====== WebDriver manager ======\n",
      "Current google-chrome version is 96.0.4664\n",
      "Get LATEST chromedriver version for 96.0.4664 google-chrome\n"
     ]
    },
    {
     "name": "stdout",
     "output_type": "stream",
     "text": [
      "522\n"
     ]
    },
    {
     "name": "stderr",
     "output_type": "stream",
     "text": [
      "Driver [/Users/franciscovispo/.wdm/drivers/chromedriver/mac64/96.0.4664.45/chromedriver] found in cache\n"
     ]
    },
    {
     "name": "stdout",
     "output_type": "stream",
     "text": [
      "llego a los huespedes\n",
      "llego a las características\n",
      "llego a los precios\n",
      "llego a los usos\n"
     ]
    },
    {
     "name": "stderr",
     "output_type": "stream",
     "text": [
      "\n",
      "\n",
      "====== WebDriver manager ======\n",
      "Current google-chrome version is 96.0.4664\n",
      "Get LATEST chromedriver version for 96.0.4664 google-chrome\n"
     ]
    },
    {
     "name": "stdout",
     "output_type": "stream",
     "text": [
      "523\n"
     ]
    },
    {
     "name": "stderr",
     "output_type": "stream",
     "text": [
      "Driver [/Users/franciscovispo/.wdm/drivers/chromedriver/mac64/96.0.4664.45/chromedriver] found in cache\n"
     ]
    },
    {
     "name": "stdout",
     "output_type": "stream",
     "text": [
      "llego a los huespedes\n",
      "llego a las características\n",
      "llego a los precios\n",
      "llego a los usos\n"
     ]
    },
    {
     "name": "stderr",
     "output_type": "stream",
     "text": [
      "\n",
      "\n",
      "====== WebDriver manager ======\n",
      "Current google-chrome version is 96.0.4664\n",
      "Get LATEST chromedriver version for 96.0.4664 google-chrome\n"
     ]
    },
    {
     "name": "stdout",
     "output_type": "stream",
     "text": [
      "524\n"
     ]
    },
    {
     "name": "stderr",
     "output_type": "stream",
     "text": [
      "Driver [/Users/franciscovispo/.wdm/drivers/chromedriver/mac64/96.0.4664.45/chromedriver] found in cache\n"
     ]
    },
    {
     "name": "stdout",
     "output_type": "stream",
     "text": [
      "llego a los huespedes\n",
      "llego a las características\n",
      "llego a los precios\n",
      "llego a los usos\n"
     ]
    },
    {
     "name": "stderr",
     "output_type": "stream",
     "text": [
      "\n",
      "\n",
      "====== WebDriver manager ======\n",
      "Current google-chrome version is 96.0.4664\n",
      "Get LATEST chromedriver version for 96.0.4664 google-chrome\n"
     ]
    },
    {
     "name": "stdout",
     "output_type": "stream",
     "text": [
      "525\n"
     ]
    },
    {
     "name": "stderr",
     "output_type": "stream",
     "text": [
      "Driver [/Users/franciscovispo/.wdm/drivers/chromedriver/mac64/96.0.4664.45/chromedriver] found in cache\n",
      "\n",
      "\n",
      "====== WebDriver manager ======\n",
      "Current google-chrome version is 96.0.4664\n",
      "Get LATEST chromedriver version for 96.0.4664 google-chrome\n"
     ]
    },
    {
     "name": "stdout",
     "output_type": "stream",
     "text": [
      "526\n"
     ]
    },
    {
     "name": "stderr",
     "output_type": "stream",
     "text": [
      "Driver [/Users/franciscovispo/.wdm/drivers/chromedriver/mac64/96.0.4664.45/chromedriver] found in cache\n"
     ]
    },
    {
     "name": "stdout",
     "output_type": "stream",
     "text": [
      "llego a los huespedes\n",
      "llego a las características\n",
      "llego a los precios\n",
      "llego a los usos\n"
     ]
    },
    {
     "name": "stderr",
     "output_type": "stream",
     "text": [
      "\n",
      "\n",
      "====== WebDriver manager ======\n",
      "Current google-chrome version is 96.0.4664\n",
      "Get LATEST chromedriver version for 96.0.4664 google-chrome\n"
     ]
    },
    {
     "name": "stdout",
     "output_type": "stream",
     "text": [
      "527\n"
     ]
    },
    {
     "name": "stderr",
     "output_type": "stream",
     "text": [
      "Driver [/Users/franciscovispo/.wdm/drivers/chromedriver/mac64/96.0.4664.45/chromedriver] found in cache\n"
     ]
    },
    {
     "name": "stdout",
     "output_type": "stream",
     "text": [
      "llego a los huespedes\n",
      "llego a las características\n",
      "llego a los precios\n",
      "llego a los usos\n"
     ]
    },
    {
     "name": "stderr",
     "output_type": "stream",
     "text": [
      "\n",
      "\n",
      "====== WebDriver manager ======\n"
     ]
    },
    {
     "name": "stdout",
     "output_type": "stream",
     "text": [
      "528\n"
     ]
    },
    {
     "name": "stderr",
     "output_type": "stream",
     "text": [
      "Current google-chrome version is 96.0.4664\n",
      "Get LATEST chromedriver version for 96.0.4664 google-chrome\n",
      "Driver [/Users/franciscovispo/.wdm/drivers/chromedriver/mac64/96.0.4664.45/chromedriver] found in cache\n"
     ]
    },
    {
     "name": "stdout",
     "output_type": "stream",
     "text": [
      "llego a los huespedes\n",
      "llego a las características\n",
      "llego a los precios\n",
      "llego a los usos\n"
     ]
    },
    {
     "name": "stderr",
     "output_type": "stream",
     "text": [
      "\n",
      "\n",
      "====== WebDriver manager ======\n",
      "Current google-chrome version is 96.0.4664\n",
      "Get LATEST chromedriver version for 96.0.4664 google-chrome\n"
     ]
    },
    {
     "name": "stdout",
     "output_type": "stream",
     "text": [
      "529\n"
     ]
    },
    {
     "name": "stderr",
     "output_type": "stream",
     "text": [
      "Driver [/Users/franciscovispo/.wdm/drivers/chromedriver/mac64/96.0.4664.45/chromedriver] found in cache\n"
     ]
    },
    {
     "name": "stdout",
     "output_type": "stream",
     "text": [
      "llego a los huespedes\n",
      "llego a las características\n",
      "llego a los precios\n",
      "llego a los usos\n"
     ]
    },
    {
     "name": "stderr",
     "output_type": "stream",
     "text": [
      "\n",
      "\n",
      "====== WebDriver manager ======\n",
      "Current google-chrome version is 96.0.4664\n",
      "Get LATEST chromedriver version for 96.0.4664 google-chrome\n"
     ]
    },
    {
     "name": "stdout",
     "output_type": "stream",
     "text": [
      "530\n"
     ]
    },
    {
     "name": "stderr",
     "output_type": "stream",
     "text": [
      "Driver [/Users/franciscovispo/.wdm/drivers/chromedriver/mac64/96.0.4664.45/chromedriver] found in cache\n"
     ]
    },
    {
     "name": "stdout",
     "output_type": "stream",
     "text": [
      "llego a los huespedes\n",
      "llego a las características\n",
      "llego a los precios\n",
      "llego a los usos\n"
     ]
    },
    {
     "name": "stderr",
     "output_type": "stream",
     "text": [
      "\n",
      "\n",
      "====== WebDriver manager ======\n",
      "Current google-chrome version is 96.0.4664\n",
      "Get LATEST chromedriver version for 96.0.4664 google-chrome\n"
     ]
    },
    {
     "name": "stdout",
     "output_type": "stream",
     "text": [
      "531\n"
     ]
    },
    {
     "name": "stderr",
     "output_type": "stream",
     "text": [
      "Driver [/Users/franciscovispo/.wdm/drivers/chromedriver/mac64/96.0.4664.45/chromedriver] found in cache\n"
     ]
    },
    {
     "name": "stdout",
     "output_type": "stream",
     "text": [
      "llego a los huespedes\n",
      "llego a las características\n",
      "llego a los precios\n",
      "llego a los usos\n"
     ]
    },
    {
     "name": "stderr",
     "output_type": "stream",
     "text": [
      "\n",
      "\n",
      "====== WebDriver manager ======\n",
      "Current google-chrome version is 96.0.4664\n",
      "Get LATEST chromedriver version for 96.0.4664 google-chrome\n"
     ]
    },
    {
     "name": "stdout",
     "output_type": "stream",
     "text": [
      "532\n"
     ]
    },
    {
     "name": "stderr",
     "output_type": "stream",
     "text": [
      "Driver [/Users/franciscovispo/.wdm/drivers/chromedriver/mac64/96.0.4664.45/chromedriver] found in cache\n"
     ]
    },
    {
     "name": "stdout",
     "output_type": "stream",
     "text": [
      "llego a los huespedes\n",
      "llego a las características\n",
      "llego a los precios\n",
      "llego a los usos\n"
     ]
    },
    {
     "name": "stderr",
     "output_type": "stream",
     "text": [
      "\n",
      "\n",
      "====== WebDriver manager ======\n",
      "Current google-chrome version is 96.0.4664\n",
      "Get LATEST chromedriver version for 96.0.4664 google-chrome\n"
     ]
    },
    {
     "name": "stdout",
     "output_type": "stream",
     "text": [
      "533\n"
     ]
    },
    {
     "name": "stderr",
     "output_type": "stream",
     "text": [
      "Driver [/Users/franciscovispo/.wdm/drivers/chromedriver/mac64/96.0.4664.45/chromedriver] found in cache\n"
     ]
    },
    {
     "name": "stdout",
     "output_type": "stream",
     "text": [
      "llego a los huespedes\n",
      "llego a las características\n",
      "llego a los precios\n",
      "llego a los usos\n"
     ]
    },
    {
     "name": "stderr",
     "output_type": "stream",
     "text": [
      "\n",
      "\n",
      "====== WebDriver manager ======\n",
      "Current google-chrome version is 96.0.4664\n",
      "Get LATEST chromedriver version for 96.0.4664 google-chrome\n"
     ]
    },
    {
     "name": "stdout",
     "output_type": "stream",
     "text": [
      "534\n"
     ]
    },
    {
     "name": "stderr",
     "output_type": "stream",
     "text": [
      "Driver [/Users/franciscovispo/.wdm/drivers/chromedriver/mac64/96.0.4664.45/chromedriver] found in cache\n"
     ]
    },
    {
     "name": "stdout",
     "output_type": "stream",
     "text": [
      "llego a los huespedes\n",
      "llego a las características\n",
      "llego a los precios\n",
      "llego a los usos\n"
     ]
    },
    {
     "name": "stderr",
     "output_type": "stream",
     "text": [
      "\n",
      "\n",
      "====== WebDriver manager ======\n",
      "Current google-chrome version is 96.0.4664\n",
      "Get LATEST chromedriver version for 96.0.4664 google-chrome\n"
     ]
    },
    {
     "name": "stdout",
     "output_type": "stream",
     "text": [
      "535\n"
     ]
    },
    {
     "name": "stderr",
     "output_type": "stream",
     "text": [
      "Driver [/Users/franciscovispo/.wdm/drivers/chromedriver/mac64/96.0.4664.45/chromedriver] found in cache\n"
     ]
    },
    {
     "name": "stdout",
     "output_type": "stream",
     "text": [
      "llego a los huespedes\n",
      "llego a las características\n",
      "llego a los precios\n",
      "llego a los usos\n"
     ]
    },
    {
     "name": "stderr",
     "output_type": "stream",
     "text": [
      "\n",
      "\n",
      "====== WebDriver manager ======\n",
      "Current google-chrome version is 96.0.4664\n",
      "Get LATEST chromedriver version for 96.0.4664 google-chrome\n"
     ]
    },
    {
     "name": "stdout",
     "output_type": "stream",
     "text": [
      "536\n"
     ]
    },
    {
     "name": "stderr",
     "output_type": "stream",
     "text": [
      "Driver [/Users/franciscovispo/.wdm/drivers/chromedriver/mac64/96.0.4664.45/chromedriver] found in cache\n"
     ]
    },
    {
     "name": "stdout",
     "output_type": "stream",
     "text": [
      "llego a los huespedes\n",
      "llego a las características\n",
      "llego a los precios\n",
      "llego a los usos\n"
     ]
    },
    {
     "name": "stderr",
     "output_type": "stream",
     "text": [
      "\n",
      "\n",
      "====== WebDriver manager ======\n",
      "Current google-chrome version is 96.0.4664\n",
      "Get LATEST chromedriver version for 96.0.4664 google-chrome\n"
     ]
    },
    {
     "name": "stdout",
     "output_type": "stream",
     "text": [
      "537\n"
     ]
    },
    {
     "name": "stderr",
     "output_type": "stream",
     "text": [
      "Driver [/Users/franciscovispo/.wdm/drivers/chromedriver/mac64/96.0.4664.45/chromedriver] found in cache\n"
     ]
    },
    {
     "name": "stdout",
     "output_type": "stream",
     "text": [
      "llego a los huespedes\n",
      "llego a las características\n",
      "llego a los precios\n",
      "llego a los usos\n"
     ]
    },
    {
     "name": "stderr",
     "output_type": "stream",
     "text": [
      "\n",
      "\n",
      "====== WebDriver manager ======\n",
      "Current google-chrome version is 96.0.4664\n"
     ]
    },
    {
     "name": "stdout",
     "output_type": "stream",
     "text": [
      "538\n"
     ]
    },
    {
     "name": "stderr",
     "output_type": "stream",
     "text": [
      "Get LATEST chromedriver version for 96.0.4664 google-chrome\n",
      "Driver [/Users/franciscovispo/.wdm/drivers/chromedriver/mac64/96.0.4664.45/chromedriver] found in cache\n"
     ]
    },
    {
     "name": "stdout",
     "output_type": "stream",
     "text": [
      "llego a los huespedes\n",
      "llego a las características\n",
      "llego a los precios\n",
      "llego a los usos\n"
     ]
    },
    {
     "name": "stderr",
     "output_type": "stream",
     "text": [
      "\n",
      "\n",
      "====== WebDriver manager ======\n"
     ]
    },
    {
     "name": "stdout",
     "output_type": "stream",
     "text": [
      "539\n"
     ]
    },
    {
     "name": "stderr",
     "output_type": "stream",
     "text": [
      "Current google-chrome version is 96.0.4664\n",
      "Get LATEST chromedriver version for 96.0.4664 google-chrome\n",
      "Driver [/Users/franciscovispo/.wdm/drivers/chromedriver/mac64/96.0.4664.45/chromedriver] found in cache\n"
     ]
    },
    {
     "name": "stdout",
     "output_type": "stream",
     "text": [
      "llego a los huespedes\n",
      "llego a las características\n",
      "llego a los precios\n",
      "llego a los usos\n"
     ]
    },
    {
     "name": "stderr",
     "output_type": "stream",
     "text": [
      "\n",
      "\n",
      "====== WebDriver manager ======\n",
      "Current google-chrome version is 96.0.4664\n",
      "Get LATEST chromedriver version for 96.0.4664 google-chrome\n"
     ]
    },
    {
     "name": "stdout",
     "output_type": "stream",
     "text": [
      "540\n"
     ]
    },
    {
     "name": "stderr",
     "output_type": "stream",
     "text": [
      "Driver [/Users/franciscovispo/.wdm/drivers/chromedriver/mac64/96.0.4664.45/chromedriver] found in cache\n"
     ]
    },
    {
     "name": "stdout",
     "output_type": "stream",
     "text": [
      "llego a los huespedes\n",
      "llego a las características\n",
      "llego a los precios\n",
      "llego a los usos\n"
     ]
    },
    {
     "name": "stderr",
     "output_type": "stream",
     "text": [
      "\n",
      "\n",
      "====== WebDriver manager ======\n"
     ]
    },
    {
     "name": "stdout",
     "output_type": "stream",
     "text": [
      "541\n"
     ]
    },
    {
     "name": "stderr",
     "output_type": "stream",
     "text": [
      "Current google-chrome version is 96.0.4664\n",
      "Get LATEST chromedriver version for 96.0.4664 google-chrome\n",
      "Driver [/Users/franciscovispo/.wdm/drivers/chromedriver/mac64/96.0.4664.45/chromedriver] found in cache\n"
     ]
    },
    {
     "name": "stdout",
     "output_type": "stream",
     "text": [
      "llego a los huespedes\n",
      "llego a las características\n",
      "llego a los precios\n",
      "llego a los usos\n"
     ]
    },
    {
     "name": "stderr",
     "output_type": "stream",
     "text": [
      "\n",
      "\n",
      "====== WebDriver manager ======\n",
      "Current google-chrome version is 96.0.4664\n",
      "Get LATEST chromedriver version for 96.0.4664 google-chrome\n"
     ]
    },
    {
     "name": "stdout",
     "output_type": "stream",
     "text": [
      "542\n"
     ]
    },
    {
     "name": "stderr",
     "output_type": "stream",
     "text": [
      "Driver [/Users/franciscovispo/.wdm/drivers/chromedriver/mac64/96.0.4664.45/chromedriver] found in cache\n",
      "\n",
      "\n",
      "====== WebDriver manager ======\n"
     ]
    },
    {
     "name": "stdout",
     "output_type": "stream",
     "text": [
      "543\n"
     ]
    },
    {
     "name": "stderr",
     "output_type": "stream",
     "text": [
      "Current google-chrome version is 96.0.4664\n",
      "Get LATEST chromedriver version for 96.0.4664 google-chrome\n",
      "Driver [/Users/franciscovispo/.wdm/drivers/chromedriver/mac64/96.0.4664.45/chromedriver] found in cache\n"
     ]
    },
    {
     "name": "stdout",
     "output_type": "stream",
     "text": [
      "llego a los huespedes\n",
      "llego a las características\n",
      "llego a los precios\n",
      "llego a los usos\n"
     ]
    },
    {
     "name": "stderr",
     "output_type": "stream",
     "text": [
      "\n",
      "\n",
      "====== WebDriver manager ======\n"
     ]
    },
    {
     "name": "stdout",
     "output_type": "stream",
     "text": [
      "544\n"
     ]
    },
    {
     "name": "stderr",
     "output_type": "stream",
     "text": [
      "Current google-chrome version is 96.0.4664\n",
      "Get LATEST chromedriver version for 96.0.4664 google-chrome\n",
      "Driver [/Users/franciscovispo/.wdm/drivers/chromedriver/mac64/96.0.4664.45/chromedriver] found in cache\n"
     ]
    },
    {
     "name": "stdout",
     "output_type": "stream",
     "text": [
      "llego a los huespedes\n",
      "llego a las características\n",
      "llego a los precios\n",
      "llego a los usos\n"
     ]
    },
    {
     "name": "stderr",
     "output_type": "stream",
     "text": [
      "\n",
      "\n",
      "====== WebDriver manager ======\n"
     ]
    },
    {
     "name": "stdout",
     "output_type": "stream",
     "text": [
      "545\n"
     ]
    },
    {
     "name": "stderr",
     "output_type": "stream",
     "text": [
      "Current google-chrome version is 96.0.4664\n",
      "Get LATEST chromedriver version for 96.0.4664 google-chrome\n",
      "Driver [/Users/franciscovispo/.wdm/drivers/chromedriver/mac64/96.0.4664.45/chromedriver] found in cache\n"
     ]
    },
    {
     "name": "stdout",
     "output_type": "stream",
     "text": [
      "llego a los huespedes\n",
      "llego a las características\n",
      "llego a los precios\n",
      "llego a los usos\n"
     ]
    },
    {
     "name": "stderr",
     "output_type": "stream",
     "text": [
      "\n",
      "\n",
      "====== WebDriver manager ======\n"
     ]
    },
    {
     "name": "stdout",
     "output_type": "stream",
     "text": [
      "546\n"
     ]
    },
    {
     "name": "stderr",
     "output_type": "stream",
     "text": [
      "Current google-chrome version is 96.0.4664\n",
      "Get LATEST chromedriver version for 96.0.4664 google-chrome\n",
      "Driver [/Users/franciscovispo/.wdm/drivers/chromedriver/mac64/96.0.4664.45/chromedriver] found in cache\n"
     ]
    },
    {
     "name": "stdout",
     "output_type": "stream",
     "text": [
      "llego a los huespedes\n",
      "llego a las características\n",
      "llego a los precios\n",
      "llego a los usos\n"
     ]
    },
    {
     "name": "stderr",
     "output_type": "stream",
     "text": [
      "\n",
      "\n",
      "====== WebDriver manager ======\n",
      "Current google-chrome version is 96.0.4664\n",
      "Get LATEST chromedriver version for 96.0.4664 google-chrome\n"
     ]
    },
    {
     "name": "stdout",
     "output_type": "stream",
     "text": [
      "547\n"
     ]
    },
    {
     "name": "stderr",
     "output_type": "stream",
     "text": [
      "Driver [/Users/franciscovispo/.wdm/drivers/chromedriver/mac64/96.0.4664.45/chromedriver] found in cache\n"
     ]
    },
    {
     "name": "stdout",
     "output_type": "stream",
     "text": [
      "llego a los huespedes\n",
      "llego a las características\n",
      "llego a los precios\n",
      "llego a los usos\n"
     ]
    },
    {
     "name": "stderr",
     "output_type": "stream",
     "text": [
      "\n",
      "\n",
      "====== WebDriver manager ======\n"
     ]
    },
    {
     "name": "stdout",
     "output_type": "stream",
     "text": [
      "548\n"
     ]
    },
    {
     "name": "stderr",
     "output_type": "stream",
     "text": [
      "Current google-chrome version is 96.0.4664\n",
      "Get LATEST chromedriver version for 96.0.4664 google-chrome\n",
      "Driver [/Users/franciscovispo/.wdm/drivers/chromedriver/mac64/96.0.4664.45/chromedriver] found in cache\n"
     ]
    },
    {
     "name": "stdout",
     "output_type": "stream",
     "text": [
      "llego a los huespedes\n",
      "llego a las características\n",
      "llego a los precios\n",
      "llego a los usos\n"
     ]
    },
    {
     "name": "stderr",
     "output_type": "stream",
     "text": [
      "\n",
      "\n",
      "====== WebDriver manager ======\n",
      "Current google-chrome version is 96.0.4664\n",
      "Get LATEST chromedriver version for 96.0.4664 google-chrome\n"
     ]
    },
    {
     "name": "stdout",
     "output_type": "stream",
     "text": [
      "549\n"
     ]
    },
    {
     "name": "stderr",
     "output_type": "stream",
     "text": [
      "Driver [/Users/franciscovispo/.wdm/drivers/chromedriver/mac64/96.0.4664.45/chromedriver] found in cache\n"
     ]
    },
    {
     "name": "stdout",
     "output_type": "stream",
     "text": [
      "llego a los huespedes\n",
      "llego a las características\n",
      "llego a los precios\n",
      "llego a los usos\n"
     ]
    },
    {
     "name": "stderr",
     "output_type": "stream",
     "text": [
      "\n",
      "\n",
      "====== WebDriver manager ======\n"
     ]
    },
    {
     "name": "stdout",
     "output_type": "stream",
     "text": [
      "550\n"
     ]
    },
    {
     "name": "stderr",
     "output_type": "stream",
     "text": [
      "Current google-chrome version is 96.0.4664\n",
      "Get LATEST chromedriver version for 96.0.4664 google-chrome\n",
      "Driver [/Users/franciscovispo/.wdm/drivers/chromedriver/mac64/96.0.4664.45/chromedriver] found in cache\n"
     ]
    },
    {
     "name": "stdout",
     "output_type": "stream",
     "text": [
      "llego a los huespedes\n",
      "llego a las características\n",
      "llego a los precios\n",
      "llego a los usos\n"
     ]
    },
    {
     "name": "stderr",
     "output_type": "stream",
     "text": [
      "\n",
      "\n",
      "====== WebDriver manager ======\n",
      "Current google-chrome version is 96.0.4664\n",
      "Get LATEST chromedriver version for 96.0.4664 google-chrome\n"
     ]
    },
    {
     "name": "stdout",
     "output_type": "stream",
     "text": [
      "551\n"
     ]
    },
    {
     "name": "stderr",
     "output_type": "stream",
     "text": [
      "Driver [/Users/franciscovispo/.wdm/drivers/chromedriver/mac64/96.0.4664.45/chromedriver] found in cache\n"
     ]
    },
    {
     "name": "stdout",
     "output_type": "stream",
     "text": [
      "llego a los huespedes\n",
      "llego a las características\n",
      "llego a los precios\n",
      "llego a los usos\n"
     ]
    },
    {
     "name": "stderr",
     "output_type": "stream",
     "text": [
      "\n",
      "\n",
      "====== WebDriver manager ======\n",
      "Current google-chrome version is 96.0.4664\n",
      "Get LATEST chromedriver version for 96.0.4664 google-chrome\n"
     ]
    },
    {
     "name": "stdout",
     "output_type": "stream",
     "text": [
      "552\n"
     ]
    },
    {
     "name": "stderr",
     "output_type": "stream",
     "text": [
      "Driver [/Users/franciscovispo/.wdm/drivers/chromedriver/mac64/96.0.4664.45/chromedriver] found in cache\n"
     ]
    },
    {
     "name": "stdout",
     "output_type": "stream",
     "text": [
      "llego a los huespedes\n",
      "llego a las características\n",
      "llego a los precios\n",
      "llego a los usos\n"
     ]
    },
    {
     "name": "stderr",
     "output_type": "stream",
     "text": [
      "\n",
      "\n",
      "====== WebDriver manager ======\n"
     ]
    },
    {
     "name": "stdout",
     "output_type": "stream",
     "text": [
      "553\n"
     ]
    },
    {
     "name": "stderr",
     "output_type": "stream",
     "text": [
      "Current google-chrome version is 96.0.4664\n",
      "Get LATEST chromedriver version for 96.0.4664 google-chrome\n",
      "Driver [/Users/franciscovispo/.wdm/drivers/chromedriver/mac64/96.0.4664.45/chromedriver] found in cache\n"
     ]
    },
    {
     "name": "stdout",
     "output_type": "stream",
     "text": [
      "llego a los huespedes\n",
      "llego a las características\n",
      "llego a los precios\n",
      "llego a los usos\n"
     ]
    },
    {
     "name": "stderr",
     "output_type": "stream",
     "text": [
      "\n",
      "\n",
      "====== WebDriver manager ======\n",
      "Current google-chrome version is 96.0.4664\n",
      "Get LATEST chromedriver version for 96.0.4664 google-chrome\n"
     ]
    },
    {
     "name": "stdout",
     "output_type": "stream",
     "text": [
      "554\n"
     ]
    },
    {
     "name": "stderr",
     "output_type": "stream",
     "text": [
      "Driver [/Users/franciscovispo/.wdm/drivers/chromedriver/mac64/96.0.4664.45/chromedriver] found in cache\n"
     ]
    },
    {
     "name": "stdout",
     "output_type": "stream",
     "text": [
      "llego a los huespedes\n",
      "llego a las características\n",
      "llego a los precios\n",
      "llego a los usos\n"
     ]
    },
    {
     "name": "stderr",
     "output_type": "stream",
     "text": [
      "\n",
      "\n",
      "====== WebDriver manager ======\n",
      "Current google-chrome version is 96.0.4664\n",
      "Get LATEST chromedriver version for 96.0.4664 google-chrome\n"
     ]
    },
    {
     "name": "stdout",
     "output_type": "stream",
     "text": [
      "555\n"
     ]
    },
    {
     "name": "stderr",
     "output_type": "stream",
     "text": [
      "Driver [/Users/franciscovispo/.wdm/drivers/chromedriver/mac64/96.0.4664.45/chromedriver] found in cache\n"
     ]
    },
    {
     "name": "stdout",
     "output_type": "stream",
     "text": [
      "llego a los huespedes\n",
      "llego a las características\n",
      "llego a los precios\n",
      "llego a los usos\n"
     ]
    },
    {
     "name": "stderr",
     "output_type": "stream",
     "text": [
      "\n",
      "\n",
      "====== WebDriver manager ======\n",
      "Current google-chrome version is 96.0.4664\n",
      "Get LATEST chromedriver version for 96.0.4664 google-chrome\n"
     ]
    },
    {
     "name": "stdout",
     "output_type": "stream",
     "text": [
      "556\n"
     ]
    },
    {
     "name": "stderr",
     "output_type": "stream",
     "text": [
      "Driver [/Users/franciscovispo/.wdm/drivers/chromedriver/mac64/96.0.4664.45/chromedriver] found in cache\n"
     ]
    },
    {
     "name": "stdout",
     "output_type": "stream",
     "text": [
      "llego a los huespedes\n",
      "llego a las características\n",
      "llego a los precios\n",
      "llego a los usos\n"
     ]
    },
    {
     "name": "stderr",
     "output_type": "stream",
     "text": [
      "\n",
      "\n",
      "====== WebDriver manager ======\n",
      "Current google-chrome version is 96.0.4664\n",
      "Get LATEST chromedriver version for 96.0.4664 google-chrome\n"
     ]
    },
    {
     "name": "stdout",
     "output_type": "stream",
     "text": [
      "557\n"
     ]
    },
    {
     "name": "stderr",
     "output_type": "stream",
     "text": [
      "Driver [/Users/franciscovispo/.wdm/drivers/chromedriver/mac64/96.0.4664.45/chromedriver] found in cache\n"
     ]
    },
    {
     "name": "stdout",
     "output_type": "stream",
     "text": [
      "llego a los huespedes\n",
      "llego a las características\n",
      "llego a los precios\n",
      "llego a los usos\n"
     ]
    },
    {
     "name": "stderr",
     "output_type": "stream",
     "text": [
      "\n",
      "\n",
      "====== WebDriver manager ======\n",
      "Current google-chrome version is 96.0.4664\n",
      "Get LATEST chromedriver version for 96.0.4664 google-chrome\n"
     ]
    },
    {
     "name": "stdout",
     "output_type": "stream",
     "text": [
      "558\n"
     ]
    },
    {
     "name": "stderr",
     "output_type": "stream",
     "text": [
      "Driver [/Users/franciscovispo/.wdm/drivers/chromedriver/mac64/96.0.4664.45/chromedriver] found in cache\n"
     ]
    },
    {
     "name": "stdout",
     "output_type": "stream",
     "text": [
      "llego a los huespedes\n",
      "llego a las características\n",
      "llego a los precios\n",
      "llego a los usos\n"
     ]
    },
    {
     "name": "stderr",
     "output_type": "stream",
     "text": [
      "\n",
      "\n",
      "====== WebDriver manager ======\n"
     ]
    },
    {
     "name": "stdout",
     "output_type": "stream",
     "text": [
      "559\n"
     ]
    },
    {
     "name": "stderr",
     "output_type": "stream",
     "text": [
      "Current google-chrome version is 96.0.4664\n",
      "Get LATEST chromedriver version for 96.0.4664 google-chrome\n",
      "Driver [/Users/franciscovispo/.wdm/drivers/chromedriver/mac64/96.0.4664.45/chromedriver] found in cache\n"
     ]
    },
    {
     "name": "stdout",
     "output_type": "stream",
     "text": [
      "llego a los huespedes\n",
      "llego a las características\n",
      "llego a los precios\n",
      "llego a los usos\n"
     ]
    },
    {
     "name": "stderr",
     "output_type": "stream",
     "text": [
      "\n",
      "\n",
      "====== WebDriver manager ======\n",
      "Current google-chrome version is 96.0.4664\n",
      "Get LATEST chromedriver version for 96.0.4664 google-chrome\n"
     ]
    },
    {
     "name": "stdout",
     "output_type": "stream",
     "text": [
      "560\n"
     ]
    },
    {
     "name": "stderr",
     "output_type": "stream",
     "text": [
      "Driver [/Users/franciscovispo/.wdm/drivers/chromedriver/mac64/96.0.4664.45/chromedriver] found in cache\n"
     ]
    },
    {
     "name": "stdout",
     "output_type": "stream",
     "text": [
      "llego a los huespedes\n",
      "llego a las características\n",
      "llego a los precios\n",
      "llego a los usos\n"
     ]
    },
    {
     "name": "stderr",
     "output_type": "stream",
     "text": [
      "\n",
      "\n",
      "====== WebDriver manager ======\n",
      "Current google-chrome version is 96.0.4664\n",
      "Get LATEST chromedriver version for 96.0.4664 google-chrome\n"
     ]
    },
    {
     "name": "stdout",
     "output_type": "stream",
     "text": [
      "561\n"
     ]
    },
    {
     "name": "stderr",
     "output_type": "stream",
     "text": [
      "Driver [/Users/franciscovispo/.wdm/drivers/chromedriver/mac64/96.0.4664.45/chromedriver] found in cache\n"
     ]
    },
    {
     "name": "stdout",
     "output_type": "stream",
     "text": [
      "llego a los huespedes\n",
      "llego a las características\n",
      "llego a los precios\n",
      "llego a los usos\n"
     ]
    },
    {
     "name": "stderr",
     "output_type": "stream",
     "text": [
      "\n",
      "\n",
      "====== WebDriver manager ======\n",
      "Current google-chrome version is 96.0.4664\n",
      "Get LATEST chromedriver version for 96.0.4664 google-chrome\n"
     ]
    },
    {
     "name": "stdout",
     "output_type": "stream",
     "text": [
      "562\n"
     ]
    },
    {
     "name": "stderr",
     "output_type": "stream",
     "text": [
      "Driver [/Users/franciscovispo/.wdm/drivers/chromedriver/mac64/96.0.4664.45/chromedriver] found in cache\n"
     ]
    },
    {
     "name": "stdout",
     "output_type": "stream",
     "text": [
      "llego a los huespedes\n",
      "llego a las características\n",
      "llego a los precios\n",
      "llego a los usos\n"
     ]
    },
    {
     "name": "stderr",
     "output_type": "stream",
     "text": [
      "\n",
      "\n",
      "====== WebDriver manager ======\n",
      "Current google-chrome version is 96.0.4664\n",
      "Get LATEST chromedriver version for 96.0.4664 google-chrome\n"
     ]
    },
    {
     "name": "stdout",
     "output_type": "stream",
     "text": [
      "563\n"
     ]
    },
    {
     "name": "stderr",
     "output_type": "stream",
     "text": [
      "Driver [/Users/franciscovispo/.wdm/drivers/chromedriver/mac64/96.0.4664.45/chromedriver] found in cache\n"
     ]
    },
    {
     "name": "stdout",
     "output_type": "stream",
     "text": [
      "llego a los huespedes\n",
      "llego a las características\n",
      "llego a los precios\n",
      "llego a los usos\n"
     ]
    },
    {
     "name": "stderr",
     "output_type": "stream",
     "text": [
      "\n",
      "\n",
      "====== WebDriver manager ======\n",
      "Current google-chrome version is 96.0.4664\n",
      "Get LATEST chromedriver version for 96.0.4664 google-chrome\n"
     ]
    },
    {
     "name": "stdout",
     "output_type": "stream",
     "text": [
      "564\n"
     ]
    },
    {
     "name": "stderr",
     "output_type": "stream",
     "text": [
      "Driver [/Users/franciscovispo/.wdm/drivers/chromedriver/mac64/96.0.4664.45/chromedriver] found in cache\n"
     ]
    },
    {
     "name": "stdout",
     "output_type": "stream",
     "text": [
      "llego a los huespedes\n",
      "llego a las características\n",
      "llego a los precios\n",
      "llego a los usos\n"
     ]
    },
    {
     "name": "stderr",
     "output_type": "stream",
     "text": [
      "\n",
      "\n",
      "====== WebDriver manager ======\n",
      "Current google-chrome version is 96.0.4664\n",
      "Get LATEST chromedriver version for 96.0.4664 google-chrome\n"
     ]
    },
    {
     "name": "stdout",
     "output_type": "stream",
     "text": [
      "565\n"
     ]
    },
    {
     "name": "stderr",
     "output_type": "stream",
     "text": [
      "Driver [/Users/franciscovispo/.wdm/drivers/chromedriver/mac64/96.0.4664.45/chromedriver] found in cache\n"
     ]
    },
    {
     "name": "stdout",
     "output_type": "stream",
     "text": [
      "llego a los huespedes\n",
      "llego a las características\n",
      "llego a los precios\n",
      "llego a los usos\n"
     ]
    },
    {
     "name": "stderr",
     "output_type": "stream",
     "text": [
      "\n",
      "\n",
      "====== WebDriver manager ======\n",
      "Current google-chrome version is 96.0.4664\n",
      "Get LATEST chromedriver version for 96.0.4664 google-chrome\n"
     ]
    },
    {
     "name": "stdout",
     "output_type": "stream",
     "text": [
      "566\n"
     ]
    },
    {
     "name": "stderr",
     "output_type": "stream",
     "text": [
      "Driver [/Users/franciscovispo/.wdm/drivers/chromedriver/mac64/96.0.4664.45/chromedriver] found in cache\n"
     ]
    },
    {
     "name": "stdout",
     "output_type": "stream",
     "text": [
      "llego a los huespedes\n",
      "llego a las características\n",
      "llego a los precios\n",
      "llego a los usos\n"
     ]
    },
    {
     "name": "stderr",
     "output_type": "stream",
     "text": [
      "\n",
      "\n",
      "====== WebDriver manager ======\n",
      "Current google-chrome version is 96.0.4664\n",
      "Get LATEST chromedriver version for 96.0.4664 google-chrome\n"
     ]
    },
    {
     "name": "stdout",
     "output_type": "stream",
     "text": [
      "567\n"
     ]
    },
    {
     "name": "stderr",
     "output_type": "stream",
     "text": [
      "Driver [/Users/franciscovispo/.wdm/drivers/chromedriver/mac64/96.0.4664.45/chromedriver] found in cache\n"
     ]
    },
    {
     "name": "stdout",
     "output_type": "stream",
     "text": [
      "llego a los huespedes\n",
      "llego a las características\n",
      "llego a los precios\n",
      "llego a los usos\n"
     ]
    },
    {
     "name": "stderr",
     "output_type": "stream",
     "text": [
      "\n",
      "\n",
      "====== WebDriver manager ======\n"
     ]
    },
    {
     "name": "stdout",
     "output_type": "stream",
     "text": [
      "568\n"
     ]
    },
    {
     "name": "stderr",
     "output_type": "stream",
     "text": [
      "Current google-chrome version is 96.0.4664\n",
      "Get LATEST chromedriver version for 96.0.4664 google-chrome\n",
      "Driver [/Users/franciscovispo/.wdm/drivers/chromedriver/mac64/96.0.4664.45/chromedriver] found in cache\n"
     ]
    },
    {
     "name": "stdout",
     "output_type": "stream",
     "text": [
      "llego a los huespedes\n",
      "llego a las características\n",
      "llego a los precios\n",
      "llego a los usos\n"
     ]
    },
    {
     "name": "stderr",
     "output_type": "stream",
     "text": [
      "\n",
      "\n",
      "====== WebDriver manager ======\n",
      "Current google-chrome version is 96.0.4664\n",
      "Get LATEST chromedriver version for 96.0.4664 google-chrome\n"
     ]
    },
    {
     "name": "stdout",
     "output_type": "stream",
     "text": [
      "569\n"
     ]
    },
    {
     "name": "stderr",
     "output_type": "stream",
     "text": [
      "Driver [/Users/franciscovispo/.wdm/drivers/chromedriver/mac64/96.0.4664.45/chromedriver] found in cache\n"
     ]
    },
    {
     "name": "stdout",
     "output_type": "stream",
     "text": [
      "llego a los huespedes\n",
      "llego a las características\n",
      "llego a los precios\n",
      "llego a los usos\n"
     ]
    },
    {
     "name": "stderr",
     "output_type": "stream",
     "text": [
      "\n",
      "\n",
      "====== WebDriver manager ======\n"
     ]
    },
    {
     "name": "stdout",
     "output_type": "stream",
     "text": [
      "570\n"
     ]
    },
    {
     "name": "stderr",
     "output_type": "stream",
     "text": [
      "Current google-chrome version is 96.0.4664\n",
      "Get LATEST chromedriver version for 96.0.4664 google-chrome\n",
      "Driver [/Users/franciscovispo/.wdm/drivers/chromedriver/mac64/96.0.4664.45/chromedriver] found in cache\n"
     ]
    },
    {
     "name": "stdout",
     "output_type": "stream",
     "text": [
      "llego a los huespedes\n",
      "llego a las características\n",
      "llego a los precios\n",
      "llego a los usos\n"
     ]
    },
    {
     "name": "stderr",
     "output_type": "stream",
     "text": [
      "\n",
      "\n",
      "====== WebDriver manager ======\n",
      "Current google-chrome version is 96.0.4664\n",
      "Get LATEST chromedriver version for 96.0.4664 google-chrome\n"
     ]
    },
    {
     "name": "stdout",
     "output_type": "stream",
     "text": [
      "571\n"
     ]
    },
    {
     "name": "stderr",
     "output_type": "stream",
     "text": [
      "Driver [/Users/franciscovispo/.wdm/drivers/chromedriver/mac64/96.0.4664.45/chromedriver] found in cache\n"
     ]
    },
    {
     "name": "stdout",
     "output_type": "stream",
     "text": [
      "llego a los huespedes\n",
      "llego a las características\n",
      "llego a los precios\n",
      "llego a los usos\n"
     ]
    },
    {
     "name": "stderr",
     "output_type": "stream",
     "text": [
      "\n",
      "\n",
      "====== WebDriver manager ======\n",
      "Current google-chrome version is 96.0.4664\n",
      "Get LATEST chromedriver version for 96.0.4664 google-chrome\n"
     ]
    },
    {
     "name": "stdout",
     "output_type": "stream",
     "text": [
      "572\n"
     ]
    },
    {
     "name": "stderr",
     "output_type": "stream",
     "text": [
      "Driver [/Users/franciscovispo/.wdm/drivers/chromedriver/mac64/96.0.4664.45/chromedriver] found in cache\n"
     ]
    },
    {
     "name": "stdout",
     "output_type": "stream",
     "text": [
      "llego a los huespedes\n",
      "llego a las características\n",
      "llego a los precios\n",
      "llego a los usos\n"
     ]
    },
    {
     "name": "stderr",
     "output_type": "stream",
     "text": [
      "\n",
      "\n",
      "====== WebDriver manager ======\n",
      "Current google-chrome version is 96.0.4664\n",
      "Get LATEST chromedriver version for 96.0.4664 google-chrome\n"
     ]
    },
    {
     "name": "stdout",
     "output_type": "stream",
     "text": [
      "573\n"
     ]
    },
    {
     "name": "stderr",
     "output_type": "stream",
     "text": [
      "Driver [/Users/franciscovispo/.wdm/drivers/chromedriver/mac64/96.0.4664.45/chromedriver] found in cache\n"
     ]
    },
    {
     "name": "stdout",
     "output_type": "stream",
     "text": [
      "llego a los huespedes\n",
      "llego a las características\n",
      "llego a los precios\n",
      "llego a los usos\n"
     ]
    },
    {
     "name": "stderr",
     "output_type": "stream",
     "text": [
      "\n",
      "\n",
      "====== WebDriver manager ======\n",
      "Current google-chrome version is 96.0.4664\n",
      "Get LATEST chromedriver version for 96.0.4664 google-chrome\n"
     ]
    },
    {
     "name": "stdout",
     "output_type": "stream",
     "text": [
      "574\n"
     ]
    },
    {
     "name": "stderr",
     "output_type": "stream",
     "text": [
      "Driver [/Users/franciscovispo/.wdm/drivers/chromedriver/mac64/96.0.4664.45/chromedriver] found in cache\n"
     ]
    },
    {
     "name": "stdout",
     "output_type": "stream",
     "text": [
      "llego a los huespedes\n",
      "llego a las características\n",
      "llego a los precios\n",
      "llego a los usos\n"
     ]
    },
    {
     "name": "stderr",
     "output_type": "stream",
     "text": [
      "\n",
      "\n",
      "====== WebDriver manager ======\n",
      "Current google-chrome version is 96.0.4664\n",
      "Get LATEST chromedriver version for 96.0.4664 google-chrome\n"
     ]
    },
    {
     "name": "stdout",
     "output_type": "stream",
     "text": [
      "575\n"
     ]
    },
    {
     "name": "stderr",
     "output_type": "stream",
     "text": [
      "Driver [/Users/franciscovispo/.wdm/drivers/chromedriver/mac64/96.0.4664.45/chromedriver] found in cache\n"
     ]
    },
    {
     "name": "stdout",
     "output_type": "stream",
     "text": [
      "llego a los huespedes\n",
      "llego a las características\n",
      "llego a los precios\n",
      "llego a los usos\n"
     ]
    },
    {
     "name": "stderr",
     "output_type": "stream",
     "text": [
      "\n",
      "\n",
      "====== WebDriver manager ======\n",
      "Current google-chrome version is 96.0.4664\n",
      "Get LATEST chromedriver version for 96.0.4664 google-chrome\n"
     ]
    },
    {
     "name": "stdout",
     "output_type": "stream",
     "text": [
      "576\n"
     ]
    },
    {
     "name": "stderr",
     "output_type": "stream",
     "text": [
      "Driver [/Users/franciscovispo/.wdm/drivers/chromedriver/mac64/96.0.4664.45/chromedriver] found in cache\n"
     ]
    },
    {
     "name": "stdout",
     "output_type": "stream",
     "text": [
      "llego a los huespedes\n",
      "llego a las características\n",
      "llego a los precios\n",
      "llego a los usos\n"
     ]
    },
    {
     "name": "stderr",
     "output_type": "stream",
     "text": [
      "\n",
      "\n",
      "====== WebDriver manager ======\n"
     ]
    },
    {
     "name": "stdout",
     "output_type": "stream",
     "text": [
      "577\n"
     ]
    },
    {
     "name": "stderr",
     "output_type": "stream",
     "text": [
      "Current google-chrome version is 96.0.4664\n",
      "Get LATEST chromedriver version for 96.0.4664 google-chrome\n",
      "Driver [/Users/franciscovispo/.wdm/drivers/chromedriver/mac64/96.0.4664.45/chromedriver] found in cache\n"
     ]
    },
    {
     "name": "stdout",
     "output_type": "stream",
     "text": [
      "llego a los huespedes\n",
      "llego a las características\n",
      "llego a los precios\n",
      "llego a los usos\n"
     ]
    },
    {
     "name": "stderr",
     "output_type": "stream",
     "text": [
      "\n",
      "\n",
      "====== WebDriver manager ======\n",
      "Current google-chrome version is 96.0.4664\n"
     ]
    },
    {
     "name": "stdout",
     "output_type": "stream",
     "text": [
      "578\n"
     ]
    },
    {
     "name": "stderr",
     "output_type": "stream",
     "text": [
      "Get LATEST chromedriver version for 96.0.4664 google-chrome\n",
      "Driver [/Users/franciscovispo/.wdm/drivers/chromedriver/mac64/96.0.4664.45/chromedriver] found in cache\n"
     ]
    },
    {
     "name": "stdout",
     "output_type": "stream",
     "text": [
      "llego a los huespedes\n",
      "llego a las características\n",
      "llego a los precios\n",
      "llego a los usos\n"
     ]
    },
    {
     "name": "stderr",
     "output_type": "stream",
     "text": [
      "\n",
      "\n",
      "====== WebDriver manager ======\n",
      "Current google-chrome version is 96.0.4664\n",
      "Get LATEST chromedriver version for 96.0.4664 google-chrome\n"
     ]
    },
    {
     "name": "stdout",
     "output_type": "stream",
     "text": [
      "579\n"
     ]
    },
    {
     "name": "stderr",
     "output_type": "stream",
     "text": [
      "Driver [/Users/franciscovispo/.wdm/drivers/chromedriver/mac64/96.0.4664.45/chromedriver] found in cache\n"
     ]
    },
    {
     "name": "stdout",
     "output_type": "stream",
     "text": [
      "llego a los huespedes\n",
      "llego a las características\n",
      "llego a los precios\n",
      "llego a los usos\n"
     ]
    },
    {
     "name": "stderr",
     "output_type": "stream",
     "text": [
      "\n",
      "\n",
      "====== WebDriver manager ======\n"
     ]
    },
    {
     "name": "stdout",
     "output_type": "stream",
     "text": [
      "580\n"
     ]
    },
    {
     "name": "stderr",
     "output_type": "stream",
     "text": [
      "Current google-chrome version is 96.0.4664\n",
      "Get LATEST chromedriver version for 96.0.4664 google-chrome\n",
      "Driver [/Users/franciscovispo/.wdm/drivers/chromedriver/mac64/96.0.4664.45/chromedriver] found in cache\n"
     ]
    },
    {
     "name": "stdout",
     "output_type": "stream",
     "text": [
      "llego a los huespedes\n",
      "llego a las características\n",
      "llego a los precios\n",
      "llego a los usos\n"
     ]
    },
    {
     "name": "stderr",
     "output_type": "stream",
     "text": [
      "\n",
      "\n",
      "====== WebDriver manager ======\n",
      "Current google-chrome version is 96.0.4664\n",
      "Get LATEST chromedriver version for 96.0.4664 google-chrome\n"
     ]
    },
    {
     "name": "stdout",
     "output_type": "stream",
     "text": [
      "581\n"
     ]
    },
    {
     "name": "stderr",
     "output_type": "stream",
     "text": [
      "Driver [/Users/franciscovispo/.wdm/drivers/chromedriver/mac64/96.0.4664.45/chromedriver] found in cache\n"
     ]
    },
    {
     "name": "stdout",
     "output_type": "stream",
     "text": [
      "llego a los huespedes\n",
      "llego a las características\n",
      "llego a los precios\n",
      "llego a los usos\n"
     ]
    },
    {
     "name": "stderr",
     "output_type": "stream",
     "text": [
      "\n",
      "\n",
      "====== WebDriver manager ======\n"
     ]
    },
    {
     "name": "stdout",
     "output_type": "stream",
     "text": [
      "582\n"
     ]
    },
    {
     "name": "stderr",
     "output_type": "stream",
     "text": [
      "Current google-chrome version is 96.0.4664\n",
      "Get LATEST chromedriver version for 96.0.4664 google-chrome\n",
      "Driver [/Users/franciscovispo/.wdm/drivers/chromedriver/mac64/96.0.4664.45/chromedriver] found in cache\n"
     ]
    },
    {
     "name": "stdout",
     "output_type": "stream",
     "text": [
      "llego a los huespedes\n",
      "llego a las características\n",
      "llego a los precios\n",
      "llego a los usos\n"
     ]
    },
    {
     "name": "stderr",
     "output_type": "stream",
     "text": [
      "\n",
      "\n",
      "====== WebDriver manager ======\n",
      "Current google-chrome version is 96.0.4664\n",
      "Get LATEST chromedriver version for 96.0.4664 google-chrome\n"
     ]
    },
    {
     "name": "stdout",
     "output_type": "stream",
     "text": [
      "583\n"
     ]
    },
    {
     "name": "stderr",
     "output_type": "stream",
     "text": [
      "Driver [/Users/franciscovispo/.wdm/drivers/chromedriver/mac64/96.0.4664.45/chromedriver] found in cache\n"
     ]
    },
    {
     "name": "stdout",
     "output_type": "stream",
     "text": [
      "llego a los huespedes\n",
      "llego a las características\n",
      "llego a los precios\n",
      "llego a los usos\n"
     ]
    },
    {
     "name": "stderr",
     "output_type": "stream",
     "text": [
      "\n",
      "\n",
      "====== WebDriver manager ======\n",
      "Current google-chrome version is 96.0.4664\n",
      "Get LATEST chromedriver version for 96.0.4664 google-chrome\n"
     ]
    },
    {
     "name": "stdout",
     "output_type": "stream",
     "text": [
      "584\n"
     ]
    },
    {
     "name": "stderr",
     "output_type": "stream",
     "text": [
      "Driver [/Users/franciscovispo/.wdm/drivers/chromedriver/mac64/96.0.4664.45/chromedriver] found in cache\n"
     ]
    },
    {
     "name": "stdout",
     "output_type": "stream",
     "text": [
      "llego a los huespedes\n",
      "llego a las características\n",
      "llego a los precios\n",
      "llego a los usos\n"
     ]
    },
    {
     "name": "stderr",
     "output_type": "stream",
     "text": [
      "\n",
      "\n",
      "====== WebDriver manager ======\n"
     ]
    },
    {
     "name": "stdout",
     "output_type": "stream",
     "text": [
      "585\n"
     ]
    },
    {
     "name": "stderr",
     "output_type": "stream",
     "text": [
      "Current google-chrome version is 96.0.4664\n",
      "Get LATEST chromedriver version for 96.0.4664 google-chrome\n",
      "Driver [/Users/franciscovispo/.wdm/drivers/chromedriver/mac64/96.0.4664.45/chromedriver] found in cache\n"
     ]
    },
    {
     "name": "stdout",
     "output_type": "stream",
     "text": [
      "llego a los huespedes\n",
      "llego a las características\n",
      "llego a los precios\n",
      "llego a los usos\n"
     ]
    },
    {
     "name": "stderr",
     "output_type": "stream",
     "text": [
      "\n",
      "\n",
      "====== WebDriver manager ======\n",
      "Current google-chrome version is 96.0.4664\n",
      "Get LATEST chromedriver version for 96.0.4664 google-chrome\n"
     ]
    },
    {
     "name": "stdout",
     "output_type": "stream",
     "text": [
      "586\n"
     ]
    },
    {
     "name": "stderr",
     "output_type": "stream",
     "text": [
      "Driver [/Users/franciscovispo/.wdm/drivers/chromedriver/mac64/96.0.4664.45/chromedriver] found in cache\n"
     ]
    },
    {
     "name": "stdout",
     "output_type": "stream",
     "text": [
      "llego a los huespedes\n",
      "llego a las características\n",
      "llego a los precios\n",
      "llego a los usos\n"
     ]
    },
    {
     "name": "stderr",
     "output_type": "stream",
     "text": [
      "\n",
      "\n",
      "====== WebDriver manager ======\n"
     ]
    },
    {
     "name": "stdout",
     "output_type": "stream",
     "text": [
      "587\n"
     ]
    },
    {
     "name": "stderr",
     "output_type": "stream",
     "text": [
      "Current google-chrome version is 96.0.4664\n",
      "Get LATEST chromedriver version for 96.0.4664 google-chrome\n",
      "Driver [/Users/franciscovispo/.wdm/drivers/chromedriver/mac64/96.0.4664.45/chromedriver] found in cache\n"
     ]
    },
    {
     "name": "stdout",
     "output_type": "stream",
     "text": [
      "llego a los huespedes\n",
      "llego a las características\n",
      "llego a los precios\n",
      "llego a los usos\n"
     ]
    },
    {
     "name": "stderr",
     "output_type": "stream",
     "text": [
      "\n",
      "\n",
      "====== WebDriver manager ======\n",
      "Current google-chrome version is 96.0.4664\n",
      "Get LATEST chromedriver version for 96.0.4664 google-chrome\n"
     ]
    },
    {
     "name": "stdout",
     "output_type": "stream",
     "text": [
      "588\n"
     ]
    },
    {
     "name": "stderr",
     "output_type": "stream",
     "text": [
      "Driver [/Users/franciscovispo/.wdm/drivers/chromedriver/mac64/96.0.4664.45/chromedriver] found in cache\n"
     ]
    },
    {
     "name": "stdout",
     "output_type": "stream",
     "text": [
      "llego a los huespedes\n",
      "llego a las características\n",
      "llego a los precios\n",
      "llego a los usos\n"
     ]
    },
    {
     "name": "stderr",
     "output_type": "stream",
     "text": [
      "\n",
      "\n",
      "====== WebDriver manager ======\n",
      "Current google-chrome version is 96.0.4664\n",
      "Get LATEST chromedriver version for 96.0.4664 google-chrome\n"
     ]
    },
    {
     "name": "stdout",
     "output_type": "stream",
     "text": [
      "589\n"
     ]
    },
    {
     "name": "stderr",
     "output_type": "stream",
     "text": [
      "Driver [/Users/franciscovispo/.wdm/drivers/chromedriver/mac64/96.0.4664.45/chromedriver] found in cache\n"
     ]
    },
    {
     "name": "stdout",
     "output_type": "stream",
     "text": [
      "llego a los huespedes\n",
      "llego a las características\n",
      "llego a los precios\n",
      "llego a los usos\n"
     ]
    },
    {
     "name": "stderr",
     "output_type": "stream",
     "text": [
      "\n",
      "\n",
      "====== WebDriver manager ======\n",
      "Current google-chrome version is 96.0.4664\n",
      "Get LATEST chromedriver version for 96.0.4664 google-chrome\n"
     ]
    },
    {
     "name": "stdout",
     "output_type": "stream",
     "text": [
      "590\n"
     ]
    },
    {
     "name": "stderr",
     "output_type": "stream",
     "text": [
      "Driver [/Users/franciscovispo/.wdm/drivers/chromedriver/mac64/96.0.4664.45/chromedriver] found in cache\n"
     ]
    },
    {
     "name": "stdout",
     "output_type": "stream",
     "text": [
      "llego a los huespedes\n",
      "llego a las características\n",
      "llego a los precios\n",
      "llego a los usos\n"
     ]
    },
    {
     "name": "stderr",
     "output_type": "stream",
     "text": [
      "\n",
      "\n",
      "====== WebDriver manager ======\n"
     ]
    },
    {
     "name": "stdout",
     "output_type": "stream",
     "text": [
      "591\n"
     ]
    },
    {
     "name": "stderr",
     "output_type": "stream",
     "text": [
      "Current google-chrome version is 96.0.4664\n",
      "Get LATEST chromedriver version for 96.0.4664 google-chrome\n",
      "Driver [/Users/franciscovispo/.wdm/drivers/chromedriver/mac64/96.0.4664.45/chromedriver] found in cache\n"
     ]
    },
    {
     "name": "stdout",
     "output_type": "stream",
     "text": [
      "llego a los huespedes\n",
      "llego a las características\n",
      "llego a los precios\n",
      "llego a los usos\n"
     ]
    },
    {
     "name": "stderr",
     "output_type": "stream",
     "text": [
      "\n",
      "\n",
      "====== WebDriver manager ======\n"
     ]
    },
    {
     "name": "stdout",
     "output_type": "stream",
     "text": [
      "592\n"
     ]
    },
    {
     "name": "stderr",
     "output_type": "stream",
     "text": [
      "Current google-chrome version is 96.0.4664\n",
      "Get LATEST chromedriver version for 96.0.4664 google-chrome\n",
      "Driver [/Users/franciscovispo/.wdm/drivers/chromedriver/mac64/96.0.4664.45/chromedriver] found in cache\n"
     ]
    },
    {
     "name": "stdout",
     "output_type": "stream",
     "text": [
      "llego a los huespedes\n",
      "llego a las características\n",
      "llego a los precios\n",
      "llego a los usos\n"
     ]
    },
    {
     "name": "stderr",
     "output_type": "stream",
     "text": [
      "\n",
      "\n",
      "====== WebDriver manager ======\n",
      "Current google-chrome version is 96.0.4664\n",
      "Get LATEST chromedriver version for 96.0.4664 google-chrome\n"
     ]
    },
    {
     "name": "stdout",
     "output_type": "stream",
     "text": [
      "593\n"
     ]
    },
    {
     "name": "stderr",
     "output_type": "stream",
     "text": [
      "Driver [/Users/franciscovispo/.wdm/drivers/chromedriver/mac64/96.0.4664.45/chromedriver] found in cache\n"
     ]
    },
    {
     "name": "stdout",
     "output_type": "stream",
     "text": [
      "llego a los huespedes\n",
      "llego a las características\n",
      "llego a los precios\n",
      "llego a los usos\n"
     ]
    },
    {
     "name": "stderr",
     "output_type": "stream",
     "text": [
      "\n",
      "\n",
      "====== WebDriver manager ======\n"
     ]
    },
    {
     "name": "stdout",
     "output_type": "stream",
     "text": [
      "594\n"
     ]
    },
    {
     "name": "stderr",
     "output_type": "stream",
     "text": [
      "Current google-chrome version is 96.0.4664\n",
      "Get LATEST chromedriver version for 96.0.4664 google-chrome\n",
      "Driver [/Users/franciscovispo/.wdm/drivers/chromedriver/mac64/96.0.4664.45/chromedriver] found in cache\n"
     ]
    },
    {
     "name": "stdout",
     "output_type": "stream",
     "text": [
      "llego a los huespedes\n",
      "llego a las características\n",
      "llego a los precios\n",
      "llego a los usos\n"
     ]
    },
    {
     "name": "stderr",
     "output_type": "stream",
     "text": [
      "\n",
      "\n",
      "====== WebDriver manager ======\n",
      "Current google-chrome version is 96.0.4664\n",
      "Get LATEST chromedriver version for 96.0.4664 google-chrome\n"
     ]
    },
    {
     "name": "stdout",
     "output_type": "stream",
     "text": [
      "595\n"
     ]
    },
    {
     "name": "stderr",
     "output_type": "stream",
     "text": [
      "Driver [/Users/franciscovispo/.wdm/drivers/chromedriver/mac64/96.0.4664.45/chromedriver] found in cache\n"
     ]
    },
    {
     "name": "stdout",
     "output_type": "stream",
     "text": [
      "llego a los huespedes\n",
      "llego a las características\n",
      "llego a los precios\n",
      "llego a los usos\n"
     ]
    },
    {
     "name": "stderr",
     "output_type": "stream",
     "text": [
      "\n",
      "\n",
      "====== WebDriver manager ======\n"
     ]
    },
    {
     "name": "stdout",
     "output_type": "stream",
     "text": [
      "596\n"
     ]
    },
    {
     "name": "stderr",
     "output_type": "stream",
     "text": [
      "Current google-chrome version is 96.0.4664\n",
      "Get LATEST chromedriver version for 96.0.4664 google-chrome\n",
      "Driver [/Users/franciscovispo/.wdm/drivers/chromedriver/mac64/96.0.4664.45/chromedriver] found in cache\n"
     ]
    },
    {
     "name": "stdout",
     "output_type": "stream",
     "text": [
      "llego a los huespedes\n",
      "llego a las características\n",
      "llego a los precios\n",
      "llego a los usos\n"
     ]
    },
    {
     "name": "stderr",
     "output_type": "stream",
     "text": [
      "\n",
      "\n",
      "====== WebDriver manager ======\n"
     ]
    },
    {
     "name": "stdout",
     "output_type": "stream",
     "text": [
      "597\n"
     ]
    },
    {
     "name": "stderr",
     "output_type": "stream",
     "text": [
      "Current google-chrome version is 96.0.4664\n",
      "Get LATEST chromedriver version for 96.0.4664 google-chrome\n",
      "Driver [/Users/franciscovispo/.wdm/drivers/chromedriver/mac64/96.0.4664.45/chromedriver] found in cache\n"
     ]
    },
    {
     "name": "stdout",
     "output_type": "stream",
     "text": [
      "llego a los huespedes\n",
      "llego a las características\n",
      "llego a los precios\n",
      "llego a los usos\n"
     ]
    },
    {
     "name": "stderr",
     "output_type": "stream",
     "text": [
      "\n",
      "\n",
      "====== WebDriver manager ======\n",
      "Current google-chrome version is 96.0.4664\n",
      "Get LATEST chromedriver version for 96.0.4664 google-chrome\n"
     ]
    },
    {
     "name": "stdout",
     "output_type": "stream",
     "text": [
      "598\n"
     ]
    },
    {
     "name": "stderr",
     "output_type": "stream",
     "text": [
      "Driver [/Users/franciscovispo/.wdm/drivers/chromedriver/mac64/96.0.4664.45/chromedriver] found in cache\n"
     ]
    },
    {
     "name": "stdout",
     "output_type": "stream",
     "text": [
      "llego a los huespedes\n",
      "llego a las características\n",
      "llego a los precios\n",
      "llego a los usos\n"
     ]
    },
    {
     "name": "stderr",
     "output_type": "stream",
     "text": [
      "\n",
      "\n",
      "====== WebDriver manager ======\n",
      "Current google-chrome version is 96.0.4664\n",
      "Get LATEST chromedriver version for 96.0.4664 google-chrome\n"
     ]
    },
    {
     "name": "stdout",
     "output_type": "stream",
     "text": [
      "599\n"
     ]
    },
    {
     "name": "stderr",
     "output_type": "stream",
     "text": [
      "Driver [/Users/franciscovispo/.wdm/drivers/chromedriver/mac64/96.0.4664.45/chromedriver] found in cache\n"
     ]
    },
    {
     "name": "stdout",
     "output_type": "stream",
     "text": [
      "llego a los huespedes\n",
      "llego a las características\n",
      "llego a los precios\n",
      "llego a los usos\n"
     ]
    },
    {
     "name": "stderr",
     "output_type": "stream",
     "text": [
      "\n",
      "\n",
      "====== WebDriver manager ======\n"
     ]
    },
    {
     "name": "stdout",
     "output_type": "stream",
     "text": [
      "600\n"
     ]
    },
    {
     "name": "stderr",
     "output_type": "stream",
     "text": [
      "Current google-chrome version is 96.0.4664\n",
      "Get LATEST chromedriver version for 96.0.4664 google-chrome\n",
      "Driver [/Users/franciscovispo/.wdm/drivers/chromedriver/mac64/96.0.4664.45/chromedriver] found in cache\n"
     ]
    },
    {
     "name": "stdout",
     "output_type": "stream",
     "text": [
      "llego a los huespedes\n",
      "llego a las características\n",
      "llego a los precios\n",
      "llego a los usos\n"
     ]
    },
    {
     "name": "stderr",
     "output_type": "stream",
     "text": [
      "\n",
      "\n",
      "====== WebDriver manager ======\n",
      "Current google-chrome version is 96.0.4664\n",
      "Get LATEST chromedriver version for 96.0.4664 google-chrome\n"
     ]
    },
    {
     "name": "stdout",
     "output_type": "stream",
     "text": [
      "601\n"
     ]
    },
    {
     "name": "stderr",
     "output_type": "stream",
     "text": [
      "Driver [/Users/franciscovispo/.wdm/drivers/chromedriver/mac64/96.0.4664.45/chromedriver] found in cache\n"
     ]
    },
    {
     "name": "stdout",
     "output_type": "stream",
     "text": [
      "llego a los huespedes\n",
      "llego a las características\n",
      "llego a los precios\n",
      "llego a los usos\n"
     ]
    },
    {
     "name": "stderr",
     "output_type": "stream",
     "text": [
      "\n",
      "\n",
      "====== WebDriver manager ======\n",
      "Current google-chrome version is 96.0.4664\n",
      "Get LATEST chromedriver version for 96.0.4664 google-chrome\n"
     ]
    },
    {
     "name": "stdout",
     "output_type": "stream",
     "text": [
      "602\n"
     ]
    },
    {
     "name": "stderr",
     "output_type": "stream",
     "text": [
      "Driver [/Users/franciscovispo/.wdm/drivers/chromedriver/mac64/96.0.4664.45/chromedriver] found in cache\n"
     ]
    },
    {
     "name": "stdout",
     "output_type": "stream",
     "text": [
      "llego a los huespedes\n",
      "llego a las características\n",
      "llego a los precios\n",
      "llego a los usos\n"
     ]
    },
    {
     "name": "stderr",
     "output_type": "stream",
     "text": [
      "\n",
      "\n",
      "====== WebDriver manager ======\n",
      "Current google-chrome version is 96.0.4664\n",
      "Get LATEST chromedriver version for 96.0.4664 google-chrome\n"
     ]
    },
    {
     "name": "stdout",
     "output_type": "stream",
     "text": [
      "603\n"
     ]
    },
    {
     "name": "stderr",
     "output_type": "stream",
     "text": [
      "Driver [/Users/franciscovispo/.wdm/drivers/chromedriver/mac64/96.0.4664.45/chromedriver] found in cache\n"
     ]
    },
    {
     "name": "stdout",
     "output_type": "stream",
     "text": [
      "llego a los huespedes\n",
      "llego a las características\n",
      "llego a los precios\n",
      "llego a los usos\n"
     ]
    },
    {
     "name": "stderr",
     "output_type": "stream",
     "text": [
      "\n",
      "\n",
      "====== WebDriver manager ======\n",
      "Current google-chrome version is 96.0.4664\n",
      "Get LATEST chromedriver version for 96.0.4664 google-chrome\n"
     ]
    },
    {
     "name": "stdout",
     "output_type": "stream",
     "text": [
      "604\n"
     ]
    },
    {
     "name": "stderr",
     "output_type": "stream",
     "text": [
      "Driver [/Users/franciscovispo/.wdm/drivers/chromedriver/mac64/96.0.4664.45/chromedriver] found in cache\n"
     ]
    },
    {
     "name": "stdout",
     "output_type": "stream",
     "text": [
      "llego a los huespedes\n",
      "llego a las características\n",
      "llego a los precios\n",
      "llego a los usos\n"
     ]
    },
    {
     "name": "stderr",
     "output_type": "stream",
     "text": [
      "\n",
      "\n",
      "====== WebDriver manager ======\n"
     ]
    },
    {
     "name": "stdout",
     "output_type": "stream",
     "text": [
      "605\n"
     ]
    },
    {
     "name": "stderr",
     "output_type": "stream",
     "text": [
      "Current google-chrome version is 96.0.4664\n",
      "Get LATEST chromedriver version for 96.0.4664 google-chrome\n",
      "Driver [/Users/franciscovispo/.wdm/drivers/chromedriver/mac64/96.0.4664.45/chromedriver] found in cache\n"
     ]
    },
    {
     "name": "stdout",
     "output_type": "stream",
     "text": [
      "llego a los huespedes\n",
      "llego a las características\n",
      "llego a los precios\n",
      "llego a los usos\n"
     ]
    },
    {
     "name": "stderr",
     "output_type": "stream",
     "text": [
      "\n",
      "\n",
      "====== WebDriver manager ======\n",
      "Current google-chrome version is 96.0.4664\n",
      "Get LATEST chromedriver version for 96.0.4664 google-chrome\n"
     ]
    },
    {
     "name": "stdout",
     "output_type": "stream",
     "text": [
      "606\n"
     ]
    },
    {
     "name": "stderr",
     "output_type": "stream",
     "text": [
      "Driver [/Users/franciscovispo/.wdm/drivers/chromedriver/mac64/96.0.4664.45/chromedriver] found in cache\n"
     ]
    },
    {
     "name": "stdout",
     "output_type": "stream",
     "text": [
      "llego a los huespedes\n",
      "llego a las características\n",
      "llego a los precios\n",
      "llego a los usos\n"
     ]
    },
    {
     "name": "stderr",
     "output_type": "stream",
     "text": [
      "\n",
      "\n",
      "====== WebDriver manager ======\n"
     ]
    },
    {
     "name": "stdout",
     "output_type": "stream",
     "text": [
      "607\n"
     ]
    },
    {
     "name": "stderr",
     "output_type": "stream",
     "text": [
      "Current google-chrome version is 96.0.4664\n",
      "Get LATEST chromedriver version for 96.0.4664 google-chrome\n",
      "Driver [/Users/franciscovispo/.wdm/drivers/chromedriver/mac64/96.0.4664.45/chromedriver] found in cache\n"
     ]
    },
    {
     "name": "stdout",
     "output_type": "stream",
     "text": [
      "llego a los huespedes\n",
      "llego a las características\n",
      "llego a los precios\n",
      "llego a los usos\n"
     ]
    },
    {
     "name": "stderr",
     "output_type": "stream",
     "text": [
      "\n",
      "\n",
      "====== WebDriver manager ======\n",
      "Current google-chrome version is 96.0.4664\n",
      "Get LATEST chromedriver version for 96.0.4664 google-chrome\n"
     ]
    },
    {
     "name": "stdout",
     "output_type": "stream",
     "text": [
      "608\n"
     ]
    },
    {
     "name": "stderr",
     "output_type": "stream",
     "text": [
      "Driver [/Users/franciscovispo/.wdm/drivers/chromedriver/mac64/96.0.4664.45/chromedriver] found in cache\n"
     ]
    },
    {
     "name": "stdout",
     "output_type": "stream",
     "text": [
      "llego a los huespedes\n",
      "llego a las características\n",
      "llego a los precios\n",
      "llego a los usos\n"
     ]
    },
    {
     "name": "stderr",
     "output_type": "stream",
     "text": [
      "\n",
      "\n",
      "====== WebDriver manager ======\n",
      "Current google-chrome version is 96.0.4664\n",
      "Get LATEST chromedriver version for 96.0.4664 google-chrome\n"
     ]
    },
    {
     "name": "stdout",
     "output_type": "stream",
     "text": [
      "609\n"
     ]
    },
    {
     "name": "stderr",
     "output_type": "stream",
     "text": [
      "Driver [/Users/franciscovispo/.wdm/drivers/chromedriver/mac64/96.0.4664.45/chromedriver] found in cache\n"
     ]
    },
    {
     "name": "stdout",
     "output_type": "stream",
     "text": [
      "llego a los huespedes\n",
      "llego a las características\n",
      "llego a los precios\n",
      "llego a los usos\n"
     ]
    },
    {
     "name": "stderr",
     "output_type": "stream",
     "text": [
      "\n",
      "\n",
      "====== WebDriver manager ======\n",
      "Current google-chrome version is 96.0.4664\n",
      "Get LATEST chromedriver version for 96.0.4664 google-chrome\n"
     ]
    },
    {
     "name": "stdout",
     "output_type": "stream",
     "text": [
      "610\n"
     ]
    },
    {
     "name": "stderr",
     "output_type": "stream",
     "text": [
      "Driver [/Users/franciscovispo/.wdm/drivers/chromedriver/mac64/96.0.4664.45/chromedriver] found in cache\n"
     ]
    },
    {
     "name": "stdout",
     "output_type": "stream",
     "text": [
      "llego a los huespedes\n",
      "llego a las características\n",
      "llego a los precios\n",
      "llego a los usos\n"
     ]
    },
    {
     "name": "stderr",
     "output_type": "stream",
     "text": [
      "\n",
      "\n",
      "====== WebDriver manager ======\n"
     ]
    },
    {
     "name": "stdout",
     "output_type": "stream",
     "text": [
      "611\n"
     ]
    },
    {
     "name": "stderr",
     "output_type": "stream",
     "text": [
      "Current google-chrome version is 96.0.4664\n",
      "Get LATEST chromedriver version for 96.0.4664 google-chrome\n",
      "Driver [/Users/franciscovispo/.wdm/drivers/chromedriver/mac64/96.0.4664.45/chromedriver] found in cache\n"
     ]
    },
    {
     "name": "stdout",
     "output_type": "stream",
     "text": [
      "llego a los huespedes\n",
      "llego a las características\n",
      "llego a los precios\n",
      "llego a los usos\n"
     ]
    },
    {
     "name": "stderr",
     "output_type": "stream",
     "text": [
      "\n",
      "\n",
      "====== WebDriver manager ======\n"
     ]
    },
    {
     "name": "stdout",
     "output_type": "stream",
     "text": [
      "612\n"
     ]
    },
    {
     "name": "stderr",
     "output_type": "stream",
     "text": [
      "Current google-chrome version is 96.0.4664\n",
      "Get LATEST chromedriver version for 96.0.4664 google-chrome\n",
      "Driver [/Users/franciscovispo/.wdm/drivers/chromedriver/mac64/96.0.4664.45/chromedriver] found in cache\n"
     ]
    },
    {
     "name": "stdout",
     "output_type": "stream",
     "text": [
      "llego a los huespedes\n",
      "llego a las características\n",
      "llego a los precios\n",
      "llego a los usos\n"
     ]
    },
    {
     "name": "stderr",
     "output_type": "stream",
     "text": [
      "\n",
      "\n",
      "====== WebDriver manager ======\n"
     ]
    },
    {
     "name": "stdout",
     "output_type": "stream",
     "text": [
      "613\n"
     ]
    },
    {
     "name": "stderr",
     "output_type": "stream",
     "text": [
      "Current google-chrome version is 96.0.4664\n",
      "Get LATEST chromedriver version for 96.0.4664 google-chrome\n",
      "Driver [/Users/franciscovispo/.wdm/drivers/chromedriver/mac64/96.0.4664.45/chromedriver] found in cache\n"
     ]
    },
    {
     "name": "stdout",
     "output_type": "stream",
     "text": [
      "llego a los huespedes\n",
      "llego a las características\n",
      "llego a los precios\n",
      "llego a los usos\n"
     ]
    },
    {
     "name": "stderr",
     "output_type": "stream",
     "text": [
      "\n",
      "\n",
      "====== WebDriver manager ======\n"
     ]
    },
    {
     "name": "stdout",
     "output_type": "stream",
     "text": [
      "614\n"
     ]
    },
    {
     "name": "stderr",
     "output_type": "stream",
     "text": [
      "Current google-chrome version is 96.0.4664\n",
      "Get LATEST chromedriver version for 96.0.4664 google-chrome\n",
      "Driver [/Users/franciscovispo/.wdm/drivers/chromedriver/mac64/96.0.4664.45/chromedriver] found in cache\n"
     ]
    },
    {
     "name": "stdout",
     "output_type": "stream",
     "text": [
      "llego a los huespedes\n",
      "llego a las características\n",
      "llego a los precios\n",
      "llego a los usos\n"
     ]
    },
    {
     "name": "stderr",
     "output_type": "stream",
     "text": [
      "\n",
      "\n",
      "====== WebDriver manager ======\n"
     ]
    },
    {
     "name": "stdout",
     "output_type": "stream",
     "text": [
      "615\n"
     ]
    },
    {
     "name": "stderr",
     "output_type": "stream",
     "text": [
      "Current google-chrome version is 96.0.4664\n",
      "Get LATEST chromedriver version for 96.0.4664 google-chrome\n",
      "Driver [/Users/franciscovispo/.wdm/drivers/chromedriver/mac64/96.0.4664.45/chromedriver] found in cache\n"
     ]
    },
    {
     "name": "stdout",
     "output_type": "stream",
     "text": [
      "llego a los huespedes\n",
      "llego a las características\n",
      "llego a los precios\n",
      "llego a los usos\n"
     ]
    },
    {
     "name": "stderr",
     "output_type": "stream",
     "text": [
      "\n",
      "\n",
      "====== WebDriver manager ======\n"
     ]
    },
    {
     "name": "stdout",
     "output_type": "stream",
     "text": [
      "616\n"
     ]
    },
    {
     "name": "stderr",
     "output_type": "stream",
     "text": [
      "Current google-chrome version is 96.0.4664\n",
      "Get LATEST chromedriver version for 96.0.4664 google-chrome\n",
      "Driver [/Users/franciscovispo/.wdm/drivers/chromedriver/mac64/96.0.4664.45/chromedriver] found in cache\n"
     ]
    },
    {
     "name": "stdout",
     "output_type": "stream",
     "text": [
      "llego a los huespedes\n",
      "llego a las características\n",
      "llego a los precios\n",
      "llego a los usos\n"
     ]
    },
    {
     "name": "stderr",
     "output_type": "stream",
     "text": [
      "\n",
      "\n",
      "====== WebDriver manager ======\n",
      "Current google-chrome version is 96.0.4664\n",
      "Get LATEST chromedriver version for 96.0.4664 google-chrome\n"
     ]
    },
    {
     "name": "stdout",
     "output_type": "stream",
     "text": [
      "617\n"
     ]
    },
    {
     "name": "stderr",
     "output_type": "stream",
     "text": [
      "Driver [/Users/franciscovispo/.wdm/drivers/chromedriver/mac64/96.0.4664.45/chromedriver] found in cache\n"
     ]
    },
    {
     "name": "stdout",
     "output_type": "stream",
     "text": [
      "llego a los huespedes\n",
      "llego a las características\n",
      "llego a los precios\n",
      "llego a los usos\n"
     ]
    },
    {
     "name": "stderr",
     "output_type": "stream",
     "text": [
      "\n",
      "\n",
      "====== WebDriver manager ======\n",
      "Current google-chrome version is 96.0.4664\n",
      "Get LATEST chromedriver version for 96.0.4664 google-chrome\n"
     ]
    },
    {
     "name": "stdout",
     "output_type": "stream",
     "text": [
      "618\n"
     ]
    },
    {
     "name": "stderr",
     "output_type": "stream",
     "text": [
      "Driver [/Users/franciscovispo/.wdm/drivers/chromedriver/mac64/96.0.4664.45/chromedriver] found in cache\n"
     ]
    },
    {
     "name": "stdout",
     "output_type": "stream",
     "text": [
      "llego a los huespedes\n",
      "llego a las características\n",
      "llego a los precios\n",
      "llego a los usos\n"
     ]
    },
    {
     "name": "stderr",
     "output_type": "stream",
     "text": [
      "\n",
      "\n",
      "====== WebDriver manager ======\n"
     ]
    },
    {
     "name": "stdout",
     "output_type": "stream",
     "text": [
      "619\n"
     ]
    },
    {
     "name": "stderr",
     "output_type": "stream",
     "text": [
      "Current google-chrome version is 96.0.4664\n",
      "Get LATEST chromedriver version for 96.0.4664 google-chrome\n",
      "Driver [/Users/franciscovispo/.wdm/drivers/chromedriver/mac64/96.0.4664.45/chromedriver] found in cache\n"
     ]
    },
    {
     "name": "stdout",
     "output_type": "stream",
     "text": [
      "llego a los huespedes\n",
      "llego a las características\n",
      "llego a los precios\n",
      "llego a los usos\n"
     ]
    },
    {
     "name": "stderr",
     "output_type": "stream",
     "text": [
      "\n",
      "\n",
      "====== WebDriver manager ======\n",
      "Current google-chrome version is 96.0.4664\n",
      "Get LATEST chromedriver version for 96.0.4664 google-chrome\n"
     ]
    },
    {
     "name": "stdout",
     "output_type": "stream",
     "text": [
      "620\n"
     ]
    },
    {
     "name": "stderr",
     "output_type": "stream",
     "text": [
      "Driver [/Users/franciscovispo/.wdm/drivers/chromedriver/mac64/96.0.4664.45/chromedriver] found in cache\n"
     ]
    },
    {
     "name": "stdout",
     "output_type": "stream",
     "text": [
      "llego a los huespedes\n",
      "llego a las características\n",
      "llego a los precios\n",
      "llego a los usos\n"
     ]
    },
    {
     "name": "stderr",
     "output_type": "stream",
     "text": [
      "\n",
      "\n",
      "====== WebDriver manager ======\n"
     ]
    },
    {
     "name": "stdout",
     "output_type": "stream",
     "text": [
      "621\n"
     ]
    },
    {
     "name": "stderr",
     "output_type": "stream",
     "text": [
      "Current google-chrome version is 96.0.4664\n",
      "Get LATEST chromedriver version for 96.0.4664 google-chrome\n",
      "Driver [/Users/franciscovispo/.wdm/drivers/chromedriver/mac64/96.0.4664.45/chromedriver] found in cache\n"
     ]
    },
    {
     "name": "stdout",
     "output_type": "stream",
     "text": [
      "llego a los huespedes\n",
      "llego a las características\n",
      "llego a los precios\n",
      "llego a los usos\n"
     ]
    },
    {
     "name": "stderr",
     "output_type": "stream",
     "text": [
      "\n",
      "\n",
      "====== WebDriver manager ======\n",
      "Current google-chrome version is 96.0.4664\n",
      "Get LATEST chromedriver version for 96.0.4664 google-chrome\n"
     ]
    },
    {
     "name": "stdout",
     "output_type": "stream",
     "text": [
      "622\n"
     ]
    },
    {
     "name": "stderr",
     "output_type": "stream",
     "text": [
      "Driver [/Users/franciscovispo/.wdm/drivers/chromedriver/mac64/96.0.4664.45/chromedriver] found in cache\n"
     ]
    },
    {
     "name": "stdout",
     "output_type": "stream",
     "text": [
      "llego a los huespedes\n",
      "llego a las características\n",
      "llego a los precios\n",
      "llego a los usos\n"
     ]
    },
    {
     "name": "stderr",
     "output_type": "stream",
     "text": [
      "\n",
      "\n",
      "====== WebDriver manager ======\n",
      "Current google-chrome version is 96.0.4664\n",
      "Get LATEST chromedriver version for 96.0.4664 google-chrome\n"
     ]
    },
    {
     "name": "stdout",
     "output_type": "stream",
     "text": [
      "623\n"
     ]
    },
    {
     "name": "stderr",
     "output_type": "stream",
     "text": [
      "Driver [/Users/franciscovispo/.wdm/drivers/chromedriver/mac64/96.0.4664.45/chromedriver] found in cache\n"
     ]
    },
    {
     "name": "stdout",
     "output_type": "stream",
     "text": [
      "llego a los huespedes\n",
      "llego a las características\n",
      "llego a los precios\n",
      "llego a los usos\n"
     ]
    },
    {
     "name": "stderr",
     "output_type": "stream",
     "text": [
      "\n",
      "\n",
      "====== WebDriver manager ======\n"
     ]
    },
    {
     "name": "stdout",
     "output_type": "stream",
     "text": [
      "624\n"
     ]
    },
    {
     "name": "stderr",
     "output_type": "stream",
     "text": [
      "Current google-chrome version is 96.0.4664\n",
      "Get LATEST chromedriver version for 96.0.4664 google-chrome\n",
      "Driver [/Users/franciscovispo/.wdm/drivers/chromedriver/mac64/96.0.4664.45/chromedriver] found in cache\n"
     ]
    },
    {
     "name": "stdout",
     "output_type": "stream",
     "text": [
      "llego a los huespedes\n",
      "llego a las características\n",
      "llego a los precios\n",
      "llego a los usos\n"
     ]
    },
    {
     "name": "stderr",
     "output_type": "stream",
     "text": [
      "\n",
      "\n",
      "====== WebDriver manager ======\n",
      "Current google-chrome version is 96.0.4664\n",
      "Get LATEST chromedriver version for 96.0.4664 google-chrome\n"
     ]
    },
    {
     "name": "stdout",
     "output_type": "stream",
     "text": [
      "625\n"
     ]
    },
    {
     "name": "stderr",
     "output_type": "stream",
     "text": [
      "Driver [/Users/franciscovispo/.wdm/drivers/chromedriver/mac64/96.0.4664.45/chromedriver] found in cache\n"
     ]
    },
    {
     "name": "stdout",
     "output_type": "stream",
     "text": [
      "llego a los huespedes\n",
      "llego a las características\n",
      "llego a los precios\n",
      "llego a los usos\n"
     ]
    },
    {
     "name": "stderr",
     "output_type": "stream",
     "text": [
      "\n",
      "\n",
      "====== WebDriver manager ======\n",
      "Current google-chrome version is 96.0.4664\n",
      "Get LATEST chromedriver version for 96.0.4664 google-chrome\n"
     ]
    },
    {
     "name": "stdout",
     "output_type": "stream",
     "text": [
      "626\n"
     ]
    },
    {
     "name": "stderr",
     "output_type": "stream",
     "text": [
      "Driver [/Users/franciscovispo/.wdm/drivers/chromedriver/mac64/96.0.4664.45/chromedriver] found in cache\n"
     ]
    },
    {
     "name": "stdout",
     "output_type": "stream",
     "text": [
      "llego a los huespedes\n",
      "llego a las características\n",
      "llego a los precios\n",
      "llego a los usos\n"
     ]
    },
    {
     "name": "stderr",
     "output_type": "stream",
     "text": [
      "\n",
      "\n",
      "====== WebDriver manager ======\n"
     ]
    },
    {
     "name": "stdout",
     "output_type": "stream",
     "text": [
      "627\n"
     ]
    },
    {
     "name": "stderr",
     "output_type": "stream",
     "text": [
      "Current google-chrome version is 96.0.4664\n",
      "Get LATEST chromedriver version for 96.0.4664 google-chrome\n",
      "Driver [/Users/franciscovispo/.wdm/drivers/chromedriver/mac64/96.0.4664.45/chromedriver] found in cache\n"
     ]
    },
    {
     "name": "stdout",
     "output_type": "stream",
     "text": [
      "llego a los huespedes\n",
      "llego a las características\n",
      "llego a los precios\n",
      "llego a los usos\n"
     ]
    },
    {
     "name": "stderr",
     "output_type": "stream",
     "text": [
      "\n",
      "\n",
      "====== WebDriver manager ======\n",
      "Current google-chrome version is 96.0.4664\n"
     ]
    },
    {
     "name": "stdout",
     "output_type": "stream",
     "text": [
      "628\n"
     ]
    },
    {
     "name": "stderr",
     "output_type": "stream",
     "text": [
      "Get LATEST chromedriver version for 96.0.4664 google-chrome\n",
      "Driver [/Users/franciscovispo/.wdm/drivers/chromedriver/mac64/96.0.4664.45/chromedriver] found in cache\n"
     ]
    },
    {
     "name": "stdout",
     "output_type": "stream",
     "text": [
      "llego a los huespedes\n",
      "llego a las características\n",
      "llego a los precios\n",
      "llego a los usos\n"
     ]
    },
    {
     "name": "stderr",
     "output_type": "stream",
     "text": [
      "\n",
      "\n",
      "====== WebDriver manager ======\n"
     ]
    },
    {
     "name": "stdout",
     "output_type": "stream",
     "text": [
      "629\n"
     ]
    },
    {
     "name": "stderr",
     "output_type": "stream",
     "text": [
      "Current google-chrome version is 96.0.4664\n",
      "Get LATEST chromedriver version for 96.0.4664 google-chrome\n",
      "Driver [/Users/franciscovispo/.wdm/drivers/chromedriver/mac64/96.0.4664.45/chromedriver] found in cache\n"
     ]
    },
    {
     "name": "stdout",
     "output_type": "stream",
     "text": [
      "llego a los huespedes\n",
      "llego a las características\n",
      "llego a los precios\n",
      "llego a los usos\n"
     ]
    },
    {
     "name": "stderr",
     "output_type": "stream",
     "text": [
      "\n",
      "\n",
      "====== WebDriver manager ======\n"
     ]
    },
    {
     "name": "stdout",
     "output_type": "stream",
     "text": [
      "630\n"
     ]
    },
    {
     "name": "stderr",
     "output_type": "stream",
     "text": [
      "Current google-chrome version is 96.0.4664\n",
      "Get LATEST chromedriver version for 96.0.4664 google-chrome\n",
      "Driver [/Users/franciscovispo/.wdm/drivers/chromedriver/mac64/96.0.4664.45/chromedriver] found in cache\n"
     ]
    },
    {
     "name": "stdout",
     "output_type": "stream",
     "text": [
      "llego a los huespedes\n",
      "llego a las características\n",
      "llego a los precios\n",
      "llego a los usos\n"
     ]
    },
    {
     "name": "stderr",
     "output_type": "stream",
     "text": [
      "\n",
      "\n",
      "====== WebDriver manager ======\n"
     ]
    },
    {
     "name": "stdout",
     "output_type": "stream",
     "text": [
      "631\n"
     ]
    },
    {
     "name": "stderr",
     "output_type": "stream",
     "text": [
      "Current google-chrome version is 96.0.4664\n",
      "Get LATEST chromedriver version for 96.0.4664 google-chrome\n",
      "Driver [/Users/franciscovispo/.wdm/drivers/chromedriver/mac64/96.0.4664.45/chromedriver] found in cache\n"
     ]
    },
    {
     "name": "stdout",
     "output_type": "stream",
     "text": [
      "llego a los huespedes\n",
      "llego a las características\n",
      "llego a los precios\n",
      "llego a los usos\n"
     ]
    },
    {
     "name": "stderr",
     "output_type": "stream",
     "text": [
      "\n",
      "\n",
      "====== WebDriver manager ======\n",
      "Current google-chrome version is 96.0.4664\n",
      "Get LATEST chromedriver version for 96.0.4664 google-chrome\n"
     ]
    },
    {
     "name": "stdout",
     "output_type": "stream",
     "text": [
      "632\n"
     ]
    },
    {
     "name": "stderr",
     "output_type": "stream",
     "text": [
      "Driver [/Users/franciscovispo/.wdm/drivers/chromedriver/mac64/96.0.4664.45/chromedriver] found in cache\n"
     ]
    },
    {
     "name": "stdout",
     "output_type": "stream",
     "text": [
      "llego a los huespedes\n",
      "llego a las características\n",
      "llego a los precios\n",
      "llego a los usos\n"
     ]
    },
    {
     "name": "stderr",
     "output_type": "stream",
     "text": [
      "\n",
      "\n",
      "====== WebDriver manager ======\n"
     ]
    },
    {
     "name": "stdout",
     "output_type": "stream",
     "text": [
      "633\n"
     ]
    },
    {
     "name": "stderr",
     "output_type": "stream",
     "text": [
      "Current google-chrome version is 96.0.4664\n",
      "Get LATEST chromedriver version for 96.0.4664 google-chrome\n",
      "Driver [/Users/franciscovispo/.wdm/drivers/chromedriver/mac64/96.0.4664.45/chromedriver] found in cache\n"
     ]
    },
    {
     "name": "stdout",
     "output_type": "stream",
     "text": [
      "llego a los huespedes\n",
      "llego a las características\n",
      "llego a los precios\n",
      "llego a los usos\n"
     ]
    },
    {
     "name": "stderr",
     "output_type": "stream",
     "text": [
      "\n",
      "\n",
      "====== WebDriver manager ======\n"
     ]
    },
    {
     "name": "stdout",
     "output_type": "stream",
     "text": [
      "634\n"
     ]
    },
    {
     "name": "stderr",
     "output_type": "stream",
     "text": [
      "Current google-chrome version is 96.0.4664\n",
      "Get LATEST chromedriver version for 96.0.4664 google-chrome\n",
      "Driver [/Users/franciscovispo/.wdm/drivers/chromedriver/mac64/96.0.4664.45/chromedriver] found in cache\n"
     ]
    },
    {
     "name": "stdout",
     "output_type": "stream",
     "text": [
      "llego a los huespedes\n",
      "llego a las características\n",
      "llego a los precios\n",
      "llego a los usos\n"
     ]
    },
    {
     "name": "stderr",
     "output_type": "stream",
     "text": [
      "\n",
      "\n",
      "====== WebDriver manager ======\n"
     ]
    },
    {
     "name": "stdout",
     "output_type": "stream",
     "text": [
      "635\n"
     ]
    },
    {
     "name": "stderr",
     "output_type": "stream",
     "text": [
      "Current google-chrome version is 96.0.4664\n",
      "Get LATEST chromedriver version for 96.0.4664 google-chrome\n",
      "Driver [/Users/franciscovispo/.wdm/drivers/chromedriver/mac64/96.0.4664.45/chromedriver] found in cache\n"
     ]
    },
    {
     "name": "stdout",
     "output_type": "stream",
     "text": [
      "llego a los huespedes\n",
      "llego a las características\n",
      "llego a los precios\n",
      "llego a los usos\n"
     ]
    },
    {
     "name": "stderr",
     "output_type": "stream",
     "text": [
      "\n",
      "\n",
      "====== WebDriver manager ======\n"
     ]
    },
    {
     "name": "stdout",
     "output_type": "stream",
     "text": [
      "636\n"
     ]
    },
    {
     "name": "stderr",
     "output_type": "stream",
     "text": [
      "Current google-chrome version is 96.0.4664\n",
      "Get LATEST chromedriver version for 96.0.4664 google-chrome\n",
      "Driver [/Users/franciscovispo/.wdm/drivers/chromedriver/mac64/96.0.4664.45/chromedriver] found in cache\n"
     ]
    },
    {
     "name": "stdout",
     "output_type": "stream",
     "text": [
      "llego a los huespedes\n",
      "llego a las características\n",
      "llego a los precios\n",
      "llego a los usos\n"
     ]
    },
    {
     "name": "stderr",
     "output_type": "stream",
     "text": [
      "\n",
      "\n",
      "====== WebDriver manager ======\n"
     ]
    },
    {
     "name": "stdout",
     "output_type": "stream",
     "text": [
      "637\n"
     ]
    },
    {
     "name": "stderr",
     "output_type": "stream",
     "text": [
      "Current google-chrome version is 96.0.4664\n",
      "Get LATEST chromedriver version for 96.0.4664 google-chrome\n",
      "Driver [/Users/franciscovispo/.wdm/drivers/chromedriver/mac64/96.0.4664.45/chromedriver] found in cache\n"
     ]
    },
    {
     "name": "stdout",
     "output_type": "stream",
     "text": [
      "llego a los huespedes\n",
      "llego a las características\n",
      "llego a los precios\n",
      "llego a los usos\n"
     ]
    },
    {
     "name": "stderr",
     "output_type": "stream",
     "text": [
      "\n",
      "\n",
      "====== WebDriver manager ======\n"
     ]
    },
    {
     "name": "stdout",
     "output_type": "stream",
     "text": [
      "638\n"
     ]
    },
    {
     "name": "stderr",
     "output_type": "stream",
     "text": [
      "Current google-chrome version is 96.0.4664\n",
      "Get LATEST chromedriver version for 96.0.4664 google-chrome\n",
      "Driver [/Users/franciscovispo/.wdm/drivers/chromedriver/mac64/96.0.4664.45/chromedriver] found in cache\n"
     ]
    },
    {
     "name": "stdout",
     "output_type": "stream",
     "text": [
      "llego a los huespedes\n",
      "llego a las características\n",
      "llego a los precios\n",
      "llego a los usos\n"
     ]
    },
    {
     "name": "stderr",
     "output_type": "stream",
     "text": [
      "\n",
      "\n",
      "====== WebDriver manager ======\n",
      "Current google-chrome version is 96.0.4664\n",
      "Get LATEST chromedriver version for 96.0.4664 google-chrome\n"
     ]
    },
    {
     "name": "stdout",
     "output_type": "stream",
     "text": [
      "639\n"
     ]
    },
    {
     "name": "stderr",
     "output_type": "stream",
     "text": [
      "Driver [/Users/franciscovispo/.wdm/drivers/chromedriver/mac64/96.0.4664.45/chromedriver] found in cache\n"
     ]
    },
    {
     "name": "stdout",
     "output_type": "stream",
     "text": [
      "llego a los huespedes\n",
      "llego a las características\n",
      "llego a los precios\n",
      "llego a los usos\n"
     ]
    },
    {
     "name": "stderr",
     "output_type": "stream",
     "text": [
      "\n",
      "\n",
      "====== WebDriver manager ======\n"
     ]
    },
    {
     "name": "stdout",
     "output_type": "stream",
     "text": [
      "640\n"
     ]
    },
    {
     "name": "stderr",
     "output_type": "stream",
     "text": [
      "Current google-chrome version is 96.0.4664\n",
      "Get LATEST chromedriver version for 96.0.4664 google-chrome\n",
      "Driver [/Users/franciscovispo/.wdm/drivers/chromedriver/mac64/96.0.4664.45/chromedriver] found in cache\n"
     ]
    },
    {
     "name": "stdout",
     "output_type": "stream",
     "text": [
      "llego a los huespedes\n",
      "llego a las características\n",
      "llego a los precios\n",
      "llego a los usos\n"
     ]
    },
    {
     "name": "stderr",
     "output_type": "stream",
     "text": [
      "\n",
      "\n",
      "====== WebDriver manager ======\n",
      "Current google-chrome version is 96.0.4664\n",
      "Get LATEST chromedriver version for 96.0.4664 google-chrome\n"
     ]
    },
    {
     "name": "stdout",
     "output_type": "stream",
     "text": [
      "641\n"
     ]
    },
    {
     "name": "stderr",
     "output_type": "stream",
     "text": [
      "Driver [/Users/franciscovispo/.wdm/drivers/chromedriver/mac64/96.0.4664.45/chromedriver] found in cache\n"
     ]
    },
    {
     "name": "stdout",
     "output_type": "stream",
     "text": [
      "llego a los huespedes\n",
      "llego a las características\n",
      "llego a los precios\n",
      "llego a los usos\n"
     ]
    },
    {
     "name": "stderr",
     "output_type": "stream",
     "text": [
      "\n",
      "\n",
      "====== WebDriver manager ======\n"
     ]
    },
    {
     "name": "stdout",
     "output_type": "stream",
     "text": [
      "642\n"
     ]
    },
    {
     "name": "stderr",
     "output_type": "stream",
     "text": [
      "Current google-chrome version is 96.0.4664\n",
      "Get LATEST chromedriver version for 96.0.4664 google-chrome\n",
      "Driver [/Users/franciscovispo/.wdm/drivers/chromedriver/mac64/96.0.4664.45/chromedriver] found in cache\n"
     ]
    },
    {
     "name": "stdout",
     "output_type": "stream",
     "text": [
      "llego a los huespedes\n",
      "llego a las características\n",
      "llego a los precios\n",
      "llego a los usos\n"
     ]
    },
    {
     "name": "stderr",
     "output_type": "stream",
     "text": [
      "\n",
      "\n",
      "====== WebDriver manager ======\n",
      "Current google-chrome version is 96.0.4664\n",
      "Get LATEST chromedriver version for 96.0.4664 google-chrome\n"
     ]
    },
    {
     "name": "stdout",
     "output_type": "stream",
     "text": [
      "643\n"
     ]
    },
    {
     "name": "stderr",
     "output_type": "stream",
     "text": [
      "Driver [/Users/franciscovispo/.wdm/drivers/chromedriver/mac64/96.0.4664.45/chromedriver] found in cache\n"
     ]
    },
    {
     "name": "stdout",
     "output_type": "stream",
     "text": [
      "llego a los huespedes\n",
      "llego a las características\n",
      "llego a los precios\n",
      "llego a los usos\n"
     ]
    },
    {
     "name": "stderr",
     "output_type": "stream",
     "text": [
      "\n",
      "\n",
      "====== WebDriver manager ======\n",
      "Current google-chrome version is 96.0.4664\n",
      "Get LATEST chromedriver version for 96.0.4664 google-chrome\n"
     ]
    },
    {
     "name": "stdout",
     "output_type": "stream",
     "text": [
      "644\n"
     ]
    },
    {
     "name": "stderr",
     "output_type": "stream",
     "text": [
      "Driver [/Users/franciscovispo/.wdm/drivers/chromedriver/mac64/96.0.4664.45/chromedriver] found in cache\n"
     ]
    },
    {
     "name": "stdout",
     "output_type": "stream",
     "text": [
      "llego a los huespedes\n",
      "llego a las características\n",
      "llego a los precios\n",
      "llego a los usos\n"
     ]
    },
    {
     "name": "stderr",
     "output_type": "stream",
     "text": [
      "\n",
      "\n",
      "====== WebDriver manager ======\n",
      "Current google-chrome version is 96.0.4664\n",
      "Get LATEST chromedriver version for 96.0.4664 google-chrome\n"
     ]
    },
    {
     "name": "stdout",
     "output_type": "stream",
     "text": [
      "645\n"
     ]
    },
    {
     "name": "stderr",
     "output_type": "stream",
     "text": [
      "Driver [/Users/franciscovispo/.wdm/drivers/chromedriver/mac64/96.0.4664.45/chromedriver] found in cache\n"
     ]
    },
    {
     "name": "stdout",
     "output_type": "stream",
     "text": [
      "llego a los huespedes\n",
      "llego a las características\n",
      "llego a los precios\n",
      "llego a los usos\n"
     ]
    },
    {
     "name": "stderr",
     "output_type": "stream",
     "text": [
      "\n",
      "\n",
      "====== WebDriver manager ======\n",
      "Current google-chrome version is 96.0.4664\n",
      "Get LATEST chromedriver version for 96.0.4664 google-chrome\n"
     ]
    },
    {
     "name": "stdout",
     "output_type": "stream",
     "text": [
      "646\n"
     ]
    },
    {
     "name": "stderr",
     "output_type": "stream",
     "text": [
      "Driver [/Users/franciscovispo/.wdm/drivers/chromedriver/mac64/96.0.4664.45/chromedriver] found in cache\n"
     ]
    },
    {
     "name": "stdout",
     "output_type": "stream",
     "text": [
      "llego a los huespedes\n",
      "llego a las características\n",
      "llego a los precios\n",
      "llego a los usos\n"
     ]
    },
    {
     "name": "stderr",
     "output_type": "stream",
     "text": [
      "\n",
      "\n",
      "====== WebDriver manager ======\n",
      "Current google-chrome version is 96.0.4664\n",
      "Get LATEST chromedriver version for 96.0.4664 google-chrome\n"
     ]
    },
    {
     "name": "stdout",
     "output_type": "stream",
     "text": [
      "647\n"
     ]
    },
    {
     "name": "stderr",
     "output_type": "stream",
     "text": [
      "Driver [/Users/franciscovispo/.wdm/drivers/chromedriver/mac64/96.0.4664.45/chromedriver] found in cache\n"
     ]
    },
    {
     "name": "stdout",
     "output_type": "stream",
     "text": [
      "llego a los huespedes\n",
      "llego a las características\n",
      "llego a los precios\n",
      "llego a los usos\n"
     ]
    },
    {
     "name": "stderr",
     "output_type": "stream",
     "text": [
      "\n",
      "\n",
      "====== WebDriver manager ======\n",
      "Current google-chrome version is 96.0.4664\n",
      "Get LATEST chromedriver version for 96.0.4664 google-chrome\n"
     ]
    },
    {
     "name": "stdout",
     "output_type": "stream",
     "text": [
      "648\n"
     ]
    },
    {
     "name": "stderr",
     "output_type": "stream",
     "text": [
      "Driver [/Users/franciscovispo/.wdm/drivers/chromedriver/mac64/96.0.4664.45/chromedriver] found in cache\n"
     ]
    },
    {
     "name": "stdout",
     "output_type": "stream",
     "text": [
      "llego a los huespedes\n",
      "llego a las características\n",
      "llego a los precios\n",
      "llego a los usos\n"
     ]
    },
    {
     "name": "stderr",
     "output_type": "stream",
     "text": [
      "\n",
      "\n",
      "====== WebDriver manager ======\n",
      "Current google-chrome version is 96.0.4664\n",
      "Get LATEST chromedriver version for 96.0.4664 google-chrome\n"
     ]
    },
    {
     "name": "stdout",
     "output_type": "stream",
     "text": [
      "649\n"
     ]
    },
    {
     "name": "stderr",
     "output_type": "stream",
     "text": [
      "Driver [/Users/franciscovispo/.wdm/drivers/chromedriver/mac64/96.0.4664.45/chromedriver] found in cache\n"
     ]
    },
    {
     "name": "stdout",
     "output_type": "stream",
     "text": [
      "llego a los huespedes\n",
      "llego a las características\n",
      "llego a los precios\n",
      "llego a los usos\n"
     ]
    },
    {
     "name": "stderr",
     "output_type": "stream",
     "text": [
      "\n",
      "\n",
      "====== WebDriver manager ======\n",
      "Current google-chrome version is 96.0.4664\n",
      "Get LATEST chromedriver version for 96.0.4664 google-chrome\n"
     ]
    },
    {
     "name": "stdout",
     "output_type": "stream",
     "text": [
      "650\n"
     ]
    },
    {
     "name": "stderr",
     "output_type": "stream",
     "text": [
      "Driver [/Users/franciscovispo/.wdm/drivers/chromedriver/mac64/96.0.4664.45/chromedriver] found in cache\n"
     ]
    },
    {
     "name": "stdout",
     "output_type": "stream",
     "text": [
      "llego a los huespedes\n",
      "llego a las características\n",
      "llego a los precios\n",
      "llego a los usos\n"
     ]
    },
    {
     "name": "stderr",
     "output_type": "stream",
     "text": [
      "\n",
      "\n",
      "====== WebDriver manager ======\n",
      "Current google-chrome version is 96.0.4664\n",
      "Get LATEST chromedriver version for 96.0.4664 google-chrome\n"
     ]
    },
    {
     "name": "stdout",
     "output_type": "stream",
     "text": [
      "651\n"
     ]
    },
    {
     "name": "stderr",
     "output_type": "stream",
     "text": [
      "Driver [/Users/franciscovispo/.wdm/drivers/chromedriver/mac64/96.0.4664.45/chromedriver] found in cache\n"
     ]
    },
    {
     "name": "stdout",
     "output_type": "stream",
     "text": [
      "llego a los huespedes\n",
      "llego a las características\n",
      "llego a los precios\n",
      "llego a los usos\n"
     ]
    },
    {
     "name": "stderr",
     "output_type": "stream",
     "text": [
      "\n",
      "\n",
      "====== WebDriver manager ======\n",
      "Current google-chrome version is 96.0.4664\n",
      "Get LATEST chromedriver version for 96.0.4664 google-chrome\n"
     ]
    },
    {
     "name": "stdout",
     "output_type": "stream",
     "text": [
      "652\n"
     ]
    },
    {
     "name": "stderr",
     "output_type": "stream",
     "text": [
      "Driver [/Users/franciscovispo/.wdm/drivers/chromedriver/mac64/96.0.4664.45/chromedriver] found in cache\n"
     ]
    },
    {
     "name": "stdout",
     "output_type": "stream",
     "text": [
      "llego a los huespedes\n",
      "llego a las características\n",
      "llego a los precios\n",
      "llego a los usos\n"
     ]
    },
    {
     "name": "stderr",
     "output_type": "stream",
     "text": [
      "\n",
      "\n",
      "====== WebDriver manager ======\n",
      "Current google-chrome version is 96.0.4664\n",
      "Get LATEST chromedriver version for 96.0.4664 google-chrome\n"
     ]
    },
    {
     "name": "stdout",
     "output_type": "stream",
     "text": [
      "653\n"
     ]
    },
    {
     "name": "stderr",
     "output_type": "stream",
     "text": [
      "Driver [/Users/franciscovispo/.wdm/drivers/chromedriver/mac64/96.0.4664.45/chromedriver] found in cache\n"
     ]
    },
    {
     "name": "stdout",
     "output_type": "stream",
     "text": [
      "llego a los huespedes\n",
      "llego a las características\n",
      "llego a los precios\n",
      "llego a los usos\n"
     ]
    },
    {
     "name": "stderr",
     "output_type": "stream",
     "text": [
      "\n",
      "\n",
      "====== WebDriver manager ======\n",
      "Current google-chrome version is 96.0.4664\n",
      "Get LATEST chromedriver version for 96.0.4664 google-chrome\n"
     ]
    },
    {
     "name": "stdout",
     "output_type": "stream",
     "text": [
      "654\n"
     ]
    },
    {
     "name": "stderr",
     "output_type": "stream",
     "text": [
      "Driver [/Users/franciscovispo/.wdm/drivers/chromedriver/mac64/96.0.4664.45/chromedriver] found in cache\n"
     ]
    },
    {
     "name": "stdout",
     "output_type": "stream",
     "text": [
      "llego a los huespedes\n",
      "llego a las características\n",
      "llego a los precios\n",
      "llego a los usos\n"
     ]
    },
    {
     "name": "stderr",
     "output_type": "stream",
     "text": [
      "\n",
      "\n",
      "====== WebDriver manager ======\n"
     ]
    },
    {
     "name": "stdout",
     "output_type": "stream",
     "text": [
      "655\n"
     ]
    },
    {
     "name": "stderr",
     "output_type": "stream",
     "text": [
      "Current google-chrome version is 96.0.4664\n",
      "Get LATEST chromedriver version for 96.0.4664 google-chrome\n",
      "Driver [/Users/franciscovispo/.wdm/drivers/chromedriver/mac64/96.0.4664.45/chromedriver] found in cache\n"
     ]
    },
    {
     "name": "stdout",
     "output_type": "stream",
     "text": [
      "llego a los huespedes\n",
      "llego a las características\n",
      "llego a los precios\n",
      "llego a los usos\n"
     ]
    },
    {
     "name": "stderr",
     "output_type": "stream",
     "text": [
      "\n",
      "\n",
      "====== WebDriver manager ======\n"
     ]
    },
    {
     "name": "stdout",
     "output_type": "stream",
     "text": [
      "656\n"
     ]
    },
    {
     "name": "stderr",
     "output_type": "stream",
     "text": [
      "Current google-chrome version is 96.0.4664\n",
      "Get LATEST chromedriver version for 96.0.4664 google-chrome\n",
      "Driver [/Users/franciscovispo/.wdm/drivers/chromedriver/mac64/96.0.4664.45/chromedriver] found in cache\n"
     ]
    },
    {
     "name": "stdout",
     "output_type": "stream",
     "text": [
      "llego a los huespedes\n",
      "llego a las características\n",
      "llego a los precios\n",
      "llego a los usos\n"
     ]
    },
    {
     "name": "stderr",
     "output_type": "stream",
     "text": [
      "\n",
      "\n",
      "====== WebDriver manager ======\n"
     ]
    },
    {
     "name": "stdout",
     "output_type": "stream",
     "text": [
      "657\n"
     ]
    },
    {
     "name": "stderr",
     "output_type": "stream",
     "text": [
      "Current google-chrome version is 96.0.4664\n",
      "Get LATEST chromedriver version for 96.0.4664 google-chrome\n",
      "Driver [/Users/franciscovispo/.wdm/drivers/chromedriver/mac64/96.0.4664.45/chromedriver] found in cache\n"
     ]
    },
    {
     "name": "stdout",
     "output_type": "stream",
     "text": [
      "llego a los huespedes\n",
      "llego a las características\n",
      "llego a los precios\n",
      "llego a los usos\n"
     ]
    },
    {
     "name": "stderr",
     "output_type": "stream",
     "text": [
      "\n",
      "\n",
      "====== WebDriver manager ======\n"
     ]
    },
    {
     "name": "stdout",
     "output_type": "stream",
     "text": [
      "658\n"
     ]
    },
    {
     "name": "stderr",
     "output_type": "stream",
     "text": [
      "Current google-chrome version is 96.0.4664\n",
      "Get LATEST chromedriver version for 96.0.4664 google-chrome\n",
      "Driver [/Users/franciscovispo/.wdm/drivers/chromedriver/mac64/96.0.4664.45/chromedriver] found in cache\n"
     ]
    },
    {
     "name": "stdout",
     "output_type": "stream",
     "text": [
      "llego a los huespedes\n",
      "llego a las características\n",
      "llego a los precios\n",
      "llego a los usos\n"
     ]
    },
    {
     "name": "stderr",
     "output_type": "stream",
     "text": [
      "\n",
      "\n",
      "====== WebDriver manager ======\n"
     ]
    },
    {
     "name": "stdout",
     "output_type": "stream",
     "text": [
      "659\n"
     ]
    },
    {
     "name": "stderr",
     "output_type": "stream",
     "text": [
      "Current google-chrome version is 96.0.4664\n",
      "Get LATEST chromedriver version for 96.0.4664 google-chrome\n",
      "Driver [/Users/franciscovispo/.wdm/drivers/chromedriver/mac64/96.0.4664.45/chromedriver] found in cache\n"
     ]
    },
    {
     "name": "stdout",
     "output_type": "stream",
     "text": [
      "llego a los huespedes\n",
      "llego a las características\n",
      "llego a los precios\n",
      "llego a los usos\n"
     ]
    },
    {
     "name": "stderr",
     "output_type": "stream",
     "text": [
      "\n",
      "\n",
      "====== WebDriver manager ======\n",
      "Current google-chrome version is 96.0.4664\n",
      "Get LATEST chromedriver version for 96.0.4664 google-chrome\n"
     ]
    },
    {
     "name": "stdout",
     "output_type": "stream",
     "text": [
      "660\n"
     ]
    },
    {
     "name": "stderr",
     "output_type": "stream",
     "text": [
      "Driver [/Users/franciscovispo/.wdm/drivers/chromedriver/mac64/96.0.4664.45/chromedriver] found in cache\n"
     ]
    },
    {
     "name": "stdout",
     "output_type": "stream",
     "text": [
      "llego a los huespedes\n",
      "llego a las características\n",
      "llego a los precios\n",
      "llego a los usos\n"
     ]
    },
    {
     "name": "stderr",
     "output_type": "stream",
     "text": [
      "\n",
      "\n",
      "====== WebDriver manager ======\n",
      "Current google-chrome version is 96.0.4664\n",
      "Get LATEST chromedriver version for 96.0.4664 google-chrome\n"
     ]
    },
    {
     "name": "stdout",
     "output_type": "stream",
     "text": [
      "661\n"
     ]
    },
    {
     "name": "stderr",
     "output_type": "stream",
     "text": [
      "Driver [/Users/franciscovispo/.wdm/drivers/chromedriver/mac64/96.0.4664.45/chromedriver] found in cache\n"
     ]
    },
    {
     "name": "stdout",
     "output_type": "stream",
     "text": [
      "llego a los huespedes\n",
      "llego a las características\n",
      "llego a los precios\n",
      "llego a los usos\n"
     ]
    },
    {
     "name": "stderr",
     "output_type": "stream",
     "text": [
      "\n",
      "\n",
      "====== WebDriver manager ======\n"
     ]
    },
    {
     "name": "stdout",
     "output_type": "stream",
     "text": [
      "662\n"
     ]
    },
    {
     "name": "stderr",
     "output_type": "stream",
     "text": [
      "Current google-chrome version is 96.0.4664\n",
      "Get LATEST chromedriver version for 96.0.4664 google-chrome\n",
      "Driver [/Users/franciscovispo/.wdm/drivers/chromedriver/mac64/96.0.4664.45/chromedriver] found in cache\n"
     ]
    },
    {
     "name": "stdout",
     "output_type": "stream",
     "text": [
      "llego a los huespedes\n",
      "llego a las características\n",
      "llego a los precios\n",
      "llego a los usos\n"
     ]
    },
    {
     "name": "stderr",
     "output_type": "stream",
     "text": [
      "\n",
      "\n",
      "====== WebDriver manager ======\n"
     ]
    },
    {
     "name": "stdout",
     "output_type": "stream",
     "text": [
      "663\n"
     ]
    },
    {
     "name": "stderr",
     "output_type": "stream",
     "text": [
      "Current google-chrome version is 96.0.4664\n",
      "Get LATEST chromedriver version for 96.0.4664 google-chrome\n",
      "Driver [/Users/franciscovispo/.wdm/drivers/chromedriver/mac64/96.0.4664.45/chromedriver] found in cache\n"
     ]
    },
    {
     "name": "stdout",
     "output_type": "stream",
     "text": [
      "llego a los huespedes\n",
      "llego a las características\n",
      "llego a los precios\n",
      "llego a los usos\n"
     ]
    },
    {
     "name": "stderr",
     "output_type": "stream",
     "text": [
      "\n",
      "\n",
      "====== WebDriver manager ======\n"
     ]
    },
    {
     "name": "stdout",
     "output_type": "stream",
     "text": [
      "664\n"
     ]
    },
    {
     "name": "stderr",
     "output_type": "stream",
     "text": [
      "Current google-chrome version is 96.0.4664\n",
      "Get LATEST chromedriver version for 96.0.4664 google-chrome\n",
      "Driver [/Users/franciscovispo/.wdm/drivers/chromedriver/mac64/96.0.4664.45/chromedriver] found in cache\n"
     ]
    },
    {
     "name": "stdout",
     "output_type": "stream",
     "text": [
      "llego a los huespedes\n",
      "llego a las características\n",
      "llego a los precios\n",
      "llego a los usos\n"
     ]
    },
    {
     "name": "stderr",
     "output_type": "stream",
     "text": [
      "\n",
      "\n",
      "====== WebDriver manager ======\n"
     ]
    },
    {
     "name": "stdout",
     "output_type": "stream",
     "text": [
      "665\n"
     ]
    },
    {
     "name": "stderr",
     "output_type": "stream",
     "text": [
      "Current google-chrome version is 96.0.4664\n",
      "Get LATEST chromedriver version for 96.0.4664 google-chrome\n",
      "Driver [/Users/franciscovispo/.wdm/drivers/chromedriver/mac64/96.0.4664.45/chromedriver] found in cache\n"
     ]
    },
    {
     "name": "stdout",
     "output_type": "stream",
     "text": [
      "llego a los huespedes\n",
      "llego a las características\n",
      "llego a los precios\n",
      "llego a los usos\n"
     ]
    },
    {
     "name": "stderr",
     "output_type": "stream",
     "text": [
      "\n",
      "\n",
      "====== WebDriver manager ======\n",
      "Current google-chrome version is 96.0.4664\n",
      "Get LATEST chromedriver version for 96.0.4664 google-chrome\n"
     ]
    },
    {
     "name": "stdout",
     "output_type": "stream",
     "text": [
      "666\n"
     ]
    },
    {
     "name": "stderr",
     "output_type": "stream",
     "text": [
      "Driver [/Users/franciscovispo/.wdm/drivers/chromedriver/mac64/96.0.4664.45/chromedriver] found in cache\n"
     ]
    },
    {
     "name": "stdout",
     "output_type": "stream",
     "text": [
      "llego a los huespedes\n",
      "llego a las características\n",
      "llego a los precios\n",
      "llego a los usos\n"
     ]
    },
    {
     "name": "stderr",
     "output_type": "stream",
     "text": [
      "\n",
      "\n",
      "====== WebDriver manager ======\n"
     ]
    },
    {
     "name": "stdout",
     "output_type": "stream",
     "text": [
      "667\n"
     ]
    },
    {
     "name": "stderr",
     "output_type": "stream",
     "text": [
      "Current google-chrome version is 96.0.4664\n",
      "Get LATEST chromedriver version for 96.0.4664 google-chrome\n",
      "Driver [/Users/franciscovispo/.wdm/drivers/chromedriver/mac64/96.0.4664.45/chromedriver] found in cache\n"
     ]
    },
    {
     "name": "stdout",
     "output_type": "stream",
     "text": [
      "llego a los huespedes\n",
      "llego a las características\n",
      "llego a los precios\n",
      "llego a los usos\n"
     ]
    },
    {
     "name": "stderr",
     "output_type": "stream",
     "text": [
      "\n",
      "\n",
      "====== WebDriver manager ======\n"
     ]
    },
    {
     "name": "stdout",
     "output_type": "stream",
     "text": [
      "668\n"
     ]
    },
    {
     "name": "stderr",
     "output_type": "stream",
     "text": [
      "Current google-chrome version is 96.0.4664\n",
      "Get LATEST chromedriver version for 96.0.4664 google-chrome\n",
      "Driver [/Users/franciscovispo/.wdm/drivers/chromedriver/mac64/96.0.4664.45/chromedriver] found in cache\n"
     ]
    },
    {
     "name": "stdout",
     "output_type": "stream",
     "text": [
      "llego a los huespedes\n",
      "llego a las características\n",
      "llego a los precios\n",
      "llego a los usos\n"
     ]
    },
    {
     "name": "stderr",
     "output_type": "stream",
     "text": [
      "\n",
      "\n",
      "====== WebDriver manager ======\n",
      "Current google-chrome version is 96.0.4664\n",
      "Get LATEST chromedriver version for 96.0.4664 google-chrome\n"
     ]
    },
    {
     "name": "stdout",
     "output_type": "stream",
     "text": [
      "669\n"
     ]
    },
    {
     "name": "stderr",
     "output_type": "stream",
     "text": [
      "Driver [/Users/franciscovispo/.wdm/drivers/chromedriver/mac64/96.0.4664.45/chromedriver] found in cache\n"
     ]
    },
    {
     "name": "stdout",
     "output_type": "stream",
     "text": [
      "llego a los huespedes\n",
      "llego a las características\n",
      "llego a los precios\n",
      "llego a los usos\n"
     ]
    },
    {
     "name": "stderr",
     "output_type": "stream",
     "text": [
      "\n",
      "\n",
      "====== WebDriver manager ======\n",
      "Current google-chrome version is 96.0.4664\n",
      "Get LATEST chromedriver version for 96.0.4664 google-chrome\n"
     ]
    },
    {
     "name": "stdout",
     "output_type": "stream",
     "text": [
      "670\n"
     ]
    },
    {
     "name": "stderr",
     "output_type": "stream",
     "text": [
      "Driver [/Users/franciscovispo/.wdm/drivers/chromedriver/mac64/96.0.4664.45/chromedriver] found in cache\n"
     ]
    },
    {
     "name": "stdout",
     "output_type": "stream",
     "text": [
      "llego a los huespedes\n",
      "llego a las características\n",
      "llego a los precios\n",
      "llego a los usos\n"
     ]
    },
    {
     "name": "stderr",
     "output_type": "stream",
     "text": [
      "\n",
      "\n",
      "====== WebDriver manager ======\n"
     ]
    },
    {
     "name": "stdout",
     "output_type": "stream",
     "text": [
      "671\n"
     ]
    },
    {
     "name": "stderr",
     "output_type": "stream",
     "text": [
      "Current google-chrome version is 96.0.4664\n",
      "Get LATEST chromedriver version for 96.0.4664 google-chrome\n",
      "Driver [/Users/franciscovispo/.wdm/drivers/chromedriver/mac64/96.0.4664.45/chromedriver] found in cache\n"
     ]
    },
    {
     "name": "stdout",
     "output_type": "stream",
     "text": [
      "llego a los huespedes\n",
      "llego a las características\n",
      "llego a los precios\n",
      "llego a los usos\n"
     ]
    },
    {
     "name": "stderr",
     "output_type": "stream",
     "text": [
      "\n",
      "\n",
      "====== WebDriver manager ======\n"
     ]
    },
    {
     "name": "stdout",
     "output_type": "stream",
     "text": [
      "672\n"
     ]
    },
    {
     "name": "stderr",
     "output_type": "stream",
     "text": [
      "Current google-chrome version is 96.0.4664\n",
      "Get LATEST chromedriver version for 96.0.4664 google-chrome\n",
      "Driver [/Users/franciscovispo/.wdm/drivers/chromedriver/mac64/96.0.4664.45/chromedriver] found in cache\n"
     ]
    },
    {
     "name": "stdout",
     "output_type": "stream",
     "text": [
      "llego a los huespedes\n",
      "llego a las características\n",
      "llego a los precios\n",
      "llego a los usos\n"
     ]
    },
    {
     "name": "stderr",
     "output_type": "stream",
     "text": [
      "\n",
      "\n",
      "====== WebDriver manager ======\n"
     ]
    },
    {
     "name": "stdout",
     "output_type": "stream",
     "text": [
      "673\n"
     ]
    },
    {
     "name": "stderr",
     "output_type": "stream",
     "text": [
      "Current google-chrome version is 96.0.4664\n",
      "Get LATEST chromedriver version for 96.0.4664 google-chrome\n",
      "Driver [/Users/franciscovispo/.wdm/drivers/chromedriver/mac64/96.0.4664.45/chromedriver] found in cache\n"
     ]
    },
    {
     "name": "stdout",
     "output_type": "stream",
     "text": [
      "llego a los huespedes\n",
      "llego a las características\n",
      "llego a los precios\n",
      "llego a los usos\n"
     ]
    },
    {
     "name": "stderr",
     "output_type": "stream",
     "text": [
      "\n",
      "\n",
      "====== WebDriver manager ======\n"
     ]
    },
    {
     "name": "stdout",
     "output_type": "stream",
     "text": [
      "674\n"
     ]
    },
    {
     "name": "stderr",
     "output_type": "stream",
     "text": [
      "Current google-chrome version is 96.0.4664\n",
      "Get LATEST chromedriver version for 96.0.4664 google-chrome\n",
      "Driver [/Users/franciscovispo/.wdm/drivers/chromedriver/mac64/96.0.4664.45/chromedriver] found in cache\n"
     ]
    },
    {
     "name": "stdout",
     "output_type": "stream",
     "text": [
      "llego a los huespedes\n",
      "llego a las características\n",
      "llego a los precios\n",
      "llego a los usos\n"
     ]
    },
    {
     "name": "stderr",
     "output_type": "stream",
     "text": [
      "\n",
      "\n",
      "====== WebDriver manager ======\n",
      "Current google-chrome version is 96.0.4664\n",
      "Get LATEST chromedriver version for 96.0.4664 google-chrome\n"
     ]
    },
    {
     "name": "stdout",
     "output_type": "stream",
     "text": [
      "675\n"
     ]
    },
    {
     "name": "stderr",
     "output_type": "stream",
     "text": [
      "Driver [/Users/franciscovispo/.wdm/drivers/chromedriver/mac64/96.0.4664.45/chromedriver] found in cache\n"
     ]
    },
    {
     "name": "stdout",
     "output_type": "stream",
     "text": [
      "llego a los huespedes\n",
      "llego a las características\n",
      "llego a los precios\n",
      "llego a los usos\n"
     ]
    },
    {
     "name": "stderr",
     "output_type": "stream",
     "text": [
      "\n",
      "\n",
      "====== WebDriver manager ======\n"
     ]
    },
    {
     "name": "stdout",
     "output_type": "stream",
     "text": [
      "676\n"
     ]
    },
    {
     "name": "stderr",
     "output_type": "stream",
     "text": [
      "Current google-chrome version is 96.0.4664\n",
      "Get LATEST chromedriver version for 96.0.4664 google-chrome\n",
      "Driver [/Users/franciscovispo/.wdm/drivers/chromedriver/mac64/96.0.4664.45/chromedriver] found in cache\n"
     ]
    },
    {
     "name": "stdout",
     "output_type": "stream",
     "text": [
      "llego a los huespedes\n",
      "llego a las características\n",
      "llego a los precios\n",
      "llego a los usos\n"
     ]
    },
    {
     "name": "stderr",
     "output_type": "stream",
     "text": [
      "\n",
      "\n",
      "====== WebDriver manager ======\n",
      "Current google-chrome version is 96.0.4664\n",
      "Get LATEST chromedriver version for 96.0.4664 google-chrome\n"
     ]
    },
    {
     "name": "stdout",
     "output_type": "stream",
     "text": [
      "677\n"
     ]
    },
    {
     "name": "stderr",
     "output_type": "stream",
     "text": [
      "Driver [/Users/franciscovispo/.wdm/drivers/chromedriver/mac64/96.0.4664.45/chromedriver] found in cache\n"
     ]
    },
    {
     "name": "stdout",
     "output_type": "stream",
     "text": [
      "llego a los huespedes\n",
      "llego a las características\n",
      "llego a los precios\n",
      "llego a los usos\n"
     ]
    },
    {
     "name": "stderr",
     "output_type": "stream",
     "text": [
      "\n",
      "\n",
      "====== WebDriver manager ======\n"
     ]
    },
    {
     "name": "stdout",
     "output_type": "stream",
     "text": [
      "678\n"
     ]
    },
    {
     "name": "stderr",
     "output_type": "stream",
     "text": [
      "Current google-chrome version is 96.0.4664\n",
      "Get LATEST chromedriver version for 96.0.4664 google-chrome\n",
      "Driver [/Users/franciscovispo/.wdm/drivers/chromedriver/mac64/96.0.4664.45/chromedriver] found in cache\n"
     ]
    },
    {
     "name": "stdout",
     "output_type": "stream",
     "text": [
      "llego a los huespedes\n",
      "llego a las características\n",
      "llego a los precios\n",
      "llego a los usos\n"
     ]
    },
    {
     "name": "stderr",
     "output_type": "stream",
     "text": [
      "\n",
      "\n",
      "====== WebDriver manager ======\n"
     ]
    },
    {
     "name": "stdout",
     "output_type": "stream",
     "text": [
      "679\n"
     ]
    },
    {
     "name": "stderr",
     "output_type": "stream",
     "text": [
      "Current google-chrome version is 96.0.4664\n",
      "Get LATEST chromedriver version for 96.0.4664 google-chrome\n",
      "Driver [/Users/franciscovispo/.wdm/drivers/chromedriver/mac64/96.0.4664.45/chromedriver] found in cache\n"
     ]
    },
    {
     "name": "stdout",
     "output_type": "stream",
     "text": [
      "llego a los huespedes\n",
      "llego a las características\n",
      "llego a los precios\n",
      "llego a los usos\n"
     ]
    },
    {
     "name": "stderr",
     "output_type": "stream",
     "text": [
      "\n",
      "\n",
      "====== WebDriver manager ======\n",
      "Current google-chrome version is 96.0.4664\n",
      "Get LATEST chromedriver version for 96.0.4664 google-chrome\n"
     ]
    },
    {
     "name": "stdout",
     "output_type": "stream",
     "text": [
      "680\n"
     ]
    },
    {
     "name": "stderr",
     "output_type": "stream",
     "text": [
      "Driver [/Users/franciscovispo/.wdm/drivers/chromedriver/mac64/96.0.4664.45/chromedriver] found in cache\n"
     ]
    },
    {
     "name": "stdout",
     "output_type": "stream",
     "text": [
      "llego a los huespedes\n",
      "llego a las características\n",
      "llego a los precios\n",
      "llego a los usos\n"
     ]
    },
    {
     "name": "stderr",
     "output_type": "stream",
     "text": [
      "\n",
      "\n",
      "====== WebDriver manager ======\n"
     ]
    },
    {
     "name": "stdout",
     "output_type": "stream",
     "text": [
      "681\n"
     ]
    },
    {
     "name": "stderr",
     "output_type": "stream",
     "text": [
      "Current google-chrome version is 96.0.4664\n",
      "Get LATEST chromedriver version for 96.0.4664 google-chrome\n",
      "Driver [/Users/franciscovispo/.wdm/drivers/chromedriver/mac64/96.0.4664.45/chromedriver] found in cache\n"
     ]
    },
    {
     "name": "stdout",
     "output_type": "stream",
     "text": [
      "llego a los huespedes\n",
      "llego a las características\n",
      "llego a los precios\n",
      "llego a los usos\n"
     ]
    },
    {
     "name": "stderr",
     "output_type": "stream",
     "text": [
      "\n",
      "\n",
      "====== WebDriver manager ======\n"
     ]
    },
    {
     "name": "stdout",
     "output_type": "stream",
     "text": [
      "682\n"
     ]
    },
    {
     "name": "stderr",
     "output_type": "stream",
     "text": [
      "Current google-chrome version is 96.0.4664\n",
      "Get LATEST chromedriver version for 96.0.4664 google-chrome\n",
      "Driver [/Users/franciscovispo/.wdm/drivers/chromedriver/mac64/96.0.4664.45/chromedriver] found in cache\n"
     ]
    },
    {
     "name": "stdout",
     "output_type": "stream",
     "text": [
      "llego a los huespedes\n",
      "llego a las características\n",
      "llego a los precios\n",
      "llego a los usos\n"
     ]
    },
    {
     "name": "stderr",
     "output_type": "stream",
     "text": [
      "\n",
      "\n",
      "====== WebDriver manager ======\n",
      "Current google-chrome version is 96.0.4664\n",
      "Get LATEST chromedriver version for 96.0.4664 google-chrome\n"
     ]
    },
    {
     "name": "stdout",
     "output_type": "stream",
     "text": [
      "683\n"
     ]
    },
    {
     "name": "stderr",
     "output_type": "stream",
     "text": [
      "Driver [/Users/franciscovispo/.wdm/drivers/chromedriver/mac64/96.0.4664.45/chromedriver] found in cache\n"
     ]
    },
    {
     "name": "stdout",
     "output_type": "stream",
     "text": [
      "llego a los huespedes\n",
      "llego a las características\n",
      "llego a los precios\n",
      "llego a los usos\n"
     ]
    },
    {
     "name": "stderr",
     "output_type": "stream",
     "text": [
      "\n",
      "\n",
      "====== WebDriver manager ======\n",
      "Current google-chrome version is 96.0.4664\n",
      "Get LATEST chromedriver version for 96.0.4664 google-chrome\n"
     ]
    },
    {
     "name": "stdout",
     "output_type": "stream",
     "text": [
      "684\n"
     ]
    },
    {
     "name": "stderr",
     "output_type": "stream",
     "text": [
      "Driver [/Users/franciscovispo/.wdm/drivers/chromedriver/mac64/96.0.4664.45/chromedriver] found in cache\n"
     ]
    },
    {
     "name": "stdout",
     "output_type": "stream",
     "text": [
      "llego a los huespedes\n",
      "llego a las características\n",
      "llego a los precios\n",
      "llego a los usos\n"
     ]
    },
    {
     "name": "stderr",
     "output_type": "stream",
     "text": [
      "\n",
      "\n",
      "====== WebDriver manager ======\n",
      "Current google-chrome version is 96.0.4664\n",
      "Get LATEST chromedriver version for 96.0.4664 google-chrome\n"
     ]
    },
    {
     "name": "stdout",
     "output_type": "stream",
     "text": [
      "685\n"
     ]
    },
    {
     "name": "stderr",
     "output_type": "stream",
     "text": [
      "Driver [/Users/franciscovispo/.wdm/drivers/chromedriver/mac64/96.0.4664.45/chromedriver] found in cache\n"
     ]
    },
    {
     "name": "stdout",
     "output_type": "stream",
     "text": [
      "llego a los huespedes\n",
      "llego a las características\n",
      "llego a los precios\n"
     ]
    },
    {
     "name": "stderr",
     "output_type": "stream",
     "text": [
      "\n",
      "\n",
      "====== WebDriver manager ======\n"
     ]
    },
    {
     "name": "stdout",
     "output_type": "stream",
     "text": [
      "686\n"
     ]
    },
    {
     "name": "stderr",
     "output_type": "stream",
     "text": [
      "Current google-chrome version is 96.0.4664\n",
      "Get LATEST chromedriver version for 96.0.4664 google-chrome\n",
      "Driver [/Users/franciscovispo/.wdm/drivers/chromedriver/mac64/96.0.4664.45/chromedriver] found in cache\n"
     ]
    },
    {
     "name": "stdout",
     "output_type": "stream",
     "text": [
      "llego a los huespedes\n",
      "llego a las características\n",
      "llego a los precios\n",
      "llego a los usos\n"
     ]
    },
    {
     "name": "stderr",
     "output_type": "stream",
     "text": [
      "\n",
      "\n",
      "====== WebDriver manager ======\n",
      "Current google-chrome version is 96.0.4664\n",
      "Get LATEST chromedriver version for 96.0.4664 google-chrome\n"
     ]
    },
    {
     "name": "stdout",
     "output_type": "stream",
     "text": [
      "687\n"
     ]
    },
    {
     "name": "stderr",
     "output_type": "stream",
     "text": [
      "Driver [/Users/franciscovispo/.wdm/drivers/chromedriver/mac64/96.0.4664.45/chromedriver] found in cache\n"
     ]
    },
    {
     "name": "stdout",
     "output_type": "stream",
     "text": [
      "llego a los huespedes\n",
      "llego a las características\n",
      "llego a los precios\n",
      "llego a los usos\n"
     ]
    },
    {
     "name": "stderr",
     "output_type": "stream",
     "text": [
      "\n",
      "\n",
      "====== WebDriver manager ======\n"
     ]
    },
    {
     "name": "stdout",
     "output_type": "stream",
     "text": [
      "688\n"
     ]
    },
    {
     "name": "stderr",
     "output_type": "stream",
     "text": [
      "Current google-chrome version is 96.0.4664\n",
      "Get LATEST chromedriver version for 96.0.4664 google-chrome\n",
      "Driver [/Users/franciscovispo/.wdm/drivers/chromedriver/mac64/96.0.4664.45/chromedriver] found in cache\n"
     ]
    },
    {
     "name": "stdout",
     "output_type": "stream",
     "text": [
      "llego a los huespedes\n",
      "llego a las características\n",
      "llego a los precios\n",
      "llego a los usos\n"
     ]
    },
    {
     "name": "stderr",
     "output_type": "stream",
     "text": [
      "\n",
      "\n",
      "====== WebDriver manager ======\n",
      "Current google-chrome version is 96.0.4664\n",
      "Get LATEST chromedriver version for 96.0.4664 google-chrome\n"
     ]
    },
    {
     "name": "stdout",
     "output_type": "stream",
     "text": [
      "689\n"
     ]
    },
    {
     "name": "stderr",
     "output_type": "stream",
     "text": [
      "Driver [/Users/franciscovispo/.wdm/drivers/chromedriver/mac64/96.0.4664.45/chromedriver] found in cache\n"
     ]
    },
    {
     "name": "stdout",
     "output_type": "stream",
     "text": [
      "llego a los huespedes\n",
      "llego a las características\n",
      "llego a los precios\n",
      "llego a los usos\n"
     ]
    },
    {
     "name": "stderr",
     "output_type": "stream",
     "text": [
      "\n",
      "\n",
      "====== WebDriver manager ======\n",
      "Current google-chrome version is 96.0.4664\n",
      "Get LATEST chromedriver version for 96.0.4664 google-chrome\n"
     ]
    },
    {
     "name": "stdout",
     "output_type": "stream",
     "text": [
      "690\n"
     ]
    },
    {
     "name": "stderr",
     "output_type": "stream",
     "text": [
      "Driver [/Users/franciscovispo/.wdm/drivers/chromedriver/mac64/96.0.4664.45/chromedriver] found in cache\n"
     ]
    },
    {
     "name": "stdout",
     "output_type": "stream",
     "text": [
      "llego a los huespedes\n",
      "llego a las características\n",
      "llego a los precios\n",
      "llego a los usos\n"
     ]
    },
    {
     "name": "stderr",
     "output_type": "stream",
     "text": [
      "\n",
      "\n",
      "====== WebDriver manager ======\n",
      "Current google-chrome version is 96.0.4664\n",
      "Get LATEST chromedriver version for 96.0.4664 google-chrome\n"
     ]
    },
    {
     "name": "stdout",
     "output_type": "stream",
     "text": [
      "691\n"
     ]
    },
    {
     "name": "stderr",
     "output_type": "stream",
     "text": [
      "Driver [/Users/franciscovispo/.wdm/drivers/chromedriver/mac64/96.0.4664.45/chromedriver] found in cache\n"
     ]
    },
    {
     "name": "stdout",
     "output_type": "stream",
     "text": [
      "llego a los huespedes\n",
      "llego a las características\n",
      "llego a los precios\n",
      "llego a los usos\n"
     ]
    },
    {
     "name": "stderr",
     "output_type": "stream",
     "text": [
      "\n",
      "\n",
      "====== WebDriver manager ======\n"
     ]
    },
    {
     "name": "stdout",
     "output_type": "stream",
     "text": [
      "692\n"
     ]
    },
    {
     "name": "stderr",
     "output_type": "stream",
     "text": [
      "Current google-chrome version is 96.0.4664\n",
      "Get LATEST chromedriver version for 96.0.4664 google-chrome\n",
      "Driver [/Users/franciscovispo/.wdm/drivers/chromedriver/mac64/96.0.4664.45/chromedriver] found in cache\n"
     ]
    },
    {
     "name": "stdout",
     "output_type": "stream",
     "text": [
      "llego a los huespedes\n",
      "llego a las características\n",
      "llego a los precios\n",
      "llego a los usos\n"
     ]
    },
    {
     "name": "stderr",
     "output_type": "stream",
     "text": [
      "\n",
      "\n",
      "====== WebDriver manager ======\n"
     ]
    },
    {
     "name": "stdout",
     "output_type": "stream",
     "text": [
      "693\n"
     ]
    },
    {
     "name": "stderr",
     "output_type": "stream",
     "text": [
      "Current google-chrome version is 96.0.4664\n",
      "Get LATEST chromedriver version for 96.0.4664 google-chrome\n",
      "Driver [/Users/franciscovispo/.wdm/drivers/chromedriver/mac64/96.0.4664.45/chromedriver] found in cache\n"
     ]
    },
    {
     "name": "stdout",
     "output_type": "stream",
     "text": [
      "llego a los huespedes\n",
      "llego a las características\n",
      "llego a los precios\n",
      "llego a los usos\n"
     ]
    },
    {
     "name": "stderr",
     "output_type": "stream",
     "text": [
      "\n",
      "\n",
      "====== WebDriver manager ======\n",
      "Current google-chrome version is 96.0.4664\n",
      "Get LATEST chromedriver version for 96.0.4664 google-chrome\n"
     ]
    },
    {
     "name": "stdout",
     "output_type": "stream",
     "text": [
      "694\n"
     ]
    },
    {
     "name": "stderr",
     "output_type": "stream",
     "text": [
      "Driver [/Users/franciscovispo/.wdm/drivers/chromedriver/mac64/96.0.4664.45/chromedriver] found in cache\n"
     ]
    },
    {
     "name": "stdout",
     "output_type": "stream",
     "text": [
      "llego a los huespedes\n",
      "llego a las características\n",
      "llego a los precios\n",
      "llego a los usos\n"
     ]
    },
    {
     "name": "stderr",
     "output_type": "stream",
     "text": [
      "\n",
      "\n",
      "====== WebDriver manager ======\n"
     ]
    },
    {
     "name": "stdout",
     "output_type": "stream",
     "text": [
      "695\n"
     ]
    },
    {
     "name": "stderr",
     "output_type": "stream",
     "text": [
      "Current google-chrome version is 96.0.4664\n",
      "Get LATEST chromedriver version for 96.0.4664 google-chrome\n",
      "Driver [/Users/franciscovispo/.wdm/drivers/chromedriver/mac64/96.0.4664.45/chromedriver] found in cache\n"
     ]
    },
    {
     "name": "stdout",
     "output_type": "stream",
     "text": [
      "llego a los huespedes\n",
      "llego a las características\n",
      "llego a los precios\n",
      "llego a los usos\n"
     ]
    },
    {
     "name": "stderr",
     "output_type": "stream",
     "text": [
      "\n",
      "\n",
      "====== WebDriver manager ======\n",
      "Current google-chrome version is 96.0.4664\n",
      "Get LATEST chromedriver version for 96.0.4664 google-chrome\n",
      "Driver [/Users/franciscovispo/.wdm/drivers/chromedriver/mac64/96.0.4664.45/chromedriver] found in cache\n"
     ]
    },
    {
     "name": "stdout",
     "output_type": "stream",
     "text": [
      "696\n",
      "llego a los huespedes\n",
      "llego a las características\n",
      "llego a los precios\n",
      "llego a los usos\n"
     ]
    },
    {
     "name": "stderr",
     "output_type": "stream",
     "text": [
      "\n",
      "\n",
      "====== WebDriver manager ======\n",
      "Current google-chrome version is 96.0.4664\n",
      "Get LATEST chromedriver version for 96.0.4664 google-chrome\n"
     ]
    },
    {
     "name": "stdout",
     "output_type": "stream",
     "text": [
      "697\n"
     ]
    },
    {
     "name": "stderr",
     "output_type": "stream",
     "text": [
      "Driver [/Users/franciscovispo/.wdm/drivers/chromedriver/mac64/96.0.4664.45/chromedriver] found in cache\n"
     ]
    },
    {
     "name": "stdout",
     "output_type": "stream",
     "text": [
      "llego a los huespedes\n",
      "llego a las características\n",
      "llego a los precios\n",
      "llego a los usos\n"
     ]
    },
    {
     "name": "stderr",
     "output_type": "stream",
     "text": [
      "\n",
      "\n",
      "====== WebDriver manager ======\n"
     ]
    },
    {
     "name": "stdout",
     "output_type": "stream",
     "text": [
      "698\n"
     ]
    },
    {
     "name": "stderr",
     "output_type": "stream",
     "text": [
      "Current google-chrome version is 96.0.4664\n",
      "Get LATEST chromedriver version for 96.0.4664 google-chrome\n",
      "Driver [/Users/franciscovispo/.wdm/drivers/chromedriver/mac64/96.0.4664.45/chromedriver] found in cache\n"
     ]
    },
    {
     "name": "stdout",
     "output_type": "stream",
     "text": [
      "llego a los huespedes\n",
      "llego a las características\n",
      "llego a los precios\n",
      "llego a los usos\n"
     ]
    },
    {
     "name": "stderr",
     "output_type": "stream",
     "text": [
      "\n",
      "\n",
      "====== WebDriver manager ======\n"
     ]
    },
    {
     "name": "stdout",
     "output_type": "stream",
     "text": [
      "699\n"
     ]
    },
    {
     "name": "stderr",
     "output_type": "stream",
     "text": [
      "Current google-chrome version is 96.0.4664\n",
      "Get LATEST chromedriver version for 96.0.4664 google-chrome\n",
      "Driver [/Users/franciscovispo/.wdm/drivers/chromedriver/mac64/96.0.4664.45/chromedriver] found in cache\n"
     ]
    },
    {
     "name": "stdout",
     "output_type": "stream",
     "text": [
      "llego a los huespedes\n",
      "llego a las características\n",
      "llego a los precios\n",
      "llego a los usos\n"
     ]
    },
    {
     "name": "stderr",
     "output_type": "stream",
     "text": [
      "\n",
      "\n",
      "====== WebDriver manager ======\n"
     ]
    },
    {
     "name": "stdout",
     "output_type": "stream",
     "text": [
      "700\n"
     ]
    },
    {
     "name": "stderr",
     "output_type": "stream",
     "text": [
      "Current google-chrome version is 96.0.4664\n",
      "Get LATEST chromedriver version for 96.0.4664 google-chrome\n",
      "Driver [/Users/franciscovispo/.wdm/drivers/chromedriver/mac64/96.0.4664.45/chromedriver] found in cache\n"
     ]
    },
    {
     "name": "stdout",
     "output_type": "stream",
     "text": [
      "llego a los huespedes\n",
      "llego a las características\n",
      "llego a los precios\n",
      "llego a los usos\n"
     ]
    },
    {
     "name": "stderr",
     "output_type": "stream",
     "text": [
      "\n",
      "\n",
      "====== WebDriver manager ======\n",
      "Current google-chrome version is 96.0.4664\n"
     ]
    },
    {
     "name": "stdout",
     "output_type": "stream",
     "text": [
      "701\n"
     ]
    },
    {
     "name": "stderr",
     "output_type": "stream",
     "text": [
      "Get LATEST chromedriver version for 96.0.4664 google-chrome\n",
      "Driver [/Users/franciscovispo/.wdm/drivers/chromedriver/mac64/96.0.4664.45/chromedriver] found in cache\n"
     ]
    },
    {
     "name": "stdout",
     "output_type": "stream",
     "text": [
      "llego a los huespedes\n",
      "llego a las características\n",
      "llego a los precios\n",
      "llego a los usos\n"
     ]
    },
    {
     "name": "stderr",
     "output_type": "stream",
     "text": [
      "\n",
      "\n",
      "====== WebDriver manager ======\n"
     ]
    },
    {
     "name": "stdout",
     "output_type": "stream",
     "text": [
      "702\n"
     ]
    },
    {
     "name": "stderr",
     "output_type": "stream",
     "text": [
      "Current google-chrome version is 96.0.4664\n",
      "Get LATEST chromedriver version for 96.0.4664 google-chrome\n",
      "Driver [/Users/franciscovispo/.wdm/drivers/chromedriver/mac64/96.0.4664.45/chromedriver] found in cache\n"
     ]
    },
    {
     "name": "stdout",
     "output_type": "stream",
     "text": [
      "llego a los huespedes\n",
      "llego a las características\n",
      "llego a los precios\n",
      "llego a los usos\n"
     ]
    },
    {
     "name": "stderr",
     "output_type": "stream",
     "text": [
      "\n",
      "\n",
      "====== WebDriver manager ======\n",
      "Current google-chrome version is 96.0.4664\n",
      "Get LATEST chromedriver version for 96.0.4664 google-chrome\n"
     ]
    },
    {
     "name": "stdout",
     "output_type": "stream",
     "text": [
      "703\n"
     ]
    },
    {
     "name": "stderr",
     "output_type": "stream",
     "text": [
      "Driver [/Users/franciscovispo/.wdm/drivers/chromedriver/mac64/96.0.4664.45/chromedriver] found in cache\n"
     ]
    },
    {
     "name": "stdout",
     "output_type": "stream",
     "text": [
      "llego a los huespedes\n",
      "llego a las características\n",
      "llego a los precios\n",
      "llego a los usos\n"
     ]
    },
    {
     "name": "stderr",
     "output_type": "stream",
     "text": [
      "\n",
      "\n",
      "====== WebDriver manager ======\n",
      "Current google-chrome version is 96.0.4664\n",
      "Get LATEST chromedriver version for 96.0.4664 google-chrome\n"
     ]
    },
    {
     "name": "stdout",
     "output_type": "stream",
     "text": [
      "704\n"
     ]
    },
    {
     "name": "stderr",
     "output_type": "stream",
     "text": [
      "Driver [/Users/franciscovispo/.wdm/drivers/chromedriver/mac64/96.0.4664.45/chromedriver] found in cache\n"
     ]
    },
    {
     "name": "stdout",
     "output_type": "stream",
     "text": [
      "llego a los huespedes\n",
      "llego a las características\n",
      "llego a los precios\n",
      "llego a los usos\n"
     ]
    },
    {
     "name": "stderr",
     "output_type": "stream",
     "text": [
      "\n",
      "\n",
      "====== WebDriver manager ======\n"
     ]
    },
    {
     "name": "stdout",
     "output_type": "stream",
     "text": [
      "705\n"
     ]
    },
    {
     "name": "stderr",
     "output_type": "stream",
     "text": [
      "Current google-chrome version is 96.0.4664\n",
      "Get LATEST chromedriver version for 96.0.4664 google-chrome\n",
      "Driver [/Users/franciscovispo/.wdm/drivers/chromedriver/mac64/96.0.4664.45/chromedriver] found in cache\n"
     ]
    },
    {
     "name": "stdout",
     "output_type": "stream",
     "text": [
      "llego a los huespedes\n",
      "llego a las características\n",
      "llego a los precios\n",
      "llego a los usos\n"
     ]
    },
    {
     "name": "stderr",
     "output_type": "stream",
     "text": [
      "\n",
      "\n",
      "====== WebDriver manager ======\n",
      "Current google-chrome version is 96.0.4664\n",
      "Get LATEST chromedriver version for 96.0.4664 google-chrome\n"
     ]
    },
    {
     "name": "stdout",
     "output_type": "stream",
     "text": [
      "706\n"
     ]
    },
    {
     "name": "stderr",
     "output_type": "stream",
     "text": [
      "Driver [/Users/franciscovispo/.wdm/drivers/chromedriver/mac64/96.0.4664.45/chromedriver] found in cache\n"
     ]
    },
    {
     "name": "stdout",
     "output_type": "stream",
     "text": [
      "llego a los huespedes\n",
      "llego a las características\n",
      "llego a los precios\n",
      "llego a los usos\n"
     ]
    },
    {
     "name": "stderr",
     "output_type": "stream",
     "text": [
      "\n",
      "\n",
      "====== WebDriver manager ======\n"
     ]
    },
    {
     "name": "stdout",
     "output_type": "stream",
     "text": [
      "707\n"
     ]
    },
    {
     "name": "stderr",
     "output_type": "stream",
     "text": [
      "Current google-chrome version is 96.0.4664\n",
      "Get LATEST chromedriver version for 96.0.4664 google-chrome\n",
      "Driver [/Users/franciscovispo/.wdm/drivers/chromedriver/mac64/96.0.4664.45/chromedriver] found in cache\n"
     ]
    },
    {
     "name": "stdout",
     "output_type": "stream",
     "text": [
      "llego a los huespedes\n",
      "llego a las características\n",
      "llego a los precios\n",
      "llego a los usos\n"
     ]
    },
    {
     "name": "stderr",
     "output_type": "stream",
     "text": [
      "\n",
      "\n",
      "====== WebDriver manager ======\n",
      "Current google-chrome version is 96.0.4664\n",
      "Get LATEST chromedriver version for 96.0.4664 google-chrome\n"
     ]
    },
    {
     "name": "stdout",
     "output_type": "stream",
     "text": [
      "708\n"
     ]
    },
    {
     "name": "stderr",
     "output_type": "stream",
     "text": [
      "Driver [/Users/franciscovispo/.wdm/drivers/chromedriver/mac64/96.0.4664.45/chromedriver] found in cache\n"
     ]
    },
    {
     "name": "stdout",
     "output_type": "stream",
     "text": [
      "llego a los huespedes\n",
      "llego a las características\n",
      "llego a los precios\n",
      "llego a los usos\n"
     ]
    },
    {
     "name": "stderr",
     "output_type": "stream",
     "text": [
      "\n",
      "\n",
      "====== WebDriver manager ======\n"
     ]
    },
    {
     "name": "stdout",
     "output_type": "stream",
     "text": [
      "709\n"
     ]
    },
    {
     "name": "stderr",
     "output_type": "stream",
     "text": [
      "Current google-chrome version is 96.0.4664\n",
      "Get LATEST chromedriver version for 96.0.4664 google-chrome\n",
      "Driver [/Users/franciscovispo/.wdm/drivers/chromedriver/mac64/96.0.4664.45/chromedriver] found in cache\n"
     ]
    },
    {
     "name": "stdout",
     "output_type": "stream",
     "text": [
      "llego a los huespedes\n",
      "llego a las características\n",
      "llego a los precios\n",
      "llego a los usos\n"
     ]
    },
    {
     "name": "stderr",
     "output_type": "stream",
     "text": [
      "\n",
      "\n",
      "====== WebDriver manager ======\n",
      "Current google-chrome version is 96.0.4664\n",
      "Get LATEST chromedriver version for 96.0.4664 google-chrome\n"
     ]
    },
    {
     "name": "stdout",
     "output_type": "stream",
     "text": [
      "710\n"
     ]
    },
    {
     "name": "stderr",
     "output_type": "stream",
     "text": [
      "Driver [/Users/franciscovispo/.wdm/drivers/chromedriver/mac64/96.0.4664.45/chromedriver] found in cache\n"
     ]
    },
    {
     "name": "stdout",
     "output_type": "stream",
     "text": [
      "llego a los huespedes\n",
      "llego a las características\n",
      "llego a los precios\n",
      "llego a los usos\n"
     ]
    },
    {
     "name": "stderr",
     "output_type": "stream",
     "text": [
      "\n",
      "\n",
      "====== WebDriver manager ======\n"
     ]
    },
    {
     "name": "stdout",
     "output_type": "stream",
     "text": [
      "711\n"
     ]
    },
    {
     "name": "stderr",
     "output_type": "stream",
     "text": [
      "Current google-chrome version is 96.0.4664\n",
      "Get LATEST chromedriver version for 96.0.4664 google-chrome\n",
      "Driver [/Users/franciscovispo/.wdm/drivers/chromedriver/mac64/96.0.4664.45/chromedriver] found in cache\n"
     ]
    },
    {
     "name": "stdout",
     "output_type": "stream",
     "text": [
      "llego a los huespedes\n",
      "llego a las características\n",
      "llego a los precios\n",
      "llego a los usos\n"
     ]
    },
    {
     "name": "stderr",
     "output_type": "stream",
     "text": [
      "\n",
      "\n",
      "====== WebDriver manager ======\n",
      "Current google-chrome version is 96.0.4664\n",
      "Get LATEST chromedriver version for 96.0.4664 google-chrome\n"
     ]
    },
    {
     "name": "stdout",
     "output_type": "stream",
     "text": [
      "712\n"
     ]
    },
    {
     "name": "stderr",
     "output_type": "stream",
     "text": [
      "Driver [/Users/franciscovispo/.wdm/drivers/chromedriver/mac64/96.0.4664.45/chromedriver] found in cache\n"
     ]
    },
    {
     "name": "stdout",
     "output_type": "stream",
     "text": [
      "llego a los huespedes\n",
      "llego a las características\n",
      "llego a los precios\n",
      "llego a los usos\n"
     ]
    },
    {
     "name": "stderr",
     "output_type": "stream",
     "text": [
      "\n",
      "\n",
      "====== WebDriver manager ======\n",
      "Current google-chrome version is 96.0.4664\n",
      "Get LATEST chromedriver version for 96.0.4664 google-chrome\n"
     ]
    },
    {
     "name": "stdout",
     "output_type": "stream",
     "text": [
      "713\n"
     ]
    },
    {
     "name": "stderr",
     "output_type": "stream",
     "text": [
      "Driver [/Users/franciscovispo/.wdm/drivers/chromedriver/mac64/96.0.4664.45/chromedriver] found in cache\n"
     ]
    },
    {
     "name": "stdout",
     "output_type": "stream",
     "text": [
      "llego a los huespedes\n",
      "llego a las características\n",
      "llego a los precios\n",
      "llego a los usos\n"
     ]
    },
    {
     "name": "stderr",
     "output_type": "stream",
     "text": [
      "\n",
      "\n",
      "====== WebDriver manager ======\n",
      "Current google-chrome version is 96.0.4664\n",
      "Get LATEST chromedriver version for 96.0.4664 google-chrome\n"
     ]
    },
    {
     "name": "stdout",
     "output_type": "stream",
     "text": [
      "714\n"
     ]
    },
    {
     "name": "stderr",
     "output_type": "stream",
     "text": [
      "Driver [/Users/franciscovispo/.wdm/drivers/chromedriver/mac64/96.0.4664.45/chromedriver] found in cache\n"
     ]
    },
    {
     "name": "stdout",
     "output_type": "stream",
     "text": [
      "llego a los huespedes\n",
      "llego a las características\n",
      "llego a los precios\n",
      "llego a los usos\n"
     ]
    },
    {
     "name": "stderr",
     "output_type": "stream",
     "text": [
      "\n",
      "\n",
      "====== WebDriver manager ======\n",
      "Current google-chrome version is 96.0.4664\n",
      "Get LATEST chromedriver version for 96.0.4664 google-chrome\n"
     ]
    },
    {
     "name": "stdout",
     "output_type": "stream",
     "text": [
      "715\n"
     ]
    },
    {
     "name": "stderr",
     "output_type": "stream",
     "text": [
      "Driver [/Users/franciscovispo/.wdm/drivers/chromedriver/mac64/96.0.4664.45/chromedriver] found in cache\n"
     ]
    },
    {
     "name": "stdout",
     "output_type": "stream",
     "text": [
      "llego a los huespedes\n",
      "llego a las características\n",
      "llego a los precios\n",
      "llego a los usos\n"
     ]
    },
    {
     "name": "stderr",
     "output_type": "stream",
     "text": [
      "\n",
      "\n",
      "====== WebDriver manager ======\n",
      "Current google-chrome version is 96.0.4664\n",
      "Get LATEST chromedriver version for 96.0.4664 google-chrome\n"
     ]
    },
    {
     "name": "stdout",
     "output_type": "stream",
     "text": [
      "716\n"
     ]
    },
    {
     "name": "stderr",
     "output_type": "stream",
     "text": [
      "Driver [/Users/franciscovispo/.wdm/drivers/chromedriver/mac64/96.0.4664.45/chromedriver] found in cache\n"
     ]
    },
    {
     "name": "stdout",
     "output_type": "stream",
     "text": [
      "llego a los huespedes\n",
      "llego a las características\n",
      "llego a los precios\n",
      "llego a los usos\n"
     ]
    },
    {
     "name": "stderr",
     "output_type": "stream",
     "text": [
      "\n",
      "\n",
      "====== WebDriver manager ======\n",
      "Current google-chrome version is 96.0.4664\n",
      "Get LATEST chromedriver version for 96.0.4664 google-chrome\n"
     ]
    },
    {
     "name": "stdout",
     "output_type": "stream",
     "text": [
      "717\n"
     ]
    },
    {
     "name": "stderr",
     "output_type": "stream",
     "text": [
      "Driver [/Users/franciscovispo/.wdm/drivers/chromedriver/mac64/96.0.4664.45/chromedriver] found in cache\n"
     ]
    },
    {
     "name": "stdout",
     "output_type": "stream",
     "text": [
      "llego a los huespedes\n",
      "llego a las características\n",
      "llego a los precios\n",
      "llego a los usos\n"
     ]
    },
    {
     "name": "stderr",
     "output_type": "stream",
     "text": [
      "\n",
      "\n",
      "====== WebDriver manager ======\n"
     ]
    },
    {
     "name": "stdout",
     "output_type": "stream",
     "text": [
      "718\n"
     ]
    },
    {
     "name": "stderr",
     "output_type": "stream",
     "text": [
      "Current google-chrome version is 96.0.4664\n",
      "Get LATEST chromedriver version for 96.0.4664 google-chrome\n",
      "Driver [/Users/franciscovispo/.wdm/drivers/chromedriver/mac64/96.0.4664.45/chromedriver] found in cache\n"
     ]
    },
    {
     "name": "stdout",
     "output_type": "stream",
     "text": [
      "llego a los huespedes\n",
      "llego a las características\n",
      "llego a los precios\n",
      "llego a los usos\n"
     ]
    },
    {
     "name": "stderr",
     "output_type": "stream",
     "text": [
      "\n",
      "\n",
      "====== WebDriver manager ======\n"
     ]
    },
    {
     "name": "stdout",
     "output_type": "stream",
     "text": [
      "719\n"
     ]
    },
    {
     "name": "stderr",
     "output_type": "stream",
     "text": [
      "Current google-chrome version is 96.0.4664\n",
      "Get LATEST chromedriver version for 96.0.4664 google-chrome\n",
      "Driver [/Users/franciscovispo/.wdm/drivers/chromedriver/mac64/96.0.4664.45/chromedriver] found in cache\n"
     ]
    },
    {
     "name": "stdout",
     "output_type": "stream",
     "text": [
      "llego a los huespedes\n",
      "llego a las características\n",
      "llego a los precios\n",
      "llego a los usos\n"
     ]
    },
    {
     "name": "stderr",
     "output_type": "stream",
     "text": [
      "\n",
      "\n",
      "====== WebDriver manager ======\n"
     ]
    },
    {
     "name": "stdout",
     "output_type": "stream",
     "text": [
      "720\n"
     ]
    },
    {
     "name": "stderr",
     "output_type": "stream",
     "text": [
      "Current google-chrome version is 96.0.4664\n",
      "Get LATEST chromedriver version for 96.0.4664 google-chrome\n",
      "Driver [/Users/franciscovispo/.wdm/drivers/chromedriver/mac64/96.0.4664.45/chromedriver] found in cache\n"
     ]
    },
    {
     "name": "stdout",
     "output_type": "stream",
     "text": [
      "llego a los huespedes\n",
      "llego a las características\n",
      "llego a los precios\n",
      "llego a los usos\n"
     ]
    },
    {
     "name": "stderr",
     "output_type": "stream",
     "text": [
      "\n",
      "\n",
      "====== WebDriver manager ======\n"
     ]
    },
    {
     "name": "stdout",
     "output_type": "stream",
     "text": [
      "721\n"
     ]
    },
    {
     "name": "stderr",
     "output_type": "stream",
     "text": [
      "Current google-chrome version is 96.0.4664\n",
      "Get LATEST chromedriver version for 96.0.4664 google-chrome\n",
      "Driver [/Users/franciscovispo/.wdm/drivers/chromedriver/mac64/96.0.4664.45/chromedriver] found in cache\n"
     ]
    },
    {
     "name": "stdout",
     "output_type": "stream",
     "text": [
      "llego a los huespedes\n",
      "llego a las características\n",
      "llego a los precios\n",
      "llego a los usos\n"
     ]
    },
    {
     "name": "stderr",
     "output_type": "stream",
     "text": [
      "\n",
      "\n",
      "====== WebDriver manager ======\n",
      "Current google-chrome version is 96.0.4664\n",
      "Get LATEST chromedriver version for 96.0.4664 google-chrome\n"
     ]
    },
    {
     "name": "stdout",
     "output_type": "stream",
     "text": [
      "722\n"
     ]
    },
    {
     "name": "stderr",
     "output_type": "stream",
     "text": [
      "Driver [/Users/franciscovispo/.wdm/drivers/chromedriver/mac64/96.0.4664.45/chromedriver] found in cache\n"
     ]
    },
    {
     "name": "stdout",
     "output_type": "stream",
     "text": [
      "llego a los huespedes\n",
      "llego a las características\n",
      "llego a los precios\n",
      "llego a los usos\n"
     ]
    },
    {
     "name": "stderr",
     "output_type": "stream",
     "text": [
      "\n",
      "\n",
      "====== WebDriver manager ======\n",
      "Current google-chrome version is 96.0.4664\n",
      "Get LATEST chromedriver version for 96.0.4664 google-chrome\n"
     ]
    },
    {
     "name": "stdout",
     "output_type": "stream",
     "text": [
      "723\n"
     ]
    },
    {
     "name": "stderr",
     "output_type": "stream",
     "text": [
      "Driver [/Users/franciscovispo/.wdm/drivers/chromedriver/mac64/96.0.4664.45/chromedriver] found in cache\n"
     ]
    },
    {
     "name": "stdout",
     "output_type": "stream",
     "text": [
      "llego a los huespedes\n",
      "llego a las características\n",
      "llego a los precios\n",
      "llego a los usos\n"
     ]
    },
    {
     "name": "stderr",
     "output_type": "stream",
     "text": [
      "\n",
      "\n",
      "====== WebDriver manager ======\n"
     ]
    },
    {
     "name": "stdout",
     "output_type": "stream",
     "text": [
      "724\n"
     ]
    },
    {
     "name": "stderr",
     "output_type": "stream",
     "text": [
      "Current google-chrome version is 96.0.4664\n",
      "Get LATEST chromedriver version for 96.0.4664 google-chrome\n",
      "Driver [/Users/franciscovispo/.wdm/drivers/chromedriver/mac64/96.0.4664.45/chromedriver] found in cache\n"
     ]
    },
    {
     "name": "stdout",
     "output_type": "stream",
     "text": [
      "llego a los huespedes\n",
      "llego a las características\n",
      "llego a los precios\n",
      "llego a los usos\n"
     ]
    },
    {
     "name": "stderr",
     "output_type": "stream",
     "text": [
      "\n",
      "\n",
      "====== WebDriver manager ======\n"
     ]
    },
    {
     "name": "stdout",
     "output_type": "stream",
     "text": [
      "725\n"
     ]
    },
    {
     "name": "stderr",
     "output_type": "stream",
     "text": [
      "Current google-chrome version is 96.0.4664\n",
      "Get LATEST chromedriver version for 96.0.4664 google-chrome\n",
      "Driver [/Users/franciscovispo/.wdm/drivers/chromedriver/mac64/96.0.4664.45/chromedriver] found in cache\n"
     ]
    },
    {
     "name": "stdout",
     "output_type": "stream",
     "text": [
      "llego a los huespedes\n",
      "llego a las características\n",
      "llego a los precios\n",
      "llego a los usos\n"
     ]
    },
    {
     "name": "stderr",
     "output_type": "stream",
     "text": [
      "\n",
      "\n",
      "====== WebDriver manager ======\n"
     ]
    },
    {
     "name": "stdout",
     "output_type": "stream",
     "text": [
      "726\n"
     ]
    },
    {
     "name": "stderr",
     "output_type": "stream",
     "text": [
      "Current google-chrome version is 96.0.4664\n",
      "Get LATEST chromedriver version for 96.0.4664 google-chrome\n",
      "Driver [/Users/franciscovispo/.wdm/drivers/chromedriver/mac64/96.0.4664.45/chromedriver] found in cache\n"
     ]
    },
    {
     "name": "stdout",
     "output_type": "stream",
     "text": [
      "llego a los huespedes\n",
      "llego a las características\n",
      "llego a los precios\n",
      "llego a los usos\n"
     ]
    },
    {
     "name": "stderr",
     "output_type": "stream",
     "text": [
      "\n",
      "\n",
      "====== WebDriver manager ======\n",
      "Current google-chrome version is 96.0.4664\n",
      "Get LATEST chromedriver version for 96.0.4664 google-chrome\n"
     ]
    },
    {
     "name": "stdout",
     "output_type": "stream",
     "text": [
      "727\n"
     ]
    },
    {
     "name": "stderr",
     "output_type": "stream",
     "text": [
      "Driver [/Users/franciscovispo/.wdm/drivers/chromedriver/mac64/96.0.4664.45/chromedriver] found in cache\n"
     ]
    },
    {
     "name": "stdout",
     "output_type": "stream",
     "text": [
      "llego a los huespedes\n",
      "llego a las características\n",
      "llego a los precios\n",
      "llego a los usos\n"
     ]
    },
    {
     "name": "stderr",
     "output_type": "stream",
     "text": [
      "\n",
      "\n",
      "====== WebDriver manager ======\n"
     ]
    },
    {
     "name": "stdout",
     "output_type": "stream",
     "text": [
      "728\n"
     ]
    },
    {
     "name": "stderr",
     "output_type": "stream",
     "text": [
      "Current google-chrome version is 96.0.4664\n",
      "Get LATEST chromedriver version for 96.0.4664 google-chrome\n",
      "Driver [/Users/franciscovispo/.wdm/drivers/chromedriver/mac64/96.0.4664.45/chromedriver] found in cache\n"
     ]
    },
    {
     "name": "stdout",
     "output_type": "stream",
     "text": [
      "llego a los huespedes\n",
      "llego a las características\n",
      "llego a los precios\n",
      "llego a los usos\n"
     ]
    },
    {
     "name": "stderr",
     "output_type": "stream",
     "text": [
      "\n",
      "\n",
      "====== WebDriver manager ======\n",
      "Current google-chrome version is 96.0.4664\n",
      "Get LATEST chromedriver version for 96.0.4664 google-chrome\n"
     ]
    },
    {
     "name": "stdout",
     "output_type": "stream",
     "text": [
      "729\n"
     ]
    },
    {
     "name": "stderr",
     "output_type": "stream",
     "text": [
      "Driver [/Users/franciscovispo/.wdm/drivers/chromedriver/mac64/96.0.4664.45/chromedriver] found in cache\n"
     ]
    },
    {
     "name": "stdout",
     "output_type": "stream",
     "text": [
      "llego a los huespedes\n",
      "llego a las características\n",
      "llego a los precios\n",
      "llego a los usos\n"
     ]
    },
    {
     "name": "stderr",
     "output_type": "stream",
     "text": [
      "\n",
      "\n",
      "====== WebDriver manager ======\n"
     ]
    },
    {
     "name": "stdout",
     "output_type": "stream",
     "text": [
      "730\n"
     ]
    },
    {
     "name": "stderr",
     "output_type": "stream",
     "text": [
      "Current google-chrome version is 96.0.4664\n",
      "Get LATEST chromedriver version for 96.0.4664 google-chrome\n",
      "Driver [/Users/franciscovispo/.wdm/drivers/chromedriver/mac64/96.0.4664.45/chromedriver] found in cache\n"
     ]
    },
    {
     "name": "stdout",
     "output_type": "stream",
     "text": [
      "llego a los huespedes\n",
      "llego a las características\n",
      "llego a los precios\n",
      "llego a los usos\n"
     ]
    },
    {
     "name": "stderr",
     "output_type": "stream",
     "text": [
      "\n",
      "\n",
      "====== WebDriver manager ======\n"
     ]
    },
    {
     "name": "stdout",
     "output_type": "stream",
     "text": [
      "731\n"
     ]
    },
    {
     "name": "stderr",
     "output_type": "stream",
     "text": [
      "Current google-chrome version is 96.0.4664\n",
      "Get LATEST chromedriver version for 96.0.4664 google-chrome\n",
      "Driver [/Users/franciscovispo/.wdm/drivers/chromedriver/mac64/96.0.4664.45/chromedriver] found in cache\n"
     ]
    },
    {
     "name": "stdout",
     "output_type": "stream",
     "text": [
      "llego a los huespedes\n",
      "llego a las características\n",
      "llego a los precios\n",
      "llego a los usos\n"
     ]
    },
    {
     "name": "stderr",
     "output_type": "stream",
     "text": [
      "\n",
      "\n",
      "====== WebDriver manager ======\n"
     ]
    },
    {
     "name": "stdout",
     "output_type": "stream",
     "text": [
      "732\n"
     ]
    },
    {
     "name": "stderr",
     "output_type": "stream",
     "text": [
      "Current google-chrome version is 96.0.4664\n",
      "Get LATEST chromedriver version for 96.0.4664 google-chrome\n",
      "Driver [/Users/franciscovispo/.wdm/drivers/chromedriver/mac64/96.0.4664.45/chromedriver] found in cache\n"
     ]
    },
    {
     "name": "stdout",
     "output_type": "stream",
     "text": [
      "llego a los huespedes\n",
      "llego a las características\n",
      "llego a los precios\n",
      "llego a los usos\n"
     ]
    },
    {
     "name": "stderr",
     "output_type": "stream",
     "text": [
      "\n",
      "\n",
      "====== WebDriver manager ======\n",
      "Current google-chrome version is 96.0.4664\n",
      "Get LATEST chromedriver version for 96.0.4664 google-chrome\n"
     ]
    },
    {
     "name": "stdout",
     "output_type": "stream",
     "text": [
      "733\n"
     ]
    },
    {
     "name": "stderr",
     "output_type": "stream",
     "text": [
      "Driver [/Users/franciscovispo/.wdm/drivers/chromedriver/mac64/96.0.4664.45/chromedriver] found in cache\n"
     ]
    },
    {
     "name": "stdout",
     "output_type": "stream",
     "text": [
      "llego a los huespedes\n",
      "llego a las características\n",
      "llego a los precios\n",
      "llego a los usos\n"
     ]
    },
    {
     "name": "stderr",
     "output_type": "stream",
     "text": [
      "\n",
      "\n",
      "====== WebDriver manager ======\n",
      "Current google-chrome version is 96.0.4664\n",
      "Get LATEST chromedriver version for 96.0.4664 google-chrome\n"
     ]
    },
    {
     "name": "stdout",
     "output_type": "stream",
     "text": [
      "734\n"
     ]
    },
    {
     "name": "stderr",
     "output_type": "stream",
     "text": [
      "Driver [/Users/franciscovispo/.wdm/drivers/chromedriver/mac64/96.0.4664.45/chromedriver] found in cache\n"
     ]
    },
    {
     "name": "stdout",
     "output_type": "stream",
     "text": [
      "llego a los huespedes\n",
      "llego a las características\n",
      "llego a los precios\n",
      "llego a los usos\n"
     ]
    },
    {
     "name": "stderr",
     "output_type": "stream",
     "text": [
      "\n",
      "\n",
      "====== WebDriver manager ======\n"
     ]
    },
    {
     "name": "stdout",
     "output_type": "stream",
     "text": [
      "735\n"
     ]
    },
    {
     "name": "stderr",
     "output_type": "stream",
     "text": [
      "Current google-chrome version is 96.0.4664\n",
      "Get LATEST chromedriver version for 96.0.4664 google-chrome\n",
      "Driver [/Users/franciscovispo/.wdm/drivers/chromedriver/mac64/96.0.4664.45/chromedriver] found in cache\n"
     ]
    },
    {
     "name": "stdout",
     "output_type": "stream",
     "text": [
      "llego a los huespedes\n",
      "llego a las características\n",
      "llego a los precios\n",
      "llego a los usos\n"
     ]
    },
    {
     "name": "stderr",
     "output_type": "stream",
     "text": [
      "\n",
      "\n",
      "====== WebDriver manager ======\n"
     ]
    },
    {
     "name": "stdout",
     "output_type": "stream",
     "text": [
      "736\n"
     ]
    },
    {
     "name": "stderr",
     "output_type": "stream",
     "text": [
      "Current google-chrome version is 96.0.4664\n",
      "Get LATEST chromedriver version for 96.0.4664 google-chrome\n",
      "Driver [/Users/franciscovispo/.wdm/drivers/chromedriver/mac64/96.0.4664.45/chromedriver] found in cache\n"
     ]
    },
    {
     "name": "stdout",
     "output_type": "stream",
     "text": [
      "llego a los huespedes\n",
      "llego a las características\n",
      "llego a los precios\n",
      "llego a los usos\n"
     ]
    },
    {
     "name": "stderr",
     "output_type": "stream",
     "text": [
      "\n",
      "\n",
      "====== WebDriver manager ======\n"
     ]
    },
    {
     "name": "stdout",
     "output_type": "stream",
     "text": [
      "737\n"
     ]
    },
    {
     "name": "stderr",
     "output_type": "stream",
     "text": [
      "Current google-chrome version is 96.0.4664\n",
      "Get LATEST chromedriver version for 96.0.4664 google-chrome\n",
      "Driver [/Users/franciscovispo/.wdm/drivers/chromedriver/mac64/96.0.4664.45/chromedriver] found in cache\n"
     ]
    },
    {
     "name": "stdout",
     "output_type": "stream",
     "text": [
      "llego a los huespedes\n",
      "llego a las características\n",
      "llego a los precios\n",
      "llego a los usos\n"
     ]
    },
    {
     "name": "stderr",
     "output_type": "stream",
     "text": [
      "\n",
      "\n",
      "====== WebDriver manager ======\n"
     ]
    },
    {
     "name": "stdout",
     "output_type": "stream",
     "text": [
      "738\n"
     ]
    },
    {
     "name": "stderr",
     "output_type": "stream",
     "text": [
      "Current google-chrome version is 96.0.4664\n",
      "Get LATEST chromedriver version for 96.0.4664 google-chrome\n",
      "Driver [/Users/franciscovispo/.wdm/drivers/chromedriver/mac64/96.0.4664.45/chromedriver] found in cache\n"
     ]
    },
    {
     "name": "stdout",
     "output_type": "stream",
     "text": [
      "llego a los huespedes\n",
      "llego a las características\n",
      "llego a los precios\n",
      "llego a los usos\n"
     ]
    },
    {
     "name": "stderr",
     "output_type": "stream",
     "text": [
      "\n",
      "\n",
      "====== WebDriver manager ======\n",
      "Current google-chrome version is 96.0.4664\n",
      "Get LATEST chromedriver version for 96.0.4664 google-chrome\n"
     ]
    },
    {
     "name": "stdout",
     "output_type": "stream",
     "text": [
      "739\n"
     ]
    },
    {
     "name": "stderr",
     "output_type": "stream",
     "text": [
      "Driver [/Users/franciscovispo/.wdm/drivers/chromedriver/mac64/96.0.4664.45/chromedriver] found in cache\n"
     ]
    },
    {
     "name": "stdout",
     "output_type": "stream",
     "text": [
      "llego a los huespedes\n",
      "llego a las características\n",
      "llego a los precios\n",
      "llego a los usos\n"
     ]
    },
    {
     "name": "stderr",
     "output_type": "stream",
     "text": [
      "\n",
      "\n",
      "====== WebDriver manager ======\n"
     ]
    },
    {
     "name": "stdout",
     "output_type": "stream",
     "text": [
      "740\n"
     ]
    },
    {
     "name": "stderr",
     "output_type": "stream",
     "text": [
      "Current google-chrome version is 96.0.4664\n",
      "Get LATEST chromedriver version for 96.0.4664 google-chrome\n",
      "Driver [/Users/franciscovispo/.wdm/drivers/chromedriver/mac64/96.0.4664.45/chromedriver] found in cache\n"
     ]
    },
    {
     "name": "stdout",
     "output_type": "stream",
     "text": [
      "llego a los huespedes\n",
      "llego a las características\n",
      "llego a los precios\n",
      "llego a los usos\n"
     ]
    },
    {
     "name": "stderr",
     "output_type": "stream",
     "text": [
      "\n",
      "\n",
      "====== WebDriver manager ======\n"
     ]
    },
    {
     "name": "stdout",
     "output_type": "stream",
     "text": [
      "741\n"
     ]
    },
    {
     "name": "stderr",
     "output_type": "stream",
     "text": [
      "Current google-chrome version is 96.0.4664\n",
      "Get LATEST chromedriver version for 96.0.4664 google-chrome\n",
      "Driver [/Users/franciscovispo/.wdm/drivers/chromedriver/mac64/96.0.4664.45/chromedriver] found in cache\n"
     ]
    },
    {
     "name": "stdout",
     "output_type": "stream",
     "text": [
      "llego a los huespedes\n",
      "llego a las características\n",
      "llego a los precios\n",
      "llego a los usos\n"
     ]
    },
    {
     "name": "stderr",
     "output_type": "stream",
     "text": [
      "\n",
      "\n",
      "====== WebDriver manager ======\n"
     ]
    },
    {
     "name": "stdout",
     "output_type": "stream",
     "text": [
      "742\n"
     ]
    },
    {
     "name": "stderr",
     "output_type": "stream",
     "text": [
      "Current google-chrome version is 96.0.4664\n",
      "Get LATEST chromedriver version for 96.0.4664 google-chrome\n",
      "Driver [/Users/franciscovispo/.wdm/drivers/chromedriver/mac64/96.0.4664.45/chromedriver] found in cache\n"
     ]
    },
    {
     "name": "stdout",
     "output_type": "stream",
     "text": [
      "llego a los huespedes\n",
      "llego a las características\n",
      "llego a los precios\n",
      "llego a los usos\n"
     ]
    },
    {
     "name": "stderr",
     "output_type": "stream",
     "text": [
      "\n",
      "\n",
      "====== WebDriver manager ======\n",
      "Current google-chrome version is 96.0.4664\n",
      "Get LATEST chromedriver version for 96.0.4664 google-chrome\n"
     ]
    },
    {
     "name": "stdout",
     "output_type": "stream",
     "text": [
      "743\n"
     ]
    },
    {
     "name": "stderr",
     "output_type": "stream",
     "text": [
      "Driver [/Users/franciscovispo/.wdm/drivers/chromedriver/mac64/96.0.4664.45/chromedriver] found in cache\n"
     ]
    },
    {
     "name": "stdout",
     "output_type": "stream",
     "text": [
      "llego a los huespedes\n",
      "llego a las características\n",
      "llego a los precios\n",
      "llego a los usos\n"
     ]
    },
    {
     "name": "stderr",
     "output_type": "stream",
     "text": [
      "\n",
      "\n",
      "====== WebDriver manager ======\n"
     ]
    },
    {
     "name": "stdout",
     "output_type": "stream",
     "text": [
      "744\n"
     ]
    },
    {
     "name": "stderr",
     "output_type": "stream",
     "text": [
      "Current google-chrome version is 96.0.4664\n",
      "Get LATEST chromedriver version for 96.0.4664 google-chrome\n",
      "Driver [/Users/franciscovispo/.wdm/drivers/chromedriver/mac64/96.0.4664.45/chromedriver] found in cache\n"
     ]
    },
    {
     "name": "stdout",
     "output_type": "stream",
     "text": [
      "llego a los huespedes\n",
      "llego a las características\n",
      "llego a los precios\n",
      "llego a los usos\n"
     ]
    },
    {
     "name": "stderr",
     "output_type": "stream",
     "text": [
      "\n",
      "\n",
      "====== WebDriver manager ======\n"
     ]
    },
    {
     "name": "stdout",
     "output_type": "stream",
     "text": [
      "745\n"
     ]
    },
    {
     "name": "stderr",
     "output_type": "stream",
     "text": [
      "Current google-chrome version is 96.0.4664\n",
      "Get LATEST chromedriver version for 96.0.4664 google-chrome\n",
      "Driver [/Users/franciscovispo/.wdm/drivers/chromedriver/mac64/96.0.4664.45/chromedriver] found in cache\n"
     ]
    },
    {
     "name": "stdout",
     "output_type": "stream",
     "text": [
      "llego a los huespedes\n",
      "llego a las características\n",
      "llego a los precios\n",
      "llego a los usos\n"
     ]
    },
    {
     "name": "stderr",
     "output_type": "stream",
     "text": [
      "\n",
      "\n",
      "====== WebDriver manager ======\n",
      "Current google-chrome version is 96.0.4664\n",
      "Get LATEST chromedriver version for 96.0.4664 google-chrome\n"
     ]
    },
    {
     "name": "stdout",
     "output_type": "stream",
     "text": [
      "746\n"
     ]
    },
    {
     "name": "stderr",
     "output_type": "stream",
     "text": [
      "Driver [/Users/franciscovispo/.wdm/drivers/chromedriver/mac64/96.0.4664.45/chromedriver] found in cache\n"
     ]
    },
    {
     "name": "stdout",
     "output_type": "stream",
     "text": [
      "llego a los huespedes\n",
      "llego a las características\n",
      "llego a los precios\n",
      "llego a los usos\n"
     ]
    },
    {
     "name": "stderr",
     "output_type": "stream",
     "text": [
      "\n",
      "\n",
      "====== WebDriver manager ======\n"
     ]
    },
    {
     "name": "stdout",
     "output_type": "stream",
     "text": [
      "747\n"
     ]
    },
    {
     "name": "stderr",
     "output_type": "stream",
     "text": [
      "Current google-chrome version is 96.0.4664\n",
      "Get LATEST chromedriver version for 96.0.4664 google-chrome\n",
      "Driver [/Users/franciscovispo/.wdm/drivers/chromedriver/mac64/96.0.4664.45/chromedriver] found in cache\n"
     ]
    },
    {
     "name": "stdout",
     "output_type": "stream",
     "text": [
      "llego a los huespedes\n",
      "llego a las características\n",
      "llego a los precios\n",
      "llego a los usos\n"
     ]
    },
    {
     "name": "stderr",
     "output_type": "stream",
     "text": [
      "\n",
      "\n",
      "====== WebDriver manager ======\n",
      "Current google-chrome version is 96.0.4664\n",
      "Get LATEST chromedriver version for 96.0.4664 google-chrome\n"
     ]
    },
    {
     "name": "stdout",
     "output_type": "stream",
     "text": [
      "748\n"
     ]
    },
    {
     "name": "stderr",
     "output_type": "stream",
     "text": [
      "Driver [/Users/franciscovispo/.wdm/drivers/chromedriver/mac64/96.0.4664.45/chromedriver] found in cache\n"
     ]
    },
    {
     "name": "stdout",
     "output_type": "stream",
     "text": [
      "llego a los huespedes\n",
      "llego a las características\n",
      "llego a los precios\n",
      "llego a los usos\n"
     ]
    },
    {
     "name": "stderr",
     "output_type": "stream",
     "text": [
      "\n",
      "\n",
      "====== WebDriver manager ======\n"
     ]
    },
    {
     "name": "stdout",
     "output_type": "stream",
     "text": [
      "749\n"
     ]
    },
    {
     "name": "stderr",
     "output_type": "stream",
     "text": [
      "Current google-chrome version is 96.0.4664\n",
      "Get LATEST chromedriver version for 96.0.4664 google-chrome\n",
      "Driver [/Users/franciscovispo/.wdm/drivers/chromedriver/mac64/96.0.4664.45/chromedriver] found in cache\n"
     ]
    },
    {
     "name": "stdout",
     "output_type": "stream",
     "text": [
      "llego a los huespedes\n",
      "llego a las características\n",
      "llego a los precios\n",
      "llego a los usos\n"
     ]
    },
    {
     "name": "stderr",
     "output_type": "stream",
     "text": [
      "\n",
      "\n",
      "====== WebDriver manager ======\n",
      "Current google-chrome version is 96.0.4664\n",
      "Get LATEST chromedriver version for 96.0.4664 google-chrome\n"
     ]
    },
    {
     "name": "stdout",
     "output_type": "stream",
     "text": [
      "750\n"
     ]
    },
    {
     "name": "stderr",
     "output_type": "stream",
     "text": [
      "Driver [/Users/franciscovispo/.wdm/drivers/chromedriver/mac64/96.0.4664.45/chromedriver] found in cache\n"
     ]
    },
    {
     "name": "stdout",
     "output_type": "stream",
     "text": [
      "llego a los huespedes\n",
      "llego a las características\n",
      "llego a los precios\n",
      "llego a los usos\n"
     ]
    },
    {
     "name": "stderr",
     "output_type": "stream",
     "text": [
      "\n",
      "\n",
      "====== WebDriver manager ======\n"
     ]
    },
    {
     "name": "stdout",
     "output_type": "stream",
     "text": [
      "751\n"
     ]
    },
    {
     "name": "stderr",
     "output_type": "stream",
     "text": [
      "Current google-chrome version is 96.0.4664\n",
      "Get LATEST chromedriver version for 96.0.4664 google-chrome\n",
      "Driver [/Users/franciscovispo/.wdm/drivers/chromedriver/mac64/96.0.4664.45/chromedriver] found in cache\n"
     ]
    },
    {
     "name": "stdout",
     "output_type": "stream",
     "text": [
      "llego a los huespedes\n",
      "llego a las características\n",
      "llego a los precios\n",
      "llego a los usos\n"
     ]
    },
    {
     "name": "stderr",
     "output_type": "stream",
     "text": [
      "\n",
      "\n",
      "====== WebDriver manager ======\n",
      "Current google-chrome version is 96.0.4664\n"
     ]
    },
    {
     "name": "stdout",
     "output_type": "stream",
     "text": [
      "752\n"
     ]
    },
    {
     "name": "stderr",
     "output_type": "stream",
     "text": [
      "Get LATEST chromedriver version for 96.0.4664 google-chrome\n",
      "Driver [/Users/franciscovispo/.wdm/drivers/chromedriver/mac64/96.0.4664.45/chromedriver] found in cache\n"
     ]
    },
    {
     "name": "stdout",
     "output_type": "stream",
     "text": [
      "llego a los huespedes\n",
      "llego a las características\n",
      "llego a los precios\n",
      "llego a los usos\n"
     ]
    },
    {
     "name": "stderr",
     "output_type": "stream",
     "text": [
      "\n",
      "\n",
      "====== WebDriver manager ======\n",
      "Current google-chrome version is 96.0.4664\n",
      "Get LATEST chromedriver version for 96.0.4664 google-chrome\n"
     ]
    },
    {
     "name": "stdout",
     "output_type": "stream",
     "text": [
      "753\n"
     ]
    },
    {
     "name": "stderr",
     "output_type": "stream",
     "text": [
      "Driver [/Users/franciscovispo/.wdm/drivers/chromedriver/mac64/96.0.4664.45/chromedriver] found in cache\n"
     ]
    },
    {
     "name": "stdout",
     "output_type": "stream",
     "text": [
      "llego a los huespedes\n",
      "llego a las características\n",
      "llego a los precios\n",
      "llego a los usos\n"
     ]
    },
    {
     "name": "stderr",
     "output_type": "stream",
     "text": [
      "\n",
      "\n",
      "====== WebDriver manager ======\n"
     ]
    },
    {
     "name": "stdout",
     "output_type": "stream",
     "text": [
      "754\n"
     ]
    },
    {
     "name": "stderr",
     "output_type": "stream",
     "text": [
      "Current google-chrome version is 96.0.4664\n",
      "Get LATEST chromedriver version for 96.0.4664 google-chrome\n",
      "Driver [/Users/franciscovispo/.wdm/drivers/chromedriver/mac64/96.0.4664.45/chromedriver] found in cache\n"
     ]
    },
    {
     "name": "stdout",
     "output_type": "stream",
     "text": [
      "llego a los huespedes\n",
      "llego a las características\n",
      "llego a los precios\n",
      "llego a los usos\n"
     ]
    },
    {
     "name": "stderr",
     "output_type": "stream",
     "text": [
      "\n",
      "\n",
      "====== WebDriver manager ======\n",
      "Current google-chrome version is 96.0.4664\n",
      "Get LATEST chromedriver version for 96.0.4664 google-chrome\n"
     ]
    },
    {
     "name": "stdout",
     "output_type": "stream",
     "text": [
      "755\n"
     ]
    },
    {
     "name": "stderr",
     "output_type": "stream",
     "text": [
      "Driver [/Users/franciscovispo/.wdm/drivers/chromedriver/mac64/96.0.4664.45/chromedriver] found in cache\n"
     ]
    },
    {
     "name": "stdout",
     "output_type": "stream",
     "text": [
      "llego a los huespedes\n",
      "llego a las características\n",
      "llego a los precios\n",
      "llego a los usos\n"
     ]
    },
    {
     "name": "stderr",
     "output_type": "stream",
     "text": [
      "\n",
      "\n",
      "====== WebDriver manager ======\n",
      "Current google-chrome version is 96.0.4664\n",
      "Get LATEST chromedriver version for 96.0.4664 google-chrome\n"
     ]
    },
    {
     "name": "stdout",
     "output_type": "stream",
     "text": [
      "756\n"
     ]
    },
    {
     "name": "stderr",
     "output_type": "stream",
     "text": [
      "Driver [/Users/franciscovispo/.wdm/drivers/chromedriver/mac64/96.0.4664.45/chromedriver] found in cache\n"
     ]
    },
    {
     "name": "stdout",
     "output_type": "stream",
     "text": [
      "llego a los huespedes\n",
      "llego a las características\n",
      "llego a los precios\n",
      "llego a los usos\n"
     ]
    },
    {
     "name": "stderr",
     "output_type": "stream",
     "text": [
      "\n",
      "\n",
      "====== WebDriver manager ======\n"
     ]
    },
    {
     "name": "stdout",
     "output_type": "stream",
     "text": [
      "757\n"
     ]
    },
    {
     "name": "stderr",
     "output_type": "stream",
     "text": [
      "Current google-chrome version is 96.0.4664\n",
      "Get LATEST chromedriver version for 96.0.4664 google-chrome\n",
      "Driver [/Users/franciscovispo/.wdm/drivers/chromedriver/mac64/96.0.4664.45/chromedriver] found in cache\n"
     ]
    },
    {
     "name": "stdout",
     "output_type": "stream",
     "text": [
      "llego a los huespedes\n",
      "llego a las características\n",
      "llego a los precios\n",
      "llego a los usos\n"
     ]
    },
    {
     "name": "stderr",
     "output_type": "stream",
     "text": [
      "\n",
      "\n",
      "====== WebDriver manager ======\n"
     ]
    },
    {
     "name": "stdout",
     "output_type": "stream",
     "text": [
      "758\n"
     ]
    },
    {
     "name": "stderr",
     "output_type": "stream",
     "text": [
      "Current google-chrome version is 96.0.4664\n",
      "Get LATEST chromedriver version for 96.0.4664 google-chrome\n",
      "Driver [/Users/franciscovispo/.wdm/drivers/chromedriver/mac64/96.0.4664.45/chromedriver] found in cache\n"
     ]
    },
    {
     "name": "stdout",
     "output_type": "stream",
     "text": [
      "llego a los huespedes\n",
      "llego a las características\n",
      "llego a los precios\n",
      "llego a los usos\n"
     ]
    },
    {
     "name": "stderr",
     "output_type": "stream",
     "text": [
      "\n",
      "\n",
      "====== WebDriver manager ======\n",
      "Current google-chrome version is 96.0.4664\n",
      "Get LATEST chromedriver version for 96.0.4664 google-chrome\n"
     ]
    },
    {
     "name": "stdout",
     "output_type": "stream",
     "text": [
      "759\n"
     ]
    },
    {
     "name": "stderr",
     "output_type": "stream",
     "text": [
      "Driver [/Users/franciscovispo/.wdm/drivers/chromedriver/mac64/96.0.4664.45/chromedriver] found in cache\n"
     ]
    },
    {
     "name": "stdout",
     "output_type": "stream",
     "text": [
      "llego a los huespedes\n",
      "llego a las características\n",
      "llego a los precios\n",
      "llego a los usos\n"
     ]
    },
    {
     "name": "stderr",
     "output_type": "stream",
     "text": [
      "\n",
      "\n",
      "====== WebDriver manager ======\n"
     ]
    },
    {
     "name": "stdout",
     "output_type": "stream",
     "text": [
      "760\n"
     ]
    },
    {
     "name": "stderr",
     "output_type": "stream",
     "text": [
      "Current google-chrome version is 96.0.4664\n",
      "Get LATEST chromedriver version for 96.0.4664 google-chrome\n",
      "Driver [/Users/franciscovispo/.wdm/drivers/chromedriver/mac64/96.0.4664.45/chromedriver] found in cache\n"
     ]
    },
    {
     "name": "stdout",
     "output_type": "stream",
     "text": [
      "llego a los huespedes\n",
      "llego a las características\n",
      "llego a los precios\n",
      "llego a los usos\n"
     ]
    },
    {
     "name": "stderr",
     "output_type": "stream",
     "text": [
      "\n",
      "\n",
      "====== WebDriver manager ======\n"
     ]
    },
    {
     "name": "stdout",
     "output_type": "stream",
     "text": [
      "761\n"
     ]
    },
    {
     "name": "stderr",
     "output_type": "stream",
     "text": [
      "Current google-chrome version is 96.0.4664\n",
      "Get LATEST chromedriver version for 96.0.4664 google-chrome\n",
      "Driver [/Users/franciscovispo/.wdm/drivers/chromedriver/mac64/96.0.4664.45/chromedriver] found in cache\n"
     ]
    },
    {
     "name": "stdout",
     "output_type": "stream",
     "text": [
      "llego a los huespedes\n",
      "llego a las características\n",
      "llego a los precios\n",
      "llego a los usos\n"
     ]
    },
    {
     "name": "stderr",
     "output_type": "stream",
     "text": [
      "\n",
      "\n",
      "====== WebDriver manager ======\n"
     ]
    },
    {
     "name": "stdout",
     "output_type": "stream",
     "text": [
      "762\n"
     ]
    },
    {
     "name": "stderr",
     "output_type": "stream",
     "text": [
      "Current google-chrome version is 96.0.4664\n",
      "Get LATEST chromedriver version for 96.0.4664 google-chrome\n",
      "Driver [/Users/franciscovispo/.wdm/drivers/chromedriver/mac64/96.0.4664.45/chromedriver] found in cache\n"
     ]
    },
    {
     "name": "stdout",
     "output_type": "stream",
     "text": [
      "llego a los huespedes\n",
      "llego a las características\n",
      "llego a los precios\n",
      "llego a los usos\n"
     ]
    },
    {
     "name": "stderr",
     "output_type": "stream",
     "text": [
      "\n",
      "\n",
      "====== WebDriver manager ======\n"
     ]
    },
    {
     "name": "stdout",
     "output_type": "stream",
     "text": [
      "763\n"
     ]
    },
    {
     "name": "stderr",
     "output_type": "stream",
     "text": [
      "Current google-chrome version is 96.0.4664\n",
      "Get LATEST chromedriver version for 96.0.4664 google-chrome\n",
      "Driver [/Users/franciscovispo/.wdm/drivers/chromedriver/mac64/96.0.4664.45/chromedriver] found in cache\n"
     ]
    },
    {
     "name": "stdout",
     "output_type": "stream",
     "text": [
      "llego a los huespedes\n",
      "llego a las características\n",
      "llego a los precios\n",
      "llego a los usos\n"
     ]
    },
    {
     "name": "stderr",
     "output_type": "stream",
     "text": [
      "\n",
      "\n",
      "====== WebDriver manager ======\n",
      "Current google-chrome version is 96.0.4664\n",
      "Get LATEST chromedriver version for 96.0.4664 google-chrome\n"
     ]
    },
    {
     "name": "stdout",
     "output_type": "stream",
     "text": [
      "764\n"
     ]
    },
    {
     "name": "stderr",
     "output_type": "stream",
     "text": [
      "Driver [/Users/franciscovispo/.wdm/drivers/chromedriver/mac64/96.0.4664.45/chromedriver] found in cache\n"
     ]
    },
    {
     "name": "stdout",
     "output_type": "stream",
     "text": [
      "llego a los huespedes\n",
      "llego a las características\n",
      "llego a los precios\n",
      "llego a los usos\n"
     ]
    },
    {
     "name": "stderr",
     "output_type": "stream",
     "text": [
      "\n",
      "\n",
      "====== WebDriver manager ======\n",
      "Current google-chrome version is 96.0.4664\n",
      "Get LATEST chromedriver version for 96.0.4664 google-chrome\n"
     ]
    },
    {
     "name": "stdout",
     "output_type": "stream",
     "text": [
      "765\n"
     ]
    },
    {
     "name": "stderr",
     "output_type": "stream",
     "text": [
      "Driver [/Users/franciscovispo/.wdm/drivers/chromedriver/mac64/96.0.4664.45/chromedriver] found in cache\n"
     ]
    },
    {
     "name": "stdout",
     "output_type": "stream",
     "text": [
      "llego a los huespedes\n",
      "llego a las características\n",
      "llego a los precios\n",
      "llego a los usos\n"
     ]
    },
    {
     "name": "stderr",
     "output_type": "stream",
     "text": [
      "\n",
      "\n",
      "====== WebDriver manager ======\n",
      "Current google-chrome version is 96.0.4664\n",
      "Get LATEST chromedriver version for 96.0.4664 google-chrome\n"
     ]
    },
    {
     "name": "stdout",
     "output_type": "stream",
     "text": [
      "766\n"
     ]
    },
    {
     "name": "stderr",
     "output_type": "stream",
     "text": [
      "Driver [/Users/franciscovispo/.wdm/drivers/chromedriver/mac64/96.0.4664.45/chromedriver] found in cache\n"
     ]
    },
    {
     "name": "stdout",
     "output_type": "stream",
     "text": [
      "llego a los huespedes\n",
      "llego a las características\n",
      "llego a los precios\n",
      "llego a los usos\n"
     ]
    },
    {
     "name": "stderr",
     "output_type": "stream",
     "text": [
      "\n",
      "\n",
      "====== WebDriver manager ======\n"
     ]
    },
    {
     "name": "stdout",
     "output_type": "stream",
     "text": [
      "767\n"
     ]
    },
    {
     "name": "stderr",
     "output_type": "stream",
     "text": [
      "Current google-chrome version is 96.0.4664\n",
      "Get LATEST chromedriver version for 96.0.4664 google-chrome\n",
      "Driver [/Users/franciscovispo/.wdm/drivers/chromedriver/mac64/96.0.4664.45/chromedriver] found in cache\n"
     ]
    },
    {
     "name": "stdout",
     "output_type": "stream",
     "text": [
      "llego a los huespedes\n",
      "llego a las características\n",
      "llego a los precios\n",
      "llego a los usos\n"
     ]
    },
    {
     "name": "stderr",
     "output_type": "stream",
     "text": [
      "\n",
      "\n",
      "====== WebDriver manager ======\n"
     ]
    },
    {
     "name": "stdout",
     "output_type": "stream",
     "text": [
      "768\n"
     ]
    },
    {
     "name": "stderr",
     "output_type": "stream",
     "text": [
      "Current google-chrome version is 96.0.4664\n",
      "Get LATEST chromedriver version for 96.0.4664 google-chrome\n",
      "Driver [/Users/franciscovispo/.wdm/drivers/chromedriver/mac64/96.0.4664.45/chromedriver] found in cache\n"
     ]
    },
    {
     "name": "stdout",
     "output_type": "stream",
     "text": [
      "llego a los huespedes\n",
      "llego a las características\n",
      "llego a los precios\n",
      "llego a los usos\n"
     ]
    },
    {
     "name": "stderr",
     "output_type": "stream",
     "text": [
      "\n",
      "\n",
      "====== WebDriver manager ======\n",
      "Current google-chrome version is 96.0.4664\n",
      "Get LATEST chromedriver version for 96.0.4664 google-chrome\n"
     ]
    },
    {
     "name": "stdout",
     "output_type": "stream",
     "text": [
      "769\n"
     ]
    },
    {
     "name": "stderr",
     "output_type": "stream",
     "text": [
      "Driver [/Users/franciscovispo/.wdm/drivers/chromedriver/mac64/96.0.4664.45/chromedriver] found in cache\n"
     ]
    },
    {
     "name": "stdout",
     "output_type": "stream",
     "text": [
      "llego a los huespedes\n",
      "llego a las características\n",
      "llego a los precios\n",
      "llego a los usos\n"
     ]
    },
    {
     "name": "stderr",
     "output_type": "stream",
     "text": [
      "\n",
      "\n",
      "====== WebDriver manager ======\n",
      "Current google-chrome version is 96.0.4664\n"
     ]
    },
    {
     "name": "stdout",
     "output_type": "stream",
     "text": [
      "770\n"
     ]
    },
    {
     "name": "stderr",
     "output_type": "stream",
     "text": [
      "Get LATEST chromedriver version for 96.0.4664 google-chrome\n",
      "Driver [/Users/franciscovispo/.wdm/drivers/chromedriver/mac64/96.0.4664.45/chromedriver] found in cache\n"
     ]
    },
    {
     "name": "stdout",
     "output_type": "stream",
     "text": [
      "llego a los huespedes\n",
      "llego a las características\n",
      "llego a los precios\n",
      "llego a los usos\n"
     ]
    },
    {
     "name": "stderr",
     "output_type": "stream",
     "text": [
      "\n",
      "\n",
      "====== WebDriver manager ======\n"
     ]
    },
    {
     "name": "stdout",
     "output_type": "stream",
     "text": [
      "771\n"
     ]
    },
    {
     "name": "stderr",
     "output_type": "stream",
     "text": [
      "Current google-chrome version is 96.0.4664\n",
      "Get LATEST chromedriver version for 96.0.4664 google-chrome\n",
      "Driver [/Users/franciscovispo/.wdm/drivers/chromedriver/mac64/96.0.4664.45/chromedriver] found in cache\n"
     ]
    },
    {
     "name": "stdout",
     "output_type": "stream",
     "text": [
      "llego a los huespedes\n",
      "llego a las características\n",
      "llego a los precios\n",
      "llego a los usos\n"
     ]
    },
    {
     "name": "stderr",
     "output_type": "stream",
     "text": [
      "\n",
      "\n",
      "====== WebDriver manager ======\n"
     ]
    },
    {
     "name": "stdout",
     "output_type": "stream",
     "text": [
      "772\n"
     ]
    },
    {
     "name": "stderr",
     "output_type": "stream",
     "text": [
      "Current google-chrome version is 96.0.4664\n",
      "Get LATEST chromedriver version for 96.0.4664 google-chrome\n",
      "Driver [/Users/franciscovispo/.wdm/drivers/chromedriver/mac64/96.0.4664.45/chromedriver] found in cache\n"
     ]
    },
    {
     "name": "stdout",
     "output_type": "stream",
     "text": [
      "llego a los huespedes\n",
      "llego a las características\n",
      "llego a los precios\n",
      "llego a los usos\n"
     ]
    },
    {
     "name": "stderr",
     "output_type": "stream",
     "text": [
      "\n",
      "\n",
      "====== WebDriver manager ======\n",
      "Current google-chrome version is 96.0.4664\n",
      "Get LATEST chromedriver version for 96.0.4664 google-chrome\n"
     ]
    },
    {
     "name": "stdout",
     "output_type": "stream",
     "text": [
      "773\n"
     ]
    },
    {
     "name": "stderr",
     "output_type": "stream",
     "text": [
      "Driver [/Users/franciscovispo/.wdm/drivers/chromedriver/mac64/96.0.4664.45/chromedriver] found in cache\n"
     ]
    },
    {
     "name": "stdout",
     "output_type": "stream",
     "text": [
      "llego a los huespedes\n",
      "llego a las características\n",
      "llego a los precios\n",
      "llego a los usos\n"
     ]
    },
    {
     "name": "stderr",
     "output_type": "stream",
     "text": [
      "\n",
      "\n",
      "====== WebDriver manager ======\n"
     ]
    },
    {
     "name": "stdout",
     "output_type": "stream",
     "text": [
      "774\n"
     ]
    },
    {
     "name": "stderr",
     "output_type": "stream",
     "text": [
      "Current google-chrome version is 96.0.4664\n",
      "Get LATEST chromedriver version for 96.0.4664 google-chrome\n",
      "Driver [/Users/franciscovispo/.wdm/drivers/chromedriver/mac64/96.0.4664.45/chromedriver] found in cache\n"
     ]
    },
    {
     "name": "stdout",
     "output_type": "stream",
     "text": [
      "llego a los huespedes\n",
      "llego a las características\n",
      "llego a los precios\n",
      "llego a los usos\n"
     ]
    },
    {
     "name": "stderr",
     "output_type": "stream",
     "text": [
      "\n",
      "\n",
      "====== WebDriver manager ======\n",
      "Current google-chrome version is 96.0.4664\n"
     ]
    },
    {
     "name": "stdout",
     "output_type": "stream",
     "text": [
      "775\n"
     ]
    },
    {
     "name": "stderr",
     "output_type": "stream",
     "text": [
      "Get LATEST chromedriver version for 96.0.4664 google-chrome\n",
      "Driver [/Users/franciscovispo/.wdm/drivers/chromedriver/mac64/96.0.4664.45/chromedriver] found in cache\n"
     ]
    },
    {
     "name": "stdout",
     "output_type": "stream",
     "text": [
      "llego a los huespedes\n",
      "llego a las características\n",
      "llego a los precios\n",
      "llego a los usos\n"
     ]
    },
    {
     "name": "stderr",
     "output_type": "stream",
     "text": [
      "\n",
      "\n",
      "====== WebDriver manager ======\n"
     ]
    },
    {
     "name": "stdout",
     "output_type": "stream",
     "text": [
      "776\n"
     ]
    },
    {
     "name": "stderr",
     "output_type": "stream",
     "text": [
      "Current google-chrome version is 96.0.4664\n",
      "Get LATEST chromedriver version for 96.0.4664 google-chrome\n",
      "Driver [/Users/franciscovispo/.wdm/drivers/chromedriver/mac64/96.0.4664.45/chromedriver] found in cache\n"
     ]
    },
    {
     "name": "stdout",
     "output_type": "stream",
     "text": [
      "llego a los huespedes\n",
      "llego a las características\n",
      "llego a los precios\n",
      "llego a los usos\n"
     ]
    },
    {
     "name": "stderr",
     "output_type": "stream",
     "text": [
      "\n",
      "\n",
      "====== WebDriver manager ======\n"
     ]
    },
    {
     "name": "stdout",
     "output_type": "stream",
     "text": [
      "777\n"
     ]
    },
    {
     "name": "stderr",
     "output_type": "stream",
     "text": [
      "Current google-chrome version is 96.0.4664\n",
      "Get LATEST chromedriver version for 96.0.4664 google-chrome\n",
      "Driver [/Users/franciscovispo/.wdm/drivers/chromedriver/mac64/96.0.4664.45/chromedriver] found in cache\n"
     ]
    },
    {
     "name": "stdout",
     "output_type": "stream",
     "text": [
      "llego a los huespedes\n",
      "llego a las características\n",
      "llego a los precios\n",
      "llego a los usos\n"
     ]
    },
    {
     "name": "stderr",
     "output_type": "stream",
     "text": [
      "\n",
      "\n",
      "====== WebDriver manager ======\n",
      "Current google-chrome version is 96.0.4664\n",
      "Get LATEST chromedriver version for 96.0.4664 google-chrome\n"
     ]
    },
    {
     "name": "stdout",
     "output_type": "stream",
     "text": [
      "778\n"
     ]
    },
    {
     "name": "stderr",
     "output_type": "stream",
     "text": [
      "Driver [/Users/franciscovispo/.wdm/drivers/chromedriver/mac64/96.0.4664.45/chromedriver] found in cache\n"
     ]
    },
    {
     "name": "stdout",
     "output_type": "stream",
     "text": [
      "llego a los huespedes\n",
      "llego a las características\n",
      "llego a los precios\n",
      "llego a los usos\n"
     ]
    },
    {
     "name": "stderr",
     "output_type": "stream",
     "text": [
      "\n",
      "\n",
      "====== WebDriver manager ======\n",
      "Current google-chrome version is 96.0.4664\n",
      "Get LATEST chromedriver version for 96.0.4664 google-chrome\n"
     ]
    },
    {
     "name": "stdout",
     "output_type": "stream",
     "text": [
      "779\n"
     ]
    },
    {
     "name": "stderr",
     "output_type": "stream",
     "text": [
      "Driver [/Users/franciscovispo/.wdm/drivers/chromedriver/mac64/96.0.4664.45/chromedriver] found in cache\n"
     ]
    },
    {
     "name": "stdout",
     "output_type": "stream",
     "text": [
      "llego a los huespedes\n",
      "llego a las características\n",
      "llego a los precios\n",
      "llego a los usos\n"
     ]
    },
    {
     "name": "stderr",
     "output_type": "stream",
     "text": [
      "\n",
      "\n",
      "====== WebDriver manager ======\n"
     ]
    },
    {
     "name": "stdout",
     "output_type": "stream",
     "text": [
      "780\n"
     ]
    },
    {
     "name": "stderr",
     "output_type": "stream",
     "text": [
      "Current google-chrome version is 96.0.4664\n",
      "Get LATEST chromedriver version for 96.0.4664 google-chrome\n",
      "Driver [/Users/franciscovispo/.wdm/drivers/chromedriver/mac64/96.0.4664.45/chromedriver] found in cache\n"
     ]
    },
    {
     "name": "stdout",
     "output_type": "stream",
     "text": [
      "llego a los huespedes\n",
      "llego a las características\n",
      "llego a los precios\n",
      "llego a los usos\n"
     ]
    },
    {
     "name": "stderr",
     "output_type": "stream",
     "text": [
      "\n",
      "\n",
      "====== WebDriver manager ======\n"
     ]
    },
    {
     "name": "stdout",
     "output_type": "stream",
     "text": [
      "781\n"
     ]
    },
    {
     "name": "stderr",
     "output_type": "stream",
     "text": [
      "Current google-chrome version is 96.0.4664\n",
      "Get LATEST chromedriver version for 96.0.4664 google-chrome\n",
      "Driver [/Users/franciscovispo/.wdm/drivers/chromedriver/mac64/96.0.4664.45/chromedriver] found in cache\n"
     ]
    },
    {
     "name": "stdout",
     "output_type": "stream",
     "text": [
      "llego a los huespedes\n",
      "llego a las características\n",
      "llego a los precios\n",
      "llego a los usos\n"
     ]
    },
    {
     "name": "stderr",
     "output_type": "stream",
     "text": [
      "\n",
      "\n",
      "====== WebDriver manager ======\n",
      "Current google-chrome version is 96.0.4664\n",
      "Get LATEST chromedriver version for 96.0.4664 google-chrome\n"
     ]
    },
    {
     "name": "stdout",
     "output_type": "stream",
     "text": [
      "782\n"
     ]
    },
    {
     "name": "stderr",
     "output_type": "stream",
     "text": [
      "Driver [/Users/franciscovispo/.wdm/drivers/chromedriver/mac64/96.0.4664.45/chromedriver] found in cache\n"
     ]
    },
    {
     "name": "stdout",
     "output_type": "stream",
     "text": [
      "llego a los huespedes\n",
      "llego a las características\n",
      "llego a los precios\n",
      "llego a los usos\n"
     ]
    },
    {
     "name": "stderr",
     "output_type": "stream",
     "text": [
      "\n",
      "\n",
      "====== WebDriver manager ======\n"
     ]
    },
    {
     "name": "stdout",
     "output_type": "stream",
     "text": [
      "783\n"
     ]
    },
    {
     "name": "stderr",
     "output_type": "stream",
     "text": [
      "Current google-chrome version is 96.0.4664\n",
      "Get LATEST chromedriver version for 96.0.4664 google-chrome\n",
      "Driver [/Users/franciscovispo/.wdm/drivers/chromedriver/mac64/96.0.4664.45/chromedriver] found in cache\n"
     ]
    },
    {
     "name": "stdout",
     "output_type": "stream",
     "text": [
      "llego a los huespedes\n",
      "llego a las características\n",
      "llego a los precios\n",
      "llego a los usos\n"
     ]
    },
    {
     "name": "stderr",
     "output_type": "stream",
     "text": [
      "\n",
      "\n",
      "====== WebDriver manager ======\n",
      "Current google-chrome version is 96.0.4664\n",
      "Get LATEST chromedriver version for 96.0.4664 google-chrome\n"
     ]
    },
    {
     "name": "stdout",
     "output_type": "stream",
     "text": [
      "784\n"
     ]
    },
    {
     "name": "stderr",
     "output_type": "stream",
     "text": [
      "Driver [/Users/franciscovispo/.wdm/drivers/chromedriver/mac64/96.0.4664.45/chromedriver] found in cache\n"
     ]
    },
    {
     "name": "stdout",
     "output_type": "stream",
     "text": [
      "llego a los huespedes\n",
      "llego a las características\n",
      "llego a los precios\n",
      "llego a los usos\n"
     ]
    },
    {
     "name": "stderr",
     "output_type": "stream",
     "text": [
      "\n",
      "\n",
      "====== WebDriver manager ======\n",
      "Current google-chrome version is 96.0.4664\n"
     ]
    },
    {
     "name": "stdout",
     "output_type": "stream",
     "text": [
      "785\n"
     ]
    },
    {
     "name": "stderr",
     "output_type": "stream",
     "text": [
      "Get LATEST chromedriver version for 96.0.4664 google-chrome\n",
      "Driver [/Users/franciscovispo/.wdm/drivers/chromedriver/mac64/96.0.4664.45/chromedriver] found in cache\n"
     ]
    },
    {
     "name": "stdout",
     "output_type": "stream",
     "text": [
      "llego a los huespedes\n",
      "llego a las características\n",
      "llego a los precios\n",
      "llego a los usos\n"
     ]
    },
    {
     "name": "stderr",
     "output_type": "stream",
     "text": [
      "\n",
      "\n",
      "====== WebDriver manager ======\n",
      "Current google-chrome version is 96.0.4664\n",
      "Get LATEST chromedriver version for 96.0.4664 google-chrome\n"
     ]
    },
    {
     "name": "stdout",
     "output_type": "stream",
     "text": [
      "786\n"
     ]
    },
    {
     "name": "stderr",
     "output_type": "stream",
     "text": [
      "Driver [/Users/franciscovispo/.wdm/drivers/chromedriver/mac64/96.0.4664.45/chromedriver] found in cache\n"
     ]
    },
    {
     "name": "stdout",
     "output_type": "stream",
     "text": [
      "llego a los huespedes\n",
      "llego a las características\n",
      "llego a los precios\n",
      "llego a los usos\n"
     ]
    },
    {
     "name": "stderr",
     "output_type": "stream",
     "text": [
      "\n",
      "\n",
      "====== WebDriver manager ======\n",
      "Current google-chrome version is 96.0.4664\n",
      "Get LATEST chromedriver version for 96.0.4664 google-chrome\n"
     ]
    },
    {
     "name": "stdout",
     "output_type": "stream",
     "text": [
      "787\n"
     ]
    },
    {
     "name": "stderr",
     "output_type": "stream",
     "text": [
      "Driver [/Users/franciscovispo/.wdm/drivers/chromedriver/mac64/96.0.4664.45/chromedriver] found in cache\n"
     ]
    },
    {
     "name": "stdout",
     "output_type": "stream",
     "text": [
      "llego a los huespedes\n",
      "llego a las características\n",
      "llego a los precios\n",
      "llego a los usos\n"
     ]
    },
    {
     "name": "stderr",
     "output_type": "stream",
     "text": [
      "\n",
      "\n",
      "====== WebDriver manager ======\n",
      "Current google-chrome version is 96.0.4664\n",
      "Get LATEST chromedriver version for 96.0.4664 google-chrome\n"
     ]
    },
    {
     "name": "stdout",
     "output_type": "stream",
     "text": [
      "788\n"
     ]
    },
    {
     "name": "stderr",
     "output_type": "stream",
     "text": [
      "Driver [/Users/franciscovispo/.wdm/drivers/chromedriver/mac64/96.0.4664.45/chromedriver] found in cache\n"
     ]
    },
    {
     "name": "stdout",
     "output_type": "stream",
     "text": [
      "llego a los huespedes\n",
      "llego a las características\n",
      "llego a los precios\n",
      "llego a los usos\n"
     ]
    },
    {
     "name": "stderr",
     "output_type": "stream",
     "text": [
      "\n",
      "\n",
      "====== WebDriver manager ======\n"
     ]
    },
    {
     "name": "stdout",
     "output_type": "stream",
     "text": [
      "789\n"
     ]
    },
    {
     "name": "stderr",
     "output_type": "stream",
     "text": [
      "Current google-chrome version is 96.0.4664\n",
      "Get LATEST chromedriver version for 96.0.4664 google-chrome\n",
      "Driver [/Users/franciscovispo/.wdm/drivers/chromedriver/mac64/96.0.4664.45/chromedriver] found in cache\n"
     ]
    },
    {
     "name": "stdout",
     "output_type": "stream",
     "text": [
      "llego a los huespedes\n",
      "llego a las características\n",
      "llego a los precios\n",
      "llego a los usos\n"
     ]
    },
    {
     "name": "stderr",
     "output_type": "stream",
     "text": [
      "\n",
      "\n",
      "====== WebDriver manager ======\n"
     ]
    },
    {
     "name": "stdout",
     "output_type": "stream",
     "text": [
      "790\n"
     ]
    },
    {
     "name": "stderr",
     "output_type": "stream",
     "text": [
      "Current google-chrome version is 96.0.4664\n",
      "Get LATEST chromedriver version for 96.0.4664 google-chrome\n",
      "Driver [/Users/franciscovispo/.wdm/drivers/chromedriver/mac64/96.0.4664.45/chromedriver] found in cache\n"
     ]
    },
    {
     "name": "stdout",
     "output_type": "stream",
     "text": [
      "llego a los huespedes\n",
      "llego a las características\n",
      "llego a los precios\n",
      "llego a los usos\n"
     ]
    },
    {
     "name": "stderr",
     "output_type": "stream",
     "text": [
      "\n",
      "\n",
      "====== WebDriver manager ======\n"
     ]
    },
    {
     "name": "stdout",
     "output_type": "stream",
     "text": [
      "791\n"
     ]
    },
    {
     "name": "stderr",
     "output_type": "stream",
     "text": [
      "Current google-chrome version is 96.0.4664\n",
      "Get LATEST chromedriver version for 96.0.4664 google-chrome\n",
      "Driver [/Users/franciscovispo/.wdm/drivers/chromedriver/mac64/96.0.4664.45/chromedriver] found in cache\n"
     ]
    },
    {
     "name": "stdout",
     "output_type": "stream",
     "text": [
      "llego a los huespedes\n",
      "llego a las características\n",
      "llego a los precios\n",
      "llego a los usos\n"
     ]
    },
    {
     "name": "stderr",
     "output_type": "stream",
     "text": [
      "\n",
      "\n",
      "====== WebDriver manager ======\n",
      "Current google-chrome version is 96.0.4664\n",
      "Get LATEST chromedriver version for 96.0.4664 google-chrome\n"
     ]
    },
    {
     "name": "stdout",
     "output_type": "stream",
     "text": [
      "792\n"
     ]
    },
    {
     "name": "stderr",
     "output_type": "stream",
     "text": [
      "Driver [/Users/franciscovispo/.wdm/drivers/chromedriver/mac64/96.0.4664.45/chromedriver] found in cache\n"
     ]
    },
    {
     "name": "stdout",
     "output_type": "stream",
     "text": [
      "llego a los huespedes\n",
      "llego a las características\n",
      "llego a los precios\n",
      "llego a los usos\n"
     ]
    },
    {
     "name": "stderr",
     "output_type": "stream",
     "text": [
      "\n",
      "\n",
      "====== WebDriver manager ======\n"
     ]
    },
    {
     "name": "stdout",
     "output_type": "stream",
     "text": [
      "793\n"
     ]
    },
    {
     "name": "stderr",
     "output_type": "stream",
     "text": [
      "Current google-chrome version is 96.0.4664\n",
      "Get LATEST chromedriver version for 96.0.4664 google-chrome\n",
      "Driver [/Users/franciscovispo/.wdm/drivers/chromedriver/mac64/96.0.4664.45/chromedriver] found in cache\n"
     ]
    },
    {
     "name": "stdout",
     "output_type": "stream",
     "text": [
      "llego a los huespedes\n",
      "llego a las características\n",
      "llego a los precios\n",
      "llego a los usos\n"
     ]
    },
    {
     "name": "stderr",
     "output_type": "stream",
     "text": [
      "\n",
      "\n",
      "====== WebDriver manager ======\n",
      "Current google-chrome version is 96.0.4664\n",
      "Get LATEST chromedriver version for 96.0.4664 google-chrome\n"
     ]
    },
    {
     "name": "stdout",
     "output_type": "stream",
     "text": [
      "794\n"
     ]
    },
    {
     "name": "stderr",
     "output_type": "stream",
     "text": [
      "Driver [/Users/franciscovispo/.wdm/drivers/chromedriver/mac64/96.0.4664.45/chromedriver] found in cache\n"
     ]
    },
    {
     "name": "stdout",
     "output_type": "stream",
     "text": [
      "llego a los huespedes\n",
      "llego a las características\n",
      "llego a los precios\n",
      "llego a los usos\n"
     ]
    },
    {
     "name": "stderr",
     "output_type": "stream",
     "text": [
      "\n",
      "\n",
      "====== WebDriver manager ======\n",
      "Current google-chrome version is 96.0.4664\n",
      "Get LATEST chromedriver version for 96.0.4664 google-chrome\n"
     ]
    },
    {
     "name": "stdout",
     "output_type": "stream",
     "text": [
      "795\n"
     ]
    },
    {
     "name": "stderr",
     "output_type": "stream",
     "text": [
      "Driver [/Users/franciscovispo/.wdm/drivers/chromedriver/mac64/96.0.4664.45/chromedriver] found in cache\n"
     ]
    },
    {
     "name": "stdout",
     "output_type": "stream",
     "text": [
      "llego a los huespedes\n",
      "llego a las características\n",
      "llego a los precios\n",
      "llego a los usos\n"
     ]
    },
    {
     "name": "stderr",
     "output_type": "stream",
     "text": [
      "\n",
      "\n",
      "====== WebDriver manager ======\n",
      "Current google-chrome version is 96.0.4664\n",
      "Get LATEST chromedriver version for 96.0.4664 google-chrome\n"
     ]
    },
    {
     "name": "stdout",
     "output_type": "stream",
     "text": [
      "796\n"
     ]
    },
    {
     "name": "stderr",
     "output_type": "stream",
     "text": [
      "Driver [/Users/franciscovispo/.wdm/drivers/chromedriver/mac64/96.0.4664.45/chromedriver] found in cache\n"
     ]
    },
    {
     "name": "stdout",
     "output_type": "stream",
     "text": [
      "llego a los huespedes\n",
      "llego a las características\n",
      "llego a los precios\n",
      "llego a los usos\n"
     ]
    },
    {
     "name": "stderr",
     "output_type": "stream",
     "text": [
      "\n",
      "\n",
      "====== WebDriver manager ======\n"
     ]
    },
    {
     "name": "stdout",
     "output_type": "stream",
     "text": [
      "797\n"
     ]
    },
    {
     "name": "stderr",
     "output_type": "stream",
     "text": [
      "Current google-chrome version is 96.0.4664\n",
      "Get LATEST chromedriver version for 96.0.4664 google-chrome\n",
      "Driver [/Users/franciscovispo/.wdm/drivers/chromedriver/mac64/96.0.4664.45/chromedriver] found in cache\n"
     ]
    },
    {
     "name": "stdout",
     "output_type": "stream",
     "text": [
      "llego a los huespedes\n",
      "llego a las características\n",
      "llego a los precios\n",
      "llego a los usos\n"
     ]
    },
    {
     "name": "stderr",
     "output_type": "stream",
     "text": [
      "\n",
      "\n",
      "====== WebDriver manager ======\n"
     ]
    },
    {
     "name": "stdout",
     "output_type": "stream",
     "text": [
      "798\n"
     ]
    },
    {
     "name": "stderr",
     "output_type": "stream",
     "text": [
      "Current google-chrome version is 96.0.4664\n",
      "Get LATEST chromedriver version for 96.0.4664 google-chrome\n",
      "Driver [/Users/franciscovispo/.wdm/drivers/chromedriver/mac64/96.0.4664.45/chromedriver] found in cache\n"
     ]
    },
    {
     "name": "stdout",
     "output_type": "stream",
     "text": [
      "llego a los huespedes\n",
      "llego a las características\n",
      "llego a los precios\n",
      "llego a los usos\n"
     ]
    },
    {
     "name": "stderr",
     "output_type": "stream",
     "text": [
      "\n",
      "\n",
      "====== WebDriver manager ======\n"
     ]
    },
    {
     "name": "stdout",
     "output_type": "stream",
     "text": [
      "799\n"
     ]
    },
    {
     "name": "stderr",
     "output_type": "stream",
     "text": [
      "Current google-chrome version is 96.0.4664\n",
      "Get LATEST chromedriver version for 96.0.4664 google-chrome\n",
      "Driver [/Users/franciscovispo/.wdm/drivers/chromedriver/mac64/96.0.4664.45/chromedriver] found in cache\n"
     ]
    },
    {
     "name": "stdout",
     "output_type": "stream",
     "text": [
      "llego a los huespedes\n",
      "llego a las características\n",
      "llego a los precios\n",
      "llego a los usos\n"
     ]
    },
    {
     "name": "stderr",
     "output_type": "stream",
     "text": [
      "\n",
      "\n",
      "====== WebDriver manager ======\n"
     ]
    },
    {
     "name": "stdout",
     "output_type": "stream",
     "text": [
      "800\n"
     ]
    },
    {
     "name": "stderr",
     "output_type": "stream",
     "text": [
      "Current google-chrome version is 96.0.4664\n",
      "Get LATEST chromedriver version for 96.0.4664 google-chrome\n",
      "Driver [/Users/franciscovispo/.wdm/drivers/chromedriver/mac64/96.0.4664.45/chromedriver] found in cache\n"
     ]
    },
    {
     "name": "stdout",
     "output_type": "stream",
     "text": [
      "llego a los huespedes\n",
      "llego a las características\n",
      "llego a los precios\n",
      "llego a los usos\n"
     ]
    },
    {
     "name": "stderr",
     "output_type": "stream",
     "text": [
      "\n",
      "\n",
      "====== WebDriver manager ======\n"
     ]
    },
    {
     "name": "stdout",
     "output_type": "stream",
     "text": [
      "801\n"
     ]
    },
    {
     "name": "stderr",
     "output_type": "stream",
     "text": [
      "Current google-chrome version is 96.0.4664\n",
      "Get LATEST chromedriver version for 96.0.4664 google-chrome\n",
      "Driver [/Users/franciscovispo/.wdm/drivers/chromedriver/mac64/96.0.4664.45/chromedriver] found in cache\n"
     ]
    },
    {
     "name": "stdout",
     "output_type": "stream",
     "text": [
      "llego a los huespedes\n",
      "llego a las características\n",
      "llego a los precios\n",
      "llego a los usos\n"
     ]
    },
    {
     "name": "stderr",
     "output_type": "stream",
     "text": [
      "\n",
      "\n",
      "====== WebDriver manager ======\n"
     ]
    },
    {
     "name": "stdout",
     "output_type": "stream",
     "text": [
      "802\n"
     ]
    },
    {
     "name": "stderr",
     "output_type": "stream",
     "text": [
      "Current google-chrome version is 96.0.4664\n",
      "Get LATEST chromedriver version for 96.0.4664 google-chrome\n",
      "Driver [/Users/franciscovispo/.wdm/drivers/chromedriver/mac64/96.0.4664.45/chromedriver] found in cache\n"
     ]
    },
    {
     "name": "stdout",
     "output_type": "stream",
     "text": [
      "llego a los huespedes\n",
      "llego a las características\n",
      "llego a los precios\n",
      "llego a los usos\n"
     ]
    },
    {
     "name": "stderr",
     "output_type": "stream",
     "text": [
      "\n",
      "\n",
      "====== WebDriver manager ======\n"
     ]
    },
    {
     "name": "stdout",
     "output_type": "stream",
     "text": [
      "803\n"
     ]
    },
    {
     "name": "stderr",
     "output_type": "stream",
     "text": [
      "Current google-chrome version is 96.0.4664\n",
      "Get LATEST chromedriver version for 96.0.4664 google-chrome\n",
      "Driver [/Users/franciscovispo/.wdm/drivers/chromedriver/mac64/96.0.4664.45/chromedriver] found in cache\n"
     ]
    },
    {
     "name": "stdout",
     "output_type": "stream",
     "text": [
      "llego a los huespedes\n",
      "llego a las características\n",
      "llego a los precios\n",
      "llego a los usos\n"
     ]
    },
    {
     "name": "stderr",
     "output_type": "stream",
     "text": [
      "\n",
      "\n",
      "====== WebDriver manager ======\n"
     ]
    },
    {
     "name": "stdout",
     "output_type": "stream",
     "text": [
      "804\n"
     ]
    },
    {
     "name": "stderr",
     "output_type": "stream",
     "text": [
      "Current google-chrome version is 96.0.4664\n",
      "Get LATEST chromedriver version for 96.0.4664 google-chrome\n",
      "Driver [/Users/franciscovispo/.wdm/drivers/chromedriver/mac64/96.0.4664.45/chromedriver] found in cache\n"
     ]
    },
    {
     "name": "stdout",
     "output_type": "stream",
     "text": [
      "llego a los huespedes\n",
      "llego a las características\n",
      "llego a los precios\n",
      "llego a los usos\n"
     ]
    },
    {
     "name": "stderr",
     "output_type": "stream",
     "text": [
      "\n",
      "\n",
      "====== WebDriver manager ======\n"
     ]
    },
    {
     "name": "stdout",
     "output_type": "stream",
     "text": [
      "805\n"
     ]
    },
    {
     "name": "stderr",
     "output_type": "stream",
     "text": [
      "Current google-chrome version is 96.0.4664\n",
      "Get LATEST chromedriver version for 96.0.4664 google-chrome\n",
      "Driver [/Users/franciscovispo/.wdm/drivers/chromedriver/mac64/96.0.4664.45/chromedriver] found in cache\n"
     ]
    },
    {
     "name": "stdout",
     "output_type": "stream",
     "text": [
      "llego a los huespedes\n",
      "llego a las características\n",
      "llego a los precios\n",
      "llego a los usos\n"
     ]
    },
    {
     "name": "stderr",
     "output_type": "stream",
     "text": [
      "\n",
      "\n",
      "====== WebDriver manager ======\n"
     ]
    },
    {
     "name": "stdout",
     "output_type": "stream",
     "text": [
      "806\n"
     ]
    },
    {
     "name": "stderr",
     "output_type": "stream",
     "text": [
      "Current google-chrome version is 96.0.4664\n",
      "Get LATEST chromedriver version for 96.0.4664 google-chrome\n",
      "Driver [/Users/franciscovispo/.wdm/drivers/chromedriver/mac64/96.0.4664.45/chromedriver] found in cache\n"
     ]
    },
    {
     "name": "stdout",
     "output_type": "stream",
     "text": [
      "llego a los huespedes\n",
      "llego a las características\n",
      "llego a los precios\n",
      "llego a los usos\n"
     ]
    },
    {
     "name": "stderr",
     "output_type": "stream",
     "text": [
      "\n",
      "\n",
      "====== WebDriver manager ======\n",
      "Current google-chrome version is 96.0.4664\n",
      "Get LATEST chromedriver version for 96.0.4664 google-chrome\n"
     ]
    },
    {
     "name": "stdout",
     "output_type": "stream",
     "text": [
      "807\n"
     ]
    },
    {
     "name": "stderr",
     "output_type": "stream",
     "text": [
      "Driver [/Users/franciscovispo/.wdm/drivers/chromedriver/mac64/96.0.4664.45/chromedriver] found in cache\n"
     ]
    },
    {
     "name": "stdout",
     "output_type": "stream",
     "text": [
      "llego a los huespedes\n",
      "llego a las características\n",
      "llego a los precios\n",
      "llego a los usos\n"
     ]
    },
    {
     "name": "stderr",
     "output_type": "stream",
     "text": [
      "\n",
      "\n",
      "====== WebDriver manager ======\n"
     ]
    },
    {
     "name": "stdout",
     "output_type": "stream",
     "text": [
      "808\n"
     ]
    },
    {
     "name": "stderr",
     "output_type": "stream",
     "text": [
      "Current google-chrome version is 96.0.4664\n",
      "Get LATEST chromedriver version for 96.0.4664 google-chrome\n",
      "Driver [/Users/franciscovispo/.wdm/drivers/chromedriver/mac64/96.0.4664.45/chromedriver] found in cache\n"
     ]
    },
    {
     "name": "stdout",
     "output_type": "stream",
     "text": [
      "llego a los huespedes\n",
      "llego a las características\n",
      "llego a los precios\n",
      "llego a los usos\n"
     ]
    },
    {
     "name": "stderr",
     "output_type": "stream",
     "text": [
      "\n",
      "\n",
      "====== WebDriver manager ======\n",
      "Current google-chrome version is 96.0.4664\n",
      "Get LATEST chromedriver version for 96.0.4664 google-chrome\n"
     ]
    },
    {
     "name": "stdout",
     "output_type": "stream",
     "text": [
      "809\n"
     ]
    },
    {
     "name": "stderr",
     "output_type": "stream",
     "text": [
      "Driver [/Users/franciscovispo/.wdm/drivers/chromedriver/mac64/96.0.4664.45/chromedriver] found in cache\n"
     ]
    },
    {
     "name": "stdout",
     "output_type": "stream",
     "text": [
      "llego a los huespedes\n",
      "llego a las características\n",
      "llego a los precios\n",
      "llego a los usos\n"
     ]
    },
    {
     "name": "stderr",
     "output_type": "stream",
     "text": [
      "\n",
      "\n",
      "====== WebDriver manager ======\n"
     ]
    },
    {
     "name": "stdout",
     "output_type": "stream",
     "text": [
      "810\n"
     ]
    },
    {
     "name": "stderr",
     "output_type": "stream",
     "text": [
      "Current google-chrome version is 96.0.4664\n",
      "Get LATEST chromedriver version for 96.0.4664 google-chrome\n",
      "Driver [/Users/franciscovispo/.wdm/drivers/chromedriver/mac64/96.0.4664.45/chromedriver] found in cache\n"
     ]
    },
    {
     "name": "stdout",
     "output_type": "stream",
     "text": [
      "llego a los huespedes\n",
      "llego a las características\n",
      "llego a los precios\n",
      "llego a los usos\n"
     ]
    },
    {
     "name": "stderr",
     "output_type": "stream",
     "text": [
      "\n",
      "\n",
      "====== WebDriver manager ======\n",
      "Current google-chrome version is 96.0.4664\n",
      "Get LATEST chromedriver version for 96.0.4664 google-chrome\n"
     ]
    },
    {
     "name": "stdout",
     "output_type": "stream",
     "text": [
      "811\n"
     ]
    },
    {
     "name": "stderr",
     "output_type": "stream",
     "text": [
      "Driver [/Users/franciscovispo/.wdm/drivers/chromedriver/mac64/96.0.4664.45/chromedriver] found in cache\n"
     ]
    },
    {
     "name": "stdout",
     "output_type": "stream",
     "text": [
      "llego a los huespedes\n",
      "llego a las características\n",
      "llego a los precios\n",
      "llego a los usos\n"
     ]
    },
    {
     "name": "stderr",
     "output_type": "stream",
     "text": [
      "\n",
      "\n",
      "====== WebDriver manager ======\n",
      "Current google-chrome version is 96.0.4664\n",
      "Get LATEST chromedriver version for 96.0.4664 google-chrome\n"
     ]
    },
    {
     "name": "stdout",
     "output_type": "stream",
     "text": [
      "812\n"
     ]
    },
    {
     "name": "stderr",
     "output_type": "stream",
     "text": [
      "Driver [/Users/franciscovispo/.wdm/drivers/chromedriver/mac64/96.0.4664.45/chromedriver] found in cache\n"
     ]
    },
    {
     "name": "stdout",
     "output_type": "stream",
     "text": [
      "llego a los huespedes\n",
      "llego a las características\n",
      "llego a los precios\n",
      "llego a los usos\n"
     ]
    },
    {
     "name": "stderr",
     "output_type": "stream",
     "text": [
      "\n",
      "\n",
      "====== WebDriver manager ======\n"
     ]
    },
    {
     "name": "stdout",
     "output_type": "stream",
     "text": [
      "813\n"
     ]
    },
    {
     "name": "stderr",
     "output_type": "stream",
     "text": [
      "Current google-chrome version is 96.0.4664\n",
      "Get LATEST chromedriver version for 96.0.4664 google-chrome\n",
      "Driver [/Users/franciscovispo/.wdm/drivers/chromedriver/mac64/96.0.4664.45/chromedriver] found in cache\n"
     ]
    },
    {
     "name": "stdout",
     "output_type": "stream",
     "text": [
      "llego a los huespedes\n",
      "llego a las características\n",
      "llego a los precios\n",
      "llego a los usos\n"
     ]
    },
    {
     "name": "stderr",
     "output_type": "stream",
     "text": [
      "\n",
      "\n",
      "====== WebDriver manager ======\n"
     ]
    },
    {
     "name": "stdout",
     "output_type": "stream",
     "text": [
      "814\n"
     ]
    },
    {
     "name": "stderr",
     "output_type": "stream",
     "text": [
      "Current google-chrome version is 96.0.4664\n",
      "Get LATEST chromedriver version for 96.0.4664 google-chrome\n",
      "Driver [/Users/franciscovispo/.wdm/drivers/chromedriver/mac64/96.0.4664.45/chromedriver] found in cache\n"
     ]
    },
    {
     "name": "stdout",
     "output_type": "stream",
     "text": [
      "llego a los huespedes\n",
      "llego a las características\n",
      "llego a los precios\n",
      "llego a los usos\n"
     ]
    },
    {
     "name": "stderr",
     "output_type": "stream",
     "text": [
      "\n",
      "\n",
      "====== WebDriver manager ======\n"
     ]
    },
    {
     "name": "stdout",
     "output_type": "stream",
     "text": [
      "815\n"
     ]
    },
    {
     "name": "stderr",
     "output_type": "stream",
     "text": [
      "Current google-chrome version is 96.0.4664\n",
      "Get LATEST chromedriver version for 96.0.4664 google-chrome\n",
      "Driver [/Users/franciscovispo/.wdm/drivers/chromedriver/mac64/96.0.4664.45/chromedriver] found in cache\n"
     ]
    },
    {
     "name": "stdout",
     "output_type": "stream",
     "text": [
      "llego a los huespedes\n",
      "llego a las características\n",
      "llego a los precios\n",
      "llego a los usos\n"
     ]
    },
    {
     "name": "stderr",
     "output_type": "stream",
     "text": [
      "\n",
      "\n",
      "====== WebDriver manager ======\n",
      "Current google-chrome version is 96.0.4664\n",
      "Get LATEST chromedriver version for 96.0.4664 google-chrome\n"
     ]
    },
    {
     "name": "stdout",
     "output_type": "stream",
     "text": [
      "816\n"
     ]
    },
    {
     "name": "stderr",
     "output_type": "stream",
     "text": [
      "Driver [/Users/franciscovispo/.wdm/drivers/chromedriver/mac64/96.0.4664.45/chromedriver] found in cache\n"
     ]
    },
    {
     "name": "stdout",
     "output_type": "stream",
     "text": [
      "llego a los huespedes\n",
      "llego a las características\n",
      "llego a los precios\n",
      "llego a los usos\n"
     ]
    },
    {
     "name": "stderr",
     "output_type": "stream",
     "text": [
      "\n",
      "\n",
      "====== WebDriver manager ======\n"
     ]
    },
    {
     "name": "stdout",
     "output_type": "stream",
     "text": [
      "817\n"
     ]
    },
    {
     "name": "stderr",
     "output_type": "stream",
     "text": [
      "Current google-chrome version is 96.0.4664\n",
      "Get LATEST chromedriver version for 96.0.4664 google-chrome\n",
      "Driver [/Users/franciscovispo/.wdm/drivers/chromedriver/mac64/96.0.4664.45/chromedriver] found in cache\n"
     ]
    },
    {
     "name": "stdout",
     "output_type": "stream",
     "text": [
      "llego a los huespedes\n",
      "llego a las características\n",
      "llego a los precios\n",
      "llego a los usos\n"
     ]
    },
    {
     "name": "stderr",
     "output_type": "stream",
     "text": [
      "\n",
      "\n",
      "====== WebDriver manager ======\n"
     ]
    },
    {
     "name": "stdout",
     "output_type": "stream",
     "text": [
      "818\n"
     ]
    },
    {
     "name": "stderr",
     "output_type": "stream",
     "text": [
      "Current google-chrome version is 96.0.4664\n",
      "Get LATEST chromedriver version for 96.0.4664 google-chrome\n",
      "Driver [/Users/franciscovispo/.wdm/drivers/chromedriver/mac64/96.0.4664.45/chromedriver] found in cache\n"
     ]
    },
    {
     "name": "stdout",
     "output_type": "stream",
     "text": [
      "llego a los huespedes\n",
      "llego a las características\n",
      "llego a los precios\n",
      "llego a los usos\n"
     ]
    },
    {
     "name": "stderr",
     "output_type": "stream",
     "text": [
      "\n",
      "\n",
      "====== WebDriver manager ======\n"
     ]
    },
    {
     "name": "stdout",
     "output_type": "stream",
     "text": [
      "819\n"
     ]
    },
    {
     "name": "stderr",
     "output_type": "stream",
     "text": [
      "Current google-chrome version is 96.0.4664\n",
      "Get LATEST chromedriver version for 96.0.4664 google-chrome\n",
      "Driver [/Users/franciscovispo/.wdm/drivers/chromedriver/mac64/96.0.4664.45/chromedriver] found in cache\n"
     ]
    },
    {
     "name": "stdout",
     "output_type": "stream",
     "text": [
      "llego a los huespedes\n",
      "llego a las características\n",
      "llego a los precios\n",
      "llego a los usos\n"
     ]
    },
    {
     "name": "stderr",
     "output_type": "stream",
     "text": [
      "\n",
      "\n",
      "====== WebDriver manager ======\n"
     ]
    },
    {
     "name": "stdout",
     "output_type": "stream",
     "text": [
      "820\n"
     ]
    },
    {
     "name": "stderr",
     "output_type": "stream",
     "text": [
      "Current google-chrome version is 96.0.4664\n",
      "Get LATEST chromedriver version for 96.0.4664 google-chrome\n",
      "Driver [/Users/franciscovispo/.wdm/drivers/chromedriver/mac64/96.0.4664.45/chromedriver] found in cache\n"
     ]
    },
    {
     "name": "stdout",
     "output_type": "stream",
     "text": [
      "llego a los huespedes\n",
      "llego a las características\n",
      "llego a los precios\n",
      "llego a los usos\n"
     ]
    },
    {
     "name": "stderr",
     "output_type": "stream",
     "text": [
      "\n",
      "\n",
      "====== WebDriver manager ======\n"
     ]
    },
    {
     "name": "stdout",
     "output_type": "stream",
     "text": [
      "821\n"
     ]
    },
    {
     "name": "stderr",
     "output_type": "stream",
     "text": [
      "Current google-chrome version is 96.0.4664\n",
      "Get LATEST chromedriver version for 96.0.4664 google-chrome\n",
      "Driver [/Users/franciscovispo/.wdm/drivers/chromedriver/mac64/96.0.4664.45/chromedriver] found in cache\n"
     ]
    },
    {
     "name": "stdout",
     "output_type": "stream",
     "text": [
      "llego a los huespedes\n",
      "llego a las características\n",
      "llego a los precios\n",
      "llego a los usos\n"
     ]
    },
    {
     "name": "stderr",
     "output_type": "stream",
     "text": [
      "\n",
      "\n",
      "====== WebDriver manager ======\n"
     ]
    },
    {
     "name": "stdout",
     "output_type": "stream",
     "text": [
      "822\n"
     ]
    },
    {
     "name": "stderr",
     "output_type": "stream",
     "text": [
      "Current google-chrome version is 96.0.4664\n",
      "Get LATEST chromedriver version for 96.0.4664 google-chrome\n",
      "Driver [/Users/franciscovispo/.wdm/drivers/chromedriver/mac64/96.0.4664.45/chromedriver] found in cache\n"
     ]
    },
    {
     "name": "stdout",
     "output_type": "stream",
     "text": [
      "llego a los huespedes\n",
      "llego a las características\n",
      "llego a los precios\n",
      "llego a los usos\n"
     ]
    },
    {
     "name": "stderr",
     "output_type": "stream",
     "text": [
      "\n",
      "\n",
      "====== WebDriver manager ======\n"
     ]
    },
    {
     "name": "stdout",
     "output_type": "stream",
     "text": [
      "823\n"
     ]
    },
    {
     "name": "stderr",
     "output_type": "stream",
     "text": [
      "Current google-chrome version is 96.0.4664\n",
      "Get LATEST chromedriver version for 96.0.4664 google-chrome\n",
      "Driver [/Users/franciscovispo/.wdm/drivers/chromedriver/mac64/96.0.4664.45/chromedriver] found in cache\n"
     ]
    },
    {
     "name": "stdout",
     "output_type": "stream",
     "text": [
      "llego a los huespedes\n",
      "llego a las características\n",
      "llego a los precios\n",
      "llego a los usos\n"
     ]
    },
    {
     "name": "stderr",
     "output_type": "stream",
     "text": [
      "\n",
      "\n",
      "====== WebDriver manager ======\n",
      "Current google-chrome version is 96.0.4664\n",
      "Get LATEST chromedriver version for 96.0.4664 google-chrome\n"
     ]
    },
    {
     "name": "stdout",
     "output_type": "stream",
     "text": [
      "824\n"
     ]
    },
    {
     "name": "stderr",
     "output_type": "stream",
     "text": [
      "Driver [/Users/franciscovispo/.wdm/drivers/chromedriver/mac64/96.0.4664.45/chromedriver] found in cache\n"
     ]
    },
    {
     "name": "stdout",
     "output_type": "stream",
     "text": [
      "llego a los huespedes\n",
      "llego a las características\n",
      "llego a los precios\n",
      "llego a los usos\n"
     ]
    },
    {
     "name": "stderr",
     "output_type": "stream",
     "text": [
      "\n",
      "\n",
      "====== WebDriver manager ======\n"
     ]
    },
    {
     "name": "stdout",
     "output_type": "stream",
     "text": [
      "825\n"
     ]
    },
    {
     "name": "stderr",
     "output_type": "stream",
     "text": [
      "Current google-chrome version is 96.0.4664\n",
      "Get LATEST chromedriver version for 96.0.4664 google-chrome\n",
      "Driver [/Users/franciscovispo/.wdm/drivers/chromedriver/mac64/96.0.4664.45/chromedriver] found in cache\n"
     ]
    },
    {
     "name": "stdout",
     "output_type": "stream",
     "text": [
      "llego a los huespedes\n",
      "llego a las características\n",
      "llego a los precios\n",
      "llego a los usos\n"
     ]
    },
    {
     "name": "stderr",
     "output_type": "stream",
     "text": [
      "\n",
      "\n",
      "====== WebDriver manager ======\n"
     ]
    },
    {
     "name": "stdout",
     "output_type": "stream",
     "text": [
      "826\n"
     ]
    },
    {
     "name": "stderr",
     "output_type": "stream",
     "text": [
      "Current google-chrome version is 96.0.4664\n",
      "Get LATEST chromedriver version for 96.0.4664 google-chrome\n",
      "Driver [/Users/franciscovispo/.wdm/drivers/chromedriver/mac64/96.0.4664.45/chromedriver] found in cache\n"
     ]
    },
    {
     "name": "stdout",
     "output_type": "stream",
     "text": [
      "llego a los huespedes\n",
      "llego a las características\n",
      "llego a los precios\n",
      "llego a los usos\n"
     ]
    },
    {
     "name": "stderr",
     "output_type": "stream",
     "text": [
      "\n",
      "\n",
      "====== WebDriver manager ======\n"
     ]
    },
    {
     "name": "stdout",
     "output_type": "stream",
     "text": [
      "827\n"
     ]
    },
    {
     "name": "stderr",
     "output_type": "stream",
     "text": [
      "Current google-chrome version is 96.0.4664\n",
      "Get LATEST chromedriver version for 96.0.4664 google-chrome\n",
      "Driver [/Users/franciscovispo/.wdm/drivers/chromedriver/mac64/96.0.4664.45/chromedriver] found in cache\n"
     ]
    },
    {
     "name": "stdout",
     "output_type": "stream",
     "text": [
      "llego a los huespedes\n",
      "llego a las características\n",
      "llego a los precios\n",
      "llego a los usos\n"
     ]
    },
    {
     "name": "stderr",
     "output_type": "stream",
     "text": [
      "\n",
      "\n",
      "====== WebDriver manager ======\n",
      "Current google-chrome version is 96.0.4664\n"
     ]
    },
    {
     "name": "stdout",
     "output_type": "stream",
     "text": [
      "828\n"
     ]
    },
    {
     "name": "stderr",
     "output_type": "stream",
     "text": [
      "Get LATEST chromedriver version for 96.0.4664 google-chrome\n",
      "Driver [/Users/franciscovispo/.wdm/drivers/chromedriver/mac64/96.0.4664.45/chromedriver] found in cache\n"
     ]
    },
    {
     "name": "stdout",
     "output_type": "stream",
     "text": [
      "llego a los huespedes\n",
      "llego a las características\n",
      "llego a los precios\n",
      "llego a los usos\n"
     ]
    },
    {
     "name": "stderr",
     "output_type": "stream",
     "text": [
      "\n",
      "\n",
      "====== WebDriver manager ======\n"
     ]
    },
    {
     "name": "stdout",
     "output_type": "stream",
     "text": [
      "829\n"
     ]
    },
    {
     "name": "stderr",
     "output_type": "stream",
     "text": [
      "Current google-chrome version is 96.0.4664\n",
      "Get LATEST chromedriver version for 96.0.4664 google-chrome\n",
      "Driver [/Users/franciscovispo/.wdm/drivers/chromedriver/mac64/96.0.4664.45/chromedriver] found in cache\n"
     ]
    },
    {
     "name": "stdout",
     "output_type": "stream",
     "text": [
      "llego a los huespedes\n",
      "llego a las características\n",
      "llego a los precios\n",
      "llego a los usos\n"
     ]
    },
    {
     "name": "stderr",
     "output_type": "stream",
     "text": [
      "\n",
      "\n",
      "====== WebDriver manager ======\n"
     ]
    },
    {
     "name": "stdout",
     "output_type": "stream",
     "text": [
      "830\n"
     ]
    },
    {
     "name": "stderr",
     "output_type": "stream",
     "text": [
      "Current google-chrome version is 96.0.4664\n",
      "Get LATEST chromedriver version for 96.0.4664 google-chrome\n",
      "Driver [/Users/franciscovispo/.wdm/drivers/chromedriver/mac64/96.0.4664.45/chromedriver] found in cache\n"
     ]
    },
    {
     "name": "stdout",
     "output_type": "stream",
     "text": [
      "llego a los huespedes\n",
      "llego a las características\n",
      "llego a los precios\n",
      "llego a los usos\n"
     ]
    },
    {
     "name": "stderr",
     "output_type": "stream",
     "text": [
      "\n",
      "\n",
      "====== WebDriver manager ======\n",
      "Current google-chrome version is 96.0.4664\n",
      "Get LATEST chromedriver version for 96.0.4664 google-chrome\n"
     ]
    },
    {
     "name": "stdout",
     "output_type": "stream",
     "text": [
      "831\n"
     ]
    },
    {
     "name": "stderr",
     "output_type": "stream",
     "text": [
      "Driver [/Users/franciscovispo/.wdm/drivers/chromedriver/mac64/96.0.4664.45/chromedriver] found in cache\n"
     ]
    },
    {
     "name": "stdout",
     "output_type": "stream",
     "text": [
      "llego a los huespedes\n",
      "llego a las características\n",
      "llego a los precios\n",
      "llego a los usos\n"
     ]
    },
    {
     "name": "stderr",
     "output_type": "stream",
     "text": [
      "\n",
      "\n",
      "====== WebDriver manager ======\n",
      "Current google-chrome version is 96.0.4664\n",
      "Get LATEST chromedriver version for 96.0.4664 google-chrome\n"
     ]
    },
    {
     "name": "stdout",
     "output_type": "stream",
     "text": [
      "832\n"
     ]
    },
    {
     "name": "stderr",
     "output_type": "stream",
     "text": [
      "Driver [/Users/franciscovispo/.wdm/drivers/chromedriver/mac64/96.0.4664.45/chromedriver] found in cache\n"
     ]
    },
    {
     "name": "stdout",
     "output_type": "stream",
     "text": [
      "llego a los huespedes\n",
      "llego a las características\n",
      "llego a los precios\n",
      "llego a los usos\n"
     ]
    },
    {
     "name": "stderr",
     "output_type": "stream",
     "text": [
      "\n",
      "\n",
      "====== WebDriver manager ======\n",
      "Current google-chrome version is 96.0.4664\n",
      "Get LATEST chromedriver version for 96.0.4664 google-chrome\n"
     ]
    },
    {
     "name": "stdout",
     "output_type": "stream",
     "text": [
      "833\n"
     ]
    },
    {
     "name": "stderr",
     "output_type": "stream",
     "text": [
      "Driver [/Users/franciscovispo/.wdm/drivers/chromedriver/mac64/96.0.4664.45/chromedriver] found in cache\n"
     ]
    },
    {
     "name": "stdout",
     "output_type": "stream",
     "text": [
      "llego a los huespedes\n",
      "llego a las características\n",
      "llego a los precios\n",
      "llego a los usos\n"
     ]
    },
    {
     "name": "stderr",
     "output_type": "stream",
     "text": [
      "\n",
      "\n",
      "====== WebDriver manager ======\n"
     ]
    },
    {
     "name": "stdout",
     "output_type": "stream",
     "text": [
      "834\n"
     ]
    },
    {
     "name": "stderr",
     "output_type": "stream",
     "text": [
      "Current google-chrome version is 96.0.4664\n",
      "Get LATEST chromedriver version for 96.0.4664 google-chrome\n",
      "Driver [/Users/franciscovispo/.wdm/drivers/chromedriver/mac64/96.0.4664.45/chromedriver] found in cache\n"
     ]
    },
    {
     "name": "stdout",
     "output_type": "stream",
     "text": [
      "llego a los huespedes\n",
      "llego a las características\n",
      "llego a los precios\n",
      "llego a los usos\n"
     ]
    },
    {
     "name": "stderr",
     "output_type": "stream",
     "text": [
      "\n",
      "\n",
      "====== WebDriver manager ======\n",
      "Current google-chrome version is 96.0.4664\n",
      "Get LATEST chromedriver version for 96.0.4664 google-chrome\n"
     ]
    },
    {
     "name": "stdout",
     "output_type": "stream",
     "text": [
      "835\n"
     ]
    },
    {
     "name": "stderr",
     "output_type": "stream",
     "text": [
      "Driver [/Users/franciscovispo/.wdm/drivers/chromedriver/mac64/96.0.4664.45/chromedriver] found in cache\n"
     ]
    },
    {
     "name": "stdout",
     "output_type": "stream",
     "text": [
      "llego a los huespedes\n",
      "llego a las características\n",
      "llego a los precios\n",
      "llego a los usos\n"
     ]
    },
    {
     "name": "stderr",
     "output_type": "stream",
     "text": [
      "\n",
      "\n",
      "====== WebDriver manager ======\n",
      "Current google-chrome version is 96.0.4664\n",
      "Get LATEST chromedriver version for 96.0.4664 google-chrome\n"
     ]
    },
    {
     "name": "stdout",
     "output_type": "stream",
     "text": [
      "836\n"
     ]
    },
    {
     "name": "stderr",
     "output_type": "stream",
     "text": [
      "Driver [/Users/franciscovispo/.wdm/drivers/chromedriver/mac64/96.0.4664.45/chromedriver] found in cache\n"
     ]
    },
    {
     "name": "stdout",
     "output_type": "stream",
     "text": [
      "llego a los huespedes\n",
      "llego a las características\n",
      "llego a los precios\n",
      "llego a los usos\n"
     ]
    },
    {
     "name": "stderr",
     "output_type": "stream",
     "text": [
      "\n",
      "\n",
      "====== WebDriver manager ======\n"
     ]
    },
    {
     "name": "stdout",
     "output_type": "stream",
     "text": [
      "837\n"
     ]
    },
    {
     "name": "stderr",
     "output_type": "stream",
     "text": [
      "Current google-chrome version is 96.0.4664\n",
      "Get LATEST chromedriver version for 96.0.4664 google-chrome\n",
      "Driver [/Users/franciscovispo/.wdm/drivers/chromedriver/mac64/96.0.4664.45/chromedriver] found in cache\n"
     ]
    },
    {
     "name": "stdout",
     "output_type": "stream",
     "text": [
      "llego a los huespedes\n",
      "llego a las características\n",
      "llego a los precios\n",
      "llego a los usos\n"
     ]
    },
    {
     "name": "stderr",
     "output_type": "stream",
     "text": [
      "\n",
      "\n",
      "====== WebDriver manager ======\n",
      "Current google-chrome version is 96.0.4664\n",
      "Get LATEST chromedriver version for 96.0.4664 google-chrome\n"
     ]
    },
    {
     "name": "stdout",
     "output_type": "stream",
     "text": [
      "838\n"
     ]
    },
    {
     "name": "stderr",
     "output_type": "stream",
     "text": [
      "Driver [/Users/franciscovispo/.wdm/drivers/chromedriver/mac64/96.0.4664.45/chromedriver] found in cache\n"
     ]
    },
    {
     "name": "stdout",
     "output_type": "stream",
     "text": [
      "llego a los huespedes\n",
      "llego a las características\n",
      "llego a los precios\n",
      "llego a los usos\n"
     ]
    },
    {
     "name": "stderr",
     "output_type": "stream",
     "text": [
      "\n",
      "\n",
      "====== WebDriver manager ======\n"
     ]
    },
    {
     "name": "stdout",
     "output_type": "stream",
     "text": [
      "839\n"
     ]
    },
    {
     "name": "stderr",
     "output_type": "stream",
     "text": [
      "Current google-chrome version is 96.0.4664\n",
      "Get LATEST chromedriver version for 96.0.4664 google-chrome\n",
      "Driver [/Users/franciscovispo/.wdm/drivers/chromedriver/mac64/96.0.4664.45/chromedriver] found in cache\n"
     ]
    },
    {
     "name": "stdout",
     "output_type": "stream",
     "text": [
      "llego a los huespedes\n",
      "llego a las características\n",
      "llego a los precios\n",
      "llego a los usos\n"
     ]
    },
    {
     "name": "stderr",
     "output_type": "stream",
     "text": [
      "\n",
      "\n",
      "====== WebDriver manager ======\n",
      "Current google-chrome version is 96.0.4664\n",
      "Get LATEST chromedriver version for 96.0.4664 google-chrome\n"
     ]
    },
    {
     "name": "stdout",
     "output_type": "stream",
     "text": [
      "840\n"
     ]
    },
    {
     "name": "stderr",
     "output_type": "stream",
     "text": [
      "Driver [/Users/franciscovispo/.wdm/drivers/chromedriver/mac64/96.0.4664.45/chromedriver] found in cache\n"
     ]
    },
    {
     "name": "stdout",
     "output_type": "stream",
     "text": [
      "llego a los huespedes\n",
      "llego a las características\n",
      "llego a los precios\n",
      "llego a los usos\n"
     ]
    },
    {
     "name": "stderr",
     "output_type": "stream",
     "text": [
      "\n",
      "\n",
      "====== WebDriver manager ======\n",
      "Current google-chrome version is 96.0.4664\n",
      "Get LATEST chromedriver version for 96.0.4664 google-chrome\n"
     ]
    },
    {
     "name": "stdout",
     "output_type": "stream",
     "text": [
      "841\n"
     ]
    },
    {
     "name": "stderr",
     "output_type": "stream",
     "text": [
      "Driver [/Users/franciscovispo/.wdm/drivers/chromedriver/mac64/96.0.4664.45/chromedriver] found in cache\n"
     ]
    },
    {
     "name": "stdout",
     "output_type": "stream",
     "text": [
      "llego a los huespedes\n",
      "llego a las características\n",
      "llego a los precios\n",
      "llego a los usos\n"
     ]
    },
    {
     "name": "stderr",
     "output_type": "stream",
     "text": [
      "\n",
      "\n",
      "====== WebDriver manager ======\n",
      "Current google-chrome version is 96.0.4664\n",
      "Get LATEST chromedriver version for 96.0.4664 google-chrome\n"
     ]
    },
    {
     "name": "stdout",
     "output_type": "stream",
     "text": [
      "842\n"
     ]
    },
    {
     "name": "stderr",
     "output_type": "stream",
     "text": [
      "Driver [/Users/franciscovispo/.wdm/drivers/chromedriver/mac64/96.0.4664.45/chromedriver] found in cache\n"
     ]
    },
    {
     "name": "stdout",
     "output_type": "stream",
     "text": [
      "llego a los huespedes\n",
      "llego a las características\n",
      "llego a los precios\n",
      "llego a los usos\n"
     ]
    },
    {
     "name": "stderr",
     "output_type": "stream",
     "text": [
      "\n",
      "\n",
      "====== WebDriver manager ======\n",
      "Current google-chrome version is 96.0.4664\n",
      "Get LATEST chromedriver version for 96.0.4664 google-chrome\n"
     ]
    },
    {
     "name": "stdout",
     "output_type": "stream",
     "text": [
      "843\n"
     ]
    },
    {
     "name": "stderr",
     "output_type": "stream",
     "text": [
      "Driver [/Users/franciscovispo/.wdm/drivers/chromedriver/mac64/96.0.4664.45/chromedriver] found in cache\n"
     ]
    },
    {
     "name": "stdout",
     "output_type": "stream",
     "text": [
      "llego a los huespedes\n",
      "llego a las características\n",
      "llego a los precios\n",
      "llego a los usos\n"
     ]
    },
    {
     "name": "stderr",
     "output_type": "stream",
     "text": [
      "\n",
      "\n",
      "====== WebDriver manager ======\n",
      "Current google-chrome version is 96.0.4664\n",
      "Get LATEST chromedriver version for 96.0.4664 google-chrome\n"
     ]
    },
    {
     "name": "stdout",
     "output_type": "stream",
     "text": [
      "844\n"
     ]
    },
    {
     "name": "stderr",
     "output_type": "stream",
     "text": [
      "Driver [/Users/franciscovispo/.wdm/drivers/chromedriver/mac64/96.0.4664.45/chromedriver] found in cache\n"
     ]
    },
    {
     "name": "stdout",
     "output_type": "stream",
     "text": [
      "llego a los huespedes\n",
      "llego a las características\n",
      "llego a los precios\n",
      "llego a los usos\n"
     ]
    },
    {
     "name": "stderr",
     "output_type": "stream",
     "text": [
      "\n",
      "\n",
      "====== WebDriver manager ======\n",
      "Current google-chrome version is 96.0.4664\n",
      "Get LATEST chromedriver version for 96.0.4664 google-chrome\n"
     ]
    },
    {
     "name": "stdout",
     "output_type": "stream",
     "text": [
      "845\n"
     ]
    },
    {
     "name": "stderr",
     "output_type": "stream",
     "text": [
      "Driver [/Users/franciscovispo/.wdm/drivers/chromedriver/mac64/96.0.4664.45/chromedriver] found in cache\n"
     ]
    },
    {
     "name": "stdout",
     "output_type": "stream",
     "text": [
      "llego a los huespedes\n",
      "llego a las características\n",
      "llego a los precios\n",
      "llego a los usos\n"
     ]
    },
    {
     "name": "stderr",
     "output_type": "stream",
     "text": [
      "\n",
      "\n",
      "====== WebDriver manager ======\n",
      "Current google-chrome version is 96.0.4664\n",
      "Get LATEST chromedriver version for 96.0.4664 google-chrome\n"
     ]
    },
    {
     "name": "stdout",
     "output_type": "stream",
     "text": [
      "846\n"
     ]
    },
    {
     "name": "stderr",
     "output_type": "stream",
     "text": [
      "Driver [/Users/franciscovispo/.wdm/drivers/chromedriver/mac64/96.0.4664.45/chromedriver] found in cache\n"
     ]
    },
    {
     "name": "stdout",
     "output_type": "stream",
     "text": [
      "llego a los huespedes\n",
      "llego a las características\n",
      "llego a los precios\n",
      "llego a los usos\n"
     ]
    },
    {
     "name": "stderr",
     "output_type": "stream",
     "text": [
      "\n",
      "\n",
      "====== WebDriver manager ======\n",
      "Current google-chrome version is 96.0.4664\n",
      "Get LATEST chromedriver version for 96.0.4664 google-chrome\n"
     ]
    },
    {
     "name": "stdout",
     "output_type": "stream",
     "text": [
      "847\n"
     ]
    },
    {
     "name": "stderr",
     "output_type": "stream",
     "text": [
      "Driver [/Users/franciscovispo/.wdm/drivers/chromedriver/mac64/96.0.4664.45/chromedriver] found in cache\n"
     ]
    },
    {
     "name": "stdout",
     "output_type": "stream",
     "text": [
      "llego a los huespedes\n",
      "llego a las características\n",
      "llego a los precios\n",
      "llego a los usos\n"
     ]
    },
    {
     "name": "stderr",
     "output_type": "stream",
     "text": [
      "\n",
      "\n",
      "====== WebDriver manager ======\n",
      "Current google-chrome version is 96.0.4664\n",
      "Get LATEST chromedriver version for 96.0.4664 google-chrome\n"
     ]
    },
    {
     "name": "stdout",
     "output_type": "stream",
     "text": [
      "848\n"
     ]
    },
    {
     "name": "stderr",
     "output_type": "stream",
     "text": [
      "Driver [/Users/franciscovispo/.wdm/drivers/chromedriver/mac64/96.0.4664.45/chromedriver] found in cache\n"
     ]
    },
    {
     "name": "stdout",
     "output_type": "stream",
     "text": [
      "llego a los huespedes\n",
      "llego a las características\n",
      "llego a los precios\n",
      "llego a los usos\n"
     ]
    },
    {
     "name": "stderr",
     "output_type": "stream",
     "text": [
      "\n",
      "\n",
      "====== WebDriver manager ======\n",
      "Current google-chrome version is 96.0.4664\n",
      "Get LATEST chromedriver version for 96.0.4664 google-chrome\n"
     ]
    },
    {
     "name": "stdout",
     "output_type": "stream",
     "text": [
      "849\n"
     ]
    },
    {
     "name": "stderr",
     "output_type": "stream",
     "text": [
      "Driver [/Users/franciscovispo/.wdm/drivers/chromedriver/mac64/96.0.4664.45/chromedriver] found in cache\n"
     ]
    },
    {
     "name": "stdout",
     "output_type": "stream",
     "text": [
      "llego a los huespedes\n",
      "llego a las características\n",
      "llego a los precios\n",
      "llego a los usos\n"
     ]
    },
    {
     "name": "stderr",
     "output_type": "stream",
     "text": [
      "\n",
      "\n",
      "====== WebDriver manager ======\n"
     ]
    },
    {
     "name": "stdout",
     "output_type": "stream",
     "text": [
      "850\n"
     ]
    },
    {
     "name": "stderr",
     "output_type": "stream",
     "text": [
      "Current google-chrome version is 96.0.4664\n",
      "Get LATEST chromedriver version for 96.0.4664 google-chrome\n",
      "Driver [/Users/franciscovispo/.wdm/drivers/chromedriver/mac64/96.0.4664.45/chromedriver] found in cache\n"
     ]
    },
    {
     "name": "stdout",
     "output_type": "stream",
     "text": [
      "llego a los huespedes\n",
      "llego a las características\n",
      "llego a los precios\n",
      "llego a los usos\n"
     ]
    },
    {
     "name": "stderr",
     "output_type": "stream",
     "text": [
      "\n",
      "\n",
      "====== WebDriver manager ======\n"
     ]
    },
    {
     "name": "stdout",
     "output_type": "stream",
     "text": [
      "851\n"
     ]
    },
    {
     "name": "stderr",
     "output_type": "stream",
     "text": [
      "Current google-chrome version is 96.0.4664\n",
      "Get LATEST chromedriver version for 96.0.4664 google-chrome\n",
      "Driver [/Users/franciscovispo/.wdm/drivers/chromedriver/mac64/96.0.4664.45/chromedriver] found in cache\n"
     ]
    },
    {
     "name": "stdout",
     "output_type": "stream",
     "text": [
      "llego a los huespedes\n",
      "llego a las características\n",
      "llego a los precios\n",
      "llego a los usos\n"
     ]
    },
    {
     "name": "stderr",
     "output_type": "stream",
     "text": [
      "\n",
      "\n",
      "====== WebDriver manager ======\n"
     ]
    },
    {
     "name": "stdout",
     "output_type": "stream",
     "text": [
      "852\n"
     ]
    },
    {
     "name": "stderr",
     "output_type": "stream",
     "text": [
      "Current google-chrome version is 96.0.4664\n",
      "Get LATEST chromedriver version for 96.0.4664 google-chrome\n",
      "Driver [/Users/franciscovispo/.wdm/drivers/chromedriver/mac64/96.0.4664.45/chromedriver] found in cache\n"
     ]
    },
    {
     "name": "stdout",
     "output_type": "stream",
     "text": [
      "llego a los huespedes\n",
      "llego a las características\n",
      "llego a los precios\n",
      "llego a los usos\n"
     ]
    },
    {
     "name": "stderr",
     "output_type": "stream",
     "text": [
      "\n",
      "\n",
      "====== WebDriver manager ======\n"
     ]
    },
    {
     "name": "stdout",
     "output_type": "stream",
     "text": [
      "853\n"
     ]
    },
    {
     "name": "stderr",
     "output_type": "stream",
     "text": [
      "Current google-chrome version is 96.0.4664\n",
      "Get LATEST chromedriver version for 96.0.4664 google-chrome\n",
      "Driver [/Users/franciscovispo/.wdm/drivers/chromedriver/mac64/96.0.4664.45/chromedriver] found in cache\n"
     ]
    },
    {
     "name": "stdout",
     "output_type": "stream",
     "text": [
      "llego a los huespedes\n",
      "llego a las características\n",
      "llego a los precios\n",
      "llego a los usos\n"
     ]
    },
    {
     "name": "stderr",
     "output_type": "stream",
     "text": [
      "\n",
      "\n",
      "====== WebDriver manager ======\n",
      "Current google-chrome version is 96.0.4664\n",
      "Get LATEST chromedriver version for 96.0.4664 google-chrome\n"
     ]
    },
    {
     "name": "stdout",
     "output_type": "stream",
     "text": [
      "854\n"
     ]
    },
    {
     "name": "stderr",
     "output_type": "stream",
     "text": [
      "Driver [/Users/franciscovispo/.wdm/drivers/chromedriver/mac64/96.0.4664.45/chromedriver] found in cache\n"
     ]
    },
    {
     "name": "stdout",
     "output_type": "stream",
     "text": [
      "llego a los huespedes\n",
      "llego a las características\n",
      "llego a los precios\n",
      "llego a los usos\n"
     ]
    },
    {
     "name": "stderr",
     "output_type": "stream",
     "text": [
      "\n",
      "\n",
      "====== WebDriver manager ======\n"
     ]
    },
    {
     "name": "stdout",
     "output_type": "stream",
     "text": [
      "855\n"
     ]
    },
    {
     "name": "stderr",
     "output_type": "stream",
     "text": [
      "Current google-chrome version is 96.0.4664\n",
      "Get LATEST chromedriver version for 96.0.4664 google-chrome\n",
      "Driver [/Users/franciscovispo/.wdm/drivers/chromedriver/mac64/96.0.4664.45/chromedriver] found in cache\n"
     ]
    },
    {
     "name": "stdout",
     "output_type": "stream",
     "text": [
      "llego a los huespedes\n",
      "llego a las características\n",
      "llego a los precios\n",
      "llego a los usos\n"
     ]
    },
    {
     "name": "stderr",
     "output_type": "stream",
     "text": [
      "\n",
      "\n",
      "====== WebDriver manager ======\n"
     ]
    },
    {
     "name": "stdout",
     "output_type": "stream",
     "text": [
      "856\n"
     ]
    },
    {
     "name": "stderr",
     "output_type": "stream",
     "text": [
      "Current google-chrome version is 96.0.4664\n",
      "Get LATEST chromedriver version for 96.0.4664 google-chrome\n",
      "Driver [/Users/franciscovispo/.wdm/drivers/chromedriver/mac64/96.0.4664.45/chromedriver] found in cache\n"
     ]
    },
    {
     "name": "stdout",
     "output_type": "stream",
     "text": [
      "llego a los huespedes\n",
      "llego a las características\n",
      "llego a los precios\n",
      "llego a los usos\n"
     ]
    },
    {
     "name": "stderr",
     "output_type": "stream",
     "text": [
      "\n",
      "\n",
      "====== WebDriver manager ======\n",
      "Current google-chrome version is 96.0.4664\n",
      "Get LATEST chromedriver version for 96.0.4664 google-chrome\n"
     ]
    },
    {
     "name": "stdout",
     "output_type": "stream",
     "text": [
      "857\n"
     ]
    },
    {
     "name": "stderr",
     "output_type": "stream",
     "text": [
      "Driver [/Users/franciscovispo/.wdm/drivers/chromedriver/mac64/96.0.4664.45/chromedriver] found in cache\n"
     ]
    },
    {
     "name": "stdout",
     "output_type": "stream",
     "text": [
      "llego a los huespedes\n",
      "llego a las características\n",
      "llego a los precios\n",
      "llego a los usos\n"
     ]
    },
    {
     "name": "stderr",
     "output_type": "stream",
     "text": [
      "\n",
      "\n",
      "====== WebDriver manager ======\n",
      "Current google-chrome version is 96.0.4664\n",
      "Get LATEST chromedriver version for 96.0.4664 google-chrome\n"
     ]
    },
    {
     "name": "stdout",
     "output_type": "stream",
     "text": [
      "858\n"
     ]
    },
    {
     "name": "stderr",
     "output_type": "stream",
     "text": [
      "Driver [/Users/franciscovispo/.wdm/drivers/chromedriver/mac64/96.0.4664.45/chromedriver] found in cache\n"
     ]
    },
    {
     "name": "stdout",
     "output_type": "stream",
     "text": [
      "llego a los huespedes\n",
      "llego a las características\n",
      "llego a los precios\n",
      "llego a los usos\n"
     ]
    },
    {
     "name": "stderr",
     "output_type": "stream",
     "text": [
      "\n",
      "\n",
      "====== WebDriver manager ======\n"
     ]
    },
    {
     "name": "stdout",
     "output_type": "stream",
     "text": [
      "859\n"
     ]
    },
    {
     "name": "stderr",
     "output_type": "stream",
     "text": [
      "Current google-chrome version is 96.0.4664\n",
      "Get LATEST chromedriver version for 96.0.4664 google-chrome\n",
      "Driver [/Users/franciscovispo/.wdm/drivers/chromedriver/mac64/96.0.4664.45/chromedriver] found in cache\n"
     ]
    },
    {
     "name": "stdout",
     "output_type": "stream",
     "text": [
      "llego a los huespedes\n",
      "llego a las características\n",
      "llego a los precios\n",
      "llego a los usos\n"
     ]
    },
    {
     "name": "stderr",
     "output_type": "stream",
     "text": [
      "\n",
      "\n",
      "====== WebDriver manager ======\n"
     ]
    },
    {
     "name": "stdout",
     "output_type": "stream",
     "text": [
      "860\n"
     ]
    },
    {
     "name": "stderr",
     "output_type": "stream",
     "text": [
      "Current google-chrome version is 96.0.4664\n",
      "Get LATEST chromedriver version for 96.0.4664 google-chrome\n",
      "Driver [/Users/franciscovispo/.wdm/drivers/chromedriver/mac64/96.0.4664.45/chromedriver] found in cache\n"
     ]
    },
    {
     "name": "stdout",
     "output_type": "stream",
     "text": [
      "llego a los huespedes\n",
      "llego a las características\n",
      "llego a los precios\n",
      "llego a los usos\n"
     ]
    },
    {
     "name": "stderr",
     "output_type": "stream",
     "text": [
      "\n",
      "\n",
      "====== WebDriver manager ======\n"
     ]
    },
    {
     "name": "stdout",
     "output_type": "stream",
     "text": [
      "861\n"
     ]
    },
    {
     "name": "stderr",
     "output_type": "stream",
     "text": [
      "Current google-chrome version is 96.0.4664\n",
      "Get LATEST chromedriver version for 96.0.4664 google-chrome\n",
      "Driver [/Users/franciscovispo/.wdm/drivers/chromedriver/mac64/96.0.4664.45/chromedriver] found in cache\n"
     ]
    },
    {
     "name": "stdout",
     "output_type": "stream",
     "text": [
      "llego a los huespedes\n",
      "llego a las características\n",
      "llego a los precios\n",
      "llego a los usos\n"
     ]
    },
    {
     "name": "stderr",
     "output_type": "stream",
     "text": [
      "\n",
      "\n",
      "====== WebDriver manager ======\n",
      "Current google-chrome version is 96.0.4664\n",
      "Get LATEST chromedriver version for 96.0.4664 google-chrome\n"
     ]
    },
    {
     "name": "stdout",
     "output_type": "stream",
     "text": [
      "862\n"
     ]
    },
    {
     "name": "stderr",
     "output_type": "stream",
     "text": [
      "Driver [/Users/franciscovispo/.wdm/drivers/chromedriver/mac64/96.0.4664.45/chromedriver] found in cache\n"
     ]
    },
    {
     "name": "stdout",
     "output_type": "stream",
     "text": [
      "llego a los huespedes\n",
      "llego a las características\n",
      "llego a los precios\n",
      "llego a los usos\n"
     ]
    },
    {
     "name": "stderr",
     "output_type": "stream",
     "text": [
      "\n",
      "\n",
      "====== WebDriver manager ======\n",
      "Current google-chrome version is 96.0.4664\n",
      "Get LATEST chromedriver version for 96.0.4664 google-chrome\n"
     ]
    },
    {
     "name": "stdout",
     "output_type": "stream",
     "text": [
      "863\n"
     ]
    },
    {
     "name": "stderr",
     "output_type": "stream",
     "text": [
      "Driver [/Users/franciscovispo/.wdm/drivers/chromedriver/mac64/96.0.4664.45/chromedriver] found in cache\n"
     ]
    },
    {
     "name": "stdout",
     "output_type": "stream",
     "text": [
      "llego a los huespedes\n",
      "llego a las características\n",
      "llego a los precios\n",
      "llego a los usos\n"
     ]
    },
    {
     "name": "stderr",
     "output_type": "stream",
     "text": [
      "\n",
      "\n",
      "====== WebDriver manager ======\n",
      "Current google-chrome version is 96.0.4664\n",
      "Get LATEST chromedriver version for 96.0.4664 google-chrome\n"
     ]
    },
    {
     "name": "stdout",
     "output_type": "stream",
     "text": [
      "864\n"
     ]
    },
    {
     "name": "stderr",
     "output_type": "stream",
     "text": [
      "Driver [/Users/franciscovispo/.wdm/drivers/chromedriver/mac64/96.0.4664.45/chromedriver] found in cache\n"
     ]
    },
    {
     "name": "stdout",
     "output_type": "stream",
     "text": [
      "llego a los huespedes\n",
      "llego a las características\n",
      "llego a los precios\n",
      "llego a los usos\n"
     ]
    },
    {
     "name": "stderr",
     "output_type": "stream",
     "text": [
      "\n",
      "\n",
      "====== WebDriver manager ======\n",
      "Current google-chrome version is 96.0.4664\n",
      "Get LATEST chromedriver version for 96.0.4664 google-chrome\n"
     ]
    },
    {
     "name": "stdout",
     "output_type": "stream",
     "text": [
      "865\n"
     ]
    },
    {
     "name": "stderr",
     "output_type": "stream",
     "text": [
      "Driver [/Users/franciscovispo/.wdm/drivers/chromedriver/mac64/96.0.4664.45/chromedriver] found in cache\n"
     ]
    },
    {
     "name": "stdout",
     "output_type": "stream",
     "text": [
      "llego a los huespedes\n",
      "llego a las características\n",
      "llego a los precios\n",
      "llego a los usos\n"
     ]
    },
    {
     "name": "stderr",
     "output_type": "stream",
     "text": [
      "\n",
      "\n",
      "====== WebDriver manager ======\n"
     ]
    },
    {
     "name": "stdout",
     "output_type": "stream",
     "text": [
      "866\n"
     ]
    },
    {
     "name": "stderr",
     "output_type": "stream",
     "text": [
      "Current google-chrome version is 96.0.4664\n",
      "Get LATEST chromedriver version for 96.0.4664 google-chrome\n",
      "Driver [/Users/franciscovispo/.wdm/drivers/chromedriver/mac64/96.0.4664.45/chromedriver] found in cache\n"
     ]
    },
    {
     "name": "stdout",
     "output_type": "stream",
     "text": [
      "llego a los huespedes\n",
      "llego a las características\n",
      "llego a los precios\n",
      "llego a los usos\n"
     ]
    },
    {
     "name": "stderr",
     "output_type": "stream",
     "text": [
      "\n",
      "\n",
      "====== WebDriver manager ======\n"
     ]
    },
    {
     "name": "stdout",
     "output_type": "stream",
     "text": [
      "867\n"
     ]
    },
    {
     "name": "stderr",
     "output_type": "stream",
     "text": [
      "Current google-chrome version is 96.0.4664\n",
      "Get LATEST chromedriver version for 96.0.4664 google-chrome\n",
      "Driver [/Users/franciscovispo/.wdm/drivers/chromedriver/mac64/96.0.4664.45/chromedriver] found in cache\n"
     ]
    },
    {
     "name": "stdout",
     "output_type": "stream",
     "text": [
      "llego a los huespedes\n",
      "llego a las características\n",
      "llego a los precios\n",
      "llego a los usos\n"
     ]
    },
    {
     "name": "stderr",
     "output_type": "stream",
     "text": [
      "\n",
      "\n",
      "====== WebDriver manager ======\n",
      "Current google-chrome version is 96.0.4664\n",
      "Get LATEST chromedriver version for 96.0.4664 google-chrome\n"
     ]
    },
    {
     "name": "stdout",
     "output_type": "stream",
     "text": [
      "868\n"
     ]
    },
    {
     "name": "stderr",
     "output_type": "stream",
     "text": [
      "Driver [/Users/franciscovispo/.wdm/drivers/chromedriver/mac64/96.0.4664.45/chromedriver] found in cache\n"
     ]
    },
    {
     "name": "stdout",
     "output_type": "stream",
     "text": [
      "llego a los huespedes\n",
      "llego a las características\n",
      "llego a los precios\n",
      "llego a los usos\n"
     ]
    },
    {
     "name": "stderr",
     "output_type": "stream",
     "text": [
      "\n",
      "\n",
      "====== WebDriver manager ======\n",
      "Current google-chrome version is 96.0.4664\n",
      "Get LATEST chromedriver version for 96.0.4664 google-chrome\n"
     ]
    },
    {
     "name": "stdout",
     "output_type": "stream",
     "text": [
      "869\n"
     ]
    },
    {
     "name": "stderr",
     "output_type": "stream",
     "text": [
      "Driver [/Users/franciscovispo/.wdm/drivers/chromedriver/mac64/96.0.4664.45/chromedriver] found in cache\n"
     ]
    },
    {
     "name": "stdout",
     "output_type": "stream",
     "text": [
      "llego a los huespedes\n",
      "llego a las características\n",
      "llego a los precios\n",
      "llego a los usos\n"
     ]
    },
    {
     "name": "stderr",
     "output_type": "stream",
     "text": [
      "\n",
      "\n",
      "====== WebDriver manager ======\n"
     ]
    },
    {
     "name": "stdout",
     "output_type": "stream",
     "text": [
      "870\n"
     ]
    },
    {
     "name": "stderr",
     "output_type": "stream",
     "text": [
      "Current google-chrome version is 96.0.4664\n",
      "Get LATEST chromedriver version for 96.0.4664 google-chrome\n",
      "Driver [/Users/franciscovispo/.wdm/drivers/chromedriver/mac64/96.0.4664.45/chromedriver] found in cache\n"
     ]
    },
    {
     "name": "stdout",
     "output_type": "stream",
     "text": [
      "llego a los huespedes\n",
      "llego a las características\n",
      "llego a los precios\n",
      "llego a los usos\n"
     ]
    },
    {
     "name": "stderr",
     "output_type": "stream",
     "text": [
      "\n",
      "\n",
      "====== WebDriver manager ======\n",
      "Current google-chrome version is 96.0.4664\n",
      "Get LATEST chromedriver version for 96.0.4664 google-chrome\n"
     ]
    },
    {
     "name": "stdout",
     "output_type": "stream",
     "text": [
      "871\n"
     ]
    },
    {
     "name": "stderr",
     "output_type": "stream",
     "text": [
      "Driver [/Users/franciscovispo/.wdm/drivers/chromedriver/mac64/96.0.4664.45/chromedriver] found in cache\n"
     ]
    },
    {
     "name": "stdout",
     "output_type": "stream",
     "text": [
      "llego a los huespedes\n",
      "llego a las características\n",
      "llego a los precios\n",
      "llego a los usos\n"
     ]
    },
    {
     "name": "stderr",
     "output_type": "stream",
     "text": [
      "\n",
      "\n",
      "====== WebDriver manager ======\n"
     ]
    },
    {
     "name": "stdout",
     "output_type": "stream",
     "text": [
      "872\n"
     ]
    },
    {
     "name": "stderr",
     "output_type": "stream",
     "text": [
      "Current google-chrome version is 96.0.4664\n",
      "Get LATEST chromedriver version for 96.0.4664 google-chrome\n",
      "Driver [/Users/franciscovispo/.wdm/drivers/chromedriver/mac64/96.0.4664.45/chromedriver] found in cache\n"
     ]
    },
    {
     "name": "stdout",
     "output_type": "stream",
     "text": [
      "llego a los huespedes\n",
      "llego a las características\n",
      "llego a los precios\n",
      "llego a los usos\n"
     ]
    },
    {
     "name": "stderr",
     "output_type": "stream",
     "text": [
      "\n",
      "\n",
      "====== WebDriver manager ======\n",
      "Current google-chrome version is 96.0.4664\n",
      "Get LATEST chromedriver version for 96.0.4664 google-chrome\n"
     ]
    },
    {
     "name": "stdout",
     "output_type": "stream",
     "text": [
      "873\n"
     ]
    },
    {
     "name": "stderr",
     "output_type": "stream",
     "text": [
      "Driver [/Users/franciscovispo/.wdm/drivers/chromedriver/mac64/96.0.4664.45/chromedriver] found in cache\n"
     ]
    },
    {
     "name": "stdout",
     "output_type": "stream",
     "text": [
      "llego a los huespedes\n",
      "llego a las características\n",
      "llego a los precios\n",
      "llego a los usos\n"
     ]
    },
    {
     "name": "stderr",
     "output_type": "stream",
     "text": [
      "\n",
      "\n",
      "====== WebDriver manager ======\n",
      "Current google-chrome version is 96.0.4664\n",
      "Get LATEST chromedriver version for 96.0.4664 google-chrome\n"
     ]
    },
    {
     "name": "stdout",
     "output_type": "stream",
     "text": [
      "874\n"
     ]
    },
    {
     "name": "stderr",
     "output_type": "stream",
     "text": [
      "Driver [/Users/franciscovispo/.wdm/drivers/chromedriver/mac64/96.0.4664.45/chromedriver] found in cache\n"
     ]
    },
    {
     "name": "stdout",
     "output_type": "stream",
     "text": [
      "llego a los huespedes\n",
      "llego a las características\n",
      "llego a los precios\n",
      "llego a los usos\n"
     ]
    },
    {
     "name": "stderr",
     "output_type": "stream",
     "text": [
      "\n",
      "\n",
      "====== WebDriver manager ======\n"
     ]
    },
    {
     "name": "stdout",
     "output_type": "stream",
     "text": [
      "875\n"
     ]
    },
    {
     "name": "stderr",
     "output_type": "stream",
     "text": [
      "Current google-chrome version is 96.0.4664\n",
      "Get LATEST chromedriver version for 96.0.4664 google-chrome\n",
      "Driver [/Users/franciscovispo/.wdm/drivers/chromedriver/mac64/96.0.4664.45/chromedriver] found in cache\n"
     ]
    },
    {
     "name": "stdout",
     "output_type": "stream",
     "text": [
      "llego a los huespedes\n",
      "llego a las características\n",
      "llego a los precios\n",
      "llego a los usos\n"
     ]
    },
    {
     "name": "stderr",
     "output_type": "stream",
     "text": [
      "\n",
      "\n",
      "====== WebDriver manager ======\n",
      "Current google-chrome version is 96.0.4664\n",
      "Get LATEST chromedriver version for 96.0.4664 google-chrome\n"
     ]
    },
    {
     "name": "stdout",
     "output_type": "stream",
     "text": [
      "876\n"
     ]
    },
    {
     "name": "stderr",
     "output_type": "stream",
     "text": [
      "Driver [/Users/franciscovispo/.wdm/drivers/chromedriver/mac64/96.0.4664.45/chromedriver] found in cache\n"
     ]
    },
    {
     "name": "stdout",
     "output_type": "stream",
     "text": [
      "llego a los huespedes\n",
      "llego a las características\n",
      "llego a los precios\n",
      "llego a los usos\n"
     ]
    },
    {
     "name": "stderr",
     "output_type": "stream",
     "text": [
      "\n",
      "\n",
      "====== WebDriver manager ======\n"
     ]
    },
    {
     "name": "stdout",
     "output_type": "stream",
     "text": [
      "877\n"
     ]
    },
    {
     "name": "stderr",
     "output_type": "stream",
     "text": [
      "Current google-chrome version is 96.0.4664\n",
      "Get LATEST chromedriver version for 96.0.4664 google-chrome\n",
      "Driver [/Users/franciscovispo/.wdm/drivers/chromedriver/mac64/96.0.4664.45/chromedriver] found in cache\n"
     ]
    },
    {
     "name": "stdout",
     "output_type": "stream",
     "text": [
      "llego a los huespedes\n",
      "llego a las características\n",
      "llego a los precios\n",
      "llego a los usos\n"
     ]
    },
    {
     "name": "stderr",
     "output_type": "stream",
     "text": [
      "\n",
      "\n",
      "====== WebDriver manager ======\n",
      "Current google-chrome version is 96.0.4664\n",
      "Get LATEST chromedriver version for 96.0.4664 google-chrome\n"
     ]
    },
    {
     "name": "stdout",
     "output_type": "stream",
     "text": [
      "878\n"
     ]
    },
    {
     "name": "stderr",
     "output_type": "stream",
     "text": [
      "Driver [/Users/franciscovispo/.wdm/drivers/chromedriver/mac64/96.0.4664.45/chromedriver] found in cache\n"
     ]
    },
    {
     "name": "stdout",
     "output_type": "stream",
     "text": [
      "llego a los huespedes\n",
      "llego a las características\n",
      "llego a los precios\n",
      "llego a los usos\n"
     ]
    },
    {
     "name": "stderr",
     "output_type": "stream",
     "text": [
      "\n",
      "\n",
      "====== WebDriver manager ======\n",
      "Current google-chrome version is 96.0.4664\n",
      "Get LATEST chromedriver version for 96.0.4664 google-chrome\n"
     ]
    },
    {
     "name": "stdout",
     "output_type": "stream",
     "text": [
      "879\n"
     ]
    },
    {
     "name": "stderr",
     "output_type": "stream",
     "text": [
      "Driver [/Users/franciscovispo/.wdm/drivers/chromedriver/mac64/96.0.4664.45/chromedriver] found in cache\n"
     ]
    },
    {
     "name": "stdout",
     "output_type": "stream",
     "text": [
      "llego a los huespedes\n",
      "llego a las características\n",
      "llego a los precios\n",
      "llego a los usos\n"
     ]
    },
    {
     "name": "stderr",
     "output_type": "stream",
     "text": [
      "\n",
      "\n",
      "====== WebDriver manager ======\n",
      "Current google-chrome version is 96.0.4664\n",
      "Get LATEST chromedriver version for 96.0.4664 google-chrome\n"
     ]
    },
    {
     "name": "stdout",
     "output_type": "stream",
     "text": [
      "880\n"
     ]
    },
    {
     "name": "stderr",
     "output_type": "stream",
     "text": [
      "Driver [/Users/franciscovispo/.wdm/drivers/chromedriver/mac64/96.0.4664.45/chromedriver] found in cache\n"
     ]
    },
    {
     "name": "stdout",
     "output_type": "stream",
     "text": [
      "llego a los huespedes\n",
      "llego a las características\n",
      "llego a los precios\n",
      "llego a los usos\n"
     ]
    },
    {
     "name": "stderr",
     "output_type": "stream",
     "text": [
      "\n",
      "\n",
      "====== WebDriver manager ======\n"
     ]
    },
    {
     "name": "stdout",
     "output_type": "stream",
     "text": [
      "881\n"
     ]
    },
    {
     "name": "stderr",
     "output_type": "stream",
     "text": [
      "Current google-chrome version is 96.0.4664\n",
      "Get LATEST chromedriver version for 96.0.4664 google-chrome\n",
      "Driver [/Users/franciscovispo/.wdm/drivers/chromedriver/mac64/96.0.4664.45/chromedriver] found in cache\n"
     ]
    },
    {
     "name": "stdout",
     "output_type": "stream",
     "text": [
      "llego a los huespedes\n",
      "llego a las características\n",
      "llego a los precios\n",
      "llego a los usos\n"
     ]
    },
    {
     "name": "stderr",
     "output_type": "stream",
     "text": [
      "\n",
      "\n",
      "====== WebDriver manager ======\n",
      "Current google-chrome version is 96.0.4664\n",
      "Get LATEST chromedriver version for 96.0.4664 google-chrome\n"
     ]
    },
    {
     "name": "stdout",
     "output_type": "stream",
     "text": [
      "882\n"
     ]
    },
    {
     "name": "stderr",
     "output_type": "stream",
     "text": [
      "Driver [/Users/franciscovispo/.wdm/drivers/chromedriver/mac64/96.0.4664.45/chromedriver] found in cache\n"
     ]
    },
    {
     "name": "stdout",
     "output_type": "stream",
     "text": [
      "llego a los huespedes\n",
      "llego a las características\n",
      "llego a los precios\n",
      "llego a los usos\n"
     ]
    },
    {
     "name": "stderr",
     "output_type": "stream",
     "text": [
      "\n",
      "\n",
      "====== WebDriver manager ======\n"
     ]
    },
    {
     "name": "stdout",
     "output_type": "stream",
     "text": [
      "883\n"
     ]
    },
    {
     "name": "stderr",
     "output_type": "stream",
     "text": [
      "Current google-chrome version is 96.0.4664\n",
      "Get LATEST chromedriver version for 96.0.4664 google-chrome\n",
      "Driver [/Users/franciscovispo/.wdm/drivers/chromedriver/mac64/96.0.4664.45/chromedriver] found in cache\n"
     ]
    },
    {
     "name": "stdout",
     "output_type": "stream",
     "text": [
      "llego a los huespedes\n",
      "llego a las características\n",
      "llego a los precios\n",
      "llego a los usos\n"
     ]
    },
    {
     "name": "stderr",
     "output_type": "stream",
     "text": [
      "\n",
      "\n",
      "====== WebDriver manager ======\n",
      "Current google-chrome version is 96.0.4664\n",
      "Get LATEST chromedriver version for 96.0.4664 google-chrome\n"
     ]
    },
    {
     "name": "stdout",
     "output_type": "stream",
     "text": [
      "884\n"
     ]
    },
    {
     "name": "stderr",
     "output_type": "stream",
     "text": [
      "Driver [/Users/franciscovispo/.wdm/drivers/chromedriver/mac64/96.0.4664.45/chromedriver] found in cache\n"
     ]
    },
    {
     "name": "stdout",
     "output_type": "stream",
     "text": [
      "llego a los huespedes\n",
      "llego a las características\n",
      "llego a los precios\n",
      "llego a los usos\n"
     ]
    },
    {
     "name": "stderr",
     "output_type": "stream",
     "text": [
      "\n",
      "\n",
      "====== WebDriver manager ======\n"
     ]
    },
    {
     "name": "stdout",
     "output_type": "stream",
     "text": [
      "885\n"
     ]
    },
    {
     "name": "stderr",
     "output_type": "stream",
     "text": [
      "Current google-chrome version is 96.0.4664\n",
      "Get LATEST chromedriver version for 96.0.4664 google-chrome\n",
      "Driver [/Users/franciscovispo/.wdm/drivers/chromedriver/mac64/96.0.4664.45/chromedriver] found in cache\n"
     ]
    },
    {
     "name": "stdout",
     "output_type": "stream",
     "text": [
      "llego a los huespedes\n",
      "llego a las características\n",
      "llego a los precios\n",
      "llego a los usos\n"
     ]
    },
    {
     "name": "stderr",
     "output_type": "stream",
     "text": [
      "\n",
      "\n",
      "====== WebDriver manager ======\n",
      "Current google-chrome version is 96.0.4664\n",
      "Get LATEST chromedriver version for 96.0.4664 google-chrome\n",
      "Driver [/Users/franciscovispo/.wdm/drivers/chromedriver/mac64/96.0.4664.45/chromedriver] found in cache\n"
     ]
    },
    {
     "name": "stdout",
     "output_type": "stream",
     "text": [
      "886\n",
      "llego a los huespedes\n",
      "llego a las características\n",
      "llego a los precios\n",
      "llego a los usos\n"
     ]
    },
    {
     "name": "stderr",
     "output_type": "stream",
     "text": [
      "\n",
      "\n",
      "====== WebDriver manager ======\n"
     ]
    },
    {
     "name": "stdout",
     "output_type": "stream",
     "text": [
      "887\n"
     ]
    },
    {
     "name": "stderr",
     "output_type": "stream",
     "text": [
      "Current google-chrome version is 96.0.4664\n",
      "Get LATEST chromedriver version for 96.0.4664 google-chrome\n",
      "Driver [/Users/franciscovispo/.wdm/drivers/chromedriver/mac64/96.0.4664.45/chromedriver] found in cache\n"
     ]
    },
    {
     "name": "stdout",
     "output_type": "stream",
     "text": [
      "llego a los huespedes\n",
      "llego a las características\n",
      "llego a los precios\n",
      "llego a los usos\n"
     ]
    },
    {
     "name": "stderr",
     "output_type": "stream",
     "text": [
      "\n",
      "\n",
      "====== WebDriver manager ======\n",
      "Current google-chrome version is 96.0.4664\n",
      "Get LATEST chromedriver version for 96.0.4664 google-chrome\n"
     ]
    },
    {
     "name": "stdout",
     "output_type": "stream",
     "text": [
      "888\n"
     ]
    },
    {
     "name": "stderr",
     "output_type": "stream",
     "text": [
      "Driver [/Users/franciscovispo/.wdm/drivers/chromedriver/mac64/96.0.4664.45/chromedriver] found in cache\n"
     ]
    },
    {
     "name": "stdout",
     "output_type": "stream",
     "text": [
      "llego a los huespedes\n",
      "llego a las características\n",
      "llego a los precios\n",
      "llego a los usos\n"
     ]
    },
    {
     "name": "stderr",
     "output_type": "stream",
     "text": [
      "\n",
      "\n",
      "====== WebDriver manager ======\n",
      "Current google-chrome version is 96.0.4664\n",
      "Get LATEST chromedriver version for 96.0.4664 google-chrome\n"
     ]
    },
    {
     "name": "stdout",
     "output_type": "stream",
     "text": [
      "889\n"
     ]
    },
    {
     "name": "stderr",
     "output_type": "stream",
     "text": [
      "Driver [/Users/franciscovispo/.wdm/drivers/chromedriver/mac64/96.0.4664.45/chromedriver] found in cache\n"
     ]
    },
    {
     "name": "stdout",
     "output_type": "stream",
     "text": [
      "llego a los huespedes\n",
      "llego a las características\n",
      "llego a los precios\n",
      "llego a los usos\n"
     ]
    },
    {
     "name": "stderr",
     "output_type": "stream",
     "text": [
      "\n",
      "\n",
      "====== WebDriver manager ======\n",
      "Current google-chrome version is 96.0.4664\n",
      "Get LATEST chromedriver version for 96.0.4664 google-chrome\n"
     ]
    },
    {
     "name": "stdout",
     "output_type": "stream",
     "text": [
      "890\n"
     ]
    },
    {
     "name": "stderr",
     "output_type": "stream",
     "text": [
      "Driver [/Users/franciscovispo/.wdm/drivers/chromedriver/mac64/96.0.4664.45/chromedriver] found in cache\n"
     ]
    },
    {
     "name": "stdout",
     "output_type": "stream",
     "text": [
      "llego a los huespedes\n",
      "llego a las características\n",
      "llego a los precios\n",
      "llego a los usos\n"
     ]
    },
    {
     "name": "stderr",
     "output_type": "stream",
     "text": [
      "\n",
      "\n",
      "====== WebDriver manager ======\n"
     ]
    },
    {
     "name": "stdout",
     "output_type": "stream",
     "text": [
      "891\n"
     ]
    },
    {
     "name": "stderr",
     "output_type": "stream",
     "text": [
      "Current google-chrome version is 96.0.4664\n",
      "Get LATEST chromedriver version for 96.0.4664 google-chrome\n",
      "Driver [/Users/franciscovispo/.wdm/drivers/chromedriver/mac64/96.0.4664.45/chromedriver] found in cache\n"
     ]
    },
    {
     "name": "stdout",
     "output_type": "stream",
     "text": [
      "llego a los huespedes\n",
      "llego a las características\n",
      "llego a los precios\n",
      "llego a los usos\n"
     ]
    },
    {
     "name": "stderr",
     "output_type": "stream",
     "text": [
      "\n",
      "\n",
      "====== WebDriver manager ======\n"
     ]
    },
    {
     "name": "stdout",
     "output_type": "stream",
     "text": [
      "892\n"
     ]
    },
    {
     "name": "stderr",
     "output_type": "stream",
     "text": [
      "Current google-chrome version is 96.0.4664\n",
      "Get LATEST chromedriver version for 96.0.4664 google-chrome\n",
      "Driver [/Users/franciscovispo/.wdm/drivers/chromedriver/mac64/96.0.4664.45/chromedriver] found in cache\n"
     ]
    },
    {
     "name": "stdout",
     "output_type": "stream",
     "text": [
      "llego a los huespedes\n",
      "llego a las características\n",
      "llego a los precios\n",
      "llego a los usos\n"
     ]
    },
    {
     "name": "stderr",
     "output_type": "stream",
     "text": [
      "\n",
      "\n",
      "====== WebDriver manager ======\n",
      "Current google-chrome version is 96.0.4664\n",
      "Get LATEST chromedriver version for 96.0.4664 google-chrome\n"
     ]
    },
    {
     "name": "stdout",
     "output_type": "stream",
     "text": [
      "893\n"
     ]
    },
    {
     "name": "stderr",
     "output_type": "stream",
     "text": [
      "Driver [/Users/franciscovispo/.wdm/drivers/chromedriver/mac64/96.0.4664.45/chromedriver] found in cache\n"
     ]
    },
    {
     "name": "stdout",
     "output_type": "stream",
     "text": [
      "llego a los huespedes\n",
      "llego a las características\n",
      "llego a los precios\n",
      "llego a los usos\n"
     ]
    },
    {
     "name": "stderr",
     "output_type": "stream",
     "text": [
      "\n",
      "\n",
      "====== WebDriver manager ======\n",
      "Current google-chrome version is 96.0.4664\n"
     ]
    },
    {
     "name": "stdout",
     "output_type": "stream",
     "text": [
      "894\n"
     ]
    },
    {
     "name": "stderr",
     "output_type": "stream",
     "text": [
      "Get LATEST chromedriver version for 96.0.4664 google-chrome\n",
      "Driver [/Users/franciscovispo/.wdm/drivers/chromedriver/mac64/96.0.4664.45/chromedriver] found in cache\n"
     ]
    },
    {
     "name": "stdout",
     "output_type": "stream",
     "text": [
      "llego a los huespedes\n",
      "llego a las características\n",
      "llego a los precios\n",
      "llego a los usos\n"
     ]
    },
    {
     "name": "stderr",
     "output_type": "stream",
     "text": [
      "\n",
      "\n",
      "====== WebDriver manager ======\n",
      "Current google-chrome version is 96.0.4664\n",
      "Get LATEST chromedriver version for 96.0.4664 google-chrome\n"
     ]
    },
    {
     "name": "stdout",
     "output_type": "stream",
     "text": [
      "895\n"
     ]
    },
    {
     "name": "stderr",
     "output_type": "stream",
     "text": [
      "Driver [/Users/franciscovispo/.wdm/drivers/chromedriver/mac64/96.0.4664.45/chromedriver] found in cache\n"
     ]
    },
    {
     "name": "stdout",
     "output_type": "stream",
     "text": [
      "llego a los huespedes\n",
      "llego a las características\n",
      "llego a los precios\n",
      "llego a los usos\n"
     ]
    },
    {
     "name": "stderr",
     "output_type": "stream",
     "text": [
      "\n",
      "\n",
      "====== WebDriver manager ======\n"
     ]
    },
    {
     "name": "stdout",
     "output_type": "stream",
     "text": [
      "896\n"
     ]
    },
    {
     "name": "stderr",
     "output_type": "stream",
     "text": [
      "Current google-chrome version is 96.0.4664\n",
      "Get LATEST chromedriver version for 96.0.4664 google-chrome\n",
      "Driver [/Users/franciscovispo/.wdm/drivers/chromedriver/mac64/96.0.4664.45/chromedriver] found in cache\n"
     ]
    },
    {
     "name": "stdout",
     "output_type": "stream",
     "text": [
      "llego a los huespedes\n",
      "llego a las características\n",
      "llego a los precios\n",
      "llego a los usos\n"
     ]
    },
    {
     "name": "stderr",
     "output_type": "stream",
     "text": [
      "\n",
      "\n",
      "====== WebDriver manager ======\n"
     ]
    },
    {
     "name": "stdout",
     "output_type": "stream",
     "text": [
      "897\n"
     ]
    },
    {
     "name": "stderr",
     "output_type": "stream",
     "text": [
      "Current google-chrome version is 96.0.4664\n",
      "Get LATEST chromedriver version for 96.0.4664 google-chrome\n",
      "Driver [/Users/franciscovispo/.wdm/drivers/chromedriver/mac64/96.0.4664.45/chromedriver] found in cache\n"
     ]
    },
    {
     "name": "stdout",
     "output_type": "stream",
     "text": [
      "llego a los huespedes\n",
      "llego a las características\n",
      "llego a los precios\n",
      "llego a los usos\n"
     ]
    },
    {
     "name": "stderr",
     "output_type": "stream",
     "text": [
      "\n",
      "\n",
      "====== WebDriver manager ======\n",
      "Current google-chrome version is 96.0.4664\n",
      "Get LATEST chromedriver version for 96.0.4664 google-chrome\n"
     ]
    },
    {
     "name": "stdout",
     "output_type": "stream",
     "text": [
      "898\n"
     ]
    },
    {
     "name": "stderr",
     "output_type": "stream",
     "text": [
      "Driver [/Users/franciscovispo/.wdm/drivers/chromedriver/mac64/96.0.4664.45/chromedriver] found in cache\n"
     ]
    },
    {
     "name": "stdout",
     "output_type": "stream",
     "text": [
      "llego a los huespedes\n",
      "llego a las características\n",
      "llego a los precios\n",
      "llego a los usos\n"
     ]
    },
    {
     "name": "stderr",
     "output_type": "stream",
     "text": [
      "\n",
      "\n",
      "====== WebDriver manager ======\n",
      "Current google-chrome version is 96.0.4664\n",
      "Get LATEST chromedriver version for 96.0.4664 google-chrome\n"
     ]
    },
    {
     "name": "stdout",
     "output_type": "stream",
     "text": [
      "899\n"
     ]
    },
    {
     "name": "stderr",
     "output_type": "stream",
     "text": [
      "Driver [/Users/franciscovispo/.wdm/drivers/chromedriver/mac64/96.0.4664.45/chromedriver] found in cache\n"
     ]
    },
    {
     "name": "stdout",
     "output_type": "stream",
     "text": [
      "llego a los huespedes\n",
      "llego a las características\n",
      "llego a los precios\n",
      "llego a los usos\n"
     ]
    }
   ],
   "source": [
    "dicc_m = {\"all_info\": [], \"características\": [], \"precio\": [], \"usos\": []}\n",
    "count = 0\n",
    "\n",
    "for i in urls_m_b_s:\n",
    "    print(count)\n",
    "    driver = webdriver.Chrome(ChromeDriverManager().install(), options = opciones)\n",
    "    driver.get(i)\n",
    "    driver.implicitly_wait(2) # is like a time.sleep but specific of selenium  \n",
    "    \n",
    "    #acepta las cookies:\n",
    "    driver.find_element_by_css_selector(\"body > div:nth-child(7) > div > div > div:nth-child(1) > div > div._1cgcei8 > section > div._gsw2t0 > div._160gnkxa > button\").click()\n",
    "    driver.implicitly_wait(2)\n",
    "    \n",
    "    #empiezo con la obtención de datos:\n",
    "        \n",
    "    #ALL_INFO\n",
    "    try:\n",
    "        dicc_m[\"all_info\"].append(driver.find_element_by_xpath(\"/html/body/div[5]/div/div/div[1]/div/div/div/div/div/div[1]/main/div/div[1]/div[3]/div/div[1]/div/div/main/div[1]/div/div/section/div/div/div/div[1]/ol\").text)                                             \n",
    "        print(\"llego a los huespedes\")\n",
    "        driver.implicitly_wait(4)\n",
    "    except:\n",
    "        dicc_m[\"all_info\"].append(\"No hay dato\")\n",
    "    \n",
    "    #CARACTERÍSTICAS\n",
    "    try:\n",
    "        dicc_m[\"características\"].append(driver.find_element_by_xpath(\"/html/body/div[5]/div/div/div[1]/div/div/div/div/div/div[1]/main/div/div[1]/div[3]/div/div[1]/div/div/main/div[2]/div/div[2]\").text)\n",
    "        print(\"llego a las características\")\n",
    "        driver.implicitly_wait(4)\n",
    "    except:\n",
    "        dicc_m[\"características\"].append(\"No hay dato\")\n",
    "    \n",
    "    #PRECIO Y VALORACIÓN:\n",
    "    try:\n",
    "        dicc_m[\"precio\"].append(driver.find_element_by_xpath(\"/html/body/div[5]/div/div/div[1]/div/div/div/div/div/div[1]/main/div/div[1]/div[3]/div/div[2]/div/div/div[1]/div/div/div/div/div/div/div[1]/div[1]\").text)\n",
    "        print(\"llego a los precios\")\n",
    "        driver.implicitly_wait(4)\n",
    "    except:\n",
    "        dicc_m[\"precio\"].append(\"No hay dato\")\n",
    "    \n",
    "    #USOS: \n",
    "    try:\n",
    "        dicc_m[\"usos\"].append(driver.find_element_by_xpath(\"/html/body/div[5]/div/div/div[1]/div/div/div/div/div/div[1]/main/div/div[1]/div[3]/div/div[1]/div/div/main/div[5]/div/div[2]\").text)\n",
    "        print(\"llego a los usos\")\n",
    "        driver.implicitly_wait(4)\n",
    "    except:\n",
    "        dicc_m[\"usos\"].append(\"No hay dato\")\n",
    "    count += 1\n",
    "    driver.quit()\n",
    "    \n",
    "    "
   ]
  },
  {
   "cell_type": "code",
   "execution_count": 14,
   "id": "104ca0ab",
   "metadata": {},
   "outputs": [],
   "source": [
    "#dicc_m"
   ]
  },
  {
   "cell_type": "code",
   "execution_count": 10,
   "id": "b19a9c6f",
   "metadata": {},
   "outputs": [],
   "source": [
    "datos_1_dorm = pd.DataFrame(dicc_m)"
   ]
  },
  {
   "cell_type": "code",
   "execution_count": 15,
   "id": "4a359495",
   "metadata": {},
   "outputs": [],
   "source": [
    "datos_1_dorm.to_csv(\"../data/datos_4_h_m_v_s.csv\", index=False)"
   ]
  }
 ],
 "metadata": {
  "kernelspec": {
   "display_name": "ironhack",
   "language": "python",
   "name": "ironhack"
  },
  "language_info": {
   "codemirror_mode": {
    "name": "ipython",
    "version": 3
   },
   "file_extension": ".py",
   "mimetype": "text/x-python",
   "name": "python",
   "nbconvert_exporter": "python",
   "pygments_lexer": "ipython3",
   "version": "3.8.5"
  }
 },
 "nbformat": 4,
 "nbformat_minor": 5
}
