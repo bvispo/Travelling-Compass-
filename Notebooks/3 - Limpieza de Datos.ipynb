{
 "cells": [
  {
   "cell_type": "markdown",
   "id": "d0a428f5",
   "metadata": {},
   "source": [
    "# 1. Importo Librerías"
   ]
  },
  {
   "cell_type": "code",
   "execution_count": 1,
   "id": "06ee266d",
   "metadata": {},
   "outputs": [],
   "source": [
    "import pandas as pd\n",
    "import numpy as np\n",
    "import re\n",
    "\n",
    "# Importing the cleaning functions:\n",
    "import sys\n",
    "sys.path.append(\"../\")\n",
    "import src.cleaning_functions as cf"
   ]
  },
  {
   "cell_type": "markdown",
   "id": "b63540b5",
   "metadata": {},
   "source": [
    "# 2. Cargo Datos"
   ]
  },
  {
   "cell_type": "markdown",
   "id": "3f5c3df1",
   "metadata": {},
   "source": [
    "# 3. EDA"
   ]
  },
  {
   "cell_type": "code",
   "execution_count": 2,
   "id": "e818ed7e",
   "metadata": {},
   "outputs": [],
   "source": [
    "datos_1d = pd.read_csv(\"../data/datos_1_dorm.csv\")"
   ]
  },
  {
   "cell_type": "code",
   "execution_count": 3,
   "id": "4344d724",
   "metadata": {},
   "outputs": [],
   "source": [
    "datos_4h = pd.read_csv(\"../data/datos_4_h_m_v_s.csv\")"
   ]
  },
  {
   "cell_type": "code",
   "execution_count": 4,
   "id": "c7d32358",
   "metadata": {},
   "outputs": [],
   "source": [
    "datos_ana = pd.read_csv(\"../data/datos_4_h_v_s.csv\")"
   ]
  },
  {
   "cell_type": "code",
   "execution_count": 5,
   "id": "db75aabb",
   "metadata": {},
   "outputs": [],
   "source": [
    "datos_4h_val = datos_ana[:300]"
   ]
  },
  {
   "cell_type": "code",
   "execution_count": 6,
   "id": "a63c316b",
   "metadata": {},
   "outputs": [],
   "source": [
    "datos = pd.concat([datos_1d, datos_4h, datos_4h_val ], axis=0)"
   ]
  },
  {
   "cell_type": "code",
   "execution_count": 7,
   "id": "e654fc97",
   "metadata": {},
   "outputs": [
    {
     "data": {
      "text/html": [
       "<div>\n",
       "<style scoped>\n",
       "    .dataframe tbody tr th:only-of-type {\n",
       "        vertical-align: middle;\n",
       "    }\n",
       "\n",
       "    .dataframe tbody tr th {\n",
       "        vertical-align: top;\n",
       "    }\n",
       "\n",
       "    .dataframe thead th {\n",
       "        text-align: right;\n",
       "    }\n",
       "</style>\n",
       "<table border=\"1\" class=\"dataframe\">\n",
       "  <thead>\n",
       "    <tr style=\"text-align: right;\">\n",
       "      <th></th>\n",
       "      <th>titulo</th>\n",
       "      <th>all_info</th>\n",
       "      <th>características</th>\n",
       "      <th>precio</th>\n",
       "      <th>usos</th>\n",
       "    </tr>\n",
       "  </thead>\n",
       "  <tbody>\n",
       "    <tr>\n",
       "      <th>0</th>\n",
       "      <td>Alojamiento entero: piso. Anfitrión: Javier</td>\n",
       "      <td>2 huéspedes · 1 dormitorio · 2 camas · 1 baño</td>\n",
       "      <td>Alojamiento entero\\n(apartamento): será solo p...</td>\n",
       "      <td>55€\\n / noche\\n55€ por noche\\n4,90\\n(415 evalu...</td>\n",
       "      <td>¿Qué hay en este alojamiento?\\nCocina\\nWifi\\nT...</td>\n",
       "    </tr>\n",
       "    <tr>\n",
       "      <th>1</th>\n",
       "      <td>Alojamiento entero: piso. Anfitrión: Melissa</td>\n",
       "      <td>2 huéspedes · 1 dormitorio · 1 cama · 1 baño</td>\n",
       "      <td>Alojamiento entero\\n(apartamento): será solo p...</td>\n",
       "      <td>60€\\n / noche\\n60€ por noche\\n4,80\\n(5 evaluac...</td>\n",
       "      <td>2 noches en Madrid\\n19 de ago. de 2022 - 21 de...</td>\n",
       "    </tr>\n",
       "    <tr>\n",
       "      <th>2</th>\n",
       "      <td>Alojamiento entero: piso. Anfitrión: Javier</td>\n",
       "      <td>2 huéspedes · 1 dormitorio · 2 camas · 1 baño</td>\n",
       "      <td>Alojamiento entero\\n(apartamento): será solo p...</td>\n",
       "      <td>55€\\n / noche\\n55€ por noche\\n4,93\\n(46 evalua...</td>\n",
       "      <td>¿Qué hay en este alojamiento?\\nCocina\\nWifi\\nT...</td>\n",
       "    </tr>\n",
       "    <tr>\n",
       "      <th>3</th>\n",
       "      <td>Alojamiento entero: piso. Anfitrión: Julio Víctor</td>\n",
       "      <td>5 huéspedes · 2 dormitorios · 3 camas · 1 baño</td>\n",
       "      <td>Alojamiento entero\\n(apartamento): será solo p...</td>\n",
       "      <td>85€\\n / noche\\n85€ por noche\\n4,95\\n(459 evalu...</td>\n",
       "      <td>¿Qué hay en este alojamiento?\\nCocina\\nWifi\\nA...</td>\n",
       "    </tr>\n",
       "    <tr>\n",
       "      <th>4</th>\n",
       "      <td>Alojamiento entero: piso. Anfitrión: Airbnbleg...</td>\n",
       "      <td>4 huéspedes · 1 dormitorio · 2 camas · 1 baño</td>\n",
       "      <td>Alojamiento entero\\n(apartamento): será solo p...</td>\n",
       "      <td>60€\\n / noche\\n60€ por noche\\n3,33\\n(3 evaluac...</td>\n",
       "      <td>¿Qué hay en este alojamiento?\\nCocina\\nWifi\\nT...</td>\n",
       "    </tr>\n",
       "    <tr>\n",
       "      <th>...</th>\n",
       "      <td>...</td>\n",
       "      <td>...</td>\n",
       "      <td>...</td>\n",
       "      <td>...</td>\n",
       "      <td>...</td>\n",
       "    </tr>\n",
       "    <tr>\n",
       "      <th>295</th>\n",
       "      <td>NaN</td>\n",
       "      <td>8 huéspedes · 3 dormitorios · 4 camas · 2 baños</td>\n",
       "      <td>Alojamiento entero\\n(apartamento): será solo p...</td>\n",
       "      <td>228€\\n / noche\\n228€ por noche\\n4,91\\n(11 eval...</td>\n",
       "      <td>¿Dónde dormirás?\\n1 de 2 páginas\\n1 / 2\\nDormi...</td>\n",
       "    </tr>\n",
       "    <tr>\n",
       "      <th>296</th>\n",
       "      <td>NaN</td>\n",
       "      <td>5 huéspedes · 1 dormitorio · 3 camas · 1 baño</td>\n",
       "      <td>Alojamiento entero\\n(apartamento): será solo p...</td>\n",
       "      <td>93€\\n / noche\\n93€ por noche\\n3,50\\n(8 evaluac...</td>\n",
       "      <td>¿Qué hay en este alojamiento?\\nCocina\\nWifi\\nA...</td>\n",
       "    </tr>\n",
       "    <tr>\n",
       "      <th>297</th>\n",
       "      <td>NaN</td>\n",
       "      <td>7 huéspedes · 4 dormitorios · 7 camas · 1,5 baños</td>\n",
       "      <td>Alojamiento entero\\n(apartamento): será solo p...</td>\n",
       "      <td>160€\\n / noche\\n160€ por noche\\n4,85\\n(89 eval...</td>\n",
       "      <td>2 noches en València\\n1 de jul. de 2022 - 3 de...</td>\n",
       "    </tr>\n",
       "    <tr>\n",
       "      <th>298</th>\n",
       "      <td>NaN</td>\n",
       "      <td>5 huéspedes · 3 dormitorios · 6 camas · 2 baños</td>\n",
       "      <td>Alojamiento entero\\n(apartamento): será solo p...</td>\n",
       "      <td>125€\\n / noche\\n125€ por noche\\n5,0\\n(6 evalua...</td>\n",
       "      <td>¿Qué hay en este alojamiento?\\nVistas al perfi...</td>\n",
       "    </tr>\n",
       "    <tr>\n",
       "      <th>299</th>\n",
       "      <td>NaN</td>\n",
       "      <td>6 huéspedes · 2 dormitorios · 3 camas · 1 baño</td>\n",
       "      <td>Alojamiento entero\\n(apartamento): será solo p...</td>\n",
       "      <td>121€\\n / noche\\n121€ por noche\\n4,69\\n(26 eval...</td>\n",
       "      <td>¿Qué hay en este alojamiento?\\nCocina\\nWifi\\nA...</td>\n",
       "    </tr>\n",
       "  </tbody>\n",
       "</table>\n",
       "<p>2400 rows × 5 columns</p>\n",
       "</div>"
      ],
      "text/plain": [
       "                                                titulo  \\\n",
       "0          Alojamiento entero: piso. Anfitrión: Javier   \n",
       "1         Alojamiento entero: piso. Anfitrión: Melissa   \n",
       "2          Alojamiento entero: piso. Anfitrión: Javier   \n",
       "3    Alojamiento entero: piso. Anfitrión: Julio Víctor   \n",
       "4    Alojamiento entero: piso. Anfitrión: Airbnbleg...   \n",
       "..                                                 ...   \n",
       "295                                                NaN   \n",
       "296                                                NaN   \n",
       "297                                                NaN   \n",
       "298                                                NaN   \n",
       "299                                                NaN   \n",
       "\n",
       "                                              all_info  \\\n",
       "0        2 huéspedes · 1 dormitorio · 2 camas · 1 baño   \n",
       "1         2 huéspedes · 1 dormitorio · 1 cama · 1 baño   \n",
       "2        2 huéspedes · 1 dormitorio · 2 camas · 1 baño   \n",
       "3       5 huéspedes · 2 dormitorios · 3 camas · 1 baño   \n",
       "4        4 huéspedes · 1 dormitorio · 2 camas · 1 baño   \n",
       "..                                                 ...   \n",
       "295    8 huéspedes · 3 dormitorios · 4 camas · 2 baños   \n",
       "296      5 huéspedes · 1 dormitorio · 3 camas · 1 baño   \n",
       "297  7 huéspedes · 4 dormitorios · 7 camas · 1,5 baños   \n",
       "298    5 huéspedes · 3 dormitorios · 6 camas · 2 baños   \n",
       "299     6 huéspedes · 2 dormitorios · 3 camas · 1 baño   \n",
       "\n",
       "                                       características  \\\n",
       "0    Alojamiento entero\\n(apartamento): será solo p...   \n",
       "1    Alojamiento entero\\n(apartamento): será solo p...   \n",
       "2    Alojamiento entero\\n(apartamento): será solo p...   \n",
       "3    Alojamiento entero\\n(apartamento): será solo p...   \n",
       "4    Alojamiento entero\\n(apartamento): será solo p...   \n",
       "..                                                 ...   \n",
       "295  Alojamiento entero\\n(apartamento): será solo p...   \n",
       "296  Alojamiento entero\\n(apartamento): será solo p...   \n",
       "297  Alojamiento entero\\n(apartamento): será solo p...   \n",
       "298  Alojamiento entero\\n(apartamento): será solo p...   \n",
       "299  Alojamiento entero\\n(apartamento): será solo p...   \n",
       "\n",
       "                                                precio  \\\n",
       "0    55€\\n / noche\\n55€ por noche\\n4,90\\n(415 evalu...   \n",
       "1    60€\\n / noche\\n60€ por noche\\n4,80\\n(5 evaluac...   \n",
       "2    55€\\n / noche\\n55€ por noche\\n4,93\\n(46 evalua...   \n",
       "3    85€\\n / noche\\n85€ por noche\\n4,95\\n(459 evalu...   \n",
       "4    60€\\n / noche\\n60€ por noche\\n3,33\\n(3 evaluac...   \n",
       "..                                                 ...   \n",
       "295  228€\\n / noche\\n228€ por noche\\n4,91\\n(11 eval...   \n",
       "296  93€\\n / noche\\n93€ por noche\\n3,50\\n(8 evaluac...   \n",
       "297  160€\\n / noche\\n160€ por noche\\n4,85\\n(89 eval...   \n",
       "298  125€\\n / noche\\n125€ por noche\\n5,0\\n(6 evalua...   \n",
       "299  121€\\n / noche\\n121€ por noche\\n4,69\\n(26 eval...   \n",
       "\n",
       "                                                  usos  \n",
       "0    ¿Qué hay en este alojamiento?\\nCocina\\nWifi\\nT...  \n",
       "1    2 noches en Madrid\\n19 de ago. de 2022 - 21 de...  \n",
       "2    ¿Qué hay en este alojamiento?\\nCocina\\nWifi\\nT...  \n",
       "3    ¿Qué hay en este alojamiento?\\nCocina\\nWifi\\nA...  \n",
       "4    ¿Qué hay en este alojamiento?\\nCocina\\nWifi\\nT...  \n",
       "..                                                 ...  \n",
       "295  ¿Dónde dormirás?\\n1 de 2 páginas\\n1 / 2\\nDormi...  \n",
       "296  ¿Qué hay en este alojamiento?\\nCocina\\nWifi\\nA...  \n",
       "297  2 noches en València\\n1 de jul. de 2022 - 3 de...  \n",
       "298  ¿Qué hay en este alojamiento?\\nVistas al perfi...  \n",
       "299  ¿Qué hay en este alojamiento?\\nCocina\\nWifi\\nA...  \n",
       "\n",
       "[2400 rows x 5 columns]"
      ]
     },
     "execution_count": 7,
     "metadata": {},
     "output_type": "execute_result"
    }
   ],
   "source": [
    "datos"
   ]
  },
  {
   "cell_type": "markdown",
   "id": "388886fb",
   "metadata": {},
   "source": [
    "# 4. Limpieza Datos:"
   ]
  },
  {
   "cell_type": "markdown",
   "id": "b69b84b6",
   "metadata": {},
   "source": [
    "## ALL_INFO"
   ]
  },
  {
   "cell_type": "code",
   "execution_count": 8,
   "id": "ccfc46b0",
   "metadata": {},
   "outputs": [],
   "source": [
    "datos[\"all_info\"] = datos[\"all_info\"].apply(cf.splity_info)"
   ]
  },
  {
   "cell_type": "code",
   "execution_count": 9,
   "id": "62d71f84",
   "metadata": {},
   "outputs": [],
   "source": [
    "datos[[\"huespedes\", \"dormitorios\", \"camas\", \"baños\"]] = datos[\"all_info\"].apply(pd.Series)"
   ]
  },
  {
   "cell_type": "markdown",
   "id": "d22c5cf8",
   "metadata": {},
   "source": [
    "### Huéspedes"
   ]
  },
  {
   "cell_type": "code",
   "execution_count": 10,
   "id": "b6e959fc",
   "metadata": {},
   "outputs": [
    {
     "data": {
      "text/plain": [
       "array(['2 huéspedes ', '5 huéspedes ', '4 huéspedes ', '1 huésped ',\n",
       "       '3 huéspedes ', '6 huéspedes ', 'No hay dato', '10 huéspedes ',\n",
       "       '7 huéspedes ', '8 huéspedes ', '9 huéspedes ', '12 huéspedes '],\n",
       "      dtype=object)"
      ]
     },
     "execution_count": 10,
     "metadata": {},
     "output_type": "execute_result"
    }
   ],
   "source": [
    "datos[\"huespedes\"].unique()"
   ]
  },
  {
   "cell_type": "code",
   "execution_count": 11,
   "id": "701d3bbe",
   "metadata": {},
   "outputs": [],
   "source": [
    "datos[\"huespedes\"] = datos[\"huespedes\"].apply(cf.get_info)"
   ]
  },
  {
   "cell_type": "code",
   "execution_count": 12,
   "id": "e37bd4a6",
   "metadata": {},
   "outputs": [
    {
     "data": {
      "text/plain": [
       "array([ 2,  5,  4,  1,  3,  6,  0, 10,  7,  8,  9, 12])"
      ]
     },
     "execution_count": 12,
     "metadata": {},
     "output_type": "execute_result"
    }
   ],
   "source": [
    "datos[\"huespedes\"].unique()"
   ]
  },
  {
   "cell_type": "code",
   "execution_count": 13,
   "id": "6df4605a",
   "metadata": {},
   "outputs": [],
   "source": [
    "datos[\"huespedes\"] = datos[\"huespedes\"].replace(0, datos[\"huespedes\"].mode()[0])"
   ]
  },
  {
   "cell_type": "code",
   "execution_count": 14,
   "id": "40484ac2",
   "metadata": {},
   "outputs": [
    {
     "data": {
      "text/plain": [
       "array([ 2,  5,  4,  1,  3,  6, 10,  7,  8,  9, 12])"
      ]
     },
     "execution_count": 14,
     "metadata": {},
     "output_type": "execute_result"
    }
   ],
   "source": [
    "datos[\"huespedes\"].unique()"
   ]
  },
  {
   "cell_type": "code",
   "execution_count": 15,
   "id": "265c3f84",
   "metadata": {
    "scrolled": true
   },
   "outputs": [
    {
     "data": {
      "text/plain": [
       "6     666\n",
       "2     593\n",
       "5     417\n",
       "4     252\n",
       "1     154\n",
       "3     113\n",
       "8      97\n",
       "7      85\n",
       "10     12\n",
       "9       9\n",
       "12      2\n",
       "Name: huespedes, dtype: int64"
      ]
     },
     "execution_count": 15,
     "metadata": {},
     "output_type": "execute_result"
    }
   ],
   "source": [
    "datos[\"huespedes\"].value_counts()"
   ]
  },
  {
   "cell_type": "markdown",
   "id": "01094461",
   "metadata": {},
   "source": [
    "### Dormitorios"
   ]
  },
  {
   "cell_type": "code",
   "execution_count": 16,
   "id": "f28069d9",
   "metadata": {},
   "outputs": [],
   "source": [
    "datos[\"dormitorios\"] = datos[\"dormitorios\"].apply(cf.get_info)"
   ]
  },
  {
   "cell_type": "code",
   "execution_count": 17,
   "id": "c179b03b",
   "metadata": {},
   "outputs": [
    {
     "data": {
      "text/plain": [
       "array([1, 2, 0, 3, 4, 5, 6])"
      ]
     },
     "execution_count": 17,
     "metadata": {},
     "output_type": "execute_result"
    }
   ],
   "source": [
    "datos[\"dormitorios\"].unique()"
   ]
  },
  {
   "cell_type": "code",
   "execution_count": 18,
   "id": "ad26393f",
   "metadata": {},
   "outputs": [
    {
     "data": {
      "text/plain": [
       "1    938\n",
       "2    718\n",
       "3    531\n",
       "0    140\n",
       "4     66\n",
       "5      6\n",
       "6      1\n",
       "Name: dormitorios, dtype: int64"
      ]
     },
     "execution_count": 18,
     "metadata": {},
     "output_type": "execute_result"
    }
   ],
   "source": [
    "datos[\"dormitorios\"].value_counts()"
   ]
  },
  {
   "cell_type": "markdown",
   "id": "ab3da679",
   "metadata": {},
   "source": [
    "### Camas"
   ]
  },
  {
   "cell_type": "code",
   "execution_count": 19,
   "id": "cb86474f",
   "metadata": {},
   "outputs": [
    {
     "data": {
      "text/plain": [
       "array([' 2 camas ', ' 1 cama ', ' 3 camas ', ' 10 camas ',\n",
       "       ' 1 baño compartido', ' 1 baño', ' 4 baños compartidos',\n",
       "       ' 1,5 baños', ' 4 camas ', nan, ' 1,5 baños compartidos',\n",
       "       ' 5 camas ', ' 6 camas ', ' 1 baño privado', ' 5 camas',\n",
       "       ' 7 camas ', ' 8 camas ', ' 2,5 baños', ' 2 baños',\n",
       "       ' 2 baños compartidos', ' 3 baños', ' 3 camas', ' 11 camas ',\n",
       "       ' 9 camas '], dtype=object)"
      ]
     },
     "execution_count": 19,
     "metadata": {},
     "output_type": "execute_result"
    }
   ],
   "source": [
    "datos[\"camas\"].unique()"
   ]
  },
  {
   "cell_type": "code",
   "execution_count": 20,
   "id": "d9e0acfa",
   "metadata": {},
   "outputs": [],
   "source": [
    "datos[\"camas\"] = datos[\"camas\"].apply(cf.info_camas)"
   ]
  },
  {
   "cell_type": "code",
   "execution_count": 21,
   "id": "184b0bbc",
   "metadata": {},
   "outputs": [],
   "source": [
    "datos[\"camas\"].fillna(int(datos[\"camas\"].mode()), inplace=True)"
   ]
  },
  {
   "cell_type": "code",
   "execution_count": 22,
   "id": "0daae685",
   "metadata": {},
   "outputs": [],
   "source": [
    "datos[\"camas\"] = datos[\"camas\"].apply(cf.get_integrer)"
   ]
  },
  {
   "cell_type": "code",
   "execution_count": 23,
   "id": "69c969a4",
   "metadata": {
    "scrolled": true
   },
   "outputs": [
    {
     "data": {
      "text/plain": [
       "array([2, 1, 3, 4, 5, 6, 7, 8, 9])"
      ]
     },
     "execution_count": 23,
     "metadata": {},
     "output_type": "execute_result"
    }
   ],
   "source": [
    "datos[\"camas\"].unique()"
   ]
  },
  {
   "cell_type": "code",
   "execution_count": 24,
   "id": "bf5b031c",
   "metadata": {},
   "outputs": [
    {
     "data": {
      "text/plain": [
       "1    753\n",
       "3    451\n",
       "4    440\n",
       "2    416\n",
       "5    202\n",
       "6     90\n",
       "7     36\n",
       "8      7\n",
       "9      5\n",
       "Name: camas, dtype: int64"
      ]
     },
     "execution_count": 24,
     "metadata": {},
     "output_type": "execute_result"
    }
   ],
   "source": [
    "datos[\"camas\"].value_counts()"
   ]
  },
  {
   "cell_type": "markdown",
   "id": "e8607176",
   "metadata": {},
   "source": [
    "### Baños"
   ]
  },
  {
   "cell_type": "code",
   "execution_count": 25,
   "id": "f1f5946f",
   "metadata": {},
   "outputs": [
    {
     "data": {
      "text/plain": [
       "array([' 1 baño', ' 1,5 baños', ' 1 baño compartido', ' 2 baños',\n",
       "       ' 4 baños compartidos', ' 1 baño privado', ' 3 baños compartidos',\n",
       "       nan, ' 2 baños compartidos', ' 1,5 baños compartidos', ' 3 baños',\n",
       "       ' 0 baños compartidos', ' 2,5 baños compartidos', ' 2,5 baños',\n",
       "       ' 4 baños', ' 4,5 baños', ' 3,5 baños'], dtype=object)"
      ]
     },
     "execution_count": 25,
     "metadata": {},
     "output_type": "execute_result"
    }
   ],
   "source": [
    "datos[\"baños\"].unique()"
   ]
  },
  {
   "cell_type": "code",
   "execution_count": 26,
   "id": "5b256f52",
   "metadata": {},
   "outputs": [],
   "source": [
    "datos[\"baños\"] = datos[\"baños\"].apply(cf.info_baños)"
   ]
  },
  {
   "cell_type": "code",
   "execution_count": 27,
   "id": "bcc824fe",
   "metadata": {},
   "outputs": [],
   "source": [
    "datos[\"baños\"].fillna(int(datos[\"baños\"].mode()), inplace=True)"
   ]
  },
  {
   "cell_type": "code",
   "execution_count": 28,
   "id": "9858ba18",
   "metadata": {},
   "outputs": [],
   "source": [
    "datos[\"baños\"] = datos[\"baños\"].apply(cf.get_integrer)"
   ]
  },
  {
   "cell_type": "code",
   "execution_count": 29,
   "id": "4027c426",
   "metadata": {
    "scrolled": true
   },
   "outputs": [],
   "source": [
    "datos[\"baños\"] = datos[\"baños\"].replace(0, datos[\"baños\"].mode()[0])"
   ]
  },
  {
   "cell_type": "code",
   "execution_count": 30,
   "id": "f530dbd9",
   "metadata": {},
   "outputs": [
    {
     "data": {
      "text/plain": [
       "array([1, 2, 4, 3])"
      ]
     },
     "execution_count": 30,
     "metadata": {},
     "output_type": "execute_result"
    }
   ],
   "source": [
    "datos[\"baños\"].unique()"
   ]
  },
  {
   "cell_type": "code",
   "execution_count": 31,
   "id": "e25af25a",
   "metadata": {},
   "outputs": [
    {
     "data": {
      "text/plain": [
       "1    1716\n",
       "2     634\n",
       "3      40\n",
       "4      10\n",
       "Name: baños, dtype: int64"
      ]
     },
     "execution_count": 31,
     "metadata": {},
     "output_type": "execute_result"
    }
   ],
   "source": [
    "datos[\"baños\"].value_counts()"
   ]
  },
  {
   "cell_type": "markdown",
   "id": "a6b8bd37",
   "metadata": {},
   "source": [
    "## PRECIO"
   ]
  },
  {
   "cell_type": "code",
   "execution_count": 32,
   "id": "30e9a283",
   "metadata": {},
   "outputs": [
    {
     "data": {
      "text/html": [
       "<div>\n",
       "<style scoped>\n",
       "    .dataframe tbody tr th:only-of-type {\n",
       "        vertical-align: middle;\n",
       "    }\n",
       "\n",
       "    .dataframe tbody tr th {\n",
       "        vertical-align: top;\n",
       "    }\n",
       "\n",
       "    .dataframe thead th {\n",
       "        text-align: right;\n",
       "    }\n",
       "</style>\n",
       "<table border=\"1\" class=\"dataframe\">\n",
       "  <thead>\n",
       "    <tr style=\"text-align: right;\">\n",
       "      <th></th>\n",
       "      <th>titulo</th>\n",
       "      <th>all_info</th>\n",
       "      <th>características</th>\n",
       "      <th>precio</th>\n",
       "      <th>usos</th>\n",
       "      <th>huespedes</th>\n",
       "      <th>dormitorios</th>\n",
       "      <th>camas</th>\n",
       "      <th>baños</th>\n",
       "    </tr>\n",
       "  </thead>\n",
       "  <tbody>\n",
       "    <tr>\n",
       "      <th>0</th>\n",
       "      <td>Alojamiento entero: piso. Anfitrión: Javier</td>\n",
       "      <td>[2 huéspedes ,  1 dormitorio ,  2 camas ,  1 b...</td>\n",
       "      <td>Alojamiento entero\\n(apartamento): será solo p...</td>\n",
       "      <td>55€\\n / noche\\n55€ por noche\\n4,90\\n(415 evalu...</td>\n",
       "      <td>¿Qué hay en este alojamiento?\\nCocina\\nWifi\\nT...</td>\n",
       "      <td>2</td>\n",
       "      <td>1</td>\n",
       "      <td>2</td>\n",
       "      <td>1</td>\n",
       "    </tr>\n",
       "    <tr>\n",
       "      <th>1</th>\n",
       "      <td>Alojamiento entero: piso. Anfitrión: Melissa</td>\n",
       "      <td>[2 huéspedes ,  1 dormitorio ,  1 cama ,  1 baño]</td>\n",
       "      <td>Alojamiento entero\\n(apartamento): será solo p...</td>\n",
       "      <td>60€\\n / noche\\n60€ por noche\\n4,80\\n(5 evaluac...</td>\n",
       "      <td>2 noches en Madrid\\n19 de ago. de 2022 - 21 de...</td>\n",
       "      <td>2</td>\n",
       "      <td>1</td>\n",
       "      <td>1</td>\n",
       "      <td>1</td>\n",
       "    </tr>\n",
       "    <tr>\n",
       "      <th>2</th>\n",
       "      <td>Alojamiento entero: piso. Anfitrión: Javier</td>\n",
       "      <td>[2 huéspedes ,  1 dormitorio ,  2 camas ,  1 b...</td>\n",
       "      <td>Alojamiento entero\\n(apartamento): será solo p...</td>\n",
       "      <td>55€\\n / noche\\n55€ por noche\\n4,93\\n(46 evalua...</td>\n",
       "      <td>¿Qué hay en este alojamiento?\\nCocina\\nWifi\\nT...</td>\n",
       "      <td>2</td>\n",
       "      <td>1</td>\n",
       "      <td>2</td>\n",
       "      <td>1</td>\n",
       "    </tr>\n",
       "    <tr>\n",
       "      <th>3</th>\n",
       "      <td>Alojamiento entero: piso. Anfitrión: Julio Víctor</td>\n",
       "      <td>[5 huéspedes ,  2 dormitorios ,  3 camas ,  1 ...</td>\n",
       "      <td>Alojamiento entero\\n(apartamento): será solo p...</td>\n",
       "      <td>85€\\n / noche\\n85€ por noche\\n4,95\\n(459 evalu...</td>\n",
       "      <td>¿Qué hay en este alojamiento?\\nCocina\\nWifi\\nA...</td>\n",
       "      <td>5</td>\n",
       "      <td>2</td>\n",
       "      <td>3</td>\n",
       "      <td>1</td>\n",
       "    </tr>\n",
       "    <tr>\n",
       "      <th>4</th>\n",
       "      <td>Alojamiento entero: piso. Anfitrión: Airbnbleg...</td>\n",
       "      <td>[4 huéspedes ,  1 dormitorio ,  2 camas ,  1 b...</td>\n",
       "      <td>Alojamiento entero\\n(apartamento): será solo p...</td>\n",
       "      <td>60€\\n / noche\\n60€ por noche\\n3,33\\n(3 evaluac...</td>\n",
       "      <td>¿Qué hay en este alojamiento?\\nCocina\\nWifi\\nT...</td>\n",
       "      <td>4</td>\n",
       "      <td>1</td>\n",
       "      <td>2</td>\n",
       "      <td>1</td>\n",
       "    </tr>\n",
       "  </tbody>\n",
       "</table>\n",
       "</div>"
      ],
      "text/plain": [
       "                                              titulo  \\\n",
       "0        Alojamiento entero: piso. Anfitrión: Javier   \n",
       "1       Alojamiento entero: piso. Anfitrión: Melissa   \n",
       "2        Alojamiento entero: piso. Anfitrión: Javier   \n",
       "3  Alojamiento entero: piso. Anfitrión: Julio Víctor   \n",
       "4  Alojamiento entero: piso. Anfitrión: Airbnbleg...   \n",
       "\n",
       "                                            all_info  \\\n",
       "0  [2 huéspedes ,  1 dormitorio ,  2 camas ,  1 b...   \n",
       "1  [2 huéspedes ,  1 dormitorio ,  1 cama ,  1 baño]   \n",
       "2  [2 huéspedes ,  1 dormitorio ,  2 camas ,  1 b...   \n",
       "3  [5 huéspedes ,  2 dormitorios ,  3 camas ,  1 ...   \n",
       "4  [4 huéspedes ,  1 dormitorio ,  2 camas ,  1 b...   \n",
       "\n",
       "                                     características  \\\n",
       "0  Alojamiento entero\\n(apartamento): será solo p...   \n",
       "1  Alojamiento entero\\n(apartamento): será solo p...   \n",
       "2  Alojamiento entero\\n(apartamento): será solo p...   \n",
       "3  Alojamiento entero\\n(apartamento): será solo p...   \n",
       "4  Alojamiento entero\\n(apartamento): será solo p...   \n",
       "\n",
       "                                              precio  \\\n",
       "0  55€\\n / noche\\n55€ por noche\\n4,90\\n(415 evalu...   \n",
       "1  60€\\n / noche\\n60€ por noche\\n4,80\\n(5 evaluac...   \n",
       "2  55€\\n / noche\\n55€ por noche\\n4,93\\n(46 evalua...   \n",
       "3  85€\\n / noche\\n85€ por noche\\n4,95\\n(459 evalu...   \n",
       "4  60€\\n / noche\\n60€ por noche\\n3,33\\n(3 evaluac...   \n",
       "\n",
       "                                                usos  huespedes  dormitorios  \\\n",
       "0  ¿Qué hay en este alojamiento?\\nCocina\\nWifi\\nT...          2            1   \n",
       "1  2 noches en Madrid\\n19 de ago. de 2022 - 21 de...          2            1   \n",
       "2  ¿Qué hay en este alojamiento?\\nCocina\\nWifi\\nT...          2            1   \n",
       "3  ¿Qué hay en este alojamiento?\\nCocina\\nWifi\\nA...          5            2   \n",
       "4  ¿Qué hay en este alojamiento?\\nCocina\\nWifi\\nT...          4            1   \n",
       "\n",
       "   camas  baños  \n",
       "0      2      1  \n",
       "1      1      1  \n",
       "2      2      1  \n",
       "3      3      1  \n",
       "4      2      1  "
      ]
     },
     "execution_count": 32,
     "metadata": {},
     "output_type": "execute_result"
    }
   ],
   "source": [
    "datos.head()"
   ]
  },
  {
   "cell_type": "markdown",
   "id": "9115b251",
   "metadata": {},
   "source": [
    "### PRECIO"
   ]
  },
  {
   "cell_type": "code",
   "execution_count": 33,
   "id": "107b0c06",
   "metadata": {},
   "outputs": [],
   "source": [
    "datos[\"precio\"] = datos[\"precio\"].apply(cf.splity_salto_linea)"
   ]
  },
  {
   "cell_type": "code",
   "execution_count": 34,
   "id": "ded027a4",
   "metadata": {},
   "outputs": [],
   "source": [
    "datos[[\"precio_eur\", \"borra_1\", \"borra_2\", \"valoracion\", \"borra_3\", \"borra_4\"]] = datos[\"precio\"].apply(pd.Series)"
   ]
  },
  {
   "cell_type": "code",
   "execution_count": 35,
   "id": "2240854a",
   "metadata": {},
   "outputs": [],
   "source": [
    "datos[\"precio_eur\"] = datos[\"precio_eur\"].apply(cf.get_info)"
   ]
  },
  {
   "cell_type": "code",
   "execution_count": 36,
   "id": "df79245d",
   "metadata": {},
   "outputs": [
    {
     "data": {
      "text/plain": [
       "array([ 55,  60,  85,  54,  47,  17,  44,  42,  50,  45,  18,  65,  70,\n",
       "        41,  25,  35,  29,  43,  15,  21,  22,  36,  23,  59,  63,  71,\n",
       "        69,  48,  40,  57,  49,  39,  46,  75,  68,  38,  52,  64,  80,\n",
       "        67,  30,  56,  89,  51,  20,  94,  72,  53,  90,  82,  27,  84,\n",
       "        28,  34,  61,  26,  58,  66,  19,  31,  37, 125,  62,   0,  93,\n",
       "        79, 100,  10,  32,  33,  16,  86, 120,  95, 107,  77,  24,  83,\n",
       "       104,  99, 124, 160,  97, 163, 130,  96, 143, 108, 127,  87, 112,\n",
       "       103, 109, 116, 134, 190, 175, 122, 182, 106, 198, 140, 207, 113,\n",
       "       139, 110,  98,  11,  92,  12, 180,  88,  81,  73, 123,  13,  76,\n",
       "       153, 199, 102,  78,  14, 114,  74, 115, 165, 129, 241, 170, 220,\n",
       "       269, 150, 185, 230, 209, 144, 145, 159, 205, 149, 135, 178, 133,\n",
       "       208, 148, 132, 183, 200, 193, 169, 211, 236, 206, 152, 172, 167,\n",
       "       119, 204, 155, 176, 184, 250, 189, 181, 195, 260, 179, 173, 229,\n",
       "       191, 212, 164, 174, 238, 228, 161, 171, 218, 232, 344, 298, 248,\n",
       "       210, 128, 137, 146, 245, 158, 323, 500, 197, 196, 224, 226, 341,\n",
       "       300, 147, 166, 136, 154, 126, 131, 264, 118, 142,  91, 376, 234,\n",
       "       121, 117, 157, 388, 239, 318, 177, 596, 213, 473, 203, 168, 275,\n",
       "       141, 270, 216, 233, 188, 215, 156, 202, 290, 251, 237, 162, 283,\n",
       "       247, 101, 111, 219, 105, 252, 265, 187, 192, 317, 246, 225, 253,\n",
       "       235, 138, 222, 330, 286, 240, 242, 294, 308, 394, 430])"
      ]
     },
     "execution_count": 36,
     "metadata": {},
     "output_type": "execute_result"
    }
   ],
   "source": [
    "datos[\"precio_eur\"].unique()"
   ]
  },
  {
   "cell_type": "code",
   "execution_count": 37,
   "id": "1e4eaf15",
   "metadata": {},
   "outputs": [
    {
     "data": {
      "text/plain": [
       "50     68\n",
       "90     54\n",
       "60     54\n",
       "120    50\n",
       "35     49\n",
       "       ..\n",
       "203     1\n",
       "216     1\n",
       "233     1\n",
       "202     1\n",
       "430     1\n",
       "Name: precio_eur, Length: 258, dtype: int64"
      ]
     },
     "execution_count": 37,
     "metadata": {},
     "output_type": "execute_result"
    }
   ],
   "source": [
    "datos[\"precio_eur\"].value_counts()"
   ]
  },
  {
   "cell_type": "code",
   "execution_count": 38,
   "id": "daaab56a",
   "metadata": {},
   "outputs": [],
   "source": [
    "datos[\"precio_eur\"] = datos[\"precio_eur\"].replace(0, int(datos[\"precio_eur\"].mean()))"
   ]
  },
  {
   "cell_type": "code",
   "execution_count": 39,
   "id": "1d7de6a0",
   "metadata": {},
   "outputs": [
    {
     "data": {
      "text/plain": [
       "array([ 55,  60,  85,  54,  47,  17,  44,  42,  50,  45,  18,  65,  70,\n",
       "        41,  25,  35,  29,  43,  15,  21,  22,  36,  23,  59,  63,  71,\n",
       "        69,  48,  40,  57,  49,  39,  46,  75,  68,  38,  52,  64,  80,\n",
       "        67,  30,  56,  89,  51,  20,  94,  72,  53,  90,  82,  27,  84,\n",
       "        28,  34,  61,  26,  58,  66,  19,  31,  37, 125,  62,  98,  93,\n",
       "        79, 100,  10,  32,  33,  16,  86, 120,  95, 107,  77,  24,  83,\n",
       "       104,  99, 124, 160,  97, 163, 130,  96, 143, 108, 127,  87, 112,\n",
       "       103, 109, 116, 134, 190, 175, 122, 182, 106, 198, 140, 207, 113,\n",
       "       139, 110,  11,  92,  12, 180,  88,  81,  73, 123,  13,  76, 153,\n",
       "       199, 102,  78,  14, 114,  74, 115, 165, 129, 241, 170, 220, 269,\n",
       "       150, 185, 230, 209, 144, 145, 159, 205, 149, 135, 178, 133, 208,\n",
       "       148, 132, 183, 200, 193, 169, 211, 236, 206, 152, 172, 167, 119,\n",
       "       204, 155, 176, 184, 250, 189, 181, 195, 260, 179, 173, 229, 191,\n",
       "       212, 164, 174, 238, 228, 161, 171, 218, 232, 344, 298, 248, 210,\n",
       "       128, 137, 146, 245, 158, 323, 500, 197, 196, 224, 226, 341, 300,\n",
       "       147, 166, 136, 154, 126, 131, 264, 118, 142,  91, 376, 234, 121,\n",
       "       117, 157, 388, 239, 318, 177, 596, 213, 473, 203, 168, 275, 141,\n",
       "       270, 216, 233, 188, 215, 156, 202, 290, 251, 237, 162, 283, 247,\n",
       "       101, 111, 219, 105, 252, 265, 187, 192, 317, 246, 225, 253, 235,\n",
       "       138, 222, 330, 286, 240, 242, 294, 308, 394, 430])"
      ]
     },
     "execution_count": 39,
     "metadata": {},
     "output_type": "execute_result"
    }
   ],
   "source": [
    "datos[\"precio_eur\"].unique()"
   ]
  },
  {
   "cell_type": "markdown",
   "id": "720187eb",
   "metadata": {},
   "source": [
    "### VALORACIÓN"
   ]
  },
  {
   "cell_type": "code",
   "execution_count": 40,
   "id": "06e42c6f",
   "metadata": {},
   "outputs": [],
   "source": [
    "datos[\"valoracion\"] = datos[\"valoracion\"].str.replace(\",\", \".\")"
   ]
  },
  {
   "cell_type": "code",
   "execution_count": 41,
   "id": "dd1b22e5",
   "metadata": {},
   "outputs": [],
   "source": [
    "datos[\"valoracion\"] = datos[\"valoracion\"].apply(cf.get_float)"
   ]
  },
  {
   "cell_type": "code",
   "execution_count": 42,
   "id": "1c5c27d1",
   "metadata": {},
   "outputs": [],
   "source": [
    "datos[\"valoracion\"] = datos[\"valoracion\"].replace(0, datos[\"valoracion\"].mean())"
   ]
  },
  {
   "cell_type": "code",
   "execution_count": 43,
   "id": "1c99b30d",
   "metadata": {},
   "outputs": [],
   "source": [
    "datos[\"valoracion\"].fillna(int(datos[\"valoracion\"].mean()), inplace=True)"
   ]
  },
  {
   "cell_type": "code",
   "execution_count": 44,
   "id": "bdd166f3",
   "metadata": {},
   "outputs": [
    {
     "data": {
      "text/plain": [
       "array([4.9 , 4.8 , 4.93, 4.95, 3.33, 4.44, 4.56, 4.89, 4.2 , 4.83, 4.  ,\n",
       "       4.58, 4.85, 4.72, 4.82, 4.42, 4.76, 4.61, 4.64, 4.75, 4.86, 3.87,\n",
       "       4.84, 4.55, 3.44, 5.  , 4.43, 4.78, 4.79, 4.67, 4.68, 4.81, 4.6 ,\n",
       "       4.91, 4.96, 4.97, 4.71, 4.48, 4.29, 3.86, 4.66, 4.88, 4.73, 3.93,\n",
       "       4.35, 4.15, 4.7 , 4.65, 4.57, 4.34, 4.54, 4.63, 4.59, 4.18, 4.4 ,\n",
       "       4.49, 4.45, 4.52, 4.37, 4.94, 4.62, 4.69, 4.39, 4.92, 4.36, 4.47,\n",
       "       4.77, 4.87, 3.69, 4.99, 4.12, 4.14, 4.28, 4.11, 3.88, 4.53, 4.74,\n",
       "       4.38, 4.26, 4.33, 4.5 , 4.51, 4.32, 4.22, 4.27, 4.25, 4.07, 4.3 ,\n",
       "       3.9 , 4.24, 4.19, 4.46, 3.99, 4.98, 4.21, 4.13, 4.31, 4.41, 4.23,\n",
       "       4.1 , 4.17, 3.55, 3.73, 3.67, 3.92, 3.83, 3.4 , 4.09, 3.91, 3.25,\n",
       "       3.5 , 3.89, 4.05])"
      ]
     },
     "execution_count": 44,
     "metadata": {},
     "output_type": "execute_result"
    }
   ],
   "source": [
    "datos[\"valoracion\"].unique()"
   ]
  },
  {
   "cell_type": "markdown",
   "id": "b9f71ef1",
   "metadata": {},
   "source": [
    "## CARACTERÍSTICAS"
   ]
  },
  {
   "cell_type": "code",
   "execution_count": 45,
   "id": "29f68d70",
   "metadata": {},
   "outputs": [],
   "source": [
    "datos[\"características\"] = datos[\"características\"].apply(cf.splity_salto_linea)"
   ]
  },
  {
   "cell_type": "markdown",
   "id": "f39544e4",
   "metadata": {},
   "source": [
    "### ALOJAMIENTO"
   ]
  },
  {
   "cell_type": "code",
   "execution_count": 46,
   "id": "d7d9d32a",
   "metadata": {},
   "outputs": [],
   "source": [
    "datos[\"alojamiento\"] = datos[\"características\"].apply(cf.carac_alojamiento)"
   ]
  },
  {
   "cell_type": "code",
   "execution_count": 47,
   "id": "efca42de",
   "metadata": {},
   "outputs": [],
   "source": [
    "datos['alojamiento'].fillna('Habitación privada', inplace=True)"
   ]
  },
  {
   "cell_type": "code",
   "execution_count": 48,
   "id": "776f9fcb",
   "metadata": {},
   "outputs": [
    {
     "data": {
      "text/plain": [
       "array(['Alojamiento entero', 'Habitación privada'], dtype=object)"
      ]
     },
     "execution_count": 48,
     "metadata": {},
     "output_type": "execute_result"
    }
   ],
   "source": [
    "datos[\"alojamiento\"].unique()"
   ]
  },
  {
   "cell_type": "code",
   "execution_count": 49,
   "id": "3d73a11a",
   "metadata": {},
   "outputs": [
    {
     "data": {
      "text/plain": [
       "Alojamiento entero    1861\n",
       "Habitación privada     539\n",
       "Name: alojamiento, dtype: int64"
      ]
     },
     "execution_count": 49,
     "metadata": {},
     "output_type": "execute_result"
    }
   ],
   "source": [
    "datos[\"alojamiento\"].value_counts()"
   ]
  },
  {
   "cell_type": "markdown",
   "id": "c730dc04",
   "metadata": {},
   "source": [
    "### LIMPIEZA"
   ]
  },
  {
   "cell_type": "code",
   "execution_count": 50,
   "id": "52acef7c",
   "metadata": {},
   "outputs": [],
   "source": [
    "datos[\"limpieza\"] = datos[\"características\"].apply(cf.carac_limpieza)"
   ]
  },
  {
   "cell_type": "code",
   "execution_count": 51,
   "id": "362f291e",
   "metadata": {},
   "outputs": [],
   "source": [
    "datos[\"limpieza\"].fillna('No Limpieza avanzada', inplace=True)"
   ]
  },
  {
   "cell_type": "code",
   "execution_count": 52,
   "id": "e76c1106",
   "metadata": {},
   "outputs": [
    {
     "data": {
      "text/plain": [
       "array(['Limpieza avanzada', 'No Limpieza avanzada'], dtype=object)"
      ]
     },
     "execution_count": 52,
     "metadata": {},
     "output_type": "execute_result"
    }
   ],
   "source": [
    "datos.limpieza.unique()"
   ]
  },
  {
   "cell_type": "code",
   "execution_count": 53,
   "id": "bed7bb65",
   "metadata": {},
   "outputs": [
    {
     "data": {
      "text/plain": [
       "Alojamiento entero    1861\n",
       "Habitación privada     539\n",
       "Name: alojamiento, dtype: int64"
      ]
     },
     "execution_count": 53,
     "metadata": {},
     "output_type": "execute_result"
    }
   ],
   "source": [
    "datos[\"alojamiento\"].value_counts()"
   ]
  },
  {
   "cell_type": "markdown",
   "id": "83b5430b",
   "metadata": {},
   "source": [
    "### LLEGADA AUTÓNOMA"
   ]
  },
  {
   "cell_type": "code",
   "execution_count": 54,
   "id": "0b3f5584",
   "metadata": {},
   "outputs": [],
   "source": [
    "datos[\"llegada_autonoma\"] = datos[\"características\"].apply(cf.carac_llegada)"
   ]
  },
  {
   "cell_type": "code",
   "execution_count": 55,
   "id": "5a13ed6b",
   "metadata": {},
   "outputs": [],
   "source": [
    "datos[\"llegada_autonoma\"].fillna('No Llegada autónoma', inplace=True)"
   ]
  },
  {
   "cell_type": "code",
   "execution_count": 56,
   "id": "89157081",
   "metadata": {},
   "outputs": [
    {
     "data": {
      "text/plain": [
       "array(['No Llegada autónoma', 'Llegada autónoma'], dtype=object)"
      ]
     },
     "execution_count": 56,
     "metadata": {},
     "output_type": "execute_result"
    }
   ],
   "source": [
    "datos[\"llegada_autonoma\"].unique()"
   ]
  },
  {
   "cell_type": "code",
   "execution_count": 57,
   "id": "d2cedb31",
   "metadata": {},
   "outputs": [
    {
     "data": {
      "text/plain": [
       "No Llegada autónoma    1707\n",
       "Llegada autónoma        693\n",
       "Name: llegada_autonoma, dtype: int64"
      ]
     },
     "execution_count": 57,
     "metadata": {},
     "output_type": "execute_result"
    }
   ],
   "source": [
    "datos[\"llegada_autonoma\"].value_counts()"
   ]
  },
  {
   "cell_type": "markdown",
   "id": "2bc5caa3",
   "metadata": {},
   "source": [
    "### UBICACIÓN FANTÁSTICA"
   ]
  },
  {
   "cell_type": "code",
   "execution_count": 58,
   "id": "8fe86149",
   "metadata": {},
   "outputs": [],
   "source": [
    "datos[\"ubicacion_fantastica\"] = datos[\"características\"].apply(cf.carac_ubicacion)"
   ]
  },
  {
   "cell_type": "code",
   "execution_count": 59,
   "id": "7067c727",
   "metadata": {},
   "outputs": [],
   "source": [
    "datos[\"ubicacion_fantastica\"].fillna('No ubicación_fantastica', inplace=True)"
   ]
  },
  {
   "cell_type": "code",
   "execution_count": 60,
   "id": "0d106de2",
   "metadata": {},
   "outputs": [
    {
     "data": {
      "text/plain": [
       "array(['No ubicación_fantastica', 'Ubicación fantástica'], dtype=object)"
      ]
     },
     "execution_count": 60,
     "metadata": {},
     "output_type": "execute_result"
    }
   ],
   "source": [
    "datos[\"ubicacion_fantastica\"].unique()"
   ]
  },
  {
   "cell_type": "code",
   "execution_count": 61,
   "id": "17f968c7",
   "metadata": {},
   "outputs": [
    {
     "data": {
      "text/plain": [
       "No ubicación_fantastica    1594\n",
       "Ubicación fantástica        806\n",
       "Name: ubicacion_fantastica, dtype: int64"
      ]
     },
     "execution_count": 61,
     "metadata": {},
     "output_type": "execute_result"
    }
   ],
   "source": [
    "datos[\"ubicacion_fantastica\"].value_counts()"
   ]
  },
  {
   "cell_type": "markdown",
   "id": "8659bbe1",
   "metadata": {},
   "source": [
    "## USOS"
   ]
  },
  {
   "cell_type": "code",
   "execution_count": 62,
   "id": "7bcb5973",
   "metadata": {},
   "outputs": [
    {
     "data": {
      "text/html": [
       "<div>\n",
       "<style scoped>\n",
       "    .dataframe tbody tr th:only-of-type {\n",
       "        vertical-align: middle;\n",
       "    }\n",
       "\n",
       "    .dataframe tbody tr th {\n",
       "        vertical-align: top;\n",
       "    }\n",
       "\n",
       "    .dataframe thead th {\n",
       "        text-align: right;\n",
       "    }\n",
       "</style>\n",
       "<table border=\"1\" class=\"dataframe\">\n",
       "  <thead>\n",
       "    <tr style=\"text-align: right;\">\n",
       "      <th></th>\n",
       "      <th>titulo</th>\n",
       "      <th>all_info</th>\n",
       "      <th>características</th>\n",
       "      <th>precio</th>\n",
       "      <th>usos</th>\n",
       "      <th>huespedes</th>\n",
       "      <th>dormitorios</th>\n",
       "      <th>camas</th>\n",
       "      <th>baños</th>\n",
       "      <th>precio_eur</th>\n",
       "      <th>borra_1</th>\n",
       "      <th>borra_2</th>\n",
       "      <th>valoracion</th>\n",
       "      <th>borra_3</th>\n",
       "      <th>borra_4</th>\n",
       "      <th>alojamiento</th>\n",
       "      <th>limpieza</th>\n",
       "      <th>llegada_autonoma</th>\n",
       "      <th>ubicacion_fantastica</th>\n",
       "    </tr>\n",
       "  </thead>\n",
       "  <tbody>\n",
       "    <tr>\n",
       "      <th>881</th>\n",
       "      <td>Alojamiento entero: loft. Anfitrión: Lidia Y Q...</td>\n",
       "      <td>[4 huéspedes ,  1 dormitorio ,  2 camas ,  1 b...</td>\n",
       "      <td>[Alojamiento entero, (loft): será solo para ti...</td>\n",
       "      <td>[76€,  / noche, 76€ por noche, 4,93, (161 eval...</td>\n",
       "      <td>¿Qué hay en este alojamiento?\\nCocina\\nWifi\\nA...</td>\n",
       "      <td>4</td>\n",
       "      <td>1</td>\n",
       "      <td>2</td>\n",
       "      <td>1</td>\n",
       "      <td>76</td>\n",
       "      <td>/ noche</td>\n",
       "      <td>76€ por noche</td>\n",
       "      <td>4.93</td>\n",
       "      <td>(161 evaluaciones)</td>\n",
       "      <td>NaN</td>\n",
       "      <td>Alojamiento entero</td>\n",
       "      <td>Limpieza avanzada</td>\n",
       "      <td>No Llegada autónoma</td>\n",
       "      <td>Ubicación fantástica</td>\n",
       "    </tr>\n",
       "  </tbody>\n",
       "</table>\n",
       "</div>"
      ],
      "text/plain": [
       "                                                titulo  \\\n",
       "881  Alojamiento entero: loft. Anfitrión: Lidia Y Q...   \n",
       "\n",
       "                                              all_info  \\\n",
       "881  [4 huéspedes ,  1 dormitorio ,  2 camas ,  1 b...   \n",
       "\n",
       "                                       características  \\\n",
       "881  [Alojamiento entero, (loft): será solo para ti...   \n",
       "\n",
       "                                                precio  \\\n",
       "881  [76€,  / noche, 76€ por noche, 4,93, (161 eval...   \n",
       "\n",
       "                                                  usos  huespedes  \\\n",
       "881  ¿Qué hay en este alojamiento?\\nCocina\\nWifi\\nA...          4   \n",
       "\n",
       "     dormitorios  camas  baños  precio_eur   borra_1        borra_2  \\\n",
       "881            1      2      1          76   / noche  76€ por noche   \n",
       "\n",
       "     valoracion             borra_3 borra_4         alojamiento  \\\n",
       "881        4.93  (161 evaluaciones)     NaN  Alojamiento entero   \n",
       "\n",
       "              limpieza     llegada_autonoma  ubicacion_fantastica  \n",
       "881  Limpieza avanzada  No Llegada autónoma  Ubicación fantástica  "
      ]
     },
     "execution_count": 62,
     "metadata": {},
     "output_type": "execute_result"
    }
   ],
   "source": [
    "datos.sample()"
   ]
  },
  {
   "cell_type": "code",
   "execution_count": 63,
   "id": "619b01b2",
   "metadata": {},
   "outputs": [],
   "source": [
    "datos[\"usos\"] = datos[\"usos\"].apply(cf.splity_salto_linea)"
   ]
  },
  {
   "cell_type": "markdown",
   "id": "be01a8c0",
   "metadata": {},
   "source": [
    "### COCINA"
   ]
  },
  {
   "cell_type": "code",
   "execution_count": 64,
   "id": "29a216e7",
   "metadata": {},
   "outputs": [],
   "source": [
    "datos[\"cocina\"] = datos[\"usos\"].apply(cf.usos_cocina)"
   ]
  },
  {
   "cell_type": "code",
   "execution_count": 65,
   "id": "19d7a7c4",
   "metadata": {},
   "outputs": [],
   "source": [
    "datos[\"cocina\"].fillna('No cocina', inplace=True)"
   ]
  },
  {
   "cell_type": "code",
   "execution_count": 66,
   "id": "bda6fb18",
   "metadata": {},
   "outputs": [
    {
     "data": {
      "text/plain": [
       "array(['Cocina', 'No cocina'], dtype=object)"
      ]
     },
     "execution_count": 66,
     "metadata": {},
     "output_type": "execute_result"
    }
   ],
   "source": [
    "datos[\"cocina\"].unique()"
   ]
  },
  {
   "cell_type": "code",
   "execution_count": 67,
   "id": "b5b8809c",
   "metadata": {},
   "outputs": [
    {
     "data": {
      "text/plain": [
       "Cocina       1865\n",
       "No cocina     535\n",
       "Name: cocina, dtype: int64"
      ]
     },
     "execution_count": 67,
     "metadata": {},
     "output_type": "execute_result"
    }
   ],
   "source": [
    "datos[\"cocina\"].value_counts()"
   ]
  },
  {
   "cell_type": "markdown",
   "id": "a0686592",
   "metadata": {},
   "source": [
    "### WIFI"
   ]
  },
  {
   "cell_type": "code",
   "execution_count": 68,
   "id": "60029d4c",
   "metadata": {},
   "outputs": [],
   "source": [
    "datos[\"wifi\"] = datos[\"usos\"].apply(cf.usos_wifi)"
   ]
  },
  {
   "cell_type": "code",
   "execution_count": 69,
   "id": "1ee5a099",
   "metadata": {},
   "outputs": [],
   "source": [
    "datos[\"wifi\"].fillna('No Wifi', inplace=True)"
   ]
  },
  {
   "cell_type": "code",
   "execution_count": 70,
   "id": "aafe9ad0",
   "metadata": {},
   "outputs": [
    {
     "data": {
      "text/plain": [
       "array(['Wifi', 'No Wifi'], dtype=object)"
      ]
     },
     "execution_count": 70,
     "metadata": {},
     "output_type": "execute_result"
    }
   ],
   "source": [
    "datos[\"wifi\"].unique()"
   ]
  },
  {
   "cell_type": "code",
   "execution_count": 71,
   "id": "da56652d",
   "metadata": {},
   "outputs": [
    {
     "data": {
      "text/plain": [
       "Wifi       1968\n",
       "No Wifi     432\n",
       "Name: wifi, dtype: int64"
      ]
     },
     "execution_count": 71,
     "metadata": {},
     "output_type": "execute_result"
    }
   ],
   "source": [
    "datos[\"wifi\"].value_counts()"
   ]
  },
  {
   "cell_type": "markdown",
   "id": "99e248df",
   "metadata": {},
   "source": [
    "### LAVADORA"
   ]
  },
  {
   "cell_type": "code",
   "execution_count": 72,
   "id": "8e5d65c3",
   "metadata": {},
   "outputs": [],
   "source": [
    "datos[\"lavadora\"] = datos[\"usos\"].apply(cf.usos_lavadora)"
   ]
  },
  {
   "cell_type": "code",
   "execution_count": 73,
   "id": "ba552a05",
   "metadata": {},
   "outputs": [],
   "source": [
    "datos[\"lavadora\"].fillna('No lavadora', inplace=True)"
   ]
  },
  {
   "cell_type": "code",
   "execution_count": 74,
   "id": "ad94947b",
   "metadata": {},
   "outputs": [
    {
     "data": {
      "text/plain": [
       "array(['No lavadora', 'Lavadora'], dtype=object)"
      ]
     },
     "execution_count": 74,
     "metadata": {},
     "output_type": "execute_result"
    }
   ],
   "source": [
    "datos[\"lavadora\"].unique()"
   ]
  },
  {
   "cell_type": "code",
   "execution_count": 75,
   "id": "2a289ed6",
   "metadata": {},
   "outputs": [
    {
     "data": {
      "text/plain": [
       "Lavadora       1687\n",
       "No lavadora     713\n",
       "Name: lavadora, dtype: int64"
      ]
     },
     "execution_count": 75,
     "metadata": {},
     "output_type": "execute_result"
    }
   ],
   "source": [
    "datos[\"lavadora\"].value_counts()"
   ]
  },
  {
   "cell_type": "markdown",
   "id": "10317af2",
   "metadata": {},
   "source": [
    "### AIRE ACONDICIONADO"
   ]
  },
  {
   "cell_type": "code",
   "execution_count": 76,
   "id": "1a988a0e",
   "metadata": {},
   "outputs": [],
   "source": [
    "datos[\"aire\"] = datos[\"usos\"].apply(cf.usos_aire)"
   ]
  },
  {
   "cell_type": "code",
   "execution_count": 77,
   "id": "9b74b394",
   "metadata": {},
   "outputs": [],
   "source": [
    "datos[\"aire\"].fillna('No Aire acondicionado', inplace=True)"
   ]
  },
  {
   "cell_type": "code",
   "execution_count": 78,
   "id": "6c978efd",
   "metadata": {},
   "outputs": [
    {
     "data": {
      "text/plain": [
       "array(['Aire acondicionado', 'No Aire acondicionado'], dtype=object)"
      ]
     },
     "execution_count": 78,
     "metadata": {},
     "output_type": "execute_result"
    }
   ],
   "source": [
    "datos[\"aire\"].unique()"
   ]
  },
  {
   "cell_type": "code",
   "execution_count": 79,
   "id": "b17d8fb1",
   "metadata": {},
   "outputs": [
    {
     "data": {
      "text/plain": [
       "Aire acondicionado       1637\n",
       "No Aire acondicionado     763\n",
       "Name: aire, dtype: int64"
      ]
     },
     "execution_count": 79,
     "metadata": {},
     "output_type": "execute_result"
    }
   ],
   "source": [
    "datos[\"aire\"].value_counts()"
   ]
  },
  {
   "cell_type": "markdown",
   "id": "a2878d3e",
   "metadata": {},
   "source": [
    "### SECADOR PELO"
   ]
  },
  {
   "cell_type": "code",
   "execution_count": 80,
   "id": "79974bff",
   "metadata": {},
   "outputs": [],
   "source": [
    "datos[\"secador\"] = datos[\"usos\"].apply(cf.usos_secador)"
   ]
  },
  {
   "cell_type": "code",
   "execution_count": 81,
   "id": "07d25977",
   "metadata": {},
   "outputs": [],
   "source": [
    "datos[\"secador\"].fillna('No Secador de pelo', inplace=True)"
   ]
  },
  {
   "cell_type": "code",
   "execution_count": 82,
   "id": "be63f9ab",
   "metadata": {},
   "outputs": [
    {
     "data": {
      "text/plain": [
       "array(['Secador de pelo', 'No Secador de pelo'], dtype=object)"
      ]
     },
     "execution_count": 82,
     "metadata": {},
     "output_type": "execute_result"
    }
   ],
   "source": [
    "datos[\"secador\"].unique()"
   ]
  },
  {
   "cell_type": "code",
   "execution_count": 83,
   "id": "227aa412",
   "metadata": {},
   "outputs": [
    {
     "data": {
      "text/plain": [
       "Secador de pelo       1276\n",
       "No Secador de pelo    1124\n",
       "Name: secador, dtype: int64"
      ]
     },
     "execution_count": 83,
     "metadata": {},
     "output_type": "execute_result"
    }
   ],
   "source": [
    "datos[\"secador\"].value_counts()"
   ]
  },
  {
   "cell_type": "markdown",
   "id": "2d9b950b",
   "metadata": {},
   "source": [
    "### FRIGORÍFICO"
   ]
  },
  {
   "cell_type": "code",
   "execution_count": 84,
   "id": "302fb092",
   "metadata": {},
   "outputs": [],
   "source": [
    "datos[\"frigorifico\"] = datos[\"usos\"].apply(cf.usos_frigorifico)"
   ]
  },
  {
   "cell_type": "code",
   "execution_count": 85,
   "id": "be66daf1",
   "metadata": {},
   "outputs": [],
   "source": [
    "datos[\"frigorifico\"].fillna('No Frigorífico', inplace=True)"
   ]
  },
  {
   "cell_type": "code",
   "execution_count": 86,
   "id": "4e94a6ab",
   "metadata": {},
   "outputs": [
    {
     "data": {
      "text/plain": [
       "array(['No Frigorífico', 'Frigorífico'], dtype=object)"
      ]
     },
     "execution_count": 86,
     "metadata": {},
     "output_type": "execute_result"
    }
   ],
   "source": [
    "datos[\"frigorifico\"].unique()"
   ]
  },
  {
   "cell_type": "code",
   "execution_count": 87,
   "id": "833e20a7",
   "metadata": {},
   "outputs": [
    {
     "data": {
      "text/plain": [
       "No Frigorífico    1807\n",
       "Frigorífico        593\n",
       "Name: frigorifico, dtype: int64"
      ]
     },
     "execution_count": 87,
     "metadata": {},
     "output_type": "execute_result"
    }
   ],
   "source": [
    "datos[\"frigorifico\"].value_counts()"
   ]
  },
  {
   "cell_type": "markdown",
   "id": "8e055b4b",
   "metadata": {},
   "source": [
    "# 5. Guardo .csv limpio"
   ]
  },
  {
   "cell_type": "code",
   "execution_count": 88,
   "id": "07c1748e",
   "metadata": {},
   "outputs": [
    {
     "data": {
      "text/plain": [
       "Index(['titulo', 'all_info', 'características', 'precio', 'usos', 'huespedes',\n",
       "       'dormitorios', 'camas', 'baños', 'precio_eur', 'borra_1', 'borra_2',\n",
       "       'valoracion', 'borra_3', 'borra_4', 'alojamiento', 'limpieza',\n",
       "       'llegada_autonoma', 'ubicacion_fantastica', 'cocina', 'wifi',\n",
       "       'lavadora', 'aire', 'secador', 'frigorifico'],\n",
       "      dtype='object')"
      ]
     },
     "execution_count": 88,
     "metadata": {},
     "output_type": "execute_result"
    }
   ],
   "source": [
    "datos.columns"
   ]
  },
  {
   "cell_type": "code",
   "execution_count": 89,
   "id": "15b8f3ed",
   "metadata": {},
   "outputs": [],
   "source": [
    "df = datos[['huespedes', 'dormitorios', 'camas',\n",
    "       'baños', 'precio_eur', 'valoracion',\n",
    "       'alojamiento', 'limpieza', 'llegada_autonoma',\n",
    "       'ubicacion_fantastica', 'wifi', 'cocina','lavadora', 'aire',\n",
    "       'secador', 'frigorifico']]"
   ]
  },
  {
   "cell_type": "code",
   "execution_count": 90,
   "id": "bc66ee0a",
   "metadata": {},
   "outputs": [
    {
     "data": {
      "text/plain": [
       "huespedes               0\n",
       "dormitorios             0\n",
       "camas                   0\n",
       "baños                   0\n",
       "precio_eur              0\n",
       "valoracion              0\n",
       "alojamiento             0\n",
       "limpieza                0\n",
       "llegada_autonoma        0\n",
       "ubicacion_fantastica    0\n",
       "wifi                    0\n",
       "cocina                  0\n",
       "lavadora                0\n",
       "aire                    0\n",
       "secador                 0\n",
       "frigorifico             0\n",
       "dtype: int64"
      ]
     },
     "execution_count": 90,
     "metadata": {},
     "output_type": "execute_result"
    }
   ],
   "source": [
    "df.isna().sum()"
   ]
  },
  {
   "cell_type": "code",
   "execution_count": 91,
   "id": "ae8bbc77",
   "metadata": {},
   "outputs": [
    {
     "data": {
      "text/plain": [
       "362"
      ]
     },
     "execution_count": 91,
     "metadata": {},
     "output_type": "execute_result"
    }
   ],
   "source": [
    "df.duplicated().sum()"
   ]
  },
  {
   "cell_type": "code",
   "execution_count": 92,
   "id": "f2e5c353",
   "metadata": {},
   "outputs": [],
   "source": [
    "df.to_csv(\"../data/datos_limpios.csv\", index=False)"
   ]
  },
  {
   "cell_type": "code",
   "execution_count": 93,
   "id": "39e18a0d",
   "metadata": {},
   "outputs": [],
   "source": [
    "df_ = pd.read_csv(\"../data/final.csv\")"
   ]
  },
  {
   "cell_type": "code",
   "execution_count": 94,
   "id": "99b1b3ba",
   "metadata": {},
   "outputs": [
    {
     "data": {
      "text/html": [
       "<div>\n",
       "<style scoped>\n",
       "    .dataframe tbody tr th:only-of-type {\n",
       "        vertical-align: middle;\n",
       "    }\n",
       "\n",
       "    .dataframe tbody tr th {\n",
       "        vertical-align: top;\n",
       "    }\n",
       "\n",
       "    .dataframe thead th {\n",
       "        text-align: right;\n",
       "    }\n",
       "</style>\n",
       "<table border=\"1\" class=\"dataframe\">\n",
       "  <thead>\n",
       "    <tr style=\"text-align: right;\">\n",
       "      <th></th>\n",
       "      <th>huespedes</th>\n",
       "      <th>dormitorios</th>\n",
       "      <th>camas</th>\n",
       "      <th>baños</th>\n",
       "      <th>precio_eur</th>\n",
       "      <th>valoracion</th>\n",
       "      <th>alojamiento</th>\n",
       "      <th>limpieza</th>\n",
       "      <th>llegada_autonoma</th>\n",
       "      <th>ubicacion_fantastica</th>\n",
       "      <th>wifi</th>\n",
       "      <th>cocina</th>\n",
       "      <th>lavadora</th>\n",
       "      <th>aire</th>\n",
       "      <th>secador</th>\n",
       "      <th>frigorifico</th>\n",
       "      <th>ciudad</th>\n",
       "    </tr>\n",
       "  </thead>\n",
       "  <tbody>\n",
       "    <tr>\n",
       "      <th>0</th>\n",
       "      <td>2</td>\n",
       "      <td>1</td>\n",
       "      <td>2</td>\n",
       "      <td>1</td>\n",
       "      <td>55</td>\n",
       "      <td>4.90</td>\n",
       "      <td>Alojamiento entero</td>\n",
       "      <td>Limpieza avanzada</td>\n",
       "      <td>No Llegada autónoma</td>\n",
       "      <td>No ubicación_fantastica</td>\n",
       "      <td>Wifi</td>\n",
       "      <td>Cocina</td>\n",
       "      <td>No lavadora</td>\n",
       "      <td>Aire acondicionado</td>\n",
       "      <td>Secador de pelo</td>\n",
       "      <td>No Frigorífico</td>\n",
       "      <td>Madrid</td>\n",
       "    </tr>\n",
       "    <tr>\n",
       "      <th>1</th>\n",
       "      <td>2</td>\n",
       "      <td>1</td>\n",
       "      <td>1</td>\n",
       "      <td>1</td>\n",
       "      <td>60</td>\n",
       "      <td>4.80</td>\n",
       "      <td>Alojamiento entero</td>\n",
       "      <td>Limpieza avanzada</td>\n",
       "      <td>No Llegada autónoma</td>\n",
       "      <td>No ubicación_fantastica</td>\n",
       "      <td>No Wifi</td>\n",
       "      <td>No cocina</td>\n",
       "      <td>No lavadora</td>\n",
       "      <td>No Aire acondicionado</td>\n",
       "      <td>No Secador de pelo</td>\n",
       "      <td>No Frigorífico</td>\n",
       "      <td>Madrid</td>\n",
       "    </tr>\n",
       "    <tr>\n",
       "      <th>2</th>\n",
       "      <td>2</td>\n",
       "      <td>1</td>\n",
       "      <td>2</td>\n",
       "      <td>1</td>\n",
       "      <td>55</td>\n",
       "      <td>4.93</td>\n",
       "      <td>Alojamiento entero</td>\n",
       "      <td>Limpieza avanzada</td>\n",
       "      <td>No Llegada autónoma</td>\n",
       "      <td>Ubicación fantástica</td>\n",
       "      <td>Wifi</td>\n",
       "      <td>Cocina</td>\n",
       "      <td>No lavadora</td>\n",
       "      <td>Aire acondicionado</td>\n",
       "      <td>Secador de pelo</td>\n",
       "      <td>No Frigorífico</td>\n",
       "      <td>Madrid</td>\n",
       "    </tr>\n",
       "    <tr>\n",
       "      <th>3</th>\n",
       "      <td>5</td>\n",
       "      <td>2</td>\n",
       "      <td>3</td>\n",
       "      <td>1</td>\n",
       "      <td>85</td>\n",
       "      <td>4.95</td>\n",
       "      <td>Alojamiento entero</td>\n",
       "      <td>Limpieza avanzada</td>\n",
       "      <td>No Llegada autónoma</td>\n",
       "      <td>Ubicación fantástica</td>\n",
       "      <td>Wifi</td>\n",
       "      <td>Cocina</td>\n",
       "      <td>Lavadora</td>\n",
       "      <td>Aire acondicionado</td>\n",
       "      <td>No Secador de pelo</td>\n",
       "      <td>No Frigorífico</td>\n",
       "      <td>Madrid</td>\n",
       "    </tr>\n",
       "    <tr>\n",
       "      <th>4</th>\n",
       "      <td>4</td>\n",
       "      <td>1</td>\n",
       "      <td>2</td>\n",
       "      <td>1</td>\n",
       "      <td>60</td>\n",
       "      <td>3.33</td>\n",
       "      <td>Alojamiento entero</td>\n",
       "      <td>Limpieza avanzada</td>\n",
       "      <td>No Llegada autónoma</td>\n",
       "      <td>Ubicación fantástica</td>\n",
       "      <td>Wifi</td>\n",
       "      <td>Cocina</td>\n",
       "      <td>No lavadora</td>\n",
       "      <td>No Aire acondicionado</td>\n",
       "      <td>No Secador de pelo</td>\n",
       "      <td>Frigorífico</td>\n",
       "      <td>Madrid</td>\n",
       "    </tr>\n",
       "    <tr>\n",
       "      <th>...</th>\n",
       "      <td>...</td>\n",
       "      <td>...</td>\n",
       "      <td>...</td>\n",
       "      <td>...</td>\n",
       "      <td>...</td>\n",
       "      <td>...</td>\n",
       "      <td>...</td>\n",
       "      <td>...</td>\n",
       "      <td>...</td>\n",
       "      <td>...</td>\n",
       "      <td>...</td>\n",
       "      <td>...</td>\n",
       "      <td>...</td>\n",
       "      <td>...</td>\n",
       "      <td>...</td>\n",
       "      <td>...</td>\n",
       "      <td>...</td>\n",
       "    </tr>\n",
       "    <tr>\n",
       "      <th>2395</th>\n",
       "      <td>8</td>\n",
       "      <td>3</td>\n",
       "      <td>4</td>\n",
       "      <td>2</td>\n",
       "      <td>228</td>\n",
       "      <td>4.91</td>\n",
       "      <td>Alojamiento entero</td>\n",
       "      <td>Limpieza avanzada</td>\n",
       "      <td>No Llegada autónoma</td>\n",
       "      <td>No ubicación_fantastica</td>\n",
       "      <td>No Wifi</td>\n",
       "      <td>No cocina</td>\n",
       "      <td>No lavadora</td>\n",
       "      <td>No Aire acondicionado</td>\n",
       "      <td>No Secador de pelo</td>\n",
       "      <td>No Frigorífico</td>\n",
       "      <td>Sevilla</td>\n",
       "    </tr>\n",
       "    <tr>\n",
       "      <th>2396</th>\n",
       "      <td>5</td>\n",
       "      <td>1</td>\n",
       "      <td>3</td>\n",
       "      <td>1</td>\n",
       "      <td>93</td>\n",
       "      <td>3.50</td>\n",
       "      <td>Alojamiento entero</td>\n",
       "      <td>No Limpieza avanzada</td>\n",
       "      <td>Llegada autónoma</td>\n",
       "      <td>No ubicación_fantastica</td>\n",
       "      <td>Wifi</td>\n",
       "      <td>Cocina</td>\n",
       "      <td>Lavadora</td>\n",
       "      <td>No Aire acondicionado</td>\n",
       "      <td>No Secador de pelo</td>\n",
       "      <td>No Frigorífico</td>\n",
       "      <td>Sevilla</td>\n",
       "    </tr>\n",
       "    <tr>\n",
       "      <th>2397</th>\n",
       "      <td>7</td>\n",
       "      <td>4</td>\n",
       "      <td>7</td>\n",
       "      <td>1</td>\n",
       "      <td>160</td>\n",
       "      <td>4.85</td>\n",
       "      <td>Alojamiento entero</td>\n",
       "      <td>Limpieza avanzada</td>\n",
       "      <td>No Llegada autónoma</td>\n",
       "      <td>No ubicación_fantastica</td>\n",
       "      <td>No Wifi</td>\n",
       "      <td>No cocina</td>\n",
       "      <td>No lavadora</td>\n",
       "      <td>No Aire acondicionado</td>\n",
       "      <td>No Secador de pelo</td>\n",
       "      <td>No Frigorífico</td>\n",
       "      <td>Sevilla</td>\n",
       "    </tr>\n",
       "    <tr>\n",
       "      <th>2398</th>\n",
       "      <td>5</td>\n",
       "      <td>3</td>\n",
       "      <td>6</td>\n",
       "      <td>2</td>\n",
       "      <td>125</td>\n",
       "      <td>5.00</td>\n",
       "      <td>Alojamiento entero</td>\n",
       "      <td>Limpieza avanzada</td>\n",
       "      <td>No Llegada autónoma</td>\n",
       "      <td>No ubicación_fantastica</td>\n",
       "      <td>Wifi</td>\n",
       "      <td>Cocina</td>\n",
       "      <td>Lavadora</td>\n",
       "      <td>No Aire acondicionado</td>\n",
       "      <td>No Secador de pelo</td>\n",
       "      <td>No Frigorífico</td>\n",
       "      <td>Sevilla</td>\n",
       "    </tr>\n",
       "    <tr>\n",
       "      <th>2399</th>\n",
       "      <td>6</td>\n",
       "      <td>2</td>\n",
       "      <td>3</td>\n",
       "      <td>1</td>\n",
       "      <td>121</td>\n",
       "      <td>4.69</td>\n",
       "      <td>Alojamiento entero</td>\n",
       "      <td>Limpieza avanzada</td>\n",
       "      <td>No Llegada autónoma</td>\n",
       "      <td>No ubicación_fantastica</td>\n",
       "      <td>Wifi</td>\n",
       "      <td>Cocina</td>\n",
       "      <td>Lavadora</td>\n",
       "      <td>Aire acondicionado</td>\n",
       "      <td>No Secador de pelo</td>\n",
       "      <td>No Frigorífico</td>\n",
       "      <td>Sevilla</td>\n",
       "    </tr>\n",
       "  </tbody>\n",
       "</table>\n",
       "<p>2045 rows × 17 columns</p>\n",
       "</div>"
      ],
      "text/plain": [
       "      huespedes  dormitorios  camas  baños  precio_eur  valoracion  \\\n",
       "0             2            1      2      1          55        4.90   \n",
       "1             2            1      1      1          60        4.80   \n",
       "2             2            1      2      1          55        4.93   \n",
       "3             5            2      3      1          85        4.95   \n",
       "4             4            1      2      1          60        3.33   \n",
       "...         ...          ...    ...    ...         ...         ...   \n",
       "2395          8            3      4      2         228        4.91   \n",
       "2396          5            1      3      1          93        3.50   \n",
       "2397          7            4      7      1         160        4.85   \n",
       "2398          5            3      6      2         125        5.00   \n",
       "2399          6            2      3      1         121        4.69   \n",
       "\n",
       "             alojamiento              limpieza     llegada_autonoma  \\\n",
       "0     Alojamiento entero     Limpieza avanzada  No Llegada autónoma   \n",
       "1     Alojamiento entero     Limpieza avanzada  No Llegada autónoma   \n",
       "2     Alojamiento entero     Limpieza avanzada  No Llegada autónoma   \n",
       "3     Alojamiento entero     Limpieza avanzada  No Llegada autónoma   \n",
       "4     Alojamiento entero     Limpieza avanzada  No Llegada autónoma   \n",
       "...                  ...                   ...                  ...   \n",
       "2395  Alojamiento entero     Limpieza avanzada  No Llegada autónoma   \n",
       "2396  Alojamiento entero  No Limpieza avanzada     Llegada autónoma   \n",
       "2397  Alojamiento entero     Limpieza avanzada  No Llegada autónoma   \n",
       "2398  Alojamiento entero     Limpieza avanzada  No Llegada autónoma   \n",
       "2399  Alojamiento entero     Limpieza avanzada  No Llegada autónoma   \n",
       "\n",
       "         ubicacion_fantastica     wifi     cocina     lavadora  \\\n",
       "0     No ubicación_fantastica     Wifi     Cocina  No lavadora   \n",
       "1     No ubicación_fantastica  No Wifi  No cocina  No lavadora   \n",
       "2        Ubicación fantástica     Wifi     Cocina  No lavadora   \n",
       "3        Ubicación fantástica     Wifi     Cocina     Lavadora   \n",
       "4        Ubicación fantástica     Wifi     Cocina  No lavadora   \n",
       "...                       ...      ...        ...          ...   \n",
       "2395  No ubicación_fantastica  No Wifi  No cocina  No lavadora   \n",
       "2396  No ubicación_fantastica     Wifi     Cocina     Lavadora   \n",
       "2397  No ubicación_fantastica  No Wifi  No cocina  No lavadora   \n",
       "2398  No ubicación_fantastica     Wifi     Cocina     Lavadora   \n",
       "2399  No ubicación_fantastica     Wifi     Cocina     Lavadora   \n",
       "\n",
       "                       aire             secador     frigorifico   ciudad  \n",
       "0        Aire acondicionado     Secador de pelo  No Frigorífico   Madrid  \n",
       "1     No Aire acondicionado  No Secador de pelo  No Frigorífico   Madrid  \n",
       "2        Aire acondicionado     Secador de pelo  No Frigorífico   Madrid  \n",
       "3        Aire acondicionado  No Secador de pelo  No Frigorífico   Madrid  \n",
       "4     No Aire acondicionado  No Secador de pelo     Frigorífico   Madrid  \n",
       "...                     ...                 ...             ...      ...  \n",
       "2395  No Aire acondicionado  No Secador de pelo  No Frigorífico  Sevilla  \n",
       "2396  No Aire acondicionado  No Secador de pelo  No Frigorífico  Sevilla  \n",
       "2397  No Aire acondicionado  No Secador de pelo  No Frigorífico  Sevilla  \n",
       "2398  No Aire acondicionado  No Secador de pelo  No Frigorífico  Sevilla  \n",
       "2399     Aire acondicionado  No Secador de pelo  No Frigorífico  Sevilla  \n",
       "\n",
       "[2045 rows x 17 columns]"
      ]
     },
     "execution_count": 94,
     "metadata": {},
     "output_type": "execute_result"
    }
   ],
   "source": [
    "df_.drop_duplicates()"
   ]
  },
  {
   "cell_type": "markdown",
   "id": "3f397948",
   "metadata": {},
   "source": [
    "# OUTLIERS"
   ]
  },
  {
   "cell_type": "code",
   "execution_count": 101,
   "id": "65b3f646",
   "metadata": {},
   "outputs": [],
   "source": [
    "def gimme_the_otliers(s):\n",
    "    Q1 = s.quantile(0.25)\n",
    "    Q3 = s.quantile(0.75)\n",
    "    IQR = Q3-Q1\n",
    "    min_v = Q1 - (1.5 * IQR)\n",
    "    max_v = Q3 + (1.5 * IQR)\n",
    "    \n",
    "    return [value for value in s if ((value < min_v) or (value>max_v))]"
   ]
  },
  {
   "cell_type": "code",
   "execution_count": 103,
   "id": "7b512800",
   "metadata": {},
   "outputs": [
    {
     "data": {
      "text/plain": [
       "{260,\n",
       " 264,\n",
       " 265,\n",
       " 269,\n",
       " 270,\n",
       " 275,\n",
       " 283,\n",
       " 286,\n",
       " 290,\n",
       " 294,\n",
       " 298,\n",
       " 300,\n",
       " 308,\n",
       " 317,\n",
       " 318,\n",
       " 323,\n",
       " 330,\n",
       " 341,\n",
       " 344,\n",
       " 376,\n",
       " 388,\n",
       " 394,\n",
       " 430,\n",
       " 473,\n",
       " 500,\n",
       " 596}"
      ]
     },
     "execution_count": 103,
     "metadata": {},
     "output_type": "execute_result"
    }
   ],
   "source": [
    "set(gimme_the_otliers(df_.precio_eur))"
   ]
  },
  {
   "cell_type": "code",
   "execution_count": 106,
   "id": "a6ea9901",
   "metadata": {},
   "outputs": [
    {
     "data": {
      "text/plain": [
       "{9}"
      ]
     },
     "execution_count": 106,
     "metadata": {},
     "output_type": "execute_result"
    }
   ],
   "source": [
    "set(gimme_the_otliers(df_.camas))"
   ]
  },
  {
   "cell_type": "code",
   "execution_count": 108,
   "id": "f234ce2f",
   "metadata": {},
   "outputs": [
    {
     "data": {
      "text/plain": [
       "{4}"
      ]
     },
     "execution_count": 108,
     "metadata": {},
     "output_type": "execute_result"
    }
   ],
   "source": [
    "set(gimme_the_otliers(df_.baños))"
   ]
  },
  {
   "cell_type": "code",
   "execution_count": 109,
   "id": "946c8259",
   "metadata": {},
   "outputs": [],
   "source": [
    "df_.to_csv(\"../data/datos_limpios_final_outliers.csv\", index=False)"
   ]
  },
  {
   "cell_type": "code",
   "execution_count": 114,
   "id": "46b61a8b",
   "metadata": {},
   "outputs": [],
   "source": [
    "df_sin_outliers = df_[(df_[\"camas\"] != 9 ) & (df_[\"baños\"] != 4 ) & (df_[\"precio_eur\"] < 250 )]"
   ]
  },
  {
   "cell_type": "code",
   "execution_count": 115,
   "id": "9c53190a",
   "metadata": {},
   "outputs": [
    {
     "data": {
      "text/html": [
       "<div>\n",
       "<style scoped>\n",
       "    .dataframe tbody tr th:only-of-type {\n",
       "        vertical-align: middle;\n",
       "    }\n",
       "\n",
       "    .dataframe tbody tr th {\n",
       "        vertical-align: top;\n",
       "    }\n",
       "\n",
       "    .dataframe thead th {\n",
       "        text-align: right;\n",
       "    }\n",
       "</style>\n",
       "<table border=\"1\" class=\"dataframe\">\n",
       "  <thead>\n",
       "    <tr style=\"text-align: right;\">\n",
       "      <th></th>\n",
       "      <th>huespedes</th>\n",
       "      <th>dormitorios</th>\n",
       "      <th>camas</th>\n",
       "      <th>baños</th>\n",
       "      <th>precio_eur</th>\n",
       "      <th>valoracion</th>\n",
       "      <th>alojamiento</th>\n",
       "      <th>limpieza</th>\n",
       "      <th>llegada_autonoma</th>\n",
       "      <th>ubicacion_fantastica</th>\n",
       "      <th>wifi</th>\n",
       "      <th>cocina</th>\n",
       "      <th>lavadora</th>\n",
       "      <th>aire</th>\n",
       "      <th>secador</th>\n",
       "      <th>frigorifico</th>\n",
       "      <th>ciudad</th>\n",
       "    </tr>\n",
       "  </thead>\n",
       "  <tbody>\n",
       "    <tr>\n",
       "      <th>0</th>\n",
       "      <td>2</td>\n",
       "      <td>1</td>\n",
       "      <td>2</td>\n",
       "      <td>1</td>\n",
       "      <td>55</td>\n",
       "      <td>4.90</td>\n",
       "      <td>Alojamiento entero</td>\n",
       "      <td>Limpieza avanzada</td>\n",
       "      <td>No Llegada autónoma</td>\n",
       "      <td>No ubicación_fantastica</td>\n",
       "      <td>Wifi</td>\n",
       "      <td>Cocina</td>\n",
       "      <td>No lavadora</td>\n",
       "      <td>Aire acondicionado</td>\n",
       "      <td>Secador de pelo</td>\n",
       "      <td>No Frigorífico</td>\n",
       "      <td>Madrid</td>\n",
       "    </tr>\n",
       "    <tr>\n",
       "      <th>1</th>\n",
       "      <td>2</td>\n",
       "      <td>1</td>\n",
       "      <td>1</td>\n",
       "      <td>1</td>\n",
       "      <td>60</td>\n",
       "      <td>4.80</td>\n",
       "      <td>Alojamiento entero</td>\n",
       "      <td>Limpieza avanzada</td>\n",
       "      <td>No Llegada autónoma</td>\n",
       "      <td>No ubicación_fantastica</td>\n",
       "      <td>No Wifi</td>\n",
       "      <td>No cocina</td>\n",
       "      <td>No lavadora</td>\n",
       "      <td>No Aire acondicionado</td>\n",
       "      <td>No Secador de pelo</td>\n",
       "      <td>No Frigorífico</td>\n",
       "      <td>Madrid</td>\n",
       "    </tr>\n",
       "    <tr>\n",
       "      <th>2</th>\n",
       "      <td>2</td>\n",
       "      <td>1</td>\n",
       "      <td>2</td>\n",
       "      <td>1</td>\n",
       "      <td>55</td>\n",
       "      <td>4.93</td>\n",
       "      <td>Alojamiento entero</td>\n",
       "      <td>Limpieza avanzada</td>\n",
       "      <td>No Llegada autónoma</td>\n",
       "      <td>Ubicación fantástica</td>\n",
       "      <td>Wifi</td>\n",
       "      <td>Cocina</td>\n",
       "      <td>No lavadora</td>\n",
       "      <td>Aire acondicionado</td>\n",
       "      <td>Secador de pelo</td>\n",
       "      <td>No Frigorífico</td>\n",
       "      <td>Madrid</td>\n",
       "    </tr>\n",
       "    <tr>\n",
       "      <th>3</th>\n",
       "      <td>5</td>\n",
       "      <td>2</td>\n",
       "      <td>3</td>\n",
       "      <td>1</td>\n",
       "      <td>85</td>\n",
       "      <td>4.95</td>\n",
       "      <td>Alojamiento entero</td>\n",
       "      <td>Limpieza avanzada</td>\n",
       "      <td>No Llegada autónoma</td>\n",
       "      <td>Ubicación fantástica</td>\n",
       "      <td>Wifi</td>\n",
       "      <td>Cocina</td>\n",
       "      <td>Lavadora</td>\n",
       "      <td>Aire acondicionado</td>\n",
       "      <td>No Secador de pelo</td>\n",
       "      <td>No Frigorífico</td>\n",
       "      <td>Madrid</td>\n",
       "    </tr>\n",
       "    <tr>\n",
       "      <th>4</th>\n",
       "      <td>4</td>\n",
       "      <td>1</td>\n",
       "      <td>2</td>\n",
       "      <td>1</td>\n",
       "      <td>60</td>\n",
       "      <td>3.33</td>\n",
       "      <td>Alojamiento entero</td>\n",
       "      <td>Limpieza avanzada</td>\n",
       "      <td>No Llegada autónoma</td>\n",
       "      <td>Ubicación fantástica</td>\n",
       "      <td>Wifi</td>\n",
       "      <td>Cocina</td>\n",
       "      <td>No lavadora</td>\n",
       "      <td>No Aire acondicionado</td>\n",
       "      <td>No Secador de pelo</td>\n",
       "      <td>Frigorífico</td>\n",
       "      <td>Madrid</td>\n",
       "    </tr>\n",
       "    <tr>\n",
       "      <th>...</th>\n",
       "      <td>...</td>\n",
       "      <td>...</td>\n",
       "      <td>...</td>\n",
       "      <td>...</td>\n",
       "      <td>...</td>\n",
       "      <td>...</td>\n",
       "      <td>...</td>\n",
       "      <td>...</td>\n",
       "      <td>...</td>\n",
       "      <td>...</td>\n",
       "      <td>...</td>\n",
       "      <td>...</td>\n",
       "      <td>...</td>\n",
       "      <td>...</td>\n",
       "      <td>...</td>\n",
       "      <td>...</td>\n",
       "      <td>...</td>\n",
       "    </tr>\n",
       "    <tr>\n",
       "      <th>2395</th>\n",
       "      <td>8</td>\n",
       "      <td>3</td>\n",
       "      <td>4</td>\n",
       "      <td>2</td>\n",
       "      <td>228</td>\n",
       "      <td>4.91</td>\n",
       "      <td>Alojamiento entero</td>\n",
       "      <td>Limpieza avanzada</td>\n",
       "      <td>No Llegada autónoma</td>\n",
       "      <td>No ubicación_fantastica</td>\n",
       "      <td>No Wifi</td>\n",
       "      <td>No cocina</td>\n",
       "      <td>No lavadora</td>\n",
       "      <td>No Aire acondicionado</td>\n",
       "      <td>No Secador de pelo</td>\n",
       "      <td>No Frigorífico</td>\n",
       "      <td>Sevilla</td>\n",
       "    </tr>\n",
       "    <tr>\n",
       "      <th>2396</th>\n",
       "      <td>5</td>\n",
       "      <td>1</td>\n",
       "      <td>3</td>\n",
       "      <td>1</td>\n",
       "      <td>93</td>\n",
       "      <td>3.50</td>\n",
       "      <td>Alojamiento entero</td>\n",
       "      <td>No Limpieza avanzada</td>\n",
       "      <td>Llegada autónoma</td>\n",
       "      <td>No ubicación_fantastica</td>\n",
       "      <td>Wifi</td>\n",
       "      <td>Cocina</td>\n",
       "      <td>Lavadora</td>\n",
       "      <td>No Aire acondicionado</td>\n",
       "      <td>No Secador de pelo</td>\n",
       "      <td>No Frigorífico</td>\n",
       "      <td>Sevilla</td>\n",
       "    </tr>\n",
       "    <tr>\n",
       "      <th>2397</th>\n",
       "      <td>7</td>\n",
       "      <td>4</td>\n",
       "      <td>7</td>\n",
       "      <td>1</td>\n",
       "      <td>160</td>\n",
       "      <td>4.85</td>\n",
       "      <td>Alojamiento entero</td>\n",
       "      <td>Limpieza avanzada</td>\n",
       "      <td>No Llegada autónoma</td>\n",
       "      <td>No ubicación_fantastica</td>\n",
       "      <td>No Wifi</td>\n",
       "      <td>No cocina</td>\n",
       "      <td>No lavadora</td>\n",
       "      <td>No Aire acondicionado</td>\n",
       "      <td>No Secador de pelo</td>\n",
       "      <td>No Frigorífico</td>\n",
       "      <td>Sevilla</td>\n",
       "    </tr>\n",
       "    <tr>\n",
       "      <th>2398</th>\n",
       "      <td>5</td>\n",
       "      <td>3</td>\n",
       "      <td>6</td>\n",
       "      <td>2</td>\n",
       "      <td>125</td>\n",
       "      <td>5.00</td>\n",
       "      <td>Alojamiento entero</td>\n",
       "      <td>Limpieza avanzada</td>\n",
       "      <td>No Llegada autónoma</td>\n",
       "      <td>No ubicación_fantastica</td>\n",
       "      <td>Wifi</td>\n",
       "      <td>Cocina</td>\n",
       "      <td>Lavadora</td>\n",
       "      <td>No Aire acondicionado</td>\n",
       "      <td>No Secador de pelo</td>\n",
       "      <td>No Frigorífico</td>\n",
       "      <td>Sevilla</td>\n",
       "    </tr>\n",
       "    <tr>\n",
       "      <th>2399</th>\n",
       "      <td>6</td>\n",
       "      <td>2</td>\n",
       "      <td>3</td>\n",
       "      <td>1</td>\n",
       "      <td>121</td>\n",
       "      <td>4.69</td>\n",
       "      <td>Alojamiento entero</td>\n",
       "      <td>Limpieza avanzada</td>\n",
       "      <td>No Llegada autónoma</td>\n",
       "      <td>No ubicación_fantastica</td>\n",
       "      <td>Wifi</td>\n",
       "      <td>Cocina</td>\n",
       "      <td>Lavadora</td>\n",
       "      <td>Aire acondicionado</td>\n",
       "      <td>No Secador de pelo</td>\n",
       "      <td>No Frigorífico</td>\n",
       "      <td>Sevilla</td>\n",
       "    </tr>\n",
       "  </tbody>\n",
       "</table>\n",
       "<p>2337 rows × 17 columns</p>\n",
       "</div>"
      ],
      "text/plain": [
       "      huespedes  dormitorios  camas  baños  precio_eur  valoracion  \\\n",
       "0             2            1      2      1          55        4.90   \n",
       "1             2            1      1      1          60        4.80   \n",
       "2             2            1      2      1          55        4.93   \n",
       "3             5            2      3      1          85        4.95   \n",
       "4             4            1      2      1          60        3.33   \n",
       "...         ...          ...    ...    ...         ...         ...   \n",
       "2395          8            3      4      2         228        4.91   \n",
       "2396          5            1      3      1          93        3.50   \n",
       "2397          7            4      7      1         160        4.85   \n",
       "2398          5            3      6      2         125        5.00   \n",
       "2399          6            2      3      1         121        4.69   \n",
       "\n",
       "             alojamiento              limpieza     llegada_autonoma  \\\n",
       "0     Alojamiento entero     Limpieza avanzada  No Llegada autónoma   \n",
       "1     Alojamiento entero     Limpieza avanzada  No Llegada autónoma   \n",
       "2     Alojamiento entero     Limpieza avanzada  No Llegada autónoma   \n",
       "3     Alojamiento entero     Limpieza avanzada  No Llegada autónoma   \n",
       "4     Alojamiento entero     Limpieza avanzada  No Llegada autónoma   \n",
       "...                  ...                   ...                  ...   \n",
       "2395  Alojamiento entero     Limpieza avanzada  No Llegada autónoma   \n",
       "2396  Alojamiento entero  No Limpieza avanzada     Llegada autónoma   \n",
       "2397  Alojamiento entero     Limpieza avanzada  No Llegada autónoma   \n",
       "2398  Alojamiento entero     Limpieza avanzada  No Llegada autónoma   \n",
       "2399  Alojamiento entero     Limpieza avanzada  No Llegada autónoma   \n",
       "\n",
       "         ubicacion_fantastica     wifi     cocina     lavadora  \\\n",
       "0     No ubicación_fantastica     Wifi     Cocina  No lavadora   \n",
       "1     No ubicación_fantastica  No Wifi  No cocina  No lavadora   \n",
       "2        Ubicación fantástica     Wifi     Cocina  No lavadora   \n",
       "3        Ubicación fantástica     Wifi     Cocina     Lavadora   \n",
       "4        Ubicación fantástica     Wifi     Cocina  No lavadora   \n",
       "...                       ...      ...        ...          ...   \n",
       "2395  No ubicación_fantastica  No Wifi  No cocina  No lavadora   \n",
       "2396  No ubicación_fantastica     Wifi     Cocina     Lavadora   \n",
       "2397  No ubicación_fantastica  No Wifi  No cocina  No lavadora   \n",
       "2398  No ubicación_fantastica     Wifi     Cocina     Lavadora   \n",
       "2399  No ubicación_fantastica     Wifi     Cocina     Lavadora   \n",
       "\n",
       "                       aire             secador     frigorifico   ciudad  \n",
       "0        Aire acondicionado     Secador de pelo  No Frigorífico   Madrid  \n",
       "1     No Aire acondicionado  No Secador de pelo  No Frigorífico   Madrid  \n",
       "2        Aire acondicionado     Secador de pelo  No Frigorífico   Madrid  \n",
       "3        Aire acondicionado  No Secador de pelo  No Frigorífico   Madrid  \n",
       "4     No Aire acondicionado  No Secador de pelo     Frigorífico   Madrid  \n",
       "...                     ...                 ...             ...      ...  \n",
       "2395  No Aire acondicionado  No Secador de pelo  No Frigorífico  Sevilla  \n",
       "2396  No Aire acondicionado  No Secador de pelo  No Frigorífico  Sevilla  \n",
       "2397  No Aire acondicionado  No Secador de pelo  No Frigorífico  Sevilla  \n",
       "2398  No Aire acondicionado  No Secador de pelo  No Frigorífico  Sevilla  \n",
       "2399     Aire acondicionado  No Secador de pelo  No Frigorífico  Sevilla  \n",
       "\n",
       "[2337 rows x 17 columns]"
      ]
     },
     "execution_count": 115,
     "metadata": {},
     "output_type": "execute_result"
    }
   ],
   "source": [
    "df_sin_outliers"
   ]
  },
  {
   "cell_type": "code",
   "execution_count": 119,
   "id": "53669a91",
   "metadata": {},
   "outputs": [],
   "source": [
    "df_sin_outliers.to_csv(\"../data/datos_limpios_sin_outliers.csv\", index=False)"
   ]
  }
 ],
 "metadata": {
  "kernelspec": {
   "display_name": "ironhack",
   "language": "python",
   "name": "ironhack"
  },
  "language_info": {
   "codemirror_mode": {
    "name": "ipython",
    "version": 3
   },
   "file_extension": ".py",
   "mimetype": "text/x-python",
   "name": "python",
   "nbconvert_exporter": "python",
   "pygments_lexer": "ipython3",
   "version": "3.8.5"
  }
 },
 "nbformat": 4,
 "nbformat_minor": 5
}
