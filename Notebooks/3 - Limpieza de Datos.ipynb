{
 "cells": [
  {
   "cell_type": "markdown",
   "id": "d0a428f5",
   "metadata": {},
   "source": [
    "# 1. Importo Librerías"
   ]
  },
  {
   "cell_type": "code",
   "execution_count": 1,
   "id": "06ee266d",
   "metadata": {},
   "outputs": [],
   "source": [
    "import pandas as pd\n",
    "import numpy as np\n",
    "import re\n",
    "\n",
    "# Importing the cleaning functions:\n",
    "import sys\n",
    "sys.path.append(\"../\")\n",
    "import src.cleaning_functions as cf"
   ]
  },
  {
   "cell_type": "markdown",
   "id": "b63540b5",
   "metadata": {},
   "source": [
    "# 2. Cargo Datos"
   ]
  },
  {
   "cell_type": "markdown",
   "id": "3f5c3df1",
   "metadata": {},
   "source": [
    "# 3. EDA"
   ]
  },
  {
   "cell_type": "code",
   "execution_count": 2,
   "id": "e818ed7e",
   "metadata": {},
   "outputs": [],
   "source": [
    "datos_1d = pd.read_csv(\"../data/datos_1_dorm.csv\")"
   ]
  },
  {
   "cell_type": "code",
   "execution_count": 3,
   "id": "4344d724",
   "metadata": {},
   "outputs": [],
   "source": [
    "datos_4h = pd.read_csv(\"../data/datos_4_h_m_v_s.csv\")"
   ]
  },
  {
   "cell_type": "code",
   "execution_count": 4,
   "id": "c7d32358",
   "metadata": {},
   "outputs": [],
   "source": [
    "datos_ana = pd.read_csv(\"../data/datos_4_h_v_s.csv\")"
   ]
  },
  {
   "cell_type": "code",
   "execution_count": 5,
   "id": "db75aabb",
   "metadata": {},
   "outputs": [],
   "source": [
    "datos_4h_val = datos_ana[:300]"
   ]
  },
  {
   "cell_type": "code",
   "execution_count": 6,
   "id": "a63c316b",
   "metadata": {},
   "outputs": [],
   "source": [
    "df = pd.concat([datos_1d, datos_4h, datos_4h_val ], axis=0)"
   ]
  },
  {
   "cell_type": "code",
   "execution_count": 7,
   "id": "e654fc97",
   "metadata": {},
   "outputs": [
    {
     "data": {
      "text/html": [
       "<div>\n",
       "<style scoped>\n",
       "    .dataframe tbody tr th:only-of-type {\n",
       "        vertical-align: middle;\n",
       "    }\n",
       "\n",
       "    .dataframe tbody tr th {\n",
       "        vertical-align: top;\n",
       "    }\n",
       "\n",
       "    .dataframe thead th {\n",
       "        text-align: right;\n",
       "    }\n",
       "</style>\n",
       "<table border=\"1\" class=\"dataframe\">\n",
       "  <thead>\n",
       "    <tr style=\"text-align: right;\">\n",
       "      <th></th>\n",
       "      <th>titulo</th>\n",
       "      <th>all_info</th>\n",
       "      <th>características</th>\n",
       "      <th>precio</th>\n",
       "      <th>usos</th>\n",
       "    </tr>\n",
       "  </thead>\n",
       "  <tbody>\n",
       "    <tr>\n",
       "      <th>0</th>\n",
       "      <td>Alojamiento entero: piso. Anfitrión: Javier</td>\n",
       "      <td>2 huéspedes · 1 dormitorio · 2 camas · 1 baño</td>\n",
       "      <td>Alojamiento entero\\n(apartamento): será solo p...</td>\n",
       "      <td>55€\\n / noche\\n55€ por noche\\n4,90\\n(415 evalu...</td>\n",
       "      <td>¿Qué hay en este alojamiento?\\nCocina\\nWifi\\nT...</td>\n",
       "    </tr>\n",
       "    <tr>\n",
       "      <th>1</th>\n",
       "      <td>Alojamiento entero: piso. Anfitrión: Melissa</td>\n",
       "      <td>2 huéspedes · 1 dormitorio · 1 cama · 1 baño</td>\n",
       "      <td>Alojamiento entero\\n(apartamento): será solo p...</td>\n",
       "      <td>60€\\n / noche\\n60€ por noche\\n4,80\\n(5 evaluac...</td>\n",
       "      <td>2 noches en Madrid\\n19 de ago. de 2022 - 21 de...</td>\n",
       "    </tr>\n",
       "    <tr>\n",
       "      <th>2</th>\n",
       "      <td>Alojamiento entero: piso. Anfitrión: Javier</td>\n",
       "      <td>2 huéspedes · 1 dormitorio · 2 camas · 1 baño</td>\n",
       "      <td>Alojamiento entero\\n(apartamento): será solo p...</td>\n",
       "      <td>55€\\n / noche\\n55€ por noche\\n4,93\\n(46 evalua...</td>\n",
       "      <td>¿Qué hay en este alojamiento?\\nCocina\\nWifi\\nT...</td>\n",
       "    </tr>\n",
       "    <tr>\n",
       "      <th>3</th>\n",
       "      <td>Alojamiento entero: piso. Anfitrión: Julio Víctor</td>\n",
       "      <td>5 huéspedes · 2 dormitorios · 3 camas · 1 baño</td>\n",
       "      <td>Alojamiento entero\\n(apartamento): será solo p...</td>\n",
       "      <td>85€\\n / noche\\n85€ por noche\\n4,95\\n(459 evalu...</td>\n",
       "      <td>¿Qué hay en este alojamiento?\\nCocina\\nWifi\\nA...</td>\n",
       "    </tr>\n",
       "    <tr>\n",
       "      <th>4</th>\n",
       "      <td>Alojamiento entero: piso. Anfitrión: Airbnbleg...</td>\n",
       "      <td>4 huéspedes · 1 dormitorio · 2 camas · 1 baño</td>\n",
       "      <td>Alojamiento entero\\n(apartamento): será solo p...</td>\n",
       "      <td>60€\\n / noche\\n60€ por noche\\n3,33\\n(3 evaluac...</td>\n",
       "      <td>¿Qué hay en este alojamiento?\\nCocina\\nWifi\\nT...</td>\n",
       "    </tr>\n",
       "    <tr>\n",
       "      <th>...</th>\n",
       "      <td>...</td>\n",
       "      <td>...</td>\n",
       "      <td>...</td>\n",
       "      <td>...</td>\n",
       "      <td>...</td>\n",
       "    </tr>\n",
       "    <tr>\n",
       "      <th>295</th>\n",
       "      <td>NaN</td>\n",
       "      <td>8 huéspedes · 3 dormitorios · 4 camas · 2 baños</td>\n",
       "      <td>Alojamiento entero\\n(apartamento): será solo p...</td>\n",
       "      <td>228€\\n / noche\\n228€ por noche\\n4,91\\n(11 eval...</td>\n",
       "      <td>¿Dónde dormirás?\\n1 de 2 páginas\\n1 / 2\\nDormi...</td>\n",
       "    </tr>\n",
       "    <tr>\n",
       "      <th>296</th>\n",
       "      <td>NaN</td>\n",
       "      <td>5 huéspedes · 1 dormitorio · 3 camas · 1 baño</td>\n",
       "      <td>Alojamiento entero\\n(apartamento): será solo p...</td>\n",
       "      <td>93€\\n / noche\\n93€ por noche\\n3,50\\n(8 evaluac...</td>\n",
       "      <td>¿Qué hay en este alojamiento?\\nCocina\\nWifi\\nA...</td>\n",
       "    </tr>\n",
       "    <tr>\n",
       "      <th>297</th>\n",
       "      <td>NaN</td>\n",
       "      <td>7 huéspedes · 4 dormitorios · 7 camas · 1,5 baños</td>\n",
       "      <td>Alojamiento entero\\n(apartamento): será solo p...</td>\n",
       "      <td>160€\\n / noche\\n160€ por noche\\n4,85\\n(89 eval...</td>\n",
       "      <td>2 noches en València\\n1 de jul. de 2022 - 3 de...</td>\n",
       "    </tr>\n",
       "    <tr>\n",
       "      <th>298</th>\n",
       "      <td>NaN</td>\n",
       "      <td>5 huéspedes · 3 dormitorios · 6 camas · 2 baños</td>\n",
       "      <td>Alojamiento entero\\n(apartamento): será solo p...</td>\n",
       "      <td>125€\\n / noche\\n125€ por noche\\n5,0\\n(6 evalua...</td>\n",
       "      <td>¿Qué hay en este alojamiento?\\nVistas al perfi...</td>\n",
       "    </tr>\n",
       "    <tr>\n",
       "      <th>299</th>\n",
       "      <td>NaN</td>\n",
       "      <td>6 huéspedes · 2 dormitorios · 3 camas · 1 baño</td>\n",
       "      <td>Alojamiento entero\\n(apartamento): será solo p...</td>\n",
       "      <td>121€\\n / noche\\n121€ por noche\\n4,69\\n(26 eval...</td>\n",
       "      <td>¿Qué hay en este alojamiento?\\nCocina\\nWifi\\nA...</td>\n",
       "    </tr>\n",
       "  </tbody>\n",
       "</table>\n",
       "<p>2400 rows × 5 columns</p>\n",
       "</div>"
      ],
      "text/plain": [
       "                                                titulo  \\\n",
       "0          Alojamiento entero: piso. Anfitrión: Javier   \n",
       "1         Alojamiento entero: piso. Anfitrión: Melissa   \n",
       "2          Alojamiento entero: piso. Anfitrión: Javier   \n",
       "3    Alojamiento entero: piso. Anfitrión: Julio Víctor   \n",
       "4    Alojamiento entero: piso. Anfitrión: Airbnbleg...   \n",
       "..                                                 ...   \n",
       "295                                                NaN   \n",
       "296                                                NaN   \n",
       "297                                                NaN   \n",
       "298                                                NaN   \n",
       "299                                                NaN   \n",
       "\n",
       "                                              all_info  \\\n",
       "0        2 huéspedes · 1 dormitorio · 2 camas · 1 baño   \n",
       "1         2 huéspedes · 1 dormitorio · 1 cama · 1 baño   \n",
       "2        2 huéspedes · 1 dormitorio · 2 camas · 1 baño   \n",
       "3       5 huéspedes · 2 dormitorios · 3 camas · 1 baño   \n",
       "4        4 huéspedes · 1 dormitorio · 2 camas · 1 baño   \n",
       "..                                                 ...   \n",
       "295    8 huéspedes · 3 dormitorios · 4 camas · 2 baños   \n",
       "296      5 huéspedes · 1 dormitorio · 3 camas · 1 baño   \n",
       "297  7 huéspedes · 4 dormitorios · 7 camas · 1,5 baños   \n",
       "298    5 huéspedes · 3 dormitorios · 6 camas · 2 baños   \n",
       "299     6 huéspedes · 2 dormitorios · 3 camas · 1 baño   \n",
       "\n",
       "                                       características  \\\n",
       "0    Alojamiento entero\\n(apartamento): será solo p...   \n",
       "1    Alojamiento entero\\n(apartamento): será solo p...   \n",
       "2    Alojamiento entero\\n(apartamento): será solo p...   \n",
       "3    Alojamiento entero\\n(apartamento): será solo p...   \n",
       "4    Alojamiento entero\\n(apartamento): será solo p...   \n",
       "..                                                 ...   \n",
       "295  Alojamiento entero\\n(apartamento): será solo p...   \n",
       "296  Alojamiento entero\\n(apartamento): será solo p...   \n",
       "297  Alojamiento entero\\n(apartamento): será solo p...   \n",
       "298  Alojamiento entero\\n(apartamento): será solo p...   \n",
       "299  Alojamiento entero\\n(apartamento): será solo p...   \n",
       "\n",
       "                                                precio  \\\n",
       "0    55€\\n / noche\\n55€ por noche\\n4,90\\n(415 evalu...   \n",
       "1    60€\\n / noche\\n60€ por noche\\n4,80\\n(5 evaluac...   \n",
       "2    55€\\n / noche\\n55€ por noche\\n4,93\\n(46 evalua...   \n",
       "3    85€\\n / noche\\n85€ por noche\\n4,95\\n(459 evalu...   \n",
       "4    60€\\n / noche\\n60€ por noche\\n3,33\\n(3 evaluac...   \n",
       "..                                                 ...   \n",
       "295  228€\\n / noche\\n228€ por noche\\n4,91\\n(11 eval...   \n",
       "296  93€\\n / noche\\n93€ por noche\\n3,50\\n(8 evaluac...   \n",
       "297  160€\\n / noche\\n160€ por noche\\n4,85\\n(89 eval...   \n",
       "298  125€\\n / noche\\n125€ por noche\\n5,0\\n(6 evalua...   \n",
       "299  121€\\n / noche\\n121€ por noche\\n4,69\\n(26 eval...   \n",
       "\n",
       "                                                  usos  \n",
       "0    ¿Qué hay en este alojamiento?\\nCocina\\nWifi\\nT...  \n",
       "1    2 noches en Madrid\\n19 de ago. de 2022 - 21 de...  \n",
       "2    ¿Qué hay en este alojamiento?\\nCocina\\nWifi\\nT...  \n",
       "3    ¿Qué hay en este alojamiento?\\nCocina\\nWifi\\nA...  \n",
       "4    ¿Qué hay en este alojamiento?\\nCocina\\nWifi\\nT...  \n",
       "..                                                 ...  \n",
       "295  ¿Dónde dormirás?\\n1 de 2 páginas\\n1 / 2\\nDormi...  \n",
       "296  ¿Qué hay en este alojamiento?\\nCocina\\nWifi\\nA...  \n",
       "297  2 noches en València\\n1 de jul. de 2022 - 3 de...  \n",
       "298  ¿Qué hay en este alojamiento?\\nVistas al perfi...  \n",
       "299  ¿Qué hay en este alojamiento?\\nCocina\\nWifi\\nA...  \n",
       "\n",
       "[2400 rows x 5 columns]"
      ]
     },
     "execution_count": 7,
     "metadata": {},
     "output_type": "execute_result"
    }
   ],
   "source": [
    "df"
   ]
  },
  {
   "cell_type": "code",
   "execution_count": 8,
   "id": "5ddd26f1",
   "metadata": {},
   "outputs": [],
   "source": [
    "ciudad = pd.read_csv(\"../data/ciudades.csv\")"
   ]
  },
  {
   "cell_type": "code",
   "execution_count": 9,
   "id": "4a01e852",
   "metadata": {},
   "outputs": [
    {
     "data": {
      "text/html": [
       "<div>\n",
       "<style scoped>\n",
       "    .dataframe tbody tr th:only-of-type {\n",
       "        vertical-align: middle;\n",
       "    }\n",
       "\n",
       "    .dataframe tbody tr th {\n",
       "        vertical-align: top;\n",
       "    }\n",
       "\n",
       "    .dataframe thead th {\n",
       "        text-align: right;\n",
       "    }\n",
       "</style>\n",
       "<table border=\"1\" class=\"dataframe\">\n",
       "  <thead>\n",
       "    <tr style=\"text-align: right;\">\n",
       "      <th></th>\n",
       "      <th>ciudad</th>\n",
       "    </tr>\n",
       "  </thead>\n",
       "  <tbody>\n",
       "    <tr>\n",
       "      <th>0</th>\n",
       "      <td>Madrid</td>\n",
       "    </tr>\n",
       "    <tr>\n",
       "      <th>1</th>\n",
       "      <td>Madrid</td>\n",
       "    </tr>\n",
       "    <tr>\n",
       "      <th>2</th>\n",
       "      <td>Madrid</td>\n",
       "    </tr>\n",
       "    <tr>\n",
       "      <th>3</th>\n",
       "      <td>Madrid</td>\n",
       "    </tr>\n",
       "    <tr>\n",
       "      <th>4</th>\n",
       "      <td>Madrid</td>\n",
       "    </tr>\n",
       "    <tr>\n",
       "      <th>...</th>\n",
       "      <td>...</td>\n",
       "    </tr>\n",
       "    <tr>\n",
       "      <th>2395</th>\n",
       "      <td>Sevilla</td>\n",
       "    </tr>\n",
       "    <tr>\n",
       "      <th>2396</th>\n",
       "      <td>Sevilla</td>\n",
       "    </tr>\n",
       "    <tr>\n",
       "      <th>2397</th>\n",
       "      <td>Sevilla</td>\n",
       "    </tr>\n",
       "    <tr>\n",
       "      <th>2398</th>\n",
       "      <td>Sevilla</td>\n",
       "    </tr>\n",
       "    <tr>\n",
       "      <th>2399</th>\n",
       "      <td>Sevilla</td>\n",
       "    </tr>\n",
       "  </tbody>\n",
       "</table>\n",
       "<p>2400 rows × 1 columns</p>\n",
       "</div>"
      ],
      "text/plain": [
       "       ciudad\n",
       "0      Madrid\n",
       "1      Madrid\n",
       "2      Madrid\n",
       "3      Madrid\n",
       "4      Madrid\n",
       "...       ...\n",
       "2395  Sevilla\n",
       "2396  Sevilla\n",
       "2397  Sevilla\n",
       "2398  Sevilla\n",
       "2399  Sevilla\n",
       "\n",
       "[2400 rows x 1 columns]"
      ]
     },
     "execution_count": 9,
     "metadata": {},
     "output_type": "execute_result"
    }
   ],
   "source": [
    "ciudad"
   ]
  },
  {
   "cell_type": "code",
   "execution_count": 10,
   "id": "49ef4692",
   "metadata": {},
   "outputs": [],
   "source": [
    "urls = pd.read_csv(\"../data/datos_URLS.csv\")"
   ]
  },
  {
   "cell_type": "code",
   "execution_count": 11,
   "id": "5897cc13",
   "metadata": {},
   "outputs": [],
   "source": [
    "urls.columns = [\"urls\"]"
   ]
  },
  {
   "cell_type": "code",
   "execution_count": 12,
   "id": "bad0ea1c",
   "metadata": {},
   "outputs": [
    {
     "data": {
      "text/html": [
       "<div>\n",
       "<style scoped>\n",
       "    .dataframe tbody tr th:only-of-type {\n",
       "        vertical-align: middle;\n",
       "    }\n",
       "\n",
       "    .dataframe tbody tr th {\n",
       "        vertical-align: top;\n",
       "    }\n",
       "\n",
       "    .dataframe thead th {\n",
       "        text-align: right;\n",
       "    }\n",
       "</style>\n",
       "<table border=\"1\" class=\"dataframe\">\n",
       "  <thead>\n",
       "    <tr style=\"text-align: right;\">\n",
       "      <th></th>\n",
       "      <th>urls</th>\n",
       "    </tr>\n",
       "  </thead>\n",
       "  <tbody>\n",
       "    <tr>\n",
       "      <th>0</th>\n",
       "      <td>https://www.airbnb.es/rooms/20814468?adults=1&amp;...</td>\n",
       "    </tr>\n",
       "    <tr>\n",
       "      <th>1</th>\n",
       "      <td>https://www.airbnb.es/rooms/18565479?adults=1&amp;...</td>\n",
       "    </tr>\n",
       "    <tr>\n",
       "      <th>2</th>\n",
       "      <td>https://www.airbnb.es/rooms/46724279?adults=1&amp;...</td>\n",
       "    </tr>\n",
       "    <tr>\n",
       "      <th>3</th>\n",
       "      <td>https://www.airbnb.es/rooms/18093383?adults=1&amp;...</td>\n",
       "    </tr>\n",
       "    <tr>\n",
       "      <th>4</th>\n",
       "      <td>https://www.airbnb.es/rooms/47445221?adults=1&amp;...</td>\n",
       "    </tr>\n",
       "    <tr>\n",
       "      <th>...</th>\n",
       "      <td>...</td>\n",
       "    </tr>\n",
       "    <tr>\n",
       "      <th>2395</th>\n",
       "      <td>https://www.airbnb.es/rooms/50419829?adults=5&amp;...</td>\n",
       "    </tr>\n",
       "    <tr>\n",
       "      <th>2396</th>\n",
       "      <td>https://www.airbnb.es/rooms/40064538?adults=5&amp;...</td>\n",
       "    </tr>\n",
       "    <tr>\n",
       "      <th>2397</th>\n",
       "      <td>https://www.airbnb.es/rooms/16674353?adults=5&amp;...</td>\n",
       "    </tr>\n",
       "    <tr>\n",
       "      <th>2398</th>\n",
       "      <td>https://www.airbnb.es/rooms/13621279?adults=5&amp;...</td>\n",
       "    </tr>\n",
       "    <tr>\n",
       "      <th>2399</th>\n",
       "      <td>https://www.airbnb.es/rooms/23816021?adults=5&amp;...</td>\n",
       "    </tr>\n",
       "  </tbody>\n",
       "</table>\n",
       "<p>2400 rows × 1 columns</p>\n",
       "</div>"
      ],
      "text/plain": [
       "                                                   urls\n",
       "0     https://www.airbnb.es/rooms/20814468?adults=1&...\n",
       "1     https://www.airbnb.es/rooms/18565479?adults=1&...\n",
       "2     https://www.airbnb.es/rooms/46724279?adults=1&...\n",
       "3     https://www.airbnb.es/rooms/18093383?adults=1&...\n",
       "4     https://www.airbnb.es/rooms/47445221?adults=1&...\n",
       "...                                                 ...\n",
       "2395  https://www.airbnb.es/rooms/50419829?adults=5&...\n",
       "2396  https://www.airbnb.es/rooms/40064538?adults=5&...\n",
       "2397  https://www.airbnb.es/rooms/16674353?adults=5&...\n",
       "2398  https://www.airbnb.es/rooms/13621279?adults=5&...\n",
       "2399  https://www.airbnb.es/rooms/23816021?adults=5&...\n",
       "\n",
       "[2400 rows x 1 columns]"
      ]
     },
     "execution_count": 12,
     "metadata": {},
     "output_type": "execute_result"
    }
   ],
   "source": [
    "urls"
   ]
  },
  {
   "cell_type": "code",
   "execution_count": 13,
   "id": "0326d381",
   "metadata": {},
   "outputs": [],
   "source": [
    "nombres = pd.read_csv(\"../data/datos_NOMBRES.csv\")"
   ]
  },
  {
   "cell_type": "code",
   "execution_count": 14,
   "id": "54e54d5b",
   "metadata": {},
   "outputs": [
    {
     "data": {
      "text/html": [
       "<div>\n",
       "<style scoped>\n",
       "    .dataframe tbody tr th:only-of-type {\n",
       "        vertical-align: middle;\n",
       "    }\n",
       "\n",
       "    .dataframe tbody tr th {\n",
       "        vertical-align: top;\n",
       "    }\n",
       "\n",
       "    .dataframe thead th {\n",
       "        text-align: right;\n",
       "    }\n",
       "</style>\n",
       "<table border=\"1\" class=\"dataframe\">\n",
       "  <thead>\n",
       "    <tr style=\"text-align: right;\">\n",
       "      <th></th>\n",
       "      <th>nombre</th>\n",
       "    </tr>\n",
       "  </thead>\n",
       "  <tbody>\n",
       "    <tr>\n",
       "      <th>0</th>\n",
       "      <td>*Studio Centre-Live-In Atocha-WiFi,A/C *</td>\n",
       "    </tr>\n",
       "    <tr>\n",
       "      <th>1</th>\n",
       "      <td>PISO MODERNO EN PLENO CENTRO DE MADRID</td>\n",
       "    </tr>\n",
       "    <tr>\n",
       "      <th>2</th>\n",
       "      <td>&lt;&lt;&lt;Studio Centre-Live-In-Atocha-WIFI,A/C&gt;&gt;&gt;</td>\n",
       "    </tr>\n",
       "    <tr>\n",
       "      <th>3</th>\n",
       "      <td>Mi rincón de Goya (My corner in Goya)</td>\n",
       "    </tr>\n",
       "    <tr>\n",
       "      <th>4</th>\n",
       "      <td>No hay dato</td>\n",
       "    </tr>\n",
       "    <tr>\n",
       "      <th>...</th>\n",
       "      <td>...</td>\n",
       "    </tr>\n",
       "    <tr>\n",
       "      <th>2395</th>\n",
       "      <td>◤ Apartamento a estrenar con estilo con camas ...</td>\n",
       "    </tr>\n",
       "    <tr>\n",
       "      <th>2396</th>\n",
       "      <td>Coroa del Mar. Apartamento Duplex 5 pax+WIFI</td>\n",
       "    </tr>\n",
       "    <tr>\n",
       "      <th>2397</th>\n",
       "      <td>Amazing Apartment ONLY LONG STAY center town.</td>\n",
       "    </tr>\n",
       "    <tr>\n",
       "      <th>2398</th>\n",
       "      <td>Luminoso y con encantadora terraza.</td>\n",
       "    </tr>\n",
       "    <tr>\n",
       "      <th>2399</th>\n",
       "      <td>ApartUP Ruzafa Central Park. WiFi + AACC + BALCÓN</td>\n",
       "    </tr>\n",
       "  </tbody>\n",
       "</table>\n",
       "<p>2400 rows × 1 columns</p>\n",
       "</div>"
      ],
      "text/plain": [
       "                                                 nombre\n",
       "0              *Studio Centre-Live-In Atocha-WiFi,A/C *\n",
       "1                PISO MODERNO EN PLENO CENTRO DE MADRID\n",
       "2           <<<Studio Centre-Live-In-Atocha-WIFI,A/C>>>\n",
       "3                 Mi rincón de Goya (My corner in Goya)\n",
       "4                                           No hay dato\n",
       "...                                                 ...\n",
       "2395  ◤ Apartamento a estrenar con estilo con camas ...\n",
       "2396       Coroa del Mar. Apartamento Duplex 5 pax+WIFI\n",
       "2397      Amazing Apartment ONLY LONG STAY center town.\n",
       "2398                Luminoso y con encantadora terraza.\n",
       "2399  ApartUP Ruzafa Central Park. WiFi + AACC + BALCÓN\n",
       "\n",
       "[2400 rows x 1 columns]"
      ]
     },
     "execution_count": 14,
     "metadata": {},
     "output_type": "execute_result"
    }
   ],
   "source": [
    "nombres"
   ]
  },
  {
   "cell_type": "code",
   "execution_count": 15,
   "id": "7fc1a68a",
   "metadata": {},
   "outputs": [],
   "source": [
    "df_ = pd.merge(df, nombres, left_index = True, right_index = True)"
   ]
  },
  {
   "cell_type": "code",
   "execution_count": 16,
   "id": "adc094ce",
   "metadata": {},
   "outputs": [],
   "source": [
    "df__ = pd.merge(df_, ciudad, left_index = True, right_index = True)"
   ]
  },
  {
   "cell_type": "code",
   "execution_count": 17,
   "id": "ad83f753",
   "metadata": {},
   "outputs": [],
   "source": [
    "datos = pd.merge(df__, urls, left_index = True, right_index = True)"
   ]
  },
  {
   "cell_type": "code",
   "execution_count": 18,
   "id": "67f862d1",
   "metadata": {},
   "outputs": [
    {
     "data": {
      "text/html": [
       "<div>\n",
       "<style scoped>\n",
       "    .dataframe tbody tr th:only-of-type {\n",
       "        vertical-align: middle;\n",
       "    }\n",
       "\n",
       "    .dataframe tbody tr th {\n",
       "        vertical-align: top;\n",
       "    }\n",
       "\n",
       "    .dataframe thead th {\n",
       "        text-align: right;\n",
       "    }\n",
       "</style>\n",
       "<table border=\"1\" class=\"dataframe\">\n",
       "  <thead>\n",
       "    <tr style=\"text-align: right;\">\n",
       "      <th></th>\n",
       "      <th>titulo</th>\n",
       "      <th>all_info</th>\n",
       "      <th>características</th>\n",
       "      <th>precio</th>\n",
       "      <th>usos</th>\n",
       "      <th>nombre</th>\n",
       "      <th>ciudad</th>\n",
       "      <th>urls</th>\n",
       "    </tr>\n",
       "  </thead>\n",
       "  <tbody>\n",
       "    <tr>\n",
       "      <th>0</th>\n",
       "      <td>Alojamiento entero: piso. Anfitrión: Javier</td>\n",
       "      <td>2 huéspedes · 1 dormitorio · 2 camas · 1 baño</td>\n",
       "      <td>Alojamiento entero\\n(apartamento): será solo p...</td>\n",
       "      <td>55€\\n / noche\\n55€ por noche\\n4,90\\n(415 evalu...</td>\n",
       "      <td>¿Qué hay en este alojamiento?\\nCocina\\nWifi\\nT...</td>\n",
       "      <td>*Studio Centre-Live-In Atocha-WiFi,A/C *</td>\n",
       "      <td>Madrid</td>\n",
       "      <td>https://www.airbnb.es/rooms/20814468?adults=1&amp;...</td>\n",
       "    </tr>\n",
       "    <tr>\n",
       "      <th>0</th>\n",
       "      <td>NaN</td>\n",
       "      <td>6 huéspedes · 3 dormitorios · 4 camas · 2 baños</td>\n",
       "      <td>Alojamiento entero\\n(apartamento): será solo p...</td>\n",
       "      <td>99€\\n / noche\\n99€ por noche\\n4,40\\n(20 evalua...</td>\n",
       "      <td>¿Qué hay en este alojamiento?\\nCocina\\nWifi\\nA...</td>\n",
       "      <td>*Studio Centre-Live-In Atocha-WiFi,A/C *</td>\n",
       "      <td>Madrid</td>\n",
       "      <td>https://www.airbnb.es/rooms/20814468?adults=1&amp;...</td>\n",
       "    </tr>\n",
       "    <tr>\n",
       "      <th>0</th>\n",
       "      <td>NaN</td>\n",
       "      <td>5 huéspedes · 2 dormitorios · 4 camas · 1 baño</td>\n",
       "      <td>Alojamiento entero\\n(apartamento): será solo p...</td>\n",
       "      <td>83€\\n / noche\\n83€ por noche\\n4,52\\n(31 evalua...</td>\n",
       "      <td>2 noches en Valencia / València\\n25 de mar. de...</td>\n",
       "      <td>*Studio Centre-Live-In Atocha-WiFi,A/C *</td>\n",
       "      <td>Madrid</td>\n",
       "      <td>https://www.airbnb.es/rooms/20814468?adults=1&amp;...</td>\n",
       "    </tr>\n",
       "    <tr>\n",
       "      <th>1</th>\n",
       "      <td>Alojamiento entero: piso. Anfitrión: Melissa</td>\n",
       "      <td>2 huéspedes · 1 dormitorio · 1 cama · 1 baño</td>\n",
       "      <td>Alojamiento entero\\n(apartamento): será solo p...</td>\n",
       "      <td>60€\\n / noche\\n60€ por noche\\n4,80\\n(5 evaluac...</td>\n",
       "      <td>2 noches en Madrid\\n19 de ago. de 2022 - 21 de...</td>\n",
       "      <td>PISO MODERNO EN PLENO CENTRO DE MADRID</td>\n",
       "      <td>Madrid</td>\n",
       "      <td>https://www.airbnb.es/rooms/18565479?adults=1&amp;...</td>\n",
       "    </tr>\n",
       "    <tr>\n",
       "      <th>1</th>\n",
       "      <td>NaN</td>\n",
       "      <td>5 huéspedes · 3 dormitorios · 3 camas · 1 baño</td>\n",
       "      <td>Alojamiento entero\\n(apartamento): será solo p...</td>\n",
       "      <td>50€\\n / noche\\n50€ por noche\\n4,84\\n(25 evalua...</td>\n",
       "      <td>¿Qué hay en este alojamiento?\\nCocina\\nWifi\\nA...</td>\n",
       "      <td>PISO MODERNO EN PLENO CENTRO DE MADRID</td>\n",
       "      <td>Madrid</td>\n",
       "      <td>https://www.airbnb.es/rooms/18565479?adults=1&amp;...</td>\n",
       "    </tr>\n",
       "    <tr>\n",
       "      <th>...</th>\n",
       "      <td>...</td>\n",
       "      <td>...</td>\n",
       "      <td>...</td>\n",
       "      <td>...</td>\n",
       "      <td>...</td>\n",
       "      <td>...</td>\n",
       "      <td>...</td>\n",
       "      <td>...</td>\n",
       "    </tr>\n",
       "    <tr>\n",
       "      <th>1195</th>\n",
       "      <td>Alojamiento entero: piso. Anfitrión: Inmoprill...</td>\n",
       "      <td>4 huéspedes · 1 dormitorio · 2 camas · 1 baño</td>\n",
       "      <td>Alojamiento entero\\n(apartamento): será solo p...</td>\n",
       "      <td>75€\\n / noche\\n75€ por noche\\n4,50\\n(36 evalua...</td>\n",
       "      <td>¿Qué hay en este alojamiento?\\nWifi\\nAire acon...</td>\n",
       "      <td>BELLA VISTA MODERN</td>\n",
       "      <td>Sevilla</td>\n",
       "      <td>https://www.airbnb.es/rooms/48276286?adults=1&amp;...</td>\n",
       "    </tr>\n",
       "    <tr>\n",
       "      <th>1196</th>\n",
       "      <td>Alojamiento entero: piso. Anfitrión: Manuel</td>\n",
       "      <td>2 huéspedes · 1 dormitorio · 1 cama · 1 baño</td>\n",
       "      <td>Alojamiento entero\\n(apartamento): será solo p...</td>\n",
       "      <td>51€\\n / noche\\n51€ por noche\\n4,86\\n(44 evalua...</td>\n",
       "      <td>¿Qué hay en este alojamiento?\\nWifi\\nAparcamie...</td>\n",
       "      <td>Suite habitación doble (baño y salón privado)</td>\n",
       "      <td>Sevilla</td>\n",
       "      <td>https://www.airbnb.es/rooms/23698971?adults=1&amp;...</td>\n",
       "    </tr>\n",
       "    <tr>\n",
       "      <th>1197</th>\n",
       "      <td>Alojamiento entero: loft. Anfitrión: Macarena</td>\n",
       "      <td>4 huéspedes · Estudio · 1 cama · 1 baño</td>\n",
       "      <td>Alojamiento entero\\n(loft): será solo para ti....</td>\n",
       "      <td>59€\\n / noche\\n59€ por noche\\n4,50\\n(181 evalu...</td>\n",
       "      <td>¿Qué hay en este alojamiento?\\nCocina\\nWifi\\nP...</td>\n",
       "      <td>Center, Studio with POOL in la Judería</td>\n",
       "      <td>Sevilla</td>\n",
       "      <td>https://www.airbnb.es/rooms/11393263?adults=1&amp;...</td>\n",
       "    </tr>\n",
       "    <tr>\n",
       "      <th>1198</th>\n",
       "      <td>Alojamiento entero: piso. Anfitrión: Ignacio</td>\n",
       "      <td>2 huéspedes · Estudio · 1 cama · 1 baño</td>\n",
       "      <td>Alojamiento entero\\n(apartamento): será solo p...</td>\n",
       "      <td>70€\\n / noche\\n70€ por noche\\n4,65\\n(75 evalua...</td>\n",
       "      <td>¿Qué hay en este alojamiento?\\nCocina\\nWifi\\nT...</td>\n",
       "      <td>Ático con Terraza junto a el Salvador WIFI</td>\n",
       "      <td>Sevilla</td>\n",
       "      <td>https://www.airbnb.es/rooms/24436155?adults=1&amp;...</td>\n",
       "    </tr>\n",
       "    <tr>\n",
       "      <th>1199</th>\n",
       "      <td>Alojamiento entero: piso. Anfitrión: Luis</td>\n",
       "      <td>3 huéspedes · 1 dormitorio · 2 camas · 1 baño</td>\n",
       "      <td>Alojamiento entero\\n(apartamento): será solo p...</td>\n",
       "      <td>55€\\n / noche\\n55€ por noche\\n4,80\\n(64 evalua...</td>\n",
       "      <td>¿Qué hay en este alojamiento?\\nCocina\\nWifi\\nA...</td>\n",
       "      <td>Apartamento con encanto en el centro de Sevilla</td>\n",
       "      <td>Sevilla</td>\n",
       "      <td>https://www.airbnb.es/rooms/27724282?adults=1&amp;...</td>\n",
       "    </tr>\n",
       "  </tbody>\n",
       "</table>\n",
       "<p>2400 rows × 8 columns</p>\n",
       "</div>"
      ],
      "text/plain": [
       "                                                 titulo  \\\n",
       "0           Alojamiento entero: piso. Anfitrión: Javier   \n",
       "0                                                   NaN   \n",
       "0                                                   NaN   \n",
       "1          Alojamiento entero: piso. Anfitrión: Melissa   \n",
       "1                                                   NaN   \n",
       "...                                                 ...   \n",
       "1195  Alojamiento entero: piso. Anfitrión: Inmoprill...   \n",
       "1196        Alojamiento entero: piso. Anfitrión: Manuel   \n",
       "1197      Alojamiento entero: loft. Anfitrión: Macarena   \n",
       "1198       Alojamiento entero: piso. Anfitrión: Ignacio   \n",
       "1199          Alojamiento entero: piso. Anfitrión: Luis   \n",
       "\n",
       "                                             all_info  \\\n",
       "0       2 huéspedes · 1 dormitorio · 2 camas · 1 baño   \n",
       "0     6 huéspedes · 3 dormitorios · 4 camas · 2 baños   \n",
       "0      5 huéspedes · 2 dormitorios · 4 camas · 1 baño   \n",
       "1        2 huéspedes · 1 dormitorio · 1 cama · 1 baño   \n",
       "1      5 huéspedes · 3 dormitorios · 3 camas · 1 baño   \n",
       "...                                               ...   \n",
       "1195    4 huéspedes · 1 dormitorio · 2 camas · 1 baño   \n",
       "1196     2 huéspedes · 1 dormitorio · 1 cama · 1 baño   \n",
       "1197          4 huéspedes · Estudio · 1 cama · 1 baño   \n",
       "1198          2 huéspedes · Estudio · 1 cama · 1 baño   \n",
       "1199    3 huéspedes · 1 dormitorio · 2 camas · 1 baño   \n",
       "\n",
       "                                        características  \\\n",
       "0     Alojamiento entero\\n(apartamento): será solo p...   \n",
       "0     Alojamiento entero\\n(apartamento): será solo p...   \n",
       "0     Alojamiento entero\\n(apartamento): será solo p...   \n",
       "1     Alojamiento entero\\n(apartamento): será solo p...   \n",
       "1     Alojamiento entero\\n(apartamento): será solo p...   \n",
       "...                                                 ...   \n",
       "1195  Alojamiento entero\\n(apartamento): será solo p...   \n",
       "1196  Alojamiento entero\\n(apartamento): será solo p...   \n",
       "1197  Alojamiento entero\\n(loft): será solo para ti....   \n",
       "1198  Alojamiento entero\\n(apartamento): será solo p...   \n",
       "1199  Alojamiento entero\\n(apartamento): será solo p...   \n",
       "\n",
       "                                                 precio  \\\n",
       "0     55€\\n / noche\\n55€ por noche\\n4,90\\n(415 evalu...   \n",
       "0     99€\\n / noche\\n99€ por noche\\n4,40\\n(20 evalua...   \n",
       "0     83€\\n / noche\\n83€ por noche\\n4,52\\n(31 evalua...   \n",
       "1     60€\\n / noche\\n60€ por noche\\n4,80\\n(5 evaluac...   \n",
       "1     50€\\n / noche\\n50€ por noche\\n4,84\\n(25 evalua...   \n",
       "...                                                 ...   \n",
       "1195  75€\\n / noche\\n75€ por noche\\n4,50\\n(36 evalua...   \n",
       "1196  51€\\n / noche\\n51€ por noche\\n4,86\\n(44 evalua...   \n",
       "1197  59€\\n / noche\\n59€ por noche\\n4,50\\n(181 evalu...   \n",
       "1198  70€\\n / noche\\n70€ por noche\\n4,65\\n(75 evalua...   \n",
       "1199  55€\\n / noche\\n55€ por noche\\n4,80\\n(64 evalua...   \n",
       "\n",
       "                                                   usos  \\\n",
       "0     ¿Qué hay en este alojamiento?\\nCocina\\nWifi\\nT...   \n",
       "0     ¿Qué hay en este alojamiento?\\nCocina\\nWifi\\nA...   \n",
       "0     2 noches en Valencia / València\\n25 de mar. de...   \n",
       "1     2 noches en Madrid\\n19 de ago. de 2022 - 21 de...   \n",
       "1     ¿Qué hay en este alojamiento?\\nCocina\\nWifi\\nA...   \n",
       "...                                                 ...   \n",
       "1195  ¿Qué hay en este alojamiento?\\nWifi\\nAire acon...   \n",
       "1196  ¿Qué hay en este alojamiento?\\nWifi\\nAparcamie...   \n",
       "1197  ¿Qué hay en este alojamiento?\\nCocina\\nWifi\\nP...   \n",
       "1198  ¿Qué hay en este alojamiento?\\nCocina\\nWifi\\nT...   \n",
       "1199  ¿Qué hay en este alojamiento?\\nCocina\\nWifi\\nA...   \n",
       "\n",
       "                                               nombre   ciudad  \\\n",
       "0            *Studio Centre-Live-In Atocha-WiFi,A/C *   Madrid   \n",
       "0            *Studio Centre-Live-In Atocha-WiFi,A/C *   Madrid   \n",
       "0            *Studio Centre-Live-In Atocha-WiFi,A/C *   Madrid   \n",
       "1              PISO MODERNO EN PLENO CENTRO DE MADRID   Madrid   \n",
       "1              PISO MODERNO EN PLENO CENTRO DE MADRID   Madrid   \n",
       "...                                               ...      ...   \n",
       "1195                               BELLA VISTA MODERN  Sevilla   \n",
       "1196    Suite habitación doble (baño y salón privado)  Sevilla   \n",
       "1197           Center, Studio with POOL in la Judería  Sevilla   \n",
       "1198       Ático con Terraza junto a el Salvador WIFI  Sevilla   \n",
       "1199  Apartamento con encanto en el centro de Sevilla  Sevilla   \n",
       "\n",
       "                                                   urls  \n",
       "0     https://www.airbnb.es/rooms/20814468?adults=1&...  \n",
       "0     https://www.airbnb.es/rooms/20814468?adults=1&...  \n",
       "0     https://www.airbnb.es/rooms/20814468?adults=1&...  \n",
       "1     https://www.airbnb.es/rooms/18565479?adults=1&...  \n",
       "1     https://www.airbnb.es/rooms/18565479?adults=1&...  \n",
       "...                                                 ...  \n",
       "1195  https://www.airbnb.es/rooms/48276286?adults=1&...  \n",
       "1196  https://www.airbnb.es/rooms/23698971?adults=1&...  \n",
       "1197  https://www.airbnb.es/rooms/11393263?adults=1&...  \n",
       "1198  https://www.airbnb.es/rooms/24436155?adults=1&...  \n",
       "1199  https://www.airbnb.es/rooms/27724282?adults=1&...  \n",
       "\n",
       "[2400 rows x 8 columns]"
      ]
     },
     "execution_count": 18,
     "metadata": {},
     "output_type": "execute_result"
    }
   ],
   "source": [
    "datos"
   ]
  },
  {
   "cell_type": "markdown",
   "id": "388886fb",
   "metadata": {},
   "source": [
    "# 4. Limpieza Datos:"
   ]
  },
  {
   "cell_type": "markdown",
   "id": "b69b84b6",
   "metadata": {},
   "source": [
    "## ALL_INFO"
   ]
  },
  {
   "cell_type": "code",
   "execution_count": 19,
   "id": "ccfc46b0",
   "metadata": {},
   "outputs": [],
   "source": [
    "datos[\"all_info\"] = datos[\"all_info\"].apply(cf.splity_info)"
   ]
  },
  {
   "cell_type": "code",
   "execution_count": 20,
   "id": "62d71f84",
   "metadata": {},
   "outputs": [],
   "source": [
    "datos[[\"huespedes\", \"dormitorios\", \"camas\", \"baños\"]] = datos[\"all_info\"].apply(pd.Series)"
   ]
  },
  {
   "cell_type": "markdown",
   "id": "d22c5cf8",
   "metadata": {},
   "source": [
    "### Huéspedes"
   ]
  },
  {
   "cell_type": "code",
   "execution_count": 21,
   "id": "b6e959fc",
   "metadata": {},
   "outputs": [
    {
     "data": {
      "text/plain": [
       "array(['2 huéspedes ', '6 huéspedes ', '5 huéspedes ', '4 huéspedes ',\n",
       "       '7 huéspedes ', '1 huésped ', '8 huéspedes ', '3 huéspedes ',\n",
       "       'No hay dato', '10 huéspedes ', '12 huéspedes ', '9 huéspedes '],\n",
       "      dtype=object)"
      ]
     },
     "execution_count": 21,
     "metadata": {},
     "output_type": "execute_result"
    }
   ],
   "source": [
    "datos[\"huespedes\"].unique()"
   ]
  },
  {
   "cell_type": "code",
   "execution_count": 22,
   "id": "701d3bbe",
   "metadata": {},
   "outputs": [],
   "source": [
    "datos[\"huespedes\"] = datos[\"huespedes\"].apply(cf.get_info)"
   ]
  },
  {
   "cell_type": "code",
   "execution_count": 23,
   "id": "e37bd4a6",
   "metadata": {},
   "outputs": [
    {
     "data": {
      "text/plain": [
       "array([ 2,  6,  5,  4,  7,  1,  8,  3,  0, 10, 12,  9])"
      ]
     },
     "execution_count": 23,
     "metadata": {},
     "output_type": "execute_result"
    }
   ],
   "source": [
    "datos[\"huespedes\"].unique()"
   ]
  },
  {
   "cell_type": "code",
   "execution_count": 24,
   "id": "6df4605a",
   "metadata": {},
   "outputs": [],
   "source": [
    "datos[\"huespedes\"] = datos[\"huespedes\"].replace(0, datos[\"huespedes\"].mode()[0])"
   ]
  },
  {
   "cell_type": "code",
   "execution_count": 25,
   "id": "40484ac2",
   "metadata": {},
   "outputs": [
    {
     "data": {
      "text/plain": [
       "array([ 2,  6,  5,  4,  7,  1,  8,  3, 10, 12,  9])"
      ]
     },
     "execution_count": 25,
     "metadata": {},
     "output_type": "execute_result"
    }
   ],
   "source": [
    "datos[\"huespedes\"].unique()"
   ]
  },
  {
   "cell_type": "code",
   "execution_count": 26,
   "id": "265c3f84",
   "metadata": {
    "scrolled": true
   },
   "outputs": [
    {
     "data": {
      "text/plain": [
       "6     666\n",
       "2     593\n",
       "5     417\n",
       "4     252\n",
       "1     154\n",
       "3     113\n",
       "8      97\n",
       "7      85\n",
       "10     12\n",
       "9       9\n",
       "12      2\n",
       "Name: huespedes, dtype: int64"
      ]
     },
     "execution_count": 26,
     "metadata": {},
     "output_type": "execute_result"
    }
   ],
   "source": [
    "datos[\"huespedes\"].value_counts()"
   ]
  },
  {
   "cell_type": "markdown",
   "id": "01094461",
   "metadata": {},
   "source": [
    "### Dormitorios"
   ]
  },
  {
   "cell_type": "code",
   "execution_count": 27,
   "id": "f28069d9",
   "metadata": {},
   "outputs": [],
   "source": [
    "datos[\"dormitorios\"] = datos[\"dormitorios\"].apply(cf.get_info)"
   ]
  },
  {
   "cell_type": "code",
   "execution_count": 28,
   "id": "c179b03b",
   "metadata": {},
   "outputs": [
    {
     "data": {
      "text/plain": [
       "array([1, 3, 2, 4, 0, 5, 6])"
      ]
     },
     "execution_count": 28,
     "metadata": {},
     "output_type": "execute_result"
    }
   ],
   "source": [
    "datos[\"dormitorios\"].unique()"
   ]
  },
  {
   "cell_type": "code",
   "execution_count": 29,
   "id": "ad26393f",
   "metadata": {},
   "outputs": [
    {
     "data": {
      "text/plain": [
       "1    938\n",
       "2    718\n",
       "3    531\n",
       "0    140\n",
       "4     66\n",
       "5      6\n",
       "6      1\n",
       "Name: dormitorios, dtype: int64"
      ]
     },
     "execution_count": 29,
     "metadata": {},
     "output_type": "execute_result"
    }
   ],
   "source": [
    "datos[\"dormitorios\"].value_counts()"
   ]
  },
  {
   "cell_type": "markdown",
   "id": "ab3da679",
   "metadata": {},
   "source": [
    "### Camas"
   ]
  },
  {
   "cell_type": "code",
   "execution_count": 30,
   "id": "cb86474f",
   "metadata": {},
   "outputs": [
    {
     "data": {
      "text/plain": [
       "array([' 2 camas ', ' 4 camas ', ' 1 cama ', ' 3 camas ', ' 5 camas ',\n",
       "       ' 6 camas ', ' 1 baño', ' 10 camas ', ' 1 baño compartido',\n",
       "       ' 4 baños compartidos', nan, ' 7 camas ', ' 1,5 baños',\n",
       "       ' 9 camas ', ' 8 camas ', ' 2 baños', ' 3 camas', ' 5 camas',\n",
       "       ' 11 camas ', ' 1,5 baños compartidos', ' 1 baño privado',\n",
       "       ' 2,5 baños', ' 2 baños compartidos', ' 3 baños'], dtype=object)"
      ]
     },
     "execution_count": 30,
     "metadata": {},
     "output_type": "execute_result"
    }
   ],
   "source": [
    "datos[\"camas\"].unique()"
   ]
  },
  {
   "cell_type": "code",
   "execution_count": 31,
   "id": "d9e0acfa",
   "metadata": {},
   "outputs": [],
   "source": [
    "datos[\"camas\"] = datos[\"camas\"].apply(cf.info_camas)"
   ]
  },
  {
   "cell_type": "code",
   "execution_count": 32,
   "id": "184b0bbc",
   "metadata": {},
   "outputs": [],
   "source": [
    "datos[\"camas\"].fillna(int(datos[\"camas\"].mode()), inplace=True)"
   ]
  },
  {
   "cell_type": "code",
   "execution_count": 33,
   "id": "0daae685",
   "metadata": {},
   "outputs": [],
   "source": [
    "datos[\"camas\"] = datos[\"camas\"].apply(cf.get_integrer)"
   ]
  },
  {
   "cell_type": "code",
   "execution_count": 34,
   "id": "69c969a4",
   "metadata": {
    "scrolled": true
   },
   "outputs": [
    {
     "data": {
      "text/plain": [
       "array([2, 4, 1, 3, 5, 6, 7, 9, 8])"
      ]
     },
     "execution_count": 34,
     "metadata": {},
     "output_type": "execute_result"
    }
   ],
   "source": [
    "datos[\"camas\"].unique()"
   ]
  },
  {
   "cell_type": "code",
   "execution_count": 35,
   "id": "bf5b031c",
   "metadata": {},
   "outputs": [
    {
     "data": {
      "text/plain": [
       "1    753\n",
       "3    451\n",
       "4    440\n",
       "2    416\n",
       "5    202\n",
       "6     90\n",
       "7     36\n",
       "8      7\n",
       "9      5\n",
       "Name: camas, dtype: int64"
      ]
     },
     "execution_count": 35,
     "metadata": {},
     "output_type": "execute_result"
    }
   ],
   "source": [
    "datos[\"camas\"].value_counts()"
   ]
  },
  {
   "cell_type": "markdown",
   "id": "e8607176",
   "metadata": {},
   "source": [
    "### Baños"
   ]
  },
  {
   "cell_type": "code",
   "execution_count": 36,
   "id": "f1f5946f",
   "metadata": {},
   "outputs": [
    {
     "data": {
      "text/plain": [
       "array([' 1 baño', ' 2 baños', ' 1,5 baños', ' 1 baño compartido',\n",
       "       ' 2,5 baños', nan, ' 3 baños', ' 1 baño privado',\n",
       "       ' 4 baños compartidos', ' 2,5 baños compartidos',\n",
       "       ' 3 baños compartidos', ' 2 baños compartidos',\n",
       "       ' 1,5 baños compartidos', ' 4 baños', ' 0 baños compartidos',\n",
       "       ' 4,5 baños', ' 3,5 baños'], dtype=object)"
      ]
     },
     "execution_count": 36,
     "metadata": {},
     "output_type": "execute_result"
    }
   ],
   "source": [
    "datos[\"baños\"].unique()"
   ]
  },
  {
   "cell_type": "code",
   "execution_count": 37,
   "id": "5b256f52",
   "metadata": {},
   "outputs": [],
   "source": [
    "datos[\"baños\"] = datos[\"baños\"].apply(cf.info_baños)"
   ]
  },
  {
   "cell_type": "code",
   "execution_count": 38,
   "id": "bcc824fe",
   "metadata": {},
   "outputs": [],
   "source": [
    "datos[\"baños\"].fillna(int(datos[\"baños\"].mode()), inplace=True)"
   ]
  },
  {
   "cell_type": "code",
   "execution_count": 39,
   "id": "9858ba18",
   "metadata": {},
   "outputs": [],
   "source": [
    "datos[\"baños\"] = datos[\"baños\"].apply(cf.get_integrer)"
   ]
  },
  {
   "cell_type": "code",
   "execution_count": 40,
   "id": "4027c426",
   "metadata": {
    "scrolled": true
   },
   "outputs": [],
   "source": [
    "datos[\"baños\"] = datos[\"baños\"].replace(0, datos[\"baños\"].mode()[0])"
   ]
  },
  {
   "cell_type": "code",
   "execution_count": 41,
   "id": "f530dbd9",
   "metadata": {},
   "outputs": [
    {
     "data": {
      "text/plain": [
       "array([1, 2, 3, 4])"
      ]
     },
     "execution_count": 41,
     "metadata": {},
     "output_type": "execute_result"
    }
   ],
   "source": [
    "datos[\"baños\"].unique()"
   ]
  },
  {
   "cell_type": "code",
   "execution_count": 42,
   "id": "e25af25a",
   "metadata": {},
   "outputs": [
    {
     "data": {
      "text/plain": [
       "1    1716\n",
       "2     634\n",
       "3      40\n",
       "4      10\n",
       "Name: baños, dtype: int64"
      ]
     },
     "execution_count": 42,
     "metadata": {},
     "output_type": "execute_result"
    }
   ],
   "source": [
    "datos[\"baños\"].value_counts()"
   ]
  },
  {
   "cell_type": "markdown",
   "id": "a6b8bd37",
   "metadata": {},
   "source": [
    "## PRECIO"
   ]
  },
  {
   "cell_type": "code",
   "execution_count": 43,
   "id": "30e9a283",
   "metadata": {},
   "outputs": [
    {
     "data": {
      "text/html": [
       "<div>\n",
       "<style scoped>\n",
       "    .dataframe tbody tr th:only-of-type {\n",
       "        vertical-align: middle;\n",
       "    }\n",
       "\n",
       "    .dataframe tbody tr th {\n",
       "        vertical-align: top;\n",
       "    }\n",
       "\n",
       "    .dataframe thead th {\n",
       "        text-align: right;\n",
       "    }\n",
       "</style>\n",
       "<table border=\"1\" class=\"dataframe\">\n",
       "  <thead>\n",
       "    <tr style=\"text-align: right;\">\n",
       "      <th></th>\n",
       "      <th>titulo</th>\n",
       "      <th>all_info</th>\n",
       "      <th>características</th>\n",
       "      <th>precio</th>\n",
       "      <th>usos</th>\n",
       "      <th>nombre</th>\n",
       "      <th>ciudad</th>\n",
       "      <th>urls</th>\n",
       "      <th>huespedes</th>\n",
       "      <th>dormitorios</th>\n",
       "      <th>camas</th>\n",
       "      <th>baños</th>\n",
       "    </tr>\n",
       "  </thead>\n",
       "  <tbody>\n",
       "    <tr>\n",
       "      <th>0</th>\n",
       "      <td>Alojamiento entero: piso. Anfitrión: Javier</td>\n",
       "      <td>[2 huéspedes ,  1 dormitorio ,  2 camas ,  1 b...</td>\n",
       "      <td>Alojamiento entero\\n(apartamento): será solo p...</td>\n",
       "      <td>55€\\n / noche\\n55€ por noche\\n4,90\\n(415 evalu...</td>\n",
       "      <td>¿Qué hay en este alojamiento?\\nCocina\\nWifi\\nT...</td>\n",
       "      <td>*Studio Centre-Live-In Atocha-WiFi,A/C *</td>\n",
       "      <td>Madrid</td>\n",
       "      <td>https://www.airbnb.es/rooms/20814468?adults=1&amp;...</td>\n",
       "      <td>2</td>\n",
       "      <td>1</td>\n",
       "      <td>2</td>\n",
       "      <td>1</td>\n",
       "    </tr>\n",
       "    <tr>\n",
       "      <th>0</th>\n",
       "      <td>NaN</td>\n",
       "      <td>[6 huéspedes ,  3 dormitorios ,  4 camas ,  2 ...</td>\n",
       "      <td>Alojamiento entero\\n(apartamento): será solo p...</td>\n",
       "      <td>99€\\n / noche\\n99€ por noche\\n4,40\\n(20 evalua...</td>\n",
       "      <td>¿Qué hay en este alojamiento?\\nCocina\\nWifi\\nA...</td>\n",
       "      <td>*Studio Centre-Live-In Atocha-WiFi,A/C *</td>\n",
       "      <td>Madrid</td>\n",
       "      <td>https://www.airbnb.es/rooms/20814468?adults=1&amp;...</td>\n",
       "      <td>6</td>\n",
       "      <td>3</td>\n",
       "      <td>4</td>\n",
       "      <td>2</td>\n",
       "    </tr>\n",
       "    <tr>\n",
       "      <th>0</th>\n",
       "      <td>NaN</td>\n",
       "      <td>[5 huéspedes ,  2 dormitorios ,  4 camas ,  1 ...</td>\n",
       "      <td>Alojamiento entero\\n(apartamento): será solo p...</td>\n",
       "      <td>83€\\n / noche\\n83€ por noche\\n4,52\\n(31 evalua...</td>\n",
       "      <td>2 noches en Valencia / València\\n25 de mar. de...</td>\n",
       "      <td>*Studio Centre-Live-In Atocha-WiFi,A/C *</td>\n",
       "      <td>Madrid</td>\n",
       "      <td>https://www.airbnb.es/rooms/20814468?adults=1&amp;...</td>\n",
       "      <td>5</td>\n",
       "      <td>2</td>\n",
       "      <td>4</td>\n",
       "      <td>1</td>\n",
       "    </tr>\n",
       "    <tr>\n",
       "      <th>1</th>\n",
       "      <td>Alojamiento entero: piso. Anfitrión: Melissa</td>\n",
       "      <td>[2 huéspedes ,  1 dormitorio ,  1 cama ,  1 baño]</td>\n",
       "      <td>Alojamiento entero\\n(apartamento): será solo p...</td>\n",
       "      <td>60€\\n / noche\\n60€ por noche\\n4,80\\n(5 evaluac...</td>\n",
       "      <td>2 noches en Madrid\\n19 de ago. de 2022 - 21 de...</td>\n",
       "      <td>PISO MODERNO EN PLENO CENTRO DE MADRID</td>\n",
       "      <td>Madrid</td>\n",
       "      <td>https://www.airbnb.es/rooms/18565479?adults=1&amp;...</td>\n",
       "      <td>2</td>\n",
       "      <td>1</td>\n",
       "      <td>1</td>\n",
       "      <td>1</td>\n",
       "    </tr>\n",
       "    <tr>\n",
       "      <th>1</th>\n",
       "      <td>NaN</td>\n",
       "      <td>[5 huéspedes ,  3 dormitorios ,  3 camas ,  1 ...</td>\n",
       "      <td>Alojamiento entero\\n(apartamento): será solo p...</td>\n",
       "      <td>50€\\n / noche\\n50€ por noche\\n4,84\\n(25 evalua...</td>\n",
       "      <td>¿Qué hay en este alojamiento?\\nCocina\\nWifi\\nA...</td>\n",
       "      <td>PISO MODERNO EN PLENO CENTRO DE MADRID</td>\n",
       "      <td>Madrid</td>\n",
       "      <td>https://www.airbnb.es/rooms/18565479?adults=1&amp;...</td>\n",
       "      <td>5</td>\n",
       "      <td>3</td>\n",
       "      <td>3</td>\n",
       "      <td>1</td>\n",
       "    </tr>\n",
       "  </tbody>\n",
       "</table>\n",
       "</div>"
      ],
      "text/plain": [
       "                                         titulo  \\\n",
       "0   Alojamiento entero: piso. Anfitrión: Javier   \n",
       "0                                           NaN   \n",
       "0                                           NaN   \n",
       "1  Alojamiento entero: piso. Anfitrión: Melissa   \n",
       "1                                           NaN   \n",
       "\n",
       "                                            all_info  \\\n",
       "0  [2 huéspedes ,  1 dormitorio ,  2 camas ,  1 b...   \n",
       "0  [6 huéspedes ,  3 dormitorios ,  4 camas ,  2 ...   \n",
       "0  [5 huéspedes ,  2 dormitorios ,  4 camas ,  1 ...   \n",
       "1  [2 huéspedes ,  1 dormitorio ,  1 cama ,  1 baño]   \n",
       "1  [5 huéspedes ,  3 dormitorios ,  3 camas ,  1 ...   \n",
       "\n",
       "                                     características  \\\n",
       "0  Alojamiento entero\\n(apartamento): será solo p...   \n",
       "0  Alojamiento entero\\n(apartamento): será solo p...   \n",
       "0  Alojamiento entero\\n(apartamento): será solo p...   \n",
       "1  Alojamiento entero\\n(apartamento): será solo p...   \n",
       "1  Alojamiento entero\\n(apartamento): será solo p...   \n",
       "\n",
       "                                              precio  \\\n",
       "0  55€\\n / noche\\n55€ por noche\\n4,90\\n(415 evalu...   \n",
       "0  99€\\n / noche\\n99€ por noche\\n4,40\\n(20 evalua...   \n",
       "0  83€\\n / noche\\n83€ por noche\\n4,52\\n(31 evalua...   \n",
       "1  60€\\n / noche\\n60€ por noche\\n4,80\\n(5 evaluac...   \n",
       "1  50€\\n / noche\\n50€ por noche\\n4,84\\n(25 evalua...   \n",
       "\n",
       "                                                usos  \\\n",
       "0  ¿Qué hay en este alojamiento?\\nCocina\\nWifi\\nT...   \n",
       "0  ¿Qué hay en este alojamiento?\\nCocina\\nWifi\\nA...   \n",
       "0  2 noches en Valencia / València\\n25 de mar. de...   \n",
       "1  2 noches en Madrid\\n19 de ago. de 2022 - 21 de...   \n",
       "1  ¿Qué hay en este alojamiento?\\nCocina\\nWifi\\nA...   \n",
       "\n",
       "                                     nombre  ciudad  \\\n",
       "0  *Studio Centre-Live-In Atocha-WiFi,A/C *  Madrid   \n",
       "0  *Studio Centre-Live-In Atocha-WiFi,A/C *  Madrid   \n",
       "0  *Studio Centre-Live-In Atocha-WiFi,A/C *  Madrid   \n",
       "1    PISO MODERNO EN PLENO CENTRO DE MADRID  Madrid   \n",
       "1    PISO MODERNO EN PLENO CENTRO DE MADRID  Madrid   \n",
       "\n",
       "                                                urls  huespedes  dormitorios  \\\n",
       "0  https://www.airbnb.es/rooms/20814468?adults=1&...          2            1   \n",
       "0  https://www.airbnb.es/rooms/20814468?adults=1&...          6            3   \n",
       "0  https://www.airbnb.es/rooms/20814468?adults=1&...          5            2   \n",
       "1  https://www.airbnb.es/rooms/18565479?adults=1&...          2            1   \n",
       "1  https://www.airbnb.es/rooms/18565479?adults=1&...          5            3   \n",
       "\n",
       "   camas  baños  \n",
       "0      2      1  \n",
       "0      4      2  \n",
       "0      4      1  \n",
       "1      1      1  \n",
       "1      3      1  "
      ]
     },
     "execution_count": 43,
     "metadata": {},
     "output_type": "execute_result"
    }
   ],
   "source": [
    "datos.head()"
   ]
  },
  {
   "cell_type": "markdown",
   "id": "9115b251",
   "metadata": {},
   "source": [
    "### PRECIO"
   ]
  },
  {
   "cell_type": "code",
   "execution_count": 44,
   "id": "107b0c06",
   "metadata": {},
   "outputs": [],
   "source": [
    "datos[\"precio\"] = datos[\"precio\"].apply(cf.splity_salto_linea)"
   ]
  },
  {
   "cell_type": "code",
   "execution_count": 45,
   "id": "ded027a4",
   "metadata": {},
   "outputs": [],
   "source": [
    "datos[[\"precio_eur\", \"borra_1\", \"borra_2\", \"valoracion\", \"borra_3\", \"borra_4\"]] = datos[\"precio\"].apply(pd.Series)"
   ]
  },
  {
   "cell_type": "code",
   "execution_count": 46,
   "id": "2240854a",
   "metadata": {},
   "outputs": [],
   "source": [
    "datos[\"precio_eur\"] = datos[\"precio_eur\"].apply(cf.get_info)"
   ]
  },
  {
   "cell_type": "code",
   "execution_count": 47,
   "id": "df79245d",
   "metadata": {},
   "outputs": [
    {
     "data": {
      "text/plain": [
       "array([ 55,  99,  83,  60,  50,  68,  49,  85, 106,  61, 130,  53, 129,\n",
       "       110,  54,  98, 120,  89,  77,  47,  76,  17, 241, 100,  44,  42,\n",
       "        69,  90,  95,  80,  70,  45, 190, 170,  81,  18, 220,  65, 269,\n",
       "       115, 150,  41, 185,  88,  25,  94, 105,  64,  35, 230, 101,  29,\n",
       "       209, 175,  43,  73, 133,  15,  21, 144, 145, 107, 159, 205, 121,\n",
       "        22, 122,  36,  23,  59, 149, 135, 104, 114, 167,  63, 178,  71,\n",
       "       154, 199, 140,  87,  48, 116,  82,  40,  57, 208, 148, 132,  39,\n",
       "       183, 118,  46, 160,  75, 182,  96, 172, 200, 193, 169, 112, 211,\n",
       "       236, 166, 206, 165, 108, 127, 152,  79, 253, 103, 113, 119, 171,\n",
       "        38, 204, 155, 176,  86,  52, 197, 184, 250, 189,  72, 156,  67,\n",
       "        30,  56, 181, 125,  51, 195, 235, 260,  20, 179, 138, 224, 173,\n",
       "       229, 109, 191,  97,  84, 222, 212,  78,  27, 164, 128, 180, 161,\n",
       "       174, 330,  28, 238, 124, 228,  34, 286, 141, 240, 242,  26, 218,\n",
       "       232,  58, 142, 344, 117, 298, 248, 210,  66, 163, 215, 207, 153,\n",
       "       137, 146,  19, 245,  31, 294,  37, 158, 323, 131, 275, 308, 500,\n",
       "       394,  62,   0,  93, 196, 226, 430, 341, 300,  10,  32,  33, 147,\n",
       "       136,  16, 126, 264,  24, 139,  91, 376, 234, 134, 102, 157, 388,\n",
       "       239, 318, 177, 596, 213, 473, 143, 203, 168, 123, 270, 216, 233,\n",
       "       188, 198, 202, 290, 251, 237, 162, 283,  92, 247,  11, 111,  12,\n",
       "       219,  13, 252, 265, 187,  14, 192, 317,  74, 246, 225])"
      ]
     },
     "execution_count": 47,
     "metadata": {},
     "output_type": "execute_result"
    }
   ],
   "source": [
    "datos[\"precio_eur\"].unique()"
   ]
  },
  {
   "cell_type": "code",
   "execution_count": 48,
   "id": "1e4eaf15",
   "metadata": {},
   "outputs": [
    {
     "data": {
      "text/plain": [
       "50     68\n",
       "60     54\n",
       "90     54\n",
       "120    50\n",
       "35     49\n",
       "       ..\n",
       "157     1\n",
       "388     1\n",
       "318     1\n",
       "596     1\n",
       "225     1\n",
       "Name: precio_eur, Length: 258, dtype: int64"
      ]
     },
     "execution_count": 48,
     "metadata": {},
     "output_type": "execute_result"
    }
   ],
   "source": [
    "datos[\"precio_eur\"].value_counts()"
   ]
  },
  {
   "cell_type": "code",
   "execution_count": 49,
   "id": "daaab56a",
   "metadata": {},
   "outputs": [],
   "source": [
    "datos[\"precio_eur\"] = datos[\"precio_eur\"].replace(0, int(datos[\"precio_eur\"].mean()))"
   ]
  },
  {
   "cell_type": "code",
   "execution_count": 50,
   "id": "1d7de6a0",
   "metadata": {},
   "outputs": [
    {
     "data": {
      "text/plain": [
       "array([ 55,  99,  83,  60,  50,  68,  49,  85, 106,  61, 130,  53, 129,\n",
       "       110,  54,  98, 120,  89,  77,  47,  76,  17, 241, 100,  44,  42,\n",
       "        69,  90,  95,  80,  70,  45, 190, 170,  81,  18, 220,  65, 269,\n",
       "       115, 150,  41, 185,  88,  25,  94, 105,  64,  35, 230, 101,  29,\n",
       "       209, 175,  43,  73, 133,  15,  21, 144, 145, 107, 159, 205, 121,\n",
       "        22, 122,  36,  23,  59, 149, 135, 104, 114, 167,  63, 178,  71,\n",
       "       154, 199, 140,  87,  48, 116,  82,  40,  57, 208, 148, 132,  39,\n",
       "       183, 118,  46, 160,  75, 182,  96, 172, 200, 193, 169, 112, 211,\n",
       "       236, 166, 206, 165, 108, 127, 152,  79, 253, 103, 113, 119, 171,\n",
       "        38, 204, 155, 176,  86,  52, 197, 184, 250, 189,  72, 156,  67,\n",
       "        30,  56, 181, 125,  51, 195, 235, 260,  20, 179, 138, 224, 173,\n",
       "       229, 109, 191,  97,  84, 222, 212,  78,  27, 164, 128, 180, 161,\n",
       "       174, 330,  28, 238, 124, 228,  34, 286, 141, 240, 242,  26, 218,\n",
       "       232,  58, 142, 344, 117, 298, 248, 210,  66, 163, 215, 207, 153,\n",
       "       137, 146,  19, 245,  31, 294,  37, 158, 323, 131, 275, 308, 500,\n",
       "       394,  62,  93, 196, 226, 430, 341, 300,  10,  32,  33, 147, 136,\n",
       "        16, 126, 264,  24, 139,  91, 376, 234, 134, 102, 157, 388, 239,\n",
       "       318, 177, 596, 213, 473, 143, 203, 168, 123, 270, 216, 233, 188,\n",
       "       198, 202, 290, 251, 237, 162, 283,  92, 247,  11, 111,  12, 219,\n",
       "        13, 252, 265, 187,  14, 192, 317,  74, 246, 225])"
      ]
     },
     "execution_count": 50,
     "metadata": {},
     "output_type": "execute_result"
    }
   ],
   "source": [
    "datos[\"precio_eur\"].unique()"
   ]
  },
  {
   "cell_type": "markdown",
   "id": "720187eb",
   "metadata": {},
   "source": [
    "### VALORACIÓN"
   ]
  },
  {
   "cell_type": "code",
   "execution_count": 51,
   "id": "06e42c6f",
   "metadata": {},
   "outputs": [],
   "source": [
    "datos[\"valoracion\"] = datos[\"valoracion\"].str.replace(\",\", \".\")"
   ]
  },
  {
   "cell_type": "code",
   "execution_count": 52,
   "id": "dd1b22e5",
   "metadata": {},
   "outputs": [],
   "source": [
    "datos[\"valoracion\"] = datos[\"valoracion\"].apply(cf.get_float)"
   ]
  },
  {
   "cell_type": "code",
   "execution_count": 53,
   "id": "1c5c27d1",
   "metadata": {},
   "outputs": [],
   "source": [
    "datos[\"valoracion\"] = datos[\"valoracion\"].replace(0, datos[\"valoracion\"].mean())"
   ]
  },
  {
   "cell_type": "code",
   "execution_count": 54,
   "id": "1c99b30d",
   "metadata": {},
   "outputs": [],
   "source": [
    "datos[\"valoracion\"].fillna(int(datos[\"valoracion\"].mean()), inplace=True)"
   ]
  },
  {
   "cell_type": "code",
   "execution_count": 55,
   "id": "bdd166f3",
   "metadata": {},
   "outputs": [
    {
     "data": {
      "text/plain": [
       "array([4.9 , 4.4 , 4.52, 4.8 , 4.84, 3.73, 4.93, 4.45, 4.43, 4.95, 4.  ,\n",
       "       3.33, 4.77, 4.63, 4.44, 4.76, 4.64, 4.56, 4.68, 4.47, 4.89, 4.49,\n",
       "       4.69, 4.2 , 4.83, 4.74, 4.58, 4.85, 4.38, 4.48, 4.73, 4.72, 4.17,\n",
       "       4.82, 4.78, 4.88, 4.42, 3.55, 4.7 , 4.81, 4.98, 3.9 , 4.67, 4.53,\n",
       "       4.61, 4.5 , 4.14, 4.75, 4.86, 4.65, 3.87, 4.87, 4.91, 4.46, 4.55,\n",
       "       4.6 , 3.44, 5.  , 4.39, 4.29, 4.79, 4.22, 4.62, 4.96, 4.97, 4.71,\n",
       "       4.66, 4.25, 4.13, 4.07, 4.37, 4.57, 3.86, 4.51, 4.3 , 4.92, 3.93,\n",
       "       4.35, 4.15, 4.34, 4.54, 4.23, 4.59, 4.18, 4.94, 4.19, 4.11, 3.67,\n",
       "       4.36, 4.28, 3.5 , 3.92, 3.69, 4.41, 4.99, 4.12, 3.88, 4.26, 3.89,\n",
       "       3.83, 4.05, 4.33, 4.32, 4.21, 4.27, 3.4 , 4.09, 4.24, 3.99, 3.91,\n",
       "       4.31, 4.1 , 3.25])"
      ]
     },
     "execution_count": 55,
     "metadata": {},
     "output_type": "execute_result"
    }
   ],
   "source": [
    "datos[\"valoracion\"].unique()"
   ]
  },
  {
   "cell_type": "markdown",
   "id": "b9f71ef1",
   "metadata": {},
   "source": [
    "## CARACTERÍSTICAS"
   ]
  },
  {
   "cell_type": "code",
   "execution_count": 56,
   "id": "29f68d70",
   "metadata": {},
   "outputs": [],
   "source": [
    "datos[\"características\"] = datos[\"características\"].apply(cf.splity_salto_linea)"
   ]
  },
  {
   "cell_type": "markdown",
   "id": "f39544e4",
   "metadata": {},
   "source": [
    "### ALOJAMIENTO"
   ]
  },
  {
   "cell_type": "code",
   "execution_count": 57,
   "id": "d7d9d32a",
   "metadata": {},
   "outputs": [],
   "source": [
    "datos[\"alojamiento\"] = datos[\"características\"].apply(cf.carac_alojamiento)"
   ]
  },
  {
   "cell_type": "code",
   "execution_count": 58,
   "id": "efca42de",
   "metadata": {},
   "outputs": [],
   "source": [
    "datos['alojamiento'].fillna('Habitación privada', inplace=True)"
   ]
  },
  {
   "cell_type": "code",
   "execution_count": 59,
   "id": "776f9fcb",
   "metadata": {},
   "outputs": [
    {
     "data": {
      "text/plain": [
       "array(['Alojamiento entero', 'Habitación privada'], dtype=object)"
      ]
     },
     "execution_count": 59,
     "metadata": {},
     "output_type": "execute_result"
    }
   ],
   "source": [
    "datos[\"alojamiento\"].unique()"
   ]
  },
  {
   "cell_type": "code",
   "execution_count": 60,
   "id": "3d73a11a",
   "metadata": {},
   "outputs": [
    {
     "data": {
      "text/plain": [
       "Alojamiento entero    1861\n",
       "Habitación privada     539\n",
       "Name: alojamiento, dtype: int64"
      ]
     },
     "execution_count": 60,
     "metadata": {},
     "output_type": "execute_result"
    }
   ],
   "source": [
    "datos[\"alojamiento\"].value_counts()"
   ]
  },
  {
   "cell_type": "markdown",
   "id": "c730dc04",
   "metadata": {},
   "source": [
    "### LIMPIEZA"
   ]
  },
  {
   "cell_type": "code",
   "execution_count": 61,
   "id": "52acef7c",
   "metadata": {},
   "outputs": [],
   "source": [
    "datos[\"limpieza\"] = datos[\"características\"].apply(cf.carac_limpieza)"
   ]
  },
  {
   "cell_type": "code",
   "execution_count": 62,
   "id": "362f291e",
   "metadata": {},
   "outputs": [],
   "source": [
    "datos[\"limpieza\"].fillna('No Limpieza avanzada', inplace=True)"
   ]
  },
  {
   "cell_type": "code",
   "execution_count": 63,
   "id": "e76c1106",
   "metadata": {},
   "outputs": [
    {
     "data": {
      "text/plain": [
       "array(['Limpieza avanzada', 'No Limpieza avanzada'], dtype=object)"
      ]
     },
     "execution_count": 63,
     "metadata": {},
     "output_type": "execute_result"
    }
   ],
   "source": [
    "datos.limpieza.unique()"
   ]
  },
  {
   "cell_type": "code",
   "execution_count": 64,
   "id": "bed7bb65",
   "metadata": {},
   "outputs": [
    {
     "data": {
      "text/plain": [
       "Alojamiento entero    1861\n",
       "Habitación privada     539\n",
       "Name: alojamiento, dtype: int64"
      ]
     },
     "execution_count": 64,
     "metadata": {},
     "output_type": "execute_result"
    }
   ],
   "source": [
    "datos[\"alojamiento\"].value_counts()"
   ]
  },
  {
   "cell_type": "markdown",
   "id": "83b5430b",
   "metadata": {},
   "source": [
    "### LLEGADA AUTÓNOMA"
   ]
  },
  {
   "cell_type": "code",
   "execution_count": 65,
   "id": "0b3f5584",
   "metadata": {},
   "outputs": [],
   "source": [
    "datos[\"llegada_autonoma\"] = datos[\"características\"].apply(cf.carac_llegada)"
   ]
  },
  {
   "cell_type": "code",
   "execution_count": 66,
   "id": "5a13ed6b",
   "metadata": {},
   "outputs": [],
   "source": [
    "datos[\"llegada_autonoma\"].fillna('No Llegada autónoma', inplace=True)"
   ]
  },
  {
   "cell_type": "code",
   "execution_count": 67,
   "id": "89157081",
   "metadata": {},
   "outputs": [
    {
     "data": {
      "text/plain": [
       "array(['No Llegada autónoma', 'Llegada autónoma'], dtype=object)"
      ]
     },
     "execution_count": 67,
     "metadata": {},
     "output_type": "execute_result"
    }
   ],
   "source": [
    "datos[\"llegada_autonoma\"].unique()"
   ]
  },
  {
   "cell_type": "code",
   "execution_count": 68,
   "id": "d2cedb31",
   "metadata": {},
   "outputs": [
    {
     "data": {
      "text/plain": [
       "No Llegada autónoma    1707\n",
       "Llegada autónoma        693\n",
       "Name: llegada_autonoma, dtype: int64"
      ]
     },
     "execution_count": 68,
     "metadata": {},
     "output_type": "execute_result"
    }
   ],
   "source": [
    "datos[\"llegada_autonoma\"].value_counts()"
   ]
  },
  {
   "cell_type": "markdown",
   "id": "2bc5caa3",
   "metadata": {},
   "source": [
    "### UBICACIÓN FANTÁSTICA"
   ]
  },
  {
   "cell_type": "code",
   "execution_count": 69,
   "id": "8fe86149",
   "metadata": {},
   "outputs": [],
   "source": [
    "datos[\"ubicacion_fantastica\"] = datos[\"características\"].apply(cf.carac_ubicacion)"
   ]
  },
  {
   "cell_type": "code",
   "execution_count": 70,
   "id": "7067c727",
   "metadata": {},
   "outputs": [],
   "source": [
    "datos[\"ubicacion_fantastica\"].fillna('No ubicación_fantastica', inplace=True)"
   ]
  },
  {
   "cell_type": "code",
   "execution_count": 71,
   "id": "0d106de2",
   "metadata": {},
   "outputs": [
    {
     "data": {
      "text/plain": [
       "array(['No ubicación_fantastica', 'Ubicación fantástica'], dtype=object)"
      ]
     },
     "execution_count": 71,
     "metadata": {},
     "output_type": "execute_result"
    }
   ],
   "source": [
    "datos[\"ubicacion_fantastica\"].unique()"
   ]
  },
  {
   "cell_type": "code",
   "execution_count": 72,
   "id": "17f968c7",
   "metadata": {},
   "outputs": [
    {
     "data": {
      "text/plain": [
       "No ubicación_fantastica    1594\n",
       "Ubicación fantástica        806\n",
       "Name: ubicacion_fantastica, dtype: int64"
      ]
     },
     "execution_count": 72,
     "metadata": {},
     "output_type": "execute_result"
    }
   ],
   "source": [
    "datos[\"ubicacion_fantastica\"].value_counts()"
   ]
  },
  {
   "cell_type": "markdown",
   "id": "8659bbe1",
   "metadata": {},
   "source": [
    "## USOS"
   ]
  },
  {
   "cell_type": "code",
   "execution_count": 73,
   "id": "7bcb5973",
   "metadata": {},
   "outputs": [
    {
     "data": {
      "text/html": [
       "<div>\n",
       "<style scoped>\n",
       "    .dataframe tbody tr th:only-of-type {\n",
       "        vertical-align: middle;\n",
       "    }\n",
       "\n",
       "    .dataframe tbody tr th {\n",
       "        vertical-align: top;\n",
       "    }\n",
       "\n",
       "    .dataframe thead th {\n",
       "        text-align: right;\n",
       "    }\n",
       "</style>\n",
       "<table border=\"1\" class=\"dataframe\">\n",
       "  <thead>\n",
       "    <tr style=\"text-align: right;\">\n",
       "      <th></th>\n",
       "      <th>titulo</th>\n",
       "      <th>all_info</th>\n",
       "      <th>características</th>\n",
       "      <th>precio</th>\n",
       "      <th>usos</th>\n",
       "      <th>nombre</th>\n",
       "      <th>ciudad</th>\n",
       "      <th>urls</th>\n",
       "      <th>huespedes</th>\n",
       "      <th>dormitorios</th>\n",
       "      <th>...</th>\n",
       "      <th>precio_eur</th>\n",
       "      <th>borra_1</th>\n",
       "      <th>borra_2</th>\n",
       "      <th>valoracion</th>\n",
       "      <th>borra_3</th>\n",
       "      <th>borra_4</th>\n",
       "      <th>alojamiento</th>\n",
       "      <th>limpieza</th>\n",
       "      <th>llegada_autonoma</th>\n",
       "      <th>ubicacion_fantastica</th>\n",
       "    </tr>\n",
       "  </thead>\n",
       "  <tbody>\n",
       "    <tr>\n",
       "      <th>279</th>\n",
       "      <td>Alojamiento entero: piso. Anfitrión: Mario</td>\n",
       "      <td>[3 huéspedes ,  Estudio ,  1 cama ,  1 baño]</td>\n",
       "      <td>[Alojamiento entero, (apartamento): será solo ...</td>\n",
       "      <td>[60€,  / noche, 60€ por noche, 4,73, (263 eval...</td>\n",
       "      <td>¿Qué hay en este alojamiento?\\nCocina\\nWifi\\nT...</td>\n",
       "      <td>Acogedor Estudio Madrid Centro La Latina-Lavapiés</td>\n",
       "      <td>Madrid</td>\n",
       "      <td>https://www.airbnb.es/rooms/19438429?adults=1&amp;...</td>\n",
       "      <td>3</td>\n",
       "      <td>0</td>\n",
       "      <td>...</td>\n",
       "      <td>60</td>\n",
       "      <td>/ noche</td>\n",
       "      <td>60€ por noche</td>\n",
       "      <td>4.73</td>\n",
       "      <td>(263 evaluaciones)</td>\n",
       "      <td>NaN</td>\n",
       "      <td>Alojamiento entero</td>\n",
       "      <td>Limpieza avanzada</td>\n",
       "      <td>No Llegada autónoma</td>\n",
       "      <td>No ubicación_fantastica</td>\n",
       "    </tr>\n",
       "  </tbody>\n",
       "</table>\n",
       "<p>1 rows × 22 columns</p>\n",
       "</div>"
      ],
      "text/plain": [
       "                                         titulo  \\\n",
       "279  Alojamiento entero: piso. Anfitrión: Mario   \n",
       "\n",
       "                                         all_info  \\\n",
       "279  [3 huéspedes ,  Estudio ,  1 cama ,  1 baño]   \n",
       "\n",
       "                                       características  \\\n",
       "279  [Alojamiento entero, (apartamento): será solo ...   \n",
       "\n",
       "                                                precio  \\\n",
       "279  [60€,  / noche, 60€ por noche, 4,73, (263 eval...   \n",
       "\n",
       "                                                  usos  \\\n",
       "279  ¿Qué hay en este alojamiento?\\nCocina\\nWifi\\nT...   \n",
       "\n",
       "                                                nombre  ciudad  \\\n",
       "279  Acogedor Estudio Madrid Centro La Latina-Lavapiés  Madrid   \n",
       "\n",
       "                                                  urls  huespedes  \\\n",
       "279  https://www.airbnb.es/rooms/19438429?adults=1&...          3   \n",
       "\n",
       "     dormitorios  ...  precio_eur   borra_1        borra_2 valoracion  \\\n",
       "279            0  ...          60   / noche  60€ por noche       4.73   \n",
       "\n",
       "                borra_3  borra_4         alojamiento           limpieza  \\\n",
       "279  (263 evaluaciones)      NaN  Alojamiento entero  Limpieza avanzada   \n",
       "\n",
       "        llegada_autonoma     ubicacion_fantastica  \n",
       "279  No Llegada autónoma  No ubicación_fantastica  \n",
       "\n",
       "[1 rows x 22 columns]"
      ]
     },
     "execution_count": 73,
     "metadata": {},
     "output_type": "execute_result"
    }
   ],
   "source": [
    "datos.sample()"
   ]
  },
  {
   "cell_type": "code",
   "execution_count": 74,
   "id": "619b01b2",
   "metadata": {},
   "outputs": [],
   "source": [
    "datos[\"usos\"] = datos[\"usos\"].apply(cf.splity_salto_linea)"
   ]
  },
  {
   "cell_type": "markdown",
   "id": "be01a8c0",
   "metadata": {},
   "source": [
    "### COCINA"
   ]
  },
  {
   "cell_type": "code",
   "execution_count": 75,
   "id": "29a216e7",
   "metadata": {},
   "outputs": [],
   "source": [
    "datos[\"cocina\"] = datos[\"usos\"].apply(cf.usos_cocina)"
   ]
  },
  {
   "cell_type": "code",
   "execution_count": 76,
   "id": "19d7a7c4",
   "metadata": {},
   "outputs": [],
   "source": [
    "datos[\"cocina\"].fillna('No cocina', inplace=True)"
   ]
  },
  {
   "cell_type": "code",
   "execution_count": 77,
   "id": "bda6fb18",
   "metadata": {},
   "outputs": [
    {
     "data": {
      "text/plain": [
       "array(['Cocina', 'No cocina'], dtype=object)"
      ]
     },
     "execution_count": 77,
     "metadata": {},
     "output_type": "execute_result"
    }
   ],
   "source": [
    "datos[\"cocina\"].unique()"
   ]
  },
  {
   "cell_type": "code",
   "execution_count": 78,
   "id": "b5b8809c",
   "metadata": {},
   "outputs": [
    {
     "data": {
      "text/plain": [
       "Cocina       1865\n",
       "No cocina     535\n",
       "Name: cocina, dtype: int64"
      ]
     },
     "execution_count": 78,
     "metadata": {},
     "output_type": "execute_result"
    }
   ],
   "source": [
    "datos[\"cocina\"].value_counts()"
   ]
  },
  {
   "cell_type": "markdown",
   "id": "a0686592",
   "metadata": {},
   "source": [
    "### WIFI"
   ]
  },
  {
   "cell_type": "code",
   "execution_count": 79,
   "id": "60029d4c",
   "metadata": {},
   "outputs": [],
   "source": [
    "datos[\"wifi\"] = datos[\"usos\"].apply(cf.usos_wifi)"
   ]
  },
  {
   "cell_type": "code",
   "execution_count": 80,
   "id": "1ee5a099",
   "metadata": {},
   "outputs": [],
   "source": [
    "datos[\"wifi\"].fillna('No Wifi', inplace=True)"
   ]
  },
  {
   "cell_type": "code",
   "execution_count": 81,
   "id": "aafe9ad0",
   "metadata": {},
   "outputs": [
    {
     "data": {
      "text/plain": [
       "array(['Wifi', 'No Wifi'], dtype=object)"
      ]
     },
     "execution_count": 81,
     "metadata": {},
     "output_type": "execute_result"
    }
   ],
   "source": [
    "datos[\"wifi\"].unique()"
   ]
  },
  {
   "cell_type": "code",
   "execution_count": 82,
   "id": "da56652d",
   "metadata": {},
   "outputs": [
    {
     "data": {
      "text/plain": [
       "Wifi       1968\n",
       "No Wifi     432\n",
       "Name: wifi, dtype: int64"
      ]
     },
     "execution_count": 82,
     "metadata": {},
     "output_type": "execute_result"
    }
   ],
   "source": [
    "datos[\"wifi\"].value_counts()"
   ]
  },
  {
   "cell_type": "markdown",
   "id": "99e248df",
   "metadata": {},
   "source": [
    "### LAVADORA"
   ]
  },
  {
   "cell_type": "code",
   "execution_count": 83,
   "id": "8e5d65c3",
   "metadata": {},
   "outputs": [],
   "source": [
    "datos[\"lavadora\"] = datos[\"usos\"].apply(cf.usos_lavadora)"
   ]
  },
  {
   "cell_type": "code",
   "execution_count": 84,
   "id": "ba552a05",
   "metadata": {},
   "outputs": [],
   "source": [
    "datos[\"lavadora\"].fillna('No lavadora', inplace=True)"
   ]
  },
  {
   "cell_type": "code",
   "execution_count": 85,
   "id": "ad94947b",
   "metadata": {},
   "outputs": [
    {
     "data": {
      "text/plain": [
       "array(['No lavadora', 'Lavadora'], dtype=object)"
      ]
     },
     "execution_count": 85,
     "metadata": {},
     "output_type": "execute_result"
    }
   ],
   "source": [
    "datos[\"lavadora\"].unique()"
   ]
  },
  {
   "cell_type": "code",
   "execution_count": 86,
   "id": "2a289ed6",
   "metadata": {},
   "outputs": [
    {
     "data": {
      "text/plain": [
       "Lavadora       1687\n",
       "No lavadora     713\n",
       "Name: lavadora, dtype: int64"
      ]
     },
     "execution_count": 86,
     "metadata": {},
     "output_type": "execute_result"
    }
   ],
   "source": [
    "datos[\"lavadora\"].value_counts()"
   ]
  },
  {
   "cell_type": "markdown",
   "id": "10317af2",
   "metadata": {},
   "source": [
    "### AIRE ACONDICIONADO"
   ]
  },
  {
   "cell_type": "code",
   "execution_count": 87,
   "id": "1a988a0e",
   "metadata": {},
   "outputs": [],
   "source": [
    "datos[\"aire\"] = datos[\"usos\"].apply(cf.usos_aire)"
   ]
  },
  {
   "cell_type": "code",
   "execution_count": 88,
   "id": "9b74b394",
   "metadata": {},
   "outputs": [],
   "source": [
    "datos[\"aire\"].fillna('No Aire acondicionado', inplace=True)"
   ]
  },
  {
   "cell_type": "code",
   "execution_count": 89,
   "id": "6c978efd",
   "metadata": {},
   "outputs": [
    {
     "data": {
      "text/plain": [
       "array(['Aire acondicionado', 'No Aire acondicionado'], dtype=object)"
      ]
     },
     "execution_count": 89,
     "metadata": {},
     "output_type": "execute_result"
    }
   ],
   "source": [
    "datos[\"aire\"].unique()"
   ]
  },
  {
   "cell_type": "code",
   "execution_count": 90,
   "id": "b17d8fb1",
   "metadata": {},
   "outputs": [
    {
     "data": {
      "text/plain": [
       "Aire acondicionado       1637\n",
       "No Aire acondicionado     763\n",
       "Name: aire, dtype: int64"
      ]
     },
     "execution_count": 90,
     "metadata": {},
     "output_type": "execute_result"
    }
   ],
   "source": [
    "datos[\"aire\"].value_counts()"
   ]
  },
  {
   "cell_type": "markdown",
   "id": "a2878d3e",
   "metadata": {},
   "source": [
    "### SECADOR PELO"
   ]
  },
  {
   "cell_type": "code",
   "execution_count": 91,
   "id": "79974bff",
   "metadata": {},
   "outputs": [],
   "source": [
    "datos[\"secador\"] = datos[\"usos\"].apply(cf.usos_secador)"
   ]
  },
  {
   "cell_type": "code",
   "execution_count": 92,
   "id": "07d25977",
   "metadata": {},
   "outputs": [],
   "source": [
    "datos[\"secador\"].fillna('No Secador de pelo', inplace=True)"
   ]
  },
  {
   "cell_type": "code",
   "execution_count": 93,
   "id": "be63f9ab",
   "metadata": {},
   "outputs": [
    {
     "data": {
      "text/plain": [
       "array(['Secador de pelo', 'No Secador de pelo'], dtype=object)"
      ]
     },
     "execution_count": 93,
     "metadata": {},
     "output_type": "execute_result"
    }
   ],
   "source": [
    "datos[\"secador\"].unique()"
   ]
  },
  {
   "cell_type": "code",
   "execution_count": 94,
   "id": "227aa412",
   "metadata": {},
   "outputs": [
    {
     "data": {
      "text/plain": [
       "Secador de pelo       1276\n",
       "No Secador de pelo    1124\n",
       "Name: secador, dtype: int64"
      ]
     },
     "execution_count": 94,
     "metadata": {},
     "output_type": "execute_result"
    }
   ],
   "source": [
    "datos[\"secador\"].value_counts()"
   ]
  },
  {
   "cell_type": "markdown",
   "id": "2d9b950b",
   "metadata": {},
   "source": [
    "### FRIGORÍFICO"
   ]
  },
  {
   "cell_type": "code",
   "execution_count": 95,
   "id": "302fb092",
   "metadata": {},
   "outputs": [],
   "source": [
    "datos[\"frigorifico\"] = datos[\"usos\"].apply(cf.usos_frigorifico)"
   ]
  },
  {
   "cell_type": "code",
   "execution_count": 96,
   "id": "be66daf1",
   "metadata": {},
   "outputs": [],
   "source": [
    "datos[\"frigorifico\"].fillna('No Frigorífico', inplace=True)"
   ]
  },
  {
   "cell_type": "code",
   "execution_count": 97,
   "id": "4e94a6ab",
   "metadata": {},
   "outputs": [
    {
     "data": {
      "text/plain": [
       "array(['No Frigorífico', 'Frigorífico'], dtype=object)"
      ]
     },
     "execution_count": 97,
     "metadata": {},
     "output_type": "execute_result"
    }
   ],
   "source": [
    "datos[\"frigorifico\"].unique()"
   ]
  },
  {
   "cell_type": "code",
   "execution_count": 98,
   "id": "833e20a7",
   "metadata": {},
   "outputs": [
    {
     "data": {
      "text/plain": [
       "No Frigorífico    1807\n",
       "Frigorífico        593\n",
       "Name: frigorifico, dtype: int64"
      ]
     },
     "execution_count": 98,
     "metadata": {},
     "output_type": "execute_result"
    }
   ],
   "source": [
    "datos[\"frigorifico\"].value_counts()"
   ]
  },
  {
   "cell_type": "markdown",
   "id": "8e055b4b",
   "metadata": {},
   "source": [
    "# 5. Guardo .csv limpio"
   ]
  },
  {
   "cell_type": "code",
   "execution_count": 99,
   "id": "07c1748e",
   "metadata": {},
   "outputs": [
    {
     "data": {
      "text/plain": [
       "Index(['titulo', 'all_info', 'características', 'precio', 'usos', 'nombre',\n",
       "       'ciudad', 'urls', 'huespedes', 'dormitorios', 'camas', 'baños',\n",
       "       'precio_eur', 'borra_1', 'borra_2', 'valoracion', 'borra_3', 'borra_4',\n",
       "       'alojamiento', 'limpieza', 'llegada_autonoma', 'ubicacion_fantastica',\n",
       "       'cocina', 'wifi', 'lavadora', 'aire', 'secador', 'frigorifico'],\n",
       "      dtype='object')"
      ]
     },
     "execution_count": 99,
     "metadata": {},
     "output_type": "execute_result"
    }
   ],
   "source": [
    "datos.columns"
   ]
  },
  {
   "cell_type": "code",
   "execution_count": 100,
   "id": "15b8f3ed",
   "metadata": {},
   "outputs": [],
   "source": [
    "df = datos[['huespedes', 'dormitorios', 'camas',\n",
    "       'baños', 'precio_eur', 'valoracion',\n",
    "       'alojamiento', 'limpieza', 'llegada_autonoma',\n",
    "       'ubicacion_fantastica', 'wifi', 'cocina','lavadora', 'aire',\n",
    "       'secador', 'frigorifico', 'ciudad', 'nombre', 'urls']]"
   ]
  },
  {
   "cell_type": "code",
   "execution_count": 101,
   "id": "bc66ee0a",
   "metadata": {},
   "outputs": [
    {
     "data": {
      "text/plain": [
       "huespedes               0\n",
       "dormitorios             0\n",
       "camas                   0\n",
       "baños                   0\n",
       "precio_eur              0\n",
       "valoracion              0\n",
       "alojamiento             0\n",
       "limpieza                0\n",
       "llegada_autonoma        0\n",
       "ubicacion_fantastica    0\n",
       "wifi                    0\n",
       "cocina                  0\n",
       "lavadora                0\n",
       "aire                    0\n",
       "secador                 0\n",
       "frigorifico             0\n",
       "ciudad                  0\n",
       "nombre                  0\n",
       "urls                    0\n",
       "dtype: int64"
      ]
     },
     "execution_count": 101,
     "metadata": {},
     "output_type": "execute_result"
    }
   ],
   "source": [
    "df.isna().sum()"
   ]
  },
  {
   "cell_type": "code",
   "execution_count": 102,
   "id": "ae8bbc77",
   "metadata": {},
   "outputs": [
    {
     "data": {
      "text/plain": [
       "0"
      ]
     },
     "execution_count": 102,
     "metadata": {},
     "output_type": "execute_result"
    }
   ],
   "source": [
    "df.duplicated().sum()"
   ]
  },
  {
   "cell_type": "code",
   "execution_count": 103,
   "id": "f2e5c353",
   "metadata": {},
   "outputs": [],
   "source": [
    "df.to_csv(\"../data/datos_limpios_completos.csv\", index=False)"
   ]
  },
  {
   "cell_type": "code",
   "execution_count": 104,
   "id": "99b1b3ba",
   "metadata": {},
   "outputs": [
    {
     "data": {
      "text/html": [
       "<div>\n",
       "<style scoped>\n",
       "    .dataframe tbody tr th:only-of-type {\n",
       "        vertical-align: middle;\n",
       "    }\n",
       "\n",
       "    .dataframe tbody tr th {\n",
       "        vertical-align: top;\n",
       "    }\n",
       "\n",
       "    .dataframe thead th {\n",
       "        text-align: right;\n",
       "    }\n",
       "</style>\n",
       "<table border=\"1\" class=\"dataframe\">\n",
       "  <thead>\n",
       "    <tr style=\"text-align: right;\">\n",
       "      <th></th>\n",
       "      <th>huespedes</th>\n",
       "      <th>dormitorios</th>\n",
       "      <th>camas</th>\n",
       "      <th>baños</th>\n",
       "      <th>precio_eur</th>\n",
       "      <th>valoracion</th>\n",
       "      <th>alojamiento</th>\n",
       "      <th>limpieza</th>\n",
       "      <th>llegada_autonoma</th>\n",
       "      <th>ubicacion_fantastica</th>\n",
       "      <th>wifi</th>\n",
       "      <th>cocina</th>\n",
       "      <th>lavadora</th>\n",
       "      <th>aire</th>\n",
       "      <th>secador</th>\n",
       "      <th>frigorifico</th>\n",
       "      <th>ciudad</th>\n",
       "      <th>nombre</th>\n",
       "      <th>urls</th>\n",
       "    </tr>\n",
       "  </thead>\n",
       "  <tbody>\n",
       "    <tr>\n",
       "      <th>0</th>\n",
       "      <td>2</td>\n",
       "      <td>1</td>\n",
       "      <td>2</td>\n",
       "      <td>1</td>\n",
       "      <td>55</td>\n",
       "      <td>4.90</td>\n",
       "      <td>Alojamiento entero</td>\n",
       "      <td>Limpieza avanzada</td>\n",
       "      <td>No Llegada autónoma</td>\n",
       "      <td>No ubicación_fantastica</td>\n",
       "      <td>Wifi</td>\n",
       "      <td>Cocina</td>\n",
       "      <td>No lavadora</td>\n",
       "      <td>Aire acondicionado</td>\n",
       "      <td>Secador de pelo</td>\n",
       "      <td>No Frigorífico</td>\n",
       "      <td>Madrid</td>\n",
       "      <td>*Studio Centre-Live-In Atocha-WiFi,A/C *</td>\n",
       "      <td>https://www.airbnb.es/rooms/20814468?adults=1&amp;...</td>\n",
       "    </tr>\n",
       "    <tr>\n",
       "      <th>0</th>\n",
       "      <td>6</td>\n",
       "      <td>3</td>\n",
       "      <td>4</td>\n",
       "      <td>2</td>\n",
       "      <td>99</td>\n",
       "      <td>4.40</td>\n",
       "      <td>Alojamiento entero</td>\n",
       "      <td>No Limpieza avanzada</td>\n",
       "      <td>No Llegada autónoma</td>\n",
       "      <td>Ubicación fantástica</td>\n",
       "      <td>Wifi</td>\n",
       "      <td>Cocina</td>\n",
       "      <td>Lavadora</td>\n",
       "      <td>Aire acondicionado</td>\n",
       "      <td>Secador de pelo</td>\n",
       "      <td>No Frigorífico</td>\n",
       "      <td>Madrid</td>\n",
       "      <td>*Studio Centre-Live-In Atocha-WiFi,A/C *</td>\n",
       "      <td>https://www.airbnb.es/rooms/20814468?adults=1&amp;...</td>\n",
       "    </tr>\n",
       "    <tr>\n",
       "      <th>0</th>\n",
       "      <td>5</td>\n",
       "      <td>2</td>\n",
       "      <td>4</td>\n",
       "      <td>1</td>\n",
       "      <td>83</td>\n",
       "      <td>4.52</td>\n",
       "      <td>Alojamiento entero</td>\n",
       "      <td>Limpieza avanzada</td>\n",
       "      <td>No Llegada autónoma</td>\n",
       "      <td>Ubicación fantástica</td>\n",
       "      <td>No Wifi</td>\n",
       "      <td>No cocina</td>\n",
       "      <td>No lavadora</td>\n",
       "      <td>No Aire acondicionado</td>\n",
       "      <td>No Secador de pelo</td>\n",
       "      <td>No Frigorífico</td>\n",
       "      <td>Madrid</td>\n",
       "      <td>*Studio Centre-Live-In Atocha-WiFi,A/C *</td>\n",
       "      <td>https://www.airbnb.es/rooms/20814468?adults=1&amp;...</td>\n",
       "    </tr>\n",
       "    <tr>\n",
       "      <th>1</th>\n",
       "      <td>2</td>\n",
       "      <td>1</td>\n",
       "      <td>1</td>\n",
       "      <td>1</td>\n",
       "      <td>60</td>\n",
       "      <td>4.80</td>\n",
       "      <td>Alojamiento entero</td>\n",
       "      <td>Limpieza avanzada</td>\n",
       "      <td>No Llegada autónoma</td>\n",
       "      <td>No ubicación_fantastica</td>\n",
       "      <td>No Wifi</td>\n",
       "      <td>No cocina</td>\n",
       "      <td>No lavadora</td>\n",
       "      <td>No Aire acondicionado</td>\n",
       "      <td>No Secador de pelo</td>\n",
       "      <td>No Frigorífico</td>\n",
       "      <td>Madrid</td>\n",
       "      <td>PISO MODERNO EN PLENO CENTRO DE MADRID</td>\n",
       "      <td>https://www.airbnb.es/rooms/18565479?adults=1&amp;...</td>\n",
       "    </tr>\n",
       "    <tr>\n",
       "      <th>1</th>\n",
       "      <td>5</td>\n",
       "      <td>3</td>\n",
       "      <td>3</td>\n",
       "      <td>1</td>\n",
       "      <td>50</td>\n",
       "      <td>4.84</td>\n",
       "      <td>Alojamiento entero</td>\n",
       "      <td>Limpieza avanzada</td>\n",
       "      <td>No Llegada autónoma</td>\n",
       "      <td>No ubicación_fantastica</td>\n",
       "      <td>Wifi</td>\n",
       "      <td>Cocina</td>\n",
       "      <td>Lavadora</td>\n",
       "      <td>Aire acondicionado</td>\n",
       "      <td>Secador de pelo</td>\n",
       "      <td>Frigorífico</td>\n",
       "      <td>Madrid</td>\n",
       "      <td>PISO MODERNO EN PLENO CENTRO DE MADRID</td>\n",
       "      <td>https://www.airbnb.es/rooms/18565479?adults=1&amp;...</td>\n",
       "    </tr>\n",
       "    <tr>\n",
       "      <th>...</th>\n",
       "      <td>...</td>\n",
       "      <td>...</td>\n",
       "      <td>...</td>\n",
       "      <td>...</td>\n",
       "      <td>...</td>\n",
       "      <td>...</td>\n",
       "      <td>...</td>\n",
       "      <td>...</td>\n",
       "      <td>...</td>\n",
       "      <td>...</td>\n",
       "      <td>...</td>\n",
       "      <td>...</td>\n",
       "      <td>...</td>\n",
       "      <td>...</td>\n",
       "      <td>...</td>\n",
       "      <td>...</td>\n",
       "      <td>...</td>\n",
       "      <td>...</td>\n",
       "      <td>...</td>\n",
       "    </tr>\n",
       "    <tr>\n",
       "      <th>1195</th>\n",
       "      <td>4</td>\n",
       "      <td>1</td>\n",
       "      <td>2</td>\n",
       "      <td>1</td>\n",
       "      <td>75</td>\n",
       "      <td>4.50</td>\n",
       "      <td>Alojamiento entero</td>\n",
       "      <td>No Limpieza avanzada</td>\n",
       "      <td>No Llegada autónoma</td>\n",
       "      <td>No ubicación_fantastica</td>\n",
       "      <td>Wifi</td>\n",
       "      <td>No cocina</td>\n",
       "      <td>No lavadora</td>\n",
       "      <td>Aire acondicionado</td>\n",
       "      <td>No Secador de pelo</td>\n",
       "      <td>Frigorífico</td>\n",
       "      <td>Sevilla</td>\n",
       "      <td>BELLA VISTA MODERN</td>\n",
       "      <td>https://www.airbnb.es/rooms/48276286?adults=1&amp;...</td>\n",
       "    </tr>\n",
       "    <tr>\n",
       "      <th>1196</th>\n",
       "      <td>2</td>\n",
       "      <td>1</td>\n",
       "      <td>1</td>\n",
       "      <td>1</td>\n",
       "      <td>51</td>\n",
       "      <td>4.86</td>\n",
       "      <td>Alojamiento entero</td>\n",
       "      <td>Limpieza avanzada</td>\n",
       "      <td>No Llegada autónoma</td>\n",
       "      <td>No ubicación_fantastica</td>\n",
       "      <td>Wifi</td>\n",
       "      <td>No cocina</td>\n",
       "      <td>Lavadora</td>\n",
       "      <td>Aire acondicionado</td>\n",
       "      <td>Secador de pelo</td>\n",
       "      <td>No Frigorífico</td>\n",
       "      <td>Sevilla</td>\n",
       "      <td>Suite habitación doble (baño y salón privado)</td>\n",
       "      <td>https://www.airbnb.es/rooms/23698971?adults=1&amp;...</td>\n",
       "    </tr>\n",
       "    <tr>\n",
       "      <th>1197</th>\n",
       "      <td>4</td>\n",
       "      <td>0</td>\n",
       "      <td>1</td>\n",
       "      <td>1</td>\n",
       "      <td>59</td>\n",
       "      <td>4.50</td>\n",
       "      <td>Alojamiento entero</td>\n",
       "      <td>Limpieza avanzada</td>\n",
       "      <td>Llegada autónoma</td>\n",
       "      <td>No ubicación_fantastica</td>\n",
       "      <td>Wifi</td>\n",
       "      <td>Cocina</td>\n",
       "      <td>Lavadora</td>\n",
       "      <td>Aire acondicionado</td>\n",
       "      <td>No Secador de pelo</td>\n",
       "      <td>No Frigorífico</td>\n",
       "      <td>Sevilla</td>\n",
       "      <td>Center, Studio with POOL in la Judería</td>\n",
       "      <td>https://www.airbnb.es/rooms/11393263?adults=1&amp;...</td>\n",
       "    </tr>\n",
       "    <tr>\n",
       "      <th>1198</th>\n",
       "      <td>2</td>\n",
       "      <td>0</td>\n",
       "      <td>1</td>\n",
       "      <td>1</td>\n",
       "      <td>70</td>\n",
       "      <td>4.65</td>\n",
       "      <td>Alojamiento entero</td>\n",
       "      <td>Limpieza avanzada</td>\n",
       "      <td>No Llegada autónoma</td>\n",
       "      <td>Ubicación fantástica</td>\n",
       "      <td>Wifi</td>\n",
       "      <td>Cocina</td>\n",
       "      <td>Lavadora</td>\n",
       "      <td>Aire acondicionado</td>\n",
       "      <td>No Secador de pelo</td>\n",
       "      <td>No Frigorífico</td>\n",
       "      <td>Sevilla</td>\n",
       "      <td>Ático con Terraza junto a el Salvador WIFI</td>\n",
       "      <td>https://www.airbnb.es/rooms/24436155?adults=1&amp;...</td>\n",
       "    </tr>\n",
       "    <tr>\n",
       "      <th>1199</th>\n",
       "      <td>3</td>\n",
       "      <td>1</td>\n",
       "      <td>2</td>\n",
       "      <td>1</td>\n",
       "      <td>55</td>\n",
       "      <td>4.80</td>\n",
       "      <td>Alojamiento entero</td>\n",
       "      <td>No Limpieza avanzada</td>\n",
       "      <td>No Llegada autónoma</td>\n",
       "      <td>Ubicación fantástica</td>\n",
       "      <td>Wifi</td>\n",
       "      <td>Cocina</td>\n",
       "      <td>Lavadora</td>\n",
       "      <td>Aire acondicionado</td>\n",
       "      <td>No Secador de pelo</td>\n",
       "      <td>No Frigorífico</td>\n",
       "      <td>Sevilla</td>\n",
       "      <td>Apartamento con encanto en el centro de Sevilla</td>\n",
       "      <td>https://www.airbnb.es/rooms/27724282?adults=1&amp;...</td>\n",
       "    </tr>\n",
       "  </tbody>\n",
       "</table>\n",
       "<p>2400 rows × 19 columns</p>\n",
       "</div>"
      ],
      "text/plain": [
       "      huespedes  dormitorios  camas  baños  precio_eur  valoracion  \\\n",
       "0             2            1      2      1          55        4.90   \n",
       "0             6            3      4      2          99        4.40   \n",
       "0             5            2      4      1          83        4.52   \n",
       "1             2            1      1      1          60        4.80   \n",
       "1             5            3      3      1          50        4.84   \n",
       "...         ...          ...    ...    ...         ...         ...   \n",
       "1195          4            1      2      1          75        4.50   \n",
       "1196          2            1      1      1          51        4.86   \n",
       "1197          4            0      1      1          59        4.50   \n",
       "1198          2            0      1      1          70        4.65   \n",
       "1199          3            1      2      1          55        4.80   \n",
       "\n",
       "             alojamiento              limpieza     llegada_autonoma  \\\n",
       "0     Alojamiento entero     Limpieza avanzada  No Llegada autónoma   \n",
       "0     Alojamiento entero  No Limpieza avanzada  No Llegada autónoma   \n",
       "0     Alojamiento entero     Limpieza avanzada  No Llegada autónoma   \n",
       "1     Alojamiento entero     Limpieza avanzada  No Llegada autónoma   \n",
       "1     Alojamiento entero     Limpieza avanzada  No Llegada autónoma   \n",
       "...                  ...                   ...                  ...   \n",
       "1195  Alojamiento entero  No Limpieza avanzada  No Llegada autónoma   \n",
       "1196  Alojamiento entero     Limpieza avanzada  No Llegada autónoma   \n",
       "1197  Alojamiento entero     Limpieza avanzada     Llegada autónoma   \n",
       "1198  Alojamiento entero     Limpieza avanzada  No Llegada autónoma   \n",
       "1199  Alojamiento entero  No Limpieza avanzada  No Llegada autónoma   \n",
       "\n",
       "         ubicacion_fantastica     wifi     cocina     lavadora  \\\n",
       "0     No ubicación_fantastica     Wifi     Cocina  No lavadora   \n",
       "0        Ubicación fantástica     Wifi     Cocina     Lavadora   \n",
       "0        Ubicación fantástica  No Wifi  No cocina  No lavadora   \n",
       "1     No ubicación_fantastica  No Wifi  No cocina  No lavadora   \n",
       "1     No ubicación_fantastica     Wifi     Cocina     Lavadora   \n",
       "...                       ...      ...        ...          ...   \n",
       "1195  No ubicación_fantastica     Wifi  No cocina  No lavadora   \n",
       "1196  No ubicación_fantastica     Wifi  No cocina     Lavadora   \n",
       "1197  No ubicación_fantastica     Wifi     Cocina     Lavadora   \n",
       "1198     Ubicación fantástica     Wifi     Cocina     Lavadora   \n",
       "1199     Ubicación fantástica     Wifi     Cocina     Lavadora   \n",
       "\n",
       "                       aire             secador     frigorifico   ciudad  \\\n",
       "0        Aire acondicionado     Secador de pelo  No Frigorífico   Madrid   \n",
       "0        Aire acondicionado     Secador de pelo  No Frigorífico   Madrid   \n",
       "0     No Aire acondicionado  No Secador de pelo  No Frigorífico   Madrid   \n",
       "1     No Aire acondicionado  No Secador de pelo  No Frigorífico   Madrid   \n",
       "1        Aire acondicionado     Secador de pelo     Frigorífico   Madrid   \n",
       "...                     ...                 ...             ...      ...   \n",
       "1195     Aire acondicionado  No Secador de pelo     Frigorífico  Sevilla   \n",
       "1196     Aire acondicionado     Secador de pelo  No Frigorífico  Sevilla   \n",
       "1197     Aire acondicionado  No Secador de pelo  No Frigorífico  Sevilla   \n",
       "1198     Aire acondicionado  No Secador de pelo  No Frigorífico  Sevilla   \n",
       "1199     Aire acondicionado  No Secador de pelo  No Frigorífico  Sevilla   \n",
       "\n",
       "                                               nombre  \\\n",
       "0            *Studio Centre-Live-In Atocha-WiFi,A/C *   \n",
       "0            *Studio Centre-Live-In Atocha-WiFi,A/C *   \n",
       "0            *Studio Centre-Live-In Atocha-WiFi,A/C *   \n",
       "1              PISO MODERNO EN PLENO CENTRO DE MADRID   \n",
       "1              PISO MODERNO EN PLENO CENTRO DE MADRID   \n",
       "...                                               ...   \n",
       "1195                               BELLA VISTA MODERN   \n",
       "1196    Suite habitación doble (baño y salón privado)   \n",
       "1197           Center, Studio with POOL in la Judería   \n",
       "1198       Ático con Terraza junto a el Salvador WIFI   \n",
       "1199  Apartamento con encanto en el centro de Sevilla   \n",
       "\n",
       "                                                   urls  \n",
       "0     https://www.airbnb.es/rooms/20814468?adults=1&...  \n",
       "0     https://www.airbnb.es/rooms/20814468?adults=1&...  \n",
       "0     https://www.airbnb.es/rooms/20814468?adults=1&...  \n",
       "1     https://www.airbnb.es/rooms/18565479?adults=1&...  \n",
       "1     https://www.airbnb.es/rooms/18565479?adults=1&...  \n",
       "...                                                 ...  \n",
       "1195  https://www.airbnb.es/rooms/48276286?adults=1&...  \n",
       "1196  https://www.airbnb.es/rooms/23698971?adults=1&...  \n",
       "1197  https://www.airbnb.es/rooms/11393263?adults=1&...  \n",
       "1198  https://www.airbnb.es/rooms/24436155?adults=1&...  \n",
       "1199  https://www.airbnb.es/rooms/27724282?adults=1&...  \n",
       "\n",
       "[2400 rows x 19 columns]"
      ]
     },
     "execution_count": 104,
     "metadata": {},
     "output_type": "execute_result"
    }
   ],
   "source": [
    "df.drop_duplicates()"
   ]
  },
  {
   "cell_type": "markdown",
   "id": "3f397948",
   "metadata": {},
   "source": [
    "# OUTLIERS"
   ]
  },
  {
   "cell_type": "code",
   "execution_count": 105,
   "id": "65b3f646",
   "metadata": {},
   "outputs": [],
   "source": [
    "def gimme_the_otliers(s):\n",
    "    Q1 = s.quantile(0.25)\n",
    "    Q3 = s.quantile(0.75)\n",
    "    IQR = Q3-Q1\n",
    "    min_v = Q1 - (1.5 * IQR)\n",
    "    max_v = Q3 + (1.5 * IQR)\n",
    "    \n",
    "    return [value for value in s if ((value < min_v) or (value>max_v))]"
   ]
  },
  {
   "cell_type": "code",
   "execution_count": 106,
   "id": "7b512800",
   "metadata": {},
   "outputs": [
    {
     "data": {
      "text/plain": [
       "{260,\n",
       " 264,\n",
       " 265,\n",
       " 269,\n",
       " 270,\n",
       " 275,\n",
       " 283,\n",
       " 286,\n",
       " 290,\n",
       " 294,\n",
       " 298,\n",
       " 300,\n",
       " 308,\n",
       " 317,\n",
       " 318,\n",
       " 323,\n",
       " 330,\n",
       " 341,\n",
       " 344,\n",
       " 376,\n",
       " 388,\n",
       " 394,\n",
       " 430,\n",
       " 473,\n",
       " 500,\n",
       " 596}"
      ]
     },
     "execution_count": 106,
     "metadata": {},
     "output_type": "execute_result"
    }
   ],
   "source": [
    "set(gimme_the_otliers(df.precio_eur))"
   ]
  },
  {
   "cell_type": "code",
   "execution_count": 107,
   "id": "a6ea9901",
   "metadata": {},
   "outputs": [
    {
     "data": {
      "text/plain": [
       "{9}"
      ]
     },
     "execution_count": 107,
     "metadata": {},
     "output_type": "execute_result"
    }
   ],
   "source": [
    "set(gimme_the_otliers(df.camas))"
   ]
  },
  {
   "cell_type": "code",
   "execution_count": 108,
   "id": "f234ce2f",
   "metadata": {},
   "outputs": [
    {
     "data": {
      "text/plain": [
       "{4}"
      ]
     },
     "execution_count": 108,
     "metadata": {},
     "output_type": "execute_result"
    }
   ],
   "source": [
    "set(gimme_the_otliers(df.baños))"
   ]
  },
  {
   "cell_type": "code",
   "execution_count": 109,
   "id": "946c8259",
   "metadata": {},
   "outputs": [],
   "source": [
    "df.to_csv(\"../data/datos_limpios_final_outliers.csv\", index=False)"
   ]
  },
  {
   "cell_type": "code",
   "execution_count": 110,
   "id": "46b61a8b",
   "metadata": {},
   "outputs": [],
   "source": [
    "df_sin_outliers = df[(df[\"camas\"] != 9 ) & (df[\"baños\"] != 4 ) & (df[\"precio_eur\"] < 250 )]"
   ]
  },
  {
   "cell_type": "code",
   "execution_count": 111,
   "id": "9c53190a",
   "metadata": {},
   "outputs": [
    {
     "data": {
      "text/html": [
       "<div>\n",
       "<style scoped>\n",
       "    .dataframe tbody tr th:only-of-type {\n",
       "        vertical-align: middle;\n",
       "    }\n",
       "\n",
       "    .dataframe tbody tr th {\n",
       "        vertical-align: top;\n",
       "    }\n",
       "\n",
       "    .dataframe thead th {\n",
       "        text-align: right;\n",
       "    }\n",
       "</style>\n",
       "<table border=\"1\" class=\"dataframe\">\n",
       "  <thead>\n",
       "    <tr style=\"text-align: right;\">\n",
       "      <th></th>\n",
       "      <th>huespedes</th>\n",
       "      <th>dormitorios</th>\n",
       "      <th>camas</th>\n",
       "      <th>baños</th>\n",
       "      <th>precio_eur</th>\n",
       "      <th>valoracion</th>\n",
       "      <th>alojamiento</th>\n",
       "      <th>limpieza</th>\n",
       "      <th>llegada_autonoma</th>\n",
       "      <th>ubicacion_fantastica</th>\n",
       "      <th>wifi</th>\n",
       "      <th>cocina</th>\n",
       "      <th>lavadora</th>\n",
       "      <th>aire</th>\n",
       "      <th>secador</th>\n",
       "      <th>frigorifico</th>\n",
       "      <th>ciudad</th>\n",
       "      <th>nombre</th>\n",
       "      <th>urls</th>\n",
       "    </tr>\n",
       "  </thead>\n",
       "  <tbody>\n",
       "    <tr>\n",
       "      <th>0</th>\n",
       "      <td>2</td>\n",
       "      <td>1</td>\n",
       "      <td>2</td>\n",
       "      <td>1</td>\n",
       "      <td>55</td>\n",
       "      <td>4.90</td>\n",
       "      <td>Alojamiento entero</td>\n",
       "      <td>Limpieza avanzada</td>\n",
       "      <td>No Llegada autónoma</td>\n",
       "      <td>No ubicación_fantastica</td>\n",
       "      <td>Wifi</td>\n",
       "      <td>Cocina</td>\n",
       "      <td>No lavadora</td>\n",
       "      <td>Aire acondicionado</td>\n",
       "      <td>Secador de pelo</td>\n",
       "      <td>No Frigorífico</td>\n",
       "      <td>Madrid</td>\n",
       "      <td>*Studio Centre-Live-In Atocha-WiFi,A/C *</td>\n",
       "      <td>https://www.airbnb.es/rooms/20814468?adults=1&amp;...</td>\n",
       "    </tr>\n",
       "    <tr>\n",
       "      <th>0</th>\n",
       "      <td>6</td>\n",
       "      <td>3</td>\n",
       "      <td>4</td>\n",
       "      <td>2</td>\n",
       "      <td>99</td>\n",
       "      <td>4.40</td>\n",
       "      <td>Alojamiento entero</td>\n",
       "      <td>No Limpieza avanzada</td>\n",
       "      <td>No Llegada autónoma</td>\n",
       "      <td>Ubicación fantástica</td>\n",
       "      <td>Wifi</td>\n",
       "      <td>Cocina</td>\n",
       "      <td>Lavadora</td>\n",
       "      <td>Aire acondicionado</td>\n",
       "      <td>Secador de pelo</td>\n",
       "      <td>No Frigorífico</td>\n",
       "      <td>Madrid</td>\n",
       "      <td>*Studio Centre-Live-In Atocha-WiFi,A/C *</td>\n",
       "      <td>https://www.airbnb.es/rooms/20814468?adults=1&amp;...</td>\n",
       "    </tr>\n",
       "    <tr>\n",
       "      <th>0</th>\n",
       "      <td>5</td>\n",
       "      <td>2</td>\n",
       "      <td>4</td>\n",
       "      <td>1</td>\n",
       "      <td>83</td>\n",
       "      <td>4.52</td>\n",
       "      <td>Alojamiento entero</td>\n",
       "      <td>Limpieza avanzada</td>\n",
       "      <td>No Llegada autónoma</td>\n",
       "      <td>Ubicación fantástica</td>\n",
       "      <td>No Wifi</td>\n",
       "      <td>No cocina</td>\n",
       "      <td>No lavadora</td>\n",
       "      <td>No Aire acondicionado</td>\n",
       "      <td>No Secador de pelo</td>\n",
       "      <td>No Frigorífico</td>\n",
       "      <td>Madrid</td>\n",
       "      <td>*Studio Centre-Live-In Atocha-WiFi,A/C *</td>\n",
       "      <td>https://www.airbnb.es/rooms/20814468?adults=1&amp;...</td>\n",
       "    </tr>\n",
       "    <tr>\n",
       "      <th>1</th>\n",
       "      <td>2</td>\n",
       "      <td>1</td>\n",
       "      <td>1</td>\n",
       "      <td>1</td>\n",
       "      <td>60</td>\n",
       "      <td>4.80</td>\n",
       "      <td>Alojamiento entero</td>\n",
       "      <td>Limpieza avanzada</td>\n",
       "      <td>No Llegada autónoma</td>\n",
       "      <td>No ubicación_fantastica</td>\n",
       "      <td>No Wifi</td>\n",
       "      <td>No cocina</td>\n",
       "      <td>No lavadora</td>\n",
       "      <td>No Aire acondicionado</td>\n",
       "      <td>No Secador de pelo</td>\n",
       "      <td>No Frigorífico</td>\n",
       "      <td>Madrid</td>\n",
       "      <td>PISO MODERNO EN PLENO CENTRO DE MADRID</td>\n",
       "      <td>https://www.airbnb.es/rooms/18565479?adults=1&amp;...</td>\n",
       "    </tr>\n",
       "    <tr>\n",
       "      <th>1</th>\n",
       "      <td>5</td>\n",
       "      <td>3</td>\n",
       "      <td>3</td>\n",
       "      <td>1</td>\n",
       "      <td>50</td>\n",
       "      <td>4.84</td>\n",
       "      <td>Alojamiento entero</td>\n",
       "      <td>Limpieza avanzada</td>\n",
       "      <td>No Llegada autónoma</td>\n",
       "      <td>No ubicación_fantastica</td>\n",
       "      <td>Wifi</td>\n",
       "      <td>Cocina</td>\n",
       "      <td>Lavadora</td>\n",
       "      <td>Aire acondicionado</td>\n",
       "      <td>Secador de pelo</td>\n",
       "      <td>Frigorífico</td>\n",
       "      <td>Madrid</td>\n",
       "      <td>PISO MODERNO EN PLENO CENTRO DE MADRID</td>\n",
       "      <td>https://www.airbnb.es/rooms/18565479?adults=1&amp;...</td>\n",
       "    </tr>\n",
       "    <tr>\n",
       "      <th>...</th>\n",
       "      <td>...</td>\n",
       "      <td>...</td>\n",
       "      <td>...</td>\n",
       "      <td>...</td>\n",
       "      <td>...</td>\n",
       "      <td>...</td>\n",
       "      <td>...</td>\n",
       "      <td>...</td>\n",
       "      <td>...</td>\n",
       "      <td>...</td>\n",
       "      <td>...</td>\n",
       "      <td>...</td>\n",
       "      <td>...</td>\n",
       "      <td>...</td>\n",
       "      <td>...</td>\n",
       "      <td>...</td>\n",
       "      <td>...</td>\n",
       "      <td>...</td>\n",
       "      <td>...</td>\n",
       "    </tr>\n",
       "    <tr>\n",
       "      <th>1195</th>\n",
       "      <td>4</td>\n",
       "      <td>1</td>\n",
       "      <td>2</td>\n",
       "      <td>1</td>\n",
       "      <td>75</td>\n",
       "      <td>4.50</td>\n",
       "      <td>Alojamiento entero</td>\n",
       "      <td>No Limpieza avanzada</td>\n",
       "      <td>No Llegada autónoma</td>\n",
       "      <td>No ubicación_fantastica</td>\n",
       "      <td>Wifi</td>\n",
       "      <td>No cocina</td>\n",
       "      <td>No lavadora</td>\n",
       "      <td>Aire acondicionado</td>\n",
       "      <td>No Secador de pelo</td>\n",
       "      <td>Frigorífico</td>\n",
       "      <td>Sevilla</td>\n",
       "      <td>BELLA VISTA MODERN</td>\n",
       "      <td>https://www.airbnb.es/rooms/48276286?adults=1&amp;...</td>\n",
       "    </tr>\n",
       "    <tr>\n",
       "      <th>1196</th>\n",
       "      <td>2</td>\n",
       "      <td>1</td>\n",
       "      <td>1</td>\n",
       "      <td>1</td>\n",
       "      <td>51</td>\n",
       "      <td>4.86</td>\n",
       "      <td>Alojamiento entero</td>\n",
       "      <td>Limpieza avanzada</td>\n",
       "      <td>No Llegada autónoma</td>\n",
       "      <td>No ubicación_fantastica</td>\n",
       "      <td>Wifi</td>\n",
       "      <td>No cocina</td>\n",
       "      <td>Lavadora</td>\n",
       "      <td>Aire acondicionado</td>\n",
       "      <td>Secador de pelo</td>\n",
       "      <td>No Frigorífico</td>\n",
       "      <td>Sevilla</td>\n",
       "      <td>Suite habitación doble (baño y salón privado)</td>\n",
       "      <td>https://www.airbnb.es/rooms/23698971?adults=1&amp;...</td>\n",
       "    </tr>\n",
       "    <tr>\n",
       "      <th>1197</th>\n",
       "      <td>4</td>\n",
       "      <td>0</td>\n",
       "      <td>1</td>\n",
       "      <td>1</td>\n",
       "      <td>59</td>\n",
       "      <td>4.50</td>\n",
       "      <td>Alojamiento entero</td>\n",
       "      <td>Limpieza avanzada</td>\n",
       "      <td>Llegada autónoma</td>\n",
       "      <td>No ubicación_fantastica</td>\n",
       "      <td>Wifi</td>\n",
       "      <td>Cocina</td>\n",
       "      <td>Lavadora</td>\n",
       "      <td>Aire acondicionado</td>\n",
       "      <td>No Secador de pelo</td>\n",
       "      <td>No Frigorífico</td>\n",
       "      <td>Sevilla</td>\n",
       "      <td>Center, Studio with POOL in la Judería</td>\n",
       "      <td>https://www.airbnb.es/rooms/11393263?adults=1&amp;...</td>\n",
       "    </tr>\n",
       "    <tr>\n",
       "      <th>1198</th>\n",
       "      <td>2</td>\n",
       "      <td>0</td>\n",
       "      <td>1</td>\n",
       "      <td>1</td>\n",
       "      <td>70</td>\n",
       "      <td>4.65</td>\n",
       "      <td>Alojamiento entero</td>\n",
       "      <td>Limpieza avanzada</td>\n",
       "      <td>No Llegada autónoma</td>\n",
       "      <td>Ubicación fantástica</td>\n",
       "      <td>Wifi</td>\n",
       "      <td>Cocina</td>\n",
       "      <td>Lavadora</td>\n",
       "      <td>Aire acondicionado</td>\n",
       "      <td>No Secador de pelo</td>\n",
       "      <td>No Frigorífico</td>\n",
       "      <td>Sevilla</td>\n",
       "      <td>Ático con Terraza junto a el Salvador WIFI</td>\n",
       "      <td>https://www.airbnb.es/rooms/24436155?adults=1&amp;...</td>\n",
       "    </tr>\n",
       "    <tr>\n",
       "      <th>1199</th>\n",
       "      <td>3</td>\n",
       "      <td>1</td>\n",
       "      <td>2</td>\n",
       "      <td>1</td>\n",
       "      <td>55</td>\n",
       "      <td>4.80</td>\n",
       "      <td>Alojamiento entero</td>\n",
       "      <td>No Limpieza avanzada</td>\n",
       "      <td>No Llegada autónoma</td>\n",
       "      <td>Ubicación fantástica</td>\n",
       "      <td>Wifi</td>\n",
       "      <td>Cocina</td>\n",
       "      <td>Lavadora</td>\n",
       "      <td>Aire acondicionado</td>\n",
       "      <td>No Secador de pelo</td>\n",
       "      <td>No Frigorífico</td>\n",
       "      <td>Sevilla</td>\n",
       "      <td>Apartamento con encanto en el centro de Sevilla</td>\n",
       "      <td>https://www.airbnb.es/rooms/27724282?adults=1&amp;...</td>\n",
       "    </tr>\n",
       "  </tbody>\n",
       "</table>\n",
       "<p>2337 rows × 19 columns</p>\n",
       "</div>"
      ],
      "text/plain": [
       "      huespedes  dormitorios  camas  baños  precio_eur  valoracion  \\\n",
       "0             2            1      2      1          55        4.90   \n",
       "0             6            3      4      2          99        4.40   \n",
       "0             5            2      4      1          83        4.52   \n",
       "1             2            1      1      1          60        4.80   \n",
       "1             5            3      3      1          50        4.84   \n",
       "...         ...          ...    ...    ...         ...         ...   \n",
       "1195          4            1      2      1          75        4.50   \n",
       "1196          2            1      1      1          51        4.86   \n",
       "1197          4            0      1      1          59        4.50   \n",
       "1198          2            0      1      1          70        4.65   \n",
       "1199          3            1      2      1          55        4.80   \n",
       "\n",
       "             alojamiento              limpieza     llegada_autonoma  \\\n",
       "0     Alojamiento entero     Limpieza avanzada  No Llegada autónoma   \n",
       "0     Alojamiento entero  No Limpieza avanzada  No Llegada autónoma   \n",
       "0     Alojamiento entero     Limpieza avanzada  No Llegada autónoma   \n",
       "1     Alojamiento entero     Limpieza avanzada  No Llegada autónoma   \n",
       "1     Alojamiento entero     Limpieza avanzada  No Llegada autónoma   \n",
       "...                  ...                   ...                  ...   \n",
       "1195  Alojamiento entero  No Limpieza avanzada  No Llegada autónoma   \n",
       "1196  Alojamiento entero     Limpieza avanzada  No Llegada autónoma   \n",
       "1197  Alojamiento entero     Limpieza avanzada     Llegada autónoma   \n",
       "1198  Alojamiento entero     Limpieza avanzada  No Llegada autónoma   \n",
       "1199  Alojamiento entero  No Limpieza avanzada  No Llegada autónoma   \n",
       "\n",
       "         ubicacion_fantastica     wifi     cocina     lavadora  \\\n",
       "0     No ubicación_fantastica     Wifi     Cocina  No lavadora   \n",
       "0        Ubicación fantástica     Wifi     Cocina     Lavadora   \n",
       "0        Ubicación fantástica  No Wifi  No cocina  No lavadora   \n",
       "1     No ubicación_fantastica  No Wifi  No cocina  No lavadora   \n",
       "1     No ubicación_fantastica     Wifi     Cocina     Lavadora   \n",
       "...                       ...      ...        ...          ...   \n",
       "1195  No ubicación_fantastica     Wifi  No cocina  No lavadora   \n",
       "1196  No ubicación_fantastica     Wifi  No cocina     Lavadora   \n",
       "1197  No ubicación_fantastica     Wifi     Cocina     Lavadora   \n",
       "1198     Ubicación fantástica     Wifi     Cocina     Lavadora   \n",
       "1199     Ubicación fantástica     Wifi     Cocina     Lavadora   \n",
       "\n",
       "                       aire             secador     frigorifico   ciudad  \\\n",
       "0        Aire acondicionado     Secador de pelo  No Frigorífico   Madrid   \n",
       "0        Aire acondicionado     Secador de pelo  No Frigorífico   Madrid   \n",
       "0     No Aire acondicionado  No Secador de pelo  No Frigorífico   Madrid   \n",
       "1     No Aire acondicionado  No Secador de pelo  No Frigorífico   Madrid   \n",
       "1        Aire acondicionado     Secador de pelo     Frigorífico   Madrid   \n",
       "...                     ...                 ...             ...      ...   \n",
       "1195     Aire acondicionado  No Secador de pelo     Frigorífico  Sevilla   \n",
       "1196     Aire acondicionado     Secador de pelo  No Frigorífico  Sevilla   \n",
       "1197     Aire acondicionado  No Secador de pelo  No Frigorífico  Sevilla   \n",
       "1198     Aire acondicionado  No Secador de pelo  No Frigorífico  Sevilla   \n",
       "1199     Aire acondicionado  No Secador de pelo  No Frigorífico  Sevilla   \n",
       "\n",
       "                                               nombre  \\\n",
       "0            *Studio Centre-Live-In Atocha-WiFi,A/C *   \n",
       "0            *Studio Centre-Live-In Atocha-WiFi,A/C *   \n",
       "0            *Studio Centre-Live-In Atocha-WiFi,A/C *   \n",
       "1              PISO MODERNO EN PLENO CENTRO DE MADRID   \n",
       "1              PISO MODERNO EN PLENO CENTRO DE MADRID   \n",
       "...                                               ...   \n",
       "1195                               BELLA VISTA MODERN   \n",
       "1196    Suite habitación doble (baño y salón privado)   \n",
       "1197           Center, Studio with POOL in la Judería   \n",
       "1198       Ático con Terraza junto a el Salvador WIFI   \n",
       "1199  Apartamento con encanto en el centro de Sevilla   \n",
       "\n",
       "                                                   urls  \n",
       "0     https://www.airbnb.es/rooms/20814468?adults=1&...  \n",
       "0     https://www.airbnb.es/rooms/20814468?adults=1&...  \n",
       "0     https://www.airbnb.es/rooms/20814468?adults=1&...  \n",
       "1     https://www.airbnb.es/rooms/18565479?adults=1&...  \n",
       "1     https://www.airbnb.es/rooms/18565479?adults=1&...  \n",
       "...                                                 ...  \n",
       "1195  https://www.airbnb.es/rooms/48276286?adults=1&...  \n",
       "1196  https://www.airbnb.es/rooms/23698971?adults=1&...  \n",
       "1197  https://www.airbnb.es/rooms/11393263?adults=1&...  \n",
       "1198  https://www.airbnb.es/rooms/24436155?adults=1&...  \n",
       "1199  https://www.airbnb.es/rooms/27724282?adults=1&...  \n",
       "\n",
       "[2337 rows x 19 columns]"
      ]
     },
     "execution_count": 111,
     "metadata": {},
     "output_type": "execute_result"
    }
   ],
   "source": [
    "df_sin_outliers"
   ]
  },
  {
   "cell_type": "code",
   "execution_count": 112,
   "id": "53669a91",
   "metadata": {},
   "outputs": [],
   "source": [
    "df_sin_outliers.to_csv(\"../data/datos_limpios_sin_outliers.csv\", index=False)"
   ]
  }
 ],
 "metadata": {
  "kernelspec": {
   "display_name": "ironhack",
   "language": "python",
   "name": "ironhack"
  },
  "language_info": {
   "codemirror_mode": {
    "name": "ipython",
    "version": 3
   },
   "file_extension": ".py",
   "mimetype": "text/x-python",
   "name": "python",
   "nbconvert_exporter": "python",
   "pygments_lexer": "ipython3",
   "version": "3.8.5"
  }
 },
 "nbformat": 4,
 "nbformat_minor": 5
}
