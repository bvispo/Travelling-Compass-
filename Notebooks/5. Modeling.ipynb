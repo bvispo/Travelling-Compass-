{
 "cells": [
  {
   "cell_type": "markdown",
   "id": "a447d687",
   "metadata": {},
   "source": [
    "# 1. Importo librerías"
   ]
  },
  {
   "cell_type": "code",
   "execution_count": 8,
   "id": "5e978715",
   "metadata": {},
   "outputs": [],
   "source": [
    "import category_encoders as ce\n",
    "\n",
    "import pandas as pd\n",
    "import numpy as np\n",
    "import seaborn as sns\n",
    "import matplotlib.pyplot as plt\n",
    "import plotly.express as px\n",
    "import plotly.graph_objects as go\n",
    "\n",
    "# Matplotlib inline para visualizar los gráficos de Matplotlib\n",
    "%matplotlib inline\n",
    "%config Inlinebackend.figure_format= 'retina'\n",
    "# Configuración para setear y que todas las fig de Seaborn salgan por defecto con este tamaño\n",
    "# Se puede especificar el tamaño de cada figura\n",
    "sns.set_context(\"poster\")\n",
    "sns.set(rc={\"figure.figsize\": (15.,12.)})\n",
    "sns.set_style(\"whitegrid\")"
   ]
  },
  {
   "cell_type": "markdown",
   "id": "061b106f",
   "metadata": {},
   "source": [
    "# 2. Importo Datos"
   ]
  },
  {
   "cell_type": "code",
   "execution_count": 9,
   "id": "0ccf0471",
   "metadata": {},
   "outputs": [],
   "source": [
    "df = pd.read_csv(\"../data/datos_numericos_limpios_sin_outliers.csv\")"
   ]
  },
  {
   "cell_type": "code",
   "execution_count": 10,
   "id": "c986b7b7",
   "metadata": {},
   "outputs": [
    {
     "data": {
      "text/html": [
       "<div>\n",
       "<style scoped>\n",
       "    .dataframe tbody tr th:only-of-type {\n",
       "        vertical-align: middle;\n",
       "    }\n",
       "\n",
       "    .dataframe tbody tr th {\n",
       "        vertical-align: top;\n",
       "    }\n",
       "\n",
       "    .dataframe thead th {\n",
       "        text-align: right;\n",
       "    }\n",
       "</style>\n",
       "<table border=\"1\" class=\"dataframe\">\n",
       "  <thead>\n",
       "    <tr style=\"text-align: right;\">\n",
       "      <th></th>\n",
       "      <th>huespedes</th>\n",
       "      <th>dormitorios</th>\n",
       "      <th>camas</th>\n",
       "      <th>baños</th>\n",
       "      <th>precio_eur</th>\n",
       "      <th>valoracion</th>\n",
       "      <th>alojamiento_entero</th>\n",
       "      <th>limpieza</th>\n",
       "      <th>llegada_autonoma</th>\n",
       "      <th>ubicacion_fantastica</th>\n",
       "      <th>cocina</th>\n",
       "      <th>wifi</th>\n",
       "      <th>lavadora</th>\n",
       "      <th>aire_acondicionado</th>\n",
       "      <th>secador</th>\n",
       "      <th>frigorifico</th>\n",
       "    </tr>\n",
       "  </thead>\n",
       "  <tbody>\n",
       "    <tr>\n",
       "      <th>187</th>\n",
       "      <td>6</td>\n",
       "      <td>3</td>\n",
       "      <td>6</td>\n",
       "      <td>1</td>\n",
       "      <td>132</td>\n",
       "      <td>4.64</td>\n",
       "      <td>1</td>\n",
       "      <td>1</td>\n",
       "      <td>1</td>\n",
       "      <td>0</td>\n",
       "      <td>1</td>\n",
       "      <td>1</td>\n",
       "      <td>0</td>\n",
       "      <td>1</td>\n",
       "      <td>1</td>\n",
       "      <td>0</td>\n",
       "    </tr>\n",
       "    <tr>\n",
       "      <th>1327</th>\n",
       "      <td>10</td>\n",
       "      <td>5</td>\n",
       "      <td>8</td>\n",
       "      <td>2</td>\n",
       "      <td>198</td>\n",
       "      <td>4.00</td>\n",
       "      <td>1</td>\n",
       "      <td>0</td>\n",
       "      <td>1</td>\n",
       "      <td>1</td>\n",
       "      <td>0</td>\n",
       "      <td>0</td>\n",
       "      <td>1</td>\n",
       "      <td>0</td>\n",
       "      <td>0</td>\n",
       "      <td>1</td>\n",
       "    </tr>\n",
       "    <tr>\n",
       "      <th>1214</th>\n",
       "      <td>2</td>\n",
       "      <td>1</td>\n",
       "      <td>2</td>\n",
       "      <td>1</td>\n",
       "      <td>32</td>\n",
       "      <td>4.25</td>\n",
       "      <td>0</td>\n",
       "      <td>0</td>\n",
       "      <td>1</td>\n",
       "      <td>0</td>\n",
       "      <td>1</td>\n",
       "      <td>1</td>\n",
       "      <td>1</td>\n",
       "      <td>0</td>\n",
       "      <td>0</td>\n",
       "      <td>0</td>\n",
       "    </tr>\n",
       "  </tbody>\n",
       "</table>\n",
       "</div>"
      ],
      "text/plain": [
       "      huespedes  dormitorios  camas  baños  precio_eur  valoracion  \\\n",
       "187           6            3      6      1         132        4.64   \n",
       "1327         10            5      8      2         198        4.00   \n",
       "1214          2            1      2      1          32        4.25   \n",
       "\n",
       "      alojamiento_entero  limpieza  llegada_autonoma  ubicacion_fantastica  \\\n",
       "187                    1         1                 1                     0   \n",
       "1327                   1         0                 1                     1   \n",
       "1214                   0         0                 1                     0   \n",
       "\n",
       "      cocina  wifi  lavadora  aire_acondicionado  secador  frigorifico  \n",
       "187        1     1         0                   1        1            0  \n",
       "1327       0     0         1                   0        0            1  \n",
       "1214       1     1         1                   0        0            0  "
      ]
     },
     "execution_count": 10,
     "metadata": {},
     "output_type": "execute_result"
    }
   ],
   "source": [
    "df.sample(3)"
   ]
  },
  {
   "cell_type": "code",
   "execution_count": 20,
   "id": "b1b4d69c",
   "metadata": {},
   "outputs": [],
   "source": [
    "datos = df[[\"huespedes\", \"dormitorios\", \"camas\", \"baños\", \"alojamiento_entero\", \"precio_eur\", \n",
    "            \"limpieza\", \"llegada_autonoma\",\"lavadora\", \"aire_acondicionado\"]]"
   ]
  },
  {
   "cell_type": "code",
   "execution_count": 21,
   "id": "023334f4",
   "metadata": {},
   "outputs": [],
   "source": [
    "precio = datos[[\"precio_eur\"]]"
   ]
  },
  {
   "cell_type": "markdown",
   "id": "2f1a9163",
   "metadata": {},
   "source": [
    "# 3. Análisis de correlación"
   ]
  },
  {
   "cell_type": "code",
   "execution_count": 22,
   "id": "f8b67edf",
   "metadata": {},
   "outputs": [],
   "source": [
    "corr = datos.corr()"
   ]
  },
  {
   "cell_type": "code",
   "execution_count": 23,
   "id": "309c07f9",
   "metadata": {},
   "outputs": [
    {
     "data": {
      "image/png": "[encoded data removed]",
      "text/plain": [
       "<Figure size 1080x864 with 2 Axes>"
      ]
     },
     "metadata": {},
     "output_type": "display_data"
    }
   ],
   "source": [
    "mascara5 = np.triu(np.ones_like(corr, dtype=bool)) # generamos la máscara para la triangular superior\n",
    "color_map = sns.diverging_palette(0, 10, as_cmap=True) # paleta de colores\n",
    "sns.heatmap(corr,\n",
    "            mask = mascara5,\n",
    "            cmap=\"Blues\",\n",
    "            square=True, #que los datos se vean como cuadrados\n",
    "            linewidth=0.5, #ancho de línea\n",
    "            vmax=1,\n",
    "            cbar_kws={\"shrink\": .5}, #barra lateral,\n",
    "            annot=True\n",
    ");"
   ]
  },
  {
   "cell_type": "markdown",
   "id": "7145499f",
   "metadata": {},
   "source": [
    "# 4. Modeling"
   ]
  },
  {
   "cell_type": "code",
   "execution_count": 24,
   "id": "7bb27664",
   "metadata": {},
   "outputs": [],
   "source": [
    "from sklearn.model_selection import train_test_split\n",
    "\n",
    "from sklearn.linear_model import LinearRegression\n",
    "\n",
    "from sklearn.linear_model import Ridge, Lasso\n",
    "\n",
    "from sklearn.linear_model import SGDRegressor\n",
    "\n",
    "from sklearn.neighbors import KNeighborsRegressor\n",
    "\n",
    "from sklearn.ensemble import GradientBoostingRegressor\n",
    "\n",
    "from sklearn.ensemble import RandomForestClassifier\n",
    "\n",
    "from sklearn.ensemble import RandomForestRegressor\n",
    "\n",
    "from sklearn.svm import SVR\n",
    "\n",
    "from sklearn.tree import DecisionTreeRegressor\n",
    "\n",
    "from sklearn import metrics\n",
    "from sklearn.metrics import accuracy_score, precision_score, recall_score, f1_score, fbeta_score, confusion_matrix"
   ]
  },
  {
   "cell_type": "code",
   "execution_count": 25,
   "id": "3a6f185b",
   "metadata": {},
   "outputs": [
    {
     "data": {
      "text/plain": [
       "Index(['huespedes', 'dormitorios', 'camas', 'baños', 'alojamiento_entero',\n",
       "       'precio_eur', 'limpieza', 'llegada_autonoma', 'lavadora',\n",
       "       'aire_acondicionado'],\n",
       "      dtype='object')"
      ]
     },
     "execution_count": 25,
     "metadata": {},
     "output_type": "execute_result"
    }
   ],
   "source": [
    "datos.columns"
   ]
  },
  {
   "cell_type": "code",
   "execution_count": 26,
   "id": "f9f6541f",
   "metadata": {},
   "outputs": [],
   "source": [
    "y = datos.precio_eur\n",
    "X = datos.drop(columns= [\"precio_eur\"])\n",
    "X_train, X_test, y_train, y_test = train_test_split(X,y, test_size=0.2)"
   ]
  },
  {
   "cell_type": "code",
   "execution_count": 27,
   "id": "84abdd96",
   "metadata": {},
   "outputs": [],
   "source": [
    "models={\n",
    "    'linear': LinearRegression(),\n",
    "    'ridge': Ridge(),\n",
    "    'lasso': Lasso(),\n",
    "    'sgd': SGDRegressor(),\n",
    "    'knn': KNeighborsRegressor(),\n",
    "    'grad': GradientBoostingRegressor(),\n",
    "    'Tree': DecisionTreeRegressor(), \n",
    "    'forest': RandomForestRegressor(),\n",
    "}"
   ]
  },
  {
   "cell_type": "code",
   "execution_count": 28,
   "id": "e1f35256",
   "metadata": {},
   "outputs": [
    {
     "name": "stdout",
     "output_type": "stream",
     "text": [
      "ENTRENANDO:  linear\n",
      "ENTRENANDO:  ridge\n",
      "ENTRENANDO:  lasso\n",
      "ENTRENANDO:  sgd\n",
      "ENTRENANDO:  knn\n",
      "ENTRENANDO:  grad\n",
      "ENTRENANDO:  Tree\n",
      "ENTRENANDO:  forest\n"
     ]
    }
   ],
   "source": [
    "for name, model in models.items():\n",
    "    print(\"ENTRENANDO: \", name)\n",
    "    model.fit(X_train, y_train)"
   ]
  },
  {
   "cell_type": "code",
   "execution_count": 29,
   "id": "647d314a",
   "metadata": {},
   "outputs": [
    {
     "name": "stdout",
     "output_type": "stream",
     "text": [
      "------linear------\n",
      "MAE -  23.8790748756664\n",
      "MSE -  1076.425955372928\n",
      "RMSE -  32.80893103063445\n",
      "R2 -  0.5923449669699437\n",
      "------ridge------\n",
      "MAE -  23.876382192530457\n",
      "MSE -  1076.2901056791045\n",
      "RMSE -  32.80686064955171\n",
      "R2 -  0.5923964148295446\n",
      "------lasso------\n",
      "MAE -  24.06759599262045\n",
      "MSE -  1079.4371156927764\n",
      "RMSE -  32.85478832214228\n",
      "R2 -  0.5912046055233254\n",
      "------sgd------\n",
      "MAE -  23.72600459754571\n",
      "MSE -  1071.5392497170096\n",
      "RMSE -  32.73437413052233\n",
      "R2 -  0.5941956192564555\n",
      "------knn------\n",
      "MAE -  23.285897435897436\n",
      "MSE -  1009.5122222222221\n",
      "RMSE -  31.772822068903828\n",
      "R2 -  0.6176859762252112\n",
      "------grad------\n",
      "MAE -  22.627751395309655\n",
      "MSE -  1005.5472970662069\n",
      "RMSE -  31.710365766830993\n",
      "R2 -  0.6191875395119094\n",
      "------Tree------\n",
      "MAE -  22.54291039510905\n",
      "MSE -  1099.0309950701098\n",
      "RMSE -  33.151636386008306\n",
      "R2 -  0.5837841754371831\n",
      "------forest------\n",
      "MAE -  21.55736987924526\n",
      "MSE -  946.044054349225\n",
      "RMSE -  30.757829155342304\n",
      "R2 -  0.6417221098222128\n"
     ]
    }
   ],
   "source": [
    "#Podemos seguir el mismo proceso para realizar predicciones de cada algoritmo y sacar métricas\n",
    "for name, model in models.items():\n",
    "    y_pred = model.predict(X_test)\n",
    "    print(f\"------{name}------\")\n",
    "    print('MAE - ', metrics.mean_absolute_error(y_test, y_pred))\n",
    "    print('MSE - ', metrics.mean_squared_error(y_test, y_pred))\n",
    "    print('RMSE - ', np.sqrt(metrics.mean_squared_error(y_test, y_pred)))\n",
    "    print('R2 - ', metrics.r2_score(y_test, y_pred))"
   ]
  },
  {
   "cell_type": "code",
   "execution_count": 30,
   "id": "e10f4185",
   "metadata": {},
   "outputs": [
    {
     "data": {
      "text/plain": [
       "94.46427043217801"
      ]
     },
     "execution_count": 30,
     "metadata": {},
     "output_type": "execute_result"
    }
   ],
   "source": [
    "datos[\"precio_eur\"].mean()"
   ]
  },
  {
   "cell_type": "code",
   "execution_count": 50,
   "id": "ba7d1233",
   "metadata": {},
   "outputs": [],
   "source": [
    "def model(paisano):\n",
    "    df = pd.read_csv(\"../data/datos_numericos_limpios_sin_outliers.csv\")\n",
    "    datos = df[[\"huespedes\", \"dormitorios\", \"camas\", \"baños\", \"alojamiento_entero\", \"precio_eur\", \n",
    "            \"limpieza\", \"llegada_autonoma\",\"lavadora\", \"aire_acondicionado\"]]\n",
    "    \n",
    "    rfr = RandomForestRegressor()\n",
    "    #datitos = read_csv()\n",
    "    \n",
    "    #Creamos subset:\n",
    "    numerical_usos = datos[[\"alojamiento_entero\", \"limpieza\", \"llegada_autonoma\", \"lavadora\", \"aire_acondicionado\"]]\n",
    "\n",
    "    #Creamos objecto para binary encoding:\n",
    "    encoder = ce.BinaryEncoder(numerical_usos,return_df=True)\n",
    "    binary_encoded = encoder.fit_transform(numerical_usos)\n",
    "    \n",
    "    #Concatenamos datos:\n",
    "    df = binary_encoded[[\"alojamiento_1\", \"limpieza_1\", \"llegada_autonoma_1\", \"lavadora_1\", \"aire_1\"]]\n",
    "    df.columns = [\"alojamiento\", \"limpieza\", \"llegada_autonoma\", \"lavadora\", \"aire\"]\n",
    "    categorias = datitos[[\"huespedes\", \"dormitorios\", \"camas\", \"baños\", \"precio_eur\"]]\n",
    "    \n",
    "    #Este código junta las nuevas variables de usos en código binario con el df total de variables = categorías\n",
    "    datos = pd.concat([categorias, df], axis=1)\n",
    "    \n",
    "    y = datos.precio_eur\n",
    "    x = datos.drop(columns= [\"precio_eur\"])\n",
    "    \n",
    "    rfr.fit(x, y)\n",
    "\n",
    "\n",
    "    #Creamos objecto para binary encoding:\n",
    "    paisano_ = paisano.drop(columns = ([\"urls\", \"nombre\", \"ciudad\", \"ubicacion_fantastica\", \"wifi\", \"cocina\", \"frigorifico\", \"secador\"]), axis=1, inplace=True)\n",
    "    print(paisano_)\n",
    "    encoder = ce.BinaryEncoder(paisano_,return_df=True)\n",
    "    print(encoder)\n",
    "    binary_encoded = encoder.fit_transform(paisano_)\n",
    "    \n",
    "    print(\"esto es binary encoded\")\n",
    "    print(binary_encoded.columns)\n",
    "    \n",
    "    #Concatenamos datos:\n",
    "    df_ = binary_encoded[[\"alojamiento_0\", \"limpieza_0\", \"llegada_autonoma_0\", \"lavadora_0\", \"aire_0\"]]\n",
    "    #print(df_)\n",
    "    binary_encoded.columns = [\"alojamiento\", \"limpieza\", \"llegada_autonoma\", \"lavadora\", \"aire\"]\n",
    "    categorias_ = paisano[[\"huespedes\", \"dormitorios\", \"camas\", \"baños\", \"precio_eur\"]]\n",
    "    #Este código junta las nuevas variables de usos en código binario con el df total de variables = categorías\n",
    "    datos_ = pd.concat([categorias_, binary_encoded], axis=1)\n",
    "\n",
    "    y = datos_.precio_eur\n",
    "    x = datos_.drop(columns= [\"precio_eur\"])\n",
    "\n",
    "    y_pred = rfr.predict(categorias_)\n",
    "\n",
    "    return y_pred"
   ]
  },
  {
   "cell_type": "code",
   "execution_count": 51,
   "id": "1a353cbb",
   "metadata": {},
   "outputs": [
    {
     "ename": "KeyError",
     "evalue": "\"None of [Index(['alojamiento_1', 'limpieza_1', 'llegada_autonoma_1', 'lavadora_1',\\n       'aire_1'],\\n      dtype='object')] are in the [columns]\"",
     "output_type": "error",
     "traceback": [
      "\u001b[0;31m---------------------------------------------------------------------------\u001b[0m",
      "\u001b[0;31mKeyError\u001b[0m                                  Traceback (most recent call last)",
      "\u001b[0;32m<ipython-input-51-ade5ec638170>\u001b[0m in \u001b[0;36m<module>\u001b[0;34m\u001b[0m\n\u001b[0;32m----> 1\u001b[0;31m \u001b[0mmodel\u001b[0m\u001b[0;34m(\u001b[0m\u001b[0mdatos\u001b[0m\u001b[0;34m)\u001b[0m\u001b[0;34m\u001b[0m\u001b[0;34m\u001b[0m\u001b[0m\n\u001b[0m",
      "\u001b[0;32m<ipython-input-50-6c0766ce7509>\u001b[0m in \u001b[0;36mmodel\u001b[0;34m(paisano)\u001b[0m\n\u001b[1;32m     15\u001b[0m \u001b[0;34m\u001b[0m\u001b[0m\n\u001b[1;32m     16\u001b[0m     \u001b[0;31m#Concatenamos datos:\u001b[0m\u001b[0;34m\u001b[0m\u001b[0;34m\u001b[0m\u001b[0;34m\u001b[0m\u001b[0m\n\u001b[0;32m---> 17\u001b[0;31m     \u001b[0mdf\u001b[0m \u001b[0;34m=\u001b[0m \u001b[0mbinary_encoded\u001b[0m\u001b[0;34m[\u001b[0m\u001b[0;34m[\u001b[0m\u001b[0;34m\"alojamiento_1\"\u001b[0m\u001b[0;34m,\u001b[0m \u001b[0;34m\"limpieza_1\"\u001b[0m\u001b[0;34m,\u001b[0m \u001b[0;34m\"llegada_autonoma_1\"\u001b[0m\u001b[0;34m,\u001b[0m \u001b[0;34m\"lavadora_1\"\u001b[0m\u001b[0;34m,\u001b[0m \u001b[0;34m\"aire_1\"\u001b[0m\u001b[0;34m]\u001b[0m\u001b[0;34m]\u001b[0m\u001b[0;34m\u001b[0m\u001b[0;34m\u001b[0m\u001b[0m\n\u001b[0m\u001b[1;32m     18\u001b[0m     \u001b[0mdf\u001b[0m\u001b[0;34m.\u001b[0m\u001b[0mcolumns\u001b[0m \u001b[0;34m=\u001b[0m \u001b[0;34m[\u001b[0m\u001b[0;34m\"alojamiento\"\u001b[0m\u001b[0;34m,\u001b[0m \u001b[0;34m\"limpieza\"\u001b[0m\u001b[0;34m,\u001b[0m \u001b[0;34m\"llegada_autonoma\"\u001b[0m\u001b[0;34m,\u001b[0m \u001b[0;34m\"lavadora\"\u001b[0m\u001b[0;34m,\u001b[0m \u001b[0;34m\"aire\"\u001b[0m\u001b[0;34m]\u001b[0m\u001b[0;34m\u001b[0m\u001b[0;34m\u001b[0m\u001b[0m\n\u001b[1;32m     19\u001b[0m     \u001b[0mcategorias\u001b[0m \u001b[0;34m=\u001b[0m \u001b[0mdatitos\u001b[0m\u001b[0;34m[\u001b[0m\u001b[0;34m[\u001b[0m\u001b[0;34m\"huespedes\"\u001b[0m\u001b[0;34m,\u001b[0m \u001b[0;34m\"dormitorios\"\u001b[0m\u001b[0;34m,\u001b[0m \u001b[0;34m\"camas\"\u001b[0m\u001b[0;34m,\u001b[0m \u001b[0;34m\"baños\"\u001b[0m\u001b[0;34m,\u001b[0m \u001b[0;34m\"precio_eur\"\u001b[0m\u001b[0;34m]\u001b[0m\u001b[0;34m]\u001b[0m\u001b[0;34m\u001b[0m\u001b[0;34m\u001b[0m\u001b[0m\n",
      "\u001b[0;32m~/opt/anaconda3/envs/ironhack/lib/python3.8/site-packages/pandas/core/frame.py\u001b[0m in \u001b[0;36m__getitem__\u001b[0;34m(self, key)\u001b[0m\n\u001b[1;32m   3462\u001b[0m             \u001b[0;32mif\u001b[0m \u001b[0mis_iterator\u001b[0m\u001b[0;34m(\u001b[0m\u001b[0mkey\u001b[0m\u001b[0;34m)\u001b[0m\u001b[0;34m:\u001b[0m\u001b[0;34m\u001b[0m\u001b[0;34m\u001b[0m\u001b[0m\n\u001b[1;32m   3463\u001b[0m                 \u001b[0mkey\u001b[0m \u001b[0;34m=\u001b[0m \u001b[0mlist\u001b[0m\u001b[0;34m(\u001b[0m\u001b[0mkey\u001b[0m\u001b[0;34m)\u001b[0m\u001b[0;34m\u001b[0m\u001b[0;34m\u001b[0m\u001b[0m\n\u001b[0;32m-> 3464\u001b[0;31m             \u001b[0mindexer\u001b[0m \u001b[0;34m=\u001b[0m \u001b[0mself\u001b[0m\u001b[0;34m.\u001b[0m\u001b[0mloc\u001b[0m\u001b[0;34m.\u001b[0m\u001b[0m_get_listlike_indexer\u001b[0m\u001b[0;34m(\u001b[0m\u001b[0mkey\u001b[0m\u001b[0;34m,\u001b[0m \u001b[0maxis\u001b[0m\u001b[0;34m=\u001b[0m\u001b[0;36m1\u001b[0m\u001b[0;34m)\u001b[0m\u001b[0;34m[\u001b[0m\u001b[0;36m1\u001b[0m\u001b[0;34m]\u001b[0m\u001b[0;34m\u001b[0m\u001b[0;34m\u001b[0m\u001b[0m\n\u001b[0m\u001b[1;32m   3465\u001b[0m \u001b[0;34m\u001b[0m\u001b[0m\n\u001b[1;32m   3466\u001b[0m         \u001b[0;31m# take() does not accept boolean indexers\u001b[0m\u001b[0;34m\u001b[0m\u001b[0;34m\u001b[0m\u001b[0;34m\u001b[0m\u001b[0m\n",
      "\u001b[0;32m~/opt/anaconda3/envs/ironhack/lib/python3.8/site-packages/pandas/core/indexing.py\u001b[0m in \u001b[0;36m_get_listlike_indexer\u001b[0;34m(self, key, axis)\u001b[0m\n\u001b[1;32m   1312\u001b[0m             \u001b[0mkeyarr\u001b[0m\u001b[0;34m,\u001b[0m \u001b[0mindexer\u001b[0m\u001b[0;34m,\u001b[0m \u001b[0mnew_indexer\u001b[0m \u001b[0;34m=\u001b[0m \u001b[0max\u001b[0m\u001b[0;34m.\u001b[0m\u001b[0m_reindex_non_unique\u001b[0m\u001b[0;34m(\u001b[0m\u001b[0mkeyarr\u001b[0m\u001b[0;34m)\u001b[0m\u001b[0;34m\u001b[0m\u001b[0;34m\u001b[0m\u001b[0m\n\u001b[1;32m   1313\u001b[0m \u001b[0;34m\u001b[0m\u001b[0m\n\u001b[0;32m-> 1314\u001b[0;31m         \u001b[0mself\u001b[0m\u001b[0;34m.\u001b[0m\u001b[0m_validate_read_indexer\u001b[0m\u001b[0;34m(\u001b[0m\u001b[0mkeyarr\u001b[0m\u001b[0;34m,\u001b[0m \u001b[0mindexer\u001b[0m\u001b[0;34m,\u001b[0m \u001b[0maxis\u001b[0m\u001b[0;34m)\u001b[0m\u001b[0;34m\u001b[0m\u001b[0;34m\u001b[0m\u001b[0m\n\u001b[0m\u001b[1;32m   1315\u001b[0m \u001b[0;34m\u001b[0m\u001b[0m\n\u001b[1;32m   1316\u001b[0m         if needs_i8_conversion(ax.dtype) or isinstance(\n",
      "\u001b[0;32m~/opt/anaconda3/envs/ironhack/lib/python3.8/site-packages/pandas/core/indexing.py\u001b[0m in \u001b[0;36m_validate_read_indexer\u001b[0;34m(self, key, indexer, axis)\u001b[0m\n\u001b[1;32m   1372\u001b[0m                 \u001b[0;32mif\u001b[0m \u001b[0muse_interval_msg\u001b[0m\u001b[0;34m:\u001b[0m\u001b[0;34m\u001b[0m\u001b[0;34m\u001b[0m\u001b[0m\n\u001b[1;32m   1373\u001b[0m                     \u001b[0mkey\u001b[0m \u001b[0;34m=\u001b[0m \u001b[0mlist\u001b[0m\u001b[0;34m(\u001b[0m\u001b[0mkey\u001b[0m\u001b[0;34m)\u001b[0m\u001b[0;34m\u001b[0m\u001b[0;34m\u001b[0m\u001b[0m\n\u001b[0;32m-> 1374\u001b[0;31m                 \u001b[0;32mraise\u001b[0m \u001b[0mKeyError\u001b[0m\u001b[0;34m(\u001b[0m\u001b[0;34mf\"None of [{key}] are in the [{axis_name}]\"\u001b[0m\u001b[0;34m)\u001b[0m\u001b[0;34m\u001b[0m\u001b[0;34m\u001b[0m\u001b[0m\n\u001b[0m\u001b[1;32m   1375\u001b[0m \u001b[0;34m\u001b[0m\u001b[0m\n\u001b[1;32m   1376\u001b[0m             \u001b[0mnot_found\u001b[0m \u001b[0;34m=\u001b[0m \u001b[0mlist\u001b[0m\u001b[0;34m(\u001b[0m\u001b[0mensure_index\u001b[0m\u001b[0;34m(\u001b[0m\u001b[0mkey\u001b[0m\u001b[0;34m)\u001b[0m\u001b[0;34m[\u001b[0m\u001b[0mmissing_mask\u001b[0m\u001b[0;34m.\u001b[0m\u001b[0mnonzero\u001b[0m\u001b[0;34m(\u001b[0m\u001b[0;34m)\u001b[0m\u001b[0;34m[\u001b[0m\u001b[0;36m0\u001b[0m\u001b[0;34m]\u001b[0m\u001b[0;34m]\u001b[0m\u001b[0;34m.\u001b[0m\u001b[0munique\u001b[0m\u001b[0;34m(\u001b[0m\u001b[0;34m)\u001b[0m\u001b[0;34m)\u001b[0m\u001b[0;34m\u001b[0m\u001b[0;34m\u001b[0m\u001b[0m\n",
      "\u001b[0;31mKeyError\u001b[0m: \"None of [Index(['alojamiento_1', 'limpieza_1', 'llegada_autonoma_1', 'lavadora_1',\\n       'aire_1'],\\n      dtype='object')] are in the [columns]\""
     ]
    }
   ],
   "source": [
    "model(datos)"
   ]
  },
  {
   "cell_type": "markdown",
   "id": "cf42d878",
   "metadata": {},
   "source": [
    "# forest"
   ]
  },
  {
   "cell_type": "code",
   "execution_count": null,
   "id": "73ea63b6",
   "metadata": {},
   "outputs": [],
   "source": [
    "\"\"\" \n",
    "#Hiperparámetros tuneables de RandomForest\n",
    "parameters = {'bootstrap': [True, False],\n",
    " 'max_depth': [10, 20, 30, 40, 50, 60, 70, 80, 90, 100, None],\n",
    " 'max_features': ['auto', 'sqrt'],\n",
    " 'min_samples_leaf': [1, 2, 4],\n",
    " 'min_samples_split': [2, 5, 10],\n",
    " 'n_estimators': [200, 400, 600, 800, 1000, 1200, 1400, 1600, 1800, 2000]}\n",
    "\"\"\""
   ]
  },
  {
   "cell_type": "code",
   "execution_count": null,
   "id": "cdbde0eb",
   "metadata": {},
   "outputs": [],
   "source": [
    "#Reducimos para hacer la prueba con diferentes n_estimators\n",
    "params = {\n",
    "     \n",
    "    'max_depth': [10, 20, 30, 40, 50, 60, 70, 80, 90, 100, None],\n",
    "\n",
    "}"
   ]
  },
  {
   "cell_type": "code",
   "execution_count": null,
   "id": "4162ab69",
   "metadata": {},
   "outputs": [],
   "source": [
    "from sklearn.model_selection import GridSearchCV\n",
    "from sklearn.ensemble import RandomForestClassifier"
   ]
  },
  {
   "cell_type": "code",
   "execution_count": null,
   "id": "ace7be73",
   "metadata": {},
   "outputs": [],
   "source": [
    "# Guardo en una variable raandom forest\n",
    "rfc = RandomForestClassifier()"
   ]
  },
  {
   "cell_type": "code",
   "execution_count": null,
   "id": "f64affa4",
   "metadata": {},
   "outputs": [],
   "source": [
    "# Guardo el grid search con el algoritmo, los parámetros y verbose paraa que muestre info del proceso\n",
    "grid = GridSearchCV(rfc, params, verbose=1)"
   ]
  },
  {
   "cell_type": "code",
   "execution_count": null,
   "id": "8eefee45",
   "metadata": {},
   "outputs": [],
   "source": [
    "#Guardo el grid search con el algoritmo, los parámetros y verbose paraa que muestre info del proceso\n",
    "grid = GridSearchCV(rfc, params, verbose=1)"
   ]
  },
  {
   "cell_type": "code",
   "execution_count": null,
   "id": "866dbed2",
   "metadata": {},
   "outputs": [],
   "source": [
    "# entreno el grid con los datos de train\n",
    "grid.fit(X_train,y_train)"
   ]
  },
  {
   "cell_type": "code",
   "execution_count": null,
   "id": "fee334dc",
   "metadata": {},
   "outputs": [],
   "source": [
    "# Imprimo los mejores parámetros que me ha dado el modelo\n",
    "print(grid.best_params_)"
   ]
  },
  {
   "cell_type": "code",
   "execution_count": null,
   "id": "d2c523ab",
   "metadata": {},
   "outputs": [],
   "source": [
    "# Entreno\n",
    "rfc_params = RandomForestClassifier(n_estimators = 400, min_samples_leaf= 1, min_samples_split= 2, max_depth= 80)"
   ]
  },
  {
   "cell_type": "code",
   "execution_count": null,
   "id": "2b95075c",
   "metadata": {},
   "outputs": [],
   "source": [
    "rfc_params.fit(X_train,y_train)"
   ]
  },
  {
   "cell_type": "code",
   "execution_count": null,
   "id": "8c898e10",
   "metadata": {},
   "outputs": [],
   "source": [
    "y_pred = rfc_params.predict(X_test)"
   ]
  },
  {
   "cell_type": "code",
   "execution_count": null,
   "id": "5b7404b4",
   "metadata": {},
   "outputs": [],
   "source": [
    "from sklearn.metrics import accuracy_score, precision_score, f1_score, recall_score"
   ]
  },
  {
   "cell_type": "code",
   "execution_count": null,
   "id": "7a4dcf36",
   "metadata": {},
   "outputs": [],
   "source": [
    "print (\"Accuracy\", round(accuracy_score(y_test,y_pred),3))\n",
    "print(\"Precission\",round(precision_score(y_test,y_pred, average = \"weighted\"),3))\n",
    "print(\"Recall\", round(recall_score(y_test,y_pred, average = \"weighted\"),3))\n",
    "print(\"F1_score\", round(f1_score(y_test,y_pred,average= \"weighted\"),3))\n",
    "print('RMSE - ', np.sqrt(metrics.mean_squared_error(y_test, y_pred)))"
   ]
  },
  {
   "cell_type": "markdown",
   "id": "ae599f58",
   "metadata": {},
   "source": [
    "# xgb"
   ]
  },
  {
   "cell_type": "code",
   "execution_count": null,
   "id": "845f3fdc",
   "metadata": {},
   "outputs": [],
   "source": [
    "import xgboost as xgb"
   ]
  },
  {
   "cell_type": "code",
   "execution_count": null,
   "id": "5e4f82b2",
   "metadata": {},
   "outputs": [],
   "source": [
    "clf_xgb = xgb.XGBClassifier(objective='binary:logistic', n_estimators=10, seed=123)\n",
    "\n",
    "clf_xgb.fit(X_train, y_train)\n",
    "preds_xgb = clf_xgb.predict(X_test)"
   ]
  },
  {
   "cell_type": "code",
   "execution_count": null,
   "id": "a1838a5f",
   "metadata": {},
   "outputs": [],
   "source": [
    "accuracy_xgb = float(np.sum(preds_xgb == y_test))/y_test.shape[0]\n",
    "\n",
    "print('Accuracy de XGBoost: ', accuracy_xgb)"
   ]
  },
  {
   "cell_type": "code",
   "execution_count": null,
   "id": "25b4475f",
   "metadata": {},
   "outputs": [],
   "source": [
    "xg_reg = xgb.XGBRegressor(objective ='reg:linear', colsample_bytree = 0.3, learning_rate = 0.1,\n",
    "                max_depth = 5, alpha = 10, n_estimators = 10)\n"
   ]
  },
  {
   "cell_type": "code",
   "execution_count": null,
   "id": "00dba51a",
   "metadata": {},
   "outputs": [],
   "source": [
    "xg_reg.fit(X_train,y_train)\n",
    "\n",
    "preds = xg_reg.predict(X_test)"
   ]
  },
  {
   "cell_type": "code",
   "execution_count": null,
   "id": "17a71e41",
   "metadata": {},
   "outputs": [],
   "source": [
    "from sklearn.metrics import mean_squared_error\n",
    "rmse = np.sqrt(mean_squared_error(y_test, preds))\n",
    "print(\"RMSE: %f\" % (rmse))"
   ]
  },
  {
   "cell_type": "code",
   "execution_count": null,
   "id": "1cbf788e",
   "metadata": {},
   "outputs": [],
   "source": [
    "from sklearn.model_selection import StratifiedKFold\n",
    "import math\n",
    "from sklearn.model_selection import GridSearchCV"
   ]
  },
  {
   "cell_type": "code",
   "execution_count": null,
   "id": "3378dbcd",
   "metadata": {},
   "outputs": [],
   "source": [
    "# TAKES TIME\n",
    "n_estimators = [80, 100, 120, 140, 160]\n",
    "max_depth = [4, 5, 6, 7, 8, 9, 10]\n",
    "learning_rate = [0.0001, 0.001, 0.005, 0.01, 0.1, 0.2, 0.3, 0.04]\n",
    "\n",
    "param_grid = dict(max_depth = max_depth, n_estimators = n_estimators, learning_rate=learning_rate)\n",
    "\n",
    "kfold = StratifiedKFold(n_splits = 10, shuffle = True, random_state = 10)\n",
    "\n",
    "grid_search_xg_freq = GridSearchCV(xgb_freq, param_grid, scoring = 'r2', n_jobs = -1, cv=kfold, verbose = 1)\n",
    "result_gcv_xgb_freq = grid_search_xg_freq.fit(X_train, y_train.astype(int))\n",
    "\n",
    "print(\"Best score: %f using %s\" % (result_gcv_xgb_freq.best_score_, result_gcv_xgb_freq.best_params_))\n",
    "\n",
    "means = result_gcv_xgb_freq.cv_results_['mean_test_score']\n",
    "stds = result_gcv_xgb_freq.cv_results_['std_test_score']\n",
    "params = result_gcv_xgb_freq.cv_results_['params']"
   ]
  },
  {
   "cell_type": "code",
   "execution_count": null,
   "id": "b1af9672",
   "metadata": {},
   "outputs": [],
   "source": [
    "# Rebuilding using the best parameters:\n",
    "xgb_freq = xgb.XGBRegressor(n_estimators=140, learning_rate=0.04,max_depth=5)\n",
    "\n",
    "xgb_freq.fit(X_train,y_train)\n",
    "predictions_xgb_freq = xgb_freq.predict(X_test)\n",
    "#print(\"R squared is {}\".format(explained_variance_score(predictions_xgb_freq,y_test)))\n",
    "rmse = np.sqrt(mean_squared_error(y_test, predictions_xgb_freq))\n",
    "print(\"RMSE: %f\" % (rmse))"
   ]
  },
  {
   "cell_type": "code",
   "execution_count": null,
   "id": "1aa33ee9",
   "metadata": {},
   "outputs": [],
   "source": []
  }
 ],
 "metadata": {
  "kernelspec": {
   "display_name": "ironhack",
   "language": "python",
   "name": "ironhack"
  },
  "language_info": {
   "codemirror_mode": {
    "name": "ipython",
    "version": 3
   },
   "file_extension": ".py",
   "mimetype": "text/x-python",
   "name": "python",
   "nbconvert_exporter": "python",
   "pygments_lexer": "ipython3",
   "version": "3.8.5"
  }
 },
 "nbformat": 4,
 "nbformat_minor": 5
}
