{
 "cells": [
  {
   "cell_type": "code",
   "execution_count": 3,
   "id": "88613bfe",
   "metadata": {},
   "outputs": [],
   "source": [
    "import category_encoders as ce\n",
    "\n",
    "import pandas as pd\n",
    "import numpy as np\n",
    "\n",
    "from sklearn.model_selection import train_test_split\n",
    "\n",
    "from sklearn.linear_model import LinearRegression\n",
    "\n",
    "from sklearn.linear_model import Ridge, Lasso\n",
    "\n",
    "from sklearn.linear_model import SGDRegressor\n",
    "\n",
    "from sklearn.neighbors import KNeighborsRegressor\n",
    "\n",
    "from sklearn.ensemble import GradientBoostingRegressor\n",
    "\n",
    "from sklearn.ensemble import RandomForestClassifier\n",
    "\n",
    "from sklearn.ensemble import RandomForestRegressor\n",
    "\n",
    "from sklearn.svm import SVR\n",
    "\n",
    "from sklearn.tree import DecisionTreeRegressor\n",
    "\n",
    "from sklearn import metrics\n",
    "from sklearn.metrics import accuracy_score, precision_score, recall_score, f1_score, fbeta_score, confusion_matrix"
   ]
  },
  {
   "cell_type": "code",
   "execution_count": 4,
   "id": "355583db",
   "metadata": {},
   "outputs": [],
   "source": [
    "def model(paisano):\n",
    "    rfr = RandomForestRegressor()\n",
    "    datitos = read_csv()\n",
    "    \n",
    "    #Creamos subset:\n",
    "    numerical_usos = datitos[[\"alojamiento\", \"limpieza\", \"llegada_autonoma\", \"lavadora\", \"aire\"]]\n",
    "\n",
    "    #Creamos objecto para binary encoding:\n",
    "    encoder = ce.BinaryEncoder(numerical_usos,return_df=True)\n",
    "    binary_encoded = encoder.fit_transform(numerical_usos)\n",
    "    \n",
    "    #Concatenamos datos:\n",
    "    df = binary_encoded[[\"alojamiento_1\", \"limpieza_1\", \"llegada_autonoma_1\", \"lavadora_1\", \"aire_1\"]]\n",
    "    df.columns = [\"alojamiento\", \"limpieza\", \"llegada_autonoma\", \"lavadora\", \"aire\"]\n",
    "    categorias = datitos[[\"huespedes\", \"dormitorios\", \"camas\", \"baños\", \"precio_eur\"]]\n",
    "    \n",
    "    #Este código junta las nuevas variables de usos en código binario con el df total de variables = categorías\n",
    "    datos = pd.concat([categorias, df], axis=1)\n",
    "    \n",
    "    y = datos.precio_eur\n",
    "    x = datos.drop(columns= [\"precio_eur\"])\n",
    "    \n",
    "    rfr.fit(x, y)\n",
    "\n",
    "\n",
    "    #Creamos objecto para binary encoding:\n",
    "    paisano_ = paisano.drop(columns = ([\"urls\", \"nombre\", \"ciudad\", \"ubicacion_fantastica\", \"wifi\", \"cocina\", \"frigorifico\", \"secador\"]), axis=1, inplace=True)\n",
    "    print(paisano_)\n",
    "    encoder = ce.BinaryEncoder(paisano_,return_df=True)\n",
    "    print(encoder)\n",
    "    binary_encoded = encoder.fit_transform(paisano_)\n",
    "    \n",
    "    print(\"esto es binary encoded\")\n",
    "    print(binary_encoded.columns)\n",
    "    \n",
    "    #Concatenamos datos:\n",
    "    #df_ = binary_encoded[[\"alojamiento_1\", \"limpieza_1\", \"llegada_autonoma_1\", \"lavadora_1\", \"aire_1\"]]\n",
    "    #print(df_)\n",
    "    binary_encoded.columns = [\"alojamiento\", \"limpieza\", \"llegada_autonoma\", \"lavadora\", \"aire\"]\n",
    "    categorias_ = paisano[[\"huespedes\", \"dormitorios\", \"camas\", \"baños\", \"precio_eur\"]]\n",
    "    #Este código junta las nuevas variables de usos en código binario con el df total de variables = categorías\n",
    "    datos_ = pd.concat([categorias_, binary_encoded], axis=1)\n",
    "\n",
    "    y = datos_.precio_eur\n",
    "    x = datos_.drop(columns= [\"precio_eur\"])\n",
    "\n",
    "    y_pred = rfr.predict(categorias_)\n",
    "\n",
    "    return y_pred"
   ]
  },
  {
   "cell_type": "code",
   "execution_count": null,
   "id": "2de9bbd6",
   "metadata": {},
   "outputs": [],
   "source": []
  },
  {
   "cell_type": "code",
   "execution_count": null,
   "id": "371fac72",
   "metadata": {},
   "outputs": [],
   "source": [
    "model()"
   ]
  }
 ],
 "metadata": {
  "kernelspec": {
   "display_name": "ironhack",
   "language": "python",
   "name": "ironhack"
  },
  "language_info": {
   "codemirror_mode": {
    "name": "ipython",
    "version": 3
   },
   "file_extension": ".py",
   "mimetype": "text/x-python",
   "name": "python",
   "nbconvert_exporter": "python",
   "pygments_lexer": "ipython3",
   "version": "3.8.5"
  }
 },
 "nbformat": 4,
 "nbformat_minor": 5
}
